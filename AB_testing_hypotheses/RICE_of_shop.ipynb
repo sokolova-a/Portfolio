{
 "cells": [
  {
   "cell_type": "markdown",
   "metadata": {},
   "source": [
    "# А/В тестирование \n",
    "\n",
    "В нашем распоряжении данные по проведению А/В тестирования:\n",
    "+ 9 гипотез с оценками Reach, Impact, Confidence и Effort;\n",
    "+ выгрузка покупок пользователей с указанием группы тестирования;\n",
    "+ количество пользователей для каждой группы тестирования за каждый день наблюдения.\n",
    "\n",
    "**Цель исследования:**\n",
    "проверить гипотезы по увеличению выручки интернет-магазина и сформулировать рекомендации для отдела маркетинга."
   ]
  },
  {
   "cell_type": "markdown",
   "metadata": {},
   "source": [
    "**Задачи исследования:**\n",
    "\n",
    "1. Приоритизировать гипотезы.\n",
    "2. Проанализировать результаты A/B-тестирования.\n",
    "\n",
    "\n",
    "**Ход исследования**\n",
    "\n",
    "Данные о гипотезаах с оценками Reach, Impact, Confidence и Effort я получу из CSV-файла `'/datasets/hypothesis.csv'`. Данные о покупках пользователей  с указанием группы тестирования получу из CSV-файла `'/datasets/orders.csv'`, а данные о количестве пользователей для каждой группы тестирования за каждый день наблюдения из CSV-файла `'/datasets/visitors.csv'`. О качество данных ничего неизвестно. Поэтому перед тем, как приступать к целям исследования, понадобится обзор данных.\n",
    "\n",
    "Я проверю данные на ошибки. Затем на этапе предобработки я поищу возможность исправить все ошибки данных, которые могут привести к искажению конечного результата. Далее применю необходимые функции, создам нужные датасеты и приступлю к проведению исследовательского анализа.\n",
    "\n",
    "Таким образом, моё исследование пройдёт в  5 этапов:\n",
    "1. [Обзор данных.](#section_1)\n",
    "2. [Предобработка данных.](#section_2)\n",
    "3. [Приоритизация гипотез.](#section_3)\n",
    "4. [Анализ А/В теста.](#section_4)\n",
    "5. [Написание общего вывода.](#section_5)"
   ]
  },
  {
   "cell_type": "markdown",
   "metadata": {},
   "source": [
    "### Обзор данных\n",
    "<a id='section_1'></a>"
   ]
  },
  {
   "cell_type": "markdown",
   "metadata": {},
   "source": [
    "Импортируем библиотеки для дальнейшей работы с ними."
   ]
  },
  {
   "cell_type": "code",
   "execution_count": 2,
   "metadata": {},
   "outputs": [],
   "source": [
    "import pandas as pd\n",
    "import seaborn as sns\n",
    "import datetime as dt\n",
    "import numpy as np\n",
    "from scipy import stats as stats\n",
    "from matplotlib import pyplot as plt\n",
    "from datetime import datetime, timedelta"
   ]
  },
  {
   "cell_type": "markdown",
   "metadata": {},
   "source": [
    "#### Импорт данных из csv-файла в датафрейм и сохранение в переменных."
   ]
  },
  {
   "cell_type": "markdown",
   "metadata": {},
   "source": [
    "Загружаем данные о гипотезах, заказах и покупателях. Сохраняем данные в переменных `hypothesis`, `orders` и `visitors`."
   ]
  },
  {
   "cell_type": "code",
   "execution_count": 2,
   "metadata": {},
   "outputs": [],
   "source": [
    "try:\n",
    "    hypothesis, orders, visitors = (\n",
    "        pd.read_csv('/datasets/hypothesis.csv'),\n",
    "        pd.read_csv('/datasets/orders.csv'),\n",
    "        pd.read_csv('/datasets/visitors.csv'),\n",
    "    )\n",
    "    \n",
    "except:\n",
    "    hypothesis, orders, visitors = (\n",
    "        pd.read_csv('https://code.s3.yandex.net/datasets/hypothesis.csv', sep='\\t'),\n",
    "        pd.read_csv('https://code.s3.yandex.net/datasets/orders.csv', sep='\\t'),\n",
    "        pd.read_csv('https://code.s3.yandex.net/datasets/visitors.csv', sep='\\t'),\n",
    "    )"
   ]
  },
  {
   "cell_type": "markdown",
   "metadata": {},
   "source": [
    "#### Ознакомление с данными и их описание."
   ]
  },
  {
   "cell_type": "markdown",
   "metadata": {},
   "source": [
    "*Посмотрим датафрейм `hypothesis`.*"
   ]
  },
  {
   "cell_type": "code",
   "execution_count": 3,
   "metadata": {},
   "outputs": [
    {
     "data": {
      "text/html": [
       "<div>\n",
       "<style scoped>\n",
       "    .dataframe tbody tr th:only-of-type {\n",
       "        vertical-align: middle;\n",
       "    }\n",
       "\n",
       "    .dataframe tbody tr th {\n",
       "        vertical-align: top;\n",
       "    }\n",
       "\n",
       "    .dataframe thead th {\n",
       "        text-align: right;\n",
       "    }\n",
       "</style>\n",
       "<table border=\"1\" class=\"dataframe\">\n",
       "  <thead>\n",
       "    <tr style=\"text-align: right;\">\n",
       "      <th></th>\n",
       "      <th>Hypothesis</th>\n",
       "      <th>Reach</th>\n",
       "      <th>Impact</th>\n",
       "      <th>Confidence</th>\n",
       "      <th>Efforts</th>\n",
       "    </tr>\n",
       "  </thead>\n",
       "  <tbody>\n",
       "    <tr>\n",
       "      <th>0</th>\n",
       "      <td>Добавить два новых канала привлечения трафика, что позволит привлекать на 30% больше пользователей</td>\n",
       "      <td>3</td>\n",
       "      <td>10</td>\n",
       "      <td>8</td>\n",
       "      <td>6</td>\n",
       "    </tr>\n",
       "    <tr>\n",
       "      <th>1</th>\n",
       "      <td>Запустить собственную службу доставки, что сократит срок доставки заказов</td>\n",
       "      <td>2</td>\n",
       "      <td>5</td>\n",
       "      <td>4</td>\n",
       "      <td>10</td>\n",
       "    </tr>\n",
       "    <tr>\n",
       "      <th>2</th>\n",
       "      <td>Добавить блоки рекомендаций товаров на сайт интернет магазина, чтобы повысить конверсию и средний чек заказа</td>\n",
       "      <td>8</td>\n",
       "      <td>3</td>\n",
       "      <td>7</td>\n",
       "      <td>3</td>\n",
       "    </tr>\n",
       "    <tr>\n",
       "      <th>3</th>\n",
       "      <td>Изменить структура категорий, что увеличит конверсию, т.к. пользователи быстрее найдут нужный товар</td>\n",
       "      <td>8</td>\n",
       "      <td>3</td>\n",
       "      <td>3</td>\n",
       "      <td>8</td>\n",
       "    </tr>\n",
       "    <tr>\n",
       "      <th>4</th>\n",
       "      <td>Изменить цвет фона главной страницы, чтобы увеличить вовлеченность пользователей</td>\n",
       "      <td>3</td>\n",
       "      <td>1</td>\n",
       "      <td>1</td>\n",
       "      <td>1</td>\n",
       "    </tr>\n",
       "    <tr>\n",
       "      <th>5</th>\n",
       "      <td>Добавить страницу отзывов клиентов о магазине, что позволит увеличить количество заказов</td>\n",
       "      <td>3</td>\n",
       "      <td>2</td>\n",
       "      <td>2</td>\n",
       "      <td>3</td>\n",
       "    </tr>\n",
       "    <tr>\n",
       "      <th>6</th>\n",
       "      <td>Показать на главной странице баннеры с актуальными акциями и распродажами, чтобы увеличить конверсию</td>\n",
       "      <td>5</td>\n",
       "      <td>3</td>\n",
       "      <td>8</td>\n",
       "      <td>3</td>\n",
       "    </tr>\n",
       "    <tr>\n",
       "      <th>7</th>\n",
       "      <td>Добавить форму подписки на все основные страницы, чтобы собрать базу клиентов для email-рассылок</td>\n",
       "      <td>10</td>\n",
       "      <td>7</td>\n",
       "      <td>8</td>\n",
       "      <td>5</td>\n",
       "    </tr>\n",
       "    <tr>\n",
       "      <th>8</th>\n",
       "      <td>Запустить акцию, дающую скидку на товар в день рождения</td>\n",
       "      <td>1</td>\n",
       "      <td>9</td>\n",
       "      <td>9</td>\n",
       "      <td>5</td>\n",
       "    </tr>\n",
       "  </tbody>\n",
       "</table>\n",
       "</div>"
      ],
      "text/plain": [
       "                                                                                                     Hypothesis  \\\n",
       "0            Добавить два новых канала привлечения трафика, что позволит привлекать на 30% больше пользователей   \n",
       "1                                     Запустить собственную службу доставки, что сократит срок доставки заказов   \n",
       "2  Добавить блоки рекомендаций товаров на сайт интернет магазина, чтобы повысить конверсию и средний чек заказа   \n",
       "3           Изменить структура категорий, что увеличит конверсию, т.к. пользователи быстрее найдут нужный товар   \n",
       "4                              Изменить цвет фона главной страницы, чтобы увеличить вовлеченность пользователей   \n",
       "5                      Добавить страницу отзывов клиентов о магазине, что позволит увеличить количество заказов   \n",
       "6          Показать на главной странице баннеры с актуальными акциями и распродажами, чтобы увеличить конверсию   \n",
       "7              Добавить форму подписки на все основные страницы, чтобы собрать базу клиентов для email-рассылок   \n",
       "8                                                       Запустить акцию, дающую скидку на товар в день рождения   \n",
       "\n",
       "   Reach  Impact  Confidence  Efforts  \n",
       "0      3      10           8        6  \n",
       "1      2       5           4       10  \n",
       "2      8       3           7        3  \n",
       "3      8       3           3        8  \n",
       "4      3       1           1        1  \n",
       "5      3       2           2        3  \n",
       "6      5       3           8        3  \n",
       "7     10       7           8        5  \n",
       "8      1       9           9        5  "
      ]
     },
     "execution_count": 3,
     "metadata": {},
     "output_type": "execute_result"
    }
   ],
   "source": [
    "pd.options.display.max_colwidth = 130\n",
    "hypothesis.head(20)"
   ]
  },
  {
   "cell_type": "markdown",
   "metadata": {},
   "source": [
    "*Hypothesis* — краткое описание гипотезы;\\\n",
    "*Reach* — охват пользователей по 10-балльной шкале;\\\n",
    "*Impact* — влияние на пользователей по 10-балльной шкале;\\\n",
    "*Confidence* — уверенность в гипотезе по 10-балльной шкале;\\\n",
    "*Efforts* — затраты ресурсов на проверку гипотезы по 10-балльной шкале. Чем больше значение Efforts, тем дороже проверка гипотезы."
   ]
  },
  {
   "cell_type": "code",
   "execution_count": 4,
   "metadata": {},
   "outputs": [
    {
     "name": "stdout",
     "output_type": "stream",
     "text": [
      "<class 'pandas.core.frame.DataFrame'>\n",
      "RangeIndex: 9 entries, 0 to 8\n",
      "Data columns (total 5 columns):\n",
      " #   Column      Non-Null Count  Dtype \n",
      "---  ------      --------------  ----- \n",
      " 0   Hypothesis  9 non-null      object\n",
      " 1   Reach       9 non-null      int64 \n",
      " 2   Impact      9 non-null      int64 \n",
      " 3   Confidence  9 non-null      int64 \n",
      " 4   Efforts     9 non-null      int64 \n",
      "dtypes: int64(4), object(1)\n",
      "memory usage: 488.0+ bytes\n"
     ]
    }
   ],
   "source": [
    "hypothesis.info()"
   ]
  },
  {
   "cell_type": "markdown",
   "metadata": {},
   "source": [
    "9 гипотез с четырьми числовыми оценками от 1 до 10 включительно. Всё верно. Но названия столбцов нужно привести к общепринятому виду. Вернёмся к этому позже."
   ]
  },
  {
   "cell_type": "markdown",
   "metadata": {},
   "source": [
    "*Посмотрим датафрейм `orders`.*"
   ]
  },
  {
   "cell_type": "code",
   "execution_count": 5,
   "metadata": {
    "scrolled": false
   },
   "outputs": [
    {
     "data": {
      "text/html": [
       "<div>\n",
       "<style scoped>\n",
       "    .dataframe tbody tr th:only-of-type {\n",
       "        vertical-align: middle;\n",
       "    }\n",
       "\n",
       "    .dataframe tbody tr th {\n",
       "        vertical-align: top;\n",
       "    }\n",
       "\n",
       "    .dataframe thead th {\n",
       "        text-align: right;\n",
       "    }\n",
       "</style>\n",
       "<table border=\"1\" class=\"dataframe\">\n",
       "  <thead>\n",
       "    <tr style=\"text-align: right;\">\n",
       "      <th></th>\n",
       "      <th>transactionId</th>\n",
       "      <th>visitorId</th>\n",
       "      <th>date</th>\n",
       "      <th>revenue</th>\n",
       "      <th>group</th>\n",
       "    </tr>\n",
       "  </thead>\n",
       "  <tbody>\n",
       "    <tr>\n",
       "      <th>0</th>\n",
       "      <td>3667963787</td>\n",
       "      <td>3312258926</td>\n",
       "      <td>2019-08-15</td>\n",
       "      <td>1650</td>\n",
       "      <td>B</td>\n",
       "    </tr>\n",
       "    <tr>\n",
       "      <th>1</th>\n",
       "      <td>2804400009</td>\n",
       "      <td>3642806036</td>\n",
       "      <td>2019-08-15</td>\n",
       "      <td>730</td>\n",
       "      <td>B</td>\n",
       "    </tr>\n",
       "    <tr>\n",
       "      <th>2</th>\n",
       "      <td>2961555356</td>\n",
       "      <td>4069496402</td>\n",
       "      <td>2019-08-15</td>\n",
       "      <td>400</td>\n",
       "      <td>A</td>\n",
       "    </tr>\n",
       "    <tr>\n",
       "      <th>3</th>\n",
       "      <td>3797467345</td>\n",
       "      <td>1196621759</td>\n",
       "      <td>2019-08-15</td>\n",
       "      <td>9759</td>\n",
       "      <td>B</td>\n",
       "    </tr>\n",
       "    <tr>\n",
       "      <th>4</th>\n",
       "      <td>2282983706</td>\n",
       "      <td>2322279887</td>\n",
       "      <td>2019-08-15</td>\n",
       "      <td>2308</td>\n",
       "      <td>B</td>\n",
       "    </tr>\n",
       "    <tr>\n",
       "      <th>5</th>\n",
       "      <td>182168103</td>\n",
       "      <td>935554773</td>\n",
       "      <td>2019-08-15</td>\n",
       "      <td>2210</td>\n",
       "      <td>B</td>\n",
       "    </tr>\n",
       "    <tr>\n",
       "      <th>6</th>\n",
       "      <td>398296753</td>\n",
       "      <td>2900797465</td>\n",
       "      <td>2019-08-15</td>\n",
       "      <td>1860</td>\n",
       "      <td>B</td>\n",
       "    </tr>\n",
       "    <tr>\n",
       "      <th>7</th>\n",
       "      <td>2626614568</td>\n",
       "      <td>78758296</td>\n",
       "      <td>2019-08-15</td>\n",
       "      <td>1044</td>\n",
       "      <td>A</td>\n",
       "    </tr>\n",
       "    <tr>\n",
       "      <th>8</th>\n",
       "      <td>1576988021</td>\n",
       "      <td>295230930</td>\n",
       "      <td>2019-08-15</td>\n",
       "      <td>13710</td>\n",
       "      <td>A</td>\n",
       "    </tr>\n",
       "    <tr>\n",
       "      <th>9</th>\n",
       "      <td>1506739906</td>\n",
       "      <td>1882260405</td>\n",
       "      <td>2019-08-15</td>\n",
       "      <td>1855</td>\n",
       "      <td>B</td>\n",
       "    </tr>\n",
       "    <tr>\n",
       "      <th>10</th>\n",
       "      <td>3649131742</td>\n",
       "      <td>879864040</td>\n",
       "      <td>2019-08-15</td>\n",
       "      <td>4008</td>\n",
       "      <td>A</td>\n",
       "    </tr>\n",
       "    <tr>\n",
       "      <th>11</th>\n",
       "      <td>1919444843</td>\n",
       "      <td>927791387</td>\n",
       "      <td>2019-08-15</td>\n",
       "      <td>4499</td>\n",
       "      <td>B</td>\n",
       "    </tr>\n",
       "    <tr>\n",
       "      <th>12</th>\n",
       "      <td>2809384911</td>\n",
       "      <td>3213223594</td>\n",
       "      <td>2019-08-15</td>\n",
       "      <td>7370</td>\n",
       "      <td>A</td>\n",
       "    </tr>\n",
       "    <tr>\n",
       "      <th>13</th>\n",
       "      <td>3044797713</td>\n",
       "      <td>728063420</td>\n",
       "      <td>2019-08-15</td>\n",
       "      <td>11985</td>\n",
       "      <td>B</td>\n",
       "    </tr>\n",
       "    <tr>\n",
       "      <th>14</th>\n",
       "      <td>3859315276</td>\n",
       "      <td>1565034404</td>\n",
       "      <td>2019-08-15</td>\n",
       "      <td>10980</td>\n",
       "      <td>A</td>\n",
       "    </tr>\n",
       "    <tr>\n",
       "      <th>15</th>\n",
       "      <td>2550768810</td>\n",
       "      <td>2742574263</td>\n",
       "      <td>2019-08-15</td>\n",
       "      <td>15277</td>\n",
       "      <td>B</td>\n",
       "    </tr>\n",
       "    <tr>\n",
       "      <th>16</th>\n",
       "      <td>1820531107</td>\n",
       "      <td>2973109265</td>\n",
       "      <td>2019-08-15</td>\n",
       "      <td>1060</td>\n",
       "      <td>B</td>\n",
       "    </tr>\n",
       "    <tr>\n",
       "      <th>17</th>\n",
       "      <td>1108180333</td>\n",
       "      <td>222718357</td>\n",
       "      <td>2019-08-15</td>\n",
       "      <td>990</td>\n",
       "      <td>B</td>\n",
       "    </tr>\n",
       "    <tr>\n",
       "      <th>18</th>\n",
       "      <td>1822256754</td>\n",
       "      <td>4227830084</td>\n",
       "      <td>2019-08-15</td>\n",
       "      <td>16490</td>\n",
       "      <td>A</td>\n",
       "    </tr>\n",
       "    <tr>\n",
       "      <th>19</th>\n",
       "      <td>674584210</td>\n",
       "      <td>3207734412</td>\n",
       "      <td>2019-08-15</td>\n",
       "      <td>1190</td>\n",
       "      <td>A</td>\n",
       "    </tr>\n",
       "  </tbody>\n",
       "</table>\n",
       "</div>"
      ],
      "text/plain": [
       "    transactionId   visitorId        date  revenue group\n",
       "0      3667963787  3312258926  2019-08-15     1650     B\n",
       "1      2804400009  3642806036  2019-08-15      730     B\n",
       "2      2961555356  4069496402  2019-08-15      400     A\n",
       "3      3797467345  1196621759  2019-08-15     9759     B\n",
       "4      2282983706  2322279887  2019-08-15     2308     B\n",
       "5       182168103   935554773  2019-08-15     2210     B\n",
       "6       398296753  2900797465  2019-08-15     1860     B\n",
       "7      2626614568    78758296  2019-08-15     1044     A\n",
       "8      1576988021   295230930  2019-08-15    13710     A\n",
       "9      1506739906  1882260405  2019-08-15     1855     B\n",
       "10     3649131742   879864040  2019-08-15     4008     A\n",
       "11     1919444843   927791387  2019-08-15     4499     B\n",
       "12     2809384911  3213223594  2019-08-15     7370     A\n",
       "13     3044797713   728063420  2019-08-15    11985     B\n",
       "14     3859315276  1565034404  2019-08-15    10980     A\n",
       "15     2550768810  2742574263  2019-08-15    15277     B\n",
       "16     1820531107  2973109265  2019-08-15     1060     B\n",
       "17     1108180333   222718357  2019-08-15      990     B\n",
       "18     1822256754  4227830084  2019-08-15    16490     A\n",
       "19      674584210  3207734412  2019-08-15     1190     A"
      ]
     },
     "execution_count": 5,
     "metadata": {},
     "output_type": "execute_result"
    }
   ],
   "source": [
    "orders.head(20)"
   ]
  },
  {
   "cell_type": "markdown",
   "metadata": {},
   "source": [
    "*transactionId* — идентификатор заказа;\\\n",
    "*visitorId* — идентификатор пользователя, совершившего заказ;\\\n",
    "*date* — дата, когда был совершён заказ;\\\n",
    "*revenue* — выручка заказа;\\\n",
    "*group* — группа A/B-теста, в которую попал заказ."
   ]
  },
  {
   "cell_type": "code",
   "execution_count": 6,
   "metadata": {},
   "outputs": [
    {
     "name": "stdout",
     "output_type": "stream",
     "text": [
      "<class 'pandas.core.frame.DataFrame'>\n",
      "RangeIndex: 1197 entries, 0 to 1196\n",
      "Data columns (total 5 columns):\n",
      " #   Column         Non-Null Count  Dtype \n",
      "---  ------         --------------  ----- \n",
      " 0   transactionId  1197 non-null   int64 \n",
      " 1   visitorId      1197 non-null   int64 \n",
      " 2   date           1197 non-null   object\n",
      " 3   revenue        1197 non-null   int64 \n",
      " 4   group          1197 non-null   object\n",
      "dtypes: int64(3), object(2)\n",
      "memory usage: 46.9+ KB\n"
     ]
    }
   ],
   "source": [
    "orders.info()"
   ]
  },
  {
   "cell_type": "markdown",
   "metadata": {},
   "source": [
    "Более 1000 заказов. Названия столбцов нужно привести к простому для понимания общепринятому виду, а тип данных столбца `date` изменить. Вернёмся к этому позже."
   ]
  },
  {
   "cell_type": "markdown",
   "metadata": {},
   "source": [
    "*Посмотрим датафрейм `visitors`.*"
   ]
  },
  {
   "cell_type": "code",
   "execution_count": 7,
   "metadata": {},
   "outputs": [
    {
     "data": {
      "text/html": [
       "<div>\n",
       "<style scoped>\n",
       "    .dataframe tbody tr th:only-of-type {\n",
       "        vertical-align: middle;\n",
       "    }\n",
       "\n",
       "    .dataframe tbody tr th {\n",
       "        vertical-align: top;\n",
       "    }\n",
       "\n",
       "    .dataframe thead th {\n",
       "        text-align: right;\n",
       "    }\n",
       "</style>\n",
       "<table border=\"1\" class=\"dataframe\">\n",
       "  <thead>\n",
       "    <tr style=\"text-align: right;\">\n",
       "      <th></th>\n",
       "      <th>date</th>\n",
       "      <th>group</th>\n",
       "      <th>visitors</th>\n",
       "    </tr>\n",
       "  </thead>\n",
       "  <tbody>\n",
       "    <tr>\n",
       "      <th>0</th>\n",
       "      <td>2019-08-01</td>\n",
       "      <td>A</td>\n",
       "      <td>719</td>\n",
       "    </tr>\n",
       "    <tr>\n",
       "      <th>1</th>\n",
       "      <td>2019-08-02</td>\n",
       "      <td>A</td>\n",
       "      <td>619</td>\n",
       "    </tr>\n",
       "    <tr>\n",
       "      <th>2</th>\n",
       "      <td>2019-08-03</td>\n",
       "      <td>A</td>\n",
       "      <td>507</td>\n",
       "    </tr>\n",
       "    <tr>\n",
       "      <th>3</th>\n",
       "      <td>2019-08-04</td>\n",
       "      <td>A</td>\n",
       "      <td>717</td>\n",
       "    </tr>\n",
       "    <tr>\n",
       "      <th>4</th>\n",
       "      <td>2019-08-05</td>\n",
       "      <td>A</td>\n",
       "      <td>756</td>\n",
       "    </tr>\n",
       "    <tr>\n",
       "      <th>5</th>\n",
       "      <td>2019-08-06</td>\n",
       "      <td>A</td>\n",
       "      <td>667</td>\n",
       "    </tr>\n",
       "    <tr>\n",
       "      <th>6</th>\n",
       "      <td>2019-08-07</td>\n",
       "      <td>A</td>\n",
       "      <td>644</td>\n",
       "    </tr>\n",
       "    <tr>\n",
       "      <th>7</th>\n",
       "      <td>2019-08-08</td>\n",
       "      <td>A</td>\n",
       "      <td>610</td>\n",
       "    </tr>\n",
       "    <tr>\n",
       "      <th>8</th>\n",
       "      <td>2019-08-09</td>\n",
       "      <td>A</td>\n",
       "      <td>617</td>\n",
       "    </tr>\n",
       "    <tr>\n",
       "      <th>9</th>\n",
       "      <td>2019-08-10</td>\n",
       "      <td>A</td>\n",
       "      <td>406</td>\n",
       "    </tr>\n",
       "    <tr>\n",
       "      <th>10</th>\n",
       "      <td>2019-08-11</td>\n",
       "      <td>A</td>\n",
       "      <td>718</td>\n",
       "    </tr>\n",
       "    <tr>\n",
       "      <th>11</th>\n",
       "      <td>2019-08-12</td>\n",
       "      <td>A</td>\n",
       "      <td>595</td>\n",
       "    </tr>\n",
       "    <tr>\n",
       "      <th>12</th>\n",
       "      <td>2019-08-13</td>\n",
       "      <td>A</td>\n",
       "      <td>748</td>\n",
       "    </tr>\n",
       "    <tr>\n",
       "      <th>13</th>\n",
       "      <td>2019-08-14</td>\n",
       "      <td>A</td>\n",
       "      <td>735</td>\n",
       "    </tr>\n",
       "    <tr>\n",
       "      <th>14</th>\n",
       "      <td>2019-08-15</td>\n",
       "      <td>A</td>\n",
       "      <td>628</td>\n",
       "    </tr>\n",
       "    <tr>\n",
       "      <th>15</th>\n",
       "      <td>2019-08-16</td>\n",
       "      <td>A</td>\n",
       "      <td>361</td>\n",
       "    </tr>\n",
       "    <tr>\n",
       "      <th>16</th>\n",
       "      <td>2019-08-17</td>\n",
       "      <td>A</td>\n",
       "      <td>412</td>\n",
       "    </tr>\n",
       "    <tr>\n",
       "      <th>17</th>\n",
       "      <td>2019-08-18</td>\n",
       "      <td>A</td>\n",
       "      <td>668</td>\n",
       "    </tr>\n",
       "    <tr>\n",
       "      <th>18</th>\n",
       "      <td>2019-08-19</td>\n",
       "      <td>A</td>\n",
       "      <td>502</td>\n",
       "    </tr>\n",
       "    <tr>\n",
       "      <th>19</th>\n",
       "      <td>2019-08-20</td>\n",
       "      <td>A</td>\n",
       "      <td>575</td>\n",
       "    </tr>\n",
       "  </tbody>\n",
       "</table>\n",
       "</div>"
      ],
      "text/plain": [
       "          date group  visitors\n",
       "0   2019-08-01     A       719\n",
       "1   2019-08-02     A       619\n",
       "2   2019-08-03     A       507\n",
       "3   2019-08-04     A       717\n",
       "4   2019-08-05     A       756\n",
       "5   2019-08-06     A       667\n",
       "6   2019-08-07     A       644\n",
       "7   2019-08-08     A       610\n",
       "8   2019-08-09     A       617\n",
       "9   2019-08-10     A       406\n",
       "10  2019-08-11     A       718\n",
       "11  2019-08-12     A       595\n",
       "12  2019-08-13     A       748\n",
       "13  2019-08-14     A       735\n",
       "14  2019-08-15     A       628\n",
       "15  2019-08-16     A       361\n",
       "16  2019-08-17     A       412\n",
       "17  2019-08-18     A       668\n",
       "18  2019-08-19     A       502\n",
       "19  2019-08-20     A       575"
      ]
     },
     "execution_count": 7,
     "metadata": {},
     "output_type": "execute_result"
    }
   ],
   "source": [
    "visitors.head(20)"
   ]
  },
  {
   "cell_type": "markdown",
   "metadata": {},
   "source": [
    "*date* — дата;\\\n",
    "*group* — группа A/B-теста;\\\n",
    "*visitors* — количество пользователей в указанную дату в указанной группе A/B-теста."
   ]
  },
  {
   "cell_type": "code",
   "execution_count": 8,
   "metadata": {},
   "outputs": [
    {
     "name": "stdout",
     "output_type": "stream",
     "text": [
      "<class 'pandas.core.frame.DataFrame'>\n",
      "RangeIndex: 62 entries, 0 to 61\n",
      "Data columns (total 3 columns):\n",
      " #   Column    Non-Null Count  Dtype \n",
      "---  ------    --------------  ----- \n",
      " 0   date      62 non-null     object\n",
      " 1   group     62 non-null     object\n",
      " 2   visitors  62 non-null     int64 \n",
      "dtypes: int64(1), object(2)\n",
      "memory usage: 1.6+ KB\n"
     ]
    }
   ],
   "source": [
    "visitors.info()"
   ]
  },
  {
   "cell_type": "markdown",
   "metadata": {},
   "source": [
    "62 наблюдения, т.е. 1 месяц наблюдений по 2 группам. Тип данных столбца `date` нужно позже изменить. "
   ]
  },
  {
   "cell_type": "markdown",
   "metadata": {},
   "source": [
    "> На первый взгляд необходимы следующие шаги: в двух датасетах переименовать столбцы и во всех датасетах поменять формат данных. Рассмотрим данные ещё детальнее."
   ]
  },
  {
   "cell_type": "markdown",
   "metadata": {},
   "source": [
    "### Предобработка данных\n",
    "<a id='section_2'></a>"
   ]
  },
  {
   "cell_type": "markdown",
   "metadata": {},
   "source": [
    "#### Переименование столбцов."
   ]
  },
  {
   "cell_type": "markdown",
   "metadata": {},
   "source": [
    "Приводим названия колонок к общепринятому стилю."
   ]
  },
  {
   "cell_type": "code",
   "execution_count": 9,
   "metadata": {},
   "outputs": [],
   "source": [
    "hypothesis.columns = [x.lower() for x in hypothesis.columns.values]"
   ]
  },
  {
   "cell_type": "code",
   "execution_count": 10,
   "metadata": {},
   "outputs": [],
   "source": [
    "orders = orders.rename(columns= {'transactionId': 'order_id',\\\n",
    "                                 'visitorId': 'user_id'})"
   ]
  },
  {
   "cell_type": "markdown",
   "metadata": {},
   "source": [
    "Столбцы переименованы."
   ]
  },
  {
   "cell_type": "markdown",
   "metadata": {},
   "source": [
    "#### Изучение дубликатов."
   ]
  },
  {
   "cell_type": "markdown",
   "metadata": {},
   "source": [
    "Проверим датафреймы на наличие явных дубликатов."
   ]
  },
  {
   "cell_type": "code",
   "execution_count": 11,
   "metadata": {},
   "outputs": [
    {
     "data": {
      "text/plain": [
       "0"
      ]
     },
     "execution_count": 11,
     "metadata": {},
     "output_type": "execute_result"
    }
   ],
   "source": [
    "hypothesis.duplicated().sum()"
   ]
  },
  {
   "cell_type": "code",
   "execution_count": 12,
   "metadata": {},
   "outputs": [
    {
     "data": {
      "text/plain": [
       "0"
      ]
     },
     "execution_count": 12,
     "metadata": {},
     "output_type": "execute_result"
    }
   ],
   "source": [
    "orders.duplicated().sum()"
   ]
  },
  {
   "cell_type": "code",
   "execution_count": 13,
   "metadata": {},
   "outputs": [
    {
     "data": {
      "text/plain": [
       "0"
      ]
     },
     "execution_count": 13,
     "metadata": {},
     "output_type": "execute_result"
    }
   ],
   "source": [
    "visitors.duplicated().sum()"
   ]
  },
  {
   "cell_type": "markdown",
   "metadata": {},
   "source": [
    "Ни в одном из датафреймов нет дубликатов. "
   ]
  },
  {
   "cell_type": "markdown",
   "metadata": {},
   "source": [
    "#### Поиск пропущенных значений и анализ причин пропусков данных. Изменение типов данных"
   ]
  },
  {
   "cell_type": "markdown",
   "metadata": {},
   "source": [
    "**Рассмотрим датафрейм `hypothesis`.**"
   ]
  },
  {
   "cell_type": "code",
   "execution_count": 14,
   "metadata": {},
   "outputs": [
    {
     "data": {
      "text/html": [
       "<style  type=\"text/css\" >\n",
       "#T_c9dcb_row0_col0,#T_c9dcb_row1_col0,#T_c9dcb_row2_col0,#T_c9dcb_row3_col0,#T_c9dcb_row4_col0{\n",
       "            background-color:  #3b4cc0;\n",
       "            color:  #f1f1f1;\n",
       "        }</style><table id=\"T_c9dcb_\" ><thead>    <tr>        <th class=\"blank level0\" ></th>        <th class=\"col_heading level0 col0\" >0</th>    </tr></thead><tbody>\n",
       "                <tr>\n",
       "                        <th id=\"T_c9dcb_level0_row0\" class=\"row_heading level0 row0\" >hypothesis</th>\n",
       "                        <td id=\"T_c9dcb_row0_col0\" class=\"data row0 col0\" >0.000000</td>\n",
       "            </tr>\n",
       "            <tr>\n",
       "                        <th id=\"T_c9dcb_level0_row1\" class=\"row_heading level0 row1\" >reach</th>\n",
       "                        <td id=\"T_c9dcb_row1_col0\" class=\"data row1 col0\" >0.000000</td>\n",
       "            </tr>\n",
       "            <tr>\n",
       "                        <th id=\"T_c9dcb_level0_row2\" class=\"row_heading level0 row2\" >impact</th>\n",
       "                        <td id=\"T_c9dcb_row2_col0\" class=\"data row2 col0\" >0.000000</td>\n",
       "            </tr>\n",
       "            <tr>\n",
       "                        <th id=\"T_c9dcb_level0_row3\" class=\"row_heading level0 row3\" >confidence</th>\n",
       "                        <td id=\"T_c9dcb_row3_col0\" class=\"data row3 col0\" >0.000000</td>\n",
       "            </tr>\n",
       "            <tr>\n",
       "                        <th id=\"T_c9dcb_level0_row4\" class=\"row_heading level0 row4\" >efforts</th>\n",
       "                        <td id=\"T_c9dcb_row4_col0\" class=\"data row4 col0\" >0.000000</td>\n",
       "            </tr>\n",
       "    </tbody></table>"
      ],
      "text/plain": [
       "<pandas.io.formats.style.Styler at 0x7f8f099f84c0>"
      ]
     },
     "execution_count": 14,
     "metadata": {},
     "output_type": "execute_result"
    }
   ],
   "source": [
    "pd.DataFrame(round(hypothesis.isna().mean()*100,)).style.background_gradient('coolwarm')"
   ]
  },
  {
   "cell_type": "markdown",
   "metadata": {},
   "source": [
    "В датафрейме `hypothesis` пропусков нет."
   ]
  },
  {
   "cell_type": "markdown",
   "metadata": {},
   "source": [
    "При обзоре датафрейма отметили, что оценки идут от 1 до 10 включительно. Значит ошибок в датасете нет, и он готов к анализу."
   ]
  },
  {
   "cell_type": "markdown",
   "metadata": {},
   "source": [
    "**Рассмотрим датафрейм `orders`.**"
   ]
  },
  {
   "cell_type": "code",
   "execution_count": 15,
   "metadata": {},
   "outputs": [
    {
     "data": {
      "text/html": [
       "<style  type=\"text/css\" >\n",
       "#T_01e4d_row0_col0,#T_01e4d_row1_col0,#T_01e4d_row2_col0,#T_01e4d_row3_col0,#T_01e4d_row4_col0{\n",
       "            background-color:  #3b4cc0;\n",
       "            color:  #f1f1f1;\n",
       "        }</style><table id=\"T_01e4d_\" ><thead>    <tr>        <th class=\"blank level0\" ></th>        <th class=\"col_heading level0 col0\" >0</th>    </tr></thead><tbody>\n",
       "                <tr>\n",
       "                        <th id=\"T_01e4d_level0_row0\" class=\"row_heading level0 row0\" >order_id</th>\n",
       "                        <td id=\"T_01e4d_row0_col0\" class=\"data row0 col0\" >0.000000</td>\n",
       "            </tr>\n",
       "            <tr>\n",
       "                        <th id=\"T_01e4d_level0_row1\" class=\"row_heading level0 row1\" >user_id</th>\n",
       "                        <td id=\"T_01e4d_row1_col0\" class=\"data row1 col0\" >0.000000</td>\n",
       "            </tr>\n",
       "            <tr>\n",
       "                        <th id=\"T_01e4d_level0_row2\" class=\"row_heading level0 row2\" >date</th>\n",
       "                        <td id=\"T_01e4d_row2_col0\" class=\"data row2 col0\" >0.000000</td>\n",
       "            </tr>\n",
       "            <tr>\n",
       "                        <th id=\"T_01e4d_level0_row3\" class=\"row_heading level0 row3\" >revenue</th>\n",
       "                        <td id=\"T_01e4d_row3_col0\" class=\"data row3 col0\" >0.000000</td>\n",
       "            </tr>\n",
       "            <tr>\n",
       "                        <th id=\"T_01e4d_level0_row4\" class=\"row_heading level0 row4\" >group</th>\n",
       "                        <td id=\"T_01e4d_row4_col0\" class=\"data row4 col0\" >0.000000</td>\n",
       "            </tr>\n",
       "    </tbody></table>"
      ],
      "text/plain": [
       "<pandas.io.formats.style.Styler at 0x7f8f0980ab80>"
      ]
     },
     "execution_count": 15,
     "metadata": {},
     "output_type": "execute_result"
    }
   ],
   "source": [
    "pd.DataFrame(round(orders.isna().mean()*100,)).style.background_gradient('coolwarm')"
   ]
  },
  {
   "cell_type": "markdown",
   "metadata": {},
   "source": [
    "В датафрейме `orders` пропусков нет."
   ]
  },
  {
   "cell_type": "markdown",
   "metadata": {},
   "source": [
    "Рассмотрим сколько пользователей в каждой группе."
   ]
  },
  {
   "cell_type": "code",
   "execution_count": 16,
   "metadata": {},
   "outputs": [
    {
     "data": {
      "text/plain": [
       "557"
      ]
     },
     "execution_count": 16,
     "metadata": {},
     "output_type": "execute_result"
    }
   ],
   "source": [
    "users_a = orders[orders['group'] == 'A']\n",
    "\n",
    "users_a['user_id'].count()"
   ]
  },
  {
   "cell_type": "code",
   "execution_count": 17,
   "metadata": {},
   "outputs": [
    {
     "data": {
      "text/plain": [
       "640"
      ]
     },
     "execution_count": 17,
     "metadata": {},
     "output_type": "execute_result"
    }
   ],
   "source": [
    "users_b = orders[orders['group'] == 'B']\n",
    "\n",
    "users_b['user_id'].count()"
   ]
  },
  {
   "cell_type": "markdown",
   "metadata": {},
   "source": [
    "В группах неравное количество пользователей. Группы не очень хорошо сбалансированы по числу пользователей. Но разное количество может объясняться разной конверсией (пришло на сайт одинаковое количество, а сделало заказы - разное)."
   ]
  },
  {
   "cell_type": "code",
   "execution_count": 18,
   "metadata": {},
   "outputs": [
    {
     "data": {
      "text/plain": [
       "58"
      ]
     },
     "execution_count": 18,
     "metadata": {},
     "output_type": "execute_result"
    }
   ],
   "source": [
    "users_ab = users_a.merge(users_b, on='user_id', how='inner')\n",
    "double_users = list(users_ab['user_id'].unique())\n",
    "len(double_users)"
   ]
  },
  {
   "cell_type": "markdown",
   "metadata": {},
   "source": [
    "58 пользователей есть в обоих группах. Это не позволит провести корректное сравнение групп. Удалим таких пользователей из групп."
   ]
  },
  {
   "cell_type": "code",
   "execution_count": 19,
   "metadata": {},
   "outputs": [],
   "source": [
    "mask = orders['user_id'].isin(double_users)\n",
    "\n",
    "orders = orders[~mask]"
   ]
  },
  {
   "cell_type": "markdown",
   "metadata": {},
   "source": [
    "Изменим тип данных столбца `date`."
   ]
  },
  {
   "cell_type": "code",
   "execution_count": 20,
   "metadata": {},
   "outputs": [],
   "source": [
    "orders['date'] = pd.to_datetime(orders['date'])"
   ]
  },
  {
   "cell_type": "markdown",
   "metadata": {},
   "source": [
    "Проверим датасет на наличие ошибок."
   ]
  },
  {
   "cell_type": "code",
   "execution_count": 21,
   "metadata": {},
   "outputs": [
    {
     "data": {
      "text/plain": [
       "103    2019-08-01\n",
       "148    2019-08-01\n",
       "147    2019-08-01\n",
       "97     2019-08-01\n",
       "145    2019-08-01\n",
       "          ...    \n",
       "957    2019-08-31\n",
       "930    2019-08-31\n",
       "996    2019-08-31\n",
       "1022   2019-08-31\n",
       "997    2019-08-31\n",
       "Name: date, Length: 1016, dtype: datetime64[ns]"
      ]
     },
     "execution_count": 21,
     "metadata": {},
     "output_type": "execute_result"
    }
   ],
   "source": [
    "orders['date'].sort_values()"
   ]
  },
  {
   "cell_type": "markdown",
   "metadata": {},
   "source": [
    "Датасет содержит данные за август 2019 года. Ошибочных данных нет."
   ]
  },
  {
   "cell_type": "code",
   "execution_count": 22,
   "metadata": {},
   "outputs": [
    {
     "data": {
      "text/plain": [
       "459          50\n",
       "584          50\n",
       "756          50\n",
       "933          60\n",
       "404          70\n",
       "         ...   \n",
       "743       67990\n",
       "744       86620\n",
       "1136      92550\n",
       "1196     202740\n",
       "425     1294500\n",
       "Name: revenue, Length: 1016, dtype: int64"
      ]
     },
     "execution_count": 22,
     "metadata": {},
     "output_type": "execute_result"
    }
   ],
   "source": [
    "orders['revenue'].sort_values()"
   ]
  },
  {
   "cell_type": "markdown",
   "metadata": {},
   "source": [
    "Разброс выручки достаточно большой."
   ]
  },
  {
   "cell_type": "code",
   "execution_count": 23,
   "metadata": {},
   "outputs": [
    {
     "data": {
      "text/plain": [
       "array(['B', 'A'], dtype=object)"
      ]
     },
     "execution_count": 23,
     "metadata": {},
     "output_type": "execute_result"
    }
   ],
   "source": [
    "orders['group'].unique()"
   ]
  },
  {
   "cell_type": "markdown",
   "metadata": {},
   "source": [
    "Есть только 2 группы, т.к.  есть 2 варианта - \"до\" изменений и \"после\". Всё верно."
   ]
  },
  {
   "cell_type": "markdown",
   "metadata": {},
   "source": [
    "**Рассмотрим датафрейм `visitors`.**"
   ]
  },
  {
   "cell_type": "code",
   "execution_count": 24,
   "metadata": {},
   "outputs": [
    {
     "data": {
      "text/html": [
       "<style  type=\"text/css\" >\n",
       "#T_a0963_row0_col0,#T_a0963_row1_col0,#T_a0963_row2_col0{\n",
       "            background-color:  #3b4cc0;\n",
       "            color:  #f1f1f1;\n",
       "        }</style><table id=\"T_a0963_\" ><thead>    <tr>        <th class=\"blank level0\" ></th>        <th class=\"col_heading level0 col0\" >0</th>    </tr></thead><tbody>\n",
       "                <tr>\n",
       "                        <th id=\"T_a0963_level0_row0\" class=\"row_heading level0 row0\" >date</th>\n",
       "                        <td id=\"T_a0963_row0_col0\" class=\"data row0 col0\" >0.000000</td>\n",
       "            </tr>\n",
       "            <tr>\n",
       "                        <th id=\"T_a0963_level0_row1\" class=\"row_heading level0 row1\" >group</th>\n",
       "                        <td id=\"T_a0963_row1_col0\" class=\"data row1 col0\" >0.000000</td>\n",
       "            </tr>\n",
       "            <tr>\n",
       "                        <th id=\"T_a0963_level0_row2\" class=\"row_heading level0 row2\" >visitors</th>\n",
       "                        <td id=\"T_a0963_row2_col0\" class=\"data row2 col0\" >0.000000</td>\n",
       "            </tr>\n",
       "    </tbody></table>"
      ],
      "text/plain": [
       "<pandas.io.formats.style.Styler at 0x7f8f09856310>"
      ]
     },
     "execution_count": 24,
     "metadata": {},
     "output_type": "execute_result"
    }
   ],
   "source": [
    "pd.DataFrame(round(visitors.isna().mean()*100,)).style.background_gradient('coolwarm')"
   ]
  },
  {
   "cell_type": "markdown",
   "metadata": {},
   "source": [
    "В датафрейме `visitors` пропусков нет."
   ]
  },
  {
   "cell_type": "markdown",
   "metadata": {},
   "source": [
    "Изменим тип данных столбца `date`."
   ]
  },
  {
   "cell_type": "code",
   "execution_count": 25,
   "metadata": {},
   "outputs": [],
   "source": [
    "visitors['date'] = pd.to_datetime(visitors['date'])"
   ]
  },
  {
   "cell_type": "markdown",
   "metadata": {},
   "source": [
    "Проверим датасет на наличие ошибок."
   ]
  },
  {
   "cell_type": "code",
   "execution_count": 26,
   "metadata": {},
   "outputs": [
    {
     "data": {
      "text/plain": [
       "0    2019-08-01\n",
       "31   2019-08-01\n",
       "1    2019-08-02\n",
       "32   2019-08-02\n",
       "2    2019-08-03\n",
       "        ...    \n",
       "28   2019-08-29\n",
       "60   2019-08-30\n",
       "29   2019-08-30\n",
       "30   2019-08-31\n",
       "61   2019-08-31\n",
       "Name: date, Length: 62, dtype: datetime64[ns]"
      ]
     },
     "execution_count": 26,
     "metadata": {},
     "output_type": "execute_result"
    }
   ],
   "source": [
    "# временной диапазон\n",
    "\n",
    "visitors['date'].sort_values()"
   ]
  },
  {
   "cell_type": "markdown",
   "metadata": {},
   "source": [
    "Поле содержит данные за август 2019 года. Ошибочных данных нет."
   ]
  },
  {
   "cell_type": "code",
   "execution_count": 27,
   "metadata": {},
   "outputs": [
    {
     "data": {
      "text/plain": [
       "array(['A', 'B'], dtype=object)"
      ]
     },
     "execution_count": 27,
     "metadata": {},
     "output_type": "execute_result"
    }
   ],
   "source": [
    "# названия групп\n",
    "\n",
    "visitors['group'].unique()"
   ]
  },
  {
   "cell_type": "markdown",
   "metadata": {},
   "source": [
    "Есть только 2 группы - всё верно."
   ]
  },
  {
   "cell_type": "code",
   "execution_count": 28,
   "metadata": {},
   "outputs": [
    {
     "data": {
      "text/plain": [
       "15    361\n",
       "40    369\n",
       "54    378\n",
       "23    395\n",
       "9     406\n",
       "     ... \n",
       "44    746\n",
       "12    748\n",
       "4     756\n",
       "43    769\n",
       "34    770\n",
       "Name: visitors, Length: 62, dtype: int64"
      ]
     },
     "execution_count": 28,
     "metadata": {},
     "output_type": "execute_result"
    }
   ],
   "source": [
    "visitors['visitors'].sort_values()"
   ]
  },
  {
   "cell_type": "markdown",
   "metadata": {},
   "source": [
    "62 наблюдения. От 361 до 770 пользователей в день."
   ]
  },
  {
   "cell_type": "markdown",
   "metadata": {},
   "source": [
    "В датасете `visitors` ошибок нет. Он готов к анализу."
   ]
  },
  {
   "cell_type": "markdown",
   "metadata": {},
   "source": [
    "> Качество входных данных хорошее: нет ярковыраженных аномальных значений, дубликатов и пропусков."
   ]
  },
  {
   "cell_type": "markdown",
   "metadata": {},
   "source": [
    "### Приоритизация гипотез\n",
    "<a id='section_3'></a>"
   ]
  },
  {
   "cell_type": "markdown",
   "metadata": {},
   "source": [
    "Применяем фреймворк ICE для приоритизации гипотез. Отсортируем их по убыванию приоритета."
   ]
  },
  {
   "cell_type": "code",
   "execution_count": 29,
   "metadata": {},
   "outputs": [
    {
     "data": {
      "text/html": [
       "<div>\n",
       "<style scoped>\n",
       "    .dataframe tbody tr th:only-of-type {\n",
       "        vertical-align: middle;\n",
       "    }\n",
       "\n",
       "    .dataframe tbody tr th {\n",
       "        vertical-align: top;\n",
       "    }\n",
       "\n",
       "    .dataframe thead th {\n",
       "        text-align: right;\n",
       "    }\n",
       "</style>\n",
       "<table border=\"1\" class=\"dataframe\">\n",
       "  <thead>\n",
       "    <tr style=\"text-align: right;\">\n",
       "      <th></th>\n",
       "      <th>hypothesis</th>\n",
       "      <th>ICE</th>\n",
       "    </tr>\n",
       "  </thead>\n",
       "  <tbody>\n",
       "    <tr>\n",
       "      <th>8</th>\n",
       "      <td>Запустить акцию, дающую скидку на товар в день рождения</td>\n",
       "      <td>16.20</td>\n",
       "    </tr>\n",
       "    <tr>\n",
       "      <th>0</th>\n",
       "      <td>Добавить два новых канала привлечения трафика, что позволит привлекать на 30% больше пользователей</td>\n",
       "      <td>13.33</td>\n",
       "    </tr>\n",
       "    <tr>\n",
       "      <th>7</th>\n",
       "      <td>Добавить форму подписки на все основные страницы, чтобы собрать базу клиентов для email-рассылок</td>\n",
       "      <td>11.20</td>\n",
       "    </tr>\n",
       "    <tr>\n",
       "      <th>6</th>\n",
       "      <td>Показать на главной странице баннеры с актуальными акциями и распродажами, чтобы увеличить конверсию</td>\n",
       "      <td>8.00</td>\n",
       "    </tr>\n",
       "    <tr>\n",
       "      <th>2</th>\n",
       "      <td>Добавить блоки рекомендаций товаров на сайт интернет магазина, чтобы повысить конверсию и средний чек заказа</td>\n",
       "      <td>7.00</td>\n",
       "    </tr>\n",
       "    <tr>\n",
       "      <th>1</th>\n",
       "      <td>Запустить собственную службу доставки, что сократит срок доставки заказов</td>\n",
       "      <td>2.00</td>\n",
       "    </tr>\n",
       "    <tr>\n",
       "      <th>5</th>\n",
       "      <td>Добавить страницу отзывов клиентов о магазине, что позволит увеличить количество заказов</td>\n",
       "      <td>1.33</td>\n",
       "    </tr>\n",
       "    <tr>\n",
       "      <th>3</th>\n",
       "      <td>Изменить структура категорий, что увеличит конверсию, т.к. пользователи быстрее найдут нужный товар</td>\n",
       "      <td>1.12</td>\n",
       "    </tr>\n",
       "    <tr>\n",
       "      <th>4</th>\n",
       "      <td>Изменить цвет фона главной страницы, чтобы увеличить вовлеченность пользователей</td>\n",
       "      <td>1.00</td>\n",
       "    </tr>\n",
       "  </tbody>\n",
       "</table>\n",
       "</div>"
      ],
      "text/plain": [
       "                                                                                                     hypothesis  \\\n",
       "8                                                       Запустить акцию, дающую скидку на товар в день рождения   \n",
       "0            Добавить два новых канала привлечения трафика, что позволит привлекать на 30% больше пользователей   \n",
       "7              Добавить форму подписки на все основные страницы, чтобы собрать базу клиентов для email-рассылок   \n",
       "6          Показать на главной странице баннеры с актуальными акциями и распродажами, чтобы увеличить конверсию   \n",
       "2  Добавить блоки рекомендаций товаров на сайт интернет магазина, чтобы повысить конверсию и средний чек заказа   \n",
       "1                                     Запустить собственную службу доставки, что сократит срок доставки заказов   \n",
       "5                      Добавить страницу отзывов клиентов о магазине, что позволит увеличить количество заказов   \n",
       "3           Изменить структура категорий, что увеличит конверсию, т.к. пользователи быстрее найдут нужный товар   \n",
       "4                              Изменить цвет фона главной страницы, чтобы увеличить вовлеченность пользователей   \n",
       "\n",
       "     ICE  \n",
       "8  16.20  \n",
       "0  13.33  \n",
       "7  11.20  \n",
       "6   8.00  \n",
       "2   7.00  \n",
       "1   2.00  \n",
       "5   1.33  \n",
       "3   1.12  \n",
       "4   1.00  "
      ]
     },
     "metadata": {},
     "output_type": "display_data"
    }
   ],
   "source": [
    "hypothesis['ICE'] = round((hypothesis['impact'] * hypothesis['confidence']) / hypothesis['efforts'], 2)\n",
    "\n",
    "display(hypothesis[['hypothesis', 'ICE']].sort_values(by='ICE', ascending = False))"
   ]
  },
  {
   "cell_type": "markdown",
   "metadata": {},
   "source": [
    "Наиболее перспективные гипотезы по ICE с индексами 8, 0, 7, 6 и 2. "
   ]
  },
  {
   "cell_type": "code",
   "execution_count": 30,
   "metadata": {},
   "outputs": [
    {
     "data": {
      "text/html": [
       "<div>\n",
       "<style scoped>\n",
       "    .dataframe tbody tr th:only-of-type {\n",
       "        vertical-align: middle;\n",
       "    }\n",
       "\n",
       "    .dataframe tbody tr th {\n",
       "        vertical-align: top;\n",
       "    }\n",
       "\n",
       "    .dataframe thead th {\n",
       "        text-align: right;\n",
       "    }\n",
       "</style>\n",
       "<table border=\"1\" class=\"dataframe\">\n",
       "  <thead>\n",
       "    <tr style=\"text-align: right;\">\n",
       "      <th></th>\n",
       "      <th>hypothesis</th>\n",
       "      <th>RICE</th>\n",
       "    </tr>\n",
       "  </thead>\n",
       "  <tbody>\n",
       "    <tr>\n",
       "      <th>7</th>\n",
       "      <td>Добавить форму подписки на все основные страницы, чтобы собрать базу клиентов для email-рассылок</td>\n",
       "      <td>112.0</td>\n",
       "    </tr>\n",
       "    <tr>\n",
       "      <th>2</th>\n",
       "      <td>Добавить блоки рекомендаций товаров на сайт интернет магазина, чтобы повысить конверсию и средний чек заказа</td>\n",
       "      <td>56.0</td>\n",
       "    </tr>\n",
       "    <tr>\n",
       "      <th>0</th>\n",
       "      <td>Добавить два новых канала привлечения трафика, что позволит привлекать на 30% больше пользователей</td>\n",
       "      <td>40.0</td>\n",
       "    </tr>\n",
       "    <tr>\n",
       "      <th>6</th>\n",
       "      <td>Показать на главной странице баннеры с актуальными акциями и распродажами, чтобы увеличить конверсию</td>\n",
       "      <td>40.0</td>\n",
       "    </tr>\n",
       "    <tr>\n",
       "      <th>8</th>\n",
       "      <td>Запустить акцию, дающую скидку на товар в день рождения</td>\n",
       "      <td>16.2</td>\n",
       "    </tr>\n",
       "    <tr>\n",
       "      <th>3</th>\n",
       "      <td>Изменить структура категорий, что увеличит конверсию, т.к. пользователи быстрее найдут нужный товар</td>\n",
       "      <td>9.0</td>\n",
       "    </tr>\n",
       "    <tr>\n",
       "      <th>1</th>\n",
       "      <td>Запустить собственную службу доставки, что сократит срок доставки заказов</td>\n",
       "      <td>4.0</td>\n",
       "    </tr>\n",
       "    <tr>\n",
       "      <th>5</th>\n",
       "      <td>Добавить страницу отзывов клиентов о магазине, что позволит увеличить количество заказов</td>\n",
       "      <td>4.0</td>\n",
       "    </tr>\n",
       "    <tr>\n",
       "      <th>4</th>\n",
       "      <td>Изменить цвет фона главной страницы, чтобы увеличить вовлеченность пользователей</td>\n",
       "      <td>3.0</td>\n",
       "    </tr>\n",
       "  </tbody>\n",
       "</table>\n",
       "</div>"
      ],
      "text/plain": [
       "                                                                                                     hypothesis  \\\n",
       "7              Добавить форму подписки на все основные страницы, чтобы собрать базу клиентов для email-рассылок   \n",
       "2  Добавить блоки рекомендаций товаров на сайт интернет магазина, чтобы повысить конверсию и средний чек заказа   \n",
       "0            Добавить два новых канала привлечения трафика, что позволит привлекать на 30% больше пользователей   \n",
       "6          Показать на главной странице баннеры с актуальными акциями и распродажами, чтобы увеличить конверсию   \n",
       "8                                                       Запустить акцию, дающую скидку на товар в день рождения   \n",
       "3           Изменить структура категорий, что увеличит конверсию, т.к. пользователи быстрее найдут нужный товар   \n",
       "1                                     Запустить собственную службу доставки, что сократит срок доставки заказов   \n",
       "5                      Добавить страницу отзывов клиентов о магазине, что позволит увеличить количество заказов   \n",
       "4                              Изменить цвет фона главной страницы, чтобы увеличить вовлеченность пользователей   \n",
       "\n",
       "    RICE  \n",
       "7  112.0  \n",
       "2   56.0  \n",
       "0   40.0  \n",
       "6   40.0  \n",
       "8   16.2  \n",
       "3    9.0  \n",
       "1    4.0  \n",
       "5    4.0  \n",
       "4    3.0  "
      ]
     },
     "metadata": {},
     "output_type": "display_data"
    }
   ],
   "source": [
    "hypothesis['RICE'] = (hypothesis['reach'] * hypothesis['impact'] * hypothesis['confidence'])/hypothesis['efforts']\n",
    "\n",
    "display(hypothesis[['hypothesis', 'RICE']].sort_values(by='RICE', ascending=False))"
   ]
  },
  {
   "cell_type": "markdown",
   "metadata": {},
   "source": [
    "Наиболее перспективные гипотезы по RICE в порядке убывания приоритетности:\n",
    "1. Добавить форму подписки на все основные страницы, чтобы собрать базу клиентов для email-рассылок.\n",
    "2. Добавить блоки рекомендаций товаров на сайт интернет магазина, чтобы повысить конверсию и средний чек заказа.\n",
    "3. Добавить два новых канала привлечения трафика, что позволит привлекать на 30% больше пользователей.\n",
    "4. Показать на главной странице баннеры с актуальными акциями и распродажами, чтобы увеличить конверсию.\n",
    "5. Запустить акцию, дающую скидку на товар в день рождения."
   ]
  },
  {
   "cell_type": "markdown",
   "metadata": {},
   "source": [
    "> При приоритизации ICE и RICE пятёрка перспективных гипотез одинаковая, только разная приоритетность. Поменялась приоритетность из-за оценки охвата пользователей в числителе. Чем выше оценка охвата пользователей, тем выше RICE."
   ]
  },
  {
   "cell_type": "markdown",
   "metadata": {},
   "source": [
    "### Анализ A/B-теста\n",
    "<a id='section_4'></a>"
   ]
  },
  {
   "cell_type": "markdown",
   "metadata": {},
   "source": [
    "#### Выручка"
   ]
  },
  {
   "cell_type": "markdown",
   "metadata": {},
   "source": [
    "Построим график кумулятивной выручки по группам."
   ]
  },
  {
   "cell_type": "code",
   "execution_count": 31,
   "metadata": {},
   "outputs": [
    {
     "data": {
      "text/html": [
       "<div>\n",
       "<style scoped>\n",
       "    .dataframe tbody tr th:only-of-type {\n",
       "        vertical-align: middle;\n",
       "    }\n",
       "\n",
       "    .dataframe tbody tr th {\n",
       "        vertical-align: top;\n",
       "    }\n",
       "\n",
       "    .dataframe thead th {\n",
       "        text-align: right;\n",
       "    }\n",
       "</style>\n",
       "<table border=\"1\" class=\"dataframe\">\n",
       "  <thead>\n",
       "    <tr style=\"text-align: right;\">\n",
       "      <th></th>\n",
       "      <th>date</th>\n",
       "      <th>group</th>\n",
       "      <th>orders</th>\n",
       "      <th>buyers</th>\n",
       "      <th>revenue</th>\n",
       "      <th>visitors</th>\n",
       "    </tr>\n",
       "  </thead>\n",
       "  <tbody>\n",
       "    <tr>\n",
       "      <th>0</th>\n",
       "      <td>2019-08-01</td>\n",
       "      <td>A</td>\n",
       "      <td>23</td>\n",
       "      <td>19</td>\n",
       "      <td>142779</td>\n",
       "      <td>719</td>\n",
       "    </tr>\n",
       "    <tr>\n",
       "      <th>1</th>\n",
       "      <td>2019-08-01</td>\n",
       "      <td>B</td>\n",
       "      <td>17</td>\n",
       "      <td>17</td>\n",
       "      <td>59758</td>\n",
       "      <td>713</td>\n",
       "    </tr>\n",
       "    <tr>\n",
       "      <th>2</th>\n",
       "      <td>2019-08-02</td>\n",
       "      <td>A</td>\n",
       "      <td>42</td>\n",
       "      <td>36</td>\n",
       "      <td>234381</td>\n",
       "      <td>1338</td>\n",
       "    </tr>\n",
       "    <tr>\n",
       "      <th>3</th>\n",
       "      <td>2019-08-02</td>\n",
       "      <td>B</td>\n",
       "      <td>40</td>\n",
       "      <td>39</td>\n",
       "      <td>221801</td>\n",
       "      <td>1294</td>\n",
       "    </tr>\n",
       "    <tr>\n",
       "      <th>4</th>\n",
       "      <td>2019-08-03</td>\n",
       "      <td>A</td>\n",
       "      <td>66</td>\n",
       "      <td>60</td>\n",
       "      <td>346854</td>\n",
       "      <td>1845</td>\n",
       "    </tr>\n",
       "  </tbody>\n",
       "</table>\n",
       "</div>"
      ],
      "text/plain": [
       "        date group  orders  buyers  revenue  visitors\n",
       "0 2019-08-01     A      23      19   142779       719\n",
       "1 2019-08-01     B      17      17    59758       713\n",
       "2 2019-08-02     A      42      36   234381      1338\n",
       "3 2019-08-02     B      40      39   221801      1294\n",
       "4 2019-08-03     A      66      60   346854      1845"
      ]
     },
     "execution_count": 31,
     "metadata": {},
     "output_type": "execute_result"
    }
   ],
   "source": [
    "# создаем массив уникальных пар значений дат и групп теста\n",
    "datesGroups = orders[['date','group']].drop_duplicates() \n",
    "\n",
    "# получаем агрегированные кумулятивные по дням данные о заказах \n",
    "ordersAggregated = datesGroups.apply(lambda x: orders[np.logical_and(orders['date'] <= x['date'], orders['group'] == x['group'])]\\\n",
    ".agg({'date' : 'max', 'group' : 'max', 'order_id' : 'nunique', 'user_id' : 'nunique', 'revenue' : 'sum'}), axis=1).sort_values(by=['date','group'])\n",
    "\n",
    "# получаем агрегированные кумулятивные по дням данные о посетителях интернет-магазина \n",
    "visitorsAggregated = datesGroups.apply(lambda x: visitors[np.logical_and(visitors['date'] <= x['date'], visitors['group'] == x['group'])].agg({'date' : 'max', 'group' : 'max', 'visitors' : 'sum'}), axis=1).sort_values(by=['date','group'])\n",
    "\n",
    "# объединяем кумулятивные данные в одной таблице и присваиваем ее столбцам понятные названия\n",
    "cumulativeData = ordersAggregated.merge(visitorsAggregated, left_on=['date', 'group'], right_on=['date', 'group'])\n",
    "cumulativeData.columns = ['date', 'group', 'orders', 'buyers', 'revenue', 'visitors']\n",
    "\n",
    "cumulativeData.head(5)"
   ]
  },
  {
   "cell_type": "markdown",
   "metadata": {},
   "source": [
    "Проверим, корректно ли создан датафрейм cumulativeData. Посмотрим, совпадают ли минимальная и максимальная даты в этом датафрейме и в исходных данных:"
   ]
  },
  {
   "cell_type": "code",
   "execution_count": 32,
   "metadata": {},
   "outputs": [
    {
     "data": {
      "text/plain": [
       "Timestamp('2019-08-01 00:00:00')"
      ]
     },
     "execution_count": 32,
     "metadata": {},
     "output_type": "execute_result"
    }
   ],
   "source": [
    "cumulativeData['date'].min()"
   ]
  },
  {
   "cell_type": "code",
   "execution_count": 33,
   "metadata": {},
   "outputs": [
    {
     "data": {
      "text/plain": [
       "Timestamp('2019-08-31 00:00:00')"
      ]
     },
     "execution_count": 33,
     "metadata": {},
     "output_type": "execute_result"
    }
   ],
   "source": [
    "cumulativeData['date'].max()"
   ]
  },
  {
   "cell_type": "markdown",
   "metadata": {},
   "source": [
    "Даты совпадают, значит датафрейм создан корректно."
   ]
  },
  {
   "cell_type": "markdown",
   "metadata": {},
   "source": [
    "Построим графики кумулятивной выручки по дням и группам A/B-тестирования: "
   ]
  },
  {
   "cell_type": "code",
   "execution_count": 34,
   "metadata": {},
   "outputs": [
    {
     "data": {
      "image/png": "[encoded data removed]",
      "text/plain": [
       "<Figure size 936x360 with 1 Axes>"
      ]
     },
     "metadata": {
      "needs_background": "light"
     },
     "output_type": "display_data"
    }
   ],
   "source": [
    "# датафрейм с кумулятивным количеством заказов и кумулятивной выручкой по дням в группе А\n",
    "cumulativeRevenueA = cumulativeData[cumulativeData['group']=='A'][['date','revenue', 'orders']]\n",
    "\n",
    "# датафрейм с кумулятивным количеством заказов и кумулятивной выручкой по дням в группе B\n",
    "cumulativeRevenueB = cumulativeData[cumulativeData['group']=='B'][['date','revenue', 'orders']]\n",
    "\n",
    "plt.figure(figsize=(13, 5))\n",
    "\n",
    "# Строим график выручки группы А\n",
    "plt.plot(cumulativeRevenueA['date'], cumulativeRevenueA['revenue'], label='A')\n",
    "\n",
    "# Строим график выручки группы B\n",
    "plt.plot(cumulativeRevenueB['date'], cumulativeRevenueB['revenue'], label='B')\n",
    "\n",
    "plt.xlabel('Дата')\n",
    "plt.ylabel('Выручка')\n",
    "plt.title('Кумулятивная выручка по дням и группам')\n",
    "plt.legend()\n",
    "plt.show()"
   ]
  },
  {
   "cell_type": "markdown",
   "metadata": {},
   "source": [
    "Выручка почти равномерно увеличивается в течение всего теста. \n",
    "Однако график выручки группы В в одной точке резко растёт. Это может сигнализировать о всплеске числа заказов либо о появлении очень дорогих заказов в выборке."
   ]
  },
  {
   "cell_type": "markdown",
   "metadata": {},
   "source": [
    "#### Средний чек"
   ]
  },
  {
   "cell_type": "markdown",
   "metadata": {},
   "source": [
    "Построим графики среднего чека по группам — разделим кумулятивную выручку на кумулятивное число заказов:"
   ]
  },
  {
   "cell_type": "code",
   "execution_count": 35,
   "metadata": {},
   "outputs": [
    {
     "data": {
      "text/plain": [
       "<matplotlib.legend.Legend at 0x7f8f097c7c10>"
      ]
     },
     "execution_count": 35,
     "metadata": {},
     "output_type": "execute_result"
    },
    {
     "data": {
      "image/png": "[encoded data removed]",
      "text/plain": [
       "<Figure size 936x360 with 1 Axes>"
      ]
     },
     "metadata": {
      "needs_background": "light"
     },
     "output_type": "display_data"
    }
   ],
   "source": [
    "plt.figure(figsize=(13, 5))\n",
    "plt.plot(cumulativeRevenueA['date'], cumulativeRevenueA['revenue']/cumulativeRevenueA['orders'], label='A')\n",
    "plt.plot(cumulativeRevenueB['date'], cumulativeRevenueB['revenue']/cumulativeRevenueB['orders'], label='B')\n",
    "plt.xlabel('Дата')\n",
    "plt.ylabel('Средний чек')\n",
    "plt.title('Средний чек по дням и группам')\n",
    "plt.legend() "
   ]
  },
  {
   "cell_type": "markdown",
   "metadata": {},
   "source": [
    "Средний чек тоже становится равномерным ближе к концу теста: близок к установлению для группы A и продолжает падать для группы B. \n",
    "\n",
    "Возможно, в группу B в начале и в середине теста попали крупные заказы (резкий всплеск на графике). Тогда ей нужно больше данных, чтобы прийти к реальному среднему чеку и установиться на его уровне. А в группе В в начале теста, скорее всего, были сильно дешёвые заказы."
   ]
  },
  {
   "cell_type": "markdown",
   "metadata": {},
   "source": [
    "#### Относительное изменение среднего чека"
   ]
  },
  {
   "cell_type": "markdown",
   "metadata": {},
   "source": [
    "Построим график относительного различия для среднего чека. Добавим горизонтальную ось:"
   ]
  },
  {
   "cell_type": "code",
   "execution_count": 36,
   "metadata": {},
   "outputs": [
    {
     "data": {
      "text/plain": [
       "Text(0.5, 1.0, 'Относительное изменение среднего чека по дням и группам')"
      ]
     },
     "execution_count": 36,
     "metadata": {},
     "output_type": "execute_result"
    },
    {
     "data": {
      "image/png": "[encoded data removed]",
      "text/plain": [
       "<Figure size 936x360 with 1 Axes>"
      ]
     },
     "metadata": {
      "needs_background": "light"
     },
     "output_type": "display_data"
    }
   ],
   "source": [
    "# собираем данные в одном датафрейме\n",
    "mergedCumulativeRevenue = cumulativeRevenueA.merge(cumulativeRevenueB, left_on='date', right_on='date', how='left', suffixes=['A', 'B'])\n",
    "\n",
    "plt.figure(figsize=(13, 5))\n",
    "\n",
    "# cтроим отношение средних чеков\n",
    "plt.plot(mergedCumulativeRevenue['date'], (mergedCumulativeRevenue['revenueB']/mergedCumulativeRevenue['ordersB'])/(mergedCumulativeRevenue['revenueA']/mergedCumulativeRevenue['ordersA'])-1)\n",
    "\n",
    "# добавляем ось X\n",
    "plt.axhline(y=0, color='black', linestyle='--')\n",
    "\n",
    "# добавляем ось на значении 0.3\n",
    "plt.axhline(y=0.3, color='grey', linestyle='--')\n",
    "\n",
    "\n",
    "\n",
    "plt.xlabel('Дата')\n",
    "plt.ylabel('Относительное изменение среднего чека')\n",
    "plt.title('Относительное изменение среднего чека по дням и группам')"
   ]
  },
  {
   "cell_type": "markdown",
   "metadata": {},
   "source": [
    "В нескольких точках график различия между сегментами резко «скачет». Где-то точно спрятались крупные заказы и выбросы. Найдём их позже."
   ]
  },
  {
   "cell_type": "markdown",
   "metadata": {},
   "source": [
    "#### Среднее количество заказов на посетителя по группам"
   ]
  },
  {
   "cell_type": "markdown",
   "metadata": {},
   "source": [
    "Аналогично проанализируем график кумулятивной конверсии. Зададим масштаб осей и передадим ему минимальное и максимальное значения оси x; минимальное и максимальное значения оси y — `[\"2019-04-01\", '2019-04-23', 0, 0.015]`:"
   ]
  },
  {
   "cell_type": "code",
   "execution_count": 37,
   "metadata": {},
   "outputs": [
    {
     "data": {
      "text/plain": [
       "Text(0.5, 1.0, 'Среднее количество заказов на посетителя по группам')"
      ]
     },
     "execution_count": 37,
     "metadata": {},
     "output_type": "execute_result"
    },
    {
     "data": {
      "image/png": "[encoded data removed]",
      "text/plain": [
       "<Figure size 936x360 with 1 Axes>"
      ]
     },
     "metadata": {
      "needs_background": "light"
     },
     "output_type": "display_data"
    }
   ],
   "source": [
    "# считаем кумулятивную конверсию\n",
    "cumulativeData['conversion'] = cumulativeData['orders']/cumulativeData['visitors']\n",
    "\n",
    "# отделяем данные по группе A\n",
    "cumulativeDataA = cumulativeData[cumulativeData['group']=='A']\n",
    "\n",
    "# отделяем данные по группе B\n",
    "cumulativeDataB = cumulativeData[cumulativeData['group']=='B']\n",
    "\n",
    "plt.figure(figsize=(13, 5))\n",
    "# строим графики\n",
    "plt.plot(cumulativeDataA['date'], cumulativeDataA['conversion'], label='A')\n",
    "plt.plot(cumulativeDataB['date'], cumulativeDataB['conversion'], label='B')\n",
    "plt.legend()\n",
    "\n",
    "# задаем масштаб осей\n",
    "plt.axis([dt.datetime(2019, 8, 1), dt.datetime(2019, 8, 31), 0, 0.05])\n",
    "\n",
    "plt.xlabel('Дата')\n",
    "plt.ylabel('Среднее количество заказов')\n",
    "plt.title('Среднее количество заказов на посетителя по группам')"
   ]
  },
  {
   "cell_type": "markdown",
   "metadata": {},
   "source": [
    "Группы колебались около одного значения, но затем конверсия группы B вырвалась вперёд и зафиксировалась, а конверсия группы А просела и также зафиксировалась."
   ]
  },
  {
   "cell_type": "markdown",
   "metadata": {},
   "source": [
    "#### Относительное изменение кумулятивного среднего количества заказов на посетителя группы B к группе A"
   ]
  },
  {
   "cell_type": "markdown",
   "metadata": {},
   "source": [
    "Построим график относительного различия кумулятивных конверсий:"
   ]
  },
  {
   "cell_type": "code",
   "execution_count": 38,
   "metadata": {},
   "outputs": [
    {
     "data": {
      "text/plain": [
       "Text(0.5, 1.0, 'Относительное изменение кумулятивного среднего количества заказов на посетителя группы B к группе A')"
      ]
     },
     "execution_count": 38,
     "metadata": {},
     "output_type": "execute_result"
    },
    {
     "data": {
      "image/png": "[encoded data removed]",
      "text/plain": [
       "<Figure size 936x360 with 1 Axes>"
      ]
     },
     "metadata": {
      "needs_background": "light"
     },
     "output_type": "display_data"
    }
   ],
   "source": [
    "mergedCumulativeConversions = cumulativeDataA[['date','conversion']].merge(cumulativeDataB[['date','conversion']], left_on='date', right_on='date', how='left', suffixes=['A', 'B'])\n",
    "\n",
    "plt.figure(figsize=(13, 5))\n",
    "plt.plot(mergedCumulativeConversions['date'], mergedCumulativeConversions['conversionB']/mergedCumulativeConversions['conversionA']-1, label=\"Относительный прирост конверсии группы B относительно группы A\")\n",
    "plt.legend()\n",
    "\n",
    "plt.axhline(y=0, color='black', linestyle='--')\n",
    "plt.axhline(y=0.15, color='grey', linestyle='--')\n",
    "plt.axis([dt.datetime(2019, 8, 1), dt.datetime(2019, 8, 31), - 0.4, 0.4])\n",
    "\n",
    "plt.xlabel('Дата')\n",
    "plt.ylabel('Относ. изменение кумулятивного ср. кол-ва заказов')\n",
    "plt.title('Относительное изменение кумулятивного среднего количества заказов на посетителя группы B к группе A')"
   ]
  },
  {
   "cell_type": "markdown",
   "metadata": {},
   "source": [
    "В начале теста группа B значительно проигрывала группе A, затем вырвалась вперёд. Потом её конверсия колебалась около значения 0,15. Однозначно можно сделать вывод, что группа B более успешная с точки зрения количества заказов на посетителя."
   ]
  },
  {
   "cell_type": "markdown",
   "metadata": {},
   "source": [
    "#### Количество заказов по пользователям"
   ]
  },
  {
   "cell_type": "markdown",
   "metadata": {},
   "source": [
    "Пользователи, совершившие много заказов, влияют на числитель формулы конверсии. «Обычный» пользователь совершает не больше двух заказов за короткий срок. \n",
    "\n",
    "Подсчитаем количество заказов по пользователям и посмотрим на результат:"
   ]
  },
  {
   "cell_type": "code",
   "execution_count": 39,
   "metadata": {},
   "outputs": [
    {
     "data": {
      "text/html": [
       "<div>\n",
       "<style scoped>\n",
       "    .dataframe tbody tr th:only-of-type {\n",
       "        vertical-align: middle;\n",
       "    }\n",
       "\n",
       "    .dataframe tbody tr th {\n",
       "        vertical-align: top;\n",
       "    }\n",
       "\n",
       "    .dataframe thead th {\n",
       "        text-align: right;\n",
       "    }\n",
       "</style>\n",
       "<table border=\"1\" class=\"dataframe\">\n",
       "  <thead>\n",
       "    <tr style=\"text-align: right;\">\n",
       "      <th></th>\n",
       "      <th>user_id</th>\n",
       "      <th>orders</th>\n",
       "    </tr>\n",
       "  </thead>\n",
       "  <tbody>\n",
       "    <tr>\n",
       "      <th>908</th>\n",
       "      <td>3967698036</td>\n",
       "      <td>3</td>\n",
       "    </tr>\n",
       "    <tr>\n",
       "      <th>55</th>\n",
       "      <td>249864742</td>\n",
       "      <td>3</td>\n",
       "    </tr>\n",
       "    <tr>\n",
       "      <th>478</th>\n",
       "      <td>2108163459</td>\n",
       "      <td>3</td>\n",
       "    </tr>\n",
       "    <tr>\n",
       "      <th>687</th>\n",
       "      <td>2988190573</td>\n",
       "      <td>3</td>\n",
       "    </tr>\n",
       "    <tr>\n",
       "      <th>890</th>\n",
       "      <td>3908431265</td>\n",
       "      <td>3</td>\n",
       "    </tr>\n",
       "    <tr>\n",
       "      <th>138</th>\n",
       "      <td>611059232</td>\n",
       "      <td>3</td>\n",
       "    </tr>\n",
       "    <tr>\n",
       "      <th>632</th>\n",
       "      <td>2742574263</td>\n",
       "      <td>3</td>\n",
       "    </tr>\n",
       "    <tr>\n",
       "      <th>157</th>\n",
       "      <td>678354126</td>\n",
       "      <td>2</td>\n",
       "    </tr>\n",
       "    <tr>\n",
       "      <th>323</th>\n",
       "      <td>1404560065</td>\n",
       "      <td>2</td>\n",
       "    </tr>\n",
       "    <tr>\n",
       "      <th>452</th>\n",
       "      <td>1985475298</td>\n",
       "      <td>2</td>\n",
       "    </tr>\n",
       "  </tbody>\n",
       "</table>\n",
       "</div>"
      ],
      "text/plain": [
       "        user_id  orders\n",
       "908  3967698036       3\n",
       "55    249864742       3\n",
       "478  2108163459       3\n",
       "687  2988190573       3\n",
       "890  3908431265       3\n",
       "138   611059232       3\n",
       "632  2742574263       3\n",
       "157   678354126       2\n",
       "323  1404560065       2\n",
       "452  1985475298       2"
      ]
     },
     "execution_count": 39,
     "metadata": {},
     "output_type": "execute_result"
    }
   ],
   "source": [
    "orders_by_users = (\n",
    "    orders.groupby('user_id', as_index=False)\n",
    "    .agg({'order_id': 'nunique'})\n",
    ")\n",
    "\n",
    "orders_by_users.columns = ['user_id', 'orders']\n",
    "\n",
    "orders_by_users.sort_values(by='orders', ascending=False).head(10)"
   ]
  },
  {
   "cell_type": "markdown",
   "metadata": {},
   "source": [
    "Построим точечную диаграмму числа заказов на одного пользователя:"
   ]
  },
  {
   "cell_type": "code",
   "execution_count": 40,
   "metadata": {},
   "outputs": [
    {
     "data": {
      "text/plain": [
       "Text(0.5, 1.0, 'Количество заказов по пользователям')"
      ]
     },
     "execution_count": 40,
     "metadata": {},
     "output_type": "execute_result"
    },
    {
     "data": {
      "image/png": "[encoded data removed]",
      "text/plain": [
       "<Figure size 432x288 with 1 Axes>"
      ]
     },
     "metadata": {
      "needs_background": "light"
     },
     "output_type": "display_data"
    }
   ],
   "source": [
    "# серия из чисел от 0 до количества наблюдений в ordersByUsers\n",
    "x_values = pd.Series(range(0, len(orders_by_users)))\n",
    "\n",
    "plt.scatter(x_values, orders_by_users['orders'])\n",
    "\n",
    "plt.xlabel('Пользователи')\n",
    "plt.ylabel('Число заказов')\n",
    "plt.title('Количество заказов по пользователям')"
   ]
  },
  {
   "cell_type": "markdown",
   "metadata": {},
   "source": [
    "Явных аномалий в наблюдениях нет. Это хорошо. 2 заказа на пользователя случаются редко, а 3 заказа на пользователя ещё реже. Видимо, интернет-магазин не имеет регулярного спроса."
   ]
  },
  {
   "cell_type": "markdown",
   "metadata": {},
   "source": [
    "#### Определение аномального количества заказов на одного пользователя"
   ]
  },
  {
   "cell_type": "markdown",
   "metadata": {},
   "source": [
    "Посчитаем выборочные перцентили количества заказов на одного пользователя:"
   ]
  },
  {
   "cell_type": "code",
   "execution_count": 41,
   "metadata": {},
   "outputs": [
    {
     "name": "stdout",
     "output_type": "stream",
     "text": [
      "[1. 1. 2.]\n"
     ]
    }
   ],
   "source": [
    "print(np.percentile(orders_by_users['orders'], [90, 95, 99])) "
   ]
  },
  {
   "cell_type": "markdown",
   "metadata": {},
   "source": [
    "Не более 5% пользователей оформляли больше чем 1 заказ. И только 1% пользователей заказывали более одного раза. \n",
    "\n",
    "Разумно выбрать 2 заказа на одного пользователя за верхнюю границу числа заказов, и отсеять аномальных пользователей по ней. "
   ]
  },
  {
   "cell_type": "markdown",
   "metadata": {},
   "source": [
    "#### Стоимости заказов"
   ]
  },
  {
   "cell_type": "markdown",
   "metadata": {},
   "source": [
    "Аномально дорогие заказы следует удалять из теста. Оценим стоимости заказов:"
   ]
  },
  {
   "cell_type": "code",
   "execution_count": 42,
   "metadata": {},
   "outputs": [
    {
     "data": {
      "text/plain": [
       "Text(0.5, 1.0, 'Стоимости заказов по пользователям')"
      ]
     },
     "execution_count": 42,
     "metadata": {},
     "output_type": "execute_result"
    },
    {
     "data": {
      "image/png": "[encoded data removed]",
      "text/plain": [
       "<Figure size 432x288 with 1 Axes>"
      ]
     },
     "metadata": {
      "needs_background": "light"
     },
     "output_type": "display_data"
    }
   ],
   "source": [
    "x_values = pd.Series(range(0,len(orders['revenue'])))\n",
    "plt.scatter(x_values, orders['revenue']) \n",
    "\n",
    "plt.xlabel('Пользователи')\n",
    "plt.ylabel('Стоимость заказа')\n",
    "plt.title('Стоимости заказов по пользователям')"
   ]
  },
  {
   "cell_type": "markdown",
   "metadata": {},
   "source": [
    "Есть один очень дорогой заказ. Сложно определить границу при таком масштабе - рассмотрим точечный график крупнее."
   ]
  },
  {
   "cell_type": "code",
   "execution_count": 43,
   "metadata": {},
   "outputs": [
    {
     "data": {
      "text/plain": [
       "(0.0, 100000.0)"
      ]
     },
     "execution_count": 43,
     "metadata": {},
     "output_type": "execute_result"
    },
    {
     "data": {
      "image/png": "[encoded data removed]",
      "text/plain": [
       "<Figure size 432x288 with 1 Axes>"
      ]
     },
     "metadata": {
      "needs_background": "light"
     },
     "output_type": "display_data"
    }
   ],
   "source": [
    "x_values = pd.Series(range(0,len(orders['revenue'])))\n",
    "plt.scatter(x_values, orders['revenue']) \n",
    "\n",
    "plt.xlabel('Пользователи')\n",
    "plt.ylabel('Стоимость заказа')\n",
    "plt.title('Стоимости заказов по пользователям')\n",
    "plt.ylim(0, 100000)"
   ]
  },
  {
   "cell_type": "markdown",
   "metadata": {},
   "source": [
    "По графику можно выбрать границу аномальных заказов около 40 000 рублей. "
   ]
  },
  {
   "cell_type": "markdown",
   "metadata": {},
   "source": [
    "#### Определение аномальных стоимостей заказов"
   ]
  },
  {
   "cell_type": "code",
   "execution_count": 44,
   "metadata": {},
   "outputs": [
    {
     "name": "stdout",
     "output_type": "stream",
     "text": [
      "[17990. 26785. 53904.]\n"
     ]
    }
   ],
   "source": [
    "print(np.percentile(orders['revenue'], [90, 95, 99])) "
   ]
  },
  {
   "cell_type": "markdown",
   "metadata": {},
   "source": [
    "Не более 5% заказов дороже 26 785 рублей и не более 1% дороже 53 904 рублей. Если брать во внимание график, то логичнее взять границу в 99% - 53 904 рублей."
   ]
  },
  {
   "cell_type": "markdown",
   "metadata": {},
   "source": [
    "#### Статистическая значимость различий в среднем количестве заказов на посетителя между группами по «сырым» данным"
   ]
  },
  {
   "cell_type": "markdown",
   "metadata": {},
   "source": [
    "Посчитаем статистическую значимость различий в среднем числе заказов на пользователя и среднем чеке между группами по «сырым» данным — без удаления аномальных пользователей.\n",
    "\n",
    "Сформулируем гипотезы. \n",
    "\n",
    "*Нулевая*: различий в среднем количестве заказов между группами нет. \n",
    "\n",
    "*Альтернативная*: различия в среднем между группами есть."
   ]
  },
  {
   "cell_type": "code",
   "execution_count": 45,
   "metadata": {},
   "outputs": [
    {
     "data": {
      "text/html": [
       "<div>\n",
       "<style scoped>\n",
       "    .dataframe tbody tr th:only-of-type {\n",
       "        vertical-align: middle;\n",
       "    }\n",
       "\n",
       "    .dataframe tbody tr th {\n",
       "        vertical-align: top;\n",
       "    }\n",
       "\n",
       "    .dataframe thead th {\n",
       "        text-align: right;\n",
       "    }\n",
       "</style>\n",
       "<table border=\"1\" class=\"dataframe\">\n",
       "  <thead>\n",
       "    <tr style=\"text-align: right;\">\n",
       "      <th></th>\n",
       "      <th>date</th>\n",
       "      <th>orders_per_date_a</th>\n",
       "      <th>revenue_per_date_a</th>\n",
       "      <th>orders_per_date_b</th>\n",
       "      <th>revenue_per_date_b</th>\n",
       "      <th>orders_cummulative_a</th>\n",
       "      <th>revenue_cummulative_a</th>\n",
       "      <th>orders_cummulative_b</th>\n",
       "      <th>revenue_cummulative_b</th>\n",
       "      <th>visitors_per_date_a</th>\n",
       "      <th>visitors_per_date_b</th>\n",
       "      <th>visitors_a_cummulative</th>\n",
       "      <th>visitors_b_cummulative</th>\n",
       "    </tr>\n",
       "  </thead>\n",
       "  <tbody>\n",
       "    <tr>\n",
       "      <th>0</th>\n",
       "      <td>2019-08-01</td>\n",
       "      <td>23</td>\n",
       "      <td>142779</td>\n",
       "      <td>17</td>\n",
       "      <td>59758</td>\n",
       "      <td>23</td>\n",
       "      <td>142779</td>\n",
       "      <td>17</td>\n",
       "      <td>59758</td>\n",
       "      <td>719</td>\n",
       "      <td>713</td>\n",
       "      <td>719</td>\n",
       "      <td>713</td>\n",
       "    </tr>\n",
       "    <tr>\n",
       "      <th>1</th>\n",
       "      <td>2019-08-02</td>\n",
       "      <td>19</td>\n",
       "      <td>91602</td>\n",
       "      <td>23</td>\n",
       "      <td>162043</td>\n",
       "      <td>42</td>\n",
       "      <td>234381</td>\n",
       "      <td>40</td>\n",
       "      <td>221801</td>\n",
       "      <td>619</td>\n",
       "      <td>581</td>\n",
       "      <td>1338</td>\n",
       "      <td>1294</td>\n",
       "    </tr>\n",
       "    <tr>\n",
       "      <th>2</th>\n",
       "      <td>2019-08-03</td>\n",
       "      <td>24</td>\n",
       "      <td>112473</td>\n",
       "      <td>14</td>\n",
       "      <td>67049</td>\n",
       "      <td>66</td>\n",
       "      <td>346854</td>\n",
       "      <td>54</td>\n",
       "      <td>288850</td>\n",
       "      <td>507</td>\n",
       "      <td>509</td>\n",
       "      <td>1845</td>\n",
       "      <td>1803</td>\n",
       "    </tr>\n",
       "    <tr>\n",
       "      <th>3</th>\n",
       "      <td>2019-08-04</td>\n",
       "      <td>11</td>\n",
       "      <td>41176</td>\n",
       "      <td>14</td>\n",
       "      <td>96890</td>\n",
       "      <td>77</td>\n",
       "      <td>388030</td>\n",
       "      <td>68</td>\n",
       "      <td>385740</td>\n",
       "      <td>717</td>\n",
       "      <td>770</td>\n",
       "      <td>2562</td>\n",
       "      <td>2573</td>\n",
       "    </tr>\n",
       "    <tr>\n",
       "      <th>4</th>\n",
       "      <td>2019-08-05</td>\n",
       "      <td>22</td>\n",
       "      <td>86383</td>\n",
       "      <td>21</td>\n",
       "      <td>89908</td>\n",
       "      <td>99</td>\n",
       "      <td>474413</td>\n",
       "      <td>89</td>\n",
       "      <td>475648</td>\n",
       "      <td>756</td>\n",
       "      <td>707</td>\n",
       "      <td>3318</td>\n",
       "      <td>3280</td>\n",
       "    </tr>\n",
       "  </tbody>\n",
       "</table>\n",
       "</div>"
      ],
      "text/plain": [
       "        date  orders_per_date_a  revenue_per_date_a  orders_per_date_b  \\\n",
       "0 2019-08-01                 23              142779                 17   \n",
       "1 2019-08-02                 19               91602                 23   \n",
       "2 2019-08-03                 24              112473                 14   \n",
       "3 2019-08-04                 11               41176                 14   \n",
       "4 2019-08-05                 22               86383                 21   \n",
       "\n",
       "   revenue_per_date_b  orders_cummulative_a  revenue_cummulative_a  \\\n",
       "0               59758                    23                 142779   \n",
       "1              162043                    42                 234381   \n",
       "2               67049                    66                 346854   \n",
       "3               96890                    77                 388030   \n",
       "4               89908                    99                 474413   \n",
       "\n",
       "   orders_cummulative_b  revenue_cummulative_b  visitors_per_date_a  \\\n",
       "0                    17                  59758                  719   \n",
       "1                    40                 221801                  619   \n",
       "2                    54                 288850                  507   \n",
       "3                    68                 385740                  717   \n",
       "4                    89                 475648                  756   \n",
       "\n",
       "   visitors_per_date_b  visitors_a_cummulative  visitors_b_cummulative  \n",
       "0                  713                     719                     713  \n",
       "1                  581                    1338                    1294  \n",
       "2                  509                    1845                    1803  \n",
       "3                  770                    2562                    2573  \n",
       "4                  707                    3318                    3280  "
      ]
     },
     "metadata": {},
     "output_type": "display_data"
    }
   ],
   "source": [
    "visitors_a_daily = visitors[visitors['group'] == 'A'][['date', 'visitors']]\n",
    "visitors_a_daily.columns = ['date', 'visitors_per_date_a']\n",
    "\n",
    "visitors_a_cummulative = visitors_a_daily.apply(\n",
    "    lambda x: visitors_a_daily[visitors_a_daily['date'] <= x['date']].agg(\n",
    "        {'date': 'max', 'visitors_per_date_a': 'sum'}\n",
    "    ),\n",
    "    axis=1,\n",
    ")\n",
    "visitors_a_cummulative.columns = ['date', 'visitors_a_cummulative']\n",
    "\n",
    "visitors_b_daily = visitors[visitors['group'] == 'B'][['date', 'visitors']]\n",
    "visitors_b_daily.columns = ['date', 'visitors_per_date_b']\n",
    "\n",
    "visitors_b_cummulative = visitors_b_daily.apply(\n",
    "    lambda x: visitors_b_daily[visitors_b_daily['date'] <= x['date']].agg(\n",
    "        {'date': 'max', 'visitors_per_date_b': 'sum'}\n",
    "    ),\n",
    "    axis=1,\n",
    ")\n",
    "visitors_b_cummulative.columns = ['date', 'visitors_b_cummulative']\n",
    "\n",
    "orders_a_daily = (\n",
    "    orders[orders['group'] == 'A'][['date', 'order_id', 'user_id', 'revenue']]\n",
    "    .groupby('date', as_index=False)\n",
    "    .agg({'order_id': pd.Series.nunique, 'revenue': 'sum'})\n",
    ")\n",
    "orders_a_daily.columns = ['date', 'orders_per_date_a', 'revenue_per_date_a']\n",
    "\n",
    "orders_a_cummulative = orders_a_daily.apply(\n",
    "    lambda x: orders_a_daily[orders_a_daily['date'] <= x['date']].agg(\n",
    "        {'date': 'max', 'orders_per_date_a': 'sum', 'revenue_per_date_a': 'sum'}\n",
    "    ),\n",
    "    axis=1,\n",
    ").sort_values(by=['date'])\n",
    "orders_a_cummulative.columns = [\n",
    "    'date',\n",
    "    'orders_cummulative_a',\n",
    "    'revenue_cummulative_a',\n",
    "]\n",
    "\n",
    "orders_b_daily = (\n",
    "    orders[orders['group'] == 'B'][['date', 'order_id', 'user_id', 'revenue']]\n",
    "    .groupby('date', as_index=False)\n",
    "    .agg({'order_id': pd.Series.nunique, 'revenue': 'sum'})\n",
    ")\n",
    "orders_b_daily.columns = ['date', 'orders_per_date_b', 'revenue_per_date_b']\n",
    "\n",
    "orders_b_cummulative = orders_b_daily.apply(\n",
    "    lambda x: orders_b_daily[orders_b_daily['date'] <= x['date']].agg(\n",
    "        {'date': 'max', 'orders_per_date_b': 'sum', 'revenue_per_date_b': 'sum'}\n",
    "    ),\n",
    "    axis=1,\n",
    ").sort_values(by=['date'])\n",
    "orders_b_cummulative.columns = [\n",
    "    'date',\n",
    "    'orders_cummulative_b',\n",
    "    'revenue_cummulative_b',\n",
    "]\n",
    "\n",
    "data = (\n",
    "    orders_a_daily.merge(\n",
    "        orders_b_daily, left_on='date', right_on='date', how='left'\n",
    "    )\n",
    "    .merge(orders_a_cummulative, left_on='date', right_on='date', how='left')\n",
    "    .merge(orders_b_cummulative, left_on='date', right_on='date', how='left')\n",
    "    .merge(visitors_a_daily, left_on='date', right_on='date', how='left')\n",
    "    .merge(visitors_b_daily, left_on='date', right_on='date', how='left')\n",
    "    .merge(visitors_a_cummulative, left_on='date', right_on='date', how='left')\n",
    "    .merge(visitors_b_cummulative, left_on='date', right_on='date', how='left')\n",
    ")\n",
    "\n",
    "display(data.head(5))"
   ]
  },
  {
   "cell_type": "markdown",
   "metadata": {},
   "source": [
    "Создадим переменные `orders_by_users_a` и `orders_by_users_b` со столбцами `['user_id', 'orders']`. В них для пользователей, которые заказывали хотя бы 1 раз, укажем число совершённых заказов. "
   ]
  },
  {
   "cell_type": "code",
   "execution_count": 46,
   "metadata": {},
   "outputs": [],
   "source": [
    "orders_by_users_a = (\n",
    "    orders[orders['group'] == 'A']\n",
    "    .groupby('user_id', as_index=False)\n",
    "    .agg({'order_id': pd.Series.nunique})\n",
    ")\n",
    "orders_by_users_a.columns = ['user_id', 'orders']\n",
    "\n",
    "orders_by_users_b = (\n",
    "    orders[orders['group'] == 'B']\n",
    "    .groupby('user_id', as_index=False)\n",
    "    .agg({'order_id': pd.Series.nunique})\n",
    ")\n",
    "orders_by_users_b.columns = ['user_id', 'orders'] "
   ]
  },
  {
   "cell_type": "markdown",
   "metadata": {},
   "source": [
    "Объявим новые переменные. В переменных `sample_a` и `sample_b` пользователям из разных групп будет соответствовать количество заказов. Тем, кто ничего не заказал, будут соответствовать нули. Это нужно, чтобы подготовить выборки к проверке критерием Манна-Уитни."
   ]
  },
  {
   "cell_type": "code",
   "execution_count": 47,
   "metadata": {},
   "outputs": [
    {
     "name": "stdout",
     "output_type": "stream",
     "text": [
      "p-value равен: 0.011\n",
      "Различие в среднем количестве заказов: 0.160\n"
     ]
    }
   ],
   "source": [
    "sample_a = pd.concat(\n",
    "    [\n",
    "        orders_by_users_a['orders'],\n",
    "        pd.Series(\n",
    "            0,\n",
    "            index=np.arange(\n",
    "                data['visitors_per_date_a'].sum() - len(orders_by_users_a['orders'])\n",
    "            ),\n",
    "            name='orders',\n",
    "        ),\n",
    "    ],\n",
    "    axis=0,\n",
    ")\n",
    "\n",
    "sample_b = pd.concat(\n",
    "    [\n",
    "        orders_by_users_b['orders'],\n",
    "        pd.Series(\n",
    "            0,\n",
    "            index=np.arange(\n",
    "                data['visitors_per_date_b'].sum() - len(orders_by_users_b['orders'])\n",
    "            ),\n",
    "            name='orders',\n",
    "        ),\n",
    "    ],\n",
    "    axis=0,\n",
    ")\n",
    "\n",
    "\n",
    "print('p-value равен:', \"{0:.3f}\".format(stats.mannwhitneyu(sample_a, sample_b)[1]))\n",
    "\n",
    "print('Различие в среднем количестве заказов:', \"{0:.3f}\".format(sample_b.mean() / sample_a.mean() - 1))"
   ]
  },
  {
   "cell_type": "markdown",
   "metadata": {},
   "source": [
    "Вывод: По «сырым» данным различия в среднем числе заказов групп A и B есть. \n",
    "\n",
    "Первое число — `p-value = 0.011` меньше 0.05. Значит, нулевую гипотезу о том, что статистически значимых различий в среднем числе заказов между группами нет, отвергаем. Однако относительный выигрыш группы B равен 16% — второе число в выводе."
   ]
  },
  {
   "cell_type": "markdown",
   "metadata": {},
   "source": [
    "#### Статистическая значимость различий в среднем чеке заказа между группами по «сырым» данным"
   ]
  },
  {
   "cell_type": "markdown",
   "metadata": {},
   "source": [
    "Теперь проверим статистическую значимость различий в среднем чеке между сегментами. \n",
    "\n",
    "*Нулевая гипотеза*: различий в среднем чеке между группами нет. \n",
    "\n",
    "*Альтернативная гипотеза*: различия в среднем чеке между группами есть. "
   ]
  },
  {
   "cell_type": "markdown",
   "metadata": {},
   "source": [
    "Найдём относительные различия в среднем чеке между группами:"
   ]
  },
  {
   "cell_type": "code",
   "execution_count": 48,
   "metadata": {},
   "outputs": [
    {
     "name": "stdout",
     "output_type": "stream",
     "text": [
      "p-value равен: 0.829\n",
      "Различие в среднем чеке заказа: 0.287\n"
     ]
    }
   ],
   "source": [
    "print('p-value равен:','{0:.3f}'.format(stats.mannwhitneyu(orders[orders['group']=='A']['revenue'], orders[orders['group']=='B']['revenue'])[1]))\n",
    "print('Различие в среднем чеке заказа:','{0:.3f}'.format(orders[orders['group']=='B']['revenue'].mean()/orders[orders['group']=='A']['revenue'].mean()-1))"
   ]
  },
  {
   "cell_type": "markdown",
   "metadata": {},
   "source": [
    "P-value значительно больше 0.05. Значит, причин отвергать нулевую гипотезу и считать, что в среднем чеке есть различия, нет. Впрочем, средний чек группы B значительно выше среднего чека группы A."
   ]
  },
  {
   "cell_type": "markdown",
   "metadata": {},
   "source": [
    "> Найденные 95-й и 99-й перцентили средних чеков равны 26 785 и 53 904  рублям. \n",
    ">\n",
    "> А 95-й и 99-й перцентили количества заказов на одного пользователя равны 1 и 2 заказа на пользователя."
   ]
  },
  {
   "cell_type": "markdown",
   "metadata": {},
   "source": [
    "#### Статистическая значимость различий в среднем количестве заказов на посетителя между группами по «очищенным» данным."
   ]
  },
  {
   "cell_type": "markdown",
   "metadata": {},
   "source": [
    "Узнаем, сколько всего аномальных пользователей атрибутом `shape`."
   ]
  },
  {
   "cell_type": "code",
   "execution_count": 49,
   "metadata": {},
   "outputs": [
    {
     "name": "stdout",
     "output_type": "stream",
     "text": [
      "1099    148427295\n",
      "33      249864742\n",
      "58      611059232\n",
      "949     887908475\n",
      "744     888512513\n",
      "Name: user_id, dtype: int64\n",
      "Количество аномальных пользователей: 16\n"
     ]
    }
   ],
   "source": [
    "percentile = np.nanpercentile(orders_by_users_a['orders'], 99)\n",
    "users_with_many_orders = pd.concat(\n",
    "    [\n",
    "        orders_by_users_a.loc[orders_by_users_a['orders'] > percentile, 'user_id'],\n",
    "        orders_by_users_b.loc[orders_by_users_b['orders'] > percentile, 'user_id']\n",
    "    ],\n",
    "    axis=0,\n",
    ")\n",
    "users_with_expensive_orders = orders[orders['revenue'] > 53904]['user_id']\n",
    "abnormal_users = (\n",
    "    pd.concat([users_with_many_orders, users_with_expensive_orders], axis=0)\n",
    "    .drop_duplicates()\n",
    "    .sort_values()\n",
    ")\n",
    "print(abnormal_users.head(5))\n",
    "print('Количество аномальных пользователей:', abnormal_users.shape[0]) "
   ]
  },
  {
   "cell_type": "markdown",
   "metadata": {},
   "source": [
    "16 аномальных пользователей. Незначительный процент относительно общего числа пользователей."
   ]
  },
  {
   "cell_type": "markdown",
   "metadata": {},
   "source": [
    "Узнаем, как их действия повлияли на результаты теста. Посчитаем статистическую значимость различий в среднем количестве заказов между группами теста по очищенным данным. Сначала подготовим выборки количества заказов по пользователям по группам теста:"
   ]
  },
  {
   "cell_type": "code",
   "execution_count": 50,
   "metadata": {},
   "outputs": [],
   "source": [
    "sample_a_filtered = pd.concat(\n",
    "    [\n",
    "        orders_by_users_a[\n",
    "            np.logical_not(orders_by_users_a['user_id'].isin(abnormal_users))\n",
    "        ]['orders'],\n",
    "        pd.Series(\n",
    "            0,\n",
    "            index=np.arange(\n",
    "                data['visitors_per_date_a'].sum() - len(orders_by_users_a['orders'])\n",
    "            ),\n",
    "            name='orders',\n",
    "        ),\n",
    "    ],\n",
    "    axis=0,\n",
    ")\n",
    "\n",
    "sample_b_filtered = pd.concat(\n",
    "    [\n",
    "        orders_by_users_b[\n",
    "            np.logical_not(orders_by_users_b['user_id'].isin(abnormal_users))\n",
    "        ]['orders'],\n",
    "        pd.Series(\n",
    "            0,\n",
    "            index=np.arange(\n",
    "                data['visitors_per_date_b'].sum() - len(orders_by_users_b['orders'])\n",
    "            ),\n",
    "            name='orders',\n",
    "        ),\n",
    "    ],\n",
    "    axis=0,\n",
    ")"
   ]
  },
  {
   "cell_type": "markdown",
   "metadata": {},
   "source": [
    "Применим статистический критерий Манна-Уитни к полученным выборкам:"
   ]
  },
  {
   "cell_type": "code",
   "execution_count": 51,
   "metadata": {},
   "outputs": [
    {
     "name": "stdout",
     "output_type": "stream",
     "text": [
      "p-value равен: 0.007\n",
      "Различие в среднем количестве заказов: 0.189\n"
     ]
    }
   ],
   "source": [
    "print('p-value равен:','{0:.3f}'.format(stats.mannwhitneyu(sample_a_filtered, sample_b_filtered)[1]))\n",
    "print('Различие в среднем количестве заказов:', '{0:.3f}'.format(sample_b_filtered.mean()/sample_a_filtered.mean()-1))"
   ]
  },
  {
   "cell_type": "markdown",
   "metadata": {},
   "source": [
    "Результаты по среднему количеству заказов практически не изменились - разница между группами по среднему количеству заказов всё-таки есть. Произошло ли что-нибудь с результатами по среднему чеку?"
   ]
  },
  {
   "cell_type": "markdown",
   "metadata": {},
   "source": [
    "#### Статистическая значимость различий в среднем чеке заказа между группами по «очищенным» данным"
   ]
  },
  {
   "cell_type": "code",
   "execution_count": 52,
   "metadata": {},
   "outputs": [
    {
     "name": "stdout",
     "output_type": "stream",
     "text": [
      "p-value равен: 0.788\n",
      "Различие в среднем чеке заказа: -0.032\n"
     ]
    }
   ],
   "source": [
    "print('p-value равен:',\n",
    "    '{0:.3f}'.format(\n",
    "        stats.mannwhitneyu(\n",
    "            orders[\n",
    "                np.logical_and(\n",
    "                    orders['group'] == 'A',\n",
    "                    np.logical_not(orders['user_id'].isin(abnormal_users)),\n",
    "                )\n",
    "            ]['revenue'],\n",
    "            orders[\n",
    "                np.logical_and(\n",
    "                    orders['group'] == 'B',\n",
    "                    np.logical_not(orders['user_id'].isin(abnormal_users)),\n",
    "                )\n",
    "            ]['revenue'],\n",
    "        )[1]\n",
    "    )\n",
    ")\n",
    "\n",
    "print('Различие в среднем чеке заказа:',\n",
    "    \"{0:.3f}\".format(\n",
    "        orders[\n",
    "            np.logical_and(\n",
    "                orders['group'] == 'B',\n",
    "                np.logical_not(orders['user_id'].isin(abnormal_users)),\n",
    "            )\n",
    "        ]['revenue'].mean()\n",
    "        / orders[\n",
    "            np.logical_and(\n",
    "                orders['group'] == 'A',\n",
    "                np.logical_not(orders['user_id'].isin(abnormal_users)),\n",
    "            )\n",
    "        ]['revenue'].mean()\n",
    "        - 1\n",
    "    )\n",
    ")"
   ]
  },
  {
   "cell_type": "markdown",
   "metadata": {},
   "source": [
    "P-value увеличился, но и разница между сегментами сократилась с 28.7% до -3.2%. Аномалии оказывают влияние на результаты A/B-теста. Средний чек группы В стал немного меньше, чем средний чек группы А."
   ]
  },
  {
   "cell_type": "markdown",
   "metadata": {},
   "source": [
    "#### Решение по результатам теста "
   ]
  },
  {
   "cell_type": "markdown",
   "metadata": {},
   "source": [
    "Имеющиеся факты:\n",
    "+ Есть статистически значимое различие по среднему количеству заказов между группами и по «сырым», и по данным после фильтрации аномалий;\n",
    "\n",
    "+ Нет статистически значимого различия по среднему чеку между группами ни по «сырым», ни по данным после фильтрации аномалий;\n",
    "\n",
    "+ График различия среднего количества заказов между группами сообщает, что результаты группы B улучшились и сейчас почти на 30% лучше.\n",
    "\n",
    "+ График различия среднего чека говорит о том, что результаты группы B лучше группы A и нет значительной тенденции к ухудшению. \n",
    "\n",
    "> Исходя из обнаруженных фактов, тест следует остановить и зафиксировать победу группы В. Продолжать смысла нет, потому как вероятность, что при имеющихся данных сегмент A на самом деле лучше сегмента B — практически нулевая."
   ]
  },
  {
   "cell_type": "markdown",
   "metadata": {},
   "source": [
    "### Общий вывод\n",
    "<a id='section_5'></a>\n",
    "\n",
    "Был проведен исследовательский анализ с целью проверить гипотезы по увеличению выручки интернет-магазина. Входные данные - 9 гипотез с оценками Reach, Impact, Confidence и Effort; покупки пользователей с указанием группы тестирования с 1 по 31 августа 2019 года; количество пользователей для каждой группы тестирования за каждый день наблюдения. Результаты исследования будут полезны отделу маркетинга для повышения доходов компании.\n",
    "\n",
    "В результате удалось сделать следующие выводы:\n",
    "\n",
    "> 1. Пользователи группы В совершают большее количество заказов.\n",
    ">\n",
    "> 2. Средний чек пользователей групп А и В одинаковый.\n",
    ">\n",
    "> 3. Тест следует остановить и зафиксировать победу группы В.\n",
    "\n",
    "**Рекомендации для отдела маркетинга:**\n",
    "\n",
    "В первую очередь реализовать изменения согласно следующим гипотезам:\n",
    "1. Добавить форму подписки на все основные страницы, чтобы собрать базу клиентов для email-рассылок.\n",
    "2. Добавить блоки рекомендаций товаров на сайт интернет магазина, чтобы повысить конверсию и средний чек заказа.\n",
    "2. Добавить два новых канала привлечения трафика, что позволит привлекать на 30% больше пользователей.\n",
    "3. Показать на главной странице баннеры с актуальными акциями и распродажами, чтобы увеличить конверсию.\n",
    "4. Запустить акцию, дающую скидку на товар в день рождения. \n",
    "\n",
    "Порядок перечисления гипотез соответствует их приоритетности.\n",
    "\n",
    "\n",
    "\n",
    "*Анализ выполнялся согласно следующим этапам:*\n",
    "1. Обзор данных.\n",
    "2. Предобработка данных.\n",
    "3. Приоритизация гипотез.\n",
    "4. Анализ А/В теста.\n",
    "5. Написание общего вывода"
   ]
  }
 ],
 "metadata": {
  "ExecuteTimeLog": [
   {
    "duration": 1480,
    "start_time": "2023-03-07T18:16:51.514Z"
   },
   {
    "duration": 45,
    "start_time": "2023-03-07T18:18:48.905Z"
   },
   {
    "duration": 69,
    "start_time": "2023-03-07T18:20:22.559Z"
   },
   {
    "duration": 69,
    "start_time": "2023-03-07T18:20:33.742Z"
   },
   {
    "duration": 680,
    "start_time": "2023-03-07T18:20:45.655Z"
   },
   {
    "duration": 33,
    "start_time": "2023-03-07T18:22:16.572Z"
   },
   {
    "duration": 7,
    "start_time": "2023-03-07T18:22:19.653Z"
   },
   {
    "duration": 12,
    "start_time": "2023-03-07T18:22:22.673Z"
   },
   {
    "duration": 233,
    "start_time": "2023-03-07T18:24:01.874Z"
   },
   {
    "duration": 4,
    "start_time": "2023-03-07T18:25:13.306Z"
   },
   {
    "duration": 76,
    "start_time": "2023-03-07T18:25:16.746Z"
   },
   {
    "duration": 49,
    "start_time": "2023-03-07T18:25:21.415Z"
   },
   {
    "duration": 47,
    "start_time": "2023-03-07T18:25:27.006Z"
   },
   {
    "duration": 69,
    "start_time": "2023-03-07T18:25:40.453Z"
   },
   {
    "duration": 57,
    "start_time": "2023-03-07T18:26:06.302Z"
   },
   {
    "duration": 1065,
    "start_time": "2023-03-07T18:26:13.346Z"
   },
   {
    "duration": 50,
    "start_time": "2023-03-07T18:26:14.413Z"
   },
   {
    "duration": 0,
    "start_time": "2023-03-07T18:26:14.465Z"
   },
   {
    "duration": 0,
    "start_time": "2023-03-07T18:26:14.466Z"
   },
   {
    "duration": 0,
    "start_time": "2023-03-07T18:26:14.467Z"
   },
   {
    "duration": 207,
    "start_time": "2023-03-07T18:26:20.760Z"
   },
   {
    "duration": 11,
    "start_time": "2023-03-07T18:26:24.560Z"
   },
   {
    "duration": 7,
    "start_time": "2023-03-07T18:26:27.539Z"
   },
   {
    "duration": 258,
    "start_time": "2023-03-07T18:29:22.628Z"
   },
   {
    "duration": 11,
    "start_time": "2023-03-07T18:29:24.499Z"
   },
   {
    "duration": 313,
    "start_time": "2023-03-07T18:29:53.624Z"
   },
   {
    "duration": 8,
    "start_time": "2023-03-07T18:29:54.929Z"
   },
   {
    "duration": 6,
    "start_time": "2023-03-07T18:29:59.837Z"
   },
   {
    "duration": 396,
    "start_time": "2023-03-07T18:30:11.043Z"
   },
   {
    "duration": 311,
    "start_time": "2023-03-07T18:30:17.540Z"
   },
   {
    "duration": 6,
    "start_time": "2023-03-07T18:30:18.863Z"
   },
   {
    "duration": 287,
    "start_time": "2023-03-07T18:30:31.920Z"
   },
   {
    "duration": 6,
    "start_time": "2023-03-07T18:30:33.646Z"
   },
   {
    "duration": 312,
    "start_time": "2023-03-07T18:30:48.335Z"
   },
   {
    "duration": 9,
    "start_time": "2023-03-07T18:30:49.769Z"
   },
   {
    "duration": 232,
    "start_time": "2023-03-07T18:34:23.315Z"
   },
   {
    "duration": 7,
    "start_time": "2023-03-07T18:34:27.159Z"
   },
   {
    "duration": 248,
    "start_time": "2023-03-07T18:34:35.309Z"
   },
   {
    "duration": 15,
    "start_time": "2023-03-07T18:34:38.674Z"
   },
   {
    "duration": 228,
    "start_time": "2023-03-07T18:34:48.222Z"
   },
   {
    "duration": 8,
    "start_time": "2023-03-07T18:34:49.339Z"
   },
   {
    "duration": 301,
    "start_time": "2023-03-07T18:34:55.523Z"
   },
   {
    "duration": 10,
    "start_time": "2023-03-07T18:35:49.127Z"
   },
   {
    "duration": 7,
    "start_time": "2023-03-07T18:39:21.350Z"
   },
   {
    "duration": 1252,
    "start_time": "2023-03-07T18:40:43.214Z"
   },
   {
    "duration": 359,
    "start_time": "2023-03-07T18:40:44.470Z"
   },
   {
    "duration": 13,
    "start_time": "2023-03-07T18:40:44.831Z"
   },
   {
    "duration": 8,
    "start_time": "2023-03-07T18:40:44.846Z"
   },
   {
    "duration": 9,
    "start_time": "2023-03-07T18:40:44.857Z"
   },
   {
    "duration": 228,
    "start_time": "2023-03-07T18:41:13.831Z"
   },
   {
    "duration": 8,
    "start_time": "2023-03-07T18:41:16.552Z"
   },
   {
    "duration": 9,
    "start_time": "2023-03-07T18:41:21.242Z"
   },
   {
    "duration": 14,
    "start_time": "2023-03-07T19:18:54.832Z"
   },
   {
    "duration": 123,
    "start_time": "2023-03-07T19:23:11.602Z"
   },
   {
    "duration": 13,
    "start_time": "2023-03-07T19:23:15.520Z"
   },
   {
    "duration": 12,
    "start_time": "2023-03-07T19:27:05.116Z"
   },
   {
    "duration": 11,
    "start_time": "2023-03-07T19:28:39.573Z"
   },
   {
    "duration": 1477,
    "start_time": "2023-03-07T19:28:50.371Z"
   },
   {
    "duration": 101,
    "start_time": "2023-03-07T19:28:51.851Z"
   },
   {
    "duration": 12,
    "start_time": "2023-03-07T19:28:51.954Z"
   },
   {
    "duration": 10,
    "start_time": "2023-03-07T19:28:51.967Z"
   },
   {
    "duration": 79,
    "start_time": "2023-03-07T19:28:51.981Z"
   },
   {
    "duration": 14,
    "start_time": "2023-03-07T19:28:52.062Z"
   },
   {
    "duration": 66,
    "start_time": "2023-03-07T19:28:52.077Z"
   },
   {
    "duration": 13,
    "start_time": "2023-03-07T19:31:36.106Z"
   },
   {
    "duration": 175,
    "start_time": "2023-03-07T19:39:36.101Z"
   },
   {
    "duration": 3,
    "start_time": "2023-03-07T19:40:16.863Z"
   },
   {
    "duration": 12,
    "start_time": "2023-03-07T19:40:25.599Z"
   },
   {
    "duration": 8,
    "start_time": "2023-03-07T19:40:51.034Z"
   },
   {
    "duration": 27,
    "start_time": "2023-03-07T19:40:59.410Z"
   },
   {
    "duration": 4,
    "start_time": "2023-03-07T19:42:41.947Z"
   },
   {
    "duration": 10,
    "start_time": "2023-03-07T19:44:18.661Z"
   },
   {
    "duration": 37,
    "start_time": "2023-03-07T19:44:22.086Z"
   },
   {
    "duration": 4,
    "start_time": "2023-03-07T19:44:28.254Z"
   },
   {
    "duration": 27,
    "start_time": "2023-03-07T19:44:35.610Z"
   },
   {
    "duration": 41,
    "start_time": "2023-03-07T19:44:38.480Z"
   },
   {
    "duration": 9,
    "start_time": "2023-03-07T19:44:40.555Z"
   },
   {
    "duration": 26,
    "start_time": "2023-03-07T19:44:42.288Z"
   },
   {
    "duration": 1360,
    "start_time": "2023-03-07T19:45:04.301Z"
   },
   {
    "duration": 105,
    "start_time": "2023-03-07T19:45:05.663Z"
   },
   {
    "duration": 27,
    "start_time": "2023-03-07T19:45:05.770Z"
   },
   {
    "duration": 65,
    "start_time": "2023-03-07T19:45:05.798Z"
   },
   {
    "duration": 76,
    "start_time": "2023-03-07T19:45:05.865Z"
   },
   {
    "duration": 56,
    "start_time": "2023-03-07T19:45:05.945Z"
   },
   {
    "duration": 62,
    "start_time": "2023-03-07T19:45:06.003Z"
   },
   {
    "duration": 95,
    "start_time": "2023-03-07T19:45:06.067Z"
   },
   {
    "duration": 12,
    "start_time": "2023-03-07T19:45:06.165Z"
   },
   {
    "duration": 83,
    "start_time": "2023-03-07T19:45:06.179Z"
   },
   {
    "duration": 14,
    "start_time": "2023-03-07T19:45:17.146Z"
   },
   {
    "duration": 11,
    "start_time": "2023-03-07T19:45:58.634Z"
   },
   {
    "duration": 6,
    "start_time": "2023-03-07T19:46:20.546Z"
   },
   {
    "duration": 23,
    "start_time": "2023-03-07T19:46:21.706Z"
   },
   {
    "duration": 10,
    "start_time": "2023-03-07T19:46:38.698Z"
   },
   {
    "duration": 71,
    "start_time": "2023-03-07T19:48:22.634Z"
   },
   {
    "duration": 23,
    "start_time": "2023-03-07T19:51:27.802Z"
   },
   {
    "duration": 170,
    "start_time": "2023-03-07T19:51:58.944Z"
   },
   {
    "duration": 10,
    "start_time": "2023-03-07T20:10:41.654Z"
   },
   {
    "duration": 16,
    "start_time": "2023-03-07T20:12:06.497Z"
   },
   {
    "duration": 7,
    "start_time": "2023-03-07T20:17:35.857Z"
   },
   {
    "duration": 44,
    "start_time": "2023-03-08T08:37:44.560Z"
   },
   {
    "duration": 1206,
    "start_time": "2023-03-08T08:37:53.362Z"
   },
   {
    "duration": 195,
    "start_time": "2023-03-08T08:37:54.570Z"
   },
   {
    "duration": 11,
    "start_time": "2023-03-08T08:37:54.766Z"
   },
   {
    "duration": 9,
    "start_time": "2023-03-08T08:37:54.779Z"
   },
   {
    "duration": 15,
    "start_time": "2023-03-08T08:37:54.790Z"
   },
   {
    "duration": 12,
    "start_time": "2023-03-08T08:37:54.807Z"
   },
   {
    "duration": 23,
    "start_time": "2023-03-08T08:37:54.820Z"
   },
   {
    "duration": 12,
    "start_time": "2023-03-08T08:37:54.844Z"
   },
   {
    "duration": 6,
    "start_time": "2023-03-08T08:37:54.857Z"
   },
   {
    "duration": 5,
    "start_time": "2023-03-08T08:37:54.865Z"
   },
   {
    "duration": 7,
    "start_time": "2023-03-08T08:37:54.871Z"
   },
   {
    "duration": 6,
    "start_time": "2023-03-08T08:37:54.879Z"
   },
   {
    "duration": 5,
    "start_time": "2023-03-08T08:37:54.887Z"
   },
   {
    "duration": 63,
    "start_time": "2023-03-08T08:37:54.894Z"
   },
   {
    "duration": 11,
    "start_time": "2023-03-08T08:37:54.958Z"
   },
   {
    "duration": 7,
    "start_time": "2023-03-08T08:37:54.970Z"
   },
   {
    "duration": 71,
    "start_time": "2023-03-08T08:37:54.979Z"
   },
   {
    "duration": 0,
    "start_time": "2023-03-08T08:37:55.052Z"
   },
   {
    "duration": 1,
    "start_time": "2023-03-08T08:37:55.053Z"
   },
   {
    "duration": 8,
    "start_time": "2023-03-08T10:50:27.002Z"
   },
   {
    "duration": 10,
    "start_time": "2023-03-08T10:50:29.142Z"
   },
   {
    "duration": 7,
    "start_time": "2023-03-08T10:51:39.754Z"
   },
   {
    "duration": 11,
    "start_time": "2023-03-08T10:52:02.575Z"
   },
   {
    "duration": 139,
    "start_time": "2023-03-08T10:52:21.738Z"
   },
   {
    "duration": 10,
    "start_time": "2023-03-08T10:52:29.473Z"
   },
   {
    "duration": 8,
    "start_time": "2023-03-08T10:52:36.405Z"
   },
   {
    "duration": 6,
    "start_time": "2023-03-08T10:53:02.912Z"
   },
   {
    "duration": 7,
    "start_time": "2023-03-08T10:53:07.760Z"
   },
   {
    "duration": 5,
    "start_time": "2023-03-08T10:53:19.715Z"
   },
   {
    "duration": 13,
    "start_time": "2023-03-08T10:55:19.917Z"
   },
   {
    "duration": 3,
    "start_time": "2023-03-08T10:57:01.318Z"
   },
   {
    "duration": 6,
    "start_time": "2023-03-08T10:58:19.723Z"
   },
   {
    "duration": 7,
    "start_time": "2023-03-08T10:59:02.226Z"
   },
   {
    "duration": 10,
    "start_time": "2023-03-08T10:59:28.448Z"
   },
   {
    "duration": 111,
    "start_time": "2023-03-08T10:59:39.627Z"
   },
   {
    "duration": 4,
    "start_time": "2023-03-08T11:00:06.330Z"
   },
   {
    "duration": 6,
    "start_time": "2023-03-08T11:00:23.610Z"
   },
   {
    "duration": 50,
    "start_time": "2023-03-09T10:26:18.603Z"
   },
   {
    "duration": 1401,
    "start_time": "2023-03-09T10:26:25.006Z"
   },
   {
    "duration": 190,
    "start_time": "2023-03-09T10:26:26.409Z"
   },
   {
    "duration": 13,
    "start_time": "2023-03-09T10:26:26.601Z"
   },
   {
    "duration": 52,
    "start_time": "2023-03-09T10:26:26.616Z"
   },
   {
    "duration": 39,
    "start_time": "2023-03-09T10:26:26.670Z"
   },
   {
    "duration": 71,
    "start_time": "2023-03-09T10:26:26.711Z"
   },
   {
    "duration": 26,
    "start_time": "2023-03-09T10:26:26.784Z"
   },
   {
    "duration": 83,
    "start_time": "2023-03-09T10:26:26.812Z"
   },
   {
    "duration": 45,
    "start_time": "2023-03-09T10:26:26.897Z"
   },
   {
    "duration": 46,
    "start_time": "2023-03-09T10:26:26.944Z"
   },
   {
    "duration": 34,
    "start_time": "2023-03-09T10:26:26.992Z"
   },
   {
    "duration": 73,
    "start_time": "2023-03-09T10:26:27.028Z"
   },
   {
    "duration": 48,
    "start_time": "2023-03-09T10:26:27.103Z"
   },
   {
    "duration": 102,
    "start_time": "2023-03-09T10:26:27.154Z"
   },
   {
    "duration": 12,
    "start_time": "2023-03-09T10:26:27.258Z"
   },
   {
    "duration": 65,
    "start_time": "2023-03-09T10:26:27.272Z"
   },
   {
    "duration": 80,
    "start_time": "2023-03-09T10:26:27.338Z"
   },
   {
    "duration": 47,
    "start_time": "2023-03-09T10:26:27.421Z"
   },
   {
    "duration": 86,
    "start_time": "2023-03-09T10:26:27.471Z"
   },
   {
    "duration": 59,
    "start_time": "2023-03-09T10:26:27.559Z"
   },
   {
    "duration": 39,
    "start_time": "2023-03-09T10:26:27.620Z"
   },
   {
    "duration": 47,
    "start_time": "2023-03-09T10:26:27.661Z"
   },
   {
    "duration": 44,
    "start_time": "2023-03-09T10:26:27.710Z"
   },
   {
    "duration": 89,
    "start_time": "2023-03-09T10:26:27.755Z"
   },
   {
    "duration": 29,
    "start_time": "2023-03-09T10:26:27.846Z"
   },
   {
    "duration": 9,
    "start_time": "2023-03-09T10:27:59.905Z"
   },
   {
    "duration": 7,
    "start_time": "2023-03-09T10:29:13.308Z"
   },
   {
    "duration": 9,
    "start_time": "2023-03-09T10:30:51.911Z"
   },
   {
    "duration": 9,
    "start_time": "2023-03-09T10:34:41.011Z"
   },
   {
    "duration": 118,
    "start_time": "2023-03-09T15:34:25.021Z"
   },
   {
    "duration": 7,
    "start_time": "2023-03-09T15:39:33.342Z"
   },
   {
    "duration": 26,
    "start_time": "2023-03-09T15:40:25.061Z"
   },
   {
    "duration": 169,
    "start_time": "2023-03-09T15:40:53.404Z"
   },
   {
    "duration": 129,
    "start_time": "2023-03-09T15:41:23.534Z"
   },
   {
    "duration": 261,
    "start_time": "2023-03-09T15:43:10.621Z"
   },
   {
    "duration": 260,
    "start_time": "2023-03-09T15:43:52.539Z"
   },
   {
    "duration": 177,
    "start_time": "2023-03-09T15:46:20.247Z"
   },
   {
    "duration": 348,
    "start_time": "2023-03-09T15:59:20.815Z"
   },
   {
    "duration": 233,
    "start_time": "2023-03-09T16:18:13.144Z"
   },
   {
    "duration": 220,
    "start_time": "2023-03-09T16:18:45.922Z"
   },
   {
    "duration": 265,
    "start_time": "2023-03-09T16:20:07.882Z"
   },
   {
    "duration": 188,
    "start_time": "2023-03-09T16:21:02.471Z"
   },
   {
    "duration": 285,
    "start_time": "2023-03-09T16:21:13.992Z"
   },
   {
    "duration": 204,
    "start_time": "2023-03-09T16:22:55.316Z"
   },
   {
    "duration": 1337,
    "start_time": "2023-03-09T16:26:27.516Z"
   },
   {
    "duration": 72,
    "start_time": "2023-03-09T16:26:28.858Z"
   },
   {
    "duration": 23,
    "start_time": "2023-03-09T16:26:28.931Z"
   },
   {
    "duration": 11,
    "start_time": "2023-03-09T16:26:28.958Z"
   },
   {
    "duration": 11,
    "start_time": "2023-03-09T16:26:28.971Z"
   },
   {
    "duration": 10,
    "start_time": "2023-03-09T16:26:28.984Z"
   },
   {
    "duration": 10,
    "start_time": "2023-03-09T16:26:28.996Z"
   },
   {
    "duration": 40,
    "start_time": "2023-03-09T16:26:29.008Z"
   },
   {
    "duration": 8,
    "start_time": "2023-03-09T16:26:29.049Z"
   },
   {
    "duration": 10,
    "start_time": "2023-03-09T16:26:29.061Z"
   },
   {
    "duration": 7,
    "start_time": "2023-03-09T16:26:29.073Z"
   },
   {
    "duration": 8,
    "start_time": "2023-03-09T16:26:29.082Z"
   },
   {
    "duration": 6,
    "start_time": "2023-03-09T16:26:29.092Z"
   },
   {
    "duration": 92,
    "start_time": "2023-03-09T16:26:29.100Z"
   },
   {
    "duration": 12,
    "start_time": "2023-03-09T16:26:29.195Z"
   },
   {
    "duration": 6,
    "start_time": "2023-03-09T16:26:29.210Z"
   },
   {
    "duration": 27,
    "start_time": "2023-03-09T16:26:29.217Z"
   },
   {
    "duration": 17,
    "start_time": "2023-03-09T16:26:29.246Z"
   },
   {
    "duration": 6,
    "start_time": "2023-03-09T16:26:29.265Z"
   },
   {
    "duration": 13,
    "start_time": "2023-03-09T16:26:29.273Z"
   },
   {
    "duration": 4,
    "start_time": "2023-03-09T16:26:29.288Z"
   },
   {
    "duration": 8,
    "start_time": "2023-03-09T16:26:29.294Z"
   },
   {
    "duration": 8,
    "start_time": "2023-03-09T16:26:29.304Z"
   },
   {
    "duration": 17,
    "start_time": "2023-03-09T16:26:29.344Z"
   },
   {
    "duration": 13,
    "start_time": "2023-03-09T16:26:29.363Z"
   },
   {
    "duration": 12,
    "start_time": "2023-03-09T16:26:29.378Z"
   },
   {
    "duration": 313,
    "start_time": "2023-03-09T16:26:29.391Z"
   },
   {
    "duration": 291,
    "start_time": "2023-03-09T16:26:29.707Z"
   },
   {
    "duration": 201,
    "start_time": "2023-03-09T16:26:30.000Z"
   },
   {
    "duration": 296,
    "start_time": "2023-03-09T16:26:30.202Z"
   },
   {
    "duration": 315,
    "start_time": "2023-03-09T16:26:30.499Z"
   },
   {
    "duration": 213,
    "start_time": "2023-03-09T16:26:42.191Z"
   },
   {
    "duration": 14,
    "start_time": "2023-03-09T16:28:02.505Z"
   },
   {
    "duration": 24,
    "start_time": "2023-03-09T16:28:12.733Z"
   },
   {
    "duration": 237,
    "start_time": "2023-03-09T16:30:20.634Z"
   },
   {
    "duration": 217,
    "start_time": "2023-03-09T16:30:40.250Z"
   },
   {
    "duration": 314,
    "start_time": "2023-03-09T16:30:56.608Z"
   },
   {
    "duration": 197,
    "start_time": "2023-03-09T16:32:52.762Z"
   },
   {
    "duration": 280,
    "start_time": "2023-03-09T16:33:07.402Z"
   },
   {
    "duration": 225,
    "start_time": "2023-03-09T16:36:59.712Z"
   },
   {
    "duration": 14,
    "start_time": "2023-03-09T16:41:03.557Z"
   },
   {
    "duration": 5,
    "start_time": "2023-03-09T16:41:11.058Z"
   },
   {
    "duration": 96,
    "start_time": "2023-03-09T16:41:44.896Z"
   },
   {
    "duration": 7,
    "start_time": "2023-03-09T16:41:59.991Z"
   },
   {
    "duration": 6,
    "start_time": "2023-03-09T16:42:52.057Z"
   },
   {
    "duration": 9,
    "start_time": "2023-03-09T16:44:23.626Z"
   },
   {
    "duration": 11,
    "start_time": "2023-03-09T16:47:55.837Z"
   },
   {
    "duration": 10,
    "start_time": "2023-03-09T16:48:11.342Z"
   },
   {
    "duration": 10,
    "start_time": "2023-03-09T16:50:32.785Z"
   },
   {
    "duration": 9,
    "start_time": "2023-03-09T16:50:43.866Z"
   },
   {
    "duration": 8,
    "start_time": "2023-03-09T16:50:52.163Z"
   },
   {
    "duration": 7,
    "start_time": "2023-03-09T16:50:59.408Z"
   },
   {
    "duration": 9,
    "start_time": "2023-03-09T16:51:05.396Z"
   },
   {
    "duration": 5,
    "start_time": "2023-03-09T16:56:29.508Z"
   },
   {
    "duration": 14,
    "start_time": "2023-03-09T16:57:12.396Z"
   },
   {
    "duration": 7,
    "start_time": "2023-03-09T16:57:23.792Z"
   },
   {
    "duration": 110,
    "start_time": "2023-03-09T18:11:55.968Z"
   },
   {
    "duration": 13,
    "start_time": "2023-03-09T18:12:00.014Z"
   },
   {
    "duration": 77,
    "start_time": "2023-03-09T18:12:10.276Z"
   },
   {
    "duration": 79,
    "start_time": "2023-03-09T18:12:15.273Z"
   },
   {
    "duration": 12,
    "start_time": "2023-03-09T18:12:27.571Z"
   },
   {
    "duration": 73,
    "start_time": "2023-03-09T18:12:38.376Z"
   },
   {
    "duration": 13,
    "start_time": "2023-03-09T18:12:45.614Z"
   },
   {
    "duration": 10,
    "start_time": "2023-03-09T18:21:03.402Z"
   },
   {
    "duration": 11,
    "start_time": "2023-03-09T18:21:09.648Z"
   },
   {
    "duration": 4,
    "start_time": "2023-03-09T18:24:27.107Z"
   },
   {
    "duration": 12,
    "start_time": "2023-03-09T18:24:29.405Z"
   },
   {
    "duration": 5,
    "start_time": "2023-03-09T18:30:40.499Z"
   },
   {
    "duration": 4,
    "start_time": "2023-03-09T18:30:46.967Z"
   },
   {
    "duration": 10,
    "start_time": "2023-03-09T18:31:54.431Z"
   },
   {
    "duration": 5,
    "start_time": "2023-03-09T18:31:56.101Z"
   },
   {
    "duration": 8,
    "start_time": "2023-03-09T18:31:57.130Z"
   },
   {
    "duration": 5,
    "start_time": "2023-03-09T18:32:33.724Z"
   },
   {
    "duration": 269,
    "start_time": "2023-03-09T18:33:14.109Z"
   },
   {
    "duration": 175,
    "start_time": "2023-03-09T18:33:16.587Z"
   },
   {
    "duration": 168,
    "start_time": "2023-03-09T18:33:21.371Z"
   },
   {
    "duration": 261,
    "start_time": "2023-03-09T18:34:07.104Z"
   },
   {
    "duration": 180,
    "start_time": "2023-03-09T18:35:03.774Z"
   },
   {
    "duration": 177,
    "start_time": "2023-03-09T18:35:14.173Z"
   },
   {
    "duration": 199,
    "start_time": "2023-03-09T18:35:38.527Z"
   },
   {
    "duration": 271,
    "start_time": "2023-03-09T18:35:43.662Z"
   },
   {
    "duration": 75,
    "start_time": "2023-03-09T18:35:52.721Z"
   },
   {
    "duration": 193,
    "start_time": "2023-03-09T18:35:58.245Z"
   },
   {
    "duration": 195,
    "start_time": "2023-03-09T18:36:08.250Z"
   },
   {
    "duration": 189,
    "start_time": "2023-03-09T18:38:25.599Z"
   },
   {
    "duration": 248,
    "start_time": "2023-03-09T18:40:18.188Z"
   },
   {
    "duration": 201,
    "start_time": "2023-03-09T18:40:22.710Z"
   },
   {
    "duration": 203,
    "start_time": "2023-03-09T18:40:26.027Z"
   },
   {
    "duration": 192,
    "start_time": "2023-03-09T18:40:28.808Z"
   },
   {
    "duration": 217,
    "start_time": "2023-03-09T18:40:48.336Z"
   },
   {
    "duration": 176,
    "start_time": "2023-03-09T18:40:53.992Z"
   },
   {
    "duration": 191,
    "start_time": "2023-03-09T18:41:15.632Z"
   },
   {
    "duration": 221,
    "start_time": "2023-03-09T18:41:39.522Z"
   },
   {
    "duration": 331,
    "start_time": "2023-03-09T18:41:58.769Z"
   },
   {
    "duration": 186,
    "start_time": "2023-03-09T18:42:05.152Z"
   },
   {
    "duration": 198,
    "start_time": "2023-03-09T18:42:23.876Z"
   },
   {
    "duration": 273,
    "start_time": "2023-03-09T18:42:34.371Z"
   },
   {
    "duration": 285,
    "start_time": "2023-03-09T18:42:49.831Z"
   },
   {
    "duration": 208,
    "start_time": "2023-03-09T18:42:52.282Z"
   },
   {
    "duration": 212,
    "start_time": "2023-03-09T18:42:56.777Z"
   },
   {
    "duration": 332,
    "start_time": "2023-03-09T18:43:03.913Z"
   },
   {
    "duration": 3,
    "start_time": "2023-03-09T18:44:54.698Z"
   },
   {
    "duration": 183,
    "start_time": "2023-03-09T18:45:00.172Z"
   },
   {
    "duration": 177,
    "start_time": "2023-03-09T18:45:18.924Z"
   },
   {
    "duration": 416,
    "start_time": "2023-03-09T18:50:10.003Z"
   },
   {
    "duration": 341,
    "start_time": "2023-03-09T18:50:19.222Z"
   },
   {
    "duration": 316,
    "start_time": "2023-03-09T18:50:24.415Z"
   },
   {
    "duration": 295,
    "start_time": "2023-03-09T18:50:30.294Z"
   },
   {
    "duration": 396,
    "start_time": "2023-03-09T18:52:36.274Z"
   },
   {
    "duration": 320,
    "start_time": "2023-03-09T18:52:46.407Z"
   },
   {
    "duration": 295,
    "start_time": "2023-03-09T18:53:32.661Z"
   },
   {
    "duration": 339,
    "start_time": "2023-03-09T18:53:39.997Z"
   },
   {
    "duration": 13,
    "start_time": "2023-03-09T19:01:11.912Z"
   },
   {
    "duration": 10,
    "start_time": "2023-03-09T19:02:18.160Z"
   },
   {
    "duration": 11,
    "start_time": "2023-03-09T19:02:54.050Z"
   },
   {
    "duration": 12,
    "start_time": "2023-03-09T19:03:47.459Z"
   },
   {
    "duration": 145,
    "start_time": "2023-03-09T19:05:07.111Z"
   },
   {
    "duration": 5,
    "start_time": "2023-03-09T19:07:53.573Z"
   },
   {
    "duration": 142,
    "start_time": "2023-03-09T19:17:43.599Z"
   },
   {
    "duration": 11,
    "start_time": "2023-03-09T19:22:28.280Z"
   },
   {
    "duration": 1179,
    "start_time": "2023-03-09T19:22:47.925Z"
   },
   {
    "duration": 115,
    "start_time": "2023-03-09T19:33:22.627Z"
   },
   {
    "duration": 135,
    "start_time": "2023-03-09T19:34:36.609Z"
   },
   {
    "duration": 248,
    "start_time": "2023-03-09T19:35:08.998Z"
   },
   {
    "duration": 155,
    "start_time": "2023-03-09T19:35:35.618Z"
   },
   {
    "duration": 1174,
    "start_time": "2023-03-09T19:35:37.529Z"
   },
   {
    "duration": 1210,
    "start_time": "2023-03-09T19:36:08.897Z"
   },
   {
    "duration": 1314,
    "start_time": "2023-03-09T19:36:40.112Z"
   },
   {
    "duration": 14,
    "start_time": "2023-03-09T19:36:52.256Z"
   },
   {
    "duration": 3,
    "start_time": "2023-03-09T19:37:55.176Z"
   },
   {
    "duration": 1234,
    "start_time": "2023-03-09T19:38:00.385Z"
   },
   {
    "duration": 84,
    "start_time": "2023-03-09T19:38:01.621Z"
   },
   {
    "duration": 13,
    "start_time": "2023-03-09T19:38:01.706Z"
   },
   {
    "duration": 24,
    "start_time": "2023-03-09T19:38:01.721Z"
   },
   {
    "duration": 30,
    "start_time": "2023-03-09T19:38:01.749Z"
   },
   {
    "duration": 38,
    "start_time": "2023-03-09T19:38:01.781Z"
   },
   {
    "duration": 54,
    "start_time": "2023-03-09T19:38:01.821Z"
   },
   {
    "duration": 46,
    "start_time": "2023-03-09T19:38:01.877Z"
   },
   {
    "duration": 32,
    "start_time": "2023-03-09T19:38:01.925Z"
   },
   {
    "duration": 29,
    "start_time": "2023-03-09T19:38:01.959Z"
   },
   {
    "duration": 19,
    "start_time": "2023-03-09T19:38:01.991Z"
   },
   {
    "duration": 47,
    "start_time": "2023-03-09T19:38:02.012Z"
   },
   {
    "duration": 25,
    "start_time": "2023-03-09T19:38:02.064Z"
   },
   {
    "duration": 80,
    "start_time": "2023-03-09T19:38:02.092Z"
   },
   {
    "duration": 13,
    "start_time": "2023-03-09T19:38:02.175Z"
   },
   {
    "duration": 26,
    "start_time": "2023-03-09T19:38:02.190Z"
   },
   {
    "duration": 42,
    "start_time": "2023-03-09T19:38:02.218Z"
   },
   {
    "duration": 20,
    "start_time": "2023-03-09T19:38:02.262Z"
   },
   {
    "duration": 21,
    "start_time": "2023-03-09T19:38:02.284Z"
   },
   {
    "duration": 19,
    "start_time": "2023-03-09T19:38:02.307Z"
   },
   {
    "duration": 35,
    "start_time": "2023-03-09T19:38:02.329Z"
   },
   {
    "duration": 22,
    "start_time": "2023-03-09T19:38:02.366Z"
   },
   {
    "duration": 8,
    "start_time": "2023-03-09T19:38:02.391Z"
   },
   {
    "duration": 17,
    "start_time": "2023-03-09T19:38:02.400Z"
   },
   {
    "duration": 9,
    "start_time": "2023-03-09T19:38:02.419Z"
   },
   {
    "duration": 15,
    "start_time": "2023-03-09T19:38:02.430Z"
   },
   {
    "duration": 31,
    "start_time": "2023-03-09T19:38:02.446Z"
   },
   {
    "duration": 11,
    "start_time": "2023-03-09T19:38:02.479Z"
   },
   {
    "duration": 32,
    "start_time": "2023-03-09T19:38:02.492Z"
   },
   {
    "duration": 29,
    "start_time": "2023-03-09T19:38:02.526Z"
   },
   {
    "duration": 316,
    "start_time": "2023-03-09T19:38:02.559Z"
   },
   {
    "duration": 310,
    "start_time": "2023-03-09T19:38:02.877Z"
   },
   {
    "duration": 230,
    "start_time": "2023-03-09T19:38:03.189Z"
   },
   {
    "duration": 338,
    "start_time": "2023-03-09T19:38:03.420Z"
   },
   {
    "duration": 234,
    "start_time": "2023-03-09T19:38:03.762Z"
   },
   {
    "duration": 377,
    "start_time": "2023-03-09T19:38:03.998Z"
   },
   {
    "duration": 11,
    "start_time": "2023-03-09T19:38:04.377Z"
   },
   {
    "duration": 210,
    "start_time": "2023-03-09T19:38:04.390Z"
   },
   {
    "duration": 5,
    "start_time": "2023-03-09T19:38:04.602Z"
   },
   {
    "duration": 261,
    "start_time": "2023-03-09T19:38:04.608Z"
   },
   {
    "duration": 136,
    "start_time": "2023-03-09T19:38:04.872Z"
   },
   {
    "duration": 49,
    "start_time": "2023-03-09T19:38:05.010Z"
   },
   {
    "duration": 1385,
    "start_time": "2023-03-09T20:13:24.177Z"
   },
   {
    "duration": 141,
    "start_time": "2023-03-09T20:13:43.762Z"
   },
   {
    "duration": 347,
    "start_time": "2023-03-09T20:15:48.089Z"
   },
   {
    "duration": 283,
    "start_time": "2023-03-09T20:16:36.111Z"
   },
   {
    "duration": 325,
    "start_time": "2023-03-09T20:17:16.365Z"
   },
   {
    "duration": 307,
    "start_time": "2023-03-09T20:17:52.971Z"
   },
   {
    "duration": 391,
    "start_time": "2023-03-09T20:18:50.416Z"
   },
   {
    "duration": 326,
    "start_time": "2023-03-09T20:19:00.488Z"
   },
   {
    "duration": 455,
    "start_time": "2023-03-09T20:19:20.813Z"
   },
   {
    "duration": 370,
    "start_time": "2023-03-09T20:19:30.432Z"
   },
   {
    "duration": 159,
    "start_time": "2023-03-09T20:21:50.365Z"
   },
   {
    "duration": 203,
    "start_time": "2023-03-09T20:31:42.800Z"
   },
   {
    "duration": 231,
    "start_time": "2023-03-09T20:32:07.593Z"
   },
   {
    "duration": 9,
    "start_time": "2023-03-09T20:39:12.946Z"
   },
   {
    "duration": 11,
    "start_time": "2023-03-09T20:45:15.999Z"
   },
   {
    "duration": 10,
    "start_time": "2023-03-09T20:58:40.314Z"
   },
   {
    "duration": 1403,
    "start_time": "2023-03-09T21:00:56.022Z"
   },
   {
    "duration": 10,
    "start_time": "2023-03-09T21:01:06.909Z"
   },
   {
    "duration": 26,
    "start_time": "2023-03-09T21:01:40.082Z"
   },
   {
    "duration": 19,
    "start_time": "2023-03-09T21:03:12.607Z"
   },
   {
    "duration": 364,
    "start_time": "2023-03-09T22:03:15.233Z"
   },
   {
    "duration": 320,
    "start_time": "2023-03-09T22:03:25.360Z"
   },
   {
    "duration": 449,
    "start_time": "2023-03-09T22:04:08.230Z"
   },
   {
    "duration": 87,
    "start_time": "2023-03-09T22:08:56.495Z"
   },
   {
    "duration": 112,
    "start_time": "2023-03-09T22:09:03.682Z"
   },
   {
    "duration": 1423,
    "start_time": "2023-03-10T09:12:49.231Z"
   },
   {
    "duration": 211,
    "start_time": "2023-03-10T09:12:50.656Z"
   },
   {
    "duration": 12,
    "start_time": "2023-03-10T09:12:50.868Z"
   },
   {
    "duration": 15,
    "start_time": "2023-03-10T09:12:50.882Z"
   },
   {
    "duration": 16,
    "start_time": "2023-03-10T09:12:50.899Z"
   },
   {
    "duration": 10,
    "start_time": "2023-03-10T09:12:50.917Z"
   },
   {
    "duration": 14,
    "start_time": "2023-03-10T09:12:50.928Z"
   },
   {
    "duration": 15,
    "start_time": "2023-03-10T09:12:50.943Z"
   },
   {
    "duration": 12,
    "start_time": "2023-03-10T09:12:50.960Z"
   },
   {
    "duration": 11,
    "start_time": "2023-03-10T09:12:50.974Z"
   },
   {
    "duration": 16,
    "start_time": "2023-03-10T09:12:50.987Z"
   },
   {
    "duration": 7,
    "start_time": "2023-03-10T09:12:51.006Z"
   },
   {
    "duration": 9,
    "start_time": "2023-03-10T09:12:51.015Z"
   },
   {
    "duration": 77,
    "start_time": "2023-03-10T09:12:51.026Z"
   },
   {
    "duration": 11,
    "start_time": "2023-03-10T09:12:51.105Z"
   },
   {
    "duration": 21,
    "start_time": "2023-03-10T09:12:51.117Z"
   },
   {
    "duration": 17,
    "start_time": "2023-03-10T09:12:51.140Z"
   },
   {
    "duration": 17,
    "start_time": "2023-03-10T09:12:51.158Z"
   },
   {
    "duration": 10,
    "start_time": "2023-03-10T09:12:51.176Z"
   },
   {
    "duration": 11,
    "start_time": "2023-03-10T09:12:51.188Z"
   },
   {
    "duration": 14,
    "start_time": "2023-03-10T09:12:51.200Z"
   },
   {
    "duration": 9,
    "start_time": "2023-03-10T09:12:51.216Z"
   },
   {
    "duration": 15,
    "start_time": "2023-03-10T09:12:51.226Z"
   },
   {
    "duration": 14,
    "start_time": "2023-03-10T09:12:51.243Z"
   },
   {
    "duration": 7,
    "start_time": "2023-03-10T09:12:51.258Z"
   },
   {
    "duration": 14,
    "start_time": "2023-03-10T09:12:51.266Z"
   },
   {
    "duration": 9,
    "start_time": "2023-03-10T09:12:51.282Z"
   },
   {
    "duration": 5,
    "start_time": "2023-03-10T09:12:51.294Z"
   },
   {
    "duration": 17,
    "start_time": "2023-03-10T09:12:51.300Z"
   },
   {
    "duration": 10,
    "start_time": "2023-03-10T09:12:51.318Z"
   },
   {
    "duration": 280,
    "start_time": "2023-03-10T09:12:51.330Z"
   },
   {
    "duration": 280,
    "start_time": "2023-03-10T09:12:51.611Z"
   },
   {
    "duration": 233,
    "start_time": "2023-03-10T09:12:51.893Z"
   },
   {
    "duration": 344,
    "start_time": "2023-03-10T09:12:52.128Z"
   },
   {
    "duration": 223,
    "start_time": "2023-03-10T09:12:52.474Z"
   },
   {
    "duration": 362,
    "start_time": "2023-03-10T09:12:52.699Z"
   },
   {
    "duration": 11,
    "start_time": "2023-03-10T09:12:53.063Z"
   },
   {
    "duration": 185,
    "start_time": "2023-03-10T09:12:53.076Z"
   },
   {
    "duration": 5,
    "start_time": "2023-03-10T09:12:53.263Z"
   },
   {
    "duration": 156,
    "start_time": "2023-03-10T09:12:53.269Z"
   },
   {
    "duration": 5,
    "start_time": "2023-03-10T09:12:53.428Z"
   },
   {
    "duration": 314,
    "start_time": "2023-03-10T09:12:53.435Z"
   },
   {
    "duration": 196,
    "start_time": "2023-03-10T09:12:53.751Z"
   },
   {
    "duration": 25,
    "start_time": "2023-03-10T09:12:53.949Z"
   },
   {
    "duration": 11,
    "start_time": "2023-03-10T09:12:53.975Z"
   },
   {
    "duration": 34,
    "start_time": "2023-03-10T09:12:53.987Z"
   },
   {
    "duration": 15,
    "start_time": "2023-03-10T09:12:54.023Z"
   },
   {
    "duration": 21,
    "start_time": "2023-03-10T09:12:54.040Z"
   },
   {
    "duration": 13,
    "start_time": "2023-03-10T09:12:54.063Z"
   },
   {
    "duration": 61,
    "start_time": "2023-03-10T11:05:36.842Z"
   },
   {
    "duration": 1549,
    "start_time": "2023-03-10T11:05:44.566Z"
   },
   {
    "duration": 204,
    "start_time": "2023-03-10T11:05:46.118Z"
   },
   {
    "duration": 3,
    "start_time": "2023-03-10T11:05:46.324Z"
   },
   {
    "duration": 24,
    "start_time": "2023-03-10T11:05:46.330Z"
   },
   {
    "duration": 22,
    "start_time": "2023-03-10T11:05:46.356Z"
   },
   {
    "duration": 14,
    "start_time": "2023-03-10T11:05:46.380Z"
   },
   {
    "duration": 15,
    "start_time": "2023-03-10T11:05:46.396Z"
   },
   {
    "duration": 18,
    "start_time": "2023-03-10T11:05:46.413Z"
   },
   {
    "duration": 9,
    "start_time": "2023-03-10T11:05:46.433Z"
   },
   {
    "duration": 14,
    "start_time": "2023-03-10T11:05:46.445Z"
   },
   {
    "duration": 46,
    "start_time": "2023-03-10T11:05:46.461Z"
   },
   {
    "duration": 8,
    "start_time": "2023-03-10T11:05:46.510Z"
   },
   {
    "duration": 6,
    "start_time": "2023-03-10T11:05:46.520Z"
   },
   {
    "duration": 75,
    "start_time": "2023-03-10T11:05:46.528Z"
   },
   {
    "duration": 16,
    "start_time": "2023-03-10T11:05:46.605Z"
   },
   {
    "duration": 15,
    "start_time": "2023-03-10T11:05:46.623Z"
   },
   {
    "duration": 10,
    "start_time": "2023-03-10T11:05:46.640Z"
   },
   {
    "duration": 31,
    "start_time": "2023-03-10T11:05:46.652Z"
   },
   {
    "duration": 13,
    "start_time": "2023-03-10T11:05:46.691Z"
   },
   {
    "duration": 11,
    "start_time": "2023-03-10T11:05:46.706Z"
   },
   {
    "duration": 21,
    "start_time": "2023-03-10T11:05:46.720Z"
   },
   {
    "duration": 10,
    "start_time": "2023-03-10T11:05:46.743Z"
   },
   {
    "duration": 10,
    "start_time": "2023-03-10T11:05:46.755Z"
   },
   {
    "duration": 18,
    "start_time": "2023-03-10T11:05:46.767Z"
   },
   {
    "duration": 14,
    "start_time": "2023-03-10T11:05:46.788Z"
   },
   {
    "duration": 15,
    "start_time": "2023-03-10T11:05:46.804Z"
   },
   {
    "duration": 11,
    "start_time": "2023-03-10T11:05:46.821Z"
   },
   {
    "duration": 10,
    "start_time": "2023-03-10T11:05:46.835Z"
   },
   {
    "duration": 13,
    "start_time": "2023-03-10T11:05:46.847Z"
   },
   {
    "duration": 25,
    "start_time": "2023-03-10T11:05:46.862Z"
   },
   {
    "duration": 345,
    "start_time": "2023-03-10T11:05:46.891Z"
   },
   {
    "duration": 355,
    "start_time": "2023-03-10T11:05:47.238Z"
   },
   {
    "duration": 271,
    "start_time": "2023-03-10T11:05:47.595Z"
   },
   {
    "duration": 373,
    "start_time": "2023-03-10T11:05:47.869Z"
   },
   {
    "duration": 280,
    "start_time": "2023-03-10T11:05:48.243Z"
   },
   {
    "duration": 437,
    "start_time": "2023-03-10T11:05:48.525Z"
   },
   {
    "duration": 21,
    "start_time": "2023-03-10T11:05:48.964Z"
   },
   {
    "duration": 193,
    "start_time": "2023-03-10T11:05:48.988Z"
   },
   {
    "duration": 19,
    "start_time": "2023-03-10T11:05:49.183Z"
   },
   {
    "duration": 199,
    "start_time": "2023-03-10T11:05:49.210Z"
   },
   {
    "duration": 6,
    "start_time": "2023-03-10T11:05:49.411Z"
   },
   {
    "duration": 377,
    "start_time": "2023-03-10T11:05:49.419Z"
   },
   {
    "duration": 161,
    "start_time": "2023-03-10T11:05:49.798Z"
   },
   {
    "duration": 48,
    "start_time": "2023-03-10T11:05:49.961Z"
   },
   {
    "duration": 12,
    "start_time": "2023-03-10T11:05:50.011Z"
   },
   {
    "duration": 17,
    "start_time": "2023-03-10T11:05:50.025Z"
   },
   {
    "duration": 35,
    "start_time": "2023-03-10T11:05:50.044Z"
   },
   {
    "duration": 31,
    "start_time": "2023-03-10T11:05:50.091Z"
   },
   {
    "duration": 18,
    "start_time": "2023-03-10T11:05:50.123Z"
   },
   {
    "duration": 3,
    "start_time": "2023-03-10T11:06:21.320Z"
   },
   {
    "duration": 15,
    "start_time": "2023-03-10T11:06:44.983Z"
   },
   {
    "duration": 9,
    "start_time": "2023-03-10T11:08:24.087Z"
   },
   {
    "duration": 10,
    "start_time": "2023-03-10T11:08:35.419Z"
   },
   {
    "duration": 124,
    "start_time": "2023-03-10T11:09:10.172Z"
   },
   {
    "duration": 10,
    "start_time": "2023-03-10T11:09:19.957Z"
   },
   {
    "duration": 10,
    "start_time": "2023-03-10T11:09:37.291Z"
   },
   {
    "duration": 5,
    "start_time": "2023-03-10T11:16:19.135Z"
   },
   {
    "duration": 5,
    "start_time": "2023-03-10T11:16:28.767Z"
   },
   {
    "duration": 10,
    "start_time": "2023-03-10T11:21:51.804Z"
   },
   {
    "duration": 4,
    "start_time": "2023-03-10T11:22:30.013Z"
   },
   {
    "duration": 6,
    "start_time": "2023-03-10T11:23:36.719Z"
   },
   {
    "duration": 33,
    "start_time": "2023-03-10T11:23:49.672Z"
   },
   {
    "duration": 241,
    "start_time": "2023-03-10T11:25:40.214Z"
   },
   {
    "duration": 160,
    "start_time": "2023-03-10T11:26:50.792Z"
   },
   {
    "duration": 170,
    "start_time": "2023-03-10T11:27:04.938Z"
   },
   {
    "duration": 154,
    "start_time": "2023-03-10T11:27:09.885Z"
   },
   {
    "duration": 25,
    "start_time": "2023-03-10T11:28:37.739Z"
   },
   {
    "duration": 25,
    "start_time": "2023-03-10T11:28:44.422Z"
   },
   {
    "duration": 31,
    "start_time": "2023-03-10T11:30:46.279Z"
   },
   {
    "duration": 26,
    "start_time": "2023-03-10T11:32:28.746Z"
   },
   {
    "duration": 23,
    "start_time": "2023-03-10T11:33:58.466Z"
   },
   {
    "duration": 26,
    "start_time": "2023-03-10T11:34:53.305Z"
   },
   {
    "duration": 18,
    "start_time": "2023-03-10T11:37:46.606Z"
   },
   {
    "duration": 20,
    "start_time": "2023-03-10T11:37:57.811Z"
   },
   {
    "duration": 6,
    "start_time": "2023-03-10T11:39:28.870Z"
   },
   {
    "duration": 11,
    "start_time": "2023-03-10T11:39:36.595Z"
   },
   {
    "duration": 18,
    "start_time": "2023-03-10T11:40:54.360Z"
   },
   {
    "duration": 13,
    "start_time": "2023-03-10T11:42:28.132Z"
   },
   {
    "duration": 14,
    "start_time": "2023-03-10T11:42:42.149Z"
   },
   {
    "duration": 47,
    "start_time": "2023-03-10T11:49:10.212Z"
   },
   {
    "duration": 1401,
    "start_time": "2023-03-10T19:51:22.776Z"
   },
   {
    "duration": 189,
    "start_time": "2023-03-10T19:51:24.179Z"
   },
   {
    "duration": 12,
    "start_time": "2023-03-10T19:51:24.370Z"
   },
   {
    "duration": 12,
    "start_time": "2023-03-10T19:51:24.384Z"
   },
   {
    "duration": 23,
    "start_time": "2023-03-10T19:51:24.398Z"
   },
   {
    "duration": 18,
    "start_time": "2023-03-10T19:51:24.423Z"
   },
   {
    "duration": 29,
    "start_time": "2023-03-10T19:51:24.443Z"
   },
   {
    "duration": 13,
    "start_time": "2023-03-10T19:51:24.473Z"
   },
   {
    "duration": 9,
    "start_time": "2023-03-10T19:51:24.488Z"
   },
   {
    "duration": 8,
    "start_time": "2023-03-10T19:51:24.500Z"
   },
   {
    "duration": 9,
    "start_time": "2023-03-10T19:51:24.509Z"
   },
   {
    "duration": 8,
    "start_time": "2023-03-10T19:51:24.519Z"
   },
   {
    "duration": 5,
    "start_time": "2023-03-10T19:51:24.528Z"
   },
   {
    "duration": 69,
    "start_time": "2023-03-10T19:51:24.534Z"
   },
   {
    "duration": 11,
    "start_time": "2023-03-10T19:51:24.605Z"
   },
   {
    "duration": 5,
    "start_time": "2023-03-10T19:51:24.617Z"
   },
   {
    "duration": 11,
    "start_time": "2023-03-10T19:51:24.624Z"
   },
   {
    "duration": 33,
    "start_time": "2023-03-10T19:51:24.636Z"
   },
   {
    "duration": 9,
    "start_time": "2023-03-10T19:51:24.671Z"
   },
   {
    "duration": 9,
    "start_time": "2023-03-10T19:51:24.681Z"
   },
   {
    "duration": 14,
    "start_time": "2023-03-10T19:51:24.692Z"
   },
   {
    "duration": 16,
    "start_time": "2023-03-10T19:51:24.708Z"
   },
   {
    "duration": 33,
    "start_time": "2023-03-10T19:51:24.725Z"
   },
   {
    "duration": 14,
    "start_time": "2023-03-10T19:51:24.760Z"
   },
   {
    "duration": 10,
    "start_time": "2023-03-10T19:51:24.776Z"
   },
   {
    "duration": 8,
    "start_time": "2023-03-10T19:51:24.788Z"
   },
   {
    "duration": 17,
    "start_time": "2023-03-10T19:51:24.798Z"
   },
   {
    "duration": 26,
    "start_time": "2023-03-10T19:51:24.819Z"
   },
   {
    "duration": 13,
    "start_time": "2023-03-10T19:51:24.846Z"
   },
   {
    "duration": 11,
    "start_time": "2023-03-10T19:51:24.861Z"
   },
   {
    "duration": 288,
    "start_time": "2023-03-10T19:51:24.873Z"
   },
   {
    "duration": 10,
    "start_time": "2023-03-10T19:51:25.163Z"
   },
   {
    "duration": 14,
    "start_time": "2023-03-10T19:51:25.175Z"
   },
   {
    "duration": 287,
    "start_time": "2023-03-10T19:51:25.191Z"
   },
   {
    "duration": 207,
    "start_time": "2023-03-10T19:51:25.481Z"
   },
   {
    "duration": 322,
    "start_time": "2023-03-10T19:51:25.689Z"
   },
   {
    "duration": 210,
    "start_time": "2023-03-10T19:51:26.013Z"
   },
   {
    "duration": 315,
    "start_time": "2023-03-10T19:51:26.224Z"
   },
   {
    "duration": 9,
    "start_time": "2023-03-10T19:51:26.540Z"
   },
   {
    "duration": 150,
    "start_time": "2023-03-10T19:51:26.550Z"
   },
   {
    "duration": 4,
    "start_time": "2023-03-10T19:51:26.702Z"
   },
   {
    "duration": 146,
    "start_time": "2023-03-10T19:51:26.707Z"
   },
   {
    "duration": 202,
    "start_time": "2023-03-10T19:51:26.855Z"
   },
   {
    "duration": 4,
    "start_time": "2023-03-10T19:51:27.058Z"
   },
   {
    "duration": 216,
    "start_time": "2023-03-10T19:51:27.070Z"
   },
   {
    "duration": 142,
    "start_time": "2023-03-10T19:51:27.288Z"
   },
   {
    "duration": 110,
    "start_time": "2023-03-10T19:51:27.432Z"
   },
   {
    "duration": 0,
    "start_time": "2023-03-10T19:51:27.544Z"
   },
   {
    "duration": 0,
    "start_time": "2023-03-10T19:51:27.545Z"
   },
   {
    "duration": 0,
    "start_time": "2023-03-10T19:51:27.546Z"
   },
   {
    "duration": 0,
    "start_time": "2023-03-10T19:51:27.548Z"
   },
   {
    "duration": 0,
    "start_time": "2023-03-10T19:51:27.549Z"
   },
   {
    "duration": 10,
    "start_time": "2023-03-10T19:57:39.001Z"
   },
   {
    "duration": 9,
    "start_time": "2023-03-10T19:57:42.281Z"
   },
   {
    "duration": 9,
    "start_time": "2023-03-10T19:58:02.452Z"
   },
   {
    "duration": 26,
    "start_time": "2023-03-10T19:58:04.326Z"
   },
   {
    "duration": 14,
    "start_time": "2023-03-10T19:58:11.407Z"
   },
   {
    "duration": 59,
    "start_time": "2023-03-10T21:13:21.897Z"
   },
   {
    "duration": 8,
    "start_time": "2023-03-10T21:13:32.394Z"
   },
   {
    "duration": 1410,
    "start_time": "2023-03-10T21:13:38.103Z"
   },
   {
    "duration": 196,
    "start_time": "2023-03-10T21:13:39.515Z"
   },
   {
    "duration": 12,
    "start_time": "2023-03-10T21:13:39.713Z"
   },
   {
    "duration": 20,
    "start_time": "2023-03-10T21:13:39.728Z"
   },
   {
    "duration": 13,
    "start_time": "2023-03-10T21:13:39.750Z"
   },
   {
    "duration": 12,
    "start_time": "2023-03-10T21:13:39.764Z"
   },
   {
    "duration": 10,
    "start_time": "2023-03-10T21:13:39.777Z"
   },
   {
    "duration": 15,
    "start_time": "2023-03-10T21:13:39.789Z"
   },
   {
    "duration": 7,
    "start_time": "2023-03-10T21:13:39.806Z"
   },
   {
    "duration": 16,
    "start_time": "2023-03-10T21:13:39.815Z"
   },
   {
    "duration": 6,
    "start_time": "2023-03-10T21:13:39.832Z"
   },
   {
    "duration": 16,
    "start_time": "2023-03-10T21:13:39.839Z"
   },
   {
    "duration": 9,
    "start_time": "2023-03-10T21:13:39.857Z"
   },
   {
    "duration": 64,
    "start_time": "2023-03-10T21:13:39.867Z"
   },
   {
    "duration": 13,
    "start_time": "2023-03-10T21:13:39.932Z"
   },
   {
    "duration": 16,
    "start_time": "2023-03-10T21:13:39.946Z"
   },
   {
    "duration": 8,
    "start_time": "2023-03-10T21:13:39.964Z"
   },
   {
    "duration": 12,
    "start_time": "2023-03-10T21:13:39.973Z"
   },
   {
    "duration": 11,
    "start_time": "2023-03-10T21:13:39.987Z"
   },
   {
    "duration": 16,
    "start_time": "2023-03-10T21:13:39.999Z"
   },
   {
    "duration": 21,
    "start_time": "2023-03-10T21:13:40.017Z"
   },
   {
    "duration": 12,
    "start_time": "2023-03-10T21:13:40.041Z"
   },
   {
    "duration": 7,
    "start_time": "2023-03-10T21:13:40.054Z"
   },
   {
    "duration": 18,
    "start_time": "2023-03-10T21:13:40.063Z"
   },
   {
    "duration": 8,
    "start_time": "2023-03-10T21:13:40.082Z"
   },
   {
    "duration": 17,
    "start_time": "2023-03-10T21:13:40.091Z"
   },
   {
    "duration": 13,
    "start_time": "2023-03-10T21:13:40.109Z"
   },
   {
    "duration": 9,
    "start_time": "2023-03-10T21:13:40.127Z"
   },
   {
    "duration": 22,
    "start_time": "2023-03-10T21:13:40.138Z"
   },
   {
    "duration": 11,
    "start_time": "2023-03-10T21:13:40.162Z"
   },
   {
    "duration": 301,
    "start_time": "2023-03-10T21:13:40.175Z"
   },
   {
    "duration": 5,
    "start_time": "2023-03-10T21:13:40.478Z"
   },
   {
    "duration": 32,
    "start_time": "2023-03-10T21:13:40.484Z"
   },
   {
    "duration": 327,
    "start_time": "2023-03-10T21:13:40.518Z"
   },
   {
    "duration": 234,
    "start_time": "2023-03-10T21:13:40.846Z"
   },
   {
    "duration": 381,
    "start_time": "2023-03-10T21:13:41.082Z"
   },
   {
    "duration": 232,
    "start_time": "2023-03-10T21:13:41.465Z"
   },
   {
    "duration": 417,
    "start_time": "2023-03-10T21:13:41.699Z"
   },
   {
    "duration": 16,
    "start_time": "2023-03-10T21:13:42.119Z"
   },
   {
    "duration": 168,
    "start_time": "2023-03-10T21:13:42.137Z"
   },
   {
    "duration": 5,
    "start_time": "2023-03-10T21:13:42.307Z"
   },
   {
    "duration": 163,
    "start_time": "2023-03-10T21:13:42.314Z"
   },
   {
    "duration": 252,
    "start_time": "2023-03-10T21:13:42.479Z"
   },
   {
    "duration": 5,
    "start_time": "2023-03-10T21:13:42.733Z"
   },
   {
    "duration": 266,
    "start_time": "2023-03-10T21:13:42.740Z"
   },
   {
    "duration": 162,
    "start_time": "2023-03-10T21:13:43.008Z"
   },
   {
    "duration": 149,
    "start_time": "2023-03-10T21:13:43.172Z"
   },
   {
    "duration": 0,
    "start_time": "2023-03-10T21:13:43.323Z"
   },
   {
    "duration": 0,
    "start_time": "2023-03-10T21:13:43.325Z"
   },
   {
    "duration": 0,
    "start_time": "2023-03-10T21:13:43.331Z"
   },
   {
    "duration": 0,
    "start_time": "2023-03-10T21:13:43.332Z"
   },
   {
    "duration": 0,
    "start_time": "2023-03-10T21:13:43.333Z"
   },
   {
    "duration": 12,
    "start_time": "2023-03-10T21:14:06.871Z"
   },
   {
    "duration": 333,
    "start_time": "2023-03-10T21:14:15.819Z"
   },
   {
    "duration": 15,
    "start_time": "2023-03-10T21:14:23.520Z"
   },
   {
    "duration": 12,
    "start_time": "2023-03-10T21:14:30.463Z"
   },
   {
    "duration": 11,
    "start_time": "2023-03-10T21:14:44.528Z"
   },
   {
    "duration": 1233,
    "start_time": "2023-03-10T21:14:52.701Z"
   },
   {
    "duration": 79,
    "start_time": "2023-03-10T21:14:53.937Z"
   },
   {
    "duration": 12,
    "start_time": "2023-03-10T21:14:54.017Z"
   },
   {
    "duration": 14,
    "start_time": "2023-03-10T21:14:54.031Z"
   },
   {
    "duration": 19,
    "start_time": "2023-03-10T21:14:54.046Z"
   },
   {
    "duration": 23,
    "start_time": "2023-03-10T21:14:54.067Z"
   },
   {
    "duration": 15,
    "start_time": "2023-03-10T21:14:54.092Z"
   },
   {
    "duration": 28,
    "start_time": "2023-03-10T21:14:54.109Z"
   },
   {
    "duration": 34,
    "start_time": "2023-03-10T21:14:54.139Z"
   },
   {
    "duration": 9,
    "start_time": "2023-03-10T21:14:54.177Z"
   },
   {
    "duration": 10,
    "start_time": "2023-03-10T21:14:54.189Z"
   },
   {
    "duration": 23,
    "start_time": "2023-03-10T21:14:54.201Z"
   },
   {
    "duration": 10,
    "start_time": "2023-03-10T21:14:54.225Z"
   },
   {
    "duration": 76,
    "start_time": "2023-03-10T21:14:54.236Z"
   },
   {
    "duration": 11,
    "start_time": "2023-03-10T21:14:54.314Z"
   },
   {
    "duration": 19,
    "start_time": "2023-03-10T21:14:54.327Z"
   },
   {
    "duration": 47,
    "start_time": "2023-03-10T21:14:54.348Z"
   },
   {
    "duration": 36,
    "start_time": "2023-03-10T21:14:54.397Z"
   },
   {
    "duration": 10,
    "start_time": "2023-03-10T21:14:54.436Z"
   },
   {
    "duration": 26,
    "start_time": "2023-03-10T21:14:54.449Z"
   },
   {
    "duration": 14,
    "start_time": "2023-03-10T21:14:54.477Z"
   },
   {
    "duration": 26,
    "start_time": "2023-03-10T21:14:54.493Z"
   },
   {
    "duration": 8,
    "start_time": "2023-03-10T21:14:54.521Z"
   },
   {
    "duration": 16,
    "start_time": "2023-03-10T21:14:54.531Z"
   },
   {
    "duration": 22,
    "start_time": "2023-03-10T21:14:54.549Z"
   },
   {
    "duration": 9,
    "start_time": "2023-03-10T21:14:54.573Z"
   },
   {
    "duration": 9,
    "start_time": "2023-03-10T21:14:54.584Z"
   },
   {
    "duration": 12,
    "start_time": "2023-03-10T21:14:54.597Z"
   },
   {
    "duration": 25,
    "start_time": "2023-03-10T21:14:54.611Z"
   },
   {
    "duration": 16,
    "start_time": "2023-03-10T21:14:54.639Z"
   },
   {
    "duration": 304,
    "start_time": "2023-03-10T21:14:54.658Z"
   },
   {
    "duration": 5,
    "start_time": "2023-03-10T21:14:54.963Z"
   },
   {
    "duration": 17,
    "start_time": "2023-03-10T21:14:54.969Z"
   },
   {
    "duration": 290,
    "start_time": "2023-03-10T21:14:54.988Z"
   },
   {
    "duration": 205,
    "start_time": "2023-03-10T21:14:55.279Z"
   },
   {
    "duration": 352,
    "start_time": "2023-03-10T21:14:55.487Z"
   },
   {
    "duration": 265,
    "start_time": "2023-03-10T21:14:55.841Z"
   },
   {
    "duration": 375,
    "start_time": "2023-03-10T21:14:56.108Z"
   },
   {
    "duration": 17,
    "start_time": "2023-03-10T21:14:56.486Z"
   },
   {
    "duration": 172,
    "start_time": "2023-03-10T21:14:56.505Z"
   },
   {
    "duration": 5,
    "start_time": "2023-03-10T21:14:56.678Z"
   },
   {
    "duration": 181,
    "start_time": "2023-03-10T21:14:56.685Z"
   },
   {
    "duration": 271,
    "start_time": "2023-03-10T21:14:56.869Z"
   },
   {
    "duration": 5,
    "start_time": "2023-03-10T21:14:57.142Z"
   },
   {
    "duration": 249,
    "start_time": "2023-03-10T21:14:57.150Z"
   },
   {
    "duration": 164,
    "start_time": "2023-03-10T21:14:57.401Z"
   },
   {
    "duration": 105,
    "start_time": "2023-03-10T21:14:57.567Z"
   },
   {
    "duration": 0,
    "start_time": "2023-03-10T21:14:57.673Z"
   },
   {
    "duration": 0,
    "start_time": "2023-03-10T21:14:57.675Z"
   },
   {
    "duration": 0,
    "start_time": "2023-03-10T21:14:57.676Z"
   },
   {
    "duration": 0,
    "start_time": "2023-03-10T21:14:57.678Z"
   },
   {
    "duration": 0,
    "start_time": "2023-03-10T21:14:57.679Z"
   },
   {
    "duration": 12,
    "start_time": "2023-03-10T21:15:14.670Z"
   },
   {
    "duration": 13,
    "start_time": "2023-03-10T21:15:22.417Z"
   },
   {
    "duration": 16,
    "start_time": "2023-03-10T21:15:26.165Z"
   },
   {
    "duration": 13,
    "start_time": "2023-03-10T21:15:31.185Z"
   },
   {
    "duration": 22,
    "start_time": "2023-03-10T21:15:38.916Z"
   },
   {
    "duration": 11,
    "start_time": "2023-03-10T21:15:45.299Z"
   },
   {
    "duration": 9,
    "start_time": "2023-03-10T21:16:00.264Z"
   },
   {
    "duration": 12,
    "start_time": "2023-03-10T21:16:06.129Z"
   },
   {
    "duration": 14,
    "start_time": "2023-03-10T21:16:16.879Z"
   },
   {
    "duration": 238,
    "start_time": "2023-03-10T21:16:37.447Z"
   },
   {
    "duration": 6,
    "start_time": "2023-03-10T21:16:53.105Z"
   },
   {
    "duration": 5,
    "start_time": "2023-03-10T21:16:59.064Z"
   },
   {
    "duration": 852,
    "start_time": "2023-03-10T21:22:37.175Z"
   },
   {
    "duration": 26,
    "start_time": "2023-03-10T21:23:16.292Z"
   },
   {
    "duration": 1166,
    "start_time": "2023-03-10T21:23:28.005Z"
   },
   {
    "duration": 89,
    "start_time": "2023-03-10T21:23:29.173Z"
   },
   {
    "duration": 13,
    "start_time": "2023-03-10T21:23:29.264Z"
   },
   {
    "duration": 11,
    "start_time": "2023-03-10T21:23:29.280Z"
   },
   {
    "duration": 14,
    "start_time": "2023-03-10T21:23:29.293Z"
   },
   {
    "duration": 17,
    "start_time": "2023-03-10T21:23:29.308Z"
   },
   {
    "duration": 25,
    "start_time": "2023-03-10T21:23:29.326Z"
   },
   {
    "duration": 15,
    "start_time": "2023-03-10T21:23:29.352Z"
   },
   {
    "duration": 11,
    "start_time": "2023-03-10T21:23:29.369Z"
   },
   {
    "duration": 7,
    "start_time": "2023-03-10T21:23:29.383Z"
   },
   {
    "duration": 16,
    "start_time": "2023-03-10T21:23:29.391Z"
   },
   {
    "duration": 7,
    "start_time": "2023-03-10T21:23:29.409Z"
   },
   {
    "duration": 5,
    "start_time": "2023-03-10T21:23:29.418Z"
   },
   {
    "duration": 67,
    "start_time": "2023-03-10T21:23:29.425Z"
   },
   {
    "duration": 11,
    "start_time": "2023-03-10T21:23:29.494Z"
   },
   {
    "duration": 8,
    "start_time": "2023-03-10T21:23:29.507Z"
   },
   {
    "duration": 9,
    "start_time": "2023-03-10T21:23:29.517Z"
   },
   {
    "duration": 20,
    "start_time": "2023-03-10T21:23:29.527Z"
   },
   {
    "duration": 3,
    "start_time": "2023-03-10T21:23:29.549Z"
   },
   {
    "duration": 7,
    "start_time": "2023-03-10T21:23:29.554Z"
   },
   {
    "duration": 9,
    "start_time": "2023-03-10T21:23:29.562Z"
   },
   {
    "duration": 7,
    "start_time": "2023-03-10T21:23:29.572Z"
   },
   {
    "duration": 19,
    "start_time": "2023-03-10T21:23:29.580Z"
   },
   {
    "duration": 17,
    "start_time": "2023-03-10T21:23:29.600Z"
   },
   {
    "duration": 3,
    "start_time": "2023-03-10T21:23:29.619Z"
   },
   {
    "duration": 16,
    "start_time": "2023-03-10T21:23:29.623Z"
   },
   {
    "duration": 14,
    "start_time": "2023-03-10T21:23:29.640Z"
   },
   {
    "duration": 13,
    "start_time": "2023-03-10T21:23:29.658Z"
   },
   {
    "duration": 12,
    "start_time": "2023-03-10T21:23:29.673Z"
   },
   {
    "duration": 20,
    "start_time": "2023-03-10T21:23:29.686Z"
   },
   {
    "duration": 280,
    "start_time": "2023-03-10T21:23:29.708Z"
   },
   {
    "duration": 5,
    "start_time": "2023-03-10T21:23:29.989Z"
   },
   {
    "duration": 31,
    "start_time": "2023-03-10T21:23:29.995Z"
   },
   {
    "duration": 320,
    "start_time": "2023-03-10T21:23:30.028Z"
   },
   {
    "duration": 231,
    "start_time": "2023-03-10T21:23:30.350Z"
   },
   {
    "duration": 304,
    "start_time": "2023-03-10T21:23:30.582Z"
   },
   {
    "duration": 238,
    "start_time": "2023-03-10T21:23:30.888Z"
   },
   {
    "duration": 354,
    "start_time": "2023-03-10T21:23:31.128Z"
   },
   {
    "duration": 12,
    "start_time": "2023-03-10T21:23:31.485Z"
   },
   {
    "duration": 208,
    "start_time": "2023-03-10T21:23:31.498Z"
   },
   {
    "duration": 5,
    "start_time": "2023-03-10T21:23:31.707Z"
   },
   {
    "duration": 200,
    "start_time": "2023-03-10T21:23:31.713Z"
   },
   {
    "duration": 227,
    "start_time": "2023-03-10T21:23:31.915Z"
   },
   {
    "duration": 5,
    "start_time": "2023-03-10T21:23:32.144Z"
   },
   {
    "duration": 231,
    "start_time": "2023-03-10T21:23:32.151Z"
   },
   {
    "duration": 140,
    "start_time": "2023-03-10T21:23:32.384Z"
   },
   {
    "duration": 28,
    "start_time": "2023-03-10T21:23:32.526Z"
   },
   {
    "duration": 13,
    "start_time": "2023-03-10T21:23:32.556Z"
   },
   {
    "duration": 12,
    "start_time": "2023-03-10T21:23:32.570Z"
   },
   {
    "duration": 9,
    "start_time": "2023-03-10T21:23:32.583Z"
   },
   {
    "duration": 42,
    "start_time": "2023-03-10T21:23:32.593Z"
   },
   {
    "duration": 14,
    "start_time": "2023-03-10T21:23:32.637Z"
   },
   {
    "duration": 12,
    "start_time": "2023-03-10T21:24:39.995Z"
   },
   {
    "duration": 13,
    "start_time": "2023-03-10T21:24:44.365Z"
   },
   {
    "duration": 26,
    "start_time": "2023-03-10T21:25:42.556Z"
   },
   {
    "duration": 11,
    "start_time": "2023-03-10T21:25:50.502Z"
   },
   {
    "duration": 20,
    "start_time": "2023-03-10T21:26:05.303Z"
   },
   {
    "duration": 15,
    "start_time": "2023-03-10T21:26:48.287Z"
   },
   {
    "duration": 1156,
    "start_time": "2023-03-10T21:27:01.246Z"
   },
   {
    "duration": 90,
    "start_time": "2023-03-10T21:27:02.404Z"
   },
   {
    "duration": 15,
    "start_time": "2023-03-10T21:27:02.496Z"
   },
   {
    "duration": 15,
    "start_time": "2023-03-10T21:27:02.513Z"
   },
   {
    "duration": 25,
    "start_time": "2023-03-10T21:27:02.529Z"
   },
   {
    "duration": 21,
    "start_time": "2023-03-10T21:27:02.556Z"
   },
   {
    "duration": 25,
    "start_time": "2023-03-10T21:27:02.579Z"
   },
   {
    "duration": 19,
    "start_time": "2023-03-10T21:27:02.606Z"
   },
   {
    "duration": 30,
    "start_time": "2023-03-10T21:27:02.627Z"
   },
   {
    "duration": 11,
    "start_time": "2023-03-10T21:27:02.660Z"
   },
   {
    "duration": 23,
    "start_time": "2023-03-10T21:27:02.673Z"
   },
   {
    "duration": 11,
    "start_time": "2023-03-10T21:27:02.698Z"
   },
   {
    "duration": 8,
    "start_time": "2023-03-10T21:27:02.711Z"
   },
   {
    "duration": 62,
    "start_time": "2023-03-10T21:27:02.721Z"
   },
   {
    "duration": 14,
    "start_time": "2023-03-10T21:27:02.784Z"
   },
   {
    "duration": 10,
    "start_time": "2023-03-10T21:27:02.800Z"
   },
   {
    "duration": 34,
    "start_time": "2023-03-10T21:27:02.812Z"
   },
   {
    "duration": 9,
    "start_time": "2023-03-10T21:27:02.848Z"
   },
   {
    "duration": 6,
    "start_time": "2023-03-10T21:27:02.859Z"
   },
   {
    "duration": 20,
    "start_time": "2023-03-10T21:27:02.866Z"
   },
   {
    "duration": 26,
    "start_time": "2023-03-10T21:27:02.888Z"
   },
   {
    "duration": 28,
    "start_time": "2023-03-10T21:27:02.916Z"
   },
   {
    "duration": 22,
    "start_time": "2023-03-10T21:27:02.946Z"
   },
   {
    "duration": 24,
    "start_time": "2023-03-10T21:27:02.969Z"
   },
   {
    "duration": 7,
    "start_time": "2023-03-10T21:27:02.995Z"
   },
   {
    "duration": 11,
    "start_time": "2023-03-10T21:27:03.004Z"
   },
   {
    "duration": 30,
    "start_time": "2023-03-10T21:27:03.017Z"
   },
   {
    "duration": 36,
    "start_time": "2023-03-10T21:27:03.051Z"
   },
   {
    "duration": 33,
    "start_time": "2023-03-10T21:27:03.089Z"
   },
   {
    "duration": 34,
    "start_time": "2023-03-10T21:27:03.124Z"
   },
   {
    "duration": 283,
    "start_time": "2023-03-10T21:27:03.160Z"
   },
   {
    "duration": 4,
    "start_time": "2023-03-10T21:27:03.446Z"
   },
   {
    "duration": 13,
    "start_time": "2023-03-10T21:27:03.452Z"
   },
   {
    "duration": 288,
    "start_time": "2023-03-10T21:27:03.467Z"
   },
   {
    "duration": 226,
    "start_time": "2023-03-10T21:27:03.758Z"
   },
   {
    "duration": 312,
    "start_time": "2023-03-10T21:27:03.986Z"
   },
   {
    "duration": 227,
    "start_time": "2023-03-10T21:27:04.300Z"
   },
   {
    "duration": 345,
    "start_time": "2023-03-10T21:27:04.531Z"
   },
   {
    "duration": 15,
    "start_time": "2023-03-10T21:27:04.878Z"
   },
   {
    "duration": 171,
    "start_time": "2023-03-10T21:27:04.895Z"
   },
   {
    "duration": 5,
    "start_time": "2023-03-10T21:27:05.068Z"
   },
   {
    "duration": 176,
    "start_time": "2023-03-10T21:27:05.075Z"
   },
   {
    "duration": 247,
    "start_time": "2023-03-10T21:27:05.253Z"
   },
   {
    "duration": 4,
    "start_time": "2023-03-10T21:27:05.502Z"
   },
   {
    "duration": 252,
    "start_time": "2023-03-10T21:27:05.507Z"
   },
   {
    "duration": 286,
    "start_time": "2023-03-10T21:27:05.761Z"
   },
   {
    "duration": 44,
    "start_time": "2023-03-10T21:27:06.051Z"
   },
   {
    "duration": 14,
    "start_time": "2023-03-10T21:27:06.098Z"
   },
   {
    "duration": 35,
    "start_time": "2023-03-10T21:27:06.114Z"
   },
   {
    "duration": 26,
    "start_time": "2023-03-10T21:27:06.151Z"
   },
   {
    "duration": 37,
    "start_time": "2023-03-10T21:27:06.179Z"
   },
   {
    "duration": 20,
    "start_time": "2023-03-10T21:27:06.218Z"
   },
   {
    "duration": 1191,
    "start_time": "2023-03-10T21:32:17.509Z"
   },
   {
    "duration": 86,
    "start_time": "2023-03-10T21:32:18.702Z"
   },
   {
    "duration": 14,
    "start_time": "2023-03-10T21:32:18.790Z"
   },
   {
    "duration": 17,
    "start_time": "2023-03-10T21:32:18.807Z"
   },
   {
    "duration": 16,
    "start_time": "2023-03-10T21:32:18.826Z"
   },
   {
    "duration": 15,
    "start_time": "2023-03-10T21:32:18.849Z"
   },
   {
    "duration": 12,
    "start_time": "2023-03-10T21:32:18.866Z"
   },
   {
    "duration": 14,
    "start_time": "2023-03-10T21:32:18.880Z"
   },
   {
    "duration": 5,
    "start_time": "2023-03-10T21:32:18.896Z"
   },
   {
    "duration": 6,
    "start_time": "2023-03-10T21:32:18.904Z"
   },
   {
    "duration": 11,
    "start_time": "2023-03-10T21:32:18.912Z"
   },
   {
    "duration": 14,
    "start_time": "2023-03-10T21:32:18.925Z"
   },
   {
    "duration": 11,
    "start_time": "2023-03-10T21:32:18.941Z"
   },
   {
    "duration": 53,
    "start_time": "2023-03-10T21:32:18.953Z"
   },
   {
    "duration": 33,
    "start_time": "2023-03-10T21:32:19.007Z"
   },
   {
    "duration": 14,
    "start_time": "2023-03-10T21:32:19.042Z"
   },
   {
    "duration": 5,
    "start_time": "2023-03-10T21:32:19.057Z"
   },
   {
    "duration": 9,
    "start_time": "2023-03-10T21:32:19.064Z"
   },
   {
    "duration": 4,
    "start_time": "2023-03-10T21:32:19.075Z"
   },
   {
    "duration": 8,
    "start_time": "2023-03-10T21:32:19.081Z"
   },
   {
    "duration": 9,
    "start_time": "2023-03-10T21:32:19.090Z"
   },
   {
    "duration": 6,
    "start_time": "2023-03-10T21:32:19.100Z"
   },
   {
    "duration": 36,
    "start_time": "2023-03-10T21:32:19.108Z"
   },
   {
    "duration": 17,
    "start_time": "2023-03-10T21:32:19.146Z"
   },
   {
    "duration": 6,
    "start_time": "2023-03-10T21:32:19.165Z"
   },
   {
    "duration": 9,
    "start_time": "2023-03-10T21:32:19.173Z"
   },
   {
    "duration": 5,
    "start_time": "2023-03-10T21:32:19.184Z"
   },
   {
    "duration": 5,
    "start_time": "2023-03-10T21:32:19.195Z"
   },
   {
    "duration": 46,
    "start_time": "2023-03-10T21:32:19.201Z"
   },
   {
    "duration": 12,
    "start_time": "2023-03-10T21:32:19.248Z"
   },
   {
    "duration": 295,
    "start_time": "2023-03-10T21:32:19.261Z"
   },
   {
    "duration": 5,
    "start_time": "2023-03-10T21:32:19.558Z"
   },
   {
    "duration": 6,
    "start_time": "2023-03-10T21:32:19.565Z"
   },
   {
    "duration": 322,
    "start_time": "2023-03-10T21:32:19.573Z"
   },
   {
    "duration": 238,
    "start_time": "2023-03-10T21:32:19.897Z"
   },
   {
    "duration": 320,
    "start_time": "2023-03-10T21:32:20.145Z"
   },
   {
    "duration": 239,
    "start_time": "2023-03-10T21:32:20.468Z"
   },
   {
    "duration": 372,
    "start_time": "2023-03-10T21:32:20.709Z"
   },
   {
    "duration": 14,
    "start_time": "2023-03-10T21:32:21.082Z"
   },
   {
    "duration": 173,
    "start_time": "2023-03-10T21:32:21.097Z"
   },
   {
    "duration": 5,
    "start_time": "2023-03-10T21:32:21.272Z"
   },
   {
    "duration": 169,
    "start_time": "2023-03-10T21:32:21.278Z"
   },
   {
    "duration": 238,
    "start_time": "2023-03-10T21:32:21.449Z"
   },
   {
    "duration": 4,
    "start_time": "2023-03-10T21:32:21.689Z"
   },
   {
    "duration": 249,
    "start_time": "2023-03-10T21:32:21.695Z"
   },
   {
    "duration": 131,
    "start_time": "2023-03-10T21:32:21.946Z"
   },
   {
    "duration": 27,
    "start_time": "2023-03-10T21:32:22.079Z"
   },
   {
    "duration": 35,
    "start_time": "2023-03-10T21:32:22.108Z"
   },
   {
    "duration": 20,
    "start_time": "2023-03-10T21:32:22.147Z"
   },
   {
    "duration": 13,
    "start_time": "2023-03-10T21:32:22.170Z"
   },
   {
    "duration": 37,
    "start_time": "2023-03-10T21:32:22.185Z"
   },
   {
    "duration": 20,
    "start_time": "2023-03-10T21:32:22.224Z"
   },
   {
    "duration": 1189,
    "start_time": "2023-03-10T21:36:56.731Z"
   },
   {
    "duration": 87,
    "start_time": "2023-03-10T21:36:57.922Z"
   },
   {
    "duration": 12,
    "start_time": "2023-03-10T21:36:58.014Z"
   },
   {
    "duration": 15,
    "start_time": "2023-03-10T21:36:58.027Z"
   },
   {
    "duration": 11,
    "start_time": "2023-03-10T21:36:58.046Z"
   },
   {
    "duration": 12,
    "start_time": "2023-03-10T21:36:58.059Z"
   },
   {
    "duration": 10,
    "start_time": "2023-03-10T21:36:58.073Z"
   },
   {
    "duration": 17,
    "start_time": "2023-03-10T21:36:58.085Z"
   },
   {
    "duration": 10,
    "start_time": "2023-03-10T21:36:58.104Z"
   },
   {
    "duration": 11,
    "start_time": "2023-03-10T21:36:58.116Z"
   },
   {
    "duration": 24,
    "start_time": "2023-03-10T21:36:58.130Z"
   },
   {
    "duration": 9,
    "start_time": "2023-03-10T21:36:58.156Z"
   },
   {
    "duration": 8,
    "start_time": "2023-03-10T21:36:58.167Z"
   },
   {
    "duration": 51,
    "start_time": "2023-03-10T21:36:58.176Z"
   },
   {
    "duration": 21,
    "start_time": "2023-03-10T21:36:58.229Z"
   },
   {
    "duration": 10,
    "start_time": "2023-03-10T21:36:58.252Z"
   },
   {
    "duration": 8,
    "start_time": "2023-03-10T21:36:58.263Z"
   },
   {
    "duration": 11,
    "start_time": "2023-03-10T21:36:58.273Z"
   },
   {
    "duration": 4,
    "start_time": "2023-03-10T21:36:58.286Z"
   },
   {
    "duration": 9,
    "start_time": "2023-03-10T21:36:58.292Z"
   },
   {
    "duration": 8,
    "start_time": "2023-03-10T21:36:58.302Z"
   },
   {
    "duration": 31,
    "start_time": "2023-03-10T21:36:58.311Z"
   },
   {
    "duration": 12,
    "start_time": "2023-03-10T21:36:58.344Z"
   },
   {
    "duration": 16,
    "start_time": "2023-03-10T21:36:58.357Z"
   },
   {
    "duration": 8,
    "start_time": "2023-03-10T21:36:58.374Z"
   },
   {
    "duration": 10,
    "start_time": "2023-03-10T21:36:58.383Z"
   },
   {
    "duration": 6,
    "start_time": "2023-03-10T21:36:58.397Z"
   },
   {
    "duration": 8,
    "start_time": "2023-03-10T21:36:58.404Z"
   },
   {
    "duration": 21,
    "start_time": "2023-03-10T21:36:58.414Z"
   },
   {
    "duration": 24,
    "start_time": "2023-03-10T21:36:58.437Z"
   },
   {
    "duration": 285,
    "start_time": "2023-03-10T21:36:58.462Z"
   },
   {
    "duration": 4,
    "start_time": "2023-03-10T21:36:58.749Z"
   },
   {
    "duration": 6,
    "start_time": "2023-03-10T21:36:58.755Z"
   },
   {
    "duration": 307,
    "start_time": "2023-03-10T21:36:58.762Z"
   },
   {
    "duration": 222,
    "start_time": "2023-03-10T21:36:59.072Z"
   },
   {
    "duration": 390,
    "start_time": "2023-03-10T21:36:59.296Z"
   },
   {
    "duration": 214,
    "start_time": "2023-03-10T21:36:59.688Z"
   },
   {
    "duration": 372,
    "start_time": "2023-03-10T21:36:59.903Z"
   },
   {
    "duration": 14,
    "start_time": "2023-03-10T21:37:00.277Z"
   },
   {
    "duration": 193,
    "start_time": "2023-03-10T21:37:00.293Z"
   },
   {
    "duration": 5,
    "start_time": "2023-03-10T21:37:00.488Z"
   },
   {
    "duration": 176,
    "start_time": "2023-03-10T21:37:00.494Z"
   },
   {
    "duration": 256,
    "start_time": "2023-03-10T21:37:00.672Z"
   },
   {
    "duration": 10,
    "start_time": "2023-03-10T21:37:00.934Z"
   },
   {
    "duration": 242,
    "start_time": "2023-03-10T21:37:00.952Z"
   },
   {
    "duration": 147,
    "start_time": "2023-03-10T21:37:01.196Z"
   },
   {
    "duration": 31,
    "start_time": "2023-03-10T21:37:01.345Z"
   },
   {
    "duration": 36,
    "start_time": "2023-03-10T21:37:01.378Z"
   },
   {
    "duration": 54,
    "start_time": "2023-03-10T21:37:01.416Z"
   },
   {
    "duration": 34,
    "start_time": "2023-03-10T21:37:01.472Z"
   },
   {
    "duration": 108,
    "start_time": "2023-03-10T21:37:01.508Z"
   },
   {
    "duration": 78,
    "start_time": "2023-03-10T21:37:01.618Z"
   },
   {
    "duration": 1149,
    "start_time": "2023-03-11T08:03:39.532Z"
   },
   {
    "duration": 80,
    "start_time": "2023-03-11T08:03:40.685Z"
   },
   {
    "duration": 24,
    "start_time": "2023-03-11T08:03:40.767Z"
   },
   {
    "duration": 12,
    "start_time": "2023-03-11T08:03:40.794Z"
   },
   {
    "duration": 14,
    "start_time": "2023-03-11T08:03:40.808Z"
   },
   {
    "duration": 17,
    "start_time": "2023-03-11T08:03:40.824Z"
   },
   {
    "duration": 35,
    "start_time": "2023-03-11T08:03:40.843Z"
   },
   {
    "duration": 32,
    "start_time": "2023-03-11T08:03:40.880Z"
   },
   {
    "duration": 10,
    "start_time": "2023-03-11T08:03:40.913Z"
   },
   {
    "duration": 7,
    "start_time": "2023-03-11T08:03:40.925Z"
   },
   {
    "duration": 14,
    "start_time": "2023-03-11T08:03:40.933Z"
   },
   {
    "duration": 7,
    "start_time": "2023-03-11T08:03:40.948Z"
   },
   {
    "duration": 5,
    "start_time": "2023-03-11T08:03:40.957Z"
   },
   {
    "duration": 65,
    "start_time": "2023-03-11T08:03:40.963Z"
   },
   {
    "duration": 11,
    "start_time": "2023-03-11T08:03:41.030Z"
   },
   {
    "duration": 9,
    "start_time": "2023-03-11T08:03:41.043Z"
   },
   {
    "duration": 27,
    "start_time": "2023-03-11T08:03:41.053Z"
   },
   {
    "duration": 21,
    "start_time": "2023-03-11T08:03:41.085Z"
   },
   {
    "duration": 4,
    "start_time": "2023-03-11T08:03:41.108Z"
   },
   {
    "duration": 10,
    "start_time": "2023-03-11T08:03:41.114Z"
   },
   {
    "duration": 11,
    "start_time": "2023-03-11T08:03:41.125Z"
   },
   {
    "duration": 6,
    "start_time": "2023-03-11T08:03:41.137Z"
   },
   {
    "duration": 8,
    "start_time": "2023-03-11T08:03:41.144Z"
   },
   {
    "duration": 41,
    "start_time": "2023-03-11T08:03:41.154Z"
   },
   {
    "duration": 5,
    "start_time": "2023-03-11T08:03:41.197Z"
   },
   {
    "duration": 8,
    "start_time": "2023-03-11T08:03:41.204Z"
   },
   {
    "duration": 8,
    "start_time": "2023-03-11T08:03:41.214Z"
   },
   {
    "duration": 8,
    "start_time": "2023-03-11T08:03:41.226Z"
   },
   {
    "duration": 13,
    "start_time": "2023-03-11T08:03:41.236Z"
   },
   {
    "duration": 37,
    "start_time": "2023-03-11T08:03:41.251Z"
   },
   {
    "duration": 347,
    "start_time": "2023-03-11T08:03:41.291Z"
   },
   {
    "duration": 5,
    "start_time": "2023-03-11T08:03:43.412Z"
   },
   {
    "duration": 10,
    "start_time": "2023-03-11T08:03:43.421Z"
   },
   {
    "duration": 306,
    "start_time": "2023-03-11T08:03:43.449Z"
   },
   {
    "duration": 262,
    "start_time": "2023-03-11T08:03:43.757Z"
   },
   {
    "duration": 319,
    "start_time": "2023-03-11T08:03:44.021Z"
   },
   {
    "duration": 238,
    "start_time": "2023-03-11T08:03:44.342Z"
   },
   {
    "duration": 389,
    "start_time": "2023-03-11T08:03:44.582Z"
   },
   {
    "duration": 18,
    "start_time": "2023-03-11T08:03:44.973Z"
   },
   {
    "duration": 196,
    "start_time": "2023-03-11T08:03:44.994Z"
   },
   {
    "duration": 5,
    "start_time": "2023-03-11T08:03:45.193Z"
   },
   {
    "duration": 169,
    "start_time": "2023-03-11T08:03:45.200Z"
   },
   {
    "duration": 243,
    "start_time": "2023-03-11T08:03:45.372Z"
   },
   {
    "duration": 4,
    "start_time": "2023-03-11T08:03:45.617Z"
   },
   {
    "duration": 241,
    "start_time": "2023-03-11T08:03:45.623Z"
   },
   {
    "duration": 173,
    "start_time": "2023-03-11T08:03:45.865Z"
   },
   {
    "duration": 58,
    "start_time": "2023-03-11T08:03:46.040Z"
   },
   {
    "duration": 11,
    "start_time": "2023-03-11T08:03:46.102Z"
   },
   {
    "duration": 10,
    "start_time": "2023-03-11T08:03:46.115Z"
   },
   {
    "duration": 8,
    "start_time": "2023-03-11T08:03:46.126Z"
   },
   {
    "duration": 57,
    "start_time": "2023-03-11T08:03:46.136Z"
   },
   {
    "duration": 14,
    "start_time": "2023-03-11T08:03:46.195Z"
   },
   {
    "duration": 1335,
    "start_time": "2023-03-11T15:16:22.739Z"
   },
   {
    "duration": 4,
    "start_time": "2023-03-11T15:16:51.174Z"
   }
  ],
  "kernelspec": {
   "display_name": "Python 3 (ipykernel)",
   "language": "python",
   "name": "python3"
  },
  "language_info": {
   "codemirror_mode": {
    "name": "ipython",
    "version": 3
   },
   "file_extension": ".py",
   "mimetype": "text/x-python",
   "name": "python",
   "nbconvert_exporter": "python",
   "pygments_lexer": "ipython3",
   "version": "3.9.12"
  },
  "toc": {
   "base_numbering": 1,
   "nav_menu": {},
   "number_sections": true,
   "sideBar": true,
   "skip_h1_title": true,
   "title_cell": "Table of Contents",
   "title_sidebar": "Contents",
   "toc_cell": false,
   "toc_position": {
    "height": "calc(100% - 180px)",
    "left": "10px",
    "top": "150px",
    "width": "289.438px"
   },
   "toc_section_display": true,
   "toc_window_display": true
  }
 },
 "nbformat": 4,
 "nbformat_minor": 2
}
