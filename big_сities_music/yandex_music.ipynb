{
 "cells": [
  {
   "cell_type": "markdown",
   "metadata": {
    "deletable": false,
    "editable": false,
    "id": "E0vqbgi9ay0H"
   },
   "source": [
    "# Яндекс Музыка"
   ]
  },
  {
   "cell_type": "code",
   "execution_count": 1,
   "metadata": {
    "deletable": false,
    "id": "AXN7PHPN_Zcs"
   },
   "outputs": [],
   "source": [
    "import pandas as pd # импорт библиотеки pandas"
   ]
  },
  {
   "cell_type": "code",
   "execution_count": 49,
   "metadata": {
    "deletable": false,
    "id": "fFVu7vqh_Zct"
   },
   "outputs": [],
   "source": [
    "df = pd.read_csv('/datasets/yandex_music_project.csv') # чтение файла с данными и сохранение в df\n",
    "df.to_csv('file_name.csv', index=False)"
   ]
  },
  {
   "cell_type": "code",
   "execution_count": 3,
   "metadata": {
    "deletable": false,
    "id": "oWTVX3gW_Zct"
   },
   "outputs": [
    {
     "data": {
      "text/html": [
       "<div>\n",
       "<style scoped>\n",
       "    .dataframe tbody tr th:only-of-type {\n",
       "        vertical-align: middle;\n",
       "    }\n",
       "\n",
       "    .dataframe tbody tr th {\n",
       "        vertical-align: top;\n",
       "    }\n",
       "\n",
       "    .dataframe thead th {\n",
       "        text-align: right;\n",
       "    }\n",
       "</style>\n",
       "<table border=\"1\" class=\"dataframe\">\n",
       "  <thead>\n",
       "    <tr style=\"text-align: right;\">\n",
       "      <th></th>\n",
       "      <th>userID</th>\n",
       "      <th>Track</th>\n",
       "      <th>artist</th>\n",
       "      <th>genre</th>\n",
       "      <th>City</th>\n",
       "      <th>time</th>\n",
       "      <th>Day</th>\n",
       "    </tr>\n",
       "  </thead>\n",
       "  <tbody>\n",
       "    <tr>\n",
       "      <th>0</th>\n",
       "      <td>FFB692EC</td>\n",
       "      <td>Kamigata To Boots</td>\n",
       "      <td>The Mass Missile</td>\n",
       "      <td>rock</td>\n",
       "      <td>Saint-Petersburg</td>\n",
       "      <td>20:28:33</td>\n",
       "      <td>Wednesday</td>\n",
       "    </tr>\n",
       "    <tr>\n",
       "      <th>1</th>\n",
       "      <td>55204538</td>\n",
       "      <td>Delayed Because of Accident</td>\n",
       "      <td>Andreas Rönnberg</td>\n",
       "      <td>rock</td>\n",
       "      <td>Moscow</td>\n",
       "      <td>14:07:09</td>\n",
       "      <td>Friday</td>\n",
       "    </tr>\n",
       "    <tr>\n",
       "      <th>2</th>\n",
       "      <td>20EC38</td>\n",
       "      <td>Funiculì funiculà</td>\n",
       "      <td>Mario Lanza</td>\n",
       "      <td>pop</td>\n",
       "      <td>Saint-Petersburg</td>\n",
       "      <td>20:58:07</td>\n",
       "      <td>Wednesday</td>\n",
       "    </tr>\n",
       "    <tr>\n",
       "      <th>3</th>\n",
       "      <td>A3DD03C9</td>\n",
       "      <td>Dragons in the Sunset</td>\n",
       "      <td>Fire + Ice</td>\n",
       "      <td>folk</td>\n",
       "      <td>Saint-Petersburg</td>\n",
       "      <td>08:37:09</td>\n",
       "      <td>Monday</td>\n",
       "    </tr>\n",
       "    <tr>\n",
       "      <th>4</th>\n",
       "      <td>E2DC1FAE</td>\n",
       "      <td>Soul People</td>\n",
       "      <td>Space Echo</td>\n",
       "      <td>dance</td>\n",
       "      <td>Moscow</td>\n",
       "      <td>08:34:34</td>\n",
       "      <td>Monday</td>\n",
       "    </tr>\n",
       "    <tr>\n",
       "      <th>5</th>\n",
       "      <td>842029A1</td>\n",
       "      <td>Преданная</td>\n",
       "      <td>IMPERVTOR</td>\n",
       "      <td>rusrap</td>\n",
       "      <td>Saint-Petersburg</td>\n",
       "      <td>13:09:41</td>\n",
       "      <td>Friday</td>\n",
       "    </tr>\n",
       "    <tr>\n",
       "      <th>6</th>\n",
       "      <td>4CB90AA5</td>\n",
       "      <td>True</td>\n",
       "      <td>Roman Messer</td>\n",
       "      <td>dance</td>\n",
       "      <td>Moscow</td>\n",
       "      <td>13:00:07</td>\n",
       "      <td>Wednesday</td>\n",
       "    </tr>\n",
       "    <tr>\n",
       "      <th>7</th>\n",
       "      <td>F03E1C1F</td>\n",
       "      <td>Feeling This Way</td>\n",
       "      <td>Polina Griffith</td>\n",
       "      <td>dance</td>\n",
       "      <td>Moscow</td>\n",
       "      <td>20:47:49</td>\n",
       "      <td>Wednesday</td>\n",
       "    </tr>\n",
       "    <tr>\n",
       "      <th>8</th>\n",
       "      <td>8FA1D3BE</td>\n",
       "      <td>И вновь продолжается бой</td>\n",
       "      <td>NaN</td>\n",
       "      <td>ruspop</td>\n",
       "      <td>Moscow</td>\n",
       "      <td>09:17:40</td>\n",
       "      <td>Friday</td>\n",
       "    </tr>\n",
       "    <tr>\n",
       "      <th>9</th>\n",
       "      <td>E772D5C0</td>\n",
       "      <td>Pessimist</td>\n",
       "      <td>NaN</td>\n",
       "      <td>dance</td>\n",
       "      <td>Saint-Petersburg</td>\n",
       "      <td>21:20:49</td>\n",
       "      <td>Wednesday</td>\n",
       "    </tr>\n",
       "  </tbody>\n",
       "</table>\n",
       "</div>"
      ],
      "text/plain": [
       "     userID                        Track            artist   genre  \\\n",
       "0  FFB692EC            Kamigata To Boots  The Mass Missile    rock   \n",
       "1  55204538  Delayed Because of Accident  Andreas Rönnberg    rock   \n",
       "2    20EC38            Funiculì funiculà       Mario Lanza     pop   \n",
       "3  A3DD03C9        Dragons in the Sunset        Fire + Ice    folk   \n",
       "4  E2DC1FAE                  Soul People        Space Echo   dance   \n",
       "5  842029A1                    Преданная         IMPERVTOR  rusrap   \n",
       "6  4CB90AA5                         True      Roman Messer   dance   \n",
       "7  F03E1C1F             Feeling This Way   Polina Griffith   dance   \n",
       "8  8FA1D3BE     И вновь продолжается бой               NaN  ruspop   \n",
       "9  E772D5C0                    Pessimist               NaN   dance   \n",
       "\n",
       "             City        time        Day  \n",
       "0  Saint-Petersburg  20:28:33  Wednesday  \n",
       "1            Moscow  14:07:09     Friday  \n",
       "2  Saint-Petersburg  20:58:07  Wednesday  \n",
       "3  Saint-Petersburg  08:37:09     Monday  \n",
       "4            Moscow  08:34:34     Monday  \n",
       "5  Saint-Petersburg  13:09:41     Friday  \n",
       "6            Moscow  13:00:07  Wednesday  \n",
       "7            Moscow  20:47:49  Wednesday  \n",
       "8            Moscow  09:17:40     Friday  \n",
       "9  Saint-Petersburg  21:20:49  Wednesday  "
      ]
     },
     "execution_count": 3,
     "metadata": {},
     "output_type": "execute_result"
    }
   ],
   "source": [
    "df.head(10)# получение первых 10 строк таблицы df"
   ]
  },
  {
   "cell_type": "code",
   "execution_count": 4,
   "metadata": {
    "deletable": false,
    "id": "DSf2kIb-_Zct",
    "scrolled": true
   },
   "outputs": [
    {
     "name": "stdout",
     "output_type": "stream",
     "text": [
      "<class 'pandas.core.frame.DataFrame'>\n",
      "RangeIndex: 65079 entries, 0 to 65078\n",
      "Data columns (total 7 columns):\n",
      " #   Column    Non-Null Count  Dtype \n",
      "---  ------    --------------  ----- \n",
      " 0     userID  65079 non-null  object\n",
      " 1   Track     63848 non-null  object\n",
      " 2   artist    57876 non-null  object\n",
      " 3   genre     63881 non-null  object\n",
      " 4     City    65079 non-null  object\n",
      " 5   time      65079 non-null  object\n",
      " 6   Day       65079 non-null  object\n",
      "dtypes: object(7)\n",
      "memory usage: 3.5+ MB\n"
     ]
    }
   ],
   "source": [
    "df.info()# получение общей информации о данных в таблице df"
   ]
  },
  {
   "cell_type": "markdown",
   "metadata": {
    "deletable": false,
    "editable": false,
    "id": "TaQ2Iwbr_Zct"
   },
   "source": [
    "Итак, в таблице семь столбцов. Тип данных во всех столбцах — `object`.\n",
    "\n",
    "Согласно документации к данным:\n",
    "* `userID` — идентификатор пользователя;\n",
    "* `Track` — название трека;  \n",
    "* `artist` — имя исполнителя;\n",
    "* `genre` — название жанра;\n",
    "* `City` — город пользователя;\n",
    "* `time` — время начала прослушивания;\n",
    "* `Day` — день недели.\n",
    "\n",
    "Количество значений в столбцах различается. Значит, в данных есть пропущенные значения."
   ]
  },
  {
   "cell_type": "markdown",
   "metadata": {
    "deletable": false,
    "editable": false,
    "id": "MCB6-dXG_Zct"
   },
   "source": [
    "**Выводы**\n",
    "\n",
    "В каждой строке таблицы — данные о прослушанном треке. Часть колонок описывает саму композицию: название, исполнителя и жанр. Остальные данные рассказывают о пользователе: из какого он города, когда он слушал музыку. \n",
    "\n",
    "Предварительно можно утверждать, что данных достаточно для проверки гипотез. Но встречаются пропуски в данных, а в названиях колонок — расхождения с хорошим стилем.\n",
    "\n",
    "Чтобы двигаться дальше, нужно устранить проблемы в данных."
   ]
  },
  {
   "cell_type": "markdown",
   "metadata": {
    "id": "SjYF6Ub9_Zct"
   },
   "source": [
    "## Предобработка данных"
   ]
  },
  {
   "cell_type": "markdown",
   "metadata": {
    "id": "dIaKXr29_Zct",
    "tags": [
     "start_task"
    ]
   },
   "source": [
    "### Стиль заголовков"
   ]
  },
  {
   "cell_type": "code",
   "execution_count": 6,
   "metadata": {
    "deletable": false,
    "id": "oKOTdF_Q_Zct"
   },
   "outputs": [
    {
     "data": {
      "text/plain": [
       "Index(['  userID', 'Track', 'artist', 'genre', '  City  ', 'time', 'Day'], dtype='object')"
      ]
     },
     "execution_count": 6,
     "metadata": {},
     "output_type": "execute_result"
    }
   ],
   "source": [
    "df.columns # перечень названий столбцов таблицы df"
   ]
  },
  {
   "cell_type": "code",
   "execution_count": 7,
   "metadata": {
    "deletable": false,
    "id": "ISlFqs5y_Zct"
   },
   "outputs": [],
   "source": [
    "df = df.rename(columns={'  userID':'user_id', 'Track':'track', '  City  ':'city', 'Day':'day'})# переименование столбцов"
   ]
  },
  {
   "cell_type": "code",
   "execution_count": 8,
   "metadata": {
    "deletable": false,
    "id": "d4NOAmTW_Zct"
   },
   "outputs": [
    {
     "data": {
      "text/plain": [
       "Index(['user_id', 'track', 'artist', 'genre', 'city', 'time', 'day'], dtype='object')"
      ]
     },
     "execution_count": 8,
     "metadata": {},
     "output_type": "execute_result"
    }
   ],
   "source": [
    "df.columns # проверка результатов - перечень названий столбцов"
   ]
  },
  {
   "cell_type": "markdown",
   "metadata": {
    "id": "5ISfbcfY_Zct",
    "tags": [
     "start_task"
    ]
   },
   "source": [
    "### Пропуски значений"
   ]
  },
  {
   "cell_type": "code",
   "execution_count": 9,
   "metadata": {
    "deletable": false,
    "id": "RskX29qr_Zct"
   },
   "outputs": [
    {
     "data": {
      "text/plain": [
       "user_id       0\n",
       "track      1231\n",
       "artist     7203\n",
       "genre      1198\n",
       "city          0\n",
       "time          0\n",
       "day           0\n",
       "dtype: int64"
      ]
     },
     "execution_count": 9,
     "metadata": {},
     "output_type": "execute_result"
    }
   ],
   "source": [
    "df.isna().sum()# подсчёт пропусков"
   ]
  },
  {
   "cell_type": "code",
   "execution_count": 10,
   "metadata": {
    "deletable": false,
    "id": "KplB5qWs_Zct"
   },
   "outputs": [],
   "source": [
    "columns_to_replace = ['track', 'artist', 'genre']\n",
    "\n",
    "for column in columns_to_replace:# перебор названий столбцов в цикле и замена пропущенных значений на 'unknown'\n",
    "    df[column] = df[column].fillna('unknown')"
   ]
  },
  {
   "cell_type": "code",
   "execution_count": 11,
   "metadata": {
    "deletable": false,
    "id": "Tq4nYRX4_Zct"
   },
   "outputs": [
    {
     "data": {
      "text/plain": [
       "user_id    0\n",
       "track      0\n",
       "artist     0\n",
       "genre      0\n",
       "city       0\n",
       "time       0\n",
       "day        0\n",
       "dtype: int64"
      ]
     },
     "execution_count": 11,
     "metadata": {},
     "output_type": "execute_result"
    }
   ],
   "source": [
    "df.isna().sum()# подсчёт пропусков"
   ]
  },
  {
   "cell_type": "code",
   "execution_count": 12,
   "metadata": {
    "deletable": false,
    "id": "36eES_S0_Zct"
   },
   "outputs": [
    {
     "data": {
      "text/plain": [
       "3826"
      ]
     },
     "execution_count": 12,
     "metadata": {},
     "output_type": "execute_result"
    }
   ],
   "source": [
    "df.duplicated().sum()# подсчёт явных дубликатов"
   ]
  },
  {
   "cell_type": "code",
   "execution_count": 13,
   "metadata": {
    "deletable": false,
    "id": "exFHq6tt_Zct"
   },
   "outputs": [],
   "source": [
    "df = df.drop_duplicates().reset_index(drop=True) # удаление явных дубликатов"
   ]
  },
  {
   "cell_type": "code",
   "execution_count": 14,
   "metadata": {
    "deletable": false,
    "id": "-8PuNWQ0_Zct"
   },
   "outputs": [
    {
     "data": {
      "text/plain": [
       "0"
      ]
     },
     "execution_count": 14,
     "metadata": {},
     "output_type": "execute_result"
    }
   ],
   "source": [
    "df.duplicated().sum()# проверка на отсутствие дубликатов"
   ]
  },
  {
   "cell_type": "code",
   "execution_count": 15,
   "metadata": {
    "deletable": false,
    "id": "JIUcqzZN_Zct"
   },
   "outputs": [
    {
     "data": {
      "text/plain": [
       "array(['acid', 'acoustic', 'action', 'adult', 'africa', 'afrikaans',\n",
       "       'alternative', 'alternativepunk', 'ambient', 'americana',\n",
       "       'animated', 'anime', 'arabesk', 'arabic', 'arena',\n",
       "       'argentinetango', 'art', 'audiobook', 'author', 'avantgarde',\n",
       "       'axé', 'baile', 'balkan', 'beats', 'bigroom', 'black', 'bluegrass',\n",
       "       'blues', 'bollywood', 'bossa', 'brazilian', 'breakbeat', 'breaks',\n",
       "       'broadway', 'cantautori', 'cantopop', 'canzone', 'caribbean',\n",
       "       'caucasian', 'celtic', 'chamber', 'chanson', 'children', 'chill',\n",
       "       'chinese', 'choral', 'christian', 'christmas', 'classical',\n",
       "       'classicmetal', 'club', 'colombian', 'comedy', 'conjazz',\n",
       "       'contemporary', 'country', 'cuban', 'dance', 'dancehall',\n",
       "       'dancepop', 'dark', 'death', 'deep', 'deutschrock', 'deutschspr',\n",
       "       'dirty', 'disco', 'dnb', 'documentary', 'downbeat', 'downtempo',\n",
       "       'drum', 'dub', 'dubstep', 'eastern', 'easy', 'electronic',\n",
       "       'electropop', 'emo', 'entehno', 'epicmetal', 'estrada', 'ethnic',\n",
       "       'eurofolk', 'european', 'experimental', 'extrememetal', 'fado',\n",
       "       'fairytail', 'film', 'fitness', 'flamenco', 'folk', 'folklore',\n",
       "       'folkmetal', 'folkrock', 'folktronica', 'forró', 'frankreich',\n",
       "       'französisch', 'french', 'funk', 'future', 'gangsta', 'garage',\n",
       "       'german', 'ghazal', 'gitarre', 'glitch', 'gospel', 'gothic',\n",
       "       'grime', 'grunge', 'gypsy', 'handsup', \"hard'n'heavy\", 'hardcore',\n",
       "       'hardstyle', 'hardtechno', 'hip', 'hip-hop', 'hiphop',\n",
       "       'historisch', 'holiday', 'hop', 'horror', 'house', 'hymn', 'idm',\n",
       "       'independent', 'indian', 'indie', 'indipop', 'industrial',\n",
       "       'inspirational', 'instrumental', 'international', 'irish', 'jam',\n",
       "       'japanese', 'jazz', 'jewish', 'jpop', 'jungle', 'k-pop',\n",
       "       'karadeniz', 'karaoke', 'kayokyoku', 'korean', 'laiko', 'latin',\n",
       "       'latino', 'leftfield', 'local', 'lounge', 'loungeelectronic',\n",
       "       'lovers', 'malaysian', 'mandopop', 'marschmusik', 'meditative',\n",
       "       'mediterranean', 'melodic', 'metal', 'metalcore', 'mexican',\n",
       "       'middle', 'minimal', 'miscellaneous', 'modern', 'mood', 'mpb',\n",
       "       'muslim', 'native', 'neoklassik', 'neue', 'new', 'newage',\n",
       "       'newwave', 'nu', 'nujazz', 'numetal', 'oceania', 'old', 'opera',\n",
       "       'orchestral', 'other', 'piano', 'podcasts', 'pop', 'popdance',\n",
       "       'popelectronic', 'popeurodance', 'poprussian', 'post',\n",
       "       'posthardcore', 'postrock', 'power', 'progmetal', 'progressive',\n",
       "       'psychedelic', 'punjabi', 'punk', 'quebecois', 'ragga', 'ram',\n",
       "       'rancheras', 'rap', 'rave', 'reggae', 'reggaeton', 'regional',\n",
       "       'relax', 'religious', 'retro', 'rhythm', 'rnb', 'rnr', 'rock',\n",
       "       'rockabilly', 'rockalternative', 'rockindie', 'rockother',\n",
       "       'romance', 'roots', 'ruspop', 'rusrap', 'rusrock', 'russian',\n",
       "       'salsa', 'samba', 'scenic', 'schlager', 'self', 'sertanejo',\n",
       "       'shanson', 'shoegazing', 'showtunes', 'singer', 'ska', 'skarock',\n",
       "       'slow', 'smooth', 'soft', 'soul', 'soulful', 'sound', 'soundtrack',\n",
       "       'southern', 'specialty', 'speech', 'spiritual', 'sport',\n",
       "       'stonerrock', 'surf', 'swing', 'synthpop', 'synthrock',\n",
       "       'sängerportrait', 'tango', 'tanzorchester', 'taraftar', 'tatar',\n",
       "       'tech', 'techno', 'teen', 'thrash', 'top', 'traditional',\n",
       "       'tradjazz', 'trance', 'tribal', 'trip', 'triphop', 'tropical',\n",
       "       'türk', 'türkçe', 'ukrrock', 'unknown', 'urban', 'uzbek',\n",
       "       'variété', 'vi', 'videogame', 'vocal', 'western', 'world',\n",
       "       'worldbeat', 'ïîï', 'электроника'], dtype=object)"
      ]
     },
     "execution_count": 15,
     "metadata": {},
     "output_type": "execute_result"
    }
   ],
   "source": [
    "df['genre'].sort_values().unique()# Просмотр уникальных названий жанров"
   ]
  },
  {
   "cell_type": "code",
   "execution_count": 16,
   "metadata": {
    "deletable": false,
    "id": "ErNDkmns_Zct"
   },
   "outputs": [],
   "source": [
    "duplicates = ['hip','hop','hip-hop']\n",
    "name = 'hiphop'\n",
    "df['genre'] = df['genre'].replace(duplicates, name)# Устранение неявных дубликатов"
   ]
  },
  {
   "cell_type": "code",
   "execution_count": 17,
   "metadata": {
    "deletable": false,
    "id": "wvixALnFG15m"
   },
   "outputs": [
    {
     "data": {
      "text/plain": [
       "array(['acid', 'acoustic', 'action', 'adult', 'africa', 'afrikaans',\n",
       "       'alternative', 'alternativepunk', 'ambient', 'americana',\n",
       "       'animated', 'anime', 'arabesk', 'arabic', 'arena',\n",
       "       'argentinetango', 'art', 'audiobook', 'author', 'avantgarde',\n",
       "       'axé', 'baile', 'balkan', 'beats', 'bigroom', 'black', 'bluegrass',\n",
       "       'blues', 'bollywood', 'bossa', 'brazilian', 'breakbeat', 'breaks',\n",
       "       'broadway', 'cantautori', 'cantopop', 'canzone', 'caribbean',\n",
       "       'caucasian', 'celtic', 'chamber', 'chanson', 'children', 'chill',\n",
       "       'chinese', 'choral', 'christian', 'christmas', 'classical',\n",
       "       'classicmetal', 'club', 'colombian', 'comedy', 'conjazz',\n",
       "       'contemporary', 'country', 'cuban', 'dance', 'dancehall',\n",
       "       'dancepop', 'dark', 'death', 'deep', 'deutschrock', 'deutschspr',\n",
       "       'dirty', 'disco', 'dnb', 'documentary', 'downbeat', 'downtempo',\n",
       "       'drum', 'dub', 'dubstep', 'eastern', 'easy', 'electronic',\n",
       "       'electropop', 'emo', 'entehno', 'epicmetal', 'estrada', 'ethnic',\n",
       "       'eurofolk', 'european', 'experimental', 'extrememetal', 'fado',\n",
       "       'fairytail', 'film', 'fitness', 'flamenco', 'folk', 'folklore',\n",
       "       'folkmetal', 'folkrock', 'folktronica', 'forró', 'frankreich',\n",
       "       'französisch', 'french', 'funk', 'future', 'gangsta', 'garage',\n",
       "       'german', 'ghazal', 'gitarre', 'glitch', 'gospel', 'gothic',\n",
       "       'grime', 'grunge', 'gypsy', 'handsup', \"hard'n'heavy\", 'hardcore',\n",
       "       'hardstyle', 'hardtechno', 'hiphop', 'historisch', 'holiday',\n",
       "       'horror', 'house', 'hymn', 'idm', 'independent', 'indian', 'indie',\n",
       "       'indipop', 'industrial', 'inspirational', 'instrumental',\n",
       "       'international', 'irish', 'jam', 'japanese', 'jazz', 'jewish',\n",
       "       'jpop', 'jungle', 'k-pop', 'karadeniz', 'karaoke', 'kayokyoku',\n",
       "       'korean', 'laiko', 'latin', 'latino', 'leftfield', 'local',\n",
       "       'lounge', 'loungeelectronic', 'lovers', 'malaysian', 'mandopop',\n",
       "       'marschmusik', 'meditative', 'mediterranean', 'melodic', 'metal',\n",
       "       'metalcore', 'mexican', 'middle', 'minimal', 'miscellaneous',\n",
       "       'modern', 'mood', 'mpb', 'muslim', 'native', 'neoklassik', 'neue',\n",
       "       'new', 'newage', 'newwave', 'nu', 'nujazz', 'numetal', 'oceania',\n",
       "       'old', 'opera', 'orchestral', 'other', 'piano', 'podcasts', 'pop',\n",
       "       'popdance', 'popelectronic', 'popeurodance', 'poprussian', 'post',\n",
       "       'posthardcore', 'postrock', 'power', 'progmetal', 'progressive',\n",
       "       'psychedelic', 'punjabi', 'punk', 'quebecois', 'ragga', 'ram',\n",
       "       'rancheras', 'rap', 'rave', 'reggae', 'reggaeton', 'regional',\n",
       "       'relax', 'religious', 'retro', 'rhythm', 'rnb', 'rnr', 'rock',\n",
       "       'rockabilly', 'rockalternative', 'rockindie', 'rockother',\n",
       "       'romance', 'roots', 'ruspop', 'rusrap', 'rusrock', 'russian',\n",
       "       'salsa', 'samba', 'scenic', 'schlager', 'self', 'sertanejo',\n",
       "       'shanson', 'shoegazing', 'showtunes', 'singer', 'ska', 'skarock',\n",
       "       'slow', 'smooth', 'soft', 'soul', 'soulful', 'sound', 'soundtrack',\n",
       "       'southern', 'specialty', 'speech', 'spiritual', 'sport',\n",
       "       'stonerrock', 'surf', 'swing', 'synthpop', 'synthrock',\n",
       "       'sängerportrait', 'tango', 'tanzorchester', 'taraftar', 'tatar',\n",
       "       'tech', 'techno', 'teen', 'thrash', 'top', 'traditional',\n",
       "       'tradjazz', 'trance', 'tribal', 'trip', 'triphop', 'tropical',\n",
       "       'türk', 'türkçe', 'ukrrock', 'unknown', 'urban', 'uzbek',\n",
       "       'variété', 'vi', 'videogame', 'vocal', 'western', 'world',\n",
       "       'worldbeat', 'ïîï', 'электроника'], dtype=object)"
      ]
     },
     "execution_count": 17,
     "metadata": {},
     "output_type": "execute_result"
    }
   ],
   "source": [
    "df['genre'].sort_values().unique() # Проверка на неявные дубликаты"
   ]
  },
  {
   "cell_type": "markdown",
   "metadata": {
    "id": "jz6a9-7HQUDd"
   },
   "source": [
    "**Выводы**\n",
    "\n",
    "Предобработка обнаружила три проблемы в данных:\n",
    "\n",
    "- нарушения в стиле заголовков,\n",
    "- пропущенные значения,\n",
    "- дубликаты — явные и неявные.\n",
    "\n",
    "Теперь можно перейти к проверке гипотез. "
   ]
  },
  {
   "cell_type": "markdown",
   "metadata": {
    "deletable": false,
    "editable": false,
    "id": "WttZHXH0SqKk"
   },
   "source": [
    "## Проверка гипотез"
   ]
  },
  {
   "cell_type": "markdown",
   "metadata": {
    "deletable": false,
    "editable": false,
    "id": "Im936VVi_Zcu"
   },
   "source": [
    "### Сравнение поведения пользователей двух столиц"
   ]
  },
  {
   "cell_type": "code",
   "execution_count": 18,
   "metadata": {
    "deletable": false,
    "id": "0_Qs96oh_Zcu"
   },
   "outputs": [
    {
     "data": {
      "text/plain": [
       "city\n",
       "Moscow              42741\n",
       "Saint-Petersburg    18512\n",
       "Name: user_id, dtype: int64"
      ]
     },
     "execution_count": 18,
     "metadata": {},
     "output_type": "execute_result"
    }
   ],
   "source": [
    "df.groupby('city')['user_id'].count()# Подсчёт прослушиваний в каждом городе"
   ]
  },
  {
   "cell_type": "markdown",
   "metadata": {
    "id": "dzli3w8o_Zcu",
    "tags": [
     "start_task"
    ]
   },
   "source": [
    "В Москве прослушиваний больше, чем в Петербурге. Из этого не следует, что московские пользователи чаще слушают музыку. Просто самих пользователей в Москве больше.\n"
   ]
  },
  {
   "cell_type": "code",
   "execution_count": 19,
   "metadata": {
    "deletable": false,
    "id": "uZMKjiJz_Zcu"
   },
   "outputs": [
    {
     "data": {
      "text/plain": [
       "day\n",
       "Friday       21840\n",
       "Monday       21354\n",
       "Wednesday    18059\n",
       "Name: user_id, dtype: int64"
      ]
     },
     "execution_count": 19,
     "metadata": {},
     "output_type": "execute_result"
    }
   ],
   "source": [
    "df.groupby('day')['user_id'].count()# Подсчёт прослушиваний в каждый из трёх дней"
   ]
  },
  {
   "cell_type": "markdown",
   "metadata": {
    "deletable": false,
    "editable": false,
    "id": "cC2tNrlL_Zcu"
   },
   "source": [
    "В среднем пользователи из двух городов менее активны по средам. Но картина может измениться, если рассмотреть каждый город в отдельности."
   ]
  },
  {
   "cell_type": "code",
   "execution_count": 20,
   "metadata": {
    "deletable": false,
    "id": "Nz3GdQB1_Zcu"
   },
   "outputs": [],
   "source": [
    " # <создание функции number_tracks()>\n",
    "# Объявляется функция с двумя параметрами: day, city.\n",
    "def number_tracks (day, city): \n",
    "# В переменной track_list сохраняются те строки таблицы df, для которых \n",
    "# значение в столбце 'day' равно параметру day и одновременно значение\n",
    "# в столбце 'city' равно параметру city (используйте последовательную фильтрацию\n",
    "# с помощью логической индексации или сложные логические выражения в одну строку, если вы уже знакомы с ними).\n",
    "    track_list = df[df['day'] == day]\n",
    "    track_list = track_list[track_list['city'] == city]\n",
    "# В переменной track_list_count сохраняется число значений столбца 'user_id',\n",
    "# рассчитанное методом count() для таблицы track_list.\n",
    "    track_list_count = track_list['user_id'].count()\n",
    "# Функция возвращает число - значение track_list_count.\n",
    "    return  track_list_count\n",
    "# Функция для подсчёта прослушиваний для конкретного города и дня.\n",
    "#return number_tracks    \n",
    "# С помощью последовательной фильтрации с логической индексацией она \n",
    "# сначала получит из исходной таблицы строки с нужным днём,\n",
    "# затем из результата отфильтрует строки с нужным городом,\n",
    "# методом count() посчитает количество значений в колонке user_id. \n",
    "# Это количество функция вернёт в качестве результата"
   ]
  },
  {
   "cell_type": "code",
   "execution_count": 21,
   "metadata": {
    "deletable": false,
    "id": "rJcRATNQ_Zcu"
   },
   "outputs": [
    {
     "data": {
      "text/plain": [
       "15740"
      ]
     },
     "execution_count": 21,
     "metadata": {},
     "output_type": "execute_result"
    }
   ],
   "source": [
    "number_tracks('Monday','Moscow')# количество прослушиваний в Москве по понедельникам"
   ]
  },
  {
   "cell_type": "code",
   "execution_count": 22,
   "metadata": {
    "deletable": false,
    "id": "hq_ncZ5T_Zcu"
   },
   "outputs": [
    {
     "data": {
      "text/plain": [
       "5614"
      ]
     },
     "execution_count": 22,
     "metadata": {},
     "output_type": "execute_result"
    }
   ],
   "source": [
    "number_tracks('Monday', 'Saint-Petersburg')# количество прослушиваний в Санкт-Петербурге по понедельникам"
   ]
  },
  {
   "cell_type": "code",
   "execution_count": 23,
   "metadata": {
    "deletable": false,
    "id": "_NTy2VPU_Zcu"
   },
   "outputs": [
    {
     "data": {
      "text/plain": [
       "11056"
      ]
     },
     "execution_count": 23,
     "metadata": {},
     "output_type": "execute_result"
    }
   ],
   "source": [
    "number_tracks('Wednesday', 'Moscow')# количество прослушиваний в Москве по средам"
   ]
  },
  {
   "cell_type": "code",
   "execution_count": 24,
   "metadata": {
    "deletable": false,
    "id": "j2y3TAwo_Zcu"
   },
   "outputs": [
    {
     "data": {
      "text/plain": [
       "7003"
      ]
     },
     "execution_count": 24,
     "metadata": {},
     "output_type": "execute_result"
    }
   ],
   "source": [
    "number_tracks('Wednesday', 'Saint-Petersburg')# количество прослушиваний в Санкт-Петербурге по средам"
   ]
  },
  {
   "cell_type": "code",
   "execution_count": 25,
   "metadata": {
    "deletable": false,
    "id": "vYDw5u_K_Zcu"
   },
   "outputs": [
    {
     "data": {
      "text/plain": [
       "15945"
      ]
     },
     "execution_count": 25,
     "metadata": {},
     "output_type": "execute_result"
    }
   ],
   "source": [
    "number_tracks('Friday', 'Moscow')# количество прослушиваний в Москве по пятницам"
   ]
  },
  {
   "cell_type": "code",
   "execution_count": 26,
   "metadata": {
    "deletable": false,
    "id": "8_yzFtW3_Zcu"
   },
   "outputs": [
    {
     "data": {
      "text/plain": [
       "5895"
      ]
     },
     "execution_count": 26,
     "metadata": {},
     "output_type": "execute_result"
    }
   ],
   "source": [
    "number_tracks('Friday', 'Saint-Petersburg')# количество прослушиваний в Санкт-Петербурге по пятницам"
   ]
  },
  {
   "cell_type": "code",
   "execution_count": 27,
   "metadata": {
    "deletable": false,
    "id": "APAcLpOr_Zcu"
   },
   "outputs": [],
   "source": [
    "\n",
    "# Таблица с результатами\n",
    "info = pd.DataFrame(data=[['Москва', 'monday', 'wednesday', 'friday'], ['Санкт-Петербург', 'monday', 'wednesday', 'friday']], columns=['city', 'monday', 'wednesday', 'friday'])"
   ]
  },
  {
   "cell_type": "markdown",
   "metadata": {
    "deletable": false,
    "editable": false,
    "id": "-EgPIHYu_Zcu"
   },
   "source": [
    "**Выводы**\n",
    "\n",
    "Данные показывают разницу поведения пользователей:\n",
    "\n",
    "- В Москве пик прослушиваний приходится на понедельник и пятницу, а в среду заметен спад.\n",
    "- В Петербурге, наоборот, больше слушают музыку по средам. Активность в понедельник и пятницу здесь почти в равной мере уступает среде.\n",
    "\n",
    "Значит, данные говорят в пользу первой гипотезы."
   ]
  },
  {
   "cell_type": "markdown",
   "metadata": {
    "deletable": false,
    "editable": false,
    "id": "atZAxtq4_Zcu"
   },
   "source": [
    "### Музыка в начале и в конце недели"
   ]
  },
  {
   "cell_type": "markdown",
   "metadata": {
    "deletable": false,
    "editable": false,
    "id": "eXrQqXFH_Zcu"
   },
   "source": [
    "Согласно второй гипотезе, утром в понедельник в Москве преобладают одни жанры, а в Петербурге — другие. Так же и вечером пятницы преобладают разные жанры — в зависимости от города."
   ]
  },
  {
   "cell_type": "code",
   "execution_count": 28,
   "metadata": {
    "deletable": false,
    "id": "qeaFfM_P_Zcu"
   },
   "outputs": [],
   "source": [
    "moscow_general = df[df['city'] == 'Moscow']# получение таблицы moscow_general из тех строк таблицы df, \n",
    "# для которых значение в столбце 'city' равно 'Moscow'\n"
   ]
  },
  {
   "cell_type": "code",
   "execution_count": 29,
   "metadata": {
    "deletable": false,
    "id": "ORaVRKto_Zcu"
   },
   "outputs": [],
   "source": [
    "spb_general = df[df['city'] == 'Saint-Petersburg']# получение таблицы spb_general из тех строк таблицы df,\n",
    "# для которых значение в столбце 'city' равно 'Saint-Petersburg'\n"
   ]
  },
  {
   "cell_type": "code",
   "execution_count": 30,
   "metadata": {
    "deletable": false,
    "id": "laJT9BYl_Zcu"
   },
   "outputs": [],
   "source": [
    "# Объявление функции genre_weekday() с параметрами table, day, time1, time2,\n",
    "# которая возвращает информацию о самых популярных жанрах в указанный день в\n",
    "# заданное время:\n",
    "# 1) в переменную genre_df сохраняются те строки переданного датафрейма table, для\n",
    "#    которых одновременно:\n",
    "#    - значение в столбце day равно значению аргумента day \n",
    "#    - значение в столбце time больше значения аргумента time1\n",
    "#    - значение в столбце time меньше значения аргумента time2\n",
    "#    Используйте последовательную фильтрацию с помощью логической индексации.\n",
    "\n",
    "# 2) сгруппировать датафрейм genre_df по столбцу genre, взять один из его\n",
    "#    столбцов и посчитать методом count() количество записей для каждого из\n",
    "#    присутствующих жанров, получившийся Series записать в переменную\n",
    "#    genre_df_count\n",
    "    \n",
    "# 3) отсортировать genre_df_count по убыванию встречаемости и сохранить\n",
    "#    в переменную genre_df_sorted\n",
    "\n",
    "# 4) вернуть Series из 10 первых значений genre_df_sorted, это будут топ-10\n",
    "#    популярных жанров (в указанный день, в заданное время)\n",
    "\n",
    "\n",
    "def genre_weekday(df, day, time1, time2):\n",
    "    # последовательная фильтрация\n",
    "    # оставляем в genre_df только те строки df, у которых день равен day\n",
    "    genre_df = df[df['day'] == day]\n",
    "    # оставляем в genre_df только те строки genre_df, у которых время меньше time2\n",
    "    genre_df = genre_df[genre_df['time'] < time2]\n",
    "    # оставляем в genre_df только те строки genre_df, у которых время больше time1\n",
    "    genre_df = genre_df[genre_df['time'] > time1]\n",
    "    # сгруппируем отфильтрованный датафрейм по столбцу с названиями жанров, возьмём столбец genre и посчитаем кол-во строк для каждого жанра методом count()\n",
    "    genre_df_count = genre_df.groupby('genre')['genre'].count()\n",
    "    # отсортируем результат по убыванию (чтобы в начале Series оказались самые популярные жанры)\n",
    "    genre_df_sorted = genre_df_count.sort_values(ascending = False)\n",
    "    # вернём Series с 10 самыми популярными жанрами в указанный отрезок времени заданного дня\n",
    "    return genre_df_sorted[:10]"
   ]
  },
  {
   "cell_type": "markdown",
   "metadata": {
    "id": "la2s2_PF_Zcu",
    "tags": [
     "start_task"
    ]
   },
   "source": [
    "Cравним результаты функции `genre_weekday()` для Москвы и Санкт-Петербурга в понедельник утром (с 7:00 до 11:00) и в пятницу вечером (с 17:00 до 23:00):"
   ]
  },
  {
   "cell_type": "code",
   "execution_count": 31,
   "metadata": {
    "deletable": false,
    "id": "yz7itPUQ_Zcu"
   },
   "outputs": [
    {
     "data": {
      "text/plain": [
       "genre\n",
       "pop            781\n",
       "dance          549\n",
       "electronic     480\n",
       "rock           474\n",
       "hiphop         286\n",
       "ruspop         186\n",
       "world          181\n",
       "rusrap         175\n",
       "alternative    164\n",
       "unknown        161\n",
       "Name: genre, dtype: int64"
      ]
     },
     "execution_count": 31,
     "metadata": {},
     "output_type": "execute_result"
    }
   ],
   "source": [
    "# вызов функции для утра понедельника в Москве (вместо df — таблица moscow_general)\n",
    "# объекты, хранящие время, являются строками и сравниваются как строки\n",
    "# пример вызова: genre_weekday(moscow_general, 'Monday', '07:00', '11:00')\n",
    "genre_weekday(moscow_general, 'Monday', '07:00', '11:00')"
   ]
  },
  {
   "cell_type": "code",
   "execution_count": 32,
   "metadata": {
    "deletable": false,
    "id": "kwUcHPdy_Zcu"
   },
   "outputs": [
    {
     "data": {
      "text/plain": [
       "genre\n",
       "pop            218\n",
       "dance          182\n",
       "rock           162\n",
       "electronic     147\n",
       "hiphop          80\n",
       "ruspop          64\n",
       "alternative     58\n",
       "rusrap          55\n",
       "jazz            44\n",
       "classical       40\n",
       "Name: genre, dtype: int64"
      ]
     },
     "execution_count": 32,
     "metadata": {},
     "output_type": "execute_result"
    }
   ],
   "source": [
    "# вызов функции для утра понедельника в Петербурге (вместо df — таблица spb_general)\n",
    "genre_weekday(spb_general, 'Monday', '07:00', '11:00')"
   ]
  },
  {
   "cell_type": "code",
   "execution_count": 33,
   "metadata": {
    "deletable": false,
    "id": "EzXVRE1o_Zcu"
   },
   "outputs": [
    {
     "data": {
      "text/plain": [
       "genre\n",
       "pop            713\n",
       "rock           517\n",
       "dance          495\n",
       "electronic     482\n",
       "hiphop         273\n",
       "world          208\n",
       "ruspop         170\n",
       "alternative    163\n",
       "classical      163\n",
       "rusrap         142\n",
       "Name: genre, dtype: int64"
      ]
     },
     "execution_count": 33,
     "metadata": {},
     "output_type": "execute_result"
    }
   ],
   "source": [
    "# вызов функции для вечера пятницы в Москве\n",
    "genre_weekday(moscow_general, 'Friday', '17:00', '23:00')"
   ]
  },
  {
   "cell_type": "code",
   "execution_count": 34,
   "metadata": {
    "deletable": false,
    "id": "JZaEKu5v_Zcu"
   },
   "outputs": [
    {
     "data": {
      "text/plain": [
       "genre\n",
       "pop            256\n",
       "electronic     216\n",
       "rock           216\n",
       "dance          210\n",
       "hiphop          97\n",
       "alternative     63\n",
       "jazz            61\n",
       "classical       60\n",
       "rusrap          59\n",
       "world           54\n",
       "Name: genre, dtype: int64"
      ]
     },
     "execution_count": 34,
     "metadata": {},
     "output_type": "execute_result"
    }
   ],
   "source": [
    "# вызов функции для вечера пятницы в Петербурге\n",
    "genre_weekday(spb_general, 'Friday', '17:00', '23:00')"
   ]
  },
  {
   "cell_type": "markdown",
   "metadata": {
    "deletable": false,
    "editable": false,
    "id": "wrCe4MNX_Zcu"
   },
   "source": [
    "**Выводы**\n",
    "\n",
    "Если сравнить топ-10 жанров в понедельник утром, можно сделать такие выводы:\n",
    "\n",
    "1. В Москве и Петербурге слушают похожую музыку. Единственное отличие — в московский рейтинг вошёл жанр “world”, а в петербургский — джаз и классика.\n",
    "\n",
    "2. В Москве пропущенных значений оказалось так много, что значение `'unknown'` заняло десятое место среди самых популярных жанров. Значит, пропущенные значения занимают существенную долю в данных и угрожают достоверности исследования.\n",
    "\n",
    "Вечер пятницы не меняет эту картину. Некоторые жанры поднимаются немного выше, другие спускаются, но в целом топ-10 остаётся тем же самым.\n",
    "\n",
    "Таким образом, вторая гипотеза подтвердилась лишь частично:\n",
    "* Пользователи слушают похожую музыку в начале недели и в конце.\n",
    "* Разница между Москвой и Петербургом не слишком выражена. В Москве чаще слушают русскую популярную музыку, в Петербурге — джаз.\n",
    "\n",
    "Однако пропуски в данных ставят под сомнение этот результат. В Москве их так много, что рейтинг топ-10 мог бы выглядеть иначе, если бы не утерянные  данные о жанрах."
   ]
  },
  {
   "cell_type": "markdown",
   "metadata": {
    "deletable": false,
    "editable": false,
    "id": "JolODAqr_Zcu"
   },
   "source": [
    "### Жанровые предпочтения в Москве и Петербурге\n",
    "\n",
    "Гипотеза: Петербург — столица рэпа, музыку этого жанра там слушают чаще, чем в Москве.  А Москва — город контрастов, в котором, тем не менее, преобладает поп-музыка."
   ]
  },
  {
   "cell_type": "code",
   "execution_count": 38,
   "metadata": {
    "deletable": false,
    "id": "r19lIPke_Zcu"
   },
   "outputs": [],
   "source": [
    "# одной строкой: группировка таблицы moscow_general по столбцу 'genre', \n",
    "# подсчёт числа значений 'genre' в этой группировке методом count(), \n",
    "# сортировка получившегося Series в порядке убывания и сохранение в moscow_genres\n",
    "moscow_genres = moscow_general.groupby('genre')['genre'].count().sort_values(ascending = False)"
   ]
  },
  {
   "cell_type": "code",
   "execution_count": 40,
   "metadata": {
    "deletable": false,
    "id": "WhCSooF8_Zcv"
   },
   "outputs": [
    {
     "data": {
      "text/plain": [
       "genre\n",
       "pop            5892\n",
       "dance          4435\n",
       "rock           3965\n",
       "electronic     3786\n",
       "hiphop         2096\n",
       "classical      1616\n",
       "world          1432\n",
       "alternative    1379\n",
       "ruspop         1372\n",
       "rusrap         1161\n",
       "Name: genre, dtype: int64"
      ]
     },
     "execution_count": 40,
     "metadata": {},
     "output_type": "execute_result"
    }
   ],
   "source": [
    "# просмотр первых 10 строк moscow_genres\n",
    "moscow_genres.head(10)"
   ]
  },
  {
   "cell_type": "code",
   "execution_count": 44,
   "metadata": {
    "deletable": false,
    "id": "gluLIpE7_Zcv"
   },
   "outputs": [],
   "source": [
    "# одной строкой: группировка таблицы spb_general по столбцу 'genre', \n",
    "# подсчёт числа значений 'genre' в этой группировке методом count(), \n",
    "# сортировка получившегося Series в порядке убывания и сохранение в spb_genres\n",
    "spb_genres = spb_general.groupby('genre')['genre'].count().sort_values(ascending = False)"
   ]
  },
  {
   "cell_type": "code",
   "execution_count": 45,
   "metadata": {
    "deletable": false,
    "id": "uaGJHjVU_Zcv"
   },
   "outputs": [
    {
     "data": {
      "text/plain": [
       "genre\n",
       "pop            2431\n",
       "dance          1932\n",
       "rock           1879\n",
       "electronic     1736\n",
       "hiphop          960\n",
       "alternative     649\n",
       "classical       646\n",
       "rusrap          564\n",
       "ruspop          538\n",
       "world           515\n",
       "Name: genre, dtype: int64"
      ]
     },
     "execution_count": 45,
     "metadata": {},
     "output_type": "execute_result"
    }
   ],
   "source": [
    "# просмотр первых 10 строк spb_genres\n",
    "spb_genres.head(10)"
   ]
  },
  {
   "cell_type": "markdown",
   "metadata": {
    "deletable": false,
    "editable": false,
    "id": "RY51YJYu_Zcv"
   },
   "source": [
    "**Выводы**"
   ]
  },
  {
   "cell_type": "markdown",
   "metadata": {
    "deletable": false,
    "editable": false,
    "id": "nVhnJEm__Zcv"
   },
   "source": [
    "Гипотеза частично подтвердилась:\n",
    "* Поп-музыка — самый популярный жанр в Москве, как и предполагала гипотеза. Более того, в топ-10 жанров встречается близкий жанр — русская популярная музыка.\n",
    "* Вопреки ожиданиям, рэп одинаково популярен в Москве и Петербурге. \n"
   ]
  },
  {
   "cell_type": "markdown",
   "metadata": {
    "deletable": false,
    "editable": false,
    "id": "ykKQ0N65_Zcv"
   },
   "source": [
    "## Итоги исследования"
   ]
  },
  {
   "cell_type": "markdown",
   "metadata": {
    "id": "tjUwbHb3_Zcv"
   },
   "source": [
    "Установили:\n",
    "\n",
    "1. День недели по-разному влияет на активность пользователей в Москве и Петербурге. \n",
    "\n",
    "Первая гипотеза полностью подтвердилась.\n",
    "\n",
    "2. Музыкальные предпочтения не сильно меняются в течение недели — будь то Москва или Петербург. Небольшие различия заметны в начале недели, по понедельникам:\n",
    "* в Москве слушают музыку жанра “world”,\n",
    "* в Петербурге — джаз и классику.\n",
    "\n",
    "Таким образом, вторая гипотеза подтвердилась лишь отчасти. Этот результат мог оказаться иным, если бы не пропуски в данных.\n",
    "\n",
    "3. Во вкусах пользователей Москвы и Петербурга больше общего чем различий. Вопреки ожиданиям, предпочтения жанров в Петербурге напоминают московские.\n",
    "\n",
    "Третья гипотеза не подтвердилась. Если различия в предпочтениях и существуют, на основной массе пользователей они незаметны."
   ]
  }
 ],
 "metadata": {
  "ExecuteTimeLog": [
   {
    "duration": 431,
    "start_time": "2022-10-18T13:25:33.567Z"
   },
   {
    "duration": 74,
    "start_time": "2022-10-18T13:25:37.079Z"
   },
   {
    "duration": 6,
    "start_time": "2022-10-18T13:44:20.668Z"
   },
   {
    "duration": 6,
    "start_time": "2022-10-18T13:44:23.434Z"
   },
   {
    "duration": 66,
    "start_time": "2022-10-18T13:44:35.683Z"
   },
   {
    "duration": 467,
    "start_time": "2022-10-18T13:47:46.913Z"
   },
   {
    "duration": 15,
    "start_time": "2022-10-18T13:48:13.580Z"
   },
   {
    "duration": 29,
    "start_time": "2022-10-18T13:48:49.824Z"
   },
   {
    "duration": 2,
    "start_time": "2022-10-18T13:56:22.178Z"
   },
   {
    "duration": 2,
    "start_time": "2022-10-18T13:56:30.380Z"
   },
   {
    "duration": 3,
    "start_time": "2022-10-18T13:56:32.591Z"
   },
   {
    "duration": 25,
    "start_time": "2022-10-18T13:58:25.430Z"
   },
   {
    "duration": 4,
    "start_time": "2022-10-18T15:06:52.852Z"
   },
   {
    "duration": 174,
    "start_time": "2022-10-18T15:11:23.382Z"
   },
   {
    "duration": 119,
    "start_time": "2022-10-18T15:12:43.708Z"
   },
   {
    "duration": 8,
    "start_time": "2022-10-18T15:13:00.173Z"
   },
   {
    "duration": 9,
    "start_time": "2022-10-18T15:13:10.980Z"
   },
   {
    "duration": 24,
    "start_time": "2022-10-18T15:17:47.009Z"
   },
   {
    "duration": 4,
    "start_time": "2022-10-18T15:51:00.501Z"
   },
   {
    "duration": 26,
    "start_time": "2022-10-18T16:07:47.488Z"
   },
   {
    "duration": 25,
    "start_time": "2022-10-18T16:08:33.743Z"
   },
   {
    "duration": 23,
    "start_time": "2022-10-18T16:30:20.571Z"
   },
   {
    "duration": 68,
    "start_time": "2022-10-18T16:36:20.350Z"
   },
   {
    "duration": 14101,
    "start_time": "2022-10-18T16:39:04.980Z"
   },
   {
    "duration": 70,
    "start_time": "2022-10-18T16:57:23.890Z"
   },
   {
    "duration": 62,
    "start_time": "2022-10-18T16:57:27.957Z"
   },
   {
    "duration": 58,
    "start_time": "2022-10-18T16:57:32.425Z"
   },
   {
    "duration": 1369,
    "start_time": "2022-10-18T16:58:37.206Z"
   },
   {
    "duration": 371,
    "start_time": "2022-10-18T16:58:59.507Z"
   },
   {
    "duration": 164,
    "start_time": "2022-10-18T16:58:59.880Z"
   },
   {
    "duration": 18,
    "start_time": "2022-10-18T16:59:00.046Z"
   },
   {
    "duration": 30,
    "start_time": "2022-10-18T16:59:00.066Z"
   },
   {
    "duration": 9,
    "start_time": "2022-10-18T16:59:00.098Z"
   },
   {
    "duration": 15,
    "start_time": "2022-10-18T16:59:00.109Z"
   },
   {
    "duration": 28,
    "start_time": "2022-10-18T16:59:00.128Z"
   },
   {
    "duration": 12,
    "start_time": "2022-10-18T16:59:00.158Z"
   },
   {
    "duration": 25,
    "start_time": "2022-10-18T16:59:00.172Z"
   },
   {
    "duration": 31,
    "start_time": "2022-10-18T16:59:00.200Z"
   },
   {
    "duration": 20,
    "start_time": "2022-10-18T16:59:00.233Z"
   },
   {
    "duration": 86,
    "start_time": "2022-10-18T16:59:00.255Z"
   },
   {
    "duration": 81,
    "start_time": "2022-10-18T16:59:00.343Z"
   },
   {
    "duration": 75,
    "start_time": "2022-10-18T16:59:00.426Z"
   },
   {
    "duration": 3,
    "start_time": "2022-10-18T16:59:00.503Z"
   },
   {
    "duration": 42,
    "start_time": "2022-10-18T16:59:00.507Z"
   },
   {
    "duration": 21,
    "start_time": "2022-10-18T16:59:00.551Z"
   },
   {
    "duration": 34,
    "start_time": "2022-10-18T16:59:00.575Z"
   },
   {
    "duration": 31,
    "start_time": "2022-10-18T16:59:00.611Z"
   },
   {
    "duration": 29,
    "start_time": "2022-10-18T16:59:00.644Z"
   },
   {
    "duration": 31,
    "start_time": "2022-10-18T16:59:00.675Z"
   },
   {
    "duration": 9,
    "start_time": "2022-10-18T16:59:00.708Z"
   },
   {
    "duration": 7,
    "start_time": "2022-10-18T16:59:00.719Z"
   },
   {
    "duration": 27,
    "start_time": "2022-10-18T16:59:00.727Z"
   },
   {
    "duration": 13,
    "start_time": "2022-10-18T16:59:00.756Z"
   },
   {
    "duration": 7,
    "start_time": "2022-10-18T16:59:00.770Z"
   },
   {
    "duration": 18,
    "start_time": "2022-10-18T16:59:00.778Z"
   },
   {
    "duration": 10,
    "start_time": "2022-10-18T16:59:00.799Z"
   },
   {
    "duration": 12,
    "start_time": "2022-10-18T16:59:00.810Z"
   },
   {
    "duration": 267,
    "start_time": "2022-10-18T16:59:00.824Z"
   },
   {
    "duration": 0,
    "start_time": "2022-10-18T16:59:01.092Z"
   },
   {
    "duration": 0,
    "start_time": "2022-10-18T16:59:01.093Z"
   },
   {
    "duration": 0,
    "start_time": "2022-10-18T16:59:01.095Z"
   },
   {
    "duration": 0,
    "start_time": "2022-10-18T16:59:01.095Z"
   },
   {
    "duration": 0,
    "start_time": "2022-10-18T16:59:01.096Z"
   },
   {
    "duration": 0,
    "start_time": "2022-10-18T16:59:01.097Z"
   },
   {
    "duration": 0,
    "start_time": "2022-10-18T16:59:01.098Z"
   },
   {
    "duration": 0,
    "start_time": "2022-10-18T16:59:01.099Z"
   },
   {
    "duration": 3,
    "start_time": "2022-10-18T16:59:11.112Z"
   },
   {
    "duration": 82,
    "start_time": "2022-10-18T17:01:10.225Z"
   },
   {
    "duration": 74,
    "start_time": "2022-10-18T17:01:16.822Z"
   },
   {
    "duration": 65,
    "start_time": "2022-10-18T17:01:22.389Z"
   },
   {
    "duration": 54,
    "start_time": "2022-10-18T17:01:24.273Z"
   },
   {
    "duration": 33,
    "start_time": "2022-10-18T17:12:12.323Z"
   },
   {
    "duration": 66,
    "start_time": "2022-10-18T17:17:42.467Z"
   },
   {
    "duration": 63,
    "start_time": "2022-10-18T17:23:49.907Z"
   },
   {
    "duration": 10,
    "start_time": "2022-10-18T17:24:16.073Z"
   },
   {
    "duration": 9,
    "start_time": "2022-10-18T17:24:53.867Z"
   },
   {
    "duration": 7,
    "start_time": "2022-10-18T17:25:19.456Z"
   },
   {
    "duration": 9,
    "start_time": "2022-10-18T17:26:10.651Z"
   },
   {
    "duration": 7,
    "start_time": "2022-10-18T17:26:20.624Z"
   },
   {
    "duration": 8,
    "start_time": "2022-10-18T17:26:35.769Z"
   },
   {
    "duration": 7,
    "start_time": "2022-10-18T17:27:21.925Z"
   },
   {
    "duration": 32,
    "start_time": "2022-10-18T17:30:23.333Z"
   },
   {
    "duration": 31,
    "start_time": "2022-10-18T17:36:57.621Z"
   },
   {
    "duration": 11,
    "start_time": "2022-10-18T17:37:27.545Z"
   },
   {
    "duration": 31,
    "start_time": "2022-10-18T17:39:05.395Z"
   },
   {
    "duration": 12,
    "start_time": "2022-10-18T17:39:20.379Z"
   },
   {
    "duration": 4,
    "start_time": "2022-10-19T10:42:07.172Z"
   },
   {
    "duration": 85,
    "start_time": "2022-10-19T10:55:07.413Z"
   },
   {
    "duration": 77,
    "start_time": "2022-10-19T10:55:26.369Z"
   },
   {
    "duration": 3,
    "start_time": "2022-10-19T10:56:37.612Z"
   },
   {
    "duration": 3,
    "start_time": "2022-10-19T10:56:41.901Z"
   },
   {
    "duration": 4,
    "start_time": "2022-10-19T10:56:43.961Z"
   },
   {
    "duration": 3,
    "start_time": "2022-10-19T13:05:23.524Z"
   },
   {
    "duration": 46,
    "start_time": "2022-10-19T13:07:54.898Z"
   },
   {
    "duration": 9,
    "start_time": "2022-10-19T13:09:40.303Z"
   },
   {
    "duration": 3,
    "start_time": "2022-10-19T13:13:17.423Z"
   },
   {
    "duration": 4,
    "start_time": "2022-10-19T13:13:19.835Z"
   },
   {
    "duration": 9,
    "start_time": "2022-10-19T13:13:22.679Z"
   },
   {
    "duration": 429,
    "start_time": "2022-10-19T13:13:32.995Z"
   },
   {
    "duration": 529,
    "start_time": "2022-10-19T13:13:33.427Z"
   },
   {
    "duration": 25,
    "start_time": "2022-10-19T13:13:33.958Z"
   },
   {
    "duration": 40,
    "start_time": "2022-10-19T13:13:33.985Z"
   },
   {
    "duration": 25,
    "start_time": "2022-10-19T13:13:34.027Z"
   },
   {
    "duration": 33,
    "start_time": "2022-10-19T13:13:34.053Z"
   },
   {
    "duration": 28,
    "start_time": "2022-10-19T13:13:34.088Z"
   },
   {
    "duration": 17,
    "start_time": "2022-10-19T13:13:34.118Z"
   },
   {
    "duration": 44,
    "start_time": "2022-10-19T13:13:34.137Z"
   },
   {
    "duration": 23,
    "start_time": "2022-10-19T13:13:34.184Z"
   },
   {
    "duration": 31,
    "start_time": "2022-10-19T13:13:34.209Z"
   },
   {
    "duration": 89,
    "start_time": "2022-10-19T13:13:34.243Z"
   },
   {
    "duration": 96,
    "start_time": "2022-10-19T13:13:34.334Z"
   },
   {
    "duration": 87,
    "start_time": "2022-10-19T13:13:34.432Z"
   },
   {
    "duration": 56,
    "start_time": "2022-10-19T13:13:34.521Z"
   },
   {
    "duration": 26,
    "start_time": "2022-10-19T13:13:34.579Z"
   },
   {
    "duration": 93,
    "start_time": "2022-10-19T13:13:34.607Z"
   },
   {
    "duration": 17,
    "start_time": "2022-10-19T13:13:34.704Z"
   },
   {
    "duration": 22,
    "start_time": "2022-10-19T13:13:34.723Z"
   },
   {
    "duration": 9,
    "start_time": "2022-10-19T13:13:34.747Z"
   },
   {
    "duration": 46,
    "start_time": "2022-10-19T13:13:34.758Z"
   },
   {
    "duration": 23,
    "start_time": "2022-10-19T13:13:34.807Z"
   },
   {
    "duration": 21,
    "start_time": "2022-10-19T13:13:34.833Z"
   },
   {
    "duration": 44,
    "start_time": "2022-10-19T13:13:34.857Z"
   },
   {
    "duration": 31,
    "start_time": "2022-10-19T13:13:34.903Z"
   },
   {
    "duration": 29,
    "start_time": "2022-10-19T13:13:34.937Z"
   },
   {
    "duration": 4,
    "start_time": "2022-10-19T13:13:34.968Z"
   },
   {
    "duration": 3,
    "start_time": "2022-10-19T13:13:34.998Z"
   },
   {
    "duration": 7,
    "start_time": "2022-10-19T13:13:35.003Z"
   },
   {
    "duration": 108,
    "start_time": "2022-10-19T13:13:35.012Z"
   },
   {
    "duration": 0,
    "start_time": "2022-10-19T13:13:35.122Z"
   },
   {
    "duration": 0,
    "start_time": "2022-10-19T13:13:35.124Z"
   },
   {
    "duration": 0,
    "start_time": "2022-10-19T13:13:35.126Z"
   },
   {
    "duration": 0,
    "start_time": "2022-10-19T13:13:35.128Z"
   },
   {
    "duration": 0,
    "start_time": "2022-10-19T13:13:35.129Z"
   },
   {
    "duration": 0,
    "start_time": "2022-10-19T13:13:35.131Z"
   },
   {
    "duration": 0,
    "start_time": "2022-10-19T13:13:35.132Z"
   },
   {
    "duration": 0,
    "start_time": "2022-10-19T13:13:35.134Z"
   },
   {
    "duration": 3,
    "start_time": "2022-10-19T13:14:49.084Z"
   },
   {
    "duration": 9,
    "start_time": "2022-10-19T13:15:48.241Z"
   },
   {
    "duration": 72,
    "start_time": "2022-10-19T13:16:22.732Z"
   },
   {
    "duration": 4,
    "start_time": "2022-10-19T13:19:16.636Z"
   },
   {
    "duration": 5,
    "start_time": "2022-10-19T13:19:19.448Z"
   },
   {
    "duration": 442,
    "start_time": "2022-10-19T13:41:26.765Z"
   },
   {
    "duration": 173,
    "start_time": "2022-10-19T13:41:27.209Z"
   },
   {
    "duration": 19,
    "start_time": "2022-10-19T13:41:27.384Z"
   },
   {
    "duration": 33,
    "start_time": "2022-10-19T13:41:27.405Z"
   },
   {
    "duration": 3,
    "start_time": "2022-10-19T13:41:27.439Z"
   },
   {
    "duration": 8,
    "start_time": "2022-10-19T13:41:27.443Z"
   },
   {
    "duration": 13,
    "start_time": "2022-10-19T13:41:27.452Z"
   },
   {
    "duration": 6,
    "start_time": "2022-10-19T13:41:27.466Z"
   },
   {
    "duration": 26,
    "start_time": "2022-10-19T13:41:27.497Z"
   },
   {
    "duration": 20,
    "start_time": "2022-10-19T13:41:27.526Z"
   },
   {
    "duration": 24,
    "start_time": "2022-10-19T13:41:27.548Z"
   },
   {
    "duration": 85,
    "start_time": "2022-10-19T13:41:27.574Z"
   },
   {
    "duration": 99,
    "start_time": "2022-10-19T13:41:27.660Z"
   },
   {
    "duration": 73,
    "start_time": "2022-10-19T13:41:27.761Z"
   },
   {
    "duration": 41,
    "start_time": "2022-10-19T13:41:27.836Z"
   },
   {
    "duration": 23,
    "start_time": "2022-10-19T13:41:27.879Z"
   },
   {
    "duration": 41,
    "start_time": "2022-10-19T13:41:27.904Z"
   },
   {
    "duration": 13,
    "start_time": "2022-10-19T13:41:27.947Z"
   },
   {
    "duration": 36,
    "start_time": "2022-10-19T13:41:27.961Z"
   },
   {
    "duration": 4,
    "start_time": "2022-10-19T13:41:28.000Z"
   },
   {
    "duration": 23,
    "start_time": "2022-10-19T13:41:28.006Z"
   },
   {
    "duration": 14,
    "start_time": "2022-10-19T13:41:28.031Z"
   },
   {
    "duration": 15,
    "start_time": "2022-10-19T13:41:28.046Z"
   },
   {
    "duration": 40,
    "start_time": "2022-10-19T13:41:28.062Z"
   },
   {
    "duration": 17,
    "start_time": "2022-10-19T13:41:28.104Z"
   },
   {
    "duration": 15,
    "start_time": "2022-10-19T13:41:28.122Z"
   },
   {
    "duration": 16,
    "start_time": "2022-10-19T13:41:28.139Z"
   },
   {
    "duration": 1547,
    "start_time": "2022-10-19T13:41:28.159Z"
   },
   {
    "duration": 0,
    "start_time": "2022-10-19T13:41:29.709Z"
   },
   {
    "duration": 0,
    "start_time": "2022-10-19T13:41:29.710Z"
   },
   {
    "duration": 0,
    "start_time": "2022-10-19T13:41:29.712Z"
   },
   {
    "duration": 0,
    "start_time": "2022-10-19T13:41:29.713Z"
   },
   {
    "duration": 0,
    "start_time": "2022-10-19T13:41:29.715Z"
   },
   {
    "duration": 0,
    "start_time": "2022-10-19T13:41:29.716Z"
   },
   {
    "duration": 0,
    "start_time": "2022-10-19T13:41:29.717Z"
   },
   {
    "duration": 0,
    "start_time": "2022-10-19T13:41:29.720Z"
   },
   {
    "duration": 0,
    "start_time": "2022-10-19T13:41:29.721Z"
   },
   {
    "duration": 1,
    "start_time": "2022-10-19T13:41:29.722Z"
   },
   {
    "duration": 11,
    "start_time": "2022-10-19T13:42:25.804Z"
   },
   {
    "duration": 11,
    "start_time": "2022-10-19T13:42:29.924Z"
   },
   {
    "duration": 442,
    "start_time": "2022-10-19T13:56:13.678Z"
   },
   {
    "duration": 190,
    "start_time": "2022-10-19T13:56:14.122Z"
   },
   {
    "duration": 18,
    "start_time": "2022-10-19T13:56:14.313Z"
   },
   {
    "duration": 43,
    "start_time": "2022-10-19T13:56:14.333Z"
   },
   {
    "duration": 19,
    "start_time": "2022-10-19T13:56:14.378Z"
   },
   {
    "duration": 24,
    "start_time": "2022-10-19T13:56:14.398Z"
   },
   {
    "duration": 26,
    "start_time": "2022-10-19T13:56:14.424Z"
   },
   {
    "duration": 21,
    "start_time": "2022-10-19T13:56:14.452Z"
   },
   {
    "duration": 57,
    "start_time": "2022-10-19T13:56:14.475Z"
   },
   {
    "duration": 28,
    "start_time": "2022-10-19T13:56:14.536Z"
   },
   {
    "duration": 34,
    "start_time": "2022-10-19T13:56:14.566Z"
   },
   {
    "duration": 85,
    "start_time": "2022-10-19T13:56:14.602Z"
   },
   {
    "duration": 84,
    "start_time": "2022-10-19T13:56:14.689Z"
   },
   {
    "duration": 66,
    "start_time": "2022-10-19T13:56:14.775Z"
   },
   {
    "duration": 55,
    "start_time": "2022-10-19T13:56:14.843Z"
   },
   {
    "duration": 12,
    "start_time": "2022-10-19T13:56:14.900Z"
   },
   {
    "duration": 41,
    "start_time": "2022-10-19T13:56:14.914Z"
   },
   {
    "duration": 13,
    "start_time": "2022-10-19T13:56:14.957Z"
   },
   {
    "duration": 36,
    "start_time": "2022-10-19T13:56:14.971Z"
   },
   {
    "duration": 35,
    "start_time": "2022-10-19T13:56:15.009Z"
   },
   {
    "duration": 46,
    "start_time": "2022-10-19T13:56:15.046Z"
   },
   {
    "duration": 32,
    "start_time": "2022-10-19T13:56:15.094Z"
   },
   {
    "duration": 27,
    "start_time": "2022-10-19T13:56:15.129Z"
   },
   {
    "duration": 17,
    "start_time": "2022-10-19T13:56:15.158Z"
   },
   {
    "duration": 37,
    "start_time": "2022-10-19T13:56:15.176Z"
   },
   {
    "duration": 17,
    "start_time": "2022-10-19T13:56:15.215Z"
   },
   {
    "duration": 19,
    "start_time": "2022-10-19T13:56:15.233Z"
   },
   {
    "duration": 18,
    "start_time": "2022-10-19T13:56:15.256Z"
   },
   {
    "duration": 18,
    "start_time": "2022-10-19T13:56:15.275Z"
   },
   {
    "duration": 19,
    "start_time": "2022-10-19T13:56:15.295Z"
   },
   {
    "duration": 26,
    "start_time": "2022-10-19T13:56:15.315Z"
   },
   {
    "duration": 17,
    "start_time": "2022-10-19T13:56:15.343Z"
   },
   {
    "duration": 9,
    "start_time": "2022-10-19T13:56:15.361Z"
   },
   {
    "duration": 22,
    "start_time": "2022-10-19T13:56:15.372Z"
   },
   {
    "duration": 23,
    "start_time": "2022-10-19T13:56:15.396Z"
   },
   {
    "duration": 30,
    "start_time": "2022-10-19T13:56:15.421Z"
   },
   {
    "duration": 17,
    "start_time": "2022-10-19T13:56:15.453Z"
   },
   {
    "duration": 17,
    "start_time": "2022-10-19T13:56:15.472Z"
   },
   {
    "duration": 5,
    "start_time": "2022-10-19T13:57:51.267Z"
   },
   {
    "duration": 5,
    "start_time": "2022-10-19T13:58:02.509Z"
   },
   {
    "duration": 5,
    "start_time": "2022-10-19T13:58:30.427Z"
   },
   {
    "duration": 4,
    "start_time": "2022-10-19T13:58:35.329Z"
   },
   {
    "duration": 5,
    "start_time": "2022-10-19T13:58:45.167Z"
   },
   {
    "duration": 4,
    "start_time": "2022-10-19T13:59:01.476Z"
   },
   {
    "duration": 389,
    "start_time": "2022-10-19T14:18:05.937Z"
   },
   {
    "duration": 184,
    "start_time": "2022-10-19T14:18:06.328Z"
   },
   {
    "duration": 19,
    "start_time": "2022-10-19T14:18:06.513Z"
   },
   {
    "duration": 32,
    "start_time": "2022-10-19T14:18:06.534Z"
   },
   {
    "duration": 2,
    "start_time": "2022-10-19T14:18:06.568Z"
   },
   {
    "duration": 26,
    "start_time": "2022-10-19T14:18:06.572Z"
   },
   {
    "duration": 13,
    "start_time": "2022-10-19T14:18:06.600Z"
   },
   {
    "duration": 8,
    "start_time": "2022-10-19T14:18:06.615Z"
   },
   {
    "duration": 33,
    "start_time": "2022-10-19T14:18:06.625Z"
   },
   {
    "duration": 45,
    "start_time": "2022-10-19T14:18:06.661Z"
   },
   {
    "duration": 30,
    "start_time": "2022-10-19T14:18:06.708Z"
   },
   {
    "duration": 88,
    "start_time": "2022-10-19T14:18:06.739Z"
   },
   {
    "duration": 104,
    "start_time": "2022-10-19T14:18:06.829Z"
   },
   {
    "duration": 73,
    "start_time": "2022-10-19T14:18:06.935Z"
   },
   {
    "duration": 44,
    "start_time": "2022-10-19T14:18:07.010Z"
   },
   {
    "duration": 12,
    "start_time": "2022-10-19T14:18:07.055Z"
   },
   {
    "duration": 64,
    "start_time": "2022-10-19T14:18:07.068Z"
   },
   {
    "duration": 13,
    "start_time": "2022-10-19T14:18:07.134Z"
   },
   {
    "duration": 14,
    "start_time": "2022-10-19T14:18:07.149Z"
   },
   {
    "duration": 4,
    "start_time": "2022-10-19T14:18:07.165Z"
   },
   {
    "duration": 46,
    "start_time": "2022-10-19T14:18:07.170Z"
   },
   {
    "duration": 17,
    "start_time": "2022-10-19T14:18:07.217Z"
   },
   {
    "duration": 16,
    "start_time": "2022-10-19T14:18:07.236Z"
   },
   {
    "duration": 16,
    "start_time": "2022-10-19T14:18:07.254Z"
   },
   {
    "duration": 41,
    "start_time": "2022-10-19T14:18:07.272Z"
   },
   {
    "duration": 17,
    "start_time": "2022-10-19T14:18:07.316Z"
   },
   {
    "duration": 4,
    "start_time": "2022-10-19T14:18:07.335Z"
   },
   {
    "duration": 11,
    "start_time": "2022-10-19T14:18:07.344Z"
   },
   {
    "duration": 46,
    "start_time": "2022-10-19T14:18:07.357Z"
   },
   {
    "duration": 4,
    "start_time": "2022-10-19T14:18:07.405Z"
   },
   {
    "duration": 26,
    "start_time": "2022-10-19T14:18:07.411Z"
   },
   {
    "duration": 13,
    "start_time": "2022-10-19T14:18:07.438Z"
   },
   {
    "duration": 46,
    "start_time": "2022-10-19T14:18:07.452Z"
   },
   {
    "duration": 13,
    "start_time": "2022-10-19T14:18:07.500Z"
   },
   {
    "duration": 3,
    "start_time": "2022-10-19T14:18:07.514Z"
   },
   {
    "duration": 8,
    "start_time": "2022-10-19T14:18:07.518Z"
   },
   {
    "duration": 5,
    "start_time": "2022-10-19T14:18:07.527Z"
   },
   {
    "duration": 5,
    "start_time": "2022-10-19T14:18:07.534Z"
   },
   {
    "duration": 419,
    "start_time": "2022-10-19T14:22:52.906Z"
   },
   {
    "duration": 179,
    "start_time": "2022-10-19T14:22:53.327Z"
   },
   {
    "duration": 17,
    "start_time": "2022-10-19T14:22:53.509Z"
   },
   {
    "duration": 30,
    "start_time": "2022-10-19T14:22:53.528Z"
   },
   {
    "duration": 3,
    "start_time": "2022-10-19T14:22:53.559Z"
   },
   {
    "duration": 8,
    "start_time": "2022-10-19T14:22:53.563Z"
   },
   {
    "duration": 36,
    "start_time": "2022-10-19T14:22:53.573Z"
   },
   {
    "duration": 7,
    "start_time": "2022-10-19T14:22:53.611Z"
   },
   {
    "duration": 28,
    "start_time": "2022-10-19T14:22:53.620Z"
   },
   {
    "duration": 22,
    "start_time": "2022-10-19T14:22:53.651Z"
   },
   {
    "duration": 27,
    "start_time": "2022-10-19T14:22:53.697Z"
   },
   {
    "duration": 80,
    "start_time": "2022-10-19T14:22:53.726Z"
   },
   {
    "duration": 76,
    "start_time": "2022-10-19T14:22:53.809Z"
   },
   {
    "duration": 69,
    "start_time": "2022-10-19T14:22:53.887Z"
   },
   {
    "duration": 57,
    "start_time": "2022-10-19T14:22:53.958Z"
   },
   {
    "duration": 12,
    "start_time": "2022-10-19T14:22:54.017Z"
   },
   {
    "duration": 44,
    "start_time": "2022-10-19T14:22:54.031Z"
   },
   {
    "duration": 14,
    "start_time": "2022-10-19T14:22:54.096Z"
   },
   {
    "duration": 13,
    "start_time": "2022-10-19T14:22:54.112Z"
   },
   {
    "duration": 4,
    "start_time": "2022-10-19T14:22:54.126Z"
   },
   {
    "duration": 28,
    "start_time": "2022-10-19T14:22:54.132Z"
   },
   {
    "duration": 41,
    "start_time": "2022-10-19T14:22:54.161Z"
   },
   {
    "duration": 16,
    "start_time": "2022-10-19T14:22:54.203Z"
   },
   {
    "duration": 14,
    "start_time": "2022-10-19T14:22:54.221Z"
   },
   {
    "duration": 17,
    "start_time": "2022-10-19T14:22:54.237Z"
   },
   {
    "duration": 47,
    "start_time": "2022-10-19T14:22:54.256Z"
   },
   {
    "duration": 4,
    "start_time": "2022-10-19T14:22:54.304Z"
   },
   {
    "duration": 14,
    "start_time": "2022-10-19T14:22:54.312Z"
   },
   {
    "duration": 10,
    "start_time": "2022-10-19T14:22:54.327Z"
   },
   {
    "duration": 5,
    "start_time": "2022-10-19T14:22:54.338Z"
   },
   {
    "duration": 31,
    "start_time": "2022-10-19T14:22:54.345Z"
   },
   {
    "duration": 35,
    "start_time": "2022-10-19T14:22:54.377Z"
   },
   {
    "duration": 21,
    "start_time": "2022-10-19T14:22:54.414Z"
   },
   {
    "duration": 16,
    "start_time": "2022-10-19T14:22:54.437Z"
   },
   {
    "duration": 5,
    "start_time": "2022-10-19T14:22:54.455Z"
   },
   {
    "duration": 8,
    "start_time": "2022-10-19T14:22:54.462Z"
   },
   {
    "duration": 4,
    "start_time": "2022-10-19T14:22:54.496Z"
   },
   {
    "duration": 6,
    "start_time": "2022-10-19T14:22:54.503Z"
   },
   {
    "duration": 33,
    "start_time": "2022-10-19T14:24:41.399Z"
   },
   {
    "duration": 93,
    "start_time": "2022-10-19T14:25:16.727Z"
   },
   {
    "duration": 30,
    "start_time": "2022-10-19T14:26:04.796Z"
   },
   {
    "duration": 428,
    "start_time": "2022-10-19T14:27:27.058Z"
   },
   {
    "duration": 182,
    "start_time": "2022-10-19T14:27:27.488Z"
   },
   {
    "duration": 19,
    "start_time": "2022-10-19T14:27:27.672Z"
   },
   {
    "duration": 31,
    "start_time": "2022-10-19T14:27:27.697Z"
   },
   {
    "duration": 4,
    "start_time": "2022-10-19T14:27:27.729Z"
   },
   {
    "duration": 8,
    "start_time": "2022-10-19T14:27:27.734Z"
   },
   {
    "duration": 14,
    "start_time": "2022-10-19T14:27:27.744Z"
   },
   {
    "duration": 9,
    "start_time": "2022-10-19T14:27:27.759Z"
   },
   {
    "duration": 52,
    "start_time": "2022-10-19T14:27:27.770Z"
   },
   {
    "duration": 21,
    "start_time": "2022-10-19T14:27:27.825Z"
   },
   {
    "duration": 25,
    "start_time": "2022-10-19T14:27:27.848Z"
   },
   {
    "duration": 96,
    "start_time": "2022-10-19T14:27:27.875Z"
   },
   {
    "duration": 129,
    "start_time": "2022-10-19T14:27:27.973Z"
   },
   {
    "duration": 101,
    "start_time": "2022-10-19T14:27:28.104Z"
   },
   {
    "duration": 63,
    "start_time": "2022-10-19T14:27:28.208Z"
   },
   {
    "duration": 31,
    "start_time": "2022-10-19T14:27:28.273Z"
   },
   {
    "duration": 60,
    "start_time": "2022-10-19T14:27:28.307Z"
   },
   {
    "duration": 28,
    "start_time": "2022-10-19T14:27:28.369Z"
   },
   {
    "duration": 22,
    "start_time": "2022-10-19T14:27:28.400Z"
   },
   {
    "duration": 4,
    "start_time": "2022-10-19T14:27:28.424Z"
   },
   {
    "duration": 32,
    "start_time": "2022-10-19T14:27:28.430Z"
   },
   {
    "duration": 17,
    "start_time": "2022-10-19T14:27:28.463Z"
   },
   {
    "duration": 18,
    "start_time": "2022-10-19T14:27:28.497Z"
   },
   {
    "duration": 16,
    "start_time": "2022-10-19T14:27:28.517Z"
   },
   {
    "duration": 19,
    "start_time": "2022-10-19T14:27:28.534Z"
   },
   {
    "duration": 52,
    "start_time": "2022-10-19T14:27:28.555Z"
   },
   {
    "duration": 6,
    "start_time": "2022-10-19T14:27:28.609Z"
   },
   {
    "duration": 16,
    "start_time": "2022-10-19T14:27:28.619Z"
   },
   {
    "duration": 12,
    "start_time": "2022-10-19T14:27:28.637Z"
   },
   {
    "duration": 6,
    "start_time": "2022-10-19T14:27:28.651Z"
   },
   {
    "duration": 60,
    "start_time": "2022-10-19T14:27:28.659Z"
   },
   {
    "duration": 13,
    "start_time": "2022-10-19T14:27:28.722Z"
   },
   {
    "duration": 20,
    "start_time": "2022-10-19T14:27:28.736Z"
   },
   {
    "duration": 12,
    "start_time": "2022-10-19T14:27:28.758Z"
   },
   {
    "duration": 106,
    "start_time": "2022-10-19T14:27:28.771Z"
   },
   {
    "duration": 0,
    "start_time": "2022-10-19T14:27:28.879Z"
   },
   {
    "duration": 0,
    "start_time": "2022-10-19T14:27:28.881Z"
   },
   {
    "duration": 0,
    "start_time": "2022-10-19T14:27:28.882Z"
   },
   {
    "duration": 29,
    "start_time": "2022-10-19T14:27:34.922Z"
   },
   {
    "duration": 26,
    "start_time": "2022-10-19T14:27:54.973Z"
   },
   {
    "duration": 9,
    "start_time": "2022-10-19T14:28:50.049Z"
   },
   {
    "duration": 3,
    "start_time": "2022-10-19T14:29:11.831Z"
   },
   {
    "duration": 6,
    "start_time": "2022-10-19T14:29:28.446Z"
   },
   {
    "duration": 8,
    "start_time": "2022-10-19T14:30:58.501Z"
   },
   {
    "duration": 8,
    "start_time": "2022-10-19T14:31:13.825Z"
   },
   {
    "duration": 8,
    "start_time": "2022-10-19T14:31:19.409Z"
   },
   {
    "duration": 8,
    "start_time": "2022-10-19T14:31:26.572Z"
   },
   {
    "duration": 5,
    "start_time": "2022-10-19T14:31:46.597Z"
   },
   {
    "duration": 192,
    "start_time": "2022-10-19T15:03:24.421Z"
   },
   {
    "duration": 679,
    "start_time": "2022-10-19T15:03:43.019Z"
   },
   {
    "duration": 606,
    "start_time": "2022-10-19T15:03:45.553Z"
   },
   {
    "duration": 639,
    "start_time": "2022-10-19T15:03:47.199Z"
   }
  ],
  "celltoolbar": "Редактировать метаданные",
  "colab": {
   "collapsed_sections": [
    "E0vqbgi9ay0H",
    "VUC88oWjTJw2"
   ],
   "name": "automatization_template_upd4.ipynb",
   "provenance": []
  },
  "kernelspec": {
   "display_name": "Python 3 (ipykernel)",
   "language": "python",
   "name": "python3"
  },
  "language_info": {
   "codemirror_mode": {
    "name": "ipython",
    "version": 3
   },
   "file_extension": ".py",
   "mimetype": "text/x-python",
   "name": "python",
   "nbconvert_exporter": "python",
   "pygments_lexer": "ipython3",
   "version": "3.9.5"
  },
  "toc": {
   "base_numbering": 1,
   "nav_menu": {
    "height": "215px",
    "width": "403px"
   },
   "number_sections": true,
   "sideBar": true,
   "skip_h1_title": true,
   "title_cell": "Table of Contents",
   "title_sidebar": "Contents",
   "toc_cell": false,
   "toc_position": {
    "height": "calc(100% - 180px)",
    "left": "10px",
    "top": "150px",
    "width": "285.825px"
   },
   "toc_section_display": true,
   "toc_window_display": false
  }
 },
 "nbformat": 4,
 "nbformat_minor": 1
}
