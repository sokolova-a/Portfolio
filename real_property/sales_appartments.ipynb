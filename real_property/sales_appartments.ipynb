{
 "cells": [
  {
   "cell_type": "markdown",
   "metadata": {},
   "source": [
    "# Исследование объявлений о продаже квартир\n",
    "\n",
    "В вашем распоряжении данные сервиса Яндекс.Недвижимость — архив объявлений о продаже квартир в Санкт-Петербурге и соседних населённых пунктов за несколько лет. Нужно научиться определять рыночную стоимость объектов недвижимости. Ваша задача — установить параметры. Это позволит построить автоматизированную систему: она отследит аномалии и мошенническую деятельность. \n",
    "\n",
    "По каждой квартире на продажу доступны два вида данных. Первые вписаны пользователем, вторые — получены автоматически на основе картографических данных. Например, расстояние до центра, аэропорта, ближайшего парка и водоёма. "
   ]
  },
  {
   "cell_type": "markdown",
   "metadata": {},
   "source": [
    "**Цель исследования:**\n",
    "\n",
    "1. Определить рыночную стоимость объектов недвижимости.\n",
    "2. Построить автоматизированную систему, которая отследит аномалии и мошенническую деятельность.\n",
    "3. Установить какие факторы влияют на ценообразование стоимости квартир.\n",
    "\n",
    "**Ход исследования**\n",
    "\n",
    "Данные о недвижимости я получу из файла 'datasets/real_estate_data.csv'. О качестве данных ничего неизвестно. Поэтому перед тем, как приступать к целям ииследования, понадобится обзор данных.\n",
    "\n",
    "Я проверю данные на ошибки и оценю их влияние на ииследование. Затем на этапе преобработки я поищу возможность исправить все ошибки данных, которые не приведут к искажению конечного результата. Далее создам необходимые столбцы и приступлю к проведению исследовательского анализа.\n",
    "\n",
    "Таким образом, моё исследование пройдёт в 7 этапов:\n",
    "1. Обзор данных.\n",
    "2. Предобработка данных.\n",
    "3. Расчеты и добавление результатов в таблицу.\n",
    "4. Проведение анализа для Ленинградской области.\n",
    "5. Проведение анализа для Санкт-Петербурга.\n",
    "6. Различаются ли факторы, которые влияет на ценообразование квартир.\n",
    "7. Написание общего вывода."
   ]
  },
  {
   "cell_type": "markdown",
   "metadata": {},
   "source": [
    "### Откройте файл с данными и изучите общую информацию. "
   ]
  },
  {
   "cell_type": "markdown",
   "metadata": {},
   "source": [
    "#### Импорт данных из csv-файла в датафрейм и сохранение в переменной `data`.\n"
   ]
  },
  {
   "cell_type": "code",
   "execution_count": 11,
   "metadata": {},
   "outputs": [],
   "source": [
    "import pandas as pd\n",
    "import matplotlib.pyplot as plt \n",
    "import seaborn as sns\n",
    "import numpy as np\n",
    "\n",
    "try:\n",
    "    data = pd.read_csv('/datasets/real_estate_data.csv', sep='\\t')\n",
    "except:\n",
    "    data = pd.read_csv('https://code.s3.yandex.net/datasets/real_estate_data.csv', sep='\\t')"
   ]
  },
  {
   "cell_type": "markdown",
   "metadata": {},
   "source": [
    "#### Ознакомление с данными. Вывод первых 20 строк.\n"
   ]
  },
  {
   "cell_type": "code",
   "execution_count": 12,
   "metadata": {},
   "outputs": [
    {
     "data": {
      "text/html": [
       "<div>\n",
       "<style scoped>\n",
       "    .dataframe tbody tr th:only-of-type {\n",
       "        vertical-align: middle;\n",
       "    }\n",
       "\n",
       "    .dataframe tbody tr th {\n",
       "        vertical-align: top;\n",
       "    }\n",
       "\n",
       "    .dataframe thead th {\n",
       "        text-align: right;\n",
       "    }\n",
       "</style>\n",
       "<table border=\"1\" class=\"dataframe\">\n",
       "  <thead>\n",
       "    <tr style=\"text-align: right;\">\n",
       "      <th></th>\n",
       "      <th>total_images</th>\n",
       "      <th>last_price</th>\n",
       "      <th>total_area</th>\n",
       "      <th>first_day_exposition</th>\n",
       "      <th>rooms</th>\n",
       "      <th>ceiling_height</th>\n",
       "      <th>floors_total</th>\n",
       "      <th>living_area</th>\n",
       "      <th>floor</th>\n",
       "      <th>is_apartment</th>\n",
       "      <th>...</th>\n",
       "      <th>kitchen_area</th>\n",
       "      <th>balcony</th>\n",
       "      <th>locality_name</th>\n",
       "      <th>airports_nearest</th>\n",
       "      <th>cityCenters_nearest</th>\n",
       "      <th>parks_around3000</th>\n",
       "      <th>parks_nearest</th>\n",
       "      <th>ponds_around3000</th>\n",
       "      <th>ponds_nearest</th>\n",
       "      <th>days_exposition</th>\n",
       "    </tr>\n",
       "  </thead>\n",
       "  <tbody>\n",
       "    <tr>\n",
       "      <th>0</th>\n",
       "      <td>20</td>\n",
       "      <td>13000000.0</td>\n",
       "      <td>108.00</td>\n",
       "      <td>2019-03-07T00:00:00</td>\n",
       "      <td>3</td>\n",
       "      <td>2.70</td>\n",
       "      <td>16.0</td>\n",
       "      <td>51.00</td>\n",
       "      <td>8</td>\n",
       "      <td>NaN</td>\n",
       "      <td>...</td>\n",
       "      <td>25.00</td>\n",
       "      <td>NaN</td>\n",
       "      <td>Санкт-Петербург</td>\n",
       "      <td>18863.0</td>\n",
       "      <td>16028.0</td>\n",
       "      <td>1.0</td>\n",
       "      <td>482.0</td>\n",
       "      <td>2.0</td>\n",
       "      <td>755.0</td>\n",
       "      <td>NaN</td>\n",
       "    </tr>\n",
       "    <tr>\n",
       "      <th>1</th>\n",
       "      <td>7</td>\n",
       "      <td>3350000.0</td>\n",
       "      <td>40.40</td>\n",
       "      <td>2018-12-04T00:00:00</td>\n",
       "      <td>1</td>\n",
       "      <td>NaN</td>\n",
       "      <td>11.0</td>\n",
       "      <td>18.60</td>\n",
       "      <td>1</td>\n",
       "      <td>NaN</td>\n",
       "      <td>...</td>\n",
       "      <td>11.00</td>\n",
       "      <td>2.0</td>\n",
       "      <td>посёлок Шушары</td>\n",
       "      <td>12817.0</td>\n",
       "      <td>18603.0</td>\n",
       "      <td>0.0</td>\n",
       "      <td>NaN</td>\n",
       "      <td>0.0</td>\n",
       "      <td>NaN</td>\n",
       "      <td>81.0</td>\n",
       "    </tr>\n",
       "    <tr>\n",
       "      <th>2</th>\n",
       "      <td>10</td>\n",
       "      <td>5196000.0</td>\n",
       "      <td>56.00</td>\n",
       "      <td>2015-08-20T00:00:00</td>\n",
       "      <td>2</td>\n",
       "      <td>NaN</td>\n",
       "      <td>5.0</td>\n",
       "      <td>34.30</td>\n",
       "      <td>4</td>\n",
       "      <td>NaN</td>\n",
       "      <td>...</td>\n",
       "      <td>8.30</td>\n",
       "      <td>0.0</td>\n",
       "      <td>Санкт-Петербург</td>\n",
       "      <td>21741.0</td>\n",
       "      <td>13933.0</td>\n",
       "      <td>1.0</td>\n",
       "      <td>90.0</td>\n",
       "      <td>2.0</td>\n",
       "      <td>574.0</td>\n",
       "      <td>558.0</td>\n",
       "    </tr>\n",
       "    <tr>\n",
       "      <th>3</th>\n",
       "      <td>0</td>\n",
       "      <td>64900000.0</td>\n",
       "      <td>159.00</td>\n",
       "      <td>2015-07-24T00:00:00</td>\n",
       "      <td>3</td>\n",
       "      <td>NaN</td>\n",
       "      <td>14.0</td>\n",
       "      <td>NaN</td>\n",
       "      <td>9</td>\n",
       "      <td>NaN</td>\n",
       "      <td>...</td>\n",
       "      <td>NaN</td>\n",
       "      <td>0.0</td>\n",
       "      <td>Санкт-Петербург</td>\n",
       "      <td>28098.0</td>\n",
       "      <td>6800.0</td>\n",
       "      <td>2.0</td>\n",
       "      <td>84.0</td>\n",
       "      <td>3.0</td>\n",
       "      <td>234.0</td>\n",
       "      <td>424.0</td>\n",
       "    </tr>\n",
       "    <tr>\n",
       "      <th>4</th>\n",
       "      <td>2</td>\n",
       "      <td>10000000.0</td>\n",
       "      <td>100.00</td>\n",
       "      <td>2018-06-19T00:00:00</td>\n",
       "      <td>2</td>\n",
       "      <td>3.03</td>\n",
       "      <td>14.0</td>\n",
       "      <td>32.00</td>\n",
       "      <td>13</td>\n",
       "      <td>NaN</td>\n",
       "      <td>...</td>\n",
       "      <td>41.00</td>\n",
       "      <td>NaN</td>\n",
       "      <td>Санкт-Петербург</td>\n",
       "      <td>31856.0</td>\n",
       "      <td>8098.0</td>\n",
       "      <td>2.0</td>\n",
       "      <td>112.0</td>\n",
       "      <td>1.0</td>\n",
       "      <td>48.0</td>\n",
       "      <td>121.0</td>\n",
       "    </tr>\n",
       "    <tr>\n",
       "      <th>5</th>\n",
       "      <td>10</td>\n",
       "      <td>2890000.0</td>\n",
       "      <td>30.40</td>\n",
       "      <td>2018-09-10T00:00:00</td>\n",
       "      <td>1</td>\n",
       "      <td>NaN</td>\n",
       "      <td>12.0</td>\n",
       "      <td>14.40</td>\n",
       "      <td>5</td>\n",
       "      <td>NaN</td>\n",
       "      <td>...</td>\n",
       "      <td>9.10</td>\n",
       "      <td>NaN</td>\n",
       "      <td>городской посёлок Янино-1</td>\n",
       "      <td>NaN</td>\n",
       "      <td>NaN</td>\n",
       "      <td>NaN</td>\n",
       "      <td>NaN</td>\n",
       "      <td>NaN</td>\n",
       "      <td>NaN</td>\n",
       "      <td>55.0</td>\n",
       "    </tr>\n",
       "    <tr>\n",
       "      <th>6</th>\n",
       "      <td>6</td>\n",
       "      <td>3700000.0</td>\n",
       "      <td>37.30</td>\n",
       "      <td>2017-11-02T00:00:00</td>\n",
       "      <td>1</td>\n",
       "      <td>NaN</td>\n",
       "      <td>26.0</td>\n",
       "      <td>10.60</td>\n",
       "      <td>6</td>\n",
       "      <td>NaN</td>\n",
       "      <td>...</td>\n",
       "      <td>14.40</td>\n",
       "      <td>1.0</td>\n",
       "      <td>посёлок Парголово</td>\n",
       "      <td>52996.0</td>\n",
       "      <td>19143.0</td>\n",
       "      <td>0.0</td>\n",
       "      <td>NaN</td>\n",
       "      <td>0.0</td>\n",
       "      <td>NaN</td>\n",
       "      <td>155.0</td>\n",
       "    </tr>\n",
       "    <tr>\n",
       "      <th>7</th>\n",
       "      <td>5</td>\n",
       "      <td>7915000.0</td>\n",
       "      <td>71.60</td>\n",
       "      <td>2019-04-18T00:00:00</td>\n",
       "      <td>2</td>\n",
       "      <td>NaN</td>\n",
       "      <td>24.0</td>\n",
       "      <td>NaN</td>\n",
       "      <td>22</td>\n",
       "      <td>NaN</td>\n",
       "      <td>...</td>\n",
       "      <td>18.90</td>\n",
       "      <td>2.0</td>\n",
       "      <td>Санкт-Петербург</td>\n",
       "      <td>23982.0</td>\n",
       "      <td>11634.0</td>\n",
       "      <td>0.0</td>\n",
       "      <td>NaN</td>\n",
       "      <td>0.0</td>\n",
       "      <td>NaN</td>\n",
       "      <td>NaN</td>\n",
       "    </tr>\n",
       "    <tr>\n",
       "      <th>8</th>\n",
       "      <td>20</td>\n",
       "      <td>2900000.0</td>\n",
       "      <td>33.16</td>\n",
       "      <td>2018-05-23T00:00:00</td>\n",
       "      <td>1</td>\n",
       "      <td>NaN</td>\n",
       "      <td>27.0</td>\n",
       "      <td>15.43</td>\n",
       "      <td>26</td>\n",
       "      <td>NaN</td>\n",
       "      <td>...</td>\n",
       "      <td>8.81</td>\n",
       "      <td>NaN</td>\n",
       "      <td>посёлок Мурино</td>\n",
       "      <td>NaN</td>\n",
       "      <td>NaN</td>\n",
       "      <td>NaN</td>\n",
       "      <td>NaN</td>\n",
       "      <td>NaN</td>\n",
       "      <td>NaN</td>\n",
       "      <td>189.0</td>\n",
       "    </tr>\n",
       "    <tr>\n",
       "      <th>9</th>\n",
       "      <td>18</td>\n",
       "      <td>5400000.0</td>\n",
       "      <td>61.00</td>\n",
       "      <td>2017-02-26T00:00:00</td>\n",
       "      <td>3</td>\n",
       "      <td>2.50</td>\n",
       "      <td>9.0</td>\n",
       "      <td>43.60</td>\n",
       "      <td>7</td>\n",
       "      <td>NaN</td>\n",
       "      <td>...</td>\n",
       "      <td>6.50</td>\n",
       "      <td>2.0</td>\n",
       "      <td>Санкт-Петербург</td>\n",
       "      <td>50898.0</td>\n",
       "      <td>15008.0</td>\n",
       "      <td>0.0</td>\n",
       "      <td>NaN</td>\n",
       "      <td>0.0</td>\n",
       "      <td>NaN</td>\n",
       "      <td>289.0</td>\n",
       "    </tr>\n",
       "    <tr>\n",
       "      <th>10</th>\n",
       "      <td>5</td>\n",
       "      <td>5050000.0</td>\n",
       "      <td>39.60</td>\n",
       "      <td>2017-11-16T00:00:00</td>\n",
       "      <td>1</td>\n",
       "      <td>2.67</td>\n",
       "      <td>12.0</td>\n",
       "      <td>20.30</td>\n",
       "      <td>3</td>\n",
       "      <td>NaN</td>\n",
       "      <td>...</td>\n",
       "      <td>8.50</td>\n",
       "      <td>NaN</td>\n",
       "      <td>Санкт-Петербург</td>\n",
       "      <td>38357.0</td>\n",
       "      <td>13878.0</td>\n",
       "      <td>1.0</td>\n",
       "      <td>310.0</td>\n",
       "      <td>2.0</td>\n",
       "      <td>553.0</td>\n",
       "      <td>137.0</td>\n",
       "    </tr>\n",
       "    <tr>\n",
       "      <th>11</th>\n",
       "      <td>9</td>\n",
       "      <td>3300000.0</td>\n",
       "      <td>44.00</td>\n",
       "      <td>2018-08-27T00:00:00</td>\n",
       "      <td>2</td>\n",
       "      <td>NaN</td>\n",
       "      <td>5.0</td>\n",
       "      <td>31.00</td>\n",
       "      <td>4</td>\n",
       "      <td>False</td>\n",
       "      <td>...</td>\n",
       "      <td>6.00</td>\n",
       "      <td>1.0</td>\n",
       "      <td>Ломоносов</td>\n",
       "      <td>48252.0</td>\n",
       "      <td>51677.0</td>\n",
       "      <td>0.0</td>\n",
       "      <td>NaN</td>\n",
       "      <td>0.0</td>\n",
       "      <td>NaN</td>\n",
       "      <td>7.0</td>\n",
       "    </tr>\n",
       "    <tr>\n",
       "      <th>12</th>\n",
       "      <td>10</td>\n",
       "      <td>3890000.0</td>\n",
       "      <td>54.00</td>\n",
       "      <td>2016-06-30T00:00:00</td>\n",
       "      <td>2</td>\n",
       "      <td>NaN</td>\n",
       "      <td>5.0</td>\n",
       "      <td>30.00</td>\n",
       "      <td>5</td>\n",
       "      <td>NaN</td>\n",
       "      <td>...</td>\n",
       "      <td>9.00</td>\n",
       "      <td>0.0</td>\n",
       "      <td>Сертолово</td>\n",
       "      <td>NaN</td>\n",
       "      <td>NaN</td>\n",
       "      <td>NaN</td>\n",
       "      <td>NaN</td>\n",
       "      <td>NaN</td>\n",
       "      <td>NaN</td>\n",
       "      <td>90.0</td>\n",
       "    </tr>\n",
       "    <tr>\n",
       "      <th>13</th>\n",
       "      <td>20</td>\n",
       "      <td>3550000.0</td>\n",
       "      <td>42.80</td>\n",
       "      <td>2017-07-01T00:00:00</td>\n",
       "      <td>2</td>\n",
       "      <td>2.56</td>\n",
       "      <td>5.0</td>\n",
       "      <td>27.00</td>\n",
       "      <td>5</td>\n",
       "      <td>NaN</td>\n",
       "      <td>...</td>\n",
       "      <td>5.20</td>\n",
       "      <td>1.0</td>\n",
       "      <td>Петергоф</td>\n",
       "      <td>37868.0</td>\n",
       "      <td>33058.0</td>\n",
       "      <td>1.0</td>\n",
       "      <td>294.0</td>\n",
       "      <td>3.0</td>\n",
       "      <td>298.0</td>\n",
       "      <td>366.0</td>\n",
       "    </tr>\n",
       "    <tr>\n",
       "      <th>14</th>\n",
       "      <td>1</td>\n",
       "      <td>4400000.0</td>\n",
       "      <td>36.00</td>\n",
       "      <td>2016-06-23T00:00:00</td>\n",
       "      <td>1</td>\n",
       "      <td>NaN</td>\n",
       "      <td>6.0</td>\n",
       "      <td>17.00</td>\n",
       "      <td>1</td>\n",
       "      <td>NaN</td>\n",
       "      <td>...</td>\n",
       "      <td>8.00</td>\n",
       "      <td>0.0</td>\n",
       "      <td>Пушкин</td>\n",
       "      <td>20782.0</td>\n",
       "      <td>30759.0</td>\n",
       "      <td>0.0</td>\n",
       "      <td>NaN</td>\n",
       "      <td>1.0</td>\n",
       "      <td>96.0</td>\n",
       "      <td>203.0</td>\n",
       "    </tr>\n",
       "    <tr>\n",
       "      <th>15</th>\n",
       "      <td>16</td>\n",
       "      <td>4650000.0</td>\n",
       "      <td>39.00</td>\n",
       "      <td>2017-11-18T00:00:00</td>\n",
       "      <td>1</td>\n",
       "      <td>NaN</td>\n",
       "      <td>14.0</td>\n",
       "      <td>20.50</td>\n",
       "      <td>5</td>\n",
       "      <td>NaN</td>\n",
       "      <td>...</td>\n",
       "      <td>7.60</td>\n",
       "      <td>1.0</td>\n",
       "      <td>Санкт-Петербург</td>\n",
       "      <td>12900.0</td>\n",
       "      <td>14259.0</td>\n",
       "      <td>1.0</td>\n",
       "      <td>590.0</td>\n",
       "      <td>1.0</td>\n",
       "      <td>296.0</td>\n",
       "      <td>19.0</td>\n",
       "    </tr>\n",
       "    <tr>\n",
       "      <th>16</th>\n",
       "      <td>11</td>\n",
       "      <td>6700000.0</td>\n",
       "      <td>82.00</td>\n",
       "      <td>2017-11-23T00:00:00</td>\n",
       "      <td>3</td>\n",
       "      <td>3.05</td>\n",
       "      <td>5.0</td>\n",
       "      <td>55.60</td>\n",
       "      <td>1</td>\n",
       "      <td>NaN</td>\n",
       "      <td>...</td>\n",
       "      <td>9.00</td>\n",
       "      <td>NaN</td>\n",
       "      <td>Санкт-Петербург</td>\n",
       "      <td>22108.0</td>\n",
       "      <td>10698.0</td>\n",
       "      <td>3.0</td>\n",
       "      <td>420.0</td>\n",
       "      <td>0.0</td>\n",
       "      <td>NaN</td>\n",
       "      <td>397.0</td>\n",
       "    </tr>\n",
       "    <tr>\n",
       "      <th>17</th>\n",
       "      <td>6</td>\n",
       "      <td>4180000.0</td>\n",
       "      <td>36.00</td>\n",
       "      <td>2016-09-09T00:00:00</td>\n",
       "      <td>1</td>\n",
       "      <td>NaN</td>\n",
       "      <td>17.0</td>\n",
       "      <td>16.50</td>\n",
       "      <td>7</td>\n",
       "      <td>NaN</td>\n",
       "      <td>...</td>\n",
       "      <td>11.00</td>\n",
       "      <td>1.0</td>\n",
       "      <td>Санкт-Петербург</td>\n",
       "      <td>33564.0</td>\n",
       "      <td>14616.0</td>\n",
       "      <td>0.0</td>\n",
       "      <td>NaN</td>\n",
       "      <td>1.0</td>\n",
       "      <td>859.0</td>\n",
       "      <td>571.0</td>\n",
       "    </tr>\n",
       "    <tr>\n",
       "      <th>18</th>\n",
       "      <td>8</td>\n",
       "      <td>3250000.0</td>\n",
       "      <td>31.00</td>\n",
       "      <td>2017-01-27T00:00:00</td>\n",
       "      <td>1</td>\n",
       "      <td>2.50</td>\n",
       "      <td>5.0</td>\n",
       "      <td>19.40</td>\n",
       "      <td>2</td>\n",
       "      <td>NaN</td>\n",
       "      <td>...</td>\n",
       "      <td>5.60</td>\n",
       "      <td>1.0</td>\n",
       "      <td>Санкт-Петербург</td>\n",
       "      <td>44060.0</td>\n",
       "      <td>10842.0</td>\n",
       "      <td>1.0</td>\n",
       "      <td>759.0</td>\n",
       "      <td>0.0</td>\n",
       "      <td>NaN</td>\n",
       "      <td>168.0</td>\n",
       "    </tr>\n",
       "    <tr>\n",
       "      <th>19</th>\n",
       "      <td>16</td>\n",
       "      <td>14200000.0</td>\n",
       "      <td>121.00</td>\n",
       "      <td>2019-01-09T00:00:00</td>\n",
       "      <td>3</td>\n",
       "      <td>2.75</td>\n",
       "      <td>16.0</td>\n",
       "      <td>76.00</td>\n",
       "      <td>8</td>\n",
       "      <td>NaN</td>\n",
       "      <td>...</td>\n",
       "      <td>12.00</td>\n",
       "      <td>NaN</td>\n",
       "      <td>Санкт-Петербург</td>\n",
       "      <td>38900.0</td>\n",
       "      <td>12843.0</td>\n",
       "      <td>0.0</td>\n",
       "      <td>NaN</td>\n",
       "      <td>0.0</td>\n",
       "      <td>NaN</td>\n",
       "      <td>97.0</td>\n",
       "    </tr>\n",
       "  </tbody>\n",
       "</table>\n",
       "<p>20 rows × 22 columns</p>\n",
       "</div>"
      ],
      "text/plain": [
       "    total_images  last_price  total_area first_day_exposition  rooms  \\\n",
       "0             20  13000000.0      108.00  2019-03-07T00:00:00      3   \n",
       "1              7   3350000.0       40.40  2018-12-04T00:00:00      1   \n",
       "2             10   5196000.0       56.00  2015-08-20T00:00:00      2   \n",
       "3              0  64900000.0      159.00  2015-07-24T00:00:00      3   \n",
       "4              2  10000000.0      100.00  2018-06-19T00:00:00      2   \n",
       "5             10   2890000.0       30.40  2018-09-10T00:00:00      1   \n",
       "6              6   3700000.0       37.30  2017-11-02T00:00:00      1   \n",
       "7              5   7915000.0       71.60  2019-04-18T00:00:00      2   \n",
       "8             20   2900000.0       33.16  2018-05-23T00:00:00      1   \n",
       "9             18   5400000.0       61.00  2017-02-26T00:00:00      3   \n",
       "10             5   5050000.0       39.60  2017-11-16T00:00:00      1   \n",
       "11             9   3300000.0       44.00  2018-08-27T00:00:00      2   \n",
       "12            10   3890000.0       54.00  2016-06-30T00:00:00      2   \n",
       "13            20   3550000.0       42.80  2017-07-01T00:00:00      2   \n",
       "14             1   4400000.0       36.00  2016-06-23T00:00:00      1   \n",
       "15            16   4650000.0       39.00  2017-11-18T00:00:00      1   \n",
       "16            11   6700000.0       82.00  2017-11-23T00:00:00      3   \n",
       "17             6   4180000.0       36.00  2016-09-09T00:00:00      1   \n",
       "18             8   3250000.0       31.00  2017-01-27T00:00:00      1   \n",
       "19            16  14200000.0      121.00  2019-01-09T00:00:00      3   \n",
       "\n",
       "    ceiling_height  floors_total  living_area  floor is_apartment  ...  \\\n",
       "0             2.70          16.0        51.00      8          NaN  ...   \n",
       "1              NaN          11.0        18.60      1          NaN  ...   \n",
       "2              NaN           5.0        34.30      4          NaN  ...   \n",
       "3              NaN          14.0          NaN      9          NaN  ...   \n",
       "4             3.03          14.0        32.00     13          NaN  ...   \n",
       "5              NaN          12.0        14.40      5          NaN  ...   \n",
       "6              NaN          26.0        10.60      6          NaN  ...   \n",
       "7              NaN          24.0          NaN     22          NaN  ...   \n",
       "8              NaN          27.0        15.43     26          NaN  ...   \n",
       "9             2.50           9.0        43.60      7          NaN  ...   \n",
       "10            2.67          12.0        20.30      3          NaN  ...   \n",
       "11             NaN           5.0        31.00      4        False  ...   \n",
       "12             NaN           5.0        30.00      5          NaN  ...   \n",
       "13            2.56           5.0        27.00      5          NaN  ...   \n",
       "14             NaN           6.0        17.00      1          NaN  ...   \n",
       "15             NaN          14.0        20.50      5          NaN  ...   \n",
       "16            3.05           5.0        55.60      1          NaN  ...   \n",
       "17             NaN          17.0        16.50      7          NaN  ...   \n",
       "18            2.50           5.0        19.40      2          NaN  ...   \n",
       "19            2.75          16.0        76.00      8          NaN  ...   \n",
       "\n",
       "    kitchen_area  balcony              locality_name  airports_nearest  \\\n",
       "0          25.00      NaN            Санкт-Петербург           18863.0   \n",
       "1          11.00      2.0             посёлок Шушары           12817.0   \n",
       "2           8.30      0.0            Санкт-Петербург           21741.0   \n",
       "3            NaN      0.0            Санкт-Петербург           28098.0   \n",
       "4          41.00      NaN            Санкт-Петербург           31856.0   \n",
       "5           9.10      NaN  городской посёлок Янино-1               NaN   \n",
       "6          14.40      1.0          посёлок Парголово           52996.0   \n",
       "7          18.90      2.0            Санкт-Петербург           23982.0   \n",
       "8           8.81      NaN             посёлок Мурино               NaN   \n",
       "9           6.50      2.0            Санкт-Петербург           50898.0   \n",
       "10          8.50      NaN            Санкт-Петербург           38357.0   \n",
       "11          6.00      1.0                  Ломоносов           48252.0   \n",
       "12          9.00      0.0                  Сертолово               NaN   \n",
       "13          5.20      1.0                   Петергоф           37868.0   \n",
       "14          8.00      0.0                     Пушкин           20782.0   \n",
       "15          7.60      1.0            Санкт-Петербург           12900.0   \n",
       "16          9.00      NaN            Санкт-Петербург           22108.0   \n",
       "17         11.00      1.0            Санкт-Петербург           33564.0   \n",
       "18          5.60      1.0            Санкт-Петербург           44060.0   \n",
       "19         12.00      NaN            Санкт-Петербург           38900.0   \n",
       "\n",
       "   cityCenters_nearest  parks_around3000  parks_nearest  ponds_around3000  \\\n",
       "0              16028.0               1.0          482.0               2.0   \n",
       "1              18603.0               0.0            NaN               0.0   \n",
       "2              13933.0               1.0           90.0               2.0   \n",
       "3               6800.0               2.0           84.0               3.0   \n",
       "4               8098.0               2.0          112.0               1.0   \n",
       "5                  NaN               NaN            NaN               NaN   \n",
       "6              19143.0               0.0            NaN               0.0   \n",
       "7              11634.0               0.0            NaN               0.0   \n",
       "8                  NaN               NaN            NaN               NaN   \n",
       "9              15008.0               0.0            NaN               0.0   \n",
       "10             13878.0               1.0          310.0               2.0   \n",
       "11             51677.0               0.0            NaN               0.0   \n",
       "12                 NaN               NaN            NaN               NaN   \n",
       "13             33058.0               1.0          294.0               3.0   \n",
       "14             30759.0               0.0            NaN               1.0   \n",
       "15             14259.0               1.0          590.0               1.0   \n",
       "16             10698.0               3.0          420.0               0.0   \n",
       "17             14616.0               0.0            NaN               1.0   \n",
       "18             10842.0               1.0          759.0               0.0   \n",
       "19             12843.0               0.0            NaN               0.0   \n",
       "\n",
       "    ponds_nearest  days_exposition  \n",
       "0           755.0              NaN  \n",
       "1             NaN             81.0  \n",
       "2           574.0            558.0  \n",
       "3           234.0            424.0  \n",
       "4            48.0            121.0  \n",
       "5             NaN             55.0  \n",
       "6             NaN            155.0  \n",
       "7             NaN              NaN  \n",
       "8             NaN            189.0  \n",
       "9             NaN            289.0  \n",
       "10          553.0            137.0  \n",
       "11            NaN              7.0  \n",
       "12            NaN             90.0  \n",
       "13          298.0            366.0  \n",
       "14           96.0            203.0  \n",
       "15          296.0             19.0  \n",
       "16            NaN            397.0  \n",
       "17          859.0            571.0  \n",
       "18            NaN            168.0  \n",
       "19            NaN             97.0  \n",
       "\n",
       "[20 rows x 22 columns]"
      ]
     },
     "execution_count": 12,
     "metadata": {},
     "output_type": "execute_result"
    }
   ],
   "source": [
    "data.head(20)"
   ]
  },
  {
   "cell_type": "markdown",
   "metadata": {},
   "source": [
    "#### Описание данных.\n",
    "\n",
    "    airports_nearest — расстояние до ближайшего аэропорта в метрах (м)\n",
    "    balcony — число балконов\n",
    "    ceiling_height — высота потолков (м)\n",
    "    cityCenters_nearest — расстояние до центра города (м)\n",
    "    days_exposition — сколько дней было размещено объявление (от публикации до снятия)\n",
    "    first_day_exposition — дата публикации\n",
    "    floor — этаж\n",
    "    floors_total — всего этажей в доме\n",
    "    is_apartment — апартаменты (булев тип)\n",
    "    kitchen_area — площадь кухни в квадратных метрах (м²)\n",
    "    last_price — цена на момент снятия с публикации\n",
    "    living_area — жилая площадь в квадратных метрах (м²)\n",
    "    locality_name — название населённого пункта\n",
    "    open_plan — свободная планировка (булев тип)\n",
    "    parks_around3000 — число парков в радиусе 3 км\n",
    "    parks_nearest — расстояние до ближайшего парка (м)\n",
    "    ponds_around3000 — число водоёмов в радиусе 3 км\n",
    "    ponds_nearest — расстояние до ближайшего водоёма (м)\n",
    "    rooms — число комнат\n",
    "    studio — квартира-студия (булев тип)\n",
    "    total_area — общая площадь квартиры в квадратных метрах (м²)\n",
    "    total_images — число фотографий квартиры в объявлении"
   ]
  },
  {
   "cell_type": "markdown",
   "metadata": {},
   "source": [
    "#### Вывод основной информации о датафрейме."
   ]
  },
  {
   "cell_type": "code",
   "execution_count": 13,
   "metadata": {
    "scrolled": false
   },
   "outputs": [
    {
     "name": "stdout",
     "output_type": "stream",
     "text": [
      "<class 'pandas.core.frame.DataFrame'>\n",
      "RangeIndex: 23699 entries, 0 to 23698\n",
      "Data columns (total 22 columns):\n",
      " #   Column                Non-Null Count  Dtype  \n",
      "---  ------                --------------  -----  \n",
      " 0   total_images          23699 non-null  int64  \n",
      " 1   last_price            23699 non-null  float64\n",
      " 2   total_area            23699 non-null  float64\n",
      " 3   first_day_exposition  23699 non-null  object \n",
      " 4   rooms                 23699 non-null  int64  \n",
      " 5   ceiling_height        14504 non-null  float64\n",
      " 6   floors_total          23613 non-null  float64\n",
      " 7   living_area           21796 non-null  float64\n",
      " 8   floor                 23699 non-null  int64  \n",
      " 9   is_apartment          2775 non-null   object \n",
      " 10  studio                23699 non-null  bool   \n",
      " 11  open_plan             23699 non-null  bool   \n",
      " 12  kitchen_area          21421 non-null  float64\n",
      " 13  balcony               12180 non-null  float64\n",
      " 14  locality_name         23650 non-null  object \n",
      " 15  airports_nearest      18157 non-null  float64\n",
      " 16  cityCenters_nearest   18180 non-null  float64\n",
      " 17  parks_around3000      18181 non-null  float64\n",
      " 18  parks_nearest         8079 non-null   float64\n",
      " 19  ponds_around3000      18181 non-null  float64\n",
      " 20  ponds_nearest         9110 non-null   float64\n",
      " 21  days_exposition       20518 non-null  float64\n",
      "dtypes: bool(2), float64(14), int64(3), object(3)\n",
      "memory usage: 3.7+ MB\n"
     ]
    }
   ],
   "source": [
    "data.info()"
   ]
  },
  {
   "cell_type": "markdown",
   "metadata": {},
   "source": [
    "#### Общая гистограмма для всех числовых столбцов таблицы"
   ]
  },
  {
   "cell_type": "code",
   "execution_count": 14,
   "metadata": {
    "scrolled": true
   },
   "outputs": [
    {
     "data": {
      "image/png": "[encoded data removed]",
      "text/plain": [
       "<Figure size 1080x1440 with 20 Axes>"
      ]
     },
     "metadata": {
      "needs_background": "light"
     },
     "output_type": "display_data"
    }
   ],
   "source": [
    "data.hist(figsize=(15, 20));"
   ]
  },
  {
   "cell_type": "markdown",
   "metadata": {},
   "source": [
    "### Предобработка данных"
   ]
  },
  {
   "cell_type": "markdown",
   "metadata": {},
   "source": [
    "#### Поиск пропущенных значений и анализ причин пропусков данных."
   ]
  },
  {
   "cell_type": "code",
   "execution_count": 15,
   "metadata": {
    "scrolled": true
   },
   "outputs": [
    {
     "data": {
      "text/html": [
       "<style  type=\"text/css\" >\n",
       "#T_2f49c_row0_col0,#T_2f49c_row1_col0,#T_2f49c_row2_col0,#T_2f49c_row3_col0,#T_2f49c_row4_col0,#T_2f49c_row6_col0,#T_2f49c_row8_col0,#T_2f49c_row10_col0,#T_2f49c_row11_col0,#T_2f49c_row14_col0{\n",
       "            background-color:  #3b4cc0;\n",
       "            color:  #f1f1f1;\n",
       "        }#T_2f49c_row5_col0{\n",
       "            background-color:  #cdd9ec;\n",
       "            color:  #000000;\n",
       "        }#T_2f49c_row7_col0{\n",
       "            background-color:  #5673e0;\n",
       "            color:  #000000;\n",
       "        }#T_2f49c_row9_col0{\n",
       "            background-color:  #b40426;\n",
       "            color:  #f1f1f1;\n",
       "        }#T_2f49c_row12_col0{\n",
       "            background-color:  #5e7de7;\n",
       "            color:  #000000;\n",
       "        }#T_2f49c_row13_col0{\n",
       "            background-color:  #ead4c8;\n",
       "            color:  #000000;\n",
       "        }#T_2f49c_row15_col0,#T_2f49c_row16_col0,#T_2f49c_row17_col0,#T_2f49c_row19_col0{\n",
       "            background-color:  #90b2fe;\n",
       "            color:  #000000;\n",
       "        }#T_2f49c_row18_col0{\n",
       "            background-color:  #f4987a;\n",
       "            color:  #000000;\n",
       "        }#T_2f49c_row20_col0{\n",
       "            background-color:  #f7aa8c;\n",
       "            color:  #000000;\n",
       "        }#T_2f49c_row21_col0{\n",
       "            background-color:  #688aef;\n",
       "            color:  #000000;\n",
       "        }</style><table id=\"T_2f49c_\" ><thead>    <tr>        <th class=\"blank level0\" ></th>        <th class=\"col_heading level0 col0\" >0</th>    </tr></thead><tbody>\n",
       "                <tr>\n",
       "                        <th id=\"T_2f49c_level0_row0\" class=\"row_heading level0 row0\" >total_images</th>\n",
       "                        <td id=\"T_2f49c_row0_col0\" class=\"data row0 col0\" >0.000000</td>\n",
       "            </tr>\n",
       "            <tr>\n",
       "                        <th id=\"T_2f49c_level0_row1\" class=\"row_heading level0 row1\" >last_price</th>\n",
       "                        <td id=\"T_2f49c_row1_col0\" class=\"data row1 col0\" >0.000000</td>\n",
       "            </tr>\n",
       "            <tr>\n",
       "                        <th id=\"T_2f49c_level0_row2\" class=\"row_heading level0 row2\" >total_area</th>\n",
       "                        <td id=\"T_2f49c_row2_col0\" class=\"data row2 col0\" >0.000000</td>\n",
       "            </tr>\n",
       "            <tr>\n",
       "                        <th id=\"T_2f49c_level0_row3\" class=\"row_heading level0 row3\" >first_day_exposition</th>\n",
       "                        <td id=\"T_2f49c_row3_col0\" class=\"data row3 col0\" >0.000000</td>\n",
       "            </tr>\n",
       "            <tr>\n",
       "                        <th id=\"T_2f49c_level0_row4\" class=\"row_heading level0 row4\" >rooms</th>\n",
       "                        <td id=\"T_2f49c_row4_col0\" class=\"data row4 col0\" >0.000000</td>\n",
       "            </tr>\n",
       "            <tr>\n",
       "                        <th id=\"T_2f49c_level0_row5\" class=\"row_heading level0 row5\" >ceiling_height</th>\n",
       "                        <td id=\"T_2f49c_row5_col0\" class=\"data row5 col0\" >39.000000</td>\n",
       "            </tr>\n",
       "            <tr>\n",
       "                        <th id=\"T_2f49c_level0_row6\" class=\"row_heading level0 row6\" >floors_total</th>\n",
       "                        <td id=\"T_2f49c_row6_col0\" class=\"data row6 col0\" >0.000000</td>\n",
       "            </tr>\n",
       "            <tr>\n",
       "                        <th id=\"T_2f49c_level0_row7\" class=\"row_heading level0 row7\" >living_area</th>\n",
       "                        <td id=\"T_2f49c_row7_col0\" class=\"data row7 col0\" >8.000000</td>\n",
       "            </tr>\n",
       "            <tr>\n",
       "                        <th id=\"T_2f49c_level0_row8\" class=\"row_heading level0 row8\" >floor</th>\n",
       "                        <td id=\"T_2f49c_row8_col0\" class=\"data row8 col0\" >0.000000</td>\n",
       "            </tr>\n",
       "            <tr>\n",
       "                        <th id=\"T_2f49c_level0_row9\" class=\"row_heading level0 row9\" >is_apartment</th>\n",
       "                        <td id=\"T_2f49c_row9_col0\" class=\"data row9 col0\" >88.000000</td>\n",
       "            </tr>\n",
       "            <tr>\n",
       "                        <th id=\"T_2f49c_level0_row10\" class=\"row_heading level0 row10\" >studio</th>\n",
       "                        <td id=\"T_2f49c_row10_col0\" class=\"data row10 col0\" >0.000000</td>\n",
       "            </tr>\n",
       "            <tr>\n",
       "                        <th id=\"T_2f49c_level0_row11\" class=\"row_heading level0 row11\" >open_plan</th>\n",
       "                        <td id=\"T_2f49c_row11_col0\" class=\"data row11 col0\" >0.000000</td>\n",
       "            </tr>\n",
       "            <tr>\n",
       "                        <th id=\"T_2f49c_level0_row12\" class=\"row_heading level0 row12\" >kitchen_area</th>\n",
       "                        <td id=\"T_2f49c_row12_col0\" class=\"data row12 col0\" >10.000000</td>\n",
       "            </tr>\n",
       "            <tr>\n",
       "                        <th id=\"T_2f49c_level0_row13\" class=\"row_heading level0 row13\" >balcony</th>\n",
       "                        <td id=\"T_2f49c_row13_col0\" class=\"data row13 col0\" >49.000000</td>\n",
       "            </tr>\n",
       "            <tr>\n",
       "                        <th id=\"T_2f49c_level0_row14\" class=\"row_heading level0 row14\" >locality_name</th>\n",
       "                        <td id=\"T_2f49c_row14_col0\" class=\"data row14 col0\" >0.000000</td>\n",
       "            </tr>\n",
       "            <tr>\n",
       "                        <th id=\"T_2f49c_level0_row15\" class=\"row_heading level0 row15\" >airports_nearest</th>\n",
       "                        <td id=\"T_2f49c_row15_col0\" class=\"data row15 col0\" >23.000000</td>\n",
       "            </tr>\n",
       "            <tr>\n",
       "                        <th id=\"T_2f49c_level0_row16\" class=\"row_heading level0 row16\" >cityCenters_nearest</th>\n",
       "                        <td id=\"T_2f49c_row16_col0\" class=\"data row16 col0\" >23.000000</td>\n",
       "            </tr>\n",
       "            <tr>\n",
       "                        <th id=\"T_2f49c_level0_row17\" class=\"row_heading level0 row17\" >parks_around3000</th>\n",
       "                        <td id=\"T_2f49c_row17_col0\" class=\"data row17 col0\" >23.000000</td>\n",
       "            </tr>\n",
       "            <tr>\n",
       "                        <th id=\"T_2f49c_level0_row18\" class=\"row_heading level0 row18\" >parks_nearest</th>\n",
       "                        <td id=\"T_2f49c_row18_col0\" class=\"data row18 col0\" >66.000000</td>\n",
       "            </tr>\n",
       "            <tr>\n",
       "                        <th id=\"T_2f49c_level0_row19\" class=\"row_heading level0 row19\" >ponds_around3000</th>\n",
       "                        <td id=\"T_2f49c_row19_col0\" class=\"data row19 col0\" >23.000000</td>\n",
       "            </tr>\n",
       "            <tr>\n",
       "                        <th id=\"T_2f49c_level0_row20\" class=\"row_heading level0 row20\" >ponds_nearest</th>\n",
       "                        <td id=\"T_2f49c_row20_col0\" class=\"data row20 col0\" >62.000000</td>\n",
       "            </tr>\n",
       "            <tr>\n",
       "                        <th id=\"T_2f49c_level0_row21\" class=\"row_heading level0 row21\" >days_exposition</th>\n",
       "                        <td id=\"T_2f49c_row21_col0\" class=\"data row21 col0\" >13.000000</td>\n",
       "            </tr>\n",
       "    </tbody></table>"
      ],
      "text/plain": [
       "<pandas.io.formats.style.Styler at 0x7f573d9ff940>"
      ]
     },
     "execution_count": 15,
     "metadata": {},
     "output_type": "execute_result"
    }
   ],
   "source": [
    "#data.isna().mean(axis=0)\n",
    "pd.DataFrame(round(data.isna().mean()*100,)).style.background_gradient('coolwarm')"
   ]
  },
  {
   "cell_type": "markdown",
   "metadata": {},
   "source": [
    "Есть пропуски в следующих столбцах:\n",
    "+ *airports_nearest — расстояние до ближайшего аэропорта в метрах (м)*\n",
    "+ *cityCenters_nearest — расстояние до центра города (м)*\n",
    "+ *parks_nearest — расстояние до ближайшего парка (м)*\n",
    "+ *ponds_nearest — расстояние до ближайшего водоёма (м)*\n",
    "\n",
    "Данные о расстоянии подтягиваются автоматически, значит пропуски в данных появились из-за технологического сбоя.\n",
    "\n",
    "+ *balcony — число балконов*\n",
    "\n",
    "Скорее всего, продавцы умышленно не указывали число балконов, т.к. в квартире их нет. \n",
    "\n",
    "+ *is_apartment — апартаменты*\n",
    "\n",
    "Тип данных должен быть булев тип, а не object как сейчас, т.к. столбец содержит категориальные значения. \n",
    "88,29% жилых помещений и 11,71% коммерческих - похоже на правду.  \n",
    "\n",
    "+ *days_exposition — сколько дней было размещено объявление (от публикации до снятия)*\n",
    "\n",
    "Скорее всего, на момент создания архива не все квартиры были проданы, а значит и объявления не были сняты с публикации.\n",
    "\n",
    "+ *ceiling_height — высота потолков (м)*\n",
    "\n",
    "Возможно, в квартире стандартная высота потолков или продавец не знал точную высоту, поэтому поле не было заполнено.\n",
    "\n",
    "+ *floors_total — всего этажей в доме*\n",
    "\n",
    "Т.к. датасет хранит данные о квартирах, то количество этажей должно быть указано во всех объявлениях. Возможно, пропуски возникли из-за того, что в датасете есть данные о таун-хаусах, у которых только 1 этаж, поэтому продавец сознательно решил не заполнять это поле. А возможно, 0,36% продавцов случайно оставили это поле пустым.\n",
    "\n",
    "+ *kitchen_area — площадь кухни в квадратных метрах (м²)*\n",
    "\n",
    "Если квартиры свободный планировки или студии , то площадь кухни продавцы могут не указать.\n",
    "9.6% пропусков - значительная часть данных. Причиной пропусков может быть и человеческий фактор, и технологический сбой.\n",
    "\n",
    "+ *living_area — жилая площадь в квадратных метрах (м²)*\n",
    "\n",
    "Если продаются апартаменты, то жилой прощади там нет, поэтому продавцы могли не заполнять это поле. \n",
    "В 8% объявлений не указана жилая площадь, в то время как апартаментов в данных 11,7%.\n",
    "\n",
    "+ *locality_name — название населённого пункта*\n",
    "\n",
    "0,2% пропусков в столбце - возможен и технологический сбой, и человеческий фактор.\n",
    "\n",
    "+ *parks_around3000 — число парков в радиусе 3 км*\n",
    "+ *ponds_around3000 — число водоёмов в радиусе 3 км*\n",
    "\n",
    "23,28% пропусков в обоих столбцах говорит о том, что часть продавцов предпочли не заполнять эти поля."
   ]
  },
  {
   "cell_type": "markdown",
   "metadata": {},
   "source": [
    "#### Заполнение пропусков в столбце \"balcony\"."
   ]
  },
  {
   "cell_type": "code",
   "execution_count": 16,
   "metadata": {},
   "outputs": [
    {
     "data": {
      "text/html": [
       "<div>\n",
       "<style scoped>\n",
       "    .dataframe tbody tr th:only-of-type {\n",
       "        vertical-align: middle;\n",
       "    }\n",
       "\n",
       "    .dataframe tbody tr th {\n",
       "        vertical-align: top;\n",
       "    }\n",
       "\n",
       "    .dataframe thead th {\n",
       "        text-align: right;\n",
       "    }\n",
       "</style>\n",
       "<table border=\"1\" class=\"dataframe\">\n",
       "  <thead>\n",
       "    <tr style=\"text-align: right;\">\n",
       "      <th></th>\n",
       "      <th>total_images</th>\n",
       "      <th>last_price</th>\n",
       "      <th>total_area</th>\n",
       "      <th>first_day_exposition</th>\n",
       "      <th>rooms</th>\n",
       "      <th>ceiling_height</th>\n",
       "      <th>floors_total</th>\n",
       "      <th>living_area</th>\n",
       "      <th>floor</th>\n",
       "      <th>is_apartment</th>\n",
       "      <th>...</th>\n",
       "      <th>kitchen_area</th>\n",
       "      <th>balcony</th>\n",
       "      <th>locality_name</th>\n",
       "      <th>airports_nearest</th>\n",
       "      <th>cityCenters_nearest</th>\n",
       "      <th>parks_around3000</th>\n",
       "      <th>parks_nearest</th>\n",
       "      <th>ponds_around3000</th>\n",
       "      <th>ponds_nearest</th>\n",
       "      <th>days_exposition</th>\n",
       "    </tr>\n",
       "  </thead>\n",
       "  <tbody>\n",
       "    <tr>\n",
       "      <th>0</th>\n",
       "      <td>20</td>\n",
       "      <td>13000000.0</td>\n",
       "      <td>108.0</td>\n",
       "      <td>2019-03-07T00:00:00</td>\n",
       "      <td>3</td>\n",
       "      <td>2.70</td>\n",
       "      <td>16.0</td>\n",
       "      <td>51.0</td>\n",
       "      <td>8</td>\n",
       "      <td>NaN</td>\n",
       "      <td>...</td>\n",
       "      <td>25.0</td>\n",
       "      <td>0.0</td>\n",
       "      <td>Санкт-Петербург</td>\n",
       "      <td>18863.0</td>\n",
       "      <td>16028.0</td>\n",
       "      <td>1.0</td>\n",
       "      <td>482.0</td>\n",
       "      <td>2.0</td>\n",
       "      <td>755.0</td>\n",
       "      <td>NaN</td>\n",
       "    </tr>\n",
       "    <tr>\n",
       "      <th>1</th>\n",
       "      <td>7</td>\n",
       "      <td>3350000.0</td>\n",
       "      <td>40.4</td>\n",
       "      <td>2018-12-04T00:00:00</td>\n",
       "      <td>1</td>\n",
       "      <td>NaN</td>\n",
       "      <td>11.0</td>\n",
       "      <td>18.6</td>\n",
       "      <td>1</td>\n",
       "      <td>NaN</td>\n",
       "      <td>...</td>\n",
       "      <td>11.0</td>\n",
       "      <td>2.0</td>\n",
       "      <td>посёлок Шушары</td>\n",
       "      <td>12817.0</td>\n",
       "      <td>18603.0</td>\n",
       "      <td>0.0</td>\n",
       "      <td>NaN</td>\n",
       "      <td>0.0</td>\n",
       "      <td>NaN</td>\n",
       "      <td>81.0</td>\n",
       "    </tr>\n",
       "    <tr>\n",
       "      <th>2</th>\n",
       "      <td>10</td>\n",
       "      <td>5196000.0</td>\n",
       "      <td>56.0</td>\n",
       "      <td>2015-08-20T00:00:00</td>\n",
       "      <td>2</td>\n",
       "      <td>NaN</td>\n",
       "      <td>5.0</td>\n",
       "      <td>34.3</td>\n",
       "      <td>4</td>\n",
       "      <td>NaN</td>\n",
       "      <td>...</td>\n",
       "      <td>8.3</td>\n",
       "      <td>0.0</td>\n",
       "      <td>Санкт-Петербург</td>\n",
       "      <td>21741.0</td>\n",
       "      <td>13933.0</td>\n",
       "      <td>1.0</td>\n",
       "      <td>90.0</td>\n",
       "      <td>2.0</td>\n",
       "      <td>574.0</td>\n",
       "      <td>558.0</td>\n",
       "    </tr>\n",
       "    <tr>\n",
       "      <th>3</th>\n",
       "      <td>0</td>\n",
       "      <td>64900000.0</td>\n",
       "      <td>159.0</td>\n",
       "      <td>2015-07-24T00:00:00</td>\n",
       "      <td>3</td>\n",
       "      <td>NaN</td>\n",
       "      <td>14.0</td>\n",
       "      <td>NaN</td>\n",
       "      <td>9</td>\n",
       "      <td>NaN</td>\n",
       "      <td>...</td>\n",
       "      <td>NaN</td>\n",
       "      <td>0.0</td>\n",
       "      <td>Санкт-Петербург</td>\n",
       "      <td>28098.0</td>\n",
       "      <td>6800.0</td>\n",
       "      <td>2.0</td>\n",
       "      <td>84.0</td>\n",
       "      <td>3.0</td>\n",
       "      <td>234.0</td>\n",
       "      <td>424.0</td>\n",
       "    </tr>\n",
       "    <tr>\n",
       "      <th>4</th>\n",
       "      <td>2</td>\n",
       "      <td>10000000.0</td>\n",
       "      <td>100.0</td>\n",
       "      <td>2018-06-19T00:00:00</td>\n",
       "      <td>2</td>\n",
       "      <td>3.03</td>\n",
       "      <td>14.0</td>\n",
       "      <td>32.0</td>\n",
       "      <td>13</td>\n",
       "      <td>NaN</td>\n",
       "      <td>...</td>\n",
       "      <td>41.0</td>\n",
       "      <td>0.0</td>\n",
       "      <td>Санкт-Петербург</td>\n",
       "      <td>31856.0</td>\n",
       "      <td>8098.0</td>\n",
       "      <td>2.0</td>\n",
       "      <td>112.0</td>\n",
       "      <td>1.0</td>\n",
       "      <td>48.0</td>\n",
       "      <td>121.0</td>\n",
       "    </tr>\n",
       "  </tbody>\n",
       "</table>\n",
       "<p>5 rows × 22 columns</p>\n",
       "</div>"
      ],
      "text/plain": [
       "   total_images  last_price  total_area first_day_exposition  rooms  \\\n",
       "0            20  13000000.0       108.0  2019-03-07T00:00:00      3   \n",
       "1             7   3350000.0        40.4  2018-12-04T00:00:00      1   \n",
       "2            10   5196000.0        56.0  2015-08-20T00:00:00      2   \n",
       "3             0  64900000.0       159.0  2015-07-24T00:00:00      3   \n",
       "4             2  10000000.0       100.0  2018-06-19T00:00:00      2   \n",
       "\n",
       "   ceiling_height  floors_total  living_area  floor is_apartment  ...  \\\n",
       "0            2.70          16.0         51.0      8          NaN  ...   \n",
       "1             NaN          11.0         18.6      1          NaN  ...   \n",
       "2             NaN           5.0         34.3      4          NaN  ...   \n",
       "3             NaN          14.0          NaN      9          NaN  ...   \n",
       "4            3.03          14.0         32.0     13          NaN  ...   \n",
       "\n",
       "   kitchen_area  balcony    locality_name  airports_nearest  \\\n",
       "0          25.0      0.0  Санкт-Петербург           18863.0   \n",
       "1          11.0      2.0   посёлок Шушары           12817.0   \n",
       "2           8.3      0.0  Санкт-Петербург           21741.0   \n",
       "3           NaN      0.0  Санкт-Петербург           28098.0   \n",
       "4          41.0      0.0  Санкт-Петербург           31856.0   \n",
       "\n",
       "  cityCenters_nearest  parks_around3000  parks_nearest  ponds_around3000  \\\n",
       "0             16028.0               1.0          482.0               2.0   \n",
       "1             18603.0               0.0            NaN               0.0   \n",
       "2             13933.0               1.0           90.0               2.0   \n",
       "3              6800.0               2.0           84.0               3.0   \n",
       "4              8098.0               2.0          112.0               1.0   \n",
       "\n",
       "   ponds_nearest  days_exposition  \n",
       "0          755.0              NaN  \n",
       "1            NaN             81.0  \n",
       "2          574.0            558.0  \n",
       "3          234.0            424.0  \n",
       "4           48.0            121.0  \n",
       "\n",
       "[5 rows x 22 columns]"
      ]
     },
     "execution_count": 16,
     "metadata": {},
     "output_type": "execute_result"
    }
   ],
   "source": [
    "data['balcony'] = data['balcony'].fillna(value=0)\n",
    "data.head()"
   ]
  },
  {
   "cell_type": "markdown",
   "metadata": {},
   "source": [
    "#### Заполнение пропусков в столбце \"ceiling_height\" медианным значением потолков."
   ]
  },
  {
   "cell_type": "code",
   "execution_count": 17,
   "metadata": {},
   "outputs": [
    {
     "data": {
      "text/html": [
       "<div>\n",
       "<style scoped>\n",
       "    .dataframe tbody tr th:only-of-type {\n",
       "        vertical-align: middle;\n",
       "    }\n",
       "\n",
       "    .dataframe tbody tr th {\n",
       "        vertical-align: top;\n",
       "    }\n",
       "\n",
       "    .dataframe thead th {\n",
       "        text-align: right;\n",
       "    }\n",
       "</style>\n",
       "<table border=\"1\" class=\"dataframe\">\n",
       "  <thead>\n",
       "    <tr style=\"text-align: right;\">\n",
       "      <th></th>\n",
       "      <th>total_images</th>\n",
       "      <th>last_price</th>\n",
       "      <th>total_area</th>\n",
       "      <th>first_day_exposition</th>\n",
       "      <th>rooms</th>\n",
       "      <th>ceiling_height</th>\n",
       "      <th>floors_total</th>\n",
       "      <th>living_area</th>\n",
       "      <th>floor</th>\n",
       "      <th>is_apartment</th>\n",
       "      <th>...</th>\n",
       "      <th>kitchen_area</th>\n",
       "      <th>balcony</th>\n",
       "      <th>locality_name</th>\n",
       "      <th>airports_nearest</th>\n",
       "      <th>cityCenters_nearest</th>\n",
       "      <th>parks_around3000</th>\n",
       "      <th>parks_nearest</th>\n",
       "      <th>ponds_around3000</th>\n",
       "      <th>ponds_nearest</th>\n",
       "      <th>days_exposition</th>\n",
       "    </tr>\n",
       "  </thead>\n",
       "  <tbody>\n",
       "    <tr>\n",
       "      <th>0</th>\n",
       "      <td>20</td>\n",
       "      <td>13000000.0</td>\n",
       "      <td>108.0</td>\n",
       "      <td>2019-03-07T00:00:00</td>\n",
       "      <td>3</td>\n",
       "      <td>2.70</td>\n",
       "      <td>16.0</td>\n",
       "      <td>51.0</td>\n",
       "      <td>8</td>\n",
       "      <td>NaN</td>\n",
       "      <td>...</td>\n",
       "      <td>25.0</td>\n",
       "      <td>0.0</td>\n",
       "      <td>Санкт-Петербург</td>\n",
       "      <td>18863.0</td>\n",
       "      <td>16028.0</td>\n",
       "      <td>1.0</td>\n",
       "      <td>482.0</td>\n",
       "      <td>2.0</td>\n",
       "      <td>755.0</td>\n",
       "      <td>NaN</td>\n",
       "    </tr>\n",
       "    <tr>\n",
       "      <th>1</th>\n",
       "      <td>7</td>\n",
       "      <td>3350000.0</td>\n",
       "      <td>40.4</td>\n",
       "      <td>2018-12-04T00:00:00</td>\n",
       "      <td>1</td>\n",
       "      <td>2.65</td>\n",
       "      <td>11.0</td>\n",
       "      <td>18.6</td>\n",
       "      <td>1</td>\n",
       "      <td>NaN</td>\n",
       "      <td>...</td>\n",
       "      <td>11.0</td>\n",
       "      <td>2.0</td>\n",
       "      <td>посёлок Шушары</td>\n",
       "      <td>12817.0</td>\n",
       "      <td>18603.0</td>\n",
       "      <td>0.0</td>\n",
       "      <td>NaN</td>\n",
       "      <td>0.0</td>\n",
       "      <td>NaN</td>\n",
       "      <td>81.0</td>\n",
       "    </tr>\n",
       "    <tr>\n",
       "      <th>2</th>\n",
       "      <td>10</td>\n",
       "      <td>5196000.0</td>\n",
       "      <td>56.0</td>\n",
       "      <td>2015-08-20T00:00:00</td>\n",
       "      <td>2</td>\n",
       "      <td>2.65</td>\n",
       "      <td>5.0</td>\n",
       "      <td>34.3</td>\n",
       "      <td>4</td>\n",
       "      <td>NaN</td>\n",
       "      <td>...</td>\n",
       "      <td>8.3</td>\n",
       "      <td>0.0</td>\n",
       "      <td>Санкт-Петербург</td>\n",
       "      <td>21741.0</td>\n",
       "      <td>13933.0</td>\n",
       "      <td>1.0</td>\n",
       "      <td>90.0</td>\n",
       "      <td>2.0</td>\n",
       "      <td>574.0</td>\n",
       "      <td>558.0</td>\n",
       "    </tr>\n",
       "    <tr>\n",
       "      <th>3</th>\n",
       "      <td>0</td>\n",
       "      <td>64900000.0</td>\n",
       "      <td>159.0</td>\n",
       "      <td>2015-07-24T00:00:00</td>\n",
       "      <td>3</td>\n",
       "      <td>2.65</td>\n",
       "      <td>14.0</td>\n",
       "      <td>NaN</td>\n",
       "      <td>9</td>\n",
       "      <td>NaN</td>\n",
       "      <td>...</td>\n",
       "      <td>NaN</td>\n",
       "      <td>0.0</td>\n",
       "      <td>Санкт-Петербург</td>\n",
       "      <td>28098.0</td>\n",
       "      <td>6800.0</td>\n",
       "      <td>2.0</td>\n",
       "      <td>84.0</td>\n",
       "      <td>3.0</td>\n",
       "      <td>234.0</td>\n",
       "      <td>424.0</td>\n",
       "    </tr>\n",
       "    <tr>\n",
       "      <th>4</th>\n",
       "      <td>2</td>\n",
       "      <td>10000000.0</td>\n",
       "      <td>100.0</td>\n",
       "      <td>2018-06-19T00:00:00</td>\n",
       "      <td>2</td>\n",
       "      <td>3.03</td>\n",
       "      <td>14.0</td>\n",
       "      <td>32.0</td>\n",
       "      <td>13</td>\n",
       "      <td>NaN</td>\n",
       "      <td>...</td>\n",
       "      <td>41.0</td>\n",
       "      <td>0.0</td>\n",
       "      <td>Санкт-Петербург</td>\n",
       "      <td>31856.0</td>\n",
       "      <td>8098.0</td>\n",
       "      <td>2.0</td>\n",
       "      <td>112.0</td>\n",
       "      <td>1.0</td>\n",
       "      <td>48.0</td>\n",
       "      <td>121.0</td>\n",
       "    </tr>\n",
       "  </tbody>\n",
       "</table>\n",
       "<p>5 rows × 22 columns</p>\n",
       "</div>"
      ],
      "text/plain": [
       "   total_images  last_price  total_area first_day_exposition  rooms  \\\n",
       "0            20  13000000.0       108.0  2019-03-07T00:00:00      3   \n",
       "1             7   3350000.0        40.4  2018-12-04T00:00:00      1   \n",
       "2            10   5196000.0        56.0  2015-08-20T00:00:00      2   \n",
       "3             0  64900000.0       159.0  2015-07-24T00:00:00      3   \n",
       "4             2  10000000.0       100.0  2018-06-19T00:00:00      2   \n",
       "\n",
       "   ceiling_height  floors_total  living_area  floor is_apartment  ...  \\\n",
       "0            2.70          16.0         51.0      8          NaN  ...   \n",
       "1            2.65          11.0         18.6      1          NaN  ...   \n",
       "2            2.65           5.0         34.3      4          NaN  ...   \n",
       "3            2.65          14.0          NaN      9          NaN  ...   \n",
       "4            3.03          14.0         32.0     13          NaN  ...   \n",
       "\n",
       "   kitchen_area  balcony    locality_name  airports_nearest  \\\n",
       "0          25.0      0.0  Санкт-Петербург           18863.0   \n",
       "1          11.0      2.0   посёлок Шушары           12817.0   \n",
       "2           8.3      0.0  Санкт-Петербург           21741.0   \n",
       "3           NaN      0.0  Санкт-Петербург           28098.0   \n",
       "4          41.0      0.0  Санкт-Петербург           31856.0   \n",
       "\n",
       "  cityCenters_nearest  parks_around3000  parks_nearest  ponds_around3000  \\\n",
       "0             16028.0               1.0          482.0               2.0   \n",
       "1             18603.0               0.0            NaN               0.0   \n",
       "2             13933.0               1.0           90.0               2.0   \n",
       "3              6800.0               2.0           84.0               3.0   \n",
       "4              8098.0               2.0          112.0               1.0   \n",
       "\n",
       "   ponds_nearest  days_exposition  \n",
       "0          755.0              NaN  \n",
       "1            NaN             81.0  \n",
       "2          574.0            558.0  \n",
       "3          234.0            424.0  \n",
       "4           48.0            121.0  \n",
       "\n",
       "[5 rows x 22 columns]"
      ]
     },
     "execution_count": 17,
     "metadata": {},
     "output_type": "execute_result"
    }
   ],
   "source": [
    "data['ceiling_height'] = data['ceiling_height'].fillna(value=data['ceiling_height'].median())\n",
    "data.head()"
   ]
  },
  {
   "cell_type": "markdown",
   "metadata": {},
   "source": [
    "#### Изучение пропусков в столбце \"floors_total\"."
   ]
  },
  {
   "cell_type": "code",
   "execution_count": 18,
   "metadata": {},
   "outputs": [
    {
     "data": {
      "text/plain": [
       "83"
      ]
     },
     "execution_count": 18,
     "metadata": {},
     "output_type": "execute_result"
    }
   ],
   "source": [
    "len(data.loc[(data['floors_total'].isna()) & (data['floor']!=1)])"
   ]
  },
  {
   "cell_type": "code",
   "execution_count": 19,
   "metadata": {},
   "outputs": [
    {
     "data": {
      "text/plain": [
       "3"
      ]
     },
     "execution_count": 19,
     "metadata": {},
     "output_type": "execute_result"
    }
   ],
   "source": [
    "len(data.loc[(data['floors_total'].isna()) & (data['floor']==1)])"
   ]
  },
  {
   "cell_type": "markdown",
   "metadata": {},
   "source": [
    "Гипотеза об одноэтажных квартирных домах подтвердилась частично - для 3 случаев из 86. \n",
    "\n",
    "0,36% пропусков в столбцах - процент несущественный. Удалим такие строки."
   ]
  },
  {
   "cell_type": "code",
   "execution_count": 20,
   "metadata": {},
   "outputs": [],
   "source": [
    "data.dropna(subset=['floors_total'], inplace = True)"
   ]
  },
  {
   "cell_type": "markdown",
   "metadata": {},
   "source": [
    "#### Изучение пропусков в столбце \"kitchen_area\"."
   ]
  },
  {
   "cell_type": "code",
   "execution_count": 21,
   "metadata": {},
   "outputs": [
    {
     "data": {
      "text/plain": [
       "0.6183034768983188"
      ]
     },
     "execution_count": 21,
     "metadata": {},
     "output_type": "execute_result"
    }
   ],
   "source": [
    "len(data.loc[data['studio'] == True]) / len(data) * 100"
   ]
  },
  {
   "cell_type": "code",
   "execution_count": 22,
   "metadata": {},
   "outputs": [
    {
     "data": {
      "text/plain": [
       "0.2837420065218312"
      ]
     },
     "execution_count": 22,
     "metadata": {},
     "output_type": "execute_result"
    }
   ],
   "source": [
    "len(data.loc[data['open_plan'] == True]) / len(data) * 100"
   ]
  },
  {
   "cell_type": "markdown",
   "metadata": {},
   "source": [
    "Гипотеза о том, что площадь кухни не указана только у студий и квартир свободной планировки, не подтвердилась.\n",
    "\n",
    "Студий всего 0.61% от общего числа квартир, квартир со свободной планировкой - 0.28%,\n",
    "в то время как пропусков в поле \"kitchen_area\" - 9.6%. Удаляем такие строки."
   ]
  },
  {
   "cell_type": "code",
   "execution_count": 23,
   "metadata": {},
   "outputs": [],
   "source": [
    "data.dropna(subset=['kitchen_area'], inplace = True)"
   ]
  },
  {
   "cell_type": "markdown",
   "metadata": {},
   "source": [
    "#### Изучение пропусков в оставшихся столбцах."
   ]
  },
  {
   "cell_type": "markdown",
   "metadata": {},
   "source": [
    "Остались следующие столбцы с пропусками:\n",
    "+ airports_nearest \n",
    "+ cityCenters_nearest\n",
    "+ parks_nearest\n",
    "+ ponds_nearest \n",
    "+ locality_name\n",
    "+ parks_around3000\n",
    "+ ponds_around3000 \n",
    "\n",
    "Невозможно заменить пропуски в указанных выше столбцах на средние, медианные или стандартные значения. Процент пропусков в \n",
    "этих столбцах больше 10%, поэтому удалить строки из датафрейма не можем. Данные в этих столбцах оставляем без изменений. "
   ]
  },
  {
   "cell_type": "markdown",
   "metadata": {},
   "source": [
    "#### Изменение типа данных столбца \"is_apartment\" и заполнение пропусков в столбцах \"is_apartment\" и \"living_area\"."
   ]
  },
  {
   "cell_type": "code",
   "execution_count": 24,
   "metadata": {},
   "outputs": [
    {
     "name": "stdout",
     "output_type": "stream",
     "text": [
      "<class 'pandas.core.frame.DataFrame'>\n",
      "Int64Index: 21382 entries, 0 to 23698\n",
      "Data columns (total 22 columns):\n",
      " #   Column                Non-Null Count  Dtype  \n",
      "---  ------                --------------  -----  \n",
      " 0   total_images          21382 non-null  int64  \n",
      " 1   last_price            21382 non-null  float64\n",
      " 2   total_area            21382 non-null  float64\n",
      " 3   first_day_exposition  21382 non-null  object \n",
      " 4   rooms                 21382 non-null  int64  \n",
      " 5   ceiling_height        21382 non-null  float64\n",
      " 6   floors_total          21382 non-null  float64\n",
      " 7   living_area           20943 non-null  float64\n",
      " 8   floor                 21382 non-null  int64  \n",
      " 9   is_apartment          21382 non-null  bool   \n",
      " 10  studio                21382 non-null  bool   \n",
      " 11  open_plan             21382 non-null  bool   \n",
      " 12  kitchen_area          21382 non-null  float64\n",
      " 13  balcony               21382 non-null  float64\n",
      " 14  locality_name         21343 non-null  object \n",
      " 15  airports_nearest      16560 non-null  float64\n",
      " 16  cityCenters_nearest   16581 non-null  float64\n",
      " 17  parks_around3000      16582 non-null  float64\n",
      " 18  parks_nearest         7378 non-null   float64\n",
      " 19  ponds_around3000      16582 non-null  float64\n",
      " 20  ponds_nearest         8246 non-null   float64\n",
      " 21  days_exposition       18409 non-null  float64\n",
      "dtypes: bool(3), float64(14), int64(3), object(2)\n",
      "memory usage: 3.3+ MB\n"
     ]
    }
   ],
   "source": [
    "data['is_apartment'] = data['is_apartment'].astype(bool)\n",
    "data.info()"
   ]
  },
  {
   "cell_type": "code",
   "execution_count": 25,
   "metadata": {},
   "outputs": [
    {
     "data": {
      "text/plain": [
       "11.925918997287438"
      ]
     },
     "execution_count": 25,
     "metadata": {},
     "output_type": "execute_result"
    }
   ],
   "source": [
    "len(data.loc[data['is_apartment'] == False]) / len(data) * 100"
   ]
  },
  {
   "cell_type": "markdown",
   "metadata": {},
   "source": [
    "11,9% жилых квартир в продаже от общего числа - однозначно что-то тут не так. Т.к. апартаменты - это не жилые помещения, то для всех квартир, у которых указана площадь жилого помещения, поставим значение False в поле \"is_apartment\"."
   ]
  },
  {
   "cell_type": "code",
   "execution_count": 26,
   "metadata": {},
   "outputs": [],
   "source": [
    "data.loc[data['living_area'] > 0,'is_apartment'] = False"
   ]
  },
  {
   "cell_type": "code",
   "execution_count": 27,
   "metadata": {},
   "outputs": [
    {
     "data": {
      "text/plain": [
       "1.8379945748760638"
      ]
     },
     "execution_count": 27,
     "metadata": {},
     "output_type": "execute_result"
    }
   ],
   "source": [
    "len(data.loc[data['is_apartment'] == True]) / len(data) * 100"
   ]
  },
  {
   "cell_type": "markdown",
   "metadata": {},
   "source": [
    "1.83% апартаментов от общего числа квартир и 8,03% пропусков в данных о жилой площади -  в пропусках данных о жилой площади апартаментов ставим значение 0."
   ]
  },
  {
   "cell_type": "code",
   "execution_count": 28,
   "metadata": {},
   "outputs": [],
   "source": [
    "data.loc[data['is_apartment'] == True,'living_area'] = 0"
   ]
  },
  {
   "cell_type": "code",
   "execution_count": 29,
   "metadata": {},
   "outputs": [
    {
     "data": {
      "text/plain": [
       "0.0021513422504910672"
      ]
     },
     "execution_count": 29,
     "metadata": {},
     "output_type": "execute_result"
    }
   ],
   "source": [
    "data['living_area'].isna().mean()"
   ]
  },
  {
   "cell_type": "markdown",
   "metadata": {},
   "source": [
    "Доля пропусков в столбце \"living_area\" снизилась с 0.0803 до 0.0022, т.е. в 36,5 раз!"
   ]
  },
  {
   "cell_type": "markdown",
   "metadata": {},
   "source": [
    "Удаляем строки с оставшимися пропусками в столбце living_area."
   ]
  },
  {
   "cell_type": "code",
   "execution_count": 30,
   "metadata": {},
   "outputs": [],
   "source": [
    "data.dropna(subset=['living_area'], inplace = True)"
   ]
  },
  {
   "cell_type": "markdown",
   "metadata": {},
   "source": [
    "Обновляем типы данных до корректных."
   ]
  },
  {
   "cell_type": "code",
   "execution_count": 31,
   "metadata": {},
   "outputs": [],
   "source": [
    "data['balcony'] = data['balcony'].astype('int')"
   ]
  },
  {
   "cell_type": "code",
   "execution_count": 32,
   "metadata": {},
   "outputs": [],
   "source": [
    "data['floors_total'] = data['floors_total'].astype('int')"
   ]
  },
  {
   "cell_type": "markdown",
   "metadata": {},
   "source": [
    "#### Изучение дубликатов."
   ]
  },
  {
   "cell_type": "markdown",
   "metadata": {},
   "source": [
    "Проверим датафрейм на наличие явных дубликатов."
   ]
  },
  {
   "cell_type": "code",
   "execution_count": 33,
   "metadata": {},
   "outputs": [
    {
     "data": {
      "text/plain": [
       "0"
      ]
     },
     "execution_count": 33,
     "metadata": {},
     "output_type": "execute_result"
    }
   ],
   "source": [
    "data.duplicated().sum()"
   ]
  },
  {
   "cell_type": "markdown",
   "metadata": {},
   "source": [
    "В датафрейме явных дубликатов нет. Плюс в копилочку однородности данных."
   ]
  },
  {
   "cell_type": "markdown",
   "metadata": {},
   "source": [
    "Поле 'locality_name' хранит категориальные значения. Посмотрим уникальные значения в этом поле."
   ]
  },
  {
   "cell_type": "code",
   "execution_count": 34,
   "metadata": {
    "scrolled": true
   },
   "outputs": [
    {
     "data": {
      "text/plain": [
       "array(['Санкт-Петербург', 'посёлок Шушары', 'городской посёлок Янино-1',\n",
       "       'посёлок Парголово', 'посёлок Мурино', 'Ломоносов', 'Сертолово',\n",
       "       'Петергоф', 'Пушкин', 'деревня Кудрово', 'Колпино', 'Гатчина',\n",
       "       'поселок Мурино', 'деревня Фёдоровское', 'Выборг', 'Кронштадт',\n",
       "       'Кировск', 'деревня Новое Девяткино', 'посёлок Металлострой',\n",
       "       'посёлок городского типа Лебяжье',\n",
       "       'посёлок городского типа Сиверский', 'поселок Молодцово',\n",
       "       'поселок городского типа Кузьмоловский',\n",
       "       'садовое товарищество Новая Ропша', 'Павловск',\n",
       "       'деревня Пикколово', 'Всеволожск', 'Волхов', 'Кингисепп',\n",
       "       'Приозерск', 'Сестрорецк', 'деревня Куттузи', 'посёлок Аннино',\n",
       "       'деревня Заклинье', 'поселок Торковичи', 'поселок Первомайское',\n",
       "       'Красное Село', 'посёлок Понтонный', 'деревня Старая',\n",
       "       'деревня Лесколово', 'село Путилово', 'Ивангород', 'Мурино',\n",
       "       'Сланцы', 'Шлиссельбург', 'Сясьстрой', 'Никольское', 'Зеленогорск',\n",
       "       'Сосновый Бор', 'поселок Новый Свет', 'деревня Оржицы',\n",
       "       'деревня Кальтино', 'Кудрово', 'поселок Романовка',\n",
       "       'посёлок Бугры', 'поселок Бугры', 'поселок городского типа Рощино',\n",
       "       'Кириши', 'Луга', 'Волосово', 'Отрадное', 'село Павлово',\n",
       "       'поселок Оредеж', 'посёлок городского типа Красный Бор',\n",
       "       'Коммунар', 'посёлок Молодёжное', 'посёлок Победа',\n",
       "       'деревня Нурма', 'поселок городского типа Синявино', 'Тосно',\n",
       "       'посёлок Новый Свет', 'посёлок городского типа Кузьмоловский',\n",
       "       'посёлок Стрельна', 'Бокситогорск', 'посёлок Александровская',\n",
       "       'деревня Лопухинка', 'поселок Терволово',\n",
       "       'поселок городского типа Советский', 'Подпорожье',\n",
       "       'посёлок Петровское', 'посёлок городского типа Токсово',\n",
       "       'поселок Сельцо', 'посёлок городского типа Вырица',\n",
       "       'деревня Келози', 'деревня Вартемяги', 'посёлок Тельмана',\n",
       "       'городской поселок Большая Ижора', 'Тихвин', nan,\n",
       "       'деревня Агалатово', 'посёлок Новогорелово',\n",
       "       'городской посёлок Лесогорский', 'деревня Лаголово',\n",
       "       'поселок Цвелодубово', 'поселок городского типа Рахья',\n",
       "       'поселок городского типа Вырица', 'деревня Белогорка',\n",
       "       'поселок Заводской', 'городской посёлок Новоселье',\n",
       "       'деревня Большие Колпаны', 'деревня Горбунки', 'деревня Заневка',\n",
       "       'Приморск', 'городской посёлок Фёдоровское', 'деревня Мистолово',\n",
       "       'Новая Ладога', 'поселок Зимитицы', 'поселок Барышево',\n",
       "       'деревня Разметелево', 'поселок городского типа имени Свердлова',\n",
       "       'деревня Пеники', 'поселок Рябово', 'деревня Пудомяги',\n",
       "       'деревня Бегуницы', 'посёлок Поляны', 'городской посёлок Мга',\n",
       "       'поселок Елизаветино', 'посёлок городского типа Кузнечное',\n",
       "       'деревня Колтуши', 'поселок Запорожское',\n",
       "       'посёлок городского типа Рощино', 'деревня Гостилицы',\n",
       "       'деревня Малое Карлино', 'посёлок Мичуринское',\n",
       "       'посёлок городского типа имени Морозова', 'посёлок Песочный',\n",
       "       'посёлок Сосново', 'деревня Аро', 'поселок Ильичёво',\n",
       "       'посёлок городского типа Тайцы', 'деревня Малое Верево',\n",
       "       'деревня Извара', 'поселок станции Вещево', 'деревня Калитино',\n",
       "       'посёлок городского типа Ульяновка', 'деревня Чудской Бор',\n",
       "       'поселок городского типа Дубровка', 'деревня Мины',\n",
       "       'поселок Войсковицы', 'посёлок городского типа имени Свердлова',\n",
       "       'деревня Коркино', 'посёлок Ропша',\n",
       "       'поселок городского типа Приладожский', 'посёлок Щеглово',\n",
       "       'посёлок Гаврилово', 'Лодейное Поле', 'Пикалёво',\n",
       "       'деревня Рабитицы', 'деревня Кузьмолово', 'деревня Малые Колпаны',\n",
       "       'поселок Тельмана', 'городской посёлок Назия', 'посёлок Репино',\n",
       "       'городской посёлок Павлово', 'посёлок Ильичёво', 'поселок Углово',\n",
       "       'деревня Низино', 'поселок Старая Малукса',\n",
       "       'садовое товарищество Рахья', 'поселок Аннино', 'поселок Победа',\n",
       "       'деревня Меньково', 'деревня Старые Бегуницы', 'посёлок Сапёрный',\n",
       "       'поселок Семрино', 'поселок Гаврилово', 'поселок Глажево',\n",
       "       'поселок Кобринское', 'деревня Гарболово', 'деревня Юкки',\n",
       "       'поселок станции Приветнинское', 'деревня Мануйлово',\n",
       "       'деревня Пчева', 'поселок Поляны', 'поселок Цвылёво',\n",
       "       'поселок Мельниково', 'посёлок Плодовое', 'посёлок Пудость',\n",
       "       'посёлок Усть-Луга', 'Светогорск', 'Любань', 'поселок Селезнёво',\n",
       "       'поселок городского типа Рябово', 'Каменногорск', 'деревня Кривко',\n",
       "       'поселок Глебычево', 'деревня Парицы', 'поселок Жилпосёлок',\n",
       "       'посёлок городского типа Мга', 'городской поселок Янино-1',\n",
       "       'посёлок Войскорово', 'село Никольское', 'посёлок Терволово',\n",
       "       'поселок Стеклянный', 'посёлок Мыза-Ивановка',\n",
       "       'село Русско-Высоцкое', 'поселок городского типа Лебяжье',\n",
       "       'поселок городского типа Форносово', 'поселок Житково',\n",
       "       'поселок городского типа Красный Бор', 'городской посёлок Виллози',\n",
       "       'деревня Лампово', 'деревня Шпаньково', 'деревня Кипень',\n",
       "       'посёлок Сумино', 'посёлок Возрождение', 'деревня Старосиверская',\n",
       "       'посёлок Кикерино', 'поселок Возрождение',\n",
       "       'деревня Старое Хинколово', 'посёлок Пригородный',\n",
       "       'посёлок Торфяное', 'городской посёлок Будогощь',\n",
       "       'поселок Суходолье', 'поселок Красная Долина', 'деревня Хапо-Ое',\n",
       "       'поселок городского типа Дружная Горка', 'поселок Лисий Нос',\n",
       "       'деревня Яльгелево', 'посёлок Стеклянный', 'село Рождествено',\n",
       "       'деревня Сяськелево', 'деревня Камышовка',\n",
       "       'садоводческое некоммерческое товарищество Лесная Поляна',\n",
       "       'поселок Жилгородок', 'посёлок городского типа Павлово',\n",
       "       'деревня Ялгино', 'деревня Батово', 'поселок Новый Учхоз',\n",
       "       'поселок Гончарово', 'поселок Почап', 'посёлок Сапёрное',\n",
       "       'посёлок Платформа 69-й километр', 'поселок Каложицы',\n",
       "       'деревня Фалилеево', 'деревня Пельгора',\n",
       "       'поселок городского типа Лесогорский', 'деревня Торошковичи',\n",
       "       'посёлок Белоостров', 'посёлок Алексеевка',\n",
       "       'посёлок городского типа Важины', 'поселок Лукаши',\n",
       "       'поселок Петровское', 'деревня Щеглово',\n",
       "       'городской посёлок Рощино', 'поселок городского типа Никольский',\n",
       "       'поселок Кингисеппский',\n",
       "       'посёлок при железнодорожной станции Вещево', 'поселок Ушаки',\n",
       "       'деревня Старополье', 'деревня Котлы', 'деревня Сижно',\n",
       "       'деревня Торосово', 'посёлок Форт Красная Горка',\n",
       "       'деревня Новолисино', 'посёлок станции Громово',\n",
       "       'поселок городского типа Ефимовский', 'деревня Глинка',\n",
       "       'посёлок Мельниково', 'поселок городского типа Назия',\n",
       "       'деревня Старая Пустошь', 'поселок Коммунары', 'поселок Починок',\n",
       "       'деревня Разбегаево', 'посёлок городского типа Рябово',\n",
       "       'поселок Гладкое',\n",
       "       'посёлок при железнодорожной станции Приветнинское',\n",
       "       'поселок Тёсово-4', 'посёлок Жилгородок', 'деревня Бор',\n",
       "       'посёлок Коробицыно', 'деревня Большая Вруда', 'деревня Курковицы',\n",
       "       'посёлок Лисий Нос', 'поселок Серебрянский',\n",
       "       'городской посёлок Советский', 'посёлок Кобралово',\n",
       "       'деревня Суоранда', 'поселок Кобралово',\n",
       "       'поселок городского типа Кондратьево', 'село Копорье',\n",
       "       'поселок Любань', 'деревня Реброво', 'деревня Зимитицы',\n",
       "       'деревня Тойворово', 'поселок Семиозерье', 'поселок Лесное',\n",
       "       'поселок Совхозный', 'поселок Усть-Луга', 'посёлок Суйда',\n",
       "       'посёлок городского типа Форносово', 'деревня Нижние Осельки',\n",
       "       'поселок Мичуринское', 'поселок Перово', 'Высоцк',\n",
       "       'поселок Гарболово', 'село Шум', 'поселок Котельский',\n",
       "       'посёлок Ленинское', 'деревня Большая Пустомержа', 'деревня Пижма',\n",
       "       'коттеджный поселок Кивеннапа Север', 'поселок Коробицыно',\n",
       "       'поселок Ромашки', 'деревня Каськово', 'деревня Куровицы',\n",
       "       'поселок Сумино', 'поселок городского типа Большая Ижора',\n",
       "       'поселок Кирпичное', 'деревня Ям-Тесово', 'деревня Терпилицы',\n",
       "       'посёлок городского типа Вознесенье',\n",
       "       'поселок городского типа Токсово', 'посёлок Шугозеро',\n",
       "       'деревня Ваганово', 'поселок Пушное', 'садовое товарищество Садко',\n",
       "       'деревня Выскатка', 'поселок Громово', 'посёлок станции Свирь',\n",
       "       'деревня Кисельня', 'село Старая Ладога', 'посёлок Старая Малукса',\n",
       "       'поселок Калитино', 'посёлок Высокоключевой',\n",
       "       'садовое товарищество Приладожский',\n",
       "       'посёлок Пансионат Зелёный Бор', 'посёлок Перово',\n",
       "       'деревня Ненимяки', 'поселок Пансионат Зелёный Бор',\n",
       "       'деревня Снегирёвка', 'деревня Рапполово', 'деревня Пустынка',\n",
       "       'поселок Рабитицы', 'деревня Большой Сабск', 'посёлок Усть-Ижора',\n",
       "       'деревня Лупполово', 'деревня Большое Рейзино',\n",
       "       'деревня Малая Романовка', 'поселок Дружноселье', 'село Паша',\n",
       "       'поселок Володарское', 'деревня Нижняя',\n",
       "       'коттеджный посёлок Лесное', 'деревня Тихковицы',\n",
       "       'деревня Борисова Грива', 'посёлок Дзержинского'], dtype=object)"
      ]
     },
     "execution_count": 34,
     "metadata": {},
     "output_type": "execute_result"
    }
   ],
   "source": [
    "data['locality_name'].unique()"
   ]
  },
  {
   "cell_type": "code",
   "execution_count": null,
   "metadata": {},
   "outputs": [],
   "source": [
    "len(data['locality_name'].unique())"
   ]
  },
  {
   "cell_type": "code",
   "execution_count": null,
   "metadata": {},
   "outputs": [],
   "source": [
    "def replace_name(false_values, true_values):\n",
    "    for false_values in false_values:\n",
    "        data['locality_name'] = data['locality_name'].str.replace(false_values,true_values)\n",
    "        \n",
    "duplicates = ['городской поселок ', 'городской посёлок ', 'поселок городского типа ', 'коттеджный поселок ',\\\n",
    "              'посёлок городского типа ', 'село ', 'посёлок при железнодорожной станции ', 'коттеджный посёлок ',\\\n",
    "              'поселок при железнодорожной станции ', 'поселок станции ', 'посёлок станции ']\n",
    "\n",
    "name = ''\n",
    "replace_name(duplicates, name)"
   ]
  },
  {
   "cell_type": "code",
   "execution_count": null,
   "metadata": {},
   "outputs": [],
   "source": [
    "len(data['locality_name'].unique())"
   ]
  },
  {
   "cell_type": "code",
   "execution_count": null,
   "metadata": {},
   "outputs": [],
   "source": [
    "duplicates2 = ['поселок ', 'посёлок ']\n",
    "name2 = ''\n",
    "replace_name(duplicates2, name2)"
   ]
  },
  {
   "cell_type": "code",
   "execution_count": null,
   "metadata": {},
   "outputs": [],
   "source": [
    "len(data['locality_name'].unique())"
   ]
  },
  {
   "cell_type": "markdown",
   "metadata": {},
   "source": [
    "#### Выявление и обработка аномалий."
   ]
  },
  {
   "cell_type": "markdown",
   "metadata": {},
   "source": [
    "Посмотрим, есть ли аномалии в столбце ceiling_height."
   ]
  },
  {
   "cell_type": "code",
   "execution_count": null,
   "metadata": {
    "scrolled": true
   },
   "outputs": [],
   "source": [
    "data.boxplot(column='ceiling_height', figsize=(10,10));"
   ]
  },
  {
   "cell_type": "code",
   "execution_count": null,
   "metadata": {},
   "outputs": [],
   "source": [
    "data.boxplot(column='ceiling_height', figsize=(10,10));\n",
    "plt.ylim(32)"
   ]
  },
  {
   "cell_type": "code",
   "execution_count": null,
   "metadata": {},
   "outputs": [],
   "source": [
    "data['ceiling_height'].describe()"
   ]
  },
  {
   "cell_type": "markdown",
   "metadata": {},
   "source": [
    "Стандартное отклонение очень высокое относительно среднего значения - это говорит о наличии выбросов в этом столбце. Например, высота потолков в 100м очень настораживает. В прочем, значения высоты потолков выше 10м тоже трудно поддаются объяснению. Рассмотрим диаграмму размаха в укрупненном масштабе."
   ]
  },
  {
   "cell_type": "code",
   "execution_count": null,
   "metadata": {},
   "outputs": [],
   "source": [
    "data.boxplot(column='ceiling_height', figsize=(10,10));\n",
    "plt.ylim(0, 33)"
   ]
  },
  {
   "cell_type": "markdown",
   "metadata": {},
   "source": [
    "Выявлены аномально высокие значения потолков. В части значений допустим, что ошибся продавец при заполнении (например, 27м, 25м, 32м). Изменим такие значения на приемлемые. "
   ]
  },
  {
   "cell_type": "code",
   "execution_count": null,
   "metadata": {},
   "outputs": [],
   "source": [
    "for row in data['ceiling_height']:\n",
    "    if row == 27:\n",
    "        row = 2.7\n",
    "    elif row == 25:\n",
    "        row = 2.5\n",
    "    elif row == 32:\n",
    "        row = 3.2\n",
    "    elif row == 20:\n",
    "        row = 2\n",
    "    elif row == 26:\n",
    "        row = 2.6\n",
    "    elif row == 22.6:\n",
    "        row = 2.26\n",
    "    elif row == 27.5:\n",
    "        row = 2.75\n",
    "    elif row == 24:\n",
    "        row = 2.4"
   ]
  },
  {
   "cell_type": "markdown",
   "metadata": {},
   "source": [
    "Ещё укрупним диаграмму."
   ]
  },
  {
   "cell_type": "code",
   "execution_count": null,
   "metadata": {},
   "outputs": [],
   "source": [
    "data.boxplot(column='ceiling_height', figsize=(10,10));\n",
    "plt.ylim(0, 6)"
   ]
  },
  {
   "cell_type": "markdown",
   "metadata": {},
   "source": [
    "\"Усы\" около 2.8 судя по диаграмме. Ограничивать таким числом высоту потолков в нашей выборке не совсем разумно. Примем верхнее значение высоты потолков исходя из частоты значений на диаграмме размаха - 5.3.\n",
    "Значения больше 5.3 м считаем выбросами, так как они выходят за границы \"усов\" диаграммы размаха."
   ]
  },
  {
   "cell_type": "markdown",
   "metadata": {},
   "source": [
    "Посмотрим, есть ли аномально низкие высоты потолков?"
   ]
  },
  {
   "cell_type": "code",
   "execution_count": null,
   "metadata": {},
   "outputs": [],
   "source": [
    "data['ceiling_height'][data['ceiling_height'] < 2].value_counts()"
   ]
  },
  {
   "cell_type": "markdown",
   "metadata": {},
   "source": [
    "Интересная квартира - потолок высотой всего 1м, и как там живут? Считаем такие значения выбросами и убираем из выборки строки с аномально низкими и высокими потолками."
   ]
  },
  {
   "cell_type": "code",
   "execution_count": null,
   "metadata": {},
   "outputs": [],
   "source": [
    "data = data[(data['ceiling_height'] < 5.3)&(data['ceiling_height'] > 2)]"
   ]
  },
  {
   "cell_type": "code",
   "execution_count": null,
   "metadata": {},
   "outputs": [],
   "source": [
    "data['ceiling_height'].describe()"
   ]
  },
  {
   "cell_type": "markdown",
   "metadata": {},
   "source": [
    "Стандартное отклонение снизилось. Значит идём по верному пути."
   ]
  },
  {
   "cell_type": "markdown",
   "metadata": {},
   "source": [
    "Поищем аномальные значения в столбце *total_area*."
   ]
  },
  {
   "cell_type": "code",
   "execution_count": null,
   "metadata": {},
   "outputs": [],
   "source": [
    "data.boxplot(column='total_area', figsize=(10,10));"
   ]
  },
  {
   "cell_type": "code",
   "execution_count": null,
   "metadata": {},
   "outputs": [],
   "source": [
    "data['total_area'].describe()"
   ]
  },
  {
   "cell_type": "markdown",
   "metadata": {},
   "source": [
    "Рассмотрим укрупненно диаграмму размаху."
   ]
  },
  {
   "cell_type": "code",
   "execution_count": null,
   "metadata": {},
   "outputs": [],
   "source": [
    "data.boxplot(column='total_area', figsize=(10,10));\n",
    "plt.ylim(0, 500)"
   ]
  },
  {
   "cell_type": "code",
   "execution_count": null,
   "metadata": {
    "scrolled": true
   },
   "outputs": [],
   "source": [
    "data[data['total_area']>110].value_counts('total_area', ascending=False)"
   ]
  },
  {
   "cell_type": "markdown",
   "metadata": {},
   "source": [
    "Чем больше площадь квартиры, тем они реже встречаются. Логично, стандартная планировка не предполагает квартир с такими площадями. \"Ус\" диаграммы размаха заканчивается на значении 110 кв.м. Не считаю это значение корректным, т.к. квартиры с площадью 120 кв.м. вполне часто встречаются. Считаем выбросами значения больше чем 390, т.к. в этом значении диаграмма начинает прерываться. Проверим, много ли строк это затронет."
   ]
  },
  {
   "cell_type": "code",
   "execution_count": null,
   "metadata": {},
   "outputs": [],
   "source": [
    "data[data['total_area']>390].value_counts('total_area', ascending=False)"
   ]
  },
  {
   "cell_type": "markdown",
   "metadata": {},
   "source": [
    "Единичные значения. Смело удаляем строки."
   ]
  },
  {
   "cell_type": "code",
   "execution_count": null,
   "metadata": {},
   "outputs": [],
   "source": [
    "data = data[data['total_area'] < 390]"
   ]
  },
  {
   "cell_type": "markdown",
   "metadata": {},
   "source": [
    "По минимальной площади проверим значения на положительность. Игнорируем нижний \"ус\" диаграммы размаха и принимаем минимальное значений общей площади равное 4 кв.м. Проверим, существуют ли объявления с такими значениями."
   ]
  },
  {
   "cell_type": "code",
   "execution_count": null,
   "metadata": {},
   "outputs": [],
   "source": [
    "data[data['total_area'] < 4]"
   ]
  },
  {
   "cell_type": "markdown",
   "metadata": {},
   "source": [
    "Таких объявлений и не было в архиве данных."
   ]
  },
  {
   "cell_type": "code",
   "execution_count": null,
   "metadata": {},
   "outputs": [],
   "source": [
    "len(data)"
   ]
  },
  {
   "cell_type": "markdown",
   "metadata": {},
   "source": [
    "23 699 - столько строк было в изначальном датафрейме. Посмотрим в процентном соотношении на сколько сократились данные."
   ]
  },
  {
   "cell_type": "code",
   "execution_count": null,
   "metadata": {},
   "outputs": [],
   "source": [
    "(1-len(data)/23699)*100"
   ]
  },
  {
   "cell_type": "markdown",
   "metadata": {},
   "source": [
    "**Вывод:**\n",
    "\n",
    "На 23,76% сократился датафрейм при выполнении предобработки данных. Датафрейм весьма неоднородный. Большое количество могло отрицательно повлиять на исследовательский анализ."
   ]
  },
  {
   "cell_type": "markdown",
   "metadata": {},
   "source": [
    "### Посчитайте и добавьте в таблицу новые столбцы"
   ]
  },
  {
   "cell_type": "markdown",
   "metadata": {},
   "source": [
    "Добавим столбец с ценой за квадратный метр."
   ]
  },
  {
   "cell_type": "code",
   "execution_count": null,
   "metadata": {},
   "outputs": [],
   "source": [
    "data['price_for_meter'] = round(data['last_price']/data['total_area'])"
   ]
  },
  {
   "cell_type": "code",
   "execution_count": null,
   "metadata": {},
   "outputs": [],
   "source": [
    "data['price_for_meter']"
   ]
  },
  {
   "cell_type": "markdown",
   "metadata": {},
   "source": [
    "Добавим столбцы с днём недели, месяцем и годом публикации объявлений."
   ]
  },
  {
   "cell_type": "code",
   "execution_count": null,
   "metadata": {},
   "outputs": [],
   "source": [
    "data['first_day_exposition'] = pd.DatetimeIndex(pd.to_datetime(data['first_day_exposition'], format='%Y-%m-%dT%H:%M:%S'))"
   ]
  },
  {
   "cell_type": "code",
   "execution_count": null,
   "metadata": {},
   "outputs": [],
   "source": [
    "data['exposition_weekday'] = pd.DatetimeIndex(pd.to_datetime(data['first_day_exposition'], format='%Y-%m-%dT%H:%M:%S')).weekday"
   ]
  },
  {
   "cell_type": "code",
   "execution_count": null,
   "metadata": {},
   "outputs": [],
   "source": [
    "data['exposition_month'] = pd.DatetimeIndex(pd.to_datetime(data['first_day_exposition'], format='%Y-%m-%dT%H:%M:%S')).month"
   ]
  },
  {
   "cell_type": "code",
   "execution_count": null,
   "metadata": {},
   "outputs": [],
   "source": [
    "data['exposition_year'] = pd.DatetimeIndex(pd.to_datetime(data['first_day_exposition'], format='%Y-%m-%dT%H:%M:%S')).year"
   ]
  },
  {
   "cell_type": "markdown",
   "metadata": {},
   "source": [
    "Добавим столбец с типами этажа: первый, последний и другой."
   ]
  },
  {
   "cell_type": "code",
   "execution_count": null,
   "metadata": {},
   "outputs": [],
   "source": [
    "def types_floor (row):\n",
    "    floor = row['floor']\n",
    "    total_floors = row['floors_total']\n",
    "    if floor == 1:\n",
    "        return 'первый'\n",
    "    elif floor == total_floors:\n",
    "        return 'последний'\n",
    "    else:\n",
    "        return 'другой'\n",
    "\n",
    "data['type_floor'] = data.apply(types_floor, axis = 1)"
   ]
  },
  {
   "cell_type": "code",
   "execution_count": null,
   "metadata": {
    "scrolled": true
   },
   "outputs": [],
   "source": [
    "data.head()"
   ]
  },
  {
   "cell_type": "markdown",
   "metadata": {},
   "source": [
    "Добавим столбец с расстоянием до центра города в километрах."
   ]
  },
  {
   "cell_type": "code",
   "execution_count": null,
   "metadata": {},
   "outputs": [],
   "source": [
    "data['cityCenters_nearest_km'] = round(data['cityCenters_nearest']/1000)"
   ]
  },
  {
   "cell_type": "markdown",
   "metadata": {},
   "source": [
    "### Проведите исследовательский анализ данных"
   ]
  },
  {
   "cell_type": "markdown",
   "metadata": {},
   "source": [
    "#### Изучение параметров объектов."
   ]
  },
  {
   "cell_type": "markdown",
   "metadata": {},
   "source": [
    "##### Изучим данные об общей площади."
   ]
  },
  {
   "cell_type": "code",
   "execution_count": null,
   "metadata": {
    "scrolled": true
   },
   "outputs": [],
   "source": [
    "data['total_area'].hist(bins=20, figsize=(13, 5), range=(0,data['total_area'].max()))\n",
    "plt.xlabel('Общая площадь, м')\n",
    "plt.ylabel('Количество продаж')"
   ]
  },
  {
   "cell_type": "markdown",
   "metadata": {},
   "source": [
    "Есть редкие случаи объявлений с квартирами площадью больше 200 кв.м. Укрупним диаграмму."
   ]
  },
  {
   "cell_type": "markdown",
   "metadata": {},
   "source": [
    "Рассмотрим график подробнее."
   ]
  },
  {
   "cell_type": "code",
   "execution_count": null,
   "metadata": {},
   "outputs": [],
   "source": [
    "data['total_area'].hist(bins=100, figsize=(13, 5), range=(0,200))\n",
    "plt.xlabel('Общая площадь, м')\n",
    "plt.ylabel('Количество продаж')"
   ]
  },
  {
   "cell_type": "markdown",
   "metadata": {},
   "source": [
    "Большая часть квартир имеет площадь до 100 кв.м. "
   ]
  },
  {
   "cell_type": "markdown",
   "metadata": {},
   "source": [
    "##### Изучим данные о жилой площади."
   ]
  },
  {
   "cell_type": "code",
   "execution_count": null,
   "metadata": {},
   "outputs": [],
   "source": [
    "data['living_area'].hist(bins=100, figsize=(13, 5), range=(0,data['living_area'].max()))\n",
    "plt.xlabel('Жилая площадь, м')\n",
    "plt.ylabel('Количество продаж')"
   ]
  },
  {
   "cell_type": "markdown",
   "metadata": {},
   "source": [
    "В большинстве квартир жилая площадь до 50 кв.м. Есть редкие объявления с жилой площадью больше 150 кв.м., что свойственно для больших квартир и коррелируется с графиком для общей площади."
   ]
  },
  {
   "cell_type": "markdown",
   "metadata": {},
   "source": [
    "##### Изучим данные о площади кухни."
   ]
  },
  {
   "cell_type": "code",
   "execution_count": null,
   "metadata": {
    "scrolled": true
   },
   "outputs": [],
   "source": [
    "data['kitchen_area'].hist(bins=100, figsize=(13, 5), range=(0,data['kitchen_area'].max()))\n",
    "plt.xlabel('Площадь кухни, м')\n",
    "plt.ylabel('Количество продаж')"
   ]
  },
  {
   "cell_type": "code",
   "execution_count": null,
   "metadata": {},
   "outputs": [],
   "source": [
    "# Укрупняем диаграмму\n",
    "\n",
    "data['kitchen_area'].hist(bins=100, figsize=(13, 5), range=(0,20))\n",
    "plt.xlabel('Площадь кухни, м')\n",
    "plt.ylabel('Количество продаж')"
   ]
  },
  {
   "cell_type": "markdown",
   "metadata": {},
   "source": [
    "Значительная часть квартир имеет площадь кухни примерно от 5 до 12 кв.м. Есть редкие случаи квартир с площадью кухни больше 50 кв.м."
   ]
  },
  {
   "cell_type": "markdown",
   "metadata": {},
   "source": [
    "##### Изучим данные о цене объектов."
   ]
  },
  {
   "cell_type": "code",
   "execution_count": null,
   "metadata": {
    "scrolled": true
   },
   "outputs": [],
   "source": [
    "data['last_price'].hist(bins=100, figsize=(18, 5), range=(0,data['last_price'].max()))\n",
    "plt.xlabel('Стоимость квартиры, 100 млн')\n",
    "plt.ylabel('Количество продаж')"
   ]
  },
  {
   "cell_type": "code",
   "execution_count": null,
   "metadata": {},
   "outputs": [],
   "source": [
    "# Укрупняем диаграмму размаха\n",
    "\n",
    "data['last_price'].hist(bins=100, figsize=(18, 5), range=(0,15000000))\n",
    "plt.xlabel('Стоимость квартиры, 10 млн')\n",
    "plt.ylabel('Количество продаж')"
   ]
  },
  {
   "cell_type": "markdown",
   "metadata": {},
   "source": [
    "Большая часть квартир продавалась по последней цене 4 млн рублей. В продаже есть квартиры дороже 10 млн рублей, но такие объявления редкие."
   ]
  },
  {
   "cell_type": "markdown",
   "metadata": {},
   "source": [
    "##### Изучим данные о количестве комнат."
   ]
  },
  {
   "cell_type": "code",
   "execution_count": null,
   "metadata": {},
   "outputs": [],
   "source": [
    "data['rooms'].hist(bins=22, figsize=(13, 5), range=(0,data['rooms'].max()))\n",
    "plt.xlabel('Количество комнат')\n",
    "plt.ylabel('Количество продаж')"
   ]
  },
  {
   "cell_type": "code",
   "execution_count": null,
   "metadata": {},
   "outputs": [],
   "source": [
    "data['rooms'].hist(bins=8, figsize=(13, 5), range=(0, 8))\n",
    "plt.xlabel('Количество комнат')\n",
    "plt.ylabel('Количество продаж')"
   ]
  },
  {
   "cell_type": "markdown",
   "metadata": {},
   "source": [
    "Пики гистограммы приходятся на 1 и 2 комнаты. Есть редкие случаи квартир с количеством комнат больше 8."
   ]
  },
  {
   "cell_type": "markdown",
   "metadata": {},
   "source": [
    "##### Изучим данные о высоте потолков."
   ]
  },
  {
   "cell_type": "code",
   "execution_count": null,
   "metadata": {},
   "outputs": [],
   "source": [
    "data['ceiling_height'].hist(bins=100, figsize=(13, 5), range=(0,data['ceiling_height'].max()))\n",
    "plt.xlabel('Высота потолков, м')\n",
    "plt.ylabel('Количество продаж')"
   ]
  },
  {
   "cell_type": "code",
   "execution_count": null,
   "metadata": {},
   "outputs": [],
   "source": [
    "# Укрупняем диаграмму\n",
    "\n",
    "data['ceiling_height'].hist(bins=30, figsize=(13, 5), range=(2.4, 3.4))\n",
    "plt.xlabel('Высота потолков, м')\n",
    "plt.ylabel('Количество продаж')"
   ]
  },
  {
   "cell_type": "markdown",
   "metadata": {},
   "source": [
    "В квартирах высота потолков чаще всего примерно 2.7м. Но есть и квартиры с высокими потолками выше 3м."
   ]
  },
  {
   "cell_type": "markdown",
   "metadata": {},
   "source": [
    "##### Изучим данные об этаже квартир."
   ]
  },
  {
   "cell_type": "code",
   "execution_count": null,
   "metadata": {},
   "outputs": [],
   "source": [
    "data['floor'].hist(bins=33, figsize=(13, 5), range=(0,data['floor'].max()))\n",
    "plt.xlabel('Этаж')\n",
    "plt.ylabel('Количество продаж')"
   ]
  },
  {
   "cell_type": "markdown",
   "metadata": {},
   "source": [
    "В исходных данных преобладают квартиры на втором этаже."
   ]
  },
  {
   "cell_type": "code",
   "execution_count": null,
   "metadata": {},
   "outputs": [],
   "source": [
    "data['type_floor'].hist(bins=3, figsize=(12, 5))\n",
    "plt.xlabel('Тип этажа')\n",
    "plt.ylabel('Количество продаж')"
   ]
  },
  {
   "cell_type": "markdown",
   "metadata": {},
   "source": [
    "Чаще всего продают квартиры, находящиеся не на первом и не на последнем этаже."
   ]
  },
  {
   "cell_type": "markdown",
   "metadata": {},
   "source": [
    "##### Изучим данные об общем количестве этажей."
   ]
  },
  {
   "cell_type": "code",
   "execution_count": null,
   "metadata": {},
   "outputs": [],
   "source": [
    "data['floors_total'].hist(bins=60, figsize=(13, 5), range=(0,data['floors_total'].max()))\n",
    "plt.xlabel('Всего этажей')\n",
    "plt.ylabel('Количество продаж')"
   ]
  },
  {
   "cell_type": "markdown",
   "metadata": {},
   "source": [
    "Больше всего продают квартир в 6-этажных и 10-этажных домах. Есть объявления о продаже квартир в домах этажностью 30 этажей и большей, но таких мало."
   ]
  },
  {
   "cell_type": "markdown",
   "metadata": {},
   "source": [
    "##### Изучим данные о расстоянии до центра города в метрах."
   ]
  },
  {
   "cell_type": "code",
   "execution_count": null,
   "metadata": {},
   "outputs": [],
   "source": [
    "data['cityCenters_nearest'].hist(bins=33, figsize=(13, 5), range=(0,data['cityCenters_nearest'].max()))\n",
    "plt.xlabel('Удалённость от центра города, м')\n",
    "plt.ylabel('Количество продаж')"
   ]
  },
  {
   "cell_type": "code",
   "execution_count": null,
   "metadata": {},
   "outputs": [],
   "source": [
    "# Укрупняем диаграмму\n",
    "\n",
    "data['cityCenters_nearest'].hist(bins=35, figsize=(13, 5), range=(0,35000))\n",
    "plt.xlabel('Удалённость от центра города, м')\n",
    "plt.ylabel('Количество продаж')"
   ]
  },
  {
   "cell_type": "markdown",
   "metadata": {},
   "source": [
    "Чаще всего квартиры находятся на расстоянии от 1300м до центра города. Но есть квартиры, удалённые от центра города аж на 35км."
   ]
  },
  {
   "cell_type": "markdown",
   "metadata": {},
   "source": [
    "##### Изучим данные о расстоянии до ближайшего аэропорта."
   ]
  },
  {
   "cell_type": "code",
   "execution_count": null,
   "metadata": {},
   "outputs": [],
   "source": [
    "data['airports_nearest'].hist(bins=42, figsize=(17,5), range=(0,data['airports_nearest'].max()))\n",
    "plt.xlabel('Удаленность от аэропорта, м')\n",
    "plt.ylabel('Количество продаж')"
   ]
  },
  {
   "cell_type": "code",
   "execution_count": null,
   "metadata": {},
   "outputs": [],
   "source": [
    "# Укрупняем\n",
    "\n",
    "data['airports_nearest'].hist(bins=55, figsize=(17,5), range=(0,55000))\n",
    "plt.xlabel('Удаленность от аэропорта, м')\n",
    "plt.ylabel('Количество продаж')"
   ]
  },
  {
   "cell_type": "markdown",
   "metadata": {},
   "source": [
    "Чаще всего квартиры продаются на расстоянии 19км и 25км от аэропорта. Если учесть, что аэропорт Пулково находится на расстоянии 23км от центра города, а Санкт-Петербург территориально вытянутый, данные выглядят вполне правдоподобно. Также есть квартиры, находящиеся на расстоянии 70км от аэропорта."
   ]
  },
  {
   "cell_type": "markdown",
   "metadata": {},
   "source": [
    "##### Изучим данные о расстоянии до ближайшего парка."
   ]
  },
  {
   "cell_type": "code",
   "execution_count": null,
   "metadata": {},
   "outputs": [],
   "source": [
    "data['parks_nearest'].hist(bins=32, figsize=(17,5), range=(0,data['parks_nearest'].max()))\n",
    "plt.xlabel('Удаленность от парка, м')\n",
    "plt.ylabel('Количество продаж')"
   ]
  },
  {
   "cell_type": "code",
   "execution_count": null,
   "metadata": {},
   "outputs": [],
   "source": [
    "# Укрупняем\n",
    "\n",
    "data['parks_nearest'].hist(bins=100, figsize=(17,5), range=(0,1000))\n",
    "plt.xlabel('Удаленность от парка, м')\n",
    "plt.ylabel('Количество продаж')"
   ]
  },
  {
   "cell_type": "markdown",
   "metadata": {},
   "source": [
    "Пики графика приходятся на значении 400 м. Но есть и квартиры, от которых парки удалены на расстояние более 2км."
   ]
  },
  {
   "cell_type": "markdown",
   "metadata": {},
   "source": [
    "##### Изучим данные о дне и месяце публикации объявления."
   ]
  },
  {
   "cell_type": "code",
   "execution_count": null,
   "metadata": {},
   "outputs": [],
   "source": [
    "data['exposition_month'].hist(bins=12, figsize=(17,5), range=(0,data['exposition_month'].max()))\n",
    "plt.xlabel('Месяц публикации')\n",
    "plt.ylabel('Количество продаж')"
   ]
  },
  {
   "cell_type": "markdown",
   "metadata": {},
   "source": [
    "Удивительный факт, но чаще всего публикуют объявления о продаже квартиры в декабре (Новый год - время перемен?). И вообще нет продаж в январе. Летом же продажи падаю."
   ]
  },
  {
   "cell_type": "code",
   "execution_count": null,
   "metadata": {},
   "outputs": [],
   "source": [
    "#x = np.array(['пн', 'вт', 'ср', 'чт', 'пт', 'сб', 'вс'])\n",
    "\n",
    "\n",
    "data['exposition_weekday'].hist(bins=7, range=(0, 6))\n",
    "#plt.title()\n",
    "plt.xlabel('День недели публикации')\n",
    "plt.ylabel('Количество продаж')\n",
    "#plt.xticks(x)"
   ]
  },
  {
   "cell_type": "markdown",
   "metadata": {},
   "source": [
    "Объявления чаще всего публикуются в будни - есть не ярко выраженные пики во вторник и четверг. В выходные дни публикуют объявления примерно в 2 раза реже - возможно, это связано с графиком работы риелторов, к которым продавцы обращаются за помощью в продаже."
   ]
  },
  {
   "cell_type": "markdown",
   "metadata": {},
   "source": [
    "#### Изучим, как быстро продавались квартиры"
   ]
  },
  {
   "cell_type": "code",
   "execution_count": null,
   "metadata": {},
   "outputs": [],
   "source": [
    "data['days_exposition'].describe()"
   ]
  },
  {
   "cell_type": "markdown",
   "metadata": {},
   "source": [
    "Судя по описанию данных, в среднем квартиры продаются в течение 189 дней. Но есть и единичные случаи, когда объявления были размещены дольше чем на 730 дней, т.е. объявления были размещены и не сняты с публикации дольше, чем 2 года. Узнаем среднее и медианное время продажи квартиры и посмотрим диаграмму размаха."
   ]
  },
  {
   "cell_type": "code",
   "execution_count": null,
   "metadata": {},
   "outputs": [],
   "source": [
    "data['days_exposition'].mean()"
   ]
  },
  {
   "cell_type": "code",
   "execution_count": null,
   "metadata": {},
   "outputs": [],
   "source": [
    "data['days_exposition'].median()"
   ]
  },
  {
   "cell_type": "code",
   "execution_count": null,
   "metadata": {},
   "outputs": [],
   "source": [
    "data.boxplot(column='days_exposition', figsize=(10,10));"
   ]
  },
  {
   "cell_type": "markdown",
   "metadata": {},
   "source": [
    "\"Ус\" диаграммы размаха заканчивается на значении примерно 520. На мой взгляд, вполне нормальная практика, когда квартира продаётся больше года, т.к. продавец не спешит. Нужно ли считать такие значения выбросами? Анализируем дальше и примем, что продажи квартир больше 520 дней необычно долгие. И их много."
   ]
  },
  {
   "cell_type": "code",
   "execution_count": null,
   "metadata": {},
   "outputs": [],
   "source": [
    "data[data['days_exposition']>520]['days_exposition'].value_counts()"
   ]
  },
  {
   "cell_type": "markdown",
   "metadata": {},
   "source": [
    "Медианное время более точно описывает сколько времени занимает продажа. Продажи квартир менее чем за 102 дня можно считать быстрыми. Продажи квартир более чем за 520 дня можно считать необычно долгими. Значения после 999 стремятся к нулю, и если отбросить значения больше 999 много данных не потеряется. "
   ]
  },
  {
   "cell_type": "code",
   "execution_count": null,
   "metadata": {},
   "outputs": [],
   "source": [
    "data = data.query('days_exposition < 999')"
   ]
  },
  {
   "cell_type": "markdown",
   "metadata": {},
   "source": [
    "#### Изучим факторы, влияющие на стоимость объекта"
   ]
  },
  {
   "cell_type": "markdown",
   "metadata": {},
   "source": [
    "##### Изучим зависимость цены от общей площади квартиры"
   ]
  },
  {
   "cell_type": "code",
   "execution_count": null,
   "metadata": {
    "scrolled": false
   },
   "outputs": [],
   "source": [
    "data.pivot_table(index='total_area', values='last_price', aggfunc='median')\n",
    "data.plot(x='total_area', y='last_price', grid=True,  figsize=(12,5), kind='scatter')\n",
    "    \n",
    "plt.xlabel('Общая площадь, м')\n",
    "plt.ylabel('Стоимость квартиры, шаг графика - 100 млн')\n",
    "plt.title('Зависимость цены от общей площади квартиры')\n",
    "plt.xlim(0, 650)\n",
    "plt.ylim(0, 200000000)\n",
    "\n",
    "#sns.pairplot(data[['total_area', 'last_price']])"
   ]
  },
  {
   "cell_type": "markdown",
   "metadata": {},
   "source": [
    "Рассчитаем коэффициент корреляции Пирсона - чем ближе коэффициент корреляции Пирсона к крайним значениям 1 или -1, тем очивидее линейная взаимосвязь. Если значение близко к нулю, значит, линейная связь слабая либо отсутствует вовсе. "
   ]
  },
  {
   "cell_type": "code",
   "execution_count": null,
   "metadata": {},
   "outputs": [],
   "source": [
    "data['total_area'].corr(data['last_price'])"
   ]
  },
  {
   "cell_type": "markdown",
   "metadata": {},
   "source": [
    "Коэффициент корреляции Пирсона равна 0.64. Зависимость между стоимостью квартиры и общей площадью  подтверждается."
   ]
  },
  {
   "cell_type": "markdown",
   "metadata": {},
   "source": [
    "##### Изучим зависимость цены от жилой площади квартиры"
   ]
  },
  {
   "cell_type": "code",
   "execution_count": null,
   "metadata": {},
   "outputs": [],
   "source": [
    "data.pivot_table(index='living_area', values='last_price', aggfunc='median')\n",
    "data.plot(x='living_area', y='last_price', grid=True,  figsize=(12,5), kind='scatter')\n",
    "    \n",
    "plt.xlabel('Жилая площадь, м')\n",
    "plt.ylabel('Стоимость квартиры, шаг графика - 100 млн')\n",
    "plt.title('Зависимость цены от жилой площади квартиры')\n",
    "plt.xlim(-10, 450)\n",
    "plt.ylim(0, 200000000)\n",
    " \n",
    "#sns.pairplot(data[['living_area', 'last_price']])"
   ]
  },
  {
   "cell_type": "markdown",
   "metadata": {},
   "source": [
    "Рассчитаем коэффициент корреляции Пирсона - чем ближе коэффициент корреляции Пирсона к крайним значениям 1 или -1, тем очивидее линейная взаимосвязь. Если значение близко к нулю, значит, линейная связь слабая либо отсутствует вовсе."
   ]
  },
  {
   "cell_type": "code",
   "execution_count": null,
   "metadata": {},
   "outputs": [],
   "source": [
    "data['living_area'].corr(data['last_price'])"
   ]
  },
  {
   "cell_type": "markdown",
   "metadata": {},
   "source": [
    "Коэффициент корреляции Пирсона равен 0.48. Зависимость между стоимостью квартиры и жилой площадью явно прослеживается."
   ]
  },
  {
   "cell_type": "markdown",
   "metadata": {},
   "source": [
    "##### Изучим зависимость цены от площади кухни в квартире"
   ]
  },
  {
   "cell_type": "code",
   "execution_count": null,
   "metadata": {
    "scrolled": true
   },
   "outputs": [],
   "source": [
    "data.pivot_table(index='kitchen_area', values='last_price', aggfunc='median')\n",
    "data.plot(x='kitchen_area', y='last_price', grid=True,  figsize=(12,5), kind='scatter')\n",
    "    \n",
    "plt.xlabel('Площадь кухни, м')\n",
    "plt.ylabel('Стоимость квартиры, шаг графика - 100 млн')\n",
    "plt.title('Зависимость цены квартиры от площади кухни')\n",
    "plt.xlim(-3, 120)\n",
    "plt.ylim(0, 200000000)\n",
    "\n",
    "#sns.pairplot(data[['kitchen_area', 'last_price']])"
   ]
  },
  {
   "cell_type": "markdown",
   "metadata": {},
   "source": [
    "Рассчитаем коэффициент корреляции Пирсона - чем ближе коэффициент корреляции Пирсона к крайним значениям 1 или -1, тем очивидее линейная взаимосвязь. Если значение близко к нулю, значит, линейная связь слабая либо отсутствует вовсе."
   ]
  },
  {
   "cell_type": "code",
   "execution_count": null,
   "metadata": {},
   "outputs": [],
   "source": [
    "data['kitchen_area'].corr(data['last_price'])"
   ]
  },
  {
   "cell_type": "markdown",
   "metadata": {},
   "source": [
    "Коэффициент корреляции Пирсона равен 0.51. Зависимость между стоимостью квартиры и площадью кухни явно прослеживается."
   ]
  },
  {
   "cell_type": "markdown",
   "metadata": {},
   "source": [
    "##### Изучим зависимость цены от количества комнат"
   ]
  },
  {
   "cell_type": "code",
   "execution_count": null,
   "metadata": {
    "scrolled": true
   },
   "outputs": [],
   "source": [
    "data.pivot_table(index='rooms', values='last_price', aggfunc='median')\n",
    "data.plot(x='rooms', y='last_price', grid=True,  figsize=(12,5), kind='scatter')\n",
    "    \n",
    "plt.xlabel('Количество комнат')\n",
    "plt.ylabel('Стоимость квартиры, шаг графика - 100 млн')\n",
    "plt.title('Зависимость цены квартиры от количества комнат')\n",
    "plt.xlim(-0.5, 20)\n",
    "plt.ylim(0, 200000000)\n",
    "\n",
    "#sns.pairplot(data[['rooms', 'last_price']])"
   ]
  },
  {
   "cell_type": "markdown",
   "metadata": {},
   "source": [
    "Рассчитаем коэффициент корреляции Пирсона - чем ближе коэффициент корреляции Пирсона к крайним значениям 1 или -1, тем очивидее линейная взаимосвязь. Если значение близко к нулю, значит, линейная связь слабая либо отсутствует вовсе."
   ]
  },
  {
   "cell_type": "code",
   "execution_count": null,
   "metadata": {},
   "outputs": [],
   "source": [
    "data['rooms'].corr(data['last_price'])"
   ]
  },
  {
   "cell_type": "markdown",
   "metadata": {},
   "source": [
    "Коэффициент корреляции Пирсона равен 0.35. Зависимость между стоимостью квартиры и количеством комнат явно прослеживается, хоть и чуть менее явно, чем зависимость стоимости квартиры от жилой площади."
   ]
  },
  {
   "cell_type": "markdown",
   "metadata": {},
   "source": [
    "##### Изучим зависимость цены от этажа, на котором расположена квартира (первый, последний, другой)"
   ]
  },
  {
   "cell_type": "code",
   "execution_count": null,
   "metadata": {
    "scrolled": true
   },
   "outputs": [],
   "source": [
    "#.pivot_table(index='type_floor', values='last_price', aggfunc='median')\n",
    "data.plot(x='type_floor', y='last_price', kind='scatter')\n",
    "    \n",
    "plt.xlabel('Тип этажа')\n",
    "plt.ylabel('Стоимость квартиры, шаг графика - 100 млн')\n",
    "plt.title('Зависимость цены квартиры от типа этажа')\n",
    "plt.ylim(0, 200000000)\n",
    "\n",
    "#sns.pairplot(data[['type_floor', 'last_price']])"
   ]
  },
  {
   "cell_type": "markdown",
   "metadata": {},
   "source": [
    "По диаграмме рассеивания видно, что квартиры, которые находятся не на первом и не на последнем этаже, продаются чаще и дороже, чем квартиры на первом или на последнем этаже. Логично, т.к. это этажи считаются не самыми удобными для жизни."
   ]
  },
  {
   "cell_type": "markdown",
   "metadata": {},
   "source": [
    "##### Изучим зависимость цены от даты размещения (день недели, месяц, год)"
   ]
  },
  {
   "cell_type": "code",
   "execution_count": null,
   "metadata": {},
   "outputs": [],
   "source": [
    "data.pivot_table(index='exposition_weekday', values='last_price', aggfunc='median')\n",
    "data.plot(x='exposition_weekday', y='last_price', grid=True,  figsize=(12,5), kind='scatter')\n",
    "    \n",
    "plt.xlabel('День недели публикации объявления: пн, вт, ср, чт, пт, сб, вс')\n",
    "plt.ylabel('Стоимость квартиры, шаг графика - 100 млн')\n",
    "plt.title('Зависимость цены квартиры от дня публикации объявления')\n",
    "plt.xlim(-0.5, 6.5)\n",
    "plt.ylim(0, 200000000)\n",
    "\n",
    "#sns.pairplot(data[['exposition_weekday', 'last_price']])"
   ]
  },
  {
   "cell_type": "markdown",
   "metadata": {},
   "source": [
    "Рассчитаем коэффициент корреляции Пирсона - чем ближе коэффициент корреляции Пирсона к крайним значениям 1 или -1, тем очивидее линейная взаимосвязь. Если значение близко к нулю, значит, линейная связь слабая либо отсутствует вовсе."
   ]
  },
  {
   "cell_type": "code",
   "execution_count": null,
   "metadata": {},
   "outputs": [],
   "source": [
    "data['exposition_weekday'].corr(data['last_price'])"
   ]
  },
  {
   "cell_type": "markdown",
   "metadata": {},
   "source": [
    "Коэффициент корреляции Пирсона близок к нулю. Зависимость между стоимостью квартиры и днём недели публикации объявления не обнаружена."
   ]
  },
  {
   "cell_type": "code",
   "execution_count": null,
   "metadata": {},
   "outputs": [],
   "source": [
    "data.pivot_table(index='exposition_month', values='last_price', aggfunc='median')\n",
    "data.plot(x='exposition_month', y='last_price', grid=True,  figsize=(12,5), kind='scatter')\n",
    "    \n",
    "plt.xlabel('Месяц публикации объявления')\n",
    "plt.ylabel('Стоимость квартиры, шаг графика - 100 млн')\n",
    "plt.title('Зависимость цены квартиры от месяца публикации объявления')\n",
    "plt.xlim(-0.5, 12.5)\n",
    "plt.ylim(0, 200000000)\n",
    "\n",
    "#sns.pairplot(data[['exposition_month', 'last_price']])"
   ]
  },
  {
   "cell_type": "markdown",
   "metadata": {},
   "source": [
    "Рассчитаем коэффициент корреляции Пирсона - чем ближе коэффициент корреляции Пирсона к крайним значениям 1 или -1, тем очивидее линейная взаимосвязь. Если значение близко к нулю, значит, линейная связь слабая либо отсутствует вовсе."
   ]
  },
  {
   "cell_type": "code",
   "execution_count": null,
   "metadata": {},
   "outputs": [],
   "source": [
    "data['exposition_month'].corr(data['last_price'])"
   ]
  },
  {
   "cell_type": "markdown",
   "metadata": {},
   "source": [
    "Коэффициент корреляции Пирсона близок к нулю. Зависимость между стоимостью квартиры и месяцем публикации объявления не обнаружена."
   ]
  },
  {
   "cell_type": "code",
   "execution_count": null,
   "metadata": {},
   "outputs": [],
   "source": [
    "data.pivot_table(index='exposition_year', values='last_price', aggfunc='median')\n",
    "data.plot(x='exposition_year', y='last_price', grid=True,  figsize=(12,5), kind='scatter')\n",
    "    \n",
    "plt.xlabel('Год публикации')\n",
    "plt.ylabel('Стоимость квартиры, шаг графика - 100 млн')\n",
    "plt.title('Зависимость цены квартиры от года публикации объявления')\n",
    "#plt.xlim(-0.5, 20)\n",
    "plt.ylim(0, 200000000)\n",
    "\n",
    "#sns.pairplot(data[['exposition_year', 'last_price']])"
   ]
  },
  {
   "cell_type": "markdown",
   "metadata": {},
   "source": [
    "Рассчитаем коэффициент корреляции Пирсона - чем ближе коэффициент корреляции Пирсона к крайним значениям 1 или -1, тем очивидее линейная взаимосвязь. Если значение близко к нулю, значит, линейная связь слабая либо отсутствует вовсе."
   ]
  },
  {
   "cell_type": "code",
   "execution_count": null,
   "metadata": {},
   "outputs": [],
   "source": [
    "data['exposition_year'].corr(data['last_price'])"
   ]
  },
  {
   "cell_type": "markdown",
   "metadata": {},
   "source": [
    "Коэффициент корреляции Пирсона близок к нулю. Зависимость между стоимостью квартиры и годом публикации объявления не обнаружена."
   ]
  },
  {
   "cell_type": "markdown",
   "metadata": {},
   "source": [
    "Прослеживается очевидная линейная связь между стоимостью квартиры и следующими параметрами:\n",
    "+ жилая площадь,\n",
    "+ площадь кухни,\n",
    "+ количество комнат.\n",
    "\n",
    "Линейной связи между стоимостью квартиры и общей площадью не обнаружено. Возможно, коэффициент нулевой не потому, что связи между значениями нет, а из-за того, что у неё более сложный, не линейный характер.\n",
    "\n",
    "А также есть зависимость стоимости квартиры от этажа, на котором расположена квартира (первый, последний, другой) - квартиры, находящиеся не на первом, не на последнем этаже продаются чаще и дороже.\n",
    "\n",
    "Зависимостей между стоимостью квартиры и днём, месяцем или годом публикации объявления не обнаружено. "
   ]
  },
  {
   "cell_type": "markdown",
   "metadata": {},
   "source": [
    "##### Посчитаем среднюю цену одного квадратного метра в 10 населённых пунктах с наибольшим числом объявлений."
   ]
  },
  {
   "cell_type": "markdown",
   "metadata": {},
   "source": [
    "Посмотрим, в каких населённых пунктах самые высокая и низкая стоимости квадратного метра:"
   ]
  },
  {
   "cell_type": "code",
   "execution_count": null,
   "metadata": {},
   "outputs": [],
   "source": [
    "city_price_for_meter = data.groupby('locality_name')['price_for_meter'].mean().sort_values(ascending=False).round().to_frame().reset_index()\n",
    "city_price_for_meter"
   ]
  },
  {
   "cell_type": "markdown",
   "metadata": {},
   "source": [
    "Интересный населённый пункт с затейливым названием Лисий Нос - стоимость квадратного метра там выше чем во второй столице нашей родины. Ну и вполне закономерно, что самый дешевый квадратный метр недвижимости можно приобрести в деревнях."
   ]
  },
  {
   "cell_type": "code",
   "execution_count": null,
   "metadata": {
    "scrolled": true
   },
   "outputs": [],
   "source": [
    "# Посмотрим топ-10 населённых пунктов с наибольшим числом объявлений.\n",
    "\n",
    "#top_10_city = data.groupby('locality_name')['locality_name'].count().sort_values(ascending=False).head(10)\n",
    "#top_10_city = tuple(top_10_city)\n",
    "\n",
    "#top_10_city = data.groupby('locality_name')['price_for_meter'].mean().sort_values(ascending=False).round().head(10)\n",
    "top_10_city = data['locality_name'].value_counts().sort_values(ascending=False).head(10).reset_index()\n",
    "#top_10_city['index'] = top_10_city.index\n",
    "top_10_city.columns = ['locality_name','count']\n",
    "top_10_city"
   ]
  },
  {
   "cell_type": "code",
   "execution_count": null,
   "metadata": {},
   "outputs": [],
   "source": [
    "top_10_city_price_for_meter = top_10_city.merge(city_price_for_meter, on='locality_name', how='left')\n",
    "top_10_city_price_for_meter\n",
    "#top_10_city = top_10_city.index.tolist()\n",
    "#city_price_for_meter = city_price_for_meter[city_price_for_meter['city'] in top_10_city]"
   ]
  },
  {
   "cell_type": "code",
   "execution_count": null,
   "metadata": {},
   "outputs": [],
   "source": [
    "top_10_city_price_for_meter.plot(x='locality_name', y='price_for_meter', grid=True,  figsize=(15,5), kind='bar') \n",
    "                          \n",
    "plt.title('Средняя цена за квадратный метр')\n",
    "plt.xlabel('Топ-10 городов по количеству объявлений')\n",
    "plt.ylabel('Средняя цена квадратного метра, рубли')\n"
   ]
  },
  {
   "cell_type": "code",
   "execution_count": null,
   "metadata": {},
   "outputs": [],
   "source": [
    "data.groupby('locality_name').agg({'balcony':'count', 'last_price':'median'}) \\\n",
    "    .sort_values(by = 'balcony', ascending = False) \\\n",
    "    .head(10)"
   ]
  },
  {
   "cell_type": "markdown",
   "metadata": {},
   "source": [
    "##### Вычислим среднюю цену километра в Санкт-Петербурге"
   ]
  },
  {
   "cell_type": "markdown",
   "metadata": {},
   "source": [
    "Посчитаем среднюю стоимость квартиры в зависимости от удаленности от центра. Стоимость квартир переведём в миллионы."
   ]
  },
  {
   "cell_type": "code",
   "execution_count": null,
   "metadata": {
    "scrolled": false
   },
   "outputs": [],
   "source": [
    "cost_km_spb = data[data['locality_name'] == 'Санкт-Петербург'].groupby('cityCenters_nearest_km')['last_price'].mean()/1000000\n",
    "cost_km_spb"
   ]
  },
  {
   "cell_type": "markdown",
   "metadata": {},
   "source": [
    "Визуализируем данные."
   ]
  },
  {
   "cell_type": "code",
   "execution_count": null,
   "metadata": {},
   "outputs": [],
   "source": [
    "cost_km_spb.plot(style='o-', figsize=(12, 5), grid=True)\n",
    "plt.xlabel('Расстояние от центра Санкт-Петербурга, километры')\n",
    "plt.ylabel('Стоимость квартиры, миллионы')\n",
    "plt.title('Средняя цена квартиры в зависимости от удаленности от центра Санкт-Петербурга')"
   ]
  },
  {
   "cell_type": "markdown",
   "metadata": {},
   "source": [
    "Проверим выбивающиеся значения на наличие выбросов."
   ]
  },
  {
   "cell_type": "markdown",
   "metadata": {},
   "source": [
    "###### для 3 км от центра Санкт-Петербурга"
   ]
  },
  {
   "cell_type": "code",
   "execution_count": null,
   "metadata": {},
   "outputs": [],
   "source": [
    "data[(data['locality_name'] == 'Санкт-Петербург')&(data['cityCenters_nearest_km'] == 3)]['last_price'].sort_values()/1000000"
   ]
  },
  {
   "cell_type": "markdown",
   "metadata": {},
   "source": [
    "Посмотрим минимальные и максимальные цены на квартиры в этом срезе."
   ]
  },
  {
   "cell_type": "code",
   "execution_count": null,
   "metadata": {},
   "outputs": [],
   "source": [
    "data[(data['locality_name'] == 'Санкт-Петербург')&(data['cityCenters_nearest_km'] == 3)&(data['last_price'] == 2385000.0)]"
   ]
  },
  {
   "cell_type": "code",
   "execution_count": null,
   "metadata": {},
   "outputs": [],
   "source": [
    "data[(data['locality_name'] == 'Санкт-Петербург')&(data['cityCenters_nearest_km'] == 3)&(data['last_price'] == 87000000.0)]"
   ]
  },
  {
   "cell_type": "markdown",
   "metadata": {},
   "source": [
    "Значения строк для самых дешевой и дорогой квартиры на 3 км от центра города выглядят логично: самая дешевая квартира площадью всего 20 кв.м. и жилой площади не имеет, а самая дорогая квартира имеет площадь 283 кв.м. и похожа не пентхаус."
   ]
  },
  {
   "cell_type": "markdown",
   "metadata": {},
   "source": [
    "###### для 6 км от центра Санкт-Петербурга"
   ]
  },
  {
   "cell_type": "code",
   "execution_count": null,
   "metadata": {},
   "outputs": [],
   "source": [
    "data[(data['locality_name'] == 'Санкт-Петербург')&(data['cityCenters_nearest_km'] == 6)]['last_price'].sort_values()/1000000"
   ]
  },
  {
   "cell_type": "code",
   "execution_count": null,
   "metadata": {
    "scrolled": false
   },
   "outputs": [],
   "source": [
    "data[(data['locality_name'] == 'Санкт-Петербург')&(data['cityCenters_nearest_km'] == 6)&(data['last_price'] == 245000000.0)]"
   ]
  },
  {
   "cell_type": "markdown",
   "metadata": {},
   "source": [
    "Строка со стоимостью квартиры в 245 млн очень похожа на выброс. Посмотрим на 2 место по дороговизне квартир на 6 км от центра Спб."
   ]
  },
  {
   "cell_type": "code",
   "execution_count": null,
   "metadata": {},
   "outputs": [],
   "source": [
    "data[(data['locality_name'] == 'Санкт-Петербург')&(data['cityCenters_nearest_km'] == 6)&(data['last_price'] == 150000000.0)]"
   ]
  },
  {
   "cell_type": "markdown",
   "metadata": {},
   "source": [
    "На 2 месте расположилось 2 квартиры: одна - апартаменты с площадью 500 кв.м., вторая - жилая квартира с площадью 230 кв.м. Корректнее сравнивать с жилой квартирой. Допускаем, что пентхаус с площадью на 55.7 кв.м. больше, будет стоить дороже  на 95 млн, чем обычная жилая квартира с меньшей площадью.\n",
    "\n",
    "**Так с чем же может быть связано необычное поведение графика в отрезке от 3 до 7 по оси абсцисс?**\n",
    "\n",
    "Возможно, на расстояние 3 км от города продаётся много небольших коммерческих помещений ввиду удачного географического положения. Апартаменты дешевле в цене, чем жилые помещения (это можно заметить по столбцу price_for_meter), и из-за этого наблюдаем спад стоимости квартир на графике. Возможно, нужно больше однородных данных, чтобы анализ был точнее."
   ]
  },
  {
   "cell_type": "markdown",
   "metadata": {},
   "source": [
    "###### для 27 км от центра Санкт-Петербурга"
   ]
  },
  {
   "cell_type": "markdown",
   "metadata": {},
   "source": [
    "После спада в значении 3 по оси абсцисс график ведёт себя вполне закономерно, кроме точки со значением 27 по оси абсцисс - там наблюдается неожиданный рост. Посмотрим внимательнее строки, приводящие к этому всплеску."
   ]
  },
  {
   "cell_type": "code",
   "execution_count": null,
   "metadata": {},
   "outputs": [],
   "source": [
    "data[(data['locality_name'] == 'Санкт-Петербург')&(data['cityCenters_nearest_km'] == 27)]['last_price'].sort_values()/1000000"
   ]
  },
  {
   "cell_type": "code",
   "execution_count": null,
   "metadata": {},
   "outputs": [],
   "source": [
    "data[(data['locality_name'] == 'Санкт-Петербург')&(data['cityCenters_nearest_km'] == 27)&(data['last_price'] == 2250000.0)]"
   ]
  },
  {
   "cell_type": "code",
   "execution_count": null,
   "metadata": {},
   "outputs": [],
   "source": [
    "data[(data['locality_name'] == 'Санкт-Петербург')&(data['cityCenters_nearest_km'] == 27)&(data['last_price'] == 14350000.0)]"
   ]
  },
  {
   "cell_type": "markdown",
   "metadata": {},
   "source": [
    "Если первая строка не вызывает сомнения, то вторая строка вызывает вопрос: почему такое большое значение price_for_meter? Однозначно принимаем это значение за выброс."
   ]
  },
  {
   "cell_type": "code",
   "execution_count": null,
   "metadata": {},
   "outputs": [],
   "source": [
    "data = data[data.price_for_meter != 193919.0]"
   ]
  },
  {
   "cell_type": "code",
   "execution_count": null,
   "metadata": {},
   "outputs": [],
   "source": [
    "data[data['last_price'] == 14350000.0]"
   ]
  },
  {
   "cell_type": "markdown",
   "metadata": {},
   "source": [
    "Проверим \"хвост\" графика - значения 28 и 29 по оси абсцисс"
   ]
  },
  {
   "cell_type": "code",
   "execution_count": null,
   "metadata": {
    "scrolled": true
   },
   "outputs": [],
   "source": [
    "# Смотрим значения для 28 км\n",
    "\n",
    "data[(data['locality_name'] == 'Санкт-Петербург')&(data['cityCenters_nearest_km'] == 28)]['last_price'].sort_values()/1000000"
   ]
  },
  {
   "cell_type": "code",
   "execution_count": null,
   "metadata": {},
   "outputs": [],
   "source": [
    "# Посмотрим строку с самой дорогой квартирой в этом сегменте\n",
    "\n",
    "data[(data['locality_name'] == 'Санкт-Петербург')&(data['cityCenters_nearest_km'] == 28)&(data['last_price'] == 7600000.0)]"
   ]
  },
  {
   "cell_type": "code",
   "execution_count": null,
   "metadata": {
    "scrolled": true
   },
   "outputs": [],
   "source": [
    "# Смотрим значения для 29 км\n",
    "\n",
    "data[(data['locality_name'] == 'Санкт-Петербург')&(data['cityCenters_nearest_km'] == 29)]['last_price'].sort_values()/1000000"
   ]
  },
  {
   "cell_type": "markdown",
   "metadata": {},
   "source": [
    "Получаем итоговую среднюю среднюю цену километра в Санкт-Петербурге:"
   ]
  },
  {
   "cell_type": "code",
   "execution_count": null,
   "metadata": {},
   "outputs": [],
   "source": [
    "cost_km_spb = data[data['locality_name'] == 'Санкт-Петербург'].groupby('cityCenters_nearest_km')['last_price'].mean()/1000000\n",
    "cost_km_spb"
   ]
  },
  {
   "cell_type": "code",
   "execution_count": null,
   "metadata": {},
   "outputs": [],
   "source": [
    "cost_km_spb.plot(style='o-', figsize=(12, 5), grid=True)\n",
    "plt.xlabel('Расстояние от центра Санкт-Петербурга, километры')\n",
    "plt.ylabel('Стоимость квартиры, миллионы')\n",
    "plt.title('Средняя цена квартиры в зависимости от удаленности от центра Санкт-Петербурга')"
   ]
  },
  {
   "cell_type": "markdown",
   "metadata": {},
   "source": [
    "По графику можно сделать вывод, что чем дальше квартира от центра города, тем она дешевле, что логично. Наличие скачков в конце графика можно объяснить недостаточностью данных в этом сегменте."
   ]
  },
  {
   "cell_type": "markdown",
   "metadata": {},
   "source": [
    "### Общий вывод"
   ]
  },
  {
   "cell_type": "markdown",
   "metadata": {},
   "source": [
    "Было проведено исследование с целью выявления влияния различных факторов на стоимость квартиры. Входные данные - архив объявлений о продаже квартир в Санкт-Петербурге и соседних населённых пунктах за несколько лет. Результаты исследования будут полезны:\n",
    "+ при оценке стоимости квартиры и длительности продажи,\n",
    "+ при проектировании автоматизированной системы, которая отследит аномалии и мошенническую деятельность,\n",
    "+ при оценке факторов, влияющих на ценообразование.\n",
    "\n",
    "Перед проведением исследования были сформулированы следующие гипотезы:\n",
    "- Гипотеза 1 - Общая площадь влияет на стоимость квартиры.\n",
    "- Гипотеза 2 - Жилая площадь влияет на стоимость квартиры.\n",
    "- Гипотеза 3 - Площадь кухни влияет на стоимость квартиры.\n",
    "- Гипотеза 4 - Количество комнат влияет на стоимость квартиры.\n",
    "- Гипотеза 5 - Этаж, на котором расположена квартира (первый, последний, другой), влияет на стоимость квартиры.\n",
    "- Гипотеза 6 - Дата размещения (день недели, месяц, год) влияет на стоимость квартиры.\n",
    "- Гипотеза 7 - Удалённость квартиры от центра города влияет на стоимость квартиры.\n",
    "\n",
    "В результате удалось выявить определенные зависимости.\n",
    "\n",
    "**Гипотеза 1 подтверждена:** общая площадь напрямую влияет на стоимость квартиры.\n",
    "\n",
    "- Коэффициент корреляции Пирсона равен 0.64. Явная зависимость между стоимостью квартиры и жилой площадью.\n",
    "\n",
    "Рекомендации: провести дополнительный анализ зависимости общей площади от стоимости квартиры.\n",
    "\n",
    "**Гипотеза 2 подтверждена:** жилая площадь влияет на стоимость квартиры.\n",
    "\n",
    "- Коэффициент корреляции Пирсона равен 0.48 - зависимость между стоимостью квартиры и жилой площадью явно прослеживается.\n",
    "\n",
    "**Гипотеза 3 подтверждена:** площадь кухни влияет на стоимость квартиры.\n",
    "\n",
    "- Коэффициент корреляции Пирсона равен 0.51 - зависимость между стоимостью квартиры и площадью кухни явно прослеживается.\n",
    "\n",
    "**Гипотеза 4 подтверждена:** количество комнат влияет на стоимость квартиры.\n",
    "\n",
    "- Коэффициент корреляции Пирсона равен 0.35 - зависимость между стоимостью квартиры и количеством комнат явно прослеживается, хоть и чуть менее явно, чем зависимость стоимости квартиры от жилой площади.\n",
    "\n",
    "**Гипотеза 5 частично подтверждена:** этаж, на котором расположена квартира (первый, последний, другой), влияет на стоимость квартиры.\n",
    "\n",
    "- Квартиры, которые находятся не на первом и не на последнем этаже, продаются чаще и дороже, чем квартиры на первом или на последнем этаже.\n",
    "\n",
    "**Гипотеза 6 не подтверждена:** дата размещения (день недели, месяц, год) влияет на стоимость квартиры.\n",
    "\n",
    "- Зависимостей между стоимостью квартиры и днём, месяцем или годом публикации объявления не обнаружено - коэффициенты корреляции Пирсона близки к нулю (0.01, 0.01 и -0.05 соотвественно). \n",
    "\n",
    "**Гипотеза 7 подтверждена:** удалённость квартиры от центра города влияет на стоимость квартиры.\n",
    "\n",
    "- Квартиры в центре города стоят в среднем 30.49 млн рублей.\n",
    "- Квартиры, находящиеся на расстояние 29 км от центра города стоят в среднем 4.53 млн рублей.\n",
    "\n",
    "\n",
    "**Общие наблюдения:**\n",
    "1. Медианное время продажи квартиры - 102 дней. Среднее время продажи квартиры - 185 дней.\n",
    "\n",
    "2. Продажи квартир менее чем за 102 дня можно считать быстрыми. Продажи квартир более чем за 520 дней можно считать необычно долгими.\n",
    "\n",
    "3. Самый дорогой квадратный метр недвижимости в Лисим Носе - 10369 рублей/кв.м.\n",
    "Самый дешёвый квадратный метр недвижимости в деревне Старополье - 113768 рублей/кв.м.\n",
    "\n",
    "\n",
    "**Общие рекомендации:**\n",
    "1. Специалистам по оценке стоимости недвижимости рекомендую использовать зависимости из 1, 2, 3, 4, 5 и 7 гипотез (об общей площади, о жилой площади, о площади кухни, о количестве комнат и об удалённости квартиры).\n",
    "\n",
    "Обзора данных выполнялся согласно следующим этапам:\n",
    "1. Обзор данных.\n",
    "2. Предобработка данных.\n",
    "3. Расчеты и добавление результатов в таблицу.\n",
    "4. Проведение анализа для Ленинградской области.\n",
    "5. Проведение анализа для Санкт-Петербурга.\n",
    "6. Различаются ли факторы, которые влияет на ценообразование квартир.\n",
    "7. Написание общего вывода."
   ]
  }
 ],
 "metadata": {
  "ExecuteTimeLog": [
   {
    "duration": 520,
    "start_time": "2022-11-28T14:40:29.811Z"
   },
   {
    "duration": 121,
    "start_time": "2022-11-28T15:04:22.557Z"
   },
   {
    "duration": 617,
    "start_time": "2022-11-28T15:04:30.778Z"
   },
   {
    "duration": 60,
    "start_time": "2022-11-28T15:04:31.398Z"
   },
   {
    "duration": 16,
    "start_time": "2022-11-28T15:08:01.024Z"
   },
   {
    "duration": 100,
    "start_time": "2022-11-28T15:14:20.977Z"
   },
   {
    "duration": 1146,
    "start_time": "2022-11-28T15:14:27.271Z"
   },
   {
    "duration": 30,
    "start_time": "2022-11-28T15:25:54.377Z"
   },
   {
    "duration": 14,
    "start_time": "2022-11-28T15:26:12.243Z"
   },
   {
    "duration": 142,
    "start_time": "2022-11-28T15:27:24.121Z"
   },
   {
    "duration": 10,
    "start_time": "2022-11-28T15:27:34.617Z"
   },
   {
    "duration": 12,
    "start_time": "2022-11-28T15:27:51.110Z"
   },
   {
    "duration": 1476,
    "start_time": "2022-11-28T15:28:01.921Z"
   },
   {
    "duration": 50,
    "start_time": "2022-11-28T15:28:03.399Z"
   },
   {
    "duration": 18,
    "start_time": "2022-11-28T15:28:03.450Z"
   },
   {
    "duration": 36,
    "start_time": "2022-11-28T15:28:03.483Z"
   },
   {
    "duration": 2514,
    "start_time": "2022-11-28T15:32:03.562Z"
   },
   {
    "duration": 3,
    "start_time": "2022-11-28T15:33:43.170Z"
   },
   {
    "duration": 11,
    "start_time": "2022-11-28T15:33:54.374Z"
   },
   {
    "duration": 1315,
    "start_time": "2022-11-28T15:34:24.960Z"
   },
   {
    "duration": 56,
    "start_time": "2022-11-28T15:34:26.276Z"
   },
   {
    "duration": 16,
    "start_time": "2022-11-28T15:34:26.333Z"
   },
   {
    "duration": 2072,
    "start_time": "2022-11-28T15:34:26.352Z"
   },
   {
    "duration": 10,
    "start_time": "2022-11-28T15:34:28.426Z"
   },
   {
    "duration": 11,
    "start_time": "2022-11-28T15:37:59.395Z"
   },
   {
    "duration": 15,
    "start_time": "2022-11-28T15:38:12.383Z"
   },
   {
    "duration": 10,
    "start_time": "2022-11-28T15:38:21.779Z"
   },
   {
    "duration": 15,
    "start_time": "2022-11-28T15:38:24.283Z"
   },
   {
    "duration": 9,
    "start_time": "2022-11-28T15:38:36.569Z"
   },
   {
    "duration": 15,
    "start_time": "2022-11-28T15:38:49.333Z"
   },
   {
    "duration": 4,
    "start_time": "2022-11-28T17:27:09.131Z"
   },
   {
    "duration": 31,
    "start_time": "2022-11-28T17:27:55.940Z"
   },
   {
    "duration": 4,
    "start_time": "2022-11-28T17:33:51.399Z"
   },
   {
    "duration": 5,
    "start_time": "2022-11-28T17:34:21.128Z"
   },
   {
    "duration": 1257,
    "start_time": "2022-11-28T17:34:29.536Z"
   },
   {
    "duration": 43,
    "start_time": "2022-11-28T17:34:30.796Z"
   },
   {
    "duration": 14,
    "start_time": "2022-11-28T17:34:30.841Z"
   },
   {
    "duration": 2079,
    "start_time": "2022-11-28T17:34:30.857Z"
   },
   {
    "duration": 11,
    "start_time": "2022-11-28T17:34:32.938Z"
   },
   {
    "duration": 40,
    "start_time": "2022-11-28T17:34:32.951Z"
   },
   {
    "duration": 11,
    "start_time": "2022-11-28T17:34:32.992Z"
   },
   {
    "duration": 27,
    "start_time": "2022-11-28T17:35:07.940Z"
   },
   {
    "duration": 26,
    "start_time": "2022-11-28T17:35:38.908Z"
   },
   {
    "duration": 25,
    "start_time": "2022-11-28T17:35:57.259Z"
   },
   {
    "duration": 1249,
    "start_time": "2022-11-28T17:36:08.266Z"
   },
   {
    "duration": 40,
    "start_time": "2022-11-28T17:36:09.516Z"
   },
   {
    "duration": 21,
    "start_time": "2022-11-28T17:36:09.558Z"
   },
   {
    "duration": 1889,
    "start_time": "2022-11-28T17:36:09.583Z"
   },
   {
    "duration": 10,
    "start_time": "2022-11-28T17:36:11.474Z"
   },
   {
    "duration": 29,
    "start_time": "2022-11-28T17:36:11.485Z"
   },
   {
    "duration": 24,
    "start_time": "2022-11-28T17:36:11.516Z"
   },
   {
    "duration": 3,
    "start_time": "2022-11-28T17:41:00.546Z"
   },
   {
    "duration": 3,
    "start_time": "2022-11-28T17:41:02.305Z"
   },
   {
    "duration": 6,
    "start_time": "2022-11-28T17:42:42.390Z"
   },
   {
    "duration": 39,
    "start_time": "2022-11-28T17:43:04.981Z"
   },
   {
    "duration": 95,
    "start_time": "2022-11-28T17:45:42.020Z"
   },
   {
    "duration": 10,
    "start_time": "2022-11-28T17:47:07.188Z"
   },
   {
    "duration": 10,
    "start_time": "2022-11-28T17:48:23.753Z"
   },
   {
    "duration": 40,
    "start_time": "2022-11-28T17:58:30.932Z"
   },
   {
    "duration": 1331,
    "start_time": "2022-11-28T17:59:02.928Z"
   },
   {
    "duration": 45,
    "start_time": "2022-11-28T17:59:04.261Z"
   },
   {
    "duration": 16,
    "start_time": "2022-11-28T17:59:04.307Z"
   },
   {
    "duration": 2343,
    "start_time": "2022-11-28T17:59:04.325Z"
   },
   {
    "duration": 10,
    "start_time": "2022-11-28T17:59:06.671Z"
   },
   {
    "duration": 28,
    "start_time": "2022-11-28T17:59:06.683Z"
   },
   {
    "duration": 30,
    "start_time": "2022-11-28T17:59:06.713Z"
   },
   {
    "duration": 66,
    "start_time": "2022-11-28T17:59:06.744Z"
   },
   {
    "duration": 10,
    "start_time": "2022-11-28T17:59:49.077Z"
   },
   {
    "duration": 109,
    "start_time": "2022-11-28T18:00:19.201Z"
   },
   {
    "duration": 13,
    "start_time": "2022-11-28T18:00:29.409Z"
   },
   {
    "duration": 42,
    "start_time": "2022-11-28T18:00:43.768Z"
   },
   {
    "duration": 85,
    "start_time": "2022-11-28T18:00:58.391Z"
   },
   {
    "duration": 27,
    "start_time": "2022-11-28T18:01:02.990Z"
   },
   {
    "duration": 58,
    "start_time": "2022-11-28T18:01:34.096Z"
   },
   {
    "duration": 6,
    "start_time": "2022-11-28T18:02:05.040Z"
   },
   {
    "duration": 8,
    "start_time": "2022-11-28T18:02:12.237Z"
   },
   {
    "duration": 5,
    "start_time": "2022-11-28T18:02:15.939Z"
   },
   {
    "duration": 3,
    "start_time": "2022-11-28T18:13:55.022Z"
   },
   {
    "duration": 3,
    "start_time": "2022-11-28T18:21:42.166Z"
   },
   {
    "duration": 2,
    "start_time": "2022-11-28T18:21:43.694Z"
   },
   {
    "duration": 9,
    "start_time": "2022-11-28T18:24:55.137Z"
   },
   {
    "duration": 6,
    "start_time": "2022-11-28T18:25:04.687Z"
   },
   {
    "duration": 5,
    "start_time": "2022-11-28T18:25:39.654Z"
   },
   {
    "duration": 1195,
    "start_time": "2022-11-28T18:25:52.177Z"
   },
   {
    "duration": 40,
    "start_time": "2022-11-28T18:25:53.374Z"
   },
   {
    "duration": 14,
    "start_time": "2022-11-28T18:25:53.415Z"
   },
   {
    "duration": 1901,
    "start_time": "2022-11-28T18:25:53.431Z"
   },
   {
    "duration": 9,
    "start_time": "2022-11-28T18:25:55.334Z"
   },
   {
    "duration": 23,
    "start_time": "2022-11-28T18:25:55.345Z"
   },
   {
    "duration": 25,
    "start_time": "2022-11-28T18:25:55.369Z"
   },
   {
    "duration": 6,
    "start_time": "2022-11-28T18:25:55.396Z"
   },
   {
    "duration": 7,
    "start_time": "2022-11-28T18:25:55.403Z"
   },
   {
    "duration": 6,
    "start_time": "2022-11-28T18:25:55.412Z"
   },
   {
    "duration": 87,
    "start_time": "2022-11-28T18:33:13.213Z"
   },
   {
    "duration": 4,
    "start_time": "2022-11-28T18:49:04.506Z"
   },
   {
    "duration": 27,
    "start_time": "2022-11-28T18:49:23.209Z"
   },
   {
    "duration": 14,
    "start_time": "2022-11-28T18:49:30.829Z"
   },
   {
    "duration": 4,
    "start_time": "2022-11-28T18:50:49.211Z"
   },
   {
    "duration": 110,
    "start_time": "2022-11-28T18:51:10.329Z"
   },
   {
    "duration": 5,
    "start_time": "2022-11-28T18:51:13.417Z"
   },
   {
    "duration": 7,
    "start_time": "2022-11-28T18:51:20.587Z"
   },
   {
    "duration": 38,
    "start_time": "2022-11-28T18:52:25.339Z"
   },
   {
    "duration": 28,
    "start_time": "2022-11-28T18:54:54.700Z"
   },
   {
    "duration": 14,
    "start_time": "2022-11-28T18:55:29.897Z"
   },
   {
    "duration": 7,
    "start_time": "2022-11-28T18:56:07.297Z"
   },
   {
    "duration": 6,
    "start_time": "2022-11-28T18:56:32.382Z"
   },
   {
    "duration": 5,
    "start_time": "2022-11-28T18:56:46.639Z"
   },
   {
    "duration": 5,
    "start_time": "2022-11-28T18:57:11.374Z"
   },
   {
    "duration": 14,
    "start_time": "2022-11-28T18:57:19.684Z"
   },
   {
    "duration": 7,
    "start_time": "2022-11-28T18:57:30.300Z"
   },
   {
    "duration": 9,
    "start_time": "2022-11-28T18:57:37.181Z"
   },
   {
    "duration": 7,
    "start_time": "2022-11-28T18:59:17.729Z"
   },
   {
    "duration": 16,
    "start_time": "2022-11-28T19:14:11.893Z"
   },
   {
    "duration": 5,
    "start_time": "2022-11-28T19:17:57.932Z"
   },
   {
    "duration": 4,
    "start_time": "2022-11-28T19:18:14.264Z"
   },
   {
    "duration": 46,
    "start_time": "2022-11-28T19:18:18.265Z"
   },
   {
    "duration": 9,
    "start_time": "2022-11-28T19:18:34.063Z"
   },
   {
    "duration": 7,
    "start_time": "2022-11-28T19:20:51.860Z"
   },
   {
    "duration": 72,
    "start_time": "2022-11-28T19:33:28.071Z"
   },
   {
    "duration": 1281,
    "start_time": "2022-11-28T19:33:49.633Z"
   },
   {
    "duration": 45,
    "start_time": "2022-11-28T19:33:50.916Z"
   },
   {
    "duration": 34,
    "start_time": "2022-11-28T19:33:50.963Z"
   },
   {
    "duration": 2268,
    "start_time": "2022-11-28T19:33:51.000Z"
   },
   {
    "duration": 13,
    "start_time": "2022-11-28T19:33:53.270Z"
   },
   {
    "duration": 51,
    "start_time": "2022-11-28T19:33:53.285Z"
   },
   {
    "duration": 33,
    "start_time": "2022-11-28T19:33:53.337Z"
   },
   {
    "duration": 7,
    "start_time": "2022-11-28T19:33:53.372Z"
   },
   {
    "duration": 30,
    "start_time": "2022-11-28T19:33:53.380Z"
   },
   {
    "duration": 11,
    "start_time": "2022-11-28T19:33:53.413Z"
   },
   {
    "duration": 33,
    "start_time": "2022-11-28T19:33:53.425Z"
   },
   {
    "duration": 48,
    "start_time": "2022-11-28T19:33:53.459Z"
   },
   {
    "duration": 7,
    "start_time": "2022-11-28T19:33:53.508Z"
   },
   {
    "duration": 25,
    "start_time": "2022-11-28T19:33:53.518Z"
   },
   {
    "duration": 22,
    "start_time": "2022-11-28T19:33:53.545Z"
   },
   {
    "duration": 73,
    "start_time": "2022-11-28T19:33:53.568Z"
   },
   {
    "duration": 4,
    "start_time": "2022-11-28T19:34:03.631Z"
   },
   {
    "duration": 6,
    "start_time": "2022-11-28T19:35:23.000Z"
   },
   {
    "duration": 7,
    "start_time": "2022-11-28T19:35:33.678Z"
   },
   {
    "duration": 4,
    "start_time": "2022-11-28T19:35:42.006Z"
   },
   {
    "duration": 5,
    "start_time": "2022-11-28T19:35:48.522Z"
   },
   {
    "duration": 4,
    "start_time": "2022-11-28T19:38:48.400Z"
   },
   {
    "duration": 4,
    "start_time": "2022-11-28T19:39:00.841Z"
   },
   {
    "duration": 62,
    "start_time": "2022-11-29T14:27:14.286Z"
   },
   {
    "duration": 1765,
    "start_time": "2022-11-29T14:27:28.578Z"
   },
   {
    "duration": 42,
    "start_time": "2022-11-29T14:27:30.345Z"
   },
   {
    "duration": 30,
    "start_time": "2022-11-29T14:27:30.389Z"
   },
   {
    "duration": 1987,
    "start_time": "2022-11-29T14:27:30.421Z"
   },
   {
    "duration": 10,
    "start_time": "2022-11-29T14:27:32.410Z"
   },
   {
    "duration": 31,
    "start_time": "2022-11-29T14:27:32.422Z"
   },
   {
    "duration": 38,
    "start_time": "2022-11-29T14:27:32.455Z"
   },
   {
    "duration": 6,
    "start_time": "2022-11-29T14:27:32.495Z"
   },
   {
    "duration": 49,
    "start_time": "2022-11-29T14:27:32.503Z"
   },
   {
    "duration": 7,
    "start_time": "2022-11-29T14:27:32.555Z"
   },
   {
    "duration": 10,
    "start_time": "2022-11-29T14:27:32.564Z"
   },
   {
    "duration": 110,
    "start_time": "2022-11-29T14:27:32.576Z"
   },
   {
    "duration": 0,
    "start_time": "2022-11-29T14:27:32.688Z"
   },
   {
    "duration": 0,
    "start_time": "2022-11-29T14:27:32.689Z"
   },
   {
    "duration": 0,
    "start_time": "2022-11-29T14:27:32.690Z"
   },
   {
    "duration": 0,
    "start_time": "2022-11-29T14:27:32.692Z"
   },
   {
    "duration": 0,
    "start_time": "2022-11-29T14:27:32.692Z"
   },
   {
    "duration": 0,
    "start_time": "2022-11-29T14:27:32.693Z"
   },
   {
    "duration": 13,
    "start_time": "2022-11-29T14:27:44.881Z"
   },
   {
    "duration": 11,
    "start_time": "2022-11-29T14:27:49.012Z"
   },
   {
    "duration": 7,
    "start_time": "2022-11-29T14:29:23.096Z"
   },
   {
    "duration": 5,
    "start_time": "2022-11-29T14:29:35.615Z"
   },
   {
    "duration": 7,
    "start_time": "2022-11-29T14:29:48.551Z"
   },
   {
    "duration": 3,
    "start_time": "2022-11-29T14:35:00.579Z"
   },
   {
    "duration": 6,
    "start_time": "2022-11-29T14:37:53.902Z"
   },
   {
    "duration": 8,
    "start_time": "2022-11-29T14:41:31.908Z"
   },
   {
    "duration": 6,
    "start_time": "2022-11-29T14:41:44.431Z"
   },
   {
    "duration": 4,
    "start_time": "2022-11-29T14:46:30.335Z"
   },
   {
    "duration": 24,
    "start_time": "2022-11-29T14:47:09.933Z"
   },
   {
    "duration": 751,
    "start_time": "2022-11-29T14:55:41.754Z"
   },
   {
    "duration": 1173,
    "start_time": "2022-11-29T14:55:50.014Z"
   },
   {
    "duration": 43,
    "start_time": "2022-11-29T14:55:51.189Z"
   },
   {
    "duration": 15,
    "start_time": "2022-11-29T14:55:51.233Z"
   },
   {
    "duration": 2051,
    "start_time": "2022-11-29T14:55:51.250Z"
   },
   {
    "duration": 10,
    "start_time": "2022-11-29T14:55:53.303Z"
   },
   {
    "duration": 26,
    "start_time": "2022-11-29T14:55:53.315Z"
   },
   {
    "duration": 38,
    "start_time": "2022-11-29T14:55:53.343Z"
   },
   {
    "duration": 7,
    "start_time": "2022-11-29T14:55:53.383Z"
   },
   {
    "duration": 6,
    "start_time": "2022-11-29T14:55:53.391Z"
   },
   {
    "duration": 7,
    "start_time": "2022-11-29T14:55:53.399Z"
   },
   {
    "duration": 12,
    "start_time": "2022-11-29T14:55:53.408Z"
   },
   {
    "duration": 18,
    "start_time": "2022-11-29T14:55:53.421Z"
   },
   {
    "duration": 5,
    "start_time": "2022-11-29T14:55:53.441Z"
   },
   {
    "duration": 29,
    "start_time": "2022-11-29T14:55:53.448Z"
   },
   {
    "duration": 10,
    "start_time": "2022-11-29T14:55:53.479Z"
   },
   {
    "duration": 5,
    "start_time": "2022-11-29T14:55:53.491Z"
   },
   {
    "duration": 8,
    "start_time": "2022-11-29T14:55:53.497Z"
   },
   {
    "duration": 10,
    "start_time": "2022-11-29T14:55:53.507Z"
   },
   {
    "duration": 967,
    "start_time": "2022-11-29T14:55:53.519Z"
   },
   {
    "duration": 11,
    "start_time": "2022-11-29T14:58:47.665Z"
   },
   {
    "duration": 9,
    "start_time": "2022-11-29T14:59:51.860Z"
   },
   {
    "duration": 47,
    "start_time": "2022-11-29T15:02:46.791Z"
   },
   {
    "duration": 10,
    "start_time": "2022-11-29T15:02:56.582Z"
   },
   {
    "duration": 10,
    "start_time": "2022-11-29T15:05:50.638Z"
   },
   {
    "duration": 8,
    "start_time": "2022-11-29T17:03:15.382Z"
   },
   {
    "duration": 8,
    "start_time": "2022-11-29T17:03:52.508Z"
   },
   {
    "duration": 1268,
    "start_time": "2022-11-29T17:04:02.022Z"
   },
   {
    "duration": 41,
    "start_time": "2022-11-29T17:04:03.292Z"
   },
   {
    "duration": 16,
    "start_time": "2022-11-29T17:04:03.335Z"
   },
   {
    "duration": 2191,
    "start_time": "2022-11-29T17:04:03.354Z"
   },
   {
    "duration": 11,
    "start_time": "2022-11-29T17:04:05.547Z"
   },
   {
    "duration": 40,
    "start_time": "2022-11-29T17:04:05.560Z"
   },
   {
    "duration": 28,
    "start_time": "2022-11-29T17:04:05.602Z"
   },
   {
    "duration": 8,
    "start_time": "2022-11-29T17:04:05.632Z"
   },
   {
    "duration": 6,
    "start_time": "2022-11-29T17:04:05.642Z"
   },
   {
    "duration": 29,
    "start_time": "2022-11-29T17:04:05.650Z"
   },
   {
    "duration": 8,
    "start_time": "2022-11-29T17:04:05.681Z"
   },
   {
    "duration": 17,
    "start_time": "2022-11-29T17:04:05.691Z"
   },
   {
    "duration": 7,
    "start_time": "2022-11-29T17:04:05.710Z"
   },
   {
    "duration": 6,
    "start_time": "2022-11-29T17:04:05.719Z"
   },
   {
    "duration": 9,
    "start_time": "2022-11-29T17:04:05.727Z"
   },
   {
    "duration": 39,
    "start_time": "2022-11-29T17:04:05.737Z"
   },
   {
    "duration": 9,
    "start_time": "2022-11-29T17:04:05.778Z"
   },
   {
    "duration": 8,
    "start_time": "2022-11-29T17:04:05.789Z"
   },
   {
    "duration": 10,
    "start_time": "2022-11-29T17:04:05.799Z"
   },
   {
    "duration": 6,
    "start_time": "2022-11-29T17:04:36.625Z"
   },
   {
    "duration": 10,
    "start_time": "2022-11-29T17:06:34.739Z"
   },
   {
    "duration": 8,
    "start_time": "2022-11-29T17:06:36.154Z"
   },
   {
    "duration": 1206,
    "start_time": "2022-11-29T17:06:42.070Z"
   },
   {
    "duration": 43,
    "start_time": "2022-11-29T17:06:43.278Z"
   },
   {
    "duration": 15,
    "start_time": "2022-11-29T17:06:43.323Z"
   },
   {
    "duration": 2033,
    "start_time": "2022-11-29T17:06:43.340Z"
   },
   {
    "duration": 10,
    "start_time": "2022-11-29T17:06:45.375Z"
   },
   {
    "duration": 25,
    "start_time": "2022-11-29T17:06:45.386Z"
   },
   {
    "duration": 25,
    "start_time": "2022-11-29T17:06:45.413Z"
   },
   {
    "duration": 37,
    "start_time": "2022-11-29T17:06:45.440Z"
   },
   {
    "duration": 6,
    "start_time": "2022-11-29T17:06:45.479Z"
   },
   {
    "duration": 8,
    "start_time": "2022-11-29T17:06:45.487Z"
   },
   {
    "duration": 10,
    "start_time": "2022-11-29T17:06:45.497Z"
   },
   {
    "duration": 28,
    "start_time": "2022-11-29T17:06:45.509Z"
   },
   {
    "duration": 6,
    "start_time": "2022-11-29T17:06:45.539Z"
   },
   {
    "duration": 6,
    "start_time": "2022-11-29T17:06:45.547Z"
   },
   {
    "duration": 22,
    "start_time": "2022-11-29T17:06:45.555Z"
   },
   {
    "duration": 3,
    "start_time": "2022-11-29T17:06:45.579Z"
   },
   {
    "duration": 8,
    "start_time": "2022-11-29T17:06:45.583Z"
   },
   {
    "duration": 11,
    "start_time": "2022-11-29T17:06:45.593Z"
   },
   {
    "duration": 9,
    "start_time": "2022-11-29T17:06:45.605Z"
   },
   {
    "duration": 11,
    "start_time": "2022-11-29T17:06:45.616Z"
   },
   {
    "duration": 8,
    "start_time": "2022-11-29T17:07:47.554Z"
   },
   {
    "duration": 8,
    "start_time": "2022-11-29T17:08:00.793Z"
   },
   {
    "duration": 107,
    "start_time": "2022-11-29T17:08:52.656Z"
   },
   {
    "duration": 13,
    "start_time": "2022-11-29T17:09:04.569Z"
   },
   {
    "duration": 13,
    "start_time": "2022-11-29T17:09:21.824Z"
   },
   {
    "duration": 12,
    "start_time": "2022-11-29T17:09:24.506Z"
   },
   {
    "duration": 12,
    "start_time": "2022-11-29T17:10:06.268Z"
   },
   {
    "duration": 5,
    "start_time": "2022-11-29T17:10:25.046Z"
   },
   {
    "duration": 4,
    "start_time": "2022-11-29T17:10:28.259Z"
   },
   {
    "duration": 10,
    "start_time": "2022-11-29T17:10:29.366Z"
   },
   {
    "duration": 1182,
    "start_time": "2022-11-29T17:10:50.461Z"
   },
   {
    "duration": 38,
    "start_time": "2022-11-29T17:10:51.645Z"
   },
   {
    "duration": 13,
    "start_time": "2022-11-29T17:10:51.685Z"
   },
   {
    "duration": 1829,
    "start_time": "2022-11-29T17:10:51.700Z"
   },
   {
    "duration": 10,
    "start_time": "2022-11-29T17:10:53.532Z"
   },
   {
    "duration": 26,
    "start_time": "2022-11-29T17:10:53.543Z"
   },
   {
    "duration": 22,
    "start_time": "2022-11-29T17:10:53.571Z"
   },
   {
    "duration": 5,
    "start_time": "2022-11-29T17:10:53.595Z"
   },
   {
    "duration": 4,
    "start_time": "2022-11-29T17:10:53.602Z"
   },
   {
    "duration": 10,
    "start_time": "2022-11-29T17:10:53.608Z"
   },
   {
    "duration": 7,
    "start_time": "2022-11-29T17:10:53.619Z"
   },
   {
    "duration": 18,
    "start_time": "2022-11-29T17:10:53.628Z"
   },
   {
    "duration": 6,
    "start_time": "2022-11-29T17:10:53.647Z"
   },
   {
    "duration": 24,
    "start_time": "2022-11-29T17:10:53.654Z"
   },
   {
    "duration": 6,
    "start_time": "2022-11-29T17:10:53.680Z"
   },
   {
    "duration": 3,
    "start_time": "2022-11-29T17:10:53.688Z"
   },
   {
    "duration": 13,
    "start_time": "2022-11-29T17:10:53.692Z"
   },
   {
    "duration": 8,
    "start_time": "2022-11-29T17:10:53.706Z"
   },
   {
    "duration": 6,
    "start_time": "2022-11-29T17:10:53.716Z"
   },
   {
    "duration": 12,
    "start_time": "2022-11-29T17:10:53.723Z"
   },
   {
    "duration": 4,
    "start_time": "2022-11-29T17:10:53.736Z"
   },
   {
    "duration": 1174,
    "start_time": "2022-11-29T17:11:06.481Z"
   },
   {
    "duration": 39,
    "start_time": "2022-11-29T17:11:07.657Z"
   },
   {
    "duration": 13,
    "start_time": "2022-11-29T17:11:07.697Z"
   },
   {
    "duration": 1777,
    "start_time": "2022-11-29T17:11:07.712Z"
   },
   {
    "duration": 9,
    "start_time": "2022-11-29T17:11:09.491Z"
   },
   {
    "duration": 26,
    "start_time": "2022-11-29T17:11:09.502Z"
   },
   {
    "duration": 24,
    "start_time": "2022-11-29T17:11:09.529Z"
   },
   {
    "duration": 6,
    "start_time": "2022-11-29T17:11:09.555Z"
   },
   {
    "duration": 17,
    "start_time": "2022-11-29T17:11:09.562Z"
   },
   {
    "duration": 9,
    "start_time": "2022-11-29T17:11:09.581Z"
   },
   {
    "duration": 6,
    "start_time": "2022-11-29T17:11:09.591Z"
   },
   {
    "duration": 16,
    "start_time": "2022-11-29T17:11:09.598Z"
   },
   {
    "duration": 5,
    "start_time": "2022-11-29T17:11:09.615Z"
   },
   {
    "duration": 5,
    "start_time": "2022-11-29T17:11:09.621Z"
   },
   {
    "duration": 8,
    "start_time": "2022-11-29T17:11:09.628Z"
   },
   {
    "duration": 10,
    "start_time": "2022-11-29T17:11:09.637Z"
   },
   {
    "duration": 29,
    "start_time": "2022-11-29T17:11:09.648Z"
   },
   {
    "duration": 6,
    "start_time": "2022-11-29T17:11:09.678Z"
   },
   {
    "duration": 5,
    "start_time": "2022-11-29T17:11:09.686Z"
   },
   {
    "duration": 12,
    "start_time": "2022-11-29T17:11:09.693Z"
   },
   {
    "duration": 5,
    "start_time": "2022-11-29T17:11:09.706Z"
   },
   {
    "duration": 9,
    "start_time": "2022-11-29T17:11:24.051Z"
   },
   {
    "duration": 6,
    "start_time": "2022-11-29T17:11:24.974Z"
   },
   {
    "duration": 9,
    "start_time": "2022-11-29T17:12:05.367Z"
   },
   {
    "duration": 6,
    "start_time": "2022-11-29T17:12:06.382Z"
   },
   {
    "duration": 41,
    "start_time": "2022-11-29T17:12:43.230Z"
   },
   {
    "duration": 9,
    "start_time": "2022-11-29T17:12:57.630Z"
   },
   {
    "duration": 5,
    "start_time": "2022-11-29T17:12:59.188Z"
   },
   {
    "duration": 11,
    "start_time": "2022-11-29T17:14:07.838Z"
   },
   {
    "duration": 5,
    "start_time": "2022-11-29T17:14:09.603Z"
   },
   {
    "duration": 14,
    "start_time": "2022-11-29T17:14:49.247Z"
   },
   {
    "duration": 6,
    "start_time": "2022-11-29T17:14:49.968Z"
   },
   {
    "duration": 11,
    "start_time": "2022-11-29T17:15:28.401Z"
   },
   {
    "duration": 4,
    "start_time": "2022-11-29T17:15:29.250Z"
   },
   {
    "duration": 14,
    "start_time": "2022-11-29T17:16:21.020Z"
   },
   {
    "duration": 5,
    "start_time": "2022-11-29T17:16:21.734Z"
   },
   {
    "duration": 5,
    "start_time": "2022-11-29T17:16:23.382Z"
   },
   {
    "duration": 14,
    "start_time": "2022-11-29T17:16:32.727Z"
   },
   {
    "duration": 23,
    "start_time": "2022-11-29T17:20:58.555Z"
   },
   {
    "duration": 5,
    "start_time": "2022-11-29T17:21:00.163Z"
   },
   {
    "duration": 19,
    "start_time": "2022-11-29T17:21:41.856Z"
   },
   {
    "duration": 5,
    "start_time": "2022-11-29T17:21:43.402Z"
   },
   {
    "duration": 104,
    "start_time": "2022-11-29T17:23:48.947Z"
   },
   {
    "duration": 12,
    "start_time": "2022-11-29T17:23:50.583Z"
   },
   {
    "duration": 28,
    "start_time": "2022-11-29T17:24:15.291Z"
   },
   {
    "duration": 4,
    "start_time": "2022-11-29T17:24:16.631Z"
   },
   {
    "duration": 31,
    "start_time": "2022-11-29T17:25:57.300Z"
   },
   {
    "duration": 5,
    "start_time": "2022-11-29T17:25:58.163Z"
   },
   {
    "duration": 11,
    "start_time": "2022-11-29T17:26:45.259Z"
   },
   {
    "duration": 26,
    "start_time": "2022-11-29T17:27:01.939Z"
   },
   {
    "duration": 6,
    "start_time": "2022-11-29T17:27:03.752Z"
   },
   {
    "duration": 30,
    "start_time": "2022-11-29T17:29:02.123Z"
   },
   {
    "duration": 5,
    "start_time": "2022-11-29T17:29:04.802Z"
   },
   {
    "duration": 5,
    "start_time": "2022-11-29T17:29:05.907Z"
   },
   {
    "duration": 5,
    "start_time": "2022-11-29T17:29:07.252Z"
   },
   {
    "duration": 26,
    "start_time": "2022-11-29T17:29:12.153Z"
   },
   {
    "duration": 5,
    "start_time": "2022-11-29T17:29:12.917Z"
   },
   {
    "duration": 37,
    "start_time": "2022-11-29T17:30:41.535Z"
   },
   {
    "duration": 6,
    "start_time": "2022-11-29T17:30:42.287Z"
   },
   {
    "duration": 32,
    "start_time": "2022-11-29T17:31:40.878Z"
   },
   {
    "duration": 5,
    "start_time": "2022-11-29T17:31:41.688Z"
   },
   {
    "duration": 32,
    "start_time": "2022-11-29T17:34:01.680Z"
   },
   {
    "duration": 5,
    "start_time": "2022-11-29T17:34:02.519Z"
   },
   {
    "duration": 42,
    "start_time": "2022-11-29T17:35:57.471Z"
   },
   {
    "duration": 5,
    "start_time": "2022-11-29T17:35:58.804Z"
   },
   {
    "duration": 7,
    "start_time": "2022-11-29T17:36:47.523Z"
   },
   {
    "duration": 11,
    "start_time": "2022-11-29T17:37:59.734Z"
   },
   {
    "duration": 34,
    "start_time": "2022-11-29T17:38:06.719Z"
   },
   {
    "duration": 5,
    "start_time": "2022-11-29T17:38:07.568Z"
   },
   {
    "duration": 6,
    "start_time": "2022-11-29T17:38:18.024Z"
   },
   {
    "duration": 39,
    "start_time": "2022-11-29T17:41:29.181Z"
   },
   {
    "duration": 4,
    "start_time": "2022-11-29T17:41:29.499Z"
   },
   {
    "duration": 5,
    "start_time": "2022-11-29T17:41:30.697Z"
   },
   {
    "duration": 40,
    "start_time": "2022-11-29T17:42:44.281Z"
   },
   {
    "duration": 4,
    "start_time": "2022-11-29T17:42:45.113Z"
   },
   {
    "duration": 5,
    "start_time": "2022-11-29T17:42:46.106Z"
   },
   {
    "duration": 37,
    "start_time": "2022-11-29T17:43:39.973Z"
   },
   {
    "duration": 5,
    "start_time": "2022-11-29T17:43:40.604Z"
   },
   {
    "duration": 6,
    "start_time": "2022-11-29T17:43:41.531Z"
   },
   {
    "duration": 39,
    "start_time": "2022-11-29T17:45:18.902Z"
   },
   {
    "duration": 5,
    "start_time": "2022-11-29T17:45:19.825Z"
   },
   {
    "duration": 6,
    "start_time": "2022-11-29T17:45:22.140Z"
   },
   {
    "duration": 44,
    "start_time": "2022-11-29T17:46:55.505Z"
   },
   {
    "duration": 5,
    "start_time": "2022-11-29T17:46:56.182Z"
   },
   {
    "duration": 5,
    "start_time": "2022-11-29T17:46:57.302Z"
   },
   {
    "duration": 13,
    "start_time": "2022-11-29T17:48:14.636Z"
   },
   {
    "duration": 46,
    "start_time": "2022-11-29T17:48:30.780Z"
   },
   {
    "duration": 5,
    "start_time": "2022-11-29T17:48:32.106Z"
   },
   {
    "duration": 5,
    "start_time": "2022-11-29T17:48:39.004Z"
   },
   {
    "duration": 1111,
    "start_time": "2022-11-29T17:48:51.043Z"
   },
   {
    "duration": 39,
    "start_time": "2022-11-29T17:48:52.156Z"
   },
   {
    "duration": 14,
    "start_time": "2022-11-29T17:48:52.197Z"
   },
   {
    "duration": 1816,
    "start_time": "2022-11-29T17:48:52.213Z"
   },
   {
    "duration": 10,
    "start_time": "2022-11-29T17:48:54.030Z"
   },
   {
    "duration": 22,
    "start_time": "2022-11-29T17:48:54.041Z"
   },
   {
    "duration": 23,
    "start_time": "2022-11-29T17:48:54.065Z"
   },
   {
    "duration": 6,
    "start_time": "2022-11-29T17:48:54.089Z"
   },
   {
    "duration": 5,
    "start_time": "2022-11-29T17:48:54.096Z"
   },
   {
    "duration": 17,
    "start_time": "2022-11-29T17:48:54.103Z"
   },
   {
    "duration": 7,
    "start_time": "2022-11-29T17:48:54.121Z"
   },
   {
    "duration": 15,
    "start_time": "2022-11-29T17:48:54.129Z"
   },
   {
    "duration": 5,
    "start_time": "2022-11-29T17:48:54.146Z"
   },
   {
    "duration": 25,
    "start_time": "2022-11-29T17:48:54.152Z"
   },
   {
    "duration": 9,
    "start_time": "2022-11-29T17:48:54.179Z"
   },
   {
    "duration": 7,
    "start_time": "2022-11-29T17:48:54.189Z"
   },
   {
    "duration": 7,
    "start_time": "2022-11-29T17:48:54.197Z"
   },
   {
    "duration": 8,
    "start_time": "2022-11-29T17:48:54.206Z"
   },
   {
    "duration": 8,
    "start_time": "2022-11-29T17:48:54.215Z"
   },
   {
    "duration": 63,
    "start_time": "2022-11-29T17:48:54.225Z"
   },
   {
    "duration": 4,
    "start_time": "2022-11-29T17:48:54.290Z"
   },
   {
    "duration": 10,
    "start_time": "2022-11-29T17:48:54.295Z"
   },
   {
    "duration": 110,
    "start_time": "2022-11-29T17:49:48.204Z"
   },
   {
    "duration": 52,
    "start_time": "2022-11-29T17:49:59.251Z"
   },
   {
    "duration": 6,
    "start_time": "2022-11-29T17:50:00.248Z"
   },
   {
    "duration": 7,
    "start_time": "2022-11-29T17:50:01.272Z"
   },
   {
    "duration": 56,
    "start_time": "2022-11-29T17:52:22.116Z"
   },
   {
    "duration": 7,
    "start_time": "2022-11-29T17:52:22.516Z"
   },
   {
    "duration": 44,
    "start_time": "2022-11-29T17:53:40.282Z"
   },
   {
    "duration": 5,
    "start_time": "2022-11-29T17:53:41.321Z"
   },
   {
    "duration": 6,
    "start_time": "2022-11-29T17:53:42.425Z"
   },
   {
    "duration": 50,
    "start_time": "2022-11-29T17:56:05.973Z"
   },
   {
    "duration": 4,
    "start_time": "2022-11-29T17:56:06.764Z"
   },
   {
    "duration": 5,
    "start_time": "2022-11-29T17:56:07.749Z"
   },
   {
    "duration": 12,
    "start_time": "2022-11-29T17:57:23.565Z"
   },
   {
    "duration": 59,
    "start_time": "2022-11-29T17:57:35.245Z"
   },
   {
    "duration": 5,
    "start_time": "2022-11-29T17:57:36.832Z"
   },
   {
    "duration": 6,
    "start_time": "2022-11-29T17:57:38.000Z"
   },
   {
    "duration": 60,
    "start_time": "2022-11-29T18:00:52.947Z"
   },
   {
    "duration": 6,
    "start_time": "2022-11-29T18:00:55.401Z"
   },
   {
    "duration": 10,
    "start_time": "2022-11-29T18:01:00.459Z"
   },
   {
    "duration": 56,
    "start_time": "2022-11-29T18:01:55.646Z"
   },
   {
    "duration": 5,
    "start_time": "2022-11-29T18:01:56.316Z"
   },
   {
    "duration": 7,
    "start_time": "2022-11-29T18:01:57.207Z"
   },
   {
    "duration": 58,
    "start_time": "2022-11-29T18:03:32.302Z"
   },
   {
    "duration": 5,
    "start_time": "2022-11-29T18:03:33.693Z"
   },
   {
    "duration": 6,
    "start_time": "2022-11-29T18:03:38.556Z"
   },
   {
    "duration": 56,
    "start_time": "2022-11-29T18:05:48.828Z"
   },
   {
    "duration": 5,
    "start_time": "2022-11-29T18:05:49.624Z"
   },
   {
    "duration": 6,
    "start_time": "2022-11-29T18:05:53.392Z"
   },
   {
    "duration": 64,
    "start_time": "2022-11-29T18:06:48.714Z"
   },
   {
    "duration": 5,
    "start_time": "2022-11-29T18:06:49.489Z"
   },
   {
    "duration": 8,
    "start_time": "2022-11-29T18:06:50.826Z"
   },
   {
    "duration": 69,
    "start_time": "2022-11-29T18:09:08.593Z"
   },
   {
    "duration": 5,
    "start_time": "2022-11-29T18:09:09.449Z"
   },
   {
    "duration": 6,
    "start_time": "2022-11-29T18:09:10.377Z"
   },
   {
    "duration": 60,
    "start_time": "2022-11-29T18:10:28.842Z"
   },
   {
    "duration": 5,
    "start_time": "2022-11-29T18:10:29.527Z"
   },
   {
    "duration": 6,
    "start_time": "2022-11-29T18:10:30.554Z"
   },
   {
    "duration": 61,
    "start_time": "2022-11-29T18:11:36.413Z"
   },
   {
    "duration": 5,
    "start_time": "2022-11-29T18:11:37.195Z"
   },
   {
    "duration": 6,
    "start_time": "2022-11-29T18:11:39.058Z"
   },
   {
    "duration": 68,
    "start_time": "2022-11-29T18:13:50.544Z"
   },
   {
    "duration": 5,
    "start_time": "2022-11-29T18:13:52.974Z"
   },
   {
    "duration": 6,
    "start_time": "2022-11-29T18:13:54.110Z"
   },
   {
    "duration": 71,
    "start_time": "2022-11-29T18:16:12.834Z"
   },
   {
    "duration": 6,
    "start_time": "2022-11-29T18:16:13.514Z"
   },
   {
    "duration": 2,
    "start_time": "2022-11-29T18:22:43.549Z"
   },
   {
    "duration": 115,
    "start_time": "2022-11-29T18:23:07.980Z"
   },
   {
    "duration": 4,
    "start_time": "2022-11-29T18:23:13.108Z"
   },
   {
    "duration": 7,
    "start_time": "2022-11-29T18:23:30.819Z"
   },
   {
    "duration": 19,
    "start_time": "2022-11-29T18:25:24.014Z"
   },
   {
    "duration": 6,
    "start_time": "2022-11-29T18:25:50.846Z"
   },
   {
    "duration": 6,
    "start_time": "2022-11-29T18:31:14.144Z"
   },
   {
    "duration": 7,
    "start_time": "2022-11-29T18:31:18.027Z"
   },
   {
    "duration": 8,
    "start_time": "2022-11-29T18:31:19.516Z"
   },
   {
    "duration": 7,
    "start_time": "2022-11-29T18:31:30.410Z"
   },
   {
    "duration": 48,
    "start_time": "2022-11-29T18:34:16.825Z"
   },
   {
    "duration": 10,
    "start_time": "2022-11-29T18:44:10.146Z"
   },
   {
    "duration": 5,
    "start_time": "2022-11-29T18:49:52.104Z"
   },
   {
    "duration": 4,
    "start_time": "2022-11-29T18:50:56.387Z"
   },
   {
    "duration": 4,
    "start_time": "2022-11-29T18:51:15.893Z"
   },
   {
    "duration": 1159,
    "start_time": "2022-11-29T18:51:20.877Z"
   },
   {
    "duration": 46,
    "start_time": "2022-11-29T18:51:22.038Z"
   },
   {
    "duration": 14,
    "start_time": "2022-11-29T18:51:22.085Z"
   },
   {
    "duration": 1764,
    "start_time": "2022-11-29T18:51:22.101Z"
   },
   {
    "duration": 9,
    "start_time": "2022-11-29T18:51:23.867Z"
   },
   {
    "duration": 45,
    "start_time": "2022-11-29T18:51:23.877Z"
   },
   {
    "duration": 22,
    "start_time": "2022-11-29T18:51:23.924Z"
   },
   {
    "duration": 6,
    "start_time": "2022-11-29T18:51:23.948Z"
   },
   {
    "duration": 6,
    "start_time": "2022-11-29T18:51:23.955Z"
   },
   {
    "duration": 6,
    "start_time": "2022-11-29T18:51:23.963Z"
   },
   {
    "duration": 18,
    "start_time": "2022-11-29T18:51:23.970Z"
   },
   {
    "duration": 31,
    "start_time": "2022-11-29T18:51:23.989Z"
   },
   {
    "duration": 7,
    "start_time": "2022-11-29T18:51:24.021Z"
   },
   {
    "duration": 5,
    "start_time": "2022-11-29T18:51:24.029Z"
   },
   {
    "duration": 7,
    "start_time": "2022-11-29T18:51:24.035Z"
   },
   {
    "duration": 7,
    "start_time": "2022-11-29T18:51:24.043Z"
   },
   {
    "duration": 7,
    "start_time": "2022-11-29T18:51:24.052Z"
   },
   {
    "duration": 9,
    "start_time": "2022-11-29T18:51:24.060Z"
   },
   {
    "duration": 10,
    "start_time": "2022-11-29T18:51:24.070Z"
   },
   {
    "duration": 80,
    "start_time": "2022-11-29T18:51:24.081Z"
   },
   {
    "duration": 14,
    "start_time": "2022-11-29T18:51:24.163Z"
   },
   {
    "duration": 22,
    "start_time": "2022-11-29T18:51:24.178Z"
   },
   {
    "duration": 13,
    "start_time": "2022-11-29T18:51:24.201Z"
   },
   {
    "duration": 6,
    "start_time": "2022-11-29T18:51:24.215Z"
   },
   {
    "duration": 7,
    "start_time": "2022-11-29T18:51:50.477Z"
   },
   {
    "duration": 4,
    "start_time": "2022-11-29T18:57:42.703Z"
   },
   {
    "duration": 477,
    "start_time": "2022-11-29T19:06:27.862Z"
   },
   {
    "duration": 12,
    "start_time": "2022-11-29T19:11:49.100Z"
   },
   {
    "duration": 23,
    "start_time": "2022-11-29T19:12:54.169Z"
   },
   {
    "duration": 23,
    "start_time": "2022-11-29T19:13:13.130Z"
   },
   {
    "duration": 11,
    "start_time": "2022-11-29T19:13:28.120Z"
   },
   {
    "duration": 11,
    "start_time": "2022-11-29T19:13:28.791Z"
   },
   {
    "duration": 23,
    "start_time": "2022-11-29T19:13:29.505Z"
   },
   {
    "duration": 10,
    "start_time": "2022-11-29T19:19:34.765Z"
   },
   {
    "duration": 22,
    "start_time": "2022-11-29T19:19:35.780Z"
   },
   {
    "duration": 7,
    "start_time": "2022-11-29T19:20:02.979Z"
   },
   {
    "duration": 23,
    "start_time": "2022-11-29T19:20:05.388Z"
   },
   {
    "duration": 5,
    "start_time": "2022-11-29T19:21:15.540Z"
   },
   {
    "duration": 11,
    "start_time": "2022-11-29T19:21:17.484Z"
   },
   {
    "duration": 21,
    "start_time": "2022-11-29T19:21:18.424Z"
   },
   {
    "duration": 14,
    "start_time": "2022-11-29T19:22:27.281Z"
   },
   {
    "duration": 14,
    "start_time": "2022-11-29T19:22:29.437Z"
   },
   {
    "duration": 0,
    "start_time": "2022-11-29T19:23:18.218Z"
   },
   {
    "duration": 0,
    "start_time": "2022-11-29T19:23:18.220Z"
   },
   {
    "duration": 0,
    "start_time": "2022-11-29T19:23:18.221Z"
   },
   {
    "duration": 0,
    "start_time": "2022-11-29T19:23:18.223Z"
   },
   {
    "duration": 1,
    "start_time": "2022-11-29T19:23:18.224Z"
   },
   {
    "duration": 0,
    "start_time": "2022-11-29T19:23:18.226Z"
   },
   {
    "duration": 0,
    "start_time": "2022-11-29T19:23:18.228Z"
   },
   {
    "duration": 0,
    "start_time": "2022-11-29T19:23:18.230Z"
   },
   {
    "duration": 0,
    "start_time": "2022-11-29T19:23:18.231Z"
   },
   {
    "duration": 0,
    "start_time": "2022-11-29T19:23:18.232Z"
   },
   {
    "duration": 0,
    "start_time": "2022-11-29T19:23:18.234Z"
   },
   {
    "duration": 0,
    "start_time": "2022-11-29T19:23:18.235Z"
   },
   {
    "duration": 0,
    "start_time": "2022-11-29T19:23:18.236Z"
   },
   {
    "duration": 0,
    "start_time": "2022-11-29T19:23:18.237Z"
   },
   {
    "duration": 0,
    "start_time": "2022-11-29T19:23:18.238Z"
   },
   {
    "duration": 0,
    "start_time": "2022-11-29T19:23:18.239Z"
   },
   {
    "duration": 0,
    "start_time": "2022-11-29T19:23:18.240Z"
   },
   {
    "duration": 0,
    "start_time": "2022-11-29T19:23:18.241Z"
   },
   {
    "duration": 0,
    "start_time": "2022-11-29T19:23:18.242Z"
   },
   {
    "duration": 0,
    "start_time": "2022-11-29T19:23:18.244Z"
   },
   {
    "duration": 0,
    "start_time": "2022-11-29T19:23:18.245Z"
   },
   {
    "duration": 0,
    "start_time": "2022-11-29T19:23:18.245Z"
   },
   {
    "duration": 0,
    "start_time": "2022-11-29T19:23:18.246Z"
   },
   {
    "duration": 0,
    "start_time": "2022-11-29T19:23:18.247Z"
   },
   {
    "duration": 0,
    "start_time": "2022-11-29T19:23:18.248Z"
   },
   {
    "duration": 0,
    "start_time": "2022-11-29T19:23:18.249Z"
   },
   {
    "duration": 0,
    "start_time": "2022-11-29T19:23:18.250Z"
   },
   {
    "duration": 0,
    "start_time": "2022-11-29T19:23:18.251Z"
   },
   {
    "duration": 0,
    "start_time": "2022-11-29T19:23:18.251Z"
   },
   {
    "duration": 0,
    "start_time": "2022-11-29T19:23:18.252Z"
   },
   {
    "duration": 0,
    "start_time": "2022-11-29T19:23:18.253Z"
   },
   {
    "duration": 33,
    "start_time": "2022-11-29T19:23:18.928Z"
   },
   {
    "duration": 29,
    "start_time": "2022-11-29T19:25:17.144Z"
   },
   {
    "duration": 1213,
    "start_time": "2022-11-29T19:26:24.958Z"
   },
   {
    "duration": 40,
    "start_time": "2022-11-29T19:26:26.173Z"
   },
   {
    "duration": 15,
    "start_time": "2022-11-29T19:26:26.215Z"
   },
   {
    "duration": 1930,
    "start_time": "2022-11-29T19:26:26.231Z"
   },
   {
    "duration": 9,
    "start_time": "2022-11-29T19:26:28.163Z"
   },
   {
    "duration": 26,
    "start_time": "2022-11-29T19:26:28.174Z"
   },
   {
    "duration": 24,
    "start_time": "2022-11-29T19:26:28.201Z"
   },
   {
    "duration": 6,
    "start_time": "2022-11-29T19:26:28.227Z"
   },
   {
    "duration": 9,
    "start_time": "2022-11-29T19:26:28.234Z"
   },
   {
    "duration": 9,
    "start_time": "2022-11-29T19:26:28.245Z"
   },
   {
    "duration": 23,
    "start_time": "2022-11-29T19:26:28.255Z"
   },
   {
    "duration": 14,
    "start_time": "2022-11-29T19:26:28.279Z"
   },
   {
    "duration": 5,
    "start_time": "2022-11-29T19:26:28.295Z"
   },
   {
    "duration": 4,
    "start_time": "2022-11-29T19:26:28.301Z"
   },
   {
    "duration": 6,
    "start_time": "2022-11-29T19:26:28.307Z"
   },
   {
    "duration": 5,
    "start_time": "2022-11-29T19:26:28.315Z"
   },
   {
    "duration": 5,
    "start_time": "2022-11-29T19:26:28.322Z"
   },
   {
    "duration": 6,
    "start_time": "2022-11-29T19:26:28.328Z"
   },
   {
    "duration": 5,
    "start_time": "2022-11-29T19:26:28.336Z"
   },
   {
    "duration": 120,
    "start_time": "2022-11-29T19:26:28.343Z"
   },
   {
    "duration": 14,
    "start_time": "2022-11-29T19:26:28.465Z"
   },
   {
    "duration": 8,
    "start_time": "2022-11-29T19:26:28.481Z"
   },
   {
    "duration": 8,
    "start_time": "2022-11-29T19:26:28.490Z"
   },
   {
    "duration": 5,
    "start_time": "2022-11-29T19:26:28.500Z"
   },
   {
    "duration": 5,
    "start_time": "2022-11-29T19:26:28.506Z"
   },
   {
    "duration": 14,
    "start_time": "2022-11-29T19:26:28.513Z"
   },
   {
    "duration": 21,
    "start_time": "2022-11-29T19:26:28.528Z"
   },
   {
    "duration": 13,
    "start_time": "2022-11-29T19:26:28.576Z"
   },
   {
    "duration": 13,
    "start_time": "2022-11-29T19:26:28.590Z"
   },
   {
    "duration": 27,
    "start_time": "2022-11-29T19:26:28.604Z"
   },
   {
    "duration": 914,
    "start_time": "2022-11-29T19:26:28.632Z"
   },
   {
    "duration": 14,
    "start_time": "2022-11-29T19:27:37.115Z"
   },
   {
    "duration": 12,
    "start_time": "2022-11-29T19:27:38.081Z"
   },
   {
    "duration": 12,
    "start_time": "2022-11-29T19:27:38.914Z"
   },
   {
    "duration": 25,
    "start_time": "2022-11-29T19:27:39.793Z"
   },
   {
    "duration": 13,
    "start_time": "2022-11-29T19:27:50.913Z"
   },
   {
    "duration": 27,
    "start_time": "2022-11-29T19:27:53.153Z"
   },
   {
    "duration": 27,
    "start_time": "2022-11-29T19:28:03.593Z"
   },
   {
    "duration": 1221,
    "start_time": "2022-11-29T19:28:18.146Z"
   },
   {
    "duration": 40,
    "start_time": "2022-11-29T19:28:19.370Z"
   },
   {
    "duration": 13,
    "start_time": "2022-11-29T19:28:19.412Z"
   },
   {
    "duration": 1818,
    "start_time": "2022-11-29T19:28:19.427Z"
   },
   {
    "duration": 9,
    "start_time": "2022-11-29T19:28:21.247Z"
   },
   {
    "duration": 23,
    "start_time": "2022-11-29T19:28:21.257Z"
   },
   {
    "duration": 22,
    "start_time": "2022-11-29T19:28:21.281Z"
   },
   {
    "duration": 6,
    "start_time": "2022-11-29T19:28:21.305Z"
   },
   {
    "duration": 7,
    "start_time": "2022-11-29T19:28:21.312Z"
   },
   {
    "duration": 5,
    "start_time": "2022-11-29T19:28:21.322Z"
   },
   {
    "duration": 9,
    "start_time": "2022-11-29T19:28:21.328Z"
   },
   {
    "duration": 38,
    "start_time": "2022-11-29T19:28:21.339Z"
   },
   {
    "duration": 5,
    "start_time": "2022-11-29T19:28:21.379Z"
   },
   {
    "duration": 5,
    "start_time": "2022-11-29T19:28:21.386Z"
   },
   {
    "duration": 7,
    "start_time": "2022-11-29T19:28:21.392Z"
   },
   {
    "duration": 10,
    "start_time": "2022-11-29T19:28:21.401Z"
   },
   {
    "duration": 17,
    "start_time": "2022-11-29T19:28:21.412Z"
   },
   {
    "duration": 9,
    "start_time": "2022-11-29T19:28:21.430Z"
   },
   {
    "duration": 6,
    "start_time": "2022-11-29T19:28:21.441Z"
   },
   {
    "duration": 91,
    "start_time": "2022-11-29T19:28:21.448Z"
   },
   {
    "duration": 5,
    "start_time": "2022-11-29T19:28:21.540Z"
   },
   {
    "duration": 8,
    "start_time": "2022-11-29T19:28:21.546Z"
   },
   {
    "duration": 7,
    "start_time": "2022-11-29T19:28:21.555Z"
   },
   {
    "duration": 15,
    "start_time": "2022-11-29T19:28:21.564Z"
   },
   {
    "duration": 4,
    "start_time": "2022-11-29T19:28:21.581Z"
   },
   {
    "duration": 9,
    "start_time": "2022-11-29T19:28:21.587Z"
   },
   {
    "duration": 17,
    "start_time": "2022-11-29T19:28:21.597Z"
   },
   {
    "duration": 23,
    "start_time": "2022-11-29T19:28:21.617Z"
   },
   {
    "duration": 17,
    "start_time": "2022-11-29T19:28:21.641Z"
   },
   {
    "duration": 29,
    "start_time": "2022-11-29T19:28:21.660Z"
   },
   {
    "duration": 782,
    "start_time": "2022-11-29T19:28:21.691Z"
   },
   {
    "duration": 3,
    "start_time": "2022-11-29T19:34:10.253Z"
   },
   {
    "duration": 709,
    "start_time": "2022-11-29T19:36:05.838Z"
   },
   {
    "duration": 3,
    "start_time": "2022-11-29T19:36:23.166Z"
   },
   {
    "duration": 1045,
    "start_time": "2022-11-29T19:36:24.559Z"
   },
   {
    "duration": 189,
    "start_time": "2022-11-29T19:36:38.581Z"
   },
   {
    "duration": 19,
    "start_time": "2022-11-29T19:39:16.711Z"
   },
   {
    "duration": 17,
    "start_time": "2022-11-29T19:40:18.446Z"
   },
   {
    "duration": 1205,
    "start_time": "2022-11-29T19:40:43.928Z"
   },
   {
    "duration": 45,
    "start_time": "2022-11-29T19:40:45.135Z"
   },
   {
    "duration": 17,
    "start_time": "2022-11-29T19:40:45.183Z"
   },
   {
    "duration": 1933,
    "start_time": "2022-11-29T19:40:45.202Z"
   },
   {
    "duration": 13,
    "start_time": "2022-11-29T19:40:47.137Z"
   },
   {
    "duration": 22,
    "start_time": "2022-11-29T19:40:47.151Z"
   },
   {
    "duration": 31,
    "start_time": "2022-11-29T19:40:47.175Z"
   },
   {
    "duration": 5,
    "start_time": "2022-11-29T19:40:47.208Z"
   },
   {
    "duration": 7,
    "start_time": "2022-11-29T19:40:47.214Z"
   },
   {
    "duration": 6,
    "start_time": "2022-11-29T19:40:47.224Z"
   },
   {
    "duration": 22,
    "start_time": "2022-11-29T19:40:47.231Z"
   },
   {
    "duration": 48,
    "start_time": "2022-11-29T19:40:47.255Z"
   },
   {
    "duration": 5,
    "start_time": "2022-11-29T19:40:47.304Z"
   },
   {
    "duration": 6,
    "start_time": "2022-11-29T19:40:47.311Z"
   },
   {
    "duration": 9,
    "start_time": "2022-11-29T19:40:47.318Z"
   },
   {
    "duration": 7,
    "start_time": "2022-11-29T19:40:47.328Z"
   },
   {
    "duration": 15,
    "start_time": "2022-11-29T19:40:47.337Z"
   },
   {
    "duration": 9,
    "start_time": "2022-11-29T19:40:47.354Z"
   },
   {
    "duration": 7,
    "start_time": "2022-11-29T19:40:47.364Z"
   },
   {
    "duration": 90,
    "start_time": "2022-11-29T19:40:47.373Z"
   },
   {
    "duration": 4,
    "start_time": "2022-11-29T19:40:47.465Z"
   },
   {
    "duration": 14,
    "start_time": "2022-11-29T19:40:47.471Z"
   },
   {
    "duration": 15,
    "start_time": "2022-11-29T19:40:47.488Z"
   },
   {
    "duration": 7,
    "start_time": "2022-11-29T19:40:47.504Z"
   },
   {
    "duration": 4,
    "start_time": "2022-11-29T19:40:47.513Z"
   },
   {
    "duration": 10,
    "start_time": "2022-11-29T19:40:47.518Z"
   },
   {
    "duration": 22,
    "start_time": "2022-11-29T19:40:47.530Z"
   },
   {
    "duration": 26,
    "start_time": "2022-11-29T19:40:47.555Z"
   },
   {
    "duration": 23,
    "start_time": "2022-11-29T19:40:47.585Z"
   },
   {
    "duration": 5,
    "start_time": "2022-11-29T19:40:47.609Z"
   },
   {
    "duration": 109,
    "start_time": "2022-11-29T19:40:47.615Z"
   },
   {
    "duration": 768,
    "start_time": "2022-11-29T19:41:09.238Z"
   },
   {
    "duration": 779,
    "start_time": "2022-11-29T19:41:29.326Z"
   },
   {
    "duration": 866,
    "start_time": "2022-11-29T19:42:04.097Z"
   },
   {
    "duration": 3,
    "start_time": "2022-11-29T19:42:06.808Z"
   },
   {
    "duration": 3,
    "start_time": "2022-11-29T19:42:08.817Z"
   },
   {
    "duration": 855,
    "start_time": "2022-11-29T19:42:09.689Z"
   },
   {
    "duration": 12,
    "start_time": "2022-11-29T19:43:17.304Z"
   },
   {
    "duration": 12,
    "start_time": "2022-11-29T19:43:18.455Z"
   },
   {
    "duration": 3,
    "start_time": "2022-11-29T19:43:39.925Z"
   },
   {
    "duration": 13,
    "start_time": "2022-11-29T19:43:43.446Z"
   },
   {
    "duration": 4,
    "start_time": "2022-11-29T19:52:37.186Z"
   },
   {
    "duration": 4,
    "start_time": "2022-11-29T19:52:42.939Z"
   },
   {
    "duration": 24,
    "start_time": "2022-11-29T19:52:58.690Z"
   },
   {
    "duration": 56,
    "start_time": "2022-11-29T19:53:43.843Z"
   },
   {
    "duration": 3,
    "start_time": "2022-11-29T19:54:01.169Z"
   },
   {
    "duration": 15,
    "start_time": "2022-11-29T19:54:02.775Z"
   },
   {
    "duration": 13,
    "start_time": "2022-11-29T19:54:13.327Z"
   },
   {
    "duration": 3,
    "start_time": "2022-11-29T19:54:38.015Z"
   },
   {
    "duration": 4,
    "start_time": "2022-11-29T19:54:38.670Z"
   },
   {
    "duration": 22,
    "start_time": "2022-11-29T19:54:40.215Z"
   },
   {
    "duration": 3,
    "start_time": "2022-11-29T19:55:33.598Z"
   },
   {
    "duration": 4,
    "start_time": "2022-11-29T19:55:34.452Z"
   },
   {
    "duration": 29,
    "start_time": "2022-11-29T19:55:35.134Z"
   },
   {
    "duration": 3,
    "start_time": "2022-11-29T19:55:41.606Z"
   },
   {
    "duration": 4,
    "start_time": "2022-11-29T19:55:42.079Z"
   },
   {
    "duration": 24,
    "start_time": "2022-11-29T19:55:42.614Z"
   },
   {
    "duration": 3,
    "start_time": "2022-11-29T19:56:07.374Z"
   },
   {
    "duration": 4,
    "start_time": "2022-11-29T19:56:08.172Z"
   },
   {
    "duration": 21,
    "start_time": "2022-11-29T19:56:12.379Z"
   },
   {
    "duration": 43,
    "start_time": "2022-11-29T19:58:38.910Z"
   },
   {
    "duration": 3,
    "start_time": "2022-11-29T19:58:46.933Z"
   },
   {
    "duration": 12,
    "start_time": "2022-11-29T19:58:48.607Z"
   },
   {
    "duration": 44,
    "start_time": "2022-11-29T20:04:49.152Z"
   },
   {
    "duration": 9,
    "start_time": "2022-11-29T20:05:04.119Z"
   },
   {
    "duration": 8,
    "start_time": "2022-11-29T20:08:24.426Z"
   },
   {
    "duration": 5,
    "start_time": "2022-12-05T13:46:29.073Z"
   },
   {
    "duration": 100,
    "start_time": "2022-12-05T13:46:31.401Z"
   },
   {
    "duration": 27,
    "start_time": "2022-12-05T13:46:33.313Z"
   },
   {
    "duration": 6,
    "start_time": "2022-12-05T13:46:52.812Z"
   },
   {
    "duration": 5,
    "start_time": "2022-12-05T13:48:43.746Z"
   },
   {
    "duration": 29,
    "start_time": "2022-12-05T13:48:45.691Z"
   },
   {
    "duration": 6,
    "start_time": "2022-12-05T13:48:48.194Z"
   },
   {
    "duration": 1340,
    "start_time": "2022-12-05T13:48:58.905Z"
   },
   {
    "duration": 45,
    "start_time": "2022-12-05T13:49:00.247Z"
   },
   {
    "duration": 28,
    "start_time": "2022-12-05T13:49:00.294Z"
   },
   {
    "duration": 2176,
    "start_time": "2022-12-05T13:49:00.324Z"
   },
   {
    "duration": 11,
    "start_time": "2022-12-05T13:49:02.502Z"
   },
   {
    "duration": 27,
    "start_time": "2022-12-05T13:49:02.515Z"
   },
   {
    "duration": 28,
    "start_time": "2022-12-05T13:49:02.544Z"
   },
   {
    "duration": 8,
    "start_time": "2022-12-05T13:49:02.574Z"
   },
   {
    "duration": 16,
    "start_time": "2022-12-05T13:49:02.584Z"
   },
   {
    "duration": 26,
    "start_time": "2022-12-05T13:49:02.601Z"
   },
   {
    "duration": 9,
    "start_time": "2022-12-05T13:49:02.629Z"
   },
   {
    "duration": 18,
    "start_time": "2022-12-05T13:49:02.640Z"
   },
   {
    "duration": 8,
    "start_time": "2022-12-05T13:49:02.660Z"
   },
   {
    "duration": 4,
    "start_time": "2022-12-05T13:49:02.671Z"
   },
   {
    "duration": 11,
    "start_time": "2022-12-05T13:49:02.677Z"
   },
   {
    "duration": 5,
    "start_time": "2022-12-05T13:49:02.721Z"
   },
   {
    "duration": 20,
    "start_time": "2022-12-05T13:49:02.728Z"
   },
   {
    "duration": 21,
    "start_time": "2022-12-05T13:49:02.749Z"
   },
   {
    "duration": 20,
    "start_time": "2022-12-05T13:49:02.771Z"
   },
   {
    "duration": 104,
    "start_time": "2022-12-05T13:49:02.793Z"
   },
   {
    "duration": 6,
    "start_time": "2022-12-05T13:49:02.898Z"
   },
   {
    "duration": 39,
    "start_time": "2022-12-05T13:49:02.905Z"
   },
   {
    "duration": 5,
    "start_time": "2022-12-05T13:49:02.946Z"
   },
   {
    "duration": 46,
    "start_time": "2022-12-05T13:49:02.952Z"
   },
   {
    "duration": 12,
    "start_time": "2022-12-05T13:49:02.999Z"
   },
   {
    "duration": 8,
    "start_time": "2022-12-05T13:49:03.013Z"
   },
   {
    "duration": 14,
    "start_time": "2022-12-05T13:49:03.023Z"
   },
   {
    "duration": 23,
    "start_time": "2022-12-05T13:49:03.039Z"
   },
   {
    "duration": 15,
    "start_time": "2022-12-05T13:49:03.064Z"
   },
   {
    "duration": 27,
    "start_time": "2022-12-05T13:49:03.080Z"
   },
   {
    "duration": 15,
    "start_time": "2022-12-05T13:49:03.109Z"
   },
   {
    "duration": 29,
    "start_time": "2022-12-05T13:49:03.126Z"
   },
   {
    "duration": 10,
    "start_time": "2022-12-05T13:49:03.156Z"
   },
   {
    "duration": 6,
    "start_time": "2022-12-05T13:49:03.168Z"
   },
   {
    "duration": 133,
    "start_time": "2022-12-05T13:49:03.175Z"
   },
   {
    "duration": 0,
    "start_time": "2022-12-05T13:49:03.310Z"
   },
   {
    "duration": 0,
    "start_time": "2022-12-05T13:49:03.311Z"
   },
   {
    "duration": 1248,
    "start_time": "2022-12-05T13:56:26.376Z"
   },
   {
    "duration": 44,
    "start_time": "2022-12-05T13:56:27.626Z"
   },
   {
    "duration": 16,
    "start_time": "2022-12-05T13:56:27.671Z"
   },
   {
    "duration": 2121,
    "start_time": "2022-12-05T13:56:27.689Z"
   },
   {
    "duration": 11,
    "start_time": "2022-12-05T13:56:29.811Z"
   },
   {
    "duration": 49,
    "start_time": "2022-12-05T13:56:29.824Z"
   },
   {
    "duration": 43,
    "start_time": "2022-12-05T13:56:29.875Z"
   },
   {
    "duration": 8,
    "start_time": "2022-12-05T13:56:29.921Z"
   },
   {
    "duration": 17,
    "start_time": "2022-12-05T13:56:29.931Z"
   },
   {
    "duration": 20,
    "start_time": "2022-12-05T13:56:29.951Z"
   },
   {
    "duration": 42,
    "start_time": "2022-12-05T13:56:29.972Z"
   },
   {
    "duration": 48,
    "start_time": "2022-12-05T13:56:30.016Z"
   },
   {
    "duration": 15,
    "start_time": "2022-12-05T13:56:30.066Z"
   },
   {
    "duration": 43,
    "start_time": "2022-12-05T13:56:30.083Z"
   },
   {
    "duration": 37,
    "start_time": "2022-12-05T13:56:30.128Z"
   },
   {
    "duration": 22,
    "start_time": "2022-12-05T13:56:30.166Z"
   },
   {
    "duration": 35,
    "start_time": "2022-12-05T13:56:30.190Z"
   },
   {
    "duration": 46,
    "start_time": "2022-12-05T13:56:30.227Z"
   },
   {
    "duration": 31,
    "start_time": "2022-12-05T13:56:30.275Z"
   },
   {
    "duration": 150,
    "start_time": "2022-12-05T13:56:30.307Z"
   },
   {
    "duration": 6,
    "start_time": "2022-12-05T13:56:30.459Z"
   },
   {
    "duration": 50,
    "start_time": "2022-12-05T13:56:30.467Z"
   },
   {
    "duration": 20,
    "start_time": "2022-12-05T13:56:30.519Z"
   },
   {
    "duration": 40,
    "start_time": "2022-12-05T13:56:30.541Z"
   },
   {
    "duration": 28,
    "start_time": "2022-12-05T13:56:30.583Z"
   },
   {
    "duration": 31,
    "start_time": "2022-12-05T13:56:30.613Z"
   },
   {
    "duration": 32,
    "start_time": "2022-12-05T13:56:30.645Z"
   },
   {
    "duration": 23,
    "start_time": "2022-12-05T13:56:30.681Z"
   },
   {
    "duration": 36,
    "start_time": "2022-12-05T13:56:30.706Z"
   },
   {
    "duration": 33,
    "start_time": "2022-12-05T13:56:30.744Z"
   },
   {
    "duration": 55,
    "start_time": "2022-12-05T13:56:30.780Z"
   },
   {
    "duration": 27,
    "start_time": "2022-12-05T13:56:30.837Z"
   },
   {
    "duration": 25,
    "start_time": "2022-12-05T13:56:30.866Z"
   },
   {
    "duration": 42,
    "start_time": "2022-12-05T13:56:30.893Z"
   },
   {
    "duration": 122,
    "start_time": "2022-12-05T13:56:30.936Z"
   },
   {
    "duration": 0,
    "start_time": "2022-12-05T13:56:31.060Z"
   },
   {
    "duration": 0,
    "start_time": "2022-12-05T13:56:31.061Z"
   },
   {
    "duration": 1288,
    "start_time": "2022-12-05T13:57:01.248Z"
   },
   {
    "duration": 43,
    "start_time": "2022-12-05T13:57:02.538Z"
   },
   {
    "duration": 15,
    "start_time": "2022-12-05T13:57:02.583Z"
   },
   {
    "duration": 2164,
    "start_time": "2022-12-05T13:57:02.600Z"
   },
   {
    "duration": 11,
    "start_time": "2022-12-05T13:57:04.766Z"
   },
   {
    "duration": 26,
    "start_time": "2022-12-05T13:57:04.779Z"
   },
   {
    "duration": 29,
    "start_time": "2022-12-05T13:57:04.807Z"
   },
   {
    "duration": 7,
    "start_time": "2022-12-05T13:57:04.838Z"
   },
   {
    "duration": 7,
    "start_time": "2022-12-05T13:57:04.847Z"
   },
   {
    "duration": 12,
    "start_time": "2022-12-05T13:57:04.856Z"
   },
   {
    "duration": 19,
    "start_time": "2022-12-05T13:57:04.870Z"
   },
   {
    "duration": 31,
    "start_time": "2022-12-05T13:57:04.891Z"
   },
   {
    "duration": 8,
    "start_time": "2022-12-05T13:57:04.924Z"
   },
   {
    "duration": 5,
    "start_time": "2022-12-05T13:57:04.936Z"
   },
   {
    "duration": 11,
    "start_time": "2022-12-05T13:57:04.943Z"
   },
   {
    "duration": 5,
    "start_time": "2022-12-05T13:57:04.956Z"
   },
   {
    "duration": 8,
    "start_time": "2022-12-05T13:57:04.963Z"
   },
   {
    "duration": 8,
    "start_time": "2022-12-05T13:57:04.973Z"
   },
   {
    "duration": 40,
    "start_time": "2022-12-05T13:57:04.983Z"
   },
   {
    "duration": 129,
    "start_time": "2022-12-05T13:57:05.025Z"
   },
   {
    "duration": 7,
    "start_time": "2022-12-05T13:57:05.156Z"
   },
   {
    "duration": 8,
    "start_time": "2022-12-05T13:57:05.165Z"
   },
   {
    "duration": 15,
    "start_time": "2022-12-05T13:57:05.175Z"
   },
   {
    "duration": 11,
    "start_time": "2022-12-05T13:57:05.192Z"
   },
   {
    "duration": 24,
    "start_time": "2022-12-05T13:57:05.204Z"
   },
   {
    "duration": 9,
    "start_time": "2022-12-05T13:57:05.229Z"
   },
   {
    "duration": 7,
    "start_time": "2022-12-05T13:57:05.240Z"
   },
   {
    "duration": 9,
    "start_time": "2022-12-05T13:57:05.251Z"
   },
   {
    "duration": 21,
    "start_time": "2022-12-05T13:57:05.261Z"
   },
   {
    "duration": 38,
    "start_time": "2022-12-05T13:57:05.284Z"
   },
   {
    "duration": 16,
    "start_time": "2022-12-05T13:57:05.324Z"
   },
   {
    "duration": 19,
    "start_time": "2022-12-05T13:57:05.342Z"
   },
   {
    "duration": 9,
    "start_time": "2022-12-05T13:57:05.363Z"
   },
   {
    "duration": 110,
    "start_time": "2022-12-05T13:57:05.373Z"
   },
   {
    "duration": 0,
    "start_time": "2022-12-05T13:57:05.485Z"
   },
   {
    "duration": 0,
    "start_time": "2022-12-05T13:57:05.486Z"
   },
   {
    "duration": 1191,
    "start_time": "2022-12-05T13:59:52.849Z"
   },
   {
    "duration": 59,
    "start_time": "2022-12-05T13:59:54.043Z"
   },
   {
    "duration": 31,
    "start_time": "2022-12-05T13:59:54.105Z"
   },
   {
    "duration": 2109,
    "start_time": "2022-12-05T13:59:54.139Z"
   },
   {
    "duration": 10,
    "start_time": "2022-12-05T13:59:56.249Z"
   },
   {
    "duration": 36,
    "start_time": "2022-12-05T13:59:56.260Z"
   },
   {
    "duration": 26,
    "start_time": "2022-12-05T13:59:56.297Z"
   },
   {
    "duration": 7,
    "start_time": "2022-12-05T13:59:56.325Z"
   },
   {
    "duration": 16,
    "start_time": "2022-12-05T13:59:56.333Z"
   },
   {
    "duration": 6,
    "start_time": "2022-12-05T13:59:56.352Z"
   },
   {
    "duration": 39,
    "start_time": "2022-12-05T13:59:56.360Z"
   },
   {
    "duration": 34,
    "start_time": "2022-12-05T13:59:56.401Z"
   },
   {
    "duration": 23,
    "start_time": "2022-12-05T13:59:56.436Z"
   },
   {
    "duration": 17,
    "start_time": "2022-12-05T13:59:56.461Z"
   },
   {
    "duration": 28,
    "start_time": "2022-12-05T13:59:56.480Z"
   },
   {
    "duration": 18,
    "start_time": "2022-12-05T13:59:56.510Z"
   },
   {
    "duration": 17,
    "start_time": "2022-12-05T13:59:56.530Z"
   },
   {
    "duration": 21,
    "start_time": "2022-12-05T13:59:56.549Z"
   },
   {
    "duration": 27,
    "start_time": "2022-12-05T13:59:56.571Z"
   },
   {
    "duration": 130,
    "start_time": "2022-12-05T13:59:56.600Z"
   },
   {
    "duration": 5,
    "start_time": "2022-12-05T13:59:56.732Z"
   },
   {
    "duration": 13,
    "start_time": "2022-12-05T13:59:56.739Z"
   },
   {
    "duration": 22,
    "start_time": "2022-12-05T13:59:56.754Z"
   },
   {
    "duration": 19,
    "start_time": "2022-12-05T13:59:56.778Z"
   },
   {
    "duration": 9,
    "start_time": "2022-12-05T13:59:56.799Z"
   },
   {
    "duration": 25,
    "start_time": "2022-12-05T13:59:56.810Z"
   },
   {
    "duration": 19,
    "start_time": "2022-12-05T13:59:56.837Z"
   },
   {
    "duration": 22,
    "start_time": "2022-12-05T13:59:56.860Z"
   },
   {
    "duration": 34,
    "start_time": "2022-12-05T13:59:56.883Z"
   },
   {
    "duration": 26,
    "start_time": "2022-12-05T13:59:56.919Z"
   },
   {
    "duration": 37,
    "start_time": "2022-12-05T13:59:56.947Z"
   },
   {
    "duration": 114,
    "start_time": "2022-12-05T13:59:56.986Z"
   },
   {
    "duration": 0,
    "start_time": "2022-12-05T13:59:57.101Z"
   },
   {
    "duration": 0,
    "start_time": "2022-12-05T13:59:57.103Z"
   },
   {
    "duration": 88,
    "start_time": "2022-12-05T14:01:03.070Z"
   },
   {
    "duration": 6,
    "start_time": "2022-12-05T14:01:04.738Z"
   },
   {
    "duration": 25,
    "start_time": "2022-12-05T14:01:06.345Z"
   },
   {
    "duration": 6,
    "start_time": "2022-12-05T14:01:14.591Z"
   },
   {
    "duration": 1246,
    "start_time": "2022-12-05T14:01:28.297Z"
   },
   {
    "duration": 41,
    "start_time": "2022-12-05T14:01:29.545Z"
   },
   {
    "duration": 19,
    "start_time": "2022-12-05T14:01:29.588Z"
   },
   {
    "duration": 2107,
    "start_time": "2022-12-05T14:01:29.621Z"
   },
   {
    "duration": 10,
    "start_time": "2022-12-05T14:01:31.730Z"
   },
   {
    "duration": 27,
    "start_time": "2022-12-05T14:01:31.742Z"
   },
   {
    "duration": 27,
    "start_time": "2022-12-05T14:01:31.771Z"
   },
   {
    "duration": 27,
    "start_time": "2022-12-05T14:01:31.800Z"
   },
   {
    "duration": 8,
    "start_time": "2022-12-05T14:01:31.829Z"
   },
   {
    "duration": 8,
    "start_time": "2022-12-05T14:01:31.842Z"
   },
   {
    "duration": 11,
    "start_time": "2022-12-05T14:01:31.852Z"
   },
   {
    "duration": 22,
    "start_time": "2022-12-05T14:01:31.866Z"
   },
   {
    "duration": 32,
    "start_time": "2022-12-05T14:01:31.891Z"
   },
   {
    "duration": 5,
    "start_time": "2022-12-05T14:01:31.925Z"
   },
   {
    "duration": 30,
    "start_time": "2022-12-05T14:01:31.932Z"
   },
   {
    "duration": 23,
    "start_time": "2022-12-05T14:01:31.964Z"
   },
   {
    "duration": 10,
    "start_time": "2022-12-05T14:01:31.990Z"
   },
   {
    "duration": 9,
    "start_time": "2022-12-05T14:01:32.002Z"
   },
   {
    "duration": 20,
    "start_time": "2022-12-05T14:01:32.012Z"
   },
   {
    "duration": 97,
    "start_time": "2022-12-05T14:01:32.034Z"
   },
   {
    "duration": 5,
    "start_time": "2022-12-05T14:01:32.133Z"
   },
   {
    "duration": 35,
    "start_time": "2022-12-05T14:01:32.140Z"
   },
   {
    "duration": 14,
    "start_time": "2022-12-05T14:01:32.177Z"
   },
   {
    "duration": 17,
    "start_time": "2022-12-05T14:01:32.192Z"
   },
   {
    "duration": 10,
    "start_time": "2022-12-05T14:01:32.210Z"
   },
   {
    "duration": 14,
    "start_time": "2022-12-05T14:01:32.222Z"
   },
   {
    "duration": 4,
    "start_time": "2022-12-05T14:01:32.238Z"
   },
   {
    "duration": 20,
    "start_time": "2022-12-05T14:01:32.245Z"
   },
   {
    "duration": 27,
    "start_time": "2022-12-05T14:01:32.267Z"
   },
   {
    "duration": 30,
    "start_time": "2022-12-05T14:01:32.296Z"
   },
   {
    "duration": 17,
    "start_time": "2022-12-05T14:01:32.327Z"
   },
   {
    "duration": 4,
    "start_time": "2022-12-05T14:01:32.346Z"
   },
   {
    "duration": 17,
    "start_time": "2022-12-05T14:01:32.351Z"
   },
   {
    "duration": 108,
    "start_time": "2022-12-05T14:01:32.370Z"
   },
   {
    "duration": 0,
    "start_time": "2022-12-05T14:01:32.480Z"
   },
   {
    "duration": 0,
    "start_time": "2022-12-05T14:01:32.483Z"
   },
   {
    "duration": 7,
    "start_time": "2022-12-05T14:01:49.724Z"
   },
   {
    "duration": 95,
    "start_time": "2022-12-05T14:01:52.399Z"
   },
   {
    "duration": 5,
    "start_time": "2022-12-05T14:01:53.785Z"
   },
   {
    "duration": 27,
    "start_time": "2022-12-05T14:01:55.334Z"
   },
   {
    "duration": 6,
    "start_time": "2022-12-05T14:01:56.906Z"
   },
   {
    "duration": 1305,
    "start_time": "2022-12-05T14:02:12.671Z"
   },
   {
    "duration": 53,
    "start_time": "2022-12-05T14:02:13.978Z"
   },
   {
    "duration": 18,
    "start_time": "2022-12-05T14:02:14.033Z"
   },
   {
    "duration": 2162,
    "start_time": "2022-12-05T14:02:14.054Z"
   },
   {
    "duration": 12,
    "start_time": "2022-12-05T14:02:16.218Z"
   },
   {
    "duration": 44,
    "start_time": "2022-12-05T14:02:16.231Z"
   },
   {
    "duration": 27,
    "start_time": "2022-12-05T14:02:16.277Z"
   },
   {
    "duration": 6,
    "start_time": "2022-12-05T14:02:16.306Z"
   },
   {
    "duration": 18,
    "start_time": "2022-12-05T14:02:16.314Z"
   },
   {
    "duration": 24,
    "start_time": "2022-12-05T14:02:16.335Z"
   },
   {
    "duration": 19,
    "start_time": "2022-12-05T14:02:16.360Z"
   },
   {
    "duration": 31,
    "start_time": "2022-12-05T14:02:16.381Z"
   },
   {
    "duration": 6,
    "start_time": "2022-12-05T14:02:16.414Z"
   },
   {
    "duration": 20,
    "start_time": "2022-12-05T14:02:16.421Z"
   },
   {
    "duration": 18,
    "start_time": "2022-12-05T14:02:16.442Z"
   },
   {
    "duration": 28,
    "start_time": "2022-12-05T14:02:16.462Z"
   },
   {
    "duration": 19,
    "start_time": "2022-12-05T14:02:16.492Z"
   },
   {
    "duration": 20,
    "start_time": "2022-12-05T14:02:16.512Z"
   },
   {
    "duration": 20,
    "start_time": "2022-12-05T14:02:16.534Z"
   },
   {
    "duration": 101,
    "start_time": "2022-12-05T14:02:16.556Z"
   },
   {
    "duration": 6,
    "start_time": "2022-12-05T14:02:16.659Z"
   },
   {
    "duration": 61,
    "start_time": "2022-12-05T14:02:16.667Z"
   },
   {
    "duration": 7,
    "start_time": "2022-12-05T14:02:16.730Z"
   },
   {
    "duration": 14,
    "start_time": "2022-12-05T14:02:16.739Z"
   },
   {
    "duration": 21,
    "start_time": "2022-12-05T14:02:16.755Z"
   },
   {
    "duration": 22,
    "start_time": "2022-12-05T14:02:16.778Z"
   },
   {
    "duration": 14,
    "start_time": "2022-12-05T14:02:16.802Z"
   },
   {
    "duration": 20,
    "start_time": "2022-12-05T14:02:16.820Z"
   },
   {
    "duration": 31,
    "start_time": "2022-12-05T14:02:16.841Z"
   },
   {
    "duration": 29,
    "start_time": "2022-12-05T14:02:16.874Z"
   },
   {
    "duration": 23,
    "start_time": "2022-12-05T14:02:16.905Z"
   },
   {
    "duration": 23,
    "start_time": "2022-12-05T14:02:16.930Z"
   },
   {
    "duration": 23,
    "start_time": "2022-12-05T14:02:16.955Z"
   },
   {
    "duration": 106,
    "start_time": "2022-12-05T14:02:16.980Z"
   },
   {
    "duration": 0,
    "start_time": "2022-12-05T14:02:17.088Z"
   },
   {
    "duration": 0,
    "start_time": "2022-12-05T14:02:17.090Z"
   },
   {
    "duration": 6,
    "start_time": "2022-12-05T14:03:03.655Z"
   },
   {
    "duration": 1304,
    "start_time": "2022-12-05T14:03:19.617Z"
   },
   {
    "duration": 41,
    "start_time": "2022-12-05T14:03:20.924Z"
   },
   {
    "duration": 16,
    "start_time": "2022-12-05T14:03:20.966Z"
   },
   {
    "duration": 2111,
    "start_time": "2022-12-05T14:03:20.984Z"
   },
   {
    "duration": 12,
    "start_time": "2022-12-05T14:03:23.098Z"
   },
   {
    "duration": 34,
    "start_time": "2022-12-05T14:03:23.112Z"
   },
   {
    "duration": 40,
    "start_time": "2022-12-05T14:03:23.148Z"
   },
   {
    "duration": 8,
    "start_time": "2022-12-05T14:03:23.189Z"
   },
   {
    "duration": 25,
    "start_time": "2022-12-05T14:03:23.199Z"
   },
   {
    "duration": 8,
    "start_time": "2022-12-05T14:03:23.227Z"
   },
   {
    "duration": 19,
    "start_time": "2022-12-05T14:03:23.237Z"
   },
   {
    "duration": 28,
    "start_time": "2022-12-05T14:03:23.258Z"
   },
   {
    "duration": 7,
    "start_time": "2022-12-05T14:03:23.288Z"
   },
   {
    "duration": 8,
    "start_time": "2022-12-05T14:03:23.296Z"
   },
   {
    "duration": 12,
    "start_time": "2022-12-05T14:03:23.305Z"
   },
   {
    "duration": 5,
    "start_time": "2022-12-05T14:03:23.321Z"
   },
   {
    "duration": 7,
    "start_time": "2022-12-05T14:03:23.328Z"
   },
   {
    "duration": 16,
    "start_time": "2022-12-05T14:03:23.336Z"
   },
   {
    "duration": 19,
    "start_time": "2022-12-05T14:03:23.353Z"
   },
   {
    "duration": 116,
    "start_time": "2022-12-05T14:03:23.374Z"
   },
   {
    "duration": 5,
    "start_time": "2022-12-05T14:03:23.492Z"
   },
   {
    "duration": 40,
    "start_time": "2022-12-05T14:03:23.499Z"
   },
   {
    "duration": 5,
    "start_time": "2022-12-05T14:03:23.541Z"
   },
   {
    "duration": 11,
    "start_time": "2022-12-05T14:03:23.548Z"
   },
   {
    "duration": 10,
    "start_time": "2022-12-05T14:03:23.561Z"
   },
   {
    "duration": 8,
    "start_time": "2022-12-05T14:03:23.573Z"
   },
   {
    "duration": 5,
    "start_time": "2022-12-05T14:03:23.583Z"
   },
   {
    "duration": 32,
    "start_time": "2022-12-05T14:03:23.592Z"
   },
   {
    "duration": 20,
    "start_time": "2022-12-05T14:03:23.626Z"
   },
   {
    "duration": 15,
    "start_time": "2022-12-05T14:03:23.648Z"
   },
   {
    "duration": 15,
    "start_time": "2022-12-05T14:03:23.665Z"
   },
   {
    "duration": 4,
    "start_time": "2022-12-05T14:03:23.682Z"
   },
   {
    "duration": 10,
    "start_time": "2022-12-05T14:03:23.687Z"
   },
   {
    "duration": 108,
    "start_time": "2022-12-05T14:03:23.723Z"
   },
   {
    "duration": 0,
    "start_time": "2022-12-05T14:03:23.833Z"
   },
   {
    "duration": 0,
    "start_time": "2022-12-05T14:03:23.835Z"
   },
   {
    "duration": 125,
    "start_time": "2022-12-05T14:05:29.994Z"
   },
   {
    "duration": 5,
    "start_time": "2022-12-05T14:05:32.872Z"
   },
   {
    "duration": 26,
    "start_time": "2022-12-05T14:05:34.651Z"
   },
   {
    "duration": 5,
    "start_time": "2022-12-05T14:05:35.281Z"
   },
   {
    "duration": 1356,
    "start_time": "2022-12-05T14:07:00.497Z"
   },
   {
    "duration": 50,
    "start_time": "2022-12-05T14:07:01.855Z"
   },
   {
    "duration": 31,
    "start_time": "2022-12-05T14:07:01.906Z"
   },
   {
    "duration": 2137,
    "start_time": "2022-12-05T14:07:01.939Z"
   },
   {
    "duration": 13,
    "start_time": "2022-12-05T14:07:04.078Z"
   },
   {
    "duration": 40,
    "start_time": "2022-12-05T14:07:04.093Z"
   },
   {
    "duration": 40,
    "start_time": "2022-12-05T14:07:04.135Z"
   },
   {
    "duration": 10,
    "start_time": "2022-12-05T14:07:04.177Z"
   },
   {
    "duration": 33,
    "start_time": "2022-12-05T14:07:04.189Z"
   },
   {
    "duration": 7,
    "start_time": "2022-12-05T14:07:04.227Z"
   },
   {
    "duration": 11,
    "start_time": "2022-12-05T14:07:04.236Z"
   },
   {
    "duration": 28,
    "start_time": "2022-12-05T14:07:04.249Z"
   },
   {
    "duration": 22,
    "start_time": "2022-12-05T14:07:04.279Z"
   },
   {
    "duration": 19,
    "start_time": "2022-12-05T14:07:04.303Z"
   },
   {
    "duration": 8,
    "start_time": "2022-12-05T14:07:04.325Z"
   },
   {
    "duration": 8,
    "start_time": "2022-12-05T14:07:04.336Z"
   },
   {
    "duration": 7,
    "start_time": "2022-12-05T14:07:04.346Z"
   },
   {
    "duration": 8,
    "start_time": "2022-12-05T14:07:04.355Z"
   },
   {
    "duration": 7,
    "start_time": "2022-12-05T14:07:04.364Z"
   },
   {
    "duration": 157,
    "start_time": "2022-12-05T14:07:04.372Z"
   },
   {
    "duration": 5,
    "start_time": "2022-12-05T14:07:04.530Z"
   },
   {
    "duration": 31,
    "start_time": "2022-12-05T14:07:04.537Z"
   },
   {
    "duration": 6,
    "start_time": "2022-12-05T14:07:04.570Z"
   },
   {
    "duration": 12,
    "start_time": "2022-12-05T14:07:04.577Z"
   },
   {
    "duration": 9,
    "start_time": "2022-12-05T14:07:04.591Z"
   },
   {
    "duration": 8,
    "start_time": "2022-12-05T14:07:04.623Z"
   },
   {
    "duration": 5,
    "start_time": "2022-12-05T14:07:04.633Z"
   },
   {
    "duration": 9,
    "start_time": "2022-12-05T14:07:04.642Z"
   },
   {
    "duration": 18,
    "start_time": "2022-12-05T14:07:04.652Z"
   },
   {
    "duration": 17,
    "start_time": "2022-12-05T14:07:04.672Z"
   },
   {
    "duration": 42,
    "start_time": "2022-12-05T14:07:04.691Z"
   },
   {
    "duration": 4,
    "start_time": "2022-12-05T14:07:04.734Z"
   },
   {
    "duration": 5,
    "start_time": "2022-12-05T14:07:04.739Z"
   },
   {
    "duration": 114,
    "start_time": "2022-12-05T14:07:04.746Z"
   },
   {
    "duration": 0,
    "start_time": "2022-12-05T14:07:04.861Z"
   },
   {
    "duration": 0,
    "start_time": "2022-12-05T14:07:04.863Z"
   },
   {
    "duration": 7,
    "start_time": "2022-12-05T14:10:53.024Z"
   },
   {
    "duration": 7,
    "start_time": "2022-12-05T14:11:16.262Z"
   },
   {
    "duration": 6,
    "start_time": "2022-12-05T14:11:46.059Z"
   },
   {
    "duration": 24,
    "start_time": "2022-12-05T14:12:58.440Z"
   },
   {
    "duration": 16,
    "start_time": "2022-12-05T14:13:26.523Z"
   },
   {
    "duration": 12,
    "start_time": "2022-12-05T14:13:52.515Z"
   },
   {
    "duration": 72,
    "start_time": "2022-12-05T14:27:31.767Z"
   },
   {
    "duration": 6,
    "start_time": "2022-12-05T14:29:06.584Z"
   },
   {
    "duration": 1182,
    "start_time": "2022-12-05T14:29:21.743Z"
   },
   {
    "duration": 42,
    "start_time": "2022-12-05T14:29:22.927Z"
   },
   {
    "duration": 14,
    "start_time": "2022-12-05T14:29:22.971Z"
   },
   {
    "duration": 2157,
    "start_time": "2022-12-05T14:29:22.987Z"
   },
   {
    "duration": 10,
    "start_time": "2022-12-05T14:29:25.146Z"
   },
   {
    "duration": 29,
    "start_time": "2022-12-05T14:29:25.158Z"
   },
   {
    "duration": 29,
    "start_time": "2022-12-05T14:29:25.188Z"
   },
   {
    "duration": 7,
    "start_time": "2022-12-05T14:29:25.221Z"
   },
   {
    "duration": 6,
    "start_time": "2022-12-05T14:29:25.229Z"
   },
   {
    "duration": 7,
    "start_time": "2022-12-05T14:29:25.237Z"
   },
   {
    "duration": 7,
    "start_time": "2022-12-05T14:29:25.246Z"
   },
   {
    "duration": 18,
    "start_time": "2022-12-05T14:29:25.255Z"
   },
   {
    "duration": 7,
    "start_time": "2022-12-05T14:29:25.274Z"
   },
   {
    "duration": 41,
    "start_time": "2022-12-05T14:29:25.284Z"
   },
   {
    "duration": 8,
    "start_time": "2022-12-05T14:29:25.327Z"
   },
   {
    "duration": 5,
    "start_time": "2022-12-05T14:29:25.337Z"
   },
   {
    "duration": 12,
    "start_time": "2022-12-05T14:29:25.344Z"
   },
   {
    "duration": 15,
    "start_time": "2022-12-05T14:29:25.358Z"
   },
   {
    "duration": 9,
    "start_time": "2022-12-05T14:29:25.375Z"
   },
   {
    "duration": 149,
    "start_time": "2022-12-05T14:29:25.386Z"
   },
   {
    "duration": 4,
    "start_time": "2022-12-05T14:29:25.537Z"
   },
   {
    "duration": 32,
    "start_time": "2022-12-05T14:29:25.543Z"
   },
   {
    "duration": 5,
    "start_time": "2022-12-05T14:29:25.577Z"
   },
   {
    "duration": 9,
    "start_time": "2022-12-05T14:29:25.584Z"
   },
   {
    "duration": 28,
    "start_time": "2022-12-05T14:29:25.595Z"
   },
   {
    "duration": 8,
    "start_time": "2022-12-05T14:29:25.625Z"
   },
   {
    "duration": 4,
    "start_time": "2022-12-05T14:29:25.634Z"
   },
   {
    "duration": 11,
    "start_time": "2022-12-05T14:29:25.640Z"
   },
   {
    "duration": 20,
    "start_time": "2022-12-05T14:29:25.652Z"
   },
   {
    "duration": 14,
    "start_time": "2022-12-05T14:29:25.674Z"
   },
   {
    "duration": 38,
    "start_time": "2022-12-05T14:29:25.689Z"
   },
   {
    "duration": 5,
    "start_time": "2022-12-05T14:29:25.729Z"
   },
   {
    "duration": 6,
    "start_time": "2022-12-05T14:29:25.735Z"
   },
   {
    "duration": 108,
    "start_time": "2022-12-05T14:29:25.742Z"
   },
   {
    "duration": 0,
    "start_time": "2022-12-05T14:29:25.853Z"
   },
   {
    "duration": 0,
    "start_time": "2022-12-05T14:29:25.853Z"
   },
   {
    "duration": 3,
    "start_time": "2022-12-05T14:31:01.062Z"
   },
   {
    "duration": 10,
    "start_time": "2022-12-05T14:42:22.469Z"
   },
   {
    "duration": 6,
    "start_time": "2022-12-05T14:43:53.799Z"
   },
   {
    "duration": 9,
    "start_time": "2022-12-05T14:43:59.461Z"
   },
   {
    "duration": 12,
    "start_time": "2022-12-05T14:47:22.247Z"
   },
   {
    "duration": 12,
    "start_time": "2022-12-05T14:52:56.220Z"
   },
   {
    "duration": 7,
    "start_time": "2022-12-05T14:53:16.548Z"
   },
   {
    "duration": 1342,
    "start_time": "2022-12-05T14:53:52.499Z"
   },
   {
    "duration": 51,
    "start_time": "2022-12-05T14:53:53.843Z"
   },
   {
    "duration": 27,
    "start_time": "2022-12-05T14:53:53.896Z"
   },
   {
    "duration": 2262,
    "start_time": "2022-12-05T14:53:53.926Z"
   },
   {
    "duration": 11,
    "start_time": "2022-12-05T14:53:56.190Z"
   },
   {
    "duration": 27,
    "start_time": "2022-12-05T14:53:56.203Z"
   },
   {
    "duration": 27,
    "start_time": "2022-12-05T14:53:56.232Z"
   },
   {
    "duration": 6,
    "start_time": "2022-12-05T14:53:56.261Z"
   },
   {
    "duration": 4,
    "start_time": "2022-12-05T14:53:56.269Z"
   },
   {
    "duration": 6,
    "start_time": "2022-12-05T14:53:56.276Z"
   },
   {
    "duration": 14,
    "start_time": "2022-12-05T14:53:56.283Z"
   },
   {
    "duration": 36,
    "start_time": "2022-12-05T14:53:56.299Z"
   },
   {
    "duration": 7,
    "start_time": "2022-12-05T14:53:56.336Z"
   },
   {
    "duration": 7,
    "start_time": "2022-12-05T14:53:56.344Z"
   },
   {
    "duration": 10,
    "start_time": "2022-12-05T14:53:56.353Z"
   },
   {
    "duration": 12,
    "start_time": "2022-12-05T14:53:56.364Z"
   },
   {
    "duration": 21,
    "start_time": "2022-12-05T14:53:56.377Z"
   },
   {
    "duration": 17,
    "start_time": "2022-12-05T14:53:56.399Z"
   },
   {
    "duration": 16,
    "start_time": "2022-12-05T14:53:56.417Z"
   },
   {
    "duration": 120,
    "start_time": "2022-12-05T14:53:56.434Z"
   },
   {
    "duration": 5,
    "start_time": "2022-12-05T14:53:56.556Z"
   },
   {
    "duration": 28,
    "start_time": "2022-12-05T14:53:56.563Z"
   },
   {
    "duration": 6,
    "start_time": "2022-12-05T14:53:56.593Z"
   },
   {
    "duration": 29,
    "start_time": "2022-12-05T14:53:56.600Z"
   },
   {
    "duration": 18,
    "start_time": "2022-12-05T14:53:56.630Z"
   },
   {
    "duration": 14,
    "start_time": "2022-12-05T14:53:56.649Z"
   },
   {
    "duration": 12,
    "start_time": "2022-12-05T14:53:56.665Z"
   },
   {
    "duration": 17,
    "start_time": "2022-12-05T14:53:56.680Z"
   },
   {
    "duration": 5,
    "start_time": "2022-12-05T14:53:56.698Z"
   },
   {
    "duration": 17,
    "start_time": "2022-12-05T14:53:56.705Z"
   },
   {
    "duration": 16,
    "start_time": "2022-12-05T14:53:56.724Z"
   },
   {
    "duration": 18,
    "start_time": "2022-12-05T14:53:56.742Z"
   },
   {
    "duration": 22,
    "start_time": "2022-12-05T14:53:56.762Z"
   },
   {
    "duration": 6,
    "start_time": "2022-12-05T14:53:56.786Z"
   },
   {
    "duration": 13,
    "start_time": "2022-12-05T14:53:56.793Z"
   },
   {
    "duration": 114,
    "start_time": "2022-12-05T14:53:56.808Z"
   },
   {
    "duration": 0,
    "start_time": "2022-12-05T14:53:56.923Z"
   },
   {
    "duration": 0,
    "start_time": "2022-12-05T14:53:56.925Z"
   },
   {
    "duration": 13,
    "start_time": "2022-12-05T14:55:37.989Z"
   },
   {
    "duration": 7,
    "start_time": "2022-12-05T14:55:48.340Z"
   },
   {
    "duration": 7,
    "start_time": "2022-12-05T14:55:55.293Z"
   },
   {
    "duration": 6,
    "start_time": "2022-12-05T14:56:11.033Z"
   },
   {
    "duration": 8,
    "start_time": "2022-12-05T14:56:16.097Z"
   },
   {
    "duration": 9,
    "start_time": "2022-12-05T14:56:55.643Z"
   },
   {
    "duration": 1269,
    "start_time": "2022-12-05T14:57:04.367Z"
   },
   {
    "duration": 48,
    "start_time": "2022-12-05T14:57:05.638Z"
   },
   {
    "duration": 35,
    "start_time": "2022-12-05T14:57:05.689Z"
   },
   {
    "duration": 2113,
    "start_time": "2022-12-05T14:57:05.727Z"
   },
   {
    "duration": 15,
    "start_time": "2022-12-05T14:57:07.841Z"
   },
   {
    "duration": 32,
    "start_time": "2022-12-05T14:57:07.858Z"
   },
   {
    "duration": 36,
    "start_time": "2022-12-05T14:57:07.892Z"
   },
   {
    "duration": 7,
    "start_time": "2022-12-05T14:57:07.930Z"
   },
   {
    "duration": 13,
    "start_time": "2022-12-05T14:57:07.939Z"
   },
   {
    "duration": 23,
    "start_time": "2022-12-05T14:57:07.955Z"
   },
   {
    "duration": 15,
    "start_time": "2022-12-05T14:57:07.980Z"
   },
   {
    "duration": 31,
    "start_time": "2022-12-05T14:57:07.997Z"
   },
   {
    "duration": 8,
    "start_time": "2022-12-05T14:57:08.030Z"
   },
   {
    "duration": 13,
    "start_time": "2022-12-05T14:57:08.039Z"
   },
   {
    "duration": 16,
    "start_time": "2022-12-05T14:57:08.054Z"
   },
   {
    "duration": 8,
    "start_time": "2022-12-05T14:57:08.072Z"
   },
   {
    "duration": 14,
    "start_time": "2022-12-05T14:57:08.082Z"
   },
   {
    "duration": 17,
    "start_time": "2022-12-05T14:57:08.098Z"
   },
   {
    "duration": 19,
    "start_time": "2022-12-05T14:57:08.117Z"
   },
   {
    "duration": 123,
    "start_time": "2022-12-05T14:57:08.139Z"
   },
   {
    "duration": 5,
    "start_time": "2022-12-05T14:57:08.264Z"
   },
   {
    "duration": 34,
    "start_time": "2022-12-05T14:57:08.271Z"
   },
   {
    "duration": 16,
    "start_time": "2022-12-05T14:57:08.307Z"
   },
   {
    "duration": 24,
    "start_time": "2022-12-05T14:57:08.325Z"
   },
   {
    "duration": 29,
    "start_time": "2022-12-05T14:57:08.351Z"
   },
   {
    "duration": 27,
    "start_time": "2022-12-05T14:57:08.382Z"
   },
   {
    "duration": 21,
    "start_time": "2022-12-05T14:57:08.411Z"
   },
   {
    "duration": 18,
    "start_time": "2022-12-05T14:57:08.436Z"
   },
   {
    "duration": 11,
    "start_time": "2022-12-05T14:57:08.456Z"
   },
   {
    "duration": 19,
    "start_time": "2022-12-05T14:57:08.469Z"
   },
   {
    "duration": 28,
    "start_time": "2022-12-05T14:57:08.490Z"
   },
   {
    "duration": 33,
    "start_time": "2022-12-05T14:57:08.520Z"
   },
   {
    "duration": 14,
    "start_time": "2022-12-05T14:57:08.555Z"
   },
   {
    "duration": 14,
    "start_time": "2022-12-05T14:57:08.571Z"
   },
   {
    "duration": 14,
    "start_time": "2022-12-05T14:57:08.586Z"
   },
   {
    "duration": 107,
    "start_time": "2022-12-05T14:57:08.601Z"
   },
   {
    "duration": 0,
    "start_time": "2022-12-05T14:57:08.709Z"
   },
   {
    "duration": 0,
    "start_time": "2022-12-05T14:57:08.722Z"
   },
   {
    "duration": 6,
    "start_time": "2022-12-05T14:57:41.518Z"
   },
   {
    "duration": 6,
    "start_time": "2022-12-05T14:57:44.293Z"
   },
   {
    "duration": 7,
    "start_time": "2022-12-05T14:57:58.772Z"
   },
   {
    "duration": 6,
    "start_time": "2022-12-05T14:58:19.457Z"
   },
   {
    "duration": 8,
    "start_time": "2022-12-05T14:59:01.847Z"
   },
   {
    "duration": 8,
    "start_time": "2022-12-05T14:59:08.024Z"
   },
   {
    "duration": 7,
    "start_time": "2022-12-05T14:59:25.436Z"
   },
   {
    "duration": 36,
    "start_time": "2022-12-05T15:15:18.831Z"
   },
   {
    "duration": 23,
    "start_time": "2022-12-05T15:15:48.812Z"
   },
   {
    "duration": 19,
    "start_time": "2022-12-05T15:17:09.856Z"
   },
   {
    "duration": 1261,
    "start_time": "2022-12-05T15:17:59.985Z"
   },
   {
    "duration": 41,
    "start_time": "2022-12-05T15:18:01.248Z"
   },
   {
    "duration": 14,
    "start_time": "2022-12-05T15:18:01.291Z"
   },
   {
    "duration": 2046,
    "start_time": "2022-12-05T15:18:01.322Z"
   },
   {
    "duration": 12,
    "start_time": "2022-12-05T15:18:03.370Z"
   },
   {
    "duration": 37,
    "start_time": "2022-12-05T15:18:03.385Z"
   },
   {
    "duration": 25,
    "start_time": "2022-12-05T15:18:03.424Z"
   },
   {
    "duration": 7,
    "start_time": "2022-12-05T15:18:03.450Z"
   },
   {
    "duration": 18,
    "start_time": "2022-12-05T15:18:03.459Z"
   },
   {
    "duration": 22,
    "start_time": "2022-12-05T15:18:03.480Z"
   },
   {
    "duration": 22,
    "start_time": "2022-12-05T15:18:03.504Z"
   },
   {
    "duration": 31,
    "start_time": "2022-12-05T15:18:03.528Z"
   },
   {
    "duration": 11,
    "start_time": "2022-12-05T15:18:03.561Z"
   },
   {
    "duration": 36,
    "start_time": "2022-12-05T15:18:03.573Z"
   },
   {
    "duration": 32,
    "start_time": "2022-12-05T15:18:03.611Z"
   },
   {
    "duration": 18,
    "start_time": "2022-12-05T15:18:03.645Z"
   },
   {
    "duration": 36,
    "start_time": "2022-12-05T15:18:03.665Z"
   },
   {
    "duration": 23,
    "start_time": "2022-12-05T15:18:03.702Z"
   },
   {
    "duration": 26,
    "start_time": "2022-12-05T15:18:03.726Z"
   },
   {
    "duration": 143,
    "start_time": "2022-12-05T15:18:03.753Z"
   },
   {
    "duration": 5,
    "start_time": "2022-12-05T15:18:03.898Z"
   },
   {
    "duration": 43,
    "start_time": "2022-12-05T15:18:03.904Z"
   },
   {
    "duration": 6,
    "start_time": "2022-12-05T15:18:03.949Z"
   },
   {
    "duration": 39,
    "start_time": "2022-12-05T15:18:03.956Z"
   },
   {
    "duration": 37,
    "start_time": "2022-12-05T15:18:03.996Z"
   },
   {
    "duration": 28,
    "start_time": "2022-12-05T15:18:04.035Z"
   },
   {
    "duration": 21,
    "start_time": "2022-12-05T15:18:04.065Z"
   },
   {
    "duration": 8,
    "start_time": "2022-12-05T15:18:04.090Z"
   },
   {
    "duration": 29,
    "start_time": "2022-12-05T15:18:04.099Z"
   },
   {
    "duration": 33,
    "start_time": "2022-12-05T15:18:04.131Z"
   },
   {
    "duration": 33,
    "start_time": "2022-12-05T15:18:04.166Z"
   },
   {
    "duration": 28,
    "start_time": "2022-12-05T15:18:04.203Z"
   },
   {
    "duration": 126,
    "start_time": "2022-12-05T15:18:04.234Z"
   },
   {
    "duration": 0,
    "start_time": "2022-12-05T15:18:04.361Z"
   },
   {
    "duration": 17,
    "start_time": "2022-12-05T15:25:45.762Z"
   },
   {
    "duration": 6,
    "start_time": "2022-12-05T15:29:19.459Z"
   },
   {
    "duration": 5,
    "start_time": "2022-12-05T15:29:29.170Z"
   },
   {
    "duration": 7,
    "start_time": "2022-12-05T15:29:49.143Z"
   },
   {
    "duration": 86,
    "start_time": "2022-12-05T15:32:41.532Z"
   },
   {
    "duration": 1235,
    "start_time": "2022-12-05T15:36:05.985Z"
   },
   {
    "duration": 44,
    "start_time": "2022-12-05T15:36:07.222Z"
   },
   {
    "duration": 15,
    "start_time": "2022-12-05T15:36:07.267Z"
   },
   {
    "duration": 2076,
    "start_time": "2022-12-05T15:36:07.284Z"
   },
   {
    "duration": 11,
    "start_time": "2022-12-05T15:36:09.362Z"
   },
   {
    "duration": 31,
    "start_time": "2022-12-05T15:36:09.375Z"
   },
   {
    "duration": 28,
    "start_time": "2022-12-05T15:36:09.407Z"
   },
   {
    "duration": 9,
    "start_time": "2022-12-05T15:36:09.436Z"
   },
   {
    "duration": 33,
    "start_time": "2022-12-05T15:36:09.447Z"
   },
   {
    "duration": 19,
    "start_time": "2022-12-05T15:36:09.484Z"
   },
   {
    "duration": 18,
    "start_time": "2022-12-05T15:36:09.505Z"
   },
   {
    "duration": 53,
    "start_time": "2022-12-05T15:36:09.525Z"
   },
   {
    "duration": 12,
    "start_time": "2022-12-05T15:36:09.580Z"
   },
   {
    "duration": 15,
    "start_time": "2022-12-05T15:36:09.593Z"
   },
   {
    "duration": 25,
    "start_time": "2022-12-05T15:36:09.610Z"
   },
   {
    "duration": 13,
    "start_time": "2022-12-05T15:36:09.637Z"
   },
   {
    "duration": 20,
    "start_time": "2022-12-05T15:36:09.652Z"
   },
   {
    "duration": 17,
    "start_time": "2022-12-05T15:36:09.674Z"
   },
   {
    "duration": 17,
    "start_time": "2022-12-05T15:36:09.693Z"
   },
   {
    "duration": 134,
    "start_time": "2022-12-05T15:36:09.712Z"
   },
   {
    "duration": 6,
    "start_time": "2022-12-05T15:36:09.848Z"
   },
   {
    "duration": 37,
    "start_time": "2022-12-05T15:36:09.856Z"
   },
   {
    "duration": 25,
    "start_time": "2022-12-05T15:36:09.896Z"
   },
   {
    "duration": 16,
    "start_time": "2022-12-05T15:36:09.922Z"
   },
   {
    "duration": 24,
    "start_time": "2022-12-05T15:36:09.940Z"
   },
   {
    "duration": 14,
    "start_time": "2022-12-05T15:36:09.966Z"
   },
   {
    "duration": 35,
    "start_time": "2022-12-05T15:36:09.982Z"
   },
   {
    "duration": 10,
    "start_time": "2022-12-05T15:36:10.020Z"
   },
   {
    "duration": 40,
    "start_time": "2022-12-05T15:36:10.032Z"
   },
   {
    "duration": 64,
    "start_time": "2022-12-05T15:36:10.074Z"
   },
   {
    "duration": 21,
    "start_time": "2022-12-05T15:36:10.140Z"
   },
   {
    "duration": 26,
    "start_time": "2022-12-05T15:36:10.163Z"
   },
   {
    "duration": 77,
    "start_time": "2022-12-05T15:36:10.191Z"
   },
   {
    "duration": 0,
    "start_time": "2022-12-05T15:36:10.269Z"
   },
   {
    "duration": 107,
    "start_time": "2022-12-05T15:38:28.014Z"
   },
   {
    "duration": 17,
    "start_time": "2022-12-05T15:39:09.349Z"
   },
   {
    "duration": 18,
    "start_time": "2022-12-05T15:43:45.046Z"
   },
   {
    "duration": 19,
    "start_time": "2022-12-05T15:44:15.440Z"
   },
   {
    "duration": 21,
    "start_time": "2022-12-05T15:48:04.243Z"
   },
   {
    "duration": 1212,
    "start_time": "2022-12-05T15:48:13.064Z"
   },
   {
    "duration": 45,
    "start_time": "2022-12-05T15:48:14.278Z"
   },
   {
    "duration": 14,
    "start_time": "2022-12-05T15:48:14.324Z"
   },
   {
    "duration": 2044,
    "start_time": "2022-12-05T15:48:14.340Z"
   },
   {
    "duration": 10,
    "start_time": "2022-12-05T15:48:16.385Z"
   },
   {
    "duration": 28,
    "start_time": "2022-12-05T15:48:16.396Z"
   },
   {
    "duration": 25,
    "start_time": "2022-12-05T15:48:16.425Z"
   },
   {
    "duration": 8,
    "start_time": "2022-12-05T15:48:16.451Z"
   },
   {
    "duration": 7,
    "start_time": "2022-12-05T15:48:16.460Z"
   },
   {
    "duration": 5,
    "start_time": "2022-12-05T15:48:16.470Z"
   },
   {
    "duration": 8,
    "start_time": "2022-12-05T15:48:16.476Z"
   },
   {
    "duration": 50,
    "start_time": "2022-12-05T15:48:16.485Z"
   },
   {
    "duration": 5,
    "start_time": "2022-12-05T15:48:16.537Z"
   },
   {
    "duration": 7,
    "start_time": "2022-12-05T15:48:16.544Z"
   },
   {
    "duration": 8,
    "start_time": "2022-12-05T15:48:16.553Z"
   },
   {
    "duration": 12,
    "start_time": "2022-12-05T15:48:16.563Z"
   },
   {
    "duration": 8,
    "start_time": "2022-12-05T15:48:16.576Z"
   },
   {
    "duration": 38,
    "start_time": "2022-12-05T15:48:16.586Z"
   },
   {
    "duration": 7,
    "start_time": "2022-12-05T15:48:16.625Z"
   },
   {
    "duration": 129,
    "start_time": "2022-12-05T15:48:16.633Z"
   },
   {
    "duration": 5,
    "start_time": "2022-12-05T15:48:16.764Z"
   },
   {
    "duration": 28,
    "start_time": "2022-12-05T15:48:16.770Z"
   },
   {
    "duration": 6,
    "start_time": "2022-12-05T15:48:16.799Z"
   },
   {
    "duration": 8,
    "start_time": "2022-12-05T15:48:16.822Z"
   },
   {
    "duration": 17,
    "start_time": "2022-12-05T15:48:16.832Z"
   },
   {
    "duration": 10,
    "start_time": "2022-12-05T15:48:16.850Z"
   },
   {
    "duration": 27,
    "start_time": "2022-12-05T15:48:16.862Z"
   },
   {
    "duration": 4,
    "start_time": "2022-12-05T15:48:16.893Z"
   },
   {
    "duration": 28,
    "start_time": "2022-12-05T15:48:16.899Z"
   },
   {
    "duration": 16,
    "start_time": "2022-12-05T15:48:16.929Z"
   },
   {
    "duration": 13,
    "start_time": "2022-12-05T15:48:16.947Z"
   },
   {
    "duration": 15,
    "start_time": "2022-12-05T15:48:16.961Z"
   },
   {
    "duration": 131,
    "start_time": "2022-12-05T15:48:16.977Z"
   },
   {
    "duration": 0,
    "start_time": "2022-12-05T15:48:17.110Z"
   },
   {
    "duration": 0,
    "start_time": "2022-12-05T15:48:17.111Z"
   },
   {
    "duration": 19,
    "start_time": "2022-12-05T15:49:51.834Z"
   },
   {
    "duration": 107,
    "start_time": "2022-12-05T15:50:49.003Z"
   },
   {
    "duration": 92,
    "start_time": "2022-12-05T15:56:59.636Z"
   },
   {
    "duration": 1294,
    "start_time": "2022-12-05T15:59:48.939Z"
   },
   {
    "duration": 42,
    "start_time": "2022-12-05T15:59:50.235Z"
   },
   {
    "duration": 15,
    "start_time": "2022-12-05T15:59:50.279Z"
   },
   {
    "duration": 2044,
    "start_time": "2022-12-05T15:59:50.296Z"
   },
   {
    "duration": 12,
    "start_time": "2022-12-05T15:59:52.343Z"
   },
   {
    "duration": 49,
    "start_time": "2022-12-05T15:59:52.357Z"
   },
   {
    "duration": 27,
    "start_time": "2022-12-05T15:59:52.407Z"
   },
   {
    "duration": 15,
    "start_time": "2022-12-05T15:59:52.436Z"
   },
   {
    "duration": 15,
    "start_time": "2022-12-05T15:59:52.452Z"
   },
   {
    "duration": 34,
    "start_time": "2022-12-05T15:59:52.469Z"
   },
   {
    "duration": 29,
    "start_time": "2022-12-05T15:59:52.506Z"
   },
   {
    "duration": 33,
    "start_time": "2022-12-05T15:59:52.537Z"
   },
   {
    "duration": 6,
    "start_time": "2022-12-05T15:59:52.572Z"
   },
   {
    "duration": 11,
    "start_time": "2022-12-05T15:59:52.582Z"
   },
   {
    "duration": 14,
    "start_time": "2022-12-05T15:59:52.595Z"
   },
   {
    "duration": 10,
    "start_time": "2022-12-05T15:59:52.610Z"
   },
   {
    "duration": 7,
    "start_time": "2022-12-05T15:59:52.622Z"
   },
   {
    "duration": 14,
    "start_time": "2022-12-05T15:59:52.631Z"
   },
   {
    "duration": 6,
    "start_time": "2022-12-05T15:59:52.647Z"
   },
   {
    "duration": 138,
    "start_time": "2022-12-05T15:59:52.655Z"
   },
   {
    "duration": 6,
    "start_time": "2022-12-05T15:59:52.795Z"
   },
   {
    "duration": 43,
    "start_time": "2022-12-05T15:59:52.803Z"
   },
   {
    "duration": 7,
    "start_time": "2022-12-05T15:59:52.848Z"
   },
   {
    "duration": 22,
    "start_time": "2022-12-05T15:59:52.856Z"
   },
   {
    "duration": 37,
    "start_time": "2022-12-05T15:59:52.879Z"
   },
   {
    "duration": 25,
    "start_time": "2022-12-05T15:59:52.918Z"
   },
   {
    "duration": 23,
    "start_time": "2022-12-05T15:59:52.945Z"
   },
   {
    "duration": 31,
    "start_time": "2022-12-05T15:59:52.969Z"
   },
   {
    "duration": 27,
    "start_time": "2022-12-05T15:59:53.001Z"
   },
   {
    "duration": 36,
    "start_time": "2022-12-05T15:59:53.029Z"
   },
   {
    "duration": 29,
    "start_time": "2022-12-05T15:59:53.066Z"
   },
   {
    "duration": 28,
    "start_time": "2022-12-05T15:59:53.097Z"
   },
   {
    "duration": 207,
    "start_time": "2022-12-05T15:59:53.126Z"
   },
   {
    "duration": 0,
    "start_time": "2022-12-05T15:59:53.335Z"
   },
   {
    "duration": 0,
    "start_time": "2022-12-05T15:59:53.336Z"
   },
   {
    "duration": 9,
    "start_time": "2022-12-05T16:01:01.462Z"
   },
   {
    "duration": 97,
    "start_time": "2022-12-05T16:06:11.952Z"
   },
   {
    "duration": 194,
    "start_time": "2022-12-05T16:06:31.558Z"
   },
   {
    "duration": 1105,
    "start_time": "2022-12-05T16:07:42.266Z"
   },
   {
    "duration": 6,
    "start_time": "2022-12-05T16:08:23.423Z"
   },
   {
    "duration": 11,
    "start_time": "2022-12-05T16:08:38.696Z"
   },
   {
    "duration": 13,
    "start_time": "2022-12-05T16:08:51.219Z"
   },
   {
    "duration": 4,
    "start_time": "2022-12-05T16:09:07.577Z"
   },
   {
    "duration": 5,
    "start_time": "2022-12-05T16:09:26.809Z"
   },
   {
    "duration": 3,
    "start_time": "2022-12-05T16:09:33.584Z"
   },
   {
    "duration": 9,
    "start_time": "2022-12-05T16:09:38.121Z"
   },
   {
    "duration": 5,
    "start_time": "2022-12-05T16:10:21.768Z"
   },
   {
    "duration": 274,
    "start_time": "2022-12-05T16:20:50.264Z"
   },
   {
    "duration": 298,
    "start_time": "2022-12-05T16:21:01.404Z"
   },
   {
    "duration": 9,
    "start_time": "2022-12-05T16:21:32.092Z"
   },
   {
    "duration": 9,
    "start_time": "2022-12-05T16:21:42.011Z"
   },
   {
    "duration": 275,
    "start_time": "2022-12-05T16:22:25.049Z"
   },
   {
    "duration": 23,
    "start_time": "2022-12-05T16:22:40.440Z"
   },
   {
    "duration": 12,
    "start_time": "2022-12-05T16:30:29.267Z"
   },
   {
    "duration": 80,
    "start_time": "2022-12-05T16:30:46.782Z"
   },
   {
    "duration": 5,
    "start_time": "2022-12-05T16:31:34.488Z"
   },
   {
    "duration": 5,
    "start_time": "2022-12-05T16:31:37.790Z"
   },
   {
    "duration": 5,
    "start_time": "2022-12-05T16:31:40.256Z"
   },
   {
    "duration": 27,
    "start_time": "2022-12-05T16:31:50.584Z"
   },
   {
    "duration": 16,
    "start_time": "2022-12-05T16:32:16.278Z"
   },
   {
    "duration": 65,
    "start_time": "2022-12-05T16:33:18.443Z"
   },
   {
    "duration": 20,
    "start_time": "2022-12-05T16:33:44.081Z"
   },
   {
    "duration": 72,
    "start_time": "2022-12-05T16:33:58.137Z"
   },
   {
    "duration": 13,
    "start_time": "2022-12-05T16:34:07.851Z"
   },
   {
    "duration": 4,
    "start_time": "2022-12-05T16:35:21.672Z"
   },
   {
    "duration": 13,
    "start_time": "2022-12-05T16:35:53.163Z"
   },
   {
    "duration": 344,
    "start_time": "2022-12-05T16:47:13.885Z"
   },
   {
    "duration": 126,
    "start_time": "2022-12-05T16:47:29.833Z"
   },
   {
    "duration": 121,
    "start_time": "2022-12-05T16:47:41.724Z"
   },
   {
    "duration": 71,
    "start_time": "2022-12-05T16:48:40.112Z"
   },
   {
    "duration": 112,
    "start_time": "2022-12-05T16:51:35.923Z"
   },
   {
    "duration": 127,
    "start_time": "2022-12-05T16:52:40.364Z"
   },
   {
    "duration": 152,
    "start_time": "2022-12-05T16:53:46.474Z"
   },
   {
    "duration": 157,
    "start_time": "2022-12-05T16:54:11.738Z"
   },
   {
    "duration": 10,
    "start_time": "2022-12-06T06:09:30.949Z"
   },
   {
    "duration": 10,
    "start_time": "2022-12-06T06:09:56.941Z"
   },
   {
    "duration": 9,
    "start_time": "2022-12-06T06:10:04.717Z"
   },
   {
    "duration": 8,
    "start_time": "2022-12-06T06:10:21.287Z"
   },
   {
    "duration": 8,
    "start_time": "2022-12-06T06:11:43.279Z"
   },
   {
    "duration": 139,
    "start_time": "2022-12-06T06:15:20.625Z"
   },
   {
    "duration": 164,
    "start_time": "2022-12-06T06:15:28.851Z"
   },
   {
    "duration": 147,
    "start_time": "2022-12-06T06:15:45.388Z"
   },
   {
    "duration": 197,
    "start_time": "2022-12-06T06:15:51.480Z"
   },
   {
    "duration": 197,
    "start_time": "2022-12-06T06:16:04.101Z"
   },
   {
    "duration": 5,
    "start_time": "2022-12-06T06:16:27.631Z"
   },
   {
    "duration": 137,
    "start_time": "2022-12-06T06:16:35.154Z"
   },
   {
    "duration": 150,
    "start_time": "2022-12-06T06:16:52.437Z"
   },
   {
    "duration": 157,
    "start_time": "2022-12-06T06:19:27.226Z"
   },
   {
    "duration": 7,
    "start_time": "2022-12-06T06:24:20.679Z"
   },
   {
    "duration": 32,
    "start_time": "2022-12-06T06:28:32.506Z"
   },
   {
    "duration": 27,
    "start_time": "2022-12-06T06:28:39.361Z"
   },
   {
    "duration": 10,
    "start_time": "2022-12-06T06:28:51.864Z"
   },
   {
    "duration": 9,
    "start_time": "2022-12-06T06:29:15.469Z"
   },
   {
    "duration": 74,
    "start_time": "2022-12-06T06:33:02.370Z"
   },
   {
    "duration": 21,
    "start_time": "2022-12-06T06:33:06.269Z"
   },
   {
    "duration": 21,
    "start_time": "2022-12-06T06:33:29.363Z"
   },
   {
    "duration": 71,
    "start_time": "2022-12-06T06:35:56.893Z"
   },
   {
    "duration": 13,
    "start_time": "2022-12-06T06:36:12.810Z"
   },
   {
    "duration": 24,
    "start_time": "2022-12-06T06:36:22.512Z"
   },
   {
    "duration": 23,
    "start_time": "2022-12-06T06:37:12.476Z"
   },
   {
    "duration": 152,
    "start_time": "2022-12-06T06:41:42.271Z"
   },
   {
    "duration": 148,
    "start_time": "2022-12-06T06:41:49.634Z"
   },
   {
    "duration": 255,
    "start_time": "2022-12-06T06:42:09.606Z"
   },
   {
    "duration": 160,
    "start_time": "2022-12-06T06:42:17.677Z"
   },
   {
    "duration": 159,
    "start_time": "2022-12-06T06:42:25.754Z"
   },
   {
    "duration": 151,
    "start_time": "2022-12-06T06:42:28.625Z"
   },
   {
    "duration": 163,
    "start_time": "2022-12-06T06:47:05.907Z"
   },
   {
    "duration": 144,
    "start_time": "2022-12-06T06:47:42.870Z"
   },
   {
    "duration": 193,
    "start_time": "2022-12-06T06:48:10.095Z"
   },
   {
    "duration": 148,
    "start_time": "2022-12-06T06:49:33.866Z"
   },
   {
    "duration": 156,
    "start_time": "2022-12-06T06:49:37.268Z"
   },
   {
    "duration": 139,
    "start_time": "2022-12-06T06:49:46.550Z"
   },
   {
    "duration": 152,
    "start_time": "2022-12-06T06:49:53.795Z"
   },
   {
    "duration": 13,
    "start_time": "2022-12-06T06:52:07.014Z"
   },
   {
    "duration": 3,
    "start_time": "2022-12-06T06:55:06.720Z"
   },
   {
    "duration": 163,
    "start_time": "2022-12-06T06:56:30.825Z"
   },
   {
    "duration": 146,
    "start_time": "2022-12-06T06:57:00.848Z"
   },
   {
    "duration": 20,
    "start_time": "2022-12-06T07:02:00.803Z"
   },
   {
    "duration": 32,
    "start_time": "2022-12-06T07:02:08.689Z"
   },
   {
    "duration": 33,
    "start_time": "2022-12-06T07:07:47.866Z"
   },
   {
    "duration": 3,
    "start_time": "2022-12-06T07:08:19.624Z"
   },
   {
    "duration": 160,
    "start_time": "2022-12-06T07:09:06.613Z"
   },
   {
    "duration": 149,
    "start_time": "2022-12-06T07:11:27.179Z"
   },
   {
    "duration": 2,
    "start_time": "2022-12-06T07:14:41.652Z"
   },
   {
    "duration": 295,
    "start_time": "2022-12-06T07:16:14.338Z"
   },
   {
    "duration": 5,
    "start_time": "2022-12-06T07:17:00.062Z"
   },
   {
    "duration": 184,
    "start_time": "2022-12-06T07:18:04.440Z"
   },
   {
    "duration": 83,
    "start_time": "2022-12-06T07:18:27.025Z"
   },
   {
    "duration": 182,
    "start_time": "2022-12-06T07:18:39.120Z"
   },
   {
    "duration": 193,
    "start_time": "2022-12-06T07:18:56.292Z"
   },
   {
    "duration": 212,
    "start_time": "2022-12-06T07:19:27.466Z"
   },
   {
    "duration": 200,
    "start_time": "2022-12-06T07:19:34.556Z"
   },
   {
    "duration": 166,
    "start_time": "2022-12-06T07:27:30.074Z"
   },
   {
    "duration": 164,
    "start_time": "2022-12-06T07:28:14.645Z"
   },
   {
    "duration": 170,
    "start_time": "2022-12-06T07:34:45.310Z"
   },
   {
    "duration": 165,
    "start_time": "2022-12-06T07:35:12.946Z"
   },
   {
    "duration": 3,
    "start_time": "2022-12-06T07:53:39.412Z"
   },
   {
    "duration": 167,
    "start_time": "2022-12-06T07:54:04.381Z"
   },
   {
    "duration": 180,
    "start_time": "2022-12-06T07:54:24.245Z"
   },
   {
    "duration": 188,
    "start_time": "2022-12-06T07:54:42.398Z"
   },
   {
    "duration": 188,
    "start_time": "2022-12-06T07:54:45.185Z"
   },
   {
    "duration": 190,
    "start_time": "2022-12-06T08:01:29.246Z"
   },
   {
    "duration": 169,
    "start_time": "2022-12-06T08:03:30.324Z"
   },
   {
    "duration": 284,
    "start_time": "2022-12-06T08:03:47.588Z"
   },
   {
    "duration": 125,
    "start_time": "2022-12-06T08:03:57.003Z"
   },
   {
    "duration": 180,
    "start_time": "2022-12-06T08:05:11.795Z"
   },
   {
    "duration": 190,
    "start_time": "2022-12-06T08:05:26.473Z"
   },
   {
    "duration": 150,
    "start_time": "2022-12-06T08:05:51.524Z"
   },
   {
    "duration": 137,
    "start_time": "2022-12-06T08:06:19.056Z"
   },
   {
    "duration": 153,
    "start_time": "2022-12-06T08:06:24.072Z"
   },
   {
    "duration": 182,
    "start_time": "2022-12-06T08:16:54.876Z"
   },
   {
    "duration": 181,
    "start_time": "2022-12-06T08:20:57.645Z"
   },
   {
    "duration": 214,
    "start_time": "2022-12-06T08:21:04.136Z"
   },
   {
    "duration": 202,
    "start_time": "2022-12-06T08:23:18.525Z"
   },
   {
    "duration": 171,
    "start_time": "2022-12-06T08:28:56.129Z"
   },
   {
    "duration": 185,
    "start_time": "2022-12-06T08:29:10.278Z"
   },
   {
    "duration": 1165,
    "start_time": "2022-12-06T08:34:48.518Z"
   },
   {
    "duration": 203,
    "start_time": "2022-12-06T08:35:13.958Z"
   },
   {
    "duration": 174,
    "start_time": "2022-12-06T08:35:40.534Z"
   },
   {
    "duration": 86,
    "start_time": "2022-12-06T08:36:34.450Z"
   },
   {
    "duration": 77,
    "start_time": "2022-12-06T08:36:37.531Z"
   },
   {
    "duration": 207,
    "start_time": "2022-12-06T08:36:40.612Z"
   },
   {
    "duration": 219,
    "start_time": "2022-12-06T08:36:49.410Z"
   },
   {
    "duration": 177,
    "start_time": "2022-12-06T08:36:58.995Z"
   },
   {
    "duration": 20,
    "start_time": "2022-12-06T08:37:14.023Z"
   },
   {
    "duration": 192,
    "start_time": "2022-12-06T08:38:12.625Z"
   },
   {
    "duration": 385,
    "start_time": "2022-12-06T08:39:39.397Z"
   },
   {
    "duration": 197,
    "start_time": "2022-12-06T08:39:50.026Z"
   },
   {
    "duration": 180,
    "start_time": "2022-12-06T08:40:16.230Z"
   },
   {
    "duration": 187,
    "start_time": "2022-12-06T08:40:38.437Z"
   },
   {
    "duration": 177,
    "start_time": "2022-12-06T08:40:43.047Z"
   },
   {
    "duration": 75,
    "start_time": "2022-12-06T08:57:14.843Z"
   },
   {
    "duration": 80,
    "start_time": "2022-12-06T08:57:21.737Z"
   },
   {
    "duration": 1131,
    "start_time": "2022-12-06T08:57:38.440Z"
   },
   {
    "duration": 180,
    "start_time": "2022-12-06T08:57:48.442Z"
   },
   {
    "duration": 189,
    "start_time": "2022-12-06T08:58:15.623Z"
   },
   {
    "duration": 184,
    "start_time": "2022-12-06T08:58:20.309Z"
   },
   {
    "duration": 170,
    "start_time": "2022-12-06T09:05:09.466Z"
   },
   {
    "duration": 158,
    "start_time": "2022-12-06T09:05:16.187Z"
   },
   {
    "duration": 1169,
    "start_time": "2022-12-06T09:09:01.538Z"
   },
   {
    "duration": 142,
    "start_time": "2022-12-06T09:09:06.872Z"
   },
   {
    "duration": 142,
    "start_time": "2022-12-06T09:09:28.298Z"
   },
   {
    "duration": 150,
    "start_time": "2022-12-06T09:09:44.359Z"
   },
   {
    "duration": 156,
    "start_time": "2022-12-06T09:10:00.007Z"
   },
   {
    "duration": 153,
    "start_time": "2022-12-06T09:10:07.625Z"
   },
   {
    "duration": 3,
    "start_time": "2022-12-06T09:15:44.708Z"
   },
   {
    "duration": 168,
    "start_time": "2022-12-06T09:16:42.266Z"
   },
   {
    "duration": 75,
    "start_time": "2022-12-06T09:19:53.419Z"
   },
   {
    "duration": 69,
    "start_time": "2022-12-06T09:19:56.808Z"
   },
   {
    "duration": 198,
    "start_time": "2022-12-06T09:20:00.028Z"
   },
   {
    "duration": 193,
    "start_time": "2022-12-06T09:20:07.570Z"
   },
   {
    "duration": 187,
    "start_time": "2022-12-06T09:20:11.041Z"
   },
   {
    "duration": 192,
    "start_time": "2022-12-06T09:20:15.106Z"
   },
   {
    "duration": 189,
    "start_time": "2022-12-06T09:20:18.372Z"
   },
   {
    "duration": 193,
    "start_time": "2022-12-06T09:20:22.606Z"
   },
   {
    "duration": 197,
    "start_time": "2022-12-06T09:20:26.625Z"
   },
   {
    "duration": 5,
    "start_time": "2022-12-06T09:29:18.740Z"
   },
   {
    "duration": 13,
    "start_time": "2022-12-06T09:29:30.803Z"
   },
   {
    "duration": 6,
    "start_time": "2022-12-06T09:29:34.803Z"
   },
   {
    "duration": 442,
    "start_time": "2022-12-06T09:40:08.233Z"
   },
   {
    "duration": 19,
    "start_time": "2022-12-06T09:52:54.360Z"
   },
   {
    "duration": 18,
    "start_time": "2022-12-06T09:57:31.296Z"
   },
   {
    "duration": 139,
    "start_time": "2022-12-06T10:04:57.487Z"
   },
   {
    "duration": 83,
    "start_time": "2022-12-06T10:08:59.796Z"
   },
   {
    "duration": 138,
    "start_time": "2022-12-06T10:13:07.546Z"
   },
   {
    "duration": 18,
    "start_time": "2022-12-06T10:16:01.735Z"
   },
   {
    "duration": 16,
    "start_time": "2022-12-06T10:16:15.319Z"
   },
   {
    "duration": 15,
    "start_time": "2022-12-06T10:16:41.516Z"
   },
   {
    "duration": 18,
    "start_time": "2022-12-06T10:16:55.560Z"
   },
   {
    "duration": 74,
    "start_time": "2022-12-06T10:17:11.257Z"
   },
   {
    "duration": 152,
    "start_time": "2022-12-06T10:17:14.914Z"
   },
   {
    "duration": 20,
    "start_time": "2022-12-06T10:17:51.811Z"
   },
   {
    "duration": 16,
    "start_time": "2022-12-06T10:18:29.200Z"
   },
   {
    "duration": 21,
    "start_time": "2022-12-06T10:18:38.219Z"
   },
   {
    "duration": 20,
    "start_time": "2022-12-06T10:18:43.513Z"
   },
   {
    "duration": 20,
    "start_time": "2022-12-06T10:19:36.265Z"
   },
   {
    "duration": 137,
    "start_time": "2022-12-06T10:19:48.503Z"
   },
   {
    "duration": 173,
    "start_time": "2022-12-06T10:20:15.729Z"
   },
   {
    "duration": 145,
    "start_time": "2022-12-06T10:20:27.574Z"
   },
   {
    "duration": 146,
    "start_time": "2022-12-06T10:20:33.133Z"
   },
   {
    "duration": 158,
    "start_time": "2022-12-06T10:21:12.489Z"
   },
   {
    "duration": 45,
    "start_time": "2022-12-06T10:33:46.045Z"
   },
   {
    "duration": 8,
    "start_time": "2022-12-06T10:34:11.050Z"
   },
   {
    "duration": 10,
    "start_time": "2022-12-06T10:34:21.728Z"
   },
   {
    "duration": 10,
    "start_time": "2022-12-06T10:35:20.596Z"
   },
   {
    "duration": 5,
    "start_time": "2022-12-06T10:35:22.425Z"
   },
   {
    "duration": 6,
    "start_time": "2022-12-06T10:35:24.623Z"
   },
   {
    "duration": 16,
    "start_time": "2022-12-06T10:38:43.827Z"
   },
   {
    "duration": 16,
    "start_time": "2022-12-06T10:43:02.782Z"
   },
   {
    "duration": 82,
    "start_time": "2022-12-06T10:45:27.018Z"
   },
   {
    "duration": 78,
    "start_time": "2022-12-06T10:45:36.032Z"
   },
   {
    "duration": 83,
    "start_time": "2022-12-06T10:45:43.501Z"
   },
   {
    "duration": 193,
    "start_time": "2022-12-06T10:46:00.523Z"
   },
   {
    "duration": 14,
    "start_time": "2022-12-06T10:47:11.888Z"
   },
   {
    "duration": 195,
    "start_time": "2022-12-06T10:47:29.208Z"
   },
   {
    "duration": 174,
    "start_time": "2022-12-06T10:48:24.956Z"
   },
   {
    "duration": 196,
    "start_time": "2022-12-06T10:48:36.701Z"
   },
   {
    "duration": 214,
    "start_time": "2022-12-06T10:48:42.423Z"
   },
   {
    "duration": 186,
    "start_time": "2022-12-06T10:48:47.534Z"
   },
   {
    "duration": 192,
    "start_time": "2022-12-06T10:48:51.737Z"
   },
   {
    "duration": 194,
    "start_time": "2022-12-06T10:49:02.954Z"
   },
   {
    "duration": 198,
    "start_time": "2022-12-06T10:50:12.759Z"
   },
   {
    "duration": 181,
    "start_time": "2022-12-06T10:50:37.400Z"
   },
   {
    "duration": 70,
    "start_time": "2022-12-06T10:51:17.283Z"
   },
   {
    "duration": 165,
    "start_time": "2022-12-06T10:53:32.129Z"
   },
   {
    "duration": 160,
    "start_time": "2022-12-06T10:56:08.362Z"
   },
   {
    "duration": 162,
    "start_time": "2022-12-06T10:57:40.277Z"
   },
   {
    "duration": 73,
    "start_time": "2022-12-06T10:58:32.132Z"
   },
   {
    "duration": 68,
    "start_time": "2022-12-06T10:58:51.469Z"
   },
   {
    "duration": 161,
    "start_time": "2022-12-06T10:59:31.647Z"
   },
   {
    "duration": 11,
    "start_time": "2022-12-06T11:14:06.176Z"
   },
   {
    "duration": 95,
    "start_time": "2022-12-06T11:14:19.035Z"
   },
   {
    "duration": 1384,
    "start_time": "2022-12-06T11:14:29.016Z"
   },
   {
    "duration": 81,
    "start_time": "2022-12-06T11:15:04.013Z"
   },
   {
    "duration": 23,
    "start_time": "2022-12-06T11:15:09.743Z"
   },
   {
    "duration": 17,
    "start_time": "2022-12-06T11:15:19.359Z"
   },
   {
    "duration": 1268,
    "start_time": "2022-12-06T11:18:12.336Z"
   },
   {
    "duration": 42,
    "start_time": "2022-12-06T11:18:13.607Z"
   },
   {
    "duration": 18,
    "start_time": "2022-12-06T11:18:13.651Z"
   },
   {
    "duration": 2094,
    "start_time": "2022-12-06T11:18:13.670Z"
   },
   {
    "duration": 11,
    "start_time": "2022-12-06T11:18:15.766Z"
   },
   {
    "duration": 35,
    "start_time": "2022-12-06T11:18:15.778Z"
   },
   {
    "duration": 34,
    "start_time": "2022-12-06T11:18:15.815Z"
   },
   {
    "duration": 9,
    "start_time": "2022-12-06T11:18:15.850Z"
   },
   {
    "duration": 17,
    "start_time": "2022-12-06T11:18:15.861Z"
   },
   {
    "duration": 13,
    "start_time": "2022-12-06T11:18:15.880Z"
   },
   {
    "duration": 28,
    "start_time": "2022-12-06T11:18:15.894Z"
   },
   {
    "duration": 15,
    "start_time": "2022-12-06T11:18:15.924Z"
   },
   {
    "duration": 6,
    "start_time": "2022-12-06T11:18:15.941Z"
   },
   {
    "duration": 8,
    "start_time": "2022-12-06T11:18:15.949Z"
   },
   {
    "duration": 15,
    "start_time": "2022-12-06T11:18:15.959Z"
   },
   {
    "duration": 5,
    "start_time": "2022-12-06T11:18:15.976Z"
   },
   {
    "duration": 9,
    "start_time": "2022-12-06T11:18:15.982Z"
   },
   {
    "duration": 32,
    "start_time": "2022-12-06T11:18:15.993Z"
   },
   {
    "duration": 7,
    "start_time": "2022-12-06T11:18:16.027Z"
   },
   {
    "duration": 134,
    "start_time": "2022-12-06T11:18:16.036Z"
   },
   {
    "duration": 5,
    "start_time": "2022-12-06T11:18:16.172Z"
   },
   {
    "duration": 45,
    "start_time": "2022-12-06T11:18:16.178Z"
   },
   {
    "duration": 5,
    "start_time": "2022-12-06T11:18:16.225Z"
   },
   {
    "duration": 32,
    "start_time": "2022-12-06T11:18:16.231Z"
   },
   {
    "duration": 24,
    "start_time": "2022-12-06T11:18:16.265Z"
   },
   {
    "duration": 29,
    "start_time": "2022-12-06T11:18:16.291Z"
   },
   {
    "duration": 19,
    "start_time": "2022-12-06T11:18:16.322Z"
   },
   {
    "duration": 18,
    "start_time": "2022-12-06T11:18:16.343Z"
   },
   {
    "duration": 41,
    "start_time": "2022-12-06T11:18:16.363Z"
   },
   {
    "duration": 18,
    "start_time": "2022-12-06T11:18:16.406Z"
   },
   {
    "duration": 36,
    "start_time": "2022-12-06T11:18:16.426Z"
   },
   {
    "duration": 35,
    "start_time": "2022-12-06T11:18:16.464Z"
   },
   {
    "duration": 23,
    "start_time": "2022-12-06T11:18:16.501Z"
   },
   {
    "duration": 23,
    "start_time": "2022-12-06T11:18:16.526Z"
   },
   {
    "duration": 297,
    "start_time": "2022-12-06T11:18:16.551Z"
   },
   {
    "duration": 24,
    "start_time": "2022-12-06T11:18:16.850Z"
   },
   {
    "duration": 17,
    "start_time": "2022-12-06T11:18:16.876Z"
   },
   {
    "duration": 173,
    "start_time": "2022-12-06T11:18:16.895Z"
   },
   {
    "duration": 159,
    "start_time": "2022-12-06T11:18:17.071Z"
   },
   {
    "duration": 176,
    "start_time": "2022-12-06T11:18:17.232Z"
   },
   {
    "duration": 287,
    "start_time": "2022-12-06T11:18:17.421Z"
   },
   {
    "duration": 196,
    "start_time": "2022-12-06T11:18:17.709Z"
   },
   {
    "duration": 172,
    "start_time": "2022-12-06T11:18:17.906Z"
   },
   {
    "duration": 200,
    "start_time": "2022-12-06T11:18:18.080Z"
   },
   {
    "duration": 142,
    "start_time": "2022-12-06T11:18:18.282Z"
   },
   {
    "duration": 228,
    "start_time": "2022-12-06T11:18:18.426Z"
   },
   {
    "duration": 194,
    "start_time": "2022-12-06T11:18:18.656Z"
   },
   {
    "duration": 205,
    "start_time": "2022-12-06T11:18:18.852Z"
   },
   {
    "duration": 217,
    "start_time": "2022-12-06T11:18:19.059Z"
   },
   {
    "duration": 173,
    "start_time": "2022-12-06T11:18:19.278Z"
   },
   {
    "duration": 129,
    "start_time": "2022-12-06T11:18:19.452Z"
   },
   {
    "duration": 0,
    "start_time": "2022-12-06T11:18:19.583Z"
   },
   {
    "duration": 0,
    "start_time": "2022-12-06T11:18:19.585Z"
   },
   {
    "duration": 0,
    "start_time": "2022-12-06T11:18:19.586Z"
   },
   {
    "duration": 0,
    "start_time": "2022-12-06T11:18:19.587Z"
   },
   {
    "duration": 0,
    "start_time": "2022-12-06T11:18:19.589Z"
   },
   {
    "duration": 21,
    "start_time": "2022-12-06T11:18:39.505Z"
   },
   {
    "duration": 18,
    "start_time": "2022-12-06T11:18:48.561Z"
   },
   {
    "duration": 4,
    "start_time": "2022-12-06T11:23:24.696Z"
   },
   {
    "duration": 10,
    "start_time": "2022-12-06T11:23:30.273Z"
   },
   {
    "duration": 17,
    "start_time": "2022-12-06T11:23:38.274Z"
   },
   {
    "duration": 1044,
    "start_time": "2022-12-06T11:27:24.954Z"
   },
   {
    "duration": 840,
    "start_time": "2022-12-06T11:28:14.244Z"
   },
   {
    "duration": 896,
    "start_time": "2022-12-06T11:28:29.130Z"
   },
   {
    "duration": 1025,
    "start_time": "2022-12-06T11:33:33.683Z"
   },
   {
    "duration": 840,
    "start_time": "2022-12-06T11:33:39.698Z"
   },
   {
    "duration": 1136,
    "start_time": "2022-12-06T11:38:34.253Z"
   },
   {
    "duration": 794,
    "start_time": "2022-12-06T11:38:58.540Z"
   },
   {
    "duration": 789,
    "start_time": "2022-12-06T11:42:22.191Z"
   },
   {
    "duration": 985,
    "start_time": "2022-12-06T11:42:30.701Z"
   },
   {
    "duration": 1143,
    "start_time": "2022-12-06T11:45:52.424Z"
   },
   {
    "duration": 807,
    "start_time": "2022-12-06T11:46:07.303Z"
   },
   {
    "duration": 762,
    "start_time": "2022-12-06T11:46:22.860Z"
   },
   {
    "duration": 1093,
    "start_time": "2022-12-06T11:47:03.267Z"
   },
   {
    "duration": 15,
    "start_time": "2022-12-06T11:47:12.467Z"
   },
   {
    "duration": 15,
    "start_time": "2022-12-06T11:47:25.100Z"
   },
   {
    "duration": 825,
    "start_time": "2022-12-06T11:47:42.092Z"
   },
   {
    "duration": 819,
    "start_time": "2022-12-06T11:49:52.596Z"
   },
   {
    "duration": 93,
    "start_time": "2022-12-06T11:50:06.030Z"
   },
   {
    "duration": 67,
    "start_time": "2022-12-06T11:50:13.072Z"
   },
   {
    "duration": 89,
    "start_time": "2022-12-06T11:50:18.034Z"
   },
   {
    "duration": 77,
    "start_time": "2022-12-06T11:50:24.919Z"
   },
   {
    "duration": 94,
    "start_time": "2022-12-06T11:50:28.217Z"
   },
   {
    "duration": 853,
    "start_time": "2022-12-06T11:50:32.634Z"
   },
   {
    "duration": 1772,
    "start_time": "2022-12-06T11:51:12.442Z"
   },
   {
    "duration": 77,
    "start_time": "2022-12-06T11:51:46.800Z"
   },
   {
    "duration": 133,
    "start_time": "2022-12-06T11:51:50.912Z"
   },
   {
    "duration": 129,
    "start_time": "2022-12-06T11:52:21.333Z"
   },
   {
    "duration": 133,
    "start_time": "2022-12-06T11:52:30.957Z"
   },
   {
    "duration": 133,
    "start_time": "2022-12-06T11:52:41.742Z"
   },
   {
    "duration": 143,
    "start_time": "2022-12-06T11:53:17.423Z"
   },
   {
    "duration": 130,
    "start_time": "2022-12-06T11:53:58.959Z"
   },
   {
    "duration": 146,
    "start_time": "2022-12-06T11:55:34.644Z"
   },
   {
    "duration": 209,
    "start_time": "2022-12-06T11:59:04.037Z"
   },
   {
    "duration": 160,
    "start_time": "2022-12-06T11:59:33.190Z"
   },
   {
    "duration": 150,
    "start_time": "2022-12-06T12:00:10.783Z"
   },
   {
    "duration": 372,
    "start_time": "2022-12-06T12:00:34.916Z"
   },
   {
    "duration": 249,
    "start_time": "2022-12-06T12:00:54.117Z"
   },
   {
    "duration": 216,
    "start_time": "2022-12-06T12:01:14.330Z"
   },
   {
    "duration": 187,
    "start_time": "2022-12-06T12:01:46.045Z"
   },
   {
    "duration": 206,
    "start_time": "2022-12-06T12:02:14.343Z"
   },
   {
    "duration": 193,
    "start_time": "2022-12-06T12:02:53.394Z"
   },
   {
    "duration": 133,
    "start_time": "2022-12-06T12:03:28.851Z"
   },
   {
    "duration": 133,
    "start_time": "2022-12-06T12:03:35.146Z"
   },
   {
    "duration": 212,
    "start_time": "2022-12-06T12:04:44.838Z"
   },
   {
    "duration": 180,
    "start_time": "2022-12-06T12:05:10.931Z"
   },
   {
    "duration": 197,
    "start_time": "2022-12-06T12:05:37.862Z"
   },
   {
    "duration": 205,
    "start_time": "2022-12-06T12:05:56.494Z"
   },
   {
    "duration": 183,
    "start_time": "2022-12-06T12:06:12.636Z"
   },
   {
    "duration": 151,
    "start_time": "2022-12-06T12:06:33.313Z"
   },
   {
    "duration": 151,
    "start_time": "2022-12-06T12:06:51.793Z"
   },
   {
    "duration": 180,
    "start_time": "2022-12-06T12:08:07.924Z"
   },
   {
    "duration": 169,
    "start_time": "2022-12-06T12:08:46.558Z"
   },
   {
    "duration": 202,
    "start_time": "2022-12-06T12:09:00.074Z"
   },
   {
    "duration": 202,
    "start_time": "2022-12-06T12:09:25.522Z"
   },
   {
    "duration": 380,
    "start_time": "2022-12-06T12:09:32.082Z"
   },
   {
    "duration": 194,
    "start_time": "2022-12-06T12:10:04.483Z"
   },
   {
    "duration": 192,
    "start_time": "2022-12-06T12:11:39.256Z"
   },
   {
    "duration": 179,
    "start_time": "2022-12-06T12:22:08.575Z"
   },
   {
    "duration": 192,
    "start_time": "2022-12-06T12:22:36.606Z"
   },
   {
    "duration": 170,
    "start_time": "2022-12-06T12:22:45.300Z"
   },
   {
    "duration": 74,
    "start_time": "2022-12-06T12:23:22.761Z"
   },
   {
    "duration": 184,
    "start_time": "2022-12-06T12:23:33.917Z"
   },
   {
    "duration": 161,
    "start_time": "2022-12-06T12:25:42.633Z"
   },
   {
    "duration": 165,
    "start_time": "2022-12-06T12:27:25.397Z"
   },
   {
    "duration": 167,
    "start_time": "2022-12-06T12:29:36.273Z"
   },
   {
    "duration": 204,
    "start_time": "2022-12-06T12:29:52.298Z"
   },
   {
    "duration": 142,
    "start_time": "2022-12-06T12:31:18.480Z"
   },
   {
    "duration": 1318,
    "start_time": "2022-12-06T12:32:32.935Z"
   },
   {
    "duration": 51,
    "start_time": "2022-12-06T12:32:34.255Z"
   },
   {
    "duration": 29,
    "start_time": "2022-12-06T12:32:34.308Z"
   },
   {
    "duration": 2036,
    "start_time": "2022-12-06T12:32:34.340Z"
   },
   {
    "duration": 10,
    "start_time": "2022-12-06T12:32:36.377Z"
   },
   {
    "duration": 35,
    "start_time": "2022-12-06T12:32:36.388Z"
   },
   {
    "duration": 28,
    "start_time": "2022-12-06T12:32:36.425Z"
   },
   {
    "duration": 7,
    "start_time": "2022-12-06T12:32:36.455Z"
   },
   {
    "duration": 8,
    "start_time": "2022-12-06T12:32:36.464Z"
   },
   {
    "duration": 6,
    "start_time": "2022-12-06T12:32:36.475Z"
   },
   {
    "duration": 40,
    "start_time": "2022-12-06T12:32:36.483Z"
   },
   {
    "duration": 19,
    "start_time": "2022-12-06T12:32:36.525Z"
   },
   {
    "duration": 7,
    "start_time": "2022-12-06T12:32:36.545Z"
   },
   {
    "duration": 5,
    "start_time": "2022-12-06T12:32:36.553Z"
   },
   {
    "duration": 11,
    "start_time": "2022-12-06T12:32:36.559Z"
   },
   {
    "duration": 6,
    "start_time": "2022-12-06T12:32:36.572Z"
   },
   {
    "duration": 43,
    "start_time": "2022-12-06T12:32:36.580Z"
   },
   {
    "duration": 7,
    "start_time": "2022-12-06T12:32:36.625Z"
   },
   {
    "duration": 9,
    "start_time": "2022-12-06T12:32:36.633Z"
   },
   {
    "duration": 140,
    "start_time": "2022-12-06T12:32:36.643Z"
   },
   {
    "duration": 6,
    "start_time": "2022-12-06T12:32:36.784Z"
   },
   {
    "duration": 38,
    "start_time": "2022-12-06T12:32:36.791Z"
   },
   {
    "duration": 5,
    "start_time": "2022-12-06T12:32:36.831Z"
   },
   {
    "duration": 10,
    "start_time": "2022-12-06T12:32:36.837Z"
   },
   {
    "duration": 15,
    "start_time": "2022-12-06T12:32:36.848Z"
   },
   {
    "duration": 9,
    "start_time": "2022-12-06T12:32:36.865Z"
   },
   {
    "duration": 12,
    "start_time": "2022-12-06T12:32:36.876Z"
   },
   {
    "duration": 32,
    "start_time": "2022-12-06T12:32:36.892Z"
   },
   {
    "duration": 24,
    "start_time": "2022-12-06T12:32:36.926Z"
   },
   {
    "duration": 3,
    "start_time": "2022-12-06T12:32:36.952Z"
   },
   {
    "duration": 11,
    "start_time": "2022-12-06T12:32:36.956Z"
   },
   {
    "duration": 14,
    "start_time": "2022-12-06T12:32:36.969Z"
   },
   {
    "duration": 46,
    "start_time": "2022-12-06T12:32:36.985Z"
   },
   {
    "duration": 14,
    "start_time": "2022-12-06T12:32:37.032Z"
   },
   {
    "duration": 299,
    "start_time": "2022-12-06T12:32:37.048Z"
   },
   {
    "duration": 24,
    "start_time": "2022-12-06T12:32:37.349Z"
   },
   {
    "duration": 6,
    "start_time": "2022-12-06T12:32:37.374Z"
   },
   {
    "duration": 179,
    "start_time": "2022-12-06T12:32:37.382Z"
   },
   {
    "duration": 153,
    "start_time": "2022-12-06T12:32:37.563Z"
   },
   {
    "duration": 179,
    "start_time": "2022-12-06T12:32:37.717Z"
   },
   {
    "duration": 297,
    "start_time": "2022-12-06T12:32:37.898Z"
   },
   {
    "duration": 196,
    "start_time": "2022-12-06T12:32:38.197Z"
   },
   {
    "duration": 180,
    "start_time": "2022-12-06T12:32:38.394Z"
   },
   {
    "duration": 199,
    "start_time": "2022-12-06T12:32:38.575Z"
   },
   {
    "duration": 141,
    "start_time": "2022-12-06T12:32:38.776Z"
   },
   {
    "duration": 212,
    "start_time": "2022-12-06T12:32:38.923Z"
   },
   {
    "duration": 221,
    "start_time": "2022-12-06T12:32:39.137Z"
   },
   {
    "duration": 249,
    "start_time": "2022-12-06T12:32:39.359Z"
   },
   {
    "duration": 249,
    "start_time": "2022-12-06T12:32:39.610Z"
   },
   {
    "duration": 218,
    "start_time": "2022-12-06T12:32:39.861Z"
   },
   {
    "duration": 392,
    "start_time": "2022-12-06T12:32:40.081Z"
   },
   {
    "duration": 0,
    "start_time": "2022-12-06T12:32:40.475Z"
   },
   {
    "duration": 0,
    "start_time": "2022-12-06T12:32:40.476Z"
   },
   {
    "duration": 0,
    "start_time": "2022-12-06T12:32:40.477Z"
   },
   {
    "duration": 0,
    "start_time": "2022-12-06T12:32:40.478Z"
   },
   {
    "duration": 0,
    "start_time": "2022-12-06T12:32:40.479Z"
   },
   {
    "duration": 194,
    "start_time": "2022-12-06T12:33:42.940Z"
   },
   {
    "duration": 182,
    "start_time": "2022-12-06T12:37:16.642Z"
   },
   {
    "duration": 180,
    "start_time": "2022-12-06T12:38:08.451Z"
   },
   {
    "duration": 178,
    "start_time": "2022-12-06T12:39:59.049Z"
   },
   {
    "duration": 9,
    "start_time": "2022-12-06T12:41:07.948Z"
   },
   {
    "duration": 10,
    "start_time": "2022-12-06T12:41:33.006Z"
   },
   {
    "duration": 193,
    "start_time": "2022-12-06T12:41:44.545Z"
   },
   {
    "duration": 15,
    "start_time": "2022-12-06T12:43:50.946Z"
   },
   {
    "duration": 18,
    "start_time": "2022-12-06T12:44:06.716Z"
   },
   {
    "duration": 181,
    "start_time": "2022-12-06T12:44:20.316Z"
   },
   {
    "duration": 18,
    "start_time": "2022-12-06T12:45:04.425Z"
   },
   {
    "duration": 127,
    "start_time": "2022-12-06T12:45:20.026Z"
   },
   {
    "duration": 193,
    "start_time": "2022-12-06T12:45:23.618Z"
   },
   {
    "duration": 329,
    "start_time": "2022-12-06T12:45:37.514Z"
   },
   {
    "duration": 896,
    "start_time": "2022-12-06T12:47:49.417Z"
   },
   {
    "duration": 323,
    "start_time": "2022-12-06T12:48:23.220Z"
   },
   {
    "duration": 241,
    "start_time": "2022-12-06T12:49:26.658Z"
   },
   {
    "duration": 216,
    "start_time": "2022-12-06T12:49:37.905Z"
   },
   {
    "duration": 196,
    "start_time": "2022-12-06T12:49:42.380Z"
   },
   {
    "duration": 184,
    "start_time": "2022-12-06T12:49:49.337Z"
   },
   {
    "duration": 197,
    "start_time": "2022-12-06T12:50:00.685Z"
   },
   {
    "duration": 201,
    "start_time": "2022-12-06T12:50:12.636Z"
   },
   {
    "duration": 193,
    "start_time": "2022-12-06T12:50:22.446Z"
   },
   {
    "duration": 191,
    "start_time": "2022-12-06T12:51:52.788Z"
   },
   {
    "duration": 191,
    "start_time": "2022-12-06T12:52:12.732Z"
   },
   {
    "duration": 207,
    "start_time": "2022-12-06T12:52:20.641Z"
   },
   {
    "duration": 200,
    "start_time": "2022-12-06T12:52:27.430Z"
   },
   {
    "duration": 191,
    "start_time": "2022-12-06T12:52:38.875Z"
   },
   {
    "duration": 20,
    "start_time": "2022-12-06T12:54:09.108Z"
   },
   {
    "duration": 26,
    "start_time": "2022-12-06T12:54:30.066Z"
   },
   {
    "duration": 24,
    "start_time": "2022-12-06T12:54:35.547Z"
   },
   {
    "duration": 214,
    "start_time": "2022-12-06T12:54:48.254Z"
   },
   {
    "duration": 204,
    "start_time": "2022-12-06T12:56:39.056Z"
   },
   {
    "duration": 203,
    "start_time": "2022-12-06T12:57:04.619Z"
   },
   {
    "duration": 191,
    "start_time": "2022-12-06T12:57:41.665Z"
   },
   {
    "duration": 203,
    "start_time": "2022-12-06T12:58:41.200Z"
   },
   {
    "duration": 203,
    "start_time": "2022-12-06T12:59:08.546Z"
   },
   {
    "duration": 221,
    "start_time": "2022-12-06T12:59:33.680Z"
   },
   {
    "duration": 210,
    "start_time": "2022-12-06T13:00:06.104Z"
   },
   {
    "duration": 14,
    "start_time": "2022-12-06T13:02:38.849Z"
   },
   {
    "duration": 13,
    "start_time": "2022-12-06T13:03:01.607Z"
   },
   {
    "duration": 7326,
    "start_time": "2022-12-06T13:03:04.546Z"
   },
   {
    "duration": 238,
    "start_time": "2022-12-06T13:03:46.275Z"
   },
   {
    "duration": 301,
    "start_time": "2022-12-06T13:03:51.913Z"
   },
   {
    "duration": 461,
    "start_time": "2022-12-06T13:04:01.315Z"
   },
   {
    "duration": 435,
    "start_time": "2022-12-06T13:04:45.006Z"
   },
   {
    "duration": 408,
    "start_time": "2022-12-06T13:05:36.452Z"
   },
   {
    "duration": 431,
    "start_time": "2022-12-06T13:06:07.718Z"
   },
   {
    "duration": 73,
    "start_time": "2022-12-06T13:07:42.581Z"
   },
   {
    "duration": 466,
    "start_time": "2022-12-06T13:07:48.677Z"
   },
   {
    "duration": 409,
    "start_time": "2022-12-06T13:08:08.352Z"
   },
   {
    "duration": 423,
    "start_time": "2022-12-06T13:08:36.682Z"
   },
   {
    "duration": 459,
    "start_time": "2022-12-06T13:15:06.396Z"
   },
   {
    "duration": 448,
    "start_time": "2022-12-06T13:15:41.193Z"
   },
   {
    "duration": 488,
    "start_time": "2022-12-06T13:26:03.873Z"
   },
   {
    "duration": 324,
    "start_time": "2022-12-06T13:26:18.622Z"
   },
   {
    "duration": 324,
    "start_time": "2022-12-06T13:26:38.512Z"
   },
   {
    "duration": 1289,
    "start_time": "2022-12-06T13:28:11.921Z"
   },
   {
    "duration": 456,
    "start_time": "2022-12-06T13:31:06.309Z"
   },
   {
    "duration": 344,
    "start_time": "2022-12-06T13:31:40.930Z"
   },
   {
    "duration": 16,
    "start_time": "2022-12-06T13:32:11.340Z"
   },
   {
    "duration": 350,
    "start_time": "2022-12-06T13:32:19.671Z"
   },
   {
    "duration": 332,
    "start_time": "2022-12-06T13:33:10.974Z"
   },
   {
    "duration": 340,
    "start_time": "2022-12-06T13:33:24.867Z"
   },
   {
    "duration": 346,
    "start_time": "2022-12-06T13:34:19.122Z"
   },
   {
    "duration": 417,
    "start_time": "2022-12-06T13:34:23.968Z"
   },
   {
    "duration": 326,
    "start_time": "2022-12-06T13:34:52.279Z"
   },
   {
    "duration": 157,
    "start_time": "2022-12-06T13:37:38.012Z"
   },
   {
    "duration": 153,
    "start_time": "2022-12-06T13:37:59.145Z"
   },
   {
    "duration": 366,
    "start_time": "2022-12-06T13:38:23.550Z"
   },
   {
    "duration": 170,
    "start_time": "2022-12-06T13:39:02.725Z"
   },
   {
    "duration": 1364,
    "start_time": "2022-12-06T13:42:18.693Z"
   },
   {
    "duration": 45,
    "start_time": "2022-12-06T13:42:20.060Z"
   },
   {
    "duration": 32,
    "start_time": "2022-12-06T13:42:20.107Z"
   },
   {
    "duration": 2187,
    "start_time": "2022-12-06T13:42:20.141Z"
   },
   {
    "duration": 10,
    "start_time": "2022-12-06T13:42:22.329Z"
   },
   {
    "duration": 30,
    "start_time": "2022-12-06T13:42:22.342Z"
   },
   {
    "duration": 63,
    "start_time": "2022-12-06T13:42:22.374Z"
   },
   {
    "duration": 7,
    "start_time": "2022-12-06T13:42:22.439Z"
   },
   {
    "duration": 13,
    "start_time": "2022-12-06T13:42:22.447Z"
   },
   {
    "duration": 6,
    "start_time": "2022-12-06T13:42:22.463Z"
   },
   {
    "duration": 11,
    "start_time": "2022-12-06T13:42:22.471Z"
   },
   {
    "duration": 49,
    "start_time": "2022-12-06T13:42:22.484Z"
   },
   {
    "duration": 10,
    "start_time": "2022-12-06T13:42:22.536Z"
   },
   {
    "duration": 6,
    "start_time": "2022-12-06T13:42:22.548Z"
   },
   {
    "duration": 17,
    "start_time": "2022-12-06T13:42:22.556Z"
   },
   {
    "duration": 4,
    "start_time": "2022-12-06T13:42:22.575Z"
   },
   {
    "duration": 42,
    "start_time": "2022-12-06T13:42:22.581Z"
   },
   {
    "duration": 6,
    "start_time": "2022-12-06T13:42:22.625Z"
   },
   {
    "duration": 9,
    "start_time": "2022-12-06T13:42:22.633Z"
   },
   {
    "duration": 180,
    "start_time": "2022-12-06T13:42:22.644Z"
   },
   {
    "duration": 6,
    "start_time": "2022-12-06T13:42:22.826Z"
   },
   {
    "duration": 34,
    "start_time": "2022-12-06T13:42:22.834Z"
   },
   {
    "duration": 6,
    "start_time": "2022-12-06T13:42:22.870Z"
   },
   {
    "duration": 13,
    "start_time": "2022-12-06T13:42:22.877Z"
   },
   {
    "duration": 14,
    "start_time": "2022-12-06T13:42:22.921Z"
   },
   {
    "duration": 16,
    "start_time": "2022-12-06T13:42:22.937Z"
   },
   {
    "duration": 10,
    "start_time": "2022-12-06T13:42:22.955Z"
   },
   {
    "duration": 9,
    "start_time": "2022-12-06T13:42:22.969Z"
   },
   {
    "duration": 72,
    "start_time": "2022-12-06T13:42:22.980Z"
   },
   {
    "duration": 13,
    "start_time": "2022-12-06T13:42:23.054Z"
   },
   {
    "duration": 12,
    "start_time": "2022-12-06T13:42:23.069Z"
   },
   {
    "duration": 26,
    "start_time": "2022-12-06T13:42:23.083Z"
   },
   {
    "duration": 17,
    "start_time": "2022-12-06T13:42:23.111Z"
   },
   {
    "duration": 15,
    "start_time": "2022-12-06T13:42:23.131Z"
   },
   {
    "duration": 315,
    "start_time": "2022-12-06T13:42:23.148Z"
   },
   {
    "duration": 25,
    "start_time": "2022-12-06T13:42:23.465Z"
   },
   {
    "duration": 6,
    "start_time": "2022-12-06T13:42:23.492Z"
   },
   {
    "duration": 284,
    "start_time": "2022-12-06T13:42:23.500Z"
   },
   {
    "duration": 190,
    "start_time": "2022-12-06T13:42:23.786Z"
   },
   {
    "duration": 250,
    "start_time": "2022-12-06T13:42:23.979Z"
   },
   {
    "duration": 351,
    "start_time": "2022-12-06T13:42:24.232Z"
   },
   {
    "duration": 215,
    "start_time": "2022-12-06T13:42:24.585Z"
   },
   {
    "duration": 210,
    "start_time": "2022-12-06T13:42:24.802Z"
   },
   {
    "duration": 220,
    "start_time": "2022-12-06T13:42:25.015Z"
   },
   {
    "duration": 159,
    "start_time": "2022-12-06T13:42:25.237Z"
   },
   {
    "duration": 301,
    "start_time": "2022-12-06T13:42:25.398Z"
   },
   {
    "duration": 234,
    "start_time": "2022-12-06T13:42:25.701Z"
   },
   {
    "duration": 220,
    "start_time": "2022-12-06T13:42:25.937Z"
   },
   {
    "duration": 324,
    "start_time": "2022-12-06T13:42:26.158Z"
   },
   {
    "duration": 204,
    "start_time": "2022-12-06T13:42:26.484Z"
   },
   {
    "duration": 376,
    "start_time": "2022-12-06T13:42:26.689Z"
   },
   {
    "duration": 0,
    "start_time": "2022-12-06T13:42:27.067Z"
   },
   {
    "duration": 0,
    "start_time": "2022-12-06T13:42:27.068Z"
   },
   {
    "duration": 0,
    "start_time": "2022-12-06T13:42:27.069Z"
   },
   {
    "duration": 0,
    "start_time": "2022-12-06T13:42:27.070Z"
   },
   {
    "duration": 0,
    "start_time": "2022-12-06T13:42:27.071Z"
   },
   {
    "duration": 0,
    "start_time": "2022-12-06T13:42:27.072Z"
   },
   {
    "duration": 0,
    "start_time": "2022-12-06T13:42:27.073Z"
   },
   {
    "duration": 0,
    "start_time": "2022-12-06T13:42:27.075Z"
   },
   {
    "duration": 168,
    "start_time": "2022-12-06T13:43:50.171Z"
   },
   {
    "duration": 1184,
    "start_time": "2022-12-06T13:46:31.824Z"
   },
   {
    "duration": 1145,
    "start_time": "2022-12-06T13:46:35.858Z"
   },
   {
    "duration": 22,
    "start_time": "2022-12-06T13:46:58.217Z"
   },
   {
    "duration": 153,
    "start_time": "2022-12-06T13:47:10.034Z"
   },
   {
    "duration": 341,
    "start_time": "2022-12-06T13:47:32.656Z"
   },
   {
    "duration": 406,
    "start_time": "2022-12-06T13:50:03.874Z"
   },
   {
    "duration": 476,
    "start_time": "2022-12-06T13:50:45.792Z"
   },
   {
    "duration": 176,
    "start_time": "2022-12-06T13:51:04.464Z"
   },
   {
    "duration": 4,
    "start_time": "2022-12-06T13:53:39.919Z"
   },
   {
    "duration": 7143,
    "start_time": "2022-12-06T13:53:52.199Z"
   },
   {
    "duration": 7386,
    "start_time": "2022-12-06T13:54:25.256Z"
   },
   {
    "duration": 7516,
    "start_time": "2022-12-06T13:55:30.963Z"
   },
   {
    "duration": 7210,
    "start_time": "2022-12-06T13:57:11.618Z"
   },
   {
    "duration": 7119,
    "start_time": "2022-12-06T13:59:46.583Z"
   },
   {
    "duration": 7614,
    "start_time": "2022-12-06T14:01:19.030Z"
   },
   {
    "duration": 18,
    "start_time": "2022-12-06T14:07:14.199Z"
   },
   {
    "duration": 138,
    "start_time": "2022-12-06T14:08:06.288Z"
   },
   {
    "duration": 5646,
    "start_time": "2022-12-06T14:08:18.769Z"
   },
   {
    "duration": 7143,
    "start_time": "2022-12-06T14:09:16.547Z"
   },
   {
    "duration": 5770,
    "start_time": "2022-12-06T14:09:23.692Z"
   },
   {
    "duration": 6980,
    "start_time": "2022-12-06T14:20:18.910Z"
   },
   {
    "duration": 5024,
    "start_time": "2022-12-06T14:21:13.966Z"
   },
   {
    "duration": 203,
    "start_time": "2022-12-06T14:21:48.629Z"
   },
   {
    "duration": 29,
    "start_time": "2022-12-06T14:25:40.989Z"
   },
   {
    "duration": 34,
    "start_time": "2022-12-06T14:25:50.999Z"
   },
   {
    "duration": 1248,
    "start_time": "2022-12-06T14:26:34.815Z"
   },
   {
    "duration": 203,
    "start_time": "2022-12-06T14:26:50.980Z"
   },
   {
    "duration": 185,
    "start_time": "2022-12-06T14:33:17.195Z"
   },
   {
    "duration": 72,
    "start_time": "2022-12-06T14:47:01.375Z"
   },
   {
    "duration": 10,
    "start_time": "2022-12-06T14:47:19.643Z"
   },
   {
    "duration": 10,
    "start_time": "2022-12-06T14:47:35.222Z"
   },
   {
    "duration": 10,
    "start_time": "2022-12-06T14:47:47.936Z"
   },
   {
    "duration": 10,
    "start_time": "2022-12-06T14:48:27.965Z"
   },
   {
    "duration": 29,
    "start_time": "2022-12-06T14:48:39.991Z"
   },
   {
    "duration": 16,
    "start_time": "2022-12-06T14:49:01.604Z"
   },
   {
    "duration": 16,
    "start_time": "2022-12-06T14:49:09.989Z"
   },
   {
    "duration": 25,
    "start_time": "2022-12-06T14:49:13.584Z"
   },
   {
    "duration": 24,
    "start_time": "2022-12-06T14:49:21.383Z"
   },
   {
    "duration": 16,
    "start_time": "2022-12-06T14:49:29.899Z"
   },
   {
    "duration": 27,
    "start_time": "2022-12-06T14:50:03.995Z"
   },
   {
    "duration": 11,
    "start_time": "2022-12-06T14:50:30.957Z"
   },
   {
    "duration": 6,
    "start_time": "2022-12-06T14:50:34.568Z"
   },
   {
    "duration": 11,
    "start_time": "2022-12-06T14:51:06.368Z"
   },
   {
    "duration": 13,
    "start_time": "2022-12-06T14:51:14.943Z"
   },
   {
    "duration": 6,
    "start_time": "2022-12-06T14:51:23.187Z"
   },
   {
    "duration": 21,
    "start_time": "2022-12-06T14:56:59.206Z"
   },
   {
    "duration": 14,
    "start_time": "2022-12-06T14:57:23.309Z"
   },
   {
    "duration": 23,
    "start_time": "2022-12-06T14:59:22.998Z"
   },
   {
    "duration": 29,
    "start_time": "2022-12-06T15:02:51.240Z"
   },
   {
    "duration": 27,
    "start_time": "2022-12-06T15:03:28.107Z"
   },
   {
    "duration": 26,
    "start_time": "2022-12-06T15:03:32.076Z"
   },
   {
    "duration": 32,
    "start_time": "2022-12-06T15:03:43.837Z"
   },
   {
    "duration": 6,
    "start_time": "2022-12-06T15:07:01.340Z"
   },
   {
    "duration": 12,
    "start_time": "2022-12-06T15:10:05.778Z"
   },
   {
    "duration": 133,
    "start_time": "2022-12-06T15:14:29.590Z"
   },
   {
    "duration": 11,
    "start_time": "2022-12-06T15:14:39.609Z"
   },
   {
    "duration": 110,
    "start_time": "2022-12-06T15:15:29.995Z"
   },
   {
    "duration": 10,
    "start_time": "2022-12-06T15:15:33.008Z"
   },
   {
    "duration": 8,
    "start_time": "2022-12-06T15:18:09.046Z"
   },
   {
    "duration": 5,
    "start_time": "2022-12-06T15:23:55.521Z"
   },
   {
    "duration": 76,
    "start_time": "2022-12-06T15:24:07.755Z"
   },
   {
    "duration": 1162,
    "start_time": "2022-12-06T15:24:32.445Z"
   },
   {
    "duration": 1161,
    "start_time": "2022-12-06T15:25:00.422Z"
   },
   {
    "duration": 31,
    "start_time": "2022-12-06T15:30:40.732Z"
   },
   {
    "duration": 28,
    "start_time": "2022-12-06T15:31:11.588Z"
   },
   {
    "duration": 4,
    "start_time": "2022-12-06T15:32:03.520Z"
   },
   {
    "duration": 4,
    "start_time": "2022-12-06T15:32:07.343Z"
   },
   {
    "duration": 15,
    "start_time": "2022-12-06T15:33:48.857Z"
   },
   {
    "duration": 14,
    "start_time": "2022-12-06T15:34:00.247Z"
   },
   {
    "duration": 162,
    "start_time": "2022-12-06T15:34:52.311Z"
   },
   {
    "duration": 157,
    "start_time": "2022-12-06T15:38:11.371Z"
   },
   {
    "duration": 156,
    "start_time": "2022-12-06T15:39:43.585Z"
   },
   {
    "duration": 1274,
    "start_time": "2022-12-06T15:41:47.352Z"
   },
   {
    "duration": 42,
    "start_time": "2022-12-06T15:41:48.627Z"
   },
   {
    "duration": 15,
    "start_time": "2022-12-06T15:41:48.671Z"
   },
   {
    "duration": 2128,
    "start_time": "2022-12-06T15:41:48.688Z"
   },
   {
    "duration": 12,
    "start_time": "2022-12-06T15:41:50.818Z"
   },
   {
    "duration": 28,
    "start_time": "2022-12-06T15:41:50.831Z"
   },
   {
    "duration": 62,
    "start_time": "2022-12-06T15:41:50.861Z"
   },
   {
    "duration": 10,
    "start_time": "2022-12-06T15:41:50.925Z"
   },
   {
    "duration": 7,
    "start_time": "2022-12-06T15:41:50.936Z"
   },
   {
    "duration": 7,
    "start_time": "2022-12-06T15:41:50.946Z"
   },
   {
    "duration": 9,
    "start_time": "2022-12-06T15:41:50.954Z"
   },
   {
    "duration": 25,
    "start_time": "2022-12-06T15:41:50.965Z"
   },
   {
    "duration": 35,
    "start_time": "2022-12-06T15:41:50.992Z"
   },
   {
    "duration": 12,
    "start_time": "2022-12-06T15:41:51.028Z"
   },
   {
    "duration": 11,
    "start_time": "2022-12-06T15:41:51.041Z"
   },
   {
    "duration": 5,
    "start_time": "2022-12-06T15:41:51.053Z"
   },
   {
    "duration": 9,
    "start_time": "2022-12-06T15:41:51.060Z"
   },
   {
    "duration": 10,
    "start_time": "2022-12-06T15:41:51.071Z"
   },
   {
    "duration": 41,
    "start_time": "2022-12-06T15:41:51.083Z"
   },
   {
    "duration": 133,
    "start_time": "2022-12-06T15:41:51.126Z"
   },
   {
    "duration": 5,
    "start_time": "2022-12-06T15:41:51.260Z"
   },
   {
    "duration": 29,
    "start_time": "2022-12-06T15:41:51.267Z"
   },
   {
    "duration": 25,
    "start_time": "2022-12-06T15:41:51.298Z"
   },
   {
    "duration": 9,
    "start_time": "2022-12-06T15:41:51.325Z"
   },
   {
    "duration": 14,
    "start_time": "2022-12-06T15:41:51.335Z"
   },
   {
    "duration": 14,
    "start_time": "2022-12-06T15:41:51.350Z"
   },
   {
    "duration": 11,
    "start_time": "2022-12-06T15:41:51.366Z"
   },
   {
    "duration": 9,
    "start_time": "2022-12-06T15:41:51.381Z"
   },
   {
    "duration": 25,
    "start_time": "2022-12-06T15:41:51.422Z"
   },
   {
    "duration": 4,
    "start_time": "2022-12-06T15:41:51.449Z"
   },
   {
    "duration": 12,
    "start_time": "2022-12-06T15:41:51.455Z"
   },
   {
    "duration": 34,
    "start_time": "2022-12-06T15:41:51.469Z"
   },
   {
    "duration": 28,
    "start_time": "2022-12-06T15:41:51.505Z"
   },
   {
    "duration": 15,
    "start_time": "2022-12-06T15:41:51.535Z"
   },
   {
    "duration": 337,
    "start_time": "2022-12-06T15:41:51.552Z"
   },
   {
    "duration": 37,
    "start_time": "2022-12-06T15:41:51.890Z"
   },
   {
    "duration": 5,
    "start_time": "2022-12-06T15:41:51.929Z"
   },
   {
    "duration": 187,
    "start_time": "2022-12-06T15:41:51.935Z"
   },
   {
    "duration": 169,
    "start_time": "2022-12-06T15:41:52.123Z"
   },
   {
    "duration": 170,
    "start_time": "2022-12-06T15:41:52.294Z"
   },
   {
    "duration": 309,
    "start_time": "2022-12-06T15:41:52.466Z"
   },
   {
    "duration": 215,
    "start_time": "2022-12-06T15:41:52.777Z"
   },
   {
    "duration": 218,
    "start_time": "2022-12-06T15:41:52.994Z"
   },
   {
    "duration": 211,
    "start_time": "2022-12-06T15:41:53.214Z"
   },
   {
    "duration": 149,
    "start_time": "2022-12-06T15:41:53.427Z"
   },
   {
    "duration": 245,
    "start_time": "2022-12-06T15:41:53.577Z"
   },
   {
    "duration": 216,
    "start_time": "2022-12-06T15:41:53.823Z"
   },
   {
    "duration": 227,
    "start_time": "2022-12-06T15:41:54.041Z"
   },
   {
    "duration": 272,
    "start_time": "2022-12-06T15:41:54.270Z"
   },
   {
    "duration": 196,
    "start_time": "2022-12-06T15:41:54.544Z"
   },
   {
    "duration": 274,
    "start_time": "2022-12-06T15:41:54.741Z"
   },
   {
    "duration": 259,
    "start_time": "2022-12-06T15:41:55.016Z"
   },
   {
    "duration": 5,
    "start_time": "2022-12-06T15:41:55.277Z"
   },
   {
    "duration": 7,
    "start_time": "2022-12-06T15:41:55.284Z"
   },
   {
    "duration": 38,
    "start_time": "2022-12-06T15:41:55.293Z"
   },
   {
    "duration": 6875,
    "start_time": "2022-12-06T15:41:55.333Z"
   },
   {
    "duration": 7160,
    "start_time": "2022-12-06T15:42:02.209Z"
   },
   {
    "duration": 7345,
    "start_time": "2022-12-06T15:42:09.371Z"
   },
   {
    "duration": 6635,
    "start_time": "2022-12-06T15:42:16.718Z"
   },
   {
    "duration": 186,
    "start_time": "2022-12-06T15:42:23.356Z"
   },
   {
    "duration": 6645,
    "start_time": "2022-12-06T15:42:23.543Z"
   },
   {
    "duration": 6691,
    "start_time": "2022-12-06T15:42:30.190Z"
   },
   {
    "duration": 6768,
    "start_time": "2022-12-06T15:42:36.883Z"
   },
   {
    "duration": 5,
    "start_time": "2022-12-06T15:42:43.653Z"
   },
   {
    "duration": 252,
    "start_time": "2022-12-06T15:42:43.695Z"
   },
   {
    "duration": 0,
    "start_time": "2022-12-06T15:42:43.950Z"
   },
   {
    "duration": 154,
    "start_time": "2022-12-06T15:44:30.488Z"
   },
   {
    "duration": 135,
    "start_time": "2022-12-06T15:45:26.837Z"
   },
   {
    "duration": 154,
    "start_time": "2022-12-06T15:45:39.666Z"
   },
   {
    "duration": 12,
    "start_time": "2022-12-06T15:45:57.781Z"
   },
   {
    "duration": 147,
    "start_time": "2022-12-06T15:46:13.382Z"
   },
   {
    "duration": 11,
    "start_time": "2022-12-06T15:46:43.230Z"
   },
   {
    "duration": 140,
    "start_time": "2022-12-06T15:49:22.845Z"
   },
   {
    "duration": 153,
    "start_time": "2022-12-06T15:50:24.422Z"
   },
   {
    "duration": 146,
    "start_time": "2022-12-06T15:51:38.676Z"
   },
   {
    "duration": 156,
    "start_time": "2022-12-06T15:52:38.025Z"
   },
   {
    "duration": 138,
    "start_time": "2022-12-06T15:54:08.270Z"
   },
   {
    "duration": 147,
    "start_time": "2022-12-06T15:54:49.355Z"
   },
   {
    "duration": 150,
    "start_time": "2022-12-06T15:55:55.103Z"
   },
   {
    "duration": 167,
    "start_time": "2022-12-06T15:56:14.075Z"
   },
   {
    "duration": 168,
    "start_time": "2022-12-06T16:01:25.172Z"
   },
   {
    "duration": 187,
    "start_time": "2022-12-06T16:01:40.778Z"
   },
   {
    "duration": 1251,
    "start_time": "2022-12-06T16:06:14.704Z"
   },
   {
    "duration": 197,
    "start_time": "2022-12-06T16:06:42.219Z"
   },
   {
    "duration": 5,
    "start_time": "2022-12-06T16:09:59.215Z"
   },
   {
    "duration": 1150,
    "start_time": "2022-12-06T16:10:16.800Z"
   },
   {
    "duration": 13,
    "start_time": "2022-12-06T16:11:07.103Z"
   },
   {
    "duration": 4,
    "start_time": "2022-12-06T16:11:23.781Z"
   },
   {
    "duration": 1119,
    "start_time": "2022-12-06T16:11:27.363Z"
   },
   {
    "duration": 4,
    "start_time": "2022-12-06T16:12:31.798Z"
   },
   {
    "duration": 8,
    "start_time": "2022-12-06T16:12:34.931Z"
   },
   {
    "duration": 5,
    "start_time": "2022-12-06T16:12:38.781Z"
   },
   {
    "duration": 1245,
    "start_time": "2022-12-06T16:13:18.695Z"
   },
   {
    "duration": 6,
    "start_time": "2022-12-06T16:13:28.168Z"
   },
   {
    "duration": 10,
    "start_time": "2022-12-06T16:14:39.790Z"
   },
   {
    "duration": 9,
    "start_time": "2022-12-06T16:15:19.669Z"
   },
   {
    "duration": 10,
    "start_time": "2022-12-06T16:15:31.234Z"
   },
   {
    "duration": 8,
    "start_time": "2022-12-06T16:15:51.607Z"
   },
   {
    "duration": 10,
    "start_time": "2022-12-06T16:15:59.513Z"
   },
   {
    "duration": 9,
    "start_time": "2022-12-06T16:22:48.141Z"
   },
   {
    "duration": 112,
    "start_time": "2022-12-06T16:26:32.133Z"
   },
   {
    "duration": 72,
    "start_time": "2022-12-06T16:27:50.478Z"
   },
   {
    "duration": 76,
    "start_time": "2022-12-06T16:27:53.335Z"
   },
   {
    "duration": 184,
    "start_time": "2022-12-06T16:27:58.902Z"
   },
   {
    "duration": 161,
    "start_time": "2022-12-06T16:33:49.783Z"
   },
   {
    "duration": 219,
    "start_time": "2022-12-06T16:33:58.233Z"
   },
   {
    "duration": 207,
    "start_time": "2022-12-06T16:35:26.667Z"
   },
   {
    "duration": 26385,
    "start_time": "2022-12-06T16:38:44.048Z"
   },
   {
    "duration": 26629,
    "start_time": "2022-12-06T16:39:24.303Z"
   },
   {
    "duration": 1251,
    "start_time": "2022-12-06T16:40:08.180Z"
   },
   {
    "duration": 42,
    "start_time": "2022-12-06T16:40:09.434Z"
   },
   {
    "duration": 24,
    "start_time": "2022-12-06T16:40:09.478Z"
   },
   {
    "duration": 2127,
    "start_time": "2022-12-06T16:40:09.521Z"
   },
   {
    "duration": 15,
    "start_time": "2022-12-06T16:40:11.650Z"
   },
   {
    "duration": 27,
    "start_time": "2022-12-06T16:40:11.667Z"
   },
   {
    "duration": 38,
    "start_time": "2022-12-06T16:40:11.696Z"
   },
   {
    "duration": 8,
    "start_time": "2022-12-06T16:40:11.737Z"
   },
   {
    "duration": 7,
    "start_time": "2022-12-06T16:40:11.747Z"
   },
   {
    "duration": 9,
    "start_time": "2022-12-06T16:40:11.758Z"
   },
   {
    "duration": 8,
    "start_time": "2022-12-06T16:40:11.769Z"
   },
   {
    "duration": 56,
    "start_time": "2022-12-06T16:40:11.779Z"
   },
   {
    "duration": 9,
    "start_time": "2022-12-06T16:40:11.837Z"
   },
   {
    "duration": 12,
    "start_time": "2022-12-06T16:40:11.848Z"
   },
   {
    "duration": 8,
    "start_time": "2022-12-06T16:40:11.862Z"
   },
   {
    "duration": 5,
    "start_time": "2022-12-06T16:40:11.872Z"
   },
   {
    "duration": 8,
    "start_time": "2022-12-06T16:40:11.879Z"
   },
   {
    "duration": 7,
    "start_time": "2022-12-06T16:40:11.923Z"
   },
   {
    "duration": 9,
    "start_time": "2022-12-06T16:40:11.931Z"
   },
   {
    "duration": 143,
    "start_time": "2022-12-06T16:40:11.942Z"
   },
   {
    "duration": 6,
    "start_time": "2022-12-06T16:40:12.087Z"
   },
   {
    "duration": 38,
    "start_time": "2022-12-06T16:40:12.095Z"
   },
   {
    "duration": 6,
    "start_time": "2022-12-06T16:40:12.135Z"
   },
   {
    "duration": 9,
    "start_time": "2022-12-06T16:40:12.143Z"
   },
   {
    "duration": 13,
    "start_time": "2022-12-06T16:40:12.154Z"
   },
   {
    "duration": 16,
    "start_time": "2022-12-06T16:40:12.169Z"
   },
   {
    "duration": 39,
    "start_time": "2022-12-06T16:40:12.187Z"
   },
   {
    "duration": 10,
    "start_time": "2022-12-06T16:40:12.230Z"
   },
   {
    "duration": 24,
    "start_time": "2022-12-06T16:40:12.242Z"
   },
   {
    "duration": 4,
    "start_time": "2022-12-06T16:40:12.267Z"
   },
   {
    "duration": 13,
    "start_time": "2022-12-06T16:40:12.273Z"
   },
   {
    "duration": 15,
    "start_time": "2022-12-06T16:40:12.322Z"
   },
   {
    "duration": 13,
    "start_time": "2022-12-06T16:40:12.339Z"
   },
   {
    "duration": 13,
    "start_time": "2022-12-06T16:40:12.354Z"
   },
   {
    "duration": 326,
    "start_time": "2022-12-06T16:40:12.369Z"
   },
   {
    "duration": 33,
    "start_time": "2022-12-06T16:40:12.697Z"
   },
   {
    "duration": 4,
    "start_time": "2022-12-06T16:40:12.732Z"
   },
   {
    "duration": 195,
    "start_time": "2022-12-06T16:40:12.738Z"
   },
   {
    "duration": 177,
    "start_time": "2022-12-06T16:40:12.935Z"
   },
   {
    "duration": 183,
    "start_time": "2022-12-06T16:40:13.114Z"
   },
   {
    "duration": 322,
    "start_time": "2022-12-06T16:40:13.299Z"
   },
   {
    "duration": 212,
    "start_time": "2022-12-06T16:40:13.623Z"
   },
   {
    "duration": 211,
    "start_time": "2022-12-06T16:40:13.837Z"
   },
   {
    "duration": 267,
    "start_time": "2022-12-06T16:40:14.050Z"
   },
   {
    "duration": 147,
    "start_time": "2022-12-06T16:40:14.320Z"
   },
   {
    "duration": 243,
    "start_time": "2022-12-06T16:40:14.468Z"
   },
   {
    "duration": 219,
    "start_time": "2022-12-06T16:40:14.713Z"
   },
   {
    "duration": 221,
    "start_time": "2022-12-06T16:40:14.934Z"
   },
   {
    "duration": 215,
    "start_time": "2022-12-06T16:40:15.157Z"
   },
   {
    "duration": 197,
    "start_time": "2022-12-06T16:40:15.374Z"
   },
   {
    "duration": 285,
    "start_time": "2022-12-06T16:40:15.573Z"
   },
   {
    "duration": 256,
    "start_time": "2022-12-06T16:40:15.860Z"
   },
   {
    "duration": 5,
    "start_time": "2022-12-06T16:40:16.118Z"
   },
   {
    "duration": 16,
    "start_time": "2022-12-06T16:40:16.125Z"
   },
   {
    "duration": 19,
    "start_time": "2022-12-06T16:40:16.143Z"
   },
   {
    "duration": 25800,
    "start_time": "2022-12-06T16:40:16.165Z"
   },
   {
    "duration": 6842,
    "start_time": "2022-12-06T16:40:41.967Z"
   },
   {
    "duration": 7283,
    "start_time": "2022-12-06T16:40:48.811Z"
   },
   {
    "duration": 7316,
    "start_time": "2022-12-06T16:40:56.096Z"
   },
   {
    "duration": 179,
    "start_time": "2022-12-06T16:41:03.421Z"
   },
   {
    "duration": 6614,
    "start_time": "2022-12-06T16:41:03.602Z"
   },
   {
    "duration": 6583,
    "start_time": "2022-12-06T16:41:10.221Z"
   },
   {
    "duration": 6783,
    "start_time": "2022-12-06T16:41:16.806Z"
   },
   {
    "duration": 5,
    "start_time": "2022-12-06T16:41:23.591Z"
   },
   {
    "duration": 25,
    "start_time": "2022-12-06T16:41:23.597Z"
   },
   {
    "duration": 9,
    "start_time": "2022-12-06T16:41:23.624Z"
   },
   {
    "duration": 113,
    "start_time": "2022-12-06T16:41:23.635Z"
   },
   {
    "duration": 30,
    "start_time": "2022-12-06T16:42:11.651Z"
   },
   {
    "duration": 198,
    "start_time": "2022-12-06T16:42:20.705Z"
   },
   {
    "duration": 7797,
    "start_time": "2022-12-06T16:43:21.141Z"
   },
   {
    "duration": 14,
    "start_time": "2022-12-06T16:45:37.486Z"
   },
   {
    "duration": 11,
    "start_time": "2022-12-06T16:50:10.998Z"
   },
   {
    "duration": 7,
    "start_time": "2022-12-06T16:51:09.358Z"
   },
   {
    "duration": 7,
    "start_time": "2022-12-06T16:51:19.764Z"
   },
   {
    "duration": 13,
    "start_time": "2022-12-06T16:51:32.189Z"
   },
   {
    "duration": 152,
    "start_time": "2022-12-06T16:52:39.551Z"
   },
   {
    "duration": 191,
    "start_time": "2022-12-06T16:53:21.323Z"
   },
   {
    "duration": 11,
    "start_time": "2022-12-06T16:57:57.681Z"
   },
   {
    "duration": 18,
    "start_time": "2022-12-06T17:00:30.974Z"
   },
   {
    "duration": 14,
    "start_time": "2022-12-06T17:01:05.351Z"
   },
   {
    "duration": 76,
    "start_time": "2022-12-06T17:01:10.644Z"
   },
   {
    "duration": 1217,
    "start_time": "2022-12-06T17:01:33.449Z"
   },
   {
    "duration": 1187,
    "start_time": "2022-12-06T17:01:47.205Z"
   },
   {
    "duration": 15,
    "start_time": "2022-12-06T17:09:20.211Z"
   },
   {
    "duration": 156,
    "start_time": "2022-12-06T17:12:43.304Z"
   },
   {
    "duration": 160,
    "start_time": "2022-12-06T17:13:05.137Z"
   },
   {
    "duration": 176,
    "start_time": "2022-12-06T17:13:54.524Z"
   },
   {
    "duration": 239,
    "start_time": "2022-12-06T17:14:02.530Z"
   },
   {
    "duration": 168,
    "start_time": "2022-12-06T17:15:01.106Z"
   },
   {
    "duration": 161,
    "start_time": "2022-12-06T17:15:25.497Z"
   },
   {
    "duration": 189,
    "start_time": "2022-12-06T17:22:59.641Z"
   },
   {
    "duration": 163,
    "start_time": "2022-12-06T17:24:00.978Z"
   },
   {
    "duration": 163,
    "start_time": "2022-12-06T17:24:05.193Z"
   },
   {
    "duration": 269,
    "start_time": "2022-12-06T17:24:12.502Z"
   },
   {
    "duration": 162,
    "start_time": "2022-12-06T17:24:52.853Z"
   },
   {
    "duration": 5,
    "start_time": "2022-12-06T17:29:46.685Z"
   },
   {
    "duration": 1411,
    "start_time": "2022-12-06T17:29:52.506Z"
   },
   {
    "duration": 1253,
    "start_time": "2022-12-06T17:30:39.475Z"
   },
   {
    "duration": 1152,
    "start_time": "2022-12-06T17:30:48.006Z"
   },
   {
    "duration": 1080,
    "start_time": "2022-12-06T17:31:37.149Z"
   },
   {
    "duration": 159,
    "start_time": "2022-12-06T17:33:03.361Z"
   },
   {
    "duration": 149,
    "start_time": "2022-12-06T17:33:07.994Z"
   },
   {
    "duration": 153,
    "start_time": "2022-12-06T17:33:12.058Z"
   },
   {
    "duration": 66,
    "start_time": "2022-12-06T17:37:51.473Z"
   },
   {
    "duration": 68,
    "start_time": "2022-12-06T17:38:06.652Z"
   },
   {
    "duration": 313,
    "start_time": "2022-12-06T17:38:23.595Z"
   },
   {
    "duration": 235,
    "start_time": "2022-12-06T17:39:02.523Z"
   },
   {
    "duration": 196,
    "start_time": "2022-12-06T17:39:48.699Z"
   },
   {
    "duration": 199,
    "start_time": "2022-12-06T17:40:02.374Z"
   },
   {
    "duration": 213,
    "start_time": "2022-12-06T17:40:40.528Z"
   },
   {
    "duration": 218,
    "start_time": "2022-12-06T17:40:58.355Z"
   },
   {
    "duration": 68,
    "start_time": "2022-12-06T17:41:23.279Z"
   },
   {
    "duration": 82,
    "start_time": "2022-12-06T17:41:43.559Z"
   },
   {
    "duration": 204,
    "start_time": "2022-12-06T17:42:19.956Z"
   },
   {
    "duration": 200,
    "start_time": "2022-12-06T17:44:19.456Z"
   },
   {
    "duration": 210,
    "start_time": "2022-12-06T17:44:31.700Z"
   },
   {
    "duration": 4,
    "start_time": "2022-12-06T17:47:21.315Z"
   },
   {
    "duration": 203,
    "start_time": "2022-12-06T17:47:27.336Z"
   },
   {
    "duration": 206,
    "start_time": "2022-12-06T17:48:52.628Z"
   },
   {
    "duration": 201,
    "start_time": "2022-12-06T17:50:29.297Z"
   },
   {
    "duration": 293,
    "start_time": "2022-12-06T17:52:03.788Z"
   },
   {
    "duration": 1425,
    "start_time": "2022-12-06T17:53:53.085Z"
   },
   {
    "duration": 59,
    "start_time": "2022-12-06T17:53:54.512Z"
   },
   {
    "duration": 33,
    "start_time": "2022-12-06T17:53:54.573Z"
   },
   {
    "duration": 2295,
    "start_time": "2022-12-06T17:53:54.609Z"
   },
   {
    "duration": 10,
    "start_time": "2022-12-06T17:53:56.906Z"
   },
   {
    "duration": 37,
    "start_time": "2022-12-06T17:53:56.918Z"
   },
   {
    "duration": 28,
    "start_time": "2022-12-06T17:53:56.957Z"
   },
   {
    "duration": 7,
    "start_time": "2022-12-06T17:53:56.986Z"
   },
   {
    "duration": 31,
    "start_time": "2022-12-06T17:53:56.995Z"
   },
   {
    "duration": 16,
    "start_time": "2022-12-06T17:53:57.029Z"
   },
   {
    "duration": 22,
    "start_time": "2022-12-06T17:53:57.047Z"
   },
   {
    "duration": 25,
    "start_time": "2022-12-06T17:53:57.071Z"
   },
   {
    "duration": 10,
    "start_time": "2022-12-06T17:53:57.098Z"
   },
   {
    "duration": 32,
    "start_time": "2022-12-06T17:53:57.109Z"
   },
   {
    "duration": 24,
    "start_time": "2022-12-06T17:53:57.143Z"
   },
   {
    "duration": 19,
    "start_time": "2022-12-06T17:53:57.169Z"
   },
   {
    "duration": 20,
    "start_time": "2022-12-06T17:53:57.190Z"
   },
   {
    "duration": 20,
    "start_time": "2022-12-06T17:53:57.212Z"
   },
   {
    "duration": 17,
    "start_time": "2022-12-06T17:53:57.235Z"
   },
   {
    "duration": 142,
    "start_time": "2022-12-06T17:53:57.255Z"
   },
   {
    "duration": 6,
    "start_time": "2022-12-06T17:53:57.399Z"
   },
   {
    "duration": 32,
    "start_time": "2022-12-06T17:53:57.421Z"
   },
   {
    "duration": 9,
    "start_time": "2022-12-06T17:53:57.455Z"
   },
   {
    "duration": 29,
    "start_time": "2022-12-06T17:53:57.466Z"
   },
   {
    "duration": 28,
    "start_time": "2022-12-06T17:53:57.498Z"
   },
   {
    "duration": 19,
    "start_time": "2022-12-06T17:53:57.528Z"
   },
   {
    "duration": 37,
    "start_time": "2022-12-06T17:53:57.550Z"
   },
   {
    "duration": 14,
    "start_time": "2022-12-06T17:53:57.593Z"
   },
   {
    "duration": 41,
    "start_time": "2022-12-06T17:53:57.609Z"
   },
   {
    "duration": 14,
    "start_time": "2022-12-06T17:53:57.652Z"
   },
   {
    "duration": 31,
    "start_time": "2022-12-06T17:53:57.668Z"
   },
   {
    "duration": 46,
    "start_time": "2022-12-06T17:53:57.701Z"
   },
   {
    "duration": 30,
    "start_time": "2022-12-06T17:53:57.749Z"
   },
   {
    "duration": 32,
    "start_time": "2022-12-06T17:53:57.781Z"
   },
   {
    "duration": 316,
    "start_time": "2022-12-06T17:53:57.815Z"
   },
   {
    "duration": 24,
    "start_time": "2022-12-06T17:53:58.132Z"
   },
   {
    "duration": 14,
    "start_time": "2022-12-06T17:53:58.158Z"
   },
   {
    "duration": 185,
    "start_time": "2022-12-06T17:53:58.173Z"
   },
   {
    "duration": 180,
    "start_time": "2022-12-06T17:53:58.360Z"
   },
   {
    "duration": 191,
    "start_time": "2022-12-06T17:53:58.543Z"
   },
   {
    "duration": 315,
    "start_time": "2022-12-06T17:53:58.735Z"
   },
   {
    "duration": 206,
    "start_time": "2022-12-06T17:53:59.051Z"
   },
   {
    "duration": 199,
    "start_time": "2022-12-06T17:53:59.259Z"
   },
   {
    "duration": 226,
    "start_time": "2022-12-06T17:53:59.460Z"
   },
   {
    "duration": 168,
    "start_time": "2022-12-06T17:53:59.688Z"
   },
   {
    "duration": 242,
    "start_time": "2022-12-06T17:53:59.859Z"
   },
   {
    "duration": 214,
    "start_time": "2022-12-06T17:54:00.102Z"
   },
   {
    "duration": 245,
    "start_time": "2022-12-06T17:54:00.318Z"
   },
   {
    "duration": 302,
    "start_time": "2022-12-06T17:54:00.566Z"
   },
   {
    "duration": 220,
    "start_time": "2022-12-06T17:54:00.871Z"
   },
   {
    "duration": 286,
    "start_time": "2022-12-06T17:54:01.094Z"
   },
   {
    "duration": 249,
    "start_time": "2022-12-06T17:54:01.381Z"
   },
   {
    "duration": 4,
    "start_time": "2022-12-06T17:54:01.632Z"
   },
   {
    "duration": 36,
    "start_time": "2022-12-06T17:54:01.638Z"
   },
   {
    "duration": 51,
    "start_time": "2022-12-06T17:54:01.676Z"
   },
   {
    "duration": 241,
    "start_time": "2022-12-06T17:54:01.729Z"
   },
   {
    "duration": 227,
    "start_time": "2022-12-06T17:54:01.972Z"
   },
   {
    "duration": 228,
    "start_time": "2022-12-06T17:54:02.201Z"
   },
   {
    "duration": 266,
    "start_time": "2022-12-06T17:54:02.431Z"
   },
   {
    "duration": 188,
    "start_time": "2022-12-06T17:54:02.699Z"
   },
   {
    "duration": 6187,
    "start_time": "2022-12-06T17:54:02.888Z"
   },
   {
    "duration": 6359,
    "start_time": "2022-12-06T17:54:09.077Z"
   },
   {
    "duration": 6653,
    "start_time": "2022-12-06T17:54:15.437Z"
   },
   {
    "duration": 5,
    "start_time": "2022-12-06T17:54:22.092Z"
   },
   {
    "duration": 25,
    "start_time": "2022-12-06T17:54:22.098Z"
   },
   {
    "duration": 8,
    "start_time": "2022-12-06T17:54:22.126Z"
   },
   {
    "duration": 179,
    "start_time": "2022-12-06T17:54:22.136Z"
   },
   {
    "duration": 1279,
    "start_time": "2022-12-06T17:55:18.454Z"
   },
   {
    "duration": 43,
    "start_time": "2022-12-06T17:55:19.736Z"
   },
   {
    "duration": 42,
    "start_time": "2022-12-06T17:55:19.781Z"
   },
   {
    "duration": 2131,
    "start_time": "2022-12-06T17:55:19.826Z"
   },
   {
    "duration": 12,
    "start_time": "2022-12-06T17:55:21.959Z"
   },
   {
    "duration": 37,
    "start_time": "2022-12-06T17:55:21.973Z"
   },
   {
    "duration": 44,
    "start_time": "2022-12-06T17:55:22.012Z"
   },
   {
    "duration": 9,
    "start_time": "2022-12-06T17:55:22.058Z"
   },
   {
    "duration": 6,
    "start_time": "2022-12-06T17:55:22.069Z"
   },
   {
    "duration": 8,
    "start_time": "2022-12-06T17:55:22.079Z"
   },
   {
    "duration": 7,
    "start_time": "2022-12-06T17:55:22.122Z"
   },
   {
    "duration": 46,
    "start_time": "2022-12-06T17:55:22.132Z"
   },
   {
    "duration": 8,
    "start_time": "2022-12-06T17:55:22.180Z"
   },
   {
    "duration": 13,
    "start_time": "2022-12-06T17:55:22.189Z"
   },
   {
    "duration": 21,
    "start_time": "2022-12-06T17:55:22.204Z"
   },
   {
    "duration": 10,
    "start_time": "2022-12-06T17:55:22.227Z"
   },
   {
    "duration": 21,
    "start_time": "2022-12-06T17:55:22.239Z"
   },
   {
    "duration": 17,
    "start_time": "2022-12-06T17:55:22.262Z"
   },
   {
    "duration": 9,
    "start_time": "2022-12-06T17:55:22.280Z"
   },
   {
    "duration": 138,
    "start_time": "2022-12-06T17:55:22.291Z"
   },
   {
    "duration": 5,
    "start_time": "2022-12-06T17:55:22.431Z"
   },
   {
    "duration": 45,
    "start_time": "2022-12-06T17:55:22.438Z"
   },
   {
    "duration": 5,
    "start_time": "2022-12-06T17:55:22.485Z"
   },
   {
    "duration": 12,
    "start_time": "2022-12-06T17:55:22.492Z"
   },
   {
    "duration": 34,
    "start_time": "2022-12-06T17:55:22.506Z"
   },
   {
    "duration": 20,
    "start_time": "2022-12-06T17:55:22.542Z"
   },
   {
    "duration": 15,
    "start_time": "2022-12-06T17:55:22.564Z"
   },
   {
    "duration": 21,
    "start_time": "2022-12-06T17:55:22.583Z"
   },
   {
    "duration": 37,
    "start_time": "2022-12-06T17:55:22.607Z"
   },
   {
    "duration": 14,
    "start_time": "2022-12-06T17:55:22.646Z"
   },
   {
    "duration": 21,
    "start_time": "2022-12-06T17:55:22.662Z"
   },
   {
    "duration": 32,
    "start_time": "2022-12-06T17:55:22.685Z"
   },
   {
    "duration": 39,
    "start_time": "2022-12-06T17:55:22.719Z"
   },
   {
    "duration": 41,
    "start_time": "2022-12-06T17:55:22.760Z"
   },
   {
    "duration": 302,
    "start_time": "2022-12-06T17:55:22.803Z"
   },
   {
    "duration": 36,
    "start_time": "2022-12-06T17:55:23.107Z"
   },
   {
    "duration": 6,
    "start_time": "2022-12-06T17:55:23.145Z"
   },
   {
    "duration": 205,
    "start_time": "2022-12-06T17:55:23.153Z"
   },
   {
    "duration": 191,
    "start_time": "2022-12-06T17:55:23.360Z"
   },
   {
    "duration": 187,
    "start_time": "2022-12-06T17:55:23.553Z"
   },
   {
    "duration": 373,
    "start_time": "2022-12-06T17:55:23.742Z"
   },
   {
    "duration": 264,
    "start_time": "2022-12-06T17:55:24.117Z"
   },
   {
    "duration": 210,
    "start_time": "2022-12-06T17:55:24.383Z"
   },
   {
    "duration": 204,
    "start_time": "2022-12-06T17:55:24.594Z"
   },
   {
    "duration": 160,
    "start_time": "2022-12-06T17:55:24.800Z"
   },
   {
    "duration": 237,
    "start_time": "2022-12-06T17:55:24.962Z"
   },
   {
    "duration": 208,
    "start_time": "2022-12-06T17:55:25.202Z"
   },
   {
    "duration": 226,
    "start_time": "2022-12-06T17:55:25.412Z"
   },
   {
    "duration": 219,
    "start_time": "2022-12-06T17:55:25.640Z"
   },
   {
    "duration": 226,
    "start_time": "2022-12-06T17:55:25.861Z"
   },
   {
    "duration": 259,
    "start_time": "2022-12-06T17:55:26.089Z"
   },
   {
    "duration": 240,
    "start_time": "2022-12-06T17:55:26.350Z"
   },
   {
    "duration": 5,
    "start_time": "2022-12-06T17:55:26.591Z"
   },
   {
    "duration": 24,
    "start_time": "2022-12-06T17:55:26.598Z"
   },
   {
    "duration": 13,
    "start_time": "2022-12-06T17:55:26.625Z"
   },
   {
    "duration": 244,
    "start_time": "2022-12-06T17:55:26.639Z"
   },
   {
    "duration": 240,
    "start_time": "2022-12-06T17:55:26.885Z"
   },
   {
    "duration": 233,
    "start_time": "2022-12-06T17:55:27.127Z"
   },
   {
    "duration": 6567,
    "start_time": "2022-12-06T17:55:27.363Z"
   },
   {
    "duration": 267,
    "start_time": "2022-12-06T17:55:33.932Z"
   },
   {
    "duration": 7116,
    "start_time": "2022-12-06T17:55:34.201Z"
   },
   {
    "duration": 6810,
    "start_time": "2022-12-06T17:55:41.321Z"
   },
   {
    "duration": 6722,
    "start_time": "2022-12-06T17:55:48.133Z"
   },
   {
    "duration": 6,
    "start_time": "2022-12-06T17:55:54.857Z"
   },
   {
    "duration": 16,
    "start_time": "2022-12-06T17:55:54.865Z"
   },
   {
    "duration": 12,
    "start_time": "2022-12-06T17:55:54.883Z"
   },
   {
    "duration": 198,
    "start_time": "2022-12-06T17:55:54.897Z"
   },
   {
    "duration": 1339,
    "start_time": "2022-12-07T04:05:59.597Z"
   },
   {
    "duration": 46,
    "start_time": "2022-12-07T04:06:00.938Z"
   },
   {
    "duration": 36,
    "start_time": "2022-12-07T04:06:00.986Z"
   },
   {
    "duration": 2020,
    "start_time": "2022-12-07T04:06:01.024Z"
   },
   {
    "duration": 15,
    "start_time": "2022-12-07T04:06:03.046Z"
   },
   {
    "duration": 43,
    "start_time": "2022-12-07T04:06:03.063Z"
   },
   {
    "duration": 34,
    "start_time": "2022-12-07T04:06:03.108Z"
   },
   {
    "duration": 7,
    "start_time": "2022-12-07T04:06:03.143Z"
   },
   {
    "duration": 9,
    "start_time": "2022-12-07T04:06:03.151Z"
   },
   {
    "duration": 12,
    "start_time": "2022-12-07T04:06:03.162Z"
   },
   {
    "duration": 12,
    "start_time": "2022-12-07T04:06:03.175Z"
   },
   {
    "duration": 35,
    "start_time": "2022-12-07T04:06:03.189Z"
   },
   {
    "duration": 6,
    "start_time": "2022-12-07T04:06:03.226Z"
   },
   {
    "duration": 29,
    "start_time": "2022-12-07T04:06:03.233Z"
   },
   {
    "duration": 9,
    "start_time": "2022-12-07T04:06:03.264Z"
   },
   {
    "duration": 5,
    "start_time": "2022-12-07T04:06:03.274Z"
   },
   {
    "duration": 10,
    "start_time": "2022-12-07T04:06:03.281Z"
   },
   {
    "duration": 7,
    "start_time": "2022-12-07T04:06:03.292Z"
   },
   {
    "duration": 10,
    "start_time": "2022-12-07T04:06:03.301Z"
   },
   {
    "duration": 119,
    "start_time": "2022-12-07T04:06:03.321Z"
   },
   {
    "duration": 5,
    "start_time": "2022-12-07T04:06:03.442Z"
   },
   {
    "duration": 29,
    "start_time": "2022-12-07T04:06:03.448Z"
   },
   {
    "duration": 5,
    "start_time": "2022-12-07T04:06:03.478Z"
   },
   {
    "duration": 7,
    "start_time": "2022-12-07T04:06:03.485Z"
   },
   {
    "duration": 37,
    "start_time": "2022-12-07T04:06:03.494Z"
   },
   {
    "duration": 12,
    "start_time": "2022-12-07T04:06:03.533Z"
   },
   {
    "duration": 13,
    "start_time": "2022-12-07T04:06:03.547Z"
   },
   {
    "duration": 7,
    "start_time": "2022-12-07T04:06:03.564Z"
   },
   {
    "duration": 24,
    "start_time": "2022-12-07T04:06:03.573Z"
   },
   {
    "duration": 26,
    "start_time": "2022-12-07T04:06:03.598Z"
   },
   {
    "duration": 12,
    "start_time": "2022-12-07T04:06:03.626Z"
   },
   {
    "duration": 17,
    "start_time": "2022-12-07T04:06:03.639Z"
   },
   {
    "duration": 13,
    "start_time": "2022-12-07T04:06:03.657Z"
   },
   {
    "duration": 26,
    "start_time": "2022-12-07T04:06:03.671Z"
   },
   {
    "duration": 279,
    "start_time": "2022-12-07T04:06:03.698Z"
   },
   {
    "duration": 23,
    "start_time": "2022-12-07T04:06:03.978Z"
   },
   {
    "duration": 20,
    "start_time": "2022-12-07T04:06:04.002Z"
   },
   {
    "duration": 189,
    "start_time": "2022-12-07T04:06:04.023Z"
   },
   {
    "duration": 220,
    "start_time": "2022-12-07T04:06:04.214Z"
   },
   {
    "duration": 165,
    "start_time": "2022-12-07T04:06:04.436Z"
   },
   {
    "duration": 299,
    "start_time": "2022-12-07T04:06:04.603Z"
   },
   {
    "duration": 201,
    "start_time": "2022-12-07T04:06:04.904Z"
   },
   {
    "duration": 187,
    "start_time": "2022-12-07T04:06:05.108Z"
   },
   {
    "duration": 196,
    "start_time": "2022-12-07T04:06:05.298Z"
   },
   {
    "duration": 140,
    "start_time": "2022-12-07T04:06:05.496Z"
   },
   {
    "duration": 226,
    "start_time": "2022-12-07T04:06:05.638Z"
   },
   {
    "duration": 252,
    "start_time": "2022-12-07T04:06:05.866Z"
   },
   {
    "duration": 194,
    "start_time": "2022-12-07T04:06:06.121Z"
   },
   {
    "duration": 208,
    "start_time": "2022-12-07T04:06:06.317Z"
   },
   {
    "duration": 176,
    "start_time": "2022-12-07T04:06:06.527Z"
   },
   {
    "duration": 266,
    "start_time": "2022-12-07T04:06:06.705Z"
   },
   {
    "duration": 233,
    "start_time": "2022-12-07T04:06:06.973Z"
   },
   {
    "duration": 5,
    "start_time": "2022-12-07T04:06:07.208Z"
   },
   {
    "duration": 6,
    "start_time": "2022-12-07T04:06:07.221Z"
   },
   {
    "duration": 14,
    "start_time": "2022-12-07T04:06:07.229Z"
   },
   {
    "duration": 222,
    "start_time": "2022-12-07T04:06:07.245Z"
   },
   {
    "duration": 222,
    "start_time": "2022-12-07T04:06:07.469Z"
   },
   {
    "duration": 228,
    "start_time": "2022-12-07T04:06:07.692Z"
   },
   {
    "duration": 6031,
    "start_time": "2022-12-07T04:06:07.921Z"
   },
   {
    "duration": 5873,
    "start_time": "2022-12-07T04:10:58.663Z"
   },
   {
    "duration": 8514,
    "start_time": "2022-12-07T04:11:04.539Z"
   },
   {
    "duration": 5602,
    "start_time": "2022-12-07T04:11:13.055Z"
   },
   {
    "duration": 6,
    "start_time": "2022-12-07T04:11:18.658Z"
   },
   {
    "duration": 13,
    "start_time": "2022-12-07T04:11:18.665Z"
   },
   {
    "duration": 6,
    "start_time": "2022-12-07T04:11:18.680Z"
   },
   {
    "duration": 184,
    "start_time": "2022-12-07T04:11:18.688Z"
   },
   {
    "duration": 299992,
    "start_time": "2022-12-07T04:11:18.876Z"
   },
   {
    "duration": 180,
    "start_time": "2022-12-07T05:15:51.621Z"
   },
   {
    "duration": 208,
    "start_time": "2022-12-07T05:17:00.060Z"
   },
   {
    "duration": 199,
    "start_time": "2022-12-07T05:17:06.740Z"
   },
   {
    "duration": 207,
    "start_time": "2022-12-07T05:18:27.454Z"
   },
   {
    "duration": 80,
    "start_time": "2022-12-07T05:18:53.900Z"
   },
   {
    "duration": 210,
    "start_time": "2022-12-07T05:19:01.162Z"
   },
   {
    "duration": 222,
    "start_time": "2022-12-07T05:21:11.695Z"
   },
   {
    "duration": 221,
    "start_time": "2022-12-07T05:22:07.207Z"
   },
   {
    "duration": 234,
    "start_time": "2022-12-07T05:22:49.064Z"
   },
   {
    "duration": 263,
    "start_time": "2022-12-07T05:24:32.166Z"
   },
   {
    "duration": 222,
    "start_time": "2022-12-07T05:25:05.200Z"
   },
   {
    "duration": 477,
    "start_time": "2022-12-07T05:26:17.493Z"
   },
   {
    "duration": 212,
    "start_time": "2022-12-07T05:26:27.408Z"
   },
   {
    "duration": 411,
    "start_time": "2022-12-07T05:26:31.645Z"
   },
   {
    "duration": 221,
    "start_time": "2022-12-07T05:26:38.053Z"
   },
   {
    "duration": 245,
    "start_time": "2022-12-07T05:27:13.940Z"
   },
   {
    "duration": 230,
    "start_time": "2022-12-07T05:28:13.538Z"
   },
   {
    "duration": 45,
    "start_time": "2022-12-07T05:29:49.463Z"
   },
   {
    "duration": 59,
    "start_time": "2022-12-07T05:30:22.978Z"
   },
   {
    "duration": 39,
    "start_time": "2022-12-07T05:30:37.279Z"
   },
   {
    "duration": 251,
    "start_time": "2022-12-07T05:30:58.524Z"
   },
   {
    "duration": 409,
    "start_time": "2022-12-07T05:31:10.821Z"
   },
   {
    "duration": 258,
    "start_time": "2022-12-07T05:31:15.788Z"
   },
   {
    "duration": 217,
    "start_time": "2022-12-07T05:32:18.255Z"
   },
   {
    "duration": 224,
    "start_time": "2022-12-07T05:33:18.683Z"
   },
   {
    "duration": 228,
    "start_time": "2022-12-07T05:33:25.956Z"
   },
   {
    "duration": 246,
    "start_time": "2022-12-07T05:33:30.856Z"
   },
   {
    "duration": 170,
    "start_time": "2022-12-07T05:33:45.258Z"
   },
   {
    "duration": 273,
    "start_time": "2022-12-07T05:33:54.066Z"
   },
   {
    "duration": 175,
    "start_time": "2022-12-07T05:34:47.575Z"
   },
   {
    "duration": 176,
    "start_time": "2022-12-07T05:34:59.139Z"
   },
   {
    "duration": 178,
    "start_time": "2022-12-07T05:35:09.626Z"
   },
   {
    "duration": 211,
    "start_time": "2022-12-07T05:36:51.799Z"
   },
   {
    "duration": 207,
    "start_time": "2022-12-07T05:37:28.670Z"
   },
   {
    "duration": 235,
    "start_time": "2022-12-07T05:38:21.510Z"
   },
   {
    "duration": 163,
    "start_time": "2022-12-07T05:38:57.119Z"
   },
   {
    "duration": 215,
    "start_time": "2022-12-07T05:39:04.049Z"
   },
   {
    "duration": 221,
    "start_time": "2022-12-07T05:40:43.509Z"
   },
   {
    "duration": 239,
    "start_time": "2022-12-07T05:41:10.596Z"
   },
   {
    "duration": 211,
    "start_time": "2022-12-07T05:41:16.562Z"
   },
   {
    "duration": 234,
    "start_time": "2022-12-07T05:41:21.322Z"
   },
   {
    "duration": 208,
    "start_time": "2022-12-07T05:41:43.318Z"
   },
   {
    "duration": 219,
    "start_time": "2022-12-07T05:41:48.231Z"
   },
   {
    "duration": 247,
    "start_time": "2022-12-07T05:41:51.487Z"
   },
   {
    "duration": 258,
    "start_time": "2022-12-07T05:41:55.690Z"
   },
   {
    "duration": 219,
    "start_time": "2022-12-07T05:42:00.640Z"
   },
   {
    "duration": 244,
    "start_time": "2022-12-07T05:42:09.899Z"
   },
   {
    "duration": 231,
    "start_time": "2022-12-07T05:42:13.087Z"
   },
   {
    "duration": 219,
    "start_time": "2022-12-07T05:42:25.260Z"
   },
   {
    "duration": 231,
    "start_time": "2022-12-07T05:42:33.286Z"
   },
   {
    "duration": 223,
    "start_time": "2022-12-07T05:42:36.936Z"
   },
   {
    "duration": 238,
    "start_time": "2022-12-07T05:42:48.838Z"
   },
   {
    "duration": 225,
    "start_time": "2022-12-07T05:43:15.284Z"
   },
   {
    "duration": 235,
    "start_time": "2022-12-07T05:44:11.896Z"
   },
   {
    "duration": 226,
    "start_time": "2022-12-07T05:44:19.542Z"
   },
   {
    "duration": 237,
    "start_time": "2022-12-07T05:44:22.317Z"
   },
   {
    "duration": 236,
    "start_time": "2022-12-07T05:45:10.396Z"
   },
   {
    "duration": 203,
    "start_time": "2022-12-07T05:45:32.736Z"
   },
   {
    "duration": 249,
    "start_time": "2022-12-07T05:45:52.913Z"
   },
   {
    "duration": 249,
    "start_time": "2022-12-07T05:46:00.067Z"
   },
   {
    "duration": 235,
    "start_time": "2022-12-07T05:46:05.982Z"
   },
   {
    "duration": 241,
    "start_time": "2022-12-07T05:46:13.839Z"
   },
   {
    "duration": 236,
    "start_time": "2022-12-07T05:46:22.004Z"
   },
   {
    "duration": 229,
    "start_time": "2022-12-07T05:46:29.140Z"
   },
   {
    "duration": 244,
    "start_time": "2022-12-07T05:46:53.962Z"
   },
   {
    "duration": 242,
    "start_time": "2022-12-07T05:47:00.253Z"
   },
   {
    "duration": 226,
    "start_time": "2022-12-07T05:47:05.857Z"
   },
   {
    "duration": 230,
    "start_time": "2022-12-07T05:47:14.467Z"
   },
   {
    "duration": 225,
    "start_time": "2022-12-07T05:47:18.719Z"
   },
   {
    "duration": 233,
    "start_time": "2022-12-07T05:47:57.278Z"
   },
   {
    "duration": 219,
    "start_time": "2022-12-07T05:48:07.848Z"
   },
   {
    "duration": 270,
    "start_time": "2022-12-07T05:48:13.765Z"
   },
   {
    "duration": 236,
    "start_time": "2022-12-07T05:48:18.014Z"
   },
   {
    "duration": 245,
    "start_time": "2022-12-07T05:48:21.223Z"
   },
   {
    "duration": 240,
    "start_time": "2022-12-07T05:48:38.897Z"
   },
   {
    "duration": 292,
    "start_time": "2022-12-07T05:49:13.909Z"
   },
   {
    "duration": 236,
    "start_time": "2022-12-07T05:49:28.639Z"
   },
   {
    "duration": 237,
    "start_time": "2022-12-07T05:49:32.709Z"
   },
   {
    "duration": 211,
    "start_time": "2022-12-07T05:50:14.166Z"
   },
   {
    "duration": 245,
    "start_time": "2022-12-07T05:51:50.712Z"
   },
   {
    "duration": 253,
    "start_time": "2022-12-07T05:52:51.869Z"
   },
   {
    "duration": 1311,
    "start_time": "2022-12-07T05:54:43.610Z"
   },
   {
    "duration": 49,
    "start_time": "2022-12-07T05:54:44.926Z"
   },
   {
    "duration": 14,
    "start_time": "2022-12-07T05:54:44.977Z"
   },
   {
    "duration": 2159,
    "start_time": "2022-12-07T05:54:44.993Z"
   },
   {
    "duration": 9,
    "start_time": "2022-12-07T05:54:47.154Z"
   },
   {
    "duration": 26,
    "start_time": "2022-12-07T05:54:47.165Z"
   },
   {
    "duration": 27,
    "start_time": "2022-12-07T05:54:47.192Z"
   },
   {
    "duration": 8,
    "start_time": "2022-12-07T05:54:47.221Z"
   },
   {
    "duration": 21,
    "start_time": "2022-12-07T05:54:47.230Z"
   },
   {
    "duration": 8,
    "start_time": "2022-12-07T05:54:47.254Z"
   },
   {
    "duration": 7,
    "start_time": "2022-12-07T05:54:47.264Z"
   },
   {
    "duration": 19,
    "start_time": "2022-12-07T05:54:47.273Z"
   },
   {
    "duration": 39,
    "start_time": "2022-12-07T05:54:47.294Z"
   },
   {
    "duration": 5,
    "start_time": "2022-12-07T05:54:47.336Z"
   },
   {
    "duration": 10,
    "start_time": "2022-12-07T05:54:47.342Z"
   },
   {
    "duration": 5,
    "start_time": "2022-12-07T05:54:47.354Z"
   },
   {
    "duration": 6,
    "start_time": "2022-12-07T05:54:47.361Z"
   },
   {
    "duration": 27,
    "start_time": "2022-12-07T05:54:47.369Z"
   },
   {
    "duration": 22,
    "start_time": "2022-12-07T05:54:47.397Z"
   },
   {
    "duration": 142,
    "start_time": "2022-12-07T05:54:47.420Z"
   },
   {
    "duration": 4,
    "start_time": "2022-12-07T05:54:47.564Z"
   },
   {
    "duration": 55,
    "start_time": "2022-12-07T05:54:47.570Z"
   },
   {
    "duration": 17,
    "start_time": "2022-12-07T05:54:47.627Z"
   },
   {
    "duration": 31,
    "start_time": "2022-12-07T05:54:47.645Z"
   },
   {
    "duration": 23,
    "start_time": "2022-12-07T05:54:47.678Z"
   },
   {
    "duration": 55,
    "start_time": "2022-12-07T05:54:47.702Z"
   },
   {
    "duration": 22,
    "start_time": "2022-12-07T05:54:47.759Z"
   },
   {
    "duration": 19,
    "start_time": "2022-12-07T05:54:47.785Z"
   },
   {
    "duration": 37,
    "start_time": "2022-12-07T05:54:47.806Z"
   },
   {
    "duration": 18,
    "start_time": "2022-12-07T05:54:47.845Z"
   },
   {
    "duration": 17,
    "start_time": "2022-12-07T05:54:47.864Z"
   },
   {
    "duration": 27,
    "start_time": "2022-12-07T05:54:47.882Z"
   },
   {
    "duration": 40,
    "start_time": "2022-12-07T05:54:47.912Z"
   },
   {
    "duration": 14,
    "start_time": "2022-12-07T05:54:47.953Z"
   },
   {
    "duration": 341,
    "start_time": "2022-12-07T05:54:47.968Z"
   },
   {
    "duration": 35,
    "start_time": "2022-12-07T05:54:48.310Z"
   },
   {
    "duration": 5,
    "start_time": "2022-12-07T05:54:48.348Z"
   },
   {
    "duration": 195,
    "start_time": "2022-12-07T05:54:48.354Z"
   },
   {
    "duration": 171,
    "start_time": "2022-12-07T05:54:48.552Z"
   },
   {
    "duration": 199,
    "start_time": "2022-12-07T05:54:48.729Z"
   },
   {
    "duration": 358,
    "start_time": "2022-12-07T05:54:48.930Z"
   },
   {
    "duration": 278,
    "start_time": "2022-12-07T05:54:49.290Z"
   },
   {
    "duration": 209,
    "start_time": "2022-12-07T05:54:49.570Z"
   },
   {
    "duration": 228,
    "start_time": "2022-12-07T05:54:49.780Z"
   },
   {
    "duration": 166,
    "start_time": "2022-12-07T05:54:50.010Z"
   },
   {
    "duration": 237,
    "start_time": "2022-12-07T05:54:50.178Z"
   },
   {
    "duration": 217,
    "start_time": "2022-12-07T05:54:50.416Z"
   },
   {
    "duration": 227,
    "start_time": "2022-12-07T05:54:50.638Z"
   },
   {
    "duration": 222,
    "start_time": "2022-12-07T05:54:50.867Z"
   },
   {
    "duration": 198,
    "start_time": "2022-12-07T05:54:51.091Z"
   },
   {
    "duration": 268,
    "start_time": "2022-12-07T05:54:51.291Z"
   },
   {
    "duration": 306,
    "start_time": "2022-12-07T05:54:51.561Z"
   },
   {
    "duration": 6,
    "start_time": "2022-12-07T05:54:51.868Z"
   },
   {
    "duration": 14,
    "start_time": "2022-12-07T05:54:51.875Z"
   },
   {
    "duration": 15,
    "start_time": "2022-12-07T05:54:51.891Z"
   },
   {
    "duration": 253,
    "start_time": "2022-12-07T05:54:51.921Z"
   },
   {
    "duration": 229,
    "start_time": "2022-12-07T05:54:52.175Z"
   },
   {
    "duration": 267,
    "start_time": "2022-12-07T05:54:52.406Z"
   },
   {
    "duration": 266,
    "start_time": "2022-12-07T05:54:52.675Z"
   },
   {
    "duration": 191,
    "start_time": "2022-12-07T05:54:52.943Z"
   },
   {
    "duration": 238,
    "start_time": "2022-12-07T05:54:53.140Z"
   },
   {
    "duration": 6331,
    "start_time": "2022-12-07T05:54:53.380Z"
   },
   {
    "duration": 6859,
    "start_time": "2022-12-07T05:54:59.714Z"
   },
   {
    "duration": 6,
    "start_time": "2022-12-07T05:55:06.575Z"
   },
   {
    "duration": 29,
    "start_time": "2022-12-07T05:55:06.583Z"
   },
   {
    "duration": 10,
    "start_time": "2022-12-07T05:55:06.631Z"
   },
   {
    "duration": 192,
    "start_time": "2022-12-07T05:55:06.643Z"
   },
   {
    "duration": 254,
    "start_time": "2022-12-07T05:55:38.889Z"
   },
   {
    "duration": 272,
    "start_time": "2022-12-07T05:56:05.602Z"
   },
   {
    "duration": 236,
    "start_time": "2022-12-07T05:56:44.883Z"
   },
   {
    "duration": 243,
    "start_time": "2022-12-07T05:58:19.901Z"
   },
   {
    "duration": 201,
    "start_time": "2022-12-07T05:59:11.389Z"
   },
   {
    "duration": 214,
    "start_time": "2022-12-07T05:59:34.840Z"
   },
   {
    "duration": 230,
    "start_time": "2022-12-07T05:59:45.866Z"
   },
   {
    "duration": 253,
    "start_time": "2022-12-07T05:59:56.453Z"
   },
   {
    "duration": 218,
    "start_time": "2022-12-07T06:00:19.195Z"
   },
   {
    "duration": 240,
    "start_time": "2022-12-07T06:00:40.316Z"
   },
   {
    "duration": 5,
    "start_time": "2022-12-07T06:00:55.437Z"
   },
   {
    "duration": 238,
    "start_time": "2022-12-07T06:01:00.263Z"
   },
   {
    "duration": 208,
    "start_time": "2022-12-07T06:02:42.373Z"
   },
   {
    "duration": 12,
    "start_time": "2022-12-07T06:13:09.521Z"
   },
   {
    "duration": 10,
    "start_time": "2022-12-07T06:21:14.464Z"
   },
   {
    "duration": 629,
    "start_time": "2022-12-07T06:24:15.655Z"
   },
   {
    "duration": 7,
    "start_time": "2022-12-07T06:29:03.360Z"
   },
   {
    "duration": 71,
    "start_time": "2022-12-07T06:29:13.666Z"
   },
   {
    "duration": 6,
    "start_time": "2022-12-07T06:30:07.456Z"
   },
   {
    "duration": 6,
    "start_time": "2022-12-07T06:30:28.518Z"
   },
   {
    "duration": 6,
    "start_time": "2022-12-07T06:32:36.777Z"
   },
   {
    "duration": 6,
    "start_time": "2022-12-07T06:36:34.363Z"
   },
   {
    "duration": 6,
    "start_time": "2022-12-07T06:38:39.003Z"
   },
   {
    "duration": 84,
    "start_time": "2022-12-07T06:38:59.544Z"
   },
   {
    "duration": 215,
    "start_time": "2022-12-07T06:54:31.568Z"
   },
   {
    "duration": 7,
    "start_time": "2022-12-07T06:55:01.005Z"
   },
   {
    "duration": 6,
    "start_time": "2022-12-07T06:55:11.429Z"
   },
   {
    "duration": 199,
    "start_time": "2022-12-07T06:55:37.596Z"
   },
   {
    "duration": 7,
    "start_time": "2022-12-07T06:55:40.087Z"
   },
   {
    "duration": 11,
    "start_time": "2022-12-07T06:55:56.795Z"
   },
   {
    "duration": 11,
    "start_time": "2022-12-07T06:59:40.141Z"
   },
   {
    "duration": 10,
    "start_time": "2022-12-07T07:01:27.386Z"
   },
   {
    "duration": 8,
    "start_time": "2022-12-07T07:01:51.343Z"
   },
   {
    "duration": 8,
    "start_time": "2022-12-07T07:02:12.236Z"
   },
   {
    "duration": 74,
    "start_time": "2022-12-07T07:05:53.616Z"
   },
   {
    "duration": 5,
    "start_time": "2022-12-07T07:06:33.556Z"
   },
   {
    "duration": 12,
    "start_time": "2022-12-07T07:07:12.753Z"
   },
   {
    "duration": 40,
    "start_time": "2022-12-07T07:09:10.469Z"
   },
   {
    "duration": 47,
    "start_time": "2022-12-07T07:09:59.186Z"
   },
   {
    "duration": 18,
    "start_time": "2022-12-07T07:18:35.115Z"
   },
   {
    "duration": 52,
    "start_time": "2022-12-07T07:18:44.611Z"
   },
   {
    "duration": 12,
    "start_time": "2022-12-07T07:20:14.871Z"
   },
   {
    "duration": 14,
    "start_time": "2022-12-07T07:20:56.766Z"
   },
   {
    "duration": 12,
    "start_time": "2022-12-07T07:21:04.988Z"
   },
   {
    "duration": 13,
    "start_time": "2022-12-07T07:47:16.207Z"
   },
   {
    "duration": 99,
    "start_time": "2022-12-07T07:47:45.474Z"
   },
   {
    "duration": 70,
    "start_time": "2022-12-07T07:48:00.317Z"
   },
   {
    "duration": 69,
    "start_time": "2022-12-07T07:48:12.432Z"
   },
   {
    "duration": 15,
    "start_time": "2022-12-07T07:48:22.556Z"
   },
   {
    "duration": 9,
    "start_time": "2022-12-07T07:50:59.855Z"
   },
   {
    "duration": 10,
    "start_time": "2022-12-07T07:51:05.153Z"
   },
   {
    "duration": 11,
    "start_time": "2022-12-07T07:51:12.310Z"
   },
   {
    "duration": 44,
    "start_time": "2022-12-07T07:51:17.668Z"
   },
   {
    "duration": 14,
    "start_time": "2022-12-07T07:53:53.593Z"
   },
   {
    "duration": 15,
    "start_time": "2022-12-07T07:54:01.906Z"
   },
   {
    "duration": 14,
    "start_time": "2022-12-07T07:54:09.393Z"
   },
   {
    "duration": 73,
    "start_time": "2022-12-07T07:54:13.406Z"
   },
   {
    "duration": 15,
    "start_time": "2022-12-07T07:54:20.975Z"
   },
   {
    "duration": 76,
    "start_time": "2022-12-07T07:54:46.736Z"
   },
   {
    "duration": 36,
    "start_time": "2022-12-07T07:54:50.929Z"
   },
   {
    "duration": 13,
    "start_time": "2022-12-07T07:55:28.973Z"
   },
   {
    "duration": 10,
    "start_time": "2022-12-07T07:56:22.593Z"
   },
   {
    "duration": 9,
    "start_time": "2022-12-07T07:56:46.396Z"
   },
   {
    "duration": 10,
    "start_time": "2022-12-07T07:57:09.451Z"
   },
   {
    "duration": 12,
    "start_time": "2022-12-07T07:57:30.797Z"
   },
   {
    "duration": 9,
    "start_time": "2022-12-07T07:57:52.892Z"
   },
   {
    "duration": 16,
    "start_time": "2022-12-07T07:58:29.382Z"
   },
   {
    "duration": 16,
    "start_time": "2022-12-07T07:59:24.829Z"
   },
   {
    "duration": 16,
    "start_time": "2022-12-07T07:59:30.416Z"
   },
   {
    "duration": 16,
    "start_time": "2022-12-07T07:59:44.857Z"
   },
   {
    "duration": 10,
    "start_time": "2022-12-07T07:59:52.696Z"
   },
   {
    "duration": 13,
    "start_time": "2022-12-07T08:00:07.861Z"
   },
   {
    "duration": 15,
    "start_time": "2022-12-07T08:00:59.571Z"
   },
   {
    "duration": 15,
    "start_time": "2022-12-07T08:01:22.038Z"
   },
   {
    "duration": 16,
    "start_time": "2022-12-07T08:03:42.898Z"
   },
   {
    "duration": 14,
    "start_time": "2022-12-07T08:07:58.216Z"
   },
   {
    "duration": 11,
    "start_time": "2022-12-07T08:08:35.801Z"
   },
   {
    "duration": 10,
    "start_time": "2022-12-07T08:09:35.774Z"
   },
   {
    "duration": 13,
    "start_time": "2022-12-07T08:10:02.701Z"
   },
   {
    "duration": 12,
    "start_time": "2022-12-07T08:10:07.989Z"
   },
   {
    "duration": 13,
    "start_time": "2022-12-07T08:11:22.598Z"
   },
   {
    "duration": 25,
    "start_time": "2022-12-07T08:13:10.956Z"
   },
   {
    "duration": 12,
    "start_time": "2022-12-07T08:18:02.608Z"
   },
   {
    "duration": 10,
    "start_time": "2022-12-07T08:20:10.784Z"
   },
   {
    "duration": 10,
    "start_time": "2022-12-07T08:20:48.031Z"
   },
   {
    "duration": 163,
    "start_time": "2022-12-07T08:24:05.542Z"
   },
   {
    "duration": 11,
    "start_time": "2022-12-07T08:24:11.062Z"
   },
   {
    "duration": 132,
    "start_time": "2022-12-07T08:24:55.308Z"
   },
   {
    "duration": 81,
    "start_time": "2022-12-07T08:25:30.131Z"
   },
   {
    "duration": 72,
    "start_time": "2022-12-07T08:25:39.105Z"
   },
   {
    "duration": 137,
    "start_time": "2022-12-07T08:25:43.722Z"
   },
   {
    "duration": 131,
    "start_time": "2022-12-07T08:26:32.205Z"
   },
   {
    "duration": 135,
    "start_time": "2022-12-07T08:27:58.766Z"
   },
   {
    "duration": 149,
    "start_time": "2022-12-07T08:29:01.963Z"
   },
   {
    "duration": 166,
    "start_time": "2022-12-07T08:29:23.830Z"
   },
   {
    "duration": 193,
    "start_time": "2022-12-07T08:29:41.500Z"
   },
   {
    "duration": 168,
    "start_time": "2022-12-07T08:30:05.010Z"
   },
   {
    "duration": 34,
    "start_time": "2022-12-07T08:35:08.612Z"
   },
   {
    "duration": 173,
    "start_time": "2022-12-07T08:35:14.262Z"
   },
   {
    "duration": 10,
    "start_time": "2022-12-07T08:39:28.862Z"
   },
   {
    "duration": 13,
    "start_time": "2022-12-07T08:40:05.780Z"
   },
   {
    "duration": 10,
    "start_time": "2022-12-07T08:40:28.616Z"
   },
   {
    "duration": 10,
    "start_time": "2022-12-07T08:41:42.016Z"
   },
   {
    "duration": 12,
    "start_time": "2022-12-07T08:41:49.614Z"
   },
   {
    "duration": 23,
    "start_time": "2022-12-07T08:42:32.668Z"
   },
   {
    "duration": 29,
    "start_time": "2022-12-07T08:42:39.831Z"
   },
   {
    "duration": 31,
    "start_time": "2022-12-07T08:43:57.906Z"
   },
   {
    "duration": 28,
    "start_time": "2022-12-07T08:44:34.843Z"
   },
   {
    "duration": 22,
    "start_time": "2022-12-07T08:49:20.907Z"
   },
   {
    "duration": 203,
    "start_time": "2022-12-07T08:49:28.780Z"
   },
   {
    "duration": 11,
    "start_time": "2022-12-07T08:50:56.561Z"
   },
   {
    "duration": 26,
    "start_time": "2022-12-07T08:51:30.617Z"
   },
   {
    "duration": 41,
    "start_time": "2022-12-07T08:53:10.414Z"
   },
   {
    "duration": 29,
    "start_time": "2022-12-07T09:08:37.261Z"
   },
   {
    "duration": 22,
    "start_time": "2022-12-07T09:08:43.296Z"
   },
   {
    "duration": 36,
    "start_time": "2022-12-07T09:08:55.176Z"
   },
   {
    "duration": 24,
    "start_time": "2022-12-07T09:09:00.078Z"
   },
   {
    "duration": 11,
    "start_time": "2022-12-07T09:19:41.775Z"
   },
   {
    "duration": 14,
    "start_time": "2022-12-07T09:20:09.885Z"
   },
   {
    "duration": 17,
    "start_time": "2022-12-07T09:20:39.826Z"
   },
   {
    "duration": 14,
    "start_time": "2022-12-07T09:20:52.306Z"
   },
   {
    "duration": 82,
    "start_time": "2022-12-07T09:21:07.296Z"
   },
   {
    "duration": 78,
    "start_time": "2022-12-07T09:21:30.159Z"
   },
   {
    "duration": 235,
    "start_time": "2022-12-07T09:21:36.340Z"
   },
   {
    "duration": 677,
    "start_time": "2022-12-07T09:22:38.680Z"
   },
   {
    "duration": 251,
    "start_time": "2022-12-07T09:24:00.914Z"
   },
   {
    "duration": 244,
    "start_time": "2022-12-07T09:25:14.816Z"
   },
   {
    "duration": 240,
    "start_time": "2022-12-07T09:25:23.403Z"
   },
   {
    "duration": 223,
    "start_time": "2022-12-07T09:26:26.090Z"
   },
   {
    "duration": 224,
    "start_time": "2022-12-07T09:27:45.430Z"
   },
   {
    "duration": 237,
    "start_time": "2022-12-07T09:27:52.753Z"
   },
   {
    "duration": 227,
    "start_time": "2022-12-07T09:28:44.359Z"
   },
   {
    "duration": 226,
    "start_time": "2022-12-07T09:28:49.523Z"
   },
   {
    "duration": 234,
    "start_time": "2022-12-07T09:28:59.079Z"
   },
   {
    "duration": 238,
    "start_time": "2022-12-07T09:29:04.928Z"
   },
   {
    "duration": 1291,
    "start_time": "2022-12-07T09:29:40.731Z"
   },
   {
    "duration": 41,
    "start_time": "2022-12-07T09:29:42.024Z"
   },
   {
    "duration": 15,
    "start_time": "2022-12-07T09:29:42.067Z"
   },
   {
    "duration": 2036,
    "start_time": "2022-12-07T09:29:42.084Z"
   },
   {
    "duration": 13,
    "start_time": "2022-12-07T09:29:44.122Z"
   },
   {
    "duration": 37,
    "start_time": "2022-12-07T09:29:44.137Z"
   },
   {
    "duration": 60,
    "start_time": "2022-12-07T09:29:44.176Z"
   },
   {
    "duration": 9,
    "start_time": "2022-12-07T09:29:44.238Z"
   },
   {
    "duration": 23,
    "start_time": "2022-12-07T09:29:44.250Z"
   },
   {
    "duration": 12,
    "start_time": "2022-12-07T09:29:44.278Z"
   },
   {
    "duration": 34,
    "start_time": "2022-12-07T09:29:44.292Z"
   },
   {
    "duration": 19,
    "start_time": "2022-12-07T09:29:44.328Z"
   },
   {
    "duration": 8,
    "start_time": "2022-12-07T09:29:44.349Z"
   },
   {
    "duration": 10,
    "start_time": "2022-12-07T09:29:44.359Z"
   },
   {
    "duration": 8,
    "start_time": "2022-12-07T09:29:44.371Z"
   },
   {
    "duration": 43,
    "start_time": "2022-12-07T09:29:44.380Z"
   },
   {
    "duration": 6,
    "start_time": "2022-12-07T09:29:44.426Z"
   },
   {
    "duration": 16,
    "start_time": "2022-12-07T09:29:44.434Z"
   },
   {
    "duration": 12,
    "start_time": "2022-12-07T09:29:44.451Z"
   },
   {
    "duration": 140,
    "start_time": "2022-12-07T09:29:44.465Z"
   },
   {
    "duration": 5,
    "start_time": "2022-12-07T09:29:44.607Z"
   },
   {
    "duration": 35,
    "start_time": "2022-12-07T09:29:44.614Z"
   },
   {
    "duration": 8,
    "start_time": "2022-12-07T09:29:44.652Z"
   },
   {
    "duration": 21,
    "start_time": "2022-12-07T09:29:44.662Z"
   },
   {
    "duration": 37,
    "start_time": "2022-12-07T09:29:44.685Z"
   },
   {
    "duration": 31,
    "start_time": "2022-12-07T09:29:44.724Z"
   },
   {
    "duration": 34,
    "start_time": "2022-12-07T09:29:44.756Z"
   },
   {
    "duration": 22,
    "start_time": "2022-12-07T09:29:44.795Z"
   },
   {
    "duration": 33,
    "start_time": "2022-12-07T09:29:44.818Z"
   },
   {
    "duration": 10,
    "start_time": "2022-12-07T09:29:44.852Z"
   },
   {
    "duration": 30,
    "start_time": "2022-12-07T09:29:44.864Z"
   },
   {
    "duration": 33,
    "start_time": "2022-12-07T09:29:44.896Z"
   },
   {
    "duration": 29,
    "start_time": "2022-12-07T09:29:44.930Z"
   },
   {
    "duration": 23,
    "start_time": "2022-12-07T09:29:44.961Z"
   },
   {
    "duration": 279,
    "start_time": "2022-12-07T09:29:44.986Z"
   },
   {
    "duration": 23,
    "start_time": "2022-12-07T09:29:45.266Z"
   },
   {
    "duration": 4,
    "start_time": "2022-12-07T09:29:45.291Z"
   },
   {
    "duration": 190,
    "start_time": "2022-12-07T09:29:45.297Z"
   },
   {
    "duration": 160,
    "start_time": "2022-12-07T09:29:45.489Z"
   },
   {
    "duration": 186,
    "start_time": "2022-12-07T09:29:45.651Z"
   },
   {
    "duration": 310,
    "start_time": "2022-12-07T09:29:45.839Z"
   },
   {
    "duration": 197,
    "start_time": "2022-12-07T09:29:46.151Z"
   },
   {
    "duration": 182,
    "start_time": "2022-12-07T09:29:46.350Z"
   },
   {
    "duration": 200,
    "start_time": "2022-12-07T09:29:46.534Z"
   },
   {
    "duration": 149,
    "start_time": "2022-12-07T09:29:46.735Z"
   },
   {
    "duration": 232,
    "start_time": "2022-12-07T09:29:46.886Z"
   },
   {
    "duration": 202,
    "start_time": "2022-12-07T09:29:47.122Z"
   },
   {
    "duration": 218,
    "start_time": "2022-12-07T09:29:47.326Z"
   },
   {
    "duration": 213,
    "start_time": "2022-12-07T09:29:47.546Z"
   },
   {
    "duration": 191,
    "start_time": "2022-12-07T09:29:47.760Z"
   },
   {
    "duration": 259,
    "start_time": "2022-12-07T09:29:47.953Z"
   },
   {
    "duration": 250,
    "start_time": "2022-12-07T09:29:48.213Z"
   },
   {
    "duration": 3,
    "start_time": "2022-12-07T09:29:48.465Z"
   },
   {
    "duration": 7,
    "start_time": "2022-12-07T09:29:48.470Z"
   },
   {
    "duration": 13,
    "start_time": "2022-12-07T09:29:48.479Z"
   },
   {
    "duration": 259,
    "start_time": "2022-12-07T09:29:48.493Z"
   },
   {
    "duration": 6,
    "start_time": "2022-12-07T09:29:48.754Z"
   },
   {
    "duration": 237,
    "start_time": "2022-12-07T09:29:48.761Z"
   },
   {
    "duration": 22,
    "start_time": "2022-12-07T09:29:49.001Z"
   },
   {
    "duration": 252,
    "start_time": "2022-12-07T09:29:49.025Z"
   },
   {
    "duration": 6,
    "start_time": "2022-12-07T09:29:49.279Z"
   },
   {
    "duration": 250,
    "start_time": "2022-12-07T09:29:49.287Z"
   },
   {
    "duration": 6,
    "start_time": "2022-12-07T09:29:49.538Z"
   },
   {
    "duration": 203,
    "start_time": "2022-12-07T09:29:49.545Z"
   },
   {
    "duration": 245,
    "start_time": "2022-12-07T09:29:49.750Z"
   },
   {
    "duration": 5,
    "start_time": "2022-12-07T09:29:49.997Z"
   },
   {
    "duration": 252,
    "start_time": "2022-12-07T09:29:50.004Z"
   },
   {
    "duration": 7,
    "start_time": "2022-12-07T09:29:50.258Z"
   },
   {
    "duration": 239,
    "start_time": "2022-12-07T09:29:50.267Z"
   },
   {
    "duration": 15,
    "start_time": "2022-12-07T09:29:50.508Z"
   },
   {
    "duration": 20,
    "start_time": "2022-12-07T09:29:50.525Z"
   },
   {
    "duration": 21,
    "start_time": "2022-12-07T09:29:50.547Z"
   },
   {
    "duration": 24,
    "start_time": "2022-12-07T09:29:50.570Z"
   },
   {
    "duration": 215,
    "start_time": "2022-12-07T09:29:50.597Z"
   },
   {
    "duration": 20,
    "start_time": "2022-12-07T09:29:50.814Z"
   },
   {
    "duration": 183,
    "start_time": "2022-12-07T09:29:50.836Z"
   },
   {
    "duration": 247,
    "start_time": "2022-12-07T09:29:51.023Z"
   },
   {
    "duration": 12,
    "start_time": "2022-12-07T09:29:51.272Z"
   },
   {
    "duration": 48,
    "start_time": "2022-12-07T09:29:51.286Z"
   },
   {
    "duration": 37,
    "start_time": "2022-12-07T09:29:51.335Z"
   },
   {
    "duration": 30,
    "start_time": "2022-12-07T09:29:51.374Z"
   },
   {
    "duration": 49,
    "start_time": "2022-12-07T09:29:51.411Z"
   },
   {
    "duration": 37,
    "start_time": "2022-12-07T09:29:51.462Z"
   },
   {
    "duration": 242,
    "start_time": "2022-12-07T09:31:50.461Z"
   },
   {
    "duration": 252,
    "start_time": "2022-12-07T09:31:55.583Z"
   },
   {
    "duration": 238,
    "start_time": "2022-12-07T09:32:32.793Z"
   },
   {
    "duration": 75,
    "start_time": "2022-12-07T09:34:40.065Z"
   },
   {
    "duration": 96,
    "start_time": "2022-12-07T09:34:55.901Z"
   },
   {
    "duration": 227,
    "start_time": "2022-12-07T09:35:04.595Z"
   },
   {
    "duration": 1532,
    "start_time": "2022-12-07T09:36:10.233Z"
   },
   {
    "duration": 1266,
    "start_time": "2022-12-07T09:36:45.159Z"
   },
   {
    "duration": 1405,
    "start_time": "2022-12-07T09:39:23.307Z"
   },
   {
    "duration": 1183,
    "start_time": "2022-12-07T09:41:38.941Z"
   },
   {
    "duration": 1175,
    "start_time": "2022-12-07T09:41:45.124Z"
   },
   {
    "duration": 1152,
    "start_time": "2022-12-07T09:42:11.566Z"
   },
   {
    "duration": 1181,
    "start_time": "2022-12-07T09:43:00.792Z"
   },
   {
    "duration": 3932,
    "start_time": "2022-12-07T09:44:05.788Z"
   },
   {
    "duration": 3539,
    "start_time": "2022-12-07T09:44:34.344Z"
   },
   {
    "duration": 198,
    "start_time": "2022-12-07T09:45:29.165Z"
   },
   {
    "duration": 151,
    "start_time": "2022-12-07T09:52:56.919Z"
   },
   {
    "duration": 178,
    "start_time": "2022-12-07T09:53:11.557Z"
   },
   {
    "duration": 173,
    "start_time": "2022-12-07T09:53:47.595Z"
   },
   {
    "duration": 156,
    "start_time": "2022-12-07T09:54:00.763Z"
   },
   {
    "duration": 162,
    "start_time": "2022-12-07T09:58:49.297Z"
   },
   {
    "duration": 10,
    "start_time": "2022-12-07T09:58:50.599Z"
   },
   {
    "duration": 204,
    "start_time": "2022-12-07T10:00:45.242Z"
   },
   {
    "duration": 202,
    "start_time": "2022-12-07T10:01:30.763Z"
   },
   {
    "duration": 163,
    "start_time": "2022-12-07T10:02:14.562Z"
   },
   {
    "duration": 194,
    "start_time": "2022-12-07T10:02:21.695Z"
   },
   {
    "duration": 393,
    "start_time": "2022-12-07T10:02:34.334Z"
   },
   {
    "duration": 1422,
    "start_time": "2022-12-07T10:02:43.900Z"
   },
   {
    "duration": 41,
    "start_time": "2022-12-07T10:02:45.324Z"
   },
   {
    "duration": 15,
    "start_time": "2022-12-07T10:02:45.367Z"
   },
   {
    "duration": 2308,
    "start_time": "2022-12-07T10:02:45.384Z"
   },
   {
    "duration": 14,
    "start_time": "2022-12-07T10:02:47.694Z"
   },
   {
    "duration": 29,
    "start_time": "2022-12-07T10:02:47.710Z"
   },
   {
    "duration": 26,
    "start_time": "2022-12-07T10:02:47.741Z"
   },
   {
    "duration": 6,
    "start_time": "2022-12-07T10:02:47.769Z"
   },
   {
    "duration": 6,
    "start_time": "2022-12-07T10:02:47.777Z"
   },
   {
    "duration": 37,
    "start_time": "2022-12-07T10:02:47.786Z"
   },
   {
    "duration": 7,
    "start_time": "2022-12-07T10:02:47.825Z"
   },
   {
    "duration": 29,
    "start_time": "2022-12-07T10:02:47.834Z"
   },
   {
    "duration": 7,
    "start_time": "2022-12-07T10:02:47.866Z"
   },
   {
    "duration": 6,
    "start_time": "2022-12-07T10:02:47.875Z"
   },
   {
    "duration": 44,
    "start_time": "2022-12-07T10:02:47.883Z"
   },
   {
    "duration": 6,
    "start_time": "2022-12-07T10:02:47.928Z"
   },
   {
    "duration": 8,
    "start_time": "2022-12-07T10:02:47.935Z"
   },
   {
    "duration": 10,
    "start_time": "2022-12-07T10:02:47.944Z"
   },
   {
    "duration": 8,
    "start_time": "2022-12-07T10:02:47.956Z"
   },
   {
    "duration": 152,
    "start_time": "2022-12-07T10:02:47.966Z"
   },
   {
    "duration": 6,
    "start_time": "2022-12-07T10:02:48.122Z"
   },
   {
    "duration": 29,
    "start_time": "2022-12-07T10:02:48.130Z"
   },
   {
    "duration": 8,
    "start_time": "2022-12-07T10:02:48.161Z"
   },
   {
    "duration": 10,
    "start_time": "2022-12-07T10:02:48.171Z"
   },
   {
    "duration": 43,
    "start_time": "2022-12-07T10:02:48.183Z"
   },
   {
    "duration": 7,
    "start_time": "2022-12-07T10:02:48.228Z"
   },
   {
    "duration": 9,
    "start_time": "2022-12-07T10:02:48.236Z"
   },
   {
    "duration": 8,
    "start_time": "2022-12-07T10:02:48.250Z"
   },
   {
    "duration": 23,
    "start_time": "2022-12-07T10:02:48.259Z"
   },
   {
    "duration": 39,
    "start_time": "2022-12-07T10:02:48.283Z"
   },
   {
    "duration": 10,
    "start_time": "2022-12-07T10:02:48.324Z"
   },
   {
    "duration": 16,
    "start_time": "2022-12-07T10:02:48.336Z"
   },
   {
    "duration": 14,
    "start_time": "2022-12-07T10:02:48.353Z"
   },
   {
    "duration": 20,
    "start_time": "2022-12-07T10:02:48.368Z"
   },
   {
    "duration": 309,
    "start_time": "2022-12-07T10:02:48.390Z"
   },
   {
    "duration": 31,
    "start_time": "2022-12-07T10:02:48.701Z"
   },
   {
    "duration": 4,
    "start_time": "2022-12-07T10:02:48.734Z"
   },
   {
    "duration": 187,
    "start_time": "2022-12-07T10:02:48.740Z"
   },
   {
    "duration": 188,
    "start_time": "2022-12-07T10:02:48.929Z"
   },
   {
    "duration": 203,
    "start_time": "2022-12-07T10:02:49.122Z"
   },
   {
    "duration": 328,
    "start_time": "2022-12-07T10:02:49.327Z"
   },
   {
    "duration": 229,
    "start_time": "2022-12-07T10:02:49.657Z"
   },
   {
    "duration": 204,
    "start_time": "2022-12-07T10:02:49.888Z"
   },
   {
    "duration": 204,
    "start_time": "2022-12-07T10:02:50.093Z"
   },
   {
    "duration": 156,
    "start_time": "2022-12-07T10:02:50.299Z"
   },
   {
    "duration": 230,
    "start_time": "2022-12-07T10:02:50.457Z"
   },
   {
    "duration": 210,
    "start_time": "2022-12-07T10:02:50.689Z"
   },
   {
    "duration": 205,
    "start_time": "2022-12-07T10:02:50.901Z"
   },
   {
    "duration": 208,
    "start_time": "2022-12-07T10:02:51.108Z"
   },
   {
    "duration": 200,
    "start_time": "2022-12-07T10:02:51.318Z"
   },
   {
    "duration": 264,
    "start_time": "2022-12-07T10:02:51.522Z"
   },
   {
    "duration": 282,
    "start_time": "2022-12-07T10:02:51.788Z"
   },
   {
    "duration": 6,
    "start_time": "2022-12-07T10:02:52.072Z"
   },
   {
    "duration": 8,
    "start_time": "2022-12-07T10:02:52.080Z"
   },
   {
    "duration": 38,
    "start_time": "2022-12-07T10:02:52.090Z"
   },
   {
    "duration": 247,
    "start_time": "2022-12-07T10:02:52.130Z"
   },
   {
    "duration": 7,
    "start_time": "2022-12-07T10:02:52.380Z"
   },
   {
    "duration": 246,
    "start_time": "2022-12-07T10:02:52.389Z"
   },
   {
    "duration": 7,
    "start_time": "2022-12-07T10:02:52.637Z"
   },
   {
    "duration": 254,
    "start_time": "2022-12-07T10:02:52.646Z"
   },
   {
    "duration": 6,
    "start_time": "2022-12-07T10:02:52.901Z"
   },
   {
    "duration": 249,
    "start_time": "2022-12-07T10:02:52.923Z"
   },
   {
    "duration": 5,
    "start_time": "2022-12-07T10:02:53.174Z"
   },
   {
    "duration": 190,
    "start_time": "2022-12-07T10:02:53.180Z"
   },
   {
    "duration": 246,
    "start_time": "2022-12-07T10:02:53.371Z"
   },
   {
    "duration": 5,
    "start_time": "2022-12-07T10:02:53.622Z"
   },
   {
    "duration": 247,
    "start_time": "2022-12-07T10:02:53.629Z"
   },
   {
    "duration": 6,
    "start_time": "2022-12-07T10:02:53.878Z"
   },
   {
    "duration": 269,
    "start_time": "2022-12-07T10:02:53.886Z"
   },
   {
    "duration": 6,
    "start_time": "2022-12-07T10:02:54.157Z"
   },
   {
    "duration": 8,
    "start_time": "2022-12-07T10:02:54.165Z"
   },
   {
    "duration": 18,
    "start_time": "2022-12-07T10:02:54.175Z"
   },
   {
    "duration": 13,
    "start_time": "2022-12-07T10:02:54.223Z"
   },
   {
    "duration": 248,
    "start_time": "2022-12-07T10:02:54.238Z"
   },
   {
    "duration": 13,
    "start_time": "2022-12-07T10:02:54.488Z"
   },
   {
    "duration": 190,
    "start_time": "2022-12-07T10:02:54.502Z"
   },
   {
    "duration": 211,
    "start_time": "2022-12-07T10:02:54.693Z"
   },
   {
    "duration": 17,
    "start_time": "2022-12-07T10:02:54.906Z"
   },
   {
    "duration": 31,
    "start_time": "2022-12-07T10:02:54.925Z"
   },
   {
    "duration": 29,
    "start_time": "2022-12-07T10:02:54.958Z"
   },
   {
    "duration": 37,
    "start_time": "2022-12-07T10:02:54.990Z"
   },
   {
    "duration": 26,
    "start_time": "2022-12-07T10:02:55.032Z"
   },
   {
    "duration": 28,
    "start_time": "2022-12-07T10:02:55.060Z"
   },
   {
    "duration": 284,
    "start_time": "2022-12-07T10:03:30.942Z"
   },
   {
    "duration": 152,
    "start_time": "2022-12-07T10:03:46.272Z"
   },
   {
    "duration": 119,
    "start_time": "2022-12-07T10:04:03.101Z"
   },
   {
    "duration": 6,
    "start_time": "2022-12-07T10:39:09.236Z"
   },
   {
    "duration": 75,
    "start_time": "2022-12-07T10:39:54.161Z"
   },
   {
    "duration": 7,
    "start_time": "2022-12-07T10:40:04.979Z"
   },
   {
    "duration": 1504,
    "start_time": "2022-12-07T10:40:20.602Z"
   },
   {
    "duration": 65,
    "start_time": "2022-12-07T10:40:22.108Z"
   },
   {
    "duration": 17,
    "start_time": "2022-12-07T10:40:22.175Z"
   },
   {
    "duration": 2405,
    "start_time": "2022-12-07T10:40:22.195Z"
   },
   {
    "duration": 14,
    "start_time": "2022-12-07T10:40:24.602Z"
   },
   {
    "duration": 52,
    "start_time": "2022-12-07T10:40:24.617Z"
   },
   {
    "duration": 35,
    "start_time": "2022-12-07T10:40:24.671Z"
   },
   {
    "duration": 10,
    "start_time": "2022-12-07T10:40:24.708Z"
   },
   {
    "duration": 37,
    "start_time": "2022-12-07T10:40:24.720Z"
   },
   {
    "duration": 16,
    "start_time": "2022-12-07T10:40:24.761Z"
   },
   {
    "duration": 26,
    "start_time": "2022-12-07T10:40:24.779Z"
   },
   {
    "duration": 63,
    "start_time": "2022-12-07T10:40:24.807Z"
   },
   {
    "duration": 9,
    "start_time": "2022-12-07T10:40:24.872Z"
   },
   {
    "duration": 27,
    "start_time": "2022-12-07T10:40:24.883Z"
   },
   {
    "duration": 42,
    "start_time": "2022-12-07T10:40:24.912Z"
   },
   {
    "duration": 31,
    "start_time": "2022-12-07T10:40:24.956Z"
   },
   {
    "duration": 30,
    "start_time": "2022-12-07T10:40:24.989Z"
   },
   {
    "duration": 53,
    "start_time": "2022-12-07T10:40:25.021Z"
   },
   {
    "duration": 16,
    "start_time": "2022-12-07T10:40:25.076Z"
   },
   {
    "duration": 216,
    "start_time": "2022-12-07T10:40:25.094Z"
   },
   {
    "duration": 16,
    "start_time": "2022-12-07T10:40:25.312Z"
   },
   {
    "duration": 64,
    "start_time": "2022-12-07T10:40:25.330Z"
   },
   {
    "duration": 17,
    "start_time": "2022-12-07T10:40:25.396Z"
   },
   {
    "duration": 65,
    "start_time": "2022-12-07T10:40:25.415Z"
   },
   {
    "duration": 19,
    "start_time": "2022-12-07T10:40:25.482Z"
   },
   {
    "duration": 61,
    "start_time": "2022-12-07T10:40:25.503Z"
   },
   {
    "duration": 21,
    "start_time": "2022-12-07T10:40:25.566Z"
   },
   {
    "duration": 20,
    "start_time": "2022-12-07T10:40:25.593Z"
   },
   {
    "duration": 60,
    "start_time": "2022-12-07T10:40:25.615Z"
   },
   {
    "duration": 25,
    "start_time": "2022-12-07T10:40:25.677Z"
   },
   {
    "duration": 21,
    "start_time": "2022-12-07T10:40:25.704Z"
   },
   {
    "duration": 51,
    "start_time": "2022-12-07T10:40:25.731Z"
   },
   {
    "duration": 29,
    "start_time": "2022-12-07T10:40:25.784Z"
   },
   {
    "duration": 81,
    "start_time": "2022-12-07T10:40:25.816Z"
   },
   {
    "duration": 375,
    "start_time": "2022-12-07T10:40:25.899Z"
   },
   {
    "duration": 27,
    "start_time": "2022-12-07T10:40:26.277Z"
   },
   {
    "duration": 20,
    "start_time": "2022-12-07T10:40:26.324Z"
   },
   {
    "duration": 242,
    "start_time": "2022-12-07T10:40:26.346Z"
   },
   {
    "duration": 182,
    "start_time": "2022-12-07T10:40:26.590Z"
   },
   {
    "duration": 203,
    "start_time": "2022-12-07T10:40:26.774Z"
   },
   {
    "duration": 364,
    "start_time": "2022-12-07T10:40:26.979Z"
   },
   {
    "duration": 233,
    "start_time": "2022-12-07T10:40:27.345Z"
   },
   {
    "duration": 209,
    "start_time": "2022-12-07T10:40:27.580Z"
   },
   {
    "duration": 263,
    "start_time": "2022-12-07T10:40:27.791Z"
   },
   {
    "duration": 185,
    "start_time": "2022-12-07T10:40:28.057Z"
   },
   {
    "duration": 244,
    "start_time": "2022-12-07T10:40:28.245Z"
   },
   {
    "duration": 223,
    "start_time": "2022-12-07T10:40:28.491Z"
   },
   {
    "duration": 259,
    "start_time": "2022-12-07T10:40:28.716Z"
   },
   {
    "duration": 230,
    "start_time": "2022-12-07T10:40:28.976Z"
   },
   {
    "duration": 217,
    "start_time": "2022-12-07T10:40:29.207Z"
   },
   {
    "duration": 269,
    "start_time": "2022-12-07T10:40:29.430Z"
   },
   {
    "duration": 319,
    "start_time": "2022-12-07T10:40:29.701Z"
   },
   {
    "duration": 7,
    "start_time": "2022-12-07T10:40:30.027Z"
   },
   {
    "duration": 37,
    "start_time": "2022-12-07T10:40:30.036Z"
   },
   {
    "duration": 31,
    "start_time": "2022-12-07T10:40:30.075Z"
   },
   {
    "duration": 297,
    "start_time": "2022-12-07T10:40:30.109Z"
   },
   {
    "duration": 6,
    "start_time": "2022-12-07T10:40:30.408Z"
   },
   {
    "duration": 250,
    "start_time": "2022-12-07T10:40:30.425Z"
   },
   {
    "duration": 6,
    "start_time": "2022-12-07T10:40:30.677Z"
   },
   {
    "duration": 268,
    "start_time": "2022-12-07T10:40:30.684Z"
   },
   {
    "duration": 6,
    "start_time": "2022-12-07T10:40:30.954Z"
   },
   {
    "duration": 279,
    "start_time": "2022-12-07T10:40:30.962Z"
   },
   {
    "duration": 7,
    "start_time": "2022-12-07T10:40:31.243Z"
   },
   {
    "duration": 212,
    "start_time": "2022-12-07T10:40:31.251Z"
   },
   {
    "duration": 294,
    "start_time": "2022-12-07T10:40:31.465Z"
   },
   {
    "duration": 5,
    "start_time": "2022-12-07T10:40:31.761Z"
   },
   {
    "duration": 279,
    "start_time": "2022-12-07T10:40:31.768Z"
   },
   {
    "duration": 5,
    "start_time": "2022-12-07T10:40:32.050Z"
   },
   {
    "duration": 259,
    "start_time": "2022-12-07T10:40:32.057Z"
   },
   {
    "duration": 11,
    "start_time": "2022-12-07T10:40:32.324Z"
   },
   {
    "duration": 16,
    "start_time": "2022-12-07T10:40:32.337Z"
   },
   {
    "duration": 15,
    "start_time": "2022-12-07T10:40:32.355Z"
   },
   {
    "duration": 15,
    "start_time": "2022-12-07T10:40:32.372Z"
   },
   {
    "duration": 243,
    "start_time": "2022-12-07T10:40:32.389Z"
   },
   {
    "duration": 17,
    "start_time": "2022-12-07T10:40:32.638Z"
   },
   {
    "duration": 209,
    "start_time": "2022-12-07T10:40:32.657Z"
   },
   {
    "duration": 12,
    "start_time": "2022-12-07T10:40:32.869Z"
   },
   {
    "duration": 58,
    "start_time": "2022-12-07T10:40:32.883Z"
   },
   {
    "duration": 29,
    "start_time": "2022-12-07T10:40:32.943Z"
   },
   {
    "duration": 13,
    "start_time": "2022-12-07T10:40:32.974Z"
   },
   {
    "duration": 52,
    "start_time": "2022-12-07T10:40:32.989Z"
   },
   {
    "duration": 42,
    "start_time": "2022-12-07T10:40:33.049Z"
   },
   {
    "duration": 32,
    "start_time": "2022-12-07T10:40:33.094Z"
   },
   {
    "duration": 22,
    "start_time": "2022-12-07T10:41:17.020Z"
   },
   {
    "duration": 26,
    "start_time": "2022-12-07T10:41:33.886Z"
   },
   {
    "duration": 22,
    "start_time": "2022-12-07T10:43:23.540Z"
   },
   {
    "duration": 28,
    "start_time": "2022-12-07T10:43:32.632Z"
   },
   {
    "duration": 7,
    "start_time": "2022-12-07T10:55:29.148Z"
   },
   {
    "duration": 213,
    "start_time": "2022-12-07T10:56:01.180Z"
   },
   {
    "duration": 6,
    "start_time": "2022-12-07T10:56:13.195Z"
   },
   {
    "duration": 193,
    "start_time": "2022-12-07T10:56:15.864Z"
   },
   {
    "duration": 18,
    "start_time": "2022-12-07T10:56:30.166Z"
   },
   {
    "duration": 15,
    "start_time": "2022-12-07T10:57:30.212Z"
   },
   {
    "duration": 161,
    "start_time": "2022-12-07T10:57:32.356Z"
   },
   {
    "duration": 111,
    "start_time": "2022-12-07T11:00:00.556Z"
   },
   {
    "duration": 3,
    "start_time": "2022-12-07T11:00:09.791Z"
   },
   {
    "duration": 1289,
    "start_time": "2022-12-07T11:00:25.754Z"
   },
   {
    "duration": 46,
    "start_time": "2022-12-07T11:00:27.045Z"
   },
   {
    "duration": 35,
    "start_time": "2022-12-07T11:00:27.093Z"
   },
   {
    "duration": 2213,
    "start_time": "2022-12-07T11:00:27.131Z"
   },
   {
    "duration": 13,
    "start_time": "2022-12-07T11:00:29.346Z"
   },
   {
    "duration": 36,
    "start_time": "2022-12-07T11:00:29.360Z"
   },
   {
    "duration": 42,
    "start_time": "2022-12-07T11:00:29.398Z"
   },
   {
    "duration": 8,
    "start_time": "2022-12-07T11:00:29.442Z"
   },
   {
    "duration": 7,
    "start_time": "2022-12-07T11:00:29.452Z"
   },
   {
    "duration": 6,
    "start_time": "2022-12-07T11:00:29.464Z"
   },
   {
    "duration": 7,
    "start_time": "2022-12-07T11:00:29.472Z"
   },
   {
    "duration": 58,
    "start_time": "2022-12-07T11:00:29.480Z"
   },
   {
    "duration": 9,
    "start_time": "2022-12-07T11:00:29.540Z"
   },
   {
    "duration": 5,
    "start_time": "2022-12-07T11:00:29.551Z"
   },
   {
    "duration": 8,
    "start_time": "2022-12-07T11:00:29.558Z"
   },
   {
    "duration": 6,
    "start_time": "2022-12-07T11:00:29.568Z"
   },
   {
    "duration": 13,
    "start_time": "2022-12-07T11:00:29.576Z"
   },
   {
    "duration": 24,
    "start_time": "2022-12-07T11:00:29.622Z"
   },
   {
    "duration": 8,
    "start_time": "2022-12-07T11:00:29.648Z"
   },
   {
    "duration": 188,
    "start_time": "2022-12-07T11:00:29.657Z"
   },
   {
    "duration": 6,
    "start_time": "2022-12-07T11:00:29.847Z"
   },
   {
    "duration": 45,
    "start_time": "2022-12-07T11:00:29.855Z"
   },
   {
    "duration": 5,
    "start_time": "2022-12-07T11:00:29.902Z"
   },
   {
    "duration": 24,
    "start_time": "2022-12-07T11:00:29.909Z"
   },
   {
    "duration": 27,
    "start_time": "2022-12-07T11:00:29.936Z"
   },
   {
    "duration": 9,
    "start_time": "2022-12-07T11:00:29.966Z"
   },
   {
    "duration": 12,
    "start_time": "2022-12-07T11:00:29.977Z"
   },
   {
    "duration": 37,
    "start_time": "2022-12-07T11:00:29.995Z"
   },
   {
    "duration": 27,
    "start_time": "2022-12-07T11:00:30.039Z"
   },
   {
    "duration": 4,
    "start_time": "2022-12-07T11:00:30.068Z"
   },
   {
    "duration": 15,
    "start_time": "2022-12-07T11:00:30.074Z"
   },
   {
    "duration": 36,
    "start_time": "2022-12-07T11:00:30.091Z"
   },
   {
    "duration": 19,
    "start_time": "2022-12-07T11:00:30.129Z"
   },
   {
    "duration": 25,
    "start_time": "2022-12-07T11:00:30.149Z"
   },
   {
    "duration": 322,
    "start_time": "2022-12-07T11:00:30.176Z"
   },
   {
    "duration": 44,
    "start_time": "2022-12-07T11:00:30.500Z"
   },
   {
    "duration": 16,
    "start_time": "2022-12-07T11:00:30.545Z"
   },
   {
    "duration": 208,
    "start_time": "2022-12-07T11:00:30.563Z"
   },
   {
    "duration": 185,
    "start_time": "2022-12-07T11:00:30.772Z"
   },
   {
    "duration": 199,
    "start_time": "2022-12-07T11:00:30.958Z"
   },
   {
    "duration": 342,
    "start_time": "2022-12-07T11:00:31.159Z"
   },
   {
    "duration": 233,
    "start_time": "2022-12-07T11:00:31.503Z"
   },
   {
    "duration": 219,
    "start_time": "2022-12-07T11:00:31.739Z"
   },
   {
    "duration": 216,
    "start_time": "2022-12-07T11:00:31.960Z"
   },
   {
    "duration": 161,
    "start_time": "2022-12-07T11:00:32.178Z"
   },
   {
    "duration": 245,
    "start_time": "2022-12-07T11:00:32.341Z"
   },
   {
    "duration": 215,
    "start_time": "2022-12-07T11:00:32.588Z"
   },
   {
    "duration": 233,
    "start_time": "2022-12-07T11:00:32.805Z"
   },
   {
    "duration": 228,
    "start_time": "2022-12-07T11:00:33.040Z"
   },
   {
    "duration": 208,
    "start_time": "2022-12-07T11:00:33.270Z"
   },
   {
    "duration": 286,
    "start_time": "2022-12-07T11:00:33.480Z"
   },
   {
    "duration": 287,
    "start_time": "2022-12-07T11:00:33.768Z"
   },
   {
    "duration": 6,
    "start_time": "2022-12-07T11:00:34.057Z"
   },
   {
    "duration": 19,
    "start_time": "2022-12-07T11:00:34.067Z"
   },
   {
    "duration": 28,
    "start_time": "2022-12-07T11:00:34.088Z"
   },
   {
    "duration": 321,
    "start_time": "2022-12-07T11:00:34.122Z"
   },
   {
    "duration": 7,
    "start_time": "2022-12-07T11:00:34.445Z"
   },
   {
    "duration": 259,
    "start_time": "2022-12-07T11:00:34.454Z"
   },
   {
    "duration": 19,
    "start_time": "2022-12-07T11:00:34.715Z"
   },
   {
    "duration": 249,
    "start_time": "2022-12-07T11:00:34.737Z"
   },
   {
    "duration": 7,
    "start_time": "2022-12-07T11:00:34.988Z"
   },
   {
    "duration": 267,
    "start_time": "2022-12-07T11:00:34.996Z"
   },
   {
    "duration": 5,
    "start_time": "2022-12-07T11:00:35.265Z"
   },
   {
    "duration": 211,
    "start_time": "2022-12-07T11:00:35.271Z"
   },
   {
    "duration": 262,
    "start_time": "2022-12-07T11:00:35.484Z"
   },
   {
    "duration": 7,
    "start_time": "2022-12-07T11:00:35.749Z"
   },
   {
    "duration": 310,
    "start_time": "2022-12-07T11:00:35.758Z"
   },
   {
    "duration": 5,
    "start_time": "2022-12-07T11:00:36.070Z"
   },
   {
    "duration": 301,
    "start_time": "2022-12-07T11:00:36.077Z"
   },
   {
    "duration": 6,
    "start_time": "2022-12-07T11:00:36.379Z"
   },
   {
    "duration": 34,
    "start_time": "2022-12-07T11:00:36.386Z"
   },
   {
    "duration": 42,
    "start_time": "2022-12-07T11:00:36.422Z"
   },
   {
    "duration": 9,
    "start_time": "2022-12-07T11:00:36.466Z"
   },
   {
    "duration": 278,
    "start_time": "2022-12-07T11:00:36.476Z"
   },
   {
    "duration": 14,
    "start_time": "2022-12-07T11:00:36.756Z"
   },
   {
    "duration": 337,
    "start_time": "2022-12-07T11:00:36.826Z"
   },
   {
    "duration": 69,
    "start_time": "2022-12-07T11:00:37.165Z"
   },
   {
    "duration": 94,
    "start_time": "2022-12-07T11:00:37.236Z"
   },
   {
    "duration": 25,
    "start_time": "2022-12-07T11:00:37.338Z"
   },
   {
    "duration": 22,
    "start_time": "2022-12-07T11:00:37.365Z"
   },
   {
    "duration": 51,
    "start_time": "2022-12-07T11:00:37.388Z"
   },
   {
    "duration": 44,
    "start_time": "2022-12-07T11:00:37.446Z"
   },
   {
    "duration": 9,
    "start_time": "2022-12-07T11:00:37.492Z"
   },
   {
    "duration": 39,
    "start_time": "2022-12-07T11:00:37.503Z"
   },
   {
    "duration": 44,
    "start_time": "2022-12-07T11:00:37.543Z"
   },
   {
    "duration": 25,
    "start_time": "2022-12-07T11:00:37.589Z"
   },
   {
    "duration": 35,
    "start_time": "2022-12-07T11:00:37.616Z"
   },
   {
    "duration": 36,
    "start_time": "2022-12-07T11:00:37.653Z"
   },
   {
    "duration": 187,
    "start_time": "2022-12-07T11:00:37.691Z"
   },
   {
    "duration": 5,
    "start_time": "2022-12-07T11:34:01.508Z"
   },
   {
    "duration": 12,
    "start_time": "2022-12-07T11:34:03.367Z"
   },
   {
    "duration": 173,
    "start_time": "2022-12-07T11:34:05.936Z"
   },
   {
    "duration": 6,
    "start_time": "2022-12-07T11:34:26.621Z"
   },
   {
    "duration": 5,
    "start_time": "2022-12-07T11:34:28.448Z"
   },
   {
    "duration": 22,
    "start_time": "2022-12-07T11:34:34.477Z"
   },
   {
    "duration": 21,
    "start_time": "2022-12-07T11:34:43.293Z"
   },
   {
    "duration": 1446,
    "start_time": "2022-12-07T11:35:13.884Z"
   },
   {
    "duration": 42,
    "start_time": "2022-12-07T11:35:15.332Z"
   },
   {
    "duration": 17,
    "start_time": "2022-12-07T11:35:15.376Z"
   },
   {
    "duration": 2465,
    "start_time": "2022-12-07T11:35:15.395Z"
   },
   {
    "duration": 12,
    "start_time": "2022-12-07T11:35:17.862Z"
   },
   {
    "duration": 53,
    "start_time": "2022-12-07T11:35:17.877Z"
   },
   {
    "duration": 33,
    "start_time": "2022-12-07T11:35:17.932Z"
   },
   {
    "duration": 11,
    "start_time": "2022-12-07T11:35:17.967Z"
   },
   {
    "duration": 6,
    "start_time": "2022-12-07T11:35:17.980Z"
   },
   {
    "duration": 37,
    "start_time": "2022-12-07T11:35:17.989Z"
   },
   {
    "duration": 6,
    "start_time": "2022-12-07T11:35:18.028Z"
   },
   {
    "duration": 24,
    "start_time": "2022-12-07T11:35:18.036Z"
   },
   {
    "duration": 9,
    "start_time": "2022-12-07T11:35:18.062Z"
   },
   {
    "duration": 8,
    "start_time": "2022-12-07T11:35:18.073Z"
   },
   {
    "duration": 43,
    "start_time": "2022-12-07T11:35:18.083Z"
   },
   {
    "duration": 5,
    "start_time": "2022-12-07T11:35:18.128Z"
   },
   {
    "duration": 11,
    "start_time": "2022-12-07T11:35:18.135Z"
   },
   {
    "duration": 9,
    "start_time": "2022-12-07T11:35:18.148Z"
   },
   {
    "duration": 16,
    "start_time": "2022-12-07T11:35:18.159Z"
   },
   {
    "duration": 157,
    "start_time": "2022-12-07T11:35:18.177Z"
   },
   {
    "duration": 5,
    "start_time": "2022-12-07T11:35:18.336Z"
   },
   {
    "duration": 42,
    "start_time": "2022-12-07T11:35:18.343Z"
   },
   {
    "duration": 6,
    "start_time": "2022-12-07T11:35:18.387Z"
   },
   {
    "duration": 33,
    "start_time": "2022-12-07T11:35:18.395Z"
   },
   {
    "duration": 13,
    "start_time": "2022-12-07T11:35:18.429Z"
   },
   {
    "duration": 10,
    "start_time": "2022-12-07T11:35:18.444Z"
   },
   {
    "duration": 11,
    "start_time": "2022-12-07T11:35:18.456Z"
   },
   {
    "duration": 10,
    "start_time": "2022-12-07T11:35:18.473Z"
   },
   {
    "duration": 57,
    "start_time": "2022-12-07T11:35:18.485Z"
   },
   {
    "duration": 5,
    "start_time": "2022-12-07T11:35:18.543Z"
   },
   {
    "duration": 11,
    "start_time": "2022-12-07T11:35:18.550Z"
   },
   {
    "duration": 21,
    "start_time": "2022-12-07T11:35:18.563Z"
   },
   {
    "duration": 49,
    "start_time": "2022-12-07T11:35:18.586Z"
   },
   {
    "duration": 18,
    "start_time": "2022-12-07T11:35:18.637Z"
   },
   {
    "duration": 309,
    "start_time": "2022-12-07T11:35:18.657Z"
   },
   {
    "duration": 41,
    "start_time": "2022-12-07T11:35:18.968Z"
   },
   {
    "duration": 12,
    "start_time": "2022-12-07T11:35:19.011Z"
   },
   {
    "duration": 219,
    "start_time": "2022-12-07T11:35:19.025Z"
   },
   {
    "duration": 222,
    "start_time": "2022-12-07T11:35:19.247Z"
   },
   {
    "duration": 267,
    "start_time": "2022-12-07T11:35:19.471Z"
   },
   {
    "duration": 467,
    "start_time": "2022-12-07T11:35:19.740Z"
   },
   {
    "duration": 294,
    "start_time": "2022-12-07T11:35:20.209Z"
   },
   {
    "duration": 226,
    "start_time": "2022-12-07T11:35:20.504Z"
   },
   {
    "duration": 231,
    "start_time": "2022-12-07T11:35:20.733Z"
   },
   {
    "duration": 157,
    "start_time": "2022-12-07T11:35:20.966Z"
   },
   {
    "duration": 245,
    "start_time": "2022-12-07T11:35:21.125Z"
   },
   {
    "duration": 220,
    "start_time": "2022-12-07T11:35:21.374Z"
   },
   {
    "duration": 245,
    "start_time": "2022-12-07T11:35:21.596Z"
   },
   {
    "duration": 232,
    "start_time": "2022-12-07T11:35:21.844Z"
   },
   {
    "duration": 202,
    "start_time": "2022-12-07T11:35:22.078Z"
   },
   {
    "duration": 275,
    "start_time": "2022-12-07T11:35:22.282Z"
   },
   {
    "duration": 272,
    "start_time": "2022-12-07T11:35:22.559Z"
   },
   {
    "duration": 6,
    "start_time": "2022-12-07T11:35:22.832Z"
   },
   {
    "duration": 39,
    "start_time": "2022-12-07T11:35:22.840Z"
   },
   {
    "duration": 15,
    "start_time": "2022-12-07T11:35:22.882Z"
   },
   {
    "duration": 247,
    "start_time": "2022-12-07T11:35:22.900Z"
   },
   {
    "duration": 7,
    "start_time": "2022-12-07T11:35:23.149Z"
   },
   {
    "duration": 286,
    "start_time": "2022-12-07T11:35:23.158Z"
   },
   {
    "duration": 7,
    "start_time": "2022-12-07T11:35:23.446Z"
   },
   {
    "duration": 360,
    "start_time": "2022-12-07T11:35:23.456Z"
   },
   {
    "duration": 7,
    "start_time": "2022-12-07T11:35:23.822Z"
   },
   {
    "duration": 285,
    "start_time": "2022-12-07T11:35:23.831Z"
   },
   {
    "duration": 8,
    "start_time": "2022-12-07T11:35:24.121Z"
   },
   {
    "duration": 285,
    "start_time": "2022-12-07T11:35:24.131Z"
   },
   {
    "duration": 303,
    "start_time": "2022-12-07T11:35:24.418Z"
   },
   {
    "duration": 5,
    "start_time": "2022-12-07T11:35:24.724Z"
   },
   {
    "duration": 269,
    "start_time": "2022-12-07T11:35:24.731Z"
   },
   {
    "duration": 8,
    "start_time": "2022-12-07T11:35:25.002Z"
   },
   {
    "duration": 285,
    "start_time": "2022-12-07T11:35:25.022Z"
   },
   {
    "duration": 14,
    "start_time": "2022-12-07T11:35:25.309Z"
   },
   {
    "duration": 9,
    "start_time": "2022-12-07T11:35:25.325Z"
   },
   {
    "duration": 22,
    "start_time": "2022-12-07T11:35:25.336Z"
   },
   {
    "duration": 16,
    "start_time": "2022-12-07T11:35:25.359Z"
   },
   {
    "duration": 273,
    "start_time": "2022-12-07T11:35:25.378Z"
   },
   {
    "duration": 17,
    "start_time": "2022-12-07T11:35:25.653Z"
   },
   {
    "duration": 218,
    "start_time": "2022-12-07T11:35:25.672Z"
   },
   {
    "duration": 29,
    "start_time": "2022-12-07T11:35:25.892Z"
   },
   {
    "duration": 29,
    "start_time": "2022-12-07T11:35:25.923Z"
   },
   {
    "duration": 29,
    "start_time": "2022-12-07T11:35:25.954Z"
   },
   {
    "duration": 39,
    "start_time": "2022-12-07T11:35:25.985Z"
   },
   {
    "duration": 43,
    "start_time": "2022-12-07T11:35:26.026Z"
   },
   {
    "duration": 27,
    "start_time": "2022-12-07T11:35:26.077Z"
   },
   {
    "duration": 26,
    "start_time": "2022-12-07T11:35:26.106Z"
   },
   {
    "duration": 32,
    "start_time": "2022-12-07T11:35:26.134Z"
   },
   {
    "duration": 56,
    "start_time": "2022-12-07T11:35:26.168Z"
   },
   {
    "duration": 38,
    "start_time": "2022-12-07T11:35:26.226Z"
   },
   {
    "duration": 8,
    "start_time": "2022-12-07T11:35:26.267Z"
   },
   {
    "duration": 46,
    "start_time": "2022-12-07T11:35:26.277Z"
   },
   {
    "duration": 226,
    "start_time": "2022-12-07T11:35:26.325Z"
   },
   {
    "duration": 46,
    "start_time": "2022-12-07T11:36:01.096Z"
   },
   {
    "duration": 76,
    "start_time": "2022-12-07T11:36:21.904Z"
   },
   {
    "duration": 6,
    "start_time": "2022-12-07T11:36:28.234Z"
   },
   {
    "duration": 18,
    "start_time": "2022-12-07T11:36:30.353Z"
   },
   {
    "duration": 1346,
    "start_time": "2022-12-07T11:36:48.324Z"
   },
   {
    "duration": 67,
    "start_time": "2022-12-07T11:36:49.672Z"
   },
   {
    "duration": 26,
    "start_time": "2022-12-07T11:36:49.741Z"
   },
   {
    "duration": 2263,
    "start_time": "2022-12-07T11:36:49.769Z"
   },
   {
    "duration": 10,
    "start_time": "2022-12-07T11:36:52.034Z"
   },
   {
    "duration": 59,
    "start_time": "2022-12-07T11:36:52.046Z"
   },
   {
    "duration": 28,
    "start_time": "2022-12-07T11:36:52.107Z"
   },
   {
    "duration": 7,
    "start_time": "2022-12-07T11:36:52.137Z"
   },
   {
    "duration": 6,
    "start_time": "2022-12-07T11:36:52.145Z"
   },
   {
    "duration": 7,
    "start_time": "2022-12-07T11:36:52.153Z"
   },
   {
    "duration": 9,
    "start_time": "2022-12-07T11:36:52.161Z"
   },
   {
    "duration": 53,
    "start_time": "2022-12-07T11:36:52.172Z"
   },
   {
    "duration": 8,
    "start_time": "2022-12-07T11:36:52.227Z"
   },
   {
    "duration": 15,
    "start_time": "2022-12-07T11:36:52.239Z"
   },
   {
    "duration": 14,
    "start_time": "2022-12-07T11:36:52.256Z"
   },
   {
    "duration": 6,
    "start_time": "2022-12-07T11:36:52.271Z"
   },
   {
    "duration": 8,
    "start_time": "2022-12-07T11:36:52.278Z"
   },
   {
    "duration": 35,
    "start_time": "2022-12-07T11:36:52.288Z"
   },
   {
    "duration": 20,
    "start_time": "2022-12-07T11:36:52.326Z"
   },
   {
    "duration": 143,
    "start_time": "2022-12-07T11:36:52.348Z"
   },
   {
    "duration": 6,
    "start_time": "2022-12-07T11:36:52.493Z"
   },
   {
    "duration": 42,
    "start_time": "2022-12-07T11:36:52.501Z"
   },
   {
    "duration": 5,
    "start_time": "2022-12-07T11:36:52.545Z"
   },
   {
    "duration": 9,
    "start_time": "2022-12-07T11:36:52.552Z"
   },
   {
    "duration": 21,
    "start_time": "2022-12-07T11:36:52.563Z"
   },
   {
    "duration": 18,
    "start_time": "2022-12-07T11:36:52.585Z"
   },
   {
    "duration": 23,
    "start_time": "2022-12-07T11:36:52.606Z"
   },
   {
    "duration": 9,
    "start_time": "2022-12-07T11:36:52.632Z"
   },
   {
    "duration": 31,
    "start_time": "2022-12-07T11:36:52.644Z"
   },
   {
    "duration": 4,
    "start_time": "2022-12-07T11:36:52.677Z"
   },
   {
    "duration": 10,
    "start_time": "2022-12-07T11:36:52.721Z"
   },
   {
    "duration": 20,
    "start_time": "2022-12-07T11:36:52.733Z"
   },
   {
    "duration": 19,
    "start_time": "2022-12-07T11:36:52.755Z"
   },
   {
    "duration": 23,
    "start_time": "2022-12-07T11:36:52.776Z"
   },
   {
    "duration": 370,
    "start_time": "2022-12-07T11:36:52.801Z"
   },
   {
    "duration": 39,
    "start_time": "2022-12-07T11:36:53.173Z"
   },
   {
    "duration": 5,
    "start_time": "2022-12-07T11:36:53.221Z"
   },
   {
    "duration": 191,
    "start_time": "2022-12-07T11:36:53.228Z"
   },
   {
    "duration": 187,
    "start_time": "2022-12-07T11:36:53.421Z"
   },
   {
    "duration": 190,
    "start_time": "2022-12-07T11:36:53.609Z"
   },
   {
    "duration": 375,
    "start_time": "2022-12-07T11:36:53.806Z"
   },
   {
    "duration": 242,
    "start_time": "2022-12-07T11:36:54.183Z"
   },
   {
    "duration": 202,
    "start_time": "2022-12-07T11:36:54.428Z"
   },
   {
    "duration": 255,
    "start_time": "2022-12-07T11:36:54.631Z"
   },
   {
    "duration": 186,
    "start_time": "2022-12-07T11:36:54.888Z"
   },
   {
    "duration": 246,
    "start_time": "2022-12-07T11:36:55.076Z"
   },
   {
    "duration": 216,
    "start_time": "2022-12-07T11:36:55.325Z"
   },
   {
    "duration": 284,
    "start_time": "2022-12-07T11:36:55.543Z"
   },
   {
    "duration": 245,
    "start_time": "2022-12-07T11:36:55.830Z"
   },
   {
    "duration": 199,
    "start_time": "2022-12-07T11:36:56.077Z"
   },
   {
    "duration": 286,
    "start_time": "2022-12-07T11:36:56.277Z"
   },
   {
    "duration": 327,
    "start_time": "2022-12-07T11:36:56.565Z"
   },
   {
    "duration": 6,
    "start_time": "2022-12-07T11:36:56.895Z"
   },
   {
    "duration": 23,
    "start_time": "2022-12-07T11:36:56.903Z"
   },
   {
    "duration": 19,
    "start_time": "2022-12-07T11:36:56.928Z"
   },
   {
    "duration": 242,
    "start_time": "2022-12-07T11:36:56.949Z"
   },
   {
    "duration": 6,
    "start_time": "2022-12-07T11:36:57.193Z"
   },
   {
    "duration": 277,
    "start_time": "2022-12-07T11:36:57.200Z"
   },
   {
    "duration": 6,
    "start_time": "2022-12-07T11:36:57.479Z"
   },
   {
    "duration": 265,
    "start_time": "2022-12-07T11:36:57.487Z"
   },
   {
    "duration": 8,
    "start_time": "2022-12-07T11:36:57.755Z"
   },
   {
    "duration": 266,
    "start_time": "2022-12-07T11:36:57.765Z"
   },
   {
    "duration": 7,
    "start_time": "2022-12-07T11:36:58.033Z"
   },
   {
    "duration": 213,
    "start_time": "2022-12-07T11:36:58.042Z"
   },
   {
    "duration": 271,
    "start_time": "2022-12-07T11:36:58.257Z"
   },
   {
    "duration": 10,
    "start_time": "2022-12-07T11:36:58.531Z"
   },
   {
    "duration": 261,
    "start_time": "2022-12-07T11:36:58.543Z"
   },
   {
    "duration": 16,
    "start_time": "2022-12-07T11:36:58.806Z"
   },
   {
    "duration": 271,
    "start_time": "2022-12-07T11:36:58.824Z"
   },
   {
    "duration": 7,
    "start_time": "2022-12-07T11:36:59.097Z"
   },
   {
    "duration": 24,
    "start_time": "2022-12-07T11:36:59.105Z"
   },
   {
    "duration": 72,
    "start_time": "2022-12-07T11:36:59.130Z"
   },
   {
    "duration": 67,
    "start_time": "2022-12-07T11:36:59.204Z"
   },
   {
    "duration": 262,
    "start_time": "2022-12-07T11:36:59.273Z"
   },
   {
    "duration": 15,
    "start_time": "2022-12-07T11:36:59.537Z"
   },
   {
    "duration": 189,
    "start_time": "2022-12-07T11:36:59.554Z"
   },
   {
    "duration": 12,
    "start_time": "2022-12-07T11:36:59.746Z"
   },
   {
    "duration": 54,
    "start_time": "2022-12-07T11:36:59.760Z"
   },
   {
    "duration": 47,
    "start_time": "2022-12-07T11:36:59.816Z"
   },
   {
    "duration": 58,
    "start_time": "2022-12-07T11:36:59.865Z"
   },
   {
    "duration": 61,
    "start_time": "2022-12-07T11:36:59.925Z"
   },
   {
    "duration": 45,
    "start_time": "2022-12-07T11:36:59.988Z"
   },
   {
    "duration": 41,
    "start_time": "2022-12-07T11:37:00.035Z"
   },
   {
    "duration": 59,
    "start_time": "2022-12-07T11:37:00.079Z"
   },
   {
    "duration": 39,
    "start_time": "2022-12-07T11:37:00.140Z"
   },
   {
    "duration": 49,
    "start_time": "2022-12-07T11:37:00.181Z"
   },
   {
    "duration": 25,
    "start_time": "2022-12-07T11:37:00.232Z"
   },
   {
    "duration": 59,
    "start_time": "2022-12-07T11:37:00.258Z"
   },
   {
    "duration": 9,
    "start_time": "2022-12-07T11:37:00.319Z"
   },
   {
    "duration": 238,
    "start_time": "2022-12-07T11:37:00.330Z"
   },
   {
    "duration": 10,
    "start_time": "2022-12-07T11:37:11.266Z"
   },
   {
    "duration": 172,
    "start_time": "2022-12-07T11:37:15.992Z"
   },
   {
    "duration": 6,
    "start_time": "2022-12-07T11:38:14.335Z"
   },
   {
    "duration": 19,
    "start_time": "2022-12-07T11:38:16.514Z"
   },
   {
    "duration": 37,
    "start_time": "2022-12-07T11:38:21.716Z"
   },
   {
    "duration": 8,
    "start_time": "2022-12-07T11:38:29.065Z"
   },
   {
    "duration": 222,
    "start_time": "2022-12-07T11:38:35.138Z"
   },
   {
    "duration": 1465,
    "start_time": "2022-12-07T11:40:45.378Z"
   },
   {
    "duration": 59,
    "start_time": "2022-12-07T11:40:46.845Z"
   },
   {
    "duration": 29,
    "start_time": "2022-12-07T11:40:46.906Z"
   },
   {
    "duration": 2283,
    "start_time": "2022-12-07T11:40:46.937Z"
   },
   {
    "duration": 13,
    "start_time": "2022-12-07T11:40:49.222Z"
   },
   {
    "duration": 64,
    "start_time": "2022-12-07T11:40:49.237Z"
   },
   {
    "duration": 34,
    "start_time": "2022-12-07T11:40:49.302Z"
   },
   {
    "duration": 17,
    "start_time": "2022-12-07T11:40:49.338Z"
   },
   {
    "duration": 33,
    "start_time": "2022-12-07T11:40:49.357Z"
   },
   {
    "duration": 36,
    "start_time": "2022-12-07T11:40:49.393Z"
   },
   {
    "duration": 26,
    "start_time": "2022-12-07T11:40:49.431Z"
   },
   {
    "duration": 45,
    "start_time": "2022-12-07T11:40:49.459Z"
   },
   {
    "duration": 31,
    "start_time": "2022-12-07T11:40:49.506Z"
   },
   {
    "duration": 44,
    "start_time": "2022-12-07T11:40:49.539Z"
   },
   {
    "duration": 24,
    "start_time": "2022-12-07T11:40:49.585Z"
   },
   {
    "duration": 21,
    "start_time": "2022-12-07T11:40:49.611Z"
   },
   {
    "duration": 24,
    "start_time": "2022-12-07T11:40:49.634Z"
   },
   {
    "duration": 28,
    "start_time": "2022-12-07T11:40:49.660Z"
   },
   {
    "duration": 41,
    "start_time": "2022-12-07T11:40:49.690Z"
   },
   {
    "duration": 165,
    "start_time": "2022-12-07T11:40:49.733Z"
   },
   {
    "duration": 5,
    "start_time": "2022-12-07T11:40:49.900Z"
   },
   {
    "duration": 50,
    "start_time": "2022-12-07T11:40:49.907Z"
   },
   {
    "duration": 39,
    "start_time": "2022-12-07T11:40:49.960Z"
   },
   {
    "duration": 33,
    "start_time": "2022-12-07T11:40:50.002Z"
   },
   {
    "duration": 32,
    "start_time": "2022-12-07T11:40:50.037Z"
   },
   {
    "duration": 30,
    "start_time": "2022-12-07T11:40:50.071Z"
   },
   {
    "duration": 31,
    "start_time": "2022-12-07T11:40:50.103Z"
   },
   {
    "duration": 38,
    "start_time": "2022-12-07T11:40:50.140Z"
   },
   {
    "duration": 44,
    "start_time": "2022-12-07T11:40:50.180Z"
   },
   {
    "duration": 5,
    "start_time": "2022-12-07T11:40:50.226Z"
   },
   {
    "duration": 28,
    "start_time": "2022-12-07T11:40:50.232Z"
   },
   {
    "duration": 27,
    "start_time": "2022-12-07T11:40:50.262Z"
   },
   {
    "duration": 25,
    "start_time": "2022-12-07T11:40:50.291Z"
   },
   {
    "duration": 25,
    "start_time": "2022-12-07T11:40:50.318Z"
   },
   {
    "duration": 326,
    "start_time": "2022-12-07T11:40:50.345Z"
   },
   {
    "duration": 26,
    "start_time": "2022-12-07T11:40:50.673Z"
   },
   {
    "duration": 21,
    "start_time": "2022-12-07T11:40:50.701Z"
   },
   {
    "duration": 199,
    "start_time": "2022-12-07T11:40:50.723Z"
   },
   {
    "duration": 163,
    "start_time": "2022-12-07T11:40:50.924Z"
   },
   {
    "duration": 190,
    "start_time": "2022-12-07T11:40:51.089Z"
   },
   {
    "duration": 406,
    "start_time": "2022-12-07T11:40:51.281Z"
   },
   {
    "duration": 273,
    "start_time": "2022-12-07T11:40:51.689Z"
   },
   {
    "duration": 221,
    "start_time": "2022-12-07T11:40:51.964Z"
   },
   {
    "duration": 274,
    "start_time": "2022-12-07T11:40:52.188Z"
   },
   {
    "duration": 167,
    "start_time": "2022-12-07T11:40:52.464Z"
   },
   {
    "duration": 243,
    "start_time": "2022-12-07T11:40:52.634Z"
   },
   {
    "duration": 245,
    "start_time": "2022-12-07T11:40:52.880Z"
   },
   {
    "duration": 224,
    "start_time": "2022-12-07T11:40:53.127Z"
   },
   {
    "duration": 225,
    "start_time": "2022-12-07T11:40:53.353Z"
   },
   {
    "duration": 213,
    "start_time": "2022-12-07T11:40:53.580Z"
   },
   {
    "duration": 294,
    "start_time": "2022-12-07T11:40:53.795Z"
   },
   {
    "duration": 321,
    "start_time": "2022-12-07T11:40:54.092Z"
   },
   {
    "duration": 5,
    "start_time": "2022-12-07T11:40:54.422Z"
   },
   {
    "duration": 12,
    "start_time": "2022-12-07T11:40:54.429Z"
   },
   {
    "duration": 27,
    "start_time": "2022-12-07T11:40:54.443Z"
   },
   {
    "duration": 250,
    "start_time": "2022-12-07T11:40:54.472Z"
   },
   {
    "duration": 5,
    "start_time": "2022-12-07T11:40:54.724Z"
   },
   {
    "duration": 251,
    "start_time": "2022-12-07T11:40:54.731Z"
   },
   {
    "duration": 7,
    "start_time": "2022-12-07T11:40:54.984Z"
   },
   {
    "duration": 280,
    "start_time": "2022-12-07T11:40:54.993Z"
   },
   {
    "duration": 8,
    "start_time": "2022-12-07T11:40:55.276Z"
   },
   {
    "duration": 340,
    "start_time": "2022-12-07T11:40:55.285Z"
   },
   {
    "duration": 9,
    "start_time": "2022-12-07T11:40:55.627Z"
   },
   {
    "duration": 270,
    "start_time": "2022-12-07T11:40:55.638Z"
   },
   {
    "duration": 276,
    "start_time": "2022-12-07T11:40:55.910Z"
   },
   {
    "duration": 8,
    "start_time": "2022-12-07T11:40:56.188Z"
   },
   {
    "duration": 280,
    "start_time": "2022-12-07T11:40:56.198Z"
   },
   {
    "duration": 7,
    "start_time": "2022-12-07T11:40:56.480Z"
   },
   {
    "duration": 257,
    "start_time": "2022-12-07T11:40:56.489Z"
   },
   {
    "duration": 7,
    "start_time": "2022-12-07T11:40:56.748Z"
   },
   {
    "duration": 27,
    "start_time": "2022-12-07T11:40:56.757Z"
   },
   {
    "duration": 25,
    "start_time": "2022-12-07T11:40:56.787Z"
   },
   {
    "duration": 40,
    "start_time": "2022-12-07T11:40:56.814Z"
   },
   {
    "duration": 227,
    "start_time": "2022-12-07T11:40:56.856Z"
   },
   {
    "duration": 18,
    "start_time": "2022-12-07T11:40:57.085Z"
   },
   {
    "duration": 263,
    "start_time": "2022-12-07T11:40:57.105Z"
   },
   {
    "duration": 12,
    "start_time": "2022-12-07T11:40:57.370Z"
   },
   {
    "duration": 55,
    "start_time": "2022-12-07T11:40:57.384Z"
   },
   {
    "duration": 32,
    "start_time": "2022-12-07T11:40:57.442Z"
   },
   {
    "duration": 13,
    "start_time": "2022-12-07T11:40:57.476Z"
   },
   {
    "duration": 58,
    "start_time": "2022-12-07T11:40:57.491Z"
   },
   {
    "duration": 34,
    "start_time": "2022-12-07T11:40:57.557Z"
   },
   {
    "duration": 31,
    "start_time": "2022-12-07T11:40:57.594Z"
   },
   {
    "duration": 33,
    "start_time": "2022-12-07T11:40:57.627Z"
   },
   {
    "duration": 41,
    "start_time": "2022-12-07T11:40:57.663Z"
   },
   {
    "duration": 17,
    "start_time": "2022-12-07T11:40:57.706Z"
   },
   {
    "duration": 42,
    "start_time": "2022-12-07T11:40:57.726Z"
   },
   {
    "duration": 81,
    "start_time": "2022-12-07T11:40:57.770Z"
   },
   {
    "duration": 15,
    "start_time": "2022-12-07T11:40:57.854Z"
   },
   {
    "duration": 204,
    "start_time": "2022-12-07T11:40:57.870Z"
   },
   {
    "duration": 115,
    "start_time": "2022-12-07T11:45:12.186Z"
   },
   {
    "duration": 16,
    "start_time": "2022-12-07T11:45:26.539Z"
   },
   {
    "duration": 22,
    "start_time": "2022-12-07T11:45:47.474Z"
   },
   {
    "duration": 18,
    "start_time": "2022-12-07T11:46:00.774Z"
   },
   {
    "duration": 1391,
    "start_time": "2022-12-07T11:47:09.808Z"
   },
   {
    "duration": 59,
    "start_time": "2022-12-07T11:47:11.202Z"
   },
   {
    "duration": 23,
    "start_time": "2022-12-07T11:47:11.263Z"
   },
   {
    "duration": 2303,
    "start_time": "2022-12-07T11:47:11.289Z"
   },
   {
    "duration": 16,
    "start_time": "2022-12-07T11:47:13.594Z"
   },
   {
    "duration": 82,
    "start_time": "2022-12-07T11:47:13.612Z"
   },
   {
    "duration": 31,
    "start_time": "2022-12-07T11:47:13.696Z"
   },
   {
    "duration": 14,
    "start_time": "2022-12-07T11:47:13.729Z"
   },
   {
    "duration": 15,
    "start_time": "2022-12-07T11:47:13.745Z"
   },
   {
    "duration": 19,
    "start_time": "2022-12-07T11:47:13.764Z"
   },
   {
    "duration": 29,
    "start_time": "2022-12-07T11:47:13.785Z"
   },
   {
    "duration": 48,
    "start_time": "2022-12-07T11:47:13.816Z"
   },
   {
    "duration": 18,
    "start_time": "2022-12-07T11:47:13.866Z"
   },
   {
    "duration": 21,
    "start_time": "2022-12-07T11:47:13.886Z"
   },
   {
    "duration": 26,
    "start_time": "2022-12-07T11:47:13.908Z"
   },
   {
    "duration": 33,
    "start_time": "2022-12-07T11:47:13.936Z"
   },
   {
    "duration": 17,
    "start_time": "2022-12-07T11:47:13.971Z"
   },
   {
    "duration": 15,
    "start_time": "2022-12-07T11:47:13.990Z"
   },
   {
    "duration": 35,
    "start_time": "2022-12-07T11:47:14.007Z"
   },
   {
    "duration": 248,
    "start_time": "2022-12-07T11:47:14.044Z"
   },
   {
    "duration": 7,
    "start_time": "2022-12-07T11:47:14.295Z"
   },
   {
    "duration": 72,
    "start_time": "2022-12-07T11:47:14.304Z"
   },
   {
    "duration": 43,
    "start_time": "2022-12-07T11:47:14.378Z"
   },
   {
    "duration": 34,
    "start_time": "2022-12-07T11:47:14.423Z"
   },
   {
    "duration": 41,
    "start_time": "2022-12-07T11:47:14.458Z"
   },
   {
    "duration": 25,
    "start_time": "2022-12-07T11:47:14.501Z"
   },
   {
    "duration": 24,
    "start_time": "2022-12-07T11:47:14.528Z"
   },
   {
    "duration": 28,
    "start_time": "2022-12-07T11:47:14.559Z"
   },
   {
    "duration": 79,
    "start_time": "2022-12-07T11:47:14.589Z"
   },
   {
    "duration": 20,
    "start_time": "2022-12-07T11:47:14.673Z"
   },
   {
    "duration": 44,
    "start_time": "2022-12-07T11:47:14.696Z"
   },
   {
    "duration": 35,
    "start_time": "2022-12-07T11:47:14.742Z"
   },
   {
    "duration": 44,
    "start_time": "2022-12-07T11:47:14.780Z"
   },
   {
    "duration": 22,
    "start_time": "2022-12-07T11:47:14.827Z"
   },
   {
    "duration": 333,
    "start_time": "2022-12-07T11:47:14.851Z"
   },
   {
    "duration": 37,
    "start_time": "2022-12-07T11:47:15.186Z"
   },
   {
    "duration": 23,
    "start_time": "2022-12-07T11:47:15.225Z"
   },
   {
    "duration": 223,
    "start_time": "2022-12-07T11:47:15.250Z"
   },
   {
    "duration": 253,
    "start_time": "2022-12-07T11:47:15.475Z"
   },
   {
    "duration": 271,
    "start_time": "2022-12-07T11:47:15.730Z"
   },
   {
    "duration": 391,
    "start_time": "2022-12-07T11:47:16.004Z"
   },
   {
    "duration": 227,
    "start_time": "2022-12-07T11:47:16.397Z"
   },
   {
    "duration": 203,
    "start_time": "2022-12-07T11:47:16.626Z"
   },
   {
    "duration": 246,
    "start_time": "2022-12-07T11:47:16.832Z"
   },
   {
    "duration": 218,
    "start_time": "2022-12-07T11:47:17.081Z"
   },
   {
    "duration": 310,
    "start_time": "2022-12-07T11:47:17.301Z"
   },
   {
    "duration": 233,
    "start_time": "2022-12-07T11:47:17.614Z"
   },
   {
    "duration": 324,
    "start_time": "2022-12-07T11:47:17.849Z"
   },
   {
    "duration": 281,
    "start_time": "2022-12-07T11:47:18.176Z"
   },
   {
    "duration": 298,
    "start_time": "2022-12-07T11:47:18.460Z"
   },
   {
    "duration": 336,
    "start_time": "2022-12-07T11:47:18.761Z"
   },
   {
    "duration": 384,
    "start_time": "2022-12-07T11:47:19.100Z"
   },
   {
    "duration": 6,
    "start_time": "2022-12-07T11:47:19.487Z"
   },
   {
    "duration": 30,
    "start_time": "2022-12-07T11:47:19.495Z"
   },
   {
    "duration": 17,
    "start_time": "2022-12-07T11:47:19.527Z"
   },
   {
    "duration": 280,
    "start_time": "2022-12-07T11:47:19.546Z"
   },
   {
    "duration": 6,
    "start_time": "2022-12-07T11:47:19.828Z"
   },
   {
    "duration": 274,
    "start_time": "2022-12-07T11:47:19.837Z"
   },
   {
    "duration": 17,
    "start_time": "2022-12-07T11:47:20.113Z"
   },
   {
    "duration": 287,
    "start_time": "2022-12-07T11:47:20.132Z"
   },
   {
    "duration": 7,
    "start_time": "2022-12-07T11:47:20.421Z"
   },
   {
    "duration": 307,
    "start_time": "2022-12-07T11:47:20.431Z"
   },
   {
    "duration": 11,
    "start_time": "2022-12-07T11:47:20.740Z"
   },
   {
    "duration": 217,
    "start_time": "2022-12-07T11:47:20.753Z"
   },
   {
    "duration": 283,
    "start_time": "2022-12-07T11:47:20.972Z"
   },
   {
    "duration": 7,
    "start_time": "2022-12-07T11:47:21.257Z"
   },
   {
    "duration": 273,
    "start_time": "2022-12-07T11:47:21.267Z"
   },
   {
    "duration": 7,
    "start_time": "2022-12-07T11:47:21.542Z"
   },
   {
    "duration": 360,
    "start_time": "2022-12-07T11:47:21.551Z"
   },
   {
    "duration": 14,
    "start_time": "2022-12-07T11:47:21.913Z"
   },
   {
    "duration": 8,
    "start_time": "2022-12-07T11:47:21.929Z"
   },
   {
    "duration": 20,
    "start_time": "2022-12-07T11:47:21.940Z"
   },
   {
    "duration": 23,
    "start_time": "2022-12-07T11:47:21.962Z"
   },
   {
    "duration": 265,
    "start_time": "2022-12-07T11:47:21.988Z"
   },
   {
    "duration": 18,
    "start_time": "2022-12-07T11:47:22.256Z"
   },
   {
    "duration": 210,
    "start_time": "2022-12-07T11:47:22.276Z"
   },
   {
    "duration": 13,
    "start_time": "2022-12-07T11:47:22.488Z"
   },
   {
    "duration": 61,
    "start_time": "2022-12-07T11:47:22.503Z"
   },
   {
    "duration": 35,
    "start_time": "2022-12-07T11:47:22.567Z"
   },
   {
    "duration": 12,
    "start_time": "2022-12-07T11:47:22.621Z"
   },
   {
    "duration": 29,
    "start_time": "2022-12-07T11:47:22.634Z"
   },
   {
    "duration": 64,
    "start_time": "2022-12-07T11:47:22.669Z"
   },
   {
    "duration": 12,
    "start_time": "2022-12-07T11:47:22.736Z"
   },
   {
    "duration": 30,
    "start_time": "2022-12-07T11:47:22.751Z"
   },
   {
    "duration": 58,
    "start_time": "2022-12-07T11:47:22.783Z"
   },
   {
    "duration": 7,
    "start_time": "2022-12-07T11:47:22.844Z"
   },
   {
    "duration": 15,
    "start_time": "2022-12-07T11:47:22.853Z"
   },
   {
    "duration": 22,
    "start_time": "2022-12-07T11:47:22.871Z"
   },
   {
    "duration": 63,
    "start_time": "2022-12-07T11:47:22.896Z"
   },
   {
    "duration": 12,
    "start_time": "2022-12-07T11:47:22.961Z"
   },
   {
    "duration": 193,
    "start_time": "2022-12-07T11:47:22.976Z"
   },
   {
    "duration": 1391,
    "start_time": "2022-12-07T11:47:59.156Z"
   },
   {
    "duration": 48,
    "start_time": "2022-12-07T11:48:00.550Z"
   },
   {
    "duration": 39,
    "start_time": "2022-12-07T11:48:00.600Z"
   },
   {
    "duration": 2334,
    "start_time": "2022-12-07T11:48:00.642Z"
   },
   {
    "duration": 12,
    "start_time": "2022-12-07T11:48:02.977Z"
   },
   {
    "duration": 40,
    "start_time": "2022-12-07T11:48:02.992Z"
   },
   {
    "duration": 30,
    "start_time": "2022-12-07T11:48:03.034Z"
   },
   {
    "duration": 8,
    "start_time": "2022-12-07T11:48:03.066Z"
   },
   {
    "duration": 8,
    "start_time": "2022-12-07T11:48:03.077Z"
   },
   {
    "duration": 8,
    "start_time": "2022-12-07T11:48:03.124Z"
   },
   {
    "duration": 20,
    "start_time": "2022-12-07T11:48:03.134Z"
   },
   {
    "duration": 24,
    "start_time": "2022-12-07T11:48:03.157Z"
   },
   {
    "duration": 8,
    "start_time": "2022-12-07T11:48:03.183Z"
   },
   {
    "duration": 32,
    "start_time": "2022-12-07T11:48:03.193Z"
   },
   {
    "duration": 18,
    "start_time": "2022-12-07T11:48:03.227Z"
   },
   {
    "duration": 14,
    "start_time": "2022-12-07T11:48:03.247Z"
   },
   {
    "duration": 8,
    "start_time": "2022-12-07T11:48:03.263Z"
   },
   {
    "duration": 10,
    "start_time": "2022-12-07T11:48:03.272Z"
   },
   {
    "duration": 41,
    "start_time": "2022-12-07T11:48:03.284Z"
   },
   {
    "duration": 228,
    "start_time": "2022-12-07T11:48:03.327Z"
   },
   {
    "duration": 8,
    "start_time": "2022-12-07T11:48:03.557Z"
   },
   {
    "duration": 55,
    "start_time": "2022-12-07T11:48:03.567Z"
   },
   {
    "duration": 8,
    "start_time": "2022-12-07T11:48:03.624Z"
   },
   {
    "duration": 14,
    "start_time": "2022-12-07T11:48:03.634Z"
   },
   {
    "duration": 38,
    "start_time": "2022-12-07T11:48:03.650Z"
   },
   {
    "duration": 14,
    "start_time": "2022-12-07T11:48:03.691Z"
   },
   {
    "duration": 11,
    "start_time": "2022-12-07T11:48:03.721Z"
   },
   {
    "duration": 12,
    "start_time": "2022-12-07T11:48:03.740Z"
   },
   {
    "duration": 44,
    "start_time": "2022-12-07T11:48:03.754Z"
   },
   {
    "duration": 27,
    "start_time": "2022-12-07T11:48:03.800Z"
   },
   {
    "duration": 13,
    "start_time": "2022-12-07T11:48:03.829Z"
   },
   {
    "duration": 37,
    "start_time": "2022-12-07T11:48:03.844Z"
   },
   {
    "duration": 29,
    "start_time": "2022-12-07T11:48:03.884Z"
   },
   {
    "duration": 21,
    "start_time": "2022-12-07T11:48:03.916Z"
   },
   {
    "duration": 391,
    "start_time": "2022-12-07T11:48:03.940Z"
   },
   {
    "duration": 36,
    "start_time": "2022-12-07T11:48:04.333Z"
   },
   {
    "duration": 24,
    "start_time": "2022-12-07T11:48:04.371Z"
   },
   {
    "duration": 204,
    "start_time": "2022-12-07T11:48:04.397Z"
   },
   {
    "duration": 178,
    "start_time": "2022-12-07T11:48:04.603Z"
   },
   {
    "duration": 263,
    "start_time": "2022-12-07T11:48:04.784Z"
   },
   {
    "duration": 331,
    "start_time": "2022-12-07T11:48:05.049Z"
   },
   {
    "duration": 218,
    "start_time": "2022-12-07T11:48:05.382Z"
   },
   {
    "duration": 285,
    "start_time": "2022-12-07T11:48:05.602Z"
   },
   {
    "duration": 260,
    "start_time": "2022-12-07T11:48:05.890Z"
   },
   {
    "duration": 161,
    "start_time": "2022-12-07T11:48:06.153Z"
   },
   {
    "duration": 254,
    "start_time": "2022-12-07T11:48:06.322Z"
   },
   {
    "duration": 242,
    "start_time": "2022-12-07T11:48:06.579Z"
   },
   {
    "duration": 224,
    "start_time": "2022-12-07T11:48:06.824Z"
   },
   {
    "duration": 242,
    "start_time": "2022-12-07T11:48:07.050Z"
   },
   {
    "duration": 219,
    "start_time": "2022-12-07T11:48:07.294Z"
   },
   {
    "duration": 267,
    "start_time": "2022-12-07T11:48:07.522Z"
   },
   {
    "duration": 298,
    "start_time": "2022-12-07T11:48:07.791Z"
   },
   {
    "duration": 7,
    "start_time": "2022-12-07T11:48:08.091Z"
   },
   {
    "duration": 26,
    "start_time": "2022-12-07T11:48:08.101Z"
   },
   {
    "duration": 19,
    "start_time": "2022-12-07T11:48:08.129Z"
   },
   {
    "duration": 305,
    "start_time": "2022-12-07T11:48:08.150Z"
   },
   {
    "duration": 10,
    "start_time": "2022-12-07T11:48:08.457Z"
   },
   {
    "duration": 315,
    "start_time": "2022-12-07T11:48:08.469Z"
   },
   {
    "duration": 7,
    "start_time": "2022-12-07T11:48:08.785Z"
   },
   {
    "duration": 275,
    "start_time": "2022-12-07T11:48:08.795Z"
   },
   {
    "duration": 9,
    "start_time": "2022-12-07T11:48:09.072Z"
   },
   {
    "duration": 264,
    "start_time": "2022-12-07T11:48:09.083Z"
   },
   {
    "duration": 8,
    "start_time": "2022-12-07T11:48:09.349Z"
   },
   {
    "duration": 247,
    "start_time": "2022-12-07T11:48:09.359Z"
   },
   {
    "duration": 292,
    "start_time": "2022-12-07T11:48:09.609Z"
   },
   {
    "duration": 6,
    "start_time": "2022-12-07T11:48:09.904Z"
   },
   {
    "duration": 260,
    "start_time": "2022-12-07T11:48:09.922Z"
   },
   {
    "duration": 7,
    "start_time": "2022-12-07T11:48:10.184Z"
   },
   {
    "duration": 330,
    "start_time": "2022-12-07T11:48:10.194Z"
   },
   {
    "duration": 7,
    "start_time": "2022-12-07T11:48:10.527Z"
   },
   {
    "duration": 22,
    "start_time": "2022-12-07T11:48:10.536Z"
   },
   {
    "duration": 19,
    "start_time": "2022-12-07T11:48:10.560Z"
   },
   {
    "duration": 39,
    "start_time": "2022-12-07T11:48:10.581Z"
   },
   {
    "duration": 247,
    "start_time": "2022-12-07T11:48:10.622Z"
   },
   {
    "duration": 16,
    "start_time": "2022-12-07T11:48:10.871Z"
   },
   {
    "duration": 207,
    "start_time": "2022-12-07T11:48:10.890Z"
   },
   {
    "duration": 24,
    "start_time": "2022-12-07T11:48:11.100Z"
   },
   {
    "duration": 46,
    "start_time": "2022-12-07T11:48:11.127Z"
   },
   {
    "duration": 48,
    "start_time": "2022-12-07T11:48:11.175Z"
   },
   {
    "duration": 16,
    "start_time": "2022-12-07T11:48:11.226Z"
   },
   {
    "duration": 61,
    "start_time": "2022-12-07T11:48:11.244Z"
   },
   {
    "duration": 32,
    "start_time": "2022-12-07T11:48:11.311Z"
   },
   {
    "duration": 14,
    "start_time": "2022-12-07T11:48:11.345Z"
   },
   {
    "duration": 76,
    "start_time": "2022-12-07T11:48:11.361Z"
   },
   {
    "duration": 58,
    "start_time": "2022-12-07T11:48:11.439Z"
   },
   {
    "duration": 12,
    "start_time": "2022-12-07T11:48:11.500Z"
   },
   {
    "duration": 164,
    "start_time": "2022-12-07T11:48:11.515Z"
   },
   {
    "duration": 1,
    "start_time": "2022-12-07T11:48:11.681Z"
   },
   {
    "duration": 0,
    "start_time": "2022-12-07T11:48:11.683Z"
   },
   {
    "duration": 0,
    "start_time": "2022-12-07T11:48:11.685Z"
   },
   {
    "duration": 0,
    "start_time": "2022-12-07T11:48:11.686Z"
   },
   {
    "duration": 21,
    "start_time": "2022-12-07T11:48:38.800Z"
   },
   {
    "duration": 20,
    "start_time": "2022-12-07T11:51:08.858Z"
   },
   {
    "duration": 20,
    "start_time": "2022-12-07T11:51:11.507Z"
   },
   {
    "duration": 7,
    "start_time": "2022-12-07T11:53:20.831Z"
   },
   {
    "duration": 16,
    "start_time": "2022-12-07T11:53:39.681Z"
   },
   {
    "duration": 8,
    "start_time": "2022-12-07T11:53:46.711Z"
   },
   {
    "duration": 188,
    "start_time": "2022-12-07T11:53:49.170Z"
   },
   {
    "duration": 1452,
    "start_time": "2022-12-07T11:54:13.598Z"
   },
   {
    "duration": 46,
    "start_time": "2022-12-07T11:54:15.052Z"
   },
   {
    "duration": 36,
    "start_time": "2022-12-07T11:54:15.099Z"
   },
   {
    "duration": 2302,
    "start_time": "2022-12-07T11:54:15.138Z"
   },
   {
    "duration": 11,
    "start_time": "2022-12-07T11:54:17.441Z"
   },
   {
    "duration": 29,
    "start_time": "2022-12-07T11:54:17.453Z"
   },
   {
    "duration": 54,
    "start_time": "2022-12-07T11:54:17.484Z"
   },
   {
    "duration": 8,
    "start_time": "2022-12-07T11:54:17.540Z"
   },
   {
    "duration": 21,
    "start_time": "2022-12-07T11:54:17.549Z"
   },
   {
    "duration": 15,
    "start_time": "2022-12-07T11:54:17.574Z"
   },
   {
    "duration": 22,
    "start_time": "2022-12-07T11:54:17.591Z"
   },
   {
    "duration": 20,
    "start_time": "2022-12-07T11:54:17.623Z"
   },
   {
    "duration": 15,
    "start_time": "2022-12-07T11:54:17.645Z"
   },
   {
    "duration": 14,
    "start_time": "2022-12-07T11:54:17.662Z"
   },
   {
    "duration": 14,
    "start_time": "2022-12-07T11:54:17.679Z"
   },
   {
    "duration": 29,
    "start_time": "2022-12-07T11:54:17.695Z"
   },
   {
    "duration": 7,
    "start_time": "2022-12-07T11:54:17.726Z"
   },
   {
    "duration": 30,
    "start_time": "2022-12-07T11:54:17.735Z"
   },
   {
    "duration": 18,
    "start_time": "2022-12-07T11:54:17.767Z"
   },
   {
    "duration": 170,
    "start_time": "2022-12-07T11:54:17.787Z"
   },
   {
    "duration": 6,
    "start_time": "2022-12-07T11:54:17.959Z"
   },
   {
    "duration": 40,
    "start_time": "2022-12-07T11:54:17.967Z"
   },
   {
    "duration": 14,
    "start_time": "2022-12-07T11:54:18.009Z"
   },
   {
    "duration": 18,
    "start_time": "2022-12-07T11:54:18.025Z"
   },
   {
    "duration": 33,
    "start_time": "2022-12-07T11:54:18.046Z"
   },
   {
    "duration": 17,
    "start_time": "2022-12-07T11:54:18.081Z"
   },
   {
    "duration": 28,
    "start_time": "2022-12-07T11:54:18.100Z"
   },
   {
    "duration": 41,
    "start_time": "2022-12-07T11:54:18.133Z"
   },
   {
    "duration": 34,
    "start_time": "2022-12-07T11:54:18.177Z"
   },
   {
    "duration": 25,
    "start_time": "2022-12-07T11:54:18.213Z"
   },
   {
    "duration": 14,
    "start_time": "2022-12-07T11:54:18.240Z"
   },
   {
    "duration": 36,
    "start_time": "2022-12-07T11:54:18.256Z"
   },
   {
    "duration": 24,
    "start_time": "2022-12-07T11:54:18.294Z"
   },
   {
    "duration": 20,
    "start_time": "2022-12-07T11:54:18.320Z"
   },
   {
    "duration": 328,
    "start_time": "2022-12-07T11:54:18.342Z"
   },
   {
    "duration": 36,
    "start_time": "2022-12-07T11:54:18.672Z"
   },
   {
    "duration": 6,
    "start_time": "2022-12-07T11:54:18.721Z"
   },
   {
    "duration": 249,
    "start_time": "2022-12-07T11:54:18.729Z"
   },
   {
    "duration": 202,
    "start_time": "2022-12-07T11:54:18.981Z"
   },
   {
    "duration": 223,
    "start_time": "2022-12-07T11:54:19.186Z"
   },
   {
    "duration": 336,
    "start_time": "2022-12-07T11:54:19.411Z"
   },
   {
    "duration": 238,
    "start_time": "2022-12-07T11:54:19.748Z"
   },
   {
    "duration": 276,
    "start_time": "2022-12-07T11:54:19.988Z"
   },
   {
    "duration": 251,
    "start_time": "2022-12-07T11:54:20.266Z"
   },
   {
    "duration": 179,
    "start_time": "2022-12-07T11:54:20.519Z"
   },
   {
    "duration": 263,
    "start_time": "2022-12-07T11:54:20.701Z"
   },
   {
    "duration": 220,
    "start_time": "2022-12-07T11:54:20.966Z"
   },
   {
    "duration": 239,
    "start_time": "2022-12-07T11:54:21.188Z"
   },
   {
    "duration": 236,
    "start_time": "2022-12-07T11:54:21.430Z"
   },
   {
    "duration": 262,
    "start_time": "2022-12-07T11:54:21.669Z"
   },
   {
    "duration": 279,
    "start_time": "2022-12-07T11:54:21.933Z"
   },
   {
    "duration": 286,
    "start_time": "2022-12-07T11:54:22.214Z"
   },
   {
    "duration": 6,
    "start_time": "2022-12-07T11:54:22.502Z"
   },
   {
    "duration": 7,
    "start_time": "2022-12-07T11:54:22.521Z"
   },
   {
    "duration": 23,
    "start_time": "2022-12-07T11:54:22.531Z"
   },
   {
    "duration": 325,
    "start_time": "2022-12-07T11:54:22.556Z"
   },
   {
    "duration": 7,
    "start_time": "2022-12-07T11:54:22.883Z"
   },
   {
    "duration": 250,
    "start_time": "2022-12-07T11:54:22.892Z"
   },
   {
    "duration": 8,
    "start_time": "2022-12-07T11:54:23.144Z"
   },
   {
    "duration": 278,
    "start_time": "2022-12-07T11:54:23.154Z"
   },
   {
    "duration": 7,
    "start_time": "2022-12-07T11:54:23.434Z"
   },
   {
    "duration": 292,
    "start_time": "2022-12-07T11:54:23.443Z"
   },
   {
    "duration": 7,
    "start_time": "2022-12-07T11:54:23.737Z"
   },
   {
    "duration": 276,
    "start_time": "2022-12-07T11:54:23.746Z"
   },
   {
    "duration": 330,
    "start_time": "2022-12-07T11:54:24.025Z"
   },
   {
    "duration": 7,
    "start_time": "2022-12-07T11:54:24.358Z"
   },
   {
    "duration": 331,
    "start_time": "2022-12-07T11:54:24.367Z"
   },
   {
    "duration": 7,
    "start_time": "2022-12-07T11:54:24.700Z"
   },
   {
    "duration": 323,
    "start_time": "2022-12-07T11:54:24.723Z"
   },
   {
    "duration": 7,
    "start_time": "2022-12-07T11:54:25.048Z"
   },
   {
    "duration": 8,
    "start_time": "2022-12-07T11:54:25.057Z"
   },
   {
    "duration": 17,
    "start_time": "2022-12-07T11:54:25.067Z"
   },
   {
    "duration": 38,
    "start_time": "2022-12-07T11:54:25.087Z"
   },
   {
    "duration": 330,
    "start_time": "2022-12-07T11:54:25.127Z"
   },
   {
    "duration": 16,
    "start_time": "2022-12-07T11:54:25.459Z"
   },
   {
    "duration": 239,
    "start_time": "2022-12-07T11:54:25.477Z"
   },
   {
    "duration": 15,
    "start_time": "2022-12-07T11:54:25.722Z"
   },
   {
    "duration": 49,
    "start_time": "2022-12-07T11:54:25.740Z"
   },
   {
    "duration": 60,
    "start_time": "2022-12-07T11:54:25.792Z"
   },
   {
    "duration": 14,
    "start_time": "2022-12-07T11:54:25.855Z"
   },
   {
    "duration": 52,
    "start_time": "2022-12-07T11:54:25.872Z"
   },
   {
    "duration": 28,
    "start_time": "2022-12-07T11:54:25.932Z"
   },
   {
    "duration": 12,
    "start_time": "2022-12-07T11:54:25.962Z"
   },
   {
    "duration": 56,
    "start_time": "2022-12-07T11:54:25.976Z"
   },
   {
    "duration": 29,
    "start_time": "2022-12-07T11:54:26.033Z"
   },
   {
    "duration": 6,
    "start_time": "2022-12-07T11:54:26.064Z"
   },
   {
    "duration": 7,
    "start_time": "2022-12-07T11:54:26.072Z"
   },
   {
    "duration": 54,
    "start_time": "2022-12-07T11:54:26.081Z"
   },
   {
    "duration": 52,
    "start_time": "2022-12-07T11:54:26.137Z"
   },
   {
    "duration": 38,
    "start_time": "2022-12-07T11:54:26.191Z"
   },
   {
    "duration": 199,
    "start_time": "2022-12-07T11:54:26.231Z"
   },
   {
    "duration": 7,
    "start_time": "2022-12-07T11:55:20.876Z"
   },
   {
    "duration": 6,
    "start_time": "2022-12-07T11:55:23.741Z"
   },
   {
    "duration": 6,
    "start_time": "2022-12-07T11:57:21.253Z"
   },
   {
    "duration": 1448,
    "start_time": "2022-12-07T11:57:29.624Z"
   },
   {
    "duration": 63,
    "start_time": "2022-12-07T11:57:31.074Z"
   },
   {
    "duration": 26,
    "start_time": "2022-12-07T11:57:31.139Z"
   },
   {
    "duration": 2645,
    "start_time": "2022-12-07T11:57:31.167Z"
   },
   {
    "duration": 26,
    "start_time": "2022-12-07T11:57:33.818Z"
   },
   {
    "duration": 43,
    "start_time": "2022-12-07T11:57:33.847Z"
   },
   {
    "duration": 36,
    "start_time": "2022-12-07T11:57:33.893Z"
   },
   {
    "duration": 8,
    "start_time": "2022-12-07T11:57:33.931Z"
   },
   {
    "duration": 14,
    "start_time": "2022-12-07T11:57:33.941Z"
   },
   {
    "duration": 10,
    "start_time": "2022-12-07T11:57:33.958Z"
   },
   {
    "duration": 23,
    "start_time": "2022-12-07T11:57:33.970Z"
   },
   {
    "duration": 40,
    "start_time": "2022-12-07T11:57:34.031Z"
   },
   {
    "duration": 23,
    "start_time": "2022-12-07T11:57:34.077Z"
   },
   {
    "duration": 9,
    "start_time": "2022-12-07T11:57:34.103Z"
   },
   {
    "duration": 18,
    "start_time": "2022-12-07T11:57:34.114Z"
   },
   {
    "duration": 18,
    "start_time": "2022-12-07T11:57:34.134Z"
   },
   {
    "duration": 22,
    "start_time": "2022-12-07T11:57:34.155Z"
   },
   {
    "duration": 26,
    "start_time": "2022-12-07T11:57:34.179Z"
   },
   {
    "duration": 45,
    "start_time": "2022-12-07T11:57:34.207Z"
   },
   {
    "duration": 230,
    "start_time": "2022-12-07T11:57:34.254Z"
   },
   {
    "duration": 13,
    "start_time": "2022-12-07T11:57:34.487Z"
   },
   {
    "duration": 63,
    "start_time": "2022-12-07T11:57:34.502Z"
   },
   {
    "duration": 9,
    "start_time": "2022-12-07T11:57:34.567Z"
   },
   {
    "duration": 18,
    "start_time": "2022-12-07T11:57:34.578Z"
   },
   {
    "duration": 33,
    "start_time": "2022-12-07T11:57:34.599Z"
   },
   {
    "duration": 17,
    "start_time": "2022-12-07T11:57:34.636Z"
   },
   {
    "duration": 11,
    "start_time": "2022-12-07T11:57:34.656Z"
   },
   {
    "duration": 15,
    "start_time": "2022-12-07T11:57:34.673Z"
   },
   {
    "duration": 81,
    "start_time": "2022-12-07T11:57:34.690Z"
   },
   {
    "duration": 6,
    "start_time": "2022-12-07T11:57:34.774Z"
   },
   {
    "duration": 18,
    "start_time": "2022-12-07T11:57:34.783Z"
   },
   {
    "duration": 36,
    "start_time": "2022-12-07T11:57:34.804Z"
   },
   {
    "duration": 28,
    "start_time": "2022-12-07T11:57:34.843Z"
   },
   {
    "duration": 25,
    "start_time": "2022-12-07T11:57:34.874Z"
   },
   {
    "duration": 531,
    "start_time": "2022-12-07T11:57:34.902Z"
   },
   {
    "duration": 39,
    "start_time": "2022-12-07T11:57:35.437Z"
   },
   {
    "duration": 6,
    "start_time": "2022-12-07T11:57:35.477Z"
   },
   {
    "duration": 287,
    "start_time": "2022-12-07T11:57:35.486Z"
   },
   {
    "duration": 271,
    "start_time": "2022-12-07T11:57:35.776Z"
   },
   {
    "duration": 293,
    "start_time": "2022-12-07T11:57:36.048Z"
   },
   {
    "duration": 472,
    "start_time": "2022-12-07T11:57:36.343Z"
   },
   {
    "duration": 306,
    "start_time": "2022-12-07T11:57:36.817Z"
   },
   {
    "duration": 300,
    "start_time": "2022-12-07T11:57:37.127Z"
   },
   {
    "duration": 319,
    "start_time": "2022-12-07T11:57:37.429Z"
   },
   {
    "duration": 226,
    "start_time": "2022-12-07T11:57:37.751Z"
   },
   {
    "duration": 364,
    "start_time": "2022-12-07T11:57:37.979Z"
   },
   {
    "duration": 325,
    "start_time": "2022-12-07T11:57:38.345Z"
   },
   {
    "duration": 321,
    "start_time": "2022-12-07T11:57:38.672Z"
   },
   {
    "duration": 317,
    "start_time": "2022-12-07T11:57:38.996Z"
   },
   {
    "duration": 300,
    "start_time": "2022-12-07T11:57:39.315Z"
   },
   {
    "duration": 357,
    "start_time": "2022-12-07T11:57:39.621Z"
   },
   {
    "duration": 383,
    "start_time": "2022-12-07T11:57:39.980Z"
   },
   {
    "duration": 11,
    "start_time": "2022-12-07T11:57:40.365Z"
   },
   {
    "duration": 48,
    "start_time": "2022-12-07T11:57:40.379Z"
   },
   {
    "duration": 25,
    "start_time": "2022-12-07T11:57:40.430Z"
   },
   {
    "duration": 398,
    "start_time": "2022-12-07T11:57:40.457Z"
   },
   {
    "duration": 11,
    "start_time": "2022-12-07T11:57:40.857Z"
   },
   {
    "duration": 359,
    "start_time": "2022-12-07T11:57:40.870Z"
   },
   {
    "duration": 7,
    "start_time": "2022-12-07T11:57:41.234Z"
   },
   {
    "duration": 381,
    "start_time": "2022-12-07T11:57:41.243Z"
   },
   {
    "duration": 17,
    "start_time": "2022-12-07T11:57:41.626Z"
   },
   {
    "duration": 364,
    "start_time": "2022-12-07T11:57:41.651Z"
   },
   {
    "duration": 7,
    "start_time": "2022-12-07T11:57:42.019Z"
   },
   {
    "duration": 283,
    "start_time": "2022-12-07T11:57:42.029Z"
   },
   {
    "duration": 377,
    "start_time": "2022-12-07T11:57:42.315Z"
   },
   {
    "duration": 8,
    "start_time": "2022-12-07T11:57:42.695Z"
   },
   {
    "duration": 400,
    "start_time": "2022-12-07T11:57:42.705Z"
   },
   {
    "duration": 16,
    "start_time": "2022-12-07T11:57:43.108Z"
   },
   {
    "duration": 335,
    "start_time": "2022-12-07T11:57:43.126Z"
   },
   {
    "duration": 8,
    "start_time": "2022-12-07T11:57:43.463Z"
   },
   {
    "duration": 18,
    "start_time": "2022-12-07T11:57:43.474Z"
   },
   {
    "duration": 53,
    "start_time": "2022-12-07T11:57:43.501Z"
   },
   {
    "duration": 17,
    "start_time": "2022-12-07T11:57:43.556Z"
   },
   {
    "duration": 346,
    "start_time": "2022-12-07T11:57:43.576Z"
   },
   {
    "duration": 23,
    "start_time": "2022-12-07T11:57:43.925Z"
   },
   {
    "duration": 307,
    "start_time": "2022-12-07T11:57:43.951Z"
   },
   {
    "duration": 12,
    "start_time": "2022-12-07T11:57:44.260Z"
   },
   {
    "duration": 58,
    "start_time": "2022-12-07T11:57:44.274Z"
   },
   {
    "duration": 36,
    "start_time": "2022-12-07T11:57:44.335Z"
   },
   {
    "duration": 14,
    "start_time": "2022-12-07T11:57:44.373Z"
   },
   {
    "duration": 67,
    "start_time": "2022-12-07T11:57:44.389Z"
   },
   {
    "duration": 37,
    "start_time": "2022-12-07T11:57:44.464Z"
   },
   {
    "duration": 18,
    "start_time": "2022-12-07T11:57:44.523Z"
   },
   {
    "duration": 43,
    "start_time": "2022-12-07T11:57:44.544Z"
   },
   {
    "duration": 57,
    "start_time": "2022-12-07T11:57:44.595Z"
   },
   {
    "duration": 9,
    "start_time": "2022-12-07T11:57:44.655Z"
   },
   {
    "duration": 9,
    "start_time": "2022-12-07T11:57:44.667Z"
   },
   {
    "duration": 65,
    "start_time": "2022-12-07T11:57:44.679Z"
   },
   {
    "duration": 76,
    "start_time": "2022-12-07T11:57:44.746Z"
   },
   {
    "duration": 9,
    "start_time": "2022-12-07T11:57:44.825Z"
   },
   {
    "duration": 292,
    "start_time": "2022-12-07T11:57:44.839Z"
   },
   {
    "duration": 31,
    "start_time": "2022-12-07T11:58:10.591Z"
   },
   {
    "duration": 17,
    "start_time": "2022-12-07T11:58:39.785Z"
   },
   {
    "duration": 284,
    "start_time": "2022-12-07T11:58:46.524Z"
   },
   {
    "duration": 15,
    "start_time": "2022-12-07T11:59:46.145Z"
   },
   {
    "duration": 13,
    "start_time": "2022-12-07T12:01:20.680Z"
   },
   {
    "duration": 28,
    "start_time": "2022-12-07T12:03:41.120Z"
   },
   {
    "duration": 27,
    "start_time": "2022-12-07T12:03:47.353Z"
   },
   {
    "duration": 28,
    "start_time": "2022-12-07T12:03:52.277Z"
   },
   {
    "duration": 10,
    "start_time": "2022-12-07T12:04:28.404Z"
   },
   {
    "duration": 8,
    "start_time": "2022-12-07T12:05:13.653Z"
   },
   {
    "duration": 166,
    "start_time": "2022-12-07T12:08:40.349Z"
   },
   {
    "duration": 13,
    "start_time": "2022-12-07T12:08:44.588Z"
   },
   {
    "duration": 16,
    "start_time": "2022-12-07T12:08:59.943Z"
   },
   {
    "duration": 13,
    "start_time": "2022-12-07T12:09:21.701Z"
   },
   {
    "duration": 306,
    "start_time": "2022-12-07T12:09:26.577Z"
   },
   {
    "duration": 10,
    "start_time": "2022-12-07T12:10:39.660Z"
   },
   {
    "duration": 1686,
    "start_time": "2022-12-07T12:10:49.681Z"
   },
   {
    "duration": 84,
    "start_time": "2022-12-07T12:10:51.371Z"
   },
   {
    "duration": 26,
    "start_time": "2022-12-07T12:10:51.457Z"
   },
   {
    "duration": 2961,
    "start_time": "2022-12-07T12:10:51.486Z"
   },
   {
    "duration": 25,
    "start_time": "2022-12-07T12:10:54.449Z"
   },
   {
    "duration": 64,
    "start_time": "2022-12-07T12:10:54.476Z"
   },
   {
    "duration": 93,
    "start_time": "2022-12-07T12:10:54.543Z"
   },
   {
    "duration": 112,
    "start_time": "2022-12-07T12:10:54.639Z"
   },
   {
    "duration": 51,
    "start_time": "2022-12-07T12:10:54.754Z"
   },
   {
    "duration": 50,
    "start_time": "2022-12-07T12:10:54.809Z"
   },
   {
    "duration": 24,
    "start_time": "2022-12-07T12:10:54.861Z"
   },
   {
    "duration": 38,
    "start_time": "2022-12-07T12:10:54.890Z"
   },
   {
    "duration": 68,
    "start_time": "2022-12-07T12:10:54.930Z"
   },
   {
    "duration": 48,
    "start_time": "2022-12-07T12:10:55.000Z"
   },
   {
    "duration": 23,
    "start_time": "2022-12-07T12:10:55.050Z"
   },
   {
    "duration": 27,
    "start_time": "2022-12-07T12:10:55.075Z"
   },
   {
    "duration": 31,
    "start_time": "2022-12-07T12:10:55.103Z"
   },
   {
    "duration": 33,
    "start_time": "2022-12-07T12:10:55.137Z"
   },
   {
    "duration": 44,
    "start_time": "2022-12-07T12:10:55.172Z"
   },
   {
    "duration": 238,
    "start_time": "2022-12-07T12:10:55.218Z"
   },
   {
    "duration": 13,
    "start_time": "2022-12-07T12:10:55.459Z"
   },
   {
    "duration": 104,
    "start_time": "2022-12-07T12:10:55.475Z"
   },
   {
    "duration": 25,
    "start_time": "2022-12-07T12:10:55.588Z"
   },
   {
    "duration": 84,
    "start_time": "2022-12-07T12:10:55.616Z"
   },
   {
    "duration": 62,
    "start_time": "2022-12-07T12:10:55.702Z"
   },
   {
    "duration": 40,
    "start_time": "2022-12-07T12:10:55.767Z"
   },
   {
    "duration": 109,
    "start_time": "2022-12-07T12:10:55.811Z"
   },
   {
    "duration": 83,
    "start_time": "2022-12-07T12:10:55.932Z"
   },
   {
    "duration": 90,
    "start_time": "2022-12-07T12:10:56.018Z"
   },
   {
    "duration": 32,
    "start_time": "2022-12-07T12:10:56.110Z"
   },
   {
    "duration": 62,
    "start_time": "2022-12-07T12:10:56.144Z"
   },
   {
    "duration": 83,
    "start_time": "2022-12-07T12:10:56.208Z"
   },
   {
    "duration": 34,
    "start_time": "2022-12-07T12:10:56.294Z"
   },
   {
    "duration": 94,
    "start_time": "2022-12-07T12:10:56.330Z"
   },
   {
    "duration": 519,
    "start_time": "2022-12-07T12:10:56.427Z"
   },
   {
    "duration": 45,
    "start_time": "2022-12-07T12:10:56.948Z"
   },
   {
    "duration": 32,
    "start_time": "2022-12-07T12:10:56.995Z"
   },
   {
    "duration": 275,
    "start_time": "2022-12-07T12:10:57.029Z"
   },
   {
    "duration": 250,
    "start_time": "2022-12-07T12:10:57.307Z"
   },
   {
    "duration": 289,
    "start_time": "2022-12-07T12:10:57.559Z"
   },
   {
    "duration": 463,
    "start_time": "2022-12-07T12:10:57.850Z"
   },
   {
    "duration": 293,
    "start_time": "2022-12-07T12:10:58.317Z"
   },
   {
    "duration": 284,
    "start_time": "2022-12-07T12:10:58.612Z"
   },
   {
    "duration": 323,
    "start_time": "2022-12-07T12:10:58.899Z"
   },
   {
    "duration": 179,
    "start_time": "2022-12-07T12:10:59.224Z"
   },
   {
    "duration": 257,
    "start_time": "2022-12-07T12:10:59.405Z"
   },
   {
    "duration": 319,
    "start_time": "2022-12-07T12:10:59.664Z"
   },
   {
    "duration": 324,
    "start_time": "2022-12-07T12:10:59.986Z"
   },
   {
    "duration": 325,
    "start_time": "2022-12-07T12:11:00.312Z"
   },
   {
    "duration": 288,
    "start_time": "2022-12-07T12:11:00.640Z"
   },
   {
    "duration": 379,
    "start_time": "2022-12-07T12:11:00.931Z"
   },
   {
    "duration": 378,
    "start_time": "2022-12-07T12:11:01.313Z"
   },
   {
    "duration": 9,
    "start_time": "2022-12-07T12:11:01.694Z"
   },
   {
    "duration": 45,
    "start_time": "2022-12-07T12:11:01.705Z"
   },
   {
    "duration": 29,
    "start_time": "2022-12-07T12:11:01.753Z"
   },
   {
    "duration": 297,
    "start_time": "2022-12-07T12:11:01.784Z"
   },
   {
    "duration": 7,
    "start_time": "2022-12-07T12:11:02.083Z"
   },
   {
    "duration": 339,
    "start_time": "2022-12-07T12:11:02.092Z"
   },
   {
    "duration": 8,
    "start_time": "2022-12-07T12:11:02.434Z"
   },
   {
    "duration": 368,
    "start_time": "2022-12-07T12:11:02.444Z"
   },
   {
    "duration": 12,
    "start_time": "2022-12-07T12:11:02.814Z"
   },
   {
    "duration": 377,
    "start_time": "2022-12-07T12:11:02.829Z"
   },
   {
    "duration": 21,
    "start_time": "2022-12-07T12:11:03.208Z"
   },
   {
    "duration": 297,
    "start_time": "2022-12-07T12:11:03.231Z"
   },
   {
    "duration": 298,
    "start_time": "2022-12-07T12:11:03.530Z"
   },
   {
    "duration": 7,
    "start_time": "2022-12-07T12:11:03.830Z"
   },
   {
    "duration": 369,
    "start_time": "2022-12-07T12:11:03.839Z"
   },
   {
    "duration": 8,
    "start_time": "2022-12-07T12:11:04.210Z"
   },
   {
    "duration": 412,
    "start_time": "2022-12-07T12:11:04.223Z"
   },
   {
    "duration": 14,
    "start_time": "2022-12-07T12:11:04.644Z"
   },
   {
    "duration": 32,
    "start_time": "2022-12-07T12:11:04.665Z"
   },
   {
    "duration": 17,
    "start_time": "2022-12-07T12:11:04.699Z"
   },
   {
    "duration": 303,
    "start_time": "2022-12-07T12:11:04.719Z"
   },
   {
    "duration": 19,
    "start_time": "2022-12-07T12:11:05.025Z"
   },
   {
    "duration": 275,
    "start_time": "2022-12-07T12:11:05.047Z"
   },
   {
    "duration": 14,
    "start_time": "2022-12-07T12:11:05.324Z"
   },
   {
    "duration": 50,
    "start_time": "2022-12-07T12:11:05.341Z"
   },
   {
    "duration": 51,
    "start_time": "2022-12-07T12:11:05.393Z"
   },
   {
    "duration": 29,
    "start_time": "2022-12-07T12:11:05.446Z"
   },
   {
    "duration": 47,
    "start_time": "2022-12-07T12:11:05.477Z"
   },
   {
    "duration": 42,
    "start_time": "2022-12-07T12:11:05.527Z"
   },
   {
    "duration": 21,
    "start_time": "2022-12-07T12:11:05.579Z"
   },
   {
    "duration": 50,
    "start_time": "2022-12-07T12:11:05.602Z"
   },
   {
    "duration": 36,
    "start_time": "2022-12-07T12:11:05.654Z"
   },
   {
    "duration": 32,
    "start_time": "2022-12-07T12:11:05.692Z"
   },
   {
    "duration": 41,
    "start_time": "2022-12-07T12:11:05.727Z"
   },
   {
    "duration": 65,
    "start_time": "2022-12-07T12:11:05.771Z"
   },
   {
    "duration": 72,
    "start_time": "2022-12-07T12:11:05.838Z"
   },
   {
    "duration": 38,
    "start_time": "2022-12-07T12:11:05.915Z"
   },
   {
    "duration": 211,
    "start_time": "2022-12-07T12:11:05.960Z"
   },
   {
    "duration": 39,
    "start_time": "2022-12-07T12:13:52.623Z"
   },
   {
    "duration": 11,
    "start_time": "2022-12-07T12:14:43.037Z"
   },
   {
    "duration": 1628,
    "start_time": "2022-12-07T12:15:13.876Z"
   },
   {
    "duration": 61,
    "start_time": "2022-12-07T12:15:15.506Z"
   },
   {
    "duration": 17,
    "start_time": "2022-12-07T12:15:15.569Z"
   },
   {
    "duration": 2647,
    "start_time": "2022-12-07T12:15:15.589Z"
   },
   {
    "duration": 13,
    "start_time": "2022-12-07T12:15:18.238Z"
   },
   {
    "duration": 31,
    "start_time": "2022-12-07T12:15:18.253Z"
   },
   {
    "duration": 52,
    "start_time": "2022-12-07T12:15:18.286Z"
   },
   {
    "duration": 9,
    "start_time": "2022-12-07T12:15:18.340Z"
   },
   {
    "duration": 14,
    "start_time": "2022-12-07T12:15:18.351Z"
   },
   {
    "duration": 15,
    "start_time": "2022-12-07T12:15:18.370Z"
   },
   {
    "duration": 37,
    "start_time": "2022-12-07T12:15:18.387Z"
   },
   {
    "duration": 24,
    "start_time": "2022-12-07T12:15:18.425Z"
   },
   {
    "duration": 15,
    "start_time": "2022-12-07T12:15:18.452Z"
   },
   {
    "duration": 12,
    "start_time": "2022-12-07T12:15:18.469Z"
   },
   {
    "duration": 11,
    "start_time": "2022-12-07T12:15:18.484Z"
   },
   {
    "duration": 6,
    "start_time": "2022-12-07T12:15:18.521Z"
   },
   {
    "duration": 8,
    "start_time": "2022-12-07T12:15:18.529Z"
   },
   {
    "duration": 20,
    "start_time": "2022-12-07T12:15:18.538Z"
   },
   {
    "duration": 21,
    "start_time": "2022-12-07T12:15:18.560Z"
   },
   {
    "duration": 251,
    "start_time": "2022-12-07T12:15:18.583Z"
   },
   {
    "duration": 8,
    "start_time": "2022-12-07T12:15:18.836Z"
   },
   {
    "duration": 48,
    "start_time": "2022-12-07T12:15:18.846Z"
   },
   {
    "duration": 8,
    "start_time": "2022-12-07T12:15:18.898Z"
   },
   {
    "duration": 17,
    "start_time": "2022-12-07T12:15:18.922Z"
   },
   {
    "duration": 25,
    "start_time": "2022-12-07T12:15:18.941Z"
   },
   {
    "duration": 22,
    "start_time": "2022-12-07T12:15:18.969Z"
   },
   {
    "duration": 30,
    "start_time": "2022-12-07T12:15:18.993Z"
   },
   {
    "duration": 18,
    "start_time": "2022-12-07T12:15:19.030Z"
   },
   {
    "duration": 68,
    "start_time": "2022-12-07T12:15:19.051Z"
   },
   {
    "duration": 6,
    "start_time": "2022-12-07T12:15:19.121Z"
   },
   {
    "duration": 23,
    "start_time": "2022-12-07T12:15:19.130Z"
   },
   {
    "duration": 36,
    "start_time": "2022-12-07T12:15:19.155Z"
   },
   {
    "duration": 35,
    "start_time": "2022-12-07T12:15:19.194Z"
   },
   {
    "duration": 33,
    "start_time": "2022-12-07T12:15:19.231Z"
   },
   {
    "duration": 314,
    "start_time": "2022-12-07T12:15:19.266Z"
   },
   {
    "duration": 27,
    "start_time": "2022-12-07T12:15:19.582Z"
   },
   {
    "duration": 14,
    "start_time": "2022-12-07T12:15:19.610Z"
   },
   {
    "duration": 217,
    "start_time": "2022-12-07T12:15:19.626Z"
   },
   {
    "duration": 193,
    "start_time": "2022-12-07T12:15:19.845Z"
   },
   {
    "duration": 204,
    "start_time": "2022-12-07T12:15:20.040Z"
   },
   {
    "duration": 337,
    "start_time": "2022-12-07T12:15:20.245Z"
   },
   {
    "duration": 228,
    "start_time": "2022-12-07T12:15:20.584Z"
   },
   {
    "duration": 252,
    "start_time": "2022-12-07T12:15:20.814Z"
   },
   {
    "duration": 269,
    "start_time": "2022-12-07T12:15:21.068Z"
   },
   {
    "duration": 203,
    "start_time": "2022-12-07T12:15:21.340Z"
   },
   {
    "duration": 267,
    "start_time": "2022-12-07T12:15:21.546Z"
   },
   {
    "duration": 227,
    "start_time": "2022-12-07T12:15:21.815Z"
   },
   {
    "duration": 245,
    "start_time": "2022-12-07T12:15:22.044Z"
   },
   {
    "duration": 223,
    "start_time": "2022-12-07T12:15:22.291Z"
   },
   {
    "duration": 214,
    "start_time": "2022-12-07T12:15:22.516Z"
   },
   {
    "duration": 280,
    "start_time": "2022-12-07T12:15:22.732Z"
   },
   {
    "duration": 288,
    "start_time": "2022-12-07T12:15:23.014Z"
   },
   {
    "duration": 5,
    "start_time": "2022-12-07T12:15:23.304Z"
   },
   {
    "duration": 7,
    "start_time": "2022-12-07T12:15:23.322Z"
   },
   {
    "duration": 14,
    "start_time": "2022-12-07T12:15:23.331Z"
   },
   {
    "duration": 274,
    "start_time": "2022-12-07T12:15:23.347Z"
   },
   {
    "duration": 8,
    "start_time": "2022-12-07T12:15:23.623Z"
   },
   {
    "duration": 257,
    "start_time": "2022-12-07T12:15:23.634Z"
   },
   {
    "duration": 7,
    "start_time": "2022-12-07T12:15:23.892Z"
   },
   {
    "duration": 318,
    "start_time": "2022-12-07T12:15:23.901Z"
   },
   {
    "duration": 9,
    "start_time": "2022-12-07T12:15:24.227Z"
   },
   {
    "duration": 336,
    "start_time": "2022-12-07T12:15:24.239Z"
   },
   {
    "duration": 7,
    "start_time": "2022-12-07T12:15:24.576Z"
   },
   {
    "duration": 228,
    "start_time": "2022-12-07T12:15:24.585Z"
   },
   {
    "duration": 264,
    "start_time": "2022-12-07T12:15:24.822Z"
   },
   {
    "duration": 6,
    "start_time": "2022-12-07T12:15:25.088Z"
   },
   {
    "duration": 261,
    "start_time": "2022-12-07T12:15:25.096Z"
   },
   {
    "duration": 7,
    "start_time": "2022-12-07T12:15:25.359Z"
   },
   {
    "duration": 249,
    "start_time": "2022-12-07T12:15:25.368Z"
   },
   {
    "duration": 7,
    "start_time": "2022-12-07T12:15:25.623Z"
   },
   {
    "duration": 19,
    "start_time": "2022-12-07T12:15:25.632Z"
   },
   {
    "duration": 13,
    "start_time": "2022-12-07T12:15:25.653Z"
   },
   {
    "duration": 299,
    "start_time": "2022-12-07T12:15:25.668Z"
   },
   {
    "duration": 13,
    "start_time": "2022-12-07T12:15:25.969Z"
   },
   {
    "duration": 252,
    "start_time": "2022-12-07T12:15:25.984Z"
   },
   {
    "duration": 11,
    "start_time": "2022-12-07T12:15:26.239Z"
   },
   {
    "duration": 33,
    "start_time": "2022-12-07T12:15:26.252Z"
   },
   {
    "duration": 61,
    "start_time": "2022-12-07T12:15:26.287Z"
   },
   {
    "duration": 14,
    "start_time": "2022-12-07T12:15:26.351Z"
   },
   {
    "duration": 57,
    "start_time": "2022-12-07T12:15:26.367Z"
   },
   {
    "duration": 40,
    "start_time": "2022-12-07T12:15:26.427Z"
   },
   {
    "duration": 32,
    "start_time": "2022-12-07T12:15:26.475Z"
   },
   {
    "duration": 52,
    "start_time": "2022-12-07T12:15:26.510Z"
   },
   {
    "duration": 39,
    "start_time": "2022-12-07T12:15:26.564Z"
   },
   {
    "duration": 23,
    "start_time": "2022-12-07T12:15:26.605Z"
   },
   {
    "duration": 37,
    "start_time": "2022-12-07T12:15:26.631Z"
   },
   {
    "duration": 62,
    "start_time": "2022-12-07T12:15:26.670Z"
   },
   {
    "duration": 11,
    "start_time": "2022-12-07T12:15:26.735Z"
   },
   {
    "duration": 18,
    "start_time": "2022-12-07T12:15:26.749Z"
   },
   {
    "duration": 232,
    "start_time": "2022-12-07T12:15:26.769Z"
   },
   {
    "duration": 34,
    "start_time": "2022-12-07T12:16:56.310Z"
   },
   {
    "duration": 5,
    "start_time": "2022-12-07T12:17:46.595Z"
   },
   {
    "duration": 5,
    "start_time": "2022-12-07T12:17:50.212Z"
   },
   {
    "duration": 34,
    "start_time": "2022-12-07T12:18:36.126Z"
   },
   {
    "duration": 5,
    "start_time": "2022-12-07T12:19:10.222Z"
   },
   {
    "duration": 31,
    "start_time": "2022-12-07T12:19:27.303Z"
   },
   {
    "duration": 1420,
    "start_time": "2022-12-07T12:19:41.547Z"
   },
   {
    "duration": 44,
    "start_time": "2022-12-07T12:19:42.969Z"
   },
   {
    "duration": 20,
    "start_time": "2022-12-07T12:19:43.023Z"
   },
   {
    "duration": 2459,
    "start_time": "2022-12-07T12:19:43.045Z"
   },
   {
    "duration": 14,
    "start_time": "2022-12-07T12:19:45.506Z"
   },
   {
    "duration": 55,
    "start_time": "2022-12-07T12:19:45.522Z"
   },
   {
    "duration": 29,
    "start_time": "2022-12-07T12:19:45.579Z"
   },
   {
    "duration": 20,
    "start_time": "2022-12-07T12:19:45.609Z"
   },
   {
    "duration": 42,
    "start_time": "2022-12-07T12:19:45.631Z"
   },
   {
    "duration": 11,
    "start_time": "2022-12-07T12:19:45.677Z"
   },
   {
    "duration": 30,
    "start_time": "2022-12-07T12:19:45.690Z"
   },
   {
    "duration": 30,
    "start_time": "2022-12-07T12:19:45.723Z"
   },
   {
    "duration": 10,
    "start_time": "2022-12-07T12:19:45.755Z"
   },
   {
    "duration": 27,
    "start_time": "2022-12-07T12:19:45.767Z"
   },
   {
    "duration": 43,
    "start_time": "2022-12-07T12:19:45.796Z"
   },
   {
    "duration": 41,
    "start_time": "2022-12-07T12:19:45.842Z"
   },
   {
    "duration": 23,
    "start_time": "2022-12-07T12:19:45.885Z"
   },
   {
    "duration": 43,
    "start_time": "2022-12-07T12:19:45.911Z"
   },
   {
    "duration": 31,
    "start_time": "2022-12-07T12:19:45.957Z"
   },
   {
    "duration": 189,
    "start_time": "2022-12-07T12:19:45.990Z"
   },
   {
    "duration": 8,
    "start_time": "2022-12-07T12:19:46.181Z"
   },
   {
    "duration": 78,
    "start_time": "2022-12-07T12:19:46.191Z"
   },
   {
    "duration": 8,
    "start_time": "2022-12-07T12:19:46.272Z"
   },
   {
    "duration": 23,
    "start_time": "2022-12-07T12:19:46.282Z"
   },
   {
    "duration": 33,
    "start_time": "2022-12-07T12:19:46.308Z"
   },
   {
    "duration": 22,
    "start_time": "2022-12-07T12:19:46.343Z"
   },
   {
    "duration": 14,
    "start_time": "2022-12-07T12:19:46.367Z"
   },
   {
    "duration": 10,
    "start_time": "2022-12-07T12:19:46.388Z"
   },
   {
    "duration": 47,
    "start_time": "2022-12-07T12:19:46.400Z"
   },
   {
    "duration": 20,
    "start_time": "2022-12-07T12:19:46.449Z"
   },
   {
    "duration": 23,
    "start_time": "2022-12-07T12:19:46.471Z"
   },
   {
    "duration": 41,
    "start_time": "2022-12-07T12:19:46.496Z"
   },
   {
    "duration": 17,
    "start_time": "2022-12-07T12:19:46.539Z"
   },
   {
    "duration": 24,
    "start_time": "2022-12-07T12:19:46.560Z"
   },
   {
    "duration": 312,
    "start_time": "2022-12-07T12:19:46.586Z"
   },
   {
    "duration": 39,
    "start_time": "2022-12-07T12:19:46.900Z"
   },
   {
    "duration": 5,
    "start_time": "2022-12-07T12:19:46.941Z"
   },
   {
    "duration": 197,
    "start_time": "2022-12-07T12:19:46.948Z"
   },
   {
    "duration": 242,
    "start_time": "2022-12-07T12:19:47.147Z"
   },
   {
    "duration": 202,
    "start_time": "2022-12-07T12:19:47.391Z"
   },
   {
    "duration": 328,
    "start_time": "2022-12-07T12:19:47.596Z"
   },
   {
    "duration": 307,
    "start_time": "2022-12-07T12:19:47.926Z"
   },
   {
    "duration": 213,
    "start_time": "2022-12-07T12:19:48.235Z"
   },
   {
    "duration": 217,
    "start_time": "2022-12-07T12:19:48.450Z"
   },
   {
    "duration": 169,
    "start_time": "2022-12-07T12:19:48.669Z"
   },
   {
    "duration": 305,
    "start_time": "2022-12-07T12:19:48.840Z"
   },
   {
    "duration": 298,
    "start_time": "2022-12-07T12:19:49.148Z"
   },
   {
    "duration": 251,
    "start_time": "2022-12-07T12:19:49.449Z"
   },
   {
    "duration": 247,
    "start_time": "2022-12-07T12:19:49.702Z"
   },
   {
    "duration": 246,
    "start_time": "2022-12-07T12:19:49.951Z"
   },
   {
    "duration": 287,
    "start_time": "2022-12-07T12:19:50.199Z"
   },
   {
    "duration": 280,
    "start_time": "2022-12-07T12:19:50.488Z"
   },
   {
    "duration": 6,
    "start_time": "2022-12-07T12:19:50.770Z"
   },
   {
    "duration": 16,
    "start_time": "2022-12-07T12:19:50.778Z"
   },
   {
    "duration": 38,
    "start_time": "2022-12-07T12:19:50.796Z"
   },
   {
    "duration": 256,
    "start_time": "2022-12-07T12:19:50.836Z"
   },
   {
    "duration": 6,
    "start_time": "2022-12-07T12:19:51.094Z"
   },
   {
    "duration": 255,
    "start_time": "2022-12-07T12:19:51.102Z"
   },
   {
    "duration": 11,
    "start_time": "2022-12-07T12:19:51.359Z"
   },
   {
    "duration": 287,
    "start_time": "2022-12-07T12:19:51.372Z"
   },
   {
    "duration": 7,
    "start_time": "2022-12-07T12:19:51.661Z"
   },
   {
    "duration": 291,
    "start_time": "2022-12-07T12:19:51.670Z"
   },
   {
    "duration": 5,
    "start_time": "2022-12-07T12:19:51.964Z"
   },
   {
    "duration": 221,
    "start_time": "2022-12-07T12:19:51.971Z"
   },
   {
    "duration": 303,
    "start_time": "2022-12-07T12:19:52.195Z"
   },
   {
    "duration": 8,
    "start_time": "2022-12-07T12:19:52.501Z"
   },
   {
    "duration": 261,
    "start_time": "2022-12-07T12:19:52.524Z"
   },
   {
    "duration": 6,
    "start_time": "2022-12-07T12:19:52.787Z"
   },
   {
    "duration": 266,
    "start_time": "2022-12-07T12:19:52.795Z"
   },
   {
    "duration": 7,
    "start_time": "2022-12-07T12:19:53.064Z"
   },
   {
    "duration": 21,
    "start_time": "2022-12-07T12:19:53.072Z"
   },
   {
    "duration": 34,
    "start_time": "2022-12-07T12:19:53.096Z"
   },
   {
    "duration": 310,
    "start_time": "2022-12-07T12:19:53.132Z"
   },
   {
    "duration": 16,
    "start_time": "2022-12-07T12:19:53.450Z"
   },
   {
    "duration": 194,
    "start_time": "2022-12-07T12:19:53.468Z"
   },
   {
    "duration": 15,
    "start_time": "2022-12-07T12:19:53.664Z"
   },
   {
    "duration": 47,
    "start_time": "2022-12-07T12:19:53.681Z"
   },
   {
    "duration": 27,
    "start_time": "2022-12-07T12:19:53.730Z"
   },
   {
    "duration": 12,
    "start_time": "2022-12-07T12:19:53.759Z"
   },
   {
    "duration": 73,
    "start_time": "2022-12-07T12:19:53.772Z"
   },
   {
    "duration": 39,
    "start_time": "2022-12-07T12:19:53.848Z"
   },
   {
    "duration": 35,
    "start_time": "2022-12-07T12:19:53.895Z"
   },
   {
    "duration": 52,
    "start_time": "2022-12-07T12:19:53.932Z"
   },
   {
    "duration": 37,
    "start_time": "2022-12-07T12:19:53.986Z"
   },
   {
    "duration": 10,
    "start_time": "2022-12-07T12:19:54.026Z"
   },
   {
    "duration": 50,
    "start_time": "2022-12-07T12:19:54.038Z"
   },
   {
    "duration": 43,
    "start_time": "2022-12-07T12:19:54.093Z"
   },
   {
    "duration": 69,
    "start_time": "2022-12-07T12:19:54.138Z"
   },
   {
    "duration": 20,
    "start_time": "2022-12-07T12:19:54.210Z"
   },
   {
    "duration": 41,
    "start_time": "2022-12-07T12:19:54.232Z"
   },
   {
    "duration": 255,
    "start_time": "2022-12-07T12:19:54.275Z"
   },
   {
    "duration": 7,
    "start_time": "2022-12-07T12:21:22.342Z"
   },
   {
    "duration": 5,
    "start_time": "2022-12-07T12:21:25.148Z"
   },
   {
    "duration": 8,
    "start_time": "2022-12-07T12:21:27.010Z"
   },
   {
    "duration": 158,
    "start_time": "2022-12-07T12:21:32.928Z"
   },
   {
    "duration": 5,
    "start_time": "2022-12-07T12:21:57.696Z"
   },
   {
    "duration": 7,
    "start_time": "2022-12-07T12:22:00.087Z"
   },
   {
    "duration": 62,
    "start_time": "2022-12-07T12:22:30.113Z"
   },
   {
    "duration": 10,
    "start_time": "2022-12-07T12:22:41.306Z"
   },
   {
    "duration": 29,
    "start_time": "2022-12-07T12:22:43.543Z"
   },
   {
    "duration": 18,
    "start_time": "2022-12-07T12:22:59.358Z"
   },
   {
    "duration": 216,
    "start_time": "2022-12-07T12:23:04.689Z"
   },
   {
    "duration": 19,
    "start_time": "2022-12-07T12:27:32.047Z"
   },
   {
    "duration": 87,
    "start_time": "2022-12-07T12:32:40.351Z"
   },
   {
    "duration": 1412,
    "start_time": "2022-12-07T15:15:48.129Z"
   },
   {
    "duration": 44,
    "start_time": "2022-12-07T15:15:49.543Z"
   },
   {
    "duration": 15,
    "start_time": "2022-12-07T15:15:49.589Z"
   },
   {
    "duration": 2222,
    "start_time": "2022-12-07T15:15:49.606Z"
   },
   {
    "duration": 22,
    "start_time": "2022-12-07T15:15:51.830Z"
   },
   {
    "duration": 28,
    "start_time": "2022-12-07T15:15:51.854Z"
   },
   {
    "duration": 27,
    "start_time": "2022-12-07T15:15:51.884Z"
   },
   {
    "duration": 39,
    "start_time": "2022-12-07T15:15:51.912Z"
   },
   {
    "duration": 5,
    "start_time": "2022-12-07T15:15:51.953Z"
   },
   {
    "duration": 7,
    "start_time": "2022-12-07T15:15:51.961Z"
   },
   {
    "duration": 12,
    "start_time": "2022-12-07T15:15:51.970Z"
   },
   {
    "duration": 20,
    "start_time": "2022-12-07T15:15:51.984Z"
   },
   {
    "duration": 7,
    "start_time": "2022-12-07T15:15:52.006Z"
   },
   {
    "duration": 37,
    "start_time": "2022-12-07T15:15:52.014Z"
   },
   {
    "duration": 11,
    "start_time": "2022-12-07T15:15:52.053Z"
   },
   {
    "duration": 5,
    "start_time": "2022-12-07T15:15:52.066Z"
   },
   {
    "duration": 7,
    "start_time": "2022-12-07T15:15:52.073Z"
   },
   {
    "duration": 10,
    "start_time": "2022-12-07T15:15:52.083Z"
   },
   {
    "duration": 9,
    "start_time": "2022-12-07T15:15:52.095Z"
   },
   {
    "duration": 207,
    "start_time": "2022-12-07T15:15:52.106Z"
   },
   {
    "duration": 5,
    "start_time": "2022-12-07T15:15:52.315Z"
   },
   {
    "duration": 44,
    "start_time": "2022-12-07T15:15:52.322Z"
   },
   {
    "duration": 8,
    "start_time": "2022-12-07T15:15:52.368Z"
   },
   {
    "duration": 10,
    "start_time": "2022-12-07T15:15:52.378Z"
   },
   {
    "duration": 19,
    "start_time": "2022-12-07T15:15:52.390Z"
   },
   {
    "duration": 14,
    "start_time": "2022-12-07T15:15:52.411Z"
   },
   {
    "duration": 24,
    "start_time": "2022-12-07T15:15:52.427Z"
   },
   {
    "duration": 11,
    "start_time": "2022-12-07T15:15:52.457Z"
   },
   {
    "duration": 29,
    "start_time": "2022-12-07T15:15:52.470Z"
   },
   {
    "duration": 12,
    "start_time": "2022-12-07T15:15:52.500Z"
   },
   {
    "duration": 10,
    "start_time": "2022-12-07T15:15:52.514Z"
   },
   {
    "duration": 33,
    "start_time": "2022-12-07T15:15:52.525Z"
   },
   {
    "duration": 19,
    "start_time": "2022-12-07T15:15:52.560Z"
   },
   {
    "duration": 17,
    "start_time": "2022-12-07T15:15:52.581Z"
   },
   {
    "duration": 16,
    "start_time": "2022-12-07T15:15:52.600Z"
   },
   {
    "duration": 310,
    "start_time": "2022-12-07T15:15:52.618Z"
   },
   {
    "duration": 33,
    "start_time": "2022-12-07T15:15:52.930Z"
   },
   {
    "duration": 5,
    "start_time": "2022-12-07T15:15:52.965Z"
   },
   {
    "duration": 197,
    "start_time": "2022-12-07T15:15:52.972Z"
   },
   {
    "duration": 170,
    "start_time": "2022-12-07T15:15:53.171Z"
   },
   {
    "duration": 237,
    "start_time": "2022-12-07T15:15:53.342Z"
   },
   {
    "duration": 311,
    "start_time": "2022-12-07T15:15:53.581Z"
   },
   {
    "duration": 333,
    "start_time": "2022-12-07T15:15:53.895Z"
   },
   {
    "duration": 221,
    "start_time": "2022-12-07T15:15:54.230Z"
   },
   {
    "duration": 269,
    "start_time": "2022-12-07T15:15:54.453Z"
   },
   {
    "duration": 208,
    "start_time": "2022-12-07T15:15:54.724Z"
   },
   {
    "duration": 273,
    "start_time": "2022-12-07T15:15:54.934Z"
   },
   {
    "duration": 210,
    "start_time": "2022-12-07T15:15:55.210Z"
   },
   {
    "duration": 239,
    "start_time": "2022-12-07T15:15:55.422Z"
   },
   {
    "duration": 221,
    "start_time": "2022-12-07T15:15:55.663Z"
   },
   {
    "duration": 206,
    "start_time": "2022-12-07T15:15:55.887Z"
   },
   {
    "duration": 261,
    "start_time": "2022-12-07T15:15:56.095Z"
   },
   {
    "duration": 285,
    "start_time": "2022-12-07T15:15:56.358Z"
   },
   {
    "duration": 5,
    "start_time": "2022-12-07T15:15:56.650Z"
   },
   {
    "duration": 8,
    "start_time": "2022-12-07T15:15:56.657Z"
   },
   {
    "duration": 13,
    "start_time": "2022-12-07T15:15:56.667Z"
   },
   {
    "duration": 261,
    "start_time": "2022-12-07T15:15:56.682Z"
   },
   {
    "duration": 5,
    "start_time": "2022-12-07T15:15:56.951Z"
   },
   {
    "duration": 237,
    "start_time": "2022-12-07T15:15:56.958Z"
   },
   {
    "duration": 7,
    "start_time": "2022-12-07T15:15:57.197Z"
   },
   {
    "duration": 247,
    "start_time": "2022-12-07T15:15:57.206Z"
   },
   {
    "duration": 6,
    "start_time": "2022-12-07T15:15:57.454Z"
   },
   {
    "duration": 272,
    "start_time": "2022-12-07T15:15:57.461Z"
   },
   {
    "duration": 17,
    "start_time": "2022-12-07T15:15:57.735Z"
   },
   {
    "duration": 186,
    "start_time": "2022-12-07T15:15:57.754Z"
   },
   {
    "duration": 255,
    "start_time": "2022-12-07T15:15:57.942Z"
   },
   {
    "duration": 6,
    "start_time": "2022-12-07T15:15:58.199Z"
   },
   {
    "duration": 247,
    "start_time": "2022-12-07T15:15:58.207Z"
   },
   {
    "duration": 6,
    "start_time": "2022-12-07T15:15:58.456Z"
   },
   {
    "duration": 246,
    "start_time": "2022-12-07T15:15:58.464Z"
   },
   {
    "duration": 6,
    "start_time": "2022-12-07T15:15:58.711Z"
   },
   {
    "duration": 13,
    "start_time": "2022-12-07T15:15:58.719Z"
   },
   {
    "duration": 24,
    "start_time": "2022-12-07T15:15:58.734Z"
   },
   {
    "duration": 222,
    "start_time": "2022-12-07T15:15:58.759Z"
   },
   {
    "duration": 16,
    "start_time": "2022-12-07T15:15:58.984Z"
   },
   {
    "duration": 239,
    "start_time": "2022-12-07T15:15:59.002Z"
   },
   {
    "duration": 15,
    "start_time": "2022-12-07T15:15:59.243Z"
   },
   {
    "duration": 25,
    "start_time": "2022-12-07T15:15:59.259Z"
   },
   {
    "duration": 26,
    "start_time": "2022-12-07T15:15:59.286Z"
   },
   {
    "duration": 39,
    "start_time": "2022-12-07T15:15:59.313Z"
   },
   {
    "duration": 37,
    "start_time": "2022-12-07T15:15:59.354Z"
   },
   {
    "duration": 27,
    "start_time": "2022-12-07T15:15:59.399Z"
   },
   {
    "duration": 29,
    "start_time": "2022-12-07T15:15:59.427Z"
   },
   {
    "duration": 35,
    "start_time": "2022-12-07T15:15:59.458Z"
   },
   {
    "duration": 28,
    "start_time": "2022-12-07T15:15:59.495Z"
   },
   {
    "duration": 7,
    "start_time": "2022-12-07T15:15:59.552Z"
   },
   {
    "duration": 34,
    "start_time": "2022-12-07T15:15:59.561Z"
   },
   {
    "duration": 53,
    "start_time": "2022-12-07T15:15:59.597Z"
   },
   {
    "duration": 70,
    "start_time": "2022-12-07T15:15:59.652Z"
   },
   {
    "duration": 12,
    "start_time": "2022-12-07T15:15:59.725Z"
   },
   {
    "duration": 29,
    "start_time": "2022-12-07T15:15:59.740Z"
   },
   {
    "duration": 224,
    "start_time": "2022-12-07T15:15:59.771Z"
   },
   {
    "duration": 15,
    "start_time": "2022-12-07T15:27:04.910Z"
   },
   {
    "duration": 7,
    "start_time": "2022-12-07T15:28:51.386Z"
   },
   {
    "duration": 15,
    "start_time": "2022-12-07T15:32:15.503Z"
   },
   {
    "duration": 50,
    "start_time": "2022-12-08T03:12:10.982Z"
   },
   {
    "duration": 0,
    "start_time": "2022-12-08T03:15:00.937Z"
   },
   {
    "duration": 92,
    "start_time": "2022-12-08T03:15:13.616Z"
   },
   {
    "duration": 37,
    "start_time": "2022-12-08T03:15:13.710Z"
   },
   {
    "duration": 13,
    "start_time": "2022-12-08T03:15:13.749Z"
   },
   {
    "duration": 2071,
    "start_time": "2022-12-08T03:15:13.763Z"
   },
   {
    "duration": 9,
    "start_time": "2022-12-08T03:15:15.836Z"
   },
   {
    "duration": 24,
    "start_time": "2022-12-08T03:15:15.847Z"
   },
   {
    "duration": 48,
    "start_time": "2022-12-08T03:15:15.873Z"
   },
   {
    "duration": 6,
    "start_time": "2022-12-08T03:15:15.922Z"
   },
   {
    "duration": 7,
    "start_time": "2022-12-08T03:15:15.929Z"
   },
   {
    "duration": 11,
    "start_time": "2022-12-08T03:15:15.938Z"
   },
   {
    "duration": 5,
    "start_time": "2022-12-08T03:15:15.951Z"
   },
   {
    "duration": 15,
    "start_time": "2022-12-08T03:15:15.958Z"
   },
   {
    "duration": 5,
    "start_time": "2022-12-08T03:15:15.975Z"
   },
   {
    "duration": 33,
    "start_time": "2022-12-08T03:15:15.981Z"
   },
   {
    "duration": 10,
    "start_time": "2022-12-08T03:15:16.016Z"
   },
   {
    "duration": 7,
    "start_time": "2022-12-08T03:15:16.027Z"
   },
   {
    "duration": 6,
    "start_time": "2022-12-08T03:15:16.036Z"
   },
   {
    "duration": 13,
    "start_time": "2022-12-08T03:15:16.044Z"
   },
   {
    "duration": 6,
    "start_time": "2022-12-08T03:15:16.059Z"
   },
   {
    "duration": 142,
    "start_time": "2022-12-08T03:15:16.066Z"
   },
   {
    "duration": 5,
    "start_time": "2022-12-08T03:15:16.211Z"
   },
   {
    "duration": 32,
    "start_time": "2022-12-08T03:15:16.218Z"
   },
   {
    "duration": 5,
    "start_time": "2022-12-08T03:15:16.251Z"
   },
   {
    "duration": 8,
    "start_time": "2022-12-08T03:15:16.258Z"
   },
   {
    "duration": 12,
    "start_time": "2022-12-08T03:15:16.268Z"
   },
   {
    "duration": 32,
    "start_time": "2022-12-08T03:15:16.282Z"
   },
   {
    "duration": 9,
    "start_time": "2022-12-08T03:15:16.316Z"
   },
   {
    "duration": 9,
    "start_time": "2022-12-08T03:15:16.327Z"
   },
   {
    "duration": 34,
    "start_time": "2022-12-08T03:15:16.339Z"
   },
   {
    "duration": 8,
    "start_time": "2022-12-08T03:15:16.375Z"
   },
   {
    "duration": 32,
    "start_time": "2022-12-08T03:15:16.385Z"
   },
   {
    "duration": 17,
    "start_time": "2022-12-08T03:15:16.419Z"
   },
   {
    "duration": 26,
    "start_time": "2022-12-08T03:15:16.438Z"
   },
   {
    "duration": 14,
    "start_time": "2022-12-08T03:15:16.466Z"
   },
   {
    "duration": 17,
    "start_time": "2022-12-08T03:15:16.482Z"
   },
   {
    "duration": 428,
    "start_time": "2022-12-08T03:15:16.512Z"
   },
   {
    "duration": 25,
    "start_time": "2022-12-08T03:15:16.942Z"
   },
   {
    "duration": 5,
    "start_time": "2022-12-08T03:15:16.968Z"
   },
   {
    "duration": 187,
    "start_time": "2022-12-08T03:15:16.975Z"
   },
   {
    "duration": 161,
    "start_time": "2022-12-08T03:15:17.164Z"
   },
   {
    "duration": 176,
    "start_time": "2022-12-08T03:15:17.327Z"
   },
   {
    "duration": 210,
    "start_time": "2022-12-08T03:15:17.505Z"
   },
   {
    "duration": 199,
    "start_time": "2022-12-08T03:15:17.717Z"
   },
   {
    "duration": 182,
    "start_time": "2022-12-08T03:15:17.917Z"
   },
   {
    "duration": 223,
    "start_time": "2022-12-08T03:15:18.101Z"
   },
   {
    "duration": 149,
    "start_time": "2022-12-08T03:15:18.326Z"
   },
   {
    "duration": 236,
    "start_time": "2022-12-08T03:15:18.477Z"
   },
   {
    "duration": 205,
    "start_time": "2022-12-08T03:15:18.715Z"
   },
   {
    "duration": 216,
    "start_time": "2022-12-08T03:15:18.922Z"
   },
   {
    "duration": 213,
    "start_time": "2022-12-08T03:15:19.139Z"
   },
   {
    "duration": 182,
    "start_time": "2022-12-08T03:15:19.353Z"
   },
   {
    "duration": 141,
    "start_time": "2022-12-08T03:15:19.537Z"
   },
   {
    "duration": 255,
    "start_time": "2022-12-08T03:15:19.680Z"
   },
   {
    "duration": 5,
    "start_time": "2022-12-08T03:15:19.937Z"
   },
   {
    "duration": 7,
    "start_time": "2022-12-08T03:15:19.944Z"
   },
   {
    "duration": 13,
    "start_time": "2022-12-08T03:15:19.953Z"
   },
   {
    "duration": 437,
    "start_time": "2022-12-08T03:15:19.968Z"
   },
   {
    "duration": 6,
    "start_time": "2022-12-08T03:15:20.413Z"
   },
   {
    "duration": 227,
    "start_time": "2022-12-08T03:15:20.420Z"
   },
   {
    "duration": 6,
    "start_time": "2022-12-08T03:15:20.650Z"
   },
   {
    "duration": 243,
    "start_time": "2022-12-08T03:15:20.657Z"
   },
   {
    "duration": 11,
    "start_time": "2022-12-08T03:15:20.902Z"
   },
   {
    "duration": 243,
    "start_time": "2022-12-08T03:15:20.915Z"
   },
   {
    "duration": 6,
    "start_time": "2022-12-08T03:15:21.160Z"
   },
   {
    "duration": 190,
    "start_time": "2022-12-08T03:15:21.168Z"
   },
   {
    "duration": 233,
    "start_time": "2022-12-08T03:15:21.359Z"
   },
   {
    "duration": 5,
    "start_time": "2022-12-08T03:15:21.594Z"
   },
   {
    "duration": 234,
    "start_time": "2022-12-08T03:15:21.601Z"
   },
   {
    "duration": 6,
    "start_time": "2022-12-08T03:15:21.837Z"
   },
   {
    "duration": 239,
    "start_time": "2022-12-08T03:15:21.845Z"
   },
   {
    "duration": 6,
    "start_time": "2022-12-08T03:15:22.086Z"
   },
   {
    "duration": 24,
    "start_time": "2022-12-08T03:15:22.094Z"
   },
   {
    "duration": 12,
    "start_time": "2022-12-08T03:15:22.120Z"
   },
   {
    "duration": 215,
    "start_time": "2022-12-08T03:15:22.134Z"
   },
   {
    "duration": 11,
    "start_time": "2022-12-08T03:15:22.351Z"
   },
   {
    "duration": 166,
    "start_time": "2022-12-08T03:15:22.364Z"
   },
   {
    "duration": 9,
    "start_time": "2022-12-08T03:15:22.532Z"
   },
   {
    "duration": 21,
    "start_time": "2022-12-08T03:15:22.542Z"
   },
   {
    "duration": 48,
    "start_time": "2022-12-08T03:15:22.565Z"
   },
   {
    "duration": 10,
    "start_time": "2022-12-08T03:15:22.614Z"
   },
   {
    "duration": 24,
    "start_time": "2022-12-08T03:15:22.625Z"
   },
   {
    "duration": 25,
    "start_time": "2022-12-08T03:15:22.650Z"
   },
   {
    "duration": 8,
    "start_time": "2022-12-08T03:15:22.676Z"
   },
   {
    "duration": 48,
    "start_time": "2022-12-08T03:15:22.685Z"
   },
   {
    "duration": 23,
    "start_time": "2022-12-08T03:15:22.734Z"
   },
   {
    "duration": 6,
    "start_time": "2022-12-08T03:15:22.758Z"
   },
   {
    "duration": 52,
    "start_time": "2022-12-08T03:15:22.766Z"
   },
   {
    "duration": 8,
    "start_time": "2022-12-08T03:15:22.820Z"
   },
   {
    "duration": 29,
    "start_time": "2022-12-08T03:15:22.829Z"
   },
   {
    "duration": 8,
    "start_time": "2022-12-08T03:15:22.860Z"
   },
   {
    "duration": 13,
    "start_time": "2022-12-08T03:15:22.870Z"
   },
   {
    "duration": 200,
    "start_time": "2022-12-08T03:15:22.885Z"
   },
   {
    "duration": 56,
    "start_time": "2022-12-08T03:17:06.998Z"
   },
   {
    "duration": 73,
    "start_time": "2022-12-08T03:19:22.893Z"
   },
   {
    "duration": 27,
    "start_time": "2022-12-08T03:19:52.192Z"
   },
   {
    "duration": 8,
    "start_time": "2022-12-08T03:20:14.295Z"
   },
   {
    "duration": 9,
    "start_time": "2022-12-08T03:20:27.759Z"
   },
   {
    "duration": 12,
    "start_time": "2022-12-08T03:20:44.529Z"
   },
   {
    "duration": 9,
    "start_time": "2022-12-08T03:20:53.755Z"
   },
   {
    "duration": 219,
    "start_time": "2022-12-08T03:21:07.213Z"
   },
   {
    "duration": 24,
    "start_time": "2022-12-08T03:29:18.591Z"
   },
   {
    "duration": 13,
    "start_time": "2022-12-08T03:29:41.404Z"
   },
   {
    "duration": 15,
    "start_time": "2022-12-08T03:29:46.342Z"
   },
   {
    "duration": 1406,
    "start_time": "2022-12-08T03:30:05.720Z"
   },
   {
    "duration": 46,
    "start_time": "2022-12-08T03:30:07.128Z"
   },
   {
    "duration": 16,
    "start_time": "2022-12-08T03:30:07.176Z"
   },
   {
    "duration": 2186,
    "start_time": "2022-12-08T03:30:07.194Z"
   },
   {
    "duration": 10,
    "start_time": "2022-12-08T03:30:09.381Z"
   },
   {
    "duration": 31,
    "start_time": "2022-12-08T03:30:09.393Z"
   },
   {
    "duration": 27,
    "start_time": "2022-12-08T03:30:09.426Z"
   },
   {
    "duration": 7,
    "start_time": "2022-12-08T03:30:09.455Z"
   },
   {
    "duration": 8,
    "start_time": "2022-12-08T03:30:09.464Z"
   },
   {
    "duration": 8,
    "start_time": "2022-12-08T03:30:09.476Z"
   },
   {
    "duration": 30,
    "start_time": "2022-12-08T03:30:09.486Z"
   },
   {
    "duration": 24,
    "start_time": "2022-12-08T03:30:09.518Z"
   },
   {
    "duration": 7,
    "start_time": "2022-12-08T03:30:09.544Z"
   },
   {
    "duration": 14,
    "start_time": "2022-12-08T03:30:09.554Z"
   },
   {
    "duration": 12,
    "start_time": "2022-12-08T03:30:09.570Z"
   },
   {
    "duration": 5,
    "start_time": "2022-12-08T03:30:09.584Z"
   },
   {
    "duration": 25,
    "start_time": "2022-12-08T03:30:09.591Z"
   },
   {
    "duration": 14,
    "start_time": "2022-12-08T03:30:09.618Z"
   },
   {
    "duration": 11,
    "start_time": "2022-12-08T03:30:09.634Z"
   },
   {
    "duration": 136,
    "start_time": "2022-12-08T03:30:09.647Z"
   },
   {
    "duration": 5,
    "start_time": "2022-12-08T03:30:09.784Z"
   },
   {
    "duration": 38,
    "start_time": "2022-12-08T03:30:09.791Z"
   },
   {
    "duration": 6,
    "start_time": "2022-12-08T03:30:09.831Z"
   },
   {
    "duration": 9,
    "start_time": "2022-12-08T03:30:09.838Z"
   },
   {
    "duration": 16,
    "start_time": "2022-12-08T03:30:09.848Z"
   },
   {
    "duration": 12,
    "start_time": "2022-12-08T03:30:09.866Z"
   },
   {
    "duration": 8,
    "start_time": "2022-12-08T03:30:09.880Z"
   },
   {
    "duration": 8,
    "start_time": "2022-12-08T03:30:09.915Z"
   },
   {
    "duration": 24,
    "start_time": "2022-12-08T03:30:09.925Z"
   },
   {
    "duration": 5,
    "start_time": "2022-12-08T03:30:09.951Z"
   },
   {
    "duration": 9,
    "start_time": "2022-12-08T03:30:09.957Z"
   },
   {
    "duration": 11,
    "start_time": "2022-12-08T03:30:09.968Z"
   },
   {
    "duration": 38,
    "start_time": "2022-12-08T03:30:09.981Z"
   },
   {
    "duration": 15,
    "start_time": "2022-12-08T03:30:10.021Z"
   },
   {
    "duration": 17,
    "start_time": "2022-12-08T03:30:10.038Z"
   },
   {
    "duration": 338,
    "start_time": "2022-12-08T03:30:10.057Z"
   },
   {
    "duration": 29,
    "start_time": "2022-12-08T03:30:10.396Z"
   },
   {
    "duration": 4,
    "start_time": "2022-12-08T03:30:10.427Z"
   },
   {
    "duration": 186,
    "start_time": "2022-12-08T03:30:10.433Z"
   },
   {
    "duration": 174,
    "start_time": "2022-12-08T03:30:10.621Z"
   },
   {
    "duration": 184,
    "start_time": "2022-12-08T03:30:10.797Z"
   },
   {
    "duration": 334,
    "start_time": "2022-12-08T03:30:10.983Z"
   },
   {
    "duration": 206,
    "start_time": "2022-12-08T03:30:11.319Z"
   },
   {
    "duration": 195,
    "start_time": "2022-12-08T03:30:11.527Z"
   },
   {
    "duration": 219,
    "start_time": "2022-12-08T03:30:11.723Z"
   },
   {
    "duration": 161,
    "start_time": "2022-12-08T03:30:11.944Z"
   },
   {
    "duration": 246,
    "start_time": "2022-12-08T03:30:12.107Z"
   },
   {
    "duration": 206,
    "start_time": "2022-12-08T03:30:12.354Z"
   },
   {
    "duration": 220,
    "start_time": "2022-12-08T03:30:12.561Z"
   },
   {
    "duration": 231,
    "start_time": "2022-12-08T03:30:12.783Z"
   },
   {
    "duration": 215,
    "start_time": "2022-12-08T03:30:13.016Z"
   },
   {
    "duration": 273,
    "start_time": "2022-12-08T03:30:13.233Z"
   },
   {
    "duration": 302,
    "start_time": "2022-12-08T03:30:13.513Z"
   },
   {
    "duration": 5,
    "start_time": "2022-12-08T03:30:13.817Z"
   },
   {
    "duration": 12,
    "start_time": "2022-12-08T03:30:13.824Z"
   },
   {
    "duration": 17,
    "start_time": "2022-12-08T03:30:13.838Z"
   },
   {
    "duration": 255,
    "start_time": "2022-12-08T03:30:13.857Z"
   },
   {
    "duration": 7,
    "start_time": "2022-12-08T03:30:14.114Z"
   },
   {
    "duration": 254,
    "start_time": "2022-12-08T03:30:14.123Z"
   },
   {
    "duration": 7,
    "start_time": "2022-12-08T03:30:14.379Z"
   },
   {
    "duration": 269,
    "start_time": "2022-12-08T03:30:14.387Z"
   },
   {
    "duration": 6,
    "start_time": "2022-12-08T03:30:14.658Z"
   },
   {
    "duration": 290,
    "start_time": "2022-12-08T03:30:14.666Z"
   },
   {
    "duration": 6,
    "start_time": "2022-12-08T03:30:14.958Z"
   },
   {
    "duration": 221,
    "start_time": "2022-12-08T03:30:14.966Z"
   },
   {
    "duration": 253,
    "start_time": "2022-12-08T03:30:15.189Z"
   },
   {
    "duration": 6,
    "start_time": "2022-12-08T03:30:15.443Z"
   },
   {
    "duration": 244,
    "start_time": "2022-12-08T03:30:15.451Z"
   },
   {
    "duration": 5,
    "start_time": "2022-12-08T03:30:15.697Z"
   },
   {
    "duration": 234,
    "start_time": "2022-12-08T03:30:15.714Z"
   },
   {
    "duration": 5,
    "start_time": "2022-12-08T03:30:15.950Z"
   },
   {
    "duration": 10,
    "start_time": "2022-12-08T03:30:15.957Z"
   },
   {
    "duration": 11,
    "start_time": "2022-12-08T03:30:15.970Z"
   },
   {
    "duration": 267,
    "start_time": "2022-12-08T03:30:15.983Z"
   },
   {
    "duration": 19,
    "start_time": "2022-12-08T03:30:16.252Z"
   },
   {
    "duration": 16,
    "start_time": "2022-12-08T03:30:16.273Z"
   },
   {
    "duration": 236,
    "start_time": "2022-12-08T03:30:16.291Z"
   },
   {
    "duration": 17,
    "start_time": "2022-12-08T03:30:16.529Z"
   },
   {
    "duration": 45,
    "start_time": "2022-12-08T03:30:16.548Z"
   },
   {
    "duration": 47,
    "start_time": "2022-12-08T03:30:16.595Z"
   },
   {
    "duration": 21,
    "start_time": "2022-12-08T03:30:16.644Z"
   },
   {
    "duration": 57,
    "start_time": "2022-12-08T03:30:16.672Z"
   },
   {
    "duration": 26,
    "start_time": "2022-12-08T03:30:16.731Z"
   },
   {
    "duration": 8,
    "start_time": "2022-12-08T03:30:16.760Z"
   },
   {
    "duration": 49,
    "start_time": "2022-12-08T03:30:16.770Z"
   },
   {
    "duration": 26,
    "start_time": "2022-12-08T03:30:16.821Z"
   },
   {
    "duration": 5,
    "start_time": "2022-12-08T03:30:16.850Z"
   },
   {
    "duration": 26,
    "start_time": "2022-12-08T03:30:16.857Z"
   },
   {
    "duration": 34,
    "start_time": "2022-12-08T03:30:16.885Z"
   },
   {
    "duration": 29,
    "start_time": "2022-12-08T03:30:16.921Z"
   },
   {
    "duration": 9,
    "start_time": "2022-12-08T03:30:16.952Z"
   },
   {
    "duration": 14,
    "start_time": "2022-12-08T03:30:16.963Z"
   },
   {
    "duration": 202,
    "start_time": "2022-12-08T03:30:16.979Z"
   },
   {
    "duration": 110,
    "start_time": "2022-12-08T03:31:29.647Z"
   },
   {
    "duration": 793,
    "start_time": "2022-12-08T03:31:45.985Z"
   },
   {
    "duration": 11,
    "start_time": "2022-12-08T03:32:26.869Z"
   },
   {
    "duration": 59,
    "start_time": "2022-12-08T03:33:50.178Z"
   },
   {
    "duration": 769,
    "start_time": "2022-12-08T03:33:58.830Z"
   },
   {
    "duration": 16,
    "start_time": "2022-12-08T03:34:28.468Z"
   },
   {
    "duration": 27,
    "start_time": "2022-12-08T03:34:54.719Z"
   },
   {
    "duration": 11,
    "start_time": "2022-12-08T03:35:53.541Z"
   },
   {
    "duration": 674,
    "start_time": "2022-12-08T03:36:38.628Z"
   },
   {
    "duration": 6,
    "start_time": "2022-12-08T03:36:55.493Z"
   },
   {
    "duration": 4,
    "start_time": "2022-12-08T03:37:11.684Z"
   },
   {
    "duration": 4,
    "start_time": "2022-12-08T03:37:18.294Z"
   },
   {
    "duration": 22,
    "start_time": "2022-12-08T03:39:56.084Z"
   },
   {
    "duration": 28,
    "start_time": "2022-12-08T03:40:09.416Z"
   },
   {
    "duration": 22,
    "start_time": "2022-12-08T03:40:49.450Z"
   },
   {
    "duration": 13,
    "start_time": "2022-12-08T03:41:08.584Z"
   },
   {
    "duration": 19,
    "start_time": "2022-12-08T03:41:12.309Z"
   },
   {
    "duration": 11,
    "start_time": "2022-12-08T03:41:29.592Z"
   },
   {
    "duration": 12,
    "start_time": "2022-12-08T03:41:36.193Z"
   },
   {
    "duration": 11,
    "start_time": "2022-12-08T03:41:57.529Z"
   },
   {
    "duration": 12,
    "start_time": "2022-12-08T03:42:15.828Z"
   },
   {
    "duration": 9,
    "start_time": "2022-12-08T03:42:19.496Z"
   },
   {
    "duration": 9,
    "start_time": "2022-12-08T03:43:28.702Z"
   },
   {
    "duration": 13,
    "start_time": "2022-12-08T03:44:40.360Z"
   },
   {
    "duration": 15,
    "start_time": "2022-12-08T03:44:46.287Z"
   },
   {
    "duration": 10,
    "start_time": "2022-12-08T03:44:50.763Z"
   },
   {
    "duration": 16,
    "start_time": "2022-12-08T03:45:01.264Z"
   },
   {
    "duration": 13,
    "start_time": "2022-12-08T03:45:36.914Z"
   },
   {
    "duration": 13,
    "start_time": "2022-12-08T03:46:46.007Z"
   },
   {
    "duration": 37,
    "start_time": "2022-12-08T03:46:51.765Z"
   },
   {
    "duration": 9,
    "start_time": "2022-12-08T03:46:56.664Z"
   },
   {
    "duration": 9,
    "start_time": "2022-12-08T03:47:01.732Z"
   },
   {
    "duration": 41,
    "start_time": "2022-12-08T03:47:14.078Z"
   },
   {
    "duration": 29,
    "start_time": "2022-12-08T03:47:20.182Z"
   },
   {
    "duration": 880,
    "start_time": "2022-12-08T03:50:09.487Z"
   },
   {
    "duration": 7,
    "start_time": "2022-12-08T03:50:17.783Z"
   },
   {
    "duration": 30,
    "start_time": "2022-12-08T03:50:31.203Z"
   },
   {
    "duration": 9,
    "start_time": "2022-12-08T03:50:34.537Z"
   },
   {
    "duration": 24,
    "start_time": "2022-12-08T03:51:47.604Z"
   },
   {
    "duration": 10,
    "start_time": "2022-12-08T03:52:55.225Z"
   },
   {
    "duration": 8,
    "start_time": "2022-12-08T03:57:48.809Z"
   },
   {
    "duration": 12,
    "start_time": "2022-12-08T03:57:58.231Z"
   },
   {
    "duration": 10,
    "start_time": "2022-12-08T03:58:57.992Z"
   },
   {
    "duration": 10,
    "start_time": "2022-12-08T03:59:45.491Z"
   },
   {
    "duration": 881,
    "start_time": "2022-12-08T04:01:50.000Z"
   },
   {
    "duration": 13,
    "start_time": "2022-12-08T04:01:56.069Z"
   },
   {
    "duration": 13,
    "start_time": "2022-12-08T04:02:53.123Z"
   },
   {
    "duration": 11,
    "start_time": "2022-12-08T04:02:58.028Z"
   },
   {
    "duration": 11,
    "start_time": "2022-12-08T04:03:05.237Z"
   },
   {
    "duration": 10,
    "start_time": "2022-12-08T04:03:38.160Z"
   },
   {
    "duration": 22,
    "start_time": "2022-12-08T04:04:15.428Z"
   },
   {
    "duration": 12,
    "start_time": "2022-12-08T04:05:28.492Z"
   },
   {
    "duration": 12,
    "start_time": "2022-12-08T04:05:42.754Z"
   },
   {
    "duration": 17,
    "start_time": "2022-12-08T04:06:10.547Z"
   },
   {
    "duration": 14,
    "start_time": "2022-12-08T04:06:20.055Z"
   },
   {
    "duration": 17,
    "start_time": "2022-12-08T04:06:24.071Z"
   },
   {
    "duration": 927,
    "start_time": "2022-12-08T04:06:41.841Z"
   },
   {
    "duration": 13,
    "start_time": "2022-12-08T04:06:47.667Z"
   },
   {
    "duration": 10,
    "start_time": "2022-12-08T04:06:57.946Z"
   },
   {
    "duration": 13,
    "start_time": "2022-12-08T04:07:08.572Z"
   },
   {
    "duration": 11,
    "start_time": "2022-12-08T04:07:17.975Z"
   },
   {
    "duration": 15,
    "start_time": "2022-12-08T04:08:16.367Z"
   },
   {
    "duration": 11,
    "start_time": "2022-12-08T04:08:24.353Z"
   },
   {
    "duration": 8,
    "start_time": "2022-12-08T04:08:32.770Z"
   },
   {
    "duration": 9,
    "start_time": "2022-12-08T04:08:37.404Z"
   },
   {
    "duration": 15,
    "start_time": "2022-12-08T04:08:45.610Z"
   },
   {
    "duration": 9,
    "start_time": "2022-12-08T04:08:49.562Z"
   },
   {
    "duration": 8,
    "start_time": "2022-12-08T04:08:54.541Z"
   },
   {
    "duration": 8,
    "start_time": "2022-12-08T04:08:59.852Z"
   },
   {
    "duration": 13,
    "start_time": "2022-12-08T04:09:55.792Z"
   },
   {
    "duration": 12,
    "start_time": "2022-12-08T04:10:01.562Z"
   },
   {
    "duration": 8,
    "start_time": "2022-12-08T04:10:05.202Z"
   },
   {
    "duration": 10,
    "start_time": "2022-12-08T04:12:05.897Z"
   },
   {
    "duration": 745,
    "start_time": "2022-12-08T04:12:10.728Z"
   },
   {
    "duration": 17,
    "start_time": "2022-12-08T04:12:28.210Z"
   },
   {
    "duration": 9,
    "start_time": "2022-12-08T04:12:49.653Z"
   },
   {
    "duration": 14,
    "start_time": "2022-12-08T04:13:00.717Z"
   },
   {
    "duration": 30,
    "start_time": "2022-12-08T04:13:10.641Z"
   },
   {
    "duration": 87,
    "start_time": "2022-12-08T04:14:05.190Z"
   },
   {
    "duration": 31,
    "start_time": "2022-12-08T04:14:10.471Z"
   },
   {
    "duration": 43,
    "start_time": "2022-12-08T04:14:45.740Z"
   },
   {
    "duration": 15,
    "start_time": "2022-12-08T04:14:49.389Z"
   },
   {
    "duration": 5439,
    "start_time": "2022-12-08T04:15:25.034Z"
   },
   {
    "duration": 5615,
    "start_time": "2022-12-08T04:16:46.077Z"
   },
   {
    "duration": 49,
    "start_time": "2022-12-08T04:18:04.293Z"
   },
   {
    "duration": 230,
    "start_time": "2022-12-08T04:18:12.444Z"
   },
   {
    "duration": 41,
    "start_time": "2022-12-08T04:18:29.337Z"
   },
   {
    "duration": 6,
    "start_time": "2022-12-08T04:18:32.878Z"
   },
   {
    "duration": 14,
    "start_time": "2022-12-08T04:18:46.339Z"
   },
   {
    "duration": 4,
    "start_time": "2022-12-08T04:24:30.953Z"
   },
   {
    "duration": 13,
    "start_time": "2022-12-08T04:28:45.429Z"
   },
   {
    "duration": 15,
    "start_time": "2022-12-08T04:29:13.083Z"
   },
   {
    "duration": 7,
    "start_time": "2022-12-08T04:36:59.928Z"
   },
   {
    "duration": 12,
    "start_time": "2022-12-08T04:37:07.538Z"
   },
   {
    "duration": 14,
    "start_time": "2022-12-08T04:37:30.052Z"
   },
   {
    "duration": 6011,
    "start_time": "2022-12-08T04:37:42.096Z"
   },
   {
    "duration": 14,
    "start_time": "2022-12-08T04:37:52.430Z"
   },
   {
    "duration": 13,
    "start_time": "2022-12-08T04:38:04.959Z"
   },
   {
    "duration": 5171,
    "start_time": "2022-12-08T04:38:14.132Z"
   },
   {
    "duration": 35,
    "start_time": "2022-12-08T04:40:38.428Z"
   },
   {
    "duration": 5312,
    "start_time": "2022-12-08T04:40:42.567Z"
   },
   {
    "duration": 81,
    "start_time": "2022-12-08T04:40:58.276Z"
   },
   {
    "duration": 72,
    "start_time": "2022-12-08T04:41:08.268Z"
   },
   {
    "duration": 32,
    "start_time": "2022-12-08T04:41:16.175Z"
   },
   {
    "duration": 14,
    "start_time": "2022-12-08T04:49:30.832Z"
   },
   {
    "duration": 15,
    "start_time": "2022-12-08T04:49:43.665Z"
   },
   {
    "duration": 17,
    "start_time": "2022-12-08T04:50:11.283Z"
   },
   {
    "duration": 14,
    "start_time": "2022-12-08T04:54:01.612Z"
   },
   {
    "duration": 13,
    "start_time": "2022-12-08T04:54:11.014Z"
   },
   {
    "duration": 15,
    "start_time": "2022-12-08T04:55:36.311Z"
   },
   {
    "duration": 10,
    "start_time": "2022-12-08T04:55:48.436Z"
   },
   {
    "duration": 11,
    "start_time": "2022-12-08T04:56:42.953Z"
   },
   {
    "duration": 11,
    "start_time": "2022-12-08T04:56:51.457Z"
   },
   {
    "duration": 10,
    "start_time": "2022-12-08T04:57:09.139Z"
   },
   {
    "duration": 26,
    "start_time": "2022-12-08T04:57:56.318Z"
   },
   {
    "duration": 13,
    "start_time": "2022-12-08T04:59:56.832Z"
   },
   {
    "duration": 5,
    "start_time": "2022-12-08T05:04:18.903Z"
   },
   {
    "duration": 11,
    "start_time": "2022-12-08T05:07:37.227Z"
   },
   {
    "duration": 8,
    "start_time": "2022-12-08T05:07:50.574Z"
   },
   {
    "duration": 12,
    "start_time": "2022-12-08T05:09:17.033Z"
   },
   {
    "duration": 11,
    "start_time": "2022-12-08T05:09:35.651Z"
   },
   {
    "duration": 44,
    "start_time": "2022-12-08T05:09:38.970Z"
   },
   {
    "duration": 11,
    "start_time": "2022-12-08T05:09:42.892Z"
   },
   {
    "duration": 30,
    "start_time": "2022-12-08T05:10:48.049Z"
   },
   {
    "duration": 1351,
    "start_time": "2022-12-08T05:11:39.885Z"
   },
   {
    "duration": 46,
    "start_time": "2022-12-08T05:11:41.239Z"
   },
   {
    "duration": 41,
    "start_time": "2022-12-08T05:11:41.287Z"
   },
   {
    "duration": 2169,
    "start_time": "2022-12-08T05:11:41.330Z"
   },
   {
    "duration": 11,
    "start_time": "2022-12-08T05:11:43.501Z"
   },
   {
    "duration": 31,
    "start_time": "2022-12-08T05:11:43.515Z"
   },
   {
    "duration": 27,
    "start_time": "2022-12-08T05:11:43.548Z"
   },
   {
    "duration": 7,
    "start_time": "2022-12-08T05:11:43.576Z"
   },
   {
    "duration": 13,
    "start_time": "2022-12-08T05:11:43.584Z"
   },
   {
    "duration": 7,
    "start_time": "2022-12-08T05:11:43.622Z"
   },
   {
    "duration": 7,
    "start_time": "2022-12-08T05:11:43.630Z"
   },
   {
    "duration": 19,
    "start_time": "2022-12-08T05:11:43.639Z"
   },
   {
    "duration": 6,
    "start_time": "2022-12-08T05:11:43.659Z"
   },
   {
    "duration": 5,
    "start_time": "2022-12-08T05:11:43.667Z"
   },
   {
    "duration": 9,
    "start_time": "2022-12-08T05:11:43.674Z"
   },
   {
    "duration": 4,
    "start_time": "2022-12-08T05:11:43.684Z"
   },
   {
    "duration": 28,
    "start_time": "2022-12-08T05:11:43.690Z"
   },
   {
    "duration": 9,
    "start_time": "2022-12-08T05:11:43.719Z"
   },
   {
    "duration": 6,
    "start_time": "2022-12-08T05:11:43.730Z"
   },
   {
    "duration": 137,
    "start_time": "2022-12-08T05:11:43.738Z"
   },
   {
    "duration": 4,
    "start_time": "2022-12-08T05:11:43.877Z"
   },
   {
    "duration": 51,
    "start_time": "2022-12-08T05:11:43.883Z"
   },
   {
    "duration": 5,
    "start_time": "2022-12-08T05:11:43.936Z"
   },
   {
    "duration": 9,
    "start_time": "2022-12-08T05:11:43.943Z"
   },
   {
    "duration": 12,
    "start_time": "2022-12-08T05:11:43.953Z"
   },
   {
    "duration": 11,
    "start_time": "2022-12-08T05:11:43.967Z"
   },
   {
    "duration": 11,
    "start_time": "2022-12-08T05:11:43.979Z"
   },
   {
    "duration": 31,
    "start_time": "2022-12-08T05:11:43.994Z"
   },
   {
    "duration": 22,
    "start_time": "2022-12-08T05:11:44.026Z"
   },
   {
    "duration": 4,
    "start_time": "2022-12-08T05:11:44.050Z"
   },
   {
    "duration": 8,
    "start_time": "2022-12-08T05:11:44.056Z"
   },
   {
    "duration": 11,
    "start_time": "2022-12-08T05:11:44.066Z"
   },
   {
    "duration": 20,
    "start_time": "2022-12-08T05:11:44.079Z"
   },
   {
    "duration": 37,
    "start_time": "2022-12-08T05:11:44.100Z"
   },
   {
    "duration": 14,
    "start_time": "2022-12-08T05:11:44.139Z"
   },
   {
    "duration": 314,
    "start_time": "2022-12-08T05:11:44.154Z"
   },
   {
    "duration": 26,
    "start_time": "2022-12-08T05:11:44.469Z"
   },
   {
    "duration": 5,
    "start_time": "2022-12-08T05:11:44.496Z"
   },
   {
    "duration": 188,
    "start_time": "2022-12-08T05:11:44.502Z"
   },
   {
    "duration": 163,
    "start_time": "2022-12-08T05:11:44.691Z"
   },
   {
    "duration": 197,
    "start_time": "2022-12-08T05:11:44.856Z"
   },
   {
    "duration": 315,
    "start_time": "2022-12-08T05:11:45.056Z"
   },
   {
    "duration": 211,
    "start_time": "2022-12-08T05:11:45.372Z"
   },
   {
    "duration": 196,
    "start_time": "2022-12-08T05:11:45.585Z"
   },
   {
    "duration": 206,
    "start_time": "2022-12-08T05:11:45.782Z"
   },
   {
    "duration": 159,
    "start_time": "2022-12-08T05:11:45.990Z"
   },
   {
    "duration": 266,
    "start_time": "2022-12-08T05:11:46.150Z"
   },
   {
    "duration": 248,
    "start_time": "2022-12-08T05:11:46.421Z"
   },
   {
    "duration": 206,
    "start_time": "2022-12-08T05:11:46.671Z"
   },
   {
    "duration": 210,
    "start_time": "2022-12-08T05:11:46.879Z"
   },
   {
    "duration": 195,
    "start_time": "2022-12-08T05:11:47.090Z"
   },
   {
    "duration": 267,
    "start_time": "2022-12-08T05:11:47.287Z"
   },
   {
    "duration": 249,
    "start_time": "2022-12-08T05:11:47.555Z"
   },
   {
    "duration": 15,
    "start_time": "2022-12-08T05:11:47.813Z"
   },
   {
    "duration": 7,
    "start_time": "2022-12-08T05:11:47.830Z"
   },
   {
    "duration": 14,
    "start_time": "2022-12-08T05:11:47.839Z"
   },
   {
    "duration": 251,
    "start_time": "2022-12-08T05:11:47.855Z"
   },
   {
    "duration": 18,
    "start_time": "2022-12-08T05:11:48.108Z"
   },
   {
    "duration": 220,
    "start_time": "2022-12-08T05:11:48.127Z"
   },
   {
    "duration": 6,
    "start_time": "2022-12-08T05:11:48.349Z"
   },
   {
    "duration": 243,
    "start_time": "2022-12-08T05:11:48.357Z"
   },
   {
    "duration": 15,
    "start_time": "2022-12-08T05:11:48.602Z"
   },
   {
    "duration": 256,
    "start_time": "2022-12-08T05:11:48.623Z"
   },
   {
    "duration": 7,
    "start_time": "2022-12-08T05:11:48.880Z"
   },
   {
    "duration": 212,
    "start_time": "2022-12-08T05:11:48.889Z"
   },
   {
    "duration": 275,
    "start_time": "2022-12-08T05:11:49.103Z"
   },
   {
    "duration": 7,
    "start_time": "2022-12-08T05:11:49.379Z"
   },
   {
    "duration": 237,
    "start_time": "2022-12-08T05:11:49.388Z"
   },
   {
    "duration": 6,
    "start_time": "2022-12-08T05:11:49.628Z"
   },
   {
    "duration": 241,
    "start_time": "2022-12-08T05:11:49.635Z"
   },
   {
    "duration": 5,
    "start_time": "2022-12-08T05:11:49.878Z"
   },
   {
    "duration": 33,
    "start_time": "2022-12-08T05:11:49.885Z"
   },
   {
    "duration": 11,
    "start_time": "2022-12-08T05:11:49.919Z"
   },
   {
    "duration": 111,
    "start_time": "2022-12-08T05:11:49.932Z"
   },
   {
    "duration": 0,
    "start_time": "2022-12-08T05:11:50.045Z"
   },
   {
    "duration": 0,
    "start_time": "2022-12-08T05:11:50.046Z"
   },
   {
    "duration": 0,
    "start_time": "2022-12-08T05:11:50.047Z"
   },
   {
    "duration": 0,
    "start_time": "2022-12-08T05:11:50.048Z"
   },
   {
    "duration": 0,
    "start_time": "2022-12-08T05:11:50.049Z"
   },
   {
    "duration": 0,
    "start_time": "2022-12-08T05:11:50.050Z"
   },
   {
    "duration": 0,
    "start_time": "2022-12-08T05:11:50.051Z"
   },
   {
    "duration": 0,
    "start_time": "2022-12-08T05:11:50.053Z"
   },
   {
    "duration": 0,
    "start_time": "2022-12-08T05:11:50.054Z"
   },
   {
    "duration": 0,
    "start_time": "2022-12-08T05:11:50.055Z"
   },
   {
    "duration": 0,
    "start_time": "2022-12-08T05:11:50.056Z"
   },
   {
    "duration": 0,
    "start_time": "2022-12-08T05:11:50.057Z"
   },
   {
    "duration": 0,
    "start_time": "2022-12-08T05:11:50.058Z"
   },
   {
    "duration": 0,
    "start_time": "2022-12-08T05:11:50.059Z"
   },
   {
    "duration": 0,
    "start_time": "2022-12-08T05:11:50.061Z"
   },
   {
    "duration": 0,
    "start_time": "2022-12-08T05:11:50.062Z"
   },
   {
    "duration": 0,
    "start_time": "2022-12-08T05:11:50.063Z"
   },
   {
    "duration": 0,
    "start_time": "2022-12-08T05:11:50.064Z"
   },
   {
    "duration": 0,
    "start_time": "2022-12-08T05:11:50.065Z"
   },
   {
    "duration": 13,
    "start_time": "2022-12-08T05:18:06.111Z"
   },
   {
    "duration": 1291,
    "start_time": "2022-12-08T05:18:14.760Z"
   },
   {
    "duration": 49,
    "start_time": "2022-12-08T05:18:16.053Z"
   },
   {
    "duration": 30,
    "start_time": "2022-12-08T05:18:16.103Z"
   },
   {
    "duration": 2303,
    "start_time": "2022-12-08T05:18:16.138Z"
   },
   {
    "duration": 10,
    "start_time": "2022-12-08T05:18:18.443Z"
   },
   {
    "duration": 28,
    "start_time": "2022-12-08T05:18:18.455Z"
   },
   {
    "duration": 30,
    "start_time": "2022-12-08T05:18:18.484Z"
   },
   {
    "duration": 15,
    "start_time": "2022-12-08T05:18:18.525Z"
   },
   {
    "duration": 7,
    "start_time": "2022-12-08T05:18:18.544Z"
   },
   {
    "duration": 6,
    "start_time": "2022-12-08T05:18:18.554Z"
   },
   {
    "duration": 8,
    "start_time": "2022-12-08T05:18:18.561Z"
   },
   {
    "duration": 17,
    "start_time": "2022-12-08T05:18:18.571Z"
   },
   {
    "duration": 7,
    "start_time": "2022-12-08T05:18:18.590Z"
   },
   {
    "duration": 7,
    "start_time": "2022-12-08T05:18:18.616Z"
   },
   {
    "duration": 36,
    "start_time": "2022-12-08T05:18:18.624Z"
   },
   {
    "duration": 6,
    "start_time": "2022-12-08T05:18:18.662Z"
   },
   {
    "duration": 9,
    "start_time": "2022-12-08T05:18:18.669Z"
   },
   {
    "duration": 13,
    "start_time": "2022-12-08T05:18:18.680Z"
   },
   {
    "duration": 10,
    "start_time": "2022-12-08T05:18:18.695Z"
   },
   {
    "duration": 158,
    "start_time": "2022-12-08T05:18:18.706Z"
   },
   {
    "duration": 7,
    "start_time": "2022-12-08T05:18:18.865Z"
   },
   {
    "duration": 52,
    "start_time": "2022-12-08T05:18:18.873Z"
   },
   {
    "duration": 6,
    "start_time": "2022-12-08T05:18:18.926Z"
   },
   {
    "duration": 10,
    "start_time": "2022-12-08T05:18:18.933Z"
   },
   {
    "duration": 25,
    "start_time": "2022-12-08T05:18:18.947Z"
   },
   {
    "duration": 23,
    "start_time": "2022-12-08T05:18:18.974Z"
   },
   {
    "duration": 8,
    "start_time": "2022-12-08T05:18:18.999Z"
   },
   {
    "duration": 45,
    "start_time": "2022-12-08T05:18:19.013Z"
   },
   {
    "duration": 36,
    "start_time": "2022-12-08T05:18:19.060Z"
   },
   {
    "duration": 5,
    "start_time": "2022-12-08T05:18:19.098Z"
   },
   {
    "duration": 19,
    "start_time": "2022-12-08T05:18:19.105Z"
   },
   {
    "duration": 36,
    "start_time": "2022-12-08T05:18:19.129Z"
   },
   {
    "duration": 20,
    "start_time": "2022-12-08T05:18:19.167Z"
   },
   {
    "duration": 15,
    "start_time": "2022-12-08T05:18:19.188Z"
   },
   {
    "duration": 19,
    "start_time": "2022-12-08T05:18:19.205Z"
   },
   {
    "duration": 369,
    "start_time": "2022-12-08T05:18:19.226Z"
   },
   {
    "duration": 42,
    "start_time": "2022-12-08T05:18:19.596Z"
   },
   {
    "duration": 5,
    "start_time": "2022-12-08T05:18:19.640Z"
   },
   {
    "duration": 193,
    "start_time": "2022-12-08T05:18:19.647Z"
   },
   {
    "duration": 177,
    "start_time": "2022-12-08T05:18:19.841Z"
   },
   {
    "duration": 197,
    "start_time": "2022-12-08T05:18:20.021Z"
   },
   {
    "duration": 325,
    "start_time": "2022-12-08T05:18:20.220Z"
   },
   {
    "duration": 215,
    "start_time": "2022-12-08T05:18:20.546Z"
   },
   {
    "duration": 192,
    "start_time": "2022-12-08T05:18:20.763Z"
   },
   {
    "duration": 210,
    "start_time": "2022-12-08T05:18:20.957Z"
   },
   {
    "duration": 164,
    "start_time": "2022-12-08T05:18:21.169Z"
   },
   {
    "duration": 271,
    "start_time": "2022-12-08T05:18:21.335Z"
   },
   {
    "duration": 244,
    "start_time": "2022-12-08T05:18:21.608Z"
   },
   {
    "duration": 232,
    "start_time": "2022-12-08T05:18:21.855Z"
   },
   {
    "duration": 255,
    "start_time": "2022-12-08T05:18:22.088Z"
   },
   {
    "duration": 207,
    "start_time": "2022-12-08T05:18:22.344Z"
   },
   {
    "duration": 291,
    "start_time": "2022-12-08T05:18:22.552Z"
   },
   {
    "duration": 281,
    "start_time": "2022-12-08T05:18:22.845Z"
   },
   {
    "duration": 12,
    "start_time": "2022-12-08T05:18:23.129Z"
   },
   {
    "duration": 8,
    "start_time": "2022-12-08T05:18:23.142Z"
   },
   {
    "duration": 14,
    "start_time": "2022-12-08T05:18:23.151Z"
   },
   {
    "duration": 237,
    "start_time": "2022-12-08T05:18:23.167Z"
   },
   {
    "duration": 32,
    "start_time": "2022-12-08T05:18:23.406Z"
   },
   {
    "duration": 233,
    "start_time": "2022-12-08T05:18:23.440Z"
   },
   {
    "duration": 5,
    "start_time": "2022-12-08T05:18:23.674Z"
   },
   {
    "duration": 274,
    "start_time": "2022-12-08T05:18:23.681Z"
   },
   {
    "duration": 5,
    "start_time": "2022-12-08T05:18:23.957Z"
   },
   {
    "duration": 276,
    "start_time": "2022-12-08T05:18:23.963Z"
   },
   {
    "duration": 5,
    "start_time": "2022-12-08T05:18:24.241Z"
   },
   {
    "duration": 208,
    "start_time": "2022-12-08T05:18:24.248Z"
   },
   {
    "duration": 244,
    "start_time": "2022-12-08T05:18:24.458Z"
   },
   {
    "duration": 23,
    "start_time": "2022-12-08T05:18:24.703Z"
   },
   {
    "duration": 281,
    "start_time": "2022-12-08T05:18:24.727Z"
   },
   {
    "duration": 23,
    "start_time": "2022-12-08T05:18:25.010Z"
   },
   {
    "duration": 232,
    "start_time": "2022-12-08T05:18:25.039Z"
   },
   {
    "duration": 5,
    "start_time": "2022-12-08T05:18:25.273Z"
   },
   {
    "duration": 23,
    "start_time": "2022-12-08T05:18:25.280Z"
   },
   {
    "duration": 31,
    "start_time": "2022-12-08T05:18:25.305Z"
   },
   {
    "duration": 120,
    "start_time": "2022-12-08T05:18:25.339Z"
   },
   {
    "duration": 0,
    "start_time": "2022-12-08T05:18:25.461Z"
   },
   {
    "duration": 0,
    "start_time": "2022-12-08T05:18:25.463Z"
   },
   {
    "duration": 0,
    "start_time": "2022-12-08T05:18:25.463Z"
   },
   {
    "duration": 0,
    "start_time": "2022-12-08T05:18:25.465Z"
   },
   {
    "duration": 0,
    "start_time": "2022-12-08T05:18:25.466Z"
   },
   {
    "duration": 0,
    "start_time": "2022-12-08T05:18:25.467Z"
   },
   {
    "duration": 0,
    "start_time": "2022-12-08T05:18:25.468Z"
   },
   {
    "duration": 0,
    "start_time": "2022-12-08T05:18:25.469Z"
   },
   {
    "duration": 0,
    "start_time": "2022-12-08T05:18:25.471Z"
   },
   {
    "duration": 0,
    "start_time": "2022-12-08T05:18:25.472Z"
   },
   {
    "duration": 0,
    "start_time": "2022-12-08T05:18:25.473Z"
   },
   {
    "duration": 0,
    "start_time": "2022-12-08T05:18:25.475Z"
   },
   {
    "duration": 1,
    "start_time": "2022-12-08T05:18:25.475Z"
   },
   {
    "duration": 0,
    "start_time": "2022-12-08T05:18:25.477Z"
   },
   {
    "duration": 0,
    "start_time": "2022-12-08T05:18:25.478Z"
   },
   {
    "duration": 0,
    "start_time": "2022-12-08T05:18:25.479Z"
   },
   {
    "duration": 0,
    "start_time": "2022-12-08T05:18:25.480Z"
   },
   {
    "duration": 0,
    "start_time": "2022-12-08T05:18:25.481Z"
   },
   {
    "duration": 0,
    "start_time": "2022-12-08T05:18:25.518Z"
   },
   {
    "duration": 1346,
    "start_time": "2022-12-08T05:19:13.039Z"
   },
   {
    "duration": 59,
    "start_time": "2022-12-08T05:19:14.387Z"
   },
   {
    "duration": 17,
    "start_time": "2022-12-08T05:19:14.448Z"
   },
   {
    "duration": 2335,
    "start_time": "2022-12-08T05:19:14.468Z"
   },
   {
    "duration": 13,
    "start_time": "2022-12-08T05:19:16.805Z"
   },
   {
    "duration": 54,
    "start_time": "2022-12-08T05:19:16.819Z"
   },
   {
    "duration": 28,
    "start_time": "2022-12-08T05:19:16.875Z"
   },
   {
    "duration": 7,
    "start_time": "2022-12-08T05:19:16.904Z"
   },
   {
    "duration": 24,
    "start_time": "2022-12-08T05:19:16.919Z"
   },
   {
    "duration": 6,
    "start_time": "2022-12-08T05:19:16.946Z"
   },
   {
    "duration": 5,
    "start_time": "2022-12-08T05:19:16.954Z"
   },
   {
    "duration": 15,
    "start_time": "2022-12-08T05:19:16.961Z"
   },
   {
    "duration": 6,
    "start_time": "2022-12-08T05:19:16.978Z"
   },
   {
    "duration": 5,
    "start_time": "2022-12-08T05:19:16.985Z"
   },
   {
    "duration": 40,
    "start_time": "2022-12-08T05:19:16.991Z"
   },
   {
    "duration": 7,
    "start_time": "2022-12-08T05:19:17.037Z"
   },
   {
    "duration": 7,
    "start_time": "2022-12-08T05:19:17.045Z"
   },
   {
    "duration": 8,
    "start_time": "2022-12-08T05:19:17.053Z"
   },
   {
    "duration": 11,
    "start_time": "2022-12-08T05:19:17.062Z"
   },
   {
    "duration": 151,
    "start_time": "2022-12-08T05:19:17.075Z"
   },
   {
    "duration": 7,
    "start_time": "2022-12-08T05:19:17.233Z"
   },
   {
    "duration": 28,
    "start_time": "2022-12-08T05:19:17.242Z"
   },
   {
    "duration": 6,
    "start_time": "2022-12-08T05:19:17.272Z"
   },
   {
    "duration": 9,
    "start_time": "2022-12-08T05:19:17.279Z"
   },
   {
    "duration": 12,
    "start_time": "2022-12-08T05:19:17.289Z"
   },
   {
    "duration": 37,
    "start_time": "2022-12-08T05:19:17.302Z"
   },
   {
    "duration": 8,
    "start_time": "2022-12-08T05:19:17.342Z"
   },
   {
    "duration": 8,
    "start_time": "2022-12-08T05:19:17.354Z"
   },
   {
    "duration": 22,
    "start_time": "2022-12-08T05:19:17.364Z"
   },
   {
    "duration": 5,
    "start_time": "2022-12-08T05:19:17.388Z"
   },
   {
    "duration": 24,
    "start_time": "2022-12-08T05:19:17.395Z"
   },
   {
    "duration": 19,
    "start_time": "2022-12-08T05:19:17.420Z"
   },
   {
    "duration": 19,
    "start_time": "2022-12-08T05:19:17.441Z"
   },
   {
    "duration": 15,
    "start_time": "2022-12-08T05:19:17.462Z"
   },
   {
    "duration": 17,
    "start_time": "2022-12-08T05:19:17.478Z"
   },
   {
    "duration": 341,
    "start_time": "2022-12-08T05:19:17.497Z"
   },
   {
    "duration": 26,
    "start_time": "2022-12-08T05:19:17.840Z"
   },
   {
    "duration": 4,
    "start_time": "2022-12-08T05:19:17.867Z"
   },
   {
    "duration": 190,
    "start_time": "2022-12-08T05:19:17.873Z"
   },
   {
    "duration": 178,
    "start_time": "2022-12-08T05:19:18.065Z"
   },
   {
    "duration": 196,
    "start_time": "2022-12-08T05:19:18.245Z"
   },
   {
    "duration": 312,
    "start_time": "2022-12-08T05:19:18.443Z"
   },
   {
    "duration": 210,
    "start_time": "2022-12-08T05:19:18.756Z"
   },
   {
    "duration": 207,
    "start_time": "2022-12-08T05:19:18.967Z"
   },
   {
    "duration": 248,
    "start_time": "2022-12-08T05:19:19.176Z"
   },
   {
    "duration": 150,
    "start_time": "2022-12-08T05:19:19.435Z"
   },
   {
    "duration": 260,
    "start_time": "2022-12-08T05:19:19.587Z"
   },
   {
    "duration": 220,
    "start_time": "2022-12-08T05:19:19.849Z"
   },
   {
    "duration": 226,
    "start_time": "2022-12-08T05:19:20.071Z"
   },
   {
    "duration": 223,
    "start_time": "2022-12-08T05:19:20.298Z"
   },
   {
    "duration": 213,
    "start_time": "2022-12-08T05:19:20.523Z"
   },
   {
    "duration": 239,
    "start_time": "2022-12-08T05:19:20.739Z"
   },
   {
    "duration": 279,
    "start_time": "2022-12-08T05:19:20.980Z"
   },
   {
    "duration": 6,
    "start_time": "2022-12-08T05:19:21.260Z"
   },
   {
    "duration": 7,
    "start_time": "2022-12-08T05:19:21.268Z"
   },
   {
    "duration": 36,
    "start_time": "2022-12-08T05:19:21.277Z"
   },
   {
    "duration": 255,
    "start_time": "2022-12-08T05:19:21.317Z"
   },
   {
    "duration": 7,
    "start_time": "2022-12-08T05:19:21.573Z"
   },
   {
    "duration": 251,
    "start_time": "2022-12-08T05:19:21.581Z"
   },
   {
    "duration": 9,
    "start_time": "2022-12-08T05:19:21.834Z"
   },
   {
    "duration": 242,
    "start_time": "2022-12-08T05:19:21.845Z"
   },
   {
    "duration": 7,
    "start_time": "2022-12-08T05:19:22.089Z"
   },
   {
    "duration": 268,
    "start_time": "2022-12-08T05:19:22.097Z"
   },
   {
    "duration": 6,
    "start_time": "2022-12-08T05:19:22.367Z"
   },
   {
    "duration": 231,
    "start_time": "2022-12-08T05:19:22.375Z"
   },
   {
    "duration": 257,
    "start_time": "2022-12-08T05:19:22.619Z"
   },
   {
    "duration": 5,
    "start_time": "2022-12-08T05:19:22.878Z"
   },
   {
    "duration": 261,
    "start_time": "2022-12-08T05:19:22.885Z"
   },
   {
    "duration": 6,
    "start_time": "2022-12-08T05:19:23.148Z"
   },
   {
    "duration": 242,
    "start_time": "2022-12-08T05:19:23.155Z"
   },
   {
    "duration": 6,
    "start_time": "2022-12-08T05:19:23.399Z"
   },
   {
    "duration": 50,
    "start_time": "2022-12-08T05:19:23.414Z"
   },
   {
    "duration": 16,
    "start_time": "2022-12-08T05:19:23.466Z"
   },
   {
    "duration": 20,
    "start_time": "2022-12-08T05:19:23.484Z"
   },
   {
    "duration": 156,
    "start_time": "2022-12-08T05:19:23.506Z"
   },
   {
    "duration": 0,
    "start_time": "2022-12-08T05:19:23.665Z"
   },
   {
    "duration": 0,
    "start_time": "2022-12-08T05:19:23.666Z"
   },
   {
    "duration": 0,
    "start_time": "2022-12-08T05:19:23.667Z"
   },
   {
    "duration": 0,
    "start_time": "2022-12-08T05:19:23.668Z"
   },
   {
    "duration": 0,
    "start_time": "2022-12-08T05:19:23.670Z"
   },
   {
    "duration": 0,
    "start_time": "2022-12-08T05:19:23.671Z"
   },
   {
    "duration": 0,
    "start_time": "2022-12-08T05:19:23.672Z"
   },
   {
    "duration": 0,
    "start_time": "2022-12-08T05:19:23.674Z"
   },
   {
    "duration": 0,
    "start_time": "2022-12-08T05:19:23.675Z"
   },
   {
    "duration": 0,
    "start_time": "2022-12-08T05:19:23.676Z"
   },
   {
    "duration": 0,
    "start_time": "2022-12-08T05:19:23.678Z"
   },
   {
    "duration": 0,
    "start_time": "2022-12-08T05:19:23.679Z"
   },
   {
    "duration": 0,
    "start_time": "2022-12-08T05:19:23.680Z"
   },
   {
    "duration": 0,
    "start_time": "2022-12-08T05:19:23.681Z"
   },
   {
    "duration": 0,
    "start_time": "2022-12-08T05:19:23.683Z"
   },
   {
    "duration": 0,
    "start_time": "2022-12-08T05:19:23.714Z"
   },
   {
    "duration": 0,
    "start_time": "2022-12-08T05:19:23.715Z"
   },
   {
    "duration": 0,
    "start_time": "2022-12-08T05:19:23.715Z"
   },
   {
    "duration": 11,
    "start_time": "2022-12-08T05:28:06.684Z"
   },
   {
    "duration": 17,
    "start_time": "2022-12-08T05:28:36.079Z"
   },
   {
    "duration": 24,
    "start_time": "2022-12-08T05:29:20.703Z"
   },
   {
    "duration": 15,
    "start_time": "2022-12-08T05:29:59.955Z"
   },
   {
    "duration": 16,
    "start_time": "2022-12-08T05:30:08.654Z"
   },
   {
    "duration": 14,
    "start_time": "2022-12-08T05:30:15.077Z"
   },
   {
    "duration": 15,
    "start_time": "2022-12-08T05:30:21.894Z"
   },
   {
    "duration": 14,
    "start_time": "2022-12-08T05:30:37.104Z"
   },
   {
    "duration": 12,
    "start_time": "2022-12-08T05:30:42.679Z"
   },
   {
    "duration": 827,
    "start_time": "2022-12-08T05:31:16.972Z"
   },
   {
    "duration": 750,
    "start_time": "2022-12-08T05:31:36.728Z"
   },
   {
    "duration": 913,
    "start_time": "2022-12-08T05:31:54.854Z"
   },
   {
    "duration": 962,
    "start_time": "2022-12-08T05:32:12.149Z"
   },
   {
    "duration": 10,
    "start_time": "2022-12-08T05:37:36.798Z"
   },
   {
    "duration": 206,
    "start_time": "2022-12-08T05:37:43.372Z"
   },
   {
    "duration": 12,
    "start_time": "2022-12-08T05:38:22.875Z"
   },
   {
    "duration": 749,
    "start_time": "2022-12-08T05:38:27.428Z"
   },
   {
    "duration": 11,
    "start_time": "2022-12-08T05:38:53.440Z"
   },
   {
    "duration": 14,
    "start_time": "2022-12-08T05:39:19.806Z"
   },
   {
    "duration": 12,
    "start_time": "2022-12-08T05:39:31.062Z"
   },
   {
    "duration": 13,
    "start_time": "2022-12-08T05:39:55.927Z"
   },
   {
    "duration": 15,
    "start_time": "2022-12-08T05:40:11.509Z"
   },
   {
    "duration": 733,
    "start_time": "2022-12-08T05:40:32.060Z"
   },
   {
    "duration": 5362,
    "start_time": "2022-12-08T05:41:02.629Z"
   },
   {
    "duration": 3,
    "start_time": "2022-12-08T05:42:51.905Z"
   },
   {
    "duration": 12,
    "start_time": "2022-12-08T05:43:40.364Z"
   },
   {
    "duration": 12,
    "start_time": "2022-12-08T05:43:45.270Z"
   },
   {
    "duration": 38,
    "start_time": "2022-12-08T05:43:52.111Z"
   },
   {
    "duration": 84,
    "start_time": "2022-12-08T05:45:16.119Z"
   },
   {
    "duration": 5846,
    "start_time": "2022-12-08T05:45:25.492Z"
   },
   {
    "duration": 179,
    "start_time": "2022-12-08T05:46:16.958Z"
   },
   {
    "duration": 45,
    "start_time": "2022-12-08T12:29:58.771Z"
   },
   {
    "duration": 1554,
    "start_time": "2022-12-08T12:30:07.145Z"
   },
   {
    "duration": 40,
    "start_time": "2022-12-08T12:30:08.701Z"
   },
   {
    "duration": 13,
    "start_time": "2022-12-08T12:30:08.743Z"
   },
   {
    "duration": 1853,
    "start_time": "2022-12-08T12:30:08.758Z"
   },
   {
    "duration": 11,
    "start_time": "2022-12-08T12:30:10.612Z"
   },
   {
    "duration": 27,
    "start_time": "2022-12-08T12:30:10.625Z"
   },
   {
    "duration": 25,
    "start_time": "2022-12-08T12:30:10.653Z"
   },
   {
    "duration": 18,
    "start_time": "2022-12-08T12:30:10.680Z"
   },
   {
    "duration": 5,
    "start_time": "2022-12-08T12:30:10.699Z"
   },
   {
    "duration": 12,
    "start_time": "2022-12-08T12:30:10.707Z"
   },
   {
    "duration": 4,
    "start_time": "2022-12-08T12:30:10.721Z"
   },
   {
    "duration": 16,
    "start_time": "2022-12-08T12:30:10.727Z"
   },
   {
    "duration": 5,
    "start_time": "2022-12-08T12:30:10.744Z"
   },
   {
    "duration": 5,
    "start_time": "2022-12-08T12:30:10.751Z"
   },
   {
    "duration": 41,
    "start_time": "2022-12-08T12:30:10.758Z"
   },
   {
    "duration": 4,
    "start_time": "2022-12-08T12:30:10.800Z"
   },
   {
    "duration": 6,
    "start_time": "2022-12-08T12:30:10.806Z"
   },
   {
    "duration": 21,
    "start_time": "2022-12-08T12:30:10.814Z"
   },
   {
    "duration": 11,
    "start_time": "2022-12-08T12:30:10.836Z"
   },
   {
    "duration": 125,
    "start_time": "2022-12-08T12:30:10.849Z"
   },
   {
    "duration": 5,
    "start_time": "2022-12-08T12:30:10.976Z"
   },
   {
    "duration": 38,
    "start_time": "2022-12-08T12:30:10.982Z"
   },
   {
    "duration": 6,
    "start_time": "2022-12-08T12:30:11.022Z"
   },
   {
    "duration": 11,
    "start_time": "2022-12-08T12:30:11.029Z"
   },
   {
    "duration": 12,
    "start_time": "2022-12-08T12:30:11.042Z"
   },
   {
    "duration": 10,
    "start_time": "2022-12-08T12:30:11.055Z"
   },
   {
    "duration": 9,
    "start_time": "2022-12-08T12:30:11.066Z"
   },
   {
    "duration": 7,
    "start_time": "2022-12-08T12:30:11.097Z"
   },
   {
    "duration": 25,
    "start_time": "2022-12-08T12:30:11.106Z"
   },
   {
    "duration": 4,
    "start_time": "2022-12-08T12:30:11.133Z"
   },
   {
    "duration": 9,
    "start_time": "2022-12-08T12:30:11.139Z"
   },
   {
    "duration": 10,
    "start_time": "2022-12-08T12:30:11.149Z"
   },
   {
    "duration": 16,
    "start_time": "2022-12-08T12:30:11.160Z"
   },
   {
    "duration": 19,
    "start_time": "2022-12-08T12:30:11.198Z"
   },
   {
    "duration": 17,
    "start_time": "2022-12-08T12:30:11.218Z"
   },
   {
    "duration": 266,
    "start_time": "2022-12-08T12:30:11.236Z"
   },
   {
    "duration": 21,
    "start_time": "2022-12-08T12:30:11.503Z"
   },
   {
    "duration": 4,
    "start_time": "2022-12-08T12:30:11.526Z"
   },
   {
    "duration": 170,
    "start_time": "2022-12-08T12:30:11.531Z"
   },
   {
    "duration": 138,
    "start_time": "2022-12-08T12:30:11.703Z"
   },
   {
    "duration": 159,
    "start_time": "2022-12-08T12:30:11.842Z"
   },
   {
    "duration": 288,
    "start_time": "2022-12-08T12:30:12.003Z"
   },
   {
    "duration": 180,
    "start_time": "2022-12-08T12:30:12.292Z"
   },
   {
    "duration": 168,
    "start_time": "2022-12-08T12:30:12.473Z"
   },
   {
    "duration": 190,
    "start_time": "2022-12-08T12:30:12.643Z"
   },
   {
    "duration": 133,
    "start_time": "2022-12-08T12:30:12.834Z"
   },
   {
    "duration": 202,
    "start_time": "2022-12-08T12:30:12.969Z"
   },
   {
    "duration": 175,
    "start_time": "2022-12-08T12:30:13.172Z"
   },
   {
    "duration": 176,
    "start_time": "2022-12-08T12:30:13.349Z"
   },
   {
    "duration": 181,
    "start_time": "2022-12-08T12:30:13.526Z"
   },
   {
    "duration": 168,
    "start_time": "2022-12-08T12:30:13.709Z"
   },
   {
    "duration": 209,
    "start_time": "2022-12-08T12:30:13.878Z"
   },
   {
    "duration": 237,
    "start_time": "2022-12-08T12:30:14.088Z"
   },
   {
    "duration": 5,
    "start_time": "2022-12-08T12:30:14.327Z"
   },
   {
    "duration": 7,
    "start_time": "2022-12-08T12:30:14.333Z"
   },
   {
    "duration": 14,
    "start_time": "2022-12-08T12:30:14.341Z"
   },
   {
    "duration": 235,
    "start_time": "2022-12-08T12:30:14.357Z"
   },
   {
    "duration": 6,
    "start_time": "2022-12-08T12:30:14.597Z"
   },
   {
    "duration": 248,
    "start_time": "2022-12-08T12:30:14.605Z"
   },
   {
    "duration": 5,
    "start_time": "2022-12-08T12:30:14.855Z"
   },
   {
    "duration": 218,
    "start_time": "2022-12-08T12:30:14.861Z"
   },
   {
    "duration": 6,
    "start_time": "2022-12-08T12:30:15.080Z"
   },
   {
    "duration": 222,
    "start_time": "2022-12-08T12:30:15.087Z"
   },
   {
    "duration": 4,
    "start_time": "2022-12-08T12:30:15.311Z"
   },
   {
    "duration": 186,
    "start_time": "2022-12-08T12:30:15.317Z"
   },
   {
    "duration": 226,
    "start_time": "2022-12-08T12:30:15.504Z"
   },
   {
    "duration": 5,
    "start_time": "2022-12-08T12:30:15.732Z"
   },
   {
    "duration": 214,
    "start_time": "2022-12-08T12:30:15.738Z"
   },
   {
    "duration": 6,
    "start_time": "2022-12-08T12:30:15.954Z"
   },
   {
    "duration": 213,
    "start_time": "2022-12-08T12:30:15.962Z"
   },
   {
    "duration": 6,
    "start_time": "2022-12-08T12:30:16.177Z"
   },
   {
    "duration": 24,
    "start_time": "2022-12-08T12:30:16.185Z"
   },
   {
    "duration": 11,
    "start_time": "2022-12-08T12:30:16.211Z"
   },
   {
    "duration": 5,
    "start_time": "2022-12-08T12:30:16.223Z"
   },
   {
    "duration": 4663,
    "start_time": "2022-12-08T12:30:16.230Z"
   },
   {
    "duration": 10,
    "start_time": "2022-12-08T12:30:20.895Z"
   },
   {
    "duration": 164,
    "start_time": "2022-12-08T12:30:20.907Z"
   },
   {
    "duration": 9,
    "start_time": "2022-12-08T12:30:21.072Z"
   },
   {
    "duration": 39,
    "start_time": "2022-12-08T12:30:21.082Z"
   },
   {
    "duration": 22,
    "start_time": "2022-12-08T12:30:21.123Z"
   },
   {
    "duration": 30,
    "start_time": "2022-12-08T12:30:21.146Z"
   },
   {
    "duration": 46,
    "start_time": "2022-12-08T12:30:21.181Z"
   },
   {
    "duration": 21,
    "start_time": "2022-12-08T12:30:21.229Z"
   },
   {
    "duration": 42,
    "start_time": "2022-12-08T12:30:21.252Z"
   },
   {
    "duration": 49,
    "start_time": "2022-12-08T12:30:21.295Z"
   },
   {
    "duration": 21,
    "start_time": "2022-12-08T12:30:21.346Z"
   },
   {
    "duration": 18,
    "start_time": "2022-12-08T12:30:21.368Z"
   },
   {
    "duration": 24,
    "start_time": "2022-12-08T12:30:21.388Z"
   },
   {
    "duration": 13,
    "start_time": "2022-12-08T12:30:21.414Z"
   },
   {
    "duration": 41,
    "start_time": "2022-12-08T12:30:21.428Z"
   },
   {
    "duration": 27,
    "start_time": "2022-12-08T12:30:21.470Z"
   },
   {
    "duration": 14,
    "start_time": "2022-12-08T12:30:21.499Z"
   },
   {
    "duration": 173,
    "start_time": "2022-12-08T12:30:21.514Z"
   },
   {
    "duration": 96,
    "start_time": "2022-12-08T12:31:23.209Z"
   },
   {
    "duration": 48,
    "start_time": "2022-12-08T12:31:32.157Z"
   },
   {
    "duration": 15,
    "start_time": "2022-12-08T12:32:16.524Z"
   },
   {
    "duration": 47,
    "start_time": "2022-12-08T12:39:55.059Z"
   },
   {
    "duration": 1233,
    "start_time": "2022-12-08T12:40:12.311Z"
   },
   {
    "duration": 37,
    "start_time": "2022-12-08T12:40:13.546Z"
   },
   {
    "duration": 25,
    "start_time": "2022-12-08T12:40:13.585Z"
   },
   {
    "duration": 2070,
    "start_time": "2022-12-08T12:40:13.612Z"
   },
   {
    "duration": 69,
    "start_time": "2022-12-08T12:40:15.685Z"
   },
   {
    "duration": 23,
    "start_time": "2022-12-08T12:40:15.756Z"
   },
   {
    "duration": 37,
    "start_time": "2022-12-08T12:40:15.781Z"
   },
   {
    "duration": 6,
    "start_time": "2022-12-08T12:40:15.820Z"
   },
   {
    "duration": 10,
    "start_time": "2022-12-08T12:40:15.828Z"
   },
   {
    "duration": 47,
    "start_time": "2022-12-08T12:40:15.841Z"
   },
   {
    "duration": 0,
    "start_time": "2022-12-08T12:40:15.893Z"
   },
   {
    "duration": 0,
    "start_time": "2022-12-08T12:40:15.895Z"
   },
   {
    "duration": 0,
    "start_time": "2022-12-08T12:40:15.896Z"
   },
   {
    "duration": 0,
    "start_time": "2022-12-08T12:40:15.897Z"
   },
   {
    "duration": 1,
    "start_time": "2022-12-08T12:40:15.898Z"
   },
   {
    "duration": 0,
    "start_time": "2022-12-08T12:40:15.900Z"
   },
   {
    "duration": 0,
    "start_time": "2022-12-08T12:40:15.901Z"
   },
   {
    "duration": 0,
    "start_time": "2022-12-08T12:40:15.902Z"
   },
   {
    "duration": 0,
    "start_time": "2022-12-08T12:40:15.903Z"
   },
   {
    "duration": 0,
    "start_time": "2022-12-08T12:40:15.905Z"
   },
   {
    "duration": 0,
    "start_time": "2022-12-08T12:40:15.906Z"
   },
   {
    "duration": 0,
    "start_time": "2022-12-08T12:40:15.907Z"
   },
   {
    "duration": 0,
    "start_time": "2022-12-08T12:40:15.908Z"
   },
   {
    "duration": 0,
    "start_time": "2022-12-08T12:40:15.910Z"
   },
   {
    "duration": 0,
    "start_time": "2022-12-08T12:40:15.911Z"
   },
   {
    "duration": 0,
    "start_time": "2022-12-08T12:40:15.912Z"
   },
   {
    "duration": 0,
    "start_time": "2022-12-08T12:40:15.913Z"
   },
   {
    "duration": 0,
    "start_time": "2022-12-08T12:40:15.915Z"
   },
   {
    "duration": 0,
    "start_time": "2022-12-08T12:40:15.916Z"
   },
   {
    "duration": 0,
    "start_time": "2022-12-08T12:40:15.917Z"
   },
   {
    "duration": 0,
    "start_time": "2022-12-08T12:40:15.918Z"
   },
   {
    "duration": 0,
    "start_time": "2022-12-08T12:40:15.920Z"
   },
   {
    "duration": 0,
    "start_time": "2022-12-08T12:40:15.921Z"
   },
   {
    "duration": 0,
    "start_time": "2022-12-08T12:40:15.922Z"
   },
   {
    "duration": 0,
    "start_time": "2022-12-08T12:40:15.924Z"
   },
   {
    "duration": 0,
    "start_time": "2022-12-08T12:40:15.925Z"
   },
   {
    "duration": 0,
    "start_time": "2022-12-08T12:40:15.927Z"
   },
   {
    "duration": 0,
    "start_time": "2022-12-08T12:40:15.928Z"
   },
   {
    "duration": 0,
    "start_time": "2022-12-08T12:40:15.929Z"
   },
   {
    "duration": 0,
    "start_time": "2022-12-08T12:40:15.931Z"
   },
   {
    "duration": 0,
    "start_time": "2022-12-08T12:40:15.932Z"
   },
   {
    "duration": 0,
    "start_time": "2022-12-08T12:40:15.934Z"
   },
   {
    "duration": 0,
    "start_time": "2022-12-08T12:40:15.935Z"
   },
   {
    "duration": 0,
    "start_time": "2022-12-08T12:40:15.998Z"
   },
   {
    "duration": 0,
    "start_time": "2022-12-08T12:40:15.999Z"
   },
   {
    "duration": 0,
    "start_time": "2022-12-08T12:40:16.000Z"
   },
   {
    "duration": 0,
    "start_time": "2022-12-08T12:40:16.001Z"
   },
   {
    "duration": 0,
    "start_time": "2022-12-08T12:40:16.002Z"
   },
   {
    "duration": 0,
    "start_time": "2022-12-08T12:40:16.003Z"
   },
   {
    "duration": 0,
    "start_time": "2022-12-08T12:40:16.004Z"
   },
   {
    "duration": 0,
    "start_time": "2022-12-08T12:40:16.005Z"
   },
   {
    "duration": 0,
    "start_time": "2022-12-08T12:40:16.006Z"
   },
   {
    "duration": 0,
    "start_time": "2022-12-08T12:40:16.007Z"
   },
   {
    "duration": 0,
    "start_time": "2022-12-08T12:40:16.008Z"
   },
   {
    "duration": 0,
    "start_time": "2022-12-08T12:40:16.009Z"
   },
   {
    "duration": 0,
    "start_time": "2022-12-08T12:40:16.010Z"
   },
   {
    "duration": 0,
    "start_time": "2022-12-08T12:40:16.010Z"
   },
   {
    "duration": 0,
    "start_time": "2022-12-08T12:40:16.011Z"
   },
   {
    "duration": 0,
    "start_time": "2022-12-08T12:40:16.013Z"
   },
   {
    "duration": 0,
    "start_time": "2022-12-08T12:40:16.014Z"
   },
   {
    "duration": 0,
    "start_time": "2022-12-08T12:40:16.016Z"
   },
   {
    "duration": 0,
    "start_time": "2022-12-08T12:40:16.017Z"
   },
   {
    "duration": 0,
    "start_time": "2022-12-08T12:40:16.018Z"
   },
   {
    "duration": 0,
    "start_time": "2022-12-08T12:40:16.020Z"
   },
   {
    "duration": 0,
    "start_time": "2022-12-08T12:40:16.021Z"
   },
   {
    "duration": 0,
    "start_time": "2022-12-08T12:40:16.022Z"
   },
   {
    "duration": 0,
    "start_time": "2022-12-08T12:40:16.023Z"
   },
   {
    "duration": 0,
    "start_time": "2022-12-08T12:40:16.025Z"
   },
   {
    "duration": 0,
    "start_time": "2022-12-08T12:40:16.026Z"
   },
   {
    "duration": 0,
    "start_time": "2022-12-08T12:40:16.027Z"
   },
   {
    "duration": 0,
    "start_time": "2022-12-08T12:40:16.028Z"
   },
   {
    "duration": 0,
    "start_time": "2022-12-08T12:40:16.029Z"
   },
   {
    "duration": 0,
    "start_time": "2022-12-08T12:40:16.030Z"
   },
   {
    "duration": 0,
    "start_time": "2022-12-08T12:40:16.031Z"
   },
   {
    "duration": 0,
    "start_time": "2022-12-08T12:40:16.032Z"
   },
   {
    "duration": 0,
    "start_time": "2022-12-08T12:40:16.033Z"
   },
   {
    "duration": 0,
    "start_time": "2022-12-08T12:40:16.034Z"
   },
   {
    "duration": 0,
    "start_time": "2022-12-08T12:40:16.097Z"
   },
   {
    "duration": 0,
    "start_time": "2022-12-08T12:40:16.099Z"
   },
   {
    "duration": 0,
    "start_time": "2022-12-08T12:40:16.100Z"
   },
   {
    "duration": 0,
    "start_time": "2022-12-08T12:40:16.100Z"
   },
   {
    "duration": 0,
    "start_time": "2022-12-08T12:40:16.101Z"
   },
   {
    "duration": 0,
    "start_time": "2022-12-08T12:40:16.102Z"
   },
   {
    "duration": 0,
    "start_time": "2022-12-08T12:40:16.103Z"
   },
   {
    "duration": 0,
    "start_time": "2022-12-08T12:40:16.104Z"
   },
   {
    "duration": 0,
    "start_time": "2022-12-08T12:40:16.105Z"
   },
   {
    "duration": 0,
    "start_time": "2022-12-08T12:40:16.106Z"
   },
   {
    "duration": 0,
    "start_time": "2022-12-08T12:40:16.107Z"
   },
   {
    "duration": 0,
    "start_time": "2022-12-08T12:40:16.108Z"
   },
   {
    "duration": 0,
    "start_time": "2022-12-08T12:40:16.109Z"
   },
   {
    "duration": 0,
    "start_time": "2022-12-08T12:40:16.110Z"
   },
   {
    "duration": 0,
    "start_time": "2022-12-08T12:40:16.111Z"
   },
   {
    "duration": 0,
    "start_time": "2022-12-08T12:40:16.112Z"
   },
   {
    "duration": 0,
    "start_time": "2022-12-08T12:40:16.113Z"
   },
   {
    "duration": 104,
    "start_time": "2022-12-08T12:40:49.058Z"
   },
   {
    "duration": 14,
    "start_time": "2022-12-08T12:41:17.596Z"
   },
   {
    "duration": 9,
    "start_time": "2022-12-08T12:41:31.777Z"
   },
   {
    "duration": 11,
    "start_time": "2022-12-08T12:47:16.028Z"
   },
   {
    "duration": 1192,
    "start_time": "2022-12-08T12:51:27.080Z"
   },
   {
    "duration": 53,
    "start_time": "2022-12-08T12:51:53.601Z"
   },
   {
    "duration": 1298,
    "start_time": "2022-12-08T12:53:21.668Z"
   },
   {
    "duration": 44,
    "start_time": "2022-12-08T12:53:22.968Z"
   },
   {
    "duration": 15,
    "start_time": "2022-12-08T12:53:23.013Z"
   },
   {
    "duration": 2033,
    "start_time": "2022-12-08T12:53:23.030Z"
   },
   {
    "duration": 59,
    "start_time": "2022-12-08T12:53:25.065Z"
   },
   {
    "duration": 31,
    "start_time": "2022-12-08T12:53:25.126Z"
   },
   {
    "duration": 47,
    "start_time": "2022-12-08T12:53:25.158Z"
   },
   {
    "duration": 5,
    "start_time": "2022-12-08T12:53:25.207Z"
   },
   {
    "duration": 8,
    "start_time": "2022-12-08T12:53:25.214Z"
   },
   {
    "duration": 11,
    "start_time": "2022-12-08T12:53:25.224Z"
   },
   {
    "duration": 5,
    "start_time": "2022-12-08T12:53:25.237Z"
   },
   {
    "duration": 10,
    "start_time": "2022-12-08T12:53:25.244Z"
   },
   {
    "duration": 13,
    "start_time": "2022-12-08T12:53:25.256Z"
   },
   {
    "duration": 13,
    "start_time": "2022-12-08T12:53:25.297Z"
   },
   {
    "duration": 5,
    "start_time": "2022-12-08T12:53:25.312Z"
   },
   {
    "duration": 6,
    "start_time": "2022-12-08T12:53:25.319Z"
   },
   {
    "duration": 7,
    "start_time": "2022-12-08T12:53:25.327Z"
   },
   {
    "duration": 13,
    "start_time": "2022-12-08T12:53:25.335Z"
   },
   {
    "duration": 9,
    "start_time": "2022-12-08T12:53:25.350Z"
   },
   {
    "duration": 10,
    "start_time": "2022-12-08T12:53:25.361Z"
   },
   {
    "duration": 6,
    "start_time": "2022-12-08T12:53:25.398Z"
   },
   {
    "duration": 116,
    "start_time": "2022-12-08T12:53:25.405Z"
   },
   {
    "duration": 5,
    "start_time": "2022-12-08T12:53:25.522Z"
   },
   {
    "duration": 29,
    "start_time": "2022-12-08T12:53:25.529Z"
   },
   {
    "duration": 4,
    "start_time": "2022-12-08T12:53:25.560Z"
   },
   {
    "duration": 9,
    "start_time": "2022-12-08T12:53:25.566Z"
   },
   {
    "duration": 42,
    "start_time": "2022-12-08T12:53:25.576Z"
   },
   {
    "duration": 15,
    "start_time": "2022-12-08T12:53:25.625Z"
   },
   {
    "duration": 10,
    "start_time": "2022-12-08T12:53:25.642Z"
   },
   {
    "duration": 11,
    "start_time": "2022-12-08T12:53:25.654Z"
   },
   {
    "duration": 46,
    "start_time": "2022-12-08T12:53:25.666Z"
   },
   {
    "duration": 4,
    "start_time": "2022-12-08T12:53:25.714Z"
   },
   {
    "duration": 10,
    "start_time": "2022-12-08T12:53:25.719Z"
   },
   {
    "duration": 11,
    "start_time": "2022-12-08T12:53:25.731Z"
   },
   {
    "duration": 18,
    "start_time": "2022-12-08T12:53:25.744Z"
   },
   {
    "duration": 12,
    "start_time": "2022-12-08T12:53:25.763Z"
   },
   {
    "duration": 28,
    "start_time": "2022-12-08T12:53:25.777Z"
   },
   {
    "duration": 261,
    "start_time": "2022-12-08T12:53:25.807Z"
   },
   {
    "duration": 31,
    "start_time": "2022-12-08T12:53:26.070Z"
   },
   {
    "duration": 5,
    "start_time": "2022-12-08T12:53:26.103Z"
   },
   {
    "duration": 169,
    "start_time": "2022-12-08T12:53:26.109Z"
   },
   {
    "duration": 163,
    "start_time": "2022-12-08T12:53:26.279Z"
   },
   {
    "duration": 181,
    "start_time": "2022-12-08T12:53:26.443Z"
   },
   {
    "duration": 294,
    "start_time": "2022-12-08T12:53:26.626Z"
   },
   {
    "duration": 186,
    "start_time": "2022-12-08T12:53:26.921Z"
   },
   {
    "duration": 170,
    "start_time": "2022-12-08T12:53:27.108Z"
   },
   {
    "duration": 188,
    "start_time": "2022-12-08T12:53:27.279Z"
   },
   {
    "duration": 144,
    "start_time": "2022-12-08T12:53:27.469Z"
   },
   {
    "duration": 221,
    "start_time": "2022-12-08T12:53:27.615Z"
   },
   {
    "duration": 197,
    "start_time": "2022-12-08T12:53:27.838Z"
   },
   {
    "duration": 198,
    "start_time": "2022-12-08T12:53:28.037Z"
   },
   {
    "duration": 192,
    "start_time": "2022-12-08T12:53:28.237Z"
   },
   {
    "duration": 177,
    "start_time": "2022-12-08T12:53:28.431Z"
   },
   {
    "duration": 270,
    "start_time": "2022-12-08T12:53:28.610Z"
   },
   {
    "duration": 267,
    "start_time": "2022-12-08T12:53:28.882Z"
   },
   {
    "duration": 5,
    "start_time": "2022-12-08T12:53:29.150Z"
   },
   {
    "duration": 10,
    "start_time": "2022-12-08T12:53:29.157Z"
   },
   {
    "duration": 13,
    "start_time": "2022-12-08T12:53:29.169Z"
   },
   {
    "duration": 231,
    "start_time": "2022-12-08T12:53:29.184Z"
   },
   {
    "duration": 5,
    "start_time": "2022-12-08T12:53:29.418Z"
   },
   {
    "duration": 218,
    "start_time": "2022-12-08T12:53:29.425Z"
   },
   {
    "duration": 5,
    "start_time": "2022-12-08T12:53:29.644Z"
   },
   {
    "duration": 260,
    "start_time": "2022-12-08T12:53:29.651Z"
   },
   {
    "duration": 6,
    "start_time": "2022-12-08T12:53:29.913Z"
   },
   {
    "duration": 250,
    "start_time": "2022-12-08T12:53:29.920Z"
   },
   {
    "duration": 6,
    "start_time": "2022-12-08T12:53:30.172Z"
   },
   {
    "duration": 182,
    "start_time": "2022-12-08T12:53:30.179Z"
   },
   {
    "duration": 217,
    "start_time": "2022-12-08T12:53:30.363Z"
   },
   {
    "duration": 15,
    "start_time": "2022-12-08T12:53:30.582Z"
   },
   {
    "duration": 240,
    "start_time": "2022-12-08T12:53:30.599Z"
   },
   {
    "duration": 6,
    "start_time": "2022-12-08T12:53:30.840Z"
   },
   {
    "duration": 240,
    "start_time": "2022-12-08T12:53:30.848Z"
   },
   {
    "duration": 6,
    "start_time": "2022-12-08T12:53:31.097Z"
   },
   {
    "duration": 17,
    "start_time": "2022-12-08T12:53:31.105Z"
   },
   {
    "duration": 11,
    "start_time": "2022-12-08T12:53:31.124Z"
   },
   {
    "duration": 36,
    "start_time": "2022-12-08T12:53:31.136Z"
   },
   {
    "duration": 4733,
    "start_time": "2022-12-08T12:53:31.174Z"
   },
   {
    "duration": 10,
    "start_time": "2022-12-08T12:53:35.909Z"
   },
   {
    "duration": 188,
    "start_time": "2022-12-08T12:53:35.921Z"
   },
   {
    "duration": 10,
    "start_time": "2022-12-08T12:53:36.111Z"
   },
   {
    "duration": 15,
    "start_time": "2022-12-08T12:53:36.122Z"
   },
   {
    "duration": 22,
    "start_time": "2022-12-08T12:53:36.142Z"
   },
   {
    "duration": 9,
    "start_time": "2022-12-08T12:53:36.198Z"
   },
   {
    "duration": 34,
    "start_time": "2022-12-08T12:53:36.209Z"
   },
   {
    "duration": 15,
    "start_time": "2022-12-08T12:53:36.245Z"
   },
   {
    "duration": 11,
    "start_time": "2022-12-08T12:53:36.261Z"
   },
   {
    "duration": 36,
    "start_time": "2022-12-08T12:53:36.274Z"
   },
   {
    "duration": 30,
    "start_time": "2022-12-08T12:53:36.312Z"
   },
   {
    "duration": 6,
    "start_time": "2022-12-08T12:53:36.344Z"
   },
   {
    "duration": 21,
    "start_time": "2022-12-08T12:53:36.352Z"
   },
   {
    "duration": 9,
    "start_time": "2022-12-08T12:53:36.396Z"
   },
   {
    "duration": 29,
    "start_time": "2022-12-08T12:53:36.407Z"
   },
   {
    "duration": 15,
    "start_time": "2022-12-08T12:53:36.438Z"
   },
   {
    "duration": 14,
    "start_time": "2022-12-08T12:53:36.455Z"
   },
   {
    "duration": 201,
    "start_time": "2022-12-08T12:53:36.471Z"
   },
   {
    "duration": 8,
    "start_time": "2022-12-08T12:58:07.830Z"
   },
   {
    "duration": 1272,
    "start_time": "2022-12-08T12:58:24.809Z"
   },
   {
    "duration": 38,
    "start_time": "2022-12-08T12:58:26.083Z"
   },
   {
    "duration": 13,
    "start_time": "2022-12-08T12:58:26.123Z"
   },
   {
    "duration": 1819,
    "start_time": "2022-12-08T12:58:26.137Z"
   },
   {
    "duration": 51,
    "start_time": "2022-12-08T12:58:27.987Z"
   },
   {
    "duration": 24,
    "start_time": "2022-12-08T12:58:28.040Z"
   },
   {
    "duration": 37,
    "start_time": "2022-12-08T12:58:28.065Z"
   },
   {
    "duration": 5,
    "start_time": "2022-12-08T12:58:28.103Z"
   },
   {
    "duration": 12,
    "start_time": "2022-12-08T12:58:28.110Z"
   },
   {
    "duration": 17,
    "start_time": "2022-12-08T12:58:28.125Z"
   },
   {
    "duration": 7,
    "start_time": "2022-12-08T12:58:28.143Z"
   },
   {
    "duration": 7,
    "start_time": "2022-12-08T12:58:28.151Z"
   },
   {
    "duration": 11,
    "start_time": "2022-12-08T12:58:28.160Z"
   },
   {
    "duration": 34,
    "start_time": "2022-12-08T12:58:28.173Z"
   },
   {
    "duration": 6,
    "start_time": "2022-12-08T12:58:28.209Z"
   },
   {
    "duration": 8,
    "start_time": "2022-12-08T12:58:28.216Z"
   },
   {
    "duration": 12,
    "start_time": "2022-12-08T12:58:28.225Z"
   },
   {
    "duration": 5,
    "start_time": "2022-12-08T12:58:28.238Z"
   },
   {
    "duration": 8,
    "start_time": "2022-12-08T12:58:28.245Z"
   },
   {
    "duration": 11,
    "start_time": "2022-12-08T12:58:28.254Z"
   },
   {
    "duration": 32,
    "start_time": "2022-12-08T12:58:28.267Z"
   },
   {
    "duration": 12,
    "start_time": "2022-12-08T12:58:28.300Z"
   },
   {
    "duration": 108,
    "start_time": "2022-12-08T12:58:28.314Z"
   },
   {
    "duration": 5,
    "start_time": "2022-12-08T12:58:28.424Z"
   },
   {
    "duration": 28,
    "start_time": "2022-12-08T12:58:28.431Z"
   },
   {
    "duration": 4,
    "start_time": "2022-12-08T12:58:28.461Z"
   },
   {
    "duration": 31,
    "start_time": "2022-12-08T12:58:28.467Z"
   },
   {
    "duration": 11,
    "start_time": "2022-12-08T12:58:28.502Z"
   },
   {
    "duration": 9,
    "start_time": "2022-12-08T12:58:28.515Z"
   },
   {
    "duration": 10,
    "start_time": "2022-12-08T12:58:28.525Z"
   },
   {
    "duration": 10,
    "start_time": "2022-12-08T12:58:28.537Z"
   },
   {
    "duration": 52,
    "start_time": "2022-12-08T12:58:28.550Z"
   },
   {
    "duration": 19,
    "start_time": "2022-12-08T12:58:28.603Z"
   },
   {
    "duration": 25,
    "start_time": "2022-12-08T12:58:28.623Z"
   },
   {
    "duration": 29,
    "start_time": "2022-12-08T12:58:28.649Z"
   },
   {
    "duration": 40,
    "start_time": "2022-12-08T12:58:28.680Z"
   },
   {
    "duration": 23,
    "start_time": "2022-12-08T12:58:28.722Z"
   },
   {
    "duration": 36,
    "start_time": "2022-12-08T12:58:28.746Z"
   },
   {
    "duration": 250,
    "start_time": "2022-12-08T12:58:28.784Z"
   },
   {
    "duration": 22,
    "start_time": "2022-12-08T12:58:29.036Z"
   },
   {
    "duration": 4,
    "start_time": "2022-12-08T12:58:29.059Z"
   },
   {
    "duration": 181,
    "start_time": "2022-12-08T12:58:29.065Z"
   },
   {
    "duration": 153,
    "start_time": "2022-12-08T12:58:29.248Z"
   },
   {
    "duration": 179,
    "start_time": "2022-12-08T12:58:29.403Z"
   },
   {
    "duration": 293,
    "start_time": "2022-12-08T12:58:29.584Z"
   },
   {
    "duration": 204,
    "start_time": "2022-12-08T12:58:29.879Z"
   },
   {
    "duration": 172,
    "start_time": "2022-12-08T12:58:30.086Z"
   },
   {
    "duration": 179,
    "start_time": "2022-12-08T12:58:30.260Z"
   },
   {
    "duration": 143,
    "start_time": "2022-12-08T12:58:30.441Z"
   },
   {
    "duration": 216,
    "start_time": "2022-12-08T12:58:30.586Z"
   },
   {
    "duration": 178,
    "start_time": "2022-12-08T12:58:30.804Z"
   },
   {
    "duration": 184,
    "start_time": "2022-12-08T12:58:30.984Z"
   },
   {
    "duration": 184,
    "start_time": "2022-12-08T12:58:31.170Z"
   },
   {
    "duration": 180,
    "start_time": "2022-12-08T12:58:31.356Z"
   },
   {
    "duration": 239,
    "start_time": "2022-12-08T12:58:31.538Z"
   },
   {
    "duration": 229,
    "start_time": "2022-12-08T12:58:31.778Z"
   },
   {
    "duration": 5,
    "start_time": "2022-12-08T12:58:32.009Z"
   },
   {
    "duration": 8,
    "start_time": "2022-12-08T12:58:32.016Z"
   },
   {
    "duration": 12,
    "start_time": "2022-12-08T12:58:32.025Z"
   },
   {
    "duration": 238,
    "start_time": "2022-12-08T12:58:32.039Z"
   },
   {
    "duration": 5,
    "start_time": "2022-12-08T12:58:32.279Z"
   },
   {
    "duration": 213,
    "start_time": "2022-12-08T12:58:32.285Z"
   },
   {
    "duration": 6,
    "start_time": "2022-12-08T12:58:32.499Z"
   },
   {
    "duration": 217,
    "start_time": "2022-12-08T12:58:32.506Z"
   },
   {
    "duration": 5,
    "start_time": "2022-12-08T12:58:32.725Z"
   },
   {
    "duration": 218,
    "start_time": "2022-12-08T12:58:32.732Z"
   },
   {
    "duration": 6,
    "start_time": "2022-12-08T12:58:32.952Z"
   },
   {
    "duration": 185,
    "start_time": "2022-12-08T12:58:32.960Z"
   },
   {
    "duration": 217,
    "start_time": "2022-12-08T12:58:33.146Z"
   },
   {
    "duration": 5,
    "start_time": "2022-12-08T12:58:33.365Z"
   },
   {
    "duration": 228,
    "start_time": "2022-12-08T12:58:33.372Z"
   },
   {
    "duration": 5,
    "start_time": "2022-12-08T12:58:33.602Z"
   },
   {
    "duration": 218,
    "start_time": "2022-12-08T12:58:33.608Z"
   },
   {
    "duration": 5,
    "start_time": "2022-12-08T12:58:33.827Z"
   },
   {
    "duration": 32,
    "start_time": "2022-12-08T12:58:33.834Z"
   },
   {
    "duration": 9,
    "start_time": "2022-12-08T12:58:33.867Z"
   },
   {
    "duration": 40,
    "start_time": "2022-12-08T12:58:33.877Z"
   },
   {
    "duration": 4512,
    "start_time": "2022-12-08T12:58:33.919Z"
   },
   {
    "duration": 11,
    "start_time": "2022-12-08T12:58:38.433Z"
   },
   {
    "duration": 171,
    "start_time": "2022-12-08T12:58:38.445Z"
   },
   {
    "duration": 9,
    "start_time": "2022-12-08T12:58:38.618Z"
   },
   {
    "duration": 16,
    "start_time": "2022-12-08T12:58:38.633Z"
   },
   {
    "duration": 27,
    "start_time": "2022-12-08T12:58:38.651Z"
   },
   {
    "duration": 21,
    "start_time": "2022-12-08T12:58:38.680Z"
   },
   {
    "duration": 35,
    "start_time": "2022-12-08T12:58:38.703Z"
   },
   {
    "duration": 20,
    "start_time": "2022-12-08T12:58:38.739Z"
   },
   {
    "duration": 11,
    "start_time": "2022-12-08T12:58:38.761Z"
   },
   {
    "duration": 46,
    "start_time": "2022-12-08T12:58:38.773Z"
   },
   {
    "duration": 21,
    "start_time": "2022-12-08T12:58:38.820Z"
   },
   {
    "duration": 15,
    "start_time": "2022-12-08T12:58:38.843Z"
   },
   {
    "duration": 25,
    "start_time": "2022-12-08T12:58:38.859Z"
   },
   {
    "duration": 14,
    "start_time": "2022-12-08T12:58:38.886Z"
   },
   {
    "duration": 32,
    "start_time": "2022-12-08T12:58:38.901Z"
   },
   {
    "duration": 8,
    "start_time": "2022-12-08T12:58:38.934Z"
   },
   {
    "duration": 34,
    "start_time": "2022-12-08T12:58:38.943Z"
   },
   {
    "duration": 157,
    "start_time": "2022-12-08T12:58:38.979Z"
   },
   {
    "duration": 6,
    "start_time": "2022-12-08T13:09:22.076Z"
   },
   {
    "duration": 965,
    "start_time": "2022-12-08T13:10:58.194Z"
   },
   {
    "duration": 6,
    "start_time": "2022-12-08T13:11:01.413Z"
   },
   {
    "duration": 16,
    "start_time": "2022-12-08T13:11:06.425Z"
   },
   {
    "duration": 5,
    "start_time": "2022-12-08T13:13:16.490Z"
   },
   {
    "duration": 103,
    "start_time": "2022-12-08T13:23:19.424Z"
   },
   {
    "duration": 55,
    "start_time": "2022-12-08T13:23:49.056Z"
   },
   {
    "duration": 103,
    "start_time": "2022-12-08T13:23:52.332Z"
   },
   {
    "duration": 9,
    "start_time": "2022-12-08T13:25:06.706Z"
   },
   {
    "duration": 45,
    "start_time": "2022-12-08T13:26:10.078Z"
   },
   {
    "duration": 48,
    "start_time": "2022-12-08T13:26:17.193Z"
   },
   {
    "duration": 253,
    "start_time": "2022-12-08T13:26:34.705Z"
   },
   {
    "duration": 1289,
    "start_time": "2022-12-08T13:30:06.707Z"
   },
   {
    "duration": 41,
    "start_time": "2022-12-08T13:30:07.998Z"
   },
   {
    "duration": 22,
    "start_time": "2022-12-08T13:30:08.041Z"
   },
   {
    "duration": 1944,
    "start_time": "2022-12-08T13:30:08.066Z"
   },
   {
    "duration": 60,
    "start_time": "2022-12-08T13:30:10.012Z"
   },
   {
    "duration": 42,
    "start_time": "2022-12-08T13:30:10.074Z"
   },
   {
    "duration": 26,
    "start_time": "2022-12-08T13:30:10.118Z"
   },
   {
    "duration": 5,
    "start_time": "2022-12-08T13:30:10.146Z"
   },
   {
    "duration": 20,
    "start_time": "2022-12-08T13:30:10.153Z"
   },
   {
    "duration": 20,
    "start_time": "2022-12-08T13:30:10.177Z"
   },
   {
    "duration": 5,
    "start_time": "2022-12-08T13:30:10.199Z"
   },
   {
    "duration": 9,
    "start_time": "2022-12-08T13:30:10.206Z"
   },
   {
    "duration": 22,
    "start_time": "2022-12-08T13:30:10.217Z"
   },
   {
    "duration": 15,
    "start_time": "2022-12-08T13:30:10.241Z"
   },
   {
    "duration": 6,
    "start_time": "2022-12-08T13:30:10.258Z"
   },
   {
    "duration": 5,
    "start_time": "2022-12-08T13:30:10.266Z"
   },
   {
    "duration": 26,
    "start_time": "2022-12-08T13:30:10.273Z"
   },
   {
    "duration": 5,
    "start_time": "2022-12-08T13:30:10.302Z"
   },
   {
    "duration": 7,
    "start_time": "2022-12-08T13:30:10.309Z"
   },
   {
    "duration": 14,
    "start_time": "2022-12-08T13:30:10.318Z"
   },
   {
    "duration": 10,
    "start_time": "2022-12-08T13:30:10.334Z"
   },
   {
    "duration": 8,
    "start_time": "2022-12-08T13:30:10.346Z"
   },
   {
    "duration": 123,
    "start_time": "2022-12-08T13:30:10.355Z"
   },
   {
    "duration": 0,
    "start_time": "2022-12-08T13:30:10.482Z"
   },
   {
    "duration": 0,
    "start_time": "2022-12-08T13:30:10.483Z"
   },
   {
    "duration": 0,
    "start_time": "2022-12-08T13:30:10.485Z"
   },
   {
    "duration": 0,
    "start_time": "2022-12-08T13:30:10.497Z"
   },
   {
    "duration": 0,
    "start_time": "2022-12-08T13:30:10.498Z"
   },
   {
    "duration": 0,
    "start_time": "2022-12-08T13:30:10.499Z"
   },
   {
    "duration": 0,
    "start_time": "2022-12-08T13:30:10.500Z"
   },
   {
    "duration": 0,
    "start_time": "2022-12-08T13:30:10.501Z"
   },
   {
    "duration": 0,
    "start_time": "2022-12-08T13:30:10.502Z"
   },
   {
    "duration": 1,
    "start_time": "2022-12-08T13:30:10.503Z"
   },
   {
    "duration": 0,
    "start_time": "2022-12-08T13:30:10.505Z"
   },
   {
    "duration": 0,
    "start_time": "2022-12-08T13:30:10.506Z"
   },
   {
    "duration": 0,
    "start_time": "2022-12-08T13:30:10.507Z"
   },
   {
    "duration": 0,
    "start_time": "2022-12-08T13:30:10.507Z"
   },
   {
    "duration": 0,
    "start_time": "2022-12-08T13:30:10.509Z"
   },
   {
    "duration": 0,
    "start_time": "2022-12-08T13:30:10.510Z"
   },
   {
    "duration": 0,
    "start_time": "2022-12-08T13:30:10.511Z"
   },
   {
    "duration": 0,
    "start_time": "2022-12-08T13:30:10.512Z"
   },
   {
    "duration": 0,
    "start_time": "2022-12-08T13:30:10.514Z"
   },
   {
    "duration": 0,
    "start_time": "2022-12-08T13:30:10.515Z"
   },
   {
    "duration": 0,
    "start_time": "2022-12-08T13:30:10.516Z"
   },
   {
    "duration": 0,
    "start_time": "2022-12-08T13:30:10.518Z"
   },
   {
    "duration": 0,
    "start_time": "2022-12-08T13:30:10.519Z"
   },
   {
    "duration": 0,
    "start_time": "2022-12-08T13:30:10.520Z"
   },
   {
    "duration": 1,
    "start_time": "2022-12-08T13:30:10.521Z"
   },
   {
    "duration": 0,
    "start_time": "2022-12-08T13:30:10.523Z"
   },
   {
    "duration": 0,
    "start_time": "2022-12-08T13:30:10.525Z"
   },
   {
    "duration": 0,
    "start_time": "2022-12-08T13:30:10.526Z"
   },
   {
    "duration": 0,
    "start_time": "2022-12-08T13:30:10.527Z"
   },
   {
    "duration": 0,
    "start_time": "2022-12-08T13:30:10.529Z"
   },
   {
    "duration": 0,
    "start_time": "2022-12-08T13:30:10.530Z"
   },
   {
    "duration": 0,
    "start_time": "2022-12-08T13:30:10.532Z"
   },
   {
    "duration": 0,
    "start_time": "2022-12-08T13:30:10.533Z"
   },
   {
    "duration": 0,
    "start_time": "2022-12-08T13:30:10.598Z"
   },
   {
    "duration": 0,
    "start_time": "2022-12-08T13:30:10.599Z"
   },
   {
    "duration": 0,
    "start_time": "2022-12-08T13:30:10.600Z"
   },
   {
    "duration": 0,
    "start_time": "2022-12-08T13:30:10.601Z"
   },
   {
    "duration": 0,
    "start_time": "2022-12-08T13:30:10.602Z"
   },
   {
    "duration": 0,
    "start_time": "2022-12-08T13:30:10.603Z"
   },
   {
    "duration": 0,
    "start_time": "2022-12-08T13:30:10.605Z"
   },
   {
    "duration": 0,
    "start_time": "2022-12-08T13:30:10.606Z"
   },
   {
    "duration": 0,
    "start_time": "2022-12-08T13:30:10.607Z"
   },
   {
    "duration": 0,
    "start_time": "2022-12-08T13:30:10.608Z"
   },
   {
    "duration": 0,
    "start_time": "2022-12-08T13:30:10.609Z"
   },
   {
    "duration": 0,
    "start_time": "2022-12-08T13:30:10.610Z"
   },
   {
    "duration": 0,
    "start_time": "2022-12-08T13:30:10.611Z"
   },
   {
    "duration": 0,
    "start_time": "2022-12-08T13:30:10.612Z"
   },
   {
    "duration": 0,
    "start_time": "2022-12-08T13:30:10.613Z"
   },
   {
    "duration": 0,
    "start_time": "2022-12-08T13:30:10.615Z"
   },
   {
    "duration": 0,
    "start_time": "2022-12-08T13:30:10.616Z"
   },
   {
    "duration": 0,
    "start_time": "2022-12-08T13:30:10.617Z"
   },
   {
    "duration": 0,
    "start_time": "2022-12-08T13:30:10.619Z"
   },
   {
    "duration": 0,
    "start_time": "2022-12-08T13:30:10.620Z"
   },
   {
    "duration": 0,
    "start_time": "2022-12-08T13:30:10.622Z"
   },
   {
    "duration": 0,
    "start_time": "2022-12-08T13:30:10.623Z"
   },
   {
    "duration": 0,
    "start_time": "2022-12-08T13:30:10.625Z"
   },
   {
    "duration": 0,
    "start_time": "2022-12-08T13:30:10.626Z"
   },
   {
    "duration": 0,
    "start_time": "2022-12-08T13:30:10.628Z"
   },
   {
    "duration": 1,
    "start_time": "2022-12-08T13:30:10.629Z"
   },
   {
    "duration": 0,
    "start_time": "2022-12-08T13:30:10.631Z"
   },
   {
    "duration": 0,
    "start_time": "2022-12-08T13:30:10.632Z"
   },
   {
    "duration": 0,
    "start_time": "2022-12-08T13:30:10.633Z"
   },
   {
    "duration": 0,
    "start_time": "2022-12-08T13:30:10.635Z"
   },
   {
    "duration": 0,
    "start_time": "2022-12-08T13:30:10.697Z"
   },
   {
    "duration": 0,
    "start_time": "2022-12-08T13:30:10.698Z"
   },
   {
    "duration": 0,
    "start_time": "2022-12-08T13:30:10.699Z"
   },
   {
    "duration": 0,
    "start_time": "2022-12-08T13:30:10.700Z"
   },
   {
    "duration": 0,
    "start_time": "2022-12-08T13:30:10.702Z"
   },
   {
    "duration": 0,
    "start_time": "2022-12-08T13:30:10.703Z"
   },
   {
    "duration": 0,
    "start_time": "2022-12-08T13:30:10.704Z"
   },
   {
    "duration": 0,
    "start_time": "2022-12-08T13:30:10.705Z"
   },
   {
    "duration": 0,
    "start_time": "2022-12-08T13:30:10.706Z"
   },
   {
    "duration": 0,
    "start_time": "2022-12-08T13:30:10.707Z"
   },
   {
    "duration": 0,
    "start_time": "2022-12-08T13:30:10.708Z"
   },
   {
    "duration": 0,
    "start_time": "2022-12-08T13:30:10.709Z"
   },
   {
    "duration": 0,
    "start_time": "2022-12-08T13:30:10.710Z"
   },
   {
    "duration": 0,
    "start_time": "2022-12-08T13:30:10.711Z"
   },
   {
    "duration": 0,
    "start_time": "2022-12-08T13:30:10.712Z"
   },
   {
    "duration": 12,
    "start_time": "2022-12-08T13:30:48.136Z"
   },
   {
    "duration": 14,
    "start_time": "2022-12-08T13:32:45.691Z"
   },
   {
    "duration": 1228,
    "start_time": "2022-12-08T13:33:38.674Z"
   },
   {
    "duration": 47,
    "start_time": "2022-12-08T13:33:39.904Z"
   },
   {
    "duration": 22,
    "start_time": "2022-12-08T13:33:39.953Z"
   },
   {
    "duration": 1857,
    "start_time": "2022-12-08T13:33:39.977Z"
   },
   {
    "duration": 48,
    "start_time": "2022-12-08T13:33:41.836Z"
   },
   {
    "duration": 24,
    "start_time": "2022-12-08T13:33:41.886Z"
   },
   {
    "duration": 25,
    "start_time": "2022-12-08T13:33:41.912Z"
   },
   {
    "duration": 6,
    "start_time": "2022-12-08T13:33:41.939Z"
   },
   {
    "duration": 27,
    "start_time": "2022-12-08T13:33:41.947Z"
   },
   {
    "duration": 27,
    "start_time": "2022-12-08T13:33:41.977Z"
   },
   {
    "duration": 9,
    "start_time": "2022-12-08T13:33:42.006Z"
   },
   {
    "duration": 29,
    "start_time": "2022-12-08T13:33:42.016Z"
   },
   {
    "duration": 17,
    "start_time": "2022-12-08T13:33:42.047Z"
   },
   {
    "duration": 21,
    "start_time": "2022-12-08T13:33:42.065Z"
   },
   {
    "duration": 7,
    "start_time": "2022-12-08T13:33:42.087Z"
   },
   {
    "duration": 6,
    "start_time": "2022-12-08T13:33:42.096Z"
   },
   {
    "duration": 18,
    "start_time": "2022-12-08T13:33:42.104Z"
   },
   {
    "duration": 7,
    "start_time": "2022-12-08T13:33:42.124Z"
   },
   {
    "duration": 7,
    "start_time": "2022-12-08T13:33:42.133Z"
   },
   {
    "duration": 12,
    "start_time": "2022-12-08T13:33:42.142Z"
   },
   {
    "duration": 6,
    "start_time": "2022-12-08T13:33:42.156Z"
   },
   {
    "duration": 12,
    "start_time": "2022-12-08T13:33:42.164Z"
   },
   {
    "duration": 108,
    "start_time": "2022-12-08T13:33:42.177Z"
   },
   {
    "duration": 1,
    "start_time": "2022-12-08T13:33:42.288Z"
   },
   {
    "duration": 0,
    "start_time": "2022-12-08T13:33:42.290Z"
   },
   {
    "duration": 0,
    "start_time": "2022-12-08T13:33:42.291Z"
   },
   {
    "duration": 0,
    "start_time": "2022-12-08T13:33:42.298Z"
   },
   {
    "duration": 0,
    "start_time": "2022-12-08T13:33:42.299Z"
   },
   {
    "duration": 0,
    "start_time": "2022-12-08T13:33:42.300Z"
   },
   {
    "duration": 0,
    "start_time": "2022-12-08T13:33:42.301Z"
   },
   {
    "duration": 0,
    "start_time": "2022-12-08T13:33:42.303Z"
   },
   {
    "duration": 0,
    "start_time": "2022-12-08T13:33:42.304Z"
   },
   {
    "duration": 0,
    "start_time": "2022-12-08T13:33:42.305Z"
   },
   {
    "duration": 0,
    "start_time": "2022-12-08T13:33:42.306Z"
   },
   {
    "duration": 0,
    "start_time": "2022-12-08T13:33:42.307Z"
   },
   {
    "duration": 0,
    "start_time": "2022-12-08T13:33:42.308Z"
   },
   {
    "duration": 0,
    "start_time": "2022-12-08T13:33:42.309Z"
   },
   {
    "duration": 0,
    "start_time": "2022-12-08T13:33:42.310Z"
   },
   {
    "duration": 0,
    "start_time": "2022-12-08T13:33:42.311Z"
   },
   {
    "duration": 0,
    "start_time": "2022-12-08T13:33:42.312Z"
   },
   {
    "duration": 0,
    "start_time": "2022-12-08T13:33:42.313Z"
   },
   {
    "duration": 0,
    "start_time": "2022-12-08T13:33:42.314Z"
   },
   {
    "duration": 0,
    "start_time": "2022-12-08T13:33:42.315Z"
   },
   {
    "duration": 0,
    "start_time": "2022-12-08T13:33:42.316Z"
   },
   {
    "duration": 0,
    "start_time": "2022-12-08T13:33:42.317Z"
   },
   {
    "duration": 0,
    "start_time": "2022-12-08T13:33:42.318Z"
   },
   {
    "duration": 0,
    "start_time": "2022-12-08T13:33:42.319Z"
   },
   {
    "duration": 0,
    "start_time": "2022-12-08T13:33:42.320Z"
   },
   {
    "duration": 0,
    "start_time": "2022-12-08T13:33:42.321Z"
   },
   {
    "duration": 0,
    "start_time": "2022-12-08T13:33:42.322Z"
   },
   {
    "duration": 0,
    "start_time": "2022-12-08T13:33:42.323Z"
   },
   {
    "duration": 0,
    "start_time": "2022-12-08T13:33:42.324Z"
   },
   {
    "duration": 0,
    "start_time": "2022-12-08T13:33:42.325Z"
   },
   {
    "duration": 0,
    "start_time": "2022-12-08T13:33:42.327Z"
   },
   {
    "duration": 0,
    "start_time": "2022-12-08T13:33:42.327Z"
   },
   {
    "duration": 0,
    "start_time": "2022-12-08T13:33:42.329Z"
   },
   {
    "duration": 0,
    "start_time": "2022-12-08T13:33:42.330Z"
   },
   {
    "duration": 0,
    "start_time": "2022-12-08T13:33:42.331Z"
   },
   {
    "duration": 0,
    "start_time": "2022-12-08T13:33:42.332Z"
   },
   {
    "duration": 0,
    "start_time": "2022-12-08T13:33:42.333Z"
   },
   {
    "duration": 0,
    "start_time": "2022-12-08T13:33:42.334Z"
   },
   {
    "duration": 0,
    "start_time": "2022-12-08T13:33:42.398Z"
   },
   {
    "duration": 0,
    "start_time": "2022-12-08T13:33:42.399Z"
   },
   {
    "duration": 0,
    "start_time": "2022-12-08T13:33:42.400Z"
   },
   {
    "duration": 0,
    "start_time": "2022-12-08T13:33:42.401Z"
   },
   {
    "duration": 0,
    "start_time": "2022-12-08T13:33:42.402Z"
   },
   {
    "duration": 0,
    "start_time": "2022-12-08T13:33:42.403Z"
   },
   {
    "duration": 0,
    "start_time": "2022-12-08T13:33:42.404Z"
   },
   {
    "duration": 0,
    "start_time": "2022-12-08T13:33:42.405Z"
   },
   {
    "duration": 0,
    "start_time": "2022-12-08T13:33:42.406Z"
   },
   {
    "duration": 0,
    "start_time": "2022-12-08T13:33:42.407Z"
   },
   {
    "duration": 0,
    "start_time": "2022-12-08T13:33:42.408Z"
   },
   {
    "duration": 0,
    "start_time": "2022-12-08T13:33:42.409Z"
   },
   {
    "duration": 0,
    "start_time": "2022-12-08T13:33:42.410Z"
   },
   {
    "duration": 0,
    "start_time": "2022-12-08T13:33:42.411Z"
   },
   {
    "duration": 0,
    "start_time": "2022-12-08T13:33:42.411Z"
   },
   {
    "duration": 0,
    "start_time": "2022-12-08T13:33:42.412Z"
   },
   {
    "duration": 0,
    "start_time": "2022-12-08T13:33:42.413Z"
   },
   {
    "duration": 0,
    "start_time": "2022-12-08T13:33:42.414Z"
   },
   {
    "duration": 0,
    "start_time": "2022-12-08T13:33:42.415Z"
   },
   {
    "duration": 0,
    "start_time": "2022-12-08T13:33:42.416Z"
   },
   {
    "duration": 0,
    "start_time": "2022-12-08T13:33:42.417Z"
   },
   {
    "duration": 0,
    "start_time": "2022-12-08T13:33:42.418Z"
   },
   {
    "duration": 0,
    "start_time": "2022-12-08T13:33:42.419Z"
   },
   {
    "duration": 0,
    "start_time": "2022-12-08T13:33:42.419Z"
   },
   {
    "duration": 0,
    "start_time": "2022-12-08T13:33:42.420Z"
   },
   {
    "duration": 0,
    "start_time": "2022-12-08T13:33:42.421Z"
   },
   {
    "duration": 0,
    "start_time": "2022-12-08T13:33:42.422Z"
   },
   {
    "duration": 0,
    "start_time": "2022-12-08T13:33:42.423Z"
   },
   {
    "duration": 0,
    "start_time": "2022-12-08T13:33:42.424Z"
   },
   {
    "duration": 0,
    "start_time": "2022-12-08T13:33:42.426Z"
   },
   {
    "duration": 0,
    "start_time": "2022-12-08T13:33:42.427Z"
   },
   {
    "duration": 0,
    "start_time": "2022-12-08T13:33:42.428Z"
   },
   {
    "duration": 0,
    "start_time": "2022-12-08T13:33:42.429Z"
   },
   {
    "duration": 0,
    "start_time": "2022-12-08T13:33:42.431Z"
   },
   {
    "duration": 0,
    "start_time": "2022-12-08T13:33:42.431Z"
   },
   {
    "duration": 0,
    "start_time": "2022-12-08T13:33:42.432Z"
   },
   {
    "duration": 0,
    "start_time": "2022-12-08T13:33:42.433Z"
   },
   {
    "duration": 0,
    "start_time": "2022-12-08T13:33:42.434Z"
   },
   {
    "duration": 0,
    "start_time": "2022-12-08T13:33:42.435Z"
   },
   {
    "duration": 0,
    "start_time": "2022-12-08T13:33:42.497Z"
   },
   {
    "duration": 7,
    "start_time": "2022-12-08T13:34:31.520Z"
   },
   {
    "duration": 7,
    "start_time": "2022-12-08T13:34:44.817Z"
   },
   {
    "duration": 139,
    "start_time": "2022-12-08T13:34:51.239Z"
   },
   {
    "duration": 10,
    "start_time": "2022-12-08T13:35:16.225Z"
   },
   {
    "duration": 143,
    "start_time": "2022-12-08T13:43:14.216Z"
   },
   {
    "duration": 179,
    "start_time": "2022-12-08T13:52:43.303Z"
   },
   {
    "duration": 145,
    "start_time": "2022-12-08T13:53:30.282Z"
   },
   {
    "duration": 141,
    "start_time": "2022-12-08T13:54:45.927Z"
   },
   {
    "duration": 198,
    "start_time": "2022-12-08T13:57:24.670Z"
   },
   {
    "duration": 135,
    "start_time": "2022-12-08T13:57:38.521Z"
   },
   {
    "duration": 129,
    "start_time": "2022-12-08T13:57:42.368Z"
   },
   {
    "duration": 9,
    "start_time": "2022-12-08T14:00:29.955Z"
   },
   {
    "duration": 6,
    "start_time": "2022-12-08T14:01:11.426Z"
   },
   {
    "duration": 11,
    "start_time": "2022-12-08T14:01:24.199Z"
   },
   {
    "duration": 124,
    "start_time": "2022-12-08T14:11:49.302Z"
   },
   {
    "duration": 8,
    "start_time": "2022-12-08T14:12:12.676Z"
   },
   {
    "duration": 153,
    "start_time": "2022-12-08T14:14:26.818Z"
   },
   {
    "duration": 182,
    "start_time": "2022-12-08T14:14:34.802Z"
   },
   {
    "duration": 270,
    "start_time": "2022-12-08T14:14:43.010Z"
   },
   {
    "duration": 134,
    "start_time": "2022-12-08T14:14:50.832Z"
   },
   {
    "duration": 8,
    "start_time": "2022-12-08T14:15:43.758Z"
   },
   {
    "duration": 7,
    "start_time": "2022-12-08T14:16:04.873Z"
   },
   {
    "duration": 8,
    "start_time": "2022-12-08T14:16:12.568Z"
   },
   {
    "duration": 31,
    "start_time": "2022-12-08T14:36:53.118Z"
   },
   {
    "duration": 10,
    "start_time": "2022-12-08T14:44:05.109Z"
   },
   {
    "duration": 8,
    "start_time": "2022-12-08T14:45:15.743Z"
   },
   {
    "duration": 8,
    "start_time": "2022-12-08T14:45:27.353Z"
   },
   {
    "duration": 10,
    "start_time": "2022-12-08T14:45:31.840Z"
   },
   {
    "duration": 8,
    "start_time": "2022-12-08T14:46:54.171Z"
   },
   {
    "duration": 11,
    "start_time": "2022-12-08T14:50:54.641Z"
   },
   {
    "duration": 8,
    "start_time": "2022-12-08T14:51:02.269Z"
   },
   {
    "duration": 20,
    "start_time": "2022-12-08T14:53:01.391Z"
   },
   {
    "duration": 29,
    "start_time": "2022-12-08T14:53:10.138Z"
   },
   {
    "duration": 7,
    "start_time": "2022-12-08T14:56:01.611Z"
   },
   {
    "duration": 8,
    "start_time": "2022-12-08T14:56:24.755Z"
   },
   {
    "duration": 7,
    "start_time": "2022-12-08T14:56:25.976Z"
   },
   {
    "duration": 9,
    "start_time": "2022-12-08T14:56:27.169Z"
   },
   {
    "duration": 5,
    "start_time": "2022-12-08T15:08:04.097Z"
   },
   {
    "duration": 6,
    "start_time": "2022-12-08T15:10:26.959Z"
   },
   {
    "duration": 16,
    "start_time": "2022-12-08T15:10:35.335Z"
   },
   {
    "duration": 12,
    "start_time": "2022-12-08T15:13:49.838Z"
   },
   {
    "duration": 174,
    "start_time": "2022-12-08T15:18:59.479Z"
   },
   {
    "duration": 155,
    "start_time": "2022-12-08T15:19:31.451Z"
   },
   {
    "duration": 61,
    "start_time": "2022-12-08T15:19:58.469Z"
   },
   {
    "duration": 49,
    "start_time": "2022-12-08T15:20:03.461Z"
   },
   {
    "duration": 161,
    "start_time": "2022-12-08T15:20:08.251Z"
   },
   {
    "duration": 233,
    "start_time": "2022-12-08T15:20:16.837Z"
   },
   {
    "duration": 209,
    "start_time": "2022-12-08T15:23:22.773Z"
   },
   {
    "duration": 1129,
    "start_time": "2022-12-08T15:23:36.641Z"
   },
   {
    "duration": 37,
    "start_time": "2022-12-08T15:23:37.772Z"
   },
   {
    "duration": 14,
    "start_time": "2022-12-08T15:23:37.810Z"
   },
   {
    "duration": 1821,
    "start_time": "2022-12-08T15:23:37.825Z"
   },
   {
    "duration": 49,
    "start_time": "2022-12-08T15:23:39.648Z"
   },
   {
    "duration": 23,
    "start_time": "2022-12-08T15:23:39.698Z"
   },
   {
    "duration": 25,
    "start_time": "2022-12-08T15:23:39.723Z"
   },
   {
    "duration": 5,
    "start_time": "2022-12-08T15:23:39.750Z"
   },
   {
    "duration": 6,
    "start_time": "2022-12-08T15:23:39.756Z"
   },
   {
    "duration": 34,
    "start_time": "2022-12-08T15:23:39.763Z"
   },
   {
    "duration": 6,
    "start_time": "2022-12-08T15:23:39.799Z"
   },
   {
    "duration": 10,
    "start_time": "2022-12-08T15:23:39.806Z"
   },
   {
    "duration": 9,
    "start_time": "2022-12-08T15:23:39.818Z"
   },
   {
    "duration": 17,
    "start_time": "2022-12-08T15:23:39.830Z"
   },
   {
    "duration": 6,
    "start_time": "2022-12-08T15:23:39.849Z"
   },
   {
    "duration": 12,
    "start_time": "2022-12-08T15:23:39.856Z"
   },
   {
    "duration": 10,
    "start_time": "2022-12-08T15:23:39.869Z"
   },
   {
    "duration": 21,
    "start_time": "2022-12-08T15:23:39.880Z"
   },
   {
    "duration": 9,
    "start_time": "2022-12-08T15:23:39.902Z"
   },
   {
    "duration": 8,
    "start_time": "2022-12-08T15:23:39.912Z"
   },
   {
    "duration": 5,
    "start_time": "2022-12-08T15:23:39.921Z"
   },
   {
    "duration": 9,
    "start_time": "2022-12-08T15:23:39.928Z"
   },
   {
    "duration": 23,
    "start_time": "2022-12-08T15:23:39.939Z"
   },
   {
    "duration": 7,
    "start_time": "2022-12-08T15:23:39.964Z"
   },
   {
    "duration": 31,
    "start_time": "2022-12-08T15:23:39.972Z"
   },
   {
    "duration": 151,
    "start_time": "2022-12-08T15:23:40.004Z"
   },
   {
    "duration": 5,
    "start_time": "2022-12-08T15:23:40.156Z"
   },
   {
    "duration": 67,
    "start_time": "2022-12-08T15:23:40.162Z"
   },
   {
    "duration": 36,
    "start_time": "2022-12-08T15:23:40.231Z"
   },
   {
    "duration": 151,
    "start_time": "2022-12-08T15:23:40.268Z"
   },
   {
    "duration": 8,
    "start_time": "2022-12-08T15:23:40.421Z"
   },
   {
    "duration": 142,
    "start_time": "2022-12-08T15:23:40.430Z"
   },
   {
    "duration": 11,
    "start_time": "2022-12-08T15:23:40.573Z"
   },
   {
    "duration": 31,
    "start_time": "2022-12-08T15:23:40.597Z"
   },
   {
    "duration": 29,
    "start_time": "2022-12-08T15:23:40.630Z"
   },
   {
    "duration": 34,
    "start_time": "2022-12-08T15:23:40.661Z"
   },
   {
    "duration": 154,
    "start_time": "2022-12-08T15:23:40.696Z"
   },
   {
    "duration": 9,
    "start_time": "2022-12-08T15:23:40.851Z"
   },
   {
    "duration": 149,
    "start_time": "2022-12-08T15:23:40.862Z"
   },
   {
    "duration": 9,
    "start_time": "2022-12-08T15:23:41.013Z"
   },
   {
    "duration": 22,
    "start_time": "2022-12-08T15:23:41.028Z"
   },
   {
    "duration": 36,
    "start_time": "2022-12-08T15:23:41.052Z"
   },
   {
    "duration": 32,
    "start_time": "2022-12-08T15:23:41.089Z"
   },
   {
    "duration": 14,
    "start_time": "2022-12-08T15:23:41.122Z"
   },
   {
    "duration": 16,
    "start_time": "2022-12-08T15:23:41.138Z"
   },
   {
    "duration": 48,
    "start_time": "2022-12-08T15:23:41.156Z"
   },
   {
    "duration": 28,
    "start_time": "2022-12-08T15:23:41.206Z"
   },
   {
    "duration": 54,
    "start_time": "2022-12-08T15:23:41.235Z"
   },
   {
    "duration": 361,
    "start_time": "2022-12-08T15:23:41.290Z"
   },
   {
    "duration": 21,
    "start_time": "2022-12-08T15:23:41.653Z"
   },
   {
    "duration": 10,
    "start_time": "2022-12-08T15:23:41.676Z"
   },
   {
    "duration": 181,
    "start_time": "2022-12-08T15:23:41.687Z"
   },
   {
    "duration": 271,
    "start_time": "2022-12-08T15:23:41.870Z"
   },
   {
    "duration": 164,
    "start_time": "2022-12-08T15:23:42.143Z"
   },
   {
    "duration": 181,
    "start_time": "2022-12-08T15:23:42.309Z"
   },
   {
    "duration": 194,
    "start_time": "2022-12-08T15:23:42.492Z"
   },
   {
    "duration": 180,
    "start_time": "2022-12-08T15:23:42.687Z"
   },
   {
    "duration": 174,
    "start_time": "2022-12-08T15:23:42.868Z"
   },
   {
    "duration": 172,
    "start_time": "2022-12-08T15:23:43.044Z"
   },
   {
    "duration": 133,
    "start_time": "2022-12-08T15:23:43.218Z"
   },
   {
    "duration": 282,
    "start_time": "2022-12-08T15:23:43.353Z"
   },
   {
    "duration": 177,
    "start_time": "2022-12-08T15:23:43.637Z"
   },
   {
    "duration": 181,
    "start_time": "2022-12-08T15:23:43.816Z"
   },
   {
    "duration": 176,
    "start_time": "2022-12-08T15:23:43.998Z"
   },
   {
    "duration": 162,
    "start_time": "2022-12-08T15:23:44.176Z"
   },
   {
    "duration": 150,
    "start_time": "2022-12-08T15:23:44.340Z"
   },
   {
    "duration": 216,
    "start_time": "2022-12-08T15:23:44.492Z"
   },
   {
    "duration": 5,
    "start_time": "2022-12-08T15:23:44.710Z"
   },
   {
    "duration": 6,
    "start_time": "2022-12-08T15:23:44.716Z"
   },
   {
    "duration": 12,
    "start_time": "2022-12-08T15:23:44.723Z"
   },
   {
    "duration": 290,
    "start_time": "2022-12-08T15:23:44.737Z"
   },
   {
    "duration": 5,
    "start_time": "2022-12-08T15:23:45.029Z"
   },
   {
    "duration": 215,
    "start_time": "2022-12-08T15:23:45.036Z"
   },
   {
    "duration": 6,
    "start_time": "2022-12-08T15:23:45.252Z"
   },
   {
    "duration": 246,
    "start_time": "2022-12-08T15:23:45.259Z"
   },
   {
    "duration": 5,
    "start_time": "2022-12-08T15:23:45.507Z"
   },
   {
    "duration": 317,
    "start_time": "2022-12-08T15:23:45.514Z"
   },
   {
    "duration": 5,
    "start_time": "2022-12-08T15:23:45.832Z"
   },
   {
    "duration": 178,
    "start_time": "2022-12-08T15:23:45.839Z"
   },
   {
    "duration": 204,
    "start_time": "2022-12-08T15:23:46.018Z"
   },
   {
    "duration": 4,
    "start_time": "2022-12-08T15:23:46.224Z"
   },
   {
    "duration": 205,
    "start_time": "2022-12-08T15:23:46.230Z"
   },
   {
    "duration": 5,
    "start_time": "2022-12-08T15:23:46.437Z"
   },
   {
    "duration": 213,
    "start_time": "2022-12-08T15:23:46.444Z"
   },
   {
    "duration": 5,
    "start_time": "2022-12-08T15:23:46.659Z"
   },
   {
    "duration": 26,
    "start_time": "2022-12-08T15:23:46.665Z"
   },
   {
    "duration": 29,
    "start_time": "2022-12-08T15:23:46.693Z"
   },
   {
    "duration": 11,
    "start_time": "2022-12-08T15:23:46.724Z"
   },
   {
    "duration": 4617,
    "start_time": "2022-12-08T15:23:46.737Z"
   },
   {
    "duration": 11,
    "start_time": "2022-12-08T15:23:51.355Z"
   },
   {
    "duration": 175,
    "start_time": "2022-12-08T15:23:51.368Z"
   },
   {
    "duration": 9,
    "start_time": "2022-12-08T15:23:51.544Z"
   },
   {
    "duration": 20,
    "start_time": "2022-12-08T15:23:51.554Z"
   },
   {
    "duration": 36,
    "start_time": "2022-12-08T15:23:51.576Z"
   },
   {
    "duration": 10,
    "start_time": "2022-12-08T15:23:51.614Z"
   },
   {
    "duration": 25,
    "start_time": "2022-12-08T15:23:51.626Z"
   },
   {
    "duration": 16,
    "start_time": "2022-12-08T15:23:51.653Z"
   },
   {
    "duration": 35,
    "start_time": "2022-12-08T15:23:51.670Z"
   },
   {
    "duration": 25,
    "start_time": "2022-12-08T15:23:51.706Z"
   },
   {
    "duration": 24,
    "start_time": "2022-12-08T15:23:51.732Z"
   },
   {
    "duration": 5,
    "start_time": "2022-12-08T15:23:51.757Z"
   },
   {
    "duration": 49,
    "start_time": "2022-12-08T15:23:51.764Z"
   },
   {
    "duration": 8,
    "start_time": "2022-12-08T15:23:51.815Z"
   },
   {
    "duration": 29,
    "start_time": "2022-12-08T15:23:51.824Z"
   },
   {
    "duration": 11,
    "start_time": "2022-12-08T15:23:51.854Z"
   },
   {
    "duration": 17,
    "start_time": "2022-12-08T15:23:51.866Z"
   },
   {
    "duration": 172,
    "start_time": "2022-12-08T15:23:51.885Z"
   },
   {
    "duration": 8,
    "start_time": "2022-12-08T15:24:56.873Z"
   },
   {
    "duration": 4,
    "start_time": "2022-12-08T15:27:37.399Z"
   },
   {
    "duration": 5,
    "start_time": "2022-12-08T15:28:24.846Z"
   },
   {
    "duration": 4,
    "start_time": "2022-12-08T15:28:28.474Z"
   },
   {
    "duration": 104,
    "start_time": "2022-12-08T15:29:19.384Z"
   },
   {
    "duration": 24,
    "start_time": "2022-12-08T15:29:53.599Z"
   },
   {
    "duration": 95,
    "start_time": "2022-12-08T15:30:21.391Z"
   },
   {
    "duration": 5,
    "start_time": "2022-12-08T15:30:36.072Z"
   },
   {
    "duration": 5,
    "start_time": "2022-12-08T15:30:38.591Z"
   },
   {
    "duration": 92,
    "start_time": "2022-12-08T15:30:56.365Z"
   },
   {
    "duration": 170,
    "start_time": "2022-12-08T15:31:39.195Z"
   },
   {
    "duration": 146,
    "start_time": "2022-12-08T15:35:54.575Z"
   },
   {
    "duration": 9,
    "start_time": "2022-12-08T15:38:39.977Z"
   },
   {
    "duration": 8,
    "start_time": "2022-12-08T15:39:31.456Z"
   },
   {
    "duration": 9,
    "start_time": "2022-12-08T15:39:46.987Z"
   },
   {
    "duration": 8,
    "start_time": "2022-12-08T15:40:06.110Z"
   },
   {
    "duration": 6,
    "start_time": "2022-12-08T15:40:25.799Z"
   },
   {
    "duration": 6,
    "start_time": "2022-12-08T15:40:34.656Z"
   },
   {
    "duration": 6,
    "start_time": "2022-12-08T15:40:37.524Z"
   },
   {
    "duration": 39,
    "start_time": "2022-12-08T15:41:07.995Z"
   },
   {
    "duration": 9,
    "start_time": "2022-12-08T15:41:18.815Z"
   },
   {
    "duration": 34,
    "start_time": "2022-12-08T15:41:28.866Z"
   },
   {
    "duration": 9,
    "start_time": "2022-12-08T15:41:53.090Z"
   },
   {
    "duration": 11,
    "start_time": "2022-12-08T15:42:14.018Z"
   },
   {
    "duration": 12,
    "start_time": "2022-12-08T15:42:22.536Z"
   },
   {
    "duration": 7,
    "start_time": "2022-12-08T15:42:29.985Z"
   },
   {
    "duration": 7,
    "start_time": "2022-12-08T15:43:12.657Z"
   },
   {
    "duration": 8,
    "start_time": "2022-12-08T15:44:10.961Z"
   },
   {
    "duration": 11,
    "start_time": "2022-12-08T15:44:24.644Z"
   },
   {
    "duration": 109,
    "start_time": "2022-12-08T15:52:18.068Z"
   },
   {
    "duration": 66,
    "start_time": "2022-12-08T15:53:01.056Z"
   },
   {
    "duration": 120,
    "start_time": "2022-12-08T15:54:32.769Z"
   },
   {
    "duration": 126,
    "start_time": "2022-12-08T16:00:14.215Z"
   },
   {
    "duration": 9,
    "start_time": "2022-12-08T16:04:07.899Z"
   },
   {
    "duration": 15,
    "start_time": "2022-12-08T16:05:31.921Z"
   },
   {
    "duration": 1241,
    "start_time": "2022-12-08T16:05:59.455Z"
   },
   {
    "duration": 39,
    "start_time": "2022-12-08T16:06:00.698Z"
   },
   {
    "duration": 14,
    "start_time": "2022-12-08T16:06:00.739Z"
   },
   {
    "duration": 1892,
    "start_time": "2022-12-08T16:06:00.754Z"
   },
   {
    "duration": 47,
    "start_time": "2022-12-08T16:06:02.648Z"
   },
   {
    "duration": 23,
    "start_time": "2022-12-08T16:06:02.697Z"
   },
   {
    "duration": 23,
    "start_time": "2022-12-08T16:06:02.721Z"
   },
   {
    "duration": 6,
    "start_time": "2022-12-08T16:06:02.745Z"
   },
   {
    "duration": 7,
    "start_time": "2022-12-08T16:06:02.752Z"
   },
   {
    "duration": 36,
    "start_time": "2022-12-08T16:06:02.761Z"
   },
   {
    "duration": 5,
    "start_time": "2022-12-08T16:06:02.799Z"
   },
   {
    "duration": 10,
    "start_time": "2022-12-08T16:06:02.805Z"
   },
   {
    "duration": 12,
    "start_time": "2022-12-08T16:06:02.816Z"
   },
   {
    "duration": 14,
    "start_time": "2022-12-08T16:06:02.830Z"
   },
   {
    "duration": 7,
    "start_time": "2022-12-08T16:06:02.846Z"
   },
   {
    "duration": 9,
    "start_time": "2022-12-08T16:06:02.854Z"
   },
   {
    "duration": 33,
    "start_time": "2022-12-08T16:06:02.865Z"
   },
   {
    "duration": 8,
    "start_time": "2022-12-08T16:06:02.900Z"
   },
   {
    "duration": 10,
    "start_time": "2022-12-08T16:06:02.909Z"
   },
   {
    "duration": 10,
    "start_time": "2022-12-08T16:06:02.920Z"
   },
   {
    "duration": 9,
    "start_time": "2022-12-08T16:06:02.931Z"
   },
   {
    "duration": 10,
    "start_time": "2022-12-08T16:06:02.942Z"
   },
   {
    "duration": 20,
    "start_time": "2022-12-08T16:06:02.954Z"
   },
   {
    "duration": 5,
    "start_time": "2022-12-08T16:06:02.975Z"
   },
   {
    "duration": 18,
    "start_time": "2022-12-08T16:06:02.982Z"
   },
   {
    "duration": 135,
    "start_time": "2022-12-08T16:06:03.001Z"
   },
   {
    "duration": 5,
    "start_time": "2022-12-08T16:06:03.137Z"
   },
   {
    "duration": 28,
    "start_time": "2022-12-08T16:06:03.146Z"
   },
   {
    "duration": 5,
    "start_time": "2022-12-08T16:06:03.175Z"
   },
   {
    "duration": 133,
    "start_time": "2022-12-08T16:06:03.181Z"
   },
   {
    "duration": 132,
    "start_time": "2022-12-08T16:06:03.316Z"
   },
   {
    "duration": 9,
    "start_time": "2022-12-08T16:06:03.450Z"
   },
   {
    "duration": 149,
    "start_time": "2022-12-08T16:06:03.460Z"
   },
   {
    "duration": 12,
    "start_time": "2022-12-08T16:06:03.611Z"
   },
   {
    "duration": 184,
    "start_time": "2022-12-08T16:06:03.625Z"
   },
   {
    "duration": 7,
    "start_time": "2022-12-08T16:06:03.811Z"
   },
   {
    "duration": 11,
    "start_time": "2022-12-08T16:06:03.821Z"
   },
   {
    "duration": 12,
    "start_time": "2022-12-08T16:06:03.834Z"
   },
   {
    "duration": 154,
    "start_time": "2022-12-08T16:06:03.848Z"
   },
   {
    "duration": 11,
    "start_time": "2022-12-08T16:06:04.004Z"
   },
   {
    "duration": 154,
    "start_time": "2022-12-08T16:06:04.017Z"
   },
   {
    "duration": 7,
    "start_time": "2022-12-08T16:06:04.173Z"
   },
   {
    "duration": 50,
    "start_time": "2022-12-08T16:06:04.182Z"
   },
   {
    "duration": 9,
    "start_time": "2022-12-08T16:06:04.233Z"
   },
   {
    "duration": 14,
    "start_time": "2022-12-08T16:06:04.244Z"
   },
   {
    "duration": 4,
    "start_time": "2022-12-08T16:06:04.260Z"
   },
   {
    "duration": 10,
    "start_time": "2022-12-08T16:06:04.265Z"
   },
   {
    "duration": 29,
    "start_time": "2022-12-08T16:06:04.276Z"
   },
   {
    "duration": 16,
    "start_time": "2022-12-08T16:06:04.307Z"
   },
   {
    "duration": 13,
    "start_time": "2022-12-08T16:06:04.325Z"
   },
   {
    "duration": 136,
    "start_time": "2022-12-08T16:06:04.339Z"
   },
   {
    "duration": 283,
    "start_time": "2022-12-08T16:06:04.477Z"
   },
   {
    "duration": 39,
    "start_time": "2022-12-08T16:06:04.762Z"
   },
   {
    "duration": 5,
    "start_time": "2022-12-08T16:06:04.804Z"
   },
   {
    "duration": 191,
    "start_time": "2022-12-08T16:06:04.812Z"
   },
   {
    "duration": 268,
    "start_time": "2022-12-08T16:06:05.005Z"
   },
   {
    "duration": 179,
    "start_time": "2022-12-08T16:06:05.275Z"
   },
   {
    "duration": 185,
    "start_time": "2022-12-08T16:06:05.456Z"
   },
   {
    "duration": 238,
    "start_time": "2022-12-08T16:06:05.642Z"
   },
   {
    "duration": 201,
    "start_time": "2022-12-08T16:06:05.882Z"
   },
   {
    "duration": 171,
    "start_time": "2022-12-08T16:06:06.085Z"
   },
   {
    "duration": 261,
    "start_time": "2022-12-08T16:06:06.258Z"
   },
   {
    "duration": 140,
    "start_time": "2022-12-08T16:06:06.521Z"
   },
   {
    "duration": 219,
    "start_time": "2022-12-08T16:06:06.663Z"
   },
   {
    "duration": 190,
    "start_time": "2022-12-08T16:06:06.884Z"
   },
   {
    "duration": 188,
    "start_time": "2022-12-08T16:06:07.076Z"
   },
   {
    "duration": 199,
    "start_time": "2022-12-08T16:06:07.265Z"
   },
   {
    "duration": 171,
    "start_time": "2022-12-08T16:06:07.465Z"
   },
   {
    "duration": 149,
    "start_time": "2022-12-08T16:06:07.638Z"
   },
   {
    "duration": 13,
    "start_time": "2022-12-08T16:06:07.788Z"
   },
   {
    "duration": 24,
    "start_time": "2022-12-08T16:06:07.802Z"
   },
   {
    "duration": 30,
    "start_time": "2022-12-08T16:06:07.827Z"
   },
   {
    "duration": 156,
    "start_time": "2022-12-08T16:06:07.858Z"
   },
   {
    "duration": 11,
    "start_time": "2022-12-08T16:06:08.016Z"
   },
   {
    "duration": 16,
    "start_time": "2022-12-08T16:06:08.028Z"
   },
   {
    "duration": 28,
    "start_time": "2022-12-08T16:06:08.046Z"
   },
   {
    "duration": 234,
    "start_time": "2022-12-08T16:06:08.076Z"
   },
   {
    "duration": 5,
    "start_time": "2022-12-08T16:06:08.312Z"
   },
   {
    "duration": 340,
    "start_time": "2022-12-08T16:06:08.319Z"
   },
   {
    "duration": 5,
    "start_time": "2022-12-08T16:06:08.660Z"
   },
   {
    "duration": 233,
    "start_time": "2022-12-08T16:06:08.667Z"
   },
   {
    "duration": 5,
    "start_time": "2022-12-08T16:06:08.906Z"
   },
   {
    "duration": 235,
    "start_time": "2022-12-08T16:06:08.913Z"
   },
   {
    "duration": 6,
    "start_time": "2022-12-08T16:06:09.149Z"
   },
   {
    "duration": 183,
    "start_time": "2022-12-08T16:06:09.156Z"
   },
   {
    "duration": 222,
    "start_time": "2022-12-08T16:06:09.341Z"
   },
   {
    "duration": 5,
    "start_time": "2022-12-08T16:06:09.564Z"
   },
   {
    "duration": 233,
    "start_time": "2022-12-08T16:06:09.571Z"
   },
   {
    "duration": 518,
    "start_time": "2022-12-08T16:06:09.807Z"
   },
   {
    "duration": 212,
    "start_time": "2022-12-08T16:06:10.327Z"
   },
   {
    "duration": 5,
    "start_time": "2022-12-08T16:06:10.541Z"
   },
   {
    "duration": 15,
    "start_time": "2022-12-08T16:06:10.547Z"
   },
   {
    "duration": 10,
    "start_time": "2022-12-08T16:06:10.563Z"
   },
   {
    "duration": 23,
    "start_time": "2022-12-08T16:06:10.574Z"
   },
   {
    "duration": 4711,
    "start_time": "2022-12-08T16:06:10.598Z"
   },
   {
    "duration": 12,
    "start_time": "2022-12-08T16:06:15.311Z"
   },
   {
    "duration": 490,
    "start_time": "2022-12-08T16:06:15.324Z"
   },
   {
    "duration": 43,
    "start_time": "2022-12-08T16:06:15.816Z"
   },
   {
    "duration": 441,
    "start_time": "2022-12-08T16:06:15.861Z"
   },
   {
    "duration": 601,
    "start_time": "2022-12-08T16:06:16.304Z"
   },
   {
    "duration": 286,
    "start_time": "2022-12-08T16:06:16.907Z"
   },
   {
    "duration": 133,
    "start_time": "2022-12-08T16:06:17.195Z"
   },
   {
    "duration": 25,
    "start_time": "2022-12-08T16:06:17.330Z"
   },
   {
    "duration": 17,
    "start_time": "2022-12-08T16:06:17.357Z"
   },
   {
    "duration": 29,
    "start_time": "2022-12-08T16:06:17.376Z"
   },
   {
    "duration": 32,
    "start_time": "2022-12-08T16:06:17.407Z"
   },
   {
    "duration": 5,
    "start_time": "2022-12-08T16:06:17.441Z"
   },
   {
    "duration": 22,
    "start_time": "2022-12-08T16:06:17.447Z"
   },
   {
    "duration": 34,
    "start_time": "2022-12-08T16:06:17.471Z"
   },
   {
    "duration": 29,
    "start_time": "2022-12-08T16:06:17.507Z"
   },
   {
    "duration": 8,
    "start_time": "2022-12-08T16:06:17.538Z"
   },
   {
    "duration": 12,
    "start_time": "2022-12-08T16:06:17.549Z"
   },
   {
    "duration": 194,
    "start_time": "2022-12-08T16:06:17.563Z"
   },
   {
    "duration": 13,
    "start_time": "2022-12-08T16:06:49.361Z"
   },
   {
    "duration": 14,
    "start_time": "2022-12-08T16:06:52.937Z"
   },
   {
    "duration": 102,
    "start_time": "2022-12-08T16:07:00.852Z"
   },
   {
    "duration": 7,
    "start_time": "2022-12-08T16:07:20.510Z"
   },
   {
    "duration": 8,
    "start_time": "2022-12-08T16:07:37.883Z"
   },
   {
    "duration": 17,
    "start_time": "2022-12-08T16:08:30.013Z"
   },
   {
    "duration": 1211,
    "start_time": "2022-12-08T16:08:59.907Z"
   },
   {
    "duration": 37,
    "start_time": "2022-12-08T16:09:01.120Z"
   },
   {
    "duration": 13,
    "start_time": "2022-12-08T16:09:01.158Z"
   },
   {
    "duration": 1762,
    "start_time": "2022-12-08T16:09:01.172Z"
   },
   {
    "duration": 47,
    "start_time": "2022-12-08T16:09:02.936Z"
   },
   {
    "duration": 22,
    "start_time": "2022-12-08T16:09:02.985Z"
   },
   {
    "duration": 26,
    "start_time": "2022-12-08T16:09:03.008Z"
   },
   {
    "duration": 5,
    "start_time": "2022-12-08T16:09:03.036Z"
   },
   {
    "duration": 29,
    "start_time": "2022-12-08T16:09:03.042Z"
   },
   {
    "duration": 18,
    "start_time": "2022-12-08T16:09:03.073Z"
   },
   {
    "duration": 15,
    "start_time": "2022-12-08T16:09:03.092Z"
   },
   {
    "duration": 16,
    "start_time": "2022-12-08T16:09:03.108Z"
   },
   {
    "duration": 23,
    "start_time": "2022-12-08T16:09:03.125Z"
   },
   {
    "duration": 19,
    "start_time": "2022-12-08T16:09:03.150Z"
   },
   {
    "duration": 7,
    "start_time": "2022-12-08T16:09:03.170Z"
   },
   {
    "duration": 21,
    "start_time": "2022-12-08T16:09:03.178Z"
   },
   {
    "duration": 33,
    "start_time": "2022-12-08T16:09:03.200Z"
   },
   {
    "duration": 10,
    "start_time": "2022-12-08T16:09:03.235Z"
   },
   {
    "duration": 27,
    "start_time": "2022-12-08T16:09:03.246Z"
   },
   {
    "duration": 20,
    "start_time": "2022-12-08T16:09:03.274Z"
   },
   {
    "duration": 14,
    "start_time": "2022-12-08T16:09:03.295Z"
   },
   {
    "duration": 10,
    "start_time": "2022-12-08T16:09:03.311Z"
   },
   {
    "duration": 45,
    "start_time": "2022-12-08T16:09:03.322Z"
   },
   {
    "duration": 5,
    "start_time": "2022-12-08T16:09:03.369Z"
   },
   {
    "duration": 20,
    "start_time": "2022-12-08T16:09:03.375Z"
   },
   {
    "duration": 116,
    "start_time": "2022-12-08T16:09:03.397Z"
   },
   {
    "duration": 4,
    "start_time": "2022-12-08T16:09:03.514Z"
   },
   {
    "duration": 30,
    "start_time": "2022-12-08T16:09:03.522Z"
   },
   {
    "duration": 4,
    "start_time": "2022-12-08T16:09:03.554Z"
   },
   {
    "duration": 134,
    "start_time": "2022-12-08T16:09:03.559Z"
   },
   {
    "duration": 128,
    "start_time": "2022-12-08T16:09:03.697Z"
   },
   {
    "duration": 8,
    "start_time": "2022-12-08T16:09:03.827Z"
   },
   {
    "duration": 148,
    "start_time": "2022-12-08T16:09:03.836Z"
   },
   {
    "duration": 16,
    "start_time": "2022-12-08T16:09:03.986Z"
   },
   {
    "duration": 129,
    "start_time": "2022-12-08T16:09:04.004Z"
   },
   {
    "duration": 5,
    "start_time": "2022-12-08T16:09:04.135Z"
   },
   {
    "duration": 17,
    "start_time": "2022-12-08T16:09:04.142Z"
   },
   {
    "duration": 28,
    "start_time": "2022-12-08T16:09:04.160Z"
   },
   {
    "duration": 126,
    "start_time": "2022-12-08T16:09:04.190Z"
   },
   {
    "duration": 8,
    "start_time": "2022-12-08T16:09:04.318Z"
   },
   {
    "duration": 134,
    "start_time": "2022-12-08T16:09:04.327Z"
   },
   {
    "duration": 8,
    "start_time": "2022-12-08T16:09:04.462Z"
   },
   {
    "duration": 27,
    "start_time": "2022-12-08T16:09:04.471Z"
   },
   {
    "duration": 5,
    "start_time": "2022-12-08T16:09:04.499Z"
   },
   {
    "duration": 21,
    "start_time": "2022-12-08T16:09:04.505Z"
   },
   {
    "duration": 11,
    "start_time": "2022-12-08T16:09:04.527Z"
   },
   {
    "duration": 16,
    "start_time": "2022-12-08T16:09:04.539Z"
   },
   {
    "duration": 19,
    "start_time": "2022-12-08T16:09:04.556Z"
   },
   {
    "duration": 21,
    "start_time": "2022-12-08T16:09:04.577Z"
   },
   {
    "duration": 16,
    "start_time": "2022-12-08T16:09:04.599Z"
   },
   {
    "duration": 127,
    "start_time": "2022-12-08T16:09:04.616Z"
   },
   {
    "duration": 268,
    "start_time": "2022-12-08T16:09:04.745Z"
   },
   {
    "duration": 21,
    "start_time": "2022-12-08T16:09:05.015Z"
   },
   {
    "duration": 4,
    "start_time": "2022-12-08T16:09:05.038Z"
   },
   {
    "duration": 181,
    "start_time": "2022-12-08T16:09:05.043Z"
   },
   {
    "duration": 234,
    "start_time": "2022-12-08T16:09:05.226Z"
   },
   {
    "duration": 161,
    "start_time": "2022-12-08T16:09:05.462Z"
   },
   {
    "duration": 179,
    "start_time": "2022-12-08T16:09:05.625Z"
   },
   {
    "duration": 207,
    "start_time": "2022-12-08T16:09:05.805Z"
   },
   {
    "duration": 179,
    "start_time": "2022-12-08T16:09:06.014Z"
   },
   {
    "duration": 161,
    "start_time": "2022-12-08T16:09:06.196Z"
   },
   {
    "duration": 240,
    "start_time": "2022-12-08T16:09:06.359Z"
   },
   {
    "duration": 124,
    "start_time": "2022-12-08T16:09:06.601Z"
   },
   {
    "duration": 190,
    "start_time": "2022-12-08T16:09:06.727Z"
   },
   {
    "duration": 163,
    "start_time": "2022-12-08T16:09:06.919Z"
   },
   {
    "duration": 181,
    "start_time": "2022-12-08T16:09:07.084Z"
   },
   {
    "duration": 183,
    "start_time": "2022-12-08T16:09:07.267Z"
   },
   {
    "duration": 159,
    "start_time": "2022-12-08T16:09:07.452Z"
   },
   {
    "duration": 134,
    "start_time": "2022-12-08T16:09:07.613Z"
   },
   {
    "duration": 8,
    "start_time": "2022-12-08T16:09:07.749Z"
   },
   {
    "duration": 4,
    "start_time": "2022-12-08T16:09:07.758Z"
   },
   {
    "duration": 6,
    "start_time": "2022-12-08T16:09:07.764Z"
   },
   {
    "duration": 141,
    "start_time": "2022-12-08T16:09:07.772Z"
   },
   {
    "duration": 10,
    "start_time": "2022-12-08T16:09:07.915Z"
   },
   {
    "duration": 7,
    "start_time": "2022-12-08T16:09:07.927Z"
   },
   {
    "duration": 8,
    "start_time": "2022-12-08T16:09:07.935Z"
   },
   {
    "duration": 233,
    "start_time": "2022-12-08T16:09:07.945Z"
   },
   {
    "duration": 4,
    "start_time": "2022-12-08T16:09:08.180Z"
   },
   {
    "duration": 291,
    "start_time": "2022-12-08T16:09:08.185Z"
   },
   {
    "duration": 5,
    "start_time": "2022-12-08T16:09:08.478Z"
   },
   {
    "duration": 194,
    "start_time": "2022-12-08T16:09:08.484Z"
   },
   {
    "duration": 15,
    "start_time": "2022-12-08T16:09:08.683Z"
   },
   {
    "duration": 208,
    "start_time": "2022-12-08T16:09:08.699Z"
   },
   {
    "duration": 5,
    "start_time": "2022-12-08T16:09:08.908Z"
   },
   {
    "duration": 163,
    "start_time": "2022-12-08T16:09:08.914Z"
   },
   {
    "duration": 209,
    "start_time": "2022-12-08T16:09:09.079Z"
   },
   {
    "duration": 6,
    "start_time": "2022-12-08T16:09:09.296Z"
   },
   {
    "duration": 196,
    "start_time": "2022-12-08T16:09:09.303Z"
   },
   {
    "duration": 5,
    "start_time": "2022-12-08T16:09:09.500Z"
   },
   {
    "duration": 193,
    "start_time": "2022-12-08T16:09:09.506Z"
   },
   {
    "duration": 5,
    "start_time": "2022-12-08T16:09:09.700Z"
   },
   {
    "duration": 13,
    "start_time": "2022-12-08T16:09:09.706Z"
   },
   {
    "duration": 8,
    "start_time": "2022-12-08T16:09:09.721Z"
   },
   {
    "duration": 8,
    "start_time": "2022-12-08T16:09:09.731Z"
   },
   {
    "duration": 4276,
    "start_time": "2022-12-08T16:09:09.741Z"
   },
   {
    "duration": 10,
    "start_time": "2022-12-08T16:09:14.019Z"
   },
   {
    "duration": 177,
    "start_time": "2022-12-08T16:09:14.031Z"
   },
   {
    "duration": 8,
    "start_time": "2022-12-08T16:09:14.210Z"
   },
   {
    "duration": 31,
    "start_time": "2022-12-08T16:09:14.220Z"
   },
   {
    "duration": 19,
    "start_time": "2022-12-08T16:09:14.252Z"
   },
   {
    "duration": 24,
    "start_time": "2022-12-08T16:09:14.272Z"
   },
   {
    "duration": 45,
    "start_time": "2022-12-08T16:09:14.297Z"
   },
   {
    "duration": 14,
    "start_time": "2022-12-08T16:09:14.343Z"
   },
   {
    "duration": 6,
    "start_time": "2022-12-08T16:09:14.358Z"
   },
   {
    "duration": 32,
    "start_time": "2022-12-08T16:09:14.365Z"
   },
   {
    "duration": 23,
    "start_time": "2022-12-08T16:09:14.398Z"
   },
   {
    "duration": 12,
    "start_time": "2022-12-08T16:09:14.422Z"
   },
   {
    "duration": 42,
    "start_time": "2022-12-08T16:09:14.435Z"
   },
   {
    "duration": 33,
    "start_time": "2022-12-08T16:09:14.478Z"
   },
   {
    "duration": 38,
    "start_time": "2022-12-08T16:09:14.512Z"
   },
   {
    "duration": 8,
    "start_time": "2022-12-08T16:09:14.554Z"
   },
   {
    "duration": 32,
    "start_time": "2022-12-08T16:09:14.564Z"
   },
   {
    "duration": 181,
    "start_time": "2022-12-08T16:09:14.598Z"
   },
   {
    "duration": 14,
    "start_time": "2022-12-08T16:09:29.344Z"
   },
   {
    "duration": 8,
    "start_time": "2022-12-08T16:10:06.651Z"
   },
   {
    "duration": 8,
    "start_time": "2022-12-08T16:10:12.863Z"
   },
   {
    "duration": 1201,
    "start_time": "2022-12-08T16:10:38.570Z"
   },
   {
    "duration": 36,
    "start_time": "2022-12-08T16:10:39.772Z"
   },
   {
    "duration": 12,
    "start_time": "2022-12-08T16:10:39.810Z"
   },
   {
    "duration": 1787,
    "start_time": "2022-12-08T16:10:39.823Z"
   },
   {
    "duration": 48,
    "start_time": "2022-12-08T16:10:41.612Z"
   },
   {
    "duration": 23,
    "start_time": "2022-12-08T16:10:41.661Z"
   },
   {
    "duration": 29,
    "start_time": "2022-12-08T16:10:41.686Z"
   },
   {
    "duration": 6,
    "start_time": "2022-12-08T16:10:41.716Z"
   },
   {
    "duration": 6,
    "start_time": "2022-12-08T16:10:41.723Z"
   },
   {
    "duration": 9,
    "start_time": "2022-12-08T16:10:41.731Z"
   },
   {
    "duration": 4,
    "start_time": "2022-12-08T16:10:41.741Z"
   },
   {
    "duration": 6,
    "start_time": "2022-12-08T16:10:41.747Z"
   },
   {
    "duration": 9,
    "start_time": "2022-12-08T16:10:41.754Z"
   },
   {
    "duration": 42,
    "start_time": "2022-12-08T16:10:41.764Z"
   },
   {
    "duration": 6,
    "start_time": "2022-12-08T16:10:41.809Z"
   },
   {
    "duration": 5,
    "start_time": "2022-12-08T16:10:41.816Z"
   },
   {
    "duration": 7,
    "start_time": "2022-12-08T16:10:41.822Z"
   },
   {
    "duration": 10,
    "start_time": "2022-12-08T16:10:41.830Z"
   },
   {
    "duration": 6,
    "start_time": "2022-12-08T16:10:41.841Z"
   },
   {
    "duration": 8,
    "start_time": "2022-12-08T16:10:41.849Z"
   },
   {
    "duration": 10,
    "start_time": "2022-12-08T16:10:41.859Z"
   },
   {
    "duration": 9,
    "start_time": "2022-12-08T16:10:41.870Z"
   },
   {
    "duration": 19,
    "start_time": "2022-12-08T16:10:41.897Z"
   },
   {
    "duration": 5,
    "start_time": "2022-12-08T16:10:41.918Z"
   },
   {
    "duration": 6,
    "start_time": "2022-12-08T16:10:41.925Z"
   },
   {
    "duration": 131,
    "start_time": "2022-12-08T16:10:41.933Z"
   },
   {
    "duration": 5,
    "start_time": "2022-12-08T16:10:42.065Z"
   },
   {
    "duration": 34,
    "start_time": "2022-12-08T16:10:42.074Z"
   },
   {
    "duration": 4,
    "start_time": "2022-12-08T16:10:42.110Z"
   },
   {
    "duration": 122,
    "start_time": "2022-12-08T16:10:42.115Z"
   },
   {
    "duration": 133,
    "start_time": "2022-12-08T16:10:42.239Z"
   },
   {
    "duration": 9,
    "start_time": "2022-12-08T16:10:42.373Z"
   },
   {
    "duration": 138,
    "start_time": "2022-12-08T16:10:42.383Z"
   },
   {
    "duration": 11,
    "start_time": "2022-12-08T16:10:42.522Z"
   },
   {
    "duration": 134,
    "start_time": "2022-12-08T16:10:42.535Z"
   },
   {
    "duration": 5,
    "start_time": "2022-12-08T16:10:42.671Z"
   },
   {
    "duration": 22,
    "start_time": "2022-12-08T16:10:42.678Z"
   },
   {
    "duration": 34,
    "start_time": "2022-12-08T16:10:42.701Z"
   },
   {
    "duration": 142,
    "start_time": "2022-12-08T16:10:42.736Z"
   },
   {
    "duration": 8,
    "start_time": "2022-12-08T16:10:42.879Z"
   },
   {
    "duration": 139,
    "start_time": "2022-12-08T16:10:42.888Z"
   },
   {
    "duration": 8,
    "start_time": "2022-12-08T16:10:43.028Z"
   },
   {
    "duration": 23,
    "start_time": "2022-12-08T16:10:43.038Z"
   },
   {
    "duration": 16,
    "start_time": "2022-12-08T16:10:43.062Z"
   },
   {
    "duration": 34,
    "start_time": "2022-12-08T16:10:43.080Z"
   },
   {
    "duration": 28,
    "start_time": "2022-12-08T16:10:43.115Z"
   },
   {
    "duration": 25,
    "start_time": "2022-12-08T16:10:43.144Z"
   },
   {
    "duration": 36,
    "start_time": "2022-12-08T16:10:43.170Z"
   },
   {
    "duration": 29,
    "start_time": "2022-12-08T16:10:43.207Z"
   },
   {
    "duration": 28,
    "start_time": "2022-12-08T16:10:43.237Z"
   },
   {
    "duration": 140,
    "start_time": "2022-12-08T16:10:43.267Z"
   },
   {
    "duration": 236,
    "start_time": "2022-12-08T16:10:43.409Z"
   },
   {
    "duration": 21,
    "start_time": "2022-12-08T16:10:43.647Z"
   },
   {
    "duration": 23,
    "start_time": "2022-12-08T16:10:43.669Z"
   },
   {
    "duration": 173,
    "start_time": "2022-12-08T16:10:43.694Z"
   },
   {
    "duration": 257,
    "start_time": "2022-12-08T16:10:43.869Z"
   },
   {
    "duration": 147,
    "start_time": "2022-12-08T16:10:44.128Z"
   },
   {
    "duration": 172,
    "start_time": "2022-12-08T16:10:44.277Z"
   },
   {
    "duration": 191,
    "start_time": "2022-12-08T16:10:44.451Z"
   },
   {
    "duration": 210,
    "start_time": "2022-12-08T16:10:44.644Z"
   },
   {
    "duration": 171,
    "start_time": "2022-12-08T16:10:44.856Z"
   },
   {
    "duration": 245,
    "start_time": "2022-12-08T16:10:45.029Z"
   },
   {
    "duration": 127,
    "start_time": "2022-12-08T16:10:45.276Z"
   },
   {
    "duration": 181,
    "start_time": "2022-12-08T16:10:45.405Z"
   },
   {
    "duration": 178,
    "start_time": "2022-12-08T16:10:45.588Z"
   },
   {
    "duration": 175,
    "start_time": "2022-12-08T16:10:45.769Z"
   },
   {
    "duration": 185,
    "start_time": "2022-12-08T16:10:45.946Z"
   },
   {
    "duration": 157,
    "start_time": "2022-12-08T16:10:46.133Z"
   },
   {
    "duration": 137,
    "start_time": "2022-12-08T16:10:46.292Z"
   },
   {
    "duration": 8,
    "start_time": "2022-12-08T16:10:46.430Z"
   },
   {
    "duration": 21,
    "start_time": "2022-12-08T16:10:46.439Z"
   },
   {
    "duration": 16,
    "start_time": "2022-12-08T16:10:46.462Z"
   },
   {
    "duration": 140,
    "start_time": "2022-12-08T16:10:46.479Z"
   },
   {
    "duration": 9,
    "start_time": "2022-12-08T16:10:46.620Z"
   },
   {
    "duration": 9,
    "start_time": "2022-12-08T16:10:46.631Z"
   },
   {
    "duration": 30,
    "start_time": "2022-12-08T16:10:46.642Z"
   },
   {
    "duration": 201,
    "start_time": "2022-12-08T16:10:46.673Z"
   },
   {
    "duration": 5,
    "start_time": "2022-12-08T16:10:46.875Z"
   },
   {
    "duration": 278,
    "start_time": "2022-12-08T16:10:46.881Z"
   },
   {
    "duration": 5,
    "start_time": "2022-12-08T16:10:47.161Z"
   },
   {
    "duration": 198,
    "start_time": "2022-12-08T16:10:47.167Z"
   },
   {
    "duration": 4,
    "start_time": "2022-12-08T16:10:47.371Z"
   },
   {
    "duration": 223,
    "start_time": "2022-12-08T16:10:47.376Z"
   },
   {
    "duration": 4,
    "start_time": "2022-12-08T16:10:47.601Z"
   },
   {
    "duration": 158,
    "start_time": "2022-12-08T16:10:47.607Z"
   },
   {
    "duration": 207,
    "start_time": "2022-12-08T16:10:47.767Z"
   },
   {
    "duration": 4,
    "start_time": "2022-12-08T16:10:47.976Z"
   },
   {
    "duration": 208,
    "start_time": "2022-12-08T16:10:47.981Z"
   },
   {
    "duration": 9,
    "start_time": "2022-12-08T16:10:48.191Z"
   },
   {
    "duration": 200,
    "start_time": "2022-12-08T16:10:48.201Z"
   },
   {
    "duration": 11,
    "start_time": "2022-12-08T16:10:48.402Z"
   },
   {
    "duration": 16,
    "start_time": "2022-12-08T16:10:48.414Z"
   },
   {
    "duration": 9,
    "start_time": "2022-12-08T16:10:48.432Z"
   },
   {
    "duration": 7,
    "start_time": "2022-12-08T16:10:48.442Z"
   },
   {
    "duration": 4385,
    "start_time": "2022-12-08T16:10:48.450Z"
   },
   {
    "duration": 11,
    "start_time": "2022-12-08T16:10:52.837Z"
   },
   {
    "duration": 168,
    "start_time": "2022-12-08T16:10:52.849Z"
   },
   {
    "duration": 10,
    "start_time": "2022-12-08T16:10:53.018Z"
   },
   {
    "duration": 27,
    "start_time": "2022-12-08T16:10:53.029Z"
   },
   {
    "duration": 20,
    "start_time": "2022-12-08T16:10:53.057Z"
   },
   {
    "duration": 19,
    "start_time": "2022-12-08T16:10:53.079Z"
   },
   {
    "duration": 21,
    "start_time": "2022-12-08T16:10:53.099Z"
   },
   {
    "duration": 14,
    "start_time": "2022-12-08T16:10:53.121Z"
   },
   {
    "duration": 7,
    "start_time": "2022-12-08T16:10:53.136Z"
   },
   {
    "duration": 25,
    "start_time": "2022-12-08T16:10:53.145Z"
   },
   {
    "duration": 42,
    "start_time": "2022-12-08T16:10:53.172Z"
   },
   {
    "duration": 4,
    "start_time": "2022-12-08T16:10:53.216Z"
   },
   {
    "duration": 25,
    "start_time": "2022-12-08T16:10:53.222Z"
   },
   {
    "duration": 7,
    "start_time": "2022-12-08T16:10:53.249Z"
   },
   {
    "duration": 29,
    "start_time": "2022-12-08T16:10:53.257Z"
   },
   {
    "duration": 15,
    "start_time": "2022-12-08T16:10:53.287Z"
   },
   {
    "duration": 21,
    "start_time": "2022-12-08T16:10:53.304Z"
   },
   {
    "duration": 149,
    "start_time": "2022-12-08T16:10:53.327Z"
   },
   {
    "duration": 61,
    "start_time": "2022-12-08T16:11:44.538Z"
   },
   {
    "duration": 7,
    "start_time": "2022-12-08T16:11:53.593Z"
   },
   {
    "duration": 13,
    "start_time": "2022-12-08T16:15:02.514Z"
   },
   {
    "duration": 3,
    "start_time": "2022-12-08T16:15:15.421Z"
   },
   {
    "duration": 3,
    "start_time": "2022-12-08T16:16:18.147Z"
   },
   {
    "duration": 4,
    "start_time": "2022-12-08T16:16:31.053Z"
   },
   {
    "duration": 4,
    "start_time": "2022-12-08T16:16:59.268Z"
   },
   {
    "duration": 1309,
    "start_time": "2022-12-08T16:20:24.485Z"
   },
   {
    "duration": 39,
    "start_time": "2022-12-08T16:20:25.796Z"
   },
   {
    "duration": 15,
    "start_time": "2022-12-08T16:20:25.837Z"
   },
   {
    "duration": 1812,
    "start_time": "2022-12-08T16:20:25.854Z"
   },
   {
    "duration": 47,
    "start_time": "2022-12-08T16:20:27.668Z"
   },
   {
    "duration": 22,
    "start_time": "2022-12-08T16:20:27.717Z"
   },
   {
    "duration": 24,
    "start_time": "2022-12-08T16:20:27.740Z"
   },
   {
    "duration": 6,
    "start_time": "2022-12-08T16:20:27.765Z"
   },
   {
    "duration": 26,
    "start_time": "2022-12-08T16:20:27.772Z"
   },
   {
    "duration": 11,
    "start_time": "2022-12-08T16:20:27.801Z"
   },
   {
    "duration": 5,
    "start_time": "2022-12-08T16:20:27.813Z"
   },
   {
    "duration": 5,
    "start_time": "2022-12-08T16:20:27.820Z"
   },
   {
    "duration": 10,
    "start_time": "2022-12-08T16:20:27.826Z"
   },
   {
    "duration": 14,
    "start_time": "2022-12-08T16:20:27.838Z"
   },
   {
    "duration": 5,
    "start_time": "2022-12-08T16:20:27.853Z"
   },
   {
    "duration": 10,
    "start_time": "2022-12-08T16:20:27.859Z"
   },
   {
    "duration": 29,
    "start_time": "2022-12-08T16:20:27.870Z"
   },
   {
    "duration": 9,
    "start_time": "2022-12-08T16:20:27.901Z"
   },
   {
    "duration": 6,
    "start_time": "2022-12-08T16:20:27.912Z"
   },
   {
    "duration": 7,
    "start_time": "2022-12-08T16:20:27.920Z"
   },
   {
    "duration": 10,
    "start_time": "2022-12-08T16:20:27.929Z"
   },
   {
    "duration": 10,
    "start_time": "2022-12-08T16:20:27.940Z"
   },
   {
    "duration": 29,
    "start_time": "2022-12-08T16:20:27.952Z"
   },
   {
    "duration": 20,
    "start_time": "2022-12-08T16:20:27.983Z"
   },
   {
    "duration": 19,
    "start_time": "2022-12-08T16:20:28.007Z"
   },
   {
    "duration": 103,
    "start_time": "2022-12-08T16:20:28.027Z"
   },
   {
    "duration": 4,
    "start_time": "2022-12-08T16:20:28.132Z"
   },
   {
    "duration": 22,
    "start_time": "2022-12-08T16:20:28.140Z"
   },
   {
    "duration": 4,
    "start_time": "2022-12-08T16:20:28.164Z"
   },
   {
    "duration": 140,
    "start_time": "2022-12-08T16:20:28.169Z"
   },
   {
    "duration": 127,
    "start_time": "2022-12-08T16:20:28.311Z"
   },
   {
    "duration": 8,
    "start_time": "2022-12-08T16:20:28.439Z"
   },
   {
    "duration": 144,
    "start_time": "2022-12-08T16:20:28.449Z"
   },
   {
    "duration": 14,
    "start_time": "2022-12-08T16:20:28.595Z"
   },
   {
    "duration": 146,
    "start_time": "2022-12-08T16:20:28.611Z"
   },
   {
    "duration": 7,
    "start_time": "2022-12-08T16:20:28.759Z"
   },
   {
    "duration": 9,
    "start_time": "2022-12-08T16:20:28.768Z"
   },
   {
    "duration": 22,
    "start_time": "2022-12-08T16:20:28.779Z"
   },
   {
    "duration": 129,
    "start_time": "2022-12-08T16:20:28.803Z"
   },
   {
    "duration": 10,
    "start_time": "2022-12-08T16:20:28.933Z"
   },
   {
    "duration": 139,
    "start_time": "2022-12-08T16:20:28.944Z"
   },
   {
    "duration": 17,
    "start_time": "2022-12-08T16:20:29.085Z"
   },
   {
    "duration": 7,
    "start_time": "2022-12-08T16:20:29.103Z"
   },
   {
    "duration": 7,
    "start_time": "2022-12-08T16:20:29.111Z"
   },
   {
    "duration": 13,
    "start_time": "2022-12-08T16:20:29.119Z"
   },
   {
    "duration": 7,
    "start_time": "2022-12-08T16:20:29.133Z"
   },
   {
    "duration": 6,
    "start_time": "2022-12-08T16:20:29.142Z"
   },
   {
    "duration": 8,
    "start_time": "2022-12-08T16:20:29.149Z"
   },
   {
    "duration": 10,
    "start_time": "2022-12-08T16:20:29.159Z"
   },
   {
    "duration": 10,
    "start_time": "2022-12-08T16:20:29.170Z"
   },
   {
    "duration": 12,
    "start_time": "2022-12-08T16:20:29.197Z"
   },
   {
    "duration": 12,
    "start_time": "2022-12-08T16:20:29.210Z"
   },
   {
    "duration": 121,
    "start_time": "2022-12-08T16:20:29.223Z"
   },
   {
    "duration": 233,
    "start_time": "2022-12-08T16:20:29.346Z"
   },
   {
    "duration": 31,
    "start_time": "2022-12-08T16:20:29.580Z"
   },
   {
    "duration": 3,
    "start_time": "2022-12-08T16:20:29.613Z"
   },
   {
    "duration": 193,
    "start_time": "2022-12-08T16:20:29.618Z"
   },
   {
    "duration": 315,
    "start_time": "2022-12-08T16:20:29.812Z"
   },
   {
    "duration": 186,
    "start_time": "2022-12-08T16:20:30.129Z"
   },
   {
    "duration": 192,
    "start_time": "2022-12-08T16:20:30.316Z"
   },
   {
    "duration": 218,
    "start_time": "2022-12-08T16:20:30.510Z"
   },
   {
    "duration": 183,
    "start_time": "2022-12-08T16:20:30.730Z"
   },
   {
    "duration": 176,
    "start_time": "2022-12-08T16:20:30.915Z"
   },
   {
    "duration": 270,
    "start_time": "2022-12-08T16:20:31.097Z"
   },
   {
    "duration": 150,
    "start_time": "2022-12-08T16:20:31.369Z"
   },
   {
    "duration": 209,
    "start_time": "2022-12-08T16:20:31.521Z"
   },
   {
    "duration": 187,
    "start_time": "2022-12-08T16:20:31.732Z"
   },
   {
    "duration": 192,
    "start_time": "2022-12-08T16:20:31.920Z"
   },
   {
    "duration": 185,
    "start_time": "2022-12-08T16:20:32.113Z"
   },
   {
    "duration": 168,
    "start_time": "2022-12-08T16:20:32.300Z"
   },
   {
    "duration": 142,
    "start_time": "2022-12-08T16:20:32.469Z"
   },
   {
    "duration": 8,
    "start_time": "2022-12-08T16:20:32.613Z"
   },
   {
    "duration": 26,
    "start_time": "2022-12-08T16:20:32.623Z"
   },
   {
    "duration": 25,
    "start_time": "2022-12-08T16:20:32.651Z"
   },
   {
    "duration": 149,
    "start_time": "2022-12-08T16:20:32.678Z"
   },
   {
    "duration": 11,
    "start_time": "2022-12-08T16:20:32.828Z"
   },
   {
    "duration": 8,
    "start_time": "2022-12-08T16:20:32.841Z"
   },
   {
    "duration": 23,
    "start_time": "2022-12-08T16:20:32.851Z"
   },
   {
    "duration": 266,
    "start_time": "2022-12-08T16:20:32.876Z"
   },
   {
    "duration": 5,
    "start_time": "2022-12-08T16:20:33.144Z"
   },
   {
    "duration": 326,
    "start_time": "2022-12-08T16:20:33.150Z"
   },
   {
    "duration": 4,
    "start_time": "2022-12-08T16:20:33.482Z"
   },
   {
    "duration": 207,
    "start_time": "2022-12-08T16:20:33.488Z"
   },
   {
    "duration": 6,
    "start_time": "2022-12-08T16:20:33.697Z"
   },
   {
    "duration": 234,
    "start_time": "2022-12-08T16:20:33.705Z"
   },
   {
    "duration": 6,
    "start_time": "2022-12-08T16:20:33.941Z"
   },
   {
    "duration": 193,
    "start_time": "2022-12-08T16:20:33.949Z"
   },
   {
    "duration": 212,
    "start_time": "2022-12-08T16:20:34.143Z"
   },
   {
    "duration": 5,
    "start_time": "2022-12-08T16:20:34.356Z"
   },
   {
    "duration": 207,
    "start_time": "2022-12-08T16:20:34.362Z"
   },
   {
    "duration": 4,
    "start_time": "2022-12-08T16:20:34.570Z"
   },
   {
    "duration": 248,
    "start_time": "2022-12-08T16:20:34.576Z"
   },
   {
    "duration": 7,
    "start_time": "2022-12-08T16:20:34.826Z"
   },
   {
    "duration": 33,
    "start_time": "2022-12-08T16:20:34.835Z"
   },
   {
    "duration": 11,
    "start_time": "2022-12-08T16:20:34.870Z"
   },
   {
    "duration": 27,
    "start_time": "2022-12-08T16:20:34.882Z"
   },
   {
    "duration": 5424,
    "start_time": "2022-12-08T16:20:34.911Z"
   },
   {
    "duration": 11,
    "start_time": "2022-12-08T16:20:40.337Z"
   },
   {
    "duration": 300,
    "start_time": "2022-12-08T16:20:40.350Z"
   },
   {
    "duration": 9,
    "start_time": "2022-12-08T16:20:40.651Z"
   },
   {
    "duration": 16,
    "start_time": "2022-12-08T16:20:40.661Z"
   },
   {
    "duration": 34,
    "start_time": "2022-12-08T16:20:40.678Z"
   },
   {
    "duration": 9,
    "start_time": "2022-12-08T16:20:40.713Z"
   },
   {
    "duration": 25,
    "start_time": "2022-12-08T16:20:40.723Z"
   },
   {
    "duration": 12,
    "start_time": "2022-12-08T16:20:40.749Z"
   },
   {
    "duration": 6,
    "start_time": "2022-12-08T16:20:40.763Z"
   },
   {
    "duration": 43,
    "start_time": "2022-12-08T16:20:40.770Z"
   },
   {
    "duration": 21,
    "start_time": "2022-12-08T16:20:40.814Z"
   },
   {
    "duration": 4,
    "start_time": "2022-12-08T16:20:40.837Z"
   },
   {
    "duration": 20,
    "start_time": "2022-12-08T16:20:40.843Z"
   },
   {
    "duration": 35,
    "start_time": "2022-12-08T16:20:40.864Z"
   },
   {
    "duration": 22,
    "start_time": "2022-12-08T16:20:40.900Z"
   },
   {
    "duration": 8,
    "start_time": "2022-12-08T16:20:40.924Z"
   },
   {
    "duration": 11,
    "start_time": "2022-12-08T16:20:40.934Z"
   },
   {
    "duration": 181,
    "start_time": "2022-12-08T16:20:40.946Z"
   },
   {
    "duration": 253,
    "start_time": "2022-12-08T16:23:00.352Z"
   },
   {
    "duration": 254,
    "start_time": "2022-12-08T16:24:37.904Z"
   },
   {
    "duration": 370,
    "start_time": "2022-12-08T16:24:45.679Z"
   },
   {
    "duration": 207,
    "start_time": "2022-12-08T16:25:13.523Z"
   },
   {
    "duration": 229,
    "start_time": "2022-12-08T16:25:19.281Z"
   },
   {
    "duration": 238,
    "start_time": "2022-12-08T16:25:47.197Z"
   },
   {
    "duration": 238,
    "start_time": "2022-12-08T16:26:08.394Z"
   },
   {
    "duration": 260,
    "start_time": "2022-12-08T16:26:32.168Z"
   },
   {
    "duration": 63,
    "start_time": "2022-12-08T16:30:26.893Z"
   },
   {
    "duration": 295,
    "start_time": "2022-12-08T16:30:38.510Z"
   },
   {
    "duration": 446,
    "start_time": "2022-12-08T16:30:51.744Z"
   },
   {
    "duration": 44,
    "start_time": "2022-12-08T16:33:11.538Z"
   },
   {
    "duration": 164,
    "start_time": "2022-12-08T16:33:16.984Z"
   },
   {
    "duration": 174,
    "start_time": "2022-12-08T16:33:44.105Z"
   },
   {
    "duration": 164,
    "start_time": "2022-12-08T16:34:07.244Z"
   },
   {
    "duration": 159,
    "start_time": "2022-12-08T16:34:15.080Z"
   },
   {
    "duration": 2,
    "start_time": "2022-12-08T16:34:51.237Z"
   },
   {
    "duration": 150,
    "start_time": "2022-12-08T16:34:55.306Z"
   },
   {
    "duration": 168,
    "start_time": "2022-12-08T16:35:23.829Z"
   },
   {
    "duration": 138,
    "start_time": "2022-12-08T16:35:38.961Z"
   },
   {
    "duration": 144,
    "start_time": "2022-12-08T16:35:47.956Z"
   },
   {
    "duration": 166,
    "start_time": "2022-12-08T16:35:54.551Z"
   },
   {
    "duration": 170,
    "start_time": "2022-12-08T16:35:59.538Z"
   },
   {
    "duration": 263,
    "start_time": "2022-12-08T16:36:29.931Z"
   },
   {
    "duration": 173,
    "start_time": "2022-12-08T16:36:37.428Z"
   },
   {
    "duration": 273,
    "start_time": "2022-12-08T16:36:51.858Z"
   },
   {
    "duration": 516,
    "start_time": "2022-12-08T16:36:58.623Z"
   },
   {
    "duration": 199,
    "start_time": "2022-12-08T16:37:04.566Z"
   },
   {
    "duration": 239,
    "start_time": "2022-12-08T16:37:14.016Z"
   },
   {
    "duration": 190,
    "start_time": "2022-12-08T16:37:58.933Z"
   },
   {
    "duration": 195,
    "start_time": "2022-12-08T16:38:38.078Z"
   },
   {
    "duration": 181,
    "start_time": "2022-12-08T16:40:29.987Z"
   },
   {
    "duration": 158,
    "start_time": "2022-12-08T16:40:36.313Z"
   },
   {
    "duration": 167,
    "start_time": "2022-12-08T16:40:39.473Z"
   },
   {
    "duration": 160,
    "start_time": "2022-12-08T16:40:43.729Z"
   },
   {
    "duration": 47,
    "start_time": "2022-12-08T16:42:34.569Z"
   },
   {
    "duration": 180,
    "start_time": "2022-12-08T16:42:36.861Z"
   },
   {
    "duration": 208,
    "start_time": "2022-12-08T16:42:55.076Z"
   },
   {
    "duration": 190,
    "start_time": "2022-12-08T16:43:17.715Z"
   },
   {
    "duration": 196,
    "start_time": "2022-12-08T16:43:22.572Z"
   },
   {
    "duration": 161,
    "start_time": "2022-12-08T16:44:12.322Z"
   },
   {
    "duration": 48,
    "start_time": "2022-12-08T16:44:31.334Z"
   },
   {
    "duration": 185,
    "start_time": "2022-12-08T16:44:34.413Z"
   },
   {
    "duration": 199,
    "start_time": "2022-12-08T16:44:55.329Z"
   },
   {
    "duration": 185,
    "start_time": "2022-12-08T16:48:15.535Z"
   },
   {
    "duration": 251,
    "start_time": "2022-12-08T16:48:28.786Z"
   },
   {
    "duration": 182,
    "start_time": "2022-12-08T16:50:26.778Z"
   },
   {
    "duration": 508,
    "start_time": "2022-12-08T16:50:31.862Z"
   },
   {
    "duration": 11,
    "start_time": "2022-12-08T16:54:15.609Z"
   },
   {
    "duration": 1261,
    "start_time": "2022-12-08T16:54:31.340Z"
   },
   {
    "duration": 40,
    "start_time": "2022-12-08T16:54:32.603Z"
   },
   {
    "duration": 15,
    "start_time": "2022-12-08T16:54:32.645Z"
   },
   {
    "duration": 1912,
    "start_time": "2022-12-08T16:54:32.662Z"
   },
   {
    "duration": 57,
    "start_time": "2022-12-08T16:54:34.576Z"
   },
   {
    "duration": 29,
    "start_time": "2022-12-08T16:54:34.635Z"
   },
   {
    "duration": 52,
    "start_time": "2022-12-08T16:54:34.666Z"
   },
   {
    "duration": 8,
    "start_time": "2022-12-08T16:54:34.721Z"
   },
   {
    "duration": 11,
    "start_time": "2022-12-08T16:54:34.731Z"
   },
   {
    "duration": 14,
    "start_time": "2022-12-08T16:54:34.745Z"
   },
   {
    "duration": 11,
    "start_time": "2022-12-08T16:54:34.760Z"
   },
   {
    "duration": 25,
    "start_time": "2022-12-08T16:54:34.773Z"
   },
   {
    "duration": 9,
    "start_time": "2022-12-08T16:54:34.800Z"
   },
   {
    "duration": 15,
    "start_time": "2022-12-08T16:54:34.811Z"
   },
   {
    "duration": 7,
    "start_time": "2022-12-08T16:54:34.827Z"
   },
   {
    "duration": 5,
    "start_time": "2022-12-08T16:54:34.835Z"
   },
   {
    "duration": 6,
    "start_time": "2022-12-08T16:54:34.841Z"
   },
   {
    "duration": 5,
    "start_time": "2022-12-08T16:54:34.849Z"
   },
   {
    "duration": 45,
    "start_time": "2022-12-08T16:54:34.855Z"
   },
   {
    "duration": 8,
    "start_time": "2022-12-08T16:54:34.901Z"
   },
   {
    "duration": 6,
    "start_time": "2022-12-08T16:54:34.911Z"
   },
   {
    "duration": 11,
    "start_time": "2022-12-08T16:54:34.919Z"
   },
   {
    "duration": 27,
    "start_time": "2022-12-08T16:54:34.932Z"
   },
   {
    "duration": 6,
    "start_time": "2022-12-08T16:54:34.960Z"
   },
   {
    "duration": 32,
    "start_time": "2022-12-08T16:54:34.968Z"
   },
   {
    "duration": 113,
    "start_time": "2022-12-08T16:54:35.002Z"
   },
   {
    "duration": 5,
    "start_time": "2022-12-08T16:54:35.117Z"
   },
   {
    "duration": 27,
    "start_time": "2022-12-08T16:54:35.126Z"
   },
   {
    "duration": 4,
    "start_time": "2022-12-08T16:54:35.155Z"
   },
   {
    "duration": 142,
    "start_time": "2022-12-08T16:54:35.161Z"
   },
   {
    "duration": 139,
    "start_time": "2022-12-08T16:54:35.305Z"
   },
   {
    "duration": 8,
    "start_time": "2022-12-08T16:54:35.447Z"
   },
   {
    "duration": 135,
    "start_time": "2022-12-08T16:54:35.457Z"
   },
   {
    "duration": 11,
    "start_time": "2022-12-08T16:54:35.597Z"
   },
   {
    "duration": 144,
    "start_time": "2022-12-08T16:54:35.609Z"
   },
   {
    "duration": 6,
    "start_time": "2022-12-08T16:54:35.755Z"
   },
   {
    "duration": 21,
    "start_time": "2022-12-08T16:54:35.763Z"
   },
   {
    "duration": 14,
    "start_time": "2022-12-08T16:54:35.786Z"
   },
   {
    "duration": 126,
    "start_time": "2022-12-08T16:54:35.801Z"
   },
   {
    "duration": 11,
    "start_time": "2022-12-08T16:54:35.929Z"
   },
   {
    "duration": 134,
    "start_time": "2022-12-08T16:54:35.942Z"
   },
   {
    "duration": 8,
    "start_time": "2022-12-08T16:54:36.079Z"
   },
   {
    "duration": 13,
    "start_time": "2022-12-08T16:54:36.089Z"
   },
   {
    "duration": 6,
    "start_time": "2022-12-08T16:54:36.104Z"
   },
   {
    "duration": 13,
    "start_time": "2022-12-08T16:54:36.111Z"
   },
   {
    "duration": 3,
    "start_time": "2022-12-08T16:54:36.126Z"
   },
   {
    "duration": 6,
    "start_time": "2022-12-08T16:54:36.130Z"
   },
   {
    "duration": 6,
    "start_time": "2022-12-08T16:54:36.138Z"
   },
   {
    "duration": 7,
    "start_time": "2022-12-08T16:54:36.145Z"
   },
   {
    "duration": 13,
    "start_time": "2022-12-08T16:54:36.153Z"
   },
   {
    "duration": 24,
    "start_time": "2022-12-08T16:54:36.197Z"
   },
   {
    "duration": 24,
    "start_time": "2022-12-08T16:54:36.223Z"
   },
   {
    "duration": 128,
    "start_time": "2022-12-08T16:54:36.248Z"
   },
   {
    "duration": 223,
    "start_time": "2022-12-08T16:54:36.377Z"
   },
   {
    "duration": 20,
    "start_time": "2022-12-08T16:54:36.602Z"
   },
   {
    "duration": 4,
    "start_time": "2022-12-08T16:54:36.623Z"
   },
   {
    "duration": 178,
    "start_time": "2022-12-08T16:54:36.628Z"
   },
   {
    "duration": 274,
    "start_time": "2022-12-08T16:54:36.807Z"
   },
   {
    "duration": 282,
    "start_time": "2022-12-08T16:54:37.083Z"
   },
   {
    "duration": 250,
    "start_time": "2022-12-08T16:54:37.367Z"
   },
   {
    "duration": 349,
    "start_time": "2022-12-08T16:54:37.618Z"
   },
   {
    "duration": 262,
    "start_time": "2022-12-08T16:54:37.969Z"
   },
   {
    "duration": 301,
    "start_time": "2022-12-08T16:54:38.233Z"
   },
   {
    "duration": 178,
    "start_time": "2022-12-08T16:54:38.536Z"
   },
   {
    "duration": 159,
    "start_time": "2022-12-08T16:54:38.716Z"
   },
   {
    "duration": 246,
    "start_time": "2022-12-08T16:54:38.877Z"
   },
   {
    "duration": 180,
    "start_time": "2022-12-08T16:54:39.125Z"
   },
   {
    "duration": 182,
    "start_time": "2022-12-08T16:54:39.307Z"
   },
   {
    "duration": 274,
    "start_time": "2022-12-08T16:54:39.490Z"
   },
   {
    "duration": 212,
    "start_time": "2022-12-08T16:54:39.765Z"
   },
   {
    "duration": 224,
    "start_time": "2022-12-08T16:54:39.979Z"
   },
   {
    "duration": 194,
    "start_time": "2022-12-08T16:54:40.205Z"
   },
   {
    "duration": 200,
    "start_time": "2022-12-08T16:54:40.400Z"
   },
   {
    "duration": 212,
    "start_time": "2022-12-08T16:54:40.601Z"
   },
   {
    "duration": 185,
    "start_time": "2022-12-08T16:54:40.815Z"
   },
   {
    "duration": 270,
    "start_time": "2022-12-08T16:54:41.002Z"
   },
   {
    "duration": 165,
    "start_time": "2022-12-08T16:54:41.274Z"
   },
   {
    "duration": 147,
    "start_time": "2022-12-08T16:54:41.441Z"
   },
   {
    "duration": 14,
    "start_time": "2022-12-08T16:54:41.589Z"
   },
   {
    "duration": 12,
    "start_time": "2022-12-08T16:54:41.604Z"
   },
   {
    "duration": 27,
    "start_time": "2022-12-08T16:54:41.617Z"
   },
   {
    "duration": 290,
    "start_time": "2022-12-08T16:54:41.651Z"
   },
   {
    "duration": 14,
    "start_time": "2022-12-08T16:54:41.943Z"
   },
   {
    "duration": 27,
    "start_time": "2022-12-08T16:54:41.959Z"
   },
   {
    "duration": 30,
    "start_time": "2022-12-08T16:54:41.988Z"
   },
   {
    "duration": 223,
    "start_time": "2022-12-08T16:54:42.020Z"
   },
   {
    "duration": 6,
    "start_time": "2022-12-08T16:54:42.245Z"
   },
   {
    "duration": 236,
    "start_time": "2022-12-08T16:54:42.252Z"
   },
   {
    "duration": 10,
    "start_time": "2022-12-08T16:54:42.490Z"
   },
   {
    "duration": 227,
    "start_time": "2022-12-08T16:54:42.501Z"
   },
   {
    "duration": 5,
    "start_time": "2022-12-08T16:54:42.729Z"
   },
   {
    "duration": 221,
    "start_time": "2022-12-08T16:54:42.736Z"
   },
   {
    "duration": 5,
    "start_time": "2022-12-08T16:54:42.958Z"
   },
   {
    "duration": 173,
    "start_time": "2022-12-08T16:54:42.964Z"
   },
   {
    "duration": 201,
    "start_time": "2022-12-08T16:54:43.139Z"
   },
   {
    "duration": 5,
    "start_time": "2022-12-08T16:54:43.342Z"
   },
   {
    "duration": 206,
    "start_time": "2022-12-08T16:54:43.349Z"
   },
   {
    "duration": 5,
    "start_time": "2022-12-08T16:54:43.556Z"
   },
   {
    "duration": 213,
    "start_time": "2022-12-08T16:54:43.563Z"
   },
   {
    "duration": 5,
    "start_time": "2022-12-08T16:54:43.779Z"
   },
   {
    "duration": 28,
    "start_time": "2022-12-08T16:54:43.785Z"
   },
   {
    "duration": 11,
    "start_time": "2022-12-08T16:54:43.814Z"
   },
   {
    "duration": 5,
    "start_time": "2022-12-08T16:54:43.827Z"
   },
   {
    "duration": 4455,
    "start_time": "2022-12-08T16:54:43.833Z"
   },
   {
    "duration": 12,
    "start_time": "2022-12-08T16:54:48.297Z"
   },
   {
    "duration": 175,
    "start_time": "2022-12-08T16:54:48.311Z"
   },
   {
    "duration": 17,
    "start_time": "2022-12-08T16:54:48.488Z"
   },
   {
    "duration": 15,
    "start_time": "2022-12-08T16:54:48.507Z"
   },
   {
    "duration": 23,
    "start_time": "2022-12-08T16:54:48.523Z"
   },
   {
    "duration": 9,
    "start_time": "2022-12-08T16:54:48.547Z"
   },
   {
    "duration": 50,
    "start_time": "2022-12-08T16:54:48.558Z"
   },
   {
    "duration": 14,
    "start_time": "2022-12-08T16:54:48.609Z"
   },
   {
    "duration": 10,
    "start_time": "2022-12-08T16:54:48.624Z"
   },
   {
    "duration": 21,
    "start_time": "2022-12-08T16:54:48.635Z"
   },
   {
    "duration": 46,
    "start_time": "2022-12-08T16:54:48.657Z"
   },
   {
    "duration": 6,
    "start_time": "2022-12-08T16:54:48.705Z"
   },
   {
    "duration": 20,
    "start_time": "2022-12-08T16:54:48.712Z"
   },
   {
    "duration": 8,
    "start_time": "2022-12-08T16:54:48.734Z"
   },
   {
    "duration": 30,
    "start_time": "2022-12-08T16:54:48.743Z"
   },
   {
    "duration": 9,
    "start_time": "2022-12-08T16:54:48.797Z"
   },
   {
    "duration": 13,
    "start_time": "2022-12-08T16:54:48.808Z"
   },
   {
    "duration": 185,
    "start_time": "2022-12-08T16:54:48.823Z"
   },
   {
    "duration": 8,
    "start_time": "2022-12-08T17:00:09.384Z"
   },
   {
    "duration": 9,
    "start_time": "2022-12-08T17:00:19.088Z"
   },
   {
    "duration": 7,
    "start_time": "2022-12-08T17:00:27.327Z"
   },
   {
    "duration": 9,
    "start_time": "2022-12-08T17:00:32.142Z"
   },
   {
    "duration": 10,
    "start_time": "2022-12-08T17:00:44.634Z"
   },
   {
    "duration": 8,
    "start_time": "2022-12-08T17:02:38.048Z"
   },
   {
    "duration": 11,
    "start_time": "2022-12-08T17:06:46.951Z"
   },
   {
    "duration": 16,
    "start_time": "2022-12-08T17:07:18.019Z"
   },
   {
    "duration": 13,
    "start_time": "2022-12-08T17:07:50.065Z"
   },
   {
    "duration": 12,
    "start_time": "2022-12-08T17:08:12.259Z"
   },
   {
    "duration": 6,
    "start_time": "2022-12-08T17:09:10.242Z"
   },
   {
    "duration": 11,
    "start_time": "2022-12-08T17:09:15.377Z"
   },
   {
    "duration": 202,
    "start_time": "2022-12-08T17:09:32.547Z"
   },
   {
    "duration": 1283,
    "start_time": "2022-12-08T17:10:13.806Z"
   },
   {
    "duration": 41,
    "start_time": "2022-12-08T17:10:15.091Z"
   },
   {
    "duration": 14,
    "start_time": "2022-12-08T17:10:15.134Z"
   },
   {
    "duration": 1860,
    "start_time": "2022-12-08T17:10:15.150Z"
   },
   {
    "duration": 48,
    "start_time": "2022-12-08T17:10:17.013Z"
   },
   {
    "duration": 39,
    "start_time": "2022-12-08T17:10:17.063Z"
   },
   {
    "duration": 24,
    "start_time": "2022-12-08T17:10:17.103Z"
   },
   {
    "duration": 6,
    "start_time": "2022-12-08T17:10:17.128Z"
   },
   {
    "duration": 7,
    "start_time": "2022-12-08T17:10:17.135Z"
   },
   {
    "duration": 9,
    "start_time": "2022-12-08T17:10:17.145Z"
   },
   {
    "duration": 5,
    "start_time": "2022-12-08T17:10:17.156Z"
   },
   {
    "duration": 36,
    "start_time": "2022-12-08T17:10:17.162Z"
   },
   {
    "duration": 11,
    "start_time": "2022-12-08T17:10:17.200Z"
   },
   {
    "duration": 16,
    "start_time": "2022-12-08T17:10:17.213Z"
   },
   {
    "duration": 6,
    "start_time": "2022-12-08T17:10:17.230Z"
   },
   {
    "duration": 7,
    "start_time": "2022-12-08T17:10:17.237Z"
   },
   {
    "duration": 10,
    "start_time": "2022-12-08T17:10:17.245Z"
   },
   {
    "duration": 5,
    "start_time": "2022-12-08T17:10:17.257Z"
   },
   {
    "duration": 35,
    "start_time": "2022-12-08T17:10:17.263Z"
   },
   {
    "duration": 7,
    "start_time": "2022-12-08T17:10:17.300Z"
   },
   {
    "duration": 8,
    "start_time": "2022-12-08T17:10:17.309Z"
   },
   {
    "duration": 9,
    "start_time": "2022-12-08T17:10:17.319Z"
   },
   {
    "duration": 26,
    "start_time": "2022-12-08T17:10:17.329Z"
   },
   {
    "duration": 6,
    "start_time": "2022-12-08T17:10:17.357Z"
   },
   {
    "duration": 13,
    "start_time": "2022-12-08T17:10:17.364Z"
   },
   {
    "duration": 134,
    "start_time": "2022-12-08T17:10:17.398Z"
   },
   {
    "duration": 6,
    "start_time": "2022-12-08T17:10:17.534Z"
   },
   {
    "duration": 23,
    "start_time": "2022-12-08T17:10:17.545Z"
   },
   {
    "duration": 5,
    "start_time": "2022-12-08T17:10:17.569Z"
   },
   {
    "duration": 142,
    "start_time": "2022-12-08T17:10:17.576Z"
   },
   {
    "duration": 140,
    "start_time": "2022-12-08T17:10:17.720Z"
   },
   {
    "duration": 8,
    "start_time": "2022-12-08T17:10:17.862Z"
   },
   {
    "duration": 152,
    "start_time": "2022-12-08T17:10:17.872Z"
   },
   {
    "duration": 13,
    "start_time": "2022-12-08T17:10:18.025Z"
   },
   {
    "duration": 146,
    "start_time": "2022-12-08T17:10:18.039Z"
   },
   {
    "duration": 15,
    "start_time": "2022-12-08T17:10:18.186Z"
   },
   {
    "duration": 16,
    "start_time": "2022-12-08T17:10:18.202Z"
   },
   {
    "duration": 8,
    "start_time": "2022-12-08T17:10:18.220Z"
   },
   {
    "duration": 127,
    "start_time": "2022-12-08T17:10:18.229Z"
   },
   {
    "duration": 9,
    "start_time": "2022-12-08T17:10:18.357Z"
   },
   {
    "duration": 132,
    "start_time": "2022-12-08T17:10:18.367Z"
   },
   {
    "duration": 9,
    "start_time": "2022-12-08T17:10:18.500Z"
   },
   {
    "duration": 18,
    "start_time": "2022-12-08T17:10:18.511Z"
   },
   {
    "duration": 10,
    "start_time": "2022-12-08T17:10:18.530Z"
   },
   {
    "duration": 17,
    "start_time": "2022-12-08T17:10:18.542Z"
   },
   {
    "duration": 4,
    "start_time": "2022-12-08T17:10:18.561Z"
   },
   {
    "duration": 25,
    "start_time": "2022-12-08T17:10:18.566Z"
   },
   {
    "duration": 18,
    "start_time": "2022-12-08T17:10:18.592Z"
   },
   {
    "duration": 15,
    "start_time": "2022-12-08T17:10:18.611Z"
   },
   {
    "duration": 21,
    "start_time": "2022-12-08T17:10:18.627Z"
   },
   {
    "duration": 27,
    "start_time": "2022-12-08T17:10:18.650Z"
   },
   {
    "duration": 35,
    "start_time": "2022-12-08T17:10:18.678Z"
   },
   {
    "duration": 158,
    "start_time": "2022-12-08T17:10:18.715Z"
   },
   {
    "duration": 250,
    "start_time": "2022-12-08T17:10:18.875Z"
   },
   {
    "duration": 27,
    "start_time": "2022-12-08T17:10:19.127Z"
   },
   {
    "duration": 5,
    "start_time": "2022-12-08T17:10:19.156Z"
   },
   {
    "duration": 197,
    "start_time": "2022-12-08T17:10:19.163Z"
   },
   {
    "duration": 272,
    "start_time": "2022-12-08T17:10:19.362Z"
   },
   {
    "duration": 262,
    "start_time": "2022-12-08T17:10:19.637Z"
   },
   {
    "duration": 270,
    "start_time": "2022-12-08T17:10:19.901Z"
   },
   {
    "duration": 351,
    "start_time": "2022-12-08T17:10:20.173Z"
   },
   {
    "duration": 267,
    "start_time": "2022-12-08T17:10:20.526Z"
   },
   {
    "duration": 287,
    "start_time": "2022-12-08T17:10:20.794Z"
   },
   {
    "duration": 188,
    "start_time": "2022-12-08T17:10:21.083Z"
   },
   {
    "duration": 180,
    "start_time": "2022-12-08T17:10:21.273Z"
   },
   {
    "duration": 291,
    "start_time": "2022-12-08T17:10:21.455Z"
   },
   {
    "duration": 196,
    "start_time": "2022-12-08T17:10:21.748Z"
   },
   {
    "duration": 180,
    "start_time": "2022-12-08T17:10:21.946Z"
   },
   {
    "duration": 235,
    "start_time": "2022-12-08T17:10:22.127Z"
   },
   {
    "duration": 220,
    "start_time": "2022-12-08T17:10:22.364Z"
   },
   {
    "duration": 165,
    "start_time": "2022-12-08T17:10:22.585Z"
   },
   {
    "duration": 201,
    "start_time": "2022-12-08T17:10:22.751Z"
   },
   {
    "duration": 189,
    "start_time": "2022-12-08T17:10:22.954Z"
   },
   {
    "duration": 213,
    "start_time": "2022-12-08T17:10:23.145Z"
   },
   {
    "duration": 181,
    "start_time": "2022-12-08T17:10:23.360Z"
   },
   {
    "duration": 274,
    "start_time": "2022-12-08T17:10:23.543Z"
   },
   {
    "duration": 174,
    "start_time": "2022-12-08T17:10:23.818Z"
   },
   {
    "duration": 145,
    "start_time": "2022-12-08T17:10:23.997Z"
   },
   {
    "duration": 8,
    "start_time": "2022-12-08T17:10:24.144Z"
   },
   {
    "duration": 9,
    "start_time": "2022-12-08T17:10:24.153Z"
   },
   {
    "duration": 35,
    "start_time": "2022-12-08T17:10:24.164Z"
   },
   {
    "duration": 294,
    "start_time": "2022-12-08T17:10:24.205Z"
   },
   {
    "duration": 12,
    "start_time": "2022-12-08T17:10:24.500Z"
   },
   {
    "duration": 12,
    "start_time": "2022-12-08T17:10:24.514Z"
   },
   {
    "duration": 313,
    "start_time": "2022-12-08T17:10:24.527Z"
   },
   {
    "duration": 6,
    "start_time": "2022-12-08T17:10:24.842Z"
   },
   {
    "duration": 239,
    "start_time": "2022-12-08T17:10:24.850Z"
   },
   {
    "duration": 8,
    "start_time": "2022-12-08T17:10:25.090Z"
   },
   {
    "duration": 212,
    "start_time": "2022-12-08T17:10:25.099Z"
   },
   {
    "duration": 5,
    "start_time": "2022-12-08T17:10:25.313Z"
   },
   {
    "duration": 237,
    "start_time": "2022-12-08T17:10:25.319Z"
   },
   {
    "duration": 5,
    "start_time": "2022-12-08T17:10:25.558Z"
   },
   {
    "duration": 185,
    "start_time": "2022-12-08T17:10:25.565Z"
   },
   {
    "duration": 214,
    "start_time": "2022-12-08T17:10:25.752Z"
   },
   {
    "duration": 5,
    "start_time": "2022-12-08T17:10:25.969Z"
   },
   {
    "duration": 223,
    "start_time": "2022-12-08T17:10:25.976Z"
   },
   {
    "duration": 5,
    "start_time": "2022-12-08T17:10:26.200Z"
   },
   {
    "duration": 209,
    "start_time": "2022-12-08T17:10:26.206Z"
   },
   {
    "duration": 5,
    "start_time": "2022-12-08T17:10:26.417Z"
   },
   {
    "duration": 17,
    "start_time": "2022-12-08T17:10:26.423Z"
   },
   {
    "duration": 11,
    "start_time": "2022-12-08T17:10:26.441Z"
   },
   {
    "duration": 11,
    "start_time": "2022-12-08T17:10:26.453Z"
   },
   {
    "duration": 233,
    "start_time": "2022-12-08T17:10:26.466Z"
   },
   {
    "duration": 13,
    "start_time": "2022-12-08T17:10:26.701Z"
   },
   {
    "duration": 183,
    "start_time": "2022-12-08T17:10:26.716Z"
   },
   {
    "duration": 10,
    "start_time": "2022-12-08T17:10:26.901Z"
   },
   {
    "duration": 54,
    "start_time": "2022-12-08T17:10:26.913Z"
   },
   {
    "duration": 41,
    "start_time": "2022-12-08T17:10:26.969Z"
   },
   {
    "duration": 28,
    "start_time": "2022-12-08T17:10:27.011Z"
   },
   {
    "duration": 27,
    "start_time": "2022-12-08T17:10:27.041Z"
   },
   {
    "duration": 18,
    "start_time": "2022-12-08T17:10:27.069Z"
   },
   {
    "duration": 27,
    "start_time": "2022-12-08T17:10:27.089Z"
   },
   {
    "duration": 35,
    "start_time": "2022-12-08T17:10:27.117Z"
   },
   {
    "duration": 24,
    "start_time": "2022-12-08T17:10:27.155Z"
   },
   {
    "duration": 7,
    "start_time": "2022-12-08T17:10:27.181Z"
   },
   {
    "duration": 46,
    "start_time": "2022-12-08T17:10:27.190Z"
   },
   {
    "duration": 12,
    "start_time": "2022-12-08T17:10:27.238Z"
   },
   {
    "duration": 39,
    "start_time": "2022-12-08T17:10:27.251Z"
   },
   {
    "duration": 18,
    "start_time": "2022-12-08T17:10:27.291Z"
   },
   {
    "duration": 29,
    "start_time": "2022-12-08T17:10:27.312Z"
   },
   {
    "duration": 173,
    "start_time": "2022-12-08T17:10:27.343Z"
   },
   {
    "duration": 1284,
    "start_time": "2022-12-08T21:42:51.141Z"
   },
   {
    "duration": 74,
    "start_time": "2022-12-08T21:42:52.436Z"
   },
   {
    "duration": 30,
    "start_time": "2022-12-08T21:42:52.512Z"
   },
   {
    "duration": 2047,
    "start_time": "2022-12-08T21:42:52.548Z"
   },
   {
    "duration": 69,
    "start_time": "2022-12-08T21:42:54.596Z"
   },
   {
    "duration": 25,
    "start_time": "2022-12-08T21:42:54.667Z"
   },
   {
    "duration": 51,
    "start_time": "2022-12-08T21:42:54.694Z"
   },
   {
    "duration": 8,
    "start_time": "2022-12-08T21:42:54.747Z"
   },
   {
    "duration": 9,
    "start_time": "2022-12-08T21:42:54.757Z"
   },
   {
    "duration": 12,
    "start_time": "2022-12-08T21:42:54.768Z"
   },
   {
    "duration": 13,
    "start_time": "2022-12-08T21:42:54.782Z"
   },
   {
    "duration": 10,
    "start_time": "2022-12-08T21:42:54.797Z"
   },
   {
    "duration": 46,
    "start_time": "2022-12-08T21:42:54.808Z"
   },
   {
    "duration": 29,
    "start_time": "2022-12-08T21:42:54.856Z"
   },
   {
    "duration": 6,
    "start_time": "2022-12-08T21:42:54.887Z"
   },
   {
    "duration": 14,
    "start_time": "2022-12-08T21:42:54.895Z"
   },
   {
    "duration": 50,
    "start_time": "2022-12-08T21:42:54.910Z"
   },
   {
    "duration": 7,
    "start_time": "2022-12-08T21:42:54.962Z"
   },
   {
    "duration": 8,
    "start_time": "2022-12-08T21:42:54.970Z"
   },
   {
    "duration": 8,
    "start_time": "2022-12-08T21:42:54.979Z"
   },
   {
    "duration": 9,
    "start_time": "2022-12-08T21:42:54.989Z"
   },
   {
    "duration": 12,
    "start_time": "2022-12-08T21:42:54.999Z"
   },
   {
    "duration": 63,
    "start_time": "2022-12-08T21:42:55.013Z"
   },
   {
    "duration": 6,
    "start_time": "2022-12-08T21:42:55.078Z"
   },
   {
    "duration": 11,
    "start_time": "2022-12-08T21:42:55.085Z"
   },
   {
    "duration": 164,
    "start_time": "2022-12-08T21:42:55.098Z"
   },
   {
    "duration": 6,
    "start_time": "2022-12-08T21:42:55.266Z"
   },
   {
    "duration": 26,
    "start_time": "2022-12-08T21:42:55.276Z"
   },
   {
    "duration": 5,
    "start_time": "2022-12-08T21:42:55.303Z"
   },
   {
    "duration": 152,
    "start_time": "2022-12-08T21:42:55.309Z"
   },
   {
    "duration": 154,
    "start_time": "2022-12-08T21:42:55.464Z"
   },
   {
    "duration": 16,
    "start_time": "2022-12-08T21:42:55.620Z"
   },
   {
    "duration": 189,
    "start_time": "2022-12-08T21:42:55.637Z"
   },
   {
    "duration": 22,
    "start_time": "2022-12-08T21:42:55.832Z"
   },
   {
    "duration": 179,
    "start_time": "2022-12-08T21:42:55.856Z"
   },
   {
    "duration": 11,
    "start_time": "2022-12-08T21:42:56.048Z"
   },
   {
    "duration": 34,
    "start_time": "2022-12-08T21:42:56.061Z"
   },
   {
    "duration": 13,
    "start_time": "2022-12-08T21:42:56.097Z"
   },
   {
    "duration": 191,
    "start_time": "2022-12-08T21:42:56.112Z"
   },
   {
    "duration": 21,
    "start_time": "2022-12-08T21:42:56.305Z"
   },
   {
    "duration": 237,
    "start_time": "2022-12-08T21:42:56.327Z"
   },
   {
    "duration": 13,
    "start_time": "2022-12-08T21:42:56.567Z"
   },
   {
    "duration": 14,
    "start_time": "2022-12-08T21:42:56.582Z"
   },
   {
    "duration": 14,
    "start_time": "2022-12-08T21:42:56.598Z"
   },
   {
    "duration": 57,
    "start_time": "2022-12-08T21:42:56.614Z"
   },
   {
    "duration": 9,
    "start_time": "2022-12-08T21:42:56.673Z"
   },
   {
    "duration": 13,
    "start_time": "2022-12-08T21:42:56.683Z"
   },
   {
    "duration": 14,
    "start_time": "2022-12-08T21:42:56.698Z"
   },
   {
    "duration": 40,
    "start_time": "2022-12-08T21:42:56.714Z"
   },
   {
    "duration": 18,
    "start_time": "2022-12-08T21:42:56.756Z"
   },
   {
    "duration": 21,
    "start_time": "2022-12-08T21:42:56.776Z"
   },
   {
    "duration": 23,
    "start_time": "2022-12-08T21:42:56.799Z"
   },
   {
    "duration": 148,
    "start_time": "2022-12-08T21:42:56.826Z"
   },
   {
    "duration": 281,
    "start_time": "2022-12-08T21:42:56.976Z"
   },
   {
    "duration": 25,
    "start_time": "2022-12-08T21:42:57.259Z"
   },
   {
    "duration": 4,
    "start_time": "2022-12-08T21:42:57.286Z"
   },
   {
    "duration": 217,
    "start_time": "2022-12-08T21:42:57.292Z"
   },
   {
    "duration": 299,
    "start_time": "2022-12-08T21:42:57.515Z"
   },
   {
    "duration": 283,
    "start_time": "2022-12-08T21:42:57.815Z"
   },
   {
    "duration": 306,
    "start_time": "2022-12-08T21:42:58.100Z"
   },
   {
    "duration": 387,
    "start_time": "2022-12-08T21:42:58.408Z"
   },
   {
    "duration": 285,
    "start_time": "2022-12-08T21:42:58.796Z"
   },
   {
    "duration": 308,
    "start_time": "2022-12-08T21:42:59.082Z"
   },
   {
    "duration": 190,
    "start_time": "2022-12-08T21:42:59.392Z"
   },
   {
    "duration": 175,
    "start_time": "2022-12-08T21:42:59.584Z"
   },
   {
    "duration": 269,
    "start_time": "2022-12-08T21:42:59.761Z"
   },
   {
    "duration": 210,
    "start_time": "2022-12-08T21:43:00.038Z"
   },
   {
    "duration": 198,
    "start_time": "2022-12-08T21:43:00.252Z"
   },
   {
    "duration": 256,
    "start_time": "2022-12-08T21:43:00.452Z"
   },
   {
    "duration": 238,
    "start_time": "2022-12-08T21:43:00.709Z"
   },
   {
    "duration": 198,
    "start_time": "2022-12-08T21:43:00.949Z"
   },
   {
    "duration": 221,
    "start_time": "2022-12-08T21:43:01.149Z"
   },
   {
    "duration": 205,
    "start_time": "2022-12-08T21:43:01.372Z"
   },
   {
    "duration": 225,
    "start_time": "2022-12-08T21:43:01.579Z"
   },
   {
    "duration": 201,
    "start_time": "2022-12-08T21:43:01.806Z"
   },
   {
    "duration": 321,
    "start_time": "2022-12-08T21:43:02.009Z"
   },
   {
    "duration": 185,
    "start_time": "2022-12-08T21:43:02.332Z"
   },
   {
    "duration": 173,
    "start_time": "2022-12-08T21:43:02.519Z"
   },
   {
    "duration": 9,
    "start_time": "2022-12-08T21:43:02.693Z"
   },
   {
    "duration": 18,
    "start_time": "2022-12-08T21:43:02.704Z"
   },
   {
    "duration": 30,
    "start_time": "2022-12-08T21:43:02.724Z"
   },
   {
    "duration": 295,
    "start_time": "2022-12-08T21:43:02.761Z"
   },
   {
    "duration": 11,
    "start_time": "2022-12-08T21:43:03.058Z"
   },
   {
    "duration": 8,
    "start_time": "2022-12-08T21:43:03.070Z"
   },
   {
    "duration": 261,
    "start_time": "2022-12-08T21:43:03.080Z"
   },
   {
    "duration": 6,
    "start_time": "2022-12-08T21:43:03.343Z"
   },
   {
    "duration": 222,
    "start_time": "2022-12-08T21:43:03.350Z"
   },
   {
    "duration": 6,
    "start_time": "2022-12-08T21:43:03.575Z"
   },
   {
    "duration": 236,
    "start_time": "2022-12-08T21:43:03.583Z"
   },
   {
    "duration": 5,
    "start_time": "2022-12-08T21:43:03.823Z"
   },
   {
    "duration": 251,
    "start_time": "2022-12-08T21:43:03.832Z"
   },
   {
    "duration": 7,
    "start_time": "2022-12-08T21:43:04.084Z"
   },
   {
    "duration": 193,
    "start_time": "2022-12-08T21:43:04.093Z"
   },
   {
    "duration": 246,
    "start_time": "2022-12-08T21:43:04.288Z"
   },
   {
    "duration": 9,
    "start_time": "2022-12-08T21:43:04.535Z"
   },
   {
    "duration": 235,
    "start_time": "2022-12-08T21:43:04.550Z"
   },
   {
    "duration": 5,
    "start_time": "2022-12-08T21:43:04.787Z"
   },
   {
    "duration": 257,
    "start_time": "2022-12-08T21:43:04.794Z"
   },
   {
    "duration": 5,
    "start_time": "2022-12-08T21:43:05.052Z"
   },
   {
    "duration": 26,
    "start_time": "2022-12-08T21:43:05.059Z"
   },
   {
    "duration": 16,
    "start_time": "2022-12-08T21:43:05.086Z"
   },
   {
    "duration": 51,
    "start_time": "2022-12-08T21:43:05.103Z"
   },
   {
    "duration": 222,
    "start_time": "2022-12-08T21:43:05.156Z"
   },
   {
    "duration": 13,
    "start_time": "2022-12-08T21:43:05.379Z"
   },
   {
    "duration": 188,
    "start_time": "2022-12-08T21:43:05.393Z"
   },
   {
    "duration": 10,
    "start_time": "2022-12-08T21:43:05.583Z"
   },
   {
    "duration": 33,
    "start_time": "2022-12-08T21:43:05.594Z"
   },
   {
    "duration": 41,
    "start_time": "2022-12-08T21:43:05.629Z"
   },
   {
    "duration": 9,
    "start_time": "2022-12-08T21:43:05.671Z"
   },
   {
    "duration": 29,
    "start_time": "2022-12-08T21:43:05.681Z"
   },
   {
    "duration": 23,
    "start_time": "2022-12-08T21:43:05.712Z"
   },
   {
    "duration": 15,
    "start_time": "2022-12-08T21:43:05.739Z"
   },
   {
    "duration": 23,
    "start_time": "2022-12-08T21:43:05.755Z"
   },
   {
    "duration": 22,
    "start_time": "2022-12-08T21:43:05.779Z"
   },
   {
    "duration": 25,
    "start_time": "2022-12-08T21:43:05.803Z"
   },
   {
    "duration": 46,
    "start_time": "2022-12-08T21:43:05.832Z"
   },
   {
    "duration": 10,
    "start_time": "2022-12-08T21:43:05.880Z"
   },
   {
    "duration": 32,
    "start_time": "2022-12-08T21:43:05.891Z"
   },
   {
    "duration": 10,
    "start_time": "2022-12-08T21:43:05.925Z"
   },
   {
    "duration": 24,
    "start_time": "2022-12-08T21:43:05.936Z"
   },
   {
    "duration": 182,
    "start_time": "2022-12-08T21:43:05.962Z"
   },
   {
    "duration": 15,
    "start_time": "2022-12-08T21:46:21.152Z"
   },
   {
    "duration": 12,
    "start_time": "2022-12-08T21:46:34.974Z"
   },
   {
    "duration": 14,
    "start_time": "2022-12-08T21:49:35.147Z"
   },
   {
    "duration": 48,
    "start_time": "2022-12-09T03:02:20.002Z"
   },
   {
    "duration": 6,
    "start_time": "2022-12-09T03:02:37.660Z"
   },
   {
    "duration": 1437,
    "start_time": "2022-12-09T03:02:44.850Z"
   },
   {
    "duration": 39,
    "start_time": "2022-12-09T03:02:46.289Z"
   },
   {
    "duration": 13,
    "start_time": "2022-12-09T03:02:46.330Z"
   },
   {
    "duration": 1847,
    "start_time": "2022-12-09T03:02:46.345Z"
   },
   {
    "duration": 50,
    "start_time": "2022-12-09T03:02:48.193Z"
   },
   {
    "duration": 25,
    "start_time": "2022-12-09T03:02:48.245Z"
   },
   {
    "duration": 52,
    "start_time": "2022-12-09T03:02:48.272Z"
   },
   {
    "duration": 6,
    "start_time": "2022-12-09T03:02:48.325Z"
   },
   {
    "duration": 29,
    "start_time": "2022-12-09T03:02:48.333Z"
   },
   {
    "duration": 26,
    "start_time": "2022-12-09T03:02:48.365Z"
   },
   {
    "duration": 103,
    "start_time": "2022-12-09T03:02:48.393Z"
   },
   {
    "duration": 0,
    "start_time": "2022-12-09T03:02:48.501Z"
   },
   {
    "duration": 0,
    "start_time": "2022-12-09T03:02:48.502Z"
   },
   {
    "duration": 0,
    "start_time": "2022-12-09T03:02:48.503Z"
   },
   {
    "duration": 0,
    "start_time": "2022-12-09T03:02:48.505Z"
   },
   {
    "duration": 0,
    "start_time": "2022-12-09T03:02:48.505Z"
   },
   {
    "duration": 0,
    "start_time": "2022-12-09T03:02:48.507Z"
   },
   {
    "duration": 0,
    "start_time": "2022-12-09T03:02:48.522Z"
   },
   {
    "duration": 0,
    "start_time": "2022-12-09T03:02:48.523Z"
   },
   {
    "duration": 0,
    "start_time": "2022-12-09T03:02:48.524Z"
   },
   {
    "duration": 0,
    "start_time": "2022-12-09T03:02:48.524Z"
   },
   {
    "duration": 0,
    "start_time": "2022-12-09T03:02:48.525Z"
   },
   {
    "duration": 0,
    "start_time": "2022-12-09T03:02:48.526Z"
   },
   {
    "duration": 0,
    "start_time": "2022-12-09T03:02:48.527Z"
   },
   {
    "duration": 0,
    "start_time": "2022-12-09T03:02:48.528Z"
   },
   {
    "duration": 0,
    "start_time": "2022-12-09T03:02:48.529Z"
   },
   {
    "duration": 0,
    "start_time": "2022-12-09T03:02:48.529Z"
   },
   {
    "duration": 0,
    "start_time": "2022-12-09T03:02:48.530Z"
   },
   {
    "duration": 0,
    "start_time": "2022-12-09T03:02:48.532Z"
   },
   {
    "duration": 0,
    "start_time": "2022-12-09T03:02:48.532Z"
   },
   {
    "duration": 0,
    "start_time": "2022-12-09T03:02:48.533Z"
   },
   {
    "duration": 0,
    "start_time": "2022-12-09T03:02:48.534Z"
   },
   {
    "duration": 0,
    "start_time": "2022-12-09T03:02:48.536Z"
   },
   {
    "duration": 0,
    "start_time": "2022-12-09T03:02:48.537Z"
   },
   {
    "duration": 0,
    "start_time": "2022-12-09T03:02:48.537Z"
   },
   {
    "duration": 0,
    "start_time": "2022-12-09T03:02:48.538Z"
   },
   {
    "duration": 0,
    "start_time": "2022-12-09T03:02:48.539Z"
   },
   {
    "duration": 0,
    "start_time": "2022-12-09T03:02:48.540Z"
   },
   {
    "duration": 0,
    "start_time": "2022-12-09T03:02:48.541Z"
   },
   {
    "duration": 0,
    "start_time": "2022-12-09T03:02:48.542Z"
   },
   {
    "duration": 0,
    "start_time": "2022-12-09T03:02:48.544Z"
   },
   {
    "duration": 0,
    "start_time": "2022-12-09T03:02:48.544Z"
   },
   {
    "duration": 0,
    "start_time": "2022-12-09T03:02:48.545Z"
   },
   {
    "duration": 0,
    "start_time": "2022-12-09T03:02:48.546Z"
   },
   {
    "duration": 0,
    "start_time": "2022-12-09T03:02:48.547Z"
   },
   {
    "duration": 0,
    "start_time": "2022-12-09T03:02:48.548Z"
   },
   {
    "duration": 0,
    "start_time": "2022-12-09T03:02:48.549Z"
   },
   {
    "duration": 0,
    "start_time": "2022-12-09T03:02:48.550Z"
   },
   {
    "duration": 0,
    "start_time": "2022-12-09T03:02:48.551Z"
   },
   {
    "duration": 0,
    "start_time": "2022-12-09T03:02:48.551Z"
   },
   {
    "duration": 0,
    "start_time": "2022-12-09T03:02:48.552Z"
   },
   {
    "duration": 0,
    "start_time": "2022-12-09T03:02:48.553Z"
   },
   {
    "duration": 0,
    "start_time": "2022-12-09T03:02:48.554Z"
   },
   {
    "duration": 0,
    "start_time": "2022-12-09T03:02:48.555Z"
   },
   {
    "duration": 0,
    "start_time": "2022-12-09T03:02:48.556Z"
   },
   {
    "duration": 0,
    "start_time": "2022-12-09T03:02:48.557Z"
   },
   {
    "duration": 0,
    "start_time": "2022-12-09T03:02:48.558Z"
   },
   {
    "duration": 0,
    "start_time": "2022-12-09T03:02:48.623Z"
   },
   {
    "duration": 0,
    "start_time": "2022-12-09T03:02:48.624Z"
   },
   {
    "duration": 0,
    "start_time": "2022-12-09T03:02:48.625Z"
   },
   {
    "duration": 0,
    "start_time": "2022-12-09T03:02:48.626Z"
   },
   {
    "duration": 0,
    "start_time": "2022-12-09T03:02:48.627Z"
   },
   {
    "duration": 0,
    "start_time": "2022-12-09T03:02:48.628Z"
   },
   {
    "duration": 0,
    "start_time": "2022-12-09T03:02:48.629Z"
   },
   {
    "duration": 0,
    "start_time": "2022-12-09T03:02:48.631Z"
   },
   {
    "duration": 0,
    "start_time": "2022-12-09T03:02:48.634Z"
   },
   {
    "duration": 0,
    "start_time": "2022-12-09T03:02:48.635Z"
   },
   {
    "duration": 0,
    "start_time": "2022-12-09T03:02:48.636Z"
   },
   {
    "duration": 0,
    "start_time": "2022-12-09T03:02:48.637Z"
   },
   {
    "duration": 0,
    "start_time": "2022-12-09T03:02:48.638Z"
   },
   {
    "duration": 0,
    "start_time": "2022-12-09T03:02:48.639Z"
   },
   {
    "duration": 0,
    "start_time": "2022-12-09T03:02:48.640Z"
   },
   {
    "duration": 0,
    "start_time": "2022-12-09T03:02:48.642Z"
   },
   {
    "duration": 0,
    "start_time": "2022-12-09T03:02:48.642Z"
   },
   {
    "duration": 0,
    "start_time": "2022-12-09T03:02:48.643Z"
   },
   {
    "duration": 0,
    "start_time": "2022-12-09T03:02:48.645Z"
   },
   {
    "duration": 0,
    "start_time": "2022-12-09T03:02:48.646Z"
   },
   {
    "duration": 0,
    "start_time": "2022-12-09T03:02:48.648Z"
   },
   {
    "duration": 0,
    "start_time": "2022-12-09T03:02:48.649Z"
   },
   {
    "duration": 0,
    "start_time": "2022-12-09T03:02:48.651Z"
   },
   {
    "duration": 0,
    "start_time": "2022-12-09T03:02:48.652Z"
   },
   {
    "duration": 0,
    "start_time": "2022-12-09T03:02:48.653Z"
   },
   {
    "duration": 0,
    "start_time": "2022-12-09T03:02:48.655Z"
   },
   {
    "duration": 0,
    "start_time": "2022-12-09T03:02:48.656Z"
   },
   {
    "duration": 0,
    "start_time": "2022-12-09T03:02:48.656Z"
   },
   {
    "duration": 0,
    "start_time": "2022-12-09T03:02:48.657Z"
   },
   {
    "duration": 0,
    "start_time": "2022-12-09T03:02:48.722Z"
   },
   {
    "duration": 0,
    "start_time": "2022-12-09T03:02:48.723Z"
   },
   {
    "duration": 0,
    "start_time": "2022-12-09T03:02:48.725Z"
   },
   {
    "duration": 0,
    "start_time": "2022-12-09T03:02:48.726Z"
   },
   {
    "duration": 0,
    "start_time": "2022-12-09T03:02:48.727Z"
   },
   {
    "duration": 0,
    "start_time": "2022-12-09T03:02:48.728Z"
   },
   {
    "duration": 0,
    "start_time": "2022-12-09T03:02:48.729Z"
   },
   {
    "duration": 0,
    "start_time": "2022-12-09T03:02:48.730Z"
   },
   {
    "duration": 0,
    "start_time": "2022-12-09T03:02:48.730Z"
   },
   {
    "duration": 0,
    "start_time": "2022-12-09T03:02:48.731Z"
   },
   {
    "duration": 0,
    "start_time": "2022-12-09T03:02:48.732Z"
   },
   {
    "duration": 0,
    "start_time": "2022-12-09T03:02:48.733Z"
   },
   {
    "duration": 0,
    "start_time": "2022-12-09T03:02:48.734Z"
   },
   {
    "duration": 0,
    "start_time": "2022-12-09T03:02:48.735Z"
   },
   {
    "duration": 0,
    "start_time": "2022-12-09T03:02:48.735Z"
   },
   {
    "duration": 0,
    "start_time": "2022-12-09T03:02:48.736Z"
   },
   {
    "duration": 0,
    "start_time": "2022-12-09T03:02:48.737Z"
   },
   {
    "duration": 0,
    "start_time": "2022-12-09T03:02:48.738Z"
   },
   {
    "duration": 0,
    "start_time": "2022-12-09T03:02:48.739Z"
   },
   {
    "duration": 0,
    "start_time": "2022-12-09T03:02:48.741Z"
   },
   {
    "duration": 0,
    "start_time": "2022-12-09T03:02:48.742Z"
   },
   {
    "duration": 0,
    "start_time": "2022-12-09T03:02:48.743Z"
   },
   {
    "duration": 0,
    "start_time": "2022-12-09T03:02:48.744Z"
   },
   {
    "duration": 0,
    "start_time": "2022-12-09T03:02:48.745Z"
   },
   {
    "duration": 0,
    "start_time": "2022-12-09T03:02:48.746Z"
   },
   {
    "duration": 0,
    "start_time": "2022-12-09T03:02:48.747Z"
   },
   {
    "duration": 0,
    "start_time": "2022-12-09T03:02:48.748Z"
   },
   {
    "duration": 0,
    "start_time": "2022-12-09T03:02:48.749Z"
   },
   {
    "duration": 0,
    "start_time": "2022-12-09T03:02:48.751Z"
   },
   {
    "duration": 0,
    "start_time": "2022-12-09T03:02:48.752Z"
   },
   {
    "duration": 0,
    "start_time": "2022-12-09T03:02:48.752Z"
   },
   {
    "duration": 1,
    "start_time": "2022-12-09T03:02:48.753Z"
   },
   {
    "duration": 0,
    "start_time": "2022-12-09T03:02:48.755Z"
   },
   {
    "duration": 0,
    "start_time": "2022-12-09T03:02:48.756Z"
   },
   {
    "duration": 0,
    "start_time": "2022-12-09T03:02:48.757Z"
   },
   {
    "duration": 0,
    "start_time": "2022-12-09T03:02:48.759Z"
   },
   {
    "duration": 9,
    "start_time": "2022-12-09T03:03:13.248Z"
   },
   {
    "duration": 10,
    "start_time": "2022-12-09T03:05:00.579Z"
   },
   {
    "duration": 9,
    "start_time": "2022-12-09T03:05:03.146Z"
   },
   {
    "duration": 1249,
    "start_time": "2022-12-09T03:05:09.374Z"
   },
   {
    "duration": 39,
    "start_time": "2022-12-09T03:05:10.625Z"
   },
   {
    "duration": 14,
    "start_time": "2022-12-09T03:05:10.665Z"
   },
   {
    "duration": 1835,
    "start_time": "2022-12-09T03:05:10.681Z"
   },
   {
    "duration": 50,
    "start_time": "2022-12-09T03:05:12.517Z"
   },
   {
    "duration": 24,
    "start_time": "2022-12-09T03:05:12.568Z"
   },
   {
    "duration": 35,
    "start_time": "2022-12-09T03:05:12.593Z"
   },
   {
    "duration": 5,
    "start_time": "2022-12-09T03:05:12.630Z"
   },
   {
    "duration": 11,
    "start_time": "2022-12-09T03:05:12.636Z"
   },
   {
    "duration": 10,
    "start_time": "2022-12-09T03:05:12.650Z"
   },
   {
    "duration": 6,
    "start_time": "2022-12-09T03:05:12.661Z"
   },
   {
    "duration": 10,
    "start_time": "2022-12-09T03:05:12.669Z"
   },
   {
    "duration": 13,
    "start_time": "2022-12-09T03:05:12.681Z"
   },
   {
    "duration": 34,
    "start_time": "2022-12-09T03:05:12.695Z"
   },
   {
    "duration": 7,
    "start_time": "2022-12-09T03:05:12.731Z"
   },
   {
    "duration": 9,
    "start_time": "2022-12-09T03:05:12.740Z"
   },
   {
    "duration": 6,
    "start_time": "2022-12-09T03:05:12.750Z"
   },
   {
    "duration": 5,
    "start_time": "2022-12-09T03:05:12.758Z"
   },
   {
    "duration": 5,
    "start_time": "2022-12-09T03:05:12.765Z"
   },
   {
    "duration": 6,
    "start_time": "2022-12-09T03:05:12.772Z"
   },
   {
    "duration": 122,
    "start_time": "2022-12-09T03:05:12.780Z"
   },
   {
    "duration": 0,
    "start_time": "2022-12-09T03:05:12.908Z"
   },
   {
    "duration": 1,
    "start_time": "2022-12-09T03:05:12.909Z"
   },
   {
    "duration": 0,
    "start_time": "2022-12-09T03:05:12.911Z"
   },
   {
    "duration": 0,
    "start_time": "2022-12-09T03:05:12.912Z"
   },
   {
    "duration": 0,
    "start_time": "2022-12-09T03:05:12.921Z"
   },
   {
    "duration": 0,
    "start_time": "2022-12-09T03:05:12.923Z"
   },
   {
    "duration": 0,
    "start_time": "2022-12-09T03:05:12.924Z"
   },
   {
    "duration": 0,
    "start_time": "2022-12-09T03:05:12.925Z"
   },
   {
    "duration": 0,
    "start_time": "2022-12-09T03:05:12.926Z"
   },
   {
    "duration": 0,
    "start_time": "2022-12-09T03:05:12.928Z"
   },
   {
    "duration": 0,
    "start_time": "2022-12-09T03:05:12.929Z"
   },
   {
    "duration": 0,
    "start_time": "2022-12-09T03:05:12.930Z"
   },
   {
    "duration": 0,
    "start_time": "2022-12-09T03:05:12.931Z"
   },
   {
    "duration": 0,
    "start_time": "2022-12-09T03:05:12.933Z"
   },
   {
    "duration": 0,
    "start_time": "2022-12-09T03:05:12.934Z"
   },
   {
    "duration": 0,
    "start_time": "2022-12-09T03:05:12.935Z"
   },
   {
    "duration": 0,
    "start_time": "2022-12-09T03:05:12.936Z"
   },
   {
    "duration": 0,
    "start_time": "2022-12-09T03:05:12.938Z"
   },
   {
    "duration": 0,
    "start_time": "2022-12-09T03:05:12.939Z"
   },
   {
    "duration": 0,
    "start_time": "2022-12-09T03:05:12.941Z"
   },
   {
    "duration": 0,
    "start_time": "2022-12-09T03:05:12.942Z"
   },
   {
    "duration": 0,
    "start_time": "2022-12-09T03:05:12.943Z"
   },
   {
    "duration": 0,
    "start_time": "2022-12-09T03:05:12.944Z"
   },
   {
    "duration": 0,
    "start_time": "2022-12-09T03:05:12.945Z"
   },
   {
    "duration": 0,
    "start_time": "2022-12-09T03:05:12.947Z"
   },
   {
    "duration": 0,
    "start_time": "2022-12-09T03:05:12.948Z"
   },
   {
    "duration": 0,
    "start_time": "2022-12-09T03:05:12.949Z"
   },
   {
    "duration": 0,
    "start_time": "2022-12-09T03:05:12.951Z"
   },
   {
    "duration": 0,
    "start_time": "2022-12-09T03:05:12.952Z"
   },
   {
    "duration": 0,
    "start_time": "2022-12-09T03:05:12.953Z"
   },
   {
    "duration": 0,
    "start_time": "2022-12-09T03:05:12.955Z"
   },
   {
    "duration": 0,
    "start_time": "2022-12-09T03:05:12.956Z"
   },
   {
    "duration": 0,
    "start_time": "2022-12-09T03:05:12.957Z"
   },
   {
    "duration": 0,
    "start_time": "2022-12-09T03:05:12.958Z"
   },
   {
    "duration": 0,
    "start_time": "2022-12-09T03:05:12.959Z"
   },
   {
    "duration": 0,
    "start_time": "2022-12-09T03:05:12.961Z"
   },
   {
    "duration": 0,
    "start_time": "2022-12-09T03:05:12.962Z"
   },
   {
    "duration": 0,
    "start_time": "2022-12-09T03:05:13.023Z"
   },
   {
    "duration": 0,
    "start_time": "2022-12-09T03:05:13.024Z"
   },
   {
    "duration": 0,
    "start_time": "2022-12-09T03:05:13.026Z"
   },
   {
    "duration": 0,
    "start_time": "2022-12-09T03:05:13.027Z"
   },
   {
    "duration": 0,
    "start_time": "2022-12-09T03:05:13.029Z"
   },
   {
    "duration": 0,
    "start_time": "2022-12-09T03:05:13.030Z"
   },
   {
    "duration": 0,
    "start_time": "2022-12-09T03:05:13.031Z"
   },
   {
    "duration": 0,
    "start_time": "2022-12-09T03:05:13.033Z"
   },
   {
    "duration": 0,
    "start_time": "2022-12-09T03:05:13.034Z"
   },
   {
    "duration": 0,
    "start_time": "2022-12-09T03:05:13.036Z"
   },
   {
    "duration": 0,
    "start_time": "2022-12-09T03:05:13.037Z"
   },
   {
    "duration": 0,
    "start_time": "2022-12-09T03:05:13.038Z"
   },
   {
    "duration": 0,
    "start_time": "2022-12-09T03:05:13.039Z"
   },
   {
    "duration": 0,
    "start_time": "2022-12-09T03:05:13.040Z"
   },
   {
    "duration": 0,
    "start_time": "2022-12-09T03:05:13.041Z"
   },
   {
    "duration": 0,
    "start_time": "2022-12-09T03:05:13.042Z"
   },
   {
    "duration": 1,
    "start_time": "2022-12-09T03:05:13.043Z"
   },
   {
    "duration": 0,
    "start_time": "2022-12-09T03:05:13.045Z"
   },
   {
    "duration": 0,
    "start_time": "2022-12-09T03:05:13.046Z"
   },
   {
    "duration": 0,
    "start_time": "2022-12-09T03:05:13.047Z"
   },
   {
    "duration": 0,
    "start_time": "2022-12-09T03:05:13.048Z"
   },
   {
    "duration": 0,
    "start_time": "2022-12-09T03:05:13.049Z"
   },
   {
    "duration": 0,
    "start_time": "2022-12-09T03:05:13.050Z"
   },
   {
    "duration": 0,
    "start_time": "2022-12-09T03:05:13.051Z"
   },
   {
    "duration": 0,
    "start_time": "2022-12-09T03:05:13.052Z"
   },
   {
    "duration": 0,
    "start_time": "2022-12-09T03:05:13.053Z"
   },
   {
    "duration": 0,
    "start_time": "2022-12-09T03:05:13.054Z"
   },
   {
    "duration": 0,
    "start_time": "2022-12-09T03:05:13.055Z"
   },
   {
    "duration": 0,
    "start_time": "2022-12-09T03:05:13.055Z"
   },
   {
    "duration": 0,
    "start_time": "2022-12-09T03:05:13.056Z"
   },
   {
    "duration": 0,
    "start_time": "2022-12-09T03:05:13.057Z"
   },
   {
    "duration": 0,
    "start_time": "2022-12-09T03:05:13.058Z"
   },
   {
    "duration": 0,
    "start_time": "2022-12-09T03:05:13.059Z"
   },
   {
    "duration": 0,
    "start_time": "2022-12-09T03:05:13.060Z"
   },
   {
    "duration": 0,
    "start_time": "2022-12-09T03:05:13.061Z"
   },
   {
    "duration": 0,
    "start_time": "2022-12-09T03:05:13.122Z"
   },
   {
    "duration": 0,
    "start_time": "2022-12-09T03:05:13.123Z"
   },
   {
    "duration": 0,
    "start_time": "2022-12-09T03:05:13.124Z"
   },
   {
    "duration": 0,
    "start_time": "2022-12-09T03:05:13.125Z"
   },
   {
    "duration": 0,
    "start_time": "2022-12-09T03:05:13.126Z"
   },
   {
    "duration": 0,
    "start_time": "2022-12-09T03:05:13.127Z"
   },
   {
    "duration": 0,
    "start_time": "2022-12-09T03:05:13.128Z"
   },
   {
    "duration": 0,
    "start_time": "2022-12-09T03:05:13.129Z"
   },
   {
    "duration": 0,
    "start_time": "2022-12-09T03:05:13.130Z"
   },
   {
    "duration": 0,
    "start_time": "2022-12-09T03:05:13.131Z"
   },
   {
    "duration": 0,
    "start_time": "2022-12-09T03:05:13.132Z"
   },
   {
    "duration": 0,
    "start_time": "2022-12-09T03:05:13.133Z"
   },
   {
    "duration": 0,
    "start_time": "2022-12-09T03:05:13.133Z"
   },
   {
    "duration": 0,
    "start_time": "2022-12-09T03:05:13.135Z"
   },
   {
    "duration": 0,
    "start_time": "2022-12-09T03:05:13.136Z"
   },
   {
    "duration": 0,
    "start_time": "2022-12-09T03:05:13.137Z"
   },
   {
    "duration": 0,
    "start_time": "2022-12-09T03:05:13.138Z"
   },
   {
    "duration": 0,
    "start_time": "2022-12-09T03:05:13.139Z"
   },
   {
    "duration": 0,
    "start_time": "2022-12-09T03:05:13.140Z"
   },
   {
    "duration": 0,
    "start_time": "2022-12-09T03:05:13.141Z"
   },
   {
    "duration": 0,
    "start_time": "2022-12-09T03:05:13.142Z"
   },
   {
    "duration": 0,
    "start_time": "2022-12-09T03:05:13.143Z"
   },
   {
    "duration": 0,
    "start_time": "2022-12-09T03:05:13.144Z"
   },
   {
    "duration": 0,
    "start_time": "2022-12-09T03:05:13.145Z"
   },
   {
    "duration": 0,
    "start_time": "2022-12-09T03:05:13.146Z"
   },
   {
    "duration": 0,
    "start_time": "2022-12-09T03:05:13.147Z"
   },
   {
    "duration": 0,
    "start_time": "2022-12-09T03:05:13.148Z"
   },
   {
    "duration": 0,
    "start_time": "2022-12-09T03:05:13.149Z"
   },
   {
    "duration": 0,
    "start_time": "2022-12-09T03:05:13.150Z"
   },
   {
    "duration": 9,
    "start_time": "2022-12-09T03:05:34.524Z"
   },
   {
    "duration": 1221,
    "start_time": "2022-12-09T03:06:04.087Z"
   },
   {
    "duration": 40,
    "start_time": "2022-12-09T03:06:09.391Z"
   },
   {
    "duration": 14,
    "start_time": "2022-12-09T03:06:11.880Z"
   },
   {
    "duration": 1847,
    "start_time": "2022-12-09T03:06:13.280Z"
   },
   {
    "duration": 54,
    "start_time": "2022-12-09T03:06:20.113Z"
   },
   {
    "duration": 26,
    "start_time": "2022-12-09T03:06:24.647Z"
   },
   {
    "duration": 29,
    "start_time": "2022-12-09T03:06:27.268Z"
   },
   {
    "duration": 6,
    "start_time": "2022-12-09T03:06:29.398Z"
   },
   {
    "duration": 5,
    "start_time": "2022-12-09T03:06:30.167Z"
   },
   {
    "duration": 9,
    "start_time": "2022-12-09T03:06:32.133Z"
   },
   {
    "duration": 5,
    "start_time": "2022-12-09T03:06:36.702Z"
   },
   {
    "duration": 5,
    "start_time": "2022-12-09T03:06:37.698Z"
   },
   {
    "duration": 9,
    "start_time": "2022-12-09T03:06:39.722Z"
   },
   {
    "duration": 14,
    "start_time": "2022-12-09T03:06:45.158Z"
   },
   {
    "duration": 6,
    "start_time": "2022-12-09T03:06:52.625Z"
   },
   {
    "duration": 4,
    "start_time": "2022-12-09T03:06:53.966Z"
   },
   {
    "duration": 89,
    "start_time": "2022-12-09T03:07:34.404Z"
   },
   {
    "duration": 8,
    "start_time": "2022-12-09T03:07:40.186Z"
   },
   {
    "duration": 9,
    "start_time": "2022-12-09T03:07:44.790Z"
   },
   {
    "duration": 1178,
    "start_time": "2022-12-09T03:08:11.789Z"
   },
   {
    "duration": 39,
    "start_time": "2022-12-09T03:08:13.725Z"
   },
   {
    "duration": 14,
    "start_time": "2022-12-09T03:08:15.049Z"
   },
   {
    "duration": 1804,
    "start_time": "2022-12-09T03:08:16.780Z"
   },
   {
    "duration": 51,
    "start_time": "2022-12-09T03:08:20.513Z"
   },
   {
    "duration": 25,
    "start_time": "2022-12-09T03:08:22.460Z"
   },
   {
    "duration": 25,
    "start_time": "2022-12-09T03:08:23.545Z"
   },
   {
    "duration": 5,
    "start_time": "2022-12-09T03:08:24.451Z"
   },
   {
    "duration": 6,
    "start_time": "2022-12-09T03:08:25.098Z"
   },
   {
    "duration": 9,
    "start_time": "2022-12-09T03:08:26.275Z"
   },
   {
    "duration": 5,
    "start_time": "2022-12-09T03:08:38.462Z"
   },
   {
    "duration": 6,
    "start_time": "2022-12-09T03:08:39.130Z"
   },
   {
    "duration": 9,
    "start_time": "2022-12-09T03:08:56.743Z"
   },
   {
    "duration": 14,
    "start_time": "2022-12-09T03:08:59.874Z"
   },
   {
    "duration": 6,
    "start_time": "2022-12-09T03:09:02.128Z"
   },
   {
    "duration": 4,
    "start_time": "2022-12-09T03:09:03.674Z"
   },
   {
    "duration": 5,
    "start_time": "2022-12-09T03:09:19.169Z"
   },
   {
    "duration": 5,
    "start_time": "2022-12-09T03:10:12.028Z"
   },
   {
    "duration": 5,
    "start_time": "2022-12-09T03:10:34.468Z"
   },
   {
    "duration": 5,
    "start_time": "2022-12-09T03:10:35.623Z"
   },
   {
    "duration": 9,
    "start_time": "2022-12-09T03:12:23.128Z"
   },
   {
    "duration": 3,
    "start_time": "2022-12-09T03:12:32.928Z"
   },
   {
    "duration": 928,
    "start_time": "2022-12-09T03:12:35.502Z"
   },
   {
    "duration": 799,
    "start_time": "2022-12-09T03:12:41.699Z"
   },
   {
    "duration": 864,
    "start_time": "2022-12-09T03:12:48.653Z"
   },
   {
    "duration": 1261,
    "start_time": "2022-12-09T03:12:57.046Z"
   },
   {
    "duration": 37,
    "start_time": "2022-12-09T03:12:58.309Z"
   },
   {
    "duration": 13,
    "start_time": "2022-12-09T03:12:58.348Z"
   },
   {
    "duration": 1893,
    "start_time": "2022-12-09T03:12:58.363Z"
   },
   {
    "duration": 52,
    "start_time": "2022-12-09T03:13:00.258Z"
   },
   {
    "duration": 28,
    "start_time": "2022-12-09T03:13:00.312Z"
   },
   {
    "duration": 28,
    "start_time": "2022-12-09T03:13:00.341Z"
   },
   {
    "duration": 6,
    "start_time": "2022-12-09T03:13:00.371Z"
   },
   {
    "duration": 24,
    "start_time": "2022-12-09T03:13:00.378Z"
   },
   {
    "duration": 46,
    "start_time": "2022-12-09T03:13:00.405Z"
   },
   {
    "duration": 35,
    "start_time": "2022-12-09T03:13:00.452Z"
   },
   {
    "duration": 20,
    "start_time": "2022-12-09T03:13:00.489Z"
   },
   {
    "duration": 29,
    "start_time": "2022-12-09T03:13:00.510Z"
   },
   {
    "duration": 30,
    "start_time": "2022-12-09T03:13:00.542Z"
   },
   {
    "duration": 7,
    "start_time": "2022-12-09T03:13:00.574Z"
   },
   {
    "duration": 16,
    "start_time": "2022-12-09T03:13:00.583Z"
   },
   {
    "duration": 17,
    "start_time": "2022-12-09T03:13:00.601Z"
   },
   {
    "duration": 17,
    "start_time": "2022-12-09T03:13:00.620Z"
   },
   {
    "duration": 24,
    "start_time": "2022-12-09T03:13:00.639Z"
   },
   {
    "duration": 22,
    "start_time": "2022-12-09T03:13:00.665Z"
   },
   {
    "duration": 12,
    "start_time": "2022-12-09T03:13:00.688Z"
   },
   {
    "duration": 1025,
    "start_time": "2022-12-09T03:13:00.701Z"
   },
   {
    "duration": 0,
    "start_time": "2022-12-09T03:13:01.729Z"
   },
   {
    "duration": 0,
    "start_time": "2022-12-09T03:13:01.731Z"
   },
   {
    "duration": 0,
    "start_time": "2022-12-09T03:13:01.732Z"
   },
   {
    "duration": 0,
    "start_time": "2022-12-09T03:13:01.733Z"
   },
   {
    "duration": 0,
    "start_time": "2022-12-09T03:13:01.734Z"
   },
   {
    "duration": 0,
    "start_time": "2022-12-09T03:13:01.735Z"
   },
   {
    "duration": 0,
    "start_time": "2022-12-09T03:13:01.736Z"
   },
   {
    "duration": 0,
    "start_time": "2022-12-09T03:13:01.737Z"
   },
   {
    "duration": 0,
    "start_time": "2022-12-09T03:13:01.737Z"
   },
   {
    "duration": 0,
    "start_time": "2022-12-09T03:13:01.738Z"
   },
   {
    "duration": 0,
    "start_time": "2022-12-09T03:13:01.739Z"
   },
   {
    "duration": 0,
    "start_time": "2022-12-09T03:13:01.740Z"
   },
   {
    "duration": 0,
    "start_time": "2022-12-09T03:13:01.741Z"
   },
   {
    "duration": 0,
    "start_time": "2022-12-09T03:13:01.743Z"
   },
   {
    "duration": 0,
    "start_time": "2022-12-09T03:13:01.744Z"
   },
   {
    "duration": 0,
    "start_time": "2022-12-09T03:13:01.745Z"
   },
   {
    "duration": 0,
    "start_time": "2022-12-09T03:13:01.745Z"
   },
   {
    "duration": 0,
    "start_time": "2022-12-09T03:13:01.746Z"
   },
   {
    "duration": 0,
    "start_time": "2022-12-09T03:13:01.747Z"
   },
   {
    "duration": 0,
    "start_time": "2022-12-09T03:13:01.748Z"
   },
   {
    "duration": 0,
    "start_time": "2022-12-09T03:13:01.749Z"
   },
   {
    "duration": 0,
    "start_time": "2022-12-09T03:13:01.750Z"
   },
   {
    "duration": 0,
    "start_time": "2022-12-09T03:13:01.751Z"
   },
   {
    "duration": 0,
    "start_time": "2022-12-09T03:13:01.752Z"
   },
   {
    "duration": 0,
    "start_time": "2022-12-09T03:13:01.753Z"
   },
   {
    "duration": 0,
    "start_time": "2022-12-09T03:13:01.754Z"
   },
   {
    "duration": 0,
    "start_time": "2022-12-09T03:13:01.755Z"
   },
   {
    "duration": 0,
    "start_time": "2022-12-09T03:13:01.755Z"
   },
   {
    "duration": 0,
    "start_time": "2022-12-09T03:13:01.756Z"
   },
   {
    "duration": 0,
    "start_time": "2022-12-09T03:13:01.757Z"
   },
   {
    "duration": 0,
    "start_time": "2022-12-09T03:13:01.758Z"
   },
   {
    "duration": 0,
    "start_time": "2022-12-09T03:13:01.759Z"
   },
   {
    "duration": 0,
    "start_time": "2022-12-09T03:13:01.760Z"
   },
   {
    "duration": 0,
    "start_time": "2022-12-09T03:13:01.761Z"
   },
   {
    "duration": 0,
    "start_time": "2022-12-09T03:13:01.762Z"
   },
   {
    "duration": 0,
    "start_time": "2022-12-09T03:13:01.763Z"
   },
   {
    "duration": 0,
    "start_time": "2022-12-09T03:13:01.763Z"
   },
   {
    "duration": 0,
    "start_time": "2022-12-09T03:13:01.764Z"
   },
   {
    "duration": 0,
    "start_time": "2022-12-09T03:13:01.765Z"
   },
   {
    "duration": 0,
    "start_time": "2022-12-09T03:13:01.766Z"
   },
   {
    "duration": 0,
    "start_time": "2022-12-09T03:13:01.822Z"
   },
   {
    "duration": 0,
    "start_time": "2022-12-09T03:13:01.823Z"
   },
   {
    "duration": 0,
    "start_time": "2022-12-09T03:13:01.824Z"
   },
   {
    "duration": 0,
    "start_time": "2022-12-09T03:13:01.825Z"
   },
   {
    "duration": 0,
    "start_time": "2022-12-09T03:13:01.827Z"
   },
   {
    "duration": 0,
    "start_time": "2022-12-09T03:13:01.827Z"
   },
   {
    "duration": 0,
    "start_time": "2022-12-09T03:13:01.828Z"
   },
   {
    "duration": 0,
    "start_time": "2022-12-09T03:13:01.829Z"
   },
   {
    "duration": 0,
    "start_time": "2022-12-09T03:13:01.830Z"
   },
   {
    "duration": 0,
    "start_time": "2022-12-09T03:13:01.832Z"
   },
   {
    "duration": 0,
    "start_time": "2022-12-09T03:13:01.832Z"
   },
   {
    "duration": 0,
    "start_time": "2022-12-09T03:13:01.833Z"
   },
   {
    "duration": 0,
    "start_time": "2022-12-09T03:13:01.835Z"
   },
   {
    "duration": 0,
    "start_time": "2022-12-09T03:13:01.836Z"
   },
   {
    "duration": 0,
    "start_time": "2022-12-09T03:13:01.837Z"
   },
   {
    "duration": 0,
    "start_time": "2022-12-09T03:13:01.838Z"
   },
   {
    "duration": 0,
    "start_time": "2022-12-09T03:13:01.839Z"
   },
   {
    "duration": 0,
    "start_time": "2022-12-09T03:13:01.840Z"
   },
   {
    "duration": 0,
    "start_time": "2022-12-09T03:13:01.841Z"
   },
   {
    "duration": 0,
    "start_time": "2022-12-09T03:13:01.842Z"
   },
   {
    "duration": 0,
    "start_time": "2022-12-09T03:13:01.843Z"
   },
   {
    "duration": 0,
    "start_time": "2022-12-09T03:13:01.844Z"
   },
   {
    "duration": 0,
    "start_time": "2022-12-09T03:13:01.845Z"
   },
   {
    "duration": 0,
    "start_time": "2022-12-09T03:13:01.847Z"
   },
   {
    "duration": 0,
    "start_time": "2022-12-09T03:13:01.848Z"
   },
   {
    "duration": 0,
    "start_time": "2022-12-09T03:13:01.849Z"
   },
   {
    "duration": 0,
    "start_time": "2022-12-09T03:13:01.851Z"
   },
   {
    "duration": 0,
    "start_time": "2022-12-09T03:13:01.852Z"
   },
   {
    "duration": 0,
    "start_time": "2022-12-09T03:13:01.853Z"
   },
   {
    "duration": 0,
    "start_time": "2022-12-09T03:13:01.855Z"
   },
   {
    "duration": 0,
    "start_time": "2022-12-09T03:13:01.856Z"
   },
   {
    "duration": 0,
    "start_time": "2022-12-09T03:13:01.858Z"
   },
   {
    "duration": 0,
    "start_time": "2022-12-09T03:13:01.922Z"
   },
   {
    "duration": 0,
    "start_time": "2022-12-09T03:13:01.923Z"
   },
   {
    "duration": 0,
    "start_time": "2022-12-09T03:13:01.924Z"
   },
   {
    "duration": 0,
    "start_time": "2022-12-09T03:13:01.925Z"
   },
   {
    "duration": 0,
    "start_time": "2022-12-09T03:13:01.926Z"
   },
   {
    "duration": 0,
    "start_time": "2022-12-09T03:13:01.927Z"
   },
   {
    "duration": 0,
    "start_time": "2022-12-09T03:13:01.928Z"
   },
   {
    "duration": 0,
    "start_time": "2022-12-09T03:13:01.929Z"
   },
   {
    "duration": 0,
    "start_time": "2022-12-09T03:13:01.930Z"
   },
   {
    "duration": 0,
    "start_time": "2022-12-09T03:13:01.931Z"
   },
   {
    "duration": 0,
    "start_time": "2022-12-09T03:13:01.932Z"
   },
   {
    "duration": 0,
    "start_time": "2022-12-09T03:13:01.933Z"
   },
   {
    "duration": 0,
    "start_time": "2022-12-09T03:13:01.934Z"
   },
   {
    "duration": 0,
    "start_time": "2022-12-09T03:13:01.935Z"
   },
   {
    "duration": 0,
    "start_time": "2022-12-09T03:13:01.936Z"
   },
   {
    "duration": 0,
    "start_time": "2022-12-09T03:13:01.937Z"
   },
   {
    "duration": 0,
    "start_time": "2022-12-09T03:13:01.938Z"
   },
   {
    "duration": 0,
    "start_time": "2022-12-09T03:13:01.939Z"
   },
   {
    "duration": 0,
    "start_time": "2022-12-09T03:13:01.939Z"
   },
   {
    "duration": 0,
    "start_time": "2022-12-09T03:13:01.940Z"
   },
   {
    "duration": 0,
    "start_time": "2022-12-09T03:13:01.941Z"
   },
   {
    "duration": 0,
    "start_time": "2022-12-09T03:13:01.942Z"
   },
   {
    "duration": 0,
    "start_time": "2022-12-09T03:13:01.943Z"
   },
   {
    "duration": 0,
    "start_time": "2022-12-09T03:13:01.944Z"
   },
   {
    "duration": 0,
    "start_time": "2022-12-09T03:13:01.945Z"
   },
   {
    "duration": 0,
    "start_time": "2022-12-09T03:13:01.946Z"
   },
   {
    "duration": 0,
    "start_time": "2022-12-09T03:13:01.947Z"
   },
   {
    "duration": 0,
    "start_time": "2022-12-09T03:13:01.948Z"
   },
   {
    "duration": 912,
    "start_time": "2022-12-09T03:13:30.624Z"
   },
   {
    "duration": 831,
    "start_time": "2022-12-09T03:13:31.625Z"
   },
   {
    "duration": 860,
    "start_time": "2022-12-09T03:13:48.426Z"
   },
   {
    "duration": 1259,
    "start_time": "2022-12-09T03:13:58.652Z"
   },
   {
    "duration": 42,
    "start_time": "2022-12-09T03:13:59.913Z"
   },
   {
    "duration": 16,
    "start_time": "2022-12-09T03:13:59.956Z"
   },
   {
    "duration": 1957,
    "start_time": "2022-12-09T03:13:59.974Z"
   },
   {
    "duration": 49,
    "start_time": "2022-12-09T03:14:01.933Z"
   },
   {
    "duration": 23,
    "start_time": "2022-12-09T03:14:01.984Z"
   },
   {
    "duration": 35,
    "start_time": "2022-12-09T03:14:02.009Z"
   },
   {
    "duration": 6,
    "start_time": "2022-12-09T03:14:02.045Z"
   },
   {
    "duration": 10,
    "start_time": "2022-12-09T03:14:02.053Z"
   },
   {
    "duration": 8,
    "start_time": "2022-12-09T03:14:02.065Z"
   },
   {
    "duration": 5,
    "start_time": "2022-12-09T03:14:02.074Z"
   },
   {
    "duration": 43,
    "start_time": "2022-12-09T03:14:02.080Z"
   },
   {
    "duration": 13,
    "start_time": "2022-12-09T03:14:02.125Z"
   },
   {
    "duration": 15,
    "start_time": "2022-12-09T03:14:02.139Z"
   },
   {
    "duration": 5,
    "start_time": "2022-12-09T03:14:02.156Z"
   },
   {
    "duration": 4,
    "start_time": "2022-12-09T03:14:02.163Z"
   },
   {
    "duration": 8,
    "start_time": "2022-12-09T03:14:02.168Z"
   },
   {
    "duration": 4,
    "start_time": "2022-12-09T03:14:02.177Z"
   },
   {
    "duration": 6,
    "start_time": "2022-12-09T03:14:02.183Z"
   },
   {
    "duration": 7,
    "start_time": "2022-12-09T03:14:02.222Z"
   },
   {
    "duration": 5,
    "start_time": "2022-12-09T03:14:02.230Z"
   },
   {
    "duration": 6,
    "start_time": "2022-12-09T03:14:02.236Z"
   },
   {
    "duration": 23,
    "start_time": "2022-12-09T03:14:02.243Z"
   },
   {
    "duration": 6,
    "start_time": "2022-12-09T03:14:02.268Z"
   },
   {
    "duration": 9,
    "start_time": "2022-12-09T03:14:02.275Z"
   },
   {
    "duration": 127,
    "start_time": "2022-12-09T03:14:02.285Z"
   },
   {
    "duration": 8,
    "start_time": "2022-12-09T03:14:02.414Z"
   },
   {
    "duration": 22,
    "start_time": "2022-12-09T03:14:02.426Z"
   },
   {
    "duration": 5,
    "start_time": "2022-12-09T03:14:02.450Z"
   },
   {
    "duration": 148,
    "start_time": "2022-12-09T03:14:02.457Z"
   },
   {
    "duration": 141,
    "start_time": "2022-12-09T03:14:02.606Z"
   },
   {
    "duration": 9,
    "start_time": "2022-12-09T03:14:02.748Z"
   },
   {
    "duration": 143,
    "start_time": "2022-12-09T03:14:02.758Z"
   },
   {
    "duration": 23,
    "start_time": "2022-12-09T03:14:02.903Z"
   },
   {
    "duration": 134,
    "start_time": "2022-12-09T03:14:02.927Z"
   },
   {
    "duration": 10,
    "start_time": "2022-12-09T03:14:03.062Z"
   },
   {
    "duration": 14,
    "start_time": "2022-12-09T03:14:03.074Z"
   },
   {
    "duration": 10,
    "start_time": "2022-12-09T03:14:03.090Z"
   },
   {
    "duration": 126,
    "start_time": "2022-12-09T03:14:03.102Z"
   },
   {
    "duration": 8,
    "start_time": "2022-12-09T03:14:03.230Z"
   },
   {
    "duration": 139,
    "start_time": "2022-12-09T03:14:03.239Z"
   },
   {
    "duration": 8,
    "start_time": "2022-12-09T03:14:03.379Z"
   },
   {
    "duration": 11,
    "start_time": "2022-12-09T03:14:03.388Z"
   },
   {
    "duration": 21,
    "start_time": "2022-12-09T03:14:03.401Z"
   },
   {
    "duration": 15,
    "start_time": "2022-12-09T03:14:03.423Z"
   },
   {
    "duration": 7,
    "start_time": "2022-12-09T03:14:03.440Z"
   },
   {
    "duration": 5,
    "start_time": "2022-12-09T03:14:03.449Z"
   },
   {
    "duration": 6,
    "start_time": "2022-12-09T03:14:03.456Z"
   },
   {
    "duration": 8,
    "start_time": "2022-12-09T03:14:03.463Z"
   },
   {
    "duration": 9,
    "start_time": "2022-12-09T03:14:03.472Z"
   },
   {
    "duration": 40,
    "start_time": "2022-12-09T03:14:03.482Z"
   },
   {
    "duration": 12,
    "start_time": "2022-12-09T03:14:03.523Z"
   },
   {
    "duration": 139,
    "start_time": "2022-12-09T03:14:03.537Z"
   },
   {
    "duration": 229,
    "start_time": "2022-12-09T03:14:03.678Z"
   },
   {
    "duration": 28,
    "start_time": "2022-12-09T03:14:03.909Z"
   },
   {
    "duration": 4,
    "start_time": "2022-12-09T03:14:03.938Z"
   },
   {
    "duration": 214,
    "start_time": "2022-12-09T03:14:03.943Z"
   },
   {
    "duration": 281,
    "start_time": "2022-12-09T03:14:04.159Z"
   },
   {
    "duration": 252,
    "start_time": "2022-12-09T03:14:04.441Z"
   },
   {
    "duration": 261,
    "start_time": "2022-12-09T03:14:04.695Z"
   },
   {
    "duration": 353,
    "start_time": "2022-12-09T03:14:04.958Z"
   },
   {
    "duration": 254,
    "start_time": "2022-12-09T03:14:05.313Z"
   },
   {
    "duration": 274,
    "start_time": "2022-12-09T03:14:05.568Z"
   },
   {
    "duration": 187,
    "start_time": "2022-12-09T03:14:05.844Z"
   },
   {
    "duration": 164,
    "start_time": "2022-12-09T03:14:06.032Z"
   },
   {
    "duration": 236,
    "start_time": "2022-12-09T03:14:06.198Z"
   },
   {
    "duration": 191,
    "start_time": "2022-12-09T03:14:06.435Z"
   },
   {
    "duration": 176,
    "start_time": "2022-12-09T03:14:06.628Z"
   },
   {
    "duration": 249,
    "start_time": "2022-12-09T03:14:06.806Z"
   },
   {
    "duration": 214,
    "start_time": "2022-12-09T03:14:07.057Z"
   },
   {
    "duration": 178,
    "start_time": "2022-12-09T03:14:07.272Z"
   },
   {
    "duration": 199,
    "start_time": "2022-12-09T03:14:07.451Z"
   },
   {
    "duration": 197,
    "start_time": "2022-12-09T03:14:07.651Z"
   },
   {
    "duration": 204,
    "start_time": "2022-12-09T03:14:07.850Z"
   },
   {
    "duration": 184,
    "start_time": "2022-12-09T03:14:08.055Z"
   },
   {
    "duration": 262,
    "start_time": "2022-12-09T03:14:08.240Z"
   },
   {
    "duration": 172,
    "start_time": "2022-12-09T03:14:08.504Z"
   },
   {
    "duration": 146,
    "start_time": "2022-12-09T03:14:08.678Z"
   },
   {
    "duration": 9,
    "start_time": "2022-12-09T03:14:08.825Z"
   },
   {
    "duration": 4,
    "start_time": "2022-12-09T03:14:08.835Z"
   },
   {
    "duration": 6,
    "start_time": "2022-12-09T03:14:08.840Z"
   },
   {
    "duration": 280,
    "start_time": "2022-12-09T03:14:08.851Z"
   },
   {
    "duration": 10,
    "start_time": "2022-12-09T03:14:09.132Z"
   },
   {
    "duration": 7,
    "start_time": "2022-12-09T03:14:09.144Z"
   },
   {
    "duration": 218,
    "start_time": "2022-12-09T03:14:09.153Z"
   },
   {
    "duration": 5,
    "start_time": "2022-12-09T03:14:09.372Z"
   },
   {
    "duration": 204,
    "start_time": "2022-12-09T03:14:09.379Z"
   },
   {
    "duration": 5,
    "start_time": "2022-12-09T03:14:09.584Z"
   },
   {
    "duration": 217,
    "start_time": "2022-12-09T03:14:09.591Z"
   },
   {
    "duration": 4,
    "start_time": "2022-12-09T03:14:09.810Z"
   },
   {
    "duration": 234,
    "start_time": "2022-12-09T03:14:09.822Z"
   },
   {
    "duration": 6,
    "start_time": "2022-12-09T03:14:10.058Z"
   },
   {
    "duration": 171,
    "start_time": "2022-12-09T03:14:10.066Z"
   },
   {
    "duration": 211,
    "start_time": "2022-12-09T03:14:10.238Z"
   },
   {
    "duration": 6,
    "start_time": "2022-12-09T03:14:10.451Z"
   },
   {
    "duration": 209,
    "start_time": "2022-12-09T03:14:10.458Z"
   },
   {
    "duration": 5,
    "start_time": "2022-12-09T03:14:10.669Z"
   },
   {
    "duration": 205,
    "start_time": "2022-12-09T03:14:10.675Z"
   },
   {
    "duration": 6,
    "start_time": "2022-12-09T03:14:10.881Z"
   },
   {
    "duration": 13,
    "start_time": "2022-12-09T03:14:10.888Z"
   },
   {
    "duration": 27,
    "start_time": "2022-12-09T03:14:10.902Z"
   },
   {
    "duration": 19,
    "start_time": "2022-12-09T03:14:10.931Z"
   },
   {
    "duration": 224,
    "start_time": "2022-12-09T03:14:10.952Z"
   },
   {
    "duration": 13,
    "start_time": "2022-12-09T03:14:11.178Z"
   },
   {
    "duration": 11,
    "start_time": "2022-12-09T03:14:11.192Z"
   },
   {
    "duration": 166,
    "start_time": "2022-12-09T03:14:11.222Z"
   },
   {
    "duration": 9,
    "start_time": "2022-12-09T03:14:11.390Z"
   },
   {
    "duration": 29,
    "start_time": "2022-12-09T03:14:11.400Z"
   },
   {
    "duration": 23,
    "start_time": "2022-12-09T03:14:11.431Z"
   },
   {
    "duration": 8,
    "start_time": "2022-12-09T03:14:11.455Z"
   },
   {
    "duration": 27,
    "start_time": "2022-12-09T03:14:11.464Z"
   },
   {
    "duration": 39,
    "start_time": "2022-12-09T03:14:11.493Z"
   },
   {
    "duration": 18,
    "start_time": "2022-12-09T03:14:11.534Z"
   },
   {
    "duration": 22,
    "start_time": "2022-12-09T03:14:11.554Z"
   },
   {
    "duration": 45,
    "start_time": "2022-12-09T03:14:11.578Z"
   },
   {
    "duration": 6,
    "start_time": "2022-12-09T03:14:11.625Z"
   },
   {
    "duration": 27,
    "start_time": "2022-12-09T03:14:11.633Z"
   },
   {
    "duration": 8,
    "start_time": "2022-12-09T03:14:11.661Z"
   },
   {
    "duration": 23,
    "start_time": "2022-12-09T03:14:11.670Z"
   },
   {
    "duration": 31,
    "start_time": "2022-12-09T03:14:11.695Z"
   },
   {
    "duration": 12,
    "start_time": "2022-12-09T03:14:11.727Z"
   },
   {
    "duration": 165,
    "start_time": "2022-12-09T03:14:11.741Z"
   },
   {
    "duration": 1327,
    "start_time": "2022-12-09T15:10:00.212Z"
   },
   {
    "duration": 47,
    "start_time": "2022-12-09T15:10:01.541Z"
   },
   {
    "duration": 44,
    "start_time": "2022-12-09T15:10:01.589Z"
   },
   {
    "duration": 2166,
    "start_time": "2022-12-09T15:10:01.635Z"
   },
   {
    "duration": 63,
    "start_time": "2022-12-09T15:10:03.803Z"
   },
   {
    "duration": 26,
    "start_time": "2022-12-09T15:10:03.868Z"
   },
   {
    "duration": 41,
    "start_time": "2022-12-09T15:10:03.895Z"
   },
   {
    "duration": 6,
    "start_time": "2022-12-09T15:10:03.938Z"
   },
   {
    "duration": 22,
    "start_time": "2022-12-09T15:10:03.946Z"
   },
   {
    "duration": 15,
    "start_time": "2022-12-09T15:10:03.970Z"
   },
   {
    "duration": 11,
    "start_time": "2022-12-09T15:10:03.987Z"
   },
   {
    "duration": 33,
    "start_time": "2022-12-09T15:10:03.999Z"
   },
   {
    "duration": 20,
    "start_time": "2022-12-09T15:10:04.034Z"
   },
   {
    "duration": 24,
    "start_time": "2022-12-09T15:10:04.055Z"
   },
   {
    "duration": 7,
    "start_time": "2022-12-09T15:10:04.081Z"
   },
   {
    "duration": 13,
    "start_time": "2022-12-09T15:10:04.090Z"
   },
   {
    "duration": 20,
    "start_time": "2022-12-09T15:10:04.105Z"
   },
   {
    "duration": 15,
    "start_time": "2022-12-09T15:10:04.127Z"
   },
   {
    "duration": 15,
    "start_time": "2022-12-09T15:10:04.144Z"
   },
   {
    "duration": 12,
    "start_time": "2022-12-09T15:10:04.161Z"
   },
   {
    "duration": 31,
    "start_time": "2022-12-09T15:10:04.175Z"
   },
   {
    "duration": 32,
    "start_time": "2022-12-09T15:10:04.208Z"
   },
   {
    "duration": 41,
    "start_time": "2022-12-09T15:10:04.242Z"
   },
   {
    "duration": 19,
    "start_time": "2022-12-09T15:10:04.285Z"
   },
   {
    "duration": 36,
    "start_time": "2022-12-09T15:10:04.306Z"
   },
   {
    "duration": 133,
    "start_time": "2022-12-09T15:10:04.344Z"
   },
   {
    "duration": 5,
    "start_time": "2022-12-09T15:10:04.479Z"
   },
   {
    "duration": 82,
    "start_time": "2022-12-09T15:10:04.489Z"
   },
   {
    "duration": 43,
    "start_time": "2022-12-09T15:10:04.573Z"
   },
   {
    "duration": 164,
    "start_time": "2022-12-09T15:10:04.618Z"
   },
   {
    "duration": 156,
    "start_time": "2022-12-09T15:10:04.784Z"
   },
   {
    "duration": 11,
    "start_time": "2022-12-09T15:10:04.942Z"
   },
   {
    "duration": 164,
    "start_time": "2022-12-09T15:10:04.955Z"
   },
   {
    "duration": 16,
    "start_time": "2022-12-09T15:10:05.121Z"
   },
   {
    "duration": 200,
    "start_time": "2022-12-09T15:10:05.139Z"
   },
   {
    "duration": 6,
    "start_time": "2022-12-09T15:10:05.341Z"
   },
   {
    "duration": 11,
    "start_time": "2022-12-09T15:10:05.349Z"
   },
   {
    "duration": 28,
    "start_time": "2022-12-09T15:10:05.362Z"
   },
   {
    "duration": 136,
    "start_time": "2022-12-09T15:10:05.392Z"
   },
   {
    "duration": 10,
    "start_time": "2022-12-09T15:10:05.535Z"
   },
   {
    "duration": 153,
    "start_time": "2022-12-09T15:10:05.546Z"
   },
   {
    "duration": 10,
    "start_time": "2022-12-09T15:10:05.701Z"
   },
   {
    "duration": 24,
    "start_time": "2022-12-09T15:10:05.713Z"
   },
   {
    "duration": 32,
    "start_time": "2022-12-09T15:10:05.739Z"
   },
   {
    "duration": 25,
    "start_time": "2022-12-09T15:10:05.772Z"
   },
   {
    "duration": 21,
    "start_time": "2022-12-09T15:10:05.799Z"
   },
   {
    "duration": 40,
    "start_time": "2022-12-09T15:10:05.822Z"
   },
   {
    "duration": 34,
    "start_time": "2022-12-09T15:10:05.863Z"
   },
   {
    "duration": 25,
    "start_time": "2022-12-09T15:10:05.899Z"
   },
   {
    "duration": 20,
    "start_time": "2022-12-09T15:10:05.926Z"
   },
   {
    "duration": 46,
    "start_time": "2022-12-09T15:10:05.948Z"
   },
   {
    "duration": 57,
    "start_time": "2022-12-09T15:10:05.996Z"
   },
   {
    "duration": 143,
    "start_time": "2022-12-09T15:10:06.055Z"
   },
   {
    "duration": 288,
    "start_time": "2022-12-09T15:10:06.200Z"
   },
   {
    "duration": 24,
    "start_time": "2022-12-09T15:10:06.490Z"
   },
   {
    "duration": 9,
    "start_time": "2022-12-09T15:10:06.515Z"
   },
   {
    "duration": 230,
    "start_time": "2022-12-09T15:10:06.536Z"
   },
   {
    "duration": 307,
    "start_time": "2022-12-09T15:10:06.768Z"
   },
   {
    "duration": 288,
    "start_time": "2022-12-09T15:10:07.076Z"
   },
   {
    "duration": 290,
    "start_time": "2022-12-09T15:10:07.365Z"
   },
   {
    "duration": 418,
    "start_time": "2022-12-09T15:10:07.657Z"
   },
   {
    "duration": 309,
    "start_time": "2022-12-09T15:10:08.078Z"
   },
   {
    "duration": 319,
    "start_time": "2022-12-09T15:10:08.389Z"
   },
   {
    "duration": 202,
    "start_time": "2022-12-09T15:10:08.711Z"
   },
   {
    "duration": 189,
    "start_time": "2022-12-09T15:10:08.915Z"
   },
   {
    "duration": 286,
    "start_time": "2022-12-09T15:10:09.106Z"
   },
   {
    "duration": 219,
    "start_time": "2022-12-09T15:10:09.395Z"
   },
   {
    "duration": 211,
    "start_time": "2022-12-09T15:10:09.615Z"
   },
   {
    "duration": 260,
    "start_time": "2022-12-09T15:10:09.835Z"
   },
   {
    "duration": 244,
    "start_time": "2022-12-09T15:10:10.097Z"
   },
   {
    "duration": 202,
    "start_time": "2022-12-09T15:10:10.343Z"
   },
   {
    "duration": 219,
    "start_time": "2022-12-09T15:10:10.547Z"
   },
   {
    "duration": 211,
    "start_time": "2022-12-09T15:10:10.767Z"
   },
   {
    "duration": 236,
    "start_time": "2022-12-09T15:10:10.980Z"
   },
   {
    "duration": 209,
    "start_time": "2022-12-09T15:10:11.218Z"
   },
   {
    "duration": 295,
    "start_time": "2022-12-09T15:10:11.435Z"
   },
   {
    "duration": 186,
    "start_time": "2022-12-09T15:10:11.732Z"
   },
   {
    "duration": 181,
    "start_time": "2022-12-09T15:10:11.920Z"
   },
   {
    "duration": 10,
    "start_time": "2022-12-09T15:10:12.103Z"
   },
   {
    "duration": 22,
    "start_time": "2022-12-09T15:10:12.114Z"
   },
   {
    "duration": 41,
    "start_time": "2022-12-09T15:10:12.137Z"
   },
   {
    "duration": 317,
    "start_time": "2022-12-09T15:10:12.185Z"
   },
   {
    "duration": 15,
    "start_time": "2022-12-09T15:10:12.504Z"
   },
   {
    "duration": 40,
    "start_time": "2022-12-09T15:10:12.521Z"
   },
   {
    "duration": 252,
    "start_time": "2022-12-09T15:10:12.563Z"
   },
   {
    "duration": 5,
    "start_time": "2022-12-09T15:10:12.817Z"
   },
   {
    "duration": 241,
    "start_time": "2022-12-09T15:10:12.824Z"
   },
   {
    "duration": 6,
    "start_time": "2022-12-09T15:10:13.067Z"
   },
   {
    "duration": 237,
    "start_time": "2022-12-09T15:10:13.075Z"
   },
   {
    "duration": 6,
    "start_time": "2022-12-09T15:10:13.313Z"
   },
   {
    "duration": 265,
    "start_time": "2022-12-09T15:10:13.320Z"
   },
   {
    "duration": 6,
    "start_time": "2022-12-09T15:10:13.588Z"
   },
   {
    "duration": 187,
    "start_time": "2022-12-09T15:10:13.596Z"
   },
   {
    "duration": 238,
    "start_time": "2022-12-09T15:10:13.785Z"
   },
   {
    "duration": 12,
    "start_time": "2022-12-09T15:10:14.025Z"
   },
   {
    "duration": 299,
    "start_time": "2022-12-09T15:10:14.038Z"
   },
   {
    "duration": 6,
    "start_time": "2022-12-09T15:10:14.340Z"
   },
   {
    "duration": 228,
    "start_time": "2022-12-09T15:10:14.347Z"
   },
   {
    "duration": 5,
    "start_time": "2022-12-09T15:10:14.577Z"
   },
   {
    "duration": 25,
    "start_time": "2022-12-09T15:10:14.584Z"
   },
   {
    "duration": 19,
    "start_time": "2022-12-09T15:10:14.611Z"
   },
   {
    "duration": 63,
    "start_time": "2022-12-09T15:10:14.632Z"
   },
   {
    "duration": 229,
    "start_time": "2022-12-09T15:10:14.697Z"
   },
   {
    "duration": 17,
    "start_time": "2022-12-09T15:10:14.934Z"
   },
   {
    "duration": 18,
    "start_time": "2022-12-09T15:10:14.953Z"
   },
   {
    "duration": 176,
    "start_time": "2022-12-09T15:10:14.972Z"
   },
   {
    "duration": 10,
    "start_time": "2022-12-09T15:10:15.150Z"
   },
   {
    "duration": 43,
    "start_time": "2022-12-09T15:10:15.162Z"
   },
   {
    "duration": 39,
    "start_time": "2022-12-09T15:10:15.207Z"
   },
   {
    "duration": 9,
    "start_time": "2022-12-09T15:10:15.248Z"
   },
   {
    "duration": 36,
    "start_time": "2022-12-09T15:10:15.259Z"
   },
   {
    "duration": 16,
    "start_time": "2022-12-09T15:10:15.297Z"
   },
   {
    "duration": 24,
    "start_time": "2022-12-09T15:10:15.315Z"
   },
   {
    "duration": 48,
    "start_time": "2022-12-09T15:10:15.341Z"
   },
   {
    "duration": 36,
    "start_time": "2022-12-09T15:10:15.391Z"
   },
   {
    "duration": 25,
    "start_time": "2022-12-09T15:10:15.429Z"
   },
   {
    "duration": 32,
    "start_time": "2022-12-09T15:10:15.456Z"
   },
   {
    "duration": 44,
    "start_time": "2022-12-09T15:10:15.490Z"
   },
   {
    "duration": 40,
    "start_time": "2022-12-09T15:10:15.536Z"
   },
   {
    "duration": 40,
    "start_time": "2022-12-09T15:10:15.577Z"
   },
   {
    "duration": 42,
    "start_time": "2022-12-09T15:10:15.618Z"
   },
   {
    "duration": 179,
    "start_time": "2022-12-09T15:10:15.662Z"
   },
   {
    "duration": 14,
    "start_time": "2022-12-09T15:10:35.699Z"
   },
   {
    "duration": 67,
    "start_time": "2022-12-09T18:46:51.219Z"
   },
   {
    "duration": 52,
    "start_time": "2022-12-13T07:14:15.631Z"
   },
   {
    "duration": 60,
    "start_time": "2022-12-17T11:23:05.650Z"
   },
   {
    "duration": 1632,
    "start_time": "2022-12-17T11:23:19.969Z"
   },
   {
    "duration": 10,
    "start_time": "2022-12-17T11:23:21.603Z"
   },
   {
    "duration": 11,
    "start_time": "2022-12-17T11:23:21.615Z"
   },
   {
    "duration": 115,
    "start_time": "2022-12-17T11:23:21.628Z"
   },
   {
    "duration": 0,
    "start_time": "2022-12-17T11:23:21.748Z"
   },
   {
    "duration": 0,
    "start_time": "2022-12-17T11:23:21.750Z"
   },
   {
    "duration": 0,
    "start_time": "2022-12-17T11:23:21.751Z"
   },
   {
    "duration": 0,
    "start_time": "2022-12-17T11:23:21.752Z"
   },
   {
    "duration": 0,
    "start_time": "2022-12-17T11:23:21.755Z"
   },
   {
    "duration": 0,
    "start_time": "2022-12-17T11:23:21.756Z"
   },
   {
    "duration": 0,
    "start_time": "2022-12-17T11:23:21.758Z"
   },
   {
    "duration": 0,
    "start_time": "2022-12-17T11:23:21.760Z"
   },
   {
    "duration": 0,
    "start_time": "2022-12-17T11:23:21.761Z"
   },
   {
    "duration": 0,
    "start_time": "2022-12-17T11:23:21.762Z"
   },
   {
    "duration": 0,
    "start_time": "2022-12-17T11:23:21.764Z"
   },
   {
    "duration": 0,
    "start_time": "2022-12-17T11:23:21.765Z"
   },
   {
    "duration": 0,
    "start_time": "2022-12-17T11:23:21.767Z"
   },
   {
    "duration": 0,
    "start_time": "2022-12-17T11:23:21.770Z"
   },
   {
    "duration": 0,
    "start_time": "2022-12-17T11:23:21.772Z"
   },
   {
    "duration": 0,
    "start_time": "2022-12-17T11:23:21.773Z"
   },
   {
    "duration": 0,
    "start_time": "2022-12-17T11:23:21.775Z"
   },
   {
    "duration": 0,
    "start_time": "2022-12-17T11:23:21.776Z"
   },
   {
    "duration": 0,
    "start_time": "2022-12-17T11:23:21.778Z"
   },
   {
    "duration": 0,
    "start_time": "2022-12-17T11:23:21.779Z"
   },
   {
    "duration": 0,
    "start_time": "2022-12-17T11:23:21.780Z"
   },
   {
    "duration": 0,
    "start_time": "2022-12-17T11:23:21.781Z"
   },
   {
    "duration": 0,
    "start_time": "2022-12-17T11:23:21.782Z"
   },
   {
    "duration": 0,
    "start_time": "2022-12-17T11:23:21.783Z"
   },
   {
    "duration": 0,
    "start_time": "2022-12-17T11:23:21.784Z"
   },
   {
    "duration": 0,
    "start_time": "2022-12-17T11:23:21.785Z"
   },
   {
    "duration": 0,
    "start_time": "2022-12-17T11:23:21.787Z"
   },
   {
    "duration": 0,
    "start_time": "2022-12-17T11:23:21.788Z"
   },
   {
    "duration": 0,
    "start_time": "2022-12-17T11:23:21.789Z"
   },
   {
    "duration": 0,
    "start_time": "2022-12-17T11:23:21.790Z"
   },
   {
    "duration": 0,
    "start_time": "2022-12-17T11:23:21.791Z"
   },
   {
    "duration": 0,
    "start_time": "2022-12-17T11:23:21.792Z"
   },
   {
    "duration": 0,
    "start_time": "2022-12-17T11:23:21.793Z"
   },
   {
    "duration": 0,
    "start_time": "2022-12-17T11:23:21.794Z"
   },
   {
    "duration": 0,
    "start_time": "2022-12-17T11:23:21.795Z"
   },
   {
    "duration": 0,
    "start_time": "2022-12-17T11:23:21.796Z"
   },
   {
    "duration": 0,
    "start_time": "2022-12-17T11:23:21.856Z"
   },
   {
    "duration": 0,
    "start_time": "2022-12-17T11:23:21.857Z"
   },
   {
    "duration": 0,
    "start_time": "2022-12-17T11:23:21.859Z"
   },
   {
    "duration": 0,
    "start_time": "2022-12-17T11:23:21.860Z"
   },
   {
    "duration": 0,
    "start_time": "2022-12-17T11:23:21.864Z"
   },
   {
    "duration": 1,
    "start_time": "2022-12-17T11:23:21.865Z"
   },
   {
    "duration": 0,
    "start_time": "2022-12-17T11:23:21.868Z"
   },
   {
    "duration": 0,
    "start_time": "2022-12-17T11:23:21.872Z"
   },
   {
    "duration": 0,
    "start_time": "2022-12-17T11:23:21.874Z"
   },
   {
    "duration": 0,
    "start_time": "2022-12-17T11:23:21.875Z"
   },
   {
    "duration": 0,
    "start_time": "2022-12-17T11:23:21.877Z"
   },
   {
    "duration": 0,
    "start_time": "2022-12-17T11:23:21.879Z"
   },
   {
    "duration": 0,
    "start_time": "2022-12-17T11:23:21.880Z"
   },
   {
    "duration": 0,
    "start_time": "2022-12-17T11:23:21.882Z"
   },
   {
    "duration": 0,
    "start_time": "2022-12-17T11:23:21.883Z"
   },
   {
    "duration": 0,
    "start_time": "2022-12-17T11:23:21.884Z"
   },
   {
    "duration": 0,
    "start_time": "2022-12-17T11:23:21.886Z"
   },
   {
    "duration": 1,
    "start_time": "2022-12-17T11:23:21.887Z"
   },
   {
    "duration": 0,
    "start_time": "2022-12-17T11:23:21.889Z"
   },
   {
    "duration": 0,
    "start_time": "2022-12-17T11:23:21.890Z"
   },
   {
    "duration": 0,
    "start_time": "2022-12-17T11:23:21.892Z"
   },
   {
    "duration": 0,
    "start_time": "2022-12-17T11:23:21.893Z"
   },
   {
    "duration": 0,
    "start_time": "2022-12-17T11:23:21.894Z"
   },
   {
    "duration": 0,
    "start_time": "2022-12-17T11:23:21.896Z"
   },
   {
    "duration": 0,
    "start_time": "2022-12-17T11:23:21.897Z"
   },
   {
    "duration": 0,
    "start_time": "2022-12-17T11:23:21.899Z"
   },
   {
    "duration": 0,
    "start_time": "2022-12-17T11:23:21.955Z"
   },
   {
    "duration": 0,
    "start_time": "2022-12-17T11:23:21.957Z"
   },
   {
    "duration": 0,
    "start_time": "2022-12-17T11:23:21.958Z"
   },
   {
    "duration": 0,
    "start_time": "2022-12-17T11:23:21.960Z"
   },
   {
    "duration": 0,
    "start_time": "2022-12-17T11:23:21.961Z"
   },
   {
    "duration": 0,
    "start_time": "2022-12-17T11:23:21.964Z"
   },
   {
    "duration": 0,
    "start_time": "2022-12-17T11:23:21.966Z"
   },
   {
    "duration": 0,
    "start_time": "2022-12-17T11:23:21.968Z"
   },
   {
    "duration": 0,
    "start_time": "2022-12-17T11:23:21.970Z"
   },
   {
    "duration": 0,
    "start_time": "2022-12-17T11:23:21.971Z"
   },
   {
    "duration": 0,
    "start_time": "2022-12-17T11:23:21.973Z"
   },
   {
    "duration": 0,
    "start_time": "2022-12-17T11:23:21.975Z"
   },
   {
    "duration": 0,
    "start_time": "2022-12-17T11:23:21.976Z"
   },
   {
    "duration": 0,
    "start_time": "2022-12-17T11:23:21.977Z"
   },
   {
    "duration": 0,
    "start_time": "2022-12-17T11:23:21.978Z"
   },
   {
    "duration": 0,
    "start_time": "2022-12-17T11:23:21.979Z"
   },
   {
    "duration": 1,
    "start_time": "2022-12-17T11:23:21.980Z"
   },
   {
    "duration": 0,
    "start_time": "2022-12-17T11:23:21.982Z"
   },
   {
    "duration": 0,
    "start_time": "2022-12-17T11:23:21.983Z"
   },
   {
    "duration": 0,
    "start_time": "2022-12-17T11:23:21.984Z"
   },
   {
    "duration": 0,
    "start_time": "2022-12-17T11:23:21.985Z"
   },
   {
    "duration": 0,
    "start_time": "2022-12-17T11:23:21.986Z"
   },
   {
    "duration": 0,
    "start_time": "2022-12-17T11:23:21.988Z"
   },
   {
    "duration": 0,
    "start_time": "2022-12-17T11:23:21.990Z"
   },
   {
    "duration": 0,
    "start_time": "2022-12-17T11:23:21.991Z"
   },
   {
    "duration": 0,
    "start_time": "2022-12-17T11:23:21.993Z"
   },
   {
    "duration": 0,
    "start_time": "2022-12-17T11:23:21.994Z"
   },
   {
    "duration": 0,
    "start_time": "2022-12-17T11:23:21.996Z"
   },
   {
    "duration": 0,
    "start_time": "2022-12-17T11:23:22.055Z"
   },
   {
    "duration": 0,
    "start_time": "2022-12-17T11:23:22.057Z"
   },
   {
    "duration": 0,
    "start_time": "2022-12-17T11:23:22.058Z"
   },
   {
    "duration": 1,
    "start_time": "2022-12-17T11:23:22.059Z"
   },
   {
    "duration": 0,
    "start_time": "2022-12-17T11:23:22.063Z"
   },
   {
    "duration": 0,
    "start_time": "2022-12-17T11:23:22.063Z"
   },
   {
    "duration": 0,
    "start_time": "2022-12-17T11:23:22.066Z"
   },
   {
    "duration": 0,
    "start_time": "2022-12-17T11:23:22.067Z"
   },
   {
    "duration": 0,
    "start_time": "2022-12-17T11:23:22.069Z"
   },
   {
    "duration": 0,
    "start_time": "2022-12-17T11:23:22.071Z"
   },
   {
    "duration": 0,
    "start_time": "2022-12-17T11:23:22.073Z"
   },
   {
    "duration": 0,
    "start_time": "2022-12-17T11:23:22.074Z"
   },
   {
    "duration": 0,
    "start_time": "2022-12-17T11:23:22.075Z"
   },
   {
    "duration": 0,
    "start_time": "2022-12-17T11:23:22.077Z"
   },
   {
    "duration": 0,
    "start_time": "2022-12-17T11:23:22.078Z"
   },
   {
    "duration": 0,
    "start_time": "2022-12-17T11:23:22.079Z"
   },
   {
    "duration": 0,
    "start_time": "2022-12-17T11:23:22.080Z"
   },
   {
    "duration": 0,
    "start_time": "2022-12-17T11:23:22.082Z"
   },
   {
    "duration": 0,
    "start_time": "2022-12-17T11:23:22.083Z"
   },
   {
    "duration": 0,
    "start_time": "2022-12-17T11:23:22.083Z"
   },
   {
    "duration": 0,
    "start_time": "2022-12-17T11:23:22.084Z"
   },
   {
    "duration": 0,
    "start_time": "2022-12-17T11:23:22.085Z"
   },
   {
    "duration": 0,
    "start_time": "2022-12-17T11:23:22.086Z"
   },
   {
    "duration": 0,
    "start_time": "2022-12-17T11:23:22.087Z"
   },
   {
    "duration": 0,
    "start_time": "2022-12-17T11:23:22.088Z"
   },
   {
    "duration": 0,
    "start_time": "2022-12-17T11:23:22.089Z"
   },
   {
    "duration": 0,
    "start_time": "2022-12-17T11:23:22.090Z"
   },
   {
    "duration": 0,
    "start_time": "2022-12-17T11:23:22.091Z"
   },
   {
    "duration": 18,
    "start_time": "2022-12-17T11:23:34.742Z"
   },
   {
    "duration": 10,
    "start_time": "2022-12-17T12:13:41.035Z"
   },
   {
    "duration": 19,
    "start_time": "2022-12-17T12:19:58.850Z"
   },
   {
    "duration": 1320,
    "start_time": "2022-12-17T12:20:49.147Z"
   },
   {
    "duration": 11,
    "start_time": "2022-12-17T12:20:50.470Z"
   },
   {
    "duration": 10,
    "start_time": "2022-12-17T12:20:50.483Z"
   },
   {
    "duration": 122,
    "start_time": "2022-12-17T12:20:50.495Z"
   },
   {
    "duration": 0,
    "start_time": "2022-12-17T12:20:50.621Z"
   },
   {
    "duration": 0,
    "start_time": "2022-12-17T12:20:50.623Z"
   },
   {
    "duration": 0,
    "start_time": "2022-12-17T12:20:50.624Z"
   },
   {
    "duration": 0,
    "start_time": "2022-12-17T12:20:50.625Z"
   },
   {
    "duration": 0,
    "start_time": "2022-12-17T12:20:50.626Z"
   },
   {
    "duration": 0,
    "start_time": "2022-12-17T12:20:50.627Z"
   },
   {
    "duration": 0,
    "start_time": "2022-12-17T12:20:50.628Z"
   },
   {
    "duration": 0,
    "start_time": "2022-12-17T12:20:50.630Z"
   },
   {
    "duration": 0,
    "start_time": "2022-12-17T12:20:50.631Z"
   },
   {
    "duration": 0,
    "start_time": "2022-12-17T12:20:50.632Z"
   },
   {
    "duration": 0,
    "start_time": "2022-12-17T12:20:50.633Z"
   },
   {
    "duration": 0,
    "start_time": "2022-12-17T12:20:50.634Z"
   },
   {
    "duration": 0,
    "start_time": "2022-12-17T12:20:50.635Z"
   },
   {
    "duration": 0,
    "start_time": "2022-12-17T12:20:50.636Z"
   },
   {
    "duration": 0,
    "start_time": "2022-12-17T12:20:50.655Z"
   },
   {
    "duration": 0,
    "start_time": "2022-12-17T12:20:50.657Z"
   },
   {
    "duration": 0,
    "start_time": "2022-12-17T12:20:50.658Z"
   },
   {
    "duration": 0,
    "start_time": "2022-12-17T12:20:50.659Z"
   },
   {
    "duration": 0,
    "start_time": "2022-12-17T12:20:50.660Z"
   },
   {
    "duration": 0,
    "start_time": "2022-12-17T12:20:50.661Z"
   },
   {
    "duration": 0,
    "start_time": "2022-12-17T12:20:50.663Z"
   },
   {
    "duration": 0,
    "start_time": "2022-12-17T12:20:50.664Z"
   },
   {
    "duration": 0,
    "start_time": "2022-12-17T12:20:50.665Z"
   },
   {
    "duration": 0,
    "start_time": "2022-12-17T12:20:50.667Z"
   },
   {
    "duration": 0,
    "start_time": "2022-12-17T12:20:50.668Z"
   },
   {
    "duration": 1,
    "start_time": "2022-12-17T12:20:50.669Z"
   },
   {
    "duration": 0,
    "start_time": "2022-12-17T12:20:50.671Z"
   },
   {
    "duration": 0,
    "start_time": "2022-12-17T12:20:50.673Z"
   },
   {
    "duration": 0,
    "start_time": "2022-12-17T12:20:50.674Z"
   },
   {
    "duration": 0,
    "start_time": "2022-12-17T12:20:50.675Z"
   },
   {
    "duration": 0,
    "start_time": "2022-12-17T12:20:50.676Z"
   },
   {
    "duration": 0,
    "start_time": "2022-12-17T12:20:50.678Z"
   },
   {
    "duration": 0,
    "start_time": "2022-12-17T12:20:50.679Z"
   },
   {
    "duration": 0,
    "start_time": "2022-12-17T12:20:50.680Z"
   },
   {
    "duration": 0,
    "start_time": "2022-12-17T12:20:50.681Z"
   },
   {
    "duration": 0,
    "start_time": "2022-12-17T12:20:50.682Z"
   },
   {
    "duration": 0,
    "start_time": "2022-12-17T12:20:50.683Z"
   },
   {
    "duration": 0,
    "start_time": "2022-12-17T12:20:50.683Z"
   },
   {
    "duration": 0,
    "start_time": "2022-12-17T12:20:50.684Z"
   },
   {
    "duration": 0,
    "start_time": "2022-12-17T12:20:50.686Z"
   },
   {
    "duration": 0,
    "start_time": "2022-12-17T12:20:50.686Z"
   },
   {
    "duration": 0,
    "start_time": "2022-12-17T12:20:50.688Z"
   },
   {
    "duration": 0,
    "start_time": "2022-12-17T12:20:50.689Z"
   },
   {
    "duration": 0,
    "start_time": "2022-12-17T12:20:50.690Z"
   },
   {
    "duration": 0,
    "start_time": "2022-12-17T12:20:50.690Z"
   },
   {
    "duration": 0,
    "start_time": "2022-12-17T12:20:50.692Z"
   },
   {
    "duration": 0,
    "start_time": "2022-12-17T12:20:50.692Z"
   },
   {
    "duration": 0,
    "start_time": "2022-12-17T12:20:50.693Z"
   },
   {
    "duration": 0,
    "start_time": "2022-12-17T12:20:50.695Z"
   },
   {
    "duration": 0,
    "start_time": "2022-12-17T12:20:50.696Z"
   },
   {
    "duration": 0,
    "start_time": "2022-12-17T12:20:50.697Z"
   },
   {
    "duration": 0,
    "start_time": "2022-12-17T12:20:50.756Z"
   },
   {
    "duration": 0,
    "start_time": "2022-12-17T12:20:50.758Z"
   },
   {
    "duration": 0,
    "start_time": "2022-12-17T12:20:50.759Z"
   },
   {
    "duration": 0,
    "start_time": "2022-12-17T12:20:50.762Z"
   },
   {
    "duration": 0,
    "start_time": "2022-12-17T12:20:50.764Z"
   },
   {
    "duration": 0,
    "start_time": "2022-12-17T12:20:50.765Z"
   },
   {
    "duration": 0,
    "start_time": "2022-12-17T12:20:50.769Z"
   },
   {
    "duration": 0,
    "start_time": "2022-12-17T12:20:50.771Z"
   },
   {
    "duration": 0,
    "start_time": "2022-12-17T12:20:50.775Z"
   },
   {
    "duration": 0,
    "start_time": "2022-12-17T12:20:50.777Z"
   },
   {
    "duration": 0,
    "start_time": "2022-12-17T12:20:50.778Z"
   },
   {
    "duration": 0,
    "start_time": "2022-12-17T12:20:50.780Z"
   },
   {
    "duration": 0,
    "start_time": "2022-12-17T12:20:50.781Z"
   },
   {
    "duration": 0,
    "start_time": "2022-12-17T12:20:50.783Z"
   },
   {
    "duration": 0,
    "start_time": "2022-12-17T12:20:50.784Z"
   },
   {
    "duration": 0,
    "start_time": "2022-12-17T12:20:50.786Z"
   },
   {
    "duration": 0,
    "start_time": "2022-12-17T12:20:50.788Z"
   },
   {
    "duration": 0,
    "start_time": "2022-12-17T12:20:50.789Z"
   },
   {
    "duration": 0,
    "start_time": "2022-12-17T12:20:50.790Z"
   },
   {
    "duration": 0,
    "start_time": "2022-12-17T12:20:50.792Z"
   },
   {
    "duration": 0,
    "start_time": "2022-12-17T12:20:50.793Z"
   },
   {
    "duration": 0,
    "start_time": "2022-12-17T12:20:50.795Z"
   },
   {
    "duration": 0,
    "start_time": "2022-12-17T12:20:50.796Z"
   },
   {
    "duration": 0,
    "start_time": "2022-12-17T12:20:50.797Z"
   },
   {
    "duration": 0,
    "start_time": "2022-12-17T12:20:50.856Z"
   },
   {
    "duration": 1,
    "start_time": "2022-12-17T12:20:50.857Z"
   },
   {
    "duration": 0,
    "start_time": "2022-12-17T12:20:50.859Z"
   },
   {
    "duration": 0,
    "start_time": "2022-12-17T12:20:50.860Z"
   },
   {
    "duration": 0,
    "start_time": "2022-12-17T12:20:50.862Z"
   },
   {
    "duration": 0,
    "start_time": "2022-12-17T12:20:50.863Z"
   },
   {
    "duration": 0,
    "start_time": "2022-12-17T12:20:50.865Z"
   },
   {
    "duration": 0,
    "start_time": "2022-12-17T12:20:50.866Z"
   },
   {
    "duration": 0,
    "start_time": "2022-12-17T12:20:50.867Z"
   },
   {
    "duration": 0,
    "start_time": "2022-12-17T12:20:50.869Z"
   },
   {
    "duration": 0,
    "start_time": "2022-12-17T12:20:50.870Z"
   },
   {
    "duration": 0,
    "start_time": "2022-12-17T12:20:50.871Z"
   },
   {
    "duration": 0,
    "start_time": "2022-12-17T12:20:50.873Z"
   },
   {
    "duration": 0,
    "start_time": "2022-12-17T12:20:50.874Z"
   },
   {
    "duration": 0,
    "start_time": "2022-12-17T12:20:50.876Z"
   },
   {
    "duration": 0,
    "start_time": "2022-12-17T12:20:50.877Z"
   },
   {
    "duration": 0,
    "start_time": "2022-12-17T12:20:50.879Z"
   },
   {
    "duration": 0,
    "start_time": "2022-12-17T12:20:50.880Z"
   },
   {
    "duration": 0,
    "start_time": "2022-12-17T12:20:50.881Z"
   },
   {
    "duration": 0,
    "start_time": "2022-12-17T12:20:50.883Z"
   },
   {
    "duration": 0,
    "start_time": "2022-12-17T12:20:50.884Z"
   },
   {
    "duration": 0,
    "start_time": "2022-12-17T12:20:50.886Z"
   },
   {
    "duration": 0,
    "start_time": "2022-12-17T12:20:50.889Z"
   },
   {
    "duration": 0,
    "start_time": "2022-12-17T12:20:50.890Z"
   },
   {
    "duration": 0,
    "start_time": "2022-12-17T12:20:50.891Z"
   },
   {
    "duration": 1,
    "start_time": "2022-12-17T12:20:50.893Z"
   },
   {
    "duration": 0,
    "start_time": "2022-12-17T12:20:50.895Z"
   },
   {
    "duration": 0,
    "start_time": "2022-12-17T12:20:50.896Z"
   },
   {
    "duration": 0,
    "start_time": "2022-12-17T12:20:50.956Z"
   },
   {
    "duration": 0,
    "start_time": "2022-12-17T12:20:50.957Z"
   },
   {
    "duration": 0,
    "start_time": "2022-12-17T12:20:50.959Z"
   },
   {
    "duration": 0,
    "start_time": "2022-12-17T12:20:50.960Z"
   },
   {
    "duration": 0,
    "start_time": "2022-12-17T12:20:50.962Z"
   },
   {
    "duration": 0,
    "start_time": "2022-12-17T12:20:50.963Z"
   },
   {
    "duration": 0,
    "start_time": "2022-12-17T12:20:50.965Z"
   },
   {
    "duration": 0,
    "start_time": "2022-12-17T12:20:50.966Z"
   },
   {
    "duration": 0,
    "start_time": "2022-12-17T12:20:50.967Z"
   },
   {
    "duration": 0,
    "start_time": "2022-12-17T12:20:50.969Z"
   },
   {
    "duration": 0,
    "start_time": "2022-12-17T12:20:50.971Z"
   },
   {
    "duration": 0,
    "start_time": "2022-12-17T12:20:50.972Z"
   },
   {
    "duration": 0,
    "start_time": "2022-12-17T12:20:50.973Z"
   },
   {
    "duration": 0,
    "start_time": "2022-12-17T12:20:50.975Z"
   },
   {
    "duration": 0,
    "start_time": "2022-12-17T12:20:50.976Z"
   },
   {
    "duration": 12,
    "start_time": "2022-12-17T12:21:47.194Z"
   },
   {
    "duration": 781,
    "start_time": "2022-12-17T12:22:05.213Z"
   },
   {
    "duration": 48,
    "start_time": "2023-04-08T16:17:42.899Z"
   },
   {
    "duration": 1384,
    "start_time": "2023-04-08T16:17:50.173Z"
   },
   {
    "duration": 10,
    "start_time": "2023-04-08T16:17:51.559Z"
   },
   {
    "duration": 50,
    "start_time": "2023-04-08T16:17:51.570Z"
   },
   {
    "duration": 149,
    "start_time": "2023-04-08T16:17:51.623Z"
   },
   {
    "duration": 0,
    "start_time": "2023-04-08T16:17:51.776Z"
   },
   {
    "duration": 0,
    "start_time": "2023-04-08T16:17:51.778Z"
   },
   {
    "duration": 0,
    "start_time": "2023-04-08T16:17:51.780Z"
   },
   {
    "duration": 0,
    "start_time": "2023-04-08T16:17:51.783Z"
   },
   {
    "duration": 0,
    "start_time": "2023-04-08T16:17:51.784Z"
   },
   {
    "duration": 0,
    "start_time": "2023-04-08T16:17:51.785Z"
   },
   {
    "duration": 0,
    "start_time": "2023-04-08T16:17:51.786Z"
   },
   {
    "duration": 0,
    "start_time": "2023-04-08T16:17:51.787Z"
   },
   {
    "duration": 0,
    "start_time": "2023-04-08T16:17:51.788Z"
   },
   {
    "duration": 0,
    "start_time": "2023-04-08T16:17:51.789Z"
   },
   {
    "duration": 0,
    "start_time": "2023-04-08T16:17:51.790Z"
   },
   {
    "duration": 0,
    "start_time": "2023-04-08T16:17:51.791Z"
   },
   {
    "duration": 0,
    "start_time": "2023-04-08T16:17:51.792Z"
   },
   {
    "duration": 0,
    "start_time": "2023-04-08T16:17:51.793Z"
   },
   {
    "duration": 0,
    "start_time": "2023-04-08T16:17:51.794Z"
   },
   {
    "duration": 0,
    "start_time": "2023-04-08T16:17:51.796Z"
   },
   {
    "duration": 0,
    "start_time": "2023-04-08T16:17:51.797Z"
   },
   {
    "duration": 0,
    "start_time": "2023-04-08T16:17:51.798Z"
   },
   {
    "duration": 0,
    "start_time": "2023-04-08T16:17:51.799Z"
   },
   {
    "duration": 0,
    "start_time": "2023-04-08T16:17:51.799Z"
   },
   {
    "duration": 0,
    "start_time": "2023-04-08T16:17:51.800Z"
   },
   {
    "duration": 0,
    "start_time": "2023-04-08T16:17:51.801Z"
   },
   {
    "duration": 0,
    "start_time": "2023-04-08T16:17:51.803Z"
   },
   {
    "duration": 0,
    "start_time": "2023-04-08T16:17:51.804Z"
   },
   {
    "duration": 0,
    "start_time": "2023-04-08T16:17:51.805Z"
   },
   {
    "duration": 0,
    "start_time": "2023-04-08T16:17:51.806Z"
   },
   {
    "duration": 0,
    "start_time": "2023-04-08T16:17:51.808Z"
   },
   {
    "duration": 0,
    "start_time": "2023-04-08T16:17:51.809Z"
   },
   {
    "duration": 0,
    "start_time": "2023-04-08T16:17:51.810Z"
   },
   {
    "duration": 1,
    "start_time": "2023-04-08T16:17:51.811Z"
   },
   {
    "duration": 0,
    "start_time": "2023-04-08T16:17:51.813Z"
   },
   {
    "duration": 0,
    "start_time": "2023-04-08T16:17:51.814Z"
   },
   {
    "duration": 0,
    "start_time": "2023-04-08T16:17:51.816Z"
   },
   {
    "duration": 0,
    "start_time": "2023-04-08T16:17:51.818Z"
   },
   {
    "duration": 0,
    "start_time": "2023-04-08T16:17:51.819Z"
   },
   {
    "duration": 0,
    "start_time": "2023-04-08T16:17:51.883Z"
   },
   {
    "duration": 0,
    "start_time": "2023-04-08T16:17:51.884Z"
   },
   {
    "duration": 0,
    "start_time": "2023-04-08T16:17:51.886Z"
   },
   {
    "duration": 0,
    "start_time": "2023-04-08T16:17:51.888Z"
   },
   {
    "duration": 0,
    "start_time": "2023-04-08T16:17:51.889Z"
   },
   {
    "duration": 0,
    "start_time": "2023-04-08T16:17:51.890Z"
   },
   {
    "duration": 0,
    "start_time": "2023-04-08T16:17:51.891Z"
   },
   {
    "duration": 0,
    "start_time": "2023-04-08T16:17:51.893Z"
   },
   {
    "duration": 0,
    "start_time": "2023-04-08T16:17:51.894Z"
   },
   {
    "duration": 0,
    "start_time": "2023-04-08T16:17:51.895Z"
   },
   {
    "duration": 1,
    "start_time": "2023-04-08T16:17:51.896Z"
   },
   {
    "duration": 0,
    "start_time": "2023-04-08T16:17:51.898Z"
   },
   {
    "duration": 0,
    "start_time": "2023-04-08T16:17:51.899Z"
   },
   {
    "duration": 0,
    "start_time": "2023-04-08T16:17:51.900Z"
   },
   {
    "duration": 0,
    "start_time": "2023-04-08T16:17:51.901Z"
   },
   {
    "duration": 0,
    "start_time": "2023-04-08T16:17:51.903Z"
   },
   {
    "duration": 0,
    "start_time": "2023-04-08T16:17:51.904Z"
   },
   {
    "duration": 0,
    "start_time": "2023-04-08T16:17:51.905Z"
   },
   {
    "duration": 0,
    "start_time": "2023-04-08T16:17:51.906Z"
   },
   {
    "duration": 0,
    "start_time": "2023-04-08T16:17:51.907Z"
   },
   {
    "duration": 0,
    "start_time": "2023-04-08T16:17:51.908Z"
   },
   {
    "duration": 0,
    "start_time": "2023-04-08T16:17:51.909Z"
   },
   {
    "duration": 0,
    "start_time": "2023-04-08T16:17:51.910Z"
   },
   {
    "duration": 0,
    "start_time": "2023-04-08T16:17:51.911Z"
   },
   {
    "duration": 0,
    "start_time": "2023-04-08T16:17:51.912Z"
   },
   {
    "duration": 0,
    "start_time": "2023-04-08T16:17:51.913Z"
   },
   {
    "duration": 0,
    "start_time": "2023-04-08T16:17:51.915Z"
   },
   {
    "duration": 0,
    "start_time": "2023-04-08T16:17:51.916Z"
   },
   {
    "duration": 0,
    "start_time": "2023-04-08T16:17:51.917Z"
   },
   {
    "duration": 0,
    "start_time": "2023-04-08T16:17:51.919Z"
   },
   {
    "duration": 0,
    "start_time": "2023-04-08T16:17:51.920Z"
   },
   {
    "duration": 0,
    "start_time": "2023-04-08T16:17:51.921Z"
   },
   {
    "duration": 0,
    "start_time": "2023-04-08T16:17:51.983Z"
   },
   {
    "duration": 0,
    "start_time": "2023-04-08T16:17:51.985Z"
   },
   {
    "duration": 0,
    "start_time": "2023-04-08T16:17:51.986Z"
   },
   {
    "duration": 0,
    "start_time": "2023-04-08T16:17:51.988Z"
   },
   {
    "duration": 0,
    "start_time": "2023-04-08T16:17:51.989Z"
   },
   {
    "duration": 1,
    "start_time": "2023-04-08T16:17:51.990Z"
   },
   {
    "duration": 0,
    "start_time": "2023-04-08T16:17:51.992Z"
   },
   {
    "duration": 0,
    "start_time": "2023-04-08T16:17:51.993Z"
   },
   {
    "duration": 0,
    "start_time": "2023-04-08T16:17:51.994Z"
   },
   {
    "duration": 0,
    "start_time": "2023-04-08T16:17:51.995Z"
   },
   {
    "duration": 0,
    "start_time": "2023-04-08T16:17:51.996Z"
   },
   {
    "duration": 0,
    "start_time": "2023-04-08T16:17:51.997Z"
   },
   {
    "duration": 0,
    "start_time": "2023-04-08T16:17:51.999Z"
   },
   {
    "duration": 0,
    "start_time": "2023-04-08T16:17:52.000Z"
   },
   {
    "duration": 0,
    "start_time": "2023-04-08T16:17:52.001Z"
   },
   {
    "duration": 0,
    "start_time": "2023-04-08T16:17:52.003Z"
   },
   {
    "duration": 0,
    "start_time": "2023-04-08T16:17:52.004Z"
   },
   {
    "duration": 0,
    "start_time": "2023-04-08T16:17:52.005Z"
   },
   {
    "duration": 0,
    "start_time": "2023-04-08T16:17:52.006Z"
   },
   {
    "duration": 0,
    "start_time": "2023-04-08T16:17:52.008Z"
   },
   {
    "duration": 0,
    "start_time": "2023-04-08T16:17:52.009Z"
   },
   {
    "duration": 1,
    "start_time": "2023-04-08T16:17:52.010Z"
   },
   {
    "duration": 0,
    "start_time": "2023-04-08T16:17:52.012Z"
   },
   {
    "duration": 0,
    "start_time": "2023-04-08T16:17:52.013Z"
   },
   {
    "duration": 0,
    "start_time": "2023-04-08T16:17:52.014Z"
   },
   {
    "duration": 0,
    "start_time": "2023-04-08T16:17:52.016Z"
   },
   {
    "duration": 0,
    "start_time": "2023-04-08T16:17:52.017Z"
   },
   {
    "duration": 0,
    "start_time": "2023-04-08T16:17:52.018Z"
   },
   {
    "duration": 0,
    "start_time": "2023-04-08T16:17:52.019Z"
   },
   {
    "duration": 0,
    "start_time": "2023-04-08T16:17:52.020Z"
   },
   {
    "duration": 0,
    "start_time": "2023-04-08T16:17:52.021Z"
   },
   {
    "duration": 0,
    "start_time": "2023-04-08T16:17:52.022Z"
   },
   {
    "duration": 0,
    "start_time": "2023-04-08T16:17:52.084Z"
   },
   {
    "duration": 0,
    "start_time": "2023-04-08T16:17:52.086Z"
   },
   {
    "duration": 0,
    "start_time": "2023-04-08T16:17:52.087Z"
   },
   {
    "duration": 0,
    "start_time": "2023-04-08T16:17:52.089Z"
   },
   {
    "duration": 0,
    "start_time": "2023-04-08T16:17:52.090Z"
   },
   {
    "duration": 0,
    "start_time": "2023-04-08T16:17:52.091Z"
   },
   {
    "duration": 0,
    "start_time": "2023-04-08T16:17:52.093Z"
   },
   {
    "duration": 0,
    "start_time": "2023-04-08T16:17:52.095Z"
   },
   {
    "duration": 0,
    "start_time": "2023-04-08T16:17:52.095Z"
   },
   {
    "duration": 0,
    "start_time": "2023-04-08T16:17:52.097Z"
   },
   {
    "duration": 0,
    "start_time": "2023-04-08T16:17:52.099Z"
   },
   {
    "duration": 0,
    "start_time": "2023-04-08T16:17:52.100Z"
   },
   {
    "duration": 0,
    "start_time": "2023-04-08T16:17:52.101Z"
   },
   {
    "duration": 0,
    "start_time": "2023-04-08T16:17:52.102Z"
   },
   {
    "duration": 0,
    "start_time": "2023-04-08T16:17:52.104Z"
   },
   {
    "duration": 0,
    "start_time": "2023-04-08T16:17:52.105Z"
   },
   {
    "duration": 0,
    "start_time": "2023-04-08T16:17:52.107Z"
   },
   {
    "duration": 0,
    "start_time": "2023-04-08T16:17:52.108Z"
   },
   {
    "duration": 0,
    "start_time": "2023-04-08T16:17:52.109Z"
   },
   {
    "duration": 904,
    "start_time": "2023-04-08T16:18:00.277Z"
   },
   {
    "duration": 1209,
    "start_time": "2023-04-08T16:18:10.532Z"
   },
   {
    "duration": 10,
    "start_time": "2023-04-08T16:18:11.743Z"
   },
   {
    "duration": 16,
    "start_time": "2023-04-08T16:18:11.754Z"
   },
   {
    "duration": 125,
    "start_time": "2023-04-08T16:18:11.772Z"
   },
   {
    "duration": 0,
    "start_time": "2023-04-08T16:18:11.901Z"
   },
   {
    "duration": 0,
    "start_time": "2023-04-08T16:18:11.902Z"
   },
   {
    "duration": 0,
    "start_time": "2023-04-08T16:18:11.903Z"
   },
   {
    "duration": 0,
    "start_time": "2023-04-08T16:18:11.904Z"
   },
   {
    "duration": 0,
    "start_time": "2023-04-08T16:18:11.905Z"
   },
   {
    "duration": 0,
    "start_time": "2023-04-08T16:18:11.906Z"
   },
   {
    "duration": 0,
    "start_time": "2023-04-08T16:18:11.908Z"
   },
   {
    "duration": 0,
    "start_time": "2023-04-08T16:18:11.909Z"
   },
   {
    "duration": 0,
    "start_time": "2023-04-08T16:18:11.910Z"
   },
   {
    "duration": 0,
    "start_time": "2023-04-08T16:18:11.911Z"
   },
   {
    "duration": 0,
    "start_time": "2023-04-08T16:18:11.912Z"
   },
   {
    "duration": 0,
    "start_time": "2023-04-08T16:18:11.914Z"
   },
   {
    "duration": 0,
    "start_time": "2023-04-08T16:18:11.915Z"
   },
   {
    "duration": 0,
    "start_time": "2023-04-08T16:18:11.916Z"
   },
   {
    "duration": 0,
    "start_time": "2023-04-08T16:18:11.918Z"
   },
   {
    "duration": 0,
    "start_time": "2023-04-08T16:18:11.919Z"
   },
   {
    "duration": 0,
    "start_time": "2023-04-08T16:18:11.920Z"
   },
   {
    "duration": 0,
    "start_time": "2023-04-08T16:18:11.922Z"
   },
   {
    "duration": 0,
    "start_time": "2023-04-08T16:18:11.923Z"
   },
   {
    "duration": 0,
    "start_time": "2023-04-08T16:18:11.924Z"
   },
   {
    "duration": 0,
    "start_time": "2023-04-08T16:18:11.926Z"
   },
   {
    "duration": 0,
    "start_time": "2023-04-08T16:18:11.927Z"
   },
   {
    "duration": 0,
    "start_time": "2023-04-08T16:18:11.929Z"
   },
   {
    "duration": 0,
    "start_time": "2023-04-08T16:18:11.930Z"
   },
   {
    "duration": 0,
    "start_time": "2023-04-08T16:18:11.984Z"
   },
   {
    "duration": 0,
    "start_time": "2023-04-08T16:18:11.985Z"
   },
   {
    "duration": 0,
    "start_time": "2023-04-08T16:18:11.986Z"
   },
   {
    "duration": 1,
    "start_time": "2023-04-08T16:18:11.987Z"
   },
   {
    "duration": 0,
    "start_time": "2023-04-08T16:18:11.989Z"
   },
   {
    "duration": 0,
    "start_time": "2023-04-08T16:18:11.990Z"
   },
   {
    "duration": 0,
    "start_time": "2023-04-08T16:18:11.991Z"
   },
   {
    "duration": 0,
    "start_time": "2023-04-08T16:18:11.992Z"
   },
   {
    "duration": 0,
    "start_time": "2023-04-08T16:18:11.993Z"
   },
   {
    "duration": 0,
    "start_time": "2023-04-08T16:18:11.994Z"
   },
   {
    "duration": 0,
    "start_time": "2023-04-08T16:18:11.995Z"
   },
   {
    "duration": 0,
    "start_time": "2023-04-08T16:18:11.997Z"
   },
   {
    "duration": 0,
    "start_time": "2023-04-08T16:18:11.998Z"
   },
   {
    "duration": 0,
    "start_time": "2023-04-08T16:18:11.999Z"
   },
   {
    "duration": 0,
    "start_time": "2023-04-08T16:18:12.001Z"
   },
   {
    "duration": 0,
    "start_time": "2023-04-08T16:18:12.002Z"
   },
   {
    "duration": 0,
    "start_time": "2023-04-08T16:18:12.003Z"
   },
   {
    "duration": 0,
    "start_time": "2023-04-08T16:18:12.004Z"
   },
   {
    "duration": 0,
    "start_time": "2023-04-08T16:18:12.005Z"
   },
   {
    "duration": 0,
    "start_time": "2023-04-08T16:18:12.006Z"
   },
   {
    "duration": 0,
    "start_time": "2023-04-08T16:18:12.007Z"
   },
   {
    "duration": 0,
    "start_time": "2023-04-08T16:18:12.008Z"
   },
   {
    "duration": 0,
    "start_time": "2023-04-08T16:18:12.009Z"
   },
   {
    "duration": 0,
    "start_time": "2023-04-08T16:18:12.011Z"
   },
   {
    "duration": 0,
    "start_time": "2023-04-08T16:18:12.012Z"
   },
   {
    "duration": 0,
    "start_time": "2023-04-08T16:18:12.013Z"
   },
   {
    "duration": 0,
    "start_time": "2023-04-08T16:18:12.014Z"
   },
   {
    "duration": 0,
    "start_time": "2023-04-08T16:18:12.015Z"
   },
   {
    "duration": 0,
    "start_time": "2023-04-08T16:18:12.016Z"
   },
   {
    "duration": 0,
    "start_time": "2023-04-08T16:18:12.017Z"
   },
   {
    "duration": 0,
    "start_time": "2023-04-08T16:18:12.019Z"
   },
   {
    "duration": 0,
    "start_time": "2023-04-08T16:18:12.020Z"
   },
   {
    "duration": 0,
    "start_time": "2023-04-08T16:18:12.021Z"
   },
   {
    "duration": 0,
    "start_time": "2023-04-08T16:18:12.022Z"
   },
   {
    "duration": 0,
    "start_time": "2023-04-08T16:18:12.023Z"
   },
   {
    "duration": 1,
    "start_time": "2023-04-08T16:18:12.023Z"
   },
   {
    "duration": 0,
    "start_time": "2023-04-08T16:18:12.024Z"
   },
   {
    "duration": 0,
    "start_time": "2023-04-08T16:18:12.025Z"
   },
   {
    "duration": 0,
    "start_time": "2023-04-08T16:18:12.025Z"
   },
   {
    "duration": 0,
    "start_time": "2023-04-08T16:18:12.026Z"
   },
   {
    "duration": 0,
    "start_time": "2023-04-08T16:18:12.083Z"
   },
   {
    "duration": 0,
    "start_time": "2023-04-08T16:18:12.084Z"
   },
   {
    "duration": 0,
    "start_time": "2023-04-08T16:18:12.086Z"
   },
   {
    "duration": 0,
    "start_time": "2023-04-08T16:18:12.087Z"
   },
   {
    "duration": 0,
    "start_time": "2023-04-08T16:18:12.088Z"
   },
   {
    "duration": 0,
    "start_time": "2023-04-08T16:18:12.089Z"
   },
   {
    "duration": 0,
    "start_time": "2023-04-08T16:18:12.090Z"
   },
   {
    "duration": 0,
    "start_time": "2023-04-08T16:18:12.092Z"
   },
   {
    "duration": 0,
    "start_time": "2023-04-08T16:18:12.093Z"
   },
   {
    "duration": 0,
    "start_time": "2023-04-08T16:18:12.094Z"
   },
   {
    "duration": 0,
    "start_time": "2023-04-08T16:18:12.095Z"
   },
   {
    "duration": 0,
    "start_time": "2023-04-08T16:18:12.096Z"
   },
   {
    "duration": 0,
    "start_time": "2023-04-08T16:18:12.097Z"
   },
   {
    "duration": 0,
    "start_time": "2023-04-08T16:18:12.099Z"
   },
   {
    "duration": 0,
    "start_time": "2023-04-08T16:18:12.100Z"
   },
   {
    "duration": 0,
    "start_time": "2023-04-08T16:18:12.101Z"
   },
   {
    "duration": 0,
    "start_time": "2023-04-08T16:18:12.102Z"
   },
   {
    "duration": 0,
    "start_time": "2023-04-08T16:18:12.104Z"
   },
   {
    "duration": 0,
    "start_time": "2023-04-08T16:18:12.105Z"
   },
   {
    "duration": 0,
    "start_time": "2023-04-08T16:18:12.106Z"
   },
   {
    "duration": 0,
    "start_time": "2023-04-08T16:18:12.108Z"
   },
   {
    "duration": 0,
    "start_time": "2023-04-08T16:18:12.109Z"
   },
   {
    "duration": 0,
    "start_time": "2023-04-08T16:18:12.111Z"
   },
   {
    "duration": 0,
    "start_time": "2023-04-08T16:18:12.112Z"
   },
   {
    "duration": 0,
    "start_time": "2023-04-08T16:18:12.113Z"
   },
   {
    "duration": 0,
    "start_time": "2023-04-08T16:18:12.115Z"
   },
   {
    "duration": 0,
    "start_time": "2023-04-08T16:18:12.117Z"
   },
   {
    "duration": 0,
    "start_time": "2023-04-08T16:18:12.118Z"
   },
   {
    "duration": 0,
    "start_time": "2023-04-08T16:18:12.183Z"
   },
   {
    "duration": 0,
    "start_time": "2023-04-08T16:18:12.184Z"
   },
   {
    "duration": 0,
    "start_time": "2023-04-08T16:18:12.185Z"
   },
   {
    "duration": 0,
    "start_time": "2023-04-08T16:18:12.186Z"
   },
   {
    "duration": 0,
    "start_time": "2023-04-08T16:18:12.187Z"
   },
   {
    "duration": 0,
    "start_time": "2023-04-08T16:18:12.188Z"
   },
   {
    "duration": 0,
    "start_time": "2023-04-08T16:18:12.189Z"
   },
   {
    "duration": 0,
    "start_time": "2023-04-08T16:18:12.190Z"
   },
   {
    "duration": 0,
    "start_time": "2023-04-08T16:18:12.191Z"
   },
   {
    "duration": 0,
    "start_time": "2023-04-08T16:18:12.192Z"
   },
   {
    "duration": 0,
    "start_time": "2023-04-08T16:18:12.193Z"
   },
   {
    "duration": 0,
    "start_time": "2023-04-08T16:18:12.195Z"
   },
   {
    "duration": 0,
    "start_time": "2023-04-08T16:18:12.196Z"
   },
   {
    "duration": 0,
    "start_time": "2023-04-08T16:18:12.197Z"
   },
   {
    "duration": 0,
    "start_time": "2023-04-08T16:18:12.198Z"
   },
   {
    "duration": 0,
    "start_time": "2023-04-08T16:18:12.199Z"
   },
   {
    "duration": 0,
    "start_time": "2023-04-08T16:18:12.200Z"
   },
   {
    "duration": 0,
    "start_time": "2023-04-08T16:18:12.201Z"
   },
   {
    "duration": 0,
    "start_time": "2023-04-08T16:18:12.203Z"
   },
   {
    "duration": 0,
    "start_time": "2023-04-08T16:18:12.204Z"
   },
   {
    "duration": 0,
    "start_time": "2023-04-08T16:18:12.206Z"
   },
   {
    "duration": 0,
    "start_time": "2023-04-08T16:18:12.207Z"
   },
   {
    "duration": 0,
    "start_time": "2023-04-08T16:18:12.209Z"
   },
   {
    "duration": 0,
    "start_time": "2023-04-08T16:18:12.211Z"
   },
   {
    "duration": 0,
    "start_time": "2023-04-08T16:18:12.213Z"
   },
   {
    "duration": 0,
    "start_time": "2023-04-08T16:18:12.215Z"
   },
   {
    "duration": 12,
    "start_time": "2023-04-08T16:19:00.077Z"
   },
   {
    "duration": 11,
    "start_time": "2023-04-08T16:19:06.574Z"
   },
   {
    "duration": 51,
    "start_time": "2023-04-08T16:19:20.067Z"
   },
   {
    "duration": 1192,
    "start_time": "2023-04-08T16:19:21.717Z"
   },
   {
    "duration": 46,
    "start_time": "2023-04-08T16:19:39.378Z"
   },
   {
    "duration": 7,
    "start_time": "2023-04-08T16:19:44.501Z"
   },
   {
    "duration": 50,
    "start_time": "2023-04-08T16:19:57.681Z"
   },
   {
    "duration": 19,
    "start_time": "2023-04-08T16:19:59.370Z"
   },
   {
    "duration": 16,
    "start_time": "2023-04-08T16:20:01.303Z"
   },
   {
    "duration": 728,
    "start_time": "2023-04-08T16:20:02.708Z"
   },
   {
    "duration": 16,
    "start_time": "2023-04-08T16:20:05.946Z"
   },
   {
    "duration": 1630,
    "start_time": "2023-04-08T16:20:08.581Z"
   },
   {
    "duration": 0,
    "start_time": "2023-04-08T16:20:10.213Z"
   },
   {
    "duration": 1276,
    "start_time": "2023-04-08T16:20:56.051Z"
   },
   {
    "duration": 25,
    "start_time": "2023-04-08T16:20:57.329Z"
   },
   {
    "duration": 35,
    "start_time": "2023-04-08T16:20:57.356Z"
   },
   {
    "duration": 771,
    "start_time": "2023-04-08T16:20:57.393Z"
   },
   {
    "duration": 59,
    "start_time": "2023-04-08T16:20:58.165Z"
   },
   {
    "duration": 900,
    "start_time": "2023-04-08T16:20:58.225Z"
   },
   {
    "duration": 0,
    "start_time": "2023-04-08T16:20:59.131Z"
   },
   {
    "duration": 0,
    "start_time": "2023-04-08T16:20:59.132Z"
   },
   {
    "duration": 0,
    "start_time": "2023-04-08T16:20:59.134Z"
   },
   {
    "duration": 0,
    "start_time": "2023-04-08T16:20:59.135Z"
   },
   {
    "duration": 0,
    "start_time": "2023-04-08T16:20:59.136Z"
   },
   {
    "duration": 0,
    "start_time": "2023-04-08T16:20:59.137Z"
   },
   {
    "duration": 0,
    "start_time": "2023-04-08T16:20:59.139Z"
   },
   {
    "duration": 0,
    "start_time": "2023-04-08T16:20:59.140Z"
   },
   {
    "duration": 0,
    "start_time": "2023-04-08T16:20:59.141Z"
   },
   {
    "duration": 0,
    "start_time": "2023-04-08T16:20:59.143Z"
   },
   {
    "duration": 0,
    "start_time": "2023-04-08T16:20:59.144Z"
   },
   {
    "duration": 0,
    "start_time": "2023-04-08T16:20:59.145Z"
   },
   {
    "duration": 0,
    "start_time": "2023-04-08T16:20:59.146Z"
   },
   {
    "duration": 0,
    "start_time": "2023-04-08T16:20:59.148Z"
   },
   {
    "duration": 0,
    "start_time": "2023-04-08T16:20:59.149Z"
   },
   {
    "duration": 0,
    "start_time": "2023-04-08T16:20:59.151Z"
   },
   {
    "duration": 0,
    "start_time": "2023-04-08T16:20:59.152Z"
   },
   {
    "duration": 0,
    "start_time": "2023-04-08T16:20:59.153Z"
   },
   {
    "duration": 0,
    "start_time": "2023-04-08T16:20:59.154Z"
   },
   {
    "duration": 0,
    "start_time": "2023-04-08T16:20:59.155Z"
   },
   {
    "duration": 0,
    "start_time": "2023-04-08T16:20:59.156Z"
   },
   {
    "duration": 0,
    "start_time": "2023-04-08T16:20:59.157Z"
   },
   {
    "duration": 0,
    "start_time": "2023-04-08T16:20:59.159Z"
   },
   {
    "duration": 0,
    "start_time": "2023-04-08T16:20:59.160Z"
   },
   {
    "duration": 0,
    "start_time": "2023-04-08T16:20:59.161Z"
   },
   {
    "duration": 0,
    "start_time": "2023-04-08T16:20:59.161Z"
   },
   {
    "duration": 0,
    "start_time": "2023-04-08T16:20:59.162Z"
   },
   {
    "duration": 0,
    "start_time": "2023-04-08T16:20:59.163Z"
   },
   {
    "duration": 0,
    "start_time": "2023-04-08T16:20:59.164Z"
   },
   {
    "duration": 0,
    "start_time": "2023-04-08T16:20:59.165Z"
   },
   {
    "duration": 0,
    "start_time": "2023-04-08T16:20:59.166Z"
   },
   {
    "duration": 0,
    "start_time": "2023-04-08T16:20:59.167Z"
   },
   {
    "duration": 0,
    "start_time": "2023-04-08T16:20:59.183Z"
   },
   {
    "duration": 0,
    "start_time": "2023-04-08T16:20:59.184Z"
   },
   {
    "duration": 0,
    "start_time": "2023-04-08T16:20:59.185Z"
   },
   {
    "duration": 0,
    "start_time": "2023-04-08T16:20:59.186Z"
   },
   {
    "duration": 0,
    "start_time": "2023-04-08T16:20:59.187Z"
   },
   {
    "duration": 0,
    "start_time": "2023-04-08T16:20:59.188Z"
   },
   {
    "duration": 0,
    "start_time": "2023-04-08T16:20:59.189Z"
   },
   {
    "duration": 0,
    "start_time": "2023-04-08T16:20:59.190Z"
   },
   {
    "duration": 0,
    "start_time": "2023-04-08T16:20:59.192Z"
   },
   {
    "duration": 0,
    "start_time": "2023-04-08T16:20:59.192Z"
   },
   {
    "duration": 0,
    "start_time": "2023-04-08T16:20:59.193Z"
   },
   {
    "duration": 0,
    "start_time": "2023-04-08T16:20:59.195Z"
   },
   {
    "duration": 0,
    "start_time": "2023-04-08T16:20:59.196Z"
   },
   {
    "duration": 0,
    "start_time": "2023-04-08T16:20:59.196Z"
   },
   {
    "duration": 0,
    "start_time": "2023-04-08T16:20:59.197Z"
   },
   {
    "duration": 0,
    "start_time": "2023-04-08T16:20:59.198Z"
   },
   {
    "duration": 0,
    "start_time": "2023-04-08T16:20:59.200Z"
   },
   {
    "duration": 0,
    "start_time": "2023-04-08T16:20:59.201Z"
   },
   {
    "duration": 0,
    "start_time": "2023-04-08T16:20:59.202Z"
   },
   {
    "duration": 0,
    "start_time": "2023-04-08T16:20:59.203Z"
   },
   {
    "duration": 0,
    "start_time": "2023-04-08T16:20:59.204Z"
   },
   {
    "duration": 0,
    "start_time": "2023-04-08T16:20:59.205Z"
   },
   {
    "duration": 0,
    "start_time": "2023-04-08T16:20:59.206Z"
   },
   {
    "duration": 0,
    "start_time": "2023-04-08T16:20:59.208Z"
   },
   {
    "duration": 0,
    "start_time": "2023-04-08T16:20:59.208Z"
   },
   {
    "duration": 0,
    "start_time": "2023-04-08T16:20:59.210Z"
   },
   {
    "duration": 0,
    "start_time": "2023-04-08T16:20:59.211Z"
   },
   {
    "duration": 0,
    "start_time": "2023-04-08T16:20:59.212Z"
   },
   {
    "duration": 0,
    "start_time": "2023-04-08T16:20:59.213Z"
   },
   {
    "duration": 0,
    "start_time": "2023-04-08T16:20:59.214Z"
   },
   {
    "duration": 0,
    "start_time": "2023-04-08T16:20:59.215Z"
   },
   {
    "duration": 0,
    "start_time": "2023-04-08T16:20:59.216Z"
   },
   {
    "duration": 0,
    "start_time": "2023-04-08T16:20:59.217Z"
   },
   {
    "duration": 0,
    "start_time": "2023-04-08T16:20:59.218Z"
   },
   {
    "duration": 0,
    "start_time": "2023-04-08T16:20:59.219Z"
   },
   {
    "duration": 0,
    "start_time": "2023-04-08T16:20:59.220Z"
   },
   {
    "duration": 0,
    "start_time": "2023-04-08T16:20:59.221Z"
   },
   {
    "duration": 0,
    "start_time": "2023-04-08T16:20:59.283Z"
   },
   {
    "duration": 0,
    "start_time": "2023-04-08T16:20:59.285Z"
   },
   {
    "duration": 0,
    "start_time": "2023-04-08T16:20:59.286Z"
   },
   {
    "duration": 0,
    "start_time": "2023-04-08T16:20:59.286Z"
   },
   {
    "duration": 0,
    "start_time": "2023-04-08T16:20:59.287Z"
   },
   {
    "duration": 0,
    "start_time": "2023-04-08T16:20:59.289Z"
   },
   {
    "duration": 0,
    "start_time": "2023-04-08T16:20:59.290Z"
   },
   {
    "duration": 0,
    "start_time": "2023-04-08T16:20:59.291Z"
   },
   {
    "duration": 0,
    "start_time": "2023-04-08T16:20:59.292Z"
   },
   {
    "duration": 0,
    "start_time": "2023-04-08T16:20:59.293Z"
   },
   {
    "duration": 0,
    "start_time": "2023-04-08T16:20:59.294Z"
   },
   {
    "duration": 0,
    "start_time": "2023-04-08T16:20:59.295Z"
   },
   {
    "duration": 0,
    "start_time": "2023-04-08T16:20:59.296Z"
   },
   {
    "duration": 0,
    "start_time": "2023-04-08T16:20:59.297Z"
   },
   {
    "duration": 0,
    "start_time": "2023-04-08T16:20:59.298Z"
   },
   {
    "duration": 0,
    "start_time": "2023-04-08T16:20:59.299Z"
   },
   {
    "duration": 0,
    "start_time": "2023-04-08T16:20:59.300Z"
   },
   {
    "duration": 0,
    "start_time": "2023-04-08T16:20:59.302Z"
   },
   {
    "duration": 0,
    "start_time": "2023-04-08T16:20:59.303Z"
   },
   {
    "duration": 0,
    "start_time": "2023-04-08T16:20:59.304Z"
   },
   {
    "duration": 0,
    "start_time": "2023-04-08T16:20:59.305Z"
   },
   {
    "duration": 0,
    "start_time": "2023-04-08T16:20:59.306Z"
   },
   {
    "duration": 0,
    "start_time": "2023-04-08T16:20:59.307Z"
   },
   {
    "duration": 0,
    "start_time": "2023-04-08T16:20:59.308Z"
   },
   {
    "duration": 0,
    "start_time": "2023-04-08T16:20:59.309Z"
   },
   {
    "duration": 0,
    "start_time": "2023-04-08T16:20:59.310Z"
   },
   {
    "duration": 0,
    "start_time": "2023-04-08T16:20:59.311Z"
   },
   {
    "duration": 0,
    "start_time": "2023-04-08T16:20:59.312Z"
   },
   {
    "duration": 0,
    "start_time": "2023-04-08T16:20:59.314Z"
   },
   {
    "duration": 0,
    "start_time": "2023-04-08T16:20:59.315Z"
   },
   {
    "duration": 0,
    "start_time": "2023-04-08T16:20:59.316Z"
   },
   {
    "duration": 0,
    "start_time": "2023-04-08T16:20:59.317Z"
   },
   {
    "duration": 0,
    "start_time": "2023-04-08T16:20:59.317Z"
   },
   {
    "duration": 0,
    "start_time": "2023-04-08T16:20:59.319Z"
   },
   {
    "duration": 0,
    "start_time": "2023-04-08T16:20:59.320Z"
   },
   {
    "duration": 0,
    "start_time": "2023-04-08T16:20:59.388Z"
   },
   {
    "duration": 0,
    "start_time": "2023-04-08T16:20:59.390Z"
   },
   {
    "duration": 0,
    "start_time": "2023-04-08T16:20:59.392Z"
   },
   {
    "duration": 0,
    "start_time": "2023-04-08T16:20:59.393Z"
   },
   {
    "duration": 0,
    "start_time": "2023-04-08T16:20:59.395Z"
   },
   {
    "duration": 0,
    "start_time": "2023-04-08T16:20:59.396Z"
   },
   {
    "duration": 0,
    "start_time": "2023-04-08T16:20:59.397Z"
   },
   {
    "duration": 0,
    "start_time": "2023-04-08T16:20:59.398Z"
   },
   {
    "duration": 0,
    "start_time": "2023-04-08T16:20:59.399Z"
   },
   {
    "duration": 0,
    "start_time": "2023-04-08T16:20:59.400Z"
   },
   {
    "duration": 0,
    "start_time": "2023-04-08T16:20:59.401Z"
   },
   {
    "duration": 0,
    "start_time": "2023-04-08T16:20:59.402Z"
   },
   {
    "duration": 1097,
    "start_time": "2023-04-08T16:22:22.297Z"
   },
   {
    "duration": 51,
    "start_time": "2023-04-08T16:22:46.109Z"
   },
   {
    "duration": 290,
    "start_time": "2023-04-08T16:23:17.475Z"
   },
   {
    "duration": 7,
    "start_time": "2023-04-08T16:23:19.576Z"
   },
   {
    "duration": 96,
    "start_time": "2023-04-08T16:23:33.490Z"
   },
   {
    "duration": 37,
    "start_time": "2023-04-08T16:23:35.579Z"
   },
   {
    "duration": 15,
    "start_time": "2023-04-08T16:23:37.523Z"
   },
   {
    "duration": 1988,
    "start_time": "2023-04-08T16:23:38.376Z"
   },
   {
    "duration": 22,
    "start_time": "2023-04-08T16:23:40.366Z"
   },
   {
    "duration": 29,
    "start_time": "2023-04-08T16:23:41.008Z"
   },
   {
    "duration": 26,
    "start_time": "2023-04-08T16:23:42.818Z"
   },
   {
    "duration": 6,
    "start_time": "2023-04-08T16:23:43.471Z"
   },
   {
    "duration": 6,
    "start_time": "2023-04-08T16:23:43.711Z"
   },
   {
    "duration": 9,
    "start_time": "2023-04-08T16:23:44.049Z"
   },
   {
    "duration": 5,
    "start_time": "2023-04-08T16:23:44.575Z"
   },
   {
    "duration": 5,
    "start_time": "2023-04-08T16:23:44.718Z"
   },
   {
    "duration": 8,
    "start_time": "2023-04-08T16:23:45.072Z"
   },
   {
    "duration": 20,
    "start_time": "2023-04-08T16:23:47.004Z"
   },
   {
    "duration": 9,
    "start_time": "2023-04-08T16:23:47.704Z"
   },
   {
    "duration": 5,
    "start_time": "2023-04-08T16:23:48.796Z"
   },
   {
    "duration": 8,
    "start_time": "2023-04-08T16:23:49.079Z"
   },
   {
    "duration": 5,
    "start_time": "2023-04-08T16:23:50.175Z"
   },
   {
    "duration": 5,
    "start_time": "2023-04-08T16:23:50.579Z"
   },
   {
    "duration": 7,
    "start_time": "2023-04-08T16:23:54.273Z"
   },
   {
    "duration": 4,
    "start_time": "2023-04-08T16:24:10.676Z"
   },
   {
    "duration": 4,
    "start_time": "2023-04-08T16:24:12.181Z"
   },
   {
    "duration": 26,
    "start_time": "2023-04-08T16:24:14.935Z"
   },
   {
    "duration": 6,
    "start_time": "2023-04-08T16:24:18.097Z"
   }
  ],
  "kernelspec": {
   "display_name": "Python 3 (ipykernel)",
   "language": "python",
   "name": "python3"
  },
  "language_info": {
   "codemirror_mode": {
    "name": "ipython",
    "version": 3
   },
   "file_extension": ".py",
   "mimetype": "text/x-python",
   "name": "python",
   "nbconvert_exporter": "python",
   "pygments_lexer": "ipython3",
   "version": "3.9.12"
  },
  "toc": {
   "base_numbering": 1,
   "nav_menu": {},
   "number_sections": true,
   "sideBar": true,
   "skip_h1_title": true,
   "title_cell": "Table of Contents",
   "title_sidebar": "Contents",
   "toc_cell": false,
   "toc_position": {},
   "toc_section_display": true,
   "toc_window_display": true
  }
 },
 "nbformat": 4,
 "nbformat_minor": 2
}
