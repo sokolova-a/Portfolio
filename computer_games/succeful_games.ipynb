{
 "cells": [
  {
   "cell_type": "markdown",
   "metadata": {},
   "source": [
    "# Исследование о продажах компьютерных игр\n",
    "\n",
    "В нашем распоряжении исторические данные из открытых источников до 2016 г.: данные о продажах игр, оценки пользователей и экспертов, жанры и платформы. Нужно выявить определяющие успешность игры закономерности. Это позволит сделать ставку на потенциально популярный продукт и спланировать рекламные кампании.\n",
    "\n",
    "В наборе данных попадается аббревиатура ESRB (Entertainment Software Rating Board) — это ассоциация, определяющая возрастной рейтинг компьютерных игр. ESRB оценивает игровой контент и присваивает ему подходящую возрастную категорию, например, «Для взрослых», «Для детей младшего возраста» или «Для подростков»."
   ]
  },
  {
   "cell_type": "markdown",
   "metadata": {},
   "source": [
    "**Цель исследования:**\n",
    "\n",
    "1. Определить самые популярные компьютерные игры.\n",
    "2. Построить автоматизированную систему, которая сможет выявить потенциально популярные игры и спланировать рекламны компании.\n",
    "3. Выявить факторы, которые влияют на успешность компьютерной игры.\n",
    "\n",
    "**Ход исследования**\n",
    "\n",
    "Данные о компьютерных играх я получу из файла '/datasets/games.csv'. Данных за 2016 год могут быть неполными. О качество данных ничего неизвестно. Поэтому перед тем, как приступать к целям исследования, понадобится обзор данных.\n",
    "\n",
    "Я проверю данные на ошибки и оценю их влияние на исследование. Затем на этапе предобработки я поищу возможность исправить все ошибки данных, которые не приведут к искажению конечного результата. Далее создам необходимые столбцы и приступлю к проведению исследовательского анализа.\n",
    "\n",
    "Таким образом, моё исследование пройдёт в 10 этапов:\n",
    "1. [Обзор данных.](#section_1)\n",
    "2. [Предобработка данных.](#section_2)\n",
    "3. [Расчеты и добавление результатов в таблицу.](#section_3)\n",
    "4. [Исследовательский анализ данных.](#section_4)\n",
    "5. [Проведение анализа для топ-3 игровых платформ.](#section_5)\n",
    "6. [Проведение анализа пользовательской оценки и оценки критиков для самой популярной платформы.](#section_6)\n",
    "7. [Портрет пользователя Северной Америки, Европы и Японии.](#section_7)\n",
    "8. [Факторы, влияющие на успешность игры.](#section_8)\n",
    "9. [Проверка гипотез.](#section_9)\n",
    "10. [Написание общего вывода.](#section_10)"
   ]
  },
  {
   "cell_type": "markdown",
   "metadata": {},
   "source": [
    "### Общая информация об исходных данных\n",
    "<a id='section_1'></a>"
   ]
  },
  {
   "cell_type": "markdown",
   "metadata": {},
   "source": [
    "Импортируем библиотеки для дальнейшей работы с ними."
   ]
  },
  {
   "cell_type": "code",
   "execution_count": 1,
   "metadata": {},
   "outputs": [],
   "source": [
    "import pandas as pd\n",
    "import matplotlib.pyplot as plt \n",
    "import seaborn as sns\n",
    "import numpy as np\n",
    "from scipy import stats as st"
   ]
  },
  {
   "cell_type": "markdown",
   "metadata": {},
   "source": [
    "#### Импорт данных из csv-файла в датафрейм и сохранение в переменной `data`."
   ]
  },
  {
   "cell_type": "code",
   "execution_count": 2,
   "metadata": {},
   "outputs": [],
   "source": [
    "try:\n",
    "    data = pd.read_csv('/datasets/games.csv')\n",
    "except:\n",
    "    data = pd.read_csv('https://code.s3.yandex.net/datasets/games.csv', sep='\\t')"
   ]
  },
  {
   "cell_type": "markdown",
   "metadata": {},
   "source": [
    "#### Ознакомление с данными. Вывод первых 20 строк."
   ]
  },
  {
   "cell_type": "code",
   "execution_count": 3,
   "metadata": {},
   "outputs": [
    {
     "data": {
      "text/html": [
       "<div>\n",
       "<style scoped>\n",
       "    .dataframe tbody tr th:only-of-type {\n",
       "        vertical-align: middle;\n",
       "    }\n",
       "\n",
       "    .dataframe tbody tr th {\n",
       "        vertical-align: top;\n",
       "    }\n",
       "\n",
       "    .dataframe thead th {\n",
       "        text-align: right;\n",
       "    }\n",
       "</style>\n",
       "<table border=\"1\" class=\"dataframe\">\n",
       "  <thead>\n",
       "    <tr style=\"text-align: right;\">\n",
       "      <th></th>\n",
       "      <th>Name</th>\n",
       "      <th>Platform</th>\n",
       "      <th>Year_of_Release</th>\n",
       "      <th>Genre</th>\n",
       "      <th>NA_sales</th>\n",
       "      <th>EU_sales</th>\n",
       "      <th>JP_sales</th>\n",
       "      <th>Other_sales</th>\n",
       "      <th>Critic_Score</th>\n",
       "      <th>User_Score</th>\n",
       "      <th>Rating</th>\n",
       "    </tr>\n",
       "  </thead>\n",
       "  <tbody>\n",
       "    <tr>\n",
       "      <th>0</th>\n",
       "      <td>Wii Sports</td>\n",
       "      <td>Wii</td>\n",
       "      <td>2006.0</td>\n",
       "      <td>Sports</td>\n",
       "      <td>41.36</td>\n",
       "      <td>28.96</td>\n",
       "      <td>3.77</td>\n",
       "      <td>8.45</td>\n",
       "      <td>76.0</td>\n",
       "      <td>8</td>\n",
       "      <td>E</td>\n",
       "    </tr>\n",
       "    <tr>\n",
       "      <th>1</th>\n",
       "      <td>Super Mario Bros.</td>\n",
       "      <td>NES</td>\n",
       "      <td>1985.0</td>\n",
       "      <td>Platform</td>\n",
       "      <td>29.08</td>\n",
       "      <td>3.58</td>\n",
       "      <td>6.81</td>\n",
       "      <td>0.77</td>\n",
       "      <td>NaN</td>\n",
       "      <td>NaN</td>\n",
       "      <td>NaN</td>\n",
       "    </tr>\n",
       "    <tr>\n",
       "      <th>2</th>\n",
       "      <td>Mario Kart Wii</td>\n",
       "      <td>Wii</td>\n",
       "      <td>2008.0</td>\n",
       "      <td>Racing</td>\n",
       "      <td>15.68</td>\n",
       "      <td>12.76</td>\n",
       "      <td>3.79</td>\n",
       "      <td>3.29</td>\n",
       "      <td>82.0</td>\n",
       "      <td>8.3</td>\n",
       "      <td>E</td>\n",
       "    </tr>\n",
       "    <tr>\n",
       "      <th>3</th>\n",
       "      <td>Wii Sports Resort</td>\n",
       "      <td>Wii</td>\n",
       "      <td>2009.0</td>\n",
       "      <td>Sports</td>\n",
       "      <td>15.61</td>\n",
       "      <td>10.93</td>\n",
       "      <td>3.28</td>\n",
       "      <td>2.95</td>\n",
       "      <td>80.0</td>\n",
       "      <td>8</td>\n",
       "      <td>E</td>\n",
       "    </tr>\n",
       "    <tr>\n",
       "      <th>4</th>\n",
       "      <td>Pokemon Red/Pokemon Blue</td>\n",
       "      <td>GB</td>\n",
       "      <td>1996.0</td>\n",
       "      <td>Role-Playing</td>\n",
       "      <td>11.27</td>\n",
       "      <td>8.89</td>\n",
       "      <td>10.22</td>\n",
       "      <td>1.00</td>\n",
       "      <td>NaN</td>\n",
       "      <td>NaN</td>\n",
       "      <td>NaN</td>\n",
       "    </tr>\n",
       "    <tr>\n",
       "      <th>5</th>\n",
       "      <td>Tetris</td>\n",
       "      <td>GB</td>\n",
       "      <td>1989.0</td>\n",
       "      <td>Puzzle</td>\n",
       "      <td>23.20</td>\n",
       "      <td>2.26</td>\n",
       "      <td>4.22</td>\n",
       "      <td>0.58</td>\n",
       "      <td>NaN</td>\n",
       "      <td>NaN</td>\n",
       "      <td>NaN</td>\n",
       "    </tr>\n",
       "    <tr>\n",
       "      <th>6</th>\n",
       "      <td>New Super Mario Bros.</td>\n",
       "      <td>DS</td>\n",
       "      <td>2006.0</td>\n",
       "      <td>Platform</td>\n",
       "      <td>11.28</td>\n",
       "      <td>9.14</td>\n",
       "      <td>6.50</td>\n",
       "      <td>2.88</td>\n",
       "      <td>89.0</td>\n",
       "      <td>8.5</td>\n",
       "      <td>E</td>\n",
       "    </tr>\n",
       "    <tr>\n",
       "      <th>7</th>\n",
       "      <td>Wii Play</td>\n",
       "      <td>Wii</td>\n",
       "      <td>2006.0</td>\n",
       "      <td>Misc</td>\n",
       "      <td>13.96</td>\n",
       "      <td>9.18</td>\n",
       "      <td>2.93</td>\n",
       "      <td>2.84</td>\n",
       "      <td>58.0</td>\n",
       "      <td>6.6</td>\n",
       "      <td>E</td>\n",
       "    </tr>\n",
       "    <tr>\n",
       "      <th>8</th>\n",
       "      <td>New Super Mario Bros. Wii</td>\n",
       "      <td>Wii</td>\n",
       "      <td>2009.0</td>\n",
       "      <td>Platform</td>\n",
       "      <td>14.44</td>\n",
       "      <td>6.94</td>\n",
       "      <td>4.70</td>\n",
       "      <td>2.24</td>\n",
       "      <td>87.0</td>\n",
       "      <td>8.4</td>\n",
       "      <td>E</td>\n",
       "    </tr>\n",
       "    <tr>\n",
       "      <th>9</th>\n",
       "      <td>Duck Hunt</td>\n",
       "      <td>NES</td>\n",
       "      <td>1984.0</td>\n",
       "      <td>Shooter</td>\n",
       "      <td>26.93</td>\n",
       "      <td>0.63</td>\n",
       "      <td>0.28</td>\n",
       "      <td>0.47</td>\n",
       "      <td>NaN</td>\n",
       "      <td>NaN</td>\n",
       "      <td>NaN</td>\n",
       "    </tr>\n",
       "    <tr>\n",
       "      <th>10</th>\n",
       "      <td>Nintendogs</td>\n",
       "      <td>DS</td>\n",
       "      <td>2005.0</td>\n",
       "      <td>Simulation</td>\n",
       "      <td>9.05</td>\n",
       "      <td>10.95</td>\n",
       "      <td>1.93</td>\n",
       "      <td>2.74</td>\n",
       "      <td>NaN</td>\n",
       "      <td>NaN</td>\n",
       "      <td>NaN</td>\n",
       "    </tr>\n",
       "    <tr>\n",
       "      <th>11</th>\n",
       "      <td>Mario Kart DS</td>\n",
       "      <td>DS</td>\n",
       "      <td>2005.0</td>\n",
       "      <td>Racing</td>\n",
       "      <td>9.71</td>\n",
       "      <td>7.47</td>\n",
       "      <td>4.13</td>\n",
       "      <td>1.90</td>\n",
       "      <td>91.0</td>\n",
       "      <td>8.6</td>\n",
       "      <td>E</td>\n",
       "    </tr>\n",
       "    <tr>\n",
       "      <th>12</th>\n",
       "      <td>Pokemon Gold/Pokemon Silver</td>\n",
       "      <td>GB</td>\n",
       "      <td>1999.0</td>\n",
       "      <td>Role-Playing</td>\n",
       "      <td>9.00</td>\n",
       "      <td>6.18</td>\n",
       "      <td>7.20</td>\n",
       "      <td>0.71</td>\n",
       "      <td>NaN</td>\n",
       "      <td>NaN</td>\n",
       "      <td>NaN</td>\n",
       "    </tr>\n",
       "    <tr>\n",
       "      <th>13</th>\n",
       "      <td>Wii Fit</td>\n",
       "      <td>Wii</td>\n",
       "      <td>2007.0</td>\n",
       "      <td>Sports</td>\n",
       "      <td>8.92</td>\n",
       "      <td>8.03</td>\n",
       "      <td>3.60</td>\n",
       "      <td>2.15</td>\n",
       "      <td>80.0</td>\n",
       "      <td>7.7</td>\n",
       "      <td>E</td>\n",
       "    </tr>\n",
       "    <tr>\n",
       "      <th>14</th>\n",
       "      <td>Kinect Adventures!</td>\n",
       "      <td>X360</td>\n",
       "      <td>2010.0</td>\n",
       "      <td>Misc</td>\n",
       "      <td>15.00</td>\n",
       "      <td>4.89</td>\n",
       "      <td>0.24</td>\n",
       "      <td>1.69</td>\n",
       "      <td>61.0</td>\n",
       "      <td>6.3</td>\n",
       "      <td>E</td>\n",
       "    </tr>\n",
       "    <tr>\n",
       "      <th>15</th>\n",
       "      <td>Wii Fit Plus</td>\n",
       "      <td>Wii</td>\n",
       "      <td>2009.0</td>\n",
       "      <td>Sports</td>\n",
       "      <td>9.01</td>\n",
       "      <td>8.49</td>\n",
       "      <td>2.53</td>\n",
       "      <td>1.77</td>\n",
       "      <td>80.0</td>\n",
       "      <td>7.4</td>\n",
       "      <td>E</td>\n",
       "    </tr>\n",
       "    <tr>\n",
       "      <th>16</th>\n",
       "      <td>Grand Theft Auto V</td>\n",
       "      <td>PS3</td>\n",
       "      <td>2013.0</td>\n",
       "      <td>Action</td>\n",
       "      <td>7.02</td>\n",
       "      <td>9.09</td>\n",
       "      <td>0.98</td>\n",
       "      <td>3.96</td>\n",
       "      <td>97.0</td>\n",
       "      <td>8.2</td>\n",
       "      <td>M</td>\n",
       "    </tr>\n",
       "    <tr>\n",
       "      <th>17</th>\n",
       "      <td>Grand Theft Auto: San Andreas</td>\n",
       "      <td>PS2</td>\n",
       "      <td>2004.0</td>\n",
       "      <td>Action</td>\n",
       "      <td>9.43</td>\n",
       "      <td>0.40</td>\n",
       "      <td>0.41</td>\n",
       "      <td>10.57</td>\n",
       "      <td>95.0</td>\n",
       "      <td>9</td>\n",
       "      <td>M</td>\n",
       "    </tr>\n",
       "    <tr>\n",
       "      <th>18</th>\n",
       "      <td>Super Mario World</td>\n",
       "      <td>SNES</td>\n",
       "      <td>1990.0</td>\n",
       "      <td>Platform</td>\n",
       "      <td>12.78</td>\n",
       "      <td>3.75</td>\n",
       "      <td>3.54</td>\n",
       "      <td>0.55</td>\n",
       "      <td>NaN</td>\n",
       "      <td>NaN</td>\n",
       "      <td>NaN</td>\n",
       "    </tr>\n",
       "    <tr>\n",
       "      <th>19</th>\n",
       "      <td>Brain Age: Train Your Brain in Minutes a Day</td>\n",
       "      <td>DS</td>\n",
       "      <td>2005.0</td>\n",
       "      <td>Misc</td>\n",
       "      <td>4.74</td>\n",
       "      <td>9.20</td>\n",
       "      <td>4.16</td>\n",
       "      <td>2.04</td>\n",
       "      <td>77.0</td>\n",
       "      <td>7.9</td>\n",
       "      <td>E</td>\n",
       "    </tr>\n",
       "  </tbody>\n",
       "</table>\n",
       "</div>"
      ],
      "text/plain": [
       "                                            Name Platform  Year_of_Release  \\\n",
       "0                                     Wii Sports      Wii           2006.0   \n",
       "1                              Super Mario Bros.      NES           1985.0   \n",
       "2                                 Mario Kart Wii      Wii           2008.0   \n",
       "3                              Wii Sports Resort      Wii           2009.0   \n",
       "4                       Pokemon Red/Pokemon Blue       GB           1996.0   \n",
       "5                                         Tetris       GB           1989.0   \n",
       "6                          New Super Mario Bros.       DS           2006.0   \n",
       "7                                       Wii Play      Wii           2006.0   \n",
       "8                      New Super Mario Bros. Wii      Wii           2009.0   \n",
       "9                                      Duck Hunt      NES           1984.0   \n",
       "10                                    Nintendogs       DS           2005.0   \n",
       "11                                 Mario Kart DS       DS           2005.0   \n",
       "12                   Pokemon Gold/Pokemon Silver       GB           1999.0   \n",
       "13                                       Wii Fit      Wii           2007.0   \n",
       "14                            Kinect Adventures!     X360           2010.0   \n",
       "15                                  Wii Fit Plus      Wii           2009.0   \n",
       "16                            Grand Theft Auto V      PS3           2013.0   \n",
       "17                 Grand Theft Auto: San Andreas      PS2           2004.0   \n",
       "18                             Super Mario World     SNES           1990.0   \n",
       "19  Brain Age: Train Your Brain in Minutes a Day       DS           2005.0   \n",
       "\n",
       "           Genre  NA_sales  EU_sales  JP_sales  Other_sales  Critic_Score  \\\n",
       "0         Sports     41.36     28.96      3.77         8.45          76.0   \n",
       "1       Platform     29.08      3.58      6.81         0.77           NaN   \n",
       "2         Racing     15.68     12.76      3.79         3.29          82.0   \n",
       "3         Sports     15.61     10.93      3.28         2.95          80.0   \n",
       "4   Role-Playing     11.27      8.89     10.22         1.00           NaN   \n",
       "5         Puzzle     23.20      2.26      4.22         0.58           NaN   \n",
       "6       Platform     11.28      9.14      6.50         2.88          89.0   \n",
       "7           Misc     13.96      9.18      2.93         2.84          58.0   \n",
       "8       Platform     14.44      6.94      4.70         2.24          87.0   \n",
       "9        Shooter     26.93      0.63      0.28         0.47           NaN   \n",
       "10    Simulation      9.05     10.95      1.93         2.74           NaN   \n",
       "11        Racing      9.71      7.47      4.13         1.90          91.0   \n",
       "12  Role-Playing      9.00      6.18      7.20         0.71           NaN   \n",
       "13        Sports      8.92      8.03      3.60         2.15          80.0   \n",
       "14          Misc     15.00      4.89      0.24         1.69          61.0   \n",
       "15        Sports      9.01      8.49      2.53         1.77          80.0   \n",
       "16        Action      7.02      9.09      0.98         3.96          97.0   \n",
       "17        Action      9.43      0.40      0.41        10.57          95.0   \n",
       "18      Platform     12.78      3.75      3.54         0.55           NaN   \n",
       "19          Misc      4.74      9.20      4.16         2.04          77.0   \n",
       "\n",
       "   User_Score Rating  \n",
       "0           8      E  \n",
       "1         NaN    NaN  \n",
       "2         8.3      E  \n",
       "3           8      E  \n",
       "4         NaN    NaN  \n",
       "5         NaN    NaN  \n",
       "6         8.5      E  \n",
       "7         6.6      E  \n",
       "8         8.4      E  \n",
       "9         NaN    NaN  \n",
       "10        NaN    NaN  \n",
       "11        8.6      E  \n",
       "12        NaN    NaN  \n",
       "13        7.7      E  \n",
       "14        6.3      E  \n",
       "15        7.4      E  \n",
       "16        8.2      M  \n",
       "17          9      M  \n",
       "18        NaN    NaN  \n",
       "19        7.9      E  "
      ]
     },
     "execution_count": 3,
     "metadata": {},
     "output_type": "execute_result"
    }
   ],
   "source": [
    "data.head(20)"
   ]
  },
  {
   "cell_type": "markdown",
   "metadata": {},
   "source": [
    "#### Описание данных."
   ]
  },
  {
   "cell_type": "markdown",
   "metadata": {},
   "source": [
    "*Name* - название игры,\\\n",
    "*Platform* - игровая платформа,\\\n",
    "*Year_of_Release* - год выпуска игры,\\\n",
    "*Genre* - жанр игры,            \\\n",
    "*NA_sales* - количество продаж в Северной Америке, миллионы проданных копий, \\\n",
    "*EU_sales* - количество продаж в Европе, миллионы проданных копий,         \\\n",
    "*JP_sales* - количество продаж в Японии, миллионы проданных копий,         \\\n",
    "*Other_sales* - количество других продаж, миллионы проданных копий,     \\\n",
    "*Critic_Score* - оценка критиков (максимум 100),\\\n",
    "*User_Score* - оценка пользователей (максимум 100),\\\n",
    "*Rating* - возрастной рейтинг компьютерной игры. Используется только в США, Канаде и Мексике. Актуальные рейтинги:\n",
    "> EC - «early childhood» — для детей младшего возраста, \\\n",
    "> E - «еveryone» — для всех,\\\n",
    "> E10+ - «еveryone 10 and older» — для всех от 10 лет и старше,\\\n",
    "> T - «teen» — подросткам,\\\n",
    "> M - «mature» — для взрослых,\\\n",
    "> AO - «аdults Only 18+» — только для взрослых."
   ]
  },
  {
   "cell_type": "markdown",
   "metadata": {},
   "source": [
    "#### Вывод основной информации о датафрейме."
   ]
  },
  {
   "cell_type": "code",
   "execution_count": 4,
   "metadata": {
    "scrolled": true
   },
   "outputs": [
    {
     "name": "stdout",
     "output_type": "stream",
     "text": [
      "<class 'pandas.core.frame.DataFrame'>\n",
      "RangeIndex: 16715 entries, 0 to 16714\n",
      "Data columns (total 11 columns):\n",
      " #   Column           Non-Null Count  Dtype  \n",
      "---  ------           --------------  -----  \n",
      " 0   Name             16713 non-null  object \n",
      " 1   Platform         16715 non-null  object \n",
      " 2   Year_of_Release  16446 non-null  float64\n",
      " 3   Genre            16713 non-null  object \n",
      " 4   NA_sales         16715 non-null  float64\n",
      " 5   EU_sales         16715 non-null  float64\n",
      " 6   JP_sales         16715 non-null  float64\n",
      " 7   Other_sales      16715 non-null  float64\n",
      " 8   Critic_Score     8137 non-null   float64\n",
      " 9   User_Score       10014 non-null  object \n",
      " 10  Rating           9949 non-null   object \n",
      "dtypes: float64(6), object(5)\n",
      "memory usage: 1.4+ MB\n"
     ]
    }
   ],
   "source": [
    "data.info()"
   ]
  },
  {
   "cell_type": "markdown",
   "metadata": {},
   "source": [
    "#### Общая гистограмма для всех числовых столбцов таблицы"
   ]
  },
  {
   "cell_type": "code",
   "execution_count": 5,
   "metadata": {},
   "outputs": [
    {
     "data": {
      "image/png": "[encoded data removed]",
      "text/plain": [
       "<Figure size 1080x1440 with 6 Axes>"
      ]
     },
     "metadata": {
      "needs_background": "light"
     },
     "output_type": "display_data"
    }
   ],
   "source": [
    "data.hist(figsize=(15, 20), bins=30);"
   ]
  },
  {
   "cell_type": "markdown",
   "metadata": {},
   "source": [
    "### Предобработка данных\n",
    "<a id='section_2'></a>"
   ]
  },
  {
   "cell_type": "markdown",
   "metadata": {},
   "source": [
    "#### Изучение дубликатов."
   ]
  },
  {
   "cell_type": "markdown",
   "metadata": {},
   "source": [
    "Проверим датафрейм на наличие явных дубликатов."
   ]
  },
  {
   "cell_type": "code",
   "execution_count": 6,
   "metadata": {},
   "outputs": [
    {
     "data": {
      "text/plain": [
       "0"
      ]
     },
     "execution_count": 6,
     "metadata": {},
     "output_type": "execute_result"
    }
   ],
   "source": [
    "data.duplicated().sum()"
   ]
  },
  {
   "cell_type": "markdown",
   "metadata": {},
   "source": [
    "В датафрейме явных дубликатов нет. Плюс в копилочку однородности данных."
   ]
  },
  {
   "cell_type": "code",
   "execution_count": 7,
   "metadata": {},
   "outputs": [
    {
     "name": "stdout",
     "output_type": "stream",
     "text": [
      "<class 'pandas.core.frame.DataFrame'>\n",
      "RangeIndex: 16715 entries, 0 to 16714\n",
      "Data columns (total 11 columns):\n",
      " #   Column           Non-Null Count  Dtype  \n",
      "---  ------           --------------  -----  \n",
      " 0   Name             16713 non-null  object \n",
      " 1   Platform         16715 non-null  object \n",
      " 2   Year_of_Release  16446 non-null  float64\n",
      " 3   Genre            16713 non-null  object \n",
      " 4   NA_sales         16715 non-null  float64\n",
      " 5   EU_sales         16715 non-null  float64\n",
      " 6   JP_sales         16715 non-null  float64\n",
      " 7   Other_sales      16715 non-null  float64\n",
      " 8   Critic_Score     8137 non-null   float64\n",
      " 9   User_Score       10014 non-null  object \n",
      " 10  Rating           9949 non-null   object \n",
      "dtypes: float64(6), object(5)\n",
      "memory usage: 1.4+ MB\n"
     ]
    }
   ],
   "source": [
    "data.info()"
   ]
  },
  {
   "cell_type": "markdown",
   "metadata": {},
   "source": [
    "#### Переименование столбцов."
   ]
  },
  {
   "cell_type": "markdown",
   "metadata": {},
   "source": [
    "Приведём названия столбцов к нижнему регистру."
   ]
  },
  {
   "cell_type": "code",
   "execution_count": 8,
   "metadata": {},
   "outputs": [],
   "source": [
    "#data = data.rename(columns= {'Name': 'name',\\\n",
    "                     #'Platform': 'platform',\\\n",
    "                     #'Year_of_Release': 'year_of_release',\\\n",
    "                     #'Genre': 'genre',\\\n",
    "                     #'NA_sales': 'na_sales',\\\n",
    "                     #'EU_sales': 'eu_sales',\\\n",
    "                     #'JP_sales': 'jp_sales',\\\n",
    "                     #'Other_sales': 'other_sales',\\\n",
    "                     #'Critic_Score': 'critic_score',\\\n",
    "                     #'User_Score': 'user_score',\\\n",
    "                     #'Rating': 'rating'})\n",
    "                        \n",
    "data.columns = data.columns.str.lower()"
   ]
  },
  {
   "cell_type": "markdown",
   "metadata": {},
   "source": [
    "#### Поиск пропущенных значений и анализ причин пропусков данных. Изменение типов данных"
   ]
  },
  {
   "cell_type": "code",
   "execution_count": 9,
   "metadata": {},
   "outputs": [
    {
     "data": {
      "text/html": [
       "<style  type=\"text/css\" >\n",
       "#T_9a790_row0_col0,#T_9a790_row1_col0,#T_9a790_row3_col0,#T_9a790_row4_col0,#T_9a790_row5_col0,#T_9a790_row6_col0,#T_9a790_row7_col0{\n",
       "            background-color:  #3b4cc0;\n",
       "            color:  #f1f1f1;\n",
       "        }#T_9a790_row2_col0{\n",
       "            background-color:  #465ecf;\n",
       "            color:  #f1f1f1;\n",
       "        }#T_9a790_row8_col0{\n",
       "            background-color:  #b40426;\n",
       "            color:  #f1f1f1;\n",
       "        }#T_9a790_row9_col0,#T_9a790_row10_col0{\n",
       "            background-color:  #f08b6e;\n",
       "            color:  #000000;\n",
       "        }</style><table id=\"T_9a790_\" ><thead>    <tr>        <th class=\"blank level0\" ></th>        <th class=\"col_heading level0 col0\" >0</th>    </tr></thead><tbody>\n",
       "                <tr>\n",
       "                        <th id=\"T_9a790_level0_row0\" class=\"row_heading level0 row0\" >name</th>\n",
       "                        <td id=\"T_9a790_row0_col0\" class=\"data row0 col0\" >0.000000</td>\n",
       "            </tr>\n",
       "            <tr>\n",
       "                        <th id=\"T_9a790_level0_row1\" class=\"row_heading level0 row1\" >platform</th>\n",
       "                        <td id=\"T_9a790_row1_col0\" class=\"data row1 col0\" >0.000000</td>\n",
       "            </tr>\n",
       "            <tr>\n",
       "                        <th id=\"T_9a790_level0_row2\" class=\"row_heading level0 row2\" >year_of_release</th>\n",
       "                        <td id=\"T_9a790_row2_col0\" class=\"data row2 col0\" >2.000000</td>\n",
       "            </tr>\n",
       "            <tr>\n",
       "                        <th id=\"T_9a790_level0_row3\" class=\"row_heading level0 row3\" >genre</th>\n",
       "                        <td id=\"T_9a790_row3_col0\" class=\"data row3 col0\" >0.000000</td>\n",
       "            </tr>\n",
       "            <tr>\n",
       "                        <th id=\"T_9a790_level0_row4\" class=\"row_heading level0 row4\" >na_sales</th>\n",
       "                        <td id=\"T_9a790_row4_col0\" class=\"data row4 col0\" >0.000000</td>\n",
       "            </tr>\n",
       "            <tr>\n",
       "                        <th id=\"T_9a790_level0_row5\" class=\"row_heading level0 row5\" >eu_sales</th>\n",
       "                        <td id=\"T_9a790_row5_col0\" class=\"data row5 col0\" >0.000000</td>\n",
       "            </tr>\n",
       "            <tr>\n",
       "                        <th id=\"T_9a790_level0_row6\" class=\"row_heading level0 row6\" >jp_sales</th>\n",
       "                        <td id=\"T_9a790_row6_col0\" class=\"data row6 col0\" >0.000000</td>\n",
       "            </tr>\n",
       "            <tr>\n",
       "                        <th id=\"T_9a790_level0_row7\" class=\"row_heading level0 row7\" >other_sales</th>\n",
       "                        <td id=\"T_9a790_row7_col0\" class=\"data row7 col0\" >0.000000</td>\n",
       "            </tr>\n",
       "            <tr>\n",
       "                        <th id=\"T_9a790_level0_row8\" class=\"row_heading level0 row8\" >critic_score</th>\n",
       "                        <td id=\"T_9a790_row8_col0\" class=\"data row8 col0\" >51.000000</td>\n",
       "            </tr>\n",
       "            <tr>\n",
       "                        <th id=\"T_9a790_level0_row9\" class=\"row_heading level0 row9\" >user_score</th>\n",
       "                        <td id=\"T_9a790_row9_col0\" class=\"data row9 col0\" >40.000000</td>\n",
       "            </tr>\n",
       "            <tr>\n",
       "                        <th id=\"T_9a790_level0_row10\" class=\"row_heading level0 row10\" >rating</th>\n",
       "                        <td id=\"T_9a790_row10_col0\" class=\"data row10 col0\" >40.000000</td>\n",
       "            </tr>\n",
       "    </tbody></table>"
      ],
      "text/plain": [
       "<pandas.io.formats.style.Styler at 0x7f2863280c40>"
      ]
     },
     "execution_count": 9,
     "metadata": {},
     "output_type": "execute_result"
    }
   ],
   "source": [
    "pd.DataFrame(round(data.isna().mean()*100,)).style.background_gradient('coolwarm')"
   ]
  },
  {
   "cell_type": "markdown",
   "metadata": {},
   "source": [
    "Есть пропуски в следующих столбцах:\n",
    "+ year_of_release,\n",
    "+ critic_score,\n",
    "+ user_score, \n",
    "+ rating.\n",
    "\n",
    "Рассмотрим внимательнее эти столбцы."
   ]
  },
  {
   "cell_type": "code",
   "execution_count": 10,
   "metadata": {},
   "outputs": [
    {
     "data": {
      "text/html": [
       "<div>\n",
       "<style scoped>\n",
       "    .dataframe tbody tr th:only-of-type {\n",
       "        vertical-align: middle;\n",
       "    }\n",
       "\n",
       "    .dataframe tbody tr th {\n",
       "        vertical-align: top;\n",
       "    }\n",
       "\n",
       "    .dataframe thead th {\n",
       "        text-align: right;\n",
       "    }\n",
       "</style>\n",
       "<table border=\"1\" class=\"dataframe\">\n",
       "  <thead>\n",
       "    <tr style=\"text-align: right;\">\n",
       "      <th></th>\n",
       "      <th>name</th>\n",
       "      <th>platform</th>\n",
       "      <th>year_of_release</th>\n",
       "      <th>genre</th>\n",
       "      <th>na_sales</th>\n",
       "      <th>eu_sales</th>\n",
       "      <th>jp_sales</th>\n",
       "      <th>other_sales</th>\n",
       "      <th>critic_score</th>\n",
       "      <th>user_score</th>\n",
       "      <th>rating</th>\n",
       "    </tr>\n",
       "  </thead>\n",
       "  <tbody>\n",
       "    <tr>\n",
       "      <th>183</th>\n",
       "      <td>Madden NFL 2004</td>\n",
       "      <td>PS2</td>\n",
       "      <td>NaN</td>\n",
       "      <td>Sports</td>\n",
       "      <td>4.26</td>\n",
       "      <td>0.26</td>\n",
       "      <td>0.01</td>\n",
       "      <td>0.71</td>\n",
       "      <td>94.0</td>\n",
       "      <td>8.5</td>\n",
       "      <td>E</td>\n",
       "    </tr>\n",
       "    <tr>\n",
       "      <th>377</th>\n",
       "      <td>FIFA Soccer 2004</td>\n",
       "      <td>PS2</td>\n",
       "      <td>NaN</td>\n",
       "      <td>Sports</td>\n",
       "      <td>0.59</td>\n",
       "      <td>2.36</td>\n",
       "      <td>0.04</td>\n",
       "      <td>0.51</td>\n",
       "      <td>84.0</td>\n",
       "      <td>6.4</td>\n",
       "      <td>E</td>\n",
       "    </tr>\n",
       "    <tr>\n",
       "      <th>456</th>\n",
       "      <td>LEGO Batman: The Videogame</td>\n",
       "      <td>Wii</td>\n",
       "      <td>NaN</td>\n",
       "      <td>Action</td>\n",
       "      <td>1.80</td>\n",
       "      <td>0.97</td>\n",
       "      <td>0.00</td>\n",
       "      <td>0.29</td>\n",
       "      <td>74.0</td>\n",
       "      <td>7.9</td>\n",
       "      <td>E10+</td>\n",
       "    </tr>\n",
       "    <tr>\n",
       "      <th>475</th>\n",
       "      <td>wwe Smackdown vs. Raw 2006</td>\n",
       "      <td>PS2</td>\n",
       "      <td>NaN</td>\n",
       "      <td>Fighting</td>\n",
       "      <td>1.57</td>\n",
       "      <td>1.02</td>\n",
       "      <td>0.00</td>\n",
       "      <td>0.41</td>\n",
       "      <td>NaN</td>\n",
       "      <td>NaN</td>\n",
       "      <td>NaN</td>\n",
       "    </tr>\n",
       "    <tr>\n",
       "      <th>609</th>\n",
       "      <td>Space Invaders</td>\n",
       "      <td>2600</td>\n",
       "      <td>NaN</td>\n",
       "      <td>Shooter</td>\n",
       "      <td>2.36</td>\n",
       "      <td>0.14</td>\n",
       "      <td>0.00</td>\n",
       "      <td>0.03</td>\n",
       "      <td>NaN</td>\n",
       "      <td>NaN</td>\n",
       "      <td>NaN</td>\n",
       "    </tr>\n",
       "    <tr>\n",
       "      <th>...</th>\n",
       "      <td>...</td>\n",
       "      <td>...</td>\n",
       "      <td>...</td>\n",
       "      <td>...</td>\n",
       "      <td>...</td>\n",
       "      <td>...</td>\n",
       "      <td>...</td>\n",
       "      <td>...</td>\n",
       "      <td>...</td>\n",
       "      <td>...</td>\n",
       "      <td>...</td>\n",
       "    </tr>\n",
       "    <tr>\n",
       "      <th>16373</th>\n",
       "      <td>PDC World Championship Darts 2008</td>\n",
       "      <td>PSP</td>\n",
       "      <td>NaN</td>\n",
       "      <td>Sports</td>\n",
       "      <td>0.01</td>\n",
       "      <td>0.00</td>\n",
       "      <td>0.00</td>\n",
       "      <td>0.00</td>\n",
       "      <td>43.0</td>\n",
       "      <td>tbd</td>\n",
       "      <td>E10+</td>\n",
       "    </tr>\n",
       "    <tr>\n",
       "      <th>16405</th>\n",
       "      <td>Freaky Flyers</td>\n",
       "      <td>GC</td>\n",
       "      <td>NaN</td>\n",
       "      <td>Racing</td>\n",
       "      <td>0.01</td>\n",
       "      <td>0.00</td>\n",
       "      <td>0.00</td>\n",
       "      <td>0.00</td>\n",
       "      <td>69.0</td>\n",
       "      <td>6.5</td>\n",
       "      <td>T</td>\n",
       "    </tr>\n",
       "    <tr>\n",
       "      <th>16448</th>\n",
       "      <td>Inversion</td>\n",
       "      <td>PC</td>\n",
       "      <td>NaN</td>\n",
       "      <td>Shooter</td>\n",
       "      <td>0.01</td>\n",
       "      <td>0.00</td>\n",
       "      <td>0.00</td>\n",
       "      <td>0.00</td>\n",
       "      <td>59.0</td>\n",
       "      <td>6.7</td>\n",
       "      <td>M</td>\n",
       "    </tr>\n",
       "    <tr>\n",
       "      <th>16458</th>\n",
       "      <td>Hakuouki: Shinsengumi Kitan</td>\n",
       "      <td>PS3</td>\n",
       "      <td>NaN</td>\n",
       "      <td>Adventure</td>\n",
       "      <td>0.01</td>\n",
       "      <td>0.00</td>\n",
       "      <td>0.00</td>\n",
       "      <td>0.00</td>\n",
       "      <td>NaN</td>\n",
       "      <td>NaN</td>\n",
       "      <td>NaN</td>\n",
       "    </tr>\n",
       "    <tr>\n",
       "      <th>16522</th>\n",
       "      <td>Virtua Quest</td>\n",
       "      <td>GC</td>\n",
       "      <td>NaN</td>\n",
       "      <td>Role-Playing</td>\n",
       "      <td>0.01</td>\n",
       "      <td>0.00</td>\n",
       "      <td>0.00</td>\n",
       "      <td>0.00</td>\n",
       "      <td>55.0</td>\n",
       "      <td>5.5</td>\n",
       "      <td>T</td>\n",
       "    </tr>\n",
       "  </tbody>\n",
       "</table>\n",
       "<p>269 rows × 11 columns</p>\n",
       "</div>"
      ],
      "text/plain": [
       "                                    name platform  year_of_release  \\\n",
       "183                      Madden NFL 2004      PS2              NaN   \n",
       "377                     FIFA Soccer 2004      PS2              NaN   \n",
       "456           LEGO Batman: The Videogame      Wii              NaN   \n",
       "475           wwe Smackdown vs. Raw 2006      PS2              NaN   \n",
       "609                       Space Invaders     2600              NaN   \n",
       "...                                  ...      ...              ...   \n",
       "16373  PDC World Championship Darts 2008      PSP              NaN   \n",
       "16405                      Freaky Flyers       GC              NaN   \n",
       "16448                          Inversion       PC              NaN   \n",
       "16458        Hakuouki: Shinsengumi Kitan      PS3              NaN   \n",
       "16522                       Virtua Quest       GC              NaN   \n",
       "\n",
       "              genre  na_sales  eu_sales  jp_sales  other_sales  critic_score  \\\n",
       "183          Sports      4.26      0.26      0.01         0.71          94.0   \n",
       "377          Sports      0.59      2.36      0.04         0.51          84.0   \n",
       "456          Action      1.80      0.97      0.00         0.29          74.0   \n",
       "475        Fighting      1.57      1.02      0.00         0.41           NaN   \n",
       "609         Shooter      2.36      0.14      0.00         0.03           NaN   \n",
       "...             ...       ...       ...       ...          ...           ...   \n",
       "16373        Sports      0.01      0.00      0.00         0.00          43.0   \n",
       "16405        Racing      0.01      0.00      0.00         0.00          69.0   \n",
       "16448       Shooter      0.01      0.00      0.00         0.00          59.0   \n",
       "16458     Adventure      0.01      0.00      0.00         0.00           NaN   \n",
       "16522  Role-Playing      0.01      0.00      0.00         0.00          55.0   \n",
       "\n",
       "      user_score rating  \n",
       "183          8.5      E  \n",
       "377          6.4      E  \n",
       "456          7.9   E10+  \n",
       "475          NaN    NaN  \n",
       "609          NaN    NaN  \n",
       "...          ...    ...  \n",
       "16373        tbd   E10+  \n",
       "16405        6.5      T  \n",
       "16448        6.7      M  \n",
       "16458        NaN    NaN  \n",
       "16522        5.5      T  \n",
       "\n",
       "[269 rows x 11 columns]"
      ]
     },
     "execution_count": 10,
     "metadata": {},
     "output_type": "execute_result"
    }
   ],
   "source": [
    "data.loc[data['year_of_release'].isna()]"
   ]
  },
  {
   "cell_type": "markdown",
   "metadata": {},
   "source": [
    "Пропуски в данных о годе выпуска игры появились, вероятнее всего, после технического сбоя, т.к. датафрейм хранит данные об уже выпущенных играх. \n",
    "\n",
    "Часть игр в своих названиях имеют число, похожее на год выпуска - можно ли заменить пропуск в данных года выпуска этим числом?\n",
    "Такая замена будет некорректной, т.к. не всегда в названии игры отражен именно год выпуска. \n",
    "\n",
    "Например, в строке №183 указано название игры \"Madden NFL 2004\". На первый взгляд кажется, что это игра 2004 года, но в действительности год выпуска игры - 2003. Более того, игра была названа \"Лучшей спортивной игрой 2003 года\".\n",
    "\n",
    "Так что же делать с пропусками в этом столбце? Пропуски есть в 2% данных - строки с этими пропусками можно спокойно удалить из датафрейма, т.к. процент пропусков незначительный и датафрейм не пострадает."
   ]
  },
  {
   "cell_type": "code",
   "execution_count": 11,
   "metadata": {},
   "outputs": [],
   "source": [
    "data.dropna(subset=['year_of_release'], inplace = True)"
   ]
  },
  {
   "cell_type": "markdown",
   "metadata": {},
   "source": [
    "Изменим тип данных столбца *year_of_release*."
   ]
  },
  {
   "cell_type": "code",
   "execution_count": 12,
   "metadata": {},
   "outputs": [
    {
     "data": {
      "text/plain": [
       "0        2006\n",
       "1        1985\n",
       "2        2008\n",
       "3        2009\n",
       "4        1996\n",
       "         ... \n",
       "16710    2016\n",
       "16711    2006\n",
       "16712    2016\n",
       "16713    2003\n",
       "16714    2016\n",
       "Name: year_of_release, Length: 16446, dtype: int64"
      ]
     },
     "execution_count": 12,
     "metadata": {},
     "output_type": "execute_result"
    }
   ],
   "source": [
    "data['year_of_release'].astype('int')"
   ]
  },
  {
   "cell_type": "markdown",
   "metadata": {},
   "source": [
    "Посмотрим столбец *critic_score*. "
   ]
  },
  {
   "cell_type": "code",
   "execution_count": 13,
   "metadata": {},
   "outputs": [
    {
     "data": {
      "text/plain": [
       "8463"
      ]
     },
     "execution_count": 13,
     "metadata": {},
     "output_type": "execute_result"
    }
   ],
   "source": [
    "data['critic_score'].isna().sum()"
   ]
  },
  {
   "cell_type": "markdown",
   "metadata": {},
   "source": [
    "Доля пропусков в столбце с оценкой критиков - 51%. Заменить пропуски нулями, средними или медианными значениями в дальнейшем приведёт к некорректным результатам анализа. Удалить пропуски тоже нельзя - доля пропусков слишком высока. \n",
    "\n",
    "Приведём столбец к единому виду:\n",
    "поменяем все пропуски на значение \"200\" - можно будет легко отличить игры без оценки, т.к. оценка критиков измеряется по 100-бальной шкале."
   ]
  },
  {
   "cell_type": "code",
   "execution_count": 14,
   "metadata": {},
   "outputs": [],
   "source": [
    "data['critic_score'] = data['critic_score'].fillna(200)"
   ]
  },
  {
   "cell_type": "markdown",
   "metadata": {},
   "source": [
    "Посмотрим столбец *user_score*."
   ]
  },
  {
   "cell_type": "code",
   "execution_count": 15,
   "metadata": {},
   "outputs": [
    {
     "data": {
      "text/plain": [
       "array(['8', nan, '8.3', '8.5', '6.6', '8.4', '8.6', '7.7', '6.3', '7.4',\n",
       "       '8.2', '9', '7.9', '8.1', '8.7', '7.1', '3.4', '5.3', '4.8', '3.2',\n",
       "       '8.9', '6.4', '7.8', '7.5', '2.6', '7.2', '9.2', '7', '7.3', '4.3',\n",
       "       '7.6', '5.7', '5', '9.1', '6.5', 'tbd', '8.8', '6.9', '9.4', '6.8',\n",
       "       '6.1', '6.7', '5.4', '4', '4.9', '4.5', '9.3', '6.2', '4.2', '6',\n",
       "       '3.7', '4.1', '5.8', '5.6', '5.5', '4.4', '4.6', '5.9', '3.9',\n",
       "       '3.1', '2.9', '5.2', '3.3', '4.7', '5.1', '3.5', '2.5', '1.9', '3',\n",
       "       '2.7', '2.2', '2', '9.5', '2.1', '3.6', '2.8', '1.8', '3.8', '0',\n",
       "       '1.6', '9.6', '2.4', '1.7', '1.1', '0.3', '1.5', '0.7', '1.2',\n",
       "       '2.3', '0.5', '1.3', '0.2', '0.6', '1.4', '0.9', '1', '9.7'],\n",
       "      dtype=object)"
      ]
     },
     "execution_count": 15,
     "metadata": {},
     "output_type": "execute_result"
    }
   ],
   "source": [
    "data['user_score'].unique()"
   ]
  },
  {
   "cell_type": "markdown",
   "metadata": {},
   "source": [
    "Можно заметить значения **tbd** - \"to be determined\". Значит, столбец содержит не только дробные числа, но ещё и строковые значения. "
   ]
  },
  {
   "cell_type": "code",
   "execution_count": 16,
   "metadata": {},
   "outputs": [
    {
     "data": {
      "text/html": [
       "<div>\n",
       "<style scoped>\n",
       "    .dataframe tbody tr th:only-of-type {\n",
       "        vertical-align: middle;\n",
       "    }\n",
       "\n",
       "    .dataframe tbody tr th {\n",
       "        vertical-align: top;\n",
       "    }\n",
       "\n",
       "    .dataframe thead th {\n",
       "        text-align: right;\n",
       "    }\n",
       "</style>\n",
       "<table border=\"1\" class=\"dataframe\">\n",
       "  <thead>\n",
       "    <tr style=\"text-align: right;\">\n",
       "      <th></th>\n",
       "      <th>name</th>\n",
       "      <th>platform</th>\n",
       "      <th>year_of_release</th>\n",
       "      <th>genre</th>\n",
       "      <th>na_sales</th>\n",
       "      <th>eu_sales</th>\n",
       "      <th>jp_sales</th>\n",
       "      <th>other_sales</th>\n",
       "      <th>critic_score</th>\n",
       "      <th>user_score</th>\n",
       "      <th>rating</th>\n",
       "    </tr>\n",
       "  </thead>\n",
       "  <tbody>\n",
       "    <tr>\n",
       "      <th>119</th>\n",
       "      <td>Zumba Fitness</td>\n",
       "      <td>Wii</td>\n",
       "      <td>2010.0</td>\n",
       "      <td>Sports</td>\n",
       "      <td>3.45</td>\n",
       "      <td>2.59</td>\n",
       "      <td>0.0</td>\n",
       "      <td>0.66</td>\n",
       "      <td>200.0</td>\n",
       "      <td>tbd</td>\n",
       "      <td>E</td>\n",
       "    </tr>\n",
       "    <tr>\n",
       "      <th>301</th>\n",
       "      <td>Namco Museum: 50th Anniversary</td>\n",
       "      <td>PS2</td>\n",
       "      <td>2005.0</td>\n",
       "      <td>Misc</td>\n",
       "      <td>2.08</td>\n",
       "      <td>1.35</td>\n",
       "      <td>0.0</td>\n",
       "      <td>0.54</td>\n",
       "      <td>61.0</td>\n",
       "      <td>tbd</td>\n",
       "      <td>E10+</td>\n",
       "    </tr>\n",
       "    <tr>\n",
       "      <th>520</th>\n",
       "      <td>Zumba Fitness 2</td>\n",
       "      <td>Wii</td>\n",
       "      <td>2011.0</td>\n",
       "      <td>Sports</td>\n",
       "      <td>1.51</td>\n",
       "      <td>1.03</td>\n",
       "      <td>0.0</td>\n",
       "      <td>0.27</td>\n",
       "      <td>200.0</td>\n",
       "      <td>tbd</td>\n",
       "      <td>T</td>\n",
       "    </tr>\n",
       "    <tr>\n",
       "      <th>645</th>\n",
       "      <td>uDraw Studio</td>\n",
       "      <td>Wii</td>\n",
       "      <td>2010.0</td>\n",
       "      <td>Misc</td>\n",
       "      <td>1.65</td>\n",
       "      <td>0.57</td>\n",
       "      <td>0.0</td>\n",
       "      <td>0.20</td>\n",
       "      <td>71.0</td>\n",
       "      <td>tbd</td>\n",
       "      <td>E</td>\n",
       "    </tr>\n",
       "    <tr>\n",
       "      <th>718</th>\n",
       "      <td>Just Dance Kids</td>\n",
       "      <td>Wii</td>\n",
       "      <td>2010.0</td>\n",
       "      <td>Misc</td>\n",
       "      <td>1.52</td>\n",
       "      <td>0.54</td>\n",
       "      <td>0.0</td>\n",
       "      <td>0.18</td>\n",
       "      <td>200.0</td>\n",
       "      <td>tbd</td>\n",
       "      <td>E</td>\n",
       "    </tr>\n",
       "    <tr>\n",
       "      <th>...</th>\n",
       "      <td>...</td>\n",
       "      <td>...</td>\n",
       "      <td>...</td>\n",
       "      <td>...</td>\n",
       "      <td>...</td>\n",
       "      <td>...</td>\n",
       "      <td>...</td>\n",
       "      <td>...</td>\n",
       "      <td>...</td>\n",
       "      <td>...</td>\n",
       "      <td>...</td>\n",
       "    </tr>\n",
       "    <tr>\n",
       "      <th>16695</th>\n",
       "      <td>Planet Monsters</td>\n",
       "      <td>GBA</td>\n",
       "      <td>2001.0</td>\n",
       "      <td>Action</td>\n",
       "      <td>0.01</td>\n",
       "      <td>0.00</td>\n",
       "      <td>0.0</td>\n",
       "      <td>0.00</td>\n",
       "      <td>67.0</td>\n",
       "      <td>tbd</td>\n",
       "      <td>E</td>\n",
       "    </tr>\n",
       "    <tr>\n",
       "      <th>16697</th>\n",
       "      <td>Bust-A-Move 3000</td>\n",
       "      <td>GC</td>\n",
       "      <td>2003.0</td>\n",
       "      <td>Puzzle</td>\n",
       "      <td>0.01</td>\n",
       "      <td>0.00</td>\n",
       "      <td>0.0</td>\n",
       "      <td>0.00</td>\n",
       "      <td>53.0</td>\n",
       "      <td>tbd</td>\n",
       "      <td>E</td>\n",
       "    </tr>\n",
       "    <tr>\n",
       "      <th>16698</th>\n",
       "      <td>Mega Brain Boost</td>\n",
       "      <td>DS</td>\n",
       "      <td>2008.0</td>\n",
       "      <td>Puzzle</td>\n",
       "      <td>0.01</td>\n",
       "      <td>0.00</td>\n",
       "      <td>0.0</td>\n",
       "      <td>0.00</td>\n",
       "      <td>48.0</td>\n",
       "      <td>tbd</td>\n",
       "      <td>E</td>\n",
       "    </tr>\n",
       "    <tr>\n",
       "      <th>16704</th>\n",
       "      <td>Plushees</td>\n",
       "      <td>DS</td>\n",
       "      <td>2008.0</td>\n",
       "      <td>Simulation</td>\n",
       "      <td>0.01</td>\n",
       "      <td>0.00</td>\n",
       "      <td>0.0</td>\n",
       "      <td>0.00</td>\n",
       "      <td>200.0</td>\n",
       "      <td>tbd</td>\n",
       "      <td>E</td>\n",
       "    </tr>\n",
       "    <tr>\n",
       "      <th>16706</th>\n",
       "      <td>Men in Black II: Alien Escape</td>\n",
       "      <td>GC</td>\n",
       "      <td>2003.0</td>\n",
       "      <td>Shooter</td>\n",
       "      <td>0.01</td>\n",
       "      <td>0.00</td>\n",
       "      <td>0.0</td>\n",
       "      <td>0.00</td>\n",
       "      <td>200.0</td>\n",
       "      <td>tbd</td>\n",
       "      <td>T</td>\n",
       "    </tr>\n",
       "  </tbody>\n",
       "</table>\n",
       "<p>2376 rows × 11 columns</p>\n",
       "</div>"
      ],
      "text/plain": [
       "                                 name platform  year_of_release       genre  \\\n",
       "119                     Zumba Fitness      Wii           2010.0      Sports   \n",
       "301    Namco Museum: 50th Anniversary      PS2           2005.0        Misc   \n",
       "520                   Zumba Fitness 2      Wii           2011.0      Sports   \n",
       "645                      uDraw Studio      Wii           2010.0        Misc   \n",
       "718                   Just Dance Kids      Wii           2010.0        Misc   \n",
       "...                               ...      ...              ...         ...   \n",
       "16695                 Planet Monsters      GBA           2001.0      Action   \n",
       "16697                Bust-A-Move 3000       GC           2003.0      Puzzle   \n",
       "16698                Mega Brain Boost       DS           2008.0      Puzzle   \n",
       "16704                        Plushees       DS           2008.0  Simulation   \n",
       "16706   Men in Black II: Alien Escape       GC           2003.0     Shooter   \n",
       "\n",
       "       na_sales  eu_sales  jp_sales  other_sales  critic_score user_score  \\\n",
       "119        3.45      2.59       0.0         0.66         200.0        tbd   \n",
       "301        2.08      1.35       0.0         0.54          61.0        tbd   \n",
       "520        1.51      1.03       0.0         0.27         200.0        tbd   \n",
       "645        1.65      0.57       0.0         0.20          71.0        tbd   \n",
       "718        1.52      0.54       0.0         0.18         200.0        tbd   \n",
       "...         ...       ...       ...          ...           ...        ...   \n",
       "16695      0.01      0.00       0.0         0.00          67.0        tbd   \n",
       "16697      0.01      0.00       0.0         0.00          53.0        tbd   \n",
       "16698      0.01      0.00       0.0         0.00          48.0        tbd   \n",
       "16704      0.01      0.00       0.0         0.00         200.0        tbd   \n",
       "16706      0.01      0.00       0.0         0.00         200.0        tbd   \n",
       "\n",
       "      rating  \n",
       "119        E  \n",
       "301     E10+  \n",
       "520        T  \n",
       "645        E  \n",
       "718        E  \n",
       "...      ...  \n",
       "16695      E  \n",
       "16697      E  \n",
       "16698      E  \n",
       "16704      E  \n",
       "16706      T  \n",
       "\n",
       "[2376 rows x 11 columns]"
      ]
     },
     "execution_count": 16,
     "metadata": {},
     "output_type": "execute_result"
    }
   ],
   "source": [
    "data.loc[data['user_score'] == 'tbd']"
   ]
  },
  {
   "cell_type": "markdown",
   "metadata": {},
   "source": [
    "Для того, чтобы привести столбец к исключительно числовым значениям, избавимся от буквенных значений и заменим 'tbd' на 300. Продолжаем список кодовых значений 300 - игры, с рейтингом которых ещё не определились."
   ]
  },
  {
   "cell_type": "code",
   "execution_count": 17,
   "metadata": {},
   "outputs": [],
   "source": [
    "data.loc[data['user_score'] == 'tbd','user_score'] = 300"
   ]
  },
  {
   "cell_type": "code",
   "execution_count": 18,
   "metadata": {},
   "outputs": [],
   "source": [
    "data.loc[data['user_score'].isna(),'user_score'] = 200"
   ]
  },
  {
   "cell_type": "markdown",
   "metadata": {},
   "source": [
    "Изменяем тип данных стобце *user_score*."
   ]
  },
  {
   "cell_type": "code",
   "execution_count": 19,
   "metadata": {},
   "outputs": [],
   "source": [
    "data['user_score'] = data['user_score'].astype('float')"
   ]
  },
  {
   "cell_type": "markdown",
   "metadata": {},
   "source": [
    "Посмотрим столбец *rating*."
   ]
  },
  {
   "cell_type": "code",
   "execution_count": 20,
   "metadata": {
    "scrolled": true
   },
   "outputs": [
    {
     "data": {
      "text/html": [
       "<div>\n",
       "<style scoped>\n",
       "    .dataframe tbody tr th:only-of-type {\n",
       "        vertical-align: middle;\n",
       "    }\n",
       "\n",
       "    .dataframe tbody tr th {\n",
       "        vertical-align: top;\n",
       "    }\n",
       "\n",
       "    .dataframe thead th {\n",
       "        text-align: right;\n",
       "    }\n",
       "</style>\n",
       "<table border=\"1\" class=\"dataframe\">\n",
       "  <thead>\n",
       "    <tr style=\"text-align: right;\">\n",
       "      <th></th>\n",
       "      <th>name</th>\n",
       "      <th>platform</th>\n",
       "      <th>year_of_release</th>\n",
       "      <th>genre</th>\n",
       "      <th>na_sales</th>\n",
       "      <th>eu_sales</th>\n",
       "      <th>jp_sales</th>\n",
       "      <th>other_sales</th>\n",
       "      <th>critic_score</th>\n",
       "      <th>user_score</th>\n",
       "      <th>rating</th>\n",
       "    </tr>\n",
       "  </thead>\n",
       "  <tbody>\n",
       "    <tr>\n",
       "      <th>1</th>\n",
       "      <td>Super Mario Bros.</td>\n",
       "      <td>NES</td>\n",
       "      <td>1985.0</td>\n",
       "      <td>Platform</td>\n",
       "      <td>29.08</td>\n",
       "      <td>3.58</td>\n",
       "      <td>6.81</td>\n",
       "      <td>0.77</td>\n",
       "      <td>200.0</td>\n",
       "      <td>200.0</td>\n",
       "      <td>NaN</td>\n",
       "    </tr>\n",
       "    <tr>\n",
       "      <th>4</th>\n",
       "      <td>Pokemon Red/Pokemon Blue</td>\n",
       "      <td>GB</td>\n",
       "      <td>1996.0</td>\n",
       "      <td>Role-Playing</td>\n",
       "      <td>11.27</td>\n",
       "      <td>8.89</td>\n",
       "      <td>10.22</td>\n",
       "      <td>1.00</td>\n",
       "      <td>200.0</td>\n",
       "      <td>200.0</td>\n",
       "      <td>NaN</td>\n",
       "    </tr>\n",
       "    <tr>\n",
       "      <th>5</th>\n",
       "      <td>Tetris</td>\n",
       "      <td>GB</td>\n",
       "      <td>1989.0</td>\n",
       "      <td>Puzzle</td>\n",
       "      <td>23.20</td>\n",
       "      <td>2.26</td>\n",
       "      <td>4.22</td>\n",
       "      <td>0.58</td>\n",
       "      <td>200.0</td>\n",
       "      <td>200.0</td>\n",
       "      <td>NaN</td>\n",
       "    </tr>\n",
       "    <tr>\n",
       "      <th>9</th>\n",
       "      <td>Duck Hunt</td>\n",
       "      <td>NES</td>\n",
       "      <td>1984.0</td>\n",
       "      <td>Shooter</td>\n",
       "      <td>26.93</td>\n",
       "      <td>0.63</td>\n",
       "      <td>0.28</td>\n",
       "      <td>0.47</td>\n",
       "      <td>200.0</td>\n",
       "      <td>200.0</td>\n",
       "      <td>NaN</td>\n",
       "    </tr>\n",
       "    <tr>\n",
       "      <th>10</th>\n",
       "      <td>Nintendogs</td>\n",
       "      <td>DS</td>\n",
       "      <td>2005.0</td>\n",
       "      <td>Simulation</td>\n",
       "      <td>9.05</td>\n",
       "      <td>10.95</td>\n",
       "      <td>1.93</td>\n",
       "      <td>2.74</td>\n",
       "      <td>200.0</td>\n",
       "      <td>200.0</td>\n",
       "      <td>NaN</td>\n",
       "    </tr>\n",
       "    <tr>\n",
       "      <th>...</th>\n",
       "      <td>...</td>\n",
       "      <td>...</td>\n",
       "      <td>...</td>\n",
       "      <td>...</td>\n",
       "      <td>...</td>\n",
       "      <td>...</td>\n",
       "      <td>...</td>\n",
       "      <td>...</td>\n",
       "      <td>...</td>\n",
       "      <td>...</td>\n",
       "      <td>...</td>\n",
       "    </tr>\n",
       "    <tr>\n",
       "      <th>16710</th>\n",
       "      <td>Samurai Warriors: Sanada Maru</td>\n",
       "      <td>PS3</td>\n",
       "      <td>2016.0</td>\n",
       "      <td>Action</td>\n",
       "      <td>0.00</td>\n",
       "      <td>0.00</td>\n",
       "      <td>0.01</td>\n",
       "      <td>0.00</td>\n",
       "      <td>200.0</td>\n",
       "      <td>200.0</td>\n",
       "      <td>NaN</td>\n",
       "    </tr>\n",
       "    <tr>\n",
       "      <th>16711</th>\n",
       "      <td>LMA Manager 2007</td>\n",
       "      <td>X360</td>\n",
       "      <td>2006.0</td>\n",
       "      <td>Sports</td>\n",
       "      <td>0.00</td>\n",
       "      <td>0.01</td>\n",
       "      <td>0.00</td>\n",
       "      <td>0.00</td>\n",
       "      <td>200.0</td>\n",
       "      <td>200.0</td>\n",
       "      <td>NaN</td>\n",
       "    </tr>\n",
       "    <tr>\n",
       "      <th>16712</th>\n",
       "      <td>Haitaka no Psychedelica</td>\n",
       "      <td>PSV</td>\n",
       "      <td>2016.0</td>\n",
       "      <td>Adventure</td>\n",
       "      <td>0.00</td>\n",
       "      <td>0.00</td>\n",
       "      <td>0.01</td>\n",
       "      <td>0.00</td>\n",
       "      <td>200.0</td>\n",
       "      <td>200.0</td>\n",
       "      <td>NaN</td>\n",
       "    </tr>\n",
       "    <tr>\n",
       "      <th>16713</th>\n",
       "      <td>Spirits &amp; Spells</td>\n",
       "      <td>GBA</td>\n",
       "      <td>2003.0</td>\n",
       "      <td>Platform</td>\n",
       "      <td>0.01</td>\n",
       "      <td>0.00</td>\n",
       "      <td>0.00</td>\n",
       "      <td>0.00</td>\n",
       "      <td>200.0</td>\n",
       "      <td>200.0</td>\n",
       "      <td>NaN</td>\n",
       "    </tr>\n",
       "    <tr>\n",
       "      <th>16714</th>\n",
       "      <td>Winning Post 8 2016</td>\n",
       "      <td>PSV</td>\n",
       "      <td>2016.0</td>\n",
       "      <td>Simulation</td>\n",
       "      <td>0.00</td>\n",
       "      <td>0.00</td>\n",
       "      <td>0.01</td>\n",
       "      <td>0.00</td>\n",
       "      <td>200.0</td>\n",
       "      <td>200.0</td>\n",
       "      <td>NaN</td>\n",
       "    </tr>\n",
       "  </tbody>\n",
       "</table>\n",
       "<p>6678 rows × 11 columns</p>\n",
       "</div>"
      ],
      "text/plain": [
       "                                name platform  year_of_release         genre  \\\n",
       "1                  Super Mario Bros.      NES           1985.0      Platform   \n",
       "4           Pokemon Red/Pokemon Blue       GB           1996.0  Role-Playing   \n",
       "5                             Tetris       GB           1989.0        Puzzle   \n",
       "9                          Duck Hunt      NES           1984.0       Shooter   \n",
       "10                        Nintendogs       DS           2005.0    Simulation   \n",
       "...                              ...      ...              ...           ...   \n",
       "16710  Samurai Warriors: Sanada Maru      PS3           2016.0        Action   \n",
       "16711               LMA Manager 2007     X360           2006.0        Sports   \n",
       "16712        Haitaka no Psychedelica      PSV           2016.0     Adventure   \n",
       "16713               Spirits & Spells      GBA           2003.0      Platform   \n",
       "16714            Winning Post 8 2016      PSV           2016.0    Simulation   \n",
       "\n",
       "       na_sales  eu_sales  jp_sales  other_sales  critic_score  user_score  \\\n",
       "1         29.08      3.58      6.81         0.77         200.0       200.0   \n",
       "4         11.27      8.89     10.22         1.00         200.0       200.0   \n",
       "5         23.20      2.26      4.22         0.58         200.0       200.0   \n",
       "9         26.93      0.63      0.28         0.47         200.0       200.0   \n",
       "10         9.05     10.95      1.93         2.74         200.0       200.0   \n",
       "...         ...       ...       ...          ...           ...         ...   \n",
       "16710      0.00      0.00      0.01         0.00         200.0       200.0   \n",
       "16711      0.00      0.01      0.00         0.00         200.0       200.0   \n",
       "16712      0.00      0.00      0.01         0.00         200.0       200.0   \n",
       "16713      0.01      0.00      0.00         0.00         200.0       200.0   \n",
       "16714      0.00      0.00      0.01         0.00         200.0       200.0   \n",
       "\n",
       "      rating  \n",
       "1        NaN  \n",
       "4        NaN  \n",
       "5        NaN  \n",
       "9        NaN  \n",
       "10       NaN  \n",
       "...      ...  \n",
       "16710    NaN  \n",
       "16711    NaN  \n",
       "16712    NaN  \n",
       "16713    NaN  \n",
       "16714    NaN  \n",
       "\n",
       "[6678 rows x 11 columns]"
      ]
     },
     "execution_count": 20,
     "metadata": {},
     "output_type": "execute_result"
    }
   ],
   "source": [
    "data.loc[data['rating'].isna()]"
   ]
  },
  {
   "cell_type": "markdown",
   "metadata": {},
   "source": [
    "Заменяем пустые значения на 'unknown'."
   ]
  },
  {
   "cell_type": "code",
   "execution_count": 21,
   "metadata": {},
   "outputs": [],
   "source": [
    "data['rating'] = data['rating'].fillna('unknown')"
   ]
  },
  {
   "cell_type": "markdown",
   "metadata": {},
   "source": [
    "> EC - «early childhood» — для детей младшего возраста, \\\n",
    "> E - «еveryone» — для всех,\\\n",
    "> E10+ - «еveryone 10 and older» — для всех от 10 лет и старше,\\\n",
    "> T - «teen» — подросткам,\\\n",
    "> M - «mature» — для взрослых,\\\n",
    "> AO - «аdults Only 18+» — только для взрослых."
   ]
  },
  {
   "cell_type": "markdown",
   "metadata": {},
   "source": [
    "Посмотрим, какие рейтинг есть в датафрейме."
   ]
  },
  {
   "cell_type": "code",
   "execution_count": 22,
   "metadata": {},
   "outputs": [
    {
     "data": {
      "text/plain": [
       "array(['E', 'unknown', 'M', 'T', 'E10+', 'K-A', 'AO', 'EC', 'RP'],\n",
       "      dtype=object)"
      ]
     },
     "execution_count": 22,
     "metadata": {},
     "output_type": "execute_result"
    }
   ],
   "source": [
    "data['rating'].unique()"
   ]
  },
  {
   "cell_type": "markdown",
   "metadata": {},
   "source": [
    "Рейтинг RP - Rating Pending - игра ожидает присвоения статуса. Используется только на рекламных презентациях и в демо-версиях игр до официальной даты выпуска в продажу, т.к. до этого момента оценить игру невозможно.\n",
    "\n",
    "Рейтинг K-A - это тоже самое, что и рейтинг Е, но до 1998 г. Заменим рейтинг К-А на рейтинг Е."
   ]
  },
  {
   "cell_type": "code",
   "execution_count": 23,
   "metadata": {},
   "outputs": [],
   "source": [
    "data.loc[data['rating'] == 'K-A','rating'] = 'E'"
   ]
  },
  {
   "cell_type": "markdown",
   "metadata": {},
   "source": [
    "Посмотрим датафрейм снова."
   ]
  },
  {
   "cell_type": "code",
   "execution_count": 24,
   "metadata": {},
   "outputs": [
    {
     "data": {
      "text/html": [
       "<div>\n",
       "<style scoped>\n",
       "    .dataframe tbody tr th:only-of-type {\n",
       "        vertical-align: middle;\n",
       "    }\n",
       "\n",
       "    .dataframe tbody tr th {\n",
       "        vertical-align: top;\n",
       "    }\n",
       "\n",
       "    .dataframe thead th {\n",
       "        text-align: right;\n",
       "    }\n",
       "</style>\n",
       "<table border=\"1\" class=\"dataframe\">\n",
       "  <thead>\n",
       "    <tr style=\"text-align: right;\">\n",
       "      <th></th>\n",
       "      <th>name</th>\n",
       "      <th>platform</th>\n",
       "      <th>year_of_release</th>\n",
       "      <th>genre</th>\n",
       "      <th>na_sales</th>\n",
       "      <th>eu_sales</th>\n",
       "      <th>jp_sales</th>\n",
       "      <th>other_sales</th>\n",
       "      <th>critic_score</th>\n",
       "      <th>user_score</th>\n",
       "      <th>rating</th>\n",
       "    </tr>\n",
       "  </thead>\n",
       "  <tbody>\n",
       "    <tr>\n",
       "      <th>16695</th>\n",
       "      <td>Planet Monsters</td>\n",
       "      <td>GBA</td>\n",
       "      <td>2001.0</td>\n",
       "      <td>Action</td>\n",
       "      <td>0.01</td>\n",
       "      <td>0.00</td>\n",
       "      <td>0.00</td>\n",
       "      <td>0.0</td>\n",
       "      <td>67.0</td>\n",
       "      <td>300.0</td>\n",
       "      <td>E</td>\n",
       "    </tr>\n",
       "    <tr>\n",
       "      <th>16696</th>\n",
       "      <td>Breach</td>\n",
       "      <td>PC</td>\n",
       "      <td>2011.0</td>\n",
       "      <td>Shooter</td>\n",
       "      <td>0.01</td>\n",
       "      <td>0.00</td>\n",
       "      <td>0.00</td>\n",
       "      <td>0.0</td>\n",
       "      <td>61.0</td>\n",
       "      <td>5.8</td>\n",
       "      <td>T</td>\n",
       "    </tr>\n",
       "    <tr>\n",
       "      <th>16697</th>\n",
       "      <td>Bust-A-Move 3000</td>\n",
       "      <td>GC</td>\n",
       "      <td>2003.0</td>\n",
       "      <td>Puzzle</td>\n",
       "      <td>0.01</td>\n",
       "      <td>0.00</td>\n",
       "      <td>0.00</td>\n",
       "      <td>0.0</td>\n",
       "      <td>53.0</td>\n",
       "      <td>300.0</td>\n",
       "      <td>E</td>\n",
       "    </tr>\n",
       "    <tr>\n",
       "      <th>16698</th>\n",
       "      <td>Mega Brain Boost</td>\n",
       "      <td>DS</td>\n",
       "      <td>2008.0</td>\n",
       "      <td>Puzzle</td>\n",
       "      <td>0.01</td>\n",
       "      <td>0.00</td>\n",
       "      <td>0.00</td>\n",
       "      <td>0.0</td>\n",
       "      <td>48.0</td>\n",
       "      <td>300.0</td>\n",
       "      <td>E</td>\n",
       "    </tr>\n",
       "    <tr>\n",
       "      <th>16699</th>\n",
       "      <td>The Longest 5 Minutes</td>\n",
       "      <td>PSV</td>\n",
       "      <td>2016.0</td>\n",
       "      <td>Action</td>\n",
       "      <td>0.00</td>\n",
       "      <td>0.00</td>\n",
       "      <td>0.01</td>\n",
       "      <td>0.0</td>\n",
       "      <td>200.0</td>\n",
       "      <td>200.0</td>\n",
       "      <td>unknown</td>\n",
       "    </tr>\n",
       "    <tr>\n",
       "      <th>16700</th>\n",
       "      <td>Mezase!! Tsuri Master DS</td>\n",
       "      <td>DS</td>\n",
       "      <td>2009.0</td>\n",
       "      <td>Sports</td>\n",
       "      <td>0.00</td>\n",
       "      <td>0.00</td>\n",
       "      <td>0.01</td>\n",
       "      <td>0.0</td>\n",
       "      <td>200.0</td>\n",
       "      <td>200.0</td>\n",
       "      <td>unknown</td>\n",
       "    </tr>\n",
       "    <tr>\n",
       "      <th>16701</th>\n",
       "      <td>Eiyuu Densetsu: Sora no Kiseki Material Collec...</td>\n",
       "      <td>PSP</td>\n",
       "      <td>2007.0</td>\n",
       "      <td>Role-Playing</td>\n",
       "      <td>0.00</td>\n",
       "      <td>0.00</td>\n",
       "      <td>0.01</td>\n",
       "      <td>0.0</td>\n",
       "      <td>200.0</td>\n",
       "      <td>200.0</td>\n",
       "      <td>unknown</td>\n",
       "    </tr>\n",
       "    <tr>\n",
       "      <th>16702</th>\n",
       "      <td>STORM: Frontline Nation</td>\n",
       "      <td>PC</td>\n",
       "      <td>2011.0</td>\n",
       "      <td>Strategy</td>\n",
       "      <td>0.00</td>\n",
       "      <td>0.01</td>\n",
       "      <td>0.00</td>\n",
       "      <td>0.0</td>\n",
       "      <td>60.0</td>\n",
       "      <td>7.2</td>\n",
       "      <td>E10+</td>\n",
       "    </tr>\n",
       "    <tr>\n",
       "      <th>16703</th>\n",
       "      <td>Strawberry Nauts</td>\n",
       "      <td>PSV</td>\n",
       "      <td>2016.0</td>\n",
       "      <td>Adventure</td>\n",
       "      <td>0.00</td>\n",
       "      <td>0.00</td>\n",
       "      <td>0.01</td>\n",
       "      <td>0.0</td>\n",
       "      <td>200.0</td>\n",
       "      <td>200.0</td>\n",
       "      <td>unknown</td>\n",
       "    </tr>\n",
       "    <tr>\n",
       "      <th>16704</th>\n",
       "      <td>Plushees</td>\n",
       "      <td>DS</td>\n",
       "      <td>2008.0</td>\n",
       "      <td>Simulation</td>\n",
       "      <td>0.01</td>\n",
       "      <td>0.00</td>\n",
       "      <td>0.00</td>\n",
       "      <td>0.0</td>\n",
       "      <td>200.0</td>\n",
       "      <td>300.0</td>\n",
       "      <td>E</td>\n",
       "    </tr>\n",
       "    <tr>\n",
       "      <th>16705</th>\n",
       "      <td>15 Days</td>\n",
       "      <td>PC</td>\n",
       "      <td>2009.0</td>\n",
       "      <td>Adventure</td>\n",
       "      <td>0.00</td>\n",
       "      <td>0.01</td>\n",
       "      <td>0.00</td>\n",
       "      <td>0.0</td>\n",
       "      <td>63.0</td>\n",
       "      <td>5.8</td>\n",
       "      <td>unknown</td>\n",
       "    </tr>\n",
       "    <tr>\n",
       "      <th>16706</th>\n",
       "      <td>Men in Black II: Alien Escape</td>\n",
       "      <td>GC</td>\n",
       "      <td>2003.0</td>\n",
       "      <td>Shooter</td>\n",
       "      <td>0.01</td>\n",
       "      <td>0.00</td>\n",
       "      <td>0.00</td>\n",
       "      <td>0.0</td>\n",
       "      <td>200.0</td>\n",
       "      <td>300.0</td>\n",
       "      <td>T</td>\n",
       "    </tr>\n",
       "    <tr>\n",
       "      <th>16707</th>\n",
       "      <td>Aiyoku no Eustia</td>\n",
       "      <td>PSV</td>\n",
       "      <td>2014.0</td>\n",
       "      <td>Misc</td>\n",
       "      <td>0.00</td>\n",
       "      <td>0.00</td>\n",
       "      <td>0.01</td>\n",
       "      <td>0.0</td>\n",
       "      <td>200.0</td>\n",
       "      <td>200.0</td>\n",
       "      <td>unknown</td>\n",
       "    </tr>\n",
       "    <tr>\n",
       "      <th>16708</th>\n",
       "      <td>Woody Woodpecker in Crazy Castle 5</td>\n",
       "      <td>GBA</td>\n",
       "      <td>2002.0</td>\n",
       "      <td>Platform</td>\n",
       "      <td>0.01</td>\n",
       "      <td>0.00</td>\n",
       "      <td>0.00</td>\n",
       "      <td>0.0</td>\n",
       "      <td>200.0</td>\n",
       "      <td>200.0</td>\n",
       "      <td>unknown</td>\n",
       "    </tr>\n",
       "    <tr>\n",
       "      <th>16709</th>\n",
       "      <td>SCORE International Baja 1000: The Official Game</td>\n",
       "      <td>PS2</td>\n",
       "      <td>2008.0</td>\n",
       "      <td>Racing</td>\n",
       "      <td>0.00</td>\n",
       "      <td>0.00</td>\n",
       "      <td>0.00</td>\n",
       "      <td>0.0</td>\n",
       "      <td>200.0</td>\n",
       "      <td>200.0</td>\n",
       "      <td>unknown</td>\n",
       "    </tr>\n",
       "    <tr>\n",
       "      <th>16710</th>\n",
       "      <td>Samurai Warriors: Sanada Maru</td>\n",
       "      <td>PS3</td>\n",
       "      <td>2016.0</td>\n",
       "      <td>Action</td>\n",
       "      <td>0.00</td>\n",
       "      <td>0.00</td>\n",
       "      <td>0.01</td>\n",
       "      <td>0.0</td>\n",
       "      <td>200.0</td>\n",
       "      <td>200.0</td>\n",
       "      <td>unknown</td>\n",
       "    </tr>\n",
       "    <tr>\n",
       "      <th>16711</th>\n",
       "      <td>LMA Manager 2007</td>\n",
       "      <td>X360</td>\n",
       "      <td>2006.0</td>\n",
       "      <td>Sports</td>\n",
       "      <td>0.00</td>\n",
       "      <td>0.01</td>\n",
       "      <td>0.00</td>\n",
       "      <td>0.0</td>\n",
       "      <td>200.0</td>\n",
       "      <td>200.0</td>\n",
       "      <td>unknown</td>\n",
       "    </tr>\n",
       "    <tr>\n",
       "      <th>16712</th>\n",
       "      <td>Haitaka no Psychedelica</td>\n",
       "      <td>PSV</td>\n",
       "      <td>2016.0</td>\n",
       "      <td>Adventure</td>\n",
       "      <td>0.00</td>\n",
       "      <td>0.00</td>\n",
       "      <td>0.01</td>\n",
       "      <td>0.0</td>\n",
       "      <td>200.0</td>\n",
       "      <td>200.0</td>\n",
       "      <td>unknown</td>\n",
       "    </tr>\n",
       "    <tr>\n",
       "      <th>16713</th>\n",
       "      <td>Spirits &amp; Spells</td>\n",
       "      <td>GBA</td>\n",
       "      <td>2003.0</td>\n",
       "      <td>Platform</td>\n",
       "      <td>0.01</td>\n",
       "      <td>0.00</td>\n",
       "      <td>0.00</td>\n",
       "      <td>0.0</td>\n",
       "      <td>200.0</td>\n",
       "      <td>200.0</td>\n",
       "      <td>unknown</td>\n",
       "    </tr>\n",
       "    <tr>\n",
       "      <th>16714</th>\n",
       "      <td>Winning Post 8 2016</td>\n",
       "      <td>PSV</td>\n",
       "      <td>2016.0</td>\n",
       "      <td>Simulation</td>\n",
       "      <td>0.00</td>\n",
       "      <td>0.00</td>\n",
       "      <td>0.01</td>\n",
       "      <td>0.0</td>\n",
       "      <td>200.0</td>\n",
       "      <td>200.0</td>\n",
       "      <td>unknown</td>\n",
       "    </tr>\n",
       "  </tbody>\n",
       "</table>\n",
       "</div>"
      ],
      "text/plain": [
       "                                                    name platform  \\\n",
       "16695                                    Planet Monsters      GBA   \n",
       "16696                                             Breach       PC   \n",
       "16697                                   Bust-A-Move 3000       GC   \n",
       "16698                                   Mega Brain Boost       DS   \n",
       "16699                              The Longest 5 Minutes      PSV   \n",
       "16700                           Mezase!! Tsuri Master DS       DS   \n",
       "16701  Eiyuu Densetsu: Sora no Kiseki Material Collec...      PSP   \n",
       "16702                            STORM: Frontline Nation       PC   \n",
       "16703                                   Strawberry Nauts      PSV   \n",
       "16704                                           Plushees       DS   \n",
       "16705                                            15 Days       PC   \n",
       "16706                      Men in Black II: Alien Escape       GC   \n",
       "16707                                   Aiyoku no Eustia      PSV   \n",
       "16708                 Woody Woodpecker in Crazy Castle 5      GBA   \n",
       "16709   SCORE International Baja 1000: The Official Game      PS2   \n",
       "16710                      Samurai Warriors: Sanada Maru      PS3   \n",
       "16711                                   LMA Manager 2007     X360   \n",
       "16712                            Haitaka no Psychedelica      PSV   \n",
       "16713                                   Spirits & Spells      GBA   \n",
       "16714                                Winning Post 8 2016      PSV   \n",
       "\n",
       "       year_of_release         genre  na_sales  eu_sales  jp_sales  \\\n",
       "16695           2001.0        Action      0.01      0.00      0.00   \n",
       "16696           2011.0       Shooter      0.01      0.00      0.00   \n",
       "16697           2003.0        Puzzle      0.01      0.00      0.00   \n",
       "16698           2008.0        Puzzle      0.01      0.00      0.00   \n",
       "16699           2016.0        Action      0.00      0.00      0.01   \n",
       "16700           2009.0        Sports      0.00      0.00      0.01   \n",
       "16701           2007.0  Role-Playing      0.00      0.00      0.01   \n",
       "16702           2011.0      Strategy      0.00      0.01      0.00   \n",
       "16703           2016.0     Adventure      0.00      0.00      0.01   \n",
       "16704           2008.0    Simulation      0.01      0.00      0.00   \n",
       "16705           2009.0     Adventure      0.00      0.01      0.00   \n",
       "16706           2003.0       Shooter      0.01      0.00      0.00   \n",
       "16707           2014.0          Misc      0.00      0.00      0.01   \n",
       "16708           2002.0      Platform      0.01      0.00      0.00   \n",
       "16709           2008.0        Racing      0.00      0.00      0.00   \n",
       "16710           2016.0        Action      0.00      0.00      0.01   \n",
       "16711           2006.0        Sports      0.00      0.01      0.00   \n",
       "16712           2016.0     Adventure      0.00      0.00      0.01   \n",
       "16713           2003.0      Platform      0.01      0.00      0.00   \n",
       "16714           2016.0    Simulation      0.00      0.00      0.01   \n",
       "\n",
       "       other_sales  critic_score  user_score   rating  \n",
       "16695          0.0          67.0       300.0        E  \n",
       "16696          0.0          61.0         5.8        T  \n",
       "16697          0.0          53.0       300.0        E  \n",
       "16698          0.0          48.0       300.0        E  \n",
       "16699          0.0         200.0       200.0  unknown  \n",
       "16700          0.0         200.0       200.0  unknown  \n",
       "16701          0.0         200.0       200.0  unknown  \n",
       "16702          0.0          60.0         7.2     E10+  \n",
       "16703          0.0         200.0       200.0  unknown  \n",
       "16704          0.0         200.0       300.0        E  \n",
       "16705          0.0          63.0         5.8  unknown  \n",
       "16706          0.0         200.0       300.0        T  \n",
       "16707          0.0         200.0       200.0  unknown  \n",
       "16708          0.0         200.0       200.0  unknown  \n",
       "16709          0.0         200.0       200.0  unknown  \n",
       "16710          0.0         200.0       200.0  unknown  \n",
       "16711          0.0         200.0       200.0  unknown  \n",
       "16712          0.0         200.0       200.0  unknown  \n",
       "16713          0.0         200.0       200.0  unknown  \n",
       "16714          0.0         200.0       200.0  unknown  "
      ]
     },
     "execution_count": 24,
     "metadata": {},
     "output_type": "execute_result"
    }
   ],
   "source": [
    "data.tail(20)"
   ]
  },
  {
   "cell_type": "markdown",
   "metadata": {},
   "source": [
    "Что стало причиной возникновения пропусков в стоблцах с оценкой? Вероятнее всего, произошел технологический сбой, т.к. доля пропусков высока и есть пропуски в данных с оценкой игр 10-летней давности.\n",
    "\n",
    "С пропусками в столбце с рейтингом другая история - рейтинг ESRB используется только в США, Канаде и Мексике. Т.е. игры других стран, например, Японии, которая входит в топ-5 по разработке игр, будут без рейтинга. Отсюда большое количество пропусков."
   ]
  },
  {
   "cell_type": "markdown",
   "metadata": {},
   "source": [
    "#### Добавление столбца *sales_sum* со значением суммарных продаж по всем регионам. <a id='section_3'></a>"
   ]
  },
  {
   "cell_type": "code",
   "execution_count": 25,
   "metadata": {},
   "outputs": [],
   "source": [
    "data['sales_sum'] = data['na_sales'] + data['jp_sales'] + data['eu_sales'] + data['other_sales']"
   ]
  },
  {
   "cell_type": "code",
   "execution_count": 26,
   "metadata": {},
   "outputs": [
    {
     "data": {
      "text/html": [
       "<div>\n",
       "<style scoped>\n",
       "    .dataframe tbody tr th:only-of-type {\n",
       "        vertical-align: middle;\n",
       "    }\n",
       "\n",
       "    .dataframe tbody tr th {\n",
       "        vertical-align: top;\n",
       "    }\n",
       "\n",
       "    .dataframe thead th {\n",
       "        text-align: right;\n",
       "    }\n",
       "</style>\n",
       "<table border=\"1\" class=\"dataframe\">\n",
       "  <thead>\n",
       "    <tr style=\"text-align: right;\">\n",
       "      <th></th>\n",
       "      <th>name</th>\n",
       "      <th>platform</th>\n",
       "      <th>year_of_release</th>\n",
       "      <th>genre</th>\n",
       "      <th>na_sales</th>\n",
       "      <th>eu_sales</th>\n",
       "      <th>jp_sales</th>\n",
       "      <th>other_sales</th>\n",
       "      <th>critic_score</th>\n",
       "      <th>user_score</th>\n",
       "      <th>rating</th>\n",
       "      <th>sales_sum</th>\n",
       "    </tr>\n",
       "  </thead>\n",
       "  <tbody>\n",
       "    <tr>\n",
       "      <th>0</th>\n",
       "      <td>Wii Sports</td>\n",
       "      <td>Wii</td>\n",
       "      <td>2006.0</td>\n",
       "      <td>Sports</td>\n",
       "      <td>41.36</td>\n",
       "      <td>28.96</td>\n",
       "      <td>3.77</td>\n",
       "      <td>8.45</td>\n",
       "      <td>76.0</td>\n",
       "      <td>8.0</td>\n",
       "      <td>E</td>\n",
       "      <td>82.54</td>\n",
       "    </tr>\n",
       "    <tr>\n",
       "      <th>1</th>\n",
       "      <td>Super Mario Bros.</td>\n",
       "      <td>NES</td>\n",
       "      <td>1985.0</td>\n",
       "      <td>Platform</td>\n",
       "      <td>29.08</td>\n",
       "      <td>3.58</td>\n",
       "      <td>6.81</td>\n",
       "      <td>0.77</td>\n",
       "      <td>200.0</td>\n",
       "      <td>200.0</td>\n",
       "      <td>unknown</td>\n",
       "      <td>40.24</td>\n",
       "    </tr>\n",
       "    <tr>\n",
       "      <th>2</th>\n",
       "      <td>Mario Kart Wii</td>\n",
       "      <td>Wii</td>\n",
       "      <td>2008.0</td>\n",
       "      <td>Racing</td>\n",
       "      <td>15.68</td>\n",
       "      <td>12.76</td>\n",
       "      <td>3.79</td>\n",
       "      <td>3.29</td>\n",
       "      <td>82.0</td>\n",
       "      <td>8.3</td>\n",
       "      <td>E</td>\n",
       "      <td>35.52</td>\n",
       "    </tr>\n",
       "    <tr>\n",
       "      <th>3</th>\n",
       "      <td>Wii Sports Resort</td>\n",
       "      <td>Wii</td>\n",
       "      <td>2009.0</td>\n",
       "      <td>Sports</td>\n",
       "      <td>15.61</td>\n",
       "      <td>10.93</td>\n",
       "      <td>3.28</td>\n",
       "      <td>2.95</td>\n",
       "      <td>80.0</td>\n",
       "      <td>8.0</td>\n",
       "      <td>E</td>\n",
       "      <td>32.77</td>\n",
       "    </tr>\n",
       "    <tr>\n",
       "      <th>4</th>\n",
       "      <td>Pokemon Red/Pokemon Blue</td>\n",
       "      <td>GB</td>\n",
       "      <td>1996.0</td>\n",
       "      <td>Role-Playing</td>\n",
       "      <td>11.27</td>\n",
       "      <td>8.89</td>\n",
       "      <td>10.22</td>\n",
       "      <td>1.00</td>\n",
       "      <td>200.0</td>\n",
       "      <td>200.0</td>\n",
       "      <td>unknown</td>\n",
       "      <td>31.38</td>\n",
       "    </tr>\n",
       "    <tr>\n",
       "      <th>5</th>\n",
       "      <td>Tetris</td>\n",
       "      <td>GB</td>\n",
       "      <td>1989.0</td>\n",
       "      <td>Puzzle</td>\n",
       "      <td>23.20</td>\n",
       "      <td>2.26</td>\n",
       "      <td>4.22</td>\n",
       "      <td>0.58</td>\n",
       "      <td>200.0</td>\n",
       "      <td>200.0</td>\n",
       "      <td>unknown</td>\n",
       "      <td>30.26</td>\n",
       "    </tr>\n",
       "    <tr>\n",
       "      <th>6</th>\n",
       "      <td>New Super Mario Bros.</td>\n",
       "      <td>DS</td>\n",
       "      <td>2006.0</td>\n",
       "      <td>Platform</td>\n",
       "      <td>11.28</td>\n",
       "      <td>9.14</td>\n",
       "      <td>6.50</td>\n",
       "      <td>2.88</td>\n",
       "      <td>89.0</td>\n",
       "      <td>8.5</td>\n",
       "      <td>E</td>\n",
       "      <td>29.80</td>\n",
       "    </tr>\n",
       "    <tr>\n",
       "      <th>7</th>\n",
       "      <td>Wii Play</td>\n",
       "      <td>Wii</td>\n",
       "      <td>2006.0</td>\n",
       "      <td>Misc</td>\n",
       "      <td>13.96</td>\n",
       "      <td>9.18</td>\n",
       "      <td>2.93</td>\n",
       "      <td>2.84</td>\n",
       "      <td>58.0</td>\n",
       "      <td>6.6</td>\n",
       "      <td>E</td>\n",
       "      <td>28.91</td>\n",
       "    </tr>\n",
       "    <tr>\n",
       "      <th>8</th>\n",
       "      <td>New Super Mario Bros. Wii</td>\n",
       "      <td>Wii</td>\n",
       "      <td>2009.0</td>\n",
       "      <td>Platform</td>\n",
       "      <td>14.44</td>\n",
       "      <td>6.94</td>\n",
       "      <td>4.70</td>\n",
       "      <td>2.24</td>\n",
       "      <td>87.0</td>\n",
       "      <td>8.4</td>\n",
       "      <td>E</td>\n",
       "      <td>28.32</td>\n",
       "    </tr>\n",
       "    <tr>\n",
       "      <th>9</th>\n",
       "      <td>Duck Hunt</td>\n",
       "      <td>NES</td>\n",
       "      <td>1984.0</td>\n",
       "      <td>Shooter</td>\n",
       "      <td>26.93</td>\n",
       "      <td>0.63</td>\n",
       "      <td>0.28</td>\n",
       "      <td>0.47</td>\n",
       "      <td>200.0</td>\n",
       "      <td>200.0</td>\n",
       "      <td>unknown</td>\n",
       "      <td>28.31</td>\n",
       "    </tr>\n",
       "    <tr>\n",
       "      <th>10</th>\n",
       "      <td>Nintendogs</td>\n",
       "      <td>DS</td>\n",
       "      <td>2005.0</td>\n",
       "      <td>Simulation</td>\n",
       "      <td>9.05</td>\n",
       "      <td>10.95</td>\n",
       "      <td>1.93</td>\n",
       "      <td>2.74</td>\n",
       "      <td>200.0</td>\n",
       "      <td>200.0</td>\n",
       "      <td>unknown</td>\n",
       "      <td>24.67</td>\n",
       "    </tr>\n",
       "    <tr>\n",
       "      <th>11</th>\n",
       "      <td>Mario Kart DS</td>\n",
       "      <td>DS</td>\n",
       "      <td>2005.0</td>\n",
       "      <td>Racing</td>\n",
       "      <td>9.71</td>\n",
       "      <td>7.47</td>\n",
       "      <td>4.13</td>\n",
       "      <td>1.90</td>\n",
       "      <td>91.0</td>\n",
       "      <td>8.6</td>\n",
       "      <td>E</td>\n",
       "      <td>23.21</td>\n",
       "    </tr>\n",
       "    <tr>\n",
       "      <th>12</th>\n",
       "      <td>Pokemon Gold/Pokemon Silver</td>\n",
       "      <td>GB</td>\n",
       "      <td>1999.0</td>\n",
       "      <td>Role-Playing</td>\n",
       "      <td>9.00</td>\n",
       "      <td>6.18</td>\n",
       "      <td>7.20</td>\n",
       "      <td>0.71</td>\n",
       "      <td>200.0</td>\n",
       "      <td>200.0</td>\n",
       "      <td>unknown</td>\n",
       "      <td>23.09</td>\n",
       "    </tr>\n",
       "    <tr>\n",
       "      <th>13</th>\n",
       "      <td>Wii Fit</td>\n",
       "      <td>Wii</td>\n",
       "      <td>2007.0</td>\n",
       "      <td>Sports</td>\n",
       "      <td>8.92</td>\n",
       "      <td>8.03</td>\n",
       "      <td>3.60</td>\n",
       "      <td>2.15</td>\n",
       "      <td>80.0</td>\n",
       "      <td>7.7</td>\n",
       "      <td>E</td>\n",
       "      <td>22.70</td>\n",
       "    </tr>\n",
       "    <tr>\n",
       "      <th>14</th>\n",
       "      <td>Kinect Adventures!</td>\n",
       "      <td>X360</td>\n",
       "      <td>2010.0</td>\n",
       "      <td>Misc</td>\n",
       "      <td>15.00</td>\n",
       "      <td>4.89</td>\n",
       "      <td>0.24</td>\n",
       "      <td>1.69</td>\n",
       "      <td>61.0</td>\n",
       "      <td>6.3</td>\n",
       "      <td>E</td>\n",
       "      <td>21.82</td>\n",
       "    </tr>\n",
       "  </tbody>\n",
       "</table>\n",
       "</div>"
      ],
      "text/plain": [
       "                           name platform  year_of_release         genre  \\\n",
       "0                    Wii Sports      Wii           2006.0        Sports   \n",
       "1             Super Mario Bros.      NES           1985.0      Platform   \n",
       "2                Mario Kart Wii      Wii           2008.0        Racing   \n",
       "3             Wii Sports Resort      Wii           2009.0        Sports   \n",
       "4      Pokemon Red/Pokemon Blue       GB           1996.0  Role-Playing   \n",
       "5                        Tetris       GB           1989.0        Puzzle   \n",
       "6         New Super Mario Bros.       DS           2006.0      Platform   \n",
       "7                      Wii Play      Wii           2006.0          Misc   \n",
       "8     New Super Mario Bros. Wii      Wii           2009.0      Platform   \n",
       "9                     Duck Hunt      NES           1984.0       Shooter   \n",
       "10                   Nintendogs       DS           2005.0    Simulation   \n",
       "11                Mario Kart DS       DS           2005.0        Racing   \n",
       "12  Pokemon Gold/Pokemon Silver       GB           1999.0  Role-Playing   \n",
       "13                      Wii Fit      Wii           2007.0        Sports   \n",
       "14           Kinect Adventures!     X360           2010.0          Misc   \n",
       "\n",
       "    na_sales  eu_sales  jp_sales  other_sales  critic_score  user_score  \\\n",
       "0      41.36     28.96      3.77         8.45          76.0         8.0   \n",
       "1      29.08      3.58      6.81         0.77         200.0       200.0   \n",
       "2      15.68     12.76      3.79         3.29          82.0         8.3   \n",
       "3      15.61     10.93      3.28         2.95          80.0         8.0   \n",
       "4      11.27      8.89     10.22         1.00         200.0       200.0   \n",
       "5      23.20      2.26      4.22         0.58         200.0       200.0   \n",
       "6      11.28      9.14      6.50         2.88          89.0         8.5   \n",
       "7      13.96      9.18      2.93         2.84          58.0         6.6   \n",
       "8      14.44      6.94      4.70         2.24          87.0         8.4   \n",
       "9      26.93      0.63      0.28         0.47         200.0       200.0   \n",
       "10      9.05     10.95      1.93         2.74         200.0       200.0   \n",
       "11      9.71      7.47      4.13         1.90          91.0         8.6   \n",
       "12      9.00      6.18      7.20         0.71         200.0       200.0   \n",
       "13      8.92      8.03      3.60         2.15          80.0         7.7   \n",
       "14     15.00      4.89      0.24         1.69          61.0         6.3   \n",
       "\n",
       "     rating  sales_sum  \n",
       "0         E      82.54  \n",
       "1   unknown      40.24  \n",
       "2         E      35.52  \n",
       "3         E      32.77  \n",
       "4   unknown      31.38  \n",
       "5   unknown      30.26  \n",
       "6         E      29.80  \n",
       "7         E      28.91  \n",
       "8         E      28.32  \n",
       "9   unknown      28.31  \n",
       "10  unknown      24.67  \n",
       "11        E      23.21  \n",
       "12  unknown      23.09  \n",
       "13        E      22.70  \n",
       "14        E      21.82  "
      ]
     },
     "execution_count": 26,
     "metadata": {},
     "output_type": "execute_result"
    }
   ],
   "source": [
    "# Посмотрим датафрейм\n",
    "\n",
    "data.head(15). sort_values(by='sales_sum', ascending=False)"
   ]
  },
  {
   "cell_type": "markdown",
   "metadata": {},
   "source": [
    "Игра Wii Sports\tкажется выбросом. Слишком высокие продажи в Северной Америке. Даже выше чем у Марио. Избавимся от этой сроки, чтобы анализ не искажался."
   ]
  },
  {
   "cell_type": "code",
   "execution_count": 27,
   "metadata": {},
   "outputs": [],
   "source": [
    "data = data[data['name'] != 'Wii Sports']"
   ]
  },
  {
   "cell_type": "markdown",
   "metadata": {},
   "source": [
    "### Исследовательский анализ данных.\n",
    "<a id='section_4'></a>"
   ]
  },
  {
   "cell_type": "markdown",
   "metadata": {},
   "source": [
    "#### Количество выпущенных игр в зависимости от года"
   ]
  },
  {
   "cell_type": "code",
   "execution_count": 28,
   "metadata": {},
   "outputs": [
    {
     "data": {
      "text/plain": [
       "Text(0.5, 1.0, 'Зависимость количества игр от года')"
      ]
     },
     "execution_count": 28,
     "metadata": {},
     "output_type": "execute_result"
    },
    {
     "data": {
      "image/png": "[encoded data removed]",
      "text/plain": [
       "<Figure size 864x360 with 1 Axes>"
      ]
     },
     "metadata": {
      "needs_background": "light"
     },
     "output_type": "display_data"
    }
   ],
   "source": [
    "data['year_of_release'].hist(bins=36, figsize=(12,5))\n",
    "\n",
    "plt.xlabel('Год')\n",
    "plt.title('Зависимость количества игр от года')"
   ]
  },
  {
   "cell_type": "markdown",
   "metadata": {},
   "source": [
    "+ 2009 и 2010 - самые богатые года на новые игр - чуть больше 1400 игр в год. \n",
    "+ А до 1991 ожидаемо продавалось мало игр.\n",
    "+ C 2013 по 2015 наблюдается ярковыраженный спад в выпуске игр. Интересно, с чем это связано?\n",
    "\n",
    "Для дальнейшего исследования будем рассматривать только актуальный период - с 2012 по 2016 года. Использование в исследовании данных за предыдущие года некорректно, т.к. по этим данным мы будем делать прогноз на 2017 год."
   ]
  },
  {
   "cell_type": "code",
   "execution_count": 29,
   "metadata": {},
   "outputs": [],
   "source": [
    "data = data[data['year_of_release']>=2012]"
   ]
  },
  {
   "cell_type": "markdown",
   "metadata": {},
   "source": [
    "#### Количество продаж  для каждой из платформ"
   ]
  },
  {
   "cell_type": "markdown",
   "metadata": {},
   "source": [
    "Посмотрим, на какую платформу больше всего продаж?"
   ]
  },
  {
   "cell_type": "code",
   "execution_count": 30,
   "metadata": {},
   "outputs": [
    {
     "data": {
      "text/plain": [
       "platform\n",
       "PS3     493\n",
       "PSV     411\n",
       "3DS     396\n",
       "PS4     392\n",
       "X360    292\n",
       "PC      250\n",
       "XOne    247\n",
       "PSP     173\n",
       "WiiU    147\n",
       "Wii      54\n",
       "DS       31\n",
       "Name: sales_sum, dtype: int64"
      ]
     },
     "execution_count": 30,
     "metadata": {},
     "output_type": "execute_result"
    }
   ],
   "source": [
    "data.groupby('platform')['sales_sum'].count().sort_values(ascending=False)"
   ]
  },
  {
   "cell_type": "markdown",
   "metadata": {},
   "source": [
    "+ Ожидаемо, что самое большое количество игр выпускалось на Play Station - консоли PS3 (топ-1), PSV (топ-2) и PS4 (топ-4).\n",
    "+ Nintendo 3DS входит в топ-3. \n",
    "+ Xbox360 тоже пользуется популярностью (топ-5). \n",
    "+ Персональный компьютер не входит в топ-5 (6 место). Похоже, издатели игр расставили приоритеты не в пользу компьютеров. Посмотрим, оправдалось ли такое решение."
   ]
  },
  {
   "cell_type": "code",
   "execution_count": 31,
   "metadata": {},
   "outputs": [
    {
     "data": {
      "text/plain": [
       "platform\n",
       "PS4     314.14\n",
       "PS3     288.79\n",
       "X360    236.54\n",
       "3DS     194.61\n",
       "XOne    159.32\n",
       "WiiU     82.19\n",
       "PC       62.65\n",
       "PSV      49.18\n",
       "Wii      35.37\n",
       "DS       12.55\n",
       "PSP      11.19\n",
       "Name: sales_sum, dtype: float64"
      ]
     },
     "execution_count": 31,
     "metadata": {},
     "output_type": "execute_result"
    }
   ],
   "source": [
    "data.groupby('platform')['sales_sum'].sum()\\\n",
    "    .sort_values(ascending=False)"
   ]
  },
  {
   "cell_type": "markdown",
   "metadata": {},
   "source": [
    "+ Самая прибыльная платформа - PS4 (314.14 млн проданных копий).\n",
    "+ Для PS3 продали немного меньше игр - 288.79 млн проданных копий (топ-2).\n",
    "+ С отрывом в 52 млн проданных копий идёт Xbox360 (топ-3).\n",
    "+ Для 3DS продали 194.61 млн копий (топ-4).\n",
    "+ Продажи на Xbox One составляют 159.32 млн проданных копий (топ-5).\n",
    "+ Для компьютеров продано 62.65 млн копий игр (7 место). Гипотеза о пересмотрении приоритетов платформ при создании игр вполне правдоподобна. Пользователи компьютеров и правда покупают игры реже, чем пользователи консолей."
   ]
  },
  {
   "cell_type": "markdown",
   "metadata": {},
   "source": [
    "#### Топ-3 игровых платформ\n",
    "<a id='section_5'></a>"
   ]
  },
  {
   "cell_type": "code",
   "execution_count": 32,
   "metadata": {},
   "outputs": [
    {
     "data": {
      "text/html": [
       "<div>\n",
       "<style scoped>\n",
       "    .dataframe tbody tr th:only-of-type {\n",
       "        vertical-align: middle;\n",
       "    }\n",
       "\n",
       "    .dataframe tbody tr th {\n",
       "        vertical-align: top;\n",
       "    }\n",
       "\n",
       "    .dataframe thead th {\n",
       "        text-align: right;\n",
       "    }\n",
       "</style>\n",
       "<table border=\"1\" class=\"dataframe\">\n",
       "  <thead>\n",
       "    <tr style=\"text-align: right;\">\n",
       "      <th></th>\n",
       "      <th></th>\n",
       "      <th>sales_sum</th>\n",
       "      <th>year_of_release</th>\n",
       "    </tr>\n",
       "    <tr>\n",
       "      <th>platform</th>\n",
       "      <th>year_of_release</th>\n",
       "      <th></th>\n",
       "      <th></th>\n",
       "    </tr>\n",
       "  </thead>\n",
       "  <tbody>\n",
       "    <tr>\n",
       "      <th rowspan=\"5\" valign=\"top\">PS3</th>\n",
       "      <th>2012.0</th>\n",
       "      <td>107.36</td>\n",
       "      <td>148</td>\n",
       "    </tr>\n",
       "    <tr>\n",
       "      <th>2013.0</th>\n",
       "      <td>113.25</td>\n",
       "      <td>126</td>\n",
       "    </tr>\n",
       "    <tr>\n",
       "      <th>2014.0</th>\n",
       "      <td>47.76</td>\n",
       "      <td>108</td>\n",
       "    </tr>\n",
       "    <tr>\n",
       "      <th>2015.0</th>\n",
       "      <td>16.82</td>\n",
       "      <td>73</td>\n",
       "    </tr>\n",
       "    <tr>\n",
       "      <th>2016.0</th>\n",
       "      <td>3.60</td>\n",
       "      <td>38</td>\n",
       "    </tr>\n",
       "    <tr>\n",
       "      <th rowspan=\"4\" valign=\"top\">PS4</th>\n",
       "      <th>2013.0</th>\n",
       "      <td>25.99</td>\n",
       "      <td>16</td>\n",
       "    </tr>\n",
       "    <tr>\n",
       "      <th>2014.0</th>\n",
       "      <td>100.00</td>\n",
       "      <td>75</td>\n",
       "    </tr>\n",
       "    <tr>\n",
       "      <th>2015.0</th>\n",
       "      <td>118.90</td>\n",
       "      <td>137</td>\n",
       "    </tr>\n",
       "    <tr>\n",
       "      <th>2016.0</th>\n",
       "      <td>69.25</td>\n",
       "      <td>164</td>\n",
       "    </tr>\n",
       "    <tr>\n",
       "      <th rowspan=\"5\" valign=\"top\">X360</th>\n",
       "      <th>2012.0</th>\n",
       "      <td>99.74</td>\n",
       "      <td>106</td>\n",
       "    </tr>\n",
       "    <tr>\n",
       "      <th>2013.0</th>\n",
       "      <td>88.58</td>\n",
       "      <td>75</td>\n",
       "    </tr>\n",
       "    <tr>\n",
       "      <th>2014.0</th>\n",
       "      <td>34.74</td>\n",
       "      <td>63</td>\n",
       "    </tr>\n",
       "    <tr>\n",
       "      <th>2015.0</th>\n",
       "      <td>11.96</td>\n",
       "      <td>35</td>\n",
       "    </tr>\n",
       "    <tr>\n",
       "      <th>2016.0</th>\n",
       "      <td>1.52</td>\n",
       "      <td>13</td>\n",
       "    </tr>\n",
       "  </tbody>\n",
       "</table>\n",
       "</div>"
      ],
      "text/plain": [
       "                          sales_sum  year_of_release\n",
       "platform year_of_release                            \n",
       "PS3      2012.0              107.36              148\n",
       "         2013.0              113.25              126\n",
       "         2014.0               47.76              108\n",
       "         2015.0               16.82               73\n",
       "         2016.0                3.60               38\n",
       "PS4      2013.0               25.99               16\n",
       "         2014.0              100.00               75\n",
       "         2015.0              118.90              137\n",
       "         2016.0               69.25              164\n",
       "X360     2012.0               99.74              106\n",
       "         2013.0               88.58               75\n",
       "         2014.0               34.74               63\n",
       "         2015.0               11.96               35\n",
       "         2016.0                1.52               13"
      ]
     },
     "execution_count": 32,
     "metadata": {},
     "output_type": "execute_result"
    }
   ],
   "source": [
    "#data.nlargest(20, 'sales_sum')\\\n",
    "#data[data['platform'] in ['PS2', 'X360', 'PS']]\n",
    "top_3_platform = data.query(\"platform in ['PS4','PS3','X360']\")\n",
    "top_3_platform.groupby(['platform', 'year_of_release']).agg({'sales_sum':'sum', 'year_of_release':'count'})"
   ]
  },
  {
   "cell_type": "markdown",
   "metadata": {},
   "source": [
    "+ PS3 в 2013 году достигла пика популярности. Наш датафрейм ограничивается 2016 годом, но этого достаточно, чтобы сказать, что за 3 года игры на эту платформу стали редкими.\n",
    "+ PS4 за 2 года достигла пика популярности по продажам в 2015 году. В 2016 году продажи пошли на спад.\n",
    "+ X360 достигла своего расцвета в 2011-2012 году. Спустя 4 года игры на эту платформу стали редкими."
   ]
  },
  {
   "cell_type": "code",
   "execution_count": 33,
   "metadata": {},
   "outputs": [
    {
     "data": {
      "text/plain": [
       "Text(0, 0.5, 'Объем продаж, млн.копий')"
      ]
     },
     "execution_count": 33,
     "metadata": {},
     "output_type": "execute_result"
    },
    {
     "data": {
      "image/png": "[encoded data removed]",
      "text/plain": [
       "<Figure size 864x360 with 1 Axes>"
      ]
     },
     "metadata": {
      "needs_background": "light"
     },
     "output_type": "display_data"
    }
   ],
   "source": [
    "top_3_platform.pivot_table(index='year_of_release',\\\n",
    "                                            columns='platform',\\\n",
    "                                            values='sales_sum',\\\n",
    "                                            aggfunc='sum').plot(grid=True, kind='bar', figsize=(12,5))\n",
    "plt.title('Распределение глобальных продаж для топ-3 платформ')\n",
    "plt.xlabel('Год')\n",
    "plt.ylabel('Объем продаж, млн.копий')\n",
    "#plt.ylim(0,20)"
   ]
  },
  {
   "cell_type": "markdown",
   "metadata": {},
   "source": [
    "+ По объёму продаж самую большую популярность PS3 имела в 2013 году,  PS4 - в 2015 году, X360 - в 2012 году.\n",
    "+ Интересный факт: для платформ PS3 и PS4 год с максмальным количество игр, выпущенных на эту платформу, и год с пиком глобальных продаж, отличаются.\n",
    "\n",
    "> Платформы набирают популярность по продажам примерно 2 года.\n",
    "> Примерно спустя 3 года продажи на платформу начинают стремиться к 0. "
   ]
  },
  {
   "cell_type": "code",
   "execution_count": 34,
   "metadata": {
    "scrolled": false
   },
   "outputs": [
    {
     "data": {
      "text/plain": [
       "(0.0, 8.0)"
      ]
     },
     "execution_count": 34,
     "metadata": {},
     "output_type": "execute_result"
    },
    {
     "data": {
      "image/png": "[encoded data removed]",
      "text/plain": [
       "<Figure size 576x576 with 1 Axes>"
      ]
     },
     "metadata": {
      "needs_background": "light"
     },
     "output_type": "display_data"
    }
   ],
   "source": [
    "#top_3_platform = data.query(\"platform in ['PS2','X360','PS3']\")\n",
    "#top_3_platform.boxplot(grid=True, column='sales_sum', figsize=(8,8))\n",
    "data[data['platform'] == 'X360'].boxplot(grid=True, column='sales_sum', figsize=(8,8))\n",
    "\n",
    "plt.ylim(0, 8)"
   ]
  },
  {
   "cell_type": "markdown",
   "metadata": {},
   "source": [
    "Уточним описание."
   ]
  },
  {
   "cell_type": "code",
   "execution_count": 35,
   "metadata": {},
   "outputs": [
    {
     "data": {
      "text/plain": [
       "count    292.000000\n",
       "mean       0.810068\n",
       "std        1.712069\n",
       "min        0.010000\n",
       "25%        0.100000\n",
       "50%        0.310000\n",
       "75%        0.870000\n",
       "max       16.270000\n",
       "Name: sales_sum, dtype: float64"
      ]
     },
     "execution_count": 35,
     "metadata": {},
     "output_type": "execute_result"
    }
   ],
   "source": [
    "data[data['platform'] == 'X360']['sales_sum'].describe()"
   ]
  },
  {
   "cell_type": "markdown",
   "metadata": {},
   "source": [
    "+ Медианное количество продаж игр для X360 - 280 тысяч копий.\n",
    "+ Если судить по диаграмме размаха, количество продаж примерно до 3.5 млн копий происходит достаточно часто.\n",
    "+ Продажи cвыше 3.5 млн копий - единичные случаи, не смотря на то, что есть игра, достигшая 21.82 млн продаж."
   ]
  },
  {
   "cell_type": "code",
   "execution_count": 36,
   "metadata": {},
   "outputs": [
    {
     "data": {
      "text/plain": [
       "(0.0, 7.0)"
      ]
     },
     "execution_count": 36,
     "metadata": {},
     "output_type": "execute_result"
    },
    {
     "data": {
      "image/png": "[encoded data removed]",
      "text/plain": [
       "<Figure size 576x576 with 1 Axes>"
      ]
     },
     "metadata": {
      "needs_background": "light"
     },
     "output_type": "display_data"
    }
   ],
   "source": [
    "data[data['platform'] == 'PS3'].boxplot(grid=True, column='sales_sum', figsize=(8,8))\n",
    "\n",
    "plt.ylim(0, 7)"
   ]
  },
  {
   "cell_type": "code",
   "execution_count": 37,
   "metadata": {},
   "outputs": [
    {
     "data": {
      "text/plain": [
       "count    493.000000\n",
       "mean       0.585781\n",
       "std        1.462855\n",
       "min        0.010000\n",
       "25%        0.050000\n",
       "50%        0.200000\n",
       "75%        0.610000\n",
       "max       21.050000\n",
       "Name: sales_sum, dtype: float64"
      ]
     },
     "execution_count": 37,
     "metadata": {},
     "output_type": "execute_result"
    }
   ],
   "source": [
    "data[data['platform'] == 'PS3']['sales_sum'].describe()"
   ]
  },
  {
   "cell_type": "markdown",
   "metadata": {},
   "source": [
    "+ Медианное количество продаж игр для PS3 - 280 тысяч копий.\n",
    "+ Если судить по диаграмме размаха, количество продаж примерно до 3 млн копий происходит достаточно часто.\n",
    "+ Продажи cвыше 3 млн копий - единичные случаи, не смотря на то, что есть игра, достигшая 21.05 млн продаж."
   ]
  },
  {
   "cell_type": "code",
   "execution_count": 38,
   "metadata": {},
   "outputs": [
    {
     "data": {
      "text/plain": [
       "(0.0, 5.0)"
      ]
     },
     "execution_count": 38,
     "metadata": {},
     "output_type": "execute_result"
    },
    {
     "data": {
      "image/png": "[encoded data removed]",
      "text/plain": [
       "<Figure size 576x576 with 1 Axes>"
      ]
     },
     "metadata": {
      "needs_background": "light"
     },
     "output_type": "display_data"
    }
   ],
   "source": [
    "data[data['platform'] == 'PS4'].boxplot(grid=True, column='sales_sum', figsize=(8,8))\n",
    "\n",
    "plt.ylim(0, 5)"
   ]
  },
  {
   "cell_type": "code",
   "execution_count": 39,
   "metadata": {},
   "outputs": [
    {
     "data": {
      "text/plain": [
       "count    392.000000\n",
       "mean       0.801378\n",
       "std        1.609456\n",
       "min        0.010000\n",
       "25%        0.060000\n",
       "50%        0.200000\n",
       "75%        0.730000\n",
       "max       14.630000\n",
       "Name: sales_sum, dtype: float64"
      ]
     },
     "execution_count": 39,
     "metadata": {},
     "output_type": "execute_result"
    }
   ],
   "source": [
    "data[data['platform'] == 'PS4']['sales_sum'].describe()"
   ]
  },
  {
   "cell_type": "markdown",
   "metadata": {},
   "source": [
    "+ Медианное количество продаж игр для PS4 - 200 тысяч копий.\n",
    "+ Если судить по диаграмме размаха, количество продаж примерно до 2.2 млн копий происходит достаточно часто.\n",
    "+ Продажи cвыше 2.2 млн копий - единичные случаи, не смотря на то, что есть игра, достигшая 14.63 млн продаж."
   ]
  },
  {
   "cell_type": "markdown",
   "metadata": {},
   "source": [
    "#### Зависимость количества продаж от оценки критиков и пользователей\n",
    "<a id='section_6'></a>"
   ]
  },
  {
   "cell_type": "markdown",
   "metadata": {},
   "source": [
    "Для исследования возьмём самую прибыльную платформу - PS4. "
   ]
  },
  {
   "cell_type": "code",
   "execution_count": 40,
   "metadata": {},
   "outputs": [],
   "source": [
    "data_score_ps4 = data[data['platform'] == 'PS4']"
   ]
  },
  {
   "cell_type": "markdown",
   "metadata": {},
   "source": [
    "##### Зависимость количества продаж от оценки критиков"
   ]
  },
  {
   "cell_type": "code",
   "execution_count": 41,
   "metadata": {},
   "outputs": [
    {
     "data": {
      "text/plain": [
       "Text(0.5, 1.0, 'Зависимость глобальных продаж от оценки критиков')"
      ]
     },
     "execution_count": 41,
     "metadata": {},
     "output_type": "execute_result"
    },
    {
     "data": {
      "image/png": "[encoded data removed]",
      "text/plain": [
       "<Figure size 864x360 with 1 Axes>"
      ]
     },
     "metadata": {
      "needs_background": "light"
     },
     "output_type": "display_data"
    }
   ],
   "source": [
    "data_score_ps4.pivot_table(index='critic_score', values='sales_sum')\n",
    "\n",
    "data_score_ps4.plot(x='critic_score', y='sales_sum', grid=True,  figsize=(12,5), kind='scatter')\n",
    "    \n",
    "plt.xlabel('Оценки критиков')\n",
    "plt.ylabel('Глобальные продажи, млн копий')\n",
    "plt.title('Зависимость глобальных продаж от оценки критиков')"
   ]
  },
  {
   "cell_type": "markdown",
   "metadata": {},
   "source": [
    "Не забываем, что в столбце с оценкой критиков хранятся не только оценки, но и кодовые значения 200 - отсутствие оценки. Таких игр много. Посмотрим данные в разреза от игр без оценки критиков."
   ]
  },
  {
   "cell_type": "code",
   "execution_count": 42,
   "metadata": {},
   "outputs": [
    {
     "data": {
      "text/plain": [
       "(0.0, 9.0)"
      ]
     },
     "execution_count": 42,
     "metadata": {},
     "output_type": "execute_result"
    },
    {
     "data": {
      "image/png": "[encoded data removed]",
      "text/plain": [
       "<Figure size 864x360 with 1 Axes>"
      ]
     },
     "metadata": {
      "needs_background": "light"
     },
     "output_type": "display_data"
    }
   ],
   "source": [
    "data_critic_score = data_score_ps4.query(\"critic_score != 200\")\n",
    "data_critic_score.pivot_table(index='critic_score', values='sales_sum')\n",
    "\n",
    "data_critic_score.plot(x='critic_score', y='sales_sum', grid=True,  figsize=(12,5), kind='scatter')\n",
    "    \n",
    "plt.xlabel('Оценки критиков')\n",
    "plt.ylabel('Глобальные продажи, млн копий')\n",
    "plt.title('Зависимость глобальных продаж от оценки критиков')\n",
    "plt.ylim(0, 9)"
   ]
  },
  {
   "cell_type": "markdown",
   "metadata": {},
   "source": [
    "По диаграмме рассеивания можно увидеть тенденцию к увеличению оценки критиков при росте глобальных продаж. Но есть значения, не попадающие под влияние тенденции."
   ]
  },
  {
   "cell_type": "markdown",
   "metadata": {},
   "source": [
    "Рассчитаем коэффициент корреляции Пирсона - чем ближе коэффициент корреляции Пирсона к крайним значениям 1 или -1, тем очивидее линейная взаимосвязь. Если значение близко к нулю, значит, линейная связь слабая либо отсутствует вовсе. "
   ]
  },
  {
   "cell_type": "code",
   "execution_count": 43,
   "metadata": {},
   "outputs": [
    {
     "data": {
      "text/plain": [
       "0.40656790206178095"
      ]
     },
     "execution_count": 43,
     "metadata": {},
     "output_type": "execute_result"
    }
   ],
   "source": [
    "data_critic_score['critic_score'].corr(data_critic_score['sales_sum'])"
   ]
  },
  {
   "cell_type": "markdown",
   "metadata": {},
   "source": [
    "Коэффициент корреляции Пирсона равен 0.41. Зависимость между глобальными продажами и оценкой пользователей прослеживается. Значит линейная связь между успешностью игры и оценкой пользователей подтверждается."
   ]
  },
  {
   "cell_type": "markdown",
   "metadata": {},
   "source": [
    "##### Зависимость количества продаж от оценки пользователей"
   ]
  },
  {
   "cell_type": "markdown",
   "metadata": {},
   "source": [
    "Уберём сразу данные с *tbd* и пропуски."
   ]
  },
  {
   "cell_type": "code",
   "execution_count": 44,
   "metadata": {},
   "outputs": [
    {
     "data": {
      "text/plain": [
       "(0.0, 9.0)"
      ]
     },
     "execution_count": 44,
     "metadata": {},
     "output_type": "execute_result"
    },
    {
     "data": {
      "image/png": "[encoded data removed]",
      "text/plain": [
       "<Figure size 864x360 with 1 Axes>"
      ]
     },
     "metadata": {
      "needs_background": "light"
     },
     "output_type": "display_data"
    }
   ],
   "source": [
    "data_user_score = data_score_ps4.query(\"user_score <= 100\")\n",
    "data_user_score.pivot_table(index='user_score', values='sales_sum')\n",
    "\n",
    "data_user_score.plot(x='user_score', y='sales_sum', grid=True,  figsize=(12,5), kind='scatter')\n",
    "    \n",
    "plt.xlabel('Оценки пользователей')\n",
    "plt.ylabel('Глобальные продажи, млн копий')\n",
    "plt.title('Зависимость глобальных продаж от оценки пользователей')\n",
    "plt.ylim(0, 9)"
   ]
  },
  {
   "cell_type": "markdown",
   "metadata": {},
   "source": [
    "По диаграмме рассеивания оценки пользователей сложно сделать выводы о наличии связи. Но значения более хаотичнее, чем оценка критиков."
   ]
  },
  {
   "cell_type": "markdown",
   "metadata": {},
   "source": [
    "Рассчитаем коэффициент корреляции Пирсона - чем ближе коэффициент корреляции Пирсона к крайним значениям 1 или -1, тем очивидее линейная взаимосвязь. Если значение близко к нулю, значит, линейная связь слабая либо отсутствует вовсе. "
   ]
  },
  {
   "cell_type": "code",
   "execution_count": 45,
   "metadata": {},
   "outputs": [
    {
     "data": {
      "text/plain": [
       "-0.03195711020455639"
      ]
     },
     "execution_count": 45,
     "metadata": {},
     "output_type": "execute_result"
    }
   ],
   "source": [
    "data_user_score['user_score'].corr(data_user_score['sales_sum'])"
   ]
  },
  {
   "cell_type": "markdown",
   "metadata": {},
   "source": [
    "Значит линейная связь между глобальными продажами и оценкой пользователей отсутствует. Гипотеза о наличии зависимости между успешностью игры и оценкой пользователей не подтверждается. \n",
    "\n",
    "> Оказывается, оценка критиков точнее оценки пользователей."
   ]
  },
  {
   "cell_type": "markdown",
   "metadata": {},
   "source": [
    "Оценка выборки датафрейма тождественна оценке генеральной совокупности. Будем придерживаться данных выводов не только для PS4, но и для всех игр."
   ]
  },
  {
   "cell_type": "markdown",
   "metadata": {},
   "source": [
    "#### Зависимость успешности игры от жанра\n",
    "<a id='section_8'></a>"
   ]
  },
  {
   "cell_type": "code",
   "execution_count": 46,
   "metadata": {},
   "outputs": [
    {
     "data": {
      "text/plain": [
       "(0.0, 15.0)"
      ]
     },
     "execution_count": 46,
     "metadata": {},
     "output_type": "execute_result"
    },
    {
     "data": {
      "image/png": "[encoded data removed]",
      "text/plain": [
       "<Figure size 864x360 with 1 Axes>"
      ]
     },
     "metadata": {
      "needs_background": "light"
     },
     "output_type": "display_data"
    }
   ],
   "source": [
    "data.pivot_table(index='genre', values='sales_sum')\n",
    "\n",
    "data.plot(x='genre', y='sales_sum', grid=True,  figsize=(12,5), kind='scatter')\n",
    "    \n",
    "plt.xlabel('Жанры')\n",
    "plt.ylabel('Глобальные продажи, млн копий')\n",
    "plt.title('Зависимость глобальных продаж от жанра')\n",
    "plt.ylim(0, 15)"
   ]
  },
  {
   "cell_type": "markdown",
   "metadata": {},
   "source": [
    "+ На графике явно видно, что у шутеров глобальные продажи выше.\n",
    "+ Среди Role-Playing и Action тоже есть игры с высокими глобальными продажами, но у шутеров такие игры встречаются чаще. \n",
    "+ Самые низкие продажи у игр-пазлов, приключенческих игр и стратегий."
   ]
  },
  {
   "cell_type": "code",
   "execution_count": 47,
   "metadata": {},
   "outputs": [
    {
     "data": {
      "text/plain": [
       "genre\n",
       "Shooter         0.440\n",
       "Sports          0.240\n",
       "Platform        0.210\n",
       "Role-Playing    0.140\n",
       "Racing          0.140\n",
       "Fighting        0.130\n",
       "Action          0.120\n",
       "Misc            0.120\n",
       "Simulation      0.120\n",
       "Strategy        0.080\n",
       "Puzzle          0.045\n",
       "Adventure       0.030\n",
       "Name: sales_sum, dtype: float64"
      ]
     },
     "execution_count": 47,
     "metadata": {},
     "output_type": "execute_result"
    }
   ],
   "source": [
    "data.groupby(by='genre')['sales_sum'].median()\\\n",
    "    .sort_values(ascending=False)"
   ]
  },
  {
   "cell_type": "markdown",
   "metadata": {},
   "source": [
    "Судя по медианным значениям количества продаж игр, самый успешный жанр - шутеры. Второе и третье место разделили спортивные игры и платформеры. А Role-Playing и Action разделили 4 и 7 места по количеству продаж соотвественно.\n",
    "\n",
    "Игры-пазлы, приключенческие игры и стратегии, как и ожидалось, имеют самые низкие продажи."
   ]
  },
  {
   "cell_type": "code",
   "execution_count": 48,
   "metadata": {},
   "outputs": [
    {
     "data": {
      "text/plain": [
       "Text(0.5, 1.0, 'Количество выпускаемых игр в каждом жанре')"
      ]
     },
     "execution_count": 48,
     "metadata": {},
     "output_type": "execute_result"
    },
    {
     "data": {
      "image/png": "[encoded data removed]",
      "text/plain": [
       "<Figure size 936x360 with 1 Axes>"
      ]
     },
     "metadata": {
      "needs_background": "light"
     },
     "output_type": "display_data"
    }
   ],
   "source": [
    "data['genre'].hist(bins=12, figsize=(13,5))\n",
    "\n",
    "plt.xlabel('Жанры')\n",
    "plt.ylabel('Количество игр')\n",
    "plt.title('Количество выпускаемых игр в каждом жанре')"
   ]
  },
  {
   "cell_type": "markdown",
   "metadata": {},
   "source": [
    "+ Чаще всего выпускают игры жанра экшн.\n",
    "+ Не смотря на то, что шутеры самые продаваемые, их выпускают меньше спортивных игр, прилюченческих игр и RPG (Role-Playing).\n",
    "+ Самые редко выпускаемые игры в порядке возрастания: игры-пазлы, стратегии, файтинги и гонки.\n",
    "+ Не смотря на то, что приключенческих игр выпускают много, успешностью они особо не пользуются (самые низкие глобальные продажи среди всех жанров)."
   ]
  },
  {
   "cell_type": "markdown",
   "metadata": {},
   "source": [
    "### Портрет пользователя каждого региона\n",
    "<a id='section_7'></a>"
   ]
  },
  {
   "cell_type": "markdown",
   "metadata": {},
   "source": [
    "#### Северная Америка"
   ]
  },
  {
   "cell_type": "markdown",
   "metadata": {},
   "source": [
    "##### Самые популярные платформы"
   ]
  },
  {
   "cell_type": "code",
   "execution_count": 49,
   "metadata": {},
   "outputs": [
    {
     "data": {
      "text/html": [
       "<div>\n",
       "<style scoped>\n",
       "    .dataframe tbody tr th:only-of-type {\n",
       "        vertical-align: middle;\n",
       "    }\n",
       "\n",
       "    .dataframe tbody tr th {\n",
       "        vertical-align: top;\n",
       "    }\n",
       "\n",
       "    .dataframe thead th {\n",
       "        text-align: right;\n",
       "    }\n",
       "</style>\n",
       "<table border=\"1\" class=\"dataframe\">\n",
       "  <thead>\n",
       "    <tr style=\"text-align: right;\">\n",
       "      <th></th>\n",
       "      <th>na_sales</th>\n",
       "      <th>percent_of_global</th>\n",
       "    </tr>\n",
       "    <tr>\n",
       "      <th>platform</th>\n",
       "      <th></th>\n",
       "      <th></th>\n",
       "    </tr>\n",
       "  </thead>\n",
       "  <tbody>\n",
       "    <tr>\n",
       "      <th>X360</th>\n",
       "      <td>140.05</td>\n",
       "      <td>23.698326</td>\n",
       "    </tr>\n",
       "    <tr>\n",
       "      <th>PS4</th>\n",
       "      <td>108.74</td>\n",
       "      <td>18.400257</td>\n",
       "    </tr>\n",
       "    <tr>\n",
       "      <th>PS3</th>\n",
       "      <td>103.38</td>\n",
       "      <td>17.493274</td>\n",
       "    </tr>\n",
       "    <tr>\n",
       "      <th>XOne</th>\n",
       "      <td>93.12</td>\n",
       "      <td>15.757145</td>\n",
       "    </tr>\n",
       "    <tr>\n",
       "      <th>3DS</th>\n",
       "      <td>55.31</td>\n",
       "      <td>9.359189</td>\n",
       "    </tr>\n",
       "  </tbody>\n",
       "</table>\n",
       "</div>"
      ],
      "text/plain": [
       "          na_sales  percent_of_global\n",
       "platform                             \n",
       "X360        140.05          23.698326\n",
       "PS4         108.74          18.400257\n",
       "PS3         103.38          17.493274\n",
       "XOne         93.12          15.757145\n",
       "3DS          55.31           9.359189"
      ]
     },
     "execution_count": 49,
     "metadata": {},
     "output_type": "execute_result"
    }
   ],
   "source": [
    "top_5_na = data.query('na_sales != 0').groupby('platform')['na_sales'].sum().sort_values(ascending=False).head(5)\n",
    "top_5_na = pd.DataFrame(top_5_na)\n",
    "sales_sum_na = sum(data['na_sales'])\n",
    "top_5_na['percent_of_global'] = top_5_na['na_sales']/sales_sum_na*100\n",
    "\n",
    "top_5_na"
   ]
  },
  {
   "cell_type": "markdown",
   "metadata": {},
   "source": [
    "+ Удивительно, но Xbox360 популярнее в Северной Америке.\n",
    "+ A 3DS менее популярна."
   ]
  },
  {
   "cell_type": "markdown",
   "metadata": {},
   "source": [
    "##### Рейтинг ESRB"
   ]
  },
  {
   "cell_type": "code",
   "execution_count": 50,
   "metadata": {},
   "outputs": [
    {
     "data": {
      "text/plain": [
       "rating\n",
       "M          231.57\n",
       "E          114.37\n",
       "unknown    103.31\n",
       "E10+        75.70\n",
       "T           66.02\n",
       "Name: na_sales, dtype: float64"
      ]
     },
     "execution_count": 50,
     "metadata": {},
     "output_type": "execute_result"
    }
   ],
   "source": [
    "rating_na = data.query('na_sales != 0').groupby('rating')['na_sales'].sum().sort_values(ascending=False)\n",
    "rating_na"
   ]
  },
  {
   "cell_type": "markdown",
   "metadata": {},
   "source": [
    "Лидирует рейтинг М (для взрослых)."
   ]
  },
  {
   "cell_type": "markdown",
   "metadata": {},
   "source": [
    "##### Самые популярные жанры"
   ]
  },
  {
   "cell_type": "code",
   "execution_count": 51,
   "metadata": {},
   "outputs": [
    {
     "data": {
      "text/html": [
       "<div>\n",
       "<style scoped>\n",
       "    .dataframe tbody tr th:only-of-type {\n",
       "        vertical-align: middle;\n",
       "    }\n",
       "\n",
       "    .dataframe tbody tr th {\n",
       "        vertical-align: top;\n",
       "    }\n",
       "\n",
       "    .dataframe thead th {\n",
       "        text-align: right;\n",
       "    }\n",
       "</style>\n",
       "<table border=\"1\" class=\"dataframe\">\n",
       "  <thead>\n",
       "    <tr style=\"text-align: right;\">\n",
       "      <th></th>\n",
       "      <th>na_sales</th>\n",
       "      <th>percent_of_global</th>\n",
       "    </tr>\n",
       "    <tr>\n",
       "      <th>genre</th>\n",
       "      <th></th>\n",
       "      <th></th>\n",
       "    </tr>\n",
       "  </thead>\n",
       "  <tbody>\n",
       "    <tr>\n",
       "      <th>Action</th>\n",
       "      <td>177.84</td>\n",
       "      <td>30.092898</td>\n",
       "    </tr>\n",
       "    <tr>\n",
       "      <th>Shooter</th>\n",
       "      <td>144.77</td>\n",
       "      <td>24.497013</td>\n",
       "    </tr>\n",
       "    <tr>\n",
       "      <th>Sports</th>\n",
       "      <td>81.53</td>\n",
       "      <td>13.795963</td>\n",
       "    </tr>\n",
       "    <tr>\n",
       "      <th>Role-Playing</th>\n",
       "      <td>64.00</td>\n",
       "      <td>10.829653</td>\n",
       "    </tr>\n",
       "    <tr>\n",
       "      <th>Misc</th>\n",
       "      <td>38.19</td>\n",
       "      <td>6.462257</td>\n",
       "    </tr>\n",
       "  </tbody>\n",
       "</table>\n",
       "</div>"
      ],
      "text/plain": [
       "              na_sales  percent_of_global\n",
       "genre                                    \n",
       "Action          177.84          30.092898\n",
       "Shooter         144.77          24.497013\n",
       "Sports           81.53          13.795963\n",
       "Role-Playing     64.00          10.829653\n",
       "Misc             38.19           6.462257"
      ]
     },
     "execution_count": 51,
     "metadata": {},
     "output_type": "execute_result"
    }
   ],
   "source": [
    "top_5_na_genre = data.query('na_sales != 0').groupby('genre')['na_sales'].sum().sort_values(ascending=False).head(5)\n",
    "top_5_na_genre = pd.DataFrame(top_5_na_genre)\n",
    "sales_sum_na = sum(data['na_sales'])\n",
    "top_5_na_genre['percent_of_global'] = top_5_na_genre['na_sales']/sales_sum_na*100\n",
    "\n",
    "top_5_na_genre"
   ]
  },
  {
   "cell_type": "markdown",
   "metadata": {},
   "source": [
    "+ В Северной Америке самый популярный жанр - экшн.\n",
    "+ Шутеры разместились на 2 месте по популярности.\n",
    "+ Платформеры вышли из топ-5: его место заняли игры жанра Misc\n",
    "."
   ]
  },
  {
   "cell_type": "markdown",
   "metadata": {},
   "source": [
    "#### Европа"
   ]
  },
  {
   "cell_type": "markdown",
   "metadata": {},
   "source": [
    "##### Самые популярные платформы"
   ]
  },
  {
   "cell_type": "code",
   "execution_count": 52,
   "metadata": {},
   "outputs": [
    {
     "data": {
      "text/html": [
       "<div>\n",
       "<style scoped>\n",
       "    .dataframe tbody tr th:only-of-type {\n",
       "        vertical-align: middle;\n",
       "    }\n",
       "\n",
       "    .dataframe tbody tr th {\n",
       "        vertical-align: top;\n",
       "    }\n",
       "\n",
       "    .dataframe thead th {\n",
       "        text-align: right;\n",
       "    }\n",
       "</style>\n",
       "<table border=\"1\" class=\"dataframe\">\n",
       "  <thead>\n",
       "    <tr style=\"text-align: right;\">\n",
       "      <th></th>\n",
       "      <th>eu_sales</th>\n",
       "      <th>percent_of_global</th>\n",
       "    </tr>\n",
       "    <tr>\n",
       "      <th>platform</th>\n",
       "      <th></th>\n",
       "      <th></th>\n",
       "    </tr>\n",
       "  </thead>\n",
       "  <tbody>\n",
       "    <tr>\n",
       "      <th>PS4</th>\n",
       "      <td>141.09</td>\n",
       "      <td>27.838286</td>\n",
       "    </tr>\n",
       "    <tr>\n",
       "      <th>PS3</th>\n",
       "      <td>106.86</td>\n",
       "      <td>21.084409</td>\n",
       "    </tr>\n",
       "    <tr>\n",
       "      <th>X360</th>\n",
       "      <td>74.52</td>\n",
       "      <td>14.703445</td>\n",
       "    </tr>\n",
       "    <tr>\n",
       "      <th>XOne</th>\n",
       "      <td>51.59</td>\n",
       "      <td>10.179156</td>\n",
       "    </tr>\n",
       "    <tr>\n",
       "      <th>3DS</th>\n",
       "      <td>42.64</td>\n",
       "      <td>8.413243</td>\n",
       "    </tr>\n",
       "  </tbody>\n",
       "</table>\n",
       "</div>"
      ],
      "text/plain": [
       "          eu_sales  percent_of_global\n",
       "platform                             \n",
       "PS4         141.09          27.838286\n",
       "PS3         106.86          21.084409\n",
       "X360         74.52          14.703445\n",
       "XOne         51.59          10.179156\n",
       "3DS          42.64           8.413243"
      ]
     },
     "execution_count": 52,
     "metadata": {},
     "output_type": "execute_result"
    }
   ],
   "source": [
    "top_5_eu = data.query('eu_sales != 0').groupby('platform')['eu_sales'].sum().sort_values(ascending=False).head(5)\n",
    "top_5_eu = pd.DataFrame(top_5_eu)\n",
    "sales_sum_eu = sum(data['eu_sales'])\n",
    "top_5_eu['percent_of_global'] = top_5_eu['eu_sales']/sales_sum_eu*100\n",
    "\n",
    "top_5_eu"
   ]
  },
  {
   "cell_type": "markdown",
   "metadata": {},
   "source": [
    "+ Xbox One в Европе популярнее, чем в мире (4 место по популярности, а не 5). "
   ]
  },
  {
   "cell_type": "markdown",
   "metadata": {},
   "source": [
    "##### Рейтинг ESRB"
   ]
  },
  {
   "cell_type": "code",
   "execution_count": 53,
   "metadata": {},
   "outputs": [
    {
     "data": {
      "text/plain": [
       "rating\n",
       "M          193.96\n",
       "E          113.03\n",
       "unknown     91.50\n",
       "E10+        55.37\n",
       "T           52.96\n",
       "Name: eu_sales, dtype: float64"
      ]
     },
     "execution_count": 53,
     "metadata": {},
     "output_type": "execute_result"
    }
   ],
   "source": [
    "rating_eu = data.query('eu_sales != 0').groupby('rating')['eu_sales'].sum().sort_values(ascending=False)\n",
    "rating_eu"
   ]
  },
  {
   "cell_type": "markdown",
   "metadata": {},
   "source": [
    "Картина cхожая с рейтингом ESRB Северной Америки."
   ]
  },
  {
   "cell_type": "markdown",
   "metadata": {},
   "source": [
    "##### Самые популярные жанры"
   ]
  },
  {
   "cell_type": "code",
   "execution_count": 54,
   "metadata": {},
   "outputs": [
    {
     "data": {
      "text/html": [
       "<div>\n",
       "<style scoped>\n",
       "    .dataframe tbody tr th:only-of-type {\n",
       "        vertical-align: middle;\n",
       "    }\n",
       "\n",
       "    .dataframe tbody tr th {\n",
       "        vertical-align: top;\n",
       "    }\n",
       "\n",
       "    .dataframe thead th {\n",
       "        text-align: right;\n",
       "    }\n",
       "</style>\n",
       "<table border=\"1\" class=\"dataframe\">\n",
       "  <thead>\n",
       "    <tr style=\"text-align: right;\">\n",
       "      <th></th>\n",
       "      <th>eu_sales</th>\n",
       "      <th>percent_of_global</th>\n",
       "    </tr>\n",
       "    <tr>\n",
       "      <th>genre</th>\n",
       "      <th></th>\n",
       "      <th></th>\n",
       "    </tr>\n",
       "  </thead>\n",
       "  <tbody>\n",
       "    <tr>\n",
       "      <th>Action</th>\n",
       "      <td>159.34</td>\n",
       "      <td>31.439170</td>\n",
       "    </tr>\n",
       "    <tr>\n",
       "      <th>Shooter</th>\n",
       "      <td>113.47</td>\n",
       "      <td>22.388619</td>\n",
       "    </tr>\n",
       "    <tr>\n",
       "      <th>Sports</th>\n",
       "      <td>69.09</td>\n",
       "      <td>13.632059</td>\n",
       "    </tr>\n",
       "    <tr>\n",
       "      <th>Role-Playing</th>\n",
       "      <td>48.53</td>\n",
       "      <td>9.575392</td>\n",
       "    </tr>\n",
       "    <tr>\n",
       "      <th>Racing</th>\n",
       "      <td>27.29</td>\n",
       "      <td>5.384555</td>\n",
       "    </tr>\n",
       "  </tbody>\n",
       "</table>\n",
       "</div>"
      ],
      "text/plain": [
       "              eu_sales  percent_of_global\n",
       "genre                                    \n",
       "Action          159.34          31.439170\n",
       "Shooter         113.47          22.388619\n",
       "Sports           69.09          13.632059\n",
       "Role-Playing     48.53           9.575392\n",
       "Racing           27.29           5.384555"
      ]
     },
     "execution_count": 54,
     "metadata": {},
     "output_type": "execute_result"
    }
   ],
   "source": [
    "top_5_eu_genre = data.query('eu_sales != 0').groupby('genre')['eu_sales'].sum().sort_values(ascending=False).head(5)\n",
    "top_5_eu_genre = pd.DataFrame(top_5_eu_genre)\n",
    "sales_sum_eu = sum(data['eu_sales'])\n",
    "top_5_eu_genre['percent_of_global'] = top_5_eu_genre['eu_sales']/sales_sum_eu*100\n",
    "\n",
    "top_5_eu_genre"
   ]
  },
  {
   "cell_type": "markdown",
   "metadata": {},
   "source": [
    "+ В топ-5 платформ по популярности вошли гонки.\n",
    "+ Самый популярный жанр - экшн.\n",
    "+ В платформеры в Европе играют меньше."
   ]
  },
  {
   "cell_type": "markdown",
   "metadata": {},
   "source": [
    "#### Япония"
   ]
  },
  {
   "cell_type": "markdown",
   "metadata": {},
   "source": [
    "##### Самые популярные платформы"
   ]
  },
  {
   "cell_type": "code",
   "execution_count": 55,
   "metadata": {},
   "outputs": [
    {
     "data": {
      "text/html": [
       "<div>\n",
       "<style scoped>\n",
       "    .dataframe tbody tr th:only-of-type {\n",
       "        vertical-align: middle;\n",
       "    }\n",
       "\n",
       "    .dataframe tbody tr th {\n",
       "        vertical-align: top;\n",
       "    }\n",
       "\n",
       "    .dataframe thead th {\n",
       "        text-align: right;\n",
       "    }\n",
       "</style>\n",
       "<table border=\"1\" class=\"dataframe\">\n",
       "  <thead>\n",
       "    <tr style=\"text-align: right;\">\n",
       "      <th></th>\n",
       "      <th>jp_sales</th>\n",
       "      <th>percent_of_global</th>\n",
       "    </tr>\n",
       "    <tr>\n",
       "      <th>platform</th>\n",
       "      <th></th>\n",
       "      <th></th>\n",
       "    </tr>\n",
       "  </thead>\n",
       "  <tbody>\n",
       "    <tr>\n",
       "      <th>3DS</th>\n",
       "      <td>87.79</td>\n",
       "      <td>45.586250</td>\n",
       "    </tr>\n",
       "    <tr>\n",
       "      <th>PS3</th>\n",
       "      <td>35.29</td>\n",
       "      <td>18.324852</td>\n",
       "    </tr>\n",
       "    <tr>\n",
       "      <th>PSV</th>\n",
       "      <td>21.04</td>\n",
       "      <td>10.925330</td>\n",
       "    </tr>\n",
       "    <tr>\n",
       "      <th>PS4</th>\n",
       "      <td>15.96</td>\n",
       "      <td>8.287465</td>\n",
       "    </tr>\n",
       "    <tr>\n",
       "      <th>WiiU</th>\n",
       "      <td>13.01</td>\n",
       "      <td>6.755634</td>\n",
       "    </tr>\n",
       "  </tbody>\n",
       "</table>\n",
       "</div>"
      ],
      "text/plain": [
       "          jp_sales  percent_of_global\n",
       "platform                             \n",
       "3DS          87.79          45.586250\n",
       "PS3          35.29          18.324852\n",
       "PSV          21.04          10.925330\n",
       "PS4          15.96           8.287465\n",
       "WiiU         13.01           6.755634"
      ]
     },
     "execution_count": 55,
     "metadata": {},
     "output_type": "execute_result"
    }
   ],
   "source": [
    "top_5_jp = data.query('jp_sales != 0').groupby('platform')['jp_sales'].sum().sort_values(ascending=False).head(5)\n",
    "top_5_jp = pd.DataFrame(top_5_jp)\n",
    "sales_sum_jp = sum(data['jp_sales'])\n",
    "top_5_jp['percent_of_global'] = top_5_jp['jp_sales']/sales_sum_jp*100\n",
    "\n",
    "top_5_jp"
   ]
  },
  {
   "cell_type": "markdown",
   "metadata": {},
   "source": [
    "+ В Японии рейтинг платформ по популярности значительно отличается от рейтинга глобальных продаж.\n",
    "+ Самая популярная платформа - 3DS. Поддерживаем своего производителя.\n",
    "+ На пятом месте по популярности - WiiU. В этом же рейтинге глобальных продаж WiiU на шестом месте.\n",
    "+ Xbox360 не пользуется популярностью в Японии (9 место).\n",
    "+ В целом в Японии пользуются популярности более старые платформы.\n"
   ]
  },
  {
   "cell_type": "markdown",
   "metadata": {},
   "source": [
    "##### Рейтинг ESRB"
   ]
  },
  {
   "cell_type": "code",
   "execution_count": 56,
   "metadata": {},
   "outputs": [
    {
     "data": {
      "text/plain": [
       "rating\n",
       "unknown    108.84\n",
       "E           28.33\n",
       "T           26.02\n",
       "M           21.20\n",
       "E10+         8.19\n",
       "Name: jp_sales, dtype: float64"
      ]
     },
     "execution_count": 56,
     "metadata": {},
     "output_type": "execute_result"
    }
   ],
   "source": [
    "rating_jp = data.query('jp_sales != 0').groupby('rating')['jp_sales'].sum().sort_values(ascending=False)\n",
    "rating_jp"
   ]
  },
  {
   "cell_type": "markdown",
   "metadata": {},
   "source": [
    "+ Самые популярные игры - игры без рейтинга, японские игры. Если учесть, что японцы поддерживают свои платформы, то игры, скорее всего, тоже.\n",
    "+ Игры рейтинга Е (для всех) и Т (для подростков) пользуются большей популярностью."
   ]
  },
  {
   "cell_type": "markdown",
   "metadata": {},
   "source": [
    "##### Самые популярные жанры"
   ]
  },
  {
   "cell_type": "code",
   "execution_count": 57,
   "metadata": {},
   "outputs": [
    {
     "data": {
      "text/html": [
       "<div>\n",
       "<style scoped>\n",
       "    .dataframe tbody tr th:only-of-type {\n",
       "        vertical-align: middle;\n",
       "    }\n",
       "\n",
       "    .dataframe tbody tr th {\n",
       "        vertical-align: top;\n",
       "    }\n",
       "\n",
       "    .dataframe thead th {\n",
       "        text-align: right;\n",
       "    }\n",
       "</style>\n",
       "<table border=\"1\" class=\"dataframe\">\n",
       "  <thead>\n",
       "    <tr style=\"text-align: right;\">\n",
       "      <th></th>\n",
       "      <th>jp_sales</th>\n",
       "      <th>percent_of_global</th>\n",
       "    </tr>\n",
       "    <tr>\n",
       "      <th>genre</th>\n",
       "      <th></th>\n",
       "      <th></th>\n",
       "    </tr>\n",
       "  </thead>\n",
       "  <tbody>\n",
       "    <tr>\n",
       "      <th>Role-Playing</th>\n",
       "      <td>65.44</td>\n",
       "      <td>33.980683</td>\n",
       "    </tr>\n",
       "    <tr>\n",
       "      <th>Action</th>\n",
       "      <td>52.80</td>\n",
       "      <td>27.417177</td>\n",
       "    </tr>\n",
       "    <tr>\n",
       "      <th>Misc</th>\n",
       "      <td>12.86</td>\n",
       "      <td>6.677744</td>\n",
       "    </tr>\n",
       "    <tr>\n",
       "      <th>Simulation</th>\n",
       "      <td>10.41</td>\n",
       "      <td>5.405546</td>\n",
       "    </tr>\n",
       "    <tr>\n",
       "      <th>Fighting</th>\n",
       "      <td>9.44</td>\n",
       "      <td>4.901859</td>\n",
       "    </tr>\n",
       "  </tbody>\n",
       "</table>\n",
       "</div>"
      ],
      "text/plain": [
       "              jp_sales  percent_of_global\n",
       "genre                                    \n",
       "Role-Playing     65.44          33.980683\n",
       "Action           52.80          27.417177\n",
       "Misc             12.86           6.677744\n",
       "Simulation       10.41           5.405546\n",
       "Fighting          9.44           4.901859"
      ]
     },
     "execution_count": 57,
     "metadata": {},
     "output_type": "execute_result"
    }
   ],
   "source": [
    "top_5_jp_genre = data.query('jp_sales != 0').groupby('genre')['jp_sales'].sum().sort_values(ascending=False).head(5)\n",
    "top_5_jp_genre = pd.DataFrame(top_5_jp_genre)\n",
    "sales_sum_jp = sum(data['jp_sales'])\n",
    "top_5_jp_genre['percent_of_global'] = top_5_jp_genre['jp_sales']/sales_sum_jp*100\n",
    "\n",
    "top_5_jp_genre"
   ]
  },
  {
   "cell_type": "markdown",
   "metadata": {},
   "source": [
    "+ Самый популярный жанр игр в Японии - RPG (Role-Playing).\n",
    "+ В топ-5 вошли экшн (2 место), Misc (3 место), симуляторы (4 место) и файтинги (5 место).\n",
    "+ Шутеры в Японии лишь на 6-ом месте по популярности. Интересная, самобытная Япония!"
   ]
  },
  {
   "cell_type": "markdown",
   "metadata": {},
   "source": [
    "### Проверка  гипотез.\n",
    "<a id='section_9'></a>"
   ]
  },
  {
   "cell_type": "markdown",
   "metadata": {},
   "source": [
    "#### Гипотеза 1 - Средние пользовательские рейтинги платформ Xbox One и PC одинаковые."
   ]
  },
  {
   "cell_type": "markdown",
   "metadata": {},
   "source": [
    "Нулевая гипотеза: средняя пользовательская оценка платформ Xbox One и PC одинаковая.\n",
    "\n",
    "Альтернативная гипотеза: средняя пользовательская оценка платформ Xbox One и PC разная."
   ]
  },
  {
   "cell_type": "code",
   "execution_count": 58,
   "metadata": {},
   "outputs": [
    {
     "name": "stdout",
     "output_type": "stream",
     "text": [
      "p-значение: 0.5535080500643661\n",
      "Не отвергаем нулевую гипотезу\n"
     ]
    }
   ],
   "source": [
    "xbox_one = data[(data['platform'] == 'XOne')&(data['user_score'] <= 100)]['user_score']\n",
    "PC = data[(data['platform'] == 'PC')&(data['user_score'] <= 100)]['user_score']\n",
    "\n",
    "alpha = .05\n",
    "\n",
    "results = st.ttest_ind(\n",
    "    xbox_one,\n",
    "    PC)\n",
    "\n",
    "print('p-значение:', results.pvalue)\n",
    "\n",
    "if results.pvalue < alpha:\n",
    "    print('Отвергаем нулевую гипотезу')\n",
    "else:\n",
    "    print('Не отвергаем нулевую гипотезу')"
   ]
  },
  {
   "cell_type": "markdown",
   "metadata": {},
   "source": [
    "Принимаем гипотезу - средние пользовательские рейтинги платформ Xbox One и PC одинаковые."
   ]
  },
  {
   "cell_type": "markdown",
   "metadata": {},
   "source": [
    "#### Гипотеза 2 - Средние пользовательские рейтинги жанров Action (англ. «действие», экшен-игры) и Sports (англ. «спортивные соревнования») разные."
   ]
  },
  {
   "cell_type": "markdown",
   "metadata": {},
   "source": [
    "Нулевая гипотеза: средняя пользовательская оценка жанров Action и Sports одинаковая.\n",
    "\n",
    "Альтернативная гипотеза: средняя пользовательская оценка жанров Action и Sports разные."
   ]
  },
  {
   "cell_type": "code",
   "execution_count": 59,
   "metadata": {},
   "outputs": [
    {
     "name": "stdout",
     "output_type": "stream",
     "text": [
      "p-значение: 3.7163089460934874e-26\n",
      "Отвергаем нулевую гипотезу\n"
     ]
    }
   ],
   "source": [
    "action = data[(data['genre'] == 'Action')&(data['user_score'] <= 100)]['user_score']\n",
    "sports = data[(data['genre'] == 'Sports')&(data['user_score'] <= 100)]['user_score']\n",
    "\n",
    "alpha = .05\n",
    "\n",
    "results = st.ttest_ind(\n",
    "    action,\n",
    "    sports)\n",
    "\n",
    "print('p-значение:', results.pvalue)\n",
    "\n",
    "if results.pvalue < alpha:\n",
    "    print('Отвергаем нулевую гипотезу')\n",
    "else:\n",
    "    print('Не отвергаем нулевую гипотезу')"
   ]
  },
  {
   "cell_type": "markdown",
   "metadata": {},
   "source": [
    "Гипотезу отвергаем в пользу альтернативной гипотезы: средние пользовательские рейтинги жанров Action и Sports одинаковые."
   ]
  },
  {
   "cell_type": "markdown",
   "metadata": {},
   "source": [
    "### Общий вывод\n",
    "<a id='section_10'></a>"
   ]
  },
  {
   "cell_type": "markdown",
   "metadata": {},
   "source": [
    "Было проведено исследование с целью выявления влияния различных факторов на успешность игры. Входные данные - исторические данные из открытых источников до 2016 г.: данные о продажах игр, оценки пользователей и экспертов, жанры и платформы. Результаты исследования будут полезны:\n",
    "+ при прогнозировании продаж на 2017 год,\n",
    "+ при оценке факторов, влияющих на успешность игр,\n",
    "+ при проектировании автоматизированной оценки пользователей игр.\n",
    "\n",
    "Перед проведением исследования были сформулированы следующие гипотезы:\n",
    "- Гипотеза 1 - Пользовательская оценка влияет на успешность игры.\n",
    "- Гипотеза 2 - Оценка критиков влият на успешность игры.\n",
    "- Гипотеза 3 - Средние пользовательские рейтинги платформ Xbox One и PC одинаковые.\n",
    "- Гипотеза 4 - Средние пользовательские рейтинги жанров Action и Sports разные.\n",
    "\n",
    "В результате удалось выявить определенные зависимости.\n",
    "\n",
    "**Гипотеза 1 не подтверждена:** пользовательская оценка не влияет на успешность игры.\n",
    "\n",
    "- Коэффициент корреляции Пирсона равен 0.03. Линейная связь между глобальными продажами и оценкой пользователей отсутствует. \n",
    "\n",
    "**Гипотеза 2 подтверждена:** оценка критиков действительно влият на успешность игры.\n",
    "\n",
    "- Коэффициент корреляции Пирсона равен 0.41. Зависимость между глобальными продажами и оценкой пользователей прослеживается. \n",
    "\n",
    "**Гипотеза 3 подтверждена:** средние пользовательские рейтинги платформ Xbox One и PC одинаковые.\n",
    "\n",
    "**Гипотеза 4 не подтверждена:** средние пользовательские рейтинги жанров Action и Sports одинаковые.\n",
    "\n",
    "\n",
    "**Общие наблюдения:**\n",
    "1. Топ-5 платформ по количеству выпущенных на неё игр (начиная с топ-1): PS4, PS3, X360, 3DS, XOne. \n",
    "\n",
    "\n",
    "2. Платформы набирают популярность по продажам примерно 2 года.\n",
    "\n",
    "Примерно спустя 3 года продажи на платформу начинают стремиться к 0. \n",
    "\n",
    "\n",
    "3. Топ-5 успешных жанров (начиная с топ-1): Shooter, Sports, Platform, Role-Playing, Racing.  \n",
    "\n",
    "\n",
    "4. Портрет пользователя Северной Америки:\n",
    "\n",
    "+ Топ-5 платформ (начиная с топ-1): X360, PS4, PS3, XOne, 3DS.\n",
    "\n",
    "Xbox360 популярнее в Северной Америке.\\\n",
    "A 3DS менее популярна.\n",
    "\n",
    "+ Рейтинг ESRB по популярности (от самого популярного): M, E, без рейтинга, E10+, T.\n",
    "\n",
    "+ Топ-5 жанров (начиная с топ-1): Action, Shooter, Sports, Role-Playing, Misc.\n",
    "\n",
    "Платформеры не попали в топ-5: его место заняли игры жанра Misc.\n",
    "\n",
    "\n",
    "5. Портрет пользователя из Европы:\n",
    "\n",
    "+ Топ-5 платформ (начиная с топ-1): X360, PS4, PS3, XOne, 3DS.\n",
    "\n",
    "Xbox One в Европе популярнее, чем в мире (4 место по популярности, а не 5).\\\n",
    "Портреты пользователей из Европы и Северной Америки совпадают.\n",
    "\n",
    "+ Рейтинг ESRB по популярности (от самого популярного): M, E, без рейтинга, E10+, T.\n",
    "\n",
    "+ Топ-5 жанров (начиная с топ-1): Action, Shooter, Sports, Role-Playing, Racing. \n",
    "\n",
    "В топ-5 платформ по популярности вошли гонки.\\\n",
    "В платформеры в Европе играют меньше.\n",
    "\n",
    "\n",
    "6. Портрет пользователя из Японии:\n",
    "\n",
    "+ Топ-5 платформ (начиная с топ-1): DS, 3DS, PS2, PS3, PSP.\n",
    "\n",
    "В Японии рейтинг платформ по популярности значительно отличается от рейтинга глобальных продаж.\\\n",
    "На пятом месте по популярности - WiiU. В этом же рейтинге глобальных продаж WiiU на шестом месте.\\\n",
    "Xbox360 не пользуется популярностью в Японии (9 место).\\\n",
    "В целом в Японии пользуются популярности более старые платформы.\n",
    "\n",
    "+ Рейтинг ESRB по популярности (от самого популярного): без рейтинга, E, T, M, E10+.\n",
    "\n",
    "Игры рейтинга Е (для всех) и Т (для подростков) пользуются большей популярностью.\\\n",
    "В Японии популярны японские игры.\n",
    "\n",
    "+ Топ-5 жанров (начиная с топ-1): Role-Playing, Action, Misc, Simulation, Fighing.\n",
    "\n",
    "Портрет пользователя из Японии сильно отличается от портрета пользователя из Европы или Северной Америки.\n",
    "\n",
    "**Общие рекомендации:**\n",
    "1. Специалистам по прогнозированию продаж воспользоваться гипотезами 2, 3 и альтернативной гипотезой 4.\n",
    "\n",
    "Обзор данных выполнялся согласно следующим этапам:\n",
    "1. Обзор данных.\n",
    "2. Предобработка данных.\n",
    "3. Расчеты и добавление результатов в таблицу.\n",
    "4. Проведение анализа для топ-3 игровых платформ.\n",
    "5. Проведение анализа пользовательской оценки и оценки критиков для самой популярной платформы.\n",
    "6. Портрет пользователя Северной Америки, Европы и Японии.\n",
    "7. Факторы, влияющие на успешность игры.\n",
    "8. Проверка гипотез.\n",
    "9. Написание общего вывода."
   ]
  }
 ],
 "metadata": {
  "ExecuteTimeLog": [
   {
    "duration": 1256,
    "start_time": "2022-12-12T13:15:48.428Z"
   },
   {
    "duration": 194,
    "start_time": "2022-12-12T13:23:03.908Z"
   },
   {
    "duration": 31,
    "start_time": "2022-12-12T13:23:54.371Z"
   },
   {
    "duration": 16,
    "start_time": "2022-12-12T13:26:23.698Z"
   },
   {
    "duration": 47,
    "start_time": "2022-12-13T06:08:11.698Z"
   },
   {
    "duration": 1321,
    "start_time": "2022-12-13T06:08:20.050Z"
   },
   {
    "duration": 106,
    "start_time": "2022-12-13T06:08:21.373Z"
   },
   {
    "duration": 18,
    "start_time": "2022-12-13T06:08:21.481Z"
   },
   {
    "duration": 34,
    "start_time": "2022-12-13T06:08:21.501Z"
   },
   {
    "duration": 15,
    "start_time": "2022-12-13T06:08:51.773Z"
   },
   {
    "duration": 30,
    "start_time": "2022-12-13T06:30:37.133Z"
   },
   {
    "duration": 755,
    "start_time": "2022-12-13T06:41:34.850Z"
   },
   {
    "duration": 1556,
    "start_time": "2022-12-13T06:42:01.010Z"
   },
   {
    "duration": 1299,
    "start_time": "2022-12-13T06:42:21.828Z"
   },
   {
    "duration": 899,
    "start_time": "2022-12-13T06:42:29.524Z"
   },
   {
    "duration": 17,
    "start_time": "2022-12-13T06:52:42.180Z"
   },
   {
    "duration": 14,
    "start_time": "2022-12-13T06:58:34.249Z"
   },
   {
    "duration": 23,
    "start_time": "2022-12-13T07:02:06.410Z"
   },
   {
    "duration": 22,
    "start_time": "2022-12-13T07:03:01.774Z"
   },
   {
    "duration": 946,
    "start_time": "2022-12-13T07:06:02.317Z"
   },
   {
    "duration": 766,
    "start_time": "2022-12-13T07:06:37.110Z"
   },
   {
    "duration": 1146,
    "start_time": "2022-12-13T07:07:22.217Z"
   },
   {
    "duration": 1012,
    "start_time": "2022-12-13T07:08:01.137Z"
   },
   {
    "duration": 1117,
    "start_time": "2022-12-13T07:08:12.990Z"
   },
   {
    "duration": 52,
    "start_time": "2022-12-13T07:08:14.110Z"
   },
   {
    "duration": 25,
    "start_time": "2022-12-13T07:08:14.164Z"
   },
   {
    "duration": 19,
    "start_time": "2022-12-13T07:08:14.191Z"
   },
   {
    "duration": 937,
    "start_time": "2022-12-13T07:08:14.212Z"
   },
   {
    "duration": 16,
    "start_time": "2022-12-13T07:08:15.151Z"
   },
   {
    "duration": 14,
    "start_time": "2022-12-13T07:08:15.169Z"
   },
   {
    "duration": 25,
    "start_time": "2022-12-13T07:08:15.185Z"
   },
   {
    "duration": 880,
    "start_time": "2022-12-13T07:08:15.212Z"
   },
   {
    "duration": 0,
    "start_time": "2022-12-13T07:08:16.095Z"
   },
   {
    "duration": 0,
    "start_time": "2022-12-13T07:08:16.096Z"
   },
   {
    "duration": 806,
    "start_time": "2022-12-13T07:08:59.926Z"
   },
   {
    "duration": 67,
    "start_time": "2022-12-13T07:11:42.594Z"
   },
   {
    "duration": 754,
    "start_time": "2022-12-13T07:22:15.370Z"
   },
   {
    "duration": 833,
    "start_time": "2022-12-13T07:22:20.453Z"
   },
   {
    "duration": 24,
    "start_time": "2022-12-13T07:22:39.908Z"
   },
   {
    "duration": 17,
    "start_time": "2022-12-13T07:22:49.304Z"
   },
   {
    "duration": 5,
    "start_time": "2022-12-13T07:22:59.046Z"
   },
   {
    "duration": 19,
    "start_time": "2022-12-13T07:23:04.256Z"
   },
   {
    "duration": 21,
    "start_time": "2022-12-13T07:23:09.784Z"
   },
   {
    "duration": 16,
    "start_time": "2022-12-13T07:24:33.916Z"
   },
   {
    "duration": 46,
    "start_time": "2022-12-14T10:46:48.746Z"
   },
   {
    "duration": 1272,
    "start_time": "2022-12-14T10:47:17.219Z"
   },
   {
    "duration": 101,
    "start_time": "2022-12-14T10:47:18.493Z"
   },
   {
    "duration": 21,
    "start_time": "2022-12-14T10:47:18.596Z"
   },
   {
    "duration": 24,
    "start_time": "2022-12-14T10:47:18.620Z"
   },
   {
    "duration": 866,
    "start_time": "2022-12-14T10:47:18.646Z"
   },
   {
    "duration": 17,
    "start_time": "2022-12-14T10:47:19.515Z"
   },
   {
    "duration": 13,
    "start_time": "2022-12-14T10:47:19.534Z"
   },
   {
    "duration": 5,
    "start_time": "2022-12-14T10:47:19.549Z"
   },
   {
    "duration": 82,
    "start_time": "2022-12-14T10:47:19.556Z"
   },
   {
    "duration": 20,
    "start_time": "2022-12-14T10:47:19.641Z"
   },
   {
    "duration": 13,
    "start_time": "2022-12-14T10:47:19.663Z"
   },
   {
    "duration": 113,
    "start_time": "2022-12-14T10:47:19.678Z"
   },
   {
    "duration": 19,
    "start_time": "2022-12-14T10:48:37.356Z"
   },
   {
    "duration": 30,
    "start_time": "2022-12-14T10:56:45.471Z"
   },
   {
    "duration": 9,
    "start_time": "2022-12-14T10:57:13.312Z"
   },
   {
    "duration": 10,
    "start_time": "2022-12-14T10:58:09.773Z"
   },
   {
    "duration": 9,
    "start_time": "2022-12-14T10:58:18.948Z"
   },
   {
    "duration": 1172,
    "start_time": "2022-12-14T10:58:31.750Z"
   },
   {
    "duration": 54,
    "start_time": "2022-12-14T10:58:32.924Z"
   },
   {
    "duration": 28,
    "start_time": "2022-12-14T10:58:32.982Z"
   },
   {
    "duration": 15,
    "start_time": "2022-12-14T10:58:33.012Z"
   },
   {
    "duration": 915,
    "start_time": "2022-12-14T10:58:33.029Z"
   },
   {
    "duration": 24,
    "start_time": "2022-12-14T10:58:33.945Z"
   },
   {
    "duration": 32,
    "start_time": "2022-12-14T10:58:33.970Z"
   },
   {
    "duration": 5,
    "start_time": "2022-12-14T10:58:34.005Z"
   },
   {
    "duration": 63,
    "start_time": "2022-12-14T10:58:34.013Z"
   },
   {
    "duration": 36,
    "start_time": "2022-12-14T10:58:34.078Z"
   },
   {
    "duration": 7,
    "start_time": "2022-12-14T10:58:34.116Z"
   },
   {
    "duration": 112,
    "start_time": "2022-12-14T10:58:34.124Z"
   },
   {
    "duration": 0,
    "start_time": "2022-12-14T10:58:34.237Z"
   },
   {
    "duration": 0,
    "start_time": "2022-12-14T10:58:34.238Z"
   },
   {
    "duration": 0,
    "start_time": "2022-12-14T10:58:34.240Z"
   },
   {
    "duration": 9,
    "start_time": "2022-12-14T10:58:53.721Z"
   },
   {
    "duration": 10,
    "start_time": "2022-12-14T10:59:02.375Z"
   },
   {
    "duration": 3,
    "start_time": "2022-12-14T11:02:13.580Z"
   },
   {
    "duration": 9,
    "start_time": "2022-12-14T11:04:24.571Z"
   },
   {
    "duration": 8,
    "start_time": "2022-12-14T11:05:03.673Z"
   },
   {
    "duration": 8,
    "start_time": "2022-12-14T11:07:40.932Z"
   },
   {
    "duration": 8,
    "start_time": "2022-12-14T11:07:54.457Z"
   },
   {
    "duration": 8,
    "start_time": "2022-12-14T11:18:38.868Z"
   },
   {
    "duration": 1144,
    "start_time": "2022-12-14T11:29:19.485Z"
   },
   {
    "duration": 52,
    "start_time": "2022-12-14T11:29:20.632Z"
   },
   {
    "duration": 24,
    "start_time": "2022-12-14T11:29:20.685Z"
   },
   {
    "duration": 13,
    "start_time": "2022-12-14T11:29:20.712Z"
   },
   {
    "duration": 890,
    "start_time": "2022-12-14T11:29:20.727Z"
   },
   {
    "duration": 17,
    "start_time": "2022-12-14T11:29:21.618Z"
   },
   {
    "duration": 23,
    "start_time": "2022-12-14T11:29:21.636Z"
   },
   {
    "duration": 11,
    "start_time": "2022-12-14T11:29:21.661Z"
   },
   {
    "duration": 87,
    "start_time": "2022-12-14T11:29:21.673Z"
   },
   {
    "duration": 22,
    "start_time": "2022-12-14T11:29:21.762Z"
   },
   {
    "duration": 16,
    "start_time": "2022-12-14T11:29:21.786Z"
   },
   {
    "duration": 9,
    "start_time": "2022-12-14T11:29:21.803Z"
   },
   {
    "duration": 104,
    "start_time": "2022-12-14T11:29:21.813Z"
   },
   {
    "duration": 0,
    "start_time": "2022-12-14T11:29:21.918Z"
   },
   {
    "duration": 0,
    "start_time": "2022-12-14T11:29:21.921Z"
   },
   {
    "duration": 0,
    "start_time": "2022-12-14T11:29:21.923Z"
   },
   {
    "duration": 3,
    "start_time": "2022-12-14T11:29:47.756Z"
   },
   {
    "duration": 9,
    "start_time": "2022-12-14T11:38:50.622Z"
   },
   {
    "duration": 8,
    "start_time": "2022-12-14T11:38:53.825Z"
   },
   {
    "duration": 10,
    "start_time": "2022-12-14T12:09:15.687Z"
   },
   {
    "duration": 12,
    "start_time": "2022-12-14T12:09:37.538Z"
   },
   {
    "duration": 4,
    "start_time": "2022-12-14T12:10:40.680Z"
   },
   {
    "duration": 48,
    "start_time": "2022-12-14T12:18:27.191Z"
   },
   {
    "duration": 47,
    "start_time": "2022-12-14T12:18:43.833Z"
   },
   {
    "duration": 9,
    "start_time": "2022-12-14T12:18:53.185Z"
   },
   {
    "duration": 11,
    "start_time": "2022-12-14T12:19:30.078Z"
   },
   {
    "duration": 11,
    "start_time": "2022-12-14T12:47:24.941Z"
   },
   {
    "duration": 1236,
    "start_time": "2022-12-14T13:01:59.535Z"
   },
   {
    "duration": 67,
    "start_time": "2022-12-14T13:02:00.773Z"
   },
   {
    "duration": 27,
    "start_time": "2022-12-14T13:02:00.842Z"
   },
   {
    "duration": 42,
    "start_time": "2022-12-14T13:02:00.871Z"
   },
   {
    "duration": 986,
    "start_time": "2022-12-14T13:02:00.915Z"
   },
   {
    "duration": 27,
    "start_time": "2022-12-14T13:02:01.903Z"
   },
   {
    "duration": 16,
    "start_time": "2022-12-14T13:02:01.931Z"
   },
   {
    "duration": 15,
    "start_time": "2022-12-14T13:02:01.949Z"
   },
   {
    "duration": 78,
    "start_time": "2022-12-14T13:02:01.966Z"
   },
   {
    "duration": 21,
    "start_time": "2022-12-14T13:02:02.047Z"
   },
   {
    "duration": 7,
    "start_time": "2022-12-14T13:02:02.070Z"
   },
   {
    "duration": 4,
    "start_time": "2022-12-14T13:02:02.097Z"
   },
   {
    "duration": 124,
    "start_time": "2022-12-14T13:02:02.104Z"
   },
   {
    "duration": 0,
    "start_time": "2022-12-14T13:02:02.231Z"
   },
   {
    "duration": 0,
    "start_time": "2022-12-14T13:02:02.232Z"
   },
   {
    "duration": 0,
    "start_time": "2022-12-14T13:02:02.234Z"
   },
   {
    "duration": 0,
    "start_time": "2022-12-14T13:02:02.235Z"
   },
   {
    "duration": 4,
    "start_time": "2022-12-14T13:09:46.208Z"
   },
   {
    "duration": 10,
    "start_time": "2022-12-14T13:10:48.818Z"
   },
   {
    "duration": 8,
    "start_time": "2022-12-14T13:12:46.226Z"
   },
   {
    "duration": 8,
    "start_time": "2022-12-14T13:13:13.638Z"
   },
   {
    "duration": 12,
    "start_time": "2022-12-14T13:14:06.382Z"
   },
   {
    "duration": 10,
    "start_time": "2022-12-14T13:28:23.957Z"
   },
   {
    "duration": 9,
    "start_time": "2022-12-14T13:28:29.891Z"
   },
   {
    "duration": 8,
    "start_time": "2022-12-14T13:29:51.313Z"
   },
   {
    "duration": 9,
    "start_time": "2022-12-14T13:30:52.008Z"
   },
   {
    "duration": 8,
    "start_time": "2022-12-14T13:32:34.433Z"
   },
   {
    "duration": 8,
    "start_time": "2022-12-14T13:33:48.838Z"
   },
   {
    "duration": 9,
    "start_time": "2022-12-14T13:34:10.822Z"
   },
   {
    "duration": 9,
    "start_time": "2022-12-14T13:35:06.827Z"
   },
   {
    "duration": 9,
    "start_time": "2022-12-14T13:35:56.859Z"
   },
   {
    "duration": 8,
    "start_time": "2022-12-14T13:55:45.824Z"
   },
   {
    "duration": 9,
    "start_time": "2022-12-14T13:58:34.253Z"
   },
   {
    "duration": 8,
    "start_time": "2022-12-14T14:13:00.009Z"
   },
   {
    "duration": 1039,
    "start_time": "2022-12-14T14:27:52.041Z"
   },
   {
    "duration": 53,
    "start_time": "2022-12-14T14:27:53.082Z"
   },
   {
    "duration": 22,
    "start_time": "2022-12-14T14:27:53.136Z"
   },
   {
    "duration": 39,
    "start_time": "2022-12-14T14:27:53.160Z"
   },
   {
    "duration": 904,
    "start_time": "2022-12-14T14:27:53.201Z"
   },
   {
    "duration": 16,
    "start_time": "2022-12-14T14:27:54.107Z"
   },
   {
    "duration": 20,
    "start_time": "2022-12-14T14:27:54.124Z"
   },
   {
    "duration": 14,
    "start_time": "2022-12-14T14:27:54.146Z"
   },
   {
    "duration": 83,
    "start_time": "2022-12-14T14:27:54.162Z"
   },
   {
    "duration": 21,
    "start_time": "2022-12-14T14:27:54.247Z"
   },
   {
    "duration": 8,
    "start_time": "2022-12-14T14:27:54.269Z"
   },
   {
    "duration": 41,
    "start_time": "2022-12-14T14:27:54.279Z"
   },
   {
    "duration": 107,
    "start_time": "2022-12-14T14:27:54.322Z"
   },
   {
    "duration": 0,
    "start_time": "2022-12-14T14:27:54.431Z"
   },
   {
    "duration": 0,
    "start_time": "2022-12-14T14:27:54.432Z"
   },
   {
    "duration": 0,
    "start_time": "2022-12-14T14:27:54.433Z"
   },
   {
    "duration": 0,
    "start_time": "2022-12-14T14:27:54.435Z"
   },
   {
    "duration": 0,
    "start_time": "2022-12-14T14:27:54.436Z"
   },
   {
    "duration": 0,
    "start_time": "2022-12-14T14:27:54.437Z"
   },
   {
    "duration": 0,
    "start_time": "2022-12-14T14:27:54.439Z"
   },
   {
    "duration": 0,
    "start_time": "2022-12-14T14:27:54.440Z"
   },
   {
    "duration": 0,
    "start_time": "2022-12-14T14:27:54.441Z"
   },
   {
    "duration": 104,
    "start_time": "2022-12-14T14:28:52.299Z"
   },
   {
    "duration": 57,
    "start_time": "2022-12-14T14:28:59.825Z"
   },
   {
    "duration": 8,
    "start_time": "2022-12-14T14:29:04.283Z"
   },
   {
    "duration": 8,
    "start_time": "2022-12-14T14:29:58.027Z"
   },
   {
    "duration": 8,
    "start_time": "2022-12-14T14:30:51.406Z"
   },
   {
    "duration": 9,
    "start_time": "2022-12-14T14:30:54.080Z"
   },
   {
    "duration": 9,
    "start_time": "2022-12-14T14:31:05.201Z"
   },
   {
    "duration": 8,
    "start_time": "2022-12-14T14:31:21.183Z"
   },
   {
    "duration": 8,
    "start_time": "2022-12-14T14:31:25.496Z"
   },
   {
    "duration": 8,
    "start_time": "2022-12-14T14:31:28.585Z"
   },
   {
    "duration": 9,
    "start_time": "2022-12-14T14:36:21.477Z"
   },
   {
    "duration": 8,
    "start_time": "2022-12-14T14:36:26.020Z"
   },
   {
    "duration": 9,
    "start_time": "2022-12-14T14:36:39.854Z"
   },
   {
    "duration": 8,
    "start_time": "2022-12-14T14:36:43.488Z"
   },
   {
    "duration": 8,
    "start_time": "2022-12-14T14:36:50.220Z"
   },
   {
    "duration": 8,
    "start_time": "2022-12-14T14:36:58.659Z"
   },
   {
    "duration": 9,
    "start_time": "2022-12-14T14:38:53.751Z"
   },
   {
    "duration": 8,
    "start_time": "2022-12-14T14:41:53.290Z"
   },
   {
    "duration": 9,
    "start_time": "2022-12-14T14:43:21.945Z"
   },
   {
    "duration": 8,
    "start_time": "2022-12-14T14:52:51.366Z"
   },
   {
    "duration": 9,
    "start_time": "2022-12-14T14:53:49.809Z"
   },
   {
    "duration": 8,
    "start_time": "2022-12-14T14:53:54.907Z"
   },
   {
    "duration": 46,
    "start_time": "2022-12-14T14:55:20.845Z"
   },
   {
    "duration": 8,
    "start_time": "2022-12-14T14:55:32.441Z"
   },
   {
    "duration": 9,
    "start_time": "2022-12-14T14:55:56.267Z"
   },
   {
    "duration": 8,
    "start_time": "2022-12-14T15:00:46.234Z"
   },
   {
    "duration": 1219,
    "start_time": "2022-12-14T15:01:44.374Z"
   },
   {
    "duration": 57,
    "start_time": "2022-12-14T15:01:45.598Z"
   },
   {
    "duration": 23,
    "start_time": "2022-12-14T15:01:45.657Z"
   },
   {
    "duration": 17,
    "start_time": "2022-12-14T15:01:45.682Z"
   },
   {
    "duration": 901,
    "start_time": "2022-12-14T15:01:45.702Z"
   },
   {
    "duration": 24,
    "start_time": "2022-12-14T15:01:46.606Z"
   },
   {
    "duration": 27,
    "start_time": "2022-12-14T15:01:46.631Z"
   },
   {
    "duration": 37,
    "start_time": "2022-12-14T15:01:46.659Z"
   },
   {
    "duration": 73,
    "start_time": "2022-12-14T15:01:46.699Z"
   },
   {
    "duration": 22,
    "start_time": "2022-12-14T15:01:46.773Z"
   },
   {
    "duration": 8,
    "start_time": "2022-12-14T15:01:46.797Z"
   },
   {
    "duration": 116,
    "start_time": "2022-12-14T15:01:46.806Z"
   },
   {
    "duration": 0,
    "start_time": "2022-12-14T15:01:46.925Z"
   },
   {
    "duration": 0,
    "start_time": "2022-12-14T15:01:46.926Z"
   },
   {
    "duration": 0,
    "start_time": "2022-12-14T15:01:46.927Z"
   },
   {
    "duration": 0,
    "start_time": "2022-12-14T15:01:46.928Z"
   },
   {
    "duration": 0,
    "start_time": "2022-12-14T15:01:46.930Z"
   },
   {
    "duration": 0,
    "start_time": "2022-12-14T15:01:46.930Z"
   },
   {
    "duration": 0,
    "start_time": "2022-12-14T15:01:46.932Z"
   },
   {
    "duration": 0,
    "start_time": "2022-12-14T15:01:46.932Z"
   },
   {
    "duration": 0,
    "start_time": "2022-12-14T15:01:46.933Z"
   },
   {
    "duration": 0,
    "start_time": "2022-12-14T15:01:46.934Z"
   },
   {
    "duration": 0,
    "start_time": "2022-12-14T15:01:46.935Z"
   },
   {
    "duration": 10,
    "start_time": "2022-12-14T15:05:42.599Z"
   },
   {
    "duration": 1096,
    "start_time": "2022-12-14T15:06:08.637Z"
   },
   {
    "duration": 53,
    "start_time": "2022-12-14T15:06:09.735Z"
   },
   {
    "duration": 23,
    "start_time": "2022-12-14T15:06:09.789Z"
   },
   {
    "duration": 13,
    "start_time": "2022-12-14T15:06:09.813Z"
   },
   {
    "duration": 925,
    "start_time": "2022-12-14T15:06:09.828Z"
   },
   {
    "duration": 14,
    "start_time": "2022-12-14T15:06:10.755Z"
   },
   {
    "duration": 30,
    "start_time": "2022-12-14T15:06:10.771Z"
   },
   {
    "duration": 5,
    "start_time": "2022-12-14T15:06:10.803Z"
   },
   {
    "duration": 68,
    "start_time": "2022-12-14T15:06:10.810Z"
   },
   {
    "duration": 24,
    "start_time": "2022-12-14T15:06:10.880Z"
   },
   {
    "duration": 9,
    "start_time": "2022-12-14T15:06:10.906Z"
   },
   {
    "duration": 12,
    "start_time": "2022-12-14T15:06:10.917Z"
   },
   {
    "duration": 21,
    "start_time": "2022-12-14T15:06:10.931Z"
   },
   {
    "duration": 32,
    "start_time": "2022-12-14T15:06:10.955Z"
   },
   {
    "duration": 41,
    "start_time": "2022-12-14T15:06:10.988Z"
   },
   {
    "duration": 12,
    "start_time": "2022-12-14T15:06:11.030Z"
   },
   {
    "duration": 8,
    "start_time": "2022-12-14T15:06:11.044Z"
   },
   {
    "duration": 14,
    "start_time": "2022-12-14T15:06:11.053Z"
   },
   {
    "duration": 47,
    "start_time": "2022-12-14T15:06:11.068Z"
   },
   {
    "duration": 12,
    "start_time": "2022-12-14T15:06:11.117Z"
   },
   {
    "duration": 119,
    "start_time": "2022-12-14T15:06:11.131Z"
   },
   {
    "duration": 0,
    "start_time": "2022-12-14T15:06:11.251Z"
   },
   {
    "duration": 0,
    "start_time": "2022-12-14T15:06:11.252Z"
   },
   {
    "duration": 4,
    "start_time": "2022-12-14T15:13:47.559Z"
   },
   {
    "duration": 7,
    "start_time": "2022-12-14T15:13:57.443Z"
   },
   {
    "duration": 4,
    "start_time": "2022-12-14T15:14:10.972Z"
   },
   {
    "duration": 4,
    "start_time": "2022-12-14T15:14:27.685Z"
   },
   {
    "duration": 5,
    "start_time": "2022-12-14T15:14:36.784Z"
   },
   {
    "duration": 1112,
    "start_time": "2022-12-14T15:15:07.491Z"
   },
   {
    "duration": 56,
    "start_time": "2022-12-14T15:15:08.605Z"
   },
   {
    "duration": 25,
    "start_time": "2022-12-14T15:15:08.663Z"
   },
   {
    "duration": 15,
    "start_time": "2022-12-14T15:15:08.691Z"
   },
   {
    "duration": 885,
    "start_time": "2022-12-14T15:15:08.708Z"
   },
   {
    "duration": 20,
    "start_time": "2022-12-14T15:15:09.595Z"
   },
   {
    "duration": 15,
    "start_time": "2022-12-14T15:15:09.616Z"
   },
   {
    "duration": 4,
    "start_time": "2022-12-14T15:15:09.633Z"
   },
   {
    "duration": 88,
    "start_time": "2022-12-14T15:15:09.639Z"
   },
   {
    "duration": 22,
    "start_time": "2022-12-14T15:15:09.730Z"
   },
   {
    "duration": 6,
    "start_time": "2022-12-14T15:15:09.754Z"
   },
   {
    "duration": 12,
    "start_time": "2022-12-14T15:15:09.762Z"
   },
   {
    "duration": 23,
    "start_time": "2022-12-14T15:15:09.775Z"
   },
   {
    "duration": 4,
    "start_time": "2022-12-14T15:15:09.799Z"
   },
   {
    "duration": 24,
    "start_time": "2022-12-14T15:15:09.804Z"
   },
   {
    "duration": 12,
    "start_time": "2022-12-14T15:15:09.830Z"
   },
   {
    "duration": 4,
    "start_time": "2022-12-14T15:15:09.844Z"
   },
   {
    "duration": 7,
    "start_time": "2022-12-14T15:15:09.849Z"
   },
   {
    "duration": 41,
    "start_time": "2022-12-14T15:15:09.857Z"
   },
   {
    "duration": 6,
    "start_time": "2022-12-14T15:15:09.900Z"
   },
   {
    "duration": 126,
    "start_time": "2022-12-14T15:15:09.907Z"
   },
   {
    "duration": 0,
    "start_time": "2022-12-14T15:15:10.035Z"
   },
   {
    "duration": 0,
    "start_time": "2022-12-14T15:15:10.037Z"
   },
   {
    "duration": 5,
    "start_time": "2022-12-14T15:15:41.767Z"
   },
   {
    "duration": 5,
    "start_time": "2022-12-14T15:15:48.926Z"
   },
   {
    "duration": 7,
    "start_time": "2022-12-14T15:15:52.407Z"
   },
   {
    "duration": 9,
    "start_time": "2022-12-14T15:16:19.092Z"
   },
   {
    "duration": 1106,
    "start_time": "2022-12-14T15:16:27.791Z"
   },
   {
    "duration": 53,
    "start_time": "2022-12-14T15:16:28.900Z"
   },
   {
    "duration": 22,
    "start_time": "2022-12-14T15:16:28.955Z"
   },
   {
    "duration": 13,
    "start_time": "2022-12-14T15:16:28.978Z"
   },
   {
    "duration": 835,
    "start_time": "2022-12-14T15:16:28.993Z"
   },
   {
    "duration": 16,
    "start_time": "2022-12-14T15:16:29.830Z"
   },
   {
    "duration": 16,
    "start_time": "2022-12-14T15:16:29.847Z"
   },
   {
    "duration": 4,
    "start_time": "2022-12-14T15:16:29.864Z"
   },
   {
    "duration": 85,
    "start_time": "2022-12-14T15:16:29.870Z"
   },
   {
    "duration": 26,
    "start_time": "2022-12-14T15:16:29.958Z"
   },
   {
    "duration": 12,
    "start_time": "2022-12-14T15:16:29.985Z"
   },
   {
    "duration": 7,
    "start_time": "2022-12-14T15:16:29.999Z"
   },
   {
    "duration": 22,
    "start_time": "2022-12-14T15:16:30.008Z"
   },
   {
    "duration": 16,
    "start_time": "2022-12-14T15:16:30.032Z"
   },
   {
    "duration": 27,
    "start_time": "2022-12-14T15:16:30.050Z"
   },
   {
    "duration": 20,
    "start_time": "2022-12-14T15:16:30.079Z"
   },
   {
    "duration": 29,
    "start_time": "2022-12-14T15:16:30.101Z"
   },
   {
    "duration": 23,
    "start_time": "2022-12-14T15:16:30.131Z"
   },
   {
    "duration": 60,
    "start_time": "2022-12-14T15:16:30.155Z"
   },
   {
    "duration": 25,
    "start_time": "2022-12-14T15:16:30.218Z"
   },
   {
    "duration": 127,
    "start_time": "2022-12-14T15:16:30.244Z"
   },
   {
    "duration": 0,
    "start_time": "2022-12-14T15:16:30.373Z"
   },
   {
    "duration": 0,
    "start_time": "2022-12-14T15:16:30.374Z"
   },
   {
    "duration": 4,
    "start_time": "2022-12-14T15:16:57.242Z"
   },
   {
    "duration": 1101,
    "start_time": "2022-12-14T15:17:03.604Z"
   },
   {
    "duration": 57,
    "start_time": "2022-12-14T15:17:04.709Z"
   },
   {
    "duration": 25,
    "start_time": "2022-12-14T15:17:04.768Z"
   },
   {
    "duration": 22,
    "start_time": "2022-12-14T15:17:04.795Z"
   },
   {
    "duration": 1022,
    "start_time": "2022-12-14T15:17:04.819Z"
   },
   {
    "duration": 18,
    "start_time": "2022-12-14T15:17:05.843Z"
   },
   {
    "duration": 18,
    "start_time": "2022-12-14T15:17:05.863Z"
   },
   {
    "duration": 47,
    "start_time": "2022-12-14T15:17:05.898Z"
   },
   {
    "duration": 73,
    "start_time": "2022-12-14T15:17:05.947Z"
   },
   {
    "duration": 23,
    "start_time": "2022-12-14T15:17:06.024Z"
   },
   {
    "duration": 16,
    "start_time": "2022-12-14T15:17:06.049Z"
   },
   {
    "duration": 16,
    "start_time": "2022-12-14T15:17:06.066Z"
   },
   {
    "duration": 12,
    "start_time": "2022-12-14T15:17:06.084Z"
   },
   {
    "duration": 7,
    "start_time": "2022-12-14T15:17:06.097Z"
   },
   {
    "duration": 28,
    "start_time": "2022-12-14T15:17:06.106Z"
   },
   {
    "duration": 12,
    "start_time": "2022-12-14T15:17:06.135Z"
   },
   {
    "duration": 5,
    "start_time": "2022-12-14T15:17:06.148Z"
   },
   {
    "duration": 7,
    "start_time": "2022-12-14T15:17:06.154Z"
   },
   {
    "duration": 38,
    "start_time": "2022-12-14T15:17:06.162Z"
   },
   {
    "duration": 8,
    "start_time": "2022-12-14T15:17:06.202Z"
   },
   {
    "duration": 114,
    "start_time": "2022-12-14T15:17:06.212Z"
   },
   {
    "duration": 0,
    "start_time": "2022-12-14T15:17:06.328Z"
   },
   {
    "duration": 0,
    "start_time": "2022-12-14T15:17:06.329Z"
   },
   {
    "duration": 11,
    "start_time": "2022-12-14T15:19:22.393Z"
   },
   {
    "duration": 11,
    "start_time": "2022-12-14T15:19:34.011Z"
   },
   {
    "duration": 8,
    "start_time": "2022-12-14T15:19:46.189Z"
   },
   {
    "duration": 1114,
    "start_time": "2022-12-14T15:20:05.546Z"
   },
   {
    "duration": 57,
    "start_time": "2022-12-14T15:20:06.662Z"
   },
   {
    "duration": 22,
    "start_time": "2022-12-14T15:20:06.720Z"
   },
   {
    "duration": 44,
    "start_time": "2022-12-14T15:20:06.744Z"
   },
   {
    "duration": 948,
    "start_time": "2022-12-14T15:20:06.790Z"
   },
   {
    "duration": 16,
    "start_time": "2022-12-14T15:20:07.740Z"
   },
   {
    "duration": 21,
    "start_time": "2022-12-14T15:20:07.758Z"
   },
   {
    "duration": 27,
    "start_time": "2022-12-14T15:20:07.780Z"
   },
   {
    "duration": 71,
    "start_time": "2022-12-14T15:20:07.809Z"
   },
   {
    "duration": 20,
    "start_time": "2022-12-14T15:20:07.882Z"
   },
   {
    "duration": 17,
    "start_time": "2022-12-14T15:20:07.904Z"
   },
   {
    "duration": 32,
    "start_time": "2022-12-14T15:20:07.923Z"
   },
   {
    "duration": 38,
    "start_time": "2022-12-14T15:20:07.958Z"
   },
   {
    "duration": 22,
    "start_time": "2022-12-14T15:20:07.998Z"
   },
   {
    "duration": 44,
    "start_time": "2022-12-14T15:20:08.022Z"
   },
   {
    "duration": 12,
    "start_time": "2022-12-14T15:20:08.069Z"
   },
   {
    "duration": 22,
    "start_time": "2022-12-14T15:20:08.083Z"
   },
   {
    "duration": 38,
    "start_time": "2022-12-14T15:20:08.106Z"
   },
   {
    "duration": 32,
    "start_time": "2022-12-14T15:20:08.145Z"
   },
   {
    "duration": 8,
    "start_time": "2022-12-14T15:20:08.179Z"
   },
   {
    "duration": 122,
    "start_time": "2022-12-14T15:20:08.188Z"
   },
   {
    "duration": 0,
    "start_time": "2022-12-14T15:20:08.312Z"
   },
   {
    "duration": 0,
    "start_time": "2022-12-14T15:20:08.314Z"
   },
   {
    "duration": 6,
    "start_time": "2022-12-14T15:22:02.906Z"
   },
   {
    "duration": 1244,
    "start_time": "2022-12-14T15:22:25.804Z"
   },
   {
    "duration": 52,
    "start_time": "2022-12-14T15:22:27.050Z"
   },
   {
    "duration": 26,
    "start_time": "2022-12-14T15:22:27.104Z"
   },
   {
    "duration": 42,
    "start_time": "2022-12-14T15:22:27.133Z"
   },
   {
    "duration": 979,
    "start_time": "2022-12-14T15:22:27.177Z"
   },
   {
    "duration": 15,
    "start_time": "2022-12-14T15:22:28.157Z"
   },
   {
    "duration": 25,
    "start_time": "2022-12-14T15:22:28.173Z"
   },
   {
    "duration": 6,
    "start_time": "2022-12-14T15:22:28.200Z"
   },
   {
    "duration": 71,
    "start_time": "2022-12-14T15:22:28.208Z"
   },
   {
    "duration": 28,
    "start_time": "2022-12-14T15:22:28.282Z"
   },
   {
    "duration": 27,
    "start_time": "2022-12-14T15:22:28.311Z"
   },
   {
    "duration": 9,
    "start_time": "2022-12-14T15:22:28.340Z"
   },
   {
    "duration": 24,
    "start_time": "2022-12-14T15:22:28.351Z"
   },
   {
    "duration": 7,
    "start_time": "2022-12-14T15:22:28.376Z"
   },
   {
    "duration": 24,
    "start_time": "2022-12-14T15:22:28.384Z"
   },
   {
    "duration": 22,
    "start_time": "2022-12-14T15:22:28.410Z"
   },
   {
    "duration": 4,
    "start_time": "2022-12-14T15:22:28.433Z"
   },
   {
    "duration": 11,
    "start_time": "2022-12-14T15:22:28.438Z"
   },
   {
    "duration": 29,
    "start_time": "2022-12-14T15:22:28.451Z"
   },
   {
    "duration": 5,
    "start_time": "2022-12-14T15:22:28.482Z"
   },
   {
    "duration": 118,
    "start_time": "2022-12-14T15:22:28.489Z"
   },
   {
    "duration": 0,
    "start_time": "2022-12-14T15:22:28.609Z"
   },
   {
    "duration": 0,
    "start_time": "2022-12-14T15:22:28.611Z"
   },
   {
    "duration": 9,
    "start_time": "2022-12-14T15:24:24.034Z"
   },
   {
    "duration": 15,
    "start_time": "2022-12-14T15:24:47.218Z"
   },
   {
    "duration": 12,
    "start_time": "2022-12-14T15:26:19.212Z"
   },
   {
    "duration": 1230,
    "start_time": "2022-12-14T15:26:27.895Z"
   },
   {
    "duration": 54,
    "start_time": "2022-12-14T15:26:29.127Z"
   },
   {
    "duration": 29,
    "start_time": "2022-12-14T15:26:29.182Z"
   },
   {
    "duration": 17,
    "start_time": "2022-12-14T15:26:29.214Z"
   },
   {
    "duration": 1049,
    "start_time": "2022-12-14T15:26:29.232Z"
   },
   {
    "duration": 39,
    "start_time": "2022-12-14T15:26:30.283Z"
   },
   {
    "duration": 20,
    "start_time": "2022-12-14T15:26:30.324Z"
   },
   {
    "duration": 78,
    "start_time": "2022-12-14T15:26:30.346Z"
   },
   {
    "duration": 80,
    "start_time": "2022-12-14T15:26:30.426Z"
   },
   {
    "duration": 27,
    "start_time": "2022-12-14T15:26:30.511Z"
   },
   {
    "duration": 30,
    "start_time": "2022-12-14T15:26:30.540Z"
   },
   {
    "duration": 49,
    "start_time": "2022-12-14T15:26:30.571Z"
   },
   {
    "duration": 51,
    "start_time": "2022-12-14T15:26:30.622Z"
   },
   {
    "duration": 49,
    "start_time": "2022-12-14T15:26:30.675Z"
   },
   {
    "duration": 26,
    "start_time": "2022-12-14T15:26:30.726Z"
   },
   {
    "duration": 67,
    "start_time": "2022-12-14T15:26:30.754Z"
   },
   {
    "duration": 48,
    "start_time": "2022-12-14T15:26:30.823Z"
   },
   {
    "duration": 33,
    "start_time": "2022-12-14T15:26:30.873Z"
   },
   {
    "duration": 39,
    "start_time": "2022-12-14T15:26:30.908Z"
   },
   {
    "duration": 7,
    "start_time": "2022-12-14T15:26:30.948Z"
   },
   {
    "duration": 128,
    "start_time": "2022-12-14T15:26:30.956Z"
   },
   {
    "duration": 0,
    "start_time": "2022-12-14T15:26:31.085Z"
   },
   {
    "duration": 0,
    "start_time": "2022-12-14T15:26:31.098Z"
   },
   {
    "duration": 4,
    "start_time": "2022-12-14T15:34:22.976Z"
   },
   {
    "duration": 1128,
    "start_time": "2022-12-14T15:34:30.319Z"
   },
   {
    "duration": 57,
    "start_time": "2022-12-14T15:34:31.449Z"
   },
   {
    "duration": 31,
    "start_time": "2022-12-14T15:34:31.508Z"
   },
   {
    "duration": 16,
    "start_time": "2022-12-14T15:34:31.541Z"
   },
   {
    "duration": 952,
    "start_time": "2022-12-14T15:34:31.558Z"
   },
   {
    "duration": 21,
    "start_time": "2022-12-14T15:34:32.511Z"
   },
   {
    "duration": 12,
    "start_time": "2022-12-14T15:34:32.534Z"
   },
   {
    "duration": 4,
    "start_time": "2022-12-14T15:34:32.547Z"
   },
   {
    "duration": 79,
    "start_time": "2022-12-14T15:34:32.552Z"
   },
   {
    "duration": 20,
    "start_time": "2022-12-14T15:34:32.634Z"
   },
   {
    "duration": 9,
    "start_time": "2022-12-14T15:34:32.656Z"
   },
   {
    "duration": 6,
    "start_time": "2022-12-14T15:34:32.666Z"
   },
   {
    "duration": 13,
    "start_time": "2022-12-14T15:34:32.673Z"
   },
   {
    "duration": 3,
    "start_time": "2022-12-14T15:34:32.698Z"
   },
   {
    "duration": 30,
    "start_time": "2022-12-14T15:34:32.704Z"
   },
   {
    "duration": 26,
    "start_time": "2022-12-14T15:34:32.736Z"
   },
   {
    "duration": 4,
    "start_time": "2022-12-14T15:34:32.764Z"
   },
   {
    "duration": 9,
    "start_time": "2022-12-14T15:34:32.770Z"
   },
   {
    "duration": 9,
    "start_time": "2022-12-14T15:34:32.781Z"
   },
   {
    "duration": 50,
    "start_time": "2022-12-14T15:34:32.791Z"
   },
   {
    "duration": 115,
    "start_time": "2022-12-14T15:34:32.843Z"
   },
   {
    "duration": 0,
    "start_time": "2022-12-14T15:34:32.959Z"
   },
   {
    "duration": 0,
    "start_time": "2022-12-14T15:34:32.961Z"
   },
   {
    "duration": 4,
    "start_time": "2022-12-14T15:36:47.863Z"
   },
   {
    "duration": 1227,
    "start_time": "2022-12-14T15:37:00.400Z"
   },
   {
    "duration": 52,
    "start_time": "2022-12-14T15:37:01.630Z"
   },
   {
    "duration": 28,
    "start_time": "2022-12-14T15:37:01.684Z"
   },
   {
    "duration": 16,
    "start_time": "2022-12-14T15:37:01.716Z"
   },
   {
    "duration": 967,
    "start_time": "2022-12-14T15:37:01.734Z"
   },
   {
    "duration": 18,
    "start_time": "2022-12-14T15:37:02.703Z"
   },
   {
    "duration": 14,
    "start_time": "2022-12-14T15:37:02.723Z"
   },
   {
    "duration": 4,
    "start_time": "2022-12-14T15:37:02.738Z"
   },
   {
    "duration": 90,
    "start_time": "2022-12-14T15:37:02.744Z"
   },
   {
    "duration": 21,
    "start_time": "2022-12-14T15:37:02.837Z"
   },
   {
    "duration": 7,
    "start_time": "2022-12-14T15:37:02.859Z"
   },
   {
    "duration": 8,
    "start_time": "2022-12-14T15:37:02.867Z"
   },
   {
    "duration": 22,
    "start_time": "2022-12-14T15:37:02.876Z"
   },
   {
    "duration": 4,
    "start_time": "2022-12-14T15:37:02.900Z"
   },
   {
    "duration": 9,
    "start_time": "2022-12-14T15:37:02.906Z"
   },
   {
    "duration": 26,
    "start_time": "2022-12-14T15:37:02.918Z"
   },
   {
    "duration": 8,
    "start_time": "2022-12-14T15:37:02.946Z"
   },
   {
    "duration": 8,
    "start_time": "2022-12-14T15:37:02.955Z"
   },
   {
    "duration": 8,
    "start_time": "2022-12-14T15:37:02.964Z"
   },
   {
    "duration": 29,
    "start_time": "2022-12-14T15:37:02.998Z"
   },
   {
    "duration": 5,
    "start_time": "2022-12-14T15:37:03.028Z"
   },
   {
    "duration": 116,
    "start_time": "2022-12-14T15:37:03.034Z"
   },
   {
    "duration": 0,
    "start_time": "2022-12-14T15:37:03.151Z"
   },
   {
    "duration": 0,
    "start_time": "2022-12-14T15:37:03.153Z"
   },
   {
    "duration": 6,
    "start_time": "2022-12-14T15:39:27.407Z"
   },
   {
    "duration": 581,
    "start_time": "2022-12-14T15:39:46.710Z"
   },
   {
    "duration": 1132,
    "start_time": "2022-12-14T15:39:55.482Z"
   },
   {
    "duration": 56,
    "start_time": "2022-12-14T15:39:56.615Z"
   },
   {
    "duration": 21,
    "start_time": "2022-12-14T15:39:56.672Z"
   },
   {
    "duration": 13,
    "start_time": "2022-12-14T15:39:56.695Z"
   },
   {
    "duration": 834,
    "start_time": "2022-12-14T15:39:56.709Z"
   },
   {
    "duration": 16,
    "start_time": "2022-12-14T15:39:57.544Z"
   },
   {
    "duration": 12,
    "start_time": "2022-12-14T15:39:57.562Z"
   },
   {
    "duration": 23,
    "start_time": "2022-12-14T15:39:57.576Z"
   },
   {
    "duration": 51,
    "start_time": "2022-12-14T15:39:57.601Z"
   },
   {
    "duration": 21,
    "start_time": "2022-12-14T15:39:57.655Z"
   },
   {
    "duration": 25,
    "start_time": "2022-12-14T15:39:57.677Z"
   },
   {
    "duration": 6,
    "start_time": "2022-12-14T15:39:57.704Z"
   },
   {
    "duration": 5,
    "start_time": "2022-12-14T15:39:57.712Z"
   },
   {
    "duration": 4,
    "start_time": "2022-12-14T15:39:57.719Z"
   },
   {
    "duration": 6,
    "start_time": "2022-12-14T15:39:57.725Z"
   },
   {
    "duration": 21,
    "start_time": "2022-12-14T15:39:57.732Z"
   },
   {
    "duration": 4,
    "start_time": "2022-12-14T15:39:57.754Z"
   },
   {
    "duration": 39,
    "start_time": "2022-12-14T15:39:57.759Z"
   },
   {
    "duration": 5,
    "start_time": "2022-12-14T15:39:57.800Z"
   },
   {
    "duration": 22,
    "start_time": "2022-12-14T15:39:57.806Z"
   },
   {
    "duration": 4,
    "start_time": "2022-12-14T15:39:57.829Z"
   },
   {
    "duration": 21,
    "start_time": "2022-12-14T15:39:57.835Z"
   },
   {
    "duration": 116,
    "start_time": "2022-12-14T15:39:57.858Z"
   },
   {
    "duration": 1,
    "start_time": "2022-12-14T15:39:57.975Z"
   },
   {
    "duration": 0,
    "start_time": "2022-12-14T15:39:57.977Z"
   },
   {
    "duration": 1141,
    "start_time": "2022-12-14T15:41:36.841Z"
   },
   {
    "duration": 54,
    "start_time": "2022-12-14T15:41:37.983Z"
   },
   {
    "duration": 23,
    "start_time": "2022-12-14T15:41:38.038Z"
   },
   {
    "duration": 12,
    "start_time": "2022-12-14T15:41:38.063Z"
   },
   {
    "duration": 835,
    "start_time": "2022-12-14T15:41:38.077Z"
   },
   {
    "duration": 18,
    "start_time": "2022-12-14T15:41:38.914Z"
   },
   {
    "duration": 29,
    "start_time": "2022-12-14T15:41:38.933Z"
   },
   {
    "duration": 4,
    "start_time": "2022-12-14T15:41:38.964Z"
   },
   {
    "duration": 67,
    "start_time": "2022-12-14T15:41:38.969Z"
   },
   {
    "duration": 20,
    "start_time": "2022-12-14T15:41:39.039Z"
   },
   {
    "duration": 5,
    "start_time": "2022-12-14T15:41:39.061Z"
   },
   {
    "duration": 5,
    "start_time": "2022-12-14T15:41:39.068Z"
   },
   {
    "duration": 25,
    "start_time": "2022-12-14T15:41:39.075Z"
   },
   {
    "duration": 4,
    "start_time": "2022-12-14T15:41:39.102Z"
   },
   {
    "duration": 13,
    "start_time": "2022-12-14T15:41:39.107Z"
   },
   {
    "duration": 24,
    "start_time": "2022-12-14T15:41:39.122Z"
   },
   {
    "duration": 4,
    "start_time": "2022-12-14T15:41:39.148Z"
   },
   {
    "duration": 11,
    "start_time": "2022-12-14T15:41:39.153Z"
   },
   {
    "duration": 13,
    "start_time": "2022-12-14T15:41:39.166Z"
   },
   {
    "duration": 39,
    "start_time": "2022-12-14T15:41:39.181Z"
   },
   {
    "duration": 5,
    "start_time": "2022-12-14T15:41:39.222Z"
   },
   {
    "duration": 32,
    "start_time": "2022-12-14T15:41:39.229Z"
   },
   {
    "duration": 8,
    "start_time": "2022-12-14T15:41:39.263Z"
   },
   {
    "duration": 7,
    "start_time": "2022-12-14T15:41:39.272Z"
   },
   {
    "duration": 22,
    "start_time": "2022-12-14T15:42:18.882Z"
   },
   {
    "duration": 4,
    "start_time": "2022-12-14T15:44:27.013Z"
   },
   {
    "duration": 112,
    "start_time": "2022-12-14T15:45:11.425Z"
   },
   {
    "duration": 200,
    "start_time": "2022-12-14T15:45:37.089Z"
   },
   {
    "duration": 240,
    "start_time": "2022-12-14T15:45:54.468Z"
   },
   {
    "duration": 170,
    "start_time": "2022-12-14T15:46:23.937Z"
   },
   {
    "duration": 274,
    "start_time": "2022-12-14T15:48:07.696Z"
   },
   {
    "duration": 221,
    "start_time": "2022-12-14T15:48:24.424Z"
   },
   {
    "duration": 4,
    "start_time": "2022-12-14T15:56:19.658Z"
   },
   {
    "duration": 19,
    "start_time": "2022-12-14T15:57:10.712Z"
   },
   {
    "duration": 17,
    "start_time": "2022-12-14T15:59:40.649Z"
   },
   {
    "duration": 19,
    "start_time": "2022-12-14T16:00:00.601Z"
   },
   {
    "duration": 18,
    "start_time": "2022-12-14T16:00:23.641Z"
   },
   {
    "duration": 1126,
    "start_time": "2022-12-14T16:01:13.464Z"
   },
   {
    "duration": 57,
    "start_time": "2022-12-14T16:01:14.592Z"
   },
   {
    "duration": 27,
    "start_time": "2022-12-14T16:01:14.651Z"
   },
   {
    "duration": 20,
    "start_time": "2022-12-14T16:01:14.680Z"
   },
   {
    "duration": 940,
    "start_time": "2022-12-14T16:01:14.702Z"
   },
   {
    "duration": 15,
    "start_time": "2022-12-14T16:01:15.644Z"
   },
   {
    "duration": 25,
    "start_time": "2022-12-14T16:01:15.661Z"
   },
   {
    "duration": 33,
    "start_time": "2022-12-14T16:01:15.687Z"
   },
   {
    "duration": 83,
    "start_time": "2022-12-14T16:01:15.722Z"
   },
   {
    "duration": 21,
    "start_time": "2022-12-14T16:01:15.808Z"
   },
   {
    "duration": 7,
    "start_time": "2022-12-14T16:01:15.830Z"
   },
   {
    "duration": 13,
    "start_time": "2022-12-14T16:01:15.839Z"
   },
   {
    "duration": 15,
    "start_time": "2022-12-14T16:01:15.854Z"
   },
   {
    "duration": 9,
    "start_time": "2022-12-14T16:01:15.871Z"
   },
   {
    "duration": 16,
    "start_time": "2022-12-14T16:01:15.882Z"
   },
   {
    "duration": 21,
    "start_time": "2022-12-14T16:01:15.899Z"
   },
   {
    "duration": 6,
    "start_time": "2022-12-14T16:01:15.922Z"
   },
   {
    "duration": 7,
    "start_time": "2022-12-14T16:01:15.929Z"
   },
   {
    "duration": 11,
    "start_time": "2022-12-14T16:01:15.938Z"
   },
   {
    "duration": 31,
    "start_time": "2022-12-14T16:01:15.950Z"
   },
   {
    "duration": 16,
    "start_time": "2022-12-14T16:01:15.983Z"
   },
   {
    "duration": 35,
    "start_time": "2022-12-14T16:01:16.001Z"
   },
   {
    "duration": 8,
    "start_time": "2022-12-14T16:01:16.038Z"
   },
   {
    "duration": 42,
    "start_time": "2022-12-14T16:01:16.047Z"
   },
   {
    "duration": 192,
    "start_time": "2022-12-14T16:01:16.094Z"
   },
   {
    "duration": 24,
    "start_time": "2022-12-14T16:01:16.288Z"
   },
   {
    "duration": 101,
    "start_time": "2022-12-14T16:01:40.897Z"
   },
   {
    "duration": 9,
    "start_time": "2022-12-14T16:02:05.722Z"
   },
   {
    "duration": 48,
    "start_time": "2022-12-17T11:18:38.076Z"
   },
   {
    "duration": 6,
    "start_time": "2022-12-17T11:18:43.820Z"
   },
   {
    "duration": 7,
    "start_time": "2022-12-17T11:19:05.168Z"
   },
   {
    "duration": 56,
    "start_time": "2022-12-17T11:21:21.412Z"
   },
   {
    "duration": 41,
    "start_time": "2022-12-17T11:21:48.496Z"
   },
   {
    "duration": 55,
    "start_time": "2022-12-17T11:24:08.033Z"
   },
   {
    "duration": 7,
    "start_time": "2022-12-17T11:24:15.829Z"
   },
   {
    "duration": 1252,
    "start_time": "2022-12-17T11:24:23.587Z"
   },
   {
    "duration": 54,
    "start_time": "2022-12-17T11:24:24.841Z"
   },
   {
    "duration": 24,
    "start_time": "2022-12-17T11:24:24.897Z"
   },
   {
    "duration": 14,
    "start_time": "2022-12-17T11:24:24.922Z"
   },
   {
    "duration": 1002,
    "start_time": "2022-12-17T11:24:24.938Z"
   },
   {
    "duration": 30,
    "start_time": "2022-12-17T11:24:25.942Z"
   },
   {
    "duration": 18,
    "start_time": "2022-12-17T11:24:25.974Z"
   },
   {
    "duration": 5,
    "start_time": "2022-12-17T11:24:25.994Z"
   },
   {
    "duration": 85,
    "start_time": "2022-12-17T11:24:26.000Z"
   },
   {
    "duration": 26,
    "start_time": "2022-12-17T11:24:26.088Z"
   },
   {
    "duration": 10,
    "start_time": "2022-12-17T11:24:26.116Z"
   },
   {
    "duration": 28,
    "start_time": "2022-12-17T11:24:26.128Z"
   },
   {
    "duration": 7,
    "start_time": "2022-12-17T11:24:26.159Z"
   },
   {
    "duration": 10,
    "start_time": "2022-12-17T11:24:26.168Z"
   },
   {
    "duration": 10,
    "start_time": "2022-12-17T11:24:26.181Z"
   },
   {
    "duration": 31,
    "start_time": "2022-12-17T11:24:26.193Z"
   },
   {
    "duration": 5,
    "start_time": "2022-12-17T11:24:26.226Z"
   },
   {
    "duration": 27,
    "start_time": "2022-12-17T11:24:26.232Z"
   },
   {
    "duration": 15,
    "start_time": "2022-12-17T11:24:26.263Z"
   },
   {
    "duration": 29,
    "start_time": "2022-12-17T11:24:26.279Z"
   },
   {
    "duration": 4,
    "start_time": "2022-12-17T11:24:26.310Z"
   },
   {
    "duration": 22,
    "start_time": "2022-12-17T11:24:26.315Z"
   },
   {
    "duration": 9,
    "start_time": "2022-12-17T11:24:26.338Z"
   },
   {
    "duration": 35,
    "start_time": "2022-12-17T11:24:26.348Z"
   },
   {
    "duration": 232,
    "start_time": "2022-12-17T11:24:26.384Z"
   },
   {
    "duration": 8,
    "start_time": "2022-12-17T11:24:26.618Z"
   },
   {
    "duration": 51,
    "start_time": "2022-12-17T11:24:26.627Z"
   },
   {
    "duration": 119,
    "start_time": "2022-12-17T11:25:27.508Z"
   },
   {
    "duration": 9,
    "start_time": "2022-12-17T11:25:31.374Z"
   },
   {
    "duration": 16,
    "start_time": "2022-12-17T12:07:01.871Z"
   },
   {
    "duration": 29310,
    "start_time": "2022-12-17T12:08:39.823Z"
   },
   {
    "duration": 29308,
    "start_time": "2022-12-17T12:10:20.948Z"
   },
   {
    "duration": 30194,
    "start_time": "2022-12-17T12:12:06.409Z"
   },
   {
    "duration": 29911,
    "start_time": "2022-12-17T12:12:48.060Z"
   },
   {
    "duration": 76,
    "start_time": "2022-12-17T12:14:07.814Z"
   },
   {
    "duration": 8,
    "start_time": "2022-12-17T12:14:22.468Z"
   },
   {
    "duration": 62,
    "start_time": "2022-12-17T12:15:53.017Z"
   },
   {
    "duration": 6,
    "start_time": "2022-12-17T12:15:58.022Z"
   },
   {
    "duration": 902,
    "start_time": "2022-12-17T12:18:31.251Z"
   },
   {
    "duration": 9,
    "start_time": "2022-12-17T12:22:45.372Z"
   },
   {
    "duration": 56,
    "start_time": "2022-12-17T12:23:41.355Z"
   },
   {
    "duration": 10,
    "start_time": "2022-12-17T12:23:44.999Z"
   },
   {
    "duration": 10,
    "start_time": "2022-12-17T12:31:40.524Z"
   },
   {
    "duration": 11,
    "start_time": "2022-12-17T12:31:48.672Z"
   },
   {
    "duration": 7,
    "start_time": "2022-12-17T12:31:52.486Z"
   },
   {
    "duration": 7,
    "start_time": "2022-12-17T12:32:00.669Z"
   },
   {
    "duration": 9,
    "start_time": "2022-12-17T12:36:46.040Z"
   },
   {
    "duration": 49,
    "start_time": "2022-12-17T12:37:35.462Z"
   },
   {
    "duration": 9,
    "start_time": "2022-12-17T12:37:47.369Z"
   },
   {
    "duration": 9,
    "start_time": "2022-12-17T12:38:32.331Z"
   },
   {
    "duration": 15,
    "start_time": "2022-12-17T12:38:47.756Z"
   },
   {
    "duration": 53,
    "start_time": "2022-12-17T12:39:32.118Z"
   },
   {
    "duration": 12,
    "start_time": "2022-12-17T12:42:48.911Z"
   },
   {
    "duration": 15,
    "start_time": "2022-12-17T12:44:13.532Z"
   },
   {
    "duration": 6,
    "start_time": "2022-12-17T12:46:40.104Z"
   },
   {
    "duration": 1200,
    "start_time": "2022-12-17T12:46:59.501Z"
   },
   {
    "duration": 60,
    "start_time": "2022-12-17T12:47:00.703Z"
   },
   {
    "duration": 28,
    "start_time": "2022-12-17T12:47:00.766Z"
   },
   {
    "duration": 17,
    "start_time": "2022-12-17T12:47:00.797Z"
   },
   {
    "duration": 983,
    "start_time": "2022-12-17T12:47:00.815Z"
   },
   {
    "duration": 16,
    "start_time": "2022-12-17T12:47:01.800Z"
   },
   {
    "duration": 23,
    "start_time": "2022-12-17T12:47:01.818Z"
   },
   {
    "duration": 33,
    "start_time": "2022-12-17T12:47:01.844Z"
   },
   {
    "duration": 67,
    "start_time": "2022-12-17T12:47:01.879Z"
   },
   {
    "duration": 26,
    "start_time": "2022-12-17T12:47:01.949Z"
   },
   {
    "duration": 20,
    "start_time": "2022-12-17T12:47:01.977Z"
   },
   {
    "duration": 11,
    "start_time": "2022-12-17T12:47:01.999Z"
   },
   {
    "duration": 13,
    "start_time": "2022-12-17T12:47:02.011Z"
   },
   {
    "duration": 26,
    "start_time": "2022-12-17T12:47:02.025Z"
   },
   {
    "duration": 26,
    "start_time": "2022-12-17T12:47:02.053Z"
   },
   {
    "duration": 35,
    "start_time": "2022-12-17T12:47:02.081Z"
   },
   {
    "duration": 4,
    "start_time": "2022-12-17T12:47:02.117Z"
   },
   {
    "duration": 47,
    "start_time": "2022-12-17T12:47:02.123Z"
   },
   {
    "duration": 22,
    "start_time": "2022-12-17T12:47:02.172Z"
   },
   {
    "duration": 27,
    "start_time": "2022-12-17T12:47:02.196Z"
   },
   {
    "duration": 6,
    "start_time": "2022-12-17T12:47:02.225Z"
   },
   {
    "duration": 66,
    "start_time": "2022-12-17T12:47:02.233Z"
   },
   {
    "duration": 9,
    "start_time": "2022-12-17T12:47:02.300Z"
   },
   {
    "duration": 31,
    "start_time": "2022-12-17T12:47:02.310Z"
   },
   {
    "duration": 239,
    "start_time": "2022-12-17T12:47:02.342Z"
   },
   {
    "duration": 7,
    "start_time": "2022-12-17T12:47:02.583Z"
   },
   {
    "duration": 32,
    "start_time": "2022-12-17T12:47:02.592Z"
   },
   {
    "duration": 41,
    "start_time": "2022-12-17T12:47:02.628Z"
   },
   {
    "duration": 118,
    "start_time": "2022-12-17T12:47:02.671Z"
   },
   {
    "duration": 16,
    "start_time": "2022-12-17T12:47:25.204Z"
   },
   {
    "duration": 1250,
    "start_time": "2022-12-17T12:47:39.868Z"
   },
   {
    "duration": 61,
    "start_time": "2022-12-17T12:47:41.120Z"
   },
   {
    "duration": 25,
    "start_time": "2022-12-17T12:47:41.183Z"
   },
   {
    "duration": 16,
    "start_time": "2022-12-17T12:47:41.209Z"
   },
   {
    "duration": 983,
    "start_time": "2022-12-17T12:47:41.227Z"
   },
   {
    "duration": 16,
    "start_time": "2022-12-17T12:47:42.212Z"
   },
   {
    "duration": 27,
    "start_time": "2022-12-17T12:47:42.230Z"
   },
   {
    "duration": 8,
    "start_time": "2022-12-17T12:47:42.260Z"
   },
   {
    "duration": 53,
    "start_time": "2022-12-17T12:47:42.270Z"
   },
   {
    "duration": 43,
    "start_time": "2022-12-17T12:47:42.324Z"
   },
   {
    "duration": 7,
    "start_time": "2022-12-17T12:47:42.370Z"
   },
   {
    "duration": 6,
    "start_time": "2022-12-17T12:47:42.379Z"
   },
   {
    "duration": 5,
    "start_time": "2022-12-17T12:47:42.387Z"
   },
   {
    "duration": 3,
    "start_time": "2022-12-17T12:47:42.396Z"
   },
   {
    "duration": 7,
    "start_time": "2022-12-17T12:47:42.401Z"
   },
   {
    "duration": 63,
    "start_time": "2022-12-17T12:47:42.410Z"
   },
   {
    "duration": 4,
    "start_time": "2022-12-17T12:47:42.475Z"
   },
   {
    "duration": 6,
    "start_time": "2022-12-17T12:47:42.481Z"
   },
   {
    "duration": 8,
    "start_time": "2022-12-17T12:47:42.489Z"
   },
   {
    "duration": 23,
    "start_time": "2022-12-17T12:47:42.498Z"
   },
   {
    "duration": 4,
    "start_time": "2022-12-17T12:47:42.523Z"
   },
   {
    "duration": 52,
    "start_time": "2022-12-17T12:47:42.529Z"
   },
   {
    "duration": 6,
    "start_time": "2022-12-17T12:47:42.583Z"
   },
   {
    "duration": 24,
    "start_time": "2022-12-17T12:47:42.591Z"
   },
   {
    "duration": 234,
    "start_time": "2022-12-17T12:47:42.617Z"
   },
   {
    "duration": 13,
    "start_time": "2022-12-17T12:47:42.858Z"
   },
   {
    "duration": 9,
    "start_time": "2022-12-17T12:47:42.873Z"
   },
   {
    "duration": 17,
    "start_time": "2022-12-17T12:47:42.884Z"
   },
   {
    "duration": 132,
    "start_time": "2022-12-17T12:47:42.902Z"
   },
   {
    "duration": 20,
    "start_time": "2022-12-17T12:49:53.720Z"
   },
   {
    "duration": 21,
    "start_time": "2022-12-17T12:52:05.080Z"
   },
   {
    "duration": 17,
    "start_time": "2022-12-17T12:52:19.449Z"
   },
   {
    "duration": 20,
    "start_time": "2022-12-17T12:54:28.315Z"
   },
   {
    "duration": 19,
    "start_time": "2022-12-17T12:54:55.960Z"
   },
   {
    "duration": 19,
    "start_time": "2022-12-17T12:55:12.152Z"
   },
   {
    "duration": 18,
    "start_time": "2022-12-17T12:55:45.503Z"
   },
   {
    "duration": 17,
    "start_time": "2022-12-17T12:55:53.967Z"
   },
   {
    "duration": 18,
    "start_time": "2022-12-17T12:56:23.423Z"
   },
   {
    "duration": 17,
    "start_time": "2022-12-17T12:56:29.953Z"
   },
   {
    "duration": 53,
    "start_time": "2022-12-17T12:58:42.058Z"
   },
   {
    "duration": 17,
    "start_time": "2022-12-17T12:58:46.303Z"
   },
   {
    "duration": 45,
    "start_time": "2022-12-17T12:59:17.906Z"
   },
   {
    "duration": 19,
    "start_time": "2022-12-17T12:59:20.934Z"
   },
   {
    "duration": 18,
    "start_time": "2022-12-17T12:59:34.728Z"
   },
   {
    "duration": 16,
    "start_time": "2022-12-17T12:59:40.119Z"
   },
   {
    "duration": 55,
    "start_time": "2022-12-17T13:04:43.208Z"
   },
   {
    "duration": 20,
    "start_time": "2022-12-17T13:04:46.964Z"
   },
   {
    "duration": 18,
    "start_time": "2022-12-17T13:05:08.346Z"
   },
   {
    "duration": 16,
    "start_time": "2022-12-17T13:05:34.248Z"
   },
   {
    "duration": 12,
    "start_time": "2022-12-17T13:07:28.840Z"
   },
   {
    "duration": 12,
    "start_time": "2022-12-17T13:07:43.976Z"
   },
   {
    "duration": 49,
    "start_time": "2022-12-17T13:11:03.503Z"
   },
   {
    "duration": 19,
    "start_time": "2022-12-17T13:11:06.585Z"
   },
   {
    "duration": 18,
    "start_time": "2022-12-17T13:11:25.615Z"
   },
   {
    "duration": 9,
    "start_time": "2022-12-17T13:15:07.036Z"
   },
   {
    "duration": 9,
    "start_time": "2022-12-17T13:15:11.849Z"
   },
   {
    "duration": 11,
    "start_time": "2022-12-17T13:15:15.564Z"
   },
   {
    "duration": 619,
    "start_time": "2022-12-17T13:15:48.643Z"
   },
   {
    "duration": 11,
    "start_time": "2022-12-17T13:16:41.948Z"
   },
   {
    "duration": 44,
    "start_time": "2022-12-17T13:16:48.772Z"
   },
   {
    "duration": 45,
    "start_time": "2022-12-17T13:17:26.329Z"
   },
   {
    "duration": 141,
    "start_time": "2022-12-17T13:19:17.157Z"
   },
   {
    "duration": 52,
    "start_time": "2022-12-17T13:20:17.619Z"
   },
   {
    "duration": 44,
    "start_time": "2022-12-17T13:20:40.078Z"
   },
   {
    "duration": 208,
    "start_time": "2022-12-17T13:21:11.710Z"
   },
   {
    "duration": 52,
    "start_time": "2022-12-17T13:22:00.860Z"
   },
   {
    "duration": 14,
    "start_time": "2022-12-17T13:40:33.988Z"
   },
   {
    "duration": 8,
    "start_time": "2022-12-17T13:40:39.046Z"
   },
   {
    "duration": 8,
    "start_time": "2022-12-17T13:40:45.122Z"
   },
   {
    "duration": 29,
    "start_time": "2022-12-17T13:40:47.131Z"
   },
   {
    "duration": 1190,
    "start_time": "2022-12-17T13:41:43.819Z"
   },
   {
    "duration": 53,
    "start_time": "2022-12-17T13:41:45.011Z"
   },
   {
    "duration": 23,
    "start_time": "2022-12-17T13:41:45.066Z"
   },
   {
    "duration": 13,
    "start_time": "2022-12-17T13:41:45.092Z"
   },
   {
    "duration": 937,
    "start_time": "2022-12-17T13:41:45.107Z"
   },
   {
    "duration": 20,
    "start_time": "2022-12-17T13:41:46.045Z"
   },
   {
    "duration": 15,
    "start_time": "2022-12-17T13:41:46.066Z"
   },
   {
    "duration": 5,
    "start_time": "2022-12-17T13:41:46.083Z"
   },
   {
    "duration": 74,
    "start_time": "2022-12-17T13:41:46.090Z"
   },
   {
    "duration": 22,
    "start_time": "2022-12-17T13:41:46.166Z"
   },
   {
    "duration": 6,
    "start_time": "2022-12-17T13:41:46.190Z"
   },
   {
    "duration": 12,
    "start_time": "2022-12-17T13:41:46.198Z"
   },
   {
    "duration": 6,
    "start_time": "2022-12-17T13:41:46.212Z"
   },
   {
    "duration": 6,
    "start_time": "2022-12-17T13:41:46.219Z"
   },
   {
    "duration": 31,
    "start_time": "2022-12-17T13:41:46.226Z"
   },
   {
    "duration": 26,
    "start_time": "2022-12-17T13:41:46.259Z"
   },
   {
    "duration": 5,
    "start_time": "2022-12-17T13:41:46.287Z"
   },
   {
    "duration": 11,
    "start_time": "2022-12-17T13:41:46.293Z"
   },
   {
    "duration": 7,
    "start_time": "2022-12-17T13:41:46.305Z"
   },
   {
    "duration": 45,
    "start_time": "2022-12-17T13:41:46.314Z"
   },
   {
    "duration": 5,
    "start_time": "2022-12-17T13:41:46.361Z"
   },
   {
    "duration": 26,
    "start_time": "2022-12-17T13:41:46.367Z"
   },
   {
    "duration": 7,
    "start_time": "2022-12-17T13:41:46.395Z"
   },
   {
    "duration": 22,
    "start_time": "2022-12-17T13:41:46.403Z"
   },
   {
    "duration": 261,
    "start_time": "2022-12-17T13:41:46.427Z"
   },
   {
    "duration": 18,
    "start_time": "2022-12-17T13:41:46.690Z"
   },
   {
    "duration": 9,
    "start_time": "2022-12-17T13:41:46.710Z"
   },
   {
    "duration": 34,
    "start_time": "2022-12-17T13:41:46.722Z"
   },
   {
    "duration": 36,
    "start_time": "2022-12-17T13:41:46.758Z"
   },
   {
    "duration": 51,
    "start_time": "2022-12-17T13:41:46.795Z"
   },
   {
    "duration": 0,
    "start_time": "2022-12-17T13:41:46.847Z"
   },
   {
    "duration": 153412,
    "start_time": "2022-12-17T13:42:23.690Z"
   },
   {
    "duration": 579,
    "start_time": "2022-12-17T13:47:38.895Z"
   },
   {
    "duration": 1229,
    "start_time": "2022-12-17T13:48:13.031Z"
   },
   {
    "duration": 54,
    "start_time": "2022-12-17T13:48:14.262Z"
   },
   {
    "duration": 24,
    "start_time": "2022-12-17T13:48:14.317Z"
   },
   {
    "duration": 14,
    "start_time": "2022-12-17T13:48:14.343Z"
   },
   {
    "duration": 1046,
    "start_time": "2022-12-17T13:48:14.359Z"
   },
   {
    "duration": 19,
    "start_time": "2022-12-17T13:48:15.407Z"
   },
   {
    "duration": 34,
    "start_time": "2022-12-17T13:48:15.428Z"
   },
   {
    "duration": 7,
    "start_time": "2022-12-17T13:48:15.465Z"
   },
   {
    "duration": 70,
    "start_time": "2022-12-17T13:48:15.474Z"
   },
   {
    "duration": 26,
    "start_time": "2022-12-17T13:48:15.547Z"
   },
   {
    "duration": 8,
    "start_time": "2022-12-17T13:48:15.575Z"
   },
   {
    "duration": 7,
    "start_time": "2022-12-17T13:48:15.584Z"
   },
   {
    "duration": 6,
    "start_time": "2022-12-17T13:48:15.592Z"
   },
   {
    "duration": 5,
    "start_time": "2022-12-17T13:48:15.599Z"
   },
   {
    "duration": 10,
    "start_time": "2022-12-17T13:48:15.605Z"
   },
   {
    "duration": 50,
    "start_time": "2022-12-17T13:48:15.616Z"
   },
   {
    "duration": 4,
    "start_time": "2022-12-17T13:48:15.668Z"
   },
   {
    "duration": 9,
    "start_time": "2022-12-17T13:48:15.674Z"
   },
   {
    "duration": 10,
    "start_time": "2022-12-17T13:48:15.685Z"
   },
   {
    "duration": 27,
    "start_time": "2022-12-17T13:48:15.697Z"
   },
   {
    "duration": 4,
    "start_time": "2022-12-17T13:48:15.726Z"
   },
   {
    "duration": 41,
    "start_time": "2022-12-17T13:48:15.731Z"
   },
   {
    "duration": 11,
    "start_time": "2022-12-17T13:48:15.773Z"
   },
   {
    "duration": 27,
    "start_time": "2022-12-17T13:48:15.786Z"
   },
   {
    "duration": 201,
    "start_time": "2022-12-17T13:48:15.814Z"
   },
   {
    "duration": 17,
    "start_time": "2022-12-17T13:48:16.017Z"
   },
   {
    "duration": 8,
    "start_time": "2022-12-17T13:51:26.762Z"
   },
   {
    "duration": 9,
    "start_time": "2022-12-17T13:51:26.772Z"
   },
   {
    "duration": 33,
    "start_time": "2022-12-17T13:51:26.782Z"
   },
   {
    "duration": 53,
    "start_time": "2022-12-17T13:51:26.817Z"
   },
   {
    "duration": 0,
    "start_time": "2022-12-17T13:51:26.872Z"
   },
   {
    "duration": 0,
    "start_time": "2022-12-17T13:51:26.873Z"
   },
   {
    "duration": 1,
    "start_time": "2022-12-17T13:51:26.874Z"
   },
   {
    "duration": 17,
    "start_time": "2022-12-17T13:51:26.935Z"
   },
   {
    "duration": 296,
    "start_time": "2022-12-17T13:51:53.214Z"
   },
   {
    "duration": 1177,
    "start_time": "2022-12-17T13:52:05.183Z"
   },
   {
    "duration": 54,
    "start_time": "2022-12-17T13:52:06.362Z"
   },
   {
    "duration": 25,
    "start_time": "2022-12-17T13:52:06.418Z"
   },
   {
    "duration": 15,
    "start_time": "2022-12-17T13:52:06.446Z"
   },
   {
    "duration": 907,
    "start_time": "2022-12-17T13:52:06.463Z"
   },
   {
    "duration": 15,
    "start_time": "2022-12-17T13:52:07.372Z"
   },
   {
    "duration": 17,
    "start_time": "2022-12-17T13:52:07.389Z"
   },
   {
    "duration": 10,
    "start_time": "2022-12-17T13:52:07.407Z"
   },
   {
    "duration": 66,
    "start_time": "2022-12-17T13:52:07.418Z"
   },
   {
    "duration": 20,
    "start_time": "2022-12-17T13:52:07.487Z"
   },
   {
    "duration": 25,
    "start_time": "2022-12-17T13:52:07.509Z"
   },
   {
    "duration": 7,
    "start_time": "2022-12-17T13:52:07.536Z"
   },
   {
    "duration": 21,
    "start_time": "2022-12-17T13:52:07.545Z"
   },
   {
    "duration": 12,
    "start_time": "2022-12-17T13:52:07.567Z"
   },
   {
    "duration": 23,
    "start_time": "2022-12-17T13:52:07.581Z"
   },
   {
    "duration": 33,
    "start_time": "2022-12-17T13:52:07.606Z"
   },
   {
    "duration": 19,
    "start_time": "2022-12-17T13:52:07.641Z"
   },
   {
    "duration": 27,
    "start_time": "2022-12-17T13:52:07.662Z"
   },
   {
    "duration": 16,
    "start_time": "2022-12-17T13:52:07.690Z"
   },
   {
    "duration": 54,
    "start_time": "2022-12-17T13:52:07.708Z"
   },
   {
    "duration": 4,
    "start_time": "2022-12-17T13:52:07.764Z"
   },
   {
    "duration": 36,
    "start_time": "2022-12-17T13:52:07.769Z"
   },
   {
    "duration": 11,
    "start_time": "2022-12-17T13:52:07.806Z"
   },
   {
    "duration": 42,
    "start_time": "2022-12-17T13:52:07.819Z"
   },
   {
    "duration": 210,
    "start_time": "2022-12-17T13:52:07.863Z"
   },
   {
    "duration": 4,
    "start_time": "2022-12-17T13:52:08.075Z"
   },
   {
    "duration": 27,
    "start_time": "2022-12-17T13:52:08.080Z"
   },
   {
    "duration": 276,
    "start_time": "2022-12-17T13:52:08.110Z"
   },
   {
    "duration": 0,
    "start_time": "2022-12-17T13:52:08.388Z"
   },
   {
    "duration": 0,
    "start_time": "2022-12-17T13:52:08.389Z"
   },
   {
    "duration": 0,
    "start_time": "2022-12-17T13:52:08.390Z"
   },
   {
    "duration": 0,
    "start_time": "2022-12-17T13:52:08.391Z"
   },
   {
    "duration": 0,
    "start_time": "2022-12-17T13:52:08.392Z"
   },
   {
    "duration": 22,
    "start_time": "2022-12-17T13:53:26.361Z"
   },
   {
    "duration": 1104,
    "start_time": "2022-12-17T13:54:12.301Z"
   },
   {
    "duration": 52,
    "start_time": "2022-12-17T13:54:13.407Z"
   },
   {
    "duration": 25,
    "start_time": "2022-12-17T13:54:13.461Z"
   },
   {
    "duration": 17,
    "start_time": "2022-12-17T13:54:13.488Z"
   },
   {
    "duration": 931,
    "start_time": "2022-12-17T13:54:13.507Z"
   },
   {
    "duration": 31,
    "start_time": "2022-12-17T13:54:14.440Z"
   },
   {
    "duration": 17,
    "start_time": "2022-12-17T13:54:14.474Z"
   },
   {
    "duration": 10,
    "start_time": "2022-12-17T13:54:14.493Z"
   },
   {
    "duration": 85,
    "start_time": "2022-12-17T13:54:14.505Z"
   },
   {
    "duration": 28,
    "start_time": "2022-12-17T13:54:14.594Z"
   },
   {
    "duration": 31,
    "start_time": "2022-12-17T13:54:14.624Z"
   },
   {
    "duration": 9,
    "start_time": "2022-12-17T13:54:14.658Z"
   },
   {
    "duration": 16,
    "start_time": "2022-12-17T13:54:14.670Z"
   },
   {
    "duration": 14,
    "start_time": "2022-12-17T13:54:14.688Z"
   },
   {
    "duration": 8,
    "start_time": "2022-12-17T13:54:14.704Z"
   },
   {
    "duration": 27,
    "start_time": "2022-12-17T13:54:14.713Z"
   },
   {
    "duration": 6,
    "start_time": "2022-12-17T13:54:14.757Z"
   },
   {
    "duration": 11,
    "start_time": "2022-12-17T13:54:14.765Z"
   },
   {
    "duration": 16,
    "start_time": "2022-12-17T13:54:14.778Z"
   },
   {
    "duration": 29,
    "start_time": "2022-12-17T13:54:14.796Z"
   },
   {
    "duration": 5,
    "start_time": "2022-12-17T13:54:14.826Z"
   },
   {
    "duration": 34,
    "start_time": "2022-12-17T13:54:14.833Z"
   },
   {
    "duration": 9,
    "start_time": "2022-12-17T13:54:14.869Z"
   },
   {
    "duration": 24,
    "start_time": "2022-12-17T13:54:14.880Z"
   },
   {
    "duration": 226,
    "start_time": "2022-12-17T13:54:14.905Z"
   },
   {
    "duration": 6,
    "start_time": "2022-12-17T13:54:15.132Z"
   },
   {
    "duration": 29,
    "start_time": "2022-12-17T13:54:15.139Z"
   },
   {
    "duration": 189,
    "start_time": "2022-12-17T13:54:15.171Z"
   },
   {
    "duration": 7,
    "start_time": "2022-12-17T13:54:15.362Z"
   },
   {
    "duration": 9,
    "start_time": "2022-12-17T13:54:15.370Z"
   },
   {
    "duration": 17,
    "start_time": "2022-12-17T13:54:15.381Z"
   },
   {
    "duration": 173,
    "start_time": "2022-12-17T13:54:15.400Z"
   },
   {
    "duration": 0,
    "start_time": "2022-12-17T13:54:15.575Z"
   },
   {
    "duration": 5,
    "start_time": "2022-12-17T13:55:05.773Z"
   },
   {
    "duration": 1185,
    "start_time": "2022-12-17T14:04:10.397Z"
   },
   {
    "duration": 52,
    "start_time": "2022-12-17T14:04:11.584Z"
   },
   {
    "duration": 23,
    "start_time": "2022-12-17T14:04:11.638Z"
   },
   {
    "duration": 18,
    "start_time": "2022-12-17T14:04:11.663Z"
   },
   {
    "duration": 880,
    "start_time": "2022-12-17T14:04:11.682Z"
   },
   {
    "duration": 15,
    "start_time": "2022-12-17T14:04:12.564Z"
   },
   {
    "duration": 12,
    "start_time": "2022-12-17T14:04:12.581Z"
   },
   {
    "duration": 5,
    "start_time": "2022-12-17T14:04:12.595Z"
   },
   {
    "duration": 68,
    "start_time": "2022-12-17T14:04:12.602Z"
   },
   {
    "duration": 20,
    "start_time": "2022-12-17T14:04:12.672Z"
   },
   {
    "duration": 6,
    "start_time": "2022-12-17T14:04:12.694Z"
   },
   {
    "duration": 9,
    "start_time": "2022-12-17T14:04:12.702Z"
   },
   {
    "duration": 7,
    "start_time": "2022-12-17T14:04:12.712Z"
   },
   {
    "duration": 7,
    "start_time": "2022-12-17T14:04:12.720Z"
   },
   {
    "duration": 29,
    "start_time": "2022-12-17T14:04:12.728Z"
   },
   {
    "duration": 26,
    "start_time": "2022-12-17T14:04:12.758Z"
   },
   {
    "duration": 8,
    "start_time": "2022-12-17T14:04:12.786Z"
   },
   {
    "duration": 8,
    "start_time": "2022-12-17T14:04:12.796Z"
   },
   {
    "duration": 10,
    "start_time": "2022-12-17T14:04:12.805Z"
   },
   {
    "duration": 43,
    "start_time": "2022-12-17T14:04:12.817Z"
   },
   {
    "duration": 5,
    "start_time": "2022-12-17T14:04:12.862Z"
   },
   {
    "duration": 26,
    "start_time": "2022-12-17T14:04:12.868Z"
   },
   {
    "duration": 12,
    "start_time": "2022-12-17T14:04:12.896Z"
   },
   {
    "duration": 25,
    "start_time": "2022-12-17T14:04:12.910Z"
   },
   {
    "duration": 224,
    "start_time": "2022-12-17T14:04:12.936Z"
   },
   {
    "duration": 4,
    "start_time": "2022-12-17T14:04:13.162Z"
   },
   {
    "duration": 15,
    "start_time": "2022-12-17T14:04:13.168Z"
   },
   {
    "duration": 6,
    "start_time": "2022-12-17T14:04:13.186Z"
   },
   {
    "duration": 17,
    "start_time": "2022-12-17T14:04:13.194Z"
   },
   {
    "duration": 48,
    "start_time": "2022-12-17T14:04:13.213Z"
   },
   {
    "duration": 0,
    "start_time": "2022-12-17T14:04:13.262Z"
   },
   {
    "duration": 18,
    "start_time": "2022-12-17T14:07:56.378Z"
   },
   {
    "duration": 47,
    "start_time": "2022-12-17T14:07:58.823Z"
   },
   {
    "duration": 97,
    "start_time": "2022-12-17T14:08:00.773Z"
   },
   {
    "duration": 45,
    "start_time": "2022-12-17T14:11:36.139Z"
   },
   {
    "duration": 109,
    "start_time": "2022-12-17T14:11:42.461Z"
   },
   {
    "duration": 212,
    "start_time": "2022-12-17T14:13:02.491Z"
   },
   {
    "duration": 107,
    "start_time": "2022-12-17T14:15:15.974Z"
   },
   {
    "duration": 123,
    "start_time": "2022-12-17T14:15:25.963Z"
   },
   {
    "duration": 121,
    "start_time": "2022-12-17T14:16:36.702Z"
   },
   {
    "duration": 126,
    "start_time": "2022-12-17T14:16:45.298Z"
   },
   {
    "duration": 116,
    "start_time": "2022-12-17T14:17:04.931Z"
   },
   {
    "duration": 117,
    "start_time": "2022-12-17T14:20:48.547Z"
   },
   {
    "duration": 118,
    "start_time": "2022-12-17T14:20:54.821Z"
   },
   {
    "duration": 37,
    "start_time": "2022-12-17T14:21:56.918Z"
   },
   {
    "duration": 10,
    "start_time": "2022-12-17T14:22:13.038Z"
   },
   {
    "duration": 119,
    "start_time": "2022-12-17T14:27:38.392Z"
   },
   {
    "duration": 129,
    "start_time": "2022-12-17T14:28:00.914Z"
   },
   {
    "duration": 116,
    "start_time": "2022-12-17T14:30:25.785Z"
   },
   {
    "duration": 116,
    "start_time": "2022-12-17T14:30:32.281Z"
   },
   {
    "duration": 117,
    "start_time": "2022-12-17T14:30:40.225Z"
   },
   {
    "duration": 192,
    "start_time": "2022-12-17T14:30:51.478Z"
   },
   {
    "duration": 1108,
    "start_time": "2022-12-17T14:31:06.557Z"
   },
   {
    "duration": 54,
    "start_time": "2022-12-17T14:31:07.667Z"
   },
   {
    "duration": 22,
    "start_time": "2022-12-17T14:31:07.723Z"
   },
   {
    "duration": 17,
    "start_time": "2022-12-17T14:31:07.747Z"
   },
   {
    "duration": 899,
    "start_time": "2022-12-17T14:31:07.765Z"
   },
   {
    "duration": 19,
    "start_time": "2022-12-17T14:31:08.666Z"
   },
   {
    "duration": 16,
    "start_time": "2022-12-17T14:31:08.687Z"
   },
   {
    "duration": 5,
    "start_time": "2022-12-17T14:31:08.705Z"
   },
   {
    "duration": 83,
    "start_time": "2022-12-17T14:31:08.712Z"
   },
   {
    "duration": 23,
    "start_time": "2022-12-17T14:31:08.798Z"
   },
   {
    "duration": 7,
    "start_time": "2022-12-17T14:31:08.823Z"
   },
   {
    "duration": 27,
    "start_time": "2022-12-17T14:31:08.832Z"
   },
   {
    "duration": 9,
    "start_time": "2022-12-17T14:31:08.861Z"
   },
   {
    "duration": 7,
    "start_time": "2022-12-17T14:31:08.871Z"
   },
   {
    "duration": 7,
    "start_time": "2022-12-17T14:31:08.879Z"
   },
   {
    "duration": 24,
    "start_time": "2022-12-17T14:31:08.888Z"
   },
   {
    "duration": 7,
    "start_time": "2022-12-17T14:31:08.914Z"
   },
   {
    "duration": 33,
    "start_time": "2022-12-17T14:31:08.923Z"
   },
   {
    "duration": 6,
    "start_time": "2022-12-17T14:31:08.958Z"
   },
   {
    "duration": 29,
    "start_time": "2022-12-17T14:31:08.966Z"
   },
   {
    "duration": 5,
    "start_time": "2022-12-17T14:31:08.997Z"
   },
   {
    "duration": 25,
    "start_time": "2022-12-17T14:31:09.003Z"
   },
   {
    "duration": 33,
    "start_time": "2022-12-17T14:31:09.029Z"
   },
   {
    "duration": 25,
    "start_time": "2022-12-17T14:31:09.064Z"
   },
   {
    "duration": 224,
    "start_time": "2022-12-17T14:31:09.090Z"
   },
   {
    "duration": 6,
    "start_time": "2022-12-17T14:31:09.315Z"
   },
   {
    "duration": 9,
    "start_time": "2022-12-17T14:31:09.323Z"
   },
   {
    "duration": 25,
    "start_time": "2022-12-17T14:31:09.335Z"
   },
   {
    "duration": 17,
    "start_time": "2022-12-17T14:31:09.362Z"
   },
   {
    "duration": 80,
    "start_time": "2022-12-17T14:31:09.380Z"
   },
   {
    "duration": 0,
    "start_time": "2022-12-17T14:31:09.462Z"
   },
   {
    "duration": 0,
    "start_time": "2022-12-17T14:31:09.463Z"
   },
   {
    "duration": 0,
    "start_time": "2022-12-17T14:31:09.464Z"
   },
   {
    "duration": 0,
    "start_time": "2022-12-17T14:31:09.465Z"
   },
   {
    "duration": 121,
    "start_time": "2022-12-17T14:31:18.249Z"
   },
   {
    "duration": 11,
    "start_time": "2022-12-17T14:31:25.257Z"
   },
   {
    "duration": 224,
    "start_time": "2022-12-17T14:31:27.336Z"
   },
   {
    "duration": 10,
    "start_time": "2022-12-17T14:32:03.830Z"
   },
   {
    "duration": 10,
    "start_time": "2022-12-17T14:32:18.822Z"
   },
   {
    "duration": 10,
    "start_time": "2022-12-17T14:32:23.001Z"
   },
   {
    "duration": 105,
    "start_time": "2022-12-17T14:32:34.023Z"
   },
   {
    "duration": 10,
    "start_time": "2022-12-17T14:32:57.572Z"
   },
   {
    "duration": 109,
    "start_time": "2022-12-17T14:33:09.830Z"
   },
   {
    "duration": 133,
    "start_time": "2022-12-17T14:33:34.543Z"
   },
   {
    "duration": 115,
    "start_time": "2022-12-17T14:33:54.933Z"
   },
   {
    "duration": 1064,
    "start_time": "2022-12-17T14:34:19.099Z"
   },
   {
    "duration": 53,
    "start_time": "2022-12-17T14:34:20.164Z"
   },
   {
    "duration": 24,
    "start_time": "2022-12-17T14:34:20.219Z"
   },
   {
    "duration": 16,
    "start_time": "2022-12-17T14:34:20.246Z"
   },
   {
    "duration": 939,
    "start_time": "2022-12-17T14:34:20.264Z"
   },
   {
    "duration": 18,
    "start_time": "2022-12-17T14:34:21.205Z"
   },
   {
    "duration": 30,
    "start_time": "2022-12-17T14:34:21.225Z"
   },
   {
    "duration": 4,
    "start_time": "2022-12-17T14:34:21.257Z"
   },
   {
    "duration": 60,
    "start_time": "2022-12-17T14:34:21.263Z"
   },
   {
    "duration": 36,
    "start_time": "2022-12-17T14:34:21.327Z"
   },
   {
    "duration": 8,
    "start_time": "2022-12-17T14:34:21.366Z"
   },
   {
    "duration": 7,
    "start_time": "2022-12-17T14:34:21.376Z"
   },
   {
    "duration": 6,
    "start_time": "2022-12-17T14:34:21.385Z"
   },
   {
    "duration": 5,
    "start_time": "2022-12-17T14:34:21.393Z"
   },
   {
    "duration": 9,
    "start_time": "2022-12-17T14:34:21.399Z"
   },
   {
    "duration": 63,
    "start_time": "2022-12-17T14:34:21.410Z"
   },
   {
    "duration": 5,
    "start_time": "2022-12-17T14:34:21.475Z"
   },
   {
    "duration": 14,
    "start_time": "2022-12-17T14:34:21.481Z"
   },
   {
    "duration": 11,
    "start_time": "2022-12-17T14:34:21.496Z"
   },
   {
    "duration": 27,
    "start_time": "2022-12-17T14:34:21.509Z"
   },
   {
    "duration": 5,
    "start_time": "2022-12-17T14:34:21.537Z"
   },
   {
    "duration": 28,
    "start_time": "2022-12-17T14:34:21.544Z"
   },
   {
    "duration": 19,
    "start_time": "2022-12-17T14:34:21.574Z"
   },
   {
    "duration": 22,
    "start_time": "2022-12-17T14:34:21.595Z"
   },
   {
    "duration": 211,
    "start_time": "2022-12-17T14:34:21.619Z"
   },
   {
    "duration": 5,
    "start_time": "2022-12-17T14:34:21.832Z"
   },
   {
    "duration": 20,
    "start_time": "2022-12-17T14:34:21.839Z"
   },
   {
    "duration": 8,
    "start_time": "2022-12-17T14:34:21.862Z"
   },
   {
    "duration": 18,
    "start_time": "2022-12-17T14:34:21.872Z"
   },
   {
    "duration": 46,
    "start_time": "2022-12-17T14:34:21.891Z"
   },
   {
    "duration": 0,
    "start_time": "2022-12-17T14:34:21.939Z"
   },
   {
    "duration": 0,
    "start_time": "2022-12-17T14:34:21.941Z"
   },
   {
    "duration": 0,
    "start_time": "2022-12-17T14:34:21.942Z"
   },
   {
    "duration": 0,
    "start_time": "2022-12-17T14:34:21.944Z"
   },
   {
    "duration": 0,
    "start_time": "2022-12-17T14:34:21.945Z"
   },
   {
    "duration": 0,
    "start_time": "2022-12-17T14:34:21.947Z"
   },
   {
    "duration": 124,
    "start_time": "2022-12-17T14:34:35.589Z"
   },
   {
    "duration": 9,
    "start_time": "2022-12-17T14:34:37.391Z"
   },
   {
    "duration": 198,
    "start_time": "2022-12-17T14:34:40.488Z"
   },
   {
    "duration": 12,
    "start_time": "2022-12-17T14:34:41.527Z"
   },
   {
    "duration": 124,
    "start_time": "2022-12-17T14:34:45.470Z"
   },
   {
    "duration": 11,
    "start_time": "2022-12-17T14:34:45.887Z"
   },
   {
    "duration": 112,
    "start_time": "2022-12-17T14:35:00.143Z"
   },
   {
    "duration": 116,
    "start_time": "2022-12-17T14:35:37.298Z"
   },
   {
    "duration": 122,
    "start_time": "2022-12-17T14:37:59.536Z"
   },
   {
    "duration": 46,
    "start_time": "2022-12-18T10:22:54.500Z"
   },
   {
    "duration": 1249,
    "start_time": "2022-12-18T10:23:02.122Z"
   },
   {
    "duration": 217,
    "start_time": "2022-12-18T10:23:03.373Z"
   },
   {
    "duration": 22,
    "start_time": "2022-12-18T10:23:03.592Z"
   },
   {
    "duration": 13,
    "start_time": "2022-12-18T10:23:03.616Z"
   },
   {
    "duration": 981,
    "start_time": "2022-12-18T10:23:03.630Z"
   },
   {
    "duration": 16,
    "start_time": "2022-12-18T10:23:04.613Z"
   },
   {
    "duration": 14,
    "start_time": "2022-12-18T10:23:04.631Z"
   },
   {
    "duration": 6,
    "start_time": "2022-12-18T10:23:04.647Z"
   },
   {
    "duration": 79,
    "start_time": "2022-12-18T10:23:04.655Z"
   },
   {
    "duration": 22,
    "start_time": "2022-12-18T10:23:04.738Z"
   },
   {
    "duration": 32,
    "start_time": "2022-12-18T10:23:04.762Z"
   },
   {
    "duration": 15,
    "start_time": "2022-12-18T10:23:04.797Z"
   },
   {
    "duration": 14,
    "start_time": "2022-12-18T10:23:04.813Z"
   },
   {
    "duration": 7,
    "start_time": "2022-12-18T10:23:04.829Z"
   },
   {
    "duration": 12,
    "start_time": "2022-12-18T10:23:04.838Z"
   },
   {
    "duration": 42,
    "start_time": "2022-12-18T10:23:04.852Z"
   },
   {
    "duration": 13,
    "start_time": "2022-12-18T10:23:04.895Z"
   },
   {
    "duration": 12,
    "start_time": "2022-12-18T10:23:04.910Z"
   },
   {
    "duration": 8,
    "start_time": "2022-12-18T10:23:04.924Z"
   },
   {
    "duration": 30,
    "start_time": "2022-12-18T10:23:04.934Z"
   },
   {
    "duration": 7,
    "start_time": "2022-12-18T10:23:04.966Z"
   },
   {
    "duration": 51,
    "start_time": "2022-12-18T10:23:04.975Z"
   },
   {
    "duration": 8,
    "start_time": "2022-12-18T10:23:05.028Z"
   },
   {
    "duration": 22,
    "start_time": "2022-12-18T10:23:05.037Z"
   },
   {
    "duration": 232,
    "start_time": "2022-12-18T10:23:05.060Z"
   },
   {
    "duration": 6,
    "start_time": "2022-12-18T10:23:05.294Z"
   },
   {
    "duration": 9,
    "start_time": "2022-12-18T10:23:05.302Z"
   },
   {
    "duration": 9,
    "start_time": "2022-12-18T10:23:05.314Z"
   },
   {
    "duration": 17,
    "start_time": "2022-12-18T10:23:05.324Z"
   },
   {
    "duration": 147,
    "start_time": "2022-12-18T10:23:05.343Z"
   },
   {
    "duration": 0,
    "start_time": "2022-12-18T10:23:05.492Z"
   },
   {
    "duration": 0,
    "start_time": "2022-12-18T10:23:05.493Z"
   },
   {
    "duration": 0,
    "start_time": "2022-12-18T10:23:05.494Z"
   },
   {
    "duration": 0,
    "start_time": "2022-12-18T10:23:05.495Z"
   },
   {
    "duration": 0,
    "start_time": "2022-12-18T10:23:05.496Z"
   },
   {
    "duration": 0,
    "start_time": "2022-12-18T10:23:05.498Z"
   },
   {
    "duration": 18,
    "start_time": "2022-12-18T10:28:40.608Z"
   },
   {
    "duration": 17,
    "start_time": "2022-12-18T10:29:15.407Z"
   },
   {
    "duration": 229,
    "start_time": "2022-12-18T10:30:30.076Z"
   },
   {
    "duration": 127,
    "start_time": "2022-12-18T10:31:37.617Z"
   },
   {
    "duration": 123,
    "start_time": "2022-12-18T10:31:46.007Z"
   },
   {
    "duration": 20,
    "start_time": "2022-12-18T10:39:14.500Z"
   },
   {
    "duration": 81,
    "start_time": "2022-12-18T10:39:56.997Z"
   },
   {
    "duration": 18,
    "start_time": "2022-12-18T10:40:00.482Z"
   },
   {
    "duration": 20,
    "start_time": "2022-12-18T10:40:05.409Z"
   },
   {
    "duration": 22,
    "start_time": "2022-12-18T10:40:11.671Z"
   },
   {
    "duration": 22,
    "start_time": "2022-12-18T10:40:18.932Z"
   },
   {
    "duration": 26,
    "start_time": "2022-12-18T10:40:34.230Z"
   },
   {
    "duration": 10,
    "start_time": "2022-12-18T10:41:36.543Z"
   },
   {
    "duration": 10,
    "start_time": "2022-12-18T10:41:43.623Z"
   },
   {
    "duration": 331,
    "start_time": "2022-12-18T10:42:39.175Z"
   },
   {
    "duration": 269,
    "start_time": "2022-12-18T10:47:42.792Z"
   },
   {
    "duration": 298,
    "start_time": "2022-12-18T10:47:51.291Z"
   },
   {
    "duration": 290,
    "start_time": "2022-12-18T10:47:54.085Z"
   },
   {
    "duration": 381,
    "start_time": "2022-12-18T10:48:03.618Z"
   },
   {
    "duration": 276,
    "start_time": "2022-12-18T10:48:09.024Z"
   },
   {
    "duration": 10,
    "start_time": "2022-12-18T10:49:03.060Z"
   },
   {
    "duration": 117,
    "start_time": "2022-12-18T10:49:03.526Z"
   },
   {
    "duration": 13,
    "start_time": "2022-12-18T10:49:03.974Z"
   },
   {
    "duration": 113,
    "start_time": "2022-12-18T10:49:04.750Z"
   },
   {
    "duration": 12,
    "start_time": "2022-12-18T10:49:05.121Z"
   },
   {
    "duration": 8,
    "start_time": "2022-12-18T10:50:23.209Z"
   },
   {
    "duration": 19,
    "start_time": "2022-12-18T10:54:03.218Z"
   },
   {
    "duration": 22,
    "start_time": "2022-12-18T11:05:04.297Z"
   },
   {
    "duration": 370,
    "start_time": "2022-12-18T11:27:15.671Z"
   },
   {
    "duration": 185,
    "start_time": "2022-12-18T11:45:35.653Z"
   },
   {
    "duration": 140,
    "start_time": "2022-12-18T11:46:34.866Z"
   },
   {
    "duration": 11,
    "start_time": "2022-12-18T11:47:23.742Z"
   },
   {
    "duration": 129,
    "start_time": "2022-12-18T11:48:55.953Z"
   },
   {
    "duration": 117,
    "start_time": "2022-12-18T11:49:01.469Z"
   },
   {
    "duration": 150,
    "start_time": "2022-12-18T11:50:22.577Z"
   },
   {
    "duration": 223,
    "start_time": "2022-12-18T11:50:26.661Z"
   },
   {
    "duration": 171,
    "start_time": "2022-12-18T11:55:38.707Z"
   },
   {
    "duration": 190,
    "start_time": "2022-12-18T11:55:51.047Z"
   },
   {
    "duration": 46,
    "start_time": "2022-12-19T13:25:05.522Z"
   },
   {
    "duration": 7,
    "start_time": "2022-12-19T13:25:58.018Z"
   },
   {
    "duration": 5,
    "start_time": "2022-12-19T13:26:36.074Z"
   },
   {
    "duration": 6,
    "start_time": "2022-12-19T13:31:24.347Z"
   },
   {
    "duration": 1300,
    "start_time": "2022-12-19T13:42:10.074Z"
   },
   {
    "duration": 193,
    "start_time": "2022-12-19T13:42:11.376Z"
   },
   {
    "duration": 22,
    "start_time": "2022-12-19T13:42:11.571Z"
   },
   {
    "duration": 49,
    "start_time": "2022-12-19T13:42:11.595Z"
   },
   {
    "duration": 843,
    "start_time": "2022-12-19T13:42:11.645Z"
   },
   {
    "duration": 14,
    "start_time": "2022-12-19T13:42:12.490Z"
   },
   {
    "duration": 12,
    "start_time": "2022-12-19T13:42:12.505Z"
   },
   {
    "duration": 4,
    "start_time": "2022-12-19T13:42:12.519Z"
   },
   {
    "duration": 71,
    "start_time": "2022-12-19T13:42:12.524Z"
   },
   {
    "duration": 20,
    "start_time": "2022-12-19T13:42:12.598Z"
   },
   {
    "duration": 14,
    "start_time": "2022-12-19T13:42:12.619Z"
   },
   {
    "duration": 5,
    "start_time": "2022-12-19T13:42:12.635Z"
   },
   {
    "duration": 9,
    "start_time": "2022-12-19T13:42:12.642Z"
   },
   {
    "duration": 7,
    "start_time": "2022-12-19T13:42:12.653Z"
   },
   {
    "duration": 17,
    "start_time": "2022-12-19T13:42:12.661Z"
   },
   {
    "duration": 19,
    "start_time": "2022-12-19T13:42:12.680Z"
   },
   {
    "duration": 9,
    "start_time": "2022-12-19T13:42:12.700Z"
   },
   {
    "duration": 11,
    "start_time": "2022-12-19T13:42:12.710Z"
   },
   {
    "duration": 8,
    "start_time": "2022-12-19T13:42:12.722Z"
   },
   {
    "duration": 24,
    "start_time": "2022-12-19T13:42:12.731Z"
   },
   {
    "duration": 4,
    "start_time": "2022-12-19T13:42:12.756Z"
   },
   {
    "duration": 17,
    "start_time": "2022-12-19T13:42:12.761Z"
   },
   {
    "duration": 28,
    "start_time": "2022-12-19T13:42:12.780Z"
   },
   {
    "duration": 5,
    "start_time": "2022-12-19T13:42:12.809Z"
   },
   {
    "duration": 23,
    "start_time": "2022-12-19T13:42:12.815Z"
   },
   {
    "duration": 215,
    "start_time": "2022-12-19T13:42:12.840Z"
   },
   {
    "duration": 5,
    "start_time": "2022-12-19T13:42:13.057Z"
   },
   {
    "duration": 20,
    "start_time": "2022-12-19T13:42:13.066Z"
   },
   {
    "duration": 7,
    "start_time": "2022-12-19T13:42:13.088Z"
   },
   {
    "duration": 20,
    "start_time": "2022-12-19T13:42:13.096Z"
   },
   {
    "duration": 336,
    "start_time": "2022-12-19T13:42:13.117Z"
   },
   {
    "duration": 117,
    "start_time": "2022-12-19T13:42:13.454Z"
   },
   {
    "duration": 14,
    "start_time": "2022-12-19T13:42:13.572Z"
   },
   {
    "duration": 117,
    "start_time": "2022-12-19T13:42:13.587Z"
   },
   {
    "duration": 9,
    "start_time": "2022-12-19T13:42:13.705Z"
   },
   {
    "duration": 117,
    "start_time": "2022-12-19T13:42:13.715Z"
   },
   {
    "duration": 10,
    "start_time": "2022-12-19T13:42:13.833Z"
   },
   {
    "duration": 4,
    "start_time": "2022-12-19T13:56:08.619Z"
   },
   {
    "duration": 5,
    "start_time": "2022-12-19T13:56:26.421Z"
   },
   {
    "duration": 95,
    "start_time": "2022-12-19T14:52:49.212Z"
   },
   {
    "duration": 187,
    "start_time": "2022-12-19T14:53:26.901Z"
   },
   {
    "duration": 188,
    "start_time": "2022-12-19T14:53:57.490Z"
   },
   {
    "duration": 69,
    "start_time": "2022-12-19T14:55:08.756Z"
   },
   {
    "duration": 78,
    "start_time": "2022-12-19T14:55:35.195Z"
   },
   {
    "duration": 72,
    "start_time": "2022-12-19T14:55:53.259Z"
   },
   {
    "duration": 73,
    "start_time": "2022-12-19T14:55:59.407Z"
   },
   {
    "duration": 72,
    "start_time": "2022-12-19T14:56:12.071Z"
   },
   {
    "duration": 82,
    "start_time": "2022-12-19T14:56:37.956Z"
   },
   {
    "duration": 68,
    "start_time": "2022-12-19T14:56:55.893Z"
   },
   {
    "duration": 70,
    "start_time": "2022-12-19T14:57:05.418Z"
   },
   {
    "duration": 173,
    "start_time": "2022-12-19T14:57:11.826Z"
   },
   {
    "duration": 177,
    "start_time": "2022-12-19T14:57:14.934Z"
   },
   {
    "duration": 172,
    "start_time": "2022-12-19T14:57:33.620Z"
   },
   {
    "duration": 10,
    "start_time": "2022-12-19T14:59:43.022Z"
   },
   {
    "duration": 8,
    "start_time": "2022-12-19T15:00:01.242Z"
   },
   {
    "duration": 8,
    "start_time": "2022-12-19T15:00:13.828Z"
   },
   {
    "duration": 8,
    "start_time": "2022-12-19T15:00:27.240Z"
   },
   {
    "duration": 20,
    "start_time": "2022-12-19T15:00:39.856Z"
   },
   {
    "duration": 5,
    "start_time": "2022-12-19T15:08:35.871Z"
   },
   {
    "duration": 18,
    "start_time": "2022-12-19T15:09:06.765Z"
   },
   {
    "duration": 10,
    "start_time": "2022-12-19T15:16:24.620Z"
   },
   {
    "duration": 184,
    "start_time": "2022-12-19T15:16:58.187Z"
   },
   {
    "duration": 192,
    "start_time": "2022-12-19T15:18:41.587Z"
   },
   {
    "duration": 174,
    "start_time": "2022-12-19T15:19:40.104Z"
   },
   {
    "duration": 172,
    "start_time": "2022-12-19T15:20:25.901Z"
   },
   {
    "duration": 264,
    "start_time": "2022-12-19T15:23:05.053Z"
   },
   {
    "duration": 156,
    "start_time": "2022-12-19T15:26:34.817Z"
   },
   {
    "duration": 172,
    "start_time": "2022-12-19T15:27:11.796Z"
   },
   {
    "duration": 1184,
    "start_time": "2022-12-19T15:29:03.910Z"
   },
   {
    "duration": 7,
    "start_time": "2022-12-19T15:29:22.774Z"
   },
   {
    "duration": 190,
    "start_time": "2022-12-19T15:35:25.473Z"
   },
   {
    "duration": 187,
    "start_time": "2022-12-19T15:35:36.713Z"
   },
   {
    "duration": 178,
    "start_time": "2022-12-19T15:35:46.562Z"
   },
   {
    "duration": 17,
    "start_time": "2022-12-19T15:37:20.862Z"
   },
   {
    "duration": 194,
    "start_time": "2022-12-19T15:37:30.157Z"
   },
   {
    "duration": 31,
    "start_time": "2022-12-19T15:40:37.265Z"
   },
   {
    "duration": 26,
    "start_time": "2022-12-19T15:40:41.493Z"
   },
   {
    "duration": 181,
    "start_time": "2022-12-19T15:42:04.814Z"
   },
   {
    "duration": 166,
    "start_time": "2022-12-19T15:42:14.748Z"
   },
   {
    "duration": 169,
    "start_time": "2022-12-19T15:42:21.078Z"
   },
   {
    "duration": 182,
    "start_time": "2022-12-19T15:47:53.823Z"
   },
   {
    "duration": 183,
    "start_time": "2022-12-19T15:48:08.941Z"
   },
   {
    "duration": 175,
    "start_time": "2022-12-19T15:48:15.834Z"
   },
   {
    "duration": 6,
    "start_time": "2022-12-19T15:52:19.228Z"
   },
   {
    "duration": 6,
    "start_time": "2022-12-19T15:56:00.246Z"
   },
   {
    "duration": 5,
    "start_time": "2022-12-19T15:56:26.120Z"
   },
   {
    "duration": 6,
    "start_time": "2022-12-19T16:03:05.125Z"
   },
   {
    "duration": 150,
    "start_time": "2022-12-19T16:03:07.736Z"
   },
   {
    "duration": 182,
    "start_time": "2022-12-19T16:03:21.965Z"
   },
   {
    "duration": 6,
    "start_time": "2022-12-19T16:03:34.487Z"
   },
   {
    "duration": 6,
    "start_time": "2022-12-19T16:04:02.550Z"
   },
   {
    "duration": 263,
    "start_time": "2022-12-19T16:08:04.719Z"
   },
   {
    "duration": 6,
    "start_time": "2022-12-19T16:08:17.366Z"
   },
   {
    "duration": 5,
    "start_time": "2022-12-19T16:08:29.187Z"
   },
   {
    "duration": 6,
    "start_time": "2022-12-19T16:08:40.664Z"
   },
   {
    "duration": 168,
    "start_time": "2022-12-19T16:09:18.814Z"
   },
   {
    "duration": 170,
    "start_time": "2022-12-19T16:09:41.205Z"
   },
   {
    "duration": 5,
    "start_time": "2022-12-19T16:10:00.401Z"
   },
   {
    "duration": 5,
    "start_time": "2022-12-19T16:10:04.690Z"
   },
   {
    "duration": 162,
    "start_time": "2022-12-19T16:10:15.316Z"
   },
   {
    "duration": 6,
    "start_time": "2022-12-19T16:10:31.637Z"
   },
   {
    "duration": 1176,
    "start_time": "2022-12-19T16:10:42.780Z"
   },
   {
    "duration": 68,
    "start_time": "2022-12-19T16:10:43.958Z"
   },
   {
    "duration": 33,
    "start_time": "2022-12-19T16:10:44.028Z"
   },
   {
    "duration": 22,
    "start_time": "2022-12-19T16:10:44.064Z"
   },
   {
    "duration": 910,
    "start_time": "2022-12-19T16:10:44.088Z"
   },
   {
    "duration": 18,
    "start_time": "2022-12-19T16:10:45.000Z"
   },
   {
    "duration": 15,
    "start_time": "2022-12-19T16:10:45.020Z"
   },
   {
    "duration": 9,
    "start_time": "2022-12-19T16:10:45.036Z"
   },
   {
    "duration": 82,
    "start_time": "2022-12-19T16:10:45.046Z"
   },
   {
    "duration": 23,
    "start_time": "2022-12-19T16:10:45.131Z"
   },
   {
    "duration": 7,
    "start_time": "2022-12-19T16:10:45.155Z"
   },
   {
    "duration": 19,
    "start_time": "2022-12-19T16:10:45.163Z"
   },
   {
    "duration": 11,
    "start_time": "2022-12-19T16:10:45.183Z"
   },
   {
    "duration": 10,
    "start_time": "2022-12-19T16:10:45.196Z"
   },
   {
    "duration": 12,
    "start_time": "2022-12-19T16:10:45.208Z"
   },
   {
    "duration": 26,
    "start_time": "2022-12-19T16:10:45.222Z"
   },
   {
    "duration": 4,
    "start_time": "2022-12-19T16:10:45.250Z"
   },
   {
    "duration": 23,
    "start_time": "2022-12-19T16:10:45.256Z"
   },
   {
    "duration": 7,
    "start_time": "2022-12-19T16:10:45.281Z"
   },
   {
    "duration": 25,
    "start_time": "2022-12-19T16:10:45.290Z"
   },
   {
    "duration": 4,
    "start_time": "2022-12-19T16:10:45.317Z"
   },
   {
    "duration": 14,
    "start_time": "2022-12-19T16:10:45.323Z"
   },
   {
    "duration": 6,
    "start_time": "2022-12-19T16:10:45.339Z"
   },
   {
    "duration": 34,
    "start_time": "2022-12-19T16:10:45.346Z"
   },
   {
    "duration": 5,
    "start_time": "2022-12-19T16:10:45.382Z"
   },
   {
    "duration": 20,
    "start_time": "2022-12-19T16:10:45.389Z"
   },
   {
    "duration": 9,
    "start_time": "2022-12-19T16:10:45.410Z"
   },
   {
    "duration": 204,
    "start_time": "2022-12-19T16:10:45.423Z"
   },
   {
    "duration": 5,
    "start_time": "2022-12-19T16:10:45.629Z"
   },
   {
    "duration": 12,
    "start_time": "2022-12-19T16:10:45.636Z"
   },
   {
    "duration": 8,
    "start_time": "2022-12-19T16:10:45.650Z"
   },
   {
    "duration": 38,
    "start_time": "2022-12-19T16:10:45.659Z"
   },
   {
    "duration": 353,
    "start_time": "2022-12-19T16:10:45.698Z"
   },
   {
    "duration": 139,
    "start_time": "2022-12-19T16:10:46.053Z"
   },
   {
    "duration": 11,
    "start_time": "2022-12-19T16:10:46.194Z"
   },
   {
    "duration": 134,
    "start_time": "2022-12-19T16:10:46.206Z"
   },
   {
    "duration": 9,
    "start_time": "2022-12-19T16:10:46.342Z"
   },
   {
    "duration": 109,
    "start_time": "2022-12-19T16:10:46.352Z"
   },
   {
    "duration": 19,
    "start_time": "2022-12-19T16:10:46.462Z"
   },
   {
    "duration": 3,
    "start_time": "2022-12-19T16:10:46.483Z"
   },
   {
    "duration": 161,
    "start_time": "2022-12-19T16:10:46.488Z"
   },
   {
    "duration": 176,
    "start_time": "2022-12-19T16:10:46.651Z"
   },
   {
    "duration": 6,
    "start_time": "2022-12-19T16:10:46.829Z"
   },
   {
    "duration": 181,
    "start_time": "2022-12-19T16:10:46.836Z"
   },
   {
    "duration": 6,
    "start_time": "2022-12-19T16:10:47.018Z"
   },
   {
    "duration": 179,
    "start_time": "2022-12-19T16:15:12.812Z"
   },
   {
    "duration": 7,
    "start_time": "2022-12-19T16:15:20.876Z"
   },
   {
    "duration": 170,
    "start_time": "2022-12-19T16:17:22.099Z"
   },
   {
    "duration": 7,
    "start_time": "2022-12-19T16:18:41.721Z"
   },
   {
    "duration": 154,
    "start_time": "2022-12-19T16:20:08.331Z"
   },
   {
    "duration": 1109,
    "start_time": "2022-12-19T16:20:29.322Z"
   },
   {
    "duration": 54,
    "start_time": "2022-12-19T16:20:30.433Z"
   },
   {
    "duration": 23,
    "start_time": "2022-12-19T16:20:30.488Z"
   },
   {
    "duration": 29,
    "start_time": "2022-12-19T16:20:30.513Z"
   },
   {
    "duration": 938,
    "start_time": "2022-12-19T16:20:30.543Z"
   },
   {
    "duration": 16,
    "start_time": "2022-12-19T16:20:31.483Z"
   },
   {
    "duration": 41,
    "start_time": "2022-12-19T16:20:31.501Z"
   },
   {
    "duration": 34,
    "start_time": "2022-12-19T16:20:31.544Z"
   },
   {
    "duration": 86,
    "start_time": "2022-12-19T16:20:31.580Z"
   },
   {
    "duration": 20,
    "start_time": "2022-12-19T16:20:31.669Z"
   },
   {
    "duration": 32,
    "start_time": "2022-12-19T16:20:31.691Z"
   },
   {
    "duration": 23,
    "start_time": "2022-12-19T16:20:31.725Z"
   },
   {
    "duration": 32,
    "start_time": "2022-12-19T16:20:31.750Z"
   },
   {
    "duration": 19,
    "start_time": "2022-12-19T16:20:31.784Z"
   },
   {
    "duration": 41,
    "start_time": "2022-12-19T16:20:31.804Z"
   },
   {
    "duration": 35,
    "start_time": "2022-12-19T16:20:31.846Z"
   },
   {
    "duration": 20,
    "start_time": "2022-12-19T16:20:31.883Z"
   },
   {
    "duration": 31,
    "start_time": "2022-12-19T16:20:31.905Z"
   },
   {
    "duration": 35,
    "start_time": "2022-12-19T16:20:31.937Z"
   },
   {
    "duration": 43,
    "start_time": "2022-12-19T16:20:31.974Z"
   },
   {
    "duration": 45,
    "start_time": "2022-12-19T16:20:32.018Z"
   },
   {
    "duration": 30,
    "start_time": "2022-12-19T16:20:32.065Z"
   },
   {
    "duration": 39,
    "start_time": "2022-12-19T16:20:32.097Z"
   },
   {
    "duration": 55,
    "start_time": "2022-12-19T16:20:32.138Z"
   },
   {
    "duration": 49,
    "start_time": "2022-12-19T16:20:32.195Z"
   },
   {
    "duration": 70,
    "start_time": "2022-12-19T16:20:32.246Z"
   },
   {
    "duration": 63,
    "start_time": "2022-12-19T16:20:32.317Z"
   },
   {
    "duration": 211,
    "start_time": "2022-12-19T16:20:32.384Z"
   },
   {
    "duration": 5,
    "start_time": "2022-12-19T16:20:32.596Z"
   },
   {
    "duration": 63,
    "start_time": "2022-12-19T16:20:32.603Z"
   },
   {
    "duration": 70,
    "start_time": "2022-12-19T16:20:32.667Z"
   },
   {
    "duration": 51,
    "start_time": "2022-12-19T16:20:32.738Z"
   },
   {
    "duration": 411,
    "start_time": "2022-12-19T16:20:32.791Z"
   },
   {
    "duration": 121,
    "start_time": "2022-12-19T16:20:33.204Z"
   },
   {
    "duration": 10,
    "start_time": "2022-12-19T16:20:33.327Z"
   },
   {
    "duration": 117,
    "start_time": "2022-12-19T16:20:33.338Z"
   },
   {
    "duration": 24,
    "start_time": "2022-12-19T16:20:33.457Z"
   },
   {
    "duration": 112,
    "start_time": "2022-12-19T16:20:33.483Z"
   },
   {
    "duration": 10,
    "start_time": "2022-12-19T16:20:33.598Z"
   },
   {
    "duration": 14,
    "start_time": "2022-12-19T16:20:33.609Z"
   },
   {
    "duration": 165,
    "start_time": "2022-12-19T16:20:33.625Z"
   },
   {
    "duration": 192,
    "start_time": "2022-12-19T16:20:33.792Z"
   },
   {
    "duration": 125,
    "start_time": "2022-12-19T16:20:33.986Z"
   },
   {
    "duration": 0,
    "start_time": "2022-12-19T16:20:34.112Z"
   },
   {
    "duration": 0,
    "start_time": "2022-12-19T16:20:34.114Z"
   },
   {
    "duration": 188,
    "start_time": "2022-12-19T16:21:12.981Z"
   },
   {
    "duration": 5,
    "start_time": "2022-12-19T16:21:27.390Z"
   },
   {
    "duration": 171,
    "start_time": "2022-12-19T16:22:02.686Z"
   },
   {
    "duration": 5,
    "start_time": "2022-12-19T16:22:42.173Z"
   },
   {
    "duration": 9,
    "start_time": "2022-12-19T16:23:38.612Z"
   },
   {
    "duration": 4,
    "start_time": "2022-12-19T16:23:50.564Z"
   },
   {
    "duration": 147,
    "start_time": "2022-12-19T16:23:52.575Z"
   },
   {
    "duration": 180,
    "start_time": "2022-12-19T16:24:07.078Z"
   },
   {
    "duration": 5,
    "start_time": "2022-12-19T16:24:11.079Z"
   },
   {
    "duration": 150,
    "start_time": "2022-12-19T16:24:17.807Z"
   },
   {
    "duration": 6,
    "start_time": "2022-12-19T16:24:22.147Z"
   },
   {
    "duration": 4,
    "start_time": "2022-12-19T16:39:30.205Z"
   },
   {
    "duration": 4,
    "start_time": "2022-12-19T16:47:11.038Z"
   },
   {
    "duration": 5,
    "start_time": "2022-12-19T16:48:07.082Z"
   },
   {
    "duration": 1132,
    "start_time": "2022-12-19T16:48:34.552Z"
   },
   {
    "duration": 52,
    "start_time": "2022-12-19T16:48:35.686Z"
   },
   {
    "duration": 22,
    "start_time": "2022-12-19T16:48:35.740Z"
   },
   {
    "duration": 14,
    "start_time": "2022-12-19T16:48:35.764Z"
   },
   {
    "duration": 806,
    "start_time": "2022-12-19T16:48:35.780Z"
   },
   {
    "duration": 18,
    "start_time": "2022-12-19T16:48:36.589Z"
   },
   {
    "duration": 14,
    "start_time": "2022-12-19T16:48:36.609Z"
   },
   {
    "duration": 11,
    "start_time": "2022-12-19T16:48:36.625Z"
   },
   {
    "duration": 73,
    "start_time": "2022-12-19T16:48:36.638Z"
   },
   {
    "duration": 24,
    "start_time": "2022-12-19T16:48:36.715Z"
   },
   {
    "duration": 11,
    "start_time": "2022-12-19T16:48:36.741Z"
   },
   {
    "duration": 25,
    "start_time": "2022-12-19T16:48:36.754Z"
   },
   {
    "duration": 35,
    "start_time": "2022-12-19T16:48:36.781Z"
   },
   {
    "duration": 27,
    "start_time": "2022-12-19T16:48:36.818Z"
   },
   {
    "duration": 23,
    "start_time": "2022-12-19T16:48:36.847Z"
   },
   {
    "duration": 39,
    "start_time": "2022-12-19T16:48:36.872Z"
   },
   {
    "duration": 8,
    "start_time": "2022-12-19T16:48:36.912Z"
   },
   {
    "duration": 21,
    "start_time": "2022-12-19T16:48:36.921Z"
   },
   {
    "duration": 19,
    "start_time": "2022-12-19T16:48:36.943Z"
   },
   {
    "duration": 41,
    "start_time": "2022-12-19T16:48:36.963Z"
   },
   {
    "duration": 4,
    "start_time": "2022-12-19T16:48:37.006Z"
   },
   {
    "duration": 41,
    "start_time": "2022-12-19T16:48:37.012Z"
   },
   {
    "duration": 30,
    "start_time": "2022-12-19T16:48:37.055Z"
   },
   {
    "duration": 36,
    "start_time": "2022-12-19T16:48:37.087Z"
   },
   {
    "duration": 15,
    "start_time": "2022-12-19T16:48:37.124Z"
   },
   {
    "duration": 37,
    "start_time": "2022-12-19T16:48:37.141Z"
   },
   {
    "duration": 21,
    "start_time": "2022-12-19T16:48:37.179Z"
   },
   {
    "duration": 196,
    "start_time": "2022-12-19T16:48:37.203Z"
   },
   {
    "duration": 4,
    "start_time": "2022-12-19T16:48:37.401Z"
   },
   {
    "duration": 22,
    "start_time": "2022-12-19T16:48:37.406Z"
   },
   {
    "duration": 20,
    "start_time": "2022-12-19T16:48:37.429Z"
   },
   {
    "duration": 23,
    "start_time": "2022-12-19T16:48:37.450Z"
   },
   {
    "duration": 339,
    "start_time": "2022-12-19T16:48:37.474Z"
   },
   {
    "duration": 120,
    "start_time": "2022-12-19T16:48:37.815Z"
   },
   {
    "duration": 10,
    "start_time": "2022-12-19T16:48:37.936Z"
   },
   {
    "duration": 122,
    "start_time": "2022-12-19T16:48:37.948Z"
   },
   {
    "duration": 14,
    "start_time": "2022-12-19T16:48:38.071Z"
   },
   {
    "duration": 114,
    "start_time": "2022-12-19T16:48:38.086Z"
   },
   {
    "duration": 10,
    "start_time": "2022-12-19T16:48:38.202Z"
   },
   {
    "duration": 17,
    "start_time": "2022-12-19T16:48:38.214Z"
   },
   {
    "duration": 161,
    "start_time": "2022-12-19T16:48:38.233Z"
   },
   {
    "duration": 178,
    "start_time": "2022-12-19T16:48:38.396Z"
   },
   {
    "duration": 6,
    "start_time": "2022-12-19T16:48:38.578Z"
   },
   {
    "duration": 158,
    "start_time": "2022-12-19T16:48:38.585Z"
   },
   {
    "duration": 5,
    "start_time": "2022-12-19T16:48:38.744Z"
   },
   {
    "duration": 8,
    "start_time": "2022-12-19T16:48:38.751Z"
   },
   {
    "duration": 3,
    "start_time": "2022-12-19T16:54:12.950Z"
   },
   {
    "duration": 5,
    "start_time": "2022-12-19T16:54:19.276Z"
   },
   {
    "duration": 4,
    "start_time": "2022-12-19T16:56:08.306Z"
   },
   {
    "duration": 103,
    "start_time": "2022-12-19T16:57:13.007Z"
   },
   {
    "duration": 4,
    "start_time": "2022-12-19T16:58:01.205Z"
   },
   {
    "duration": 8,
    "start_time": "2022-12-19T16:59:57.524Z"
   },
   {
    "duration": 7,
    "start_time": "2022-12-19T17:03:30.221Z"
   },
   {
    "duration": 7,
    "start_time": "2022-12-19T17:03:48.880Z"
   },
   {
    "duration": 200,
    "start_time": "2022-12-19T17:09:39.348Z"
   },
   {
    "duration": 1174,
    "start_time": "2022-12-19T17:11:02.588Z"
   },
   {
    "duration": 51,
    "start_time": "2022-12-19T17:11:03.765Z"
   },
   {
    "duration": 20,
    "start_time": "2022-12-19T17:11:03.818Z"
   },
   {
    "duration": 14,
    "start_time": "2022-12-19T17:11:03.840Z"
   },
   {
    "duration": 937,
    "start_time": "2022-12-19T17:11:03.855Z"
   },
   {
    "duration": 14,
    "start_time": "2022-12-19T17:11:04.794Z"
   },
   {
    "duration": 12,
    "start_time": "2022-12-19T17:11:04.809Z"
   },
   {
    "duration": 5,
    "start_time": "2022-12-19T17:11:04.823Z"
   },
   {
    "duration": 77,
    "start_time": "2022-12-19T17:11:04.829Z"
   },
   {
    "duration": 18,
    "start_time": "2022-12-19T17:11:04.909Z"
   },
   {
    "duration": 6,
    "start_time": "2022-12-19T17:11:04.929Z"
   },
   {
    "duration": 6,
    "start_time": "2022-12-19T17:11:04.937Z"
   },
   {
    "duration": 5,
    "start_time": "2022-12-19T17:11:04.944Z"
   },
   {
    "duration": 4,
    "start_time": "2022-12-19T17:11:04.977Z"
   },
   {
    "duration": 6,
    "start_time": "2022-12-19T17:11:04.983Z"
   },
   {
    "duration": 21,
    "start_time": "2022-12-19T17:11:04.990Z"
   },
   {
    "duration": 4,
    "start_time": "2022-12-19T17:11:05.013Z"
   },
   {
    "duration": 9,
    "start_time": "2022-12-19T17:11:05.019Z"
   },
   {
    "duration": 9,
    "start_time": "2022-12-19T17:11:05.029Z"
   },
   {
    "duration": 46,
    "start_time": "2022-12-19T17:11:05.040Z"
   },
   {
    "duration": 5,
    "start_time": "2022-12-19T17:11:05.087Z"
   },
   {
    "duration": 9,
    "start_time": "2022-12-19T17:11:05.093Z"
   },
   {
    "duration": 7,
    "start_time": "2022-12-19T17:11:05.104Z"
   },
   {
    "duration": 30,
    "start_time": "2022-12-19T17:11:05.112Z"
   },
   {
    "duration": 10,
    "start_time": "2022-12-19T17:11:05.144Z"
   },
   {
    "duration": 32,
    "start_time": "2022-12-19T17:11:05.156Z"
   },
   {
    "duration": 10,
    "start_time": "2022-12-19T17:11:05.190Z"
   },
   {
    "duration": 204,
    "start_time": "2022-12-19T17:11:05.203Z"
   },
   {
    "duration": 5,
    "start_time": "2022-12-19T17:11:05.409Z"
   },
   {
    "duration": 8,
    "start_time": "2022-12-19T17:11:05.416Z"
   },
   {
    "duration": 8,
    "start_time": "2022-12-19T17:11:05.426Z"
   },
   {
    "duration": 43,
    "start_time": "2022-12-19T17:11:05.436Z"
   },
   {
    "duration": 409,
    "start_time": "2022-12-19T17:11:05.481Z"
   },
   {
    "duration": 133,
    "start_time": "2022-12-19T17:11:05.892Z"
   },
   {
    "duration": 9,
    "start_time": "2022-12-19T17:11:06.027Z"
   },
   {
    "duration": 119,
    "start_time": "2022-12-19T17:11:06.038Z"
   },
   {
    "duration": 20,
    "start_time": "2022-12-19T17:11:06.158Z"
   },
   {
    "duration": 107,
    "start_time": "2022-12-19T17:11:06.180Z"
   },
   {
    "duration": 11,
    "start_time": "2022-12-19T17:11:06.288Z"
   },
   {
    "duration": 8,
    "start_time": "2022-12-19T17:11:06.301Z"
   },
   {
    "duration": 210,
    "start_time": "2022-12-19T17:11:06.311Z"
   },
   {
    "duration": 186,
    "start_time": "2022-12-19T17:11:06.523Z"
   },
   {
    "duration": 5,
    "start_time": "2022-12-19T17:11:06.710Z"
   },
   {
    "duration": 162,
    "start_time": "2022-12-19T17:11:06.717Z"
   },
   {
    "duration": 4,
    "start_time": "2022-12-19T17:11:06.881Z"
   },
   {
    "duration": 8,
    "start_time": "2022-12-19T17:11:06.887Z"
   },
   {
    "duration": 51,
    "start_time": "2022-12-20T15:56:45.926Z"
   },
   {
    "duration": 1491,
    "start_time": "2022-12-20T15:56:55.014Z"
   },
   {
    "duration": 194,
    "start_time": "2022-12-20T15:56:56.508Z"
   },
   {
    "duration": 30,
    "start_time": "2022-12-20T15:56:56.704Z"
   },
   {
    "duration": 16,
    "start_time": "2022-12-20T15:56:56.736Z"
   },
   {
    "duration": 982,
    "start_time": "2022-12-20T15:56:56.754Z"
   },
   {
    "duration": 27,
    "start_time": "2022-12-20T15:56:57.739Z"
   },
   {
    "duration": 19,
    "start_time": "2022-12-20T15:56:57.768Z"
   },
   {
    "duration": 15,
    "start_time": "2022-12-20T15:56:57.789Z"
   },
   {
    "duration": 77,
    "start_time": "2022-12-20T15:56:57.806Z"
   },
   {
    "duration": 22,
    "start_time": "2022-12-20T15:56:57.886Z"
   },
   {
    "duration": 13,
    "start_time": "2022-12-20T15:56:57.910Z"
   },
   {
    "duration": 10,
    "start_time": "2022-12-20T15:56:57.924Z"
   },
   {
    "duration": 24,
    "start_time": "2022-12-20T15:56:57.935Z"
   },
   {
    "duration": 6,
    "start_time": "2022-12-20T15:56:57.961Z"
   },
   {
    "duration": 8,
    "start_time": "2022-12-20T15:56:57.969Z"
   },
   {
    "duration": 26,
    "start_time": "2022-12-20T15:56:57.979Z"
   },
   {
    "duration": 5,
    "start_time": "2022-12-20T15:56:58.007Z"
   },
   {
    "duration": 14,
    "start_time": "2022-12-20T15:56:58.014Z"
   },
   {
    "duration": 24,
    "start_time": "2022-12-20T15:56:58.030Z"
   },
   {
    "duration": 29,
    "start_time": "2022-12-20T15:56:58.056Z"
   },
   {
    "duration": 6,
    "start_time": "2022-12-20T15:56:58.087Z"
   },
   {
    "duration": 12,
    "start_time": "2022-12-20T15:56:58.094Z"
   },
   {
    "duration": 6,
    "start_time": "2022-12-20T15:56:58.108Z"
   },
   {
    "duration": 44,
    "start_time": "2022-12-20T15:56:58.116Z"
   },
   {
    "duration": 9,
    "start_time": "2022-12-20T15:56:58.162Z"
   },
   {
    "duration": 42,
    "start_time": "2022-12-20T15:56:58.173Z"
   },
   {
    "duration": 18,
    "start_time": "2022-12-20T15:56:58.216Z"
   },
   {
    "duration": 223,
    "start_time": "2022-12-20T15:56:58.238Z"
   },
   {
    "duration": 6,
    "start_time": "2022-12-20T15:56:58.463Z"
   },
   {
    "duration": 9,
    "start_time": "2022-12-20T15:56:58.471Z"
   },
   {
    "duration": 10,
    "start_time": "2022-12-20T15:56:58.481Z"
   },
   {
    "duration": 23,
    "start_time": "2022-12-20T15:56:58.493Z"
   },
   {
    "duration": 438,
    "start_time": "2022-12-20T15:56:58.518Z"
   },
   {
    "duration": 149,
    "start_time": "2022-12-20T15:56:58.958Z"
   },
   {
    "duration": 11,
    "start_time": "2022-12-20T15:56:59.109Z"
   },
   {
    "duration": 157,
    "start_time": "2022-12-20T15:56:59.122Z"
   },
   {
    "duration": 12,
    "start_time": "2022-12-20T15:56:59.280Z"
   },
   {
    "duration": 130,
    "start_time": "2022-12-20T15:56:59.294Z"
   },
   {
    "duration": 27,
    "start_time": "2022-12-20T15:56:59.426Z"
   },
   {
    "duration": 27,
    "start_time": "2022-12-20T15:56:59.454Z"
   },
   {
    "duration": 224,
    "start_time": "2022-12-20T15:56:59.483Z"
   },
   {
    "duration": 264,
    "start_time": "2022-12-20T15:56:59.709Z"
   },
   {
    "duration": 5,
    "start_time": "2022-12-20T15:56:59.975Z"
   },
   {
    "duration": 189,
    "start_time": "2022-12-20T15:56:59.981Z"
   },
   {
    "duration": 6,
    "start_time": "2022-12-20T15:57:00.172Z"
   },
   {
    "duration": 40,
    "start_time": "2022-12-20T15:57:00.180Z"
   },
   {
    "duration": 261,
    "start_time": "2022-12-20T15:57:00.223Z"
   },
   {
    "duration": 221,
    "start_time": "2022-12-20T16:02:22.028Z"
   },
   {
    "duration": 168,
    "start_time": "2022-12-20T16:23:22.060Z"
   },
   {
    "duration": 165,
    "start_time": "2022-12-20T16:23:44.118Z"
   },
   {
    "duration": 199,
    "start_time": "2022-12-20T16:24:12.154Z"
   },
   {
    "duration": 273,
    "start_time": "2022-12-20T16:24:18.425Z"
   },
   {
    "duration": 177,
    "start_time": "2022-12-20T16:24:32.357Z"
   },
   {
    "duration": 197,
    "start_time": "2022-12-20T16:29:27.757Z"
   },
   {
    "duration": 213,
    "start_time": "2022-12-20T16:30:21.017Z"
   },
   {
    "duration": 197,
    "start_time": "2022-12-20T16:30:27.636Z"
   },
   {
    "duration": 217,
    "start_time": "2022-12-20T16:38:02.263Z"
   },
   {
    "duration": 211,
    "start_time": "2022-12-20T16:38:11.804Z"
   },
   {
    "duration": 128,
    "start_time": "2022-12-20T16:54:33.861Z"
   },
   {
    "duration": 33,
    "start_time": "2022-12-20T16:54:54.210Z"
   },
   {
    "duration": 187,
    "start_time": "2022-12-20T16:55:46.011Z"
   },
   {
    "duration": 21,
    "start_time": "2022-12-20T16:57:43.125Z"
   },
   {
    "duration": 196,
    "start_time": "2022-12-20T16:57:47.064Z"
   },
   {
    "duration": 223,
    "start_time": "2022-12-20T16:58:02.493Z"
   },
   {
    "duration": 214,
    "start_time": "2022-12-20T16:58:11.967Z"
   },
   {
    "duration": 395,
    "start_time": "2022-12-20T16:58:41.549Z"
   },
   {
    "duration": 233,
    "start_time": "2022-12-20T16:58:48.848Z"
   },
   {
    "duration": 251,
    "start_time": "2022-12-20T16:59:04.174Z"
   },
   {
    "duration": 236,
    "start_time": "2022-12-20T16:59:09.029Z"
   },
   {
    "duration": 15,
    "start_time": "2022-12-20T17:00:31.238Z"
   },
   {
    "duration": 14,
    "start_time": "2022-12-20T17:00:36.647Z"
   },
   {
    "duration": 206,
    "start_time": "2022-12-20T17:01:06.535Z"
   },
   {
    "duration": 247,
    "start_time": "2022-12-20T17:01:31.536Z"
   },
   {
    "duration": 220,
    "start_time": "2022-12-20T17:03:11.226Z"
   },
   {
    "duration": 225,
    "start_time": "2022-12-20T17:09:19.277Z"
   },
   {
    "duration": 215,
    "start_time": "2022-12-20T17:09:25.789Z"
   },
   {
    "duration": 223,
    "start_time": "2022-12-20T17:09:34.989Z"
   },
   {
    "duration": 256,
    "start_time": "2022-12-20T17:12:48.139Z"
   },
   {
    "duration": 15,
    "start_time": "2022-12-20T17:21:27.182Z"
   },
   {
    "duration": 9,
    "start_time": "2022-12-20T17:23:07.824Z"
   },
   {
    "duration": 14,
    "start_time": "2022-12-20T17:28:37.412Z"
   },
   {
    "duration": 265,
    "start_time": "2022-12-20T17:50:55.229Z"
   },
   {
    "duration": 769,
    "start_time": "2022-12-20T17:51:19.430Z"
   },
   {
    "duration": 70,
    "start_time": "2022-12-20T17:52:12.877Z"
   },
   {
    "duration": 582,
    "start_time": "2022-12-20T17:52:16.817Z"
   },
   {
    "duration": 103,
    "start_time": "2022-12-20T17:52:28.495Z"
   },
   {
    "duration": 614,
    "start_time": "2022-12-20T17:52:34.988Z"
   },
   {
    "duration": 578,
    "start_time": "2022-12-20T17:52:56.735Z"
   },
   {
    "duration": 10,
    "start_time": "2022-12-20T17:54:32.097Z"
   },
   {
    "duration": 1380,
    "start_time": "2022-12-20T17:59:39.113Z"
   },
   {
    "duration": 12,
    "start_time": "2022-12-20T18:00:35.670Z"
   },
   {
    "duration": 8,
    "start_time": "2022-12-20T18:02:06.829Z"
   },
   {
    "duration": 14,
    "start_time": "2022-12-20T18:02:22.040Z"
   },
   {
    "duration": 14,
    "start_time": "2022-12-20T18:02:30.556Z"
   },
   {
    "duration": 15,
    "start_time": "2022-12-20T18:16:11.112Z"
   },
   {
    "duration": 1173,
    "start_time": "2022-12-20T18:16:54.619Z"
   },
   {
    "duration": 1194,
    "start_time": "2022-12-20T18:17:00.778Z"
   },
   {
    "duration": 20,
    "start_time": "2022-12-20T18:17:06.144Z"
   },
   {
    "duration": 21,
    "start_time": "2022-12-20T18:17:32.494Z"
   },
   {
    "duration": 21,
    "start_time": "2022-12-20T18:20:36.850Z"
   },
   {
    "duration": 17,
    "start_time": "2022-12-20T18:21:27.880Z"
   },
   {
    "duration": 18,
    "start_time": "2022-12-20T18:21:37.179Z"
   },
   {
    "duration": 22,
    "start_time": "2022-12-20T18:22:33.510Z"
   },
   {
    "duration": 15,
    "start_time": "2022-12-20T18:23:07.677Z"
   },
   {
    "duration": 16,
    "start_time": "2022-12-20T18:23:41.692Z"
   },
   {
    "duration": 1273,
    "start_time": "2022-12-20T18:23:49.823Z"
   },
   {
    "duration": 15,
    "start_time": "2022-12-20T18:24:37.420Z"
   },
   {
    "duration": 545,
    "start_time": "2022-12-20T18:25:35.242Z"
   },
   {
    "duration": 33,
    "start_time": "2022-12-20T18:25:53.789Z"
   },
   {
    "duration": 136,
    "start_time": "2022-12-20T18:26:05.628Z"
   },
   {
    "duration": 527,
    "start_time": "2022-12-20T18:26:11.727Z"
   },
   {
    "duration": 152,
    "start_time": "2022-12-20T18:26:45.965Z"
   },
   {
    "duration": 12,
    "start_time": "2022-12-20T18:36:21.073Z"
   },
   {
    "duration": 14,
    "start_time": "2022-12-20T18:36:27.418Z"
   },
   {
    "duration": 17,
    "start_time": "2022-12-20T18:36:48.736Z"
   },
   {
    "duration": 17,
    "start_time": "2022-12-20T18:36:57.289Z"
   },
   {
    "duration": 13,
    "start_time": "2022-12-20T18:37:00.707Z"
   },
   {
    "duration": 14,
    "start_time": "2022-12-20T18:38:01.603Z"
   },
   {
    "duration": 15,
    "start_time": "2022-12-20T18:38:06.578Z"
   },
   {
    "duration": 19,
    "start_time": "2022-12-20T18:38:30.730Z"
   },
   {
    "duration": 15,
    "start_time": "2022-12-20T18:38:53.073Z"
   },
   {
    "duration": 244207,
    "start_time": "2022-12-20T19:03:42.738Z"
   },
   {
    "duration": 0,
    "start_time": "2022-12-20T19:07:47.086Z"
   },
   {
    "duration": 1314,
    "start_time": "2022-12-21T09:14:11.101Z"
   },
   {
    "duration": 59,
    "start_time": "2022-12-21T09:14:12.417Z"
   },
   {
    "duration": 26,
    "start_time": "2022-12-21T09:14:12.478Z"
   },
   {
    "duration": 34,
    "start_time": "2022-12-21T09:14:12.506Z"
   },
   {
    "duration": 1021,
    "start_time": "2022-12-21T09:14:12.543Z"
   },
   {
    "duration": 22,
    "start_time": "2022-12-21T09:14:13.566Z"
   },
   {
    "duration": 40,
    "start_time": "2022-12-21T09:14:13.590Z"
   },
   {
    "duration": 30,
    "start_time": "2022-12-21T09:14:13.632Z"
   },
   {
    "duration": 94,
    "start_time": "2022-12-21T09:14:13.664Z"
   },
   {
    "duration": 23,
    "start_time": "2022-12-21T09:14:13.759Z"
   },
   {
    "duration": 26,
    "start_time": "2022-12-21T09:14:13.784Z"
   },
   {
    "duration": 42,
    "start_time": "2022-12-21T09:14:13.812Z"
   },
   {
    "duration": 33,
    "start_time": "2022-12-21T09:14:13.857Z"
   },
   {
    "duration": 23,
    "start_time": "2022-12-21T09:14:13.895Z"
   },
   {
    "duration": 21,
    "start_time": "2022-12-21T09:14:13.920Z"
   },
   {
    "duration": 57,
    "start_time": "2022-12-21T09:14:13.944Z"
   },
   {
    "duration": 6,
    "start_time": "2022-12-21T09:14:14.003Z"
   },
   {
    "duration": 29,
    "start_time": "2022-12-21T09:14:14.011Z"
   },
   {
    "duration": 26,
    "start_time": "2022-12-21T09:14:14.042Z"
   },
   {
    "duration": 70,
    "start_time": "2022-12-21T09:14:14.070Z"
   },
   {
    "duration": 5,
    "start_time": "2022-12-21T09:14:14.142Z"
   },
   {
    "duration": 32,
    "start_time": "2022-12-21T09:14:14.149Z"
   },
   {
    "duration": 35,
    "start_time": "2022-12-21T09:14:14.183Z"
   },
   {
    "duration": 36,
    "start_time": "2022-12-21T09:14:14.219Z"
   },
   {
    "duration": 22,
    "start_time": "2022-12-21T09:14:14.257Z"
   },
   {
    "duration": 48,
    "start_time": "2022-12-21T09:14:14.281Z"
   },
   {
    "duration": 23,
    "start_time": "2022-12-21T09:14:14.331Z"
   },
   {
    "duration": 257,
    "start_time": "2022-12-21T09:14:14.356Z"
   },
   {
    "duration": 6,
    "start_time": "2022-12-21T09:14:14.615Z"
   },
   {
    "duration": 37,
    "start_time": "2022-12-21T09:14:14.623Z"
   },
   {
    "duration": 26,
    "start_time": "2022-12-21T09:14:14.662Z"
   },
   {
    "duration": 43,
    "start_time": "2022-12-21T09:14:14.690Z"
   },
   {
    "duration": 431,
    "start_time": "2022-12-21T09:14:14.735Z"
   },
   {
    "duration": 155,
    "start_time": "2022-12-21T09:14:15.168Z"
   },
   {
    "duration": 12,
    "start_time": "2022-12-21T09:14:15.324Z"
   },
   {
    "duration": 136,
    "start_time": "2022-12-21T09:14:15.352Z"
   },
   {
    "duration": 12,
    "start_time": "2022-12-21T09:14:15.489Z"
   },
   {
    "duration": 136,
    "start_time": "2022-12-21T09:14:15.503Z"
   },
   {
    "duration": 21,
    "start_time": "2022-12-21T09:14:15.641Z"
   },
   {
    "duration": 6,
    "start_time": "2022-12-21T09:14:15.665Z"
   },
   {
    "duration": 212,
    "start_time": "2022-12-21T09:14:15.677Z"
   },
   {
    "duration": 283,
    "start_time": "2022-12-21T09:14:15.891Z"
   },
   {
    "duration": 13,
    "start_time": "2022-12-21T09:14:16.176Z"
   },
   {
    "duration": 200,
    "start_time": "2022-12-21T09:14:16.192Z"
   },
   {
    "duration": 6,
    "start_time": "2022-12-21T09:14:16.394Z"
   },
   {
    "duration": 324,
    "start_time": "2022-12-21T09:14:16.402Z"
   },
   {
    "duration": 8,
    "start_time": "2022-12-21T09:14:16.728Z"
   },
   {
    "duration": 218,
    "start_time": "2022-12-21T09:14:16.750Z"
   },
   {
    "duration": 17,
    "start_time": "2022-12-21T09:14:16.970Z"
   },
   {
    "duration": 1358,
    "start_time": "2022-12-21T09:14:16.990Z"
   },
   {
    "duration": 22,
    "start_time": "2022-12-21T09:17:42.449Z"
   },
   {
    "duration": 18,
    "start_time": "2022-12-21T09:27:20.566Z"
   },
   {
    "duration": 17,
    "start_time": "2022-12-21T09:50:50.785Z"
   },
   {
    "duration": 19,
    "start_time": "2022-12-21T09:56:24.838Z"
   },
   {
    "duration": 16,
    "start_time": "2022-12-21T10:08:41.322Z"
   },
   {
    "duration": 18,
    "start_time": "2022-12-21T10:11:46.381Z"
   },
   {
    "duration": 16,
    "start_time": "2022-12-21T10:12:49.369Z"
   },
   {
    "duration": 17,
    "start_time": "2022-12-21T14:14:22.764Z"
   },
   {
    "duration": 21,
    "start_time": "2022-12-21T14:14:36.536Z"
   },
   {
    "duration": 16,
    "start_time": "2022-12-21T14:16:11.061Z"
   },
   {
    "duration": 11,
    "start_time": "2022-12-21T14:16:21.978Z"
   },
   {
    "duration": 3,
    "start_time": "2022-12-21T14:16:39.194Z"
   },
   {
    "duration": 23,
    "start_time": "2022-12-21T14:16:42.848Z"
   },
   {
    "duration": 15,
    "start_time": "2022-12-21T14:22:21.979Z"
   },
   {
    "duration": 20,
    "start_time": "2022-12-21T14:22:30.867Z"
   },
   {
    "duration": 22,
    "start_time": "2022-12-21T14:28:36.066Z"
   },
   {
    "duration": 25,
    "start_time": "2022-12-21T14:29:57.444Z"
   },
   {
    "duration": 23,
    "start_time": "2022-12-21T14:31:34.027Z"
   },
   {
    "duration": 23,
    "start_time": "2022-12-21T14:39:46.634Z"
   },
   {
    "duration": 20,
    "start_time": "2022-12-21T14:52:04.373Z"
   },
   {
    "duration": 22,
    "start_time": "2022-12-21T14:56:27.215Z"
   },
   {
    "duration": 11,
    "start_time": "2022-12-21T16:39:40.864Z"
   },
   {
    "duration": 9,
    "start_time": "2022-12-21T16:43:06.617Z"
   },
   {
    "duration": 1343,
    "start_time": "2022-12-21T17:52:49.297Z"
   },
   {
    "duration": 58,
    "start_time": "2022-12-21T17:52:50.642Z"
   },
   {
    "duration": 23,
    "start_time": "2022-12-21T17:52:50.702Z"
   },
   {
    "duration": 15,
    "start_time": "2022-12-21T17:52:50.727Z"
   },
   {
    "duration": 1019,
    "start_time": "2022-12-21T17:52:50.744Z"
   },
   {
    "duration": 22,
    "start_time": "2022-12-21T17:52:51.765Z"
   },
   {
    "duration": 33,
    "start_time": "2022-12-21T17:52:51.790Z"
   },
   {
    "duration": 6,
    "start_time": "2022-12-21T17:52:51.825Z"
   },
   {
    "duration": 76,
    "start_time": "2022-12-21T17:52:51.833Z"
   },
   {
    "duration": 24,
    "start_time": "2022-12-21T17:52:51.910Z"
   },
   {
    "duration": 9,
    "start_time": "2022-12-21T17:52:51.936Z"
   },
   {
    "duration": 7,
    "start_time": "2022-12-21T17:52:51.947Z"
   },
   {
    "duration": 45,
    "start_time": "2022-12-21T17:52:51.955Z"
   },
   {
    "duration": 4,
    "start_time": "2022-12-21T17:52:52.003Z"
   },
   {
    "duration": 8,
    "start_time": "2022-12-21T17:52:52.009Z"
   },
   {
    "duration": 35,
    "start_time": "2022-12-21T17:52:52.018Z"
   },
   {
    "duration": 6,
    "start_time": "2022-12-21T17:52:52.055Z"
   },
   {
    "duration": 11,
    "start_time": "2022-12-21T17:52:52.063Z"
   },
   {
    "duration": 28,
    "start_time": "2022-12-21T17:52:52.076Z"
   },
   {
    "duration": 36,
    "start_time": "2022-12-21T17:52:52.106Z"
   },
   {
    "duration": 6,
    "start_time": "2022-12-21T17:52:52.144Z"
   },
   {
    "duration": 11,
    "start_time": "2022-12-21T17:52:52.152Z"
   },
   {
    "duration": 9,
    "start_time": "2022-12-21T17:52:52.165Z"
   },
   {
    "duration": 66,
    "start_time": "2022-12-21T17:52:52.175Z"
   },
   {
    "duration": 14,
    "start_time": "2022-12-21T17:52:52.243Z"
   },
   {
    "duration": 37,
    "start_time": "2022-12-21T17:52:52.259Z"
   },
   {
    "duration": 21,
    "start_time": "2022-12-21T17:52:52.300Z"
   },
   {
    "duration": 209,
    "start_time": "2022-12-21T17:52:52.324Z"
   },
   {
    "duration": 6,
    "start_time": "2022-12-21T17:52:52.534Z"
   },
   {
    "duration": 15,
    "start_time": "2022-12-21T17:52:52.542Z"
   },
   {
    "duration": 33,
    "start_time": "2022-12-21T17:52:52.559Z"
   },
   {
    "duration": 23,
    "start_time": "2022-12-21T17:52:52.594Z"
   },
   {
    "duration": 395,
    "start_time": "2022-12-21T17:52:52.619Z"
   },
   {
    "duration": 152,
    "start_time": "2022-12-21T17:52:53.016Z"
   },
   {
    "duration": 23,
    "start_time": "2022-12-21T17:52:53.170Z"
   },
   {
    "duration": 141,
    "start_time": "2022-12-21T17:52:53.195Z"
   },
   {
    "duration": 13,
    "start_time": "2022-12-21T17:52:53.338Z"
   },
   {
    "duration": 153,
    "start_time": "2022-12-21T17:52:53.352Z"
   },
   {
    "duration": 10,
    "start_time": "2022-12-21T17:52:53.507Z"
   },
   {
    "duration": 11,
    "start_time": "2022-12-21T17:52:53.519Z"
   },
   {
    "duration": 193,
    "start_time": "2022-12-21T17:52:53.535Z"
   },
   {
    "duration": 200,
    "start_time": "2022-12-21T17:52:53.730Z"
   },
   {
    "duration": 6,
    "start_time": "2022-12-21T17:52:53.932Z"
   },
   {
    "duration": 226,
    "start_time": "2022-12-21T17:52:53.940Z"
   },
   {
    "duration": 18,
    "start_time": "2022-12-21T17:52:54.168Z"
   },
   {
    "duration": 246,
    "start_time": "2022-12-21T17:52:54.190Z"
   },
   {
    "duration": 9,
    "start_time": "2022-12-21T17:52:54.438Z"
   },
   {
    "duration": 208,
    "start_time": "2022-12-21T17:52:54.449Z"
   },
   {
    "duration": 34,
    "start_time": "2022-12-21T17:52:54.659Z"
   },
   {
    "duration": 15,
    "start_time": "2022-12-21T17:52:54.696Z"
   },
   {
    "duration": 15,
    "start_time": "2022-12-21T17:52:54.713Z"
   },
   {
    "duration": 15,
    "start_time": "2022-12-21T17:52:54.730Z"
   },
   {
    "duration": 49,
    "start_time": "2022-12-21T17:52:54.747Z"
   },
   {
    "duration": 18,
    "start_time": "2022-12-21T17:52:54.798Z"
   },
   {
    "duration": 10,
    "start_time": "2022-12-21T17:52:54.818Z"
   },
   {
    "duration": 13,
    "start_time": "2022-12-21T17:52:54.831Z"
   },
   {
    "duration": 1366,
    "start_time": "2022-12-21T18:42:31.792Z"
   },
   {
    "duration": 204,
    "start_time": "2022-12-21T18:42:33.160Z"
   },
   {
    "duration": 30,
    "start_time": "2022-12-21T18:42:33.366Z"
   },
   {
    "duration": 16,
    "start_time": "2022-12-21T18:42:33.398Z"
   },
   {
    "duration": 907,
    "start_time": "2022-12-21T18:42:33.416Z"
   },
   {
    "duration": 15,
    "start_time": "2022-12-21T18:42:34.325Z"
   },
   {
    "duration": 24,
    "start_time": "2022-12-21T18:42:34.353Z"
   },
   {
    "duration": 5,
    "start_time": "2022-12-21T18:42:34.379Z"
   },
   {
    "duration": 79,
    "start_time": "2022-12-21T18:42:34.387Z"
   },
   {
    "duration": 23,
    "start_time": "2022-12-21T18:42:34.469Z"
   },
   {
    "duration": 8,
    "start_time": "2022-12-21T18:42:34.494Z"
   },
   {
    "duration": 10,
    "start_time": "2022-12-21T18:42:34.504Z"
   },
   {
    "duration": 9,
    "start_time": "2022-12-21T18:42:34.516Z"
   },
   {
    "duration": 28,
    "start_time": "2022-12-21T18:42:34.527Z"
   },
   {
    "duration": 17,
    "start_time": "2022-12-21T18:42:34.557Z"
   },
   {
    "duration": 49,
    "start_time": "2022-12-21T18:42:34.576Z"
   },
   {
    "duration": 6,
    "start_time": "2022-12-21T18:42:34.627Z"
   },
   {
    "duration": 12,
    "start_time": "2022-12-21T18:42:34.635Z"
   },
   {
    "duration": 11,
    "start_time": "2022-12-21T18:42:34.649Z"
   },
   {
    "duration": 27,
    "start_time": "2022-12-21T18:42:34.662Z"
   },
   {
    "duration": 5,
    "start_time": "2022-12-21T18:42:34.691Z"
   },
   {
    "duration": 12,
    "start_time": "2022-12-21T18:42:34.698Z"
   },
   {
    "duration": 9,
    "start_time": "2022-12-21T18:42:34.712Z"
   },
   {
    "duration": 37,
    "start_time": "2022-12-21T18:42:34.722Z"
   },
   {
    "duration": 14,
    "start_time": "2022-12-21T18:42:34.760Z"
   },
   {
    "duration": 44,
    "start_time": "2022-12-21T18:42:34.776Z"
   },
   {
    "duration": 6,
    "start_time": "2022-12-21T18:42:34.822Z"
   },
   {
    "duration": 332,
    "start_time": "2022-12-21T18:42:34.832Z"
   },
   {
    "duration": 6,
    "start_time": "2022-12-21T18:42:35.166Z"
   },
   {
    "duration": 14,
    "start_time": "2022-12-21T18:42:35.174Z"
   },
   {
    "duration": 10,
    "start_time": "2022-12-21T18:42:35.191Z"
   },
   {
    "duration": 50,
    "start_time": "2022-12-21T18:42:35.203Z"
   },
   {
    "duration": 373,
    "start_time": "2022-12-21T18:42:35.255Z"
   },
   {
    "duration": 137,
    "start_time": "2022-12-21T18:42:35.630Z"
   },
   {
    "duration": 12,
    "start_time": "2022-12-21T18:42:35.769Z"
   },
   {
    "duration": 136,
    "start_time": "2022-12-21T18:42:35.783Z"
   },
   {
    "duration": 12,
    "start_time": "2022-12-21T18:42:35.920Z"
   },
   {
    "duration": 132,
    "start_time": "2022-12-21T18:42:35.934Z"
   },
   {
    "duration": 12,
    "start_time": "2022-12-21T18:42:36.068Z"
   },
   {
    "duration": 6,
    "start_time": "2022-12-21T18:42:36.082Z"
   },
   {
    "duration": 231,
    "start_time": "2022-12-21T18:42:36.090Z"
   },
   {
    "duration": 212,
    "start_time": "2022-12-21T18:42:36.323Z"
   },
   {
    "duration": 5,
    "start_time": "2022-12-21T18:42:36.537Z"
   },
   {
    "duration": 175,
    "start_time": "2022-12-21T18:42:36.553Z"
   },
   {
    "duration": 5,
    "start_time": "2022-12-21T18:42:36.730Z"
   },
   {
    "duration": 266,
    "start_time": "2022-12-21T18:42:36.737Z"
   },
   {
    "duration": 11,
    "start_time": "2022-12-21T18:42:37.005Z"
   },
   {
    "duration": 270,
    "start_time": "2022-12-21T18:42:37.017Z"
   },
   {
    "duration": 21,
    "start_time": "2022-12-21T18:42:37.289Z"
   },
   {
    "duration": 40,
    "start_time": "2022-12-21T18:42:37.312Z"
   },
   {
    "duration": 20,
    "start_time": "2022-12-21T18:42:37.354Z"
   },
   {
    "duration": 20,
    "start_time": "2022-12-21T18:42:37.376Z"
   },
   {
    "duration": 20,
    "start_time": "2022-12-21T18:42:37.398Z"
   },
   {
    "duration": 50,
    "start_time": "2022-12-21T18:42:37.421Z"
   },
   {
    "duration": 12,
    "start_time": "2022-12-21T18:42:37.474Z"
   },
   {
    "duration": 22,
    "start_time": "2022-12-21T18:42:37.488Z"
   },
   {
    "duration": 79,
    "start_time": "2022-12-22T09:52:55.429Z"
   },
   {
    "duration": 42,
    "start_time": "2022-12-22T10:00:54.051Z"
   },
   {
    "duration": 1263,
    "start_time": "2022-12-22T10:01:02.956Z"
   },
   {
    "duration": 190,
    "start_time": "2022-12-22T10:01:04.221Z"
   },
   {
    "duration": 24,
    "start_time": "2022-12-22T10:01:04.413Z"
   },
   {
    "duration": 13,
    "start_time": "2022-12-22T10:01:04.439Z"
   },
   {
    "duration": 833,
    "start_time": "2022-12-22T10:01:04.453Z"
   },
   {
    "duration": 14,
    "start_time": "2022-12-22T10:01:05.288Z"
   },
   {
    "duration": 25,
    "start_time": "2022-12-22T10:01:05.303Z"
   },
   {
    "duration": 4,
    "start_time": "2022-12-22T10:01:05.329Z"
   },
   {
    "duration": 62,
    "start_time": "2022-12-22T10:01:05.334Z"
   },
   {
    "duration": 21,
    "start_time": "2022-12-22T10:01:05.398Z"
   },
   {
    "duration": 27,
    "start_time": "2022-12-22T10:01:05.427Z"
   },
   {
    "duration": 22,
    "start_time": "2022-12-22T10:01:05.456Z"
   },
   {
    "duration": 40,
    "start_time": "2022-12-22T10:01:05.480Z"
   },
   {
    "duration": 11,
    "start_time": "2022-12-22T10:01:05.523Z"
   },
   {
    "duration": 15,
    "start_time": "2022-12-22T10:01:05.536Z"
   },
   {
    "duration": 45,
    "start_time": "2022-12-22T10:01:05.553Z"
   },
   {
    "duration": 5,
    "start_time": "2022-12-22T10:01:05.600Z"
   },
   {
    "duration": 18,
    "start_time": "2022-12-22T10:01:05.607Z"
   },
   {
    "duration": 16,
    "start_time": "2022-12-22T10:01:05.627Z"
   },
   {
    "duration": 34,
    "start_time": "2022-12-22T10:01:05.646Z"
   },
   {
    "duration": 4,
    "start_time": "2022-12-22T10:01:05.681Z"
   },
   {
    "duration": 12,
    "start_time": "2022-12-22T10:01:05.687Z"
   },
   {
    "duration": 21,
    "start_time": "2022-12-22T10:01:05.700Z"
   },
   {
    "duration": 29,
    "start_time": "2022-12-22T10:01:05.723Z"
   },
   {
    "duration": 8,
    "start_time": "2022-12-22T10:01:05.754Z"
   },
   {
    "duration": 25,
    "start_time": "2022-12-22T10:01:05.763Z"
   },
   {
    "duration": 8,
    "start_time": "2022-12-22T10:01:05.790Z"
   },
   {
    "duration": 182,
    "start_time": "2022-12-22T10:01:05.801Z"
   },
   {
    "duration": 4,
    "start_time": "2022-12-22T10:01:05.984Z"
   },
   {
    "duration": 8,
    "start_time": "2022-12-22T10:01:05.990Z"
   },
   {
    "duration": 9,
    "start_time": "2022-12-22T10:01:06.000Z"
   },
   {
    "duration": 31,
    "start_time": "2022-12-22T10:01:06.010Z"
   },
   {
    "duration": 337,
    "start_time": "2022-12-22T10:01:06.043Z"
   },
   {
    "duration": 122,
    "start_time": "2022-12-22T10:01:06.382Z"
   },
   {
    "duration": 24,
    "start_time": "2022-12-22T10:01:06.505Z"
   },
   {
    "duration": 113,
    "start_time": "2022-12-22T10:01:06.530Z"
   },
   {
    "duration": 9,
    "start_time": "2022-12-22T10:01:06.645Z"
   },
   {
    "duration": 111,
    "start_time": "2022-12-22T10:01:06.655Z"
   },
   {
    "duration": 10,
    "start_time": "2022-12-22T10:01:06.767Z"
   },
   {
    "duration": 14,
    "start_time": "2022-12-22T10:01:06.779Z"
   },
   {
    "duration": 157,
    "start_time": "2022-12-22T10:01:06.794Z"
   },
   {
    "duration": 176,
    "start_time": "2022-12-22T10:01:06.953Z"
   },
   {
    "duration": 5,
    "start_time": "2022-12-22T10:01:07.130Z"
   },
   {
    "duration": 160,
    "start_time": "2022-12-22T10:01:07.137Z"
   },
   {
    "duration": 5,
    "start_time": "2022-12-22T10:01:07.299Z"
   },
   {
    "duration": 206,
    "start_time": "2022-12-22T10:01:07.305Z"
   },
   {
    "duration": 14,
    "start_time": "2022-12-22T10:01:07.513Z"
   },
   {
    "duration": 175,
    "start_time": "2022-12-22T10:01:07.529Z"
   },
   {
    "duration": 22,
    "start_time": "2022-12-22T10:01:07.705Z"
   },
   {
    "duration": 14,
    "start_time": "2022-12-22T10:01:07.729Z"
   },
   {
    "duration": 20,
    "start_time": "2022-12-22T10:01:07.744Z"
   },
   {
    "duration": 15,
    "start_time": "2022-12-22T10:01:07.765Z"
   },
   {
    "duration": 13,
    "start_time": "2022-12-22T10:01:07.782Z"
   },
   {
    "duration": 47,
    "start_time": "2022-12-22T10:01:07.797Z"
   },
   {
    "duration": 10,
    "start_time": "2022-12-22T10:01:07.846Z"
   },
   {
    "duration": 17,
    "start_time": "2022-12-22T10:01:07.858Z"
   },
   {
    "duration": 4,
    "start_time": "2022-12-22T10:13:46.937Z"
   },
   {
    "duration": 1103,
    "start_time": "2022-12-22T10:14:10.302Z"
   },
   {
    "duration": 49,
    "start_time": "2022-12-22T10:14:11.407Z"
   },
   {
    "duration": 21,
    "start_time": "2022-12-22T10:14:11.457Z"
   },
   {
    "duration": 24,
    "start_time": "2022-12-22T10:14:11.480Z"
   },
   {
    "duration": 869,
    "start_time": "2022-12-22T10:14:11.506Z"
   },
   {
    "duration": 17,
    "start_time": "2022-12-22T10:14:12.377Z"
   },
   {
    "duration": 15,
    "start_time": "2022-12-22T10:14:12.396Z"
   },
   {
    "duration": 15,
    "start_time": "2022-12-22T10:14:12.412Z"
   },
   {
    "duration": 57,
    "start_time": "2022-12-22T10:14:12.428Z"
   },
   {
    "duration": 20,
    "start_time": "2022-12-22T10:14:12.487Z"
   },
   {
    "duration": 17,
    "start_time": "2022-12-22T10:14:12.509Z"
   },
   {
    "duration": 6,
    "start_time": "2022-12-22T10:14:12.528Z"
   },
   {
    "duration": 20,
    "start_time": "2022-12-22T10:14:12.535Z"
   },
   {
    "duration": 26,
    "start_time": "2022-12-22T10:14:12.558Z"
   },
   {
    "duration": 38,
    "start_time": "2022-12-22T10:14:12.586Z"
   },
   {
    "duration": 37,
    "start_time": "2022-12-22T10:14:12.626Z"
   },
   {
    "duration": 9,
    "start_time": "2022-12-22T10:14:12.664Z"
   },
   {
    "duration": 22,
    "start_time": "2022-12-22T10:14:12.675Z"
   },
   {
    "duration": 26,
    "start_time": "2022-12-22T10:14:12.699Z"
   },
   {
    "duration": 44,
    "start_time": "2022-12-22T10:14:12.726Z"
   },
   {
    "duration": 15,
    "start_time": "2022-12-22T10:14:12.771Z"
   },
   {
    "duration": 25,
    "start_time": "2022-12-22T10:14:12.787Z"
   },
   {
    "duration": 14,
    "start_time": "2022-12-22T10:14:12.813Z"
   },
   {
    "duration": 31,
    "start_time": "2022-12-22T10:14:12.828Z"
   },
   {
    "duration": 20,
    "start_time": "2022-12-22T10:14:12.860Z"
   },
   {
    "duration": 22,
    "start_time": "2022-12-22T10:14:12.881Z"
   },
   {
    "duration": 19,
    "start_time": "2022-12-22T10:14:12.905Z"
   },
   {
    "duration": 195,
    "start_time": "2022-12-22T10:14:12.925Z"
   },
   {
    "duration": 7,
    "start_time": "2022-12-22T10:14:13.121Z"
   },
   {
    "duration": 15,
    "start_time": "2022-12-22T10:14:13.129Z"
   },
   {
    "duration": 16,
    "start_time": "2022-12-22T10:14:13.145Z"
   },
   {
    "duration": 19,
    "start_time": "2022-12-22T10:14:13.163Z"
   },
   {
    "duration": 196,
    "start_time": "2022-12-22T10:14:13.184Z"
   },
   {
    "duration": 200,
    "start_time": "2022-12-22T10:14:13.381Z"
   },
   {
    "duration": 10,
    "start_time": "2022-12-22T10:14:13.583Z"
   },
   {
    "duration": 115,
    "start_time": "2022-12-22T10:14:13.595Z"
   },
   {
    "duration": 16,
    "start_time": "2022-12-22T10:14:13.711Z"
   },
   {
    "duration": 116,
    "start_time": "2022-12-22T10:14:13.728Z"
   },
   {
    "duration": 10,
    "start_time": "2022-12-22T10:14:13.846Z"
   },
   {
    "duration": 19,
    "start_time": "2022-12-22T10:14:13.858Z"
   },
   {
    "duration": 173,
    "start_time": "2022-12-22T10:14:13.880Z"
   },
   {
    "duration": 190,
    "start_time": "2022-12-22T10:14:14.055Z"
   },
   {
    "duration": 5,
    "start_time": "2022-12-22T10:14:14.246Z"
   },
   {
    "duration": 157,
    "start_time": "2022-12-22T10:14:14.253Z"
   },
   {
    "duration": 4,
    "start_time": "2022-12-22T10:14:14.412Z"
   },
   {
    "duration": 185,
    "start_time": "2022-12-22T10:14:14.427Z"
   },
   {
    "duration": 6,
    "start_time": "2022-12-22T10:14:14.614Z"
   },
   {
    "duration": 166,
    "start_time": "2022-12-22T10:14:14.626Z"
   },
   {
    "duration": 13,
    "start_time": "2022-12-22T10:14:14.793Z"
   },
   {
    "duration": 27,
    "start_time": "2022-12-22T10:14:14.807Z"
   },
   {
    "duration": 11,
    "start_time": "2022-12-22T10:14:14.835Z"
   },
   {
    "duration": 12,
    "start_time": "2022-12-22T10:14:14.848Z"
   },
   {
    "duration": 12,
    "start_time": "2022-12-22T10:14:14.861Z"
   },
   {
    "duration": 11,
    "start_time": "2022-12-22T10:14:14.875Z"
   },
   {
    "duration": 6,
    "start_time": "2022-12-22T10:14:14.888Z"
   },
   {
    "duration": 7,
    "start_time": "2022-12-22T10:14:14.926Z"
   },
   {
    "duration": 7,
    "start_time": "2022-12-22T10:15:26.206Z"
   },
   {
    "duration": 17,
    "start_time": "2022-12-22T10:22:38.050Z"
   },
   {
    "duration": 211,
    "start_time": "2022-12-22T10:39:56.207Z"
   },
   {
    "duration": 1286,
    "start_time": "2022-12-22T10:40:10.714Z"
   },
   {
    "duration": 53,
    "start_time": "2022-12-22T10:40:12.002Z"
   },
   {
    "duration": 26,
    "start_time": "2022-12-22T10:40:12.057Z"
   },
   {
    "duration": 17,
    "start_time": "2022-12-22T10:40:12.086Z"
   },
   {
    "duration": 960,
    "start_time": "2022-12-22T10:40:12.105Z"
   },
   {
    "duration": 18,
    "start_time": "2022-12-22T10:40:13.067Z"
   },
   {
    "duration": 14,
    "start_time": "2022-12-22T10:40:13.087Z"
   },
   {
    "duration": 25,
    "start_time": "2022-12-22T10:40:13.103Z"
   },
   {
    "duration": 67,
    "start_time": "2022-12-22T10:40:13.130Z"
   },
   {
    "duration": 34,
    "start_time": "2022-12-22T10:40:13.200Z"
   },
   {
    "duration": 28,
    "start_time": "2022-12-22T10:40:13.236Z"
   },
   {
    "duration": 13,
    "start_time": "2022-12-22T10:40:13.265Z"
   },
   {
    "duration": 11,
    "start_time": "2022-12-22T10:40:13.280Z"
   },
   {
    "duration": 4,
    "start_time": "2022-12-22T10:40:13.293Z"
   },
   {
    "duration": 14,
    "start_time": "2022-12-22T10:40:13.299Z"
   },
   {
    "duration": 31,
    "start_time": "2022-12-22T10:40:13.315Z"
   },
   {
    "duration": 11,
    "start_time": "2022-12-22T10:40:13.348Z"
   },
   {
    "duration": 12,
    "start_time": "2022-12-22T10:40:13.361Z"
   },
   {
    "duration": 13,
    "start_time": "2022-12-22T10:40:13.376Z"
   },
   {
    "duration": 54,
    "start_time": "2022-12-22T10:40:13.391Z"
   },
   {
    "duration": 5,
    "start_time": "2022-12-22T10:40:13.446Z"
   },
   {
    "duration": 11,
    "start_time": "2022-12-22T10:40:13.453Z"
   },
   {
    "duration": 8,
    "start_time": "2022-12-22T10:40:13.465Z"
   },
   {
    "duration": 27,
    "start_time": "2022-12-22T10:40:13.475Z"
   },
   {
    "duration": 23,
    "start_time": "2022-12-22T10:40:13.504Z"
   },
   {
    "duration": 22,
    "start_time": "2022-12-22T10:40:13.529Z"
   },
   {
    "duration": 24,
    "start_time": "2022-12-22T10:40:13.553Z"
   },
   {
    "duration": 231,
    "start_time": "2022-12-22T10:40:13.583Z"
   },
   {
    "duration": 6,
    "start_time": "2022-12-22T10:40:13.828Z"
   },
   {
    "duration": 17,
    "start_time": "2022-12-22T10:40:13.836Z"
   },
   {
    "duration": 16,
    "start_time": "2022-12-22T10:40:13.854Z"
   },
   {
    "duration": 30,
    "start_time": "2022-12-22T10:40:13.872Z"
   },
   {
    "duration": 232,
    "start_time": "2022-12-22T10:40:13.904Z"
   },
   {
    "duration": 229,
    "start_time": "2022-12-22T10:40:14.138Z"
   },
   {
    "duration": 10,
    "start_time": "2022-12-22T10:40:14.369Z"
   },
   {
    "duration": 135,
    "start_time": "2022-12-22T10:40:14.381Z"
   },
   {
    "duration": 14,
    "start_time": "2022-12-22T10:40:14.517Z"
   },
   {
    "duration": 129,
    "start_time": "2022-12-22T10:40:14.533Z"
   },
   {
    "duration": 13,
    "start_time": "2022-12-22T10:40:14.665Z"
   },
   {
    "duration": 31,
    "start_time": "2022-12-22T10:40:14.680Z"
   },
   {
    "duration": 233,
    "start_time": "2022-12-22T10:40:14.713Z"
   },
   {
    "duration": 208,
    "start_time": "2022-12-22T10:40:14.948Z"
   },
   {
    "duration": 6,
    "start_time": "2022-12-22T10:40:15.158Z"
   },
   {
    "duration": 216,
    "start_time": "2022-12-22T10:40:15.166Z"
   },
   {
    "duration": 6,
    "start_time": "2022-12-22T10:40:15.384Z"
   },
   {
    "duration": 279,
    "start_time": "2022-12-22T10:40:15.392Z"
   },
   {
    "duration": 10,
    "start_time": "2022-12-22T10:40:15.674Z"
   },
   {
    "duration": 248,
    "start_time": "2022-12-22T10:40:15.685Z"
   },
   {
    "duration": 16,
    "start_time": "2022-12-22T10:40:15.934Z"
   },
   {
    "duration": 25,
    "start_time": "2022-12-22T10:40:15.951Z"
   },
   {
    "duration": 32,
    "start_time": "2022-12-22T10:40:15.978Z"
   },
   {
    "duration": 29,
    "start_time": "2022-12-22T10:40:16.013Z"
   },
   {
    "duration": 29,
    "start_time": "2022-12-22T10:40:16.045Z"
   },
   {
    "duration": 38,
    "start_time": "2022-12-22T10:40:16.076Z"
   },
   {
    "duration": 22,
    "start_time": "2022-12-22T10:40:16.116Z"
   },
   {
    "duration": 39,
    "start_time": "2022-12-22T10:40:16.140Z"
   },
   {
    "duration": 104,
    "start_time": "2022-12-22T10:53:35.279Z"
   },
   {
    "duration": 11,
    "start_time": "2022-12-22T10:53:43.838Z"
   },
   {
    "duration": 4,
    "start_time": "2022-12-22T10:56:36.341Z"
   },
   {
    "duration": 1152,
    "start_time": "2022-12-22T10:56:44.507Z"
   },
   {
    "duration": 58,
    "start_time": "2022-12-22T10:56:45.662Z"
   },
   {
    "duration": 30,
    "start_time": "2022-12-22T10:56:45.725Z"
   },
   {
    "duration": 22,
    "start_time": "2022-12-22T10:56:45.757Z"
   },
   {
    "duration": 840,
    "start_time": "2022-12-22T10:56:45.781Z"
   },
   {
    "duration": 17,
    "start_time": "2022-12-22T10:56:46.622Z"
   },
   {
    "duration": 12,
    "start_time": "2022-12-22T10:56:46.641Z"
   },
   {
    "duration": 3,
    "start_time": "2022-12-22T10:56:46.655Z"
   },
   {
    "duration": 67,
    "start_time": "2022-12-22T10:56:46.660Z"
   },
   {
    "duration": 19,
    "start_time": "2022-12-22T10:56:46.728Z"
   },
   {
    "duration": 10,
    "start_time": "2022-12-22T10:56:46.748Z"
   },
   {
    "duration": 6,
    "start_time": "2022-12-22T10:56:46.759Z"
   },
   {
    "duration": 7,
    "start_time": "2022-12-22T10:56:46.766Z"
   },
   {
    "duration": 12,
    "start_time": "2022-12-22T10:56:46.775Z"
   },
   {
    "duration": 8,
    "start_time": "2022-12-22T10:56:46.788Z"
   },
   {
    "duration": 30,
    "start_time": "2022-12-22T10:56:46.798Z"
   },
   {
    "duration": 4,
    "start_time": "2022-12-22T10:56:46.830Z"
   },
   {
    "duration": 7,
    "start_time": "2022-12-22T10:56:46.835Z"
   },
   {
    "duration": 9,
    "start_time": "2022-12-22T10:56:46.843Z"
   },
   {
    "duration": 21,
    "start_time": "2022-12-22T10:56:46.853Z"
   },
   {
    "duration": 3,
    "start_time": "2022-12-22T10:56:46.876Z"
   },
   {
    "duration": 7,
    "start_time": "2022-12-22T10:56:46.881Z"
   },
   {
    "duration": 11,
    "start_time": "2022-12-22T10:56:46.889Z"
   },
   {
    "duration": 35,
    "start_time": "2022-12-22T10:56:46.902Z"
   },
   {
    "duration": 6,
    "start_time": "2022-12-22T10:56:46.939Z"
   },
   {
    "duration": 20,
    "start_time": "2022-12-22T10:56:46.946Z"
   },
   {
    "duration": 10,
    "start_time": "2022-12-22T10:56:46.971Z"
   },
   {
    "duration": 196,
    "start_time": "2022-12-22T10:56:46.982Z"
   },
   {
    "duration": 4,
    "start_time": "2022-12-22T10:56:47.180Z"
   },
   {
    "duration": 12,
    "start_time": "2022-12-22T10:56:47.185Z"
   },
   {
    "duration": 7,
    "start_time": "2022-12-22T10:56:47.199Z"
   },
   {
    "duration": 29,
    "start_time": "2022-12-22T10:56:47.207Z"
   },
   {
    "duration": 185,
    "start_time": "2022-12-22T10:56:47.238Z"
   },
   {
    "duration": 187,
    "start_time": "2022-12-22T10:56:47.425Z"
   },
   {
    "duration": 14,
    "start_time": "2022-12-22T10:56:47.614Z"
   },
   {
    "duration": 107,
    "start_time": "2022-12-22T10:56:47.630Z"
   },
   {
    "duration": 8,
    "start_time": "2022-12-22T10:56:47.739Z"
   },
   {
    "duration": 115,
    "start_time": "2022-12-22T10:56:47.749Z"
   },
   {
    "duration": 8,
    "start_time": "2022-12-22T10:56:47.866Z"
   },
   {
    "duration": 6,
    "start_time": "2022-12-22T10:56:47.875Z"
   },
   {
    "duration": 169,
    "start_time": "2022-12-22T10:56:47.883Z"
   },
   {
    "duration": 180,
    "start_time": "2022-12-22T10:56:48.054Z"
   },
   {
    "duration": 5,
    "start_time": "2022-12-22T10:56:48.235Z"
   },
   {
    "duration": 167,
    "start_time": "2022-12-22T10:56:48.242Z"
   },
   {
    "duration": 5,
    "start_time": "2022-12-22T10:56:48.411Z"
   },
   {
    "duration": 199,
    "start_time": "2022-12-22T10:56:48.426Z"
   },
   {
    "duration": 8,
    "start_time": "2022-12-22T10:56:48.627Z"
   },
   {
    "duration": 188,
    "start_time": "2022-12-22T10:56:48.637Z"
   },
   {
    "duration": 13,
    "start_time": "2022-12-22T10:56:48.827Z"
   },
   {
    "duration": 19,
    "start_time": "2022-12-22T10:56:48.841Z"
   },
   {
    "duration": 43,
    "start_time": "2022-12-22T10:56:48.861Z"
   },
   {
    "duration": 29,
    "start_time": "2022-12-22T10:56:48.905Z"
   },
   {
    "duration": 23,
    "start_time": "2022-12-22T10:56:48.935Z"
   },
   {
    "duration": 33,
    "start_time": "2022-12-22T10:56:48.960Z"
   },
   {
    "duration": 9,
    "start_time": "2022-12-22T10:56:48.995Z"
   },
   {
    "duration": 36,
    "start_time": "2022-12-22T10:56:49.006Z"
   },
   {
    "duration": 98,
    "start_time": "2022-12-22T11:00:21.029Z"
   },
   {
    "duration": 10,
    "start_time": "2022-12-22T11:00:36.380Z"
   },
   {
    "duration": 5,
    "start_time": "2022-12-22T11:00:41.349Z"
   },
   {
    "duration": 171,
    "start_time": "2022-12-22T11:00:43.309Z"
   },
   {
    "duration": 173,
    "start_time": "2022-12-22T11:00:58.048Z"
   },
   {
    "duration": 5,
    "start_time": "2022-12-22T11:03:41.570Z"
   },
   {
    "duration": 167,
    "start_time": "2022-12-22T11:04:07.495Z"
   },
   {
    "duration": 176,
    "start_time": "2022-12-22T11:04:16.180Z"
   },
   {
    "duration": 5,
    "start_time": "2022-12-22T11:04:57.770Z"
   },
   {
    "duration": 1162,
    "start_time": "2022-12-22T11:06:11.363Z"
   },
   {
    "duration": 52,
    "start_time": "2022-12-22T11:06:12.528Z"
   },
   {
    "duration": 23,
    "start_time": "2022-12-22T11:06:12.582Z"
   },
   {
    "duration": 15,
    "start_time": "2022-12-22T11:06:12.608Z"
   },
   {
    "duration": 864,
    "start_time": "2022-12-22T11:06:12.625Z"
   },
   {
    "duration": 15,
    "start_time": "2022-12-22T11:06:13.491Z"
   },
   {
    "duration": 25,
    "start_time": "2022-12-22T11:06:13.507Z"
   },
   {
    "duration": 3,
    "start_time": "2022-12-22T11:06:13.534Z"
   },
   {
    "duration": 56,
    "start_time": "2022-12-22T11:06:13.539Z"
   },
   {
    "duration": 31,
    "start_time": "2022-12-22T11:06:13.597Z"
   },
   {
    "duration": 7,
    "start_time": "2022-12-22T11:06:13.630Z"
   },
   {
    "duration": 17,
    "start_time": "2022-12-22T11:06:13.639Z"
   },
   {
    "duration": 16,
    "start_time": "2022-12-22T11:06:13.657Z"
   },
   {
    "duration": 39,
    "start_time": "2022-12-22T11:06:13.675Z"
   },
   {
    "duration": 24,
    "start_time": "2022-12-22T11:06:13.716Z"
   },
   {
    "duration": 33,
    "start_time": "2022-12-22T11:06:13.742Z"
   },
   {
    "duration": 8,
    "start_time": "2022-12-22T11:06:13.777Z"
   },
   {
    "duration": 11,
    "start_time": "2022-12-22T11:06:13.787Z"
   },
   {
    "duration": 13,
    "start_time": "2022-12-22T11:06:13.799Z"
   },
   {
    "duration": 36,
    "start_time": "2022-12-22T11:06:13.814Z"
   },
   {
    "duration": 5,
    "start_time": "2022-12-22T11:06:13.852Z"
   },
   {
    "duration": 14,
    "start_time": "2022-12-22T11:06:13.859Z"
   },
   {
    "duration": 21,
    "start_time": "2022-12-22T11:06:13.875Z"
   },
   {
    "duration": 34,
    "start_time": "2022-12-22T11:06:13.898Z"
   },
   {
    "duration": 25,
    "start_time": "2022-12-22T11:06:13.934Z"
   },
   {
    "duration": 29,
    "start_time": "2022-12-22T11:06:13.960Z"
   },
   {
    "duration": 23,
    "start_time": "2022-12-22T11:06:13.991Z"
   },
   {
    "duration": 204,
    "start_time": "2022-12-22T11:06:14.018Z"
   },
   {
    "duration": 5,
    "start_time": "2022-12-22T11:06:14.224Z"
   },
   {
    "duration": 14,
    "start_time": "2022-12-22T11:06:14.230Z"
   },
   {
    "duration": 28,
    "start_time": "2022-12-22T11:06:14.246Z"
   },
   {
    "duration": 23,
    "start_time": "2022-12-22T11:06:14.276Z"
   },
   {
    "duration": 194,
    "start_time": "2022-12-22T11:06:14.301Z"
   },
   {
    "duration": 207,
    "start_time": "2022-12-22T11:06:14.496Z"
   },
   {
    "duration": 22,
    "start_time": "2022-12-22T11:06:14.704Z"
   },
   {
    "duration": 143,
    "start_time": "2022-12-22T11:06:14.728Z"
   },
   {
    "duration": 9,
    "start_time": "2022-12-22T11:06:14.873Z"
   },
   {
    "duration": 113,
    "start_time": "2022-12-22T11:06:14.883Z"
   },
   {
    "duration": 9,
    "start_time": "2022-12-22T11:06:14.998Z"
   },
   {
    "duration": 18,
    "start_time": "2022-12-22T11:06:15.027Z"
   },
   {
    "duration": 215,
    "start_time": "2022-12-22T11:06:15.047Z"
   },
   {
    "duration": 211,
    "start_time": "2022-12-22T11:06:15.264Z"
   },
   {
    "duration": 6,
    "start_time": "2022-12-22T11:06:15.477Z"
   },
   {
    "duration": 221,
    "start_time": "2022-12-22T11:06:15.484Z"
   },
   {
    "duration": 18,
    "start_time": "2022-12-22T11:06:15.708Z"
   },
   {
    "duration": 239,
    "start_time": "2022-12-22T11:06:15.729Z"
   },
   {
    "duration": 7,
    "start_time": "2022-12-22T11:06:15.970Z"
   },
   {
    "duration": 194,
    "start_time": "2022-12-22T11:06:15.979Z"
   },
   {
    "duration": 13,
    "start_time": "2022-12-22T11:06:16.175Z"
   },
   {
    "duration": 20,
    "start_time": "2022-12-22T11:06:16.190Z"
   },
   {
    "duration": 20,
    "start_time": "2022-12-22T11:06:16.212Z"
   },
   {
    "duration": 15,
    "start_time": "2022-12-22T11:06:16.234Z"
   },
   {
    "duration": 16,
    "start_time": "2022-12-22T11:06:16.250Z"
   },
   {
    "duration": 19,
    "start_time": "2022-12-22T11:06:16.267Z"
   },
   {
    "duration": 8,
    "start_time": "2022-12-22T11:06:16.289Z"
   },
   {
    "duration": 12,
    "start_time": "2022-12-22T11:06:16.298Z"
   },
   {
    "duration": 13,
    "start_time": "2022-12-22T11:30:39.342Z"
   },
   {
    "duration": 15,
    "start_time": "2022-12-22T11:30:57.112Z"
   },
   {
    "duration": 14,
    "start_time": "2022-12-22T11:35:07.303Z"
   },
   {
    "duration": 18,
    "start_time": "2022-12-22T11:38:45.599Z"
   },
   {
    "duration": 13,
    "start_time": "2022-12-22T11:40:25.921Z"
   },
   {
    "duration": 17,
    "start_time": "2022-12-22T11:43:01.570Z"
   },
   {
    "duration": 13,
    "start_time": "2022-12-22T11:43:08.785Z"
   },
   {
    "duration": 1269,
    "start_time": "2022-12-22T11:48:14.806Z"
   },
   {
    "duration": 6,
    "start_time": "2022-12-22T11:53:59.072Z"
   },
   {
    "duration": 7,
    "start_time": "2022-12-22T11:54:07.257Z"
   },
   {
    "duration": 9,
    "start_time": "2022-12-22T11:55:04.709Z"
   },
   {
    "duration": 15,
    "start_time": "2022-12-22T11:55:14.382Z"
   },
   {
    "duration": 14,
    "start_time": "2022-12-22T11:55:19.565Z"
   },
   {
    "duration": 10,
    "start_time": "2022-12-22T11:57:20.251Z"
   },
   {
    "duration": 13,
    "start_time": "2022-12-22T11:59:36.110Z"
   },
   {
    "duration": 6,
    "start_time": "2022-12-22T12:00:07.467Z"
   },
   {
    "duration": 9,
    "start_time": "2022-12-22T12:01:31.120Z"
   },
   {
    "duration": 7,
    "start_time": "2022-12-22T12:01:51.718Z"
   },
   {
    "duration": 9,
    "start_time": "2022-12-22T12:02:03.166Z"
   },
   {
    "duration": 7,
    "start_time": "2022-12-22T12:02:12.386Z"
   },
   {
    "duration": 8,
    "start_time": "2022-12-22T12:02:28.999Z"
   },
   {
    "duration": 10,
    "start_time": "2022-12-22T12:03:19.782Z"
   },
   {
    "duration": 8,
    "start_time": "2022-12-22T12:04:00.312Z"
   },
   {
    "duration": 9,
    "start_time": "2022-12-22T12:04:15.657Z"
   },
   {
    "duration": 12,
    "start_time": "2022-12-22T12:06:32.556Z"
   },
   {
    "duration": 7,
    "start_time": "2022-12-22T12:07:33.808Z"
   },
   {
    "duration": 10,
    "start_time": "2022-12-22T12:08:00.363Z"
   },
   {
    "duration": 76,
    "start_time": "2022-12-22T12:10:51.305Z"
   },
   {
    "duration": 13,
    "start_time": "2022-12-22T12:12:30.907Z"
   },
   {
    "duration": 6,
    "start_time": "2022-12-22T12:13:23.061Z"
   },
   {
    "duration": 9,
    "start_time": "2022-12-22T12:15:13.563Z"
   },
   {
    "duration": 10,
    "start_time": "2022-12-22T12:15:39.960Z"
   },
   {
    "duration": 9,
    "start_time": "2022-12-22T12:19:16.097Z"
   },
   {
    "duration": 12,
    "start_time": "2022-12-22T12:19:55.729Z"
   },
   {
    "duration": 9,
    "start_time": "2022-12-22T12:20:08.972Z"
   },
   {
    "duration": 10,
    "start_time": "2022-12-22T12:28:22.323Z"
   },
   {
    "duration": 7,
    "start_time": "2022-12-22T12:29:01.376Z"
   },
   {
    "duration": 26,
    "start_time": "2022-12-22T12:30:40.296Z"
   },
   {
    "duration": 1074,
    "start_time": "2022-12-22T12:31:17.635Z"
   },
   {
    "duration": 51,
    "start_time": "2022-12-22T12:31:18.711Z"
   },
   {
    "duration": 22,
    "start_time": "2022-12-22T12:31:18.763Z"
   },
   {
    "duration": 13,
    "start_time": "2022-12-22T12:31:18.787Z"
   },
   {
    "duration": 825,
    "start_time": "2022-12-22T12:31:18.801Z"
   },
   {
    "duration": 14,
    "start_time": "2022-12-22T12:31:19.628Z"
   },
   {
    "duration": 11,
    "start_time": "2022-12-22T12:31:19.643Z"
   },
   {
    "duration": 3,
    "start_time": "2022-12-22T12:31:19.655Z"
   },
   {
    "duration": 48,
    "start_time": "2022-12-22T12:31:19.660Z"
   },
   {
    "duration": 20,
    "start_time": "2022-12-22T12:31:19.727Z"
   },
   {
    "duration": 5,
    "start_time": "2022-12-22T12:31:19.748Z"
   },
   {
    "duration": 7,
    "start_time": "2022-12-22T12:31:19.755Z"
   },
   {
    "duration": 3,
    "start_time": "2022-12-22T12:31:19.764Z"
   },
   {
    "duration": 5,
    "start_time": "2022-12-22T12:31:19.769Z"
   },
   {
    "duration": 7,
    "start_time": "2022-12-22T12:31:19.776Z"
   },
   {
    "duration": 43,
    "start_time": "2022-12-22T12:31:19.784Z"
   },
   {
    "duration": 4,
    "start_time": "2022-12-22T12:31:19.829Z"
   },
   {
    "duration": 7,
    "start_time": "2022-12-22T12:31:19.835Z"
   },
   {
    "duration": 8,
    "start_time": "2022-12-22T12:31:19.843Z"
   },
   {
    "duration": 27,
    "start_time": "2022-12-22T12:31:19.852Z"
   },
   {
    "duration": 4,
    "start_time": "2022-12-22T12:31:19.880Z"
   },
   {
    "duration": 12,
    "start_time": "2022-12-22T12:31:19.886Z"
   },
   {
    "duration": 8,
    "start_time": "2022-12-22T12:31:19.899Z"
   },
   {
    "duration": 19,
    "start_time": "2022-12-22T12:31:19.926Z"
   },
   {
    "duration": 8,
    "start_time": "2022-12-22T12:31:19.947Z"
   },
   {
    "duration": 23,
    "start_time": "2022-12-22T12:31:19.956Z"
   },
   {
    "duration": 7,
    "start_time": "2022-12-22T12:31:19.980Z"
   },
   {
    "duration": 229,
    "start_time": "2022-12-22T12:31:19.991Z"
   },
   {
    "duration": 8,
    "start_time": "2022-12-22T12:31:20.221Z"
   },
   {
    "duration": 17,
    "start_time": "2022-12-22T12:31:20.230Z"
   },
   {
    "duration": 10,
    "start_time": "2022-12-22T12:31:20.248Z"
   },
   {
    "duration": 21,
    "start_time": "2022-12-22T12:31:20.260Z"
   },
   {
    "duration": 196,
    "start_time": "2022-12-22T12:31:20.283Z"
   },
   {
    "duration": 192,
    "start_time": "2022-12-22T12:31:20.481Z"
   },
   {
    "duration": 8,
    "start_time": "2022-12-22T12:31:20.674Z"
   },
   {
    "duration": 115,
    "start_time": "2022-12-22T12:31:20.684Z"
   },
   {
    "duration": 8,
    "start_time": "2022-12-22T12:31:20.801Z"
   },
   {
    "duration": 116,
    "start_time": "2022-12-22T12:31:20.810Z"
   },
   {
    "duration": 8,
    "start_time": "2022-12-22T12:31:20.928Z"
   },
   {
    "duration": 12,
    "start_time": "2022-12-22T12:31:20.937Z"
   },
   {
    "duration": 93,
    "start_time": "2022-12-22T12:31:20.951Z"
   },
   {
    "duration": 0,
    "start_time": "2022-12-22T12:31:21.046Z"
   },
   {
    "duration": 0,
    "start_time": "2022-12-22T12:31:21.047Z"
   },
   {
    "duration": 0,
    "start_time": "2022-12-22T12:31:21.048Z"
   },
   {
    "duration": 1,
    "start_time": "2022-12-22T12:31:21.048Z"
   },
   {
    "duration": 0,
    "start_time": "2022-12-22T12:31:21.050Z"
   },
   {
    "duration": 1,
    "start_time": "2022-12-22T12:31:21.050Z"
   },
   {
    "duration": 0,
    "start_time": "2022-12-22T12:31:21.052Z"
   },
   {
    "duration": 0,
    "start_time": "2022-12-22T12:31:21.052Z"
   },
   {
    "duration": 0,
    "start_time": "2022-12-22T12:31:21.053Z"
   },
   {
    "duration": 0,
    "start_time": "2022-12-22T12:31:21.054Z"
   },
   {
    "duration": 0,
    "start_time": "2022-12-22T12:31:21.055Z"
   },
   {
    "duration": 0,
    "start_time": "2022-12-22T12:31:21.056Z"
   },
   {
    "duration": 0,
    "start_time": "2022-12-22T12:31:21.057Z"
   },
   {
    "duration": 0,
    "start_time": "2022-12-22T12:31:21.058Z"
   },
   {
    "duration": 0,
    "start_time": "2022-12-22T12:31:21.059Z"
   },
   {
    "duration": 0,
    "start_time": "2022-12-22T12:31:21.060Z"
   },
   {
    "duration": 0,
    "start_time": "2022-12-22T12:31:21.061Z"
   },
   {
    "duration": 0,
    "start_time": "2022-12-22T12:31:21.063Z"
   },
   {
    "duration": 29,
    "start_time": "2022-12-22T12:32:26.245Z"
   },
   {
    "duration": 4,
    "start_time": "2022-12-22T12:33:44.149Z"
   },
   {
    "duration": 167,
    "start_time": "2022-12-22T12:33:46.371Z"
   },
   {
    "duration": 9,
    "start_time": "2022-12-22T12:40:12.235Z"
   },
   {
    "duration": 8,
    "start_time": "2022-12-22T12:45:29.344Z"
   },
   {
    "duration": 9,
    "start_time": "2022-12-22T12:46:32.239Z"
   },
   {
    "duration": 1121,
    "start_time": "2022-12-22T12:49:10.278Z"
   },
   {
    "duration": 52,
    "start_time": "2022-12-22T12:49:11.401Z"
   },
   {
    "duration": 25,
    "start_time": "2022-12-22T12:49:11.455Z"
   },
   {
    "duration": 18,
    "start_time": "2022-12-22T12:49:11.482Z"
   },
   {
    "duration": 913,
    "start_time": "2022-12-22T12:49:11.503Z"
   },
   {
    "duration": 17,
    "start_time": "2022-12-22T12:49:12.418Z"
   },
   {
    "duration": 15,
    "start_time": "2022-12-22T12:49:12.437Z"
   },
   {
    "duration": 4,
    "start_time": "2022-12-22T12:49:12.453Z"
   },
   {
    "duration": 76,
    "start_time": "2022-12-22T12:49:12.458Z"
   },
   {
    "duration": 21,
    "start_time": "2022-12-22T12:49:12.536Z"
   },
   {
    "duration": 9,
    "start_time": "2022-12-22T12:49:12.558Z"
   },
   {
    "duration": 5,
    "start_time": "2022-12-22T12:49:12.569Z"
   },
   {
    "duration": 7,
    "start_time": "2022-12-22T12:49:12.576Z"
   },
   {
    "duration": 5,
    "start_time": "2022-12-22T12:49:12.586Z"
   },
   {
    "duration": 34,
    "start_time": "2022-12-22T12:49:12.592Z"
   },
   {
    "duration": 30,
    "start_time": "2022-12-22T12:49:12.628Z"
   },
   {
    "duration": 4,
    "start_time": "2022-12-22T12:49:12.660Z"
   },
   {
    "duration": 8,
    "start_time": "2022-12-22T12:49:12.666Z"
   },
   {
    "duration": 7,
    "start_time": "2022-12-22T12:49:12.675Z"
   },
   {
    "duration": 27,
    "start_time": "2022-12-22T12:49:12.684Z"
   },
   {
    "duration": 4,
    "start_time": "2022-12-22T12:49:12.727Z"
   },
   {
    "duration": 9,
    "start_time": "2022-12-22T12:49:12.733Z"
   },
   {
    "duration": 7,
    "start_time": "2022-12-22T12:49:12.744Z"
   },
   {
    "duration": 25,
    "start_time": "2022-12-22T12:49:12.752Z"
   },
   {
    "duration": 14,
    "start_time": "2022-12-22T12:49:12.778Z"
   },
   {
    "duration": 34,
    "start_time": "2022-12-22T12:49:12.793Z"
   },
   {
    "duration": 6,
    "start_time": "2022-12-22T12:49:12.828Z"
   },
   {
    "duration": 199,
    "start_time": "2022-12-22T12:49:12.836Z"
   },
   {
    "duration": 4,
    "start_time": "2022-12-22T12:49:13.037Z"
   },
   {
    "duration": 13,
    "start_time": "2022-12-22T12:49:13.042Z"
   },
   {
    "duration": 16,
    "start_time": "2022-12-22T12:49:13.056Z"
   },
   {
    "duration": 20,
    "start_time": "2022-12-22T12:49:13.073Z"
   },
   {
    "duration": 247,
    "start_time": "2022-12-22T12:49:13.095Z"
   },
   {
    "duration": 201,
    "start_time": "2022-12-22T12:49:13.344Z"
   },
   {
    "duration": 9,
    "start_time": "2022-12-22T12:49:13.547Z"
   },
   {
    "duration": 125,
    "start_time": "2022-12-22T12:49:13.557Z"
   },
   {
    "duration": 10,
    "start_time": "2022-12-22T12:49:13.684Z"
   },
   {
    "duration": 134,
    "start_time": "2022-12-22T12:49:13.695Z"
   },
   {
    "duration": 11,
    "start_time": "2022-12-22T12:49:13.831Z"
   },
   {
    "duration": 22,
    "start_time": "2022-12-22T12:49:13.844Z"
   },
   {
    "duration": 161,
    "start_time": "2022-12-22T12:49:13.870Z"
   },
   {
    "duration": 200,
    "start_time": "2022-12-22T12:49:14.033Z"
   },
   {
    "duration": 5,
    "start_time": "2022-12-22T12:49:14.235Z"
   },
   {
    "duration": 196,
    "start_time": "2022-12-22T12:49:14.241Z"
   },
   {
    "duration": 5,
    "start_time": "2022-12-22T12:49:14.438Z"
   },
   {
    "duration": 192,
    "start_time": "2022-12-22T12:49:14.445Z"
   },
   {
    "duration": 7,
    "start_time": "2022-12-22T12:49:14.639Z"
   },
   {
    "duration": 183,
    "start_time": "2022-12-22T12:49:14.647Z"
   },
   {
    "duration": 14,
    "start_time": "2022-12-22T12:49:14.832Z"
   },
   {
    "duration": 32,
    "start_time": "2022-12-22T12:49:14.848Z"
   },
   {
    "duration": 13,
    "start_time": "2022-12-22T12:49:14.882Z"
   },
   {
    "duration": 13,
    "start_time": "2022-12-22T12:49:14.897Z"
   },
   {
    "duration": 9,
    "start_time": "2022-12-22T12:49:14.911Z"
   },
   {
    "duration": 12,
    "start_time": "2022-12-22T12:49:14.926Z"
   },
   {
    "duration": 16,
    "start_time": "2022-12-22T12:49:14.940Z"
   },
   {
    "duration": 13,
    "start_time": "2022-12-22T12:49:14.959Z"
   },
   {
    "duration": 16,
    "start_time": "2022-12-22T12:49:14.974Z"
   },
   {
    "duration": 39,
    "start_time": "2022-12-22T12:49:14.991Z"
   },
   {
    "duration": 14,
    "start_time": "2022-12-22T12:49:15.032Z"
   }
  ],
  "kernelspec": {
   "display_name": "Python 3 (ipykernel)",
   "language": "python",
   "name": "python3"
  },
  "language_info": {
   "codemirror_mode": {
    "name": "ipython",
    "version": 3
   },
   "file_extension": ".py",
   "mimetype": "text/x-python",
   "name": "python",
   "nbconvert_exporter": "python",
   "pygments_lexer": "ipython3",
   "version": "3.9.12"
  },
  "toc": {
   "base_numbering": 1,
   "nav_menu": {},
   "number_sections": true,
   "sideBar": true,
   "skip_h1_title": true,
   "title_cell": "Table of Contents",
   "title_sidebar": "Contents",
   "toc_cell": false,
   "toc_position": {
    "height": "calc(100% - 180px)",
    "left": "10px",
    "top": "150px",
    "width": "289.431px"
   },
   "toc_section_display": true,
   "toc_window_display": true
  }
 },
 "nbformat": 4,
 "nbformat_minor": 2
}
