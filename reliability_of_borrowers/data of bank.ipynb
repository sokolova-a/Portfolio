{
 "cells": [
  {
   "cell_type": "markdown",
   "id": "77396c3f",
   "metadata": {
    "deletable": false,
    "editable": false,
    "id": "c81daeeb"
   },
   "source": [
    "# Исследование надежности заемщиков\n"
   ]
  },
  {
   "cell_type": "markdown",
   "id": "138b39a3",
   "metadata": {
    "deletable": false,
    "editable": false,
    "id": "827c20bf"
   },
   "source": [
    "Во второй части проекта вы выполните шаги 3 и 4. Их вручную проверит ревьюер.\n",
    "Чтобы вам не пришлось писать код заново для шагов 1 и 2, мы добавили авторские решения в ячейки с кодом. \n",
    "\n"
   ]
  },
  {
   "cell_type": "markdown",
   "id": "32bda4c7",
   "metadata": {
    "deletable": false,
    "editable": false,
    "id": "744d7639"
   },
   "source": [
    "## Откройте таблицу и изучите общую информацию о данных"
   ]
  },
  {
   "cell_type": "markdown",
   "id": "f691a502",
   "metadata": {
    "deletable": false,
    "editable": false,
    "id": "e7a14c31"
   },
   "source": [
    "**Задание 1. Импортируйте библиотеку pandas. Считайте данные из csv-файла в датафрейм и сохраните в переменную `data`. Путь к файлу:**\n",
    "\n",
    "`/datasets/data.csv`"
   ]
  },
  {
   "cell_type": "code",
   "execution_count": 1,
   "id": "8a628349",
   "metadata": {
    "deletable": false,
    "id": "7bcf75c9"
   },
   "outputs": [],
   "source": [
    "import pandas as pd\n",
    "\n",
    "try:\n",
    "    data = pd.read_csv('/datasets/data.csv')\n",
    "except:\n",
    "    data = pd.read_csv('https://code.s3.yandex.net/datasets/data.csv')"
   ]
  },
  {
   "cell_type": "markdown",
   "id": "9d3a38c4",
   "metadata": {
    "deletable": false,
    "editable": false,
    "id": "b8038fe3"
   },
   "source": [
    "**Задание 2. Выведите первые 20 строчек датафрейма `data` на экран.**"
   ]
  },
  {
   "cell_type": "code",
   "execution_count": 2,
   "id": "97cf5711",
   "metadata": {
    "deletable": false,
    "id": "2a7cab99",
    "outputId": "1a8f3ef2-d323-4ec2-ddf7-89670b5944c4"
   },
   "outputs": [
    {
     "data": {
      "text/html": [
       "<div>\n",
       "<style scoped>\n",
       "    .dataframe tbody tr th:only-of-type {\n",
       "        vertical-align: middle;\n",
       "    }\n",
       "\n",
       "    .dataframe tbody tr th {\n",
       "        vertical-align: top;\n",
       "    }\n",
       "\n",
       "    .dataframe thead th {\n",
       "        text-align: right;\n",
       "    }\n",
       "</style>\n",
       "<table border=\"1\" class=\"dataframe\">\n",
       "  <thead>\n",
       "    <tr style=\"text-align: right;\">\n",
       "      <th></th>\n",
       "      <th>children</th>\n",
       "      <th>days_employed</th>\n",
       "      <th>dob_years</th>\n",
       "      <th>education</th>\n",
       "      <th>education_id</th>\n",
       "      <th>family_status</th>\n",
       "      <th>family_status_id</th>\n",
       "      <th>gender</th>\n",
       "      <th>income_type</th>\n",
       "      <th>debt</th>\n",
       "      <th>total_income</th>\n",
       "      <th>purpose</th>\n",
       "    </tr>\n",
       "  </thead>\n",
       "  <tbody>\n",
       "    <tr>\n",
       "      <th>0</th>\n",
       "      <td>1</td>\n",
       "      <td>-8437.673028</td>\n",
       "      <td>42</td>\n",
       "      <td>высшее</td>\n",
       "      <td>0</td>\n",
       "      <td>женат / замужем</td>\n",
       "      <td>0</td>\n",
       "      <td>F</td>\n",
       "      <td>сотрудник</td>\n",
       "      <td>0</td>\n",
       "      <td>253875.639453</td>\n",
       "      <td>покупка жилья</td>\n",
       "    </tr>\n",
       "    <tr>\n",
       "      <th>1</th>\n",
       "      <td>1</td>\n",
       "      <td>-4024.803754</td>\n",
       "      <td>36</td>\n",
       "      <td>среднее</td>\n",
       "      <td>1</td>\n",
       "      <td>женат / замужем</td>\n",
       "      <td>0</td>\n",
       "      <td>F</td>\n",
       "      <td>сотрудник</td>\n",
       "      <td>0</td>\n",
       "      <td>112080.014102</td>\n",
       "      <td>приобретение автомобиля</td>\n",
       "    </tr>\n",
       "    <tr>\n",
       "      <th>2</th>\n",
       "      <td>0</td>\n",
       "      <td>-5623.422610</td>\n",
       "      <td>33</td>\n",
       "      <td>Среднее</td>\n",
       "      <td>1</td>\n",
       "      <td>женат / замужем</td>\n",
       "      <td>0</td>\n",
       "      <td>M</td>\n",
       "      <td>сотрудник</td>\n",
       "      <td>0</td>\n",
       "      <td>145885.952297</td>\n",
       "      <td>покупка жилья</td>\n",
       "    </tr>\n",
       "    <tr>\n",
       "      <th>3</th>\n",
       "      <td>3</td>\n",
       "      <td>-4124.747207</td>\n",
       "      <td>32</td>\n",
       "      <td>среднее</td>\n",
       "      <td>1</td>\n",
       "      <td>женат / замужем</td>\n",
       "      <td>0</td>\n",
       "      <td>M</td>\n",
       "      <td>сотрудник</td>\n",
       "      <td>0</td>\n",
       "      <td>267628.550329</td>\n",
       "      <td>дополнительное образование</td>\n",
       "    </tr>\n",
       "    <tr>\n",
       "      <th>4</th>\n",
       "      <td>0</td>\n",
       "      <td>340266.072047</td>\n",
       "      <td>53</td>\n",
       "      <td>среднее</td>\n",
       "      <td>1</td>\n",
       "      <td>гражданский брак</td>\n",
       "      <td>1</td>\n",
       "      <td>F</td>\n",
       "      <td>пенсионер</td>\n",
       "      <td>0</td>\n",
       "      <td>158616.077870</td>\n",
       "      <td>сыграть свадьбу</td>\n",
       "    </tr>\n",
       "    <tr>\n",
       "      <th>5</th>\n",
       "      <td>0</td>\n",
       "      <td>-926.185831</td>\n",
       "      <td>27</td>\n",
       "      <td>высшее</td>\n",
       "      <td>0</td>\n",
       "      <td>гражданский брак</td>\n",
       "      <td>1</td>\n",
       "      <td>M</td>\n",
       "      <td>компаньон</td>\n",
       "      <td>0</td>\n",
       "      <td>255763.565419</td>\n",
       "      <td>покупка жилья</td>\n",
       "    </tr>\n",
       "    <tr>\n",
       "      <th>6</th>\n",
       "      <td>0</td>\n",
       "      <td>-2879.202052</td>\n",
       "      <td>43</td>\n",
       "      <td>высшее</td>\n",
       "      <td>0</td>\n",
       "      <td>женат / замужем</td>\n",
       "      <td>0</td>\n",
       "      <td>F</td>\n",
       "      <td>компаньон</td>\n",
       "      <td>0</td>\n",
       "      <td>240525.971920</td>\n",
       "      <td>операции с жильем</td>\n",
       "    </tr>\n",
       "    <tr>\n",
       "      <th>7</th>\n",
       "      <td>0</td>\n",
       "      <td>-152.779569</td>\n",
       "      <td>50</td>\n",
       "      <td>СРЕДНЕЕ</td>\n",
       "      <td>1</td>\n",
       "      <td>женат / замужем</td>\n",
       "      <td>0</td>\n",
       "      <td>M</td>\n",
       "      <td>сотрудник</td>\n",
       "      <td>0</td>\n",
       "      <td>135823.934197</td>\n",
       "      <td>образование</td>\n",
       "    </tr>\n",
       "    <tr>\n",
       "      <th>8</th>\n",
       "      <td>2</td>\n",
       "      <td>-6929.865299</td>\n",
       "      <td>35</td>\n",
       "      <td>ВЫСШЕЕ</td>\n",
       "      <td>0</td>\n",
       "      <td>гражданский брак</td>\n",
       "      <td>1</td>\n",
       "      <td>F</td>\n",
       "      <td>сотрудник</td>\n",
       "      <td>0</td>\n",
       "      <td>95856.832424</td>\n",
       "      <td>на проведение свадьбы</td>\n",
       "    </tr>\n",
       "    <tr>\n",
       "      <th>9</th>\n",
       "      <td>0</td>\n",
       "      <td>-2188.756445</td>\n",
       "      <td>41</td>\n",
       "      <td>среднее</td>\n",
       "      <td>1</td>\n",
       "      <td>женат / замужем</td>\n",
       "      <td>0</td>\n",
       "      <td>M</td>\n",
       "      <td>сотрудник</td>\n",
       "      <td>0</td>\n",
       "      <td>144425.938277</td>\n",
       "      <td>покупка жилья для семьи</td>\n",
       "    </tr>\n",
       "    <tr>\n",
       "      <th>10</th>\n",
       "      <td>2</td>\n",
       "      <td>-4171.483647</td>\n",
       "      <td>36</td>\n",
       "      <td>высшее</td>\n",
       "      <td>0</td>\n",
       "      <td>женат / замужем</td>\n",
       "      <td>0</td>\n",
       "      <td>M</td>\n",
       "      <td>компаньон</td>\n",
       "      <td>0</td>\n",
       "      <td>113943.491460</td>\n",
       "      <td>покупка недвижимости</td>\n",
       "    </tr>\n",
       "    <tr>\n",
       "      <th>11</th>\n",
       "      <td>0</td>\n",
       "      <td>-792.701887</td>\n",
       "      <td>40</td>\n",
       "      <td>среднее</td>\n",
       "      <td>1</td>\n",
       "      <td>женат / замужем</td>\n",
       "      <td>0</td>\n",
       "      <td>F</td>\n",
       "      <td>сотрудник</td>\n",
       "      <td>0</td>\n",
       "      <td>77069.234271</td>\n",
       "      <td>покупка коммерческой недвижимости</td>\n",
       "    </tr>\n",
       "    <tr>\n",
       "      <th>12</th>\n",
       "      <td>0</td>\n",
       "      <td>NaN</td>\n",
       "      <td>65</td>\n",
       "      <td>среднее</td>\n",
       "      <td>1</td>\n",
       "      <td>гражданский брак</td>\n",
       "      <td>1</td>\n",
       "      <td>M</td>\n",
       "      <td>пенсионер</td>\n",
       "      <td>0</td>\n",
       "      <td>NaN</td>\n",
       "      <td>сыграть свадьбу</td>\n",
       "    </tr>\n",
       "    <tr>\n",
       "      <th>13</th>\n",
       "      <td>0</td>\n",
       "      <td>-1846.641941</td>\n",
       "      <td>54</td>\n",
       "      <td>неоконченное высшее</td>\n",
       "      <td>2</td>\n",
       "      <td>женат / замужем</td>\n",
       "      <td>0</td>\n",
       "      <td>F</td>\n",
       "      <td>сотрудник</td>\n",
       "      <td>0</td>\n",
       "      <td>130458.228857</td>\n",
       "      <td>приобретение автомобиля</td>\n",
       "    </tr>\n",
       "    <tr>\n",
       "      <th>14</th>\n",
       "      <td>0</td>\n",
       "      <td>-1844.956182</td>\n",
       "      <td>56</td>\n",
       "      <td>высшее</td>\n",
       "      <td>0</td>\n",
       "      <td>гражданский брак</td>\n",
       "      <td>1</td>\n",
       "      <td>F</td>\n",
       "      <td>компаньон</td>\n",
       "      <td>1</td>\n",
       "      <td>165127.911772</td>\n",
       "      <td>покупка жилой недвижимости</td>\n",
       "    </tr>\n",
       "    <tr>\n",
       "      <th>15</th>\n",
       "      <td>1</td>\n",
       "      <td>-972.364419</td>\n",
       "      <td>26</td>\n",
       "      <td>среднее</td>\n",
       "      <td>1</td>\n",
       "      <td>женат / замужем</td>\n",
       "      <td>0</td>\n",
       "      <td>F</td>\n",
       "      <td>сотрудник</td>\n",
       "      <td>0</td>\n",
       "      <td>116820.904450</td>\n",
       "      <td>строительство собственной недвижимости</td>\n",
       "    </tr>\n",
       "    <tr>\n",
       "      <th>16</th>\n",
       "      <td>0</td>\n",
       "      <td>-1719.934226</td>\n",
       "      <td>35</td>\n",
       "      <td>среднее</td>\n",
       "      <td>1</td>\n",
       "      <td>женат / замужем</td>\n",
       "      <td>0</td>\n",
       "      <td>F</td>\n",
       "      <td>сотрудник</td>\n",
       "      <td>0</td>\n",
       "      <td>289202.704229</td>\n",
       "      <td>недвижимость</td>\n",
       "    </tr>\n",
       "    <tr>\n",
       "      <th>17</th>\n",
       "      <td>0</td>\n",
       "      <td>-2369.999720</td>\n",
       "      <td>33</td>\n",
       "      <td>высшее</td>\n",
       "      <td>0</td>\n",
       "      <td>гражданский брак</td>\n",
       "      <td>1</td>\n",
       "      <td>M</td>\n",
       "      <td>сотрудник</td>\n",
       "      <td>0</td>\n",
       "      <td>90410.586745</td>\n",
       "      <td>строительство недвижимости</td>\n",
       "    </tr>\n",
       "    <tr>\n",
       "      <th>18</th>\n",
       "      <td>0</td>\n",
       "      <td>400281.136913</td>\n",
       "      <td>53</td>\n",
       "      <td>среднее</td>\n",
       "      <td>1</td>\n",
       "      <td>вдовец / вдова</td>\n",
       "      <td>2</td>\n",
       "      <td>F</td>\n",
       "      <td>пенсионер</td>\n",
       "      <td>0</td>\n",
       "      <td>56823.777243</td>\n",
       "      <td>на покупку подержанного автомобиля</td>\n",
       "    </tr>\n",
       "    <tr>\n",
       "      <th>19</th>\n",
       "      <td>0</td>\n",
       "      <td>-10038.818549</td>\n",
       "      <td>48</td>\n",
       "      <td>СРЕДНЕЕ</td>\n",
       "      <td>1</td>\n",
       "      <td>в разводе</td>\n",
       "      <td>3</td>\n",
       "      <td>F</td>\n",
       "      <td>сотрудник</td>\n",
       "      <td>0</td>\n",
       "      <td>242831.107982</td>\n",
       "      <td>на покупку своего автомобиля</td>\n",
       "    </tr>\n",
       "  </tbody>\n",
       "</table>\n",
       "</div>"
      ],
      "text/plain": [
       "    children  days_employed  dob_years            education  education_id  \\\n",
       "0          1   -8437.673028         42               высшее             0   \n",
       "1          1   -4024.803754         36              среднее             1   \n",
       "2          0   -5623.422610         33              Среднее             1   \n",
       "3          3   -4124.747207         32              среднее             1   \n",
       "4          0  340266.072047         53              среднее             1   \n",
       "5          0    -926.185831         27               высшее             0   \n",
       "6          0   -2879.202052         43               высшее             0   \n",
       "7          0    -152.779569         50              СРЕДНЕЕ             1   \n",
       "8          2   -6929.865299         35               ВЫСШЕЕ             0   \n",
       "9          0   -2188.756445         41              среднее             1   \n",
       "10         2   -4171.483647         36               высшее             0   \n",
       "11         0    -792.701887         40              среднее             1   \n",
       "12         0            NaN         65              среднее             1   \n",
       "13         0   -1846.641941         54  неоконченное высшее             2   \n",
       "14         0   -1844.956182         56               высшее             0   \n",
       "15         1    -972.364419         26              среднее             1   \n",
       "16         0   -1719.934226         35              среднее             1   \n",
       "17         0   -2369.999720         33               высшее             0   \n",
       "18         0  400281.136913         53              среднее             1   \n",
       "19         0  -10038.818549         48              СРЕДНЕЕ             1   \n",
       "\n",
       "       family_status  family_status_id gender income_type  debt  \\\n",
       "0    женат / замужем                 0      F   сотрудник     0   \n",
       "1    женат / замужем                 0      F   сотрудник     0   \n",
       "2    женат / замужем                 0      M   сотрудник     0   \n",
       "3    женат / замужем                 0      M   сотрудник     0   \n",
       "4   гражданский брак                 1      F   пенсионер     0   \n",
       "5   гражданский брак                 1      M   компаньон     0   \n",
       "6    женат / замужем                 0      F   компаньон     0   \n",
       "7    женат / замужем                 0      M   сотрудник     0   \n",
       "8   гражданский брак                 1      F   сотрудник     0   \n",
       "9    женат / замужем                 0      M   сотрудник     0   \n",
       "10   женат / замужем                 0      M   компаньон     0   \n",
       "11   женат / замужем                 0      F   сотрудник     0   \n",
       "12  гражданский брак                 1      M   пенсионер     0   \n",
       "13   женат / замужем                 0      F   сотрудник     0   \n",
       "14  гражданский брак                 1      F   компаньон     1   \n",
       "15   женат / замужем                 0      F   сотрудник     0   \n",
       "16   женат / замужем                 0      F   сотрудник     0   \n",
       "17  гражданский брак                 1      M   сотрудник     0   \n",
       "18    вдовец / вдова                 2      F   пенсионер     0   \n",
       "19         в разводе                 3      F   сотрудник     0   \n",
       "\n",
       "     total_income                                 purpose  \n",
       "0   253875.639453                           покупка жилья  \n",
       "1   112080.014102                 приобретение автомобиля  \n",
       "2   145885.952297                           покупка жилья  \n",
       "3   267628.550329              дополнительное образование  \n",
       "4   158616.077870                         сыграть свадьбу  \n",
       "5   255763.565419                           покупка жилья  \n",
       "6   240525.971920                       операции с жильем  \n",
       "7   135823.934197                             образование  \n",
       "8    95856.832424                   на проведение свадьбы  \n",
       "9   144425.938277                 покупка жилья для семьи  \n",
       "10  113943.491460                    покупка недвижимости  \n",
       "11   77069.234271       покупка коммерческой недвижимости  \n",
       "12            NaN                         сыграть свадьбу  \n",
       "13  130458.228857                 приобретение автомобиля  \n",
       "14  165127.911772              покупка жилой недвижимости  \n",
       "15  116820.904450  строительство собственной недвижимости  \n",
       "16  289202.704229                            недвижимость  \n",
       "17   90410.586745              строительство недвижимости  \n",
       "18   56823.777243      на покупку подержанного автомобиля  \n",
       "19  242831.107982            на покупку своего автомобиля  "
      ]
     },
     "execution_count": 2,
     "metadata": {},
     "output_type": "execute_result"
    }
   ],
   "source": [
    "data.head(20)"
   ]
  },
  {
   "cell_type": "markdown",
   "id": "118b0148",
   "metadata": {
    "deletable": false,
    "editable": false,
    "id": "1c12e233"
   },
   "source": [
    "**Задание 3. Выведите основную информацию о датафрейме с помощью метода `info()`.**"
   ]
  },
  {
   "cell_type": "code",
   "execution_count": 3,
   "id": "6dff587a",
   "metadata": {
    "deletable": false,
    "id": "2b757bca",
    "outputId": "15376089-8dad-46c9-b520-c05248d43158"
   },
   "outputs": [
    {
     "name": "stdout",
     "output_type": "stream",
     "text": [
      "<class 'pandas.core.frame.DataFrame'>\n",
      "RangeIndex: 21525 entries, 0 to 21524\n",
      "Data columns (total 12 columns):\n",
      " #   Column            Non-Null Count  Dtype  \n",
      "---  ------            --------------  -----  \n",
      " 0   children          21525 non-null  int64  \n",
      " 1   days_employed     19351 non-null  float64\n",
      " 2   dob_years         21525 non-null  int64  \n",
      " 3   education         21525 non-null  object \n",
      " 4   education_id      21525 non-null  int64  \n",
      " 5   family_status     21525 non-null  object \n",
      " 6   family_status_id  21525 non-null  int64  \n",
      " 7   gender            21525 non-null  object \n",
      " 8   income_type       21525 non-null  object \n",
      " 9   debt              21525 non-null  int64  \n",
      " 10  total_income      19351 non-null  float64\n",
      " 11  purpose           21525 non-null  object \n",
      "dtypes: float64(2), int64(5), object(5)\n",
      "memory usage: 2.0+ MB\n"
     ]
    }
   ],
   "source": [
    "data.info()"
   ]
  },
  {
   "cell_type": "markdown",
   "id": "ff2190a4",
   "metadata": {
    "deletable": false,
    "editable": false,
    "id": "333ec665"
   },
   "source": [
    "## Предобработка данных"
   ]
  },
  {
   "cell_type": "markdown",
   "id": "d1ff3e6b",
   "metadata": {
    "deletable": false,
    "editable": false,
    "id": "02d92d53"
   },
   "source": [
    "### Удаление пропусков"
   ]
  },
  {
   "cell_type": "markdown",
   "id": "8055008a",
   "metadata": {
    "deletable": false,
    "editable": false,
    "id": "cd84967c"
   },
   "source": [
    "**Задание 4. Выведите количество пропущенных значений для каждого столбца. Используйте комбинацию двух методов.**"
   ]
  },
  {
   "cell_type": "code",
   "execution_count": 4,
   "id": "57111b8f",
   "metadata": {
    "deletable": false,
    "id": "7f9b2309",
    "outputId": "81f4d817-781c-465c-ed15-91ce4446810d"
   },
   "outputs": [
    {
     "data": {
      "text/plain": [
       "children               0\n",
       "days_employed       2174\n",
       "dob_years              0\n",
       "education              0\n",
       "education_id           0\n",
       "family_status          0\n",
       "family_status_id       0\n",
       "gender                 0\n",
       "income_type            0\n",
       "debt                   0\n",
       "total_income        2174\n",
       "purpose                0\n",
       "dtype: int64"
      ]
     },
     "execution_count": 4,
     "metadata": {},
     "output_type": "execute_result"
    }
   ],
   "source": [
    "data.isna().sum()"
   ]
  },
  {
   "cell_type": "markdown",
   "id": "be4c2d7c",
   "metadata": {
    "deletable": false,
    "editable": false,
    "id": "db86e27b"
   },
   "source": [
    "**Задание 5. В двух столбцах есть пропущенные значения. Один из них — `days_employed`. Пропуски в этом столбце вы обработаете на следующем этапе. Другой столбец с пропущенными значениями — `total_income` — хранит данные о доходах. На сумму дохода сильнее всего влияет тип занятости, поэтому заполнить пропуски в этом столбце нужно медианным значением по каждому типу из столбца `income_type`. Например, у человека с типом занятости `сотрудник` пропуск в столбце `total_income` должен быть заполнен медианным доходом среди всех записей с тем же типом.**"
   ]
  },
  {
   "cell_type": "code",
   "execution_count": 5,
   "id": "837f54de",
   "metadata": {
    "deletable": false,
    "id": "42006a93"
   },
   "outputs": [],
   "source": [
    "for t in data['income_type'].unique():\n",
    "    data.loc[(data['income_type'] == t) & (data['total_income'].isna()), 'total_income'] = \\\n",
    "    data.loc[(data['income_type'] == t), 'total_income'].median()"
   ]
  },
  {
   "cell_type": "markdown",
   "id": "48036b21",
   "metadata": {
    "deletable": false,
    "editable": false,
    "id": "89da5ece"
   },
   "source": [
    "### Обработка аномальных значений"
   ]
  },
  {
   "cell_type": "markdown",
   "id": "f013fa13",
   "metadata": {
    "deletable": false,
    "editable": false,
    "id": "57964554"
   },
   "source": [
    "**Задание 6. В данных могут встречаться артефакты (аномалии) — значения, которые не отражают действительность и появились по какой-то ошибке. таким артефактом будет отрицательное количество дней трудового стажа в столбце `days_employed`. Для реальных данных это нормально. Обработайте значения в этом столбце: замените все отрицательные значения положительными с помощью метода `abs()`.**"
   ]
  },
  {
   "cell_type": "code",
   "execution_count": 6,
   "id": "6f0da563",
   "metadata": {
    "deletable": false,
    "id": "f6f055bf"
   },
   "outputs": [],
   "source": [
    "data['days_employed'] = data['days_employed'].abs()"
   ]
  },
  {
   "cell_type": "markdown",
   "id": "64d2e150",
   "metadata": {
    "deletable": false,
    "editable": false,
    "id": "6107dd2f"
   },
   "source": [
    "**Задание 7. Для каждого типа занятости выведите медианное значение трудового стажа `days_employed` в днях.**"
   ]
  },
  {
   "cell_type": "code",
   "execution_count": 7,
   "id": "6c9f79d0",
   "metadata": {
    "deletable": false,
    "id": "85a5faf6",
    "outputId": "801ef80e-522b-4668-f34e-565af7432bcf"
   },
   "outputs": [
    {
     "data": {
      "text/plain": [
       "income_type\n",
       "безработный        366413.652744\n",
       "в декрете            3296.759962\n",
       "госслужащий          2689.368353\n",
       "компаньон            1547.382223\n",
       "пенсионер          365213.306266\n",
       "предприниматель       520.848083\n",
       "сотрудник            1574.202821\n",
       "студент               578.751554\n",
       "Name: days_employed, dtype: float64"
      ]
     },
     "execution_count": 7,
     "metadata": {},
     "output_type": "execute_result"
    }
   ],
   "source": [
    "data.groupby('income_type')['days_employed'].agg('median')"
   ]
  },
  {
   "cell_type": "markdown",
   "id": "603ad403",
   "metadata": {
    "deletable": false,
    "editable": false,
    "id": "38d1a030"
   },
   "source": [
    "У двух типов (безработные и пенсионеры) получатся аномально большие значения. Исправить такие значения сложно, поэтому оставьте их как есть. Тем более этот столбец не понадобится вам для исследования."
   ]
  },
  {
   "cell_type": "markdown",
   "id": "7f5ea56d",
   "metadata": {
    "deletable": false,
    "editable": false,
    "id": "d8a9f147"
   },
   "source": [
    "**Задание 8. Выведите перечень уникальных значений столбца `children`.**"
   ]
  },
  {
   "cell_type": "code",
   "execution_count": 8,
   "id": "526d5400",
   "metadata": {
    "deletable": false,
    "id": "ef5056eb",
    "outputId": "6975b15c-7f95-4697-d16d-a0c79b657b03"
   },
   "outputs": [
    {
     "data": {
      "text/plain": [
       "array([ 1,  0,  3,  2, -1,  4, 20,  5])"
      ]
     },
     "execution_count": 8,
     "metadata": {},
     "output_type": "execute_result"
    }
   ],
   "source": [
    "data['children'].unique()"
   ]
  },
  {
   "cell_type": "markdown",
   "id": "8c59bbbe",
   "metadata": {
    "deletable": false,
    "editable": false,
    "id": "40b9ebf2"
   },
   "source": [
    "**Задание 9. В столбце `children` есть два аномальных значения. Удалите строки, в которых встречаются такие аномальные значения из датафрейма `data`.**"
   ]
  },
  {
   "cell_type": "code",
   "execution_count": 9,
   "id": "71f6ae7c",
   "metadata": {
    "deletable": false,
    "id": "3ff9801d"
   },
   "outputs": [],
   "source": [
    "data = data[(data['children'] != -1) & (data['children'] != 20)]"
   ]
  },
  {
   "cell_type": "markdown",
   "id": "d7f7cbdf",
   "metadata": {
    "deletable": false,
    "editable": false,
    "id": "bbc4d0ce"
   },
   "source": [
    "**Задание 10. Ещё раз выведите перечень уникальных значений столбца `children`, чтобы убедиться, что артефакты удалены.**"
   ]
  },
  {
   "cell_type": "code",
   "execution_count": 10,
   "id": "0dd08fe5",
   "metadata": {
    "deletable": false,
    "id": "ad4fa8b7",
    "outputId": "b2097101-d49d-44d9-901b-32a65c9463d1"
   },
   "outputs": [
    {
     "data": {
      "text/plain": [
       "array([1, 0, 3, 2, 4, 5])"
      ]
     },
     "execution_count": 10,
     "metadata": {},
     "output_type": "execute_result"
    }
   ],
   "source": [
    "data['children'].unique()"
   ]
  },
  {
   "cell_type": "markdown",
   "id": "0139d489",
   "metadata": {
    "deletable": false,
    "editable": false,
    "id": "75440b63"
   },
   "source": [
    "### Удаление пропусков (продолжение)"
   ]
  },
  {
   "cell_type": "markdown",
   "id": "031b48df",
   "metadata": {
    "deletable": false,
    "editable": false,
    "id": "f4ea573f"
   },
   "source": [
    "**Задание 11. Заполните пропуски в столбце `days_employed` медианными значениями по каждого типа занятости `income_type`.**"
   ]
  },
  {
   "cell_type": "code",
   "execution_count": 11,
   "id": "0b2790d7",
   "metadata": {
    "deletable": false,
    "id": "af6b1a7e"
   },
   "outputs": [],
   "source": [
    "for t in data['income_type'].unique():\n",
    "    data.loc[(data['income_type'] == t) & (data['days_employed'].isna()), 'days_employed'] = \\\n",
    "    data.loc[(data['income_type'] == t), 'days_employed'].median()"
   ]
  },
  {
   "cell_type": "markdown",
   "id": "0f392181",
   "metadata": {
    "deletable": false,
    "editable": false,
    "id": "2753f40d"
   },
   "source": [
    "**Задание 12. Убедитесь, что все пропуски заполнены. Проверьте себя и ещё раз выведите количество пропущенных значений для каждого столбца с помощью двух методов.**"
   ]
  },
  {
   "cell_type": "code",
   "execution_count": 12,
   "id": "a17a5e2d",
   "metadata": {
    "deletable": false,
    "id": "55f78bc2",
    "outputId": "8da1e4e1-358e-4e87-98c9-f261bce0a7b2"
   },
   "outputs": [
    {
     "data": {
      "text/plain": [
       "children            0\n",
       "days_employed       0\n",
       "dob_years           0\n",
       "education           0\n",
       "education_id        0\n",
       "family_status       0\n",
       "family_status_id    0\n",
       "gender              0\n",
       "income_type         0\n",
       "debt                0\n",
       "total_income        0\n",
       "purpose             0\n",
       "dtype: int64"
      ]
     },
     "execution_count": 12,
     "metadata": {},
     "output_type": "execute_result"
    }
   ],
   "source": [
    "data.isna().sum()"
   ]
  },
  {
   "cell_type": "markdown",
   "id": "8eb04d13",
   "metadata": {
    "deletable": false,
    "editable": false,
    "id": "ddc81e43"
   },
   "source": [
    "### Изменение типов данных"
   ]
  },
  {
   "cell_type": "markdown",
   "id": "56a323a2",
   "metadata": {
    "deletable": false,
    "editable": false,
    "id": "42d19d24"
   },
   "source": [
    "**Задание 13. Замените вещественный тип данных в столбце `total_income` на целочисленный с помощью метода `astype()`.**"
   ]
  },
  {
   "cell_type": "code",
   "execution_count": 13,
   "id": "52d0bea6",
   "metadata": {
    "deletable": false,
    "id": "920b65ad"
   },
   "outputs": [],
   "source": [
    "data['total_income'] = data['total_income'].astype(int)"
   ]
  },
  {
   "cell_type": "markdown",
   "id": "11fbb728",
   "metadata": {
    "deletable": false,
    "editable": false,
    "id": "80c420ba"
   },
   "source": [
    "### Обработка дубликатов"
   ]
  },
  {
   "cell_type": "markdown",
   "id": "ecc6db48",
   "metadata": {
    "deletable": false,
    "editable": false
   },
   "source": [
    "**Задание 14. Обработайте неявные дубликаты в столбце `education`. В этом столбце есть одни и те же значения, но записанные по-разному: с использованием заглавных и строчных букв. Приведите их к нижнему регистру. Проверьте остальные столбцы.**"
   ]
  },
  {
   "cell_type": "code",
   "execution_count": 14,
   "id": "2507803b",
   "metadata": {
    "deletable": false
   },
   "outputs": [],
   "source": [
    "data['education'] = data['education'].str.lower()"
   ]
  },
  {
   "cell_type": "markdown",
   "id": "d6f89423",
   "metadata": {
    "deletable": false,
    "editable": false,
    "id": "dc587695"
   },
   "source": [
    "**Задание 15. Выведите на экран количество строк-дубликатов в данных. Если такие строки присутствуют, удалите их.**"
   ]
  },
  {
   "cell_type": "code",
   "execution_count": 15,
   "id": "9a210dae",
   "metadata": {
    "deletable": false,
    "id": "3ee445e4",
    "outputId": "9684deba-1934-42d1-99e1-cda61740f822"
   },
   "outputs": [
    {
     "data": {
      "text/plain": [
       "71"
      ]
     },
     "execution_count": 15,
     "metadata": {},
     "output_type": "execute_result"
    }
   ],
   "source": [
    "data.duplicated().sum()"
   ]
  },
  {
   "cell_type": "code",
   "execution_count": 16,
   "id": "bb9536aa",
   "metadata": {
    "deletable": false,
    "id": "8575fe05"
   },
   "outputs": [],
   "source": [
    "data = data.drop_duplicates()"
   ]
  },
  {
   "cell_type": "markdown",
   "id": "40557c09",
   "metadata": {
    "deletable": false,
    "editable": false,
    "id": "9904cf55"
   },
   "source": [
    "### Категоризация данных"
   ]
  },
  {
   "cell_type": "markdown",
   "id": "539c445e",
   "metadata": {
    "deletable": false,
    "editable": false,
    "id": "72fcc8a2"
   },
   "source": [
    "**Задание 16. На основании диапазонов, указанных ниже, создайте в датафрейме `data` столбец `total_income_category` с категориями:**\n",
    "\n",
    "- 0–30000 — `'E'`;\n",
    "- 30001–50000 — `'D'`;\n",
    "- 50001–200000 — `'C'`;\n",
    "- 200001–1000000 — `'B'`;\n",
    "- 1000001 и выше — `'A'`.\n",
    "\n",
    "\n",
    "**Например, кредитополучателю с доходом 25000 нужно назначить категорию `'E'`, а клиенту, получающему 235000, — `'B'`. Используйте собственную функцию с именем `categorize_income()` и метод `apply()`.**"
   ]
  },
  {
   "cell_type": "code",
   "execution_count": 17,
   "id": "2f089ac0",
   "metadata": {
    "deletable": false,
    "id": "e1771346"
   },
   "outputs": [],
   "source": [
    "def categorize_income(income):\n",
    "    try:\n",
    "        if 0 <= income <= 30000:\n",
    "            return 'E'\n",
    "        elif 30001 <= income <= 50000:\n",
    "            return 'D'\n",
    "        elif 50001 <= income <= 200000:\n",
    "            return 'C'\n",
    "        elif 200001 <= income <= 1000000:\n",
    "            return 'B'\n",
    "        elif income >= 1000001:\n",
    "            return 'A'\n",
    "    except:\n",
    "        pass"
   ]
  },
  {
   "cell_type": "code",
   "execution_count": 18,
   "id": "d6f75716",
   "metadata": {
    "deletable": false,
    "id": "d5f3586d"
   },
   "outputs": [],
   "source": [
    "data['total_income_category'] = data['total_income'].apply(categorize_income)"
   ]
  },
  {
   "cell_type": "markdown",
   "id": "33d17a5b",
   "metadata": {
    "deletable": false,
    "editable": false,
    "id": "dde49b5c"
   },
   "source": [
    "**Задание 17. Выведите на экран перечень уникальных целей взятия кредита из столбца `purpose`.**"
   ]
  },
  {
   "cell_type": "code",
   "execution_count": 19,
   "id": "16feb709",
   "metadata": {
    "deletable": false,
    "id": "f67ce9b3",
    "outputId": "673c12d9-7d7e-4ae0-9812-c622c89dd244"
   },
   "outputs": [
    {
     "data": {
      "text/plain": [
       "array(['покупка жилья', 'приобретение автомобиля',\n",
       "       'дополнительное образование', 'сыграть свадьбу',\n",
       "       'операции с жильем', 'образование', 'на проведение свадьбы',\n",
       "       'покупка жилья для семьи', 'покупка недвижимости',\n",
       "       'покупка коммерческой недвижимости', 'покупка жилой недвижимости',\n",
       "       'строительство собственной недвижимости', 'недвижимость',\n",
       "       'строительство недвижимости', 'на покупку подержанного автомобиля',\n",
       "       'на покупку своего автомобиля',\n",
       "       'операции с коммерческой недвижимостью',\n",
       "       'строительство жилой недвижимости', 'жилье',\n",
       "       'операции со своей недвижимостью', 'автомобили',\n",
       "       'заняться образованием', 'сделка с подержанным автомобилем',\n",
       "       'получение образования', 'автомобиль', 'свадьба',\n",
       "       'получение дополнительного образования', 'покупка своего жилья',\n",
       "       'операции с недвижимостью', 'получение высшего образования',\n",
       "       'свой автомобиль', 'сделка с автомобилем',\n",
       "       'профильное образование', 'высшее образование',\n",
       "       'покупка жилья для сдачи', 'на покупку автомобиля', 'ремонт жилью',\n",
       "       'заняться высшим образованием'], dtype=object)"
      ]
     },
     "execution_count": 19,
     "metadata": {},
     "output_type": "execute_result"
    }
   ],
   "source": [
    "data['purpose'].unique()"
   ]
  },
  {
   "cell_type": "markdown",
   "id": "fd75359b",
   "metadata": {
    "deletable": false,
    "editable": false,
    "id": "85d0aef0"
   },
   "source": [
    "**Задание 18. Создайте функцию, которая на основании данных из столбца `purpose` сформирует новый столбец `purpose_category`, в который войдут следующие категории:**\n",
    "\n",
    "- `'операции с автомобилем'`,\n",
    "- `'операции с недвижимостью'`,\n",
    "- `'проведение свадьбы'`,\n",
    "- `'получение образования'`.\n",
    "\n",
    "**Например, если в столбце `purpose` находится подстрока `'на покупку автомобиля'`, то в столбце `purpose_category` должна появиться строка `'операции с автомобилем'`.**\n",
    "\n",
    "**Используйте собственную функцию с именем `categorize_purpose()` и метод `apply()`. Изучите данные в столбце `purpose` и определите, какие подстроки помогут вам правильно определить категорию.**"
   ]
  },
  {
   "cell_type": "code",
   "execution_count": 20,
   "id": "7d92654d",
   "metadata": {
    "deletable": false,
    "id": "e149fab4"
   },
   "outputs": [],
   "source": [
    "def categorize_purpose(row):\n",
    "    try:\n",
    "        if 'автом' in row:\n",
    "            return 'операции с автомобилем'\n",
    "        elif 'жил' in row or 'недвиж' in row:\n",
    "            return 'операции с недвижимостью'\n",
    "        elif 'свад' in row:\n",
    "            return 'проведение свадьбы'\n",
    "        elif 'образов' in row:\n",
    "            return 'получение образования'\n",
    "    except:\n",
    "        return 'нет категории'"
   ]
  },
  {
   "cell_type": "code",
   "execution_count": 21,
   "id": "e6771390",
   "metadata": {
    "deletable": false,
    "id": "bf36e69b"
   },
   "outputs": [],
   "source": [
    "data['purpose_category'] = data['purpose'].apply(categorize_purpose)"
   ]
  },
  {
   "cell_type": "markdown",
   "id": "0baf68ab",
   "metadata": {
    "deletable": false,
    "editable": false,
    "id": "09b242bf"
   },
   "source": [
    "### Шаг 3. Исследуйте данные и ответьте на вопросы"
   ]
  },
  {
   "cell_type": "markdown",
   "id": "a51f62c5",
   "metadata": {
    "deletable": false,
    "editable": false,
    "id": "c5d66278"
   },
   "source": [
    "#### 3.1 Есть ли зависимость между количеством детей и возвратом кредита в срок?"
   ]
  },
  {
   "cell_type": "code",
   "execution_count": 27,
   "id": "4e2f7d03",
   "metadata": {
    "deletable": false,
    "id": "2cacfc4a"
   },
   "outputs": [
    {
     "data": {
      "text/plain": [
       "children\n",
       "0    14091\n",
       "1     4808\n",
       "2     2052\n",
       "3      330\n",
       "4       41\n",
       "5        9\n",
       "Name: debt, dtype: int64"
      ]
     },
     "execution_count": 27,
     "metadata": {},
     "output_type": "execute_result"
    }
   ],
   "source": [
    "value_children = data.groupby('children')['debt'].count()\n",
    "value_children"
   ]
  },
  {
   "cell_type": "code",
   "execution_count": 28,
   "id": "c9956cb2",
   "metadata": {},
   "outputs": [
    {
     "data": {
      "text/plain": [
       "children\n",
       "0    1063\n",
       "1     444\n",
       "2     194\n",
       "3      27\n",
       "4       4\n",
       "5       0\n",
       "Name: debt, dtype: int64"
      ]
     },
     "execution_count": 28,
     "metadata": {},
     "output_type": "execute_result"
    }
   ],
   "source": [
    "value_children_debt = data.groupby('children')['debt'].sum()\n",
    "value_children_debt"
   ]
  },
  {
   "cell_type": "code",
   "execution_count": 29,
   "id": "afc8a34a",
   "metadata": {},
   "outputs": [
    {
     "data": {
      "text/plain": [
       "children\n",
       "0    7.543822\n",
       "1    9.234609\n",
       "2    9.454191\n",
       "3    8.181818\n",
       "4    9.756098\n",
       "5    0.000000\n",
       "Name: debt, dtype: float64"
      ]
     },
     "execution_count": 29,
     "metadata": {},
     "output_type": "execute_result"
    }
   ],
   "source": [
    "children_debt_procent = value_children_debt/value_children*100\n",
    "children_debt_procent"
   ]
  },
  {
   "cell_type": "markdown",
   "id": "0124cc4a",
   "metadata": {
    "deletable": false,
    "id": "3a6b99ec"
   },
   "source": [
    "**Вывод:** Прямой зависимости невозврата кредитов в срок от увеличения количества детей у заёмщиков не обнаружено. И всё же среди кредитополучателей, не имеющих детей, вероятность выплаты кредита в срок выше, чем у кредитополучателей с детьми. \n",
    "\n",
    "В ходе анализа выявлено:\n",
    "1. У заёмщиков без детей процент невозврата в срок ниже - 7,54%.\n",
    "2. У заёмщиков с 1 и 2 детьми процент невозврата отличается незначительно - 9.23% и 9,45% соответственно. \n",
    "3. У заёмщиков с 3 и 4 детьми процент невозврата 8,18% и 9,75% соответственно. \n",
    "4. У заёмщиков с 5 детьми - 0% невозврата в срок.\n",
    "5. Значения процентов невозврата для заёмщиков с 3, 4 или 5 детьми считаю некорретными из-за слишком маленькой выборки заёмщиков для анализа."
   ]
  },
  {
   "cell_type": "markdown",
   "id": "4380c9d5",
   "metadata": {
    "deletable": false,
    "editable": false,
    "id": "97be82ca"
   },
   "source": [
    "#### 3.2 Есть ли зависимость между семейным положением и возвратом кредита в срок?"
   ]
  },
  {
   "cell_type": "code",
   "execution_count": null,
   "id": "ff3891cf",
   "metadata": {
    "deletable": false,
    "id": "dc3f7ee8"
   },
   "outputs": [],
   "source": [
    "value_family_debt = data.groupby('family_status')['debt'].sum()\n",
    "value_family_debt.sort_values()"
   ]
  },
  {
   "cell_type": "code",
   "execution_count": null,
   "id": "624ddaa1",
   "metadata": {},
   "outputs": [],
   "source": [
    "value_family = data.groupby('family_status')['debt'].count()\n",
    "value_family.sort_values()"
   ]
  },
  {
   "cell_type": "code",
   "execution_count": null,
   "id": "7093ccda",
   "metadata": {},
   "outputs": [],
   "source": [
    "debt_family_persent = value_family_debt/value_family*100\n",
    "debt_family_persent.sort_values()"
   ]
  },
  {
   "cell_type": "markdown",
   "id": "f0f7f484",
   "metadata": {
    "deletable": false,
    "id": "1cef7837"
   },
   "source": [
    "**Вывод:** Анализ показал, что между семейным положением и невозвратом в срок есть зависимость.\n",
    "1. У вдовцов/вдов процент невозврата в срок меньше всех - 6,62%.\n",
    "2. У заёмщиков в разводе и женатых/замужних заёмщиков процент невозврата чуть больше - 7,06% и 7,56% соответственно.\n",
    "3. У неженатых/незамужних заёмщиков самый большой процент невозврата в срок 9,31% и 9,76% соответственно."
   ]
  },
  {
   "cell_type": "markdown",
   "id": "3b8cef0c",
   "metadata": {},
   "source": [
    "<div class=\"alert alert-success\">\n",
    "<b>ОТЛИЧНО! 👍</b>\n",
    "\n",
    "Здесь также верно. Кредитному отделу следует с осторожностью относиться к клиентам, которые не состоят или не состояли в браке. Согласно данным такие клиенты менее ответственные. Получается, что узаконенные отношения ведут к более ответственному отношению к своим обязательствам. Ну вроде как совпадает со здравым смыслом - семейные люди более скрупулёзно берегут свой семейное спокойствие и несут за него ответственность.\n",
    "</div>\n"
   ]
  },
  {
   "cell_type": "markdown",
   "id": "0ae6b3b8",
   "metadata": {
    "deletable": false,
    "editable": false,
    "id": "1e8b2fca"
   },
   "source": [
    "#### 3.3 Есть ли зависимость между уровнем дохода и возвратом кредита в срок?"
   ]
  },
  {
   "cell_type": "code",
   "execution_count": 31,
   "id": "e73c8015",
   "metadata": {
    "deletable": false,
    "id": "cd7e3720"
   },
   "outputs": [
    {
     "data": {
      "text/plain": [
       "total_income_category\n",
       "A       2\n",
       "B     354\n",
       "C    1353\n",
       "D      21\n",
       "E       2\n",
       "Name: debt, dtype: int64"
      ]
     },
     "execution_count": 31,
     "metadata": {},
     "output_type": "execute_result"
    }
   ],
   "source": [
    "total_income_debt = data.groupby('total_income_category')['debt'].sum()\n",
    "total_income_debt"
   ]
  },
  {
   "cell_type": "code",
   "execution_count": 32,
   "id": "34770fa2",
   "metadata": {},
   "outputs": [
    {
     "data": {
      "text/plain": [
       "total_income_category\n",
       "A       25\n",
       "B     5014\n",
       "C    15921\n",
       "D      349\n",
       "E       22\n",
       "Name: debt, dtype: int64"
      ]
     },
     "execution_count": 32,
     "metadata": {},
     "output_type": "execute_result"
    }
   ],
   "source": [
    "total_income = data.groupby('total_income_category')['debt'].count()\n",
    "total_income"
   ]
  },
  {
   "cell_type": "code",
   "execution_count": 33,
   "id": "804ed8c9",
   "metadata": {},
   "outputs": [
    {
     "data": {
      "text/plain": [
       "total_income_category\n",
       "A    8.000000\n",
       "B    7.060231\n",
       "C    8.498210\n",
       "D    6.017192\n",
       "E    9.090909\n",
       "Name: debt, dtype: float64"
      ]
     },
     "execution_count": 33,
     "metadata": {},
     "output_type": "execute_result"
    }
   ],
   "source": [
    "debt_total_income_persent = total_income_debt/total_income*100\n",
    "debt_total_income_persent"
   ]
  },
  {
   "cell_type": "code",
   "execution_count": null,
   "id": "911a6541",
   "metadata": {},
   "outputs": [],
   "source": [
    "debt_total_income_persent.sort_values()"
   ]
  },
  {
   "cell_type": "markdown",
   "id": "90684568",
   "metadata": {
    "deletable": false,
    "id": "e8593def"
   },
   "source": [
    "**Вывод:** Процент невозврата кредита в срок с увеличением дохода не уменьшается. Значит мы не можем сделать вывод, что чем больше доход заёмщика, тем вероятнее, что он вернёт в срок. \n",
    "1. Самый низкий процент невозврата в срок у заёмщиков с доходами от 30 001 до 50 000 (категория D) - 6.02%.\n",
    "2. Самый высокий процент невозврата в срок у заёмщиков с доходами от 30 000 и ниже (категория E) - 9.09%.\n",
    "3. У заёмщиков с доходами от 200 001 до 1 000 000 (категория В) процент невозврата в срок немного выше, чем у категории D - 7.06%.\n",
    "4. У заёмщиков с доходами от 1 000 001 и выше (категория А) и с доходами от 50 001 до 200 000 (категория С) проценты невозврата в срок - 8% и 8,5% соответственно.\n",
    "5. Выводы относительно категорий А и Е ставлю под сомнение, т.к. выборка крайне недостаточна для однозначных выводов."
   ]
  },
  {
   "cell_type": "markdown",
   "id": "ef7fb308",
   "metadata": {
    "deletable": false,
    "editable": false,
    "id": "99ecbd1f"
   },
   "source": [
    "#### 3.4 Как разные цели кредита влияют на его возврат в срок?"
   ]
  },
  {
   "cell_type": "code",
   "execution_count": null,
   "id": "d9325fd5",
   "metadata": {
    "deletable": false,
    "id": "2b687290"
   },
   "outputs": [],
   "source": [
    "purpose_debt = data.groupby('purpose_category')['debt'].sum()\n",
    "purpose_debt.sort_values()"
   ]
  },
  {
   "cell_type": "code",
   "execution_count": null,
   "id": "054232b2",
   "metadata": {},
   "outputs": [],
   "source": [
    "purpose_debt_value = data.groupby('purpose_category')['debt'].count()\n",
    "purpose_debt_value.sort_values()"
   ]
  },
  {
   "cell_type": "code",
   "execution_count": null,
   "id": "a8ab7185",
   "metadata": {},
   "outputs": [],
   "source": [
    "purpose_debt_percent = purpose_debt/purpose_debt_value*100\n",
    "purpose_debt_percent.sort_values()"
   ]
  },
  {
   "cell_type": "markdown",
   "id": "f2ae0b2b",
   "metadata": {
    "deletable": false,
    "id": "b4bb2ce6"
   },
   "source": [
    "**Вывод:** \n",
    "1. У кредитов, взятых на надвижимость, самый меньший процент невозврата в срок - 7.3%.\n",
    "2. У кредитов, взятых на проведение свадьбы, процент невозврата в срок чуть больше, чем у кредитов на недвижимость - 7.91%.\n",
    "3. У кредитов, взятых на получение образования и на операции с автомобилем, самые большие проценты невозврата в срок - 9.25% и 9.35% соответственно."
   ]
  },
  {
   "cell_type": "markdown",
   "id": "ef8bc8a6",
   "metadata": {
    "deletable": false,
    "editable": false,
    "id": "09c3ac4c"
   },
   "source": [
    "#### 3.5 Приведите возможные причины появления пропусков в исходных данных."
   ]
  },
  {
   "cell_type": "markdown",
   "id": "5e0ba71e",
   "metadata": {
    "deletable": false,
    "id": "9da2ceda"
   },
   "source": [
    "*Ответ:* возможная причина появления пропусков в столбце 'days_employed' - технический сбой. \n",
    "На счёт пропусков в столбце 'total_income' есть сомнения: возможно, и человеческий фактор (не указали доход), и технический сбой."
   ]
  },
  {
   "cell_type": "markdown",
   "id": "bf56cdc7",
   "metadata": {
    "deletable": false,
    "editable": false,
    "id": "7b0487d6"
   },
   "source": [
    "#### 3.6 Объясните, почему заполнить пропуски медианным значением — лучшее решение для количественных переменных."
   ]
  },
  {
   "cell_type": "markdown",
   "id": "f5dca4ae",
   "metadata": {
    "deletable": false,
    "id": "7ecf2b8e"
   },
   "source": [
    "*Ответ:* Заполнить данные средними значениями было бы некорректно - данные сильно бы изменились в сторону увеличения."
   ]
  },
  {
   "cell_type": "markdown",
   "id": "3de304c0",
   "metadata": {
    "deletable": false,
    "editable": false,
    "id": "6db5255a"
   },
   "source": [
    "### Шаг 4: общий вывод."
   ]
  },
  {
   "cell_type": "markdown",
   "id": "613979c6",
   "metadata": {
    "deletable": false,
    "id": "bad65432"
   },
   "source": [
    "Было проведено исследование с целью выявления влияния различных факторов на погашение кредита в срок. Входные данные - статистика о платёжеспообности клиентов. Результаты исследования будут полезны при построении модели кредитного скоринга - специальной программы, которая оценивает способность потенциального клиента вернуть кредит банку в срок.\n",
    "\n",
    "Перед проведением исследования были сформулированы следующие гипотезы:\n",
    "- Гипотеза 1 - Количество детей влияет на погашение кредита в срок.\n",
    "- Гипотеза 2 - Семейное положение влияет на погашение кредита в срок.\n",
    "- Гипотеза 3 - Уровень дохода влияет на погашение кредита в срок.\n",
    "- Гипотеза 4 - Цель кредита влияет на погашение кредита в срок.\n",
    "\n",
    "В результате удалось выявить определенные зависимости.\n",
    "\n",
    "**Гипотеза 1 частично подтверждена:** среди кредитополучателей, не имеющих детей, вероятность выплаты кредита в срок выше, чем у кредитополучателей с детьми.\n",
    "\n",
    "- У заёмщиков без детей процент невозврата кредита в срок - 7,54%.\n",
    "- У заёмщиков с 1 и 2 детьми проценты невозврата кредита в срок - 9.23% и 9,45% соответственно.\n",
    "\n",
    "Рекомендация: провести дополнительное исследование на большей выборке данных, т.к. для заёмщиков с 3, 4 и 5 детьми выводы неочевидны.\n",
    "\n",
    "**Гипотеза 2 подтверждена:** у заёмщиков, состоявших в браке или находящихся в браке на текущий момент, вероятность погашения кредита в срок выше, чем у неженатых/незамужних заёмщиков.\n",
    "\n",
    "- У вдовцов/вдов процент невозврата в срок меньше всех - 6,62%.\n",
    "- У заёмщиков в разводе и женатых/замужних заёмщиков процент невозврата чуть больше - 7,06% и 7,56% соответственно.\n",
    "- У неженатых/незамужних заёмщиков самый большой процент невозврата в срок - 9,31% и 9,76% соответственно.\n",
    "\n",
    "**Гипотеза 3 не подтверждена:** уровень дохода не влияет на способность клиента вернуть заёмные средства в срок. \n",
    "\n",
    "- Самый низкий процент невозврата в срок у заёмщиков с доходами от 30 001 до 50 000 (категория D) - 6.02%.\n",
    "- У заёмщиков с доходами от 200 001 до 1 000 000 (категория В) процент невозврата в срок немного выше, чем у категории D - 7.06%.\n",
    "- У заёмщиков с доходами от 50 001 до 200 000 (категория С) проценты невозврата в срок - 8,5%.\n",
    "\n",
    "Рекомендация: провести дополнительное исследование на большей выборке данных, т.к. для заёмщиков категорий А и Е выводы неочевидны.\n",
    "\n",
    "**Гипотеза 4 подтверждена:** у заёмщиков, берущих кредит на недвижимость или на проведение свадьбы, вероятность погашения кредита в срок выше, чем у заёмщиков, берущих кредит на получение образования или на операции с автомобилем.\n",
    "\n",
    "- У кредитов, взятых на надвижимость, самый меньший процент невозврата в срок - 7.3%.\n",
    "- У кредитов, взятых на проведение свадьбы, процент невозврата в срок чуть больше, чем у кредитов на недвижимость - 7.91%.\n",
    "- У кредитов, взятых на получение образования и на операции с автомобилем, самые большие проценты невозврата в срок - 9.25% и 9.35% соответственно.\n",
    "\n",
    "**Общие рекомендации:**\n",
    "1. Специалистам по моделированию кредитного скоринга рекомендую использовать зависимости из 2 и 4 гипотез (о семейном положении и о цели кредита).\n",
    "\n",
    "2. Необходимо собрать более полную выборку для проведения повторной проверки 1 и 3 гипотез (о детях заёмщиков и о уровне дохода)."
   ]
  }
 ],
 "metadata": {
  "ExecuteTimeLog": [
   {
    "duration": 47,
    "start_time": "2022-11-05T15:17:19.998Z"
   },
   {
    "duration": 716,
    "start_time": "2022-11-05T15:17:37.752Z"
   },
   {
    "duration": 22,
    "start_time": "2022-11-05T15:17:38.470Z"
   },
   {
    "duration": 14,
    "start_time": "2022-11-05T15:17:38.494Z"
   },
   {
    "duration": 8,
    "start_time": "2022-11-05T15:17:38.510Z"
   },
   {
    "duration": 33,
    "start_time": "2022-11-05T15:17:38.519Z"
   },
   {
    "duration": 25,
    "start_time": "2022-11-05T15:17:38.554Z"
   },
   {
    "duration": 9,
    "start_time": "2022-11-05T15:17:38.581Z"
   },
   {
    "duration": 4,
    "start_time": "2022-11-05T15:17:38.592Z"
   },
   {
    "duration": 8,
    "start_time": "2022-11-05T15:17:38.598Z"
   },
   {
    "duration": 4,
    "start_time": "2022-11-05T15:17:38.608Z"
   },
   {
    "duration": 64,
    "start_time": "2022-11-05T15:17:38.614Z"
   },
   {
    "duration": 11,
    "start_time": "2022-11-05T15:17:38.680Z"
   },
   {
    "duration": 5,
    "start_time": "2022-11-05T15:17:38.692Z"
   },
   {
    "duration": 13,
    "start_time": "2022-11-05T15:17:38.699Z"
   },
   {
    "duration": 20,
    "start_time": "2022-11-05T15:17:38.714Z"
   },
   {
    "duration": 48,
    "start_time": "2022-11-05T15:17:38.736Z"
   },
   {
    "duration": 5,
    "start_time": "2022-11-05T15:17:38.785Z"
   },
   {
    "duration": 12,
    "start_time": "2022-11-05T15:17:38.792Z"
   },
   {
    "duration": 7,
    "start_time": "2022-11-05T15:17:38.805Z"
   },
   {
    "duration": 6,
    "start_time": "2022-11-05T15:17:38.814Z"
   },
   {
    "duration": 13,
    "start_time": "2022-11-05T15:17:38.822Z"
   },
   {
    "duration": 4,
    "start_time": "2022-11-05T15:17:38.836Z"
   },
   {
    "duration": 6,
    "start_time": "2022-11-05T15:17:38.842Z"
   },
   {
    "duration": 3,
    "start_time": "2022-11-05T15:17:38.877Z"
   },
   {
    "duration": 8,
    "start_time": "2022-11-05T15:17:38.882Z"
   },
   {
    "duration": 5,
    "start_time": "2022-11-05T15:18:30.148Z"
   },
   {
    "duration": 4,
    "start_time": "2022-11-05T15:19:08.042Z"
   },
   {
    "duration": 4,
    "start_time": "2022-11-05T15:19:11.668Z"
   },
   {
    "duration": 449,
    "start_time": "2022-11-05T15:19:58.737Z"
   },
   {
    "duration": 24,
    "start_time": "2022-11-05T15:19:59.189Z"
   },
   {
    "duration": 23,
    "start_time": "2022-11-05T15:19:59.215Z"
   },
   {
    "duration": 19,
    "start_time": "2022-11-05T15:19:59.241Z"
   },
   {
    "duration": 40,
    "start_time": "2022-11-05T15:19:59.262Z"
   },
   {
    "duration": 4,
    "start_time": "2022-11-05T15:19:59.304Z"
   },
   {
    "duration": 28,
    "start_time": "2022-11-05T15:19:59.310Z"
   },
   {
    "duration": 9,
    "start_time": "2022-11-05T15:19:59.340Z"
   },
   {
    "duration": 30,
    "start_time": "2022-11-05T15:19:59.351Z"
   },
   {
    "duration": 14,
    "start_time": "2022-11-05T15:19:59.383Z"
   },
   {
    "duration": 45,
    "start_time": "2022-11-05T15:19:59.398Z"
   },
   {
    "duration": 9,
    "start_time": "2022-11-05T15:19:59.445Z"
   },
   {
    "duration": 7,
    "start_time": "2022-11-05T15:19:59.456Z"
   },
   {
    "duration": 29,
    "start_time": "2022-11-05T15:19:59.465Z"
   },
   {
    "duration": 34,
    "start_time": "2022-11-05T15:19:59.496Z"
   },
   {
    "duration": 17,
    "start_time": "2022-11-05T15:19:59.532Z"
   },
   {
    "duration": 10,
    "start_time": "2022-11-05T15:19:59.550Z"
   },
   {
    "duration": 20,
    "start_time": "2022-11-05T15:19:59.561Z"
   },
   {
    "duration": 18,
    "start_time": "2022-11-05T15:19:59.582Z"
   },
   {
    "duration": 15,
    "start_time": "2022-11-05T15:19:59.602Z"
   },
   {
    "duration": 17,
    "start_time": "2022-11-05T15:19:59.619Z"
   },
   {
    "duration": 16,
    "start_time": "2022-11-05T15:19:59.638Z"
   },
   {
    "duration": 7,
    "start_time": "2022-11-05T15:19:59.655Z"
   },
   {
    "duration": 22,
    "start_time": "2022-11-05T15:19:59.663Z"
   },
   {
    "duration": 10,
    "start_time": "2022-11-05T15:19:59.687Z"
   },
   {
    "duration": 6,
    "start_time": "2022-11-05T15:28:16.443Z"
   },
   {
    "duration": 6,
    "start_time": "2022-11-05T15:29:12.149Z"
   },
   {
    "duration": 64,
    "start_time": "2022-11-05T15:29:31.648Z"
   },
   {
    "duration": 12,
    "start_time": "2022-11-05T15:29:35.306Z"
   },
   {
    "duration": 7,
    "start_time": "2022-11-05T15:29:46.849Z"
   },
   {
    "duration": 8,
    "start_time": "2022-11-05T15:30:23.918Z"
   },
   {
    "duration": 136,
    "start_time": "2022-11-05T15:30:46.497Z"
   },
   {
    "duration": 6,
    "start_time": "2022-11-05T15:30:50.298Z"
   },
   {
    "duration": 7,
    "start_time": "2022-11-05T15:31:02.843Z"
   },
   {
    "duration": 9,
    "start_time": "2022-11-05T15:31:33.319Z"
   },
   {
    "duration": 6,
    "start_time": "2022-11-05T15:31:37.346Z"
   },
   {
    "duration": 6,
    "start_time": "2022-11-05T15:31:54.767Z"
   },
   {
    "duration": 7,
    "start_time": "2022-11-05T15:32:57.364Z"
   },
   {
    "duration": 7,
    "start_time": "2022-11-05T15:42:02.588Z"
   },
   {
    "duration": 40,
    "start_time": "2022-11-05T15:51:09.805Z"
   },
   {
    "duration": 41,
    "start_time": "2022-11-05T15:53:17.840Z"
   },
   {
    "duration": 6,
    "start_time": "2022-11-05T15:57:37.501Z"
   },
   {
    "duration": 7,
    "start_time": "2022-11-05T15:58:02.769Z"
   },
   {
    "duration": 6,
    "start_time": "2022-11-05T15:58:21.373Z"
   },
   {
    "duration": 42,
    "start_time": "2022-11-05T15:58:29.834Z"
   },
   {
    "duration": 7,
    "start_time": "2022-11-05T15:59:09.499Z"
   },
   {
    "duration": 6,
    "start_time": "2022-11-05T16:10:28.880Z"
   },
   {
    "duration": 8,
    "start_time": "2022-11-05T16:27:00.095Z"
   },
   {
    "duration": 8,
    "start_time": "2022-11-05T16:27:52.230Z"
   },
   {
    "duration": 9,
    "start_time": "2022-11-05T16:30:17.983Z"
   },
   {
    "duration": 14,
    "start_time": "2022-11-05T16:31:30.949Z"
   },
   {
    "duration": 7,
    "start_time": "2022-11-05T16:31:49.546Z"
   },
   {
    "duration": 8,
    "start_time": "2022-11-05T16:31:57.455Z"
   },
   {
    "duration": 8,
    "start_time": "2022-11-05T16:32:51.377Z"
   },
   {
    "duration": 8,
    "start_time": "2022-11-05T16:33:36.989Z"
   },
   {
    "duration": 5,
    "start_time": "2022-11-05T16:33:40.138Z"
   },
   {
    "duration": 8,
    "start_time": "2022-11-05T16:33:49.571Z"
   },
   {
    "duration": 6,
    "start_time": "2022-11-05T16:34:08.931Z"
   },
   {
    "duration": 8,
    "start_time": "2022-11-05T16:34:13.028Z"
   },
   {
    "duration": 4,
    "start_time": "2022-11-05T16:34:46.738Z"
   },
   {
    "duration": 8,
    "start_time": "2022-11-05T16:40:31.547Z"
   },
   {
    "duration": 8,
    "start_time": "2022-11-05T16:40:45.150Z"
   },
   {
    "duration": 4,
    "start_time": "2022-11-05T16:40:53.066Z"
   },
   {
    "duration": 19,
    "start_time": "2022-11-05T16:41:05.236Z"
   },
   {
    "duration": 7,
    "start_time": "2022-11-05T16:41:23.992Z"
   },
   {
    "duration": 4,
    "start_time": "2022-11-05T16:41:32.450Z"
   },
   {
    "duration": 3,
    "start_time": "2022-11-05T16:42:53.857Z"
   },
   {
    "duration": 7,
    "start_time": "2022-11-05T16:43:20.127Z"
   },
   {
    "duration": 6,
    "start_time": "2022-11-05T16:43:57.772Z"
   },
   {
    "duration": 12,
    "start_time": "2022-11-05T16:50:03.974Z"
   },
   {
    "duration": 10,
    "start_time": "2022-11-05T16:51:14.244Z"
   },
   {
    "duration": 13,
    "start_time": "2022-11-05T16:51:54.556Z"
   },
   {
    "duration": 6,
    "start_time": "2022-11-05T16:53:22.715Z"
   },
   {
    "duration": 6,
    "start_time": "2022-11-05T16:53:56.111Z"
   },
   {
    "duration": 11,
    "start_time": "2022-11-05T16:54:30.382Z"
   },
   {
    "duration": 9,
    "start_time": "2022-11-05T16:54:33.130Z"
   },
   {
    "duration": 9,
    "start_time": "2022-11-05T16:54:50.374Z"
   },
   {
    "duration": 7,
    "start_time": "2022-11-05T16:54:55.764Z"
   },
   {
    "duration": 7,
    "start_time": "2022-11-05T16:55:01.695Z"
   },
   {
    "duration": 6,
    "start_time": "2022-11-05T16:56:21.393Z"
   },
   {
    "duration": 5,
    "start_time": "2022-11-05T16:56:50.649Z"
   },
   {
    "duration": 8,
    "start_time": "2022-11-05T17:11:31.607Z"
   },
   {
    "duration": 8,
    "start_time": "2022-11-05T17:12:09.708Z"
   },
   {
    "duration": 8,
    "start_time": "2022-11-05T17:12:34.086Z"
   },
   {
    "duration": 7,
    "start_time": "2022-11-05T17:14:10.824Z"
   },
   {
    "duration": 8,
    "start_time": "2022-11-05T17:15:57.504Z"
   },
   {
    "duration": 480,
    "start_time": "2022-11-05T17:16:39.652Z"
   },
   {
    "duration": 21,
    "start_time": "2022-11-05T17:16:40.133Z"
   },
   {
    "duration": 13,
    "start_time": "2022-11-05T17:16:40.156Z"
   },
   {
    "duration": 9,
    "start_time": "2022-11-05T17:16:40.171Z"
   },
   {
    "duration": 39,
    "start_time": "2022-11-05T17:16:40.182Z"
   },
   {
    "duration": 3,
    "start_time": "2022-11-05T17:16:40.223Z"
   },
   {
    "duration": 11,
    "start_time": "2022-11-05T17:16:40.228Z"
   },
   {
    "duration": 5,
    "start_time": "2022-11-05T17:16:40.240Z"
   },
   {
    "duration": 35,
    "start_time": "2022-11-05T17:16:40.246Z"
   },
   {
    "duration": 4,
    "start_time": "2022-11-05T17:16:40.284Z"
   },
   {
    "duration": 51,
    "start_time": "2022-11-05T17:16:40.290Z"
   },
   {
    "duration": 14,
    "start_time": "2022-11-05T17:16:40.343Z"
   },
   {
    "duration": 19,
    "start_time": "2022-11-05T17:16:40.359Z"
   },
   {
    "duration": 13,
    "start_time": "2022-11-05T17:16:40.380Z"
   },
   {
    "duration": 20,
    "start_time": "2022-11-05T17:16:40.395Z"
   },
   {
    "duration": 17,
    "start_time": "2022-11-05T17:16:40.416Z"
   },
   {
    "duration": 4,
    "start_time": "2022-11-05T17:16:40.434Z"
   },
   {
    "duration": 12,
    "start_time": "2022-11-05T17:16:40.440Z"
   },
   {
    "duration": 29,
    "start_time": "2022-11-05T17:16:40.454Z"
   },
   {
    "duration": 4,
    "start_time": "2022-11-05T17:16:40.485Z"
   },
   {
    "duration": 18,
    "start_time": "2022-11-05T17:16:40.491Z"
   },
   {
    "duration": 13,
    "start_time": "2022-11-05T17:16:40.513Z"
   },
   {
    "duration": 13,
    "start_time": "2022-11-05T17:16:40.527Z"
   },
   {
    "duration": 11,
    "start_time": "2022-11-05T17:16:40.541Z"
   },
   {
    "duration": 24,
    "start_time": "2022-11-05T17:16:40.554Z"
   },
   {
    "duration": 17,
    "start_time": "2022-11-05T17:16:40.580Z"
   },
   {
    "duration": 6,
    "start_time": "2022-11-05T17:16:40.599Z"
   },
   {
    "duration": 8,
    "start_time": "2022-11-05T17:16:40.609Z"
   },
   {
    "duration": 8,
    "start_time": "2022-11-05T17:16:40.619Z"
   },
   {
    "duration": 8,
    "start_time": "2022-11-05T17:16:40.628Z"
   },
   {
    "duration": 7,
    "start_time": "2022-11-05T17:16:40.638Z"
   },
   {
    "duration": 9,
    "start_time": "2022-11-05T17:16:40.677Z"
   },
   {
    "duration": 11,
    "start_time": "2022-11-05T17:16:40.688Z"
   },
   {
    "duration": 6,
    "start_time": "2022-11-05T17:16:40.701Z"
   },
   {
    "duration": 5,
    "start_time": "2022-11-05T17:17:08.057Z"
   },
   {
    "duration": 573,
    "start_time": "2022-11-05T18:05:04.770Z"
   },
   {
    "duration": 29,
    "start_time": "2022-11-05T18:05:05.345Z"
   },
   {
    "duration": 16,
    "start_time": "2022-11-05T18:05:05.376Z"
   },
   {
    "duration": 11,
    "start_time": "2022-11-05T18:05:05.394Z"
   },
   {
    "duration": 61,
    "start_time": "2022-11-05T18:05:05.407Z"
   },
   {
    "duration": 3,
    "start_time": "2022-11-05T18:05:05.470Z"
   },
   {
    "duration": 10,
    "start_time": "2022-11-05T18:05:05.475Z"
   },
   {
    "duration": 5,
    "start_time": "2022-11-05T18:05:05.486Z"
   },
   {
    "duration": 38,
    "start_time": "2022-11-05T18:05:05.492Z"
   },
   {
    "duration": 10,
    "start_time": "2022-11-05T18:05:05.535Z"
   },
   {
    "duration": 37,
    "start_time": "2022-11-05T18:05:05.548Z"
   },
   {
    "duration": 10,
    "start_time": "2022-11-05T18:05:05.587Z"
   },
   {
    "duration": 28,
    "start_time": "2022-11-05T18:05:05.600Z"
   },
   {
    "duration": 14,
    "start_time": "2022-11-05T18:05:05.630Z"
   },
   {
    "duration": 24,
    "start_time": "2022-11-05T18:05:05.651Z"
   },
   {
    "duration": 18,
    "start_time": "2022-11-05T18:05:05.676Z"
   },
   {
    "duration": 3,
    "start_time": "2022-11-05T18:05:05.696Z"
   },
   {
    "duration": 44,
    "start_time": "2022-11-05T18:05:05.701Z"
   },
   {
    "duration": 10,
    "start_time": "2022-11-05T18:05:05.748Z"
   },
   {
    "duration": 4,
    "start_time": "2022-11-05T18:05:05.759Z"
   },
   {
    "duration": 13,
    "start_time": "2022-11-05T18:05:05.766Z"
   },
   {
    "duration": 7,
    "start_time": "2022-11-05T18:05:05.781Z"
   },
   {
    "duration": 48,
    "start_time": "2022-11-05T18:05:05.789Z"
   },
   {
    "duration": 13,
    "start_time": "2022-11-05T18:05:05.840Z"
   },
   {
    "duration": 20,
    "start_time": "2022-11-05T18:05:05.855Z"
   },
   {
    "duration": 10,
    "start_time": "2022-11-05T18:05:05.877Z"
   },
   {
    "duration": 9,
    "start_time": "2022-11-05T18:05:05.888Z"
   },
   {
    "duration": 14,
    "start_time": "2022-11-05T18:05:05.930Z"
   },
   {
    "duration": 8,
    "start_time": "2022-11-05T18:05:05.946Z"
   },
   {
    "duration": 6,
    "start_time": "2022-11-05T18:05:05.956Z"
   },
   {
    "duration": 12,
    "start_time": "2022-11-05T18:05:05.963Z"
   },
   {
    "duration": 47,
    "start_time": "2022-11-05T18:05:05.977Z"
   },
   {
    "duration": 16,
    "start_time": "2022-11-05T18:05:06.028Z"
   },
   {
    "duration": 7,
    "start_time": "2022-11-05T18:05:06.047Z"
   },
   {
    "duration": 57,
    "start_time": "2022-11-06T16:12:12.306Z"
   },
   {
    "duration": 6,
    "start_time": "2022-11-06T16:12:24.631Z"
   },
   {
    "duration": 695,
    "start_time": "2022-11-06T16:12:34.398Z"
   },
   {
    "duration": 24,
    "start_time": "2022-11-06T16:12:35.095Z"
   },
   {
    "duration": 16,
    "start_time": "2022-11-06T16:12:35.121Z"
   },
   {
    "duration": 10,
    "start_time": "2022-11-06T16:12:35.138Z"
   },
   {
    "duration": 35,
    "start_time": "2022-11-06T16:12:35.149Z"
   },
   {
    "duration": 4,
    "start_time": "2022-11-06T16:12:35.185Z"
   },
   {
    "duration": 13,
    "start_time": "2022-11-06T16:12:35.190Z"
   },
   {
    "duration": 5,
    "start_time": "2022-11-06T16:12:35.204Z"
   },
   {
    "duration": 31,
    "start_time": "2022-11-06T16:12:35.211Z"
   },
   {
    "duration": 4,
    "start_time": "2022-11-06T16:12:35.245Z"
   },
   {
    "duration": 35,
    "start_time": "2022-11-06T16:12:35.251Z"
   },
   {
    "duration": 10,
    "start_time": "2022-11-06T16:12:35.287Z"
   },
   {
    "duration": 4,
    "start_time": "2022-11-06T16:12:35.299Z"
   },
   {
    "duration": 43,
    "start_time": "2022-11-06T16:12:35.304Z"
   },
   {
    "duration": 20,
    "start_time": "2022-11-06T16:12:35.349Z"
   },
   {
    "duration": 16,
    "start_time": "2022-11-06T16:12:35.370Z"
   },
   {
    "duration": 4,
    "start_time": "2022-11-06T16:12:35.389Z"
   },
   {
    "duration": 14,
    "start_time": "2022-11-06T16:12:35.394Z"
   },
   {
    "duration": 30,
    "start_time": "2022-11-06T16:12:35.409Z"
   },
   {
    "duration": 4,
    "start_time": "2022-11-06T16:12:35.441Z"
   },
   {
    "duration": 15,
    "start_time": "2022-11-06T16:12:35.447Z"
   },
   {
    "duration": 11,
    "start_time": "2022-11-06T16:12:35.463Z"
   },
   {
    "duration": 8,
    "start_time": "2022-11-06T16:12:35.476Z"
   },
   {
    "duration": 6,
    "start_time": "2022-11-06T16:12:35.486Z"
   },
   {
    "duration": 10,
    "start_time": "2022-11-06T16:12:35.494Z"
   },
   {
    "duration": 33,
    "start_time": "2022-11-06T16:12:35.506Z"
   },
   {
    "duration": 6,
    "start_time": "2022-11-06T16:12:35.541Z"
   },
   {
    "duration": 9,
    "start_time": "2022-11-06T16:12:35.550Z"
   },
   {
    "duration": 7,
    "start_time": "2022-11-06T16:12:35.561Z"
   },
   {
    "duration": 6,
    "start_time": "2022-11-06T16:12:35.569Z"
   },
   {
    "duration": 9,
    "start_time": "2022-11-06T16:12:35.577Z"
   },
   {
    "duration": 17,
    "start_time": "2022-11-06T16:12:35.587Z"
   },
   {
    "duration": 37,
    "start_time": "2022-11-06T16:12:35.605Z"
   },
   {
    "duration": 5,
    "start_time": "2022-11-06T16:12:35.644Z"
   },
   {
    "duration": 7,
    "start_time": "2022-11-06T16:13:21.168Z"
   },
   {
    "duration": 63,
    "start_time": "2022-11-06T16:14:34.256Z"
   },
   {
    "duration": 7,
    "start_time": "2022-11-06T16:15:10.750Z"
   },
   {
    "duration": 7,
    "start_time": "2022-11-06T16:15:24.497Z"
   },
   {
    "duration": 7,
    "start_time": "2022-11-06T16:15:39.575Z"
   },
   {
    "duration": 456,
    "start_time": "2022-11-06T16:17:23.167Z"
   },
   {
    "duration": 22,
    "start_time": "2022-11-06T16:17:23.625Z"
   },
   {
    "duration": 14,
    "start_time": "2022-11-06T16:17:23.649Z"
   },
   {
    "duration": 9,
    "start_time": "2022-11-06T16:17:23.665Z"
   },
   {
    "duration": 57,
    "start_time": "2022-11-06T16:17:23.675Z"
   },
   {
    "duration": 3,
    "start_time": "2022-11-06T16:17:23.734Z"
   },
   {
    "duration": 10,
    "start_time": "2022-11-06T16:17:23.739Z"
   },
   {
    "duration": 4,
    "start_time": "2022-11-06T16:17:23.750Z"
   },
   {
    "duration": 9,
    "start_time": "2022-11-06T16:17:23.756Z"
   },
   {
    "duration": 5,
    "start_time": "2022-11-06T16:17:23.767Z"
   },
   {
    "duration": 65,
    "start_time": "2022-11-06T16:17:23.774Z"
   },
   {
    "duration": 9,
    "start_time": "2022-11-06T16:17:23.841Z"
   },
   {
    "duration": 3,
    "start_time": "2022-11-06T16:17:23.852Z"
   },
   {
    "duration": 15,
    "start_time": "2022-11-06T16:17:23.856Z"
   },
   {
    "duration": 23,
    "start_time": "2022-11-06T16:17:23.872Z"
   },
   {
    "duration": 18,
    "start_time": "2022-11-06T16:17:23.897Z"
   },
   {
    "duration": 3,
    "start_time": "2022-11-06T16:17:23.938Z"
   },
   {
    "duration": 15,
    "start_time": "2022-11-06T16:17:23.943Z"
   },
   {
    "duration": 7,
    "start_time": "2022-11-06T16:17:23.959Z"
   },
   {
    "duration": 3,
    "start_time": "2022-11-06T16:17:23.968Z"
   },
   {
    "duration": 11,
    "start_time": "2022-11-06T16:17:23.972Z"
   },
   {
    "duration": 7,
    "start_time": "2022-11-06T16:17:23.985Z"
   },
   {
    "duration": 12,
    "start_time": "2022-11-06T16:17:23.993Z"
   },
   {
    "duration": 91,
    "start_time": "2022-11-06T16:17:24.006Z"
   },
   {
    "duration": 0,
    "start_time": "2022-11-06T16:17:24.099Z"
   },
   {
    "duration": 0,
    "start_time": "2022-11-06T16:17:24.100Z"
   },
   {
    "duration": 0,
    "start_time": "2022-11-06T16:17:24.103Z"
   },
   {
    "duration": 0,
    "start_time": "2022-11-06T16:17:24.104Z"
   },
   {
    "duration": 0,
    "start_time": "2022-11-06T16:17:24.106Z"
   },
   {
    "duration": 0,
    "start_time": "2022-11-06T16:17:24.107Z"
   },
   {
    "duration": 0,
    "start_time": "2022-11-06T16:17:24.108Z"
   },
   {
    "duration": 0,
    "start_time": "2022-11-06T16:17:24.110Z"
   },
   {
    "duration": 0,
    "start_time": "2022-11-06T16:17:24.112Z"
   },
   {
    "duration": 0,
    "start_time": "2022-11-06T16:17:24.113Z"
   },
   {
    "duration": 6,
    "start_time": "2022-11-06T16:19:35.157Z"
   },
   {
    "duration": 6,
    "start_time": "2022-11-06T16:19:47.471Z"
   },
   {
    "duration": 7,
    "start_time": "2022-11-06T16:20:12.703Z"
   },
   {
    "duration": 6,
    "start_time": "2022-11-06T16:20:24.554Z"
   },
   {
    "duration": 5,
    "start_time": "2022-11-06T16:20:30.183Z"
   },
   {
    "duration": 80,
    "start_time": "2022-11-06T16:35:10.197Z"
   },
   {
    "duration": 7,
    "start_time": "2022-11-06T16:57:15.315Z"
   },
   {
    "duration": 6,
    "start_time": "2022-11-06T16:57:17.818Z"
   },
   {
    "duration": 6,
    "start_time": "2022-11-06T17:25:25.282Z"
   }
  ],
  "colab": {
   "name": "dpp_template_part2.ipynb",
   "provenance": []
  },
  "kernelspec": {
   "display_name": "Python 3 (ipykernel)",
   "language": "python",
   "name": "python3"
  },
  "language_info": {
   "codemirror_mode": {
    "name": "ipython",
    "version": 3
   },
   "file_extension": ".py",
   "mimetype": "text/x-python",
   "name": "python",
   "nbconvert_exporter": "python",
   "pygments_lexer": "ipython3",
   "version": "3.9.12"
  },
  "toc": {
   "base_numbering": 1,
   "nav_menu": {},
   "number_sections": true,
   "sideBar": true,
   "skip_h1_title": true,
   "title_cell": "Table of Contents",
   "title_sidebar": "Contents",
   "toc_cell": false,
   "toc_position": {},
   "toc_section_display": true,
   "toc_window_display": true
  }
 },
 "nbformat": 4,
 "nbformat_minor": 5
}
